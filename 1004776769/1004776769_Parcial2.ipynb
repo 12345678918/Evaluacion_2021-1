{
  "nbformat": 4,
  "nbformat_minor": 0,
  "metadata": {
    "kernelspec": {
      "display_name": "Python 3 (ipykernel)",
      "language": "python",
      "name": "python3"
    },
    "language_info": {
      "codemirror_mode": {
        "name": "ipython",
        "version": 3
      },
      "file_extension": ".py",
      "mimetype": "text/x-python",
      "name": "python",
      "nbconvert_exporter": "python",
      "pygments_lexer": "ipython3",
      "version": "3.7.3"
    },
    "colab": {
      "name": "1004776769_Parcial2.ipynb",
      "provenance": []
    }
  },
  "cells": [
    {
      "cell_type": "markdown",
      "metadata": {
        "id": "uRICgGKXy9L5"
      },
      "source": [
        "# Parcial 2\n",
        "\n",
        "Nombre: Mariana Toro Escobar\n",
        "\n",
        "CC: 1004776769"
      ]
    },
    {
      "cell_type": "code",
      "metadata": {
        "id": "b7IjLS_ooN2Z"
      },
      "source": [
        "import numpy as np\n",
        "from scipy import integrate\n",
        "import scipy.optimize as optimize\n",
        "import pandas as pd\n",
        "import matplotlib.pylab as plt"
      ],
      "execution_count": 1,
      "outputs": []
    },
    {
      "cell_type": "markdown",
      "metadata": {
        "id": "0OZ-7aXOlwSl"
      },
      "source": [
        "A) Los siguientes datos fueron extraidos de un [perfil real de Instragram](https://www.instagram.com/paulacano24/):\n",
        "\n",
        "https://raw.githubusercontent.com/restrepo/ComputationalMethods/master/data/Followers.json\n",
        "\n",
        "Interprete los datos como un problema de caida libre y a partir del ajuste (fit) a la correspondiente ecuación de movimiento, determine\n",
        "1. La velocidad inicial de incremento de seguidores en `followers/hour`\n",
        "1. La aceleración constante en `followers/hour**2`\n",
        "1. El número máximo de seguidores que alcanzaría el perfil\n",
        "1. La fecha en la que se alcanzaría dicho máximo\n",
        "\n",
        "B) El período de  un pendulo de longitud $l$ oscilando a ángulos grandes  $\\alpha$, está dado por\n",
        "$$\n",
        "T=T_{0} \\frac{\\sqrt{2}}{\\pi} \\int_{0}^{\\alpha} \\frac{d \\theta}{(\\cos \\theta-\\cos \\alpha)^{\\frac{1}{2}}}\n",
        "$$\n",
        "donde\n",
        "$$\n",
        "T_{0}=2 \\pi \\sqrt{\\frac{l}{g}}\n",
        "$$\n",
        "es el período del mismo péndulo a pequeñas amplitudes. Culquier intento de evaluación numérico de esa integral debería fallar. Sin embargo, si hacemos el cambio de variable\n",
        "$$\n",
        "\\sin \\frac{\\theta}{2}=\\sin \\frac{\\alpha}{2} \\sin \\phi\n",
        "$$\n",
        "obtenemos\n",
        "$$\n",
        "T=\\frac{2 T_{0}}{\\pi} \\int_{0}^{\\frac{\\pi}{2}} \\frac{d \\phi}{\\left(1-\\sin ^{2} \\frac{\\alpha}{2} \\sin ^{2} \\phi\\right)^{\\frac{1}{2}}}\n",
        "$$\n",
        "que corresponde a una integral bien comportada. \n",
        "1. Escriba un programa que use la anterio integral para calcular el cociente  $T/T_0$ para ángulos enteros (en grados) $0^\\circ \\le\\alpha \\le 90^\\circ$.  \n",
        "1. Genere un DataFrame de pandas que contenga como columnas: la amplitud en grados, la amplitud en radianes, y el cociente $T/T_0$, \n",
        "1. Haga un gráfico de $T/T_0$ como función de $\\alpha$ (en grados). \n",
        "1. Explain the result when $\\alpha = 0.$ "
      ]
    },
    {
      "cell_type": "markdown",
      "metadata": {
        "id": "ru4TNZ83yH64"
      },
      "source": [
        "# **Solución:**\n",
        "\n",
        "# A)\n",
        "\n",
        "1."
      ]
    },
    {
      "cell_type": "code",
      "metadata": {
        "colab": {
          "base_uri": "https://localhost:8080/",
          "height": 924
        },
        "id": "9WQK9myxzrwY",
        "outputId": "0d05b509-c3df-4c1d-b10a-f25fd53ff64d"
      },
      "source": [
        "\"\"\"\n",
        "  Velocidad inicial de incremento de seguidores (followers/hour).\n",
        "\"\"\"\n",
        "\n",
        "# Lectura del archivo json\n",
        "df = pd.read_json(\"https://raw.githubusercontent.com/restrepo/ComputationalMethods/master/data/Followers.json\")\n",
        "\n",
        "# Extraer los conjuntos de datos para X y Y\n",
        "X_ = df['hours']\n",
        "Y_ = df['followers']\n",
        "\n",
        "# Construir el polinomio\n",
        "# Interpolación de los datos\n",
        "coef = np.polyfit(X_, Y_, 2)\n",
        "# Convertir la interpolación a una función\n",
        "pol1 = np.poly1d(coef)\n",
        "print(\"El polinomio es: \\n\", pol1)\n",
        "# Evaluando el polinomio \n",
        "print(pol1(X_)[0])\n",
        "\n",
        "#Gráfica\n",
        "plt.figure()\n",
        "plt.plot(X_, Y_, color=\"m\", label = \"Y_(X_)\")\n",
        "plt.title(\"Followers Vs. Hour (Con los datos del json)\")\n",
        "plt.ylabel(\"Followers\")\n",
        "plt.xlabel(\"Hour\")\n",
        "plt.grid()\n",
        "plt.legend()\n",
        "plt.show()\n",
        "\n",
        "plt.figure()\n",
        "plt.plot(X_, pol1(X_), color=\"m\", label = \"Pol1\")\n",
        "plt.title(\"Followers Vs. Hour (De la interpolación)\")\n",
        "plt.ylabel(\"Followers\")\n",
        "plt.xlabel(\"Hour\")\n",
        "plt.grid()\n",
        "plt.legend()\n",
        "plt.show()\n",
        "\n",
        "\n",
        "\n",
        "#Gráfica usando scatter \n",
        "plt.figure()\n",
        "plt.scatter(X_, pol1(X_), color=\"m\", label = \"Pol1\")\n",
        "plt.title(\"Followers Vs. Hour (Usando scatter)\")\n",
        "plt.ylabel(\"Followers\")\n",
        "plt.xlabel(\"Hour\")\n",
        "plt.grid()\n",
        "plt.legend()\n",
        "plt.show()\n"
      ],
      "execution_count": 2,
      "outputs": [
        {
          "output_type": "stream",
          "name": "stdout",
          "text": [
            "El polinomio es: \n",
            "            2\n",
            "-0.002438 x + 8.552 x + 4.276e+04\n",
            "42761.086011014246\n"
          ]
        },
        {
          "output_type": "display_data",
          "data": {
            "image/png": "[encoded data removed]",
            "text/plain": [
              "<Figure size 432x288 with 1 Axes>"
            ]
          },
          "metadata": {
            "needs_background": "light"
          }
        },
        {
          "output_type": "display_data",
          "data": {
            "image/png": "[encoded data removed]",
            "text/plain": [
              "<Figure size 432x288 with 1 Axes>"
            ]
          },
          "metadata": {
            "needs_background": "light"
          }
        },
        {
          "output_type": "display_data",
          "data": {
            "image/png": "[encoded data removed]",
            "text/plain": [
              "<Figure size 432x288 with 1 Axes>"
            ]
          },
          "metadata": {
            "needs_background": "light"
          }
        }
      ]
    },
    {
      "cell_type": "code",
      "metadata": {
        "colab": {
          "base_uri": "https://localhost:8080/"
        },
        "id": "vnrkE_ML7lCo",
        "outputId": "de29b407-2364-44e0-9fa7-501c1eef41cb"
      },
      "source": [
        "from scipy import misc\n",
        "# Código para definir derivate\n",
        "def derivate(func,x0,**kwargs):\n",
        "    '''\n",
        "    Vectorized replacement of scipy.misc derivative:\n",
        "        from scipy.misc import derivative\n",
        "    For usage check the derivative help, e.g, in jupyter: \n",
        "        from scipy.misc import derivative\n",
        "        derivative?\n",
        "    '''\n",
        "    try:\n",
        "        #x0: can be an array or a list  \n",
        "        nn=np.asarray(x0).shape[0] # force error if float is used \n",
        "        fp=np.vectorize(misc.derivative)\n",
        "    except IndexError:\n",
        "        fp=misc.derivative\n",
        "        \n",
        "    return fp(func,x0,**kwargs)\n",
        "\n",
        "# Velocidad inicial\n",
        "# Derivando el polinomio\n",
        "v0 = derivate(pol1, X_[0])\n",
        "print(\"La velocidad inicial es:\", v0, \"followers/hour\")\n",
        "print(\"Y con base en el polinomio de la interpolación, el coeficiente de x es: 8.552\")"
      ],
      "execution_count": 3,
      "outputs": [
        {
          "output_type": "stream",
          "name": "stdout",
          "text": [
            "La velocidad inicial es: 8.552137792663416 followers/hour\n",
            "Y con base en el polinomio de la interpolación, el coeficiente de x es: 8.552\n"
          ]
        }
      ]
    },
    {
      "cell_type": "markdown",
      "metadata": {
        "id": "43z6odfQ9eQP"
      },
      "source": [
        "**2.**"
      ]
    },
    {
      "cell_type": "code",
      "metadata": {
        "colab": {
          "base_uri": "https://localhost:8080/"
        },
        "id": "KK7Rt2hW8owP",
        "outputId": "aad259cf-bccb-481d-eb9d-62eba5de3e5e"
      },
      "source": [
        "\"\"\"\n",
        "  La aceleración constante (followers/hour**2).\n",
        "\"\"\"\n",
        "\n",
        "# Aceleración constante\n",
        "# Hallando la segunda derivada del polinomio\n",
        "a = derivate(pol1, X_[0], n=2, order=3)\n",
        "print(\"La aceleración es:\", a/2, \"followers/hour**2\")\n",
        "print(\"Y con base en el polinomio de la interpolación, el coeficiente de x^2 es: -0.002438\")"
      ],
      "execution_count": 4,
      "outputs": [
        {
          "output_type": "stream",
          "name": "stdout",
          "text": [
            "La aceleración es: -0.0024376271903747693 followers/hour**2\n",
            "Y con base en el polinomio de la interpolación, el coeficiente de x^2 es: -0.002438\n"
          ]
        }
      ]
    },
    {
      "cell_type": "markdown",
      "metadata": {
        "id": "NuQKTbk1APwj"
      },
      "source": [
        "**3.**"
      ]
    },
    {
      "cell_type": "code",
      "metadata": {
        "colab": {
          "base_uri": "https://localhost:8080/"
        },
        "id": "2cHtf9MAA_Nh",
        "outputId": "6b697412-e96b-48e5-f8b0-fb5e81e358b8"
      },
      "source": [
        "\"\"\"\n",
        "  El número máximo de seguidores que alcanzaría el perfil.\n",
        "\"\"\"\n",
        "\n",
        "# Hallar el máximo \n",
        "fp = optimize.fmin_powell(-pol1, 0.1, ftol=1E-7)\n",
        "max = int(abs(pol1(fp)))\n",
        "print(\"El número máximo de seguidores que alcanzará es:\", max)"
      ],
      "execution_count": 5,
      "outputs": [
        {
          "output_type": "stream",
          "name": "stdout",
          "text": [
            "Optimization terminated successfully.\n",
            "         Current function value: -50262.136729\n",
            "         Iterations: 2\n",
            "         Function evaluations: 27\n",
            "El número máximo de seguidores que alcanzará es: 50262\n"
          ]
        }
      ]
    },
    {
      "cell_type": "markdown",
      "metadata": {
        "id": "gok6Q5ulC0Ma"
      },
      "source": [
        "**4.**"
      ]
    },
    {
      "cell_type": "code",
      "metadata": {
        "colab": {
          "base_uri": "https://localhost:8080/"
        },
        "id": "cr27lCA4DzHa",
        "outputId": "fe68a4ca-2f66-48a1-ce9e-a4ceadb8c1ee"
      },
      "source": [
        "\"\"\"\n",
        "  Fecha en la que se alcanzaría dicho máximo.\n",
        "\"\"\"\n",
        "\n",
        "# Hallar el día y la hora\n",
        "import datetime as dt\n",
        "h_ = float(fp)\n",
        "fecham = df[\"date_time\"][0] + dt.timedelta(hours = h_)\n",
        "print(\"La fecha en que alcanzará el máximo es:\", fecham)"
      ],
      "execution_count": 6,
      "outputs": [
        {
          "output_type": "stream",
          "name": "stdout",
          "text": [
            "La fecha en que alcanzará el máximo es: 2021-10-17 00:18:28.966848\n"
          ]
        }
      ]
    },
    {
      "cell_type": "markdown",
      "metadata": {
        "id": "F2SIaBZ-nMlQ"
      },
      "source": [
        "# B)\n",
        "\n",
        "**1.** Para hallar la relación $T/T_{0}$ se considera la siguiente expresión:\n",
        "\n",
        "$$\n",
        "\\frac{T}{T_{0}}=\\frac{2}{\\pi} \\int_{0}^{\\frac{\\pi}{2}} \\frac{d \\phi}{\\left(1-\\sin ^{2} \\frac{\\alpha}{2} \\sin ^{2} \\phi\\right)^{\\frac{1}{2}}} \\ \\ \\ \\ \\ (*)\n",
        "$$ "
      ]
    },
    {
      "cell_type": "code",
      "metadata": {
        "colab": {
          "base_uri": "https://localhost:8080/"
        },
        "id": "ZjB-w4LgnRj4",
        "outputId": "ec90a351-1a70-475f-f634-420e35d768df"
      },
      "source": [
        "\"\"\"\n",
        "  Cálculo de la integral.\n",
        "\"\"\"\n",
        "\n",
        "# Límites de integración\n",
        "a = 0\n",
        "b = np.pi/2\n",
        "# Definición del intervalo\n",
        "x_ = np.linspace(0, np.pi/2, 100)\n",
        "# Definición de la función calculando la integral por el método de la cuadratura\n",
        "f0 = lambda α: integrate.quad(lambda ϕ: 1/np.sqrt(1-np.sin(α/2)**2*np.sin(ϕ)**2), 0, np.pi/2)[0]\n",
        "print(f0)\n",
        "\n",
        "# Definición de la función dependiente de t usando try and except\n",
        "def Si(t):\n",
        "    try:\n",
        "      # Vectorización de la función para obtener un arreglo\n",
        "        n_=np.array(t).shape[0]\n",
        "        f=np.vectorize(f0)\n",
        "    except IndexError:\n",
        "      # Aprovechar el IndexError para evaluar la función como se definió inicialmente\n",
        "        f=f0\n",
        "      # Retornar el valor de la integral multiplicado por el factor de la expresión escrita inicialmente, para obtener la relación T/T_0\n",
        "    return f(t)*2/np.pi\n",
        "print(\"Para la relación T/T_0 se obtienen los siguientes valores:\", Si(x_))"
      ],
      "execution_count": 7,
      "outputs": [
        {
          "output_type": "stream",
          "name": "stdout",
          "text": [
            "<function <lambda> at 0x7fc48905d950>\n",
            "Para la relación T/T_0 se obtienen los siguientes valores: [1.         1.00001573 1.00006294 1.00014163 1.00025181 1.0003935\n",
            " 1.00056673 1.00077153 1.00100793 1.00127597 1.00157571 1.00190719\n",
            " 1.00227047 1.00266561 1.00309268 1.00355177 1.00404293 1.00456628\n",
            " 1.00512189 1.00570986 1.0063303  1.00698332 1.00766903 1.00838755\n",
            " 1.00913901 1.00992355 1.01074131 1.01159243 1.01247707 1.01339538\n",
            " 1.01434753 1.0153337  1.01635406 1.0174088  1.01849811 1.0196222\n",
            " 1.02078127 1.02197553 1.02320522 1.02447055 1.02577177 1.02710911\n",
            " 1.02848285 1.02989323 1.03134052 1.03282501 1.03434697 1.03590671\n",
            " 1.03750453 1.03914074 1.04081567 1.04252964 1.04428299 1.04607609\n",
            " 1.04790929 1.04978296 1.05169749 1.05365326 1.05565069 1.05769018\n",
            " 1.05977217 1.0618971  1.06406541 1.06627758 1.06853407 1.07083538\n",
            " 1.07318201 1.07557448 1.07801332 1.08049907 1.08303231 1.0856136\n",
            " 1.08824354 1.09092274 1.09365182 1.09643144 1.09926224 1.10214491\n",
            " 1.10508015 1.10806868 1.11111124 1.11420858 1.11736149 1.12057078\n",
            " 1.12383726 1.12716179 1.13054525 1.13398853 1.13749256 1.14105829\n",
            " 1.14468672 1.14837883 1.15213569 1.15595835 1.15984793 1.16380556\n",
            " 1.16783241 1.1719297  1.17609867 1.1803406 ]\n"
          ]
        }
      ]
    },
    {
      "cell_type": "markdown",
      "metadata": {
        "id": "HuNj97T8tN6o"
      },
      "source": [
        "**2.**"
      ]
    },
    {
      "cell_type": "code",
      "metadata": {
        "colab": {
          "base_uri": "https://localhost:8080/",
          "height": 422
        },
        "id": "EQftQ65YsJLQ",
        "outputId": "76f0ef9d-42bf-4ef0-f606-95db3f889f7d"
      },
      "source": [
        "\"\"\"\n",
        "  DataFrame con amplitud en grados, radiantes y con el cociente T/T_0.\n",
        "\"\"\"\n",
        "\n",
        "# Definición del DataFrame\n",
        "# Convertir α en grados\n",
        "x_1 = x_*180/np.pi\n",
        "\n",
        "df = pd.DataFrame({\"α en rad\":x_, \"α en °\":x_1, \"Relación T/T0\":Si(x_)})\n",
        "df"
      ],
      "execution_count": 8,
      "outputs": [
        {
          "output_type": "execute_result",
          "data": {
            "text/html": [
              "<div>\n",
              "<style scoped>\n",
              "    .dataframe tbody tr th:only-of-type {\n",
              "        vertical-align: middle;\n",
              "    }\n",
              "\n",
              "    .dataframe tbody tr th {\n",
              "        vertical-align: top;\n",
              "    }\n",
              "\n",
              "    .dataframe thead th {\n",
              "        text-align: right;\n",
              "    }\n",
              "</style>\n",
              "<table border=\"1\" class=\"dataframe\">\n",
              "  <thead>\n",
              "    <tr style=\"text-align: right;\">\n",
              "      <th></th>\n",
              "      <th>α en rad</th>\n",
              "      <th>α en °</th>\n",
              "      <th>Relación T/T0</th>\n",
              "    </tr>\n",
              "  </thead>\n",
              "  <tbody>\n",
              "    <tr>\n",
              "      <th>0</th>\n",
              "      <td>0.000000</td>\n",
              "      <td>0.000000</td>\n",
              "      <td>1.000000</td>\n",
              "    </tr>\n",
              "    <tr>\n",
              "      <th>1</th>\n",
              "      <td>0.015867</td>\n",
              "      <td>0.909091</td>\n",
              "      <td>1.000016</td>\n",
              "    </tr>\n",
              "    <tr>\n",
              "      <th>2</th>\n",
              "      <td>0.031733</td>\n",
              "      <td>1.818182</td>\n",
              "      <td>1.000063</td>\n",
              "    </tr>\n",
              "    <tr>\n",
              "      <th>3</th>\n",
              "      <td>0.047600</td>\n",
              "      <td>2.727273</td>\n",
              "      <td>1.000142</td>\n",
              "    </tr>\n",
              "    <tr>\n",
              "      <th>4</th>\n",
              "      <td>0.063467</td>\n",
              "      <td>3.636364</td>\n",
              "      <td>1.000252</td>\n",
              "    </tr>\n",
              "    <tr>\n",
              "      <th>...</th>\n",
              "      <td>...</td>\n",
              "      <td>...</td>\n",
              "      <td>...</td>\n",
              "    </tr>\n",
              "    <tr>\n",
              "      <th>95</th>\n",
              "      <td>1.507330</td>\n",
              "      <td>86.363636</td>\n",
              "      <td>1.163806</td>\n",
              "    </tr>\n",
              "    <tr>\n",
              "      <th>96</th>\n",
              "      <td>1.523196</td>\n",
              "      <td>87.272727</td>\n",
              "      <td>1.167832</td>\n",
              "    </tr>\n",
              "    <tr>\n",
              "      <th>97</th>\n",
              "      <td>1.539063</td>\n",
              "      <td>88.181818</td>\n",
              "      <td>1.171930</td>\n",
              "    </tr>\n",
              "    <tr>\n",
              "      <th>98</th>\n",
              "      <td>1.554930</td>\n",
              "      <td>89.090909</td>\n",
              "      <td>1.176099</td>\n",
              "    </tr>\n",
              "    <tr>\n",
              "      <th>99</th>\n",
              "      <td>1.570796</td>\n",
              "      <td>90.000000</td>\n",
              "      <td>1.180341</td>\n",
              "    </tr>\n",
              "  </tbody>\n",
              "</table>\n",
              "<p>100 rows × 3 columns</p>\n",
              "</div>"
            ],
            "text/plain": [
              "    α en rad     α en °  Relación T/T0\n",
              "0   0.000000   0.000000       1.000000\n",
              "1   0.015867   0.909091       1.000016\n",
              "2   0.031733   1.818182       1.000063\n",
              "3   0.047600   2.727273       1.000142\n",
              "4   0.063467   3.636364       1.000252\n",
              "..       ...        ...            ...\n",
              "95  1.507330  86.363636       1.163806\n",
              "96  1.523196  87.272727       1.167832\n",
              "97  1.539063  88.181818       1.171930\n",
              "98  1.554930  89.090909       1.176099\n",
              "99  1.570796  90.000000       1.180341\n",
              "\n",
              "[100 rows x 3 columns]"
            ]
          },
          "metadata": {},
          "execution_count": 8
        }
      ]
    },
    {
      "cell_type": "markdown",
      "metadata": {
        "id": "Nnt06JumtUER"
      },
      "source": [
        "**3.**"
      ]
    },
    {
      "cell_type": "code",
      "metadata": {
        "colab": {
          "base_uri": "https://localhost:8080/",
          "height": 295
        },
        "id": "HHkJ0xpMtbUt",
        "outputId": "28db22a0-4d80-4323-8cc5-24d48dabb6e0"
      },
      "source": [
        "\"\"\"\n",
        "  Gráfica de la relación T/T_0.\n",
        "\"\"\"\n",
        "\n",
        "plt.figure()\n",
        "plt.plot(df[\"α en rad\"], df[\"Relación T/T0\"], color=\"m\", label = \"T/T_0(α)\" )\n",
        "plt.title(\"T/T_0 Vs. amplitud α\")\n",
        "plt.ylabel(\"Relación T/T_0\")\n",
        "plt.xlabel(\"α [°]\")\n",
        "plt.grid()\n",
        "plt.legend()\n",
        "plt.show()"
      ],
      "execution_count": 9,
      "outputs": [
        {
          "output_type": "display_data",
          "data": {
            "image/png": "[encoded data removed]",
            "text/plain": [
              "<Figure size 432x288 with 1 Axes>"
            ]
          },
          "metadata": {
            "needs_background": "light"
          }
        }
      ]
    },
    {
      "cell_type": "markdown",
      "metadata": {
        "id": "3B8FreEzvQT3"
      },
      "source": [
        "**4.** Cuando $\\alpha = 0$,  la expresión definida en el punto 1 $(*) \\to 1$.\n",
        "\n",
        "Eso implica que la amplitud del péndulo va disminuyendo, de manera que el periodo para $\\alpha$ grandes $T$, se aproxima a $T_{0}$.\n",
        "\n",
        "Así, como $T \\to T_{0}$ entonces, $\\frac{T}{T_{0}} = 1$.\n",
        "\n"
      ]
    }
  ]
}