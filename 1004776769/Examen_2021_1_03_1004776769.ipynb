{
  "nbformat": 4,
  "nbformat_minor": 0,
  "metadata": {
    "kernelspec": {
      "display_name": "Python 3 (ipykernel)",
      "language": "python",
      "name": "python3"
    },
    "language_info": {
      "codemirror_mode": {
        "name": "ipython",
        "version": 3
      },
      "file_extension": ".py",
      "mimetype": "text/x-python",
      "name": "python",
      "nbconvert_exporter": "python",
      "pygments_lexer": "ipython3",
      "version": "3.7.3"
    },
    "colab": {
      "name": "Examen_2021_1_03_1004776769.ipynb",
      "provenance": [],
      "collapsed_sections": []
    }
  },
  "cells": [
    {
      "cell_type": "markdown",
      "metadata": {
        "id": "i1OxEInZBqx2"
      },
      "source": [
        "\n",
        "# Por: Mariana Toro\n",
        "# CC. 1004776769\n"
      ]
    },
    {
      "cell_type": "code",
      "metadata": {
        "id": "6zX-c_fFEUhu"
      },
      "source": [
        "# Librerías\n",
        "import numpy as np\n",
        "import sympy"
      ],
      "execution_count": 30,
      "outputs": []
    },
    {
      "cell_type": "markdown",
      "metadata": {
        "id": "40WhQJy2EWqx"
      },
      "source": [
        "# Casas-Ibarra\n",
        "Let $\\boldsymbol{A}$ $3\\times3$ a symmetric non-diagonal matrix with the following set of eigenvalues and eigenvectors:\n"
      ]
    },
    {
      "cell_type": "markdown",
      "metadata": {
        "id": "cwKjVMtNvgl0"
      },
      "source": [
        "____"
      ]
    },
    {
      "cell_type": "markdown",
      "metadata": {
        "id": "G-uQDCOkvgl0"
      },
      "source": [
        "### Eigenvalues\n",
        "The normal ordering of the absolute value of the eigenvalues is $m_1<m_2<m_3$. Each eigenvalue is expressed in units of eV, which just of an energy unit.\n",
        "### Eigenvectors\n",
        "The eigenvectors in the normal ordering are defined by\n",
        "$$\n",
        "\\boldsymbol{U}^T \\boldsymbol{A} \\boldsymbol{U}=\n",
        "\\begin{pmatrix}\n",
        "m_1& 0 & 0\\\\\n",
        "0 & m_2& 0\\\\\n",
        "0 & 0 & m_3\\\\\n",
        "\\end{pmatrix}.\n",
        "$$\n",
        "The unitary matrix can be parameterized in terms of three mixing angles, $\\theta_{23}$ $\\theta_{13}$, $\\theta_{12}$, such that\n",
        "$$\n",
        "\\boldsymbol{U}=\\left(\\begin{array}{ccc}\n",
        "1 & 0 & 0 \\\\\n",
        "0 & c_{23} & s_{23} \\\\\n",
        "0 & -s_{23} & c_{23}\n",
        "\\end{array}\\right) \\cdot\\left(\\begin{array}{ccc}\n",
        "c_{13} & 0 & s_{13}  \\\\\n",
        "0 & 1 & 0 \\\\\n",
        "-s_{13}  & 0 & c_{13}\n",
        "\\end{array}\\right) \\cdot\\left(\\begin{array}{ccc}\n",
        "c_{12} & s_{12} & 0 \\\\\n",
        "-s_{12} & c_{12} & 0 \\\\\n",
        "0 & 0 & 1\n",
        "\\end{array}\\right),\n",
        "$$\n",
        "where $c_{i j} \\equiv \\cos \\theta_{i j}$ and $s_{i j} \\equiv \\sin \\theta_{i j}$. Thus, we can write $\\boldsymbol{U}$ as\n",
        "$$\n",
        "\\boldsymbol{U}=\\left(\\begin{array}{ccc}c_{12} c_{13} & s_{12} c_{13} & s_{13}  \\\\ -s_{12} c_{23}-c_{12} s_{13} s_{23}& c_{12} c_{23}-s_{12} s_{13} s_{23}  & c_{13} s_{23} \\\\ s_{12} s_{23}-c_{12} s_{13} c_{23} & -c_{12} s_{23}-s_{12} s_{13} c_{23}  & c_{13} c_{23}\\end{array}\\right)\n",
        "$$\n",
        "so that\n",
        "$$\n",
        "\\boldsymbol{U}_1=\\begin{pmatrix}U_{e1}\\\\ U_{\\mu 1}\\\\ U_{\\tau 1}\\end{pmatrix}=\\begin{pmatrix}\n",
        "c_{12} c_{13} \\\\\n",
        "-s_{12} c_{23}-c_{12} s_{13} s_{23}  \\\\\n",
        "s_{12} s_{23}-c_{12} s_{13} c_{23} \n",
        "\\end{pmatrix},\\qquad \n",
        "\\boldsymbol{U}_2=\\begin{pmatrix}U_{e2}\\\\ U_{\\mu 2}\\\\ U_{\\tau 2}\\end{pmatrix}=\\begin{pmatrix}\n",
        "s_{12} c_{13} \\\\\n",
        "c_{12} c_{23}-s_{12} s_{13} s_{23}  \\\\\n",
        "-c_{12} s_{23}-s_{12} s_{13} c_{23} \n",
        "\\end{pmatrix},\\qquad\n",
        "\\boldsymbol{U}_3=\\begin{pmatrix}U_{e3}\\\\ U_{\\mu 3}\\\\ U_{\\tau 3}\\end{pmatrix}=\\begin{pmatrix}\n",
        "s_{13}  \\\\\n",
        "c_{13} s_{23} \\\\\n",
        "c_{13} c_{23}\n",
        "\\end{pmatrix}\n",
        "$$\n",
        "\n",
        "### Data\n",
        "Use the _central values_  of the following table but ignoring $\\delta_{CP}$ (In the previous equations was fixed to $\\delta_{CP}=0$). __Hint__: take care of the denominator in the first colum.\n",
        "\n",
        "![IMAGE](https://github.com/restrepo/ComputationalMethods/raw/master/material/figures/nu.png)\n",
        "\n",
        "where $\\Delta m^2_{ij}=m^2_i-m^2_j$ is the squared mass difference between eigenvalues $i$ and $j$; in units of $\\text{eV}^2$.\n"
      ]
    },
    {
      "cell_type": "markdown",
      "metadata": {
        "id": "bnSCrqmSvgl1"
      },
      "source": [
        "### Casas-Ibarra parameterization\n",
        "We can assumme without lost of generality that $\\boldsymbol{A}$ can be generated from a matrix $\\boldsymbol{Y}$ such that\n",
        "$$\n",
        "\\boldsymbol{A}=\\boldsymbol{Y}^{\\operatorname{T}}\\boldsymbol{Y}\n",
        "$$\n",
        "\n",
        "The matrix $\\boldsymbol{Y}$ can be parameterized in terms of an arbitray orthogonal $3\\times 3$ matrix, $\\boldsymbol{R}$, as\n",
        "$$\n",
        "\\boldsymbol{Y}=\\boldsymbol{R} \\boldsymbol{D}_{\\sqrt{m}} \\boldsymbol{U}^{\\operatorname{T}}\n",
        "$$\n",
        "\n",
        "\n",
        "* $R$ is an orthogonal $3\\times 3$ matrix, with three rotation angles $\\alpha_{ij}$ between $(0,2\\pi)$\n",
        "$$\n",
        "\\boldsymbol{R}=\\left(\\begin{array}{ccc}c^\\alpha_{12} c^\\alpha_{13} & s^\\alpha_{12} c^\\alpha_{13} & s^\\alpha_{13}  \\\\ -s^\\alpha_{12} c^\\alpha_{23}-c^\\alpha_{12} s^\\alpha_{13} s^\\alpha_{23}& c^\\alpha_{12} c^\\alpha_{23}-s^\\alpha_{12} s^\\alpha_{13} s^\\alpha_{23}  & c^\\alpha_{13} s^\\alpha_{23} \\\\ s^\\alpha_{12} s^\\alpha_{23}-c^\\alpha_{12} s^\\alpha_{13} c^\\alpha_{23} & -c^\\alpha_{12} s^\\alpha_{23}-s^\\alpha_{12} s^\\alpha_{13} c^\\alpha_{23}  & c^\\alpha_{13} c^\\alpha_{23}\\end{array}\\right)\n",
        "$$\n",
        "where $c^\\alpha_{i j} \\equiv \\cos \\alpha_{i j}$ and $s^\\alpha_{i j} \\equiv \\sin \\alpha_{i j}$.\n",
        "\n",
        "* $$\n",
        " \\boldsymbol{D}_{\\sqrt{m}}=\\operatorname{diag}\\left(\\sqrt{m_1},\\sqrt{m_2},\\sqrt{m_3}\\right)\n",
        "$$"
      ]
    },
    {
      "cell_type": "markdown",
      "metadata": {
        "id": "Iqj7EWSPvgl3"
      },
      "source": [
        "### Problem\n",
        "1. Choose a random value for $m_1$ between $10^{-9}\\ \\text{eV}$ and $10^{-4}\\ \\text{eV}$. Note that because of the wide range, the random variation  must be in the exponents. Obtain the corresponding $m_2$ and $m_3$ with the proper normal ordering.\n",
        "1. Choose random values for $\\alpha_{ij}$  between $(0,2\\pi)$\n",
        "1. Obtain $\\boldsymbol{Y}$\n",
        "1. Check that the generated $\\boldsymbol{A}$ has the proper eigenvalues and eigenvectors\n",
        "1. Check that the eigenvalues of $\\boldsymbol{Y}$ correspond to the square root of the eigenvalues of $\\boldsymbol{A}$ and explain why."
      ]
    },
    {
      "cell_type": "markdown",
      "metadata": {
        "id": "d-z-v_vlCQl7"
      },
      "source": [
        "# Solución"
      ]
    },
    {
      "cell_type": "markdown",
      "metadata": {
        "id": "ytPGYcqGCUGM"
      },
      "source": [
        "# 1."
      ]
    },
    {
      "cell_type": "code",
      "metadata": {
        "id": "2J0n-8Rfvqks",
        "colab": {
          "base_uri": "https://localhost:8080/"
        },
        "outputId": "d6a055f6-d494-4056-e164-052f6751fbdc"
      },
      "source": [
        "\"\"\"\n",
        "  Valor random para m1 y correspondientes valores de m2 y m3\n",
        "\"\"\"\n",
        "\n",
        "# valor de m1\n",
        "# generar el número random con la variación en los exponentes\n",
        "rm1 = np.random.uniform(-9, -4)\n",
        "m1 = 10**(rm1)\n",
        "print (\"m_1 es\", m1)\n",
        "\n",
        "# valor de m2 usando la tabla Data\n",
        "em21 =  7.39*(10**-5)\n",
        "m2 = np.sqrt(em21 + m1**2)\n",
        "print (\"m_2 es\", m2)\n",
        "\n",
        "# valor de m3 usando la tabla Data\n",
        "em32 =  2.449*(10**-3)\n",
        "m3 = np.sqrt(em32 + m2**2)\n",
        "print (\"m_3 es\", m3)"
      ],
      "execution_count": 57,
      "outputs": [
        {
          "output_type": "stream",
          "name": "stdout",
          "text": [
            "m_1 es 7.258649786787366e-07\n",
            "m_2 es 0.008596510950779972\n",
            "m_3 es 0.0502284779833799\n"
          ]
        }
      ]
    },
    {
      "cell_type": "markdown",
      "metadata": {
        "id": "7glNb2zbJa1E"
      },
      "source": [
        "# 2."
      ]
    },
    {
      "cell_type": "code",
      "metadata": {
        "colab": {
          "base_uri": "https://localhost:8080/"
        },
        "id": "4W1HjmRMJfAc",
        "outputId": "79f13de3-f4cc-41eb-cce3-76477f855d5e"
      },
      "source": [
        "\"\"\"\n",
        "  Valores para alpha_ij\n",
        "\"\"\"\n",
        "\n",
        "# Valores random para alpha\n",
        "alpha = np.random.uniform(0, 1*np.pi, 3)\n",
        "print(\"Los ángulos son:\", alpha, \"en °\")"
      ],
      "execution_count": 58,
      "outputs": [
        {
          "output_type": "stream",
          "name": "stdout",
          "text": [
            "Los ángulos son: [2.6756459  1.59158506 1.29691728] en °\n"
          ]
        }
      ]
    },
    {
      "cell_type": "markdown",
      "metadata": {
        "id": "ChOaYEsbMSmt"
      },
      "source": [
        "# 3."
      ]
    },
    {
      "cell_type": "code",
      "metadata": {
        "colab": {
          "base_uri": "https://localhost:8080/"
        },
        "id": "gWA-Yk0EMSF-",
        "outputId": "0b9cbe50-2f54-4e5c-a542-9a085f7f509a"
      },
      "source": [
        "\"\"\"\n",
        "  Valores de Y\n",
        "\"\"\"\n",
        "# entradas\n",
        "c12 = np.cos(alpha[0])\n",
        "c13 = np.cos(alpha[1])\n",
        "c23 = np.cos(alpha[2])\n",
        "\n",
        "s12 = np.sin(alpha[0])\n",
        "s13 = np.sin(alpha[1])\n",
        "s23 = np.sin(alpha[2])\n",
        "\n",
        "# definición de las matrices necesarias\n",
        "R = np.matrix([[c12*c13, s12*c13, s13],\n",
        "               [-s12*c23-c12*s13*s23, c12*c23-s12*s13*s23, c13*s23],\n",
        "               [s12*s23-c12*s13*c23, -c12*s23-s12*s13*c23, c13*c23]])\n",
        "\n",
        "D = np.diag([np.sqrt(m1), np.sqrt(m2), np.sqrt(m3)])\n",
        "\n",
        "# definición del theta según la tabla Data (theta_12, theta_23, theta_13)\n",
        "theta = np.array([33.82, 48.3, 8.61])\n",
        "t = theta*np.pi/180\n",
        "\n",
        "# entradas\n",
        "c12 = np.cos(t[0])\n",
        "c13 = np.cos(t[1])\n",
        "c23 = np.cos(t[2])\n",
        "\n",
        "s12 = np.sin(t[0])\n",
        "s13 = np.sin(t[1])\n",
        "s23 = np.sin(t[2])\n",
        "\n",
        "# definición de la matriz U\n",
        "U = np.matrix([[c12*c13, s12*c13, s13],\n",
        "               [-s12*c23-c12*s13*s23, c12*c23-s12*s13*s23, c13*s23],\n",
        "               [s12*s23-c12*s13*c23, -c12*s23-s12*s13*c23, c13*c23]])\n",
        "# transpuesta de la matriz U\n",
        "UT = np.transpose(U)\n",
        "\n",
        "# definición de Y\n",
        "Y = R*D*UT\n",
        "print(\"La matriz Y es: \\n\")\n",
        "sympy.pprint(sympy.Matrix(Y))"
      ],
      "execution_count": 59,
      "outputs": [
        {
          "output_type": "stream",
          "name": "stdout",
          "text": [
            "La matriz Y es: \n",
            "\n",
            "⎡ 0.166986373611483   0.0216474810880001    0.147832545140338 ⎤\n",
            "⎢                                                             ⎥\n",
            "⎢-0.0261413118982446  -0.0483003343708434  0.0301690711152854 ⎥\n",
            "⎢                                                             ⎥\n",
            "⎣0.0247326640124514   0.0514977293904554   -0.0377889778310864⎦\n"
          ]
        }
      ]
    },
    {
      "cell_type": "markdown",
      "metadata": {
        "id": "zLDdLO89UdW3"
      },
      "source": [
        "# 4."
      ]
    },
    {
      "cell_type": "code",
      "metadata": {
        "colab": {
          "base_uri": "https://localhost:8080/"
        },
        "id": "_oRdG7t2Uc8w",
        "outputId": "84576ec3-2078-43aa-d969-1661672fb789"
      },
      "source": [
        "\"\"\"\n",
        "  Verificación de la matriz A\n",
        "\"\"\"\n",
        "\n",
        "# transpuesta de la matriz Y\n",
        "YT = np.transpose(Y)\n",
        "\n",
        "# definición de la matriz A\n",
        "A = YT*Y\n",
        "print(\"La matriz A es: \\n\")\n",
        "sympy.pprint(sympy.Matrix(A))\n",
        "\n",
        "# autovalores y autovectores\n",
        "values, vectors = np.linalg.eig(A)\n",
        "# convirtiéndolos en matrices\n",
        "val = np.diag(values)\n",
        "vect = np.asmatrix(vectors)\n",
        "\n",
        "print(\"Los autovalores son: \\n\")\n",
        "sympy.pprint(sympy.Matrix(val))\n",
        "print (\"Que corresponden en efecto a m_1, m_2 y m_3: \\n\", (m1, m2, m3))\n",
        "\n",
        "print(\"Los autovectores son: \\n\")\n",
        "sympy.pprint(sympy.Matrix(vect))\n",
        "print(\"Que corresponden en efecto a la matriz U: \\n\")\n",
        "sympy.pprint(sympy.Matrix(U))"
      ],
      "execution_count": 60,
      "outputs": [
        {
          "output_type": "stream",
          "name": "stdout",
          "text": [
            "La matriz A es: \n",
            "\n",
            "⎡0.0291795218288278    0.00615114450870428    0.0229627394249657  ⎤\n",
            "⎢                                                                 ⎥\n",
            "⎢0.00615114450870428   0.00545355187016317   -0.000203020551696858⎥\n",
            "⎢                                                                 ⎥\n",
            "⎣0.0229627394249657   -0.000203020551696858   0.0241926411001476  ⎦\n",
            "Los autovalores son: \n",
            "\n",
            "⎡0.0502284779833799          0.0                  0.0        ⎤\n",
            "⎢                                                            ⎥\n",
            "⎢       0.0          7.25864978679102e-7          0.0        ⎥\n",
            "⎢                                                            ⎥\n",
            "⎣       0.0                  0.0          0.00859651095077997⎦\n",
            "Que corresponden en efecto a m_1, m_2 y m_3: \n",
            " (7.258649786787366e-07, 0.008596510950779972, 0.0502284779833799)\n",
            "Los autovectores son: \n",
            "\n",
            "⎡-0.746638182285391   -0.55266688257245  -0.370257669280755⎤\n",
            "⎢                                                          ⎥\n",
            "⎢-0.0995902472005913  0.643176852657656  -0.759213618731854⎥\n",
            "⎢                                                          ⎥\n",
            "⎣-0.657733386271438   0.529983823444681  0.535260627611322 ⎦\n",
            "Que corresponden en efecto a la matriz U: \n",
            "\n",
            "⎡0.552666882572449   0.370257669280755   0.746638182285391 ⎤\n",
            "⎢                                                          ⎥\n",
            "⎢-0.643176852657656  0.759213618731854   0.0995902472005912⎥\n",
            "⎢                                                          ⎥\n",
            "⎣-0.52998382344468   -0.535260627611322  0.657733386271437 ⎦\n"
          ]
        }
      ]
    },
    {
      "cell_type": "markdown",
      "metadata": {
        "id": "lfeIULUIW7PC"
      },
      "source": [
        "# 5."
      ]
    },
    {
      "cell_type": "code",
      "metadata": {
        "id": "yr45RjW7W9RY",
        "colab": {
          "base_uri": "https://localhost:8080/"
        },
        "outputId": "60aaf74d-c6cc-4703-8ae0-3ce859b4fd2e"
      },
      "source": [
        "\"\"\"\n",
        "  Verificación de la matriz Y\n",
        "\"\"\"\n",
        "# diferencia\n",
        "np.array(sorted([np.linalg.eigvals(A)]))**0.5 - np.array(sorted(np.linalg.eigvals(Y)))"
      ],
      "execution_count": 63,
      "outputs": [
        {
          "output_type": "execute_result",
          "data": {
            "text/plain": [
              "array([[ 0.3202205 ,  0.00188669, -0.0853178 ]])"
            ]
          },
          "metadata": {},
          "execution_count": 63
        }
      ]
    },
    {
      "cell_type": "markdown",
      "metadata": {
        "id": "kwAZy4IpofCt"
      },
      "source": [
        "Considerando la definición de la matriz A como \n",
        "$$ A=Y^TY\n",
        "$$\n",
        "Se tiene que \n",
        "$$ diag(m_i) = UAU^T = UY^TYU^T = UY^TU^TUYU^T = diag(eigenvals(Y^T))diag(eigenvals(Y))=diag(eigenvals(Y)^2)  \n",
        "$$\n",
        "\n",
        "Por lo que la diferencia realizada en el código anterior debería ser cero, sin embargo, considerando factores como el error experimental o la precisión del programa, puede decirse que está correcto ya que dan valores muy aproximados al cero."
      ]
    }
  ]
}