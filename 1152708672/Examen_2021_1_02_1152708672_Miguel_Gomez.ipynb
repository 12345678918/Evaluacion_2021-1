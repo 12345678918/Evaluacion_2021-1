{
  "nbformat": 4,
  "nbformat_minor": 0,
  "metadata": {
    "kernelspec": {
      "display_name": "Python 3 (ipykernel)",
      "language": "python",
      "name": "python3"
    },
    "language_info": {
      "codemirror_mode": {
        "name": "ipython",
        "version": 3
      },
      "file_extension": ".py",
      "mimetype": "text/x-python",
      "name": "python",
      "nbconvert_exporter": "python",
      "pygments_lexer": "ipython3",
      "version": "3.7.3"
    },
    "colab": {
      "name": "Examen_2021_1_02_1152708672_Miguel_Gomez.ipynb",
      "provenance": [],
      "collapsed_sections": []
    }
  },
  "cells": [
    {
      "cell_type": "markdown",
      "metadata": {
        "id": "PFFFN1GqlWqu"
      },
      "source": [
        "A) Los siguientes datos fueron extraidos de un [perfil real de Instragram](https://www.instagram.com/paulacano24/):\n",
        "\n",
        "https://raw.githubusercontent.com/restrepo/ComputationalMethods/master/data/Followers.json\n",
        "\n",
        "Interprete los datos como un problema de caida libre y a partir del ajuste (fit) a la correspondiente ecuación de movimiento, determine\n",
        "1. La velocidad inicial de incremento de seguidores en `followers/hour`\n",
        "1. La aceleración constante en `followers/hour**2`\n",
        "1. El número máximo de seguidores que alcanzaría el perfil\n",
        "1. La fecha en la que se alcanzaría dicho máximo\n",
        "\n",
        "B) El período de  un pendulo de longitud $l$ oscilando a ángulos grandes  $\\alpha$, está dado por\n",
        "$$\n",
        "T=T_{0} \\frac{\\sqrt{2}}{\\pi} \\int_{0}^{\\alpha} \\frac{d \\theta}{(\\cos \\theta-\\cos \\alpha)^{\\frac{1}{2}}}\n",
        "$$\n",
        "donde\n",
        "$$\n",
        "T_{0}=2 \\pi \\sqrt{\\frac{l}{g}}\n",
        "$$\n",
        "es el período del mismo péndulo a pequeñas amplitudes. Culquier intento de evaluación numérico de esa integral debería fallar. Sin embargo, si hacemos el cambio de variable\n",
        "$$\n",
        "\\sin \\frac{\\theta}{2}=\\sin \\frac{\\alpha}{2} \\sin \\phi\n",
        "$$\n",
        "obtenemos\n",
        "$$\n",
        "T=\\frac{2 T_{0}}{\\pi} \\int_{0}^{\\frac{\\pi}{2}} \\frac{d \\phi}{\\left(1-\\sin ^{2} \\frac{\\alpha}{2} \\sin ^{2} \\phi\\right)^{\\frac{1}{2}}}\n",
        "$$\n",
        "que corresponde a una integral bien comportada. \n",
        "1. Escriba un programa que use la anterio integral para calcular el cociente  $T/T_0$ para ángulos enteros (en grados) $0^\\circ \\le\\alpha \\le 90^\\circ$.  \n",
        "1. Genere un DataFrame de pandas que contenga como columnas: la amplitud en grados, la amplitud en radianes, y el cociente $T/T_0$, \n",
        "1. Haga un gráfico de $T/T_0$ como función de $\\alpha$ (en grados). \n",
        "1. Explain the result when $\\alpha = 0.$ "
      ]
    },
    {
      "cell_type": "markdown",
      "metadata": {
        "id": "JZKEB1fPnEYH"
      },
      "source": [
        "#***Solución A***"
      ]
    },
    {
      "cell_type": "code",
      "metadata": {
        "id": "GQMESwgznMsJ"
      },
      "source": [
        "import pandas as pd\n",
        "import numpy as np\n",
        "import matplotlib.pyplot as plt\n",
        "from scipy import optimize\n",
        "from sympy import Symbol\n",
        "from scipy.misc import derivative\n",
        "import datetime as dt"
      ],
      "execution_count": 132,
      "outputs": []
    },
    {
      "cell_type": "code",
      "metadata": {
        "colab": {
          "base_uri": "https://localhost:8080/",
          "height": 422
        },
        "id": "hF0whgkI0zmI",
        "outputId": "99412c0d-1cc1-4368-8752-45016bb7b813"
      },
      "source": [
        "# Primero se lee el archivo JSON\n",
        "archivo_json = \"https://raw.githubusercontent.com/restrepo/ComputationalMethods/master/data/Followers.json\" #Se guarda la ruta donde se encuentra el archivo JSON\n",
        "archivo = pd.read_json(archivo_json) # Se lee el archivo JSON\n",
        "df = pd.DataFrame(archivo) # Se convierte a un DataFrame\n",
        "df"
      ],
      "execution_count": 133,
      "outputs": [
        {
          "output_type": "execute_result",
          "data": {
            "text/html": [
              "<div>\n",
              "<style scoped>\n",
              "    .dataframe tbody tr th:only-of-type {\n",
              "        vertical-align: middle;\n",
              "    }\n",
              "\n",
              "    .dataframe tbody tr th {\n",
              "        vertical-align: top;\n",
              "    }\n",
              "\n",
              "    .dataframe thead th {\n",
              "        text-align: right;\n",
              "    }\n",
              "</style>\n",
              "<table border=\"1\" class=\"dataframe\">\n",
              "  <thead>\n",
              "    <tr style=\"text-align: right;\">\n",
              "      <th></th>\n",
              "      <th>followers</th>\n",
              "      <th>date_time</th>\n",
              "      <th>hours</th>\n",
              "    </tr>\n",
              "  </thead>\n",
              "  <tbody>\n",
              "    <tr>\n",
              "      <th>0</th>\n",
              "      <td>42696</td>\n",
              "      <td>2021-08-04 22:06:53.668</td>\n",
              "      <td>0.000000</td>\n",
              "    </tr>\n",
              "    <tr>\n",
              "      <th>1</th>\n",
              "      <td>42706</td>\n",
              "      <td>2021-08-04 23:06:56.517</td>\n",
              "      <td>1.000791</td>\n",
              "    </tr>\n",
              "    <tr>\n",
              "      <th>2</th>\n",
              "      <td>42716</td>\n",
              "      <td>2021-08-05 00:06:59.505</td>\n",
              "      <td>2.001621</td>\n",
              "    </tr>\n",
              "    <tr>\n",
              "      <th>3</th>\n",
              "      <td>42734</td>\n",
              "      <td>2021-08-05 01:07:02.174</td>\n",
              "      <td>3.002363</td>\n",
              "    </tr>\n",
              "    <tr>\n",
              "      <th>4</th>\n",
              "      <td>42749</td>\n",
              "      <td>2021-08-05 02:07:04.854</td>\n",
              "      <td>4.003107</td>\n",
              "    </tr>\n",
              "    <tr>\n",
              "      <th>...</th>\n",
              "      <td>...</td>\n",
              "      <td>...</td>\n",
              "      <td>...</td>\n",
              "    </tr>\n",
              "    <tr>\n",
              "      <th>615</th>\n",
              "      <td>47452</td>\n",
              "      <td>2021-09-02 12:29:21.834</td>\n",
              "      <td>686.374491</td>\n",
              "    </tr>\n",
              "    <tr>\n",
              "      <th>616</th>\n",
              "      <td>47486</td>\n",
              "      <td>2021-09-02 19:59:32.801</td>\n",
              "      <td>693.877537</td>\n",
              "    </tr>\n",
              "    <tr>\n",
              "      <th>617</th>\n",
              "      <td>47491</td>\n",
              "      <td>2021-09-02 20:59:50.542</td>\n",
              "      <td>694.882465</td>\n",
              "    </tr>\n",
              "    <tr>\n",
              "      <th>618</th>\n",
              "      <td>47493</td>\n",
              "      <td>2021-09-02 21:59:59.345</td>\n",
              "      <td>695.884910</td>\n",
              "    </tr>\n",
              "    <tr>\n",
              "      <th>619</th>\n",
              "      <td>47498</td>\n",
              "      <td>2021-09-02 23:00:11.350</td>\n",
              "      <td>696.888245</td>\n",
              "    </tr>\n",
              "  </tbody>\n",
              "</table>\n",
              "<p>620 rows × 3 columns</p>\n",
              "</div>"
            ],
            "text/plain": [
              "     followers               date_time       hours\n",
              "0        42696 2021-08-04 22:06:53.668    0.000000\n",
              "1        42706 2021-08-04 23:06:56.517    1.000791\n",
              "2        42716 2021-08-05 00:06:59.505    2.001621\n",
              "3        42734 2021-08-05 01:07:02.174    3.002363\n",
              "4        42749 2021-08-05 02:07:04.854    4.003107\n",
              "..         ...                     ...         ...\n",
              "615      47452 2021-09-02 12:29:21.834  686.374491\n",
              "616      47486 2021-09-02 19:59:32.801  693.877537\n",
              "617      47491 2021-09-02 20:59:50.542  694.882465\n",
              "618      47493 2021-09-02 21:59:59.345  695.884910\n",
              "619      47498 2021-09-02 23:00:11.350  696.888245\n",
              "\n",
              "[620 rows x 3 columns]"
            ]
          },
          "metadata": {},
          "execution_count": 133
        }
      ]
    },
    {
      "cell_type": "code",
      "metadata": {
        "colab": {
          "base_uri": "https://localhost:8080/",
          "height": 282
        },
        "id": "7W5Gl7fM0zhI",
        "outputId": "2921b1c8-dae7-4e3e-b9e1-6f10930ee618"
      },
      "source": [
        "def curve(x,a,b,c):\n",
        "  return a*x**2+b*x+c\n",
        "\n",
        "l,le = optimize.curve_fit(curve,df['hours'],df['followers'],p0=[0.1,8,40000])\n",
        "a,b,c = l \n",
        "\n",
        "p = np.poly1d([a,b,c])\n",
        "v = p.deriv()\n",
        "tmax = v.roots[0]\n",
        "t = np.linspace (0,tmax)\n",
        "\n",
        "plt.plot (t,curve(t, a, b, c))\n",
        "plt.xlabel('$t(h)$')\n",
        "plt.ylabel('$f(t)$')\n",
        "plt.grid()\n",
        "plt.show()"
      ],
      "execution_count": 134,
      "outputs": [
        {
          "output_type": "display_data",
          "data": {
            "image/png": "[encoded data removed]",
            "text/plain": [
              "<Figure size 432x288 with 1 Axes>"
            ]
          },
          "metadata": {
            "needs_background": "light"
          }
        }
      ]
    },
    {
      "cell_type": "code",
      "metadata": {
        "colab": {
          "base_uri": "https://localhost:8080/"
        },
        "id": "goXioTXCAFiL",
        "outputId": "75e7535b-4b60-4f66-997f-41939a3b3f3a"
      },
      "source": [
        "q = np.poly1d([a, b, c],variable='t')\n",
        "print(q)"
      ],
      "execution_count": 135,
      "outputs": [
        {
          "output_type": "stream",
          "name": "stdout",
          "text": [
            "           2\n",
            "-0.002438 t + 8.552 t + 4.276e+04\n"
          ]
        }
      ]
    },
    {
      "cell_type": "markdown",
      "metadata": {
        "id": "EDw3VGHrB88K"
      },
      "source": [
        "Punto 1\n",
        "\n",
        "Con este polinomio se interpreta como la ecuación de la cinematica\n",
        "$$\n",
        "\\frac{a}{2}t^2+v_0t+x_0\n",
        "$$\n",
        "donde $v_0$ corresponde a la velocidad inicial, teniendo así que:\n",
        "\n",
        "la velocidad inicial de incremento de seguidores es: $v_0=8.552 seguidores/horas$"
      ]
    },
    {
      "cell_type": "markdown",
      "metadata": {
        "id": "9IokCeA2D_zB"
      },
      "source": [
        "punto 2\n",
        "\n",
        "Para la aceleración hago uso de la misma ecuación cinematica del punto 1 y del polinomio obtenido con anterioridad teniendo que \n",
        "$$\n",
        "\\frac{a}{2}=-0.002438\n",
        "$$\n",
        "Teniendo entonces una desaceleración constante es: $a=-0.004876 seguidores/horas^2$"
      ]
    },
    {
      "cell_type": "code",
      "metadata": {
        "colab": {
          "base_uri": "https://localhost:8080/"
        },
        "id": "TtDDiT3FFrV5",
        "outputId": "dd86ddc6-e9df-4f05-b97c-eef1847c4cb5"
      },
      "source": [
        "#Punto 3\n",
        "# Como ya se tiene el polinomio lo que hago es hallar donde la derivada se hace 0, entonces primero derivo el polinomio\n",
        "pp = p.deriv()\n",
        "print(pp)\n"
      ],
      "execution_count": 136,
      "outputs": [
        {
          "output_type": "stream",
          "name": "stdout",
          "text": [
            " \n",
            "-0.004875 x + 8.552\n"
          ]
        }
      ]
    },
    {
      "cell_type": "code",
      "metadata": {
        "colab": {
          "base_uri": "https://localhost:8080/"
        },
        "id": "0C8XUg-4IORY",
        "outputId": "4923c7c6-8b1d-46d5-9c41-c0e2b7db97e4"
      },
      "source": [
        "# Luego se hallan las raices para ver donde se hace 0 como el resultado es dado para t, lo evaluo luego en en polinomio original \n",
        "t_max=pp.roots\n",
        "r = q(t_max)\n",
        "print ('El número máximo de seguidores que alcanzaría el perfil es:', r[0])"
      ],
      "execution_count": 137,
      "outputs": [
        {
          "output_type": "stream",
          "name": "stdout",
          "text": [
            "El número máximo de seguidores que alcanzaría el perfil es: 50262.136677663584\n"
          ]
        }
      ]
    },
    {
      "cell_type": "code",
      "metadata": {
        "colab": {
          "base_uri": "https://localhost:8080/"
        },
        "id": "h95iNrzFMlCd",
        "outputId": "b61119b1-f170-435d-fed0-72edf42546c1"
      },
      "source": [
        "# Punto 4 \n",
        "\n",
        "hr = float(t_max)\n",
        "date = df['date_time'][0] + dt.timedelta(hours=hr)\n",
        "fc = str(date)\n",
        "print('La fecha donde alcanzará el máximo será:', fc)"
      ],
      "execution_count": 138,
      "outputs": [
        {
          "output_type": "stream",
          "name": "stdout",
          "text": [
            "La fecha donde alcanzará el máximo será: 2021-10-17 00:18:28.912936\n"
          ]
        }
      ]
    },
    {
      "cell_type": "markdown",
      "metadata": {
        "id": "llgcKa8gnN62"
      },
      "source": [
        "-------------------------------\n",
        "#***Solución B***"
      ]
    },
    {
      "cell_type": "code",
      "metadata": {
        "id": "hTYmmONvnSsx"
      },
      "source": [
        "from scipy import integrate\n",
        "import numpy as np\n",
        "import matplotlib.pyplot as plt\n",
        "import pandas as pd"
      ],
      "execution_count": 139,
      "outputs": []
    },
    {
      "cell_type": "code",
      "metadata": {
        "id": "JpmrN6t1oCcG"
      },
      "source": [
        "# Punto 1\n",
        "# Primero creo la función\n",
        "def T(alpha):\n",
        "    sen=np.sin(alpha/2)\n",
        "\n",
        "    return (2/np.pi)*integrate.quad(lambda theta:(1)/(np.sqrt(1-(sen**2)*(np.sin(theta)**2))),0,np.pi/2)[0] # Uso el método de la cuadratura para hallar la integral"
      ],
      "execution_count": 140,
      "outputs": []
    },
    {
      "cell_type": "code",
      "metadata": {
        "colab": {
          "base_uri": "https://localhost:8080/"
        },
        "id": "CTrHEeV2oRk3",
        "outputId": "b082cecc-c2d6-4a15-b660-ca46a0576327"
      },
      "source": [
        "# Creo un linspace con los ángulos enteros de 0° a 90°\n",
        "x=np.linspace(0,90,91)\n",
        "x"
      ],
      "execution_count": 141,
      "outputs": [
        {
          "output_type": "execute_result",
          "data": {
            "text/plain": [
              "array([ 0.,  1.,  2.,  3.,  4.,  5.,  6.,  7.,  8.,  9., 10., 11., 12.,\n",
              "       13., 14., 15., 16., 17., 18., 19., 20., 21., 22., 23., 24., 25.,\n",
              "       26., 27., 28., 29., 30., 31., 32., 33., 34., 35., 36., 37., 38.,\n",
              "       39., 40., 41., 42., 43., 44., 45., 46., 47., 48., 49., 50., 51.,\n",
              "       52., 53., 54., 55., 56., 57., 58., 59., 60., 61., 62., 63., 64.,\n",
              "       65., 66., 67., 68., 69., 70., 71., 72., 73., 74., 75., 76., 77.,\n",
              "       78., 79., 80., 81., 82., 83., 84., 85., 86., 87., 88., 89., 90.])"
            ]
          },
          "metadata": {},
          "execution_count": 141
        }
      ]
    },
    {
      "cell_type": "code",
      "metadata": {
        "colab": {
          "base_uri": "https://localhost:8080/"
        },
        "id": "CbdyECVPqMwt",
        "outputId": "e4c078aa-5446-4e80-e543-de1a3ea7c8f3"
      },
      "source": [
        "result = np.zeros(91)\n",
        "for i in range(0, 90+1):\n",
        "  result[i]=T(np.deg2rad(x[i])) #En este punto debo convertir los grados recibidos del linspace anterior a radianes\n",
        "print('El valor del cociente T/T_0 para cada ángulo entero entre 0° y 90° es:\\n\\n',result)"
      ],
      "execution_count": 142,
      "outputs": [
        {
          "output_type": "stream",
          "name": "stdout",
          "text": [
            "El valor del cociente T/T_0 para cada ángulo entero entre 0° y 90° es:\n",
            "\n",
            " [1.         1.00001904 1.00007616 1.00017137 1.0003047  1.00047617\n",
            " 1.00068582 1.00093369 1.00121983 1.00154431 1.00190719 1.00230855\n",
            " 1.00274847 1.00322704 1.00374438 1.00430058 1.00489577 1.00553006\n",
            " 1.00620361 1.00691655 1.00766903 1.00846121 1.00929327 1.01016539\n",
            " 1.01107775 1.01203055 1.013024   1.01405832 1.01513373 1.01625048\n",
            " 1.0174088  1.01860895 1.01985121 1.02113584 1.02246314 1.02383341\n",
            " 1.02524696 1.0267041  1.02820518 1.02975053 1.03134052 1.03297551\n",
            " 1.03465589 1.03638204 1.03815439 1.03997334 1.04183934 1.04375283\n",
            " 1.04571428 1.04772416 1.04978296 1.0518912  1.0540494  1.0562581\n",
            " 1.05851786 1.06082924 1.06319285 1.06560929 1.0680792  1.07060321\n",
            " 1.07318201 1.07581626 1.0785067  1.08125403 1.08405903 1.08692245\n",
            " 1.08984511 1.09282782 1.09587144 1.09897683 1.10214491 1.10537659\n",
            " 1.10867285 1.11203465 1.11546303 1.11895904 1.12252375 1.12615829\n",
            " 1.1298638  1.13364148 1.13749256 1.1414183  1.14542001 1.14949904\n",
            " 1.15365679 1.1578947  1.16221426 1.16661702 1.17110455 1.17567851\n",
            " 1.1803406 ]\n"
          ]
        }
      ]
    },
    {
      "cell_type": "code",
      "metadata": {
        "id": "HRB8o5XsqQEd"
      },
      "source": [
        "#Punto 2\n",
        "# Primero creo un Diccionario\n",
        "\n",
        "dic={\"alpha grados\": x, \"alpha radianes\" : np.deg2rad(x), \"T/T_0\": result }"
      ],
      "execution_count": 143,
      "outputs": []
    },
    {
      "cell_type": "code",
      "metadata": {
        "colab": {
          "base_uri": "https://localhost:8080/",
          "height": 422
        },
        "id": "_0SeEA2_qR5V",
        "outputId": "bae70a87-6a03-43ff-8bd1-b5c32af3265c"
      },
      "source": [
        "# Se crea el DataFrame\n",
        "df = pd.DataFrame(dic)\n",
        "df"
      ],
      "execution_count": 144,
      "outputs": [
        {
          "output_type": "execute_result",
          "data": {
            "text/html": [
              "<div>\n",
              "<style scoped>\n",
              "    .dataframe tbody tr th:only-of-type {\n",
              "        vertical-align: middle;\n",
              "    }\n",
              "\n",
              "    .dataframe tbody tr th {\n",
              "        vertical-align: top;\n",
              "    }\n",
              "\n",
              "    .dataframe thead th {\n",
              "        text-align: right;\n",
              "    }\n",
              "</style>\n",
              "<table border=\"1\" class=\"dataframe\">\n",
              "  <thead>\n",
              "    <tr style=\"text-align: right;\">\n",
              "      <th></th>\n",
              "      <th>alpha grados</th>\n",
              "      <th>alpha radianes</th>\n",
              "      <th>T/T_0</th>\n",
              "    </tr>\n",
              "  </thead>\n",
              "  <tbody>\n",
              "    <tr>\n",
              "      <th>0</th>\n",
              "      <td>0.0</td>\n",
              "      <td>0.000000</td>\n",
              "      <td>1.000000</td>\n",
              "    </tr>\n",
              "    <tr>\n",
              "      <th>1</th>\n",
              "      <td>1.0</td>\n",
              "      <td>0.017453</td>\n",
              "      <td>1.000019</td>\n",
              "    </tr>\n",
              "    <tr>\n",
              "      <th>2</th>\n",
              "      <td>2.0</td>\n",
              "      <td>0.034907</td>\n",
              "      <td>1.000076</td>\n",
              "    </tr>\n",
              "    <tr>\n",
              "      <th>3</th>\n",
              "      <td>3.0</td>\n",
              "      <td>0.052360</td>\n",
              "      <td>1.000171</td>\n",
              "    </tr>\n",
              "    <tr>\n",
              "      <th>4</th>\n",
              "      <td>4.0</td>\n",
              "      <td>0.069813</td>\n",
              "      <td>1.000305</td>\n",
              "    </tr>\n",
              "    <tr>\n",
              "      <th>...</th>\n",
              "      <td>...</td>\n",
              "      <td>...</td>\n",
              "      <td>...</td>\n",
              "    </tr>\n",
              "    <tr>\n",
              "      <th>86</th>\n",
              "      <td>86.0</td>\n",
              "      <td>1.500983</td>\n",
              "      <td>1.162214</td>\n",
              "    </tr>\n",
              "    <tr>\n",
              "      <th>87</th>\n",
              "      <td>87.0</td>\n",
              "      <td>1.518436</td>\n",
              "      <td>1.166617</td>\n",
              "    </tr>\n",
              "    <tr>\n",
              "      <th>88</th>\n",
              "      <td>88.0</td>\n",
              "      <td>1.535890</td>\n",
              "      <td>1.171105</td>\n",
              "    </tr>\n",
              "    <tr>\n",
              "      <th>89</th>\n",
              "      <td>89.0</td>\n",
              "      <td>1.553343</td>\n",
              "      <td>1.175679</td>\n",
              "    </tr>\n",
              "    <tr>\n",
              "      <th>90</th>\n",
              "      <td>90.0</td>\n",
              "      <td>1.570796</td>\n",
              "      <td>1.180341</td>\n",
              "    </tr>\n",
              "  </tbody>\n",
              "</table>\n",
              "<p>91 rows × 3 columns</p>\n",
              "</div>"
            ],
            "text/plain": [
              "    alpha grados  alpha radianes     T/T_0\n",
              "0            0.0        0.000000  1.000000\n",
              "1            1.0        0.017453  1.000019\n",
              "2            2.0        0.034907  1.000076\n",
              "3            3.0        0.052360  1.000171\n",
              "4            4.0        0.069813  1.000305\n",
              "..           ...             ...       ...\n",
              "86          86.0        1.500983  1.162214\n",
              "87          87.0        1.518436  1.166617\n",
              "88          88.0        1.535890  1.171105\n",
              "89          89.0        1.553343  1.175679\n",
              "90          90.0        1.570796  1.180341\n",
              "\n",
              "[91 rows x 3 columns]"
            ]
          },
          "metadata": {},
          "execution_count": 144
        }
      ]
    },
    {
      "cell_type": "code",
      "metadata": {
        "colab": {
          "base_uri": "https://localhost:8080/",
          "height": 282
        },
        "id": "NgZfCzt8qW9V",
        "outputId": "146d0727-e95e-4e83-9ad4-22f62c4990db"
      },
      "source": [
        "#Punto 3\n",
        "# Se hace el gráfico de T/T_0 como función de alpha en grados\n",
        "\n",
        "plt.plot(x,result)\n",
        "plt.ylabel('${T}/{T_0} $ ')\n",
        "plt.xlabel(r'$\\alpha (°)$')\n",
        "plt.show()"
      ],
      "execution_count": 145,
      "outputs": [
        {
          "output_type": "display_data",
          "data": {
            "image/png": "[encoded data removed]",
            "text/plain": [
              "<Figure size 432x288 with 1 Axes>"
            ]
          },
          "metadata": {
            "needs_background": "light"
          }
        }
      ]
    },
    {
      "cell_type": "markdown",
      "metadata": {
        "id": "czXIpQoU2Y-o"
      },
      "source": [
        "Punto 4\n",
        "\n",
        "Cuando $\\alpha=0$ se tiene que el cociente $T/T_0=1$ porque se tiene que $\\lim_{\\alpha \\to 0}(T(\\alpha))= T_0$ debido a que $T_0$ es para amplitudes pequeñas. "
      ]
    }
  ]
}