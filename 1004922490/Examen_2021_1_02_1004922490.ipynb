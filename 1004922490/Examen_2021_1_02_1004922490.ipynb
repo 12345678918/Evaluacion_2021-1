{
  "nbformat": 4,
  "nbformat_minor": 0,
  "metadata": {
    "kernelspec": {
      "display_name": "Python 3 (ipykernel)",
      "language": "python",
      "name": "python3"
    },
    "language_info": {
      "codemirror_mode": {
        "name": "ipython",
        "version": 3
      },
      "file_extension": ".py",
      "mimetype": "text/x-python",
      "name": "python",
      "nbconvert_exporter": "python",
      "pygments_lexer": "ipython3",
      "version": "3.7.3"
    },
    "colab": {
      "name": "Examen_2021_1_02_1004922490.ipynb",
      "provenance": [],
      "collapsed_sections": []
    }
  },
  "cells": [
    {
      "cell_type": "markdown",
      "metadata": {
        "id": "42CydsiAv38K"
      },
      "source": [
        "Realizado por: Valentina Rodriguez Hernandez"
      ]
    },
    {
      "cell_type": "code",
      "metadata": {
        "id": "bSgr9X51o8gf"
      },
      "source": [
        "#librerias\n",
        "import numpy as np\n",
        "from scipy import integrate\n",
        "import scipy.optimize as optimize\n",
        "import pandas as pd\n",
        "import matplotlib.pylab as plt\n",
        "from scipy import misc\n",
        "import datetime as dt\n",
        "# Código derivate\n",
        "def derivate(func,x0,**kwargs):\n",
        "    '''\n",
        "    Vectorized replacement of scipy.misc derivative:\n",
        "        from scipy.misc import derivative\n",
        "    For usage check the derivative help, e.g, in jupyter: \n",
        "        from scipy.misc import derivative\n",
        "        derivative?\n",
        "    '''\n",
        "    try:\n",
        "        #x0: can be an array or a list  \n",
        "        nn=np.asarray(x0).shape[0] # force error if float is used \n",
        "        fp=np.vectorize(misc.derivative)\n",
        "    except IndexError:\n",
        "        fp=misc.derivative\n",
        "        \n",
        "    return fp(func,x0,**kwargs)"
      ],
      "execution_count": null,
      "outputs": []
    },
    {
      "cell_type": "markdown",
      "metadata": {
        "id": "3CgZuQm1nUDp"
      },
      "source": [
        "A) Los siguientes datos fueron extraidos de un [perfil real de Instragram](https://www.instagram.com/paulacano24/):\n",
        "\n",
        "https://raw.githubusercontent.com/restrepo/ComputationalMethods/master/data/Followers.json\n",
        "\n",
        "Interprete los datos como un problema de caida libre y a partir del ajuste (fit) a la correspondiente ecuación de movimiento, determine\n",
        "1. La velocidad inicial de incremento de seguidores en `followers/hour`\n",
        "1. La aceleración constante en `followers/hour**2`\n",
        "1. El número máximo de seguidores que alcanzaría el perfil\n",
        "1. La fecha en la que se alcanzaría dicho máximo\n",
        "\n"
      ]
    },
    {
      "cell_type": "code",
      "metadata": {
        "colab": {
          "base_uri": "https://localhost:8080/",
          "height": 348
        },
        "id": "qIpU_3CCw_l4",
        "outputId": "36e6f51b-fbce-4f11-a467-a2ea26bf7751"
      },
      "source": [
        "#1\n",
        "df = pd.read_json(\"https://raw.githubusercontent.com/restrepo/ComputationalMethods/master/data/Followers.json\")#leer el link con json\n",
        "#generar las variables a interpolar\n",
        "X = df['hours']\n",
        "Y = df['followers']\n",
        "#Hallando la interpolacion\n",
        "coefs = np.polyfit(X,Y,2)\n",
        "pol = np.poly1d(coefs)\n",
        "\n",
        "print(\"la funcion de la inerpolacion es:\", pol)\n",
        "#graficando la interpolacion\n",
        "plt.plot(X,pol(X), color=\"purple\")\n",
        "plt.title('Interpolación Seguidores Vs Horas',size=14)\n",
        "plt.ylabel('Seguidores')\n",
        "plt.xlabel('Horas')\n",
        "plt.grid()\n",
        "plt.legend()\n",
        "plt.show()"
      ],
      "execution_count": null,
      "outputs": [
        {
          "output_type": "stream",
          "name": "stderr",
          "text": [
            "No handles with labels found to put in legend.\n"
          ]
        },
        {
          "output_type": "stream",
          "name": "stdout",
          "text": [
            "la funcion de la inerpolacion es:            2\n",
            "-0.002438 x + 8.552 x + 4.276e+04\n"
          ]
        },
        {
          "output_type": "display_data",
          "data": {
            "image/png": "[encoded data removed]",
            "text/plain": [
              "<Figure size 432x288 with 1 Axes>"
            ]
          },
          "metadata": {
            "needs_background": "light"
          }
        }
      ]
    },
    {
      "cell_type": "code",
      "metadata": {
        "colab": {
          "base_uri": "https://localhost:8080/"
        },
        "id": "8ybdsNbX_N73",
        "outputId": "0fc0f15f-1072-498b-9cda-794cb57dd964"
      },
      "source": [
        "#1\n",
        "veli = derivate(pol, X[0])\n",
        "print(\"La velocidad inicial es: \", veli, \"[followers/hour]\")"
      ],
      "execution_count": null,
      "outputs": [
        {
          "output_type": "stream",
          "name": "stdout",
          "text": [
            "La velocidad inicial es:  8.552137792663416 [followers/hour]\n"
          ]
        }
      ]
    },
    {
      "cell_type": "code",
      "metadata": {
        "colab": {
          "base_uri": "https://localhost:8080/"
        },
        "id": "pMcmMG44ARSe",
        "outputId": "87329fc0-fa95-46fc-9294-58ef4dcd2cd2"
      },
      "source": [
        "#2\n",
        "aceleracion = derivate(pol, X[0], n=2, order=3)\n",
        "print(\"La aceleración es: \", aceleracion/2,\"[followers/hour**2]\")"
      ],
      "execution_count": null,
      "outputs": [
        {
          "output_type": "stream",
          "name": "stdout",
          "text": [
            "La aceleración es:  -0.0024376271903747693 [followers/hour**2]\n"
          ]
        }
      ]
    },
    {
      "cell_type": "code",
      "metadata": {
        "colab": {
          "base_uri": "https://localhost:8080/"
        },
        "id": "LclXH80_-pKt",
        "outputId": "2a9e0ff9-36bf-44fc-cd94-03c7f4d294e0"
      },
      "source": [
        "#3\n",
        "fp=optimize.fmin_powell(-pol , 0.1,  ftol=1E-7 )\n",
        "Max=int(abs(pol(fp)))\n",
        "print(\"El número máximo de seguidores que alcanzaría el perfil es: \",Max)"
      ],
      "execution_count": null,
      "outputs": [
        {
          "output_type": "stream",
          "name": "stdout",
          "text": [
            "Optimization terminated successfully.\n",
            "         Current function value: -50262.136729\n",
            "         Iterations: 2\n",
            "         Function evaluations: 27\n",
            "El número máximo de seguidores que alcanzaría el perfil es:  50262\n"
          ]
        }
      ]
    },
    {
      "cell_type": "code",
      "metadata": {
        "colab": {
          "base_uri": "https://localhost:8080/"
        },
        "id": "uSqJAei8NbRG",
        "outputId": "b65e25bf-95fc-4f07-9d2b-6d61b81461cf"
      },
      "source": [
        "#4\n",
        "z= float(fp)\n",
        "fecha2= df['date_time'][0]+dt.timedelta(hours= z)\n",
        "print(\"la fecha del máximo de seguidores es el: {}\".format(fecha2))"
      ],
      "execution_count": null,
      "outputs": [
        {
          "output_type": "stream",
          "name": "stdout",
          "text": [
            "la fecha del máximo de seguidores es el: 2021-10-17 00:18:28.966848\n"
          ]
        }
      ]
    },
    {
      "cell_type": "markdown",
      "metadata": {
        "id": "M3nwqIzanosM"
      },
      "source": [
        "B) El período de  un pendulo de longitud $l$ oscilando a ángulos grandes  $\\alpha$, está dado por\n",
        "$$\n",
        "T=T_{0} \\frac{\\sqrt{2}}{\\pi} \\int_{0}^{\\alpha} \\frac{d \\theta}{(\\cos \\theta-\\cos \\alpha)^{\\frac{1}{2}}}\n",
        "$$\n",
        "donde\n",
        "$$\n",
        "T_{0}=2 \\pi \\sqrt{\\frac{l}{g}}\n",
        "$$\n",
        "es el período del mismo péndulo a pequeñas amplitudes. Culquier intento de evaluación numérico de esa integral debería fallar. Sin embargo, si hacemos el cambio de variable\n",
        "$$\n",
        "\\sin \\frac{\\theta}{2}=\\sin \\frac{\\alpha}{2} \\sin \\phi\n",
        "$$\n",
        "obtenemos\n",
        "$$\n",
        "T=\\frac{2 T_{0}}{\\pi} \\int_{0}^{\\frac{\\pi}{2}} \\frac{d \\phi}{\\left(1-\\sin ^{2} \\frac{\\alpha}{2} \\sin ^{2} \\phi\\right)^{\\frac{1}{2}}}\n",
        "$$\n",
        "que corresponde a una integral bien comportada. \n",
        "1. Escriba un programa que use la anterio integral para calcular el cociente  $T/T_0$ para ángulos enteros (en grados) $0^\\circ \\le\\alpha \\le 90^\\circ$.  \n",
        "1. Genere un DataFrame de pandas que contenga como columnas: la amplitud en grados, la amplitud en radianes, y el cociente $T/T_0$, \n",
        "1. Haga un gráfico de $T/T_0$ como función de $\\alpha$ (en grados). \n",
        "1. Explain the result when $\\alpha = 0.$ "
      ]
    },
    {
      "cell_type": "markdown",
      "metadata": {
        "id": "6Xhicd0rsM5o"
      },
      "source": [
        "$$\n",
        "\\frac{T}{T_{0}} = \\frac{2 }{\\pi} \\int_{0}^{\\frac{\\pi}{2}} \\frac{d \\phi}{\\left(1-\\sin ^{2} \\frac{\\alpha}{2} \\sin ^{2} \\phi\\right)^{\\frac{1}{2}}}\n",
        "$$"
      ]
    },
    {
      "cell_type": "code",
      "metadata": {
        "colab": {
          "base_uri": "https://localhost:8080/"
        },
        "id": "7i0-8l6Hoqks",
        "outputId": "e46ce9cb-abc6-4792-cc85-3d7842b4709e"
      },
      "source": [
        "#1\n",
        "y = lambda α: integrate.quad(lambda ϕ:1/np.sqrt(1-np.sin(α/2)**2*np.sin(ϕ)**2),0,np.pi/2)[0] #resolviendo la integral con el metodo de la cuadratura \n",
        "def Y(x):#Vectorizando la funcion \n",
        "    try:\n",
        "        nn=np.array(x).shape[0]\n",
        "        f=np.vectorize(y)\n",
        "    except IndexError:\n",
        "        f=y\n",
        "    return f(x)*2/np.pi\n",
        "X = np.linspace(0,np.pi/2,100)\n",
        "Y(X)"
      ],
      "execution_count": null,
      "outputs": [
        {
          "output_type": "execute_result",
          "data": {
            "text/plain": [
              "array([1.        , 1.00001573, 1.00006294, 1.00014163, 1.00025181,\n",
              "       1.0003935 , 1.00056673, 1.00077153, 1.00100793, 1.00127597,\n",
              "       1.00157571, 1.00190719, 1.00227047, 1.00266561, 1.00309268,\n",
              "       1.00355177, 1.00404293, 1.00456628, 1.00512189, 1.00570986,\n",
              "       1.0063303 , 1.00698332, 1.00766903, 1.00838755, 1.00913901,\n",
              "       1.00992355, 1.01074131, 1.01159243, 1.01247707, 1.01339538,\n",
              "       1.01434753, 1.0153337 , 1.01635406, 1.0174088 , 1.01849811,\n",
              "       1.0196222 , 1.02078127, 1.02197553, 1.02320522, 1.02447055,\n",
              "       1.02577177, 1.02710911, 1.02848285, 1.02989323, 1.03134052,\n",
              "       1.03282501, 1.03434697, 1.03590671, 1.03750453, 1.03914074,\n",
              "       1.04081567, 1.04252964, 1.04428299, 1.04607609, 1.04790929,\n",
              "       1.04978296, 1.05169749, 1.05365326, 1.05565069, 1.05769018,\n",
              "       1.05977217, 1.0618971 , 1.06406541, 1.06627758, 1.06853407,\n",
              "       1.07083538, 1.07318201, 1.07557448, 1.07801332, 1.08049907,\n",
              "       1.08303231, 1.0856136 , 1.08824354, 1.09092274, 1.09365182,\n",
              "       1.09643144, 1.09926224, 1.10214491, 1.10508015, 1.10806868,\n",
              "       1.11111124, 1.11420858, 1.11736149, 1.12057078, 1.12383726,\n",
              "       1.12716179, 1.13054525, 1.13398853, 1.13749256, 1.14105829,\n",
              "       1.14468672, 1.14837883, 1.15213569, 1.15595835, 1.15984793,\n",
              "       1.16380556, 1.16783241, 1.1719297 , 1.17609867, 1.1803406 ])"
            ]
          },
          "metadata": {},
          "execution_count": 7
        }
      ]
    },
    {
      "cell_type": "code",
      "metadata": {
        "colab": {
          "base_uri": "https://localhost:8080/",
          "height": 419
        },
        "id": "yZSZ71soo_9l",
        "outputId": "e93c3409-faa8-4598-dd98-370bd5ee5e7d"
      },
      "source": [
        "#2\n",
        "dft = pd.DataFrame({'α grados':X*180/np.pi, 'α radianes ':X,'T/T0':Y(X)}) #generando el dataframe\n",
        "dft"
      ],
      "execution_count": null,
      "outputs": [
        {
          "output_type": "execute_result",
          "data": {
            "text/html": [
              "<div>\n",
              "<style scoped>\n",
              "    .dataframe tbody tr th:only-of-type {\n",
              "        vertical-align: middle;\n",
              "    }\n",
              "\n",
              "    .dataframe tbody tr th {\n",
              "        vertical-align: top;\n",
              "    }\n",
              "\n",
              "    .dataframe thead th {\n",
              "        text-align: right;\n",
              "    }\n",
              "</style>\n",
              "<table border=\"1\" class=\"dataframe\">\n",
              "  <thead>\n",
              "    <tr style=\"text-align: right;\">\n",
              "      <th></th>\n",
              "      <th>α grados</th>\n",
              "      <th>α radianes</th>\n",
              "      <th>T/T0</th>\n",
              "    </tr>\n",
              "  </thead>\n",
              "  <tbody>\n",
              "    <tr>\n",
              "      <th>0</th>\n",
              "      <td>0.000000</td>\n",
              "      <td>0.000000</td>\n",
              "      <td>1.000000</td>\n",
              "    </tr>\n",
              "    <tr>\n",
              "      <th>1</th>\n",
              "      <td>0.909091</td>\n",
              "      <td>0.015867</td>\n",
              "      <td>1.000016</td>\n",
              "    </tr>\n",
              "    <tr>\n",
              "      <th>2</th>\n",
              "      <td>1.818182</td>\n",
              "      <td>0.031733</td>\n",
              "      <td>1.000063</td>\n",
              "    </tr>\n",
              "    <tr>\n",
              "      <th>3</th>\n",
              "      <td>2.727273</td>\n",
              "      <td>0.047600</td>\n",
              "      <td>1.000142</td>\n",
              "    </tr>\n",
              "    <tr>\n",
              "      <th>4</th>\n",
              "      <td>3.636364</td>\n",
              "      <td>0.063467</td>\n",
              "      <td>1.000252</td>\n",
              "    </tr>\n",
              "    <tr>\n",
              "      <th>...</th>\n",
              "      <td>...</td>\n",
              "      <td>...</td>\n",
              "      <td>...</td>\n",
              "    </tr>\n",
              "    <tr>\n",
              "      <th>95</th>\n",
              "      <td>86.363636</td>\n",
              "      <td>1.507330</td>\n",
              "      <td>1.163806</td>\n",
              "    </tr>\n",
              "    <tr>\n",
              "      <th>96</th>\n",
              "      <td>87.272727</td>\n",
              "      <td>1.523196</td>\n",
              "      <td>1.167832</td>\n",
              "    </tr>\n",
              "    <tr>\n",
              "      <th>97</th>\n",
              "      <td>88.181818</td>\n",
              "      <td>1.539063</td>\n",
              "      <td>1.171930</td>\n",
              "    </tr>\n",
              "    <tr>\n",
              "      <th>98</th>\n",
              "      <td>89.090909</td>\n",
              "      <td>1.554930</td>\n",
              "      <td>1.176099</td>\n",
              "    </tr>\n",
              "    <tr>\n",
              "      <th>99</th>\n",
              "      <td>90.000000</td>\n",
              "      <td>1.570796</td>\n",
              "      <td>1.180341</td>\n",
              "    </tr>\n",
              "  </tbody>\n",
              "</table>\n",
              "<p>100 rows × 3 columns</p>\n",
              "</div>"
            ],
            "text/plain": [
              "     α grados  α radianes       T/T0\n",
              "0    0.000000     0.000000  1.000000\n",
              "1    0.909091     0.015867  1.000016\n",
              "2    1.818182     0.031733  1.000063\n",
              "3    2.727273     0.047600  1.000142\n",
              "4    3.636364     0.063467  1.000252\n",
              "..        ...          ...       ...\n",
              "95  86.363636     1.507330  1.163806\n",
              "96  87.272727     1.523196  1.167832\n",
              "97  88.181818     1.539063  1.171930\n",
              "98  89.090909     1.554930  1.176099\n",
              "99  90.000000     1.570796  1.180341\n",
              "\n",
              "[100 rows x 3 columns]"
            ]
          },
          "metadata": {},
          "execution_count": 8
        }
      ]
    },
    {
      "cell_type": "code",
      "metadata": {
        "colab": {
          "base_uri": "https://localhost:8080/",
          "height": 313
        },
        "id": "jtPCiSg1pKHa",
        "outputId": "f2a289ee-25fc-46a2-8110-954cdd9fbbe4"
      },
      "source": [
        "#3 \n",
        "#graficando T/T_0 Vs α\n",
        "plt.plot(dft['α grados'],dft['T/T0'], color=\"gold\")\n",
        "plt.title('T/T_0 Vs α',size=14)\n",
        "plt.ylabel('T/T0')\n",
        "plt.xlabel('α Grados')\n",
        "plt.grid()\n",
        "plt.legend()\n",
        "plt.show()"
      ],
      "execution_count": null,
      "outputs": [
        {
          "output_type": "stream",
          "name": "stderr",
          "text": [
            "No handles with labels found to put in legend.\n"
          ]
        },
        {
          "output_type": "display_data",
          "data": {
            "image/png": "[encoded data removed]",
            "text/plain": [
              "<Figure size 432x288 with 1 Axes>"
            ]
          },
          "metadata": {
            "needs_background": "light"
          }
        }
      ]
    },
    {
      "cell_type": "markdown",
      "metadata": {
        "id": "-64tU1TBpYyO"
      },
      "source": [
        "4\n",
        "Cuando $\\alpha$ tiende a $0$, de tal manera que la amplitud es cada vez más pequeña y por lo tanto el periodo se aproxima al periodo del pendulo a amplitudes pequeñas $T$ tiende a $T_0$, asi mismo: \n",
        "$$\n",
        "\\frac{T}{T_0} = 1\n",
        "$$"
      ]
    }
  ]
}