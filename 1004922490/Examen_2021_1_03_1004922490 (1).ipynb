{
  "nbformat": 4,
  "nbformat_minor": 0,
  "metadata": {
    "kernelspec": {
      "display_name": "Python 3 (ipykernel)",
      "language": "python",
      "name": "python3"
    },
    "language_info": {
      "codemirror_mode": {
        "name": "ipython",
        "version": 3
      },
      "file_extension": ".py",
      "mimetype": "text/x-python",
      "name": "python",
      "nbconvert_exporter": "python",
      "pygments_lexer": "ipython3",
      "version": "3.7.3"
    },
    "colab": {
      "name": " Examen_2021_1_03_1004922490.ipynb",
      "provenance": [],
      "collapsed_sections": []
    }
  },
  "cells": [
    {
      "cell_type": "markdown",
      "metadata": {
        "id": "40WhQJy2EWqx"
      },
      "source": [
        "# Casas-Ibarra\n",
        "Let $\\boldsymbol{A}$ $3\\times3$ a symmetric non-diagonal matrix with the following set of eigenvalues and eigenvectors:\n"
      ]
    },
    {
      "cell_type": "markdown",
      "metadata": {
        "id": "cwKjVMtNvgl0"
      },
      "source": [
        "____"
      ]
    },
    {
      "cell_type": "markdown",
      "metadata": {
        "id": "G-uQDCOkvgl0"
      },
      "source": [
        "### Eigenvalues\n",
        "The normal ordering of the absolute value of the eigenvalues is $m_1<m_2<m_3$. Each eigenvalue is expressed in units of eV, which just of an energy unit.\n",
        "### Eigenvectors\n",
        "The eigenvectors in the normal ordering are defined by\n",
        "$$\n",
        "\\boldsymbol{U}^T \\boldsymbol{A} \\boldsymbol{U}=\n",
        "\\begin{pmatrix}\n",
        "m_1& 0 & 0\\\\\n",
        "0 & m_2& 0\\\\\n",
        "0 & 0 & m_3\\\\\n",
        "\\end{pmatrix}.\n",
        "$$\n",
        "The unitary matrix can be parameterized in terms of three mixing angles, $\\theta_{23}$ $\\theta_{13}$, $\\theta_{12}$, such that\n",
        "$$\n",
        "\\boldsymbol{U}=\\left(\\begin{array}{ccc}\n",
        "1 & 0 & 0 \\\\\n",
        "0 & c_{23} & s_{23} \\\\\n",
        "0 & -s_{23} & c_{23}\n",
        "\\end{array}\\right) \\cdot\\left(\\begin{array}{ccc}\n",
        "c_{13} & 0 & s_{13}  \\\\\n",
        "0 & 1 & 0 \\\\\n",
        "-s_{13}  & 0 & c_{13}\n",
        "\\end{array}\\right) \\cdot\\left(\\begin{array}{ccc}\n",
        "c_{12} & s_{12} & 0 \\\\\n",
        "-s_{12} & c_{12} & 0 \\\\\n",
        "0 & 0 & 1\n",
        "\\end{array}\\right),\n",
        "$$\n",
        "where $c_{i j} \\equiv \\cos \\theta_{i j}$ and $s_{i j} \\equiv \\sin \\theta_{i j}$. Thus, we can write $\\boldsymbol{U}$ as\n",
        "$$\n",
        "\\boldsymbol{U}=\\left(\\begin{array}{ccc}c_{12} c_{13} & s_{12} c_{13} & s_{13}  \\\\ -s_{12} c_{23}-c_{12} s_{13} s_{23}& c_{12} c_{23}-s_{12} s_{13} s_{23}  & c_{13} s_{23} \\\\ s_{12} s_{23}-c_{12} s_{13} c_{23} & -c_{12} s_{23}-s_{12} s_{13} c_{23}  & c_{13} c_{23}\\end{array}\\right)\n",
        "$$\n",
        "so that\n",
        "$$\n",
        "\\boldsymbol{U}_1=\\begin{pmatrix}U_{e1}\\\\ U_{\\mu 1}\\\\ U_{\\tau 1}\\end{pmatrix}=\\begin{pmatrix}\n",
        "c_{12} c_{13} \\\\\n",
        "-s_{12} c_{23}-c_{12} s_{13} s_{23}  \\\\\n",
        "s_{12} s_{23}-c_{12} s_{13} c_{23} \n",
        "\\end{pmatrix},\\qquad \n",
        "\\boldsymbol{U}_2=\\begin{pmatrix}U_{e2}\\\\ U_{\\mu 2}\\\\ U_{\\tau 2}\\end{pmatrix}=\\begin{pmatrix}\n",
        "s_{12} c_{13} \\\\\n",
        "c_{12} c_{23}-s_{12} s_{13} s_{23}  \\\\\n",
        "-c_{12} s_{23}-s_{12} s_{13} c_{23} \n",
        "\\end{pmatrix},\\qquad\n",
        "\\boldsymbol{U}_3=\\begin{pmatrix}U_{e3}\\\\ U_{\\mu 3}\\\\ U_{\\tau 3}\\end{pmatrix}=\\begin{pmatrix}\n",
        "s_{13}  \\\\\n",
        "c_{13} s_{23} \\\\\n",
        "c_{13} c_{23}\n",
        "\\end{pmatrix}\n",
        "$$\n",
        "\n",
        "### Data\n",
        "Use the _central values_  of the following table but ignoring $\\delta_{CP}$ (In the previous equations was fixed to $\\delta_{CP}=0$). __Hint__: take care of the denominator in the first colum.\n",
        "\n",
        "![IMAGE](https://github.com/restrepo/ComputationalMethods/raw/master/material/figures/nu.png)\n",
        "\n",
        "where $\\Delta m^2_{ij}=m^2_i-m^2_j$ is the squared mass difference between eigenvalues $i$ and $j$; in units of $\\text{eV}^2$.\n"
      ]
    },
    {
      "cell_type": "markdown",
      "metadata": {
        "id": "bnSCrqmSvgl1"
      },
      "source": [
        "### Casas-Ibarra parameterization\n",
        "We can assumme without lost of generality that $\\boldsymbol{A}$ can be generated from a matrix $\\boldsymbol{Y}$ such that\n",
        "$$\n",
        "\\boldsymbol{A}=\\boldsymbol{Y}^{\\operatorname{T}}\\boldsymbol{Y}\n",
        "$$\n",
        "\n",
        "The matrix $\\boldsymbol{Y}$ can be parameterized in terms of an arbitray orthogonal $3\\times 3$ matrix, $\\boldsymbol{R}$, as\n",
        "$$\n",
        "\\boldsymbol{Y}=\\boldsymbol{R} \\boldsymbol{D}_{\\sqrt{m}} \\boldsymbol{U}^{\\operatorname{T}}\n",
        "$$\n",
        "\n",
        "\n",
        "* $R$ is an orthogonal $3\\times 3$ matrix, with three rotation angles $\\alpha_{ij}$ between $(0,2\\pi)$\n",
        "$$\n",
        "\\boldsymbol{R}=\\left(\\begin{array}{ccc}c^\\alpha_{12} c^\\alpha_{13} & s^\\alpha_{12} c^\\alpha_{13} & s^\\alpha_{13}  \\\\ -s^\\alpha_{12} c^\\alpha_{23}-c^\\alpha_{12} s^\\alpha_{13} s^\\alpha_{23}& c^\\alpha_{12} c^\\alpha_{23}-s^\\alpha_{12} s^\\alpha_{13} s^\\alpha_{23}  & c^\\alpha_{13} s^\\alpha_{23} \\\\ s^\\alpha_{12} s^\\alpha_{23}-c^\\alpha_{12} s^\\alpha_{13} c^\\alpha_{23} & -c^\\alpha_{12} s^\\alpha_{23}-s^\\alpha_{12} s^\\alpha_{13} c^\\alpha_{23}  & c^\\alpha_{13} c^\\alpha_{23}\\end{array}\\right)\n",
        "$$\n",
        "where $c^\\alpha_{i j} \\equiv \\cos \\alpha_{i j}$ and $s^\\alpha_{i j} \\equiv \\sin \\alpha_{i j}$.\n",
        "\n",
        "* $$\n",
        " \\boldsymbol{D}_{\\sqrt{m}}=\\operatorname{diag}\\left(\\sqrt{m_1},\\sqrt{m_2},\\sqrt{m_3}\\right)\n",
        "$$"
      ]
    },
    {
      "cell_type": "markdown",
      "metadata": {
        "id": "Iqj7EWSPvgl3"
      },
      "source": [
        "### Problem\n",
        "1. Choose a random value for $m_1$ between $10^{-9}\\ \\text{eV}$ and $10^{-4}\\ \\text{eV}$. Note that because of the wide range, the random variation  must be in the exponents. Obtain the corresponding $m_2$ and $m_3$ with the proper normal ordering.\n",
        "1. Choose random values for $\\alpha_{ij}$  between $(0,2\\pi)$\n",
        "1. Obtain $\\boldsymbol{Y}$\n",
        "1. Check that the generated $\\boldsymbol{A}$ has the proper eigenvalues and eigenvectors\n",
        "1. Check that the eigenvalues of $\\boldsymbol{Y}$ correspond to the square root of the eigenvalues of $\\boldsymbol{A}$ and explain why."
      ]
    },
    {
      "cell_type": "code",
      "metadata": {
        "id": "2J0n-8Rfvqks"
      },
      "source": [
        " #librerias\n",
        " import numpy as np\n",
        " import sympy"
      ],
      "execution_count": 1,
      "outputs": []
    },
    {
      "cell_type": "code",
      "metadata": {
        "colab": {
          "base_uri": "https://localhost:8080/"
        },
        "id": "-BR3yzMWAVih",
        "outputId": "e2bcdc38-63c8-477f-fbf5-e450c775d54b"
      },
      "source": [
        "#Punto 1\n",
        "em1=np.random.uniform(-9,-4)# generando el exponente aleatorio \n",
        "m1= 10**(em1)#creando m1 del exponente aleatorio\n",
        "\n",
        "dm21 = 7.39*(10**-5)\n",
        "dm32 = 2.449*(10**-3)\n",
        "#hallando a m2 y m3\n",
        "m2 = np.sqrt(dm21+m1**2)\n",
        "m3 = np.sqrt(dm32+m2**2)\n",
        "\n",
        "print(\"m1 es: \",m1)\n",
        "print(\"m2 es: \",m2)\n",
        "print(\"m2 es: \",m3)"
      ],
      "execution_count": 2,
      "outputs": [
        {
          "output_type": "stream",
          "name": "stdout",
          "text": [
            "m1 es:  3.853795263625909e-06\n",
            "m2 es:  0.008596511783958535\n",
            "m2 es:  0.050228478125976875\n"
          ]
        }
      ]
    },
    {
      "cell_type": "code",
      "metadata": {
        "colab": {
          "base_uri": "https://localhost:8080/"
        },
        "id": "jDVmuI2bAsdn",
        "outputId": "f720e518-4ef3-40ee-9574-4263eeb81b36"
      },
      "source": [
        "#Punto 2\n",
        "#generando 3 alpha aleatorios\n",
        "a=np.random.uniform(0,2*np.pi,3)\n",
        "\n",
        "print(\"los alpha son: \",a)"
      ],
      "execution_count": 3,
      "outputs": [
        {
          "output_type": "stream",
          "name": "stdout",
          "text": [
            "los alpha son:  [1.89156082 0.11772188 2.20071694]\n"
          ]
        }
      ]
    },
    {
      "cell_type": "code",
      "metadata": {
        "colab": {
          "base_uri": "https://localhost:8080/",
          "height": 96
        },
        "id": "ZDC9gjtjBpF-",
        "outputId": "486c71ee-acfd-4457-ff42-bdda0750f9e8"
      },
      "source": [
        "#punto 3\n",
        "#R por la def de arriba\n",
        "#usando alpha\n",
        "c12=np.cos(a[0])\n",
        "c13=np.cos(a[1])\n",
        "c23=np.cos(a[2])\n",
        "\n",
        "s12=np.sin(a[0])\n",
        "s13=np.sin(a[1])\n",
        "s23=np.sin(a[2])\n",
        "#R de la definicion de arriba\n",
        "R=np.matrix([[c12*c13,s12*c13,s13],\n",
        "             [-s12*c23-c12*s13*s23,c12*c23-s12*s13*s23,c13*s23],\n",
        "             [s12*s23-c12*s13*c23,-c12*s23-s12*s13*c23,c13*c23]])\n",
        "#D por la def de arriba\n",
        "D=np.diag([np.sqrt(m1),np.sqrt(m2),np.sqrt(m3)])\n",
        "#U por la definicion de arriba\n",
        "t=np.array([33.82,8.61,48.3])#theta del cuadro\n",
        "t=t*np.pi/180\n",
        "\n",
        "c12=np.cos(t[0])\n",
        "c13=np.cos(t[1])\n",
        "c23=np.cos(t[2])\n",
        "\n",
        "s12=np.sin(t[0])\n",
        "s13=np.sin(t[1])\n",
        "s23=np.sin(t[2])\n",
        "\n",
        "U=np.matrix([[c12*c13,s12*c13,s13],\n",
        "             [-s12*c23-c12*s13*s23,c12*c23-s12*s13*s23,c13*s23],\n",
        "             [s12*s23-c12*s13*c23,-c12*s23-s12*s13*c23,c13*c23]])\n",
        "\n",
        "#U transpuesta\n",
        "Ut=np.transpose(U)\n",
        "\n",
        "#Y por la def\n",
        "Y=R*D*Ut\n",
        "\n",
        "print(\"La matriz Y es: \")\n",
        "sympy.Matrix(Y)"
      ],
      "execution_count": 4,
      "outputs": [
        {
          "output_type": "stream",
          "name": "stdout",
          "text": [
            "La matriz Y es: \n"
          ]
        },
        {
          "output_type": "execute_result",
          "data": {
            "text/latex": "$\\displaystyle \\left[\\begin{matrix}0.0515217701134123 & 0.0625720763189395 & -0.0419361717425409\\\\0.0327558302876305 & 0.136584170592536 & 0.112684452054737\\\\-0.00207677225811892 & -0.0828938995521931 & -0.105824223593449\\end{matrix}\\right]$",
            "text/plain": [
              "Matrix([\n",
              "[  0.0515217701134123,  0.0625720763189395, -0.0419361717425409],\n",
              "[  0.0327558302876305,   0.136584170592536,   0.112684452054737],\n",
              "[-0.00207677225811892, -0.0828938995521931,  -0.105824223593449]])"
            ]
          },
          "metadata": {},
          "execution_count": 4
        }
      ]
    },
    {
      "cell_type": "code",
      "metadata": {
        "colab": {
          "base_uri": "https://localhost:8080/"
        },
        "id": "3ZpwIEhFGpMY",
        "outputId": "472d3cb9-78d8-4284-bfc9-f8d27d6d0ce4"
      },
      "source": [
        "#punto 4\n",
        "\n",
        "Yt=np.transpose(Y) #transpuesta de Y\n",
        "A=Yt*Y #A por definicion\n",
        "values,vectors=np.linalg.eig(A) #eigenvectors y eigenvalues de A\n",
        "#comprobacion de los eigenvalues\n",
        "print(\"m1,m2,m3 \\n\", m1,m2,m3)#mostar m1,m2,m3\n",
        "print(\"los valores propios de A son: \\n\", values,\"\\n\")#valores propios de a\n",
        "#comprobacion de los eigenvectors\n",
        "print(\"los vectores propios de A son: \\n\", vectors,\"\\n\")#vectores propios de a\n",
        "print(\"matriz U \\n\", U)#u"
      ],
      "execution_count": 5,
      "outputs": [
        {
          "output_type": "stream",
          "name": "stdout",
          "text": [
            "m1,m2,m3 \n",
            " 3.853795263625909e-06 0.008596511783958535 0.050228478125976875\n",
            "los valores propios de A son: \n",
            " [5.02284781e-02 3.85379526e-06 8.59651178e-03] \n",
            "\n",
            "los vectores propios de A son: \n",
            " [[-0.14970791 -0.82142745 -0.55031308]\n",
            " [-0.73822377  0.46312144 -0.49045305]\n",
            " [-0.65773339 -0.33282949  0.67573021]] \n",
            "\n",
            "matriz U \n",
            " [[ 0.82142745  0.55031308  0.14970791]\n",
            " [-0.46312144  0.49045305  0.73822377]\n",
            " [ 0.33282949 -0.67573021  0.65773339]]\n"
          ]
        }
      ]
    },
    {
      "cell_type": "code",
      "metadata": {
        "colab": {
          "base_uri": "https://localhost:8080/"
        },
        "id": "4aULpkLfKiE9",
        "outputId": "295e8dee-928e-4d6c-9b78-7d48165ea2a6"
      },
      "source": [
        "#5\n",
        "vy=np.linalg.eigvals(Y)\n",
        "av=np.linalg.eigvals(A)**0.5\n",
        "#np.sqrt(values)\n",
        "print(\"raiz de los valores propios de A: \\n\", av)\n",
        "print(\"autovalores de Y son: \\n\", vy)\n",
        "b=np.array(sorted([np.linalg.eigvals(A)]))**0.5-np.array(sorted(np.linalg.eigvals(Y)))\n",
        "print(\"La diferencia entre la raiz de los valores propios de A y Y es: \", b)\n"
      ],
      "execution_count": 6,
      "outputs": [
        {
          "output_type": "stream",
          "name": "stdout",
          "text": [
            "raiz de los valores propios de A: \n",
            " [0.22411711 0.00196311 0.09271738]\n",
            "autovalores de Y son: \n",
            " [ 0.12874431 -0.00830333 -0.03815926]\n",
            "La diferencia entre la raiz de los valores propios de A y Y es:  [[ 0.26227637  0.01026644 -0.03602693]]\n"
          ]
        }
      ]
    },
    {
      "cell_type": "code",
      "metadata": {
        "id": "vqvuHHbWgDs-"
      },
      "source": [
        "#La diferencia deberia dar 0, esto no es posible puesto que hay errores experimentales"
      ],
      "execution_count": 7,
      "outputs": []
    },
    {
      "cell_type": "markdown",
      "metadata": {
        "id": "puYfjV8blmey"
      },
      "source": [
        "como $A=Y^TY$ entonces $diag(m_i)=UAU^T=UY^TYU^T=UY^TU^TUYU^T=diag(eigenvalues(Y^T))diag(eigenvalues(Y))=diag(eigenvalues(Y)^2)  $"
      ]
    }
  ]
}