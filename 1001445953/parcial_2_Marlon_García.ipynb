{
  "nbformat": 4,
  "nbformat_minor": 0,
  "metadata": {
    "colab": {
      "name": "parcial_2_Marlon_García.ipynb",
      "provenance": [],
      "collapsed_sections": []
    },
    "kernelspec": {
      "name": "python3",
      "display_name": "Python 3"
    },
    "language_info": {
      "name": "python"
    }
  },
  "cells": [
    {
      "cell_type": "markdown",
      "metadata": {
        "id": "N1_l2NTwO-mN"
      },
      "source": [
        "#A) \n",
        "Los siguientes datos fueron extraidos de un [perfil real de Instragram](https://www.instagram.com/paulacano24/):\n",
        "\n",
        "https://raw.githubusercontent.com/restrepo/ComputationalMethods/master/data/Followers.json\n",
        "\n",
        "Interprete los datos como un problema de caida libre y a partir del ajuste (fit) a la correspondiente ecuación de movimiento, determine\n",
        "1. La velocidad inicial de incremento de seguidores en `followers/hour`\n",
        "1. La aceleración constante en `followers/hour**2`\n",
        "1. El número máximo de seguidores que alcanzaría el perfil\n",
        "1. La fecha en la que se alcanzaría dicho máximo\n"
      ]
    },
    {
      "cell_type": "code",
      "metadata": {
        "id": "OpjNdikvO_zc"
      },
      "source": [
        "### LIBRERIAS ###\n",
        "\n",
        "#=================================================\n",
        "import scipy.misc as sm\n",
        "import numpy as np\n",
        "import pandas as pd\n",
        "import matplotlib.pylab as plt\n",
        "from sympy import init_printing\n",
        "from scipy import  optimize\n",
        "from scipy import misc\n",
        "from scipy import interpolate\n",
        "from scipy import integrate\n",
        "from scipy.integrate import quad\n",
        "from sympy import simplify\n",
        "from scipy.interpolate import CubicSpline\n",
        "init_printing() \n",
        "#================================================="
      ],
      "execution_count": 1,
      "outputs": []
    },
    {
      "cell_type": "markdown",
      "metadata": {
        "id": "t66Vy7g3oQwq"
      },
      "source": [
        "###1. La velocidad inicial de incremento de seguidores en `followers/hour`"
      ]
    },
    {
      "cell_type": "code",
      "metadata": {
        "colab": {
          "base_uri": "https://localhost:8080/",
          "height": 470
        },
        "id": "RUCkmgYJljhK",
        "outputId": "9893fa5d-734a-4d5b-d876-dc4013010d5d"
      },
      "source": [
        "#Creamos un Data Frame con los datos\n",
        "df = pd.read_json(\"https://raw.githubusercontent.com/restrepo/ComputationalMethods/master/data/Followers.json\")\n",
        "\n",
        "#Tomamos los datos en x and y \n",
        "X_ = df['hours']\n",
        "Y_ = df['followers']\n",
        "\n",
        "#Realizamos una interpolación para tener un polinomio de grado 2\n",
        "coefs1 = np.polyfit(X_,Y_,2)\n",
        "pol_1 = np.poly1d(coefs1)\n",
        "\n",
        "#Derivamos en el punto inicial para hallar la velocidad inicial\n",
        "vel_in = misc.derivative(pol_1,X_[0])\n",
        "print(\"La velocidad inicial sería: {} followers/hour\".format(vel_in))\n",
        "\n",
        "print(pol_1)\n",
        "\n",
        "df"
      ],
      "execution_count": 2,
      "outputs": [
        {
          "output_type": "stream",
          "name": "stdout",
          "text": [
            "La velocidad inicial sería: 8.552137792663416 followers/hour\n",
            "           2\n",
            "-0.002438 x + 8.552 x + 4.276e+04\n"
          ]
        },
        {
          "output_type": "execute_result",
          "data": {
            "text/html": [
              "<div>\n",
              "<style scoped>\n",
              "    .dataframe tbody tr th:only-of-type {\n",
              "        vertical-align: middle;\n",
              "    }\n",
              "\n",
              "    .dataframe tbody tr th {\n",
              "        vertical-align: top;\n",
              "    }\n",
              "\n",
              "    .dataframe thead th {\n",
              "        text-align: right;\n",
              "    }\n",
              "</style>\n",
              "<table border=\"1\" class=\"dataframe\">\n",
              "  <thead>\n",
              "    <tr style=\"text-align: right;\">\n",
              "      <th></th>\n",
              "      <th>followers</th>\n",
              "      <th>date_time</th>\n",
              "      <th>hours</th>\n",
              "    </tr>\n",
              "  </thead>\n",
              "  <tbody>\n",
              "    <tr>\n",
              "      <th>0</th>\n",
              "      <td>42696</td>\n",
              "      <td>2021-08-04 22:06:53.668</td>\n",
              "      <td>0.000000</td>\n",
              "    </tr>\n",
              "    <tr>\n",
              "      <th>1</th>\n",
              "      <td>42706</td>\n",
              "      <td>2021-08-04 23:06:56.517</td>\n",
              "      <td>1.000791</td>\n",
              "    </tr>\n",
              "    <tr>\n",
              "      <th>2</th>\n",
              "      <td>42716</td>\n",
              "      <td>2021-08-05 00:06:59.505</td>\n",
              "      <td>2.001621</td>\n",
              "    </tr>\n",
              "    <tr>\n",
              "      <th>3</th>\n",
              "      <td>42734</td>\n",
              "      <td>2021-08-05 01:07:02.174</td>\n",
              "      <td>3.002363</td>\n",
              "    </tr>\n",
              "    <tr>\n",
              "      <th>4</th>\n",
              "      <td>42749</td>\n",
              "      <td>2021-08-05 02:07:04.854</td>\n",
              "      <td>4.003107</td>\n",
              "    </tr>\n",
              "    <tr>\n",
              "      <th>...</th>\n",
              "      <td>...</td>\n",
              "      <td>...</td>\n",
              "      <td>...</td>\n",
              "    </tr>\n",
              "    <tr>\n",
              "      <th>615</th>\n",
              "      <td>47452</td>\n",
              "      <td>2021-09-02 12:29:21.834</td>\n",
              "      <td>686.374491</td>\n",
              "    </tr>\n",
              "    <tr>\n",
              "      <th>616</th>\n",
              "      <td>47486</td>\n",
              "      <td>2021-09-02 19:59:32.801</td>\n",
              "      <td>693.877537</td>\n",
              "    </tr>\n",
              "    <tr>\n",
              "      <th>617</th>\n",
              "      <td>47491</td>\n",
              "      <td>2021-09-02 20:59:50.542</td>\n",
              "      <td>694.882465</td>\n",
              "    </tr>\n",
              "    <tr>\n",
              "      <th>618</th>\n",
              "      <td>47493</td>\n",
              "      <td>2021-09-02 21:59:59.345</td>\n",
              "      <td>695.884910</td>\n",
              "    </tr>\n",
              "    <tr>\n",
              "      <th>619</th>\n",
              "      <td>47498</td>\n",
              "      <td>2021-09-02 23:00:11.350</td>\n",
              "      <td>696.888245</td>\n",
              "    </tr>\n",
              "  </tbody>\n",
              "</table>\n",
              "<p>620 rows × 3 columns</p>\n",
              "</div>"
            ],
            "text/plain": [
              "     followers               date_time       hours\n",
              "0        42696 2021-08-04 22:06:53.668    0.000000\n",
              "1        42706 2021-08-04 23:06:56.517    1.000791\n",
              "2        42716 2021-08-05 00:06:59.505    2.001621\n",
              "3        42734 2021-08-05 01:07:02.174    3.002363\n",
              "4        42749 2021-08-05 02:07:04.854    4.003107\n",
              "..         ...                     ...         ...\n",
              "615      47452 2021-09-02 12:29:21.834  686.374491\n",
              "616      47486 2021-09-02 19:59:32.801  693.877537\n",
              "617      47491 2021-09-02 20:59:50.542  694.882465\n",
              "618      47493 2021-09-02 21:59:59.345  695.884910\n",
              "619      47498 2021-09-02 23:00:11.350  696.888245\n",
              "\n",
              "[620 rows x 3 columns]"
            ]
          },
          "metadata": {},
          "execution_count": 2
        }
      ]
    },
    {
      "cell_type": "markdown",
      "metadata": {
        "id": "lIY5Thm7qPqX"
      },
      "source": [
        "###2. La aceleración constante en `followers/hour**2`"
      ]
    },
    {
      "cell_type": "code",
      "metadata": {
        "colab": {
          "base_uri": "https://localhost:8080/"
        },
        "id": "vOKES6ZEnriD",
        "outputId": "5661a24b-c998-4677-b1d0-c00f828f0b1a"
      },
      "source": [
        "#Vectorizamos la función para derivar\n",
        "array_derivative = np.vectorize(misc.derivative)\n",
        "\n",
        "#Realizamos una interpolación para hallar la función que nos da la velocidad\n",
        "f1 = CubicSpline(X_,Y_)                #Interpolación de la posición\n",
        "v_ = array_derivative(f1,X_,dx=1E-10)  #Derivada numerica de la posición (velocidad)\n",
        "\n",
        "coefs2 = np.polyfit(X_,v_,1)\n",
        "pol_2 = np.poly1d(coefs2)              #funcion de la velocidad\n",
        "\n",
        "\"\"\"\n",
        "Como los datos se toman como si fuera una caida libre, eso quiere decir\n",
        "que la aceleración es constante, es decir, es la misma para cualquier punto\n",
        "\"\"\"\n",
        "\n",
        "#Hallamos la aceleración\n",
        "a = misc.derivative(pol_2,X_,dx=1E-10) \n",
        "\n",
        "#print(a) Descomentando esto podemos ver que efectivamente es la misma para todo punto\n",
        "\n",
        "print(\"La aceleración sacado con derivadas sería: {} follower/hour^2\".format(a[0]))\n",
        "\n",
        "\"\"\"\n",
        "El método anterior aunque en principio no veo errores en el codigo, \n",
        "si que puede ser algo impreciso al momento de derivar numericamente\n",
        "por lo que, el valor real de la aceleracion\n",
        "estaría dado de la siguiente manera:\n",
        "\"\"\"\n",
        "a1 = 2*coefs1[0]\n",
        "print(\"Valor de la aceleración sacado directamente: \",a1)\n"
      ],
      "execution_count": 3,
      "outputs": [
        {
          "output_type": "stream",
          "name": "stdout",
          "text": [
            "La aceleración sacado con derivadas sería: -0.006288303211476887 follower/hour^2\n",
            "Valor de la aceleración sacado directamente:  -0.0048752543859773\n"
          ]
        }
      ]
    },
    {
      "cell_type": "markdown",
      "metadata": {
        "id": "3XgjxaIbq2wg"
      },
      "source": [
        "###3. El número máximo de seguidores que alcanzaría el perfil"
      ]
    },
    {
      "cell_type": "code",
      "metadata": {
        "colab": {
          "base_uri": "https://localhost:8080/",
          "height": 456
        },
        "id": "OjNNICxTrENl",
        "outputId": "d334ae9a-e9c6-426f-c7f3-1fb9819dba38"
      },
      "source": [
        "X_ = df['hours']\n",
        "Y_ = df['followers']\n",
        "\n",
        "coefs1 = np.polyfit(X_,Y_,2)\n",
        "pol_1 = np.poly1d(coefs1)\n",
        "\n",
        "max1 = optimize.fmin_powell(-pol_1,500)\n",
        "\n",
        "\n",
        "X_2 = np.linspace(0,2000,len(Y_))\n",
        "\n",
        "print(\"\"\" \n",
        "El número maximo de seguidores que alcanzaría el perfil \n",
        "sería en un tiempo t = {} h y su valor sería: {} followers \n",
        "\"\"\".format(max1,pol_1(max1)))\n",
        "\n",
        "plt.figure(figsize=(10,5))\n",
        "plt.plot(X_2,pol_1(X_2),label = \"Predicción\")\n",
        "plt.plot(X_,Y_,label=\"Datos Originales\")\n",
        "plt.plot(max1,pol_1(max1),'ro')\n",
        "plt.legend()\n",
        "plt.show()\n"
      ],
      "execution_count": 4,
      "outputs": [
        {
          "output_type": "stream",
          "name": "stdout",
          "text": [
            "Optimization terminated successfully.\n",
            "         Current function value: -50262.136729\n",
            "         Iterations: 2\n",
            "         Function evaluations: 67\n",
            " \n",
            "El número maximo de seguidores que alcanzaría el perfil \n",
            "sería en un tiempo t = 1754.1931387093475 h y su valor sería: 50262.136729011865 followers \n",
            "\n"
          ]
        },
        {
          "output_type": "display_data",
          "data": {
            "image/png": "[encoded data removed]",
            "text/plain": [
              "<Figure size 720x360 with 1 Axes>"
            ]
          },
          "metadata": {
            "needs_background": "light"
          }
        }
      ]
    },
    {
      "cell_type": "markdown",
      "metadata": {
        "id": "fCUsyPIkwFIg"
      },
      "source": [
        "###4. La fecha en la que se alcanzaría dicho máximo"
      ]
    },
    {
      "cell_type": "code",
      "metadata": {
        "colab": {
          "base_uri": "https://localhost:8080/"
        },
        "id": "-77F9PC_wHIo",
        "outputId": "07488168-2821-41da-83d8-da6d16f98238"
      },
      "source": [
        "import datetime as dt\n",
        "\n",
        "h = float(max1)\n",
        "fecha = df['date_time'][0]+dt.timedelta(hours = h)\n",
        "\n",
        "print(\"La fecha del maximo sería en: {}\".format(fecha))\n"
      ],
      "execution_count": 5,
      "outputs": [
        {
          "output_type": "stream",
          "name": "stdout",
          "text": [
            "La fecha del maximo sería en: 2021-10-17 00:18:28.967354\n"
          ]
        }
      ]
    },
    {
      "cell_type": "markdown",
      "metadata": {
        "id": "hQVzSokSmqOP"
      },
      "source": [
        "\n",
        "#B) \n",
        "El período de  un pendulo de longitud $l$ oscilando a ángulos grandes  $\\alpha$, está dado por\n",
        "$$\n",
        "T=T_{0} \\frac{\\sqrt{2}}{\\pi} \\int_{0}^{\\alpha} \\frac{d \\theta}{(\\cos \\theta-\\cos \\alpha)^{\\frac{1}{2}}}\n",
        "$$\n",
        "donde\n",
        "$$\n",
        "T_{0}=2 \\pi \\sqrt{\\frac{l}{g}}\n",
        "$$\n",
        "es el período del mismo péndulo a pequeñas amplitudes. Culquier intento de evaluación numérico de esa integral debería fallar. Sin embargo, si hacemos el cambio de variable\n",
        "$$\n",
        "\\sin \\frac{\\theta}{2}=\\sin \\frac{\\alpha}{2} \\sin \\phi\n",
        "$$\n",
        "obtenemos\n",
        "$$\n",
        "T=\\frac{2 T_{0}}{\\pi} \\int_{0}^{\\frac{\\pi}{2}} \\frac{d \\phi}{\\left(1-\\sin ^{2} \\frac{\\alpha}{2} \\sin ^{2} \\phi\\right)^{\\frac{1}{2}}}\n",
        "$$\n",
        "que corresponde a una integral bien comportada. \n",
        "1. Escriba un programa que use la anterio integral para calcular el cociente  $T/T_0$ para ángulos enteros (en grados) $0^\\circ \\le\\alpha \\le 90^\\circ$.  \n",
        "1. Genere un DataFrame de pandas que contenga como columnas: la amplitud en grados, la amplitud en radianes, y el cociente $T/T_0$, \n",
        "1. Haga un gráfico de $T/T_0$ como función de $\\alpha$ (en grados). \n",
        "1. Explain the result when $\\alpha = 0.$ "
      ]
    },
    {
      "cell_type": "markdown",
      "metadata": {
        "id": "WEXMIZM2RMTl"
      },
      "source": [
        "###1. Escriba un programa que use la anterio integral para calcular el cociente "
      ]
    },
    {
      "cell_type": "code",
      "metadata": {
        "colab": {
          "base_uri": "https://localhost:8080/"
        },
        "id": "Y08BfF8MEaV9",
        "outputId": "c23a3b10-bb0d-4219-dbcc-66980bf1d20b"
      },
      "source": [
        "\n",
        "#Definimos la función \n",
        "def q(α):\n",
        "  α = np.asarray(α)    #volvemos a α un aray\n",
        "  f = lambda φ: 1/np.sqrt(1-np.sin(α/2)**2 * np.sin(φ)**2)  #Definimos la función a integrar respecto a φ\n",
        "  integ_array = np.vectorize(integrate.quad) #Vectorizamos el método de integración \n",
        "  I = integ_array(f,0,np.pi/2)[0]     #Realizamos la integral \n",
        "\n",
        "  return I*2/np.pi\n",
        "\n",
        "#Comprobamos resultados  \n",
        "Q = np.vectorize(q)\n",
        "x = np.linspace(0,np.pi/2,100)\n",
        "Q(x)"
      ],
      "execution_count": 6,
      "outputs": [
        {
          "output_type": "execute_result",
          "data": {
            "text/plain": [
              "array([1.        , 1.00001573, 1.00006294, 1.00014163, 1.00025181,\n",
              "       1.0003935 , 1.00056673, 1.00077153, 1.00100793, 1.00127597,\n",
              "       1.00157571, 1.00190719, 1.00227047, 1.00266561, 1.00309268,\n",
              "       1.00355177, 1.00404293, 1.00456628, 1.00512189, 1.00570986,\n",
              "       1.0063303 , 1.00698332, 1.00766903, 1.00838755, 1.00913901,\n",
              "       1.00992355, 1.01074131, 1.01159243, 1.01247707, 1.01339538,\n",
              "       1.01434753, 1.0153337 , 1.01635406, 1.0174088 , 1.01849811,\n",
              "       1.0196222 , 1.02078127, 1.02197553, 1.02320522, 1.02447055,\n",
              "       1.02577177, 1.02710911, 1.02848285, 1.02989323, 1.03134052,\n",
              "       1.03282501, 1.03434697, 1.03590671, 1.03750453, 1.03914074,\n",
              "       1.04081567, 1.04252964, 1.04428299, 1.04607609, 1.04790929,\n",
              "       1.04978296, 1.05169749, 1.05365326, 1.05565069, 1.05769018,\n",
              "       1.05977217, 1.0618971 , 1.06406541, 1.06627758, 1.06853407,\n",
              "       1.07083538, 1.07318201, 1.07557448, 1.07801332, 1.08049907,\n",
              "       1.08303231, 1.0856136 , 1.08824354, 1.09092274, 1.09365182,\n",
              "       1.09643144, 1.09926224, 1.10214491, 1.10508015, 1.10806868,\n",
              "       1.11111124, 1.11420858, 1.11736149, 1.12057078, 1.12383726,\n",
              "       1.12716179, 1.13054525, 1.13398853, 1.13749256, 1.14105829,\n",
              "       1.14468672, 1.14837883, 1.15213569, 1.15595835, 1.15984793,\n",
              "       1.16380556, 1.16783241, 1.1719297 , 1.17609867, 1.1803406 ])"
            ]
          },
          "metadata": {},
          "execution_count": 6
        }
      ]
    },
    {
      "cell_type": "markdown",
      "metadata": {
        "id": "6hAau_wbRTLH"
      },
      "source": [
        "###2. Genere un DataFrame de pandas que contenga como columnas: la amplitud en grados, la amplitud en radianes, y el cociente $T/T_0$, "
      ]
    },
    {
      "cell_type": "code",
      "metadata": {
        "colab": {
          "base_uri": "https://localhost:8080/",
          "height": 419
        },
        "id": "-gPIypXbr-LA",
        "outputId": "a58c7453-f980-4582-ac09-3921082469c1"
      },
      "source": [
        "#Creamos un DataFrame\n",
        "df2 = pd.DataFrame()\n",
        "#Definimos las columnas del DataFrame\n",
        "df2['α [rad]'] = x\n",
        "df2['α [Grados (°)]'] = np.rad2deg(x)\n",
        "df2['T/T0'] = Q(x)\n",
        "df2"
      ],
      "execution_count": 7,
      "outputs": [
        {
          "output_type": "execute_result",
          "data": {
            "text/html": [
              "<div>\n",
              "<style scoped>\n",
              "    .dataframe tbody tr th:only-of-type {\n",
              "        vertical-align: middle;\n",
              "    }\n",
              "\n",
              "    .dataframe tbody tr th {\n",
              "        vertical-align: top;\n",
              "    }\n",
              "\n",
              "    .dataframe thead th {\n",
              "        text-align: right;\n",
              "    }\n",
              "</style>\n",
              "<table border=\"1\" class=\"dataframe\">\n",
              "  <thead>\n",
              "    <tr style=\"text-align: right;\">\n",
              "      <th></th>\n",
              "      <th>α [rad]</th>\n",
              "      <th>α [Grados (°)]</th>\n",
              "      <th>T/T0</th>\n",
              "    </tr>\n",
              "  </thead>\n",
              "  <tbody>\n",
              "    <tr>\n",
              "      <th>0</th>\n",
              "      <td>0.000000</td>\n",
              "      <td>0.000000</td>\n",
              "      <td>1.000000</td>\n",
              "    </tr>\n",
              "    <tr>\n",
              "      <th>1</th>\n",
              "      <td>0.015867</td>\n",
              "      <td>0.909091</td>\n",
              "      <td>1.000016</td>\n",
              "    </tr>\n",
              "    <tr>\n",
              "      <th>2</th>\n",
              "      <td>0.031733</td>\n",
              "      <td>1.818182</td>\n",
              "      <td>1.000063</td>\n",
              "    </tr>\n",
              "    <tr>\n",
              "      <th>3</th>\n",
              "      <td>0.047600</td>\n",
              "      <td>2.727273</td>\n",
              "      <td>1.000142</td>\n",
              "    </tr>\n",
              "    <tr>\n",
              "      <th>4</th>\n",
              "      <td>0.063467</td>\n",
              "      <td>3.636364</td>\n",
              "      <td>1.000252</td>\n",
              "    </tr>\n",
              "    <tr>\n",
              "      <th>...</th>\n",
              "      <td>...</td>\n",
              "      <td>...</td>\n",
              "      <td>...</td>\n",
              "    </tr>\n",
              "    <tr>\n",
              "      <th>95</th>\n",
              "      <td>1.507330</td>\n",
              "      <td>86.363636</td>\n",
              "      <td>1.163806</td>\n",
              "    </tr>\n",
              "    <tr>\n",
              "      <th>96</th>\n",
              "      <td>1.523196</td>\n",
              "      <td>87.272727</td>\n",
              "      <td>1.167832</td>\n",
              "    </tr>\n",
              "    <tr>\n",
              "      <th>97</th>\n",
              "      <td>1.539063</td>\n",
              "      <td>88.181818</td>\n",
              "      <td>1.171930</td>\n",
              "    </tr>\n",
              "    <tr>\n",
              "      <th>98</th>\n",
              "      <td>1.554930</td>\n",
              "      <td>89.090909</td>\n",
              "      <td>1.176099</td>\n",
              "    </tr>\n",
              "    <tr>\n",
              "      <th>99</th>\n",
              "      <td>1.570796</td>\n",
              "      <td>90.000000</td>\n",
              "      <td>1.180341</td>\n",
              "    </tr>\n",
              "  </tbody>\n",
              "</table>\n",
              "<p>100 rows × 3 columns</p>\n",
              "</div>"
            ],
            "text/plain": [
              "     α [rad]  α [Grados (°)]      T/T0\n",
              "0   0.000000        0.000000  1.000000\n",
              "1   0.015867        0.909091  1.000016\n",
              "2   0.031733        1.818182  1.000063\n",
              "3   0.047600        2.727273  1.000142\n",
              "4   0.063467        3.636364  1.000252\n",
              "..       ...             ...       ...\n",
              "95  1.507330       86.363636  1.163806\n",
              "96  1.523196       87.272727  1.167832\n",
              "97  1.539063       88.181818  1.171930\n",
              "98  1.554930       89.090909  1.176099\n",
              "99  1.570796       90.000000  1.180341\n",
              "\n",
              "[100 rows x 3 columns]"
            ]
          },
          "metadata": {},
          "execution_count": 7
        }
      ]
    },
    {
      "cell_type": "markdown",
      "metadata": {
        "id": "yX--ByruRmVN"
      },
      "source": [
        "###3. Haga un gráfico de $T/T_0$ como función de $\\alpha$ (en grados). "
      ]
    },
    {
      "cell_type": "code",
      "metadata": {
        "colab": {
          "base_uri": "https://localhost:8080/",
          "height": 351
        },
        "id": "izLipgZssD3M",
        "outputId": "d181c197-6b62-497c-88ec-6e6f3ad0acb7"
      },
      "source": [
        "#Grafico\n",
        "plt.figure(figsize = (10,5))\n",
        "plt.title(' T/T0 vs α',size=14)\n",
        "plt.plot(df2['α [Grados (°)]'],df2['T/T0'],'c',label = 'T/T0(α)',color=\"magenta\")\n",
        "plt.ylabel('T/T0')\n",
        "plt.xlabel('α en Grados (°)')\n",
        "plt.legend()\n",
        "plt.show()"
      ],
      "execution_count": 8,
      "outputs": [
        {
          "output_type": "display_data",
          "data": {
            "image/png": "[encoded data removed]",
            "text/plain": [
              "<Figure size 720x360 with 1 Axes>"
            ]
          },
          "metadata": {
            "needs_background": "light"
          }
        }
      ]
    },
    {
      "cell_type": "markdown",
      "metadata": {
        "id": "NBcNUgSvQwDd"
      },
      "source": [
        "###4. Explain the result when $\\alpha = 0.$ \n",
        "\n",
        "cuando $\\alpha$ tiende a 0 entonces $sin^2(\\frac{\\alpha}{2})$ tiende a cero la expresion \n",
        "\n",
        "$$\n",
        "T=\\frac{2 T_{0}}{\\pi} \\int_{0}^{\\frac{\\pi}{2}} \\frac{d \\phi}{\\left(1-\\sin ^{2} \\frac{\\alpha}{2} \\sin ^{2} \\phi\\right)^{\\frac{1}{2}}}\n",
        "$$\n",
        "\n",
        "nos queda como \n",
        "\n",
        "$$\n",
        "T=\\frac{2 T_{0}}{\\pi} \\int_{0}^{\\frac{\\pi}{2}} \\frac{d \\phi}{\\left(1\\right)^{\\frac{1}{2}}}\n",
        "$$\n",
        "\n",
        "$$\n",
        "T=\\frac{2 T_{0}}{\\pi} (\\frac{\\pi}{2}-0)\n",
        "$$\n",
        "\n",
        "$$\n",
        "T=\\frac{2 T_{0}}{\\pi}\\frac{\\pi}{2}\n",
        "$$\n",
        "\n",
        "Luego $$T = T_{0}$$\n",
        "\n",
        "y así $$\\frac{T}{T_{0}} = 1 $$"
      ]
    }
  ]
}