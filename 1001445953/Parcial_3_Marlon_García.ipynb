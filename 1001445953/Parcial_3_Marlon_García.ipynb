{
  "nbformat": 4,
  "nbformat_minor": 0,
  "metadata": {
    "colab": {
      "name": "Parcial_3_Marlon_García.ipynb",
      "provenance": []
    },
    "kernelspec": {
      "name": "python3",
      "display_name": "Python 3"
    },
    "language_info": {
      "name": "python"
    }
  },
  "cells": [
    {
      "cell_type": "markdown",
      "metadata": {
        "id": "tjJetu6O0nPi"
      },
      "source": [
        "# Casas-Ibarra\n",
        "Let $\\boldsymbol{A}$ $3\\times3$ a symmetric non-diagonal matrix with the following set of eigenvalues and eigenvectors:\n"
      ]
    },
    {
      "cell_type": "markdown",
      "metadata": {
        "id": "6gj3D84x0pPC"
      },
      "source": [
        "### Eigenvalues\n",
        "The normal ordering of the absolute value of the eigenvalues is $m_1<m_2<m_3$. Each eigenvalue is expressed in units of eV, which just of an energy unit.\n",
        "### Eigenvectors\n",
        "The eigenvectors in the normal ordering are defined by\n",
        "$$\n",
        "\\boldsymbol{U}^T \\boldsymbol{A} \\boldsymbol{U}=\n",
        "\\begin{pmatrix}\n",
        "m_1& 0 & 0\\\\\n",
        "0 & m_2& 0\\\\\n",
        "0 & 0 & m_3\\\\\n",
        "\\end{pmatrix}.\n",
        "$$\n",
        "The unitary matrix can be parameterized in terms of three mixing angles, $\\theta_{23}$ $\\theta_{13}$, $\\theta_{12}$, such that\n",
        "$$\n",
        "\\boldsymbol{U}=\\left(\\begin{array}{ccc}\n",
        "1 & 0 & 0 \\\\\n",
        "0 & c_{23} & s_{23} \\\\\n",
        "0 & -s_{23} & c_{23}\n",
        "\\end{array}\\right) \\cdot\\left(\\begin{array}{ccc}\n",
        "c_{13} & 0 & s_{13}  \\\\\n",
        "0 & 1 & 0 \\\\\n",
        "-s_{13}  & 0 & c_{13}\n",
        "\\end{array}\\right) \\cdot\\left(\\begin{array}{ccc}\n",
        "c_{12} & s_{12} & 0 \\\\\n",
        "-s_{12} & c_{12} & 0 \\\\\n",
        "0 & 0 & 1\n",
        "\\end{array}\\right),\n",
        "$$\n",
        "where $c_{i j} \\equiv \\cos \\theta_{i j}$ and $s_{i j} \\equiv \\sin \\theta_{i j}$. Thus, we can write $\\boldsymbol{U}$ as\n",
        "$$\n",
        "\\boldsymbol{U}=\\left(\\begin{array}{ccc}c_{12} c_{13} & s_{12} c_{13} & s_{13}  \\\\ -s_{12} c_{23}-c_{12} s_{13} s_{23}& c_{12} c_{23}-s_{12} s_{13} s_{23}  & c_{13} s_{23} \\\\ s_{12} s_{23}-c_{12} s_{13} c_{23} & -c_{12} s_{23}-s_{12} s_{13} c_{23}  & c_{13} c_{23}\\end{array}\\right)\n",
        "$$\n",
        "so that\n",
        "$$\n",
        "\\boldsymbol{U}_1=\\begin{pmatrix}U_{e1}\\\\ U_{\\mu 1}\\\\ U_{\\tau 1}\\end{pmatrix}=\\begin{pmatrix}\n",
        "c_{12} c_{13} \\\\\n",
        "-s_{12} c_{23}-c_{12} s_{13} s_{23}  \\\\\n",
        "s_{12} s_{23}-c_{12} s_{13} c_{23} \n",
        "\\end{pmatrix},\\qquad \n",
        "\\boldsymbol{U}_2=\\begin{pmatrix}U_{e2}\\\\ U_{\\mu 2}\\\\ U_{\\tau 2}\\end{pmatrix}=\\begin{pmatrix}\n",
        "s_{12} c_{13} \\\\\n",
        "c_{12} c_{23}-s_{12} s_{13} s_{23}  \\\\\n",
        "-c_{12} s_{23}-s_{12} s_{13} c_{23} \n",
        "\\end{pmatrix},\\qquad\n",
        "\\boldsymbol{U}_3=\\begin{pmatrix}U_{e3}\\\\ U_{\\mu 3}\\\\ U_{\\tau 3}\\end{pmatrix}=\\begin{pmatrix}\n",
        "s_{13}  \\\\\n",
        "c_{13} s_{23} \\\\\n",
        "c_{13} c_{23}\n",
        "\\end{pmatrix}\n",
        "$$\n",
        "\n",
        "### Data\n",
        "Use the _central values_  of the following table but ignoring $\\delta_{CP}$ (In the previous equations was fixed to $\\delta_{CP}=0$). __Hint__: take care of the denominator in the first colum.\n",
        "\n",
        "![IMAGE](https://github.com/restrepo/ComputationalMethods/raw/master/material/figures/nu.png)\n",
        "\n",
        "where $\\Delta m^2_{ij}=m^2_i-m^2_j$ is the squared mass difference between eigenvalues $i$ and $j$; in units of $\\text{eV}^2$."
      ]
    },
    {
      "cell_type": "markdown",
      "metadata": {
        "id": "7J6ZEuQh0v6p"
      },
      "source": [
        "### Casas-Ibarra parameterization\n",
        "We can assumme without lost of generality that $\\boldsymbol{A}$ can be generated from a matrix $\\boldsymbol{Y}$ such that\n",
        "$$\n",
        "\\boldsymbol{A}=\\boldsymbol{Y}^{\\operatorname{T}}\\boldsymbol{Y}\n",
        "$$\n",
        "\n",
        "The matrix $\\boldsymbol{Y}$ can be parameterized in terms of an arbitray orthogonal $3\\times 3$ matrix, $\\boldsymbol{R}$, as\n",
        "$$\n",
        "\\boldsymbol{Y}=\\boldsymbol{R} \\boldsymbol{D}_{\\sqrt{m}} \\boldsymbol{U}^{\\operatorname{T}}\n",
        "$$\n",
        "\n",
        "\n",
        "* $R$ is an orthogonal $3\\times 3$ matrix, with three rotation angles $\\alpha_{ij}$ between $(0,2\\pi)$\n",
        "$$\n",
        "\\boldsymbol{R}=\\left(\\begin{array}{ccc}c^\\alpha_{12} c^\\alpha_{13} & s^\\alpha_{12} c^\\alpha_{13} & s^\\alpha_{13}  \\\\ -s^\\alpha_{12} c^\\alpha_{23}-c^\\alpha_{12} s^\\alpha_{13} s^\\alpha_{23}& c^\\alpha_{12} c^\\alpha_{23}-s^\\alpha_{12} s^\\alpha_{13} s^\\alpha_{23}  & c^\\alpha_{13} s^\\alpha_{23} \\\\ s^\\alpha_{12} s^\\alpha_{23}-c^\\alpha_{12} s^\\alpha_{13} c^\\alpha_{23} & -c^\\alpha_{12} s^\\alpha_{23}-s^\\alpha_{12} s^\\alpha_{13} c^\\alpha_{23}  & c^\\alpha_{13} c^\\alpha_{23}\\end{array}\\right)\n",
        "$$\n",
        "where $c^\\alpha_{i j} \\equiv \\cos \\alpha_{i j}$ and $s^\\alpha_{i j} \\equiv \\sin \\alpha_{i j}$.\n",
        "\n",
        "* $$\n",
        " \\boldsymbol{D}_{\\sqrt{m}}=\\operatorname{diag}\\left(\\sqrt{m_1},\\sqrt{m_2},\\sqrt{m_3}\\right)\n",
        "$$"
      ]
    },
    {
      "cell_type": "markdown",
      "metadata": {
        "id": "DEhsErSX06rZ"
      },
      "source": [
        "### Problem\n",
        "1. Choose a random value for $m_1$ between $10^{-9}\\ \\text{eV}$ and $10^{-4}\\ \\text{eV}$. Note that because of the wide range, the random variation  must be in the exponents. Obtain the corresponding $m_2$ and $m_3$ with the proper normal ordering.\n",
        "1. Choose random values for $\\alpha_{ij}$  between $(0,2\\pi)$\n",
        "1. Obtain $\\boldsymbol{Y}$\n",
        "1. Check that the generated $\\boldsymbol{A}$ has the proper eigenvalues and eigenvectors\n",
        "1. Check that the eigenvalues of $\\boldsymbol{Y}$ correspond to the square root of the eigenvalues of $\\boldsymbol{A}$ and explain why."
      ]
    },
    {
      "cell_type": "code",
      "metadata": {
        "id": "y8BXku0f0_Cp"
      },
      "source": [
        "#librerias\n",
        "import numpy as np\n",
        "import sympy\n",
        "import scipy.linalg as la\n",
        "sympy.init_printing()"
      ],
      "execution_count": 1,
      "outputs": []
    },
    {
      "cell_type": "code",
      "metadata": {
        "colab": {
          "base_uri": "https://localhost:8080/"
        },
        "id": "A0IpWAUmA1Xq",
        "outputId": "bc0273b8-94e0-4895-e006-25e80c27120b"
      },
      "source": [
        "# Punto 1\n",
        "m1 = np.random.uniform(10**-9,10**-4)\n",
        "\n",
        "Δm21 = 7.39*(10**-5)\n",
        "Δm32 = 2.449*(10**-3)\n",
        "\n",
        "m2 = np.sqrt(Δm21 + m1**2)\n",
        "m3 = np.sqrt(Δm32 + m2**2)\n",
        "\n",
        "print(m1,m2,m3)"
      ],
      "execution_count": 2,
      "outputs": [
        {
          "output_type": "stream",
          "name": "stdout",
          "text": [
            "8.871687938301744e-05 0.008596968691619591 0.05022855632690121\n"
          ]
        }
      ]
    },
    {
      "cell_type": "code",
      "metadata": {
        "colab": {
          "base_uri": "https://localhost:8080/",
          "height": 113
        },
        "id": "IZRrJQSjNFdF",
        "outputId": "eba9b23b-7ae6-4c97-e72f-99aebafbc8c1"
      },
      "source": [
        "#Punto 2\n",
        "\n",
        "a = np.random.uniform(0,2*np.pi,3)                                          # Valores aleatorios entre 0 y pi\n",
        "\n",
        "c12 = np.cos(a[0])                                                          #\n",
        "c13 = np.cos(a[1])                                                          #\n",
        "c23 = np.cos(a[2])                                                          #   Senos y cosenos para la \n",
        "s12 = np.sin(a[0])                                                          #   Matriz R\n",
        "s13 = np.sin(a[1])                                                          #\n",
        "s23 = np.sin(a[2])                                                          #\n",
        "\n",
        "R = np.matrix([[c12*c13, s12*c13, s13],                                     #\n",
        "               [-s12*c23-c12*s13*s23, c12*c23-s12*s13*s23, c13*s23],        # Matriz R\n",
        "               [s12*s23-c12*s13*c23, -c12*s23-s12*s13*c23, c13*c23]])       #\n",
        "\n",
        "D = np.diag([np.sqrt(m1),np.sqrt(m2),np.sqrt(m3)])\n",
        "\n",
        "ta = np.array([33.82, 48.3, 8.61])\n",
        "t = np.deg2rad(ta)\n",
        "\n",
        "c12 = np.cos(t[0])                                                          #\n",
        "c13 = np.cos(t[1])                                                          #\n",
        "c23 = np.cos(t[2])                                                          #   Senos y cosenos para la \n",
        "s12 = np.sin(t[0])                                                          #   Matriz U\n",
        "s13 = np.sin(t[1])                                                          #\n",
        "s23 = np.sin(t[2])                                                          #\n",
        "\n",
        "U = np.matrix([[c12*c13, s12*c13, s13],                                     #\n",
        "               [-s12*c23-c12*s13*s23, c12*c23-s12*s13*s23, c13*s23],        # Matriz U\n",
        "               [s12*s23-c12*s13*c23, -c12*s23-s12*s13*c23, c13*c23]])       #\n",
        "\n",
        "UT = np.transpose(U)                                                        # Matriz U transpuesta\n",
        "\n",
        "\n",
        "\n",
        "#Punto 3\n",
        "\n",
        "Y = R*D*UT                                                                  # Matriz Y \n",
        "print(\"La matriz Y esta dada por: \\n\")\n",
        "sympy.Matrix( Y )"
      ],
      "execution_count": 3,
      "outputs": [
        {
          "output_type": "stream",
          "name": "stdout",
          "text": [
            "La matriz Y esta dada por: \n",
            "\n"
          ]
        },
        {
          "output_type": "execute_result",
          "data": {
            "text/latex": "$\\displaystyle \\left[\\begin{matrix}0.158135809531013 & 0.018342342302542 & 0.136347773094114\\\\-0.064141946379706 & -0.0417822615887097 & -0.0312664532199778\\\\0.00924017040156565 & 0.0583782270929785 & -0.0681851521933961\\end{matrix}\\right]$",
            "text/plain": [
              "⎡ 0.158135809531013    0.018342342302542    0.136347773094114 ⎤\n",
              "⎢                                                             ⎥\n",
              "⎢-0.064141946379706   -0.0417822615887097  -0.0312664532199778⎥\n",
              "⎢                                                             ⎥\n",
              "⎣0.00924017040156565  0.0583782270929785   -0.0681851521933961⎦"
            ]
          },
          "metadata": {},
          "execution_count": 3
        }
      ]
    },
    {
      "cell_type": "code",
      "metadata": {
        "colab": {
          "base_uri": "https://localhost:8080/"
        },
        "id": "KSqNPi5TaIgA",
        "outputId": "ab1149d1-89a5-407a-836e-ec90be5994fc"
      },
      "source": [
        "print(U)"
      ],
      "execution_count": 4,
      "outputs": [
        {
          "output_type": "stream",
          "name": "stdout",
          "text": [
            "[[ 0.55266688  0.37025767  0.74663818]\n",
            " [-0.64317685  0.75921362  0.09959025]\n",
            " [-0.52998382 -0.53526063  0.65773339]]\n"
          ]
        }
      ]
    },
    {
      "cell_type": "code",
      "metadata": {
        "colab": {
          "base_uri": "https://localhost:8080/",
          "height": 433
        },
        "id": "y2DU17WNWTWs",
        "outputId": "5bfe1768-fdb7-4d1a-9f6f-b21e81c90cd9"
      },
      "source": [
        "#Punto 4 \n",
        "\n",
        "YT = np.transpose(Y)                  # Matriz Y transpuesta\n",
        "\n",
        "A = YT * Y                            #Matriz A\n",
        "\n",
        "V, U = la.eig(A)                      #Se calculan los vectores y autovalores \n",
        "\n",
        "print(\"La matriz A esta dada por: \\n\")\n",
        "sympy.pprint(sympy.Matrix(A))\n",
        "\n",
        "u = np.asmatrix(U)                    #Matriz con los autovectores\n",
        "v = np.diag(V, 0)                     #matriz diagonal con los autovalores\n",
        "\n",
        "print(\"\\nMatriz de los autovectores: \\n\")\n",
        "sympy.pprint(sympy.Matrix(u))\n",
        "\n",
        "print(\"\\nlos autovalores obenitos anteriormente son: \", m1,m2,m3)\n",
        "print(\"\\nMatriz de los autovalores: \\n\")\n",
        "sympy.Matrix(v)"
      ],
      "execution_count": 5,
      "outputs": [
        {
          "output_type": "stream",
          "name": "stdout",
          "text": [
            "La matriz A esta dada por: \n",
            "\n",
            "⎡0.0292065042904558   0.0061200014972337     0.0229369142167843  ⎤\n",
            "⎢                                                                ⎥\n",
            "⎢0.0061200014972337   0.00549021630313035   -0.000173207645445547⎥\n",
            "⎢                                                                ⎥\n",
            "⎣0.0229369142167843  -0.000173207645445547   0.0242175213043177  ⎦\n",
            "\n",
            "Matriz de los autovectores: \n",
            "\n",
            "⎡-0.746638182285391   -0.552666882572449  -0.370257669280756⎤\n",
            "⎢                                                           ⎥\n",
            "⎢-0.0995902472005913  0.643176852657656   -0.759213618731854⎥\n",
            "⎢                                                           ⎥\n",
            "⎣-0.657733386271438    0.52998382344468   0.535260627611322 ⎦\n",
            "\n",
            "los autovalores obenitos anteriormente son:  8.871687938301744e-05 0.008596968691619591 0.05022855632690121\n",
            "\n",
            "Matriz de los autovalores: \n",
            "\n"
          ]
        },
        {
          "output_type": "execute_result",
          "data": {
            "text/latex": "$\\displaystyle \\left[\\begin{matrix}0.0502285563269012 & 0 & 0\\\\0 & 8.87168793830208 \\cdot 10^{-5} & 0\\\\0 & 0 & 0.00859696869161959\\end{matrix}\\right]$",
            "text/plain": [
              "⎡0.0502285563269012           0                    0         ⎤\n",
              "⎢                                                            ⎥\n",
              "⎢        0           8.87168793830208e-5           0         ⎥\n",
              "⎢                                                            ⎥\n",
              "⎣        0                    0           0.00859696869161959⎦"
            ]
          },
          "metadata": {},
          "execution_count": 5
        }
      ]
    },
    {
      "cell_type": "code",
      "metadata": {
        "colab": {
          "base_uri": "https://localhost:8080/"
        },
        "id": "is7bvqeIZ78K",
        "outputId": "0a217113-2698-4a6f-a431-2e9d9931953b"
      },
      "source": [
        "#Punto 5 \n",
        "\n",
        "m, n = la.eig(Y)          # Autovalores y vectores de Y\n",
        "\n",
        "print(\"Autovalores de Y: \\n\")\n",
        "print(np.abs(m))          #Autovalores de Y\n",
        "print(\"\\nRaiz cuadrada de los autovalores de A: \\n\")\n",
        "print(np.abs(np.sqrt(V))) #Raiz cuadrada de los autovalores de A\n",
        "print(\"\\n\")"
      ],
      "execution_count": 6,
      "outputs": [
        {
          "output_type": "stream",
          "name": "stdout",
          "text": [
            "Autovalores de Y: \n",
            "\n",
            "[0.14543014 0.01670735 0.0805544 ]\n",
            "\n",
            "Raiz cuadrada de los autovalores de A: \n",
            "\n",
            "[0.22411728 0.00941896 0.09271984]\n",
            "\n",
            "\n"
          ]
        }
      ]
    },
    {
      "cell_type": "code",
      "metadata": {
        "colab": {
          "base_uri": "https://localhost:8080/"
        },
        "id": "HPavggHBh8de",
        "outputId": "3fe6f787-7002-4eac-e935-6a87a2d7d83f"
      },
      "source": [
        "print(np.linalg.eigvals(A)**0.5)\n",
        "print(np.linalg.eigvals(Y))"
      ],
      "execution_count": 7,
      "outputs": [
        {
          "output_type": "stream",
          "name": "stdout",
          "text": [
            "[0.22411728 0.00941896 0.09271984]\n",
            "[ 0.14543014 -0.01670735 -0.0805544 ]\n"
          ]
        }
      ]
    },
    {
      "cell_type": "code",
      "metadata": {
        "colab": {
          "base_uri": "https://localhost:8080/"
        },
        "id": "L6yJgxtlmDgy",
        "outputId": "0d604a4e-8d82-419f-8910-e7d2f6cc3ee2"
      },
      "source": [
        "np.array(sorted([np.linalg.eigvals(A)]))**0.5-np.array(sorted(np.linalg.eigvals(Y)))"
      ],
      "execution_count": 8,
      "outputs": [
        {
          "output_type": "execute_result",
          "data": {
            "text/plain": [
              "array([[ 0.30467168,  0.02612631, -0.0527103 ]])"
            ]
          },
          "metadata": {},
          "execution_count": 8
        }
      ]
    },
    {
      "cell_type": "markdown",
      "metadata": {
        "id": "lIUm5gU4oQhj"
      },
      "source": [
        "Aunque no dan lo mismo, si dan parecidas con cierto margen de error\n",
        "\n",
        "Ahora, que dieran iguales sería correcto pues $A = Y^T Y$, luego\n",
        "\n",
        "$diag(m_i) = UAU^T = UY^TYU^t = diag(eigvals(Y^T))diag(eigvals(Y))=diag(eigvals(Y)^2) $"
      ]
    }
  ]
}