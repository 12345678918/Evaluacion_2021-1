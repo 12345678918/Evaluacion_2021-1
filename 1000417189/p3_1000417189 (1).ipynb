{
  "nbformat": 4,
  "nbformat_minor": 0,
  "metadata": {
    "kernelspec": {
      "display_name": "Python 3 (ipykernel)",
      "language": "python",
      "name": "python3"
    },
    "language_info": {
      "codemirror_mode": {
        "name": "ipython",
        "version": 3
      },
      "file_extension": ".py",
      "mimetype": "text/x-python",
      "name": "python",
      "nbconvert_exporter": "python",
      "pygments_lexer": "ipython3",
      "version": "3.7.3"
    },
    "colab": {
      "name": "p3_1000417189.ipynb",
      "provenance": []
    }
  },
  "cells": [
    {
      "cell_type": "markdown",
      "metadata": {
        "id": "40WhQJy2EWqx"
      },
      "source": [
        "# Casas-Ibarra\n",
        "Let $\\boldsymbol{A}$ $3\\times3$ a symmetric non-diagonal matrix with the following set of eigenvalues and eigenvectors:\n"
      ]
    },
    {
      "cell_type": "markdown",
      "metadata": {
        "id": "cwKjVMtNvgl0"
      },
      "source": [
        "____"
      ]
    },
    {
      "cell_type": "markdown",
      "metadata": {
        "id": "G-uQDCOkvgl0"
      },
      "source": [
        "### Eigenvalues\n",
        "The normal ordering of the absolute value of the eigenvalues is $m_1<m_2<m_3$. Each eigenvalue is expressed in units of eV, which just of an energy unit.\n",
        "### Eigenvectors\n",
        "The eigenvectors in the normal ordering are defined by\n",
        "$$\n",
        "\\boldsymbol{U}^T \\boldsymbol{A} \\boldsymbol{U}=\n",
        "\\begin{pmatrix}\n",
        "m_1& 0 & 0\\\\\n",
        "0 & m_2& 0\\\\\n",
        "0 & 0 & m_3\\\\\n",
        "\\end{pmatrix}.\n",
        "$$\n",
        "The unitary matrix can be parameterized in terms of three mixing angles, $\\theta_{23}$ $\\theta_{13}$, $\\theta_{12}$, such that\n",
        "$$\n",
        "\\boldsymbol{U}=\\left(\\begin{array}{ccc}\n",
        "1 & 0 & 0 \\\\\n",
        "0 & c_{23} & s_{23} \\\\\n",
        "0 & -s_{23} & c_{23}\n",
        "\\end{array}\\right) \\cdot\\left(\\begin{array}{ccc}\n",
        "c_{13} & 0 & s_{13}  \\\\\n",
        "0 & 1 & 0 \\\\\n",
        "-s_{13}  & 0 & c_{13}\n",
        "\\end{array}\\right) \\cdot\\left(\\begin{array}{ccc}\n",
        "c_{12} & s_{12} & 0 \\\\\n",
        "-s_{12} & c_{12} & 0 \\\\\n",
        "0 & 0 & 1\n",
        "\\end{array}\\right),\n",
        "$$\n",
        "where $c_{i j} \\equiv \\cos \\theta_{i j}$ and $s_{i j} \\equiv \\sin \\theta_{i j}$. Thus, we can write $\\boldsymbol{U}$ as\n",
        "$$\n",
        "\\boldsymbol{U}=\\left(\\begin{array}{ccc}c_{12} c_{13} & s_{12} c_{13} & s_{13}  \\\\ -s_{12} c_{23}-c_{12} s_{13} s_{23}& c_{12} c_{23}-s_{12} s_{13} s_{23}  & c_{13} s_{23} \\\\ s_{12} s_{23}-c_{12} s_{13} c_{23} & -c_{12} s_{23}-s_{12} s_{13} c_{23}  & c_{13} c_{23}\\end{array}\\right)\n",
        "$$\n",
        "so that\n",
        "$$\n",
        "\\boldsymbol{U}_1=\\begin{pmatrix}U_{e1}\\\\ U_{\\mu 1}\\\\ U_{\\tau 1}\\end{pmatrix}=\\begin{pmatrix}\n",
        "c_{12} c_{13} \\\\\n",
        "-s_{12} c_{23}-c_{12} s_{13} s_{23}  \\\\\n",
        "s_{12} s_{23}-c_{12} s_{13} c_{23} \n",
        "\\end{pmatrix},\\qquad \n",
        "\\boldsymbol{U}_2=\\begin{pmatrix}U_{e2}\\\\ U_{\\mu 2}\\\\ U_{\\tau 2}\\end{pmatrix}=\\begin{pmatrix}\n",
        "s_{12} c_{13} \\\\\n",
        "c_{12} c_{23}-s_{12} s_{13} s_{23}  \\\\\n",
        "-c_{12} s_{23}-s_{12} s_{13} c_{23} \n",
        "\\end{pmatrix},\\qquad\n",
        "\\boldsymbol{U}_3=\\begin{pmatrix}U_{e3}\\\\ U_{\\mu 3}\\\\ U_{\\tau 3}\\end{pmatrix}=\\begin{pmatrix}\n",
        "s_{13}  \\\\\n",
        "c_{13} s_{23} \\\\\n",
        "c_{13} c_{23}\n",
        "\\end{pmatrix}\n",
        "$$\n",
        "\n",
        "### Data\n",
        "Use the _central values_  of the following table but ignoring $\\delta_{CP}$ (In the previous equations was fixed to $\\delta_{CP}=0$). __Hint__: take care of the denominator in the first colum.\n",
        "\n",
        "![IMAGE](https://github.com/restrepo/ComputationalMethods/raw/master/material/figures/nu.png)\n",
        "\n",
        "where $\\Delta m^2_{ij}=m^2_i-m^2_j$ is the squared mass difference between eigenvalues $i$ and $j$; in units of $\\text{eV}^2$.\n"
      ]
    },
    {
      "cell_type": "markdown",
      "metadata": {
        "id": "bnSCrqmSvgl1"
      },
      "source": [
        "### Casas-Ibarra parameterization\n",
        "We can assumme without lost of generality that $\\boldsymbol{A}$ can be generated from a matrix $\\boldsymbol{Y}$ such that\n",
        "$$\n",
        "\\boldsymbol{A}=\\boldsymbol{Y}^{\\operatorname{T}}\\boldsymbol{Y}\n",
        "$$\n",
        "\n",
        "The matrix $\\boldsymbol{Y}$ can be parameterized in terms of an arbitray orthogonal $3\\times 3$ matrix, $\\boldsymbol{R}$, as\n",
        "$$\n",
        "\\boldsymbol{Y}=\\boldsymbol{R} \\boldsymbol{D}_{\\sqrt{m}} \\boldsymbol{U}^{\\operatorname{T}}\n",
        "$$\n",
        "\n",
        "\n",
        "* $R$ is an orthogonal $3\\times 3$ matrix, with three rotation angles $\\alpha_{ij}$ between $(0,2\\pi)$\n",
        "$$\n",
        "\\boldsymbol{R}=\\left(\\begin{array}{ccc}c^\\alpha_{12} c^\\alpha_{13} & s^\\alpha_{12} c^\\alpha_{13} & s^\\alpha_{13}  \\\\ -s^\\alpha_{12} c^\\alpha_{23}-c^\\alpha_{12} s^\\alpha_{13} s^\\alpha_{23}& c^\\alpha_{12} c^\\alpha_{23}-s^\\alpha_{12} s^\\alpha_{13} s^\\alpha_{23}  & c^\\alpha_{13} s^\\alpha_{23} \\\\ s^\\alpha_{12} s^\\alpha_{23}-c^\\alpha_{12} s^\\alpha_{13} c^\\alpha_{23} & -c^\\alpha_{12} s^\\alpha_{23}-s^\\alpha_{12} s^\\alpha_{13} c^\\alpha_{23}  & c^\\alpha_{13} c^\\alpha_{23}\\end{array}\\right)\n",
        "$$\n",
        "where $c^\\alpha_{i j} \\equiv \\cos \\alpha_{i j}$ and $s^\\alpha_{i j} \\equiv \\sin \\alpha_{i j}$.\n",
        "\n",
        "* $$\n",
        " \\boldsymbol{D}_{\\sqrt{m}}=\\operatorname{diag}\\left(\\sqrt{m_1},\\sqrt{m_2},\\sqrt{m_3}\\right)\n",
        "$$"
      ]
    },
    {
      "cell_type": "markdown",
      "metadata": {
        "id": "Iqj7EWSPvgl3"
      },
      "source": [
        "### Problem\n",
        "1. Choose a random value for $m_1$ between $10^{-9}\\ \\text{eV}$ and $10^{-4}\\ \\text{eV}$. Note that because of the wide range, the random variation  must be in the exponents. Obtain the corresponding $m_2$ and $m_3$ with the proper normal ordering.\n",
        "1. Choose random values for $\\alpha_{ij}$  between $(0,2\\pi)$\n",
        "1. Obtain $\\boldsymbol{Y}$\n",
        "1. Check that the generated $\\boldsymbol{A}$ has the proper eigenvalues and eigenvectors\n",
        "1. Check that the eigenvalues of $\\boldsymbol{Y}$ correspond to the square root of the eigenvalues of $\\boldsymbol{A}$ and explain why."
      ]
    },
    {
      "cell_type": "code",
      "metadata": {
        "id": "CI7CJzir868N"
      },
      "source": [
        "import numpy as np\n",
        "import random as rd"
      ],
      "execution_count": 1,
      "outputs": []
    },
    {
      "cell_type": "code",
      "metadata": {
        "id": "2J0n-8Rfvqks"
      },
      "source": [
        "#th=th12,th23,th13\n",
        "th = (0,np.deg2rad(33.82), np.deg2rad(48.3), np.deg2rad(8.61))\n",
        "#s=s12,s23,s13\n",
        "s=np.sin(th)\n",
        "c=np.cos(th)\n",
        "\n",
        "m1=10**rd.randrange(-9,-4)\n",
        "\n",
        "#def deltas\n",
        "dm21=7.39e-05\n",
        "dm32=2.449e-03\n",
        "#def U\n",
        "U=[[c[1]*c[3], s[1]*c[3], s[3]],\n",
        "   [-s[1]*c[2]-c[1]*s[3]*s[2], c[1]*c[2]-s[1]*s[3]*s[2], c[3]*s[2]],\n",
        "   [s[1]*s[2]-c[1]*s[3]*c[2], -c[1]*s[2]-s[1]*s[3]*c[2], c[3]*c[2]]]\n",
        "Ut=np.transpose(U)"
      ],
      "execution_count": 2,
      "outputs": []
    },
    {
      "cell_type": "code",
      "metadata": {
        "colab": {
          "base_uri": "https://localhost:8080/"
        },
        "id": "Syslhh9h898G",
        "outputId": "44ebfff7-289d-400d-9119-de5661259a8f"
      },
      "source": [
        "print(Ut)\n",
        "print('\\n',m1)"
      ],
      "execution_count": 3,
      "outputs": [
        {
          "output_type": "stream",
          "name": "stdout",
          "text": [
            "[[ 0.82142745 -0.46312144  0.33282949]\n",
            " [ 0.55031308  0.49045305 -0.67573021]\n",
            " [ 0.14970791  0.73822377  0.65773339]]\n",
            "\n",
            " 1e-05\n"
          ]
        }
      ]
    },
    {
      "cell_type": "code",
      "metadata": {
        "colab": {
          "base_uri": "https://localhost:8080/"
        },
        "id": "HIATy4HtD6it",
        "outputId": "7f21608d-1b4a-459e-c12d-38c8a0893898"
      },
      "source": [
        "#def m2, m3\n",
        "m2=(dm21+m1**2)**0.5\n",
        "m3=(dm32+m2**2)**0.5\n",
        "print(m2, m3)"
      ],
      "execution_count": 4,
      "outputs": [
        {
          "output_type": "stream",
          "name": "stdout",
          "text": [
            "0.00859651673644622 0.05022847897358629\n"
          ]
        }
      ]
    },
    {
      "cell_type": "code",
      "metadata": {
        "id": "WRnvQqodCE7E"
      },
      "source": [
        "#ángulos random alphas\n",
        "tha=[0]\n",
        "for i in range(3):\n",
        "  tha.append(rd.random()*2*np.pi)\n",
        "tha=tuple(tha)"
      ],
      "execution_count": 5,
      "outputs": []
    },
    {
      "cell_type": "code",
      "metadata": {
        "colab": {
          "base_uri": "https://localhost:8080/"
        },
        "id": "QJ1RBVtyCY4N",
        "outputId": "7774370d-18de-4e10-9206-ca515526ffd3"
      },
      "source": [
        "s=np.sin(tha)\n",
        "c=np.cos(tha)\n",
        "#reciclo la definición de U para R\n",
        "R=np.array([[c[1]*c[3], s[1]*c[3], s[3]],\n",
        "   [-s[1]*c[2]-c[1]*s[3]*s[2], c[1]*c[2]-s[1]*s[3]*s[2], c[3]*s[2]],\n",
        "   [s[1]*s[2]-c[1]*s[3]*c[2], -c[1]*s[2]-s[1]*s[3]*c[2], c[3]*c[2]]])\n",
        "#def D\n",
        "D=np.diag([m1**0.5,m2**0.5,m3**0.5])\n",
        "\n",
        "print(D)\n",
        "print(R)"
      ],
      "execution_count": 6,
      "outputs": [
        {
          "output_type": "stream",
          "name": "stdout",
          "text": [
            "[[0.00316228 0.         0.        ]\n",
            " [0.         0.0927174  0.        ]\n",
            " [0.         0.         0.22411711]]\n",
            "[[-0.71960797  0.55666548 -0.41507578]\n",
            " [-0.69251448 -0.5315447   0.48773347]\n",
            " [ 0.05087306  0.63842288  0.76800271]]\n"
          ]
        }
      ]
    },
    {
      "cell_type": "code",
      "metadata": {
        "colab": {
          "base_uri": "https://localhost:8080/"
        },
        "id": "3js7IbIrE_Z8",
        "outputId": "08890a2f-d53b-480f-ab57-43e877910ddc"
      },
      "source": [
        "#def Y\n",
        "Y=np.dot(np.dot(R,D),R.T)#R@D@Ut\n",
        "Y"
      ],
      "execution_count": 7,
      "outputs": [
        {
          "output_type": "execute_result",
          "data": {
            "text/plain": [
              "array([[ 0.06898115, -0.0712302 , -0.03860902],\n",
              "       [-0.0712302 ,  0.08102677,  0.05237484],\n",
              "       [-0.03860902,  0.05237484,  0.16998888]])"
            ]
          },
          "metadata": {},
          "execution_count": 7
        }
      ]
    },
    {
      "cell_type": "code",
      "metadata": {
        "colab": {
          "base_uri": "https://localhost:8080/"
        },
        "id": "ckBNgn3TGIKG",
        "outputId": "7b94215d-e67f-48b5-a1fc-1b88b18a2637"
      },
      "source": [
        "#A=Yt.Y\n",
        "A=np.dot(np.transpose(Y),Y)\n",
        "np.linalg.eig(A)"
      ],
      "execution_count": 8,
      "outputs": [
        {
          "output_type": "execute_result",
          "data": {
            "text/plain": [
              "(array([5.02284790e-02, 1.00000000e-05, 8.59651674e-03]),\n",
              " array([[-0.41507578,  0.71960797,  0.55666548],\n",
              "        [ 0.48773347,  0.69251448, -0.5315447 ],\n",
              "        [ 0.76800271, -0.05087306,  0.63842288]]))"
            ]
          },
          "metadata": {},
          "execution_count": 8
        }
      ]
    },
    {
      "cell_type": "code",
      "metadata": {
        "colab": {
          "base_uri": "https://localhost:8080/"
        },
        "id": "xyjT8QW9X_in",
        "outputId": "eb53550f-6884-4ea9-ffea-aa8b29f96a92"
      },
      "source": [
        "U"
      ],
      "execution_count": 9,
      "outputs": [
        {
          "output_type": "execute_result",
          "data": {
            "text/plain": [
              "[[0.8214274508457405, 0.5503130783189389, 0.14970791170877362],\n",
              " [-0.4631214436194727, 0.49045305045856263, 0.738223769432891],\n",
              " [0.33282949306947573, -0.6757302132708172, 0.6577333862714374]]"
            ]
          },
          "metadata": {},
          "execution_count": 9
        }
      ]
    },
    {
      "cell_type": "markdown",
      "metadata": {
        "id": "CRJ7hgQXYRxK"
      },
      "source": [
        "En efecto, los valores y vectores propios de A=Yt.Y son correctos"
      ]
    },
    {
      "cell_type": "code",
      "metadata": {
        "colab": {
          "base_uri": "https://localhost:8080/"
        },
        "id": "VI5Jj2yEHgD9",
        "outputId": "e1e3234f-ec2a-4991-e5db-635586563c98"
      },
      "source": [
        "#Si los autovalores de Y son la raíz de los autovalores de A su suma es 0\n",
        "print(np.linalg.eigvals(A)**0.5-np.linalg.eigvals(Y))"
      ],
      "execution_count": 10,
      "outputs": [
        {
          "output_type": "stream",
          "name": "stdout",
          "text": [
            "[-2.77555756e-17 -9.24173932e-16  1.38777878e-17]\n"
          ]
        }
      ]
    },
    {
      "cell_type": "markdown",
      "metadata": {
        "id": "hc6EFcUkZWwD"
      },
      "source": [
        "Es correcto, esto se debe a que $A=Y^TY$, luego $diag(m_i)=UAU^T=UY^TYU^T=UY^TU^TUYU^T=diag(eigvals(Y^T))diag(eigvals(Y))=diag(eigvals(Y))^2$"
      ]
    }
  ]
}