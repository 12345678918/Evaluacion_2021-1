{
  "nbformat": 4,
  "nbformat_minor": 0,
  "metadata": {
    "colab": {
      "name": "Examen_01_1000417189.ipynb",
      "provenance": [],
      "include_colab_link": true
    },
    "kernelspec": {
      "display_name": "Python 3 (ipykernel)",
      "language": "python",
      "name": "python3"
    },
    "language_info": {
      "codemirror_mode": {
        "name": "ipython",
        "version": 3
      },
      "file_extension": ".py",
      "mimetype": "text/x-python",
      "name": "python",
      "nbconvert_exporter": "python",
      "pygments_lexer": "ipython3",
      "version": "3.7.3"
    },
    "toc": {
      "colors": {
        "hover_highlight": "#DAA520",
        "running_highlight": "#FF0000",
        "selected_highlight": "#FFD700"
      },
      "moveMenuLeft": true,
      "nav_menu": {
        "height": "30px",
        "width": "252px"
      },
      "navigate_menu": true,
      "number_sections": true,
      "sideBar": true,
      "threshold": 4,
      "toc_cell": false,
      "toc_section_display": "block",
      "toc_window_display": false
    }
  },
  "cells": [
    {
      "cell_type": "markdown",
      "metadata": {
        "id": "view-in-github",
        "colab_type": "text"
      },
      "source": [
        "<a href=\"https://colab.research.google.com/github/CamiloLon/Evaluacion_2021-1/blob/main/1000417189/Examen_01_1000417189.ipynb\" target=\"_parent\"><img src=\"https://colab.research.google.com/assets/colab-badge.svg\" alt=\"Open In Colab\"/></a>"
      ]
    },
    {
      "cell_type": "markdown",
      "metadata": {
        "id": "bWVchymOoRBb"
      },
      "source": [
        "# Primer Examen 15%"
      ]
    },
    {
      "cell_type": "markdown",
      "metadata": {
        "id": "V7dkqVSIYRsu"
      },
      "source": [
        "A) Cargando el archivo JSON: \n",
        "* https://github.com/restrepo/anomaly/raw/main/solutions.json.gz\n",
        "\n",
        "en Pandas\n",
        "\n",
        "1) Adicione una columna nueva `'smax'` con el valor máximo en valor absoluto de la lista de enteros de la correspondiente entrada en la columna '`solution`'\n",
        "2) Adicione dos columnas nuevas: `'sum_s'` (`sum_s³`) con el resultado de la suma (al cubo) de todos los números de la lista de enteros de la correspondiente entrada en la columna '`solution`'\n",
        "3) Usando como semilla el número de su cédula, genere un número entero de forma aleatoria entre 0 y 390073. Seleccione el la fila correspondiente a ese número entero y construya un polinomio con esos coeficientes. Encuentre las raices reales de ese polinomio y realice el correspondiente gráfico incluyendo: el polinomio generado, sus raices (como puntos en gráfico) y la derivada del polinomio. Optimize el rango de valores en el eje $x$ y en el eje $y$ del gráfico, de manera que el polinomio y sus raices se visualicen de la mejor forma posible. (Sugerencia → use: `plt.ylim(ymin,ymax)` ). Se tendrá en cuenta la estética del gráfico presentado incluyendo la rotulación adecuada del mismo\n"
      ]
    },
    {
      "cell_type": "code",
      "metadata": {
        "colab": {
          "base_uri": "https://localhost:8080/",
          "height": 419
        },
        "id": "AW2kztGJYyRK",
        "outputId": "cf2c0cf4-ddae-4741-9fe9-7f1466e85e3e"
      },
      "source": [
        "import pandas as pd\n",
        "import numpy as np\n",
        "df=pd.read_json('https://github.com/restrepo/anomaly/raw/main/solutions.json.gz')\n",
        "df"
      ],
      "execution_count": 1,
      "outputs": [
        {
          "output_type": "execute_result",
          "data": {
            "text/html": [
              "<div>\n",
              "<style scoped>\n",
              "    .dataframe tbody tr th:only-of-type {\n",
              "        vertical-align: middle;\n",
              "    }\n",
              "\n",
              "    .dataframe tbody tr th {\n",
              "        vertical-align: top;\n",
              "    }\n",
              "\n",
              "    .dataframe thead th {\n",
              "        text-align: right;\n",
              "    }\n",
              "</style>\n",
              "<table border=\"1\" class=\"dataframe\">\n",
              "  <thead>\n",
              "    <tr style=\"text-align: right;\">\n",
              "      <th></th>\n",
              "      <th>l</th>\n",
              "      <th>k</th>\n",
              "      <th>solution</th>\n",
              "      <th>gcd</th>\n",
              "      <th>n</th>\n",
              "    </tr>\n",
              "  </thead>\n",
              "  <tbody>\n",
              "    <tr>\n",
              "      <th>0</th>\n",
              "      <td>[-1, 0, -1, 0, -1]</td>\n",
              "      <td>[-1, 0, -1, 1, -1]</td>\n",
              "      <td>[1, 4, 4, 4, -5, -5, -5, -5, -5, 6, 6]</td>\n",
              "      <td>1</td>\n",
              "      <td>11</td>\n",
              "    </tr>\n",
              "    <tr>\n",
              "      <th>1</th>\n",
              "      <td>[-1, 1]</td>\n",
              "      <td>[-1, 0, -1]</td>\n",
              "      <td>[1, 2, 2, -3, -3, -3, 4]</td>\n",
              "      <td>1</td>\n",
              "      <td>7</td>\n",
              "    </tr>\n",
              "    <tr>\n",
              "      <th>2</th>\n",
              "      <td>[1, -1, 0, 1, -1]</td>\n",
              "      <td>[-2, 0, -1, -2, 0]</td>\n",
              "      <td>[1, 1, -2, -2, -3, -3, 5, 5, 5, 5, -6, -6]</td>\n",
              "      <td>2</td>\n",
              "      <td>12</td>\n",
              "    </tr>\n",
              "    <tr>\n",
              "      <th>3</th>\n",
              "      <td>[-1, 1, -1, 1, -1]</td>\n",
              "      <td>[-2, -1, 0, -1, 0]</td>\n",
              "      <td>[1, 1, 1, 1, 2, 2, 2, -3, -4, -4, -6, 7]</td>\n",
              "      <td>1</td>\n",
              "      <td>12</td>\n",
              "    </tr>\n",
              "    <tr>\n",
              "      <th>4</th>\n",
              "      <td>[1, 0, 1, 0, -1]</td>\n",
              "      <td>[-2, -1, -2, -1, 0]</td>\n",
              "      <td>[1, 1, 1, -2, -2, -5, -5, 6, 6, 7, -8]</td>\n",
              "      <td>1</td>\n",
              "      <td>11</td>\n",
              "    </tr>\n",
              "    <tr>\n",
              "      <th>...</th>\n",
              "      <td>...</td>\n",
              "      <td>...</td>\n",
              "      <td>...</td>\n",
              "      <td>...</td>\n",
              "      <td>...</td>\n",
              "    </tr>\n",
              "    <tr>\n",
              "      <th>390069</th>\n",
              "      <td>[-3, -15, -6]</td>\n",
              "      <td>[-3, 8, 9]</td>\n",
              "      <td>[8, -9, -9, 11, 25, -29, -29, 32]</td>\n",
              "      <td>36</td>\n",
              "      <td>8</td>\n",
              "    </tr>\n",
              "    <tr>\n",
              "      <th>390070</th>\n",
              "      <td>[-10, -5, -15]</td>\n",
              "      <td>[-10, -12, 12]</td>\n",
              "      <td>[5, 5, 5, -17, -27, -27, 28, 28]</td>\n",
              "      <td>100</td>\n",
              "      <td>8</td>\n",
              "    </tr>\n",
              "    <tr>\n",
              "      <th>390071</th>\n",
              "      <td>[15, -1, 15]</td>\n",
              "      <td>[-14, -13, -14]</td>\n",
              "      <td>[14, -15, -16, 17, -30, 31, 31, -32]</td>\n",
              "      <td>1</td>\n",
              "      <td>8</td>\n",
              "    </tr>\n",
              "    <tr>\n",
              "      <th>390072</th>\n",
              "      <td>[-15, -9, -1]</td>\n",
              "      <td>[-13, -14, -12]</td>\n",
              "      <td>[11, -13, -15, 19, 23, -26, -30, 31]</td>\n",
              "      <td>18</td>\n",
              "      <td>8</td>\n",
              "    </tr>\n",
              "    <tr>\n",
              "      <th>390073</th>\n",
              "      <td>[10, 15, 5]</td>\n",
              "      <td>[-11, -14, 7]</td>\n",
              "      <td>[16, -17, -17, 19, 20, -22, -22, 23]</td>\n",
              "      <td>2000</td>\n",
              "      <td>8</td>\n",
              "    </tr>\n",
              "  </tbody>\n",
              "</table>\n",
              "<p>390074 rows × 5 columns</p>\n",
              "</div>"
            ],
            "text/plain": [
              "                         l                    k  ...   gcd   n\n",
              "0       [-1, 0, -1, 0, -1]   [-1, 0, -1, 1, -1]  ...     1  11\n",
              "1                  [-1, 1]          [-1, 0, -1]  ...     1   7\n",
              "2        [1, -1, 0, 1, -1]   [-2, 0, -1, -2, 0]  ...     2  12\n",
              "3       [-1, 1, -1, 1, -1]   [-2, -1, 0, -1, 0]  ...     1  12\n",
              "4         [1, 0, 1, 0, -1]  [-2, -1, -2, -1, 0]  ...     1  11\n",
              "...                    ...                  ...  ...   ...  ..\n",
              "390069       [-3, -15, -6]           [-3, 8, 9]  ...    36   8\n",
              "390070      [-10, -5, -15]       [-10, -12, 12]  ...   100   8\n",
              "390071        [15, -1, 15]      [-14, -13, -14]  ...     1   8\n",
              "390072       [-15, -9, -1]      [-13, -14, -12]  ...    18   8\n",
              "390073         [10, 15, 5]        [-11, -14, 7]  ...  2000   8\n",
              "\n",
              "[390074 rows x 5 columns]"
            ]
          },
          "metadata": {},
          "execution_count": 1
        }
      ]
    },
    {
      "cell_type": "code",
      "metadata": {
        "colab": {
          "base_uri": "https://localhost:8080/"
        },
        "id": "kKwbO-2iZeVd",
        "outputId": "bbb04dac-5d4c-43a9-b8a8-7012462eed4e"
      },
      "source": [
        "df['smax']=df['solution'].apply(lambda f: max(map(abs,f)))\n",
        "df['smax']"
      ],
      "execution_count": 2,
      "outputs": [
        {
          "output_type": "execute_result",
          "data": {
            "text/plain": [
              "0          6\n",
              "1          4\n",
              "2          6\n",
              "3          7\n",
              "4          8\n",
              "          ..\n",
              "390069    32\n",
              "390070    28\n",
              "390071    32\n",
              "390072    31\n",
              "390073    23\n",
              "Name: smax, Length: 390074, dtype: int64"
            ]
          },
          "metadata": {},
          "execution_count": 2
        }
      ]
    },
    {
      "cell_type": "code",
      "metadata": {
        "colab": {
          "base_uri": "https://localhost:8080/",
          "height": 419
        },
        "id": "lmxr4lrEbH3C",
        "outputId": "b5e3f9a7-270b-47c6-90af-15020fa99756"
      },
      "source": [
        "df['sum_s']=df['solution'].apply(lambda f: sum(f))\n",
        "\n",
        "df['sum_s³']=df['solution'].apply(lambda f: sum(np.array(f)**3))\n",
        "df"
      ],
      "execution_count": 3,
      "outputs": [
        {
          "output_type": "execute_result",
          "data": {
            "text/html": [
              "<div>\n",
              "<style scoped>\n",
              "    .dataframe tbody tr th:only-of-type {\n",
              "        vertical-align: middle;\n",
              "    }\n",
              "\n",
              "    .dataframe tbody tr th {\n",
              "        vertical-align: top;\n",
              "    }\n",
              "\n",
              "    .dataframe thead th {\n",
              "        text-align: right;\n",
              "    }\n",
              "</style>\n",
              "<table border=\"1\" class=\"dataframe\">\n",
              "  <thead>\n",
              "    <tr style=\"text-align: right;\">\n",
              "      <th></th>\n",
              "      <th>l</th>\n",
              "      <th>k</th>\n",
              "      <th>solution</th>\n",
              "      <th>gcd</th>\n",
              "      <th>n</th>\n",
              "      <th>smax</th>\n",
              "      <th>sum_s</th>\n",
              "      <th>sum_s³</th>\n",
              "    </tr>\n",
              "  </thead>\n",
              "  <tbody>\n",
              "    <tr>\n",
              "      <th>0</th>\n",
              "      <td>[-1, 0, -1, 0, -1]</td>\n",
              "      <td>[-1, 0, -1, 1, -1]</td>\n",
              "      <td>[1, 4, 4, 4, -5, -5, -5, -5, -5, 6, 6]</td>\n",
              "      <td>1</td>\n",
              "      <td>11</td>\n",
              "      <td>6</td>\n",
              "      <td>0</td>\n",
              "      <td>0</td>\n",
              "    </tr>\n",
              "    <tr>\n",
              "      <th>1</th>\n",
              "      <td>[-1, 1]</td>\n",
              "      <td>[-1, 0, -1]</td>\n",
              "      <td>[1, 2, 2, -3, -3, -3, 4]</td>\n",
              "      <td>1</td>\n",
              "      <td>7</td>\n",
              "      <td>4</td>\n",
              "      <td>0</td>\n",
              "      <td>0</td>\n",
              "    </tr>\n",
              "    <tr>\n",
              "      <th>2</th>\n",
              "      <td>[1, -1, 0, 1, -1]</td>\n",
              "      <td>[-2, 0, -1, -2, 0]</td>\n",
              "      <td>[1, 1, -2, -2, -3, -3, 5, 5, 5, 5, -6, -6]</td>\n",
              "      <td>2</td>\n",
              "      <td>12</td>\n",
              "      <td>6</td>\n",
              "      <td>0</td>\n",
              "      <td>0</td>\n",
              "    </tr>\n",
              "    <tr>\n",
              "      <th>3</th>\n",
              "      <td>[-1, 1, -1, 1, -1]</td>\n",
              "      <td>[-2, -1, 0, -1, 0]</td>\n",
              "      <td>[1, 1, 1, 1, 2, 2, 2, -3, -4, -4, -6, 7]</td>\n",
              "      <td>1</td>\n",
              "      <td>12</td>\n",
              "      <td>7</td>\n",
              "      <td>0</td>\n",
              "      <td>0</td>\n",
              "    </tr>\n",
              "    <tr>\n",
              "      <th>4</th>\n",
              "      <td>[1, 0, 1, 0, -1]</td>\n",
              "      <td>[-2, -1, -2, -1, 0]</td>\n",
              "      <td>[1, 1, 1, -2, -2, -5, -5, 6, 6, 7, -8]</td>\n",
              "      <td>1</td>\n",
              "      <td>11</td>\n",
              "      <td>8</td>\n",
              "      <td>0</td>\n",
              "      <td>0</td>\n",
              "    </tr>\n",
              "    <tr>\n",
              "      <th>...</th>\n",
              "      <td>...</td>\n",
              "      <td>...</td>\n",
              "      <td>...</td>\n",
              "      <td>...</td>\n",
              "      <td>...</td>\n",
              "      <td>...</td>\n",
              "      <td>...</td>\n",
              "      <td>...</td>\n",
              "    </tr>\n",
              "    <tr>\n",
              "      <th>390069</th>\n",
              "      <td>[-3, -15, -6]</td>\n",
              "      <td>[-3, 8, 9]</td>\n",
              "      <td>[8, -9, -9, 11, 25, -29, -29, 32]</td>\n",
              "      <td>36</td>\n",
              "      <td>8</td>\n",
              "      <td>32</td>\n",
              "      <td>0</td>\n",
              "      <td>0</td>\n",
              "    </tr>\n",
              "    <tr>\n",
              "      <th>390070</th>\n",
              "      <td>[-10, -5, -15]</td>\n",
              "      <td>[-10, -12, 12]</td>\n",
              "      <td>[5, 5, 5, -17, -27, -27, 28, 28]</td>\n",
              "      <td>100</td>\n",
              "      <td>8</td>\n",
              "      <td>28</td>\n",
              "      <td>0</td>\n",
              "      <td>0</td>\n",
              "    </tr>\n",
              "    <tr>\n",
              "      <th>390071</th>\n",
              "      <td>[15, -1, 15]</td>\n",
              "      <td>[-14, -13, -14]</td>\n",
              "      <td>[14, -15, -16, 17, -30, 31, 31, -32]</td>\n",
              "      <td>1</td>\n",
              "      <td>8</td>\n",
              "      <td>32</td>\n",
              "      <td>0</td>\n",
              "      <td>0</td>\n",
              "    </tr>\n",
              "    <tr>\n",
              "      <th>390072</th>\n",
              "      <td>[-15, -9, -1]</td>\n",
              "      <td>[-13, -14, -12]</td>\n",
              "      <td>[11, -13, -15, 19, 23, -26, -30, 31]</td>\n",
              "      <td>18</td>\n",
              "      <td>8</td>\n",
              "      <td>31</td>\n",
              "      <td>0</td>\n",
              "      <td>0</td>\n",
              "    </tr>\n",
              "    <tr>\n",
              "      <th>390073</th>\n",
              "      <td>[10, 15, 5]</td>\n",
              "      <td>[-11, -14, 7]</td>\n",
              "      <td>[16, -17, -17, 19, 20, -22, -22, 23]</td>\n",
              "      <td>2000</td>\n",
              "      <td>8</td>\n",
              "      <td>23</td>\n",
              "      <td>0</td>\n",
              "      <td>0</td>\n",
              "    </tr>\n",
              "  </tbody>\n",
              "</table>\n",
              "<p>390074 rows × 8 columns</p>\n",
              "</div>"
            ],
            "text/plain": [
              "                         l                    k  ... sum_s  sum_s³\n",
              "0       [-1, 0, -1, 0, -1]   [-1, 0, -1, 1, -1]  ...     0       0\n",
              "1                  [-1, 1]          [-1, 0, -1]  ...     0       0\n",
              "2        [1, -1, 0, 1, -1]   [-2, 0, -1, -2, 0]  ...     0       0\n",
              "3       [-1, 1, -1, 1, -1]   [-2, -1, 0, -1, 0]  ...     0       0\n",
              "4         [1, 0, 1, 0, -1]  [-2, -1, -2, -1, 0]  ...     0       0\n",
              "...                    ...                  ...  ...   ...     ...\n",
              "390069       [-3, -15, -6]           [-3, 8, 9]  ...     0       0\n",
              "390070      [-10, -5, -15]       [-10, -12, 12]  ...     0       0\n",
              "390071        [15, -1, 15]      [-14, -13, -14]  ...     0       0\n",
              "390072       [-15, -9, -1]      [-13, -14, -12]  ...     0       0\n",
              "390073         [10, 15, 5]        [-11, -14, 7]  ...     0       0\n",
              "\n",
              "[390074 rows x 8 columns]"
            ]
          },
          "metadata": {},
          "execution_count": 3
        }
      ]
    },
    {
      "cell_type": "markdown",
      "metadata": {
        "id": "QdJiHFJid5ie"
      },
      "source": [
        "3) Usando como semilla el número de su cédula, genere un número entero de forma aleatoria entre 0 y 390073. Seleccione el la fila correspondiente a ese número entero y construya un polinomio con esos coeficientes. Encuentre las raices reales de ese polinomio y realice el correspondiente gráfico incluyendo: el polinomio generado, sus raices (como puntos en gráfico) y la derivada del polinomio. Optimize el rango de valores en el eje  x  y en el eje  y  del gráfico, de manera que el polinomio y sus raices se visualicen de la mejor forma posible. (Sugerencia → use: plt.ylim(ymin,ymax) ). Se tendrá en cuenta la estética del gráfico presentado incluyendo la rotulación adecuada del mismo"
      ]
    },
    {
      "cell_type": "code",
      "metadata": {
        "colab": {
          "base_uri": "https://localhost:8080/",
          "height": 571
        },
        "id": "1Sn3mXL2d9-4",
        "outputId": "7d1f4f4e-e67c-449c-fc33-1cca3b286e20"
      },
      "source": [
        "import random as rd\n",
        "import matplotlib.pyplot as plt\n",
        "from scipy import diff\n",
        "\n",
        "rt=rd.seed(1000417189)\n",
        "a=rd.randint(0,390073)\n",
        "fila=df.iloc[a]\n",
        "\n",
        "pol=np.poly1d(fila['solution'])\n",
        "print('POLINOMIO: \\n', pol,'\\n')\n",
        "print('RAÍCES:', pol.roots,'\\n')\n",
        "\n",
        "roots=(pol.roots[[0,1,-2,-1]])\n",
        "print('RAÍCES REALES:', roots,'\\n')\n",
        "\n",
        "xarr=np.linspace(-5,1.2)\n",
        "\n",
        "print('DERIVADA:',pol.deriv(),'\\n')\n",
        "\n",
        "plt.figure(figsize=(20,5))\n",
        "\n",
        "plt.subplot(121)\n",
        "\n",
        "plt.plot(xarr,pol(xarr))\n",
        "plt.plot(roots.real,pol(roots.real),'ro', label='Raíces')\n",
        "plt.grid()\n",
        "plt.ylim(-1,1)\n",
        "plt.title('Polinomio')\n",
        "plt.legend()\n",
        "plt.xlabel('x')\n",
        "plt.ylabel('y')\n",
        "\n",
        "xarr=np.linspace(-10,10)\n",
        "plt.subplot(122)\n",
        "plt.plot(xarr,pol(xarr))\n",
        "plt.plot()\n",
        "plt.grid()\n",
        "plt.title('Derivada del polinomio')\n",
        "plt.xlabel('x')\n",
        "plt.ylabel('y')\n",
        "\n",
        "plt.show()"
      ],
      "execution_count": 4,
      "outputs": [
        {
          "output_type": "stream",
          "text": [
            "POLINOMIO: \n",
            "    8     7      6      5      4      3      2\n",
            "2 x + 8 x - 11 x - 12 x + 16 x + 17 x - 21 x - 30 x + 31 \n",
            "\n",
            "RAÍCES: [-4.82882283+0.j        -1.30202395+0.j        -0.83818341+0.9009331j\n",
            " -0.83818341-0.9009331j  0.83960398+0.8593034j  0.83960398-0.8593034j\n",
            "  1.12800564+0.j         1.        +0.j       ] \n",
            "\n",
            "RAÍCES REALES: [-4.82882283+0.j -1.30202395+0.j  1.12800564+0.j  1.        +0.j] \n",
            "\n",
            "DERIVADA:     7      6      5      4      3      2\n",
            "16 x + 56 x - 66 x - 60 x + 64 x + 51 x - 42 x - 30 \n",
            "\n"
          ],
          "name": "stdout"
        },
        {
          "output_type": "display_data",
          "data": {
            "image/png": "[encoded data removed]",
            "text/plain": [
              "<Figure size 1440x360 with 2 Axes>"
            ]
          },
          "metadata": {
            "needs_background": "light"
          }
        }
      ]
    },
    {
      "cell_type": "markdown",
      "metadata": {
        "id": "tp73_I3DYRsv"
      },
      "source": [
        "B)\n",
        "\n",
        "I) Usando como semilla el número de su cédula, genere de forma aletoria un número entero entre 1 y 5\n",
        "\n",
        "II) De acuerdo al entero obtenido, escoja una de las siguientes cinco funciones \n",
        "1. $$x\\operatorname{e}^x=p\\,, $$\n",
        "2. $$\\frac{\\sin x}{x}=+p\\,,$$\n",
        "3. $$\\frac{\\sin x}{x}=-p\\,,$$\n",
        "4. $$\\frac{\\cos x}{x}=+p\\,,$$\n",
        "5. $$\\frac{\\cos x}{x}=-p\\,,$$\n",
        "III) Genere un número aleatorio entre 0 y 1 y asignelo al valor de $p$\n",
        "IV) Encuentre la solución a la ecuación trascendental para el intervalo $x$ entre -10 y 10 y gráfique la correspondiente función trascendental y las correspondientes soluciones. . Se tendrá en cuenta la estética del gráfico presentado incluyendo la rotulación adecuada del mismo.\n",
        "\n",
        "A modo de nota curiosa: estas ecuaciones trascendentales están asociadas a soluciones de la ecuación de Schödinger en mecánica cuántica: https://doi.org/10.1080/14786435.2015.1081425"
      ]
    },
    {
      "cell_type": "code",
      "metadata": {
        "colab": {
          "base_uri": "https://localhost:8080/"
        },
        "id": "O1Gk1mJ-wNh0",
        "outputId": "b0e0d7db-3013-4d13-a266-944c81ef10f3"
      },
      "source": [
        "rd.seed(1000417189)\n",
        "print(rd.randint(1,5))\n",
        "p=rd.random()\n",
        "print(p)\n",
        "\n",
        "f=lambda x: np.cos(x)/x+p"
      ],
      "execution_count": 5,
      "outputs": [
        {
          "output_type": "stream",
          "text": [
            "5\n",
            "0.8996970389837926\n"
          ],
          "name": "stdout"
        }
      ]
    },
    {
      "cell_type": "code",
      "metadata": {
        "colab": {
          "base_uri": "https://localhost:8080/",
          "height": 266
        },
        "id": "io4wGrGUwi1o",
        "outputId": "2e8a18a7-57db-4ee1-a146-113a7c1a8886"
      },
      "source": [
        "xarr=np.linspace(-10,10)\n",
        "\n",
        "\n",
        "plt.plot(xarr,f(xarr))\n",
        "plt.grid()"
      ],
      "execution_count": 6,
      "outputs": [
        {
          "output_type": "display_data",
          "data": {
            "image/png": "[encoded data removed]",
            "text/plain": [
              "<Figure size 432x288 with 1 Axes>"
            ]
          },
          "metadata": {
            "needs_background": "light"
          }
        }
      ]
    },
    {
      "cell_type": "code",
      "metadata": {
        "colab": {
          "base_uri": "https://localhost:8080/",
          "height": 389
        },
        "id": "FVoy4aO8y0mF",
        "outputId": "0e47d976-8033-4c1f-b6a4-cd513aeadd96"
      },
      "source": [
        "from scipy import optimize\n",
        "xo=optimize.newton(f,-1)\n",
        "print('La solución es:', xo,'\\n')\n",
        "plt.figure(figsize=(10,5))\n",
        "\n",
        "plt.plot(xarr,f(xarr))\n",
        "plt.plot(xo,f(xo),'ro', label='x_0='+ str(\"%.3lf\"%xo))\n",
        "plt.grid()\n",
        "plt.title('cos(x)/x+p',{'fontsize':20})\n",
        "plt.legend()\n",
        "plt.xlabel('x')\n",
        "plt.ylabel('y')\n",
        "\n",
        "plt.show()"
      ],
      "execution_count": 7,
      "outputs": [
        {
          "output_type": "stream",
          "text": [
            "La solución es: -0.7857008430158093 \n",
            "\n"
          ],
          "name": "stdout"
        },
        {
          "output_type": "display_data",
          "data": {
            "image/png": "[encoded data removed]",
            "text/plain": [
              "<Figure size 720x360 with 1 Axes>"
            ]
          },
          "metadata": {
            "needs_background": "light"
          }
        }
      ]
    },
    {
      "cell_type": "code",
      "metadata": {
        "id": "fUnPbYpt5j9b"
      },
      "source": [
        ""
      ],
      "execution_count": 7,
      "outputs": []
    }
  ]
}