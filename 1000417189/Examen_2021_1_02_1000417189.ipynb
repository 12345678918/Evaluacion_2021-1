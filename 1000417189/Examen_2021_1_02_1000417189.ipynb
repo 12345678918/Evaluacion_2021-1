{
  "nbformat": 4,
  "nbformat_minor": 0,
  "metadata": {
    "kernelspec": {
      "display_name": "Python 3 (ipykernel)",
      "language": "python",
      "name": "python3"
    },
    "language_info": {
      "codemirror_mode": {
        "name": "ipython",
        "version": 3
      },
      "file_extension": ".py",
      "mimetype": "text/x-python",
      "name": "python",
      "nbconvert_exporter": "python",
      "pygments_lexer": "ipython3",
      "version": "3.7.3"
    },
    "colab": {
      "name": "Examen_2021_1_02_1000417189.ipynb",
      "provenance": [],
      "include_colab_link": true
    }
  },
  "cells": [
    {
      "cell_type": "markdown",
      "metadata": {
        "id": "view-in-github",
        "colab_type": "text"
      },
      "source": [
        "<a href=\"https://colab.research.google.com/github/CamiloLon/Evaluacion_2021-1/blob/main/1000417189/Examen_2021_1_02_1000417189.ipynb\" target=\"_parent\"><img src=\"https://colab.research.google.com/assets/colab-badge.svg\" alt=\"Open In Colab\"/></a>"
      ]
    },
    {
      "cell_type": "markdown",
      "metadata": {
        "id": "AFsNac0-lWl2"
      },
      "source": [
        "A) Los siguientes datos fueron extraidos de un [perfil real de Instragram](https://www.instagram.com/paulacano24/):\n",
        "\n",
        "https://raw.githubusercontent.com/restrepo/ComputationalMethods/master/data/Followers.json\n",
        "\n",
        "Interprete los datos como un problema de caida libre y a partir del ajuste (fit) a la correspondiente ecuación de movimiento, determine\n",
        "1. La velocidad inicial de incremento de seguidores en `followers/hour`\n",
        "1. La aceleración constante en `followers/hour**2`\n",
        "1. El número máximo de seguidores que alcanzaría el perfil\n",
        "1. La fecha en la que se alcanzaría dicho máximo\n",
        "\n",
        "B) El período de  un pendulo de longitud $l$ oscilando a ángulos grandes  $\\alpha$, está dado por\n",
        "$$\n",
        "T=T_{0} \\frac{\\sqrt{2}}{\\pi} \\int_{0}^{\\alpha} \\frac{d \\theta}{(\\cos \\theta-\\cos \\alpha)^{\\frac{1}{2}}}\n",
        "$$\n",
        "donde\n",
        "$$\n",
        "T_{0}=2 \\pi \\sqrt{\\frac{l}{g}}\n",
        "$$\n",
        "es el período del mismo péndulo a pequeñas amplitudes. Culquier intento de evaluación numérico de esa integral debería fallar. Sin embargo, si hacemos el cambio de variable\n",
        "$$\n",
        "\\sin \\frac{\\theta}{2}=\\sin \\frac{\\alpha}{2} \\sin \\phi\n",
        "$$\n",
        "obtenemos\n",
        "$$\n",
        "T=\\frac{2 T_{0}}{\\pi} \\int_{0}^{\\frac{\\pi}{2}} \\frac{d \\phi}{\\left(1-\\sin ^{2} \\frac{\\alpha}{2} \\sin ^{2} \\phi\\right)^{\\frac{1}{2}}}\n",
        "$$\n",
        "que corresponde a una integral bien comportada. \n",
        "1. Escriba un programa que use la anterio integral para calcular el cociente  $T/T_0$ para ángulos enteros (en grados) $0^\\circ \\le\\alpha \\le 90^\\circ$.  \n",
        "1. Genere un DataFrame de pandas que contenga como columnas: la amplitud en grados, la amplitud en radianes, y el cociente $T/T_0$, \n",
        "1. Haga un gráfico de $T/T_0$ como función de $\\alpha$ (en grados). \n",
        "1. Explain the result when $\\alpha = 0.$ "
      ]
    },
    {
      "cell_type": "code",
      "metadata": {
        "id": "f2s_Y3ELnTCC"
      },
      "source": [
        "#LIBRERÍAS\n",
        "import pandas as pd\n",
        "import numpy as np\n",
        "import scipy as sp\n",
        "\n",
        "from scipy import misc\n",
        "from scipy import optimize\n",
        "from scipy import integrate\n",
        "\n",
        "import matplotlib.pyplot as plt\n"
      ],
      "execution_count": 1,
      "outputs": []
    },
    {
      "cell_type": "markdown",
      "metadata": {
        "id": "-l1vitkgJI23"
      },
      "source": [
        "#Parte A\n"
      ]
    },
    {
      "cell_type": "code",
      "metadata": {
        "colab": {
          "base_uri": "https://localhost:8080/",
          "height": 453
        },
        "id": "an8qDqSm5iVh",
        "outputId": "076d53fa-e2d3-47ef-c4b8-40f5272607fe"
      },
      "source": [
        "\n",
        "path='https://raw.githubusercontent.com/restrepo/ComputationalMethods/master/data/Followers.json'\n",
        "df1=pd.read_json(path)\n",
        "\n",
        "t=df1['hours']\n",
        "s=df1['followers']\n",
        "\n",
        "coef= np.polyfit(t,s,2)\n",
        "px=np.poly1d(coef)\n",
        "print(px)\n",
        "df1"
      ],
      "execution_count": 2,
      "outputs": [
        {
          "output_type": "stream",
          "name": "stdout",
          "text": [
            "           2\n",
            "-0.002438 x + 8.552 x + 4.276e+04\n"
          ]
        },
        {
          "output_type": "execute_result",
          "data": {
            "text/html": [
              "<div>\n",
              "<style scoped>\n",
              "    .dataframe tbody tr th:only-of-type {\n",
              "        vertical-align: middle;\n",
              "    }\n",
              "\n",
              "    .dataframe tbody tr th {\n",
              "        vertical-align: top;\n",
              "    }\n",
              "\n",
              "    .dataframe thead th {\n",
              "        text-align: right;\n",
              "    }\n",
              "</style>\n",
              "<table border=\"1\" class=\"dataframe\">\n",
              "  <thead>\n",
              "    <tr style=\"text-align: right;\">\n",
              "      <th></th>\n",
              "      <th>followers</th>\n",
              "      <th>date_time</th>\n",
              "      <th>hours</th>\n",
              "    </tr>\n",
              "  </thead>\n",
              "  <tbody>\n",
              "    <tr>\n",
              "      <th>0</th>\n",
              "      <td>42696</td>\n",
              "      <td>2021-08-04 22:06:53.668</td>\n",
              "      <td>0.000000</td>\n",
              "    </tr>\n",
              "    <tr>\n",
              "      <th>1</th>\n",
              "      <td>42706</td>\n",
              "      <td>2021-08-04 23:06:56.517</td>\n",
              "      <td>1.000791</td>\n",
              "    </tr>\n",
              "    <tr>\n",
              "      <th>2</th>\n",
              "      <td>42716</td>\n",
              "      <td>2021-08-05 00:06:59.505</td>\n",
              "      <td>2.001621</td>\n",
              "    </tr>\n",
              "    <tr>\n",
              "      <th>3</th>\n",
              "      <td>42734</td>\n",
              "      <td>2021-08-05 01:07:02.174</td>\n",
              "      <td>3.002363</td>\n",
              "    </tr>\n",
              "    <tr>\n",
              "      <th>4</th>\n",
              "      <td>42749</td>\n",
              "      <td>2021-08-05 02:07:04.854</td>\n",
              "      <td>4.003107</td>\n",
              "    </tr>\n",
              "    <tr>\n",
              "      <th>...</th>\n",
              "      <td>...</td>\n",
              "      <td>...</td>\n",
              "      <td>...</td>\n",
              "    </tr>\n",
              "    <tr>\n",
              "      <th>615</th>\n",
              "      <td>47452</td>\n",
              "      <td>2021-09-02 12:29:21.834</td>\n",
              "      <td>686.374491</td>\n",
              "    </tr>\n",
              "    <tr>\n",
              "      <th>616</th>\n",
              "      <td>47486</td>\n",
              "      <td>2021-09-02 19:59:32.801</td>\n",
              "      <td>693.877537</td>\n",
              "    </tr>\n",
              "    <tr>\n",
              "      <th>617</th>\n",
              "      <td>47491</td>\n",
              "      <td>2021-09-02 20:59:50.542</td>\n",
              "      <td>694.882465</td>\n",
              "    </tr>\n",
              "    <tr>\n",
              "      <th>618</th>\n",
              "      <td>47493</td>\n",
              "      <td>2021-09-02 21:59:59.345</td>\n",
              "      <td>695.884910</td>\n",
              "    </tr>\n",
              "    <tr>\n",
              "      <th>619</th>\n",
              "      <td>47498</td>\n",
              "      <td>2021-09-02 23:00:11.350</td>\n",
              "      <td>696.888245</td>\n",
              "    </tr>\n",
              "  </tbody>\n",
              "</table>\n",
              "<p>620 rows × 3 columns</p>\n",
              "</div>"
            ],
            "text/plain": [
              "     followers               date_time       hours\n",
              "0        42696 2021-08-04 22:06:53.668    0.000000\n",
              "1        42706 2021-08-04 23:06:56.517    1.000791\n",
              "2        42716 2021-08-05 00:06:59.505    2.001621\n",
              "3        42734 2021-08-05 01:07:02.174    3.002363\n",
              "4        42749 2021-08-05 02:07:04.854    4.003107\n",
              "..         ...                     ...         ...\n",
              "615      47452 2021-09-02 12:29:21.834  686.374491\n",
              "616      47486 2021-09-02 19:59:32.801  693.877537\n",
              "617      47491 2021-09-02 20:59:50.542  694.882465\n",
              "618      47493 2021-09-02 21:59:59.345  695.884910\n",
              "619      47498 2021-09-02 23:00:11.350  696.888245\n",
              "\n",
              "[620 rows x 3 columns]"
            ]
          },
          "metadata": {},
          "execution_count": 2
        }
      ]
    },
    {
      "cell_type": "code",
      "metadata": {
        "colab": {
          "base_uri": "https://localhost:8080/"
        },
        "id": "FEPJFJon6YgW",
        "outputId": "7302b724-8203-49a6-afbb-f71728af5d81"
      },
      "source": [
        "# 1. La velocidad inicial de incremento de seguidores en followers/hour\n",
        "v0=misc.derivative(px,t[0])\n",
        "print('Velocidad inicial:',v0,'seguidores/hora')"
      ],
      "execution_count": 3,
      "outputs": [
        {
          "output_type": "stream",
          "name": "stdout",
          "text": [
            "Velocidad inicial: 8.552137792663416 seguidores/hora\n"
          ]
        }
      ]
    },
    {
      "cell_type": "code",
      "metadata": {
        "colab": {
          "base_uri": "https://localhost:8080/"
        },
        "id": "yL61Q-oP-_m2",
        "outputId": "adcfe517-44a3-4e57-a246-457aa804cdbb"
      },
      "source": [
        "# 2. La aceleración constante en followers/hour**2\n",
        "# Podemos hallar la aceleración sin derivar como en el punto anterior\n",
        "# al despejar del primer coeficiente a/2=-0.002438, siendo así:\n",
        "a=2*coef[0]\n",
        "print('Aceleración constante:',a, 'followers/hour**2')"
      ],
      "execution_count": 4,
      "outputs": [
        {
          "output_type": "stream",
          "name": "stdout",
          "text": [
            "Aceleración constante: -0.0048752543859773 followers/hour**2\n"
          ]
        }
      ]
    },
    {
      "cell_type": "code",
      "metadata": {
        "colab": {
          "base_uri": "https://localhost:8080/"
        },
        "id": "q7Zm4DeA7T6v",
        "outputId": "6a8fbcd6-afc1-41fd-cb9f-871b9557053a"
      },
      "source": [
        "# 3. El número máximo de seguidores que alcanzaría el perfil\n",
        "\n",
        "max=optimize.fmin_powell(-px,0,disp=False)\n",
        "print('El número máximo será:',px(max))"
      ],
      "execution_count": 13,
      "outputs": [
        {
          "output_type": "stream",
          "name": "stdout",
          "text": [
            "El número máximo será: 50262.136729011865\n"
          ]
        }
      ]
    },
    {
      "cell_type": "code",
      "metadata": {
        "colab": {
          "base_uri": "https://localhost:8080/"
        },
        "id": "48IPQGiYCT0C",
        "outputId": "e51ad063-7cb7-448f-d4df-e2244cc933f4"
      },
      "source": [
        "# 4. La fecha en la que se alcanzaría dicho máximo\n",
        "\n",
        "import datetime as dt\n",
        "hora=float(max)\n",
        "fecha= df1['date_time'][0]+dt.timedelta(hours=hora)\n",
        "print('La fecha del máximo será:',str(fecha))"
      ],
      "execution_count": 6,
      "outputs": [
        {
          "output_type": "stream",
          "name": "stdout",
          "text": [
            "La fecha del máximo será: 2021-10-17 00:18:28.966858\n"
          ]
        }
      ]
    },
    {
      "cell_type": "code",
      "metadata": {
        "colab": {
          "base_uri": "https://localhost:8080/",
          "height": 279
        },
        "id": "3M4KIZjlDQgS",
        "outputId": "c4048223-50d4-4264-956b-2e9e1a1c0205"
      },
      "source": [
        "X_=np.linspace(0,2000)\n",
        "\n",
        "plt.figure()\n",
        "plt.plot(X_,px(X_),label='Seguidores en el tiempo')\n",
        "plt.plot(max,px(max),'ro',label='Valor máximo')\n",
        "plt.grid()\n",
        "plt.xlabel('Tiempo (h)')\n",
        "plt.ylabel('Seguidores')\n",
        "plt.legend()\n",
        "plt.show()"
      ],
      "execution_count": 7,
      "outputs": [
        {
          "output_type": "display_data",
          "data": {
            "image/png": "[encoded data removed]",
            "text/plain": [
              "<Figure size 432x288 with 1 Axes>"
            ]
          },
          "metadata": {
            "needs_background": "light"
          }
        }
      ]
    },
    {
      "cell_type": "markdown",
      "metadata": {
        "id": "MFAcP2YKFsJ_"
      },
      "source": [
        "#Parte B\n",
        "\n",
        "\n",
        "$$\\frac{T}{T_0}=\\frac{2 }{\\pi} \\int_{0}^{\\frac{\\pi}{2}} \\frac{d \\phi}{\\left(1-\\sin ^{2} \\frac{\\alpha}{2} \\sin ^{2} \\phi\\right)^{\\frac{1}{2}}}$$\n",
        "\n"
      ]
    },
    {
      "cell_type": "code",
      "metadata": {
        "id": "nMjdTrEzmrY2"
      },
      "source": [
        "#Parte B\n",
        "\n",
        "# 1. Escriba un programa que use la anterio integral para calcular el cociente  T/T0  para ángulos enteros (en grados)\n",
        "def r(alpha):\n",
        "  #Convertir los ángulos a radianes en un array\n",
        "  alpha=np.deg2rad(alpha)\n",
        "  #definir la función para el integrando\n",
        "  f=lambda phi: (1-np.sin(alpha/2)**2*np.sin(phi)**2)**(-1/2)\n",
        "  #Vectorizar la función de integración para calcular con varios ángulos\n",
        "  integ=(sp.vectorize(integrate.quad))\n",
        "  #integrar todas las funciones entre 0 y 2pi\n",
        "  i=integ(f,0,np.pi/2)[0]\n",
        "  #multiplicar por el factor \n",
        "  return (2/np.pi)*i\n",
        "#Vectorizar también la función \n",
        "R=sp.vectorize(r)"
      ],
      "execution_count": 8,
      "outputs": []
    },
    {
      "cell_type": "code",
      "metadata": {
        "colab": {
          "base_uri": "https://localhost:8080/",
          "height": 419
        },
        "id": "F84S9XifwYNP",
        "outputId": "39588595-97d7-4d5e-fe20-ca63e4eadcc5"
      },
      "source": [
        "# 2. Genere un DataFrame de pandas que contenga como columnas: la amplitud en grados, la amplitud en radianes, y el cociente  T/T0\n",
        "df2=pd.DataFrame()\n",
        "#linspace de tamaño con enteros de 0 a 90:\n",
        "alpha=np.linspace(0,90,91)\n",
        "\n",
        "df2[\"A_deg\"]=alpha\n",
        "df2[\"A_rad\"]=np.deg2rad(alpha)\n",
        "df2[\"T/T_0\"]=R(alpha)\n",
        "df2"
      ],
      "execution_count": 9,
      "outputs": [
        {
          "output_type": "execute_result",
          "data": {
            "text/html": [
              "<div>\n",
              "<style scoped>\n",
              "    .dataframe tbody tr th:only-of-type {\n",
              "        vertical-align: middle;\n",
              "    }\n",
              "\n",
              "    .dataframe tbody tr th {\n",
              "        vertical-align: top;\n",
              "    }\n",
              "\n",
              "    .dataframe thead th {\n",
              "        text-align: right;\n",
              "    }\n",
              "</style>\n",
              "<table border=\"1\" class=\"dataframe\">\n",
              "  <thead>\n",
              "    <tr style=\"text-align: right;\">\n",
              "      <th></th>\n",
              "      <th>A_deg</th>\n",
              "      <th>A_rad</th>\n",
              "      <th>T/T_0</th>\n",
              "    </tr>\n",
              "  </thead>\n",
              "  <tbody>\n",
              "    <tr>\n",
              "      <th>0</th>\n",
              "      <td>0.0</td>\n",
              "      <td>0.000000</td>\n",
              "      <td>1.000000</td>\n",
              "    </tr>\n",
              "    <tr>\n",
              "      <th>1</th>\n",
              "      <td>1.0</td>\n",
              "      <td>0.017453</td>\n",
              "      <td>1.000019</td>\n",
              "    </tr>\n",
              "    <tr>\n",
              "      <th>2</th>\n",
              "      <td>2.0</td>\n",
              "      <td>0.034907</td>\n",
              "      <td>1.000076</td>\n",
              "    </tr>\n",
              "    <tr>\n",
              "      <th>3</th>\n",
              "      <td>3.0</td>\n",
              "      <td>0.052360</td>\n",
              "      <td>1.000171</td>\n",
              "    </tr>\n",
              "    <tr>\n",
              "      <th>4</th>\n",
              "      <td>4.0</td>\n",
              "      <td>0.069813</td>\n",
              "      <td>1.000305</td>\n",
              "    </tr>\n",
              "    <tr>\n",
              "      <th>...</th>\n",
              "      <td>...</td>\n",
              "      <td>...</td>\n",
              "      <td>...</td>\n",
              "    </tr>\n",
              "    <tr>\n",
              "      <th>86</th>\n",
              "      <td>86.0</td>\n",
              "      <td>1.500983</td>\n",
              "      <td>1.162214</td>\n",
              "    </tr>\n",
              "    <tr>\n",
              "      <th>87</th>\n",
              "      <td>87.0</td>\n",
              "      <td>1.518436</td>\n",
              "      <td>1.166617</td>\n",
              "    </tr>\n",
              "    <tr>\n",
              "      <th>88</th>\n",
              "      <td>88.0</td>\n",
              "      <td>1.535890</td>\n",
              "      <td>1.171105</td>\n",
              "    </tr>\n",
              "    <tr>\n",
              "      <th>89</th>\n",
              "      <td>89.0</td>\n",
              "      <td>1.553343</td>\n",
              "      <td>1.175679</td>\n",
              "    </tr>\n",
              "    <tr>\n",
              "      <th>90</th>\n",
              "      <td>90.0</td>\n",
              "      <td>1.570796</td>\n",
              "      <td>1.180341</td>\n",
              "    </tr>\n",
              "  </tbody>\n",
              "</table>\n",
              "<p>91 rows × 3 columns</p>\n",
              "</div>"
            ],
            "text/plain": [
              "    A_deg     A_rad     T/T_0\n",
              "0     0.0  0.000000  1.000000\n",
              "1     1.0  0.017453  1.000019\n",
              "2     2.0  0.034907  1.000076\n",
              "3     3.0  0.052360  1.000171\n",
              "4     4.0  0.069813  1.000305\n",
              "..    ...       ...       ...\n",
              "86   86.0  1.500983  1.162214\n",
              "87   87.0  1.518436  1.166617\n",
              "88   88.0  1.535890  1.171105\n",
              "89   89.0  1.553343  1.175679\n",
              "90   90.0  1.570796  1.180341\n",
              "\n",
              "[91 rows x 3 columns]"
            ]
          },
          "metadata": {},
          "execution_count": 9
        }
      ]
    },
    {
      "cell_type": "code",
      "metadata": {
        "colab": {
          "base_uri": "https://localhost:8080/",
          "height": 300
        },
        "id": "EtxnIadIww4F",
        "outputId": "2c756afa-bbe1-4211-a8a8-a12b648aef41"
      },
      "source": [
        "# 3. Haga un gráfico de  T/T0  como función de  α  (en grados).\n",
        "plt.figure()\n",
        "plt.title('T/T_0 vs alpha', fontsize=15)\n",
        "plt.plot(alpha, df2[\"T/T_0\"],'b')\n",
        "plt.xlabel('alpha (°)',fontsize=12)\n",
        "plt.ylabel('T/T_0',fontsize=12)\n",
        "plt.grid()\n",
        "plt.show()"
      ],
      "execution_count": 10,
      "outputs": [
        {
          "output_type": "display_data",
          "data": {
            "image/png": "[encoded data removed]",
            "text/plain": [
              "<Figure size 432x288 with 1 Axes>"
            ]
          },
          "metadata": {
            "needs_background": "light"
          }
        }
      ]
    },
    {
      "cell_type": "markdown",
      "metadata": {
        "id": "sk-xcXj5GV6A"
      },
      "source": [
        "### 4. Explain the result when $\\alpha = 0$\n",
        "Cuando $\\alpha = 0$ la integral se convierte en $\\int_0^{\\frac{\\pi}{2}} d\\theta=\\frac{\\pi}{2}$ y en consecuencia $T/T_0=1$. Es decir $T=T_0$, ya que $T_0$ se usa para amplitudes que tienden a 0"
      ]
    }
  ]
}