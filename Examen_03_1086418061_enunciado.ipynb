{
 "cells": [
  {
   "cell_type": "markdown",
   "metadata": {
    "id": "40WhQJy2EWqx"
   },
   "source": [
    "# Casas-Ibarra\n",
    "Let $\\boldsymbol{A}$ $3\\times3$ a symmetric non-diagonal matrix with the following set of eigenvalues and eigenvectors:\n"
   ]
  },
  {
   "cell_type": "markdown",
   "metadata": {
    "id": "cwKjVMtNvgl0"
   },
   "source": [
    "____"
   ]
  },
  {
   "cell_type": "markdown",
   "metadata": {
    "id": "G-uQDCOkvgl0"
   },
   "source": [
    "### Eigenvalues\n",
    "The normal ordering of the absolute value of the eigenvalues is $m_1<m_2<m_3$. Each eigenvalue is expressed in units of eV, which just of an energy unit.\n",
    "### Eigenvectors\n",
    "The eigenvectors in the normal ordering are defined by\n",
    "$$\n",
    "\\boldsymbol{U}^T \\boldsymbol{A} \\boldsymbol{U}=\n",
    "\\begin{pmatrix}\n",
    "m_1& 0 & 0\\\\\n",
    "0 & m_2& 0\\\\\n",
    "0 & 0 & m_3\\\\\n",
    "\\end{pmatrix}.\n",
    "$$\n",
    "The unitary matrix can be parameterized in terms of three mixing angles, $\\theta_{23}$ $\\theta_{13}$, $\\theta_{12}$, such that\n",
    "$$\n",
    "\\boldsymbol{U}=\\left(\\begin{array}{ccc}\n",
    "1 & 0 & 0 \\\\\n",
    "0 & c_{23} & s_{23} \\\\\n",
    "0 & -s_{23} & c_{23}\n",
    "\\end{array}\\right) \\cdot\\left(\\begin{array}{ccc}\n",
    "c_{13} & 0 & s_{13}  \\\\\n",
    "0 & 1 & 0 \\\\\n",
    "-s_{13}  & 0 & c_{13}\n",
    "\\end{array}\\right) \\cdot\\left(\\begin{array}{ccc}\n",
    "c_{12} & s_{12} & 0 \\\\\n",
    "-s_{12} & c_{12} & 0 \\\\\n",
    "0 & 0 & 1\n",
    "\\end{array}\\right),\n",
    "$$\n",
    "where $c_{i j} \\equiv \\cos \\theta_{i j}$ and $s_{i j} \\equiv \\sin \\theta_{i j}$. Thus, we can write $\\boldsymbol{U}$ as\n",
    "$$\n",
    "\\boldsymbol{U}=\\left(\\begin{array}{ccc}c_{12} c_{13} & s_{12} c_{13} & s_{13}  \\\\ -s_{12} c_{23}-c_{12} s_{13} s_{23}& c_{12} c_{23}-s_{12} s_{13} s_{23}  & c_{13} s_{23} \\\\ s_{12} s_{23}-c_{12} s_{13} c_{23} & -c_{12} s_{23}-s_{12} s_{13} c_{23}  & c_{13} c_{23}\\end{array}\\right)\n",
    "$$\n",
    "so that\n",
    "$$\n",
    "\\boldsymbol{U}_1=\\begin{pmatrix}U_{e1}\\\\ U_{\\mu 1}\\\\ U_{\\tau 1}\\end{pmatrix}=\\begin{pmatrix}\n",
    "c_{12} c_{13} \\\\\n",
    "-s_{12} c_{23}-c_{12} s_{13} s_{23}  \\\\\n",
    "s_{12} s_{23}-c_{12} s_{13} c_{23} \n",
    "\\end{pmatrix},\\qquad \n",
    "\\boldsymbol{U}_2=\\begin{pmatrix}U_{e2}\\\\ U_{\\mu 2}\\\\ U_{\\tau 2}\\end{pmatrix}=\\begin{pmatrix}\n",
    "s_{12} c_{13} \\\\\n",
    "c_{12} c_{23}-s_{12} s_{13} s_{23}  \\\\\n",
    "-c_{12} s_{23}-s_{12} s_{13} c_{23} \n",
    "\\end{pmatrix},\\qquad\n",
    "\\boldsymbol{U}_3=\\begin{pmatrix}U_{e3}\\\\ U_{\\mu 3}\\\\ U_{\\tau 3}\\end{pmatrix}=\\begin{pmatrix}\n",
    "s_{13}  \\\\\n",
    "c_{13} s_{23} \\\\\n",
    "c_{13} c_{23}\n",
    "\\end{pmatrix}\n",
    "$$\n",
    "\n",
    "### Data\n",
    "Use the _central values_  of the following table but ignoring $\\delta_{CP}$ (In the previous equations was fixed to $\\delta_{CP}=0$). __Hint__: take care of the denominator in the first colum.\n",
    "\n",
    "![IMAGE](https://github.com/restrepo/ComputationalMethods/raw/master/material/figures/nu.png)\n",
    "\n",
    "where $\\Delta m^2_{ij}=m^2_i-m^2_j$ is the squared mass difference between eigenvalues $i$ and $j$; in units of $\\text{eV}^2$.\n"
   ]
  },
  {
   "cell_type": "markdown",
   "metadata": {
    "id": "bnSCrqmSvgl1"
   },
   "source": [
    "### Casas-Ibarra parameterization\n",
    "We can assumme without lost of generality that $\\boldsymbol{A}$ can be generated from a matrix $\\boldsymbol{Y}$ such that\n",
    "$$\n",
    "\\boldsymbol{A}=\\boldsymbol{Y}^{\\operatorname{T}}\\boldsymbol{Y}\n",
    "$$\n",
    "\n",
    "The matrix $\\boldsymbol{Y}$ can be parameterized in terms of an arbitray orthogonal $3\\times 3$ matrix, $\\boldsymbol{R}$, as\n",
    "$$\n",
    "\\boldsymbol{Y}=\\boldsymbol{R} \\boldsymbol{D}_{\\sqrt{m}} \\boldsymbol{U}^{\\operatorname{T}}\n",
    "$$\n",
    "\n",
    "\n",
    "* $R$ is an orthogonal $3\\times 3$ matrix, with three rotation angles $\\alpha_{ij}$ between $(0,2\\pi)$\n",
    "$$\n",
    "\\boldsymbol{R}=\\left(\\begin{array}{ccc}c^\\alpha_{12} c^\\alpha_{13} & s^\\alpha_{12} c^\\alpha_{13} & s^\\alpha_{13}  \\\\ -s^\\alpha_{12} c^\\alpha_{23}-c^\\alpha_{12} s^\\alpha_{13} s^\\alpha_{23}& c^\\alpha_{12} c^\\alpha_{23}-s^\\alpha_{12} s^\\alpha_{13} s^\\alpha_{23}  & c^\\alpha_{13} s^\\alpha_{23} \\\\ s^\\alpha_{12} s^\\alpha_{23}-c^\\alpha_{12} s^\\alpha_{13} c^\\alpha_{23} & -c^\\alpha_{12} s^\\alpha_{23}-s^\\alpha_{12} s^\\alpha_{13} c^\\alpha_{23}  & c^\\alpha_{13} c^\\alpha_{23}\\end{array}\\right)\n",
    "$$\n",
    "where $c^\\alpha_{i j} \\equiv \\cos \\alpha_{i j}$ and $s^\\alpha_{i j} \\equiv \\sin \\alpha_{i j}$.\n",
    "\n",
    "* $$\n",
    " \\boldsymbol{D}_{\\sqrt{m}}=\\operatorname{diag}\\left(\\sqrt{m_1},\\sqrt{m_2},\\sqrt{m_3}\\right)\n",
    "$$"
   ]
  },
  {
   "cell_type": "markdown",
   "metadata": {
    "id": "Iqj7EWSPvgl3"
   },
   "source": [
    "### Problem\n",
    "1. Choose a random value for $m_1$ between $10^{-9}\\ \\text{eV}$ and $10^{-4}\\ \\text{eV}$. Note that because of the wide range, the random variation  must be in the exponents. Obtain the corresponding $m_2$ and $m_3$ with the proper normal ordering.\n",
    "1. Choose random values for $\\alpha_{ij}$  between $(0,2\\pi)$\n",
    "1. Obtain $\\boldsymbol{Y}$\n",
    "1. Check that the generated $\\boldsymbol{A}$ has the proper eigenvalues and eigenvectors\n",
    "1. Check that the eigenvalues of $\\boldsymbol{Y}$ correspond to the square root of the eigenvalues of $\\boldsymbol{A}$ and explain why."
   ]
  },
  {
   "cell_type": "markdown",
   "metadata": {
    "id": "2J0n-8Rfvqks"
   },
   "source": [
    "Where $\\Delta m^2_{ij}=m^2_i-m^2_j$"
   ]
  },
  {
   "cell_type": "code",
   "execution_count": 50,
   "metadata": {},
   "outputs": [],
   "source": [
    "import numpy as np\n",
    "import scipy.linalg as la\n"
   ]
  },
  {
   "cell_type": "code",
   "execution_count": 89,
   "metadata": {},
   "outputs": [],
   "source": [
    "m1=(10e-7) #eV2 #Valor dado\n",
    "m21=(7.39+0.21)*10e-5 #eV2\n",
    "\n",
    "m2=np.sqrt(m21+m1**2) #Se encuentra m2 a partir de el m21 de la tabla y m1 definido.\n"
   ]
  },
  {
   "cell_type": "code",
   "execution_count": 98,
   "metadata": {},
   "outputs": [
    {
     "data": {
      "text/plain": [
       "0.001"
      ]
     },
     "execution_count": 98,
     "metadata": {},
     "output_type": "execute_result"
    }
   ],
   "source": [
    "np.sqrt(10e-7)"
   ]
  },
  {
   "cell_type": "code",
   "execution_count": 90,
   "metadata": {},
   "outputs": [],
   "source": [
    "m32=(2.449+0.032)*10e-3 #Delta m32.\n",
    "\n",
    "m3=np.sqrt(m32+(m2**2)) #Se encuentra m3 a partir de el m32 de la tabla y m2 encontrado anteriormente."
   ]
  },
  {
   "cell_type": "code",
   "execution_count": 91,
   "metadata": {},
   "outputs": [
    {
     "data": {
      "text/plain": [
       "(0.02756809752231735, 0.15990622252120146)"
      ]
     },
     "execution_count": 91,
     "metadata": {},
     "output_type": "execute_result"
    }
   ],
   "source": [
    "m2,m3"
   ]
  },
  {
   "cell_type": "code",
   "execution_count": 92,
   "metadata": {},
   "outputs": [],
   "source": [
    "alf12=0.5 #Se usan los alfas ij para remplazarlos en la matriz R.\n",
    "alf13=np.pi/4 #Se define alfa entre para 12, 13 y 23 (0,2pi)\n",
    "alf23=np.pi"
   ]
  },
  {
   "cell_type": "markdown",
   "metadata": {},
   "source": [
    "* $R$ is an orthogonal $3\\times 3$ matrix, with three rotation angles $\\alpha_{ij}$ between $(0,2\\pi)$\n",
    "$$\n",
    "\\boldsymbol{R}=\\left(\\begin{array}{ccc}c^\\alpha_{12} c^\\alpha_{13} & s^\\alpha_{12} c^\\alpha_{13} & s^\\alpha_{13}  \\\\ -s^\\alpha_{12} c^\\alpha_{23}-c^\\alpha_{12} s^\\alpha_{13} s^\\alpha_{23}& c^\\alpha_{12} c^\\alpha_{23}-s^\\alpha_{12} s^\\alpha_{13} s^\\alpha_{23}  & c^\\alpha_{13} s^\\alpha_{23} \\\\ s^\\alpha_{12} s^\\alpha_{23}-c^\\alpha_{12} s^\\alpha_{13} c^\\alpha_{23} & -c^\\alpha_{12} s^\\alpha_{23}-s^\\alpha_{12} s^\\alpha_{13} c^\\alpha_{23}  & c^\\alpha_{13} c^\\alpha_{23}\\end{array}\\right)\n",
    "$$\n",
    "where $c^\\alpha_{i j} \\equiv \\cos \\alpha_{i j}$ and $s^\\alpha_{i j} \\equiv \\sin \\alpha_{i j}$."
   ]
  },
  {
   "cell_type": "code",
   "execution_count": 93,
   "metadata": {},
   "outputs": [],
   "source": [
    "#Se definen los cji^alfa usando los alfa anteriores.\n",
    "c12a=np.cos(alf12)\n",
    "c13a=np.cos(alf13)\n",
    "c23a=np.cos(alf23)\n",
    "\n",
    "#Se definen los sji^alfa usando los alfa anteriores.\n",
    "\n",
    "s12a=np.sin(alf12)\n",
    "s13a=np.sin(alf13)\n",
    "s23a=np.sin(alf23)"
   ]
  },
  {
   "cell_type": "code",
   "execution_count": 94,
   "metadata": {},
   "outputs": [],
   "source": [
    "#Se ubican los cji^alfa y sji^alfa  usando la referencia de matriz R dada, por cada fila.\n",
    "r1=([c12a*c13a, s12a*c13a, s13a])\n",
    "r2=([-s12a*c23a-c12a*s13a*s23a, c12a*c23a-s12a*s13a*s23a, c13a*s23a])\n",
    "r3=([s12a*s23a-c12a*s13a*c23a, -c12a*s23a-s12a*s13a*c23a, c13a*c23a])\n",
    "\n",
    "R=np.asmatrix(np.array([r1,r2,r3])) #Matriz R."
   ]
  },
  {
   "cell_type": "markdown",
   "metadata": {},
   "source": [
    "* $$\n",
    " \\boldsymbol{D}_{\\sqrt{m}}=\\operatorname{diag}\\left(\\sqrt{m_1},\\sqrt{m_2},\\sqrt{m_3}\\right)\n",
    "$$"
   ]
  },
  {
   "cell_type": "code",
   "execution_count": 95,
   "metadata": {},
   "outputs": [
    {
     "data": {
      "text/plain": [
       "array([[0.001     , 0.        , 0.        ],\n",
       "       [0.        , 0.16603643, 0.        ],\n",
       "       [0.        , 0.        , 0.39988276]])"
      ]
     },
     "execution_count": 95,
     "metadata": {},
     "output_type": "execute_result"
    }
   ],
   "source": [
    "D=np.diag(np.array([np.sqrt(m1),np.sqrt(m2),np.sqrt(m3)]), 0)\n",
    "D #Matriz D, usando las raices de m1, m2 y m3."
   ]
  },
  {
   "cell_type": "markdown",
   "metadata": {},
   "source": [
    "\n",
    "Where $c_{i j} \\equiv \\cos \\theta_{i j}$ and $s_{i j} \\equiv \\sin \\theta_{i j}$. Thus, we can write $\\boldsymbol{U}$ as\n",
    "$$\n",
    "\\boldsymbol{U}=\\left(\\begin{array}{ccc}c_{12} c_{13} & s_{12} c_{13} & s_{13}  \\\\ -s_{12} c_{23}-c_{12} s_{13} s_{23}& c_{12} c_{23}-s_{12} s_{13} s_{23}  & c_{13} s_{23} \\\\ s_{12} s_{23}-c_{12} s_{13} c_{23} & -c_{12} s_{23}-s_{12} s_{13} c_{23}  & c_{13} c_{23}\\end{array}\\right)\n",
    "$$\n",
    "so that\n"
   ]
  },
  {
   "cell_type": "code",
   "execution_count": 33,
   "metadata": {},
   "outputs": [],
   "source": [
    "ot=[33.82+0.78, 48.3+1.2, 8.61+0.13] #[012, 023, 013] #Angulos encontrados en la tabla asignada.\n",
    "o=np.radians(ot)\n",
    "\n",
    "#Se definen los cji usando los angulos anteriores.\n",
    "c12=np.cos(o[0])\n",
    "c23=np.cos(o[1])\n",
    "c13=np.cos(o[2])\n",
    "\n",
    "#Se definen los sji usando los angulos anteriores.\n",
    "s12=np.sin(o[0])\n",
    "s23=np.sin(o[1])\n",
    "s13=np.sin(o[2])"
   ]
  },
  {
   "cell_type": "code",
   "execution_count": 34,
   "metadata": {},
   "outputs": [],
   "source": [
    "#Se define la matriz U usando la teoria anterior y los cij y sij encontrados.\n",
    "u1=([c12*c13, s12*c13, s13])\n",
    "u2=([-s12*c23-c12*s13*s23, c12*c23-s12*s13*s23, c13*s23])\n",
    "u3=([s12*s23-c12*s13*c23, -c12*s23-s12*s13*c23, c13*c23])\n",
    "\n",
    "\n",
    "U=np.asmatrix(np.array([u1,u2,u3])) #Matriz U usando u1, u2, u3."
   ]
  },
  {
   "cell_type": "code",
   "execution_count": 68,
   "metadata": {},
   "outputs": [
    {
     "data": {
      "text/plain": [
       "matrix([[ 0.81357815,  0.56124997,  0.15195088],\n",
       "        [-0.46389377,  0.46897317,  0.75157617],\n",
       "        [ 0.35056121, -0.68195501,  0.64190669]])"
      ]
     },
     "execution_count": 68,
     "metadata": {},
     "output_type": "execute_result"
    }
   ],
   "source": [
    "U "
   ]
  },
  {
   "cell_type": "code",
   "execution_count": 35,
   "metadata": {},
   "outputs": [],
   "source": [
    "UT=np.transpose(U) #Matriz traspuesta de U.\n"
   ]
  },
  {
   "cell_type": "markdown",
   "metadata": {},
   "source": [
    "$$\n",
    "\\boldsymbol{Y}=\\boldsymbol{R} \\boldsymbol{D}_{\\sqrt{m}} \\boldsymbol{U}^{\\operatorname{T}}\n",
    "$$"
   ]
  },
  {
   "cell_type": "code",
   "execution_count": 75,
   "metadata": {},
   "outputs": [],
   "source": [
    "Y=R@D@UT #Se encuentra la matriz usando la teoria dada.\n",
    "YT=np.transpose(Y)"
   ]
  },
  {
   "cell_type": "markdown",
   "metadata": {},
   "source": [
    "$$\n",
    "\\boldsymbol{A}=\\boldsymbol{Y}^{\\operatorname{T}}\\boldsymbol{Y}\n",
    "$$"
   ]
  },
  {
   "cell_type": "code",
   "execution_count": 99,
   "metadata": {},
   "outputs": [
    {
     "data": {
      "text/plain": [
       "matrix([[0.01237674, 0.02551757, 0.00504565],\n",
       "        [0.02551757, 0.09638913, 0.06832849],\n",
       "        [0.00504565, 0.06832849, 0.07870945]])"
      ]
     },
     "execution_count": 99,
     "metadata": {},
     "output_type": "execute_result"
    }
   ],
   "source": [
    "A=YT@Y #Se usa la teoria dada para definir A usando la Y encontrada.\n",
    "A"
   ]
  },
  {
   "cell_type": "code",
   "execution_count": 102,
   "metadata": {},
   "outputs": [],
   "source": [
    "λ1,V1=np.linalg.eig( A ) #Se usa linealg para obtener los valores y vectores propios de A"
   ]
  },
  {
   "cell_type": "code",
   "execution_count": 103,
   "metadata": {},
   "outputs": [
    {
     "data": {
      "text/plain": [
       "array([1.59906223e-01, 1.00000000e-06, 2.75680975e-02])"
      ]
     },
     "execution_count": 103,
     "metadata": {},
     "output_type": "execute_result"
    }
   ],
   "source": [
    "λ1 #Los valores propios coinciden con m3, m1, m2."
   ]
  },
  {
   "cell_type": "code",
   "execution_count": 111,
   "metadata": {},
   "outputs": [
    {
     "data": {
      "text/plain": [
       "matrix([[ 0.15195088,  0.81357815,  0.56124997],\n",
       "        [ 0.75157617, -0.46389377,  0.46897317],\n",
       "        [ 0.64190669,  0.35056121, -0.68195501]])"
      ]
     },
     "execution_count": 111,
     "metadata": {},
     "output_type": "execute_result"
    }
   ],
   "source": [
    "-V1 #Los vectores propios de A coinciden con la matriz -U."
   ]
  },
  {
   "cell_type": "code",
   "execution_count": 105,
   "metadata": {},
   "outputs": [],
   "source": [
    "λ2,V2=np.linalg.eig( Y) #Se usa linealg para obtener los valores y vectores propios de Y"
   ]
  },
  {
   "cell_type": "code",
   "execution_count": 106,
   "metadata": {},
   "outputs": [
    {
     "data": {
      "text/plain": [
       "array([ 0.00198866+0.j        , -0.10757851+0.14769457j,\n",
       "       -0.10757851-0.14769457j])"
      ]
     },
     "execution_count": 106,
     "metadata": {},
     "output_type": "execute_result"
    }
   ],
   "source": [
    "λ2 #Valores propios de Y, el primer valor propio es la raiz de m2 (valor propio de A.)"
   ]
  },
  {
   "cell_type": "markdown",
   "metadata": {},
   "source": [
    "$$\n",
    "\\boldsymbol{U}^T \\boldsymbol{A} \\boldsymbol{U}=\n",
    "\\begin{pmatrix}\n",
    "m_1& 0 & 0\\\\\n",
    "0 & m_2& 0\\\\\n",
    "0 & 0 & m_3\\\\\n",
    "\\end{pmatrix}.\n",
    "$$"
   ]
  },
  {
   "cell_type": "code",
   "execution_count": 107,
   "metadata": {},
   "outputs": [
    {
     "data": {
      "text/plain": [
       "matrix([[ 1.00000000e-06,  3.67051140e-18,  1.16697847e-17],\n",
       "        [ 1.73472348e-18,  2.75680975e-02, -2.60208521e-17],\n",
       "        [ 1.38777878e-17, -1.38777878e-17,  1.59906223e-01]])"
      ]
     },
     "execution_count": 107,
     "metadata": {},
     "output_type": "execute_result"
    }
   ],
   "source": [
    "T=UT@A@U \n",
    "T #Matriz UT*A*U, en su diagonal están los valores propios de A, lo cuales son m1, m2, m3."
   ]
  },
  {
   "cell_type": "code",
   "execution_count": 108,
   "metadata": {},
   "outputs": [
    {
     "data": {
      "text/plain": [
       "[9.9999999999767e-07, 0.027568097522317345, 0.15990622252120146]"
      ]
     },
     "execution_count": 108,
     "metadata": {},
     "output_type": "execute_result"
    }
   ],
   "source": [
    "M=[T[0,0],T[1,1],T[2,2]] #Diagonal de la matriz anterior, la cual coincide con m1,m2 y m3.\n",
    "M"
   ]
  }
 ],
 "metadata": {
  "colab": {
   "name": "Examen_2021_1_03_enunciado.ipynb",
   "provenance": []
  },
  "kernelspec": {
   "display_name": "Python 3",
   "language": "python",
   "name": "python3"
  },
  "language_info": {
   "codemirror_mode": {
    "name": "ipython",
    "version": 3
   },
   "file_extension": ".py",
   "mimetype": "text/x-python",
   "name": "python",
   "nbconvert_exporter": "python",
   "pygments_lexer": "ipython3",
   "version": "3.8.5"
  }
 },
 "nbformat": 4,
 "nbformat_minor": 1
}
