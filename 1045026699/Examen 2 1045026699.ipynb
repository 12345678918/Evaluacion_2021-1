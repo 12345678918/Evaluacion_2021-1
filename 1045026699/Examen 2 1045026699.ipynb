{
  "nbformat": 4,
  "nbformat_minor": 0,
  "metadata": {
    "kernelspec": {
      "display_name": "Python 3 (ipykernel)",
      "language": "python",
      "name": "python3"
    },
    "language_info": {
      "codemirror_mode": {
        "name": "ipython",
        "version": 3
      },
      "file_extension": ".py",
      "mimetype": "text/x-python",
      "name": "python",
      "nbconvert_exporter": "python",
      "pygments_lexer": "ipython3",
      "version": "3.7.3"
    },
    "colab": {
      "name": "Copia de Examen_2021_1_02_enunciado.ipynb",
      "provenance": [],
      "collapsed_sections": []
    }
  },
  "cells": [
    {
      "cell_type": "markdown",
      "metadata": {
        "id": "u1N_nIXls5Uk"
      },
      "source": [
        "A) Los siguientes datos fueron extraidos de un [perfil real de Instragram](https://www.instagram.com/paulacano24/):\n",
        "\n",
        "https://raw.githubusercontent.com/restrepo/ComputationalMethods/master/data/Followers.json\n",
        "\n",
        "Interprete los datos como un problema de caida libre y a partir del ajuste (fit) a la correspondiente ecuación de movimiento, determine\n",
        "1. La velocidad inicial de incremento de seguidores en `followers/hour`\n",
        "1. La aceleración constante en `followers/hour**2`\n",
        "1. El número máximo de seguidores que alcanzaría el perfil\n",
        "1. La fecha en la que se alcanzaría dicho máximo\n",
        "\n",
        "B) El período de  un pendulo de longitud $l$ oscilando a ángulos grandes  $\\alpha$, está dado por\n",
        "$$\n",
        "T=T_{0} \\frac{\\sqrt{2}}{\\pi} \\int_{0}^{\\alpha} \\frac{d \\theta}{(\\cos \\theta-\\cos \\alpha)^{\\frac{1}{2}}}\n",
        "$$\n",
        "donde\n",
        "$$\n",
        "T_{0}=2 \\pi \\sqrt{\\frac{l}{g}}\n",
        "$$\n",
        "es el período del mismo péndulo a pequeñas amplitudes. Culquier intento de evaluación numérico de esa integral debería fallar. Sin embargo, si hacemos el cambio de variable\n",
        "$$\n",
        "\\sin \\frac{\\theta}{2}=\\sin \\frac{\\alpha}{2} \\sin \\phi\n",
        "$$\n",
        "obtenemos\n",
        "$$\n",
        "T=\\frac{2 T_{0}}{\\pi} \\int_{0}^{\\frac{\\pi}{2}} \\frac{d \\phi}{\\left(1-\\sin ^{2} \\frac{\\alpha}{2} \\sin ^{2} \\phi\\right)^{\\frac{1}{2}}}\n",
        "$$\n",
        "que corresponde a una integral bien comportada. \n",
        "1. Escriba un programa que use la anterio integral para calcular el cociente  $T/T_0$ para ángulos enteros (en grados) $0^\\circ \\le\\alpha \\le 90^\\circ$.  \n",
        "1. Genere un DataFrame de pandas que contenga como columnas: la amplitud en grados, la amplitud en radianes, y el cociente $T/T_0$, \n",
        "1. Haga un gráfico de $T/T_0$ como función de $\\alpha$ (en grados). \n",
        "1. Explain the result when $\\alpha = 0.$ "
      ]
    },
    {
      "cell_type": "code",
      "metadata": {
        "id": "luqYcG7dtIdB"
      },
      "source": [
        "import numpy as np\n",
        "\n",
        "import pandas as pd\n",
        "from scipy import interpolate\n",
        "import scipy.integrate as integrate\n",
        "import matplotlib,pylab as plt"
      ],
      "execution_count": 131,
      "outputs": []
    },
    {
      "cell_type": "markdown",
      "metadata": {
        "id": "NLvFfHgBU_Fm"
      },
      "source": [
        "Punto 2"
      ]
    },
    {
      "cell_type": "code",
      "metadata": {
        "colab": {
          "base_uri": "https://localhost:8080/"
        },
        "id": "7sqY4F25zYK3",
        "outputId": "65e0b080-b72c-4043-e8c2-0b0bc78eabc9"
      },
      "source": [
        "#definimos T y To\n",
        "\n",
        "g= 9.806\n",
        "\n",
        "\n",
        "def to(l,g= 9.80665):\n",
        "  \n",
        "  return 2*np.pi*np.sqrt(l/g)\n",
        "\n",
        "def t(theta,l,g=9.80665):\n",
        "  s = np.sin(theta/2)\n",
        "\n",
        "  return (2*to(l,g)/np.pi)*integrate.quad(lambda x: (1)/(np.sqrt(1-s**2*np.sin(x)**2)),0,np.pi/2)[0]\n",
        "\n",
        "vectt = np.vectorize(t)\n",
        "\n",
        "theta = np.linspace(0,np.pi/2,100)\n",
        "theta = np.asarray(theta)\n",
        "l = 10\n",
        "\n",
        "Lista = np.ones(theta.shape[0])*to(l)\n",
        "Lista"
      ],
      "execution_count": 181,
      "outputs": [
        {
          "output_type": "execute_result",
          "data": {
            "text/plain": [
              "array([6.34482328, 6.34482328, 6.34482328, 6.34482328, 6.34482328,\n",
              "       6.34482328, 6.34482328, 6.34482328, 6.34482328, 6.34482328,\n",
              "       6.34482328, 6.34482328, 6.34482328, 6.34482328, 6.34482328,\n",
              "       6.34482328, 6.34482328, 6.34482328, 6.34482328, 6.34482328,\n",
              "       6.34482328, 6.34482328, 6.34482328, 6.34482328, 6.34482328,\n",
              "       6.34482328, 6.34482328, 6.34482328, 6.34482328, 6.34482328,\n",
              "       6.34482328, 6.34482328, 6.34482328, 6.34482328, 6.34482328,\n",
              "       6.34482328, 6.34482328, 6.34482328, 6.34482328, 6.34482328,\n",
              "       6.34482328, 6.34482328, 6.34482328, 6.34482328, 6.34482328,\n",
              "       6.34482328, 6.34482328, 6.34482328, 6.34482328, 6.34482328,\n",
              "       6.34482328, 6.34482328, 6.34482328, 6.34482328, 6.34482328,\n",
              "       6.34482328, 6.34482328, 6.34482328, 6.34482328, 6.34482328,\n",
              "       6.34482328, 6.34482328, 6.34482328, 6.34482328, 6.34482328,\n",
              "       6.34482328, 6.34482328, 6.34482328, 6.34482328, 6.34482328,\n",
              "       6.34482328, 6.34482328, 6.34482328, 6.34482328, 6.34482328,\n",
              "       6.34482328, 6.34482328, 6.34482328, 6.34482328, 6.34482328,\n",
              "       6.34482328, 6.34482328, 6.34482328, 6.34482328, 6.34482328,\n",
              "       6.34482328, 6.34482328, 6.34482328, 6.34482328, 6.34482328,\n",
              "       6.34482328, 6.34482328, 6.34482328, 6.34482328, 6.34482328,\n",
              "       6.34482328, 6.34482328, 6.34482328, 6.34482328, 6.34482328])"
            ]
          },
          "metadata": {},
          "execution_count": 181
        }
      ]
    },
    {
      "cell_type": "code",
      "metadata": {
        "colab": {
          "base_uri": "https://localhost:8080/"
        },
        "id": "nZReO2SRK2cu",
        "outputId": "fb75f5fc-c12d-43b9-9c45-dc308640819e"
      },
      "source": [
        "vectt(theta,l)"
      ],
      "execution_count": 182,
      "outputs": [
        {
          "output_type": "execute_result",
          "data": {
            "text/plain": [
              "array([6.34482328, 6.34492312, 6.34522263, 6.34572189, 6.34642096,\n",
              "       6.34731998, 6.3484191 , 6.3497185 , 6.35121842, 6.35291912,\n",
              "       6.35482089, 6.35692405, 6.35922899, 6.3617361 , 6.36444581,\n",
              "       6.3673586 , 6.37047499, 6.37379551, 6.37732075, 6.38105134,\n",
              "       6.38498792, 6.38913119, 6.3934819 , 6.3980408 , 6.40280871,\n",
              "       6.40778649, 6.41297501, 6.41837521, 6.42398807, 6.42981459,\n",
              "       6.43585583, 6.44211288, 6.44858689, 6.45527903, 6.46219053,\n",
              "       6.46932267, 6.47667675, 6.48425415, 6.49205628, 6.50008459,\n",
              "       6.50834058, 6.51682582, 6.52554192, 6.53449052, 6.54367334,\n",
              "       6.55309214, 6.56274875, 6.57264502, 6.5827829 , 6.59316437,\n",
              "       6.60379147, 6.61466631, 6.62579106, 6.63716794, 6.64879926,\n",
              "       6.66068737, 6.6728347 , 6.68524374, 6.69791706, 6.7108573 ,\n",
              "       6.72406716, 6.73754944, 6.75130701, 6.76534279, 6.77965983,\n",
              "       6.79426123, 6.80915019, 6.82432998, 6.83980399, 6.85557568,\n",
              "       6.87164861, 6.88802645, 6.90471296, 6.921712  , 6.93902755,\n",
              "       6.9566637 , 6.97462464, 6.99291468, 7.01153827, 7.03049997,\n",
              "       7.04980445, 7.06945655, 7.08946122, 7.10982357, 7.13054882,\n",
              "       7.15164239, 7.17310982, 7.19495682, 7.21718928, 7.23981323,\n",
              "       7.26283492, 7.28626075, 7.31009733, 7.33435145, 7.35903014,\n",
              "       7.3841406 , 7.40969027, 7.43568684, 7.4621382 , 7.48905251])"
            ]
          },
          "metadata": {},
          "execution_count": 182
        }
      ]
    },
    {
      "cell_type": "code",
      "metadata": {
        "colab": {
          "base_uri": "https://localhost:8080/"
        },
        "id": "3iK47YY5LP-9",
        "outputId": "2c506f53-4538-4c8e-e8d2-631d90522a38"
      },
      "source": [
        "vectt(theta,l)/Lista"
      ],
      "execution_count": 183,
      "outputs": [
        {
          "output_type": "execute_result",
          "data": {
            "text/plain": [
              "array([1.        , 1.00001573, 1.00006294, 1.00014163, 1.00025181,\n",
              "       1.0003935 , 1.00056673, 1.00077153, 1.00100793, 1.00127597,\n",
              "       1.00157571, 1.00190719, 1.00227047, 1.00266561, 1.00309268,\n",
              "       1.00355177, 1.00404293, 1.00456628, 1.00512189, 1.00570986,\n",
              "       1.0063303 , 1.00698332, 1.00766903, 1.00838755, 1.00913901,\n",
              "       1.00992355, 1.01074131, 1.01159243, 1.01247707, 1.01339538,\n",
              "       1.01434753, 1.0153337 , 1.01635406, 1.0174088 , 1.01849811,\n",
              "       1.0196222 , 1.02078127, 1.02197553, 1.02320522, 1.02447055,\n",
              "       1.02577177, 1.02710911, 1.02848285, 1.02989323, 1.03134052,\n",
              "       1.03282501, 1.03434697, 1.03590671, 1.03750453, 1.03914074,\n",
              "       1.04081567, 1.04252964, 1.04428299, 1.04607609, 1.04790929,\n",
              "       1.04978296, 1.05169749, 1.05365326, 1.05565069, 1.05769018,\n",
              "       1.05977217, 1.0618971 , 1.06406541, 1.06627758, 1.06853407,\n",
              "       1.07083538, 1.07318201, 1.07557448, 1.07801332, 1.08049907,\n",
              "       1.08303231, 1.0856136 , 1.08824354, 1.09092274, 1.09365182,\n",
              "       1.09643144, 1.09926224, 1.10214491, 1.10508015, 1.10806868,\n",
              "       1.11111124, 1.11420858, 1.11736149, 1.12057078, 1.12383726,\n",
              "       1.12716179, 1.13054525, 1.13398853, 1.13749256, 1.14105829,\n",
              "       1.14468672, 1.14837883, 1.15213569, 1.15595835, 1.15984793,\n",
              "       1.16380556, 1.16783241, 1.1719297 , 1.17609867, 1.1803406 ])"
            ]
          },
          "metadata": {},
          "execution_count": 183
        }
      ]
    },
    {
      "cell_type": "code",
      "metadata": {
        "colab": {
          "base_uri": "https://localhost:8080/",
          "height": 419
        },
        "id": "ycn-AMMyL7uu",
        "outputId": "0a7c0548-8ccb-4fbe-dd2d-300618dc5f23"
      },
      "source": [
        "df = pd.DataFrame({\"Theta\" : theta , \"grados\" : theta*180/np.pi , \"cociente\" : vectt(theta,l)/Lista})\n",
        "df"
      ],
      "execution_count": 184,
      "outputs": [
        {
          "output_type": "execute_result",
          "data": {
            "text/html": [
              "<div>\n",
              "<style scoped>\n",
              "    .dataframe tbody tr th:only-of-type {\n",
              "        vertical-align: middle;\n",
              "    }\n",
              "\n",
              "    .dataframe tbody tr th {\n",
              "        vertical-align: top;\n",
              "    }\n",
              "\n",
              "    .dataframe thead th {\n",
              "        text-align: right;\n",
              "    }\n",
              "</style>\n",
              "<table border=\"1\" class=\"dataframe\">\n",
              "  <thead>\n",
              "    <tr style=\"text-align: right;\">\n",
              "      <th></th>\n",
              "      <th>Theta</th>\n",
              "      <th>grados</th>\n",
              "      <th>cociente</th>\n",
              "    </tr>\n",
              "  </thead>\n",
              "  <tbody>\n",
              "    <tr>\n",
              "      <th>0</th>\n",
              "      <td>0.000000</td>\n",
              "      <td>0.000000</td>\n",
              "      <td>1.000000</td>\n",
              "    </tr>\n",
              "    <tr>\n",
              "      <th>1</th>\n",
              "      <td>0.015867</td>\n",
              "      <td>0.909091</td>\n",
              "      <td>1.000016</td>\n",
              "    </tr>\n",
              "    <tr>\n",
              "      <th>2</th>\n",
              "      <td>0.031733</td>\n",
              "      <td>1.818182</td>\n",
              "      <td>1.000063</td>\n",
              "    </tr>\n",
              "    <tr>\n",
              "      <th>3</th>\n",
              "      <td>0.047600</td>\n",
              "      <td>2.727273</td>\n",
              "      <td>1.000142</td>\n",
              "    </tr>\n",
              "    <tr>\n",
              "      <th>4</th>\n",
              "      <td>0.063467</td>\n",
              "      <td>3.636364</td>\n",
              "      <td>1.000252</td>\n",
              "    </tr>\n",
              "    <tr>\n",
              "      <th>...</th>\n",
              "      <td>...</td>\n",
              "      <td>...</td>\n",
              "      <td>...</td>\n",
              "    </tr>\n",
              "    <tr>\n",
              "      <th>95</th>\n",
              "      <td>1.507330</td>\n",
              "      <td>86.363636</td>\n",
              "      <td>1.163806</td>\n",
              "    </tr>\n",
              "    <tr>\n",
              "      <th>96</th>\n",
              "      <td>1.523196</td>\n",
              "      <td>87.272727</td>\n",
              "      <td>1.167832</td>\n",
              "    </tr>\n",
              "    <tr>\n",
              "      <th>97</th>\n",
              "      <td>1.539063</td>\n",
              "      <td>88.181818</td>\n",
              "      <td>1.171930</td>\n",
              "    </tr>\n",
              "    <tr>\n",
              "      <th>98</th>\n",
              "      <td>1.554930</td>\n",
              "      <td>89.090909</td>\n",
              "      <td>1.176099</td>\n",
              "    </tr>\n",
              "    <tr>\n",
              "      <th>99</th>\n",
              "      <td>1.570796</td>\n",
              "      <td>90.000000</td>\n",
              "      <td>1.180341</td>\n",
              "    </tr>\n",
              "  </tbody>\n",
              "</table>\n",
              "<p>100 rows × 3 columns</p>\n",
              "</div>"
            ],
            "text/plain": [
              "       Theta     grados  cociente\n",
              "0   0.000000   0.000000  1.000000\n",
              "1   0.015867   0.909091  1.000016\n",
              "2   0.031733   1.818182  1.000063\n",
              "3   0.047600   2.727273  1.000142\n",
              "4   0.063467   3.636364  1.000252\n",
              "..       ...        ...       ...\n",
              "95  1.507330  86.363636  1.163806\n",
              "96  1.523196  87.272727  1.167832\n",
              "97  1.539063  88.181818  1.171930\n",
              "98  1.554930  89.090909  1.176099\n",
              "99  1.570796  90.000000  1.180341\n",
              "\n",
              "[100 rows x 3 columns]"
            ]
          },
          "metadata": {},
          "execution_count": 184
        }
      ]
    },
    {
      "cell_type": "code",
      "metadata": {
        "colab": {
          "base_uri": "https://localhost:8080/",
          "height": 312
        },
        "id": "VU9iSTRyNXzG",
        "outputId": "b2612478-1d01-4d7f-8941-99e68341b3bd"
      },
      "source": [
        "#Graficación de T0/T\n",
        "\n",
        "plt.plot(df.Theta , df.cociente, label = \"T0/T\", color = \"green\")\n",
        "plt.title(\"Grafica de T0/T\",color=\"green\")\n",
        "plt.ylabel(\"Cociente T0/T\")\n",
        "plt.xlabel(\"Theta\")\n",
        "plt.show\n",
        "plt.grid()\n",
        "plt.legend()"
      ],
      "execution_count": 188,
      "outputs": [
        {
          "output_type": "execute_result",
          "data": {
            "text/plain": [
              "<matplotlib.legend.Legend at 0x7f4066d9f310>"
            ]
          },
          "metadata": {},
          "execution_count": 188
        },
        {
          "output_type": "display_data",
          "data": {
            "image/png": "[encoded data removed]",
            "text/plain": [
              "<Figure size 432x288 with 1 Axes>"
            ]
          },
          "metadata": {
            "needs_background": "light"
          }
        }
      ]
    },
    {
      "cell_type": "markdown",
      "metadata": {
        "id": "WU7M1jsMS2mF"
      },
      "source": [
        "Cuando tenemos $\\alpha$ = 0 hace que el denominador de la funcion sea 1 por lo tanto\n",
        "\n",
        "reolviendo la ecuacion tenemos que $T = T0$\n"
      ]
    },
    {
      "cell_type": "markdown",
      "metadata": {
        "id": "okEw3lEiVDdV"
      },
      "source": [
        "punto 1"
      ]
    },
    {
      "cell_type": "code",
      "metadata": {
        "id": "5CSuVTN7VH5l"
      },
      "source": [
        "\n",
        "import pandas as pd\n",
        "import matplotlib.pyplot as plt\n",
        "import numpy as np\n",
        "from scipy import optimize"
      ],
      "execution_count": 240,
      "outputs": []
    },
    {
      "cell_type": "code",
      "metadata": {
        "id": "17OxyrM9VCV2"
      },
      "source": [
        "df =  pd.read_json(\"https://raw.githubusercontent.com/restrepo/ComputationalMethods/master/data/Followers.json\")\n",
        "\n",
        "c = np"
      ],
      "execution_count": 241,
      "outputs": []
    },
    {
      "cell_type": "code",
      "metadata": {
        "id": "LBkREohNVFog"
      },
      "source": [
        "x = np.linspace(0, 619)\n",
        "c = np.polyfit(df.hours, df.followers, 2)\n",
        "cp = np.poly1d(c)"
      ],
      "execution_count": 242,
      "outputs": []
    },
    {
      "cell_type": "code",
      "metadata": {
        "colab": {
          "base_uri": "https://localhost:8080/",
          "height": 295
        },
        "id": "lLfL5VXsV1af",
        "outputId": "575578c0-ee07-4e74-c991-1ba272bdbca6"
      },
      "source": [
        "plt.plot(df.hours, df.followers,'ro', color= \"green\")\n",
        "plt.plot(x,cp( x),color = \"black\")\n",
        "plt.ylabel(\"Followers\")\n",
        "plt.xlabel(\"Hours\")\n",
        "plt.title(\"grafica de datos de polyfit\",color=\"green\")\n",
        "plt.grid()"
      ],
      "execution_count": 243,
      "outputs": [
        {
          "output_type": "display_data",
          "data": {
            "image/png": "[encoded data removed]",
            "text/plain": [
              "<Figure size 432x288 with 1 Axes>"
            ]
          },
          "metadata": {
            "needs_background": "light"
          }
        }
      ]
    },
    {
      "cell_type": "code",
      "metadata": {
        "colab": {
          "base_uri": "https://localhost:8080/"
        },
        "id": "XwfOY17CW57V",
        "outputId": "3985f299-2f89-44a9-b4f3-3a2611378372"
      },
      "source": [
        "vel =cp.deriv()\n",
        "print(vel)\n",
        "\n"
      ],
      "execution_count": 244,
      "outputs": [
        {
          "output_type": "stream",
          "name": "stdout",
          "text": [
            " \n",
            "-0.004875 x + 8.552\n"
          ]
        }
      ]
    },
    {
      "cell_type": "code",
      "metadata": {
        "colab": {
          "base_uri": "https://localhost:8080/"
        },
        "id": "YMzz_SEGX2lG",
        "outputId": "a4b0481b-2680-423c-a7b8-ad6fdad343a6"
      },
      "source": [
        "print(\"la velocidad inicial 0 es =\",vel(0), \"follower/hour\")"
      ],
      "execution_count": 245,
      "outputs": [
        {
          "output_type": "stream",
          "name": "stdout",
          "text": [
            "la velocidad inicial 0 es = 8.552137792664016 follower/hour\n"
          ]
        }
      ]
    },
    {
      "cell_type": "code",
      "metadata": {
        "colab": {
          "base_uri": "https://localhost:8080/"
        },
        "id": "l3QlU4hFYD8V",
        "outputId": "1c9d58d7-e1d9-4f78-d54b-288954017a17"
      },
      "source": [
        "acel = vel.deriv()\n",
        "print(acel)"
      ],
      "execution_count": 247,
      "outputs": [
        {
          "output_type": "stream",
          "name": "stdout",
          "text": [
            " \n",
            "-0.004875\n"
          ]
        }
      ]
    },
    {
      "cell_type": "code",
      "metadata": {
        "colab": {
          "base_uri": "https://localhost:8080/"
        },
        "id": "3LmTmvz7YK1c",
        "outputId": "c2f0c0ca-76b6-422c-c61d-4b56e49f890b"
      },
      "source": [
        "print(\"la aceleracion es de = \", acel,\"followers/hour**2\")"
      ],
      "execution_count": 248,
      "outputs": [
        {
          "output_type": "stream",
          "name": "stdout",
          "text": [
            "la aceleracion es de =   \n",
            "-0.004875 followers/hour**2\n"
          ]
        }
      ]
    },
    {
      "cell_type": "code",
      "metadata": {
        "id": "bBhWvhTVYlk9"
      },
      "source": [
        "opti = optimize.newton(v,619)"
      ],
      "execution_count": 249,
      "outputs": []
    },
    {
      "cell_type": "code",
      "metadata": {
        "colab": {
          "base_uri": "https://localhost:8080/"
        },
        "id": "wizVqMJhZDEe",
        "outputId": "aee11d5e-50d9-4c71-8eef-2f8887a5a775"
      },
      "source": [
        "print(\"en la posición\", opti, \"la velocidad llega a cero\")"
      ],
      "execution_count": 250,
      "outputs": [
        {
          "output_type": "stream",
          "name": "stdout",
          "text": [
            "en la posición 1754.1931385698638 la velocidad llega a cero\n"
          ]
        }
      ]
    },
    {
      "cell_type": "code",
      "metadata": {
        "colab": {
          "base_uri": "https://localhost:8080/"
        },
        "id": "w-sP0WCiZPNS",
        "outputId": "0bde25a0-765d-46bd-f97c-125cfab08747"
      },
      "source": [
        "maximos = cp(opti)\n",
        "\n",
        "print(\"dejará de ganar seguidores en el tiempo\", maximos, \"horas\")"
      ],
      "execution_count": 252,
      "outputs": [
        {
          "output_type": "stream",
          "name": "stdout",
          "text": [
            "dejará de ganar seguidores en el tiempo 50262.136729011865 horas\n"
          ]
        }
      ]
    }
  ]
}