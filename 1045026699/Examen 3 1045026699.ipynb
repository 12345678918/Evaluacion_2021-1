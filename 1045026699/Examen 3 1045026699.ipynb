{
  "nbformat": 4,
  "nbformat_minor": 0,
  "metadata": {
    "kernelspec": {
      "display_name": "Python 3 (ipykernel)",
      "language": "python",
      "name": "python3"
    },
    "language_info": {
      "codemirror_mode": {
        "name": "ipython",
        "version": 3
      },
      "file_extension": ".py",
      "mimetype": "text/x-python",
      "name": "python",
      "nbconvert_exporter": "python",
      "pygments_lexer": "ipython3",
      "version": "3.7.3"
    },
    "colab": {
      "name": "Examen 3 1045026699.ipynb",
      "provenance": []
    }
  },
  "cells": [
    {
      "cell_type": "markdown",
      "metadata": {
        "id": "40WhQJy2EWqx"
      },
      "source": [
        "# Casas-Ibarra\n",
        "Let $\\boldsymbol{A}$ $3\\times3$ a symmetric non-diagonal matrix with the following set of eigenvalues and eigenvectors:\n"
      ]
    },
    {
      "cell_type": "markdown",
      "metadata": {
        "id": "cwKjVMtNvgl0"
      },
      "source": [
        "____"
      ]
    },
    {
      "cell_type": "markdown",
      "metadata": {
        "id": "G-uQDCOkvgl0"
      },
      "source": [
        "### Eigenvalues\n",
        "The normal ordering of the absolute value of the eigenvalues is $m_1<m_2<m_3$. Each eigenvalue is expressed in units of eV, which just of an energy unit.\n",
        "### Eigenvectors\n",
        "The eigenvectors in the normal ordering are defined by\n",
        "$$\n",
        "\\boldsymbol{U}^T \\boldsymbol{A} \\boldsymbol{U}=\n",
        "\\begin{pmatrix}\n",
        "m_1& 0 & 0\\\\\n",
        "0 & m_2& 0\\\\\n",
        "0 & 0 & m_3\\\\\n",
        "\\end{pmatrix}.\n",
        "$$\n",
        "The unitary matrix can be parameterized in terms of three mixing angles, $\\theta_{23}$ $\\theta_{13}$, $\\theta_{12}$, such that\n",
        "$$\n",
        "\\boldsymbol{U}=\\left(\\begin{array}{ccc}\n",
        "1 & 0 & 0 \\\\\n",
        "0 & c_{23} & s_{23} \\\\\n",
        "0 & -s_{23} & c_{23}\n",
        "\\end{array}\\right) \\cdot\\left(\\begin{array}{ccc}\n",
        "c_{13} & 0 & s_{13}  \\\\\n",
        "0 & 1 & 0 \\\\\n",
        "-s_{13}  & 0 & c_{13}\n",
        "\\end{array}\\right) \\cdot\\left(\\begin{array}{ccc}\n",
        "c_{12} & s_{12} & 0 \\\\\n",
        "-s_{12} & c_{12} & 0 \\\\\n",
        "0 & 0 & 1\n",
        "\\end{array}\\right),\n",
        "$$\n",
        "where $c_{i j} \\equiv \\cos \\theta_{i j}$ and $s_{i j} \\equiv \\sin \\theta_{i j}$. Thus, we can write $\\boldsymbol{U}$ as\n",
        "$$\n",
        "\\boldsymbol{U}=\\left(\\begin{array}{ccc}c_{12} c_{13} & s_{12} c_{13} & s_{13}  \\\\ -s_{12} c_{23}-c_{12} s_{13} s_{23}& c_{12} c_{23}-s_{12} s_{13} s_{23}  & c_{13} s_{23} \\\\ s_{12} s_{23}-c_{12} s_{13} c_{23} & -c_{12} s_{23}-s_{12} s_{13} c_{23}  & c_{13} c_{23}\\end{array}\\right)\n",
        "$$\n",
        "so that\n",
        "$$\n",
        "\\boldsymbol{U}_1=\\begin{pmatrix}U_{e1}\\\\ U_{\\mu 1}\\\\ U_{\\tau 1}\\end{pmatrix}=\\begin{pmatrix}\n",
        "c_{12} c_{13} \\\\\n",
        "-s_{12} c_{23}-c_{12} s_{13} s_{23}  \\\\\n",
        "s_{12} s_{23}-c_{12} s_{13} c_{23} \n",
        "\\end{pmatrix},\\qquad \n",
        "\\boldsymbol{U}_2=\\begin{pmatrix}U_{e2}\\\\ U_{\\mu 2}\\\\ U_{\\tau 2}\\end{pmatrix}=\\begin{pmatrix}\n",
        "s_{12} c_{13} \\\\\n",
        "c_{12} c_{23}-s_{12} s_{13} s_{23}  \\\\\n",
        "-c_{12} s_{23}-s_{12} s_{13} c_{23} \n",
        "\\end{pmatrix},\\qquad\n",
        "\\boldsymbol{U}_3=\\begin{pmatrix}U_{e3}\\\\ U_{\\mu 3}\\\\ U_{\\tau 3}\\end{pmatrix}=\\begin{pmatrix}\n",
        "s_{13}  \\\\\n",
        "c_{13} s_{23} \\\\\n",
        "c_{13} c_{23}\n",
        "\\end{pmatrix}\n",
        "$$\n",
        "\n",
        "### Data\n",
        "Use the _central values_  of the following table but ignoring $\\delta_{CP}$ (In the previous equations was fixed to $\\delta_{CP}=0$). __Hint__: take care of the denominator in the first colum.\n",
        "\n",
        "![IMAGE](https://github.com/restrepo/ComputationalMethods/raw/master/material/figures/nu.png)\n",
        "\n",
        "where $\\Delta m^2_{ij}=m^2_i-m^2_j$ is the squared mass difference between eigenvalues $i$ and $j$; in units of $\\text{eV}^2$.\n"
      ]
    },
    {
      "cell_type": "markdown",
      "metadata": {
        "id": "bnSCrqmSvgl1"
      },
      "source": [
        "### Casas-Ibarra parameterization\n",
        "We can assumme without lost of generality that $\\boldsymbol{A}$ can be generated from a matrix $\\boldsymbol{Y}$ such that\n",
        "$$\n",
        "\\boldsymbol{A}=\\boldsymbol{Y}^{\\operatorname{T}}\\boldsymbol{Y}\n",
        "$$\n",
        "\n",
        "The matrix $\\boldsymbol{Y}$ can be parameterized in terms of an arbitray orthogonal $3\\times 3$ matrix, $\\boldsymbol{R}$, as\n",
        "$$\n",
        "\\boldsymbol{Y}=\\boldsymbol{R} \\boldsymbol{D}_{\\sqrt{m}} \\boldsymbol{U}^{\\operatorname{T}}\n",
        "$$\n",
        "\n",
        "\n",
        "* $R$ is an orthogonal $3\\times 3$ matrix, with three rotation angles $\\alpha_{ij}$ between $(0,2\\pi)$\n",
        "$$\n",
        "\\boldsymbol{R}=\\left(\\begin{array}{ccc}c^\\alpha_{12} c^\\alpha_{13} & s^\\alpha_{12} c^\\alpha_{13} & s^\\alpha_{13}  \\\\ -s^\\alpha_{12} c^\\alpha_{23}-c^\\alpha_{12} s^\\alpha_{13} s^\\alpha_{23}& c^\\alpha_{12} c^\\alpha_{23}-s^\\alpha_{12} s^\\alpha_{13} s^\\alpha_{23}  & c^\\alpha_{13} s^\\alpha_{23} \\\\ s^\\alpha_{12} s^\\alpha_{23}-c^\\alpha_{12} s^\\alpha_{13} c^\\alpha_{23} & -c^\\alpha_{12} s^\\alpha_{23}-s^\\alpha_{12} s^\\alpha_{13} c^\\alpha_{23}  & c^\\alpha_{13} c^\\alpha_{23}\\end{array}\\right)\n",
        "$$\n",
        "where $c^\\alpha_{i j} \\equiv \\cos \\alpha_{i j}$ and $s^\\alpha_{i j} \\equiv \\sin \\alpha_{i j}$.\n",
        "\n",
        "* $$\n",
        " \\boldsymbol{D}_{\\sqrt{m}}=\\operatorname{diag}\\left(\\sqrt{m_1},\\sqrt{m_2},\\sqrt{m_3}\\right)\n",
        "$$"
      ]
    },
    {
      "cell_type": "markdown",
      "metadata": {
        "id": "Iqj7EWSPvgl3"
      },
      "source": [
        "### Problem\n",
        "1. Choose a random value for $m_1$ between $10^{-9}\\ \\text{eV}$ and $10^{-4}\\ \\text{eV}$. Note that because of the wide range, the random variation  must be in the exponents. Obtain the corresponding $m_2$ and $m_3$ with the proper normal ordering.\n",
        "1. Choose random values for $\\alpha_{ij}$  between $(0,2\\pi)$\n",
        "1. Obtain $\\boldsymbol{Y}$\n",
        "1. Check that the generated $\\boldsymbol{A}$ has the proper eigenvalues and eigenvectors\n",
        "1. Check that the eigenvalues of $\\boldsymbol{Y}$ correspond to the square root of the eigenvalues of $\\boldsymbol{A}$ and explain why."
      ]
    },
    {
      "cell_type": "markdown",
      "metadata": {
        "id": "54wNAS2jbDrn"
      },
      "source": [
        "PUNTO 1"
      ]
    },
    {
      "cell_type": "code",
      "metadata": {
        "id": "wCdx7a8WedxN"
      },
      "source": [
        "#libreríaa\n",
        "import random\n",
        "import numpy as np"
      ],
      "execution_count": 37,
      "outputs": []
    },
    {
      "cell_type": "code",
      "metadata": {
        "id": "8D1mUmaobDTd",
        "colab": {
          "base_uri": "https://localhost:8080/"
        },
        "outputId": "b00b3484-c94e-4a45-ce27-9fe0b25ca446"
      },
      "source": [
        "#determinacion de m1, m2, m3, deterinando m1 con valor aleatorio entre (10e-9,10e-4)\n",
        "\n",
        "m1 = random.uniform((10e-9) , (10e-4))\n",
        "\n",
        "print(\"valor para m1 = \", m1)\n",
        "\n",
        "m2 = np.sqrt((7.39) * (10**-5) + (m1**2))\n",
        "\n",
        "print (\"valor para m2 =\", m2)\n",
        "\n",
        "m3 = np.sqrt((2.449) * (10**-3) + (m2 ** 2))\n",
        "\n",
        "print (\"valor para m3 = \", m3)\n",
        "\n",
        "#rectificación del orden de m1,m2,m3\n",
        "if m1<m2<m3:\n",
        "  print (\"true\")"
      ],
      "execution_count": 145,
      "outputs": [
        {
          "output_type": "stream",
          "name": "stdout",
          "text": [
            "valor para m1 =  0.00026502529786924864\n",
            "valor para m2 = 0.008600595235709602\n",
            "valor para m3 =  0.0502291771623676\n",
            "true\n"
          ]
        }
      ]
    },
    {
      "cell_type": "markdown",
      "metadata": {
        "id": "TF3LuAH9gjP0"
      },
      "source": [
        "PUNTO 2"
      ]
    },
    {
      "cell_type": "code",
      "metadata": {
        "id": "2J0n-8Rfvqks",
        "colab": {
          "base_uri": "https://localhost:8080/"
        },
        "outputId": "d907f026-df44-4538-cb4b-f0aa6a6e638e"
      },
      "source": [
        "#Determinacion de alpha12, alpha23, alpha13 con valores aleatorios entre (0,2pi)\n",
        "\n",
        "alpha12 = random.uniform(0,2*np.pi)\n",
        "\n",
        "print(\"valor para alpha12 =\",alpha12)\n",
        "\n",
        "alpha23 = random.uniform(0,2*np.pi)\n",
        "\n",
        "print(\"valor para alpha12 =\",alpha23)\n",
        "\n",
        "alpha13 = random.uniform(0,2*np.pi)\n",
        "\n",
        "print(\"valor para alpha12 =\",alpha13)"
      ],
      "execution_count": 146,
      "outputs": [
        {
          "output_type": "stream",
          "name": "stdout",
          "text": [
            "valor para alpha12 = 1.2439459330613827\n",
            "valor para alpha12 = 2.7959883805195034\n",
            "valor para alpha12 = 5.435725396531059\n"
          ]
        }
      ]
    },
    {
      "cell_type": "code",
      "metadata": {
        "colab": {
          "base_uri": "https://localhost:8080/"
        },
        "id": "6ra-VBMQhkuV",
        "outputId": "f22eebd6-01dd-49f2-dfde-64eb23409cd5"
      },
      "source": [
        "# Ahora convertimos los valores de la tabla para 33.82 , 8.61 y 48.3 en radianes\n",
        "theta12 = np.deg2rad(33.82) \n",
        "theta13 = np.deg2rad(8.61)  \n",
        "theta23 = np.deg2rad(48.3)\n",
        "\n",
        "print( \"valor para theta12 en radianes = \",theta12 )\n",
        "print( \"valor para theta13 en radianes = \",theta13 )\n",
        "print( \"valor para theta23 en radianes = \",theta23 )"
      ],
      "execution_count": 147,
      "outputs": [
        {
          "output_type": "stream",
          "name": "stdout",
          "text": [
            "valor para theta12 en radianes =  0.5902703530244823\n",
            "valor para theta13 en radianes =  0.15027284859671178\n",
            "valor para theta23 en radianes =  0.8429940287132611\n"
          ]
        }
      ]
    },
    {
      "cell_type": "code",
      "metadata": {
        "id": "fnV-l70ijVCd"
      },
      "source": [
        "#Como nos muestra el ejemplo para U hallamos sus corespondientes valores s12,s13,s23,c12,c13,c23\n",
        "\n",
        "s12 = np.sin(theta12)\n",
        "s13 = np.sin(theta13)\n",
        "s23 = np.sin(theta23)\n",
        "\n",
        "c12 = np.cos(theta12) \n",
        "c13 = np.cos(theta13)\n",
        "c23 = np.cos(theta23)\n"
      ],
      "execution_count": 148,
      "outputs": []
    },
    {
      "cell_type": "markdown",
      "metadata": {
        "id": "5Sdj2OEskHe7"
      },
      "source": [
        "Ahora resolvemos usando\n",
        "\n",
        "$$\n",
        "\\boldsymbol{U}=\\left(\\begin{array}{ccc}\n",
        "1 & 0 & 0 \\\\\n",
        "0 & c_{23} & s_{23} \\\\\n",
        "0 & -s_{23} & c_{23}\n",
        "\\end{array}\\right) \\cdot\\left(\\begin{array}{ccc}\n",
        "c_{13} & 0 & s_{13}  \\\\\n",
        "0 & 1 & 0 \\\\\n",
        "-s_{13}  & 0 & c_{13}\n",
        "\\end{array}\\right) \\cdot\\left(\\begin{array}{ccc}\n",
        "c_{12} & s_{12} & 0 \\\\\n",
        "-s_{12} & c_{12} & 0 \\\\\n",
        "0 & 0 & 1\n",
        "\\end{array}\\right),\n",
        "$$"
      ]
    },
    {
      "cell_type": "code",
      "metadata": {
        "colab": {
          "base_uri": "https://localhost:8080/"
        },
        "id": "u0rbMNr2j4AK",
        "outputId": "204f0e88-8b9d-44c3-fc1a-5ecdf3c9bcc4"
      },
      "source": [
        "u1 = np.matrix([[1,0,0],[0,c23,s23],[0,-s23,c23]])\n",
        "\n",
        "u2 = np.matrix([[c13,0,s13],[0,1,0],[-s13,0,c13]])\n",
        "\n",
        "u3 = np.matrix([[c12,s12,0],[-s12,c12,0],[0,0,1]])\n",
        "\n",
        "#Hallado el Valor de U\n",
        "\n",
        "U = u1*u2*u3\n",
        "print(\"Valor de la matriz U =\")\n",
        "U"
      ],
      "execution_count": 162,
      "outputs": [
        {
          "output_type": "stream",
          "name": "stdout",
          "text": [
            "Valor de la matriz U =\n"
          ]
        },
        {
          "output_type": "execute_result",
          "data": {
            "text/plain": [
              "matrix([[ 0.82142745,  0.55031308,  0.14970791],\n",
              "        [-0.46312144,  0.49045305,  0.73822377],\n",
              "        [ 0.33282949, -0.67573021,  0.65773339]])"
            ]
          },
          "metadata": {},
          "execution_count": 162
        }
      ]
    },
    {
      "cell_type": "code",
      "metadata": {
        "id": "CNx5gtLisrrI"
      },
      "source": [
        "#Encontramos los valores de la matriz R con respecto a los alphas genrados en el principio\n",
        "\n",
        "sa12 = np.sin(alpha12)\n",
        "sa13 = np.sin(alpha13)\n",
        "sa23 = np.sin(alpha23)\n",
        "\n",
        "ca12 = np.cos(alpha12)\n",
        "ca13 = np.cos(alpha13)\n",
        "ca23 = np.cos(alpha23)\n",
        "\n",
        "\n"
      ],
      "execution_count": 163,
      "outputs": []
    },
    {
      "cell_type": "markdown",
      "metadata": {
        "id": "5kSEWXOusXxK"
      },
      "source": [
        "Ahora hallamos el valor de R usando\n",
        "$$\n",
        "\\boldsymbol{R}=\\left(\\begin{array}{ccc}c^\\alpha_{12} c^\\alpha_{13} & s^\\alpha_{12} c^\\alpha_{13} & s^\\alpha_{13}  \\\\ -s^\\alpha_{12} c^\\alpha_{23}-c^\\alpha_{12} s^\\alpha_{13} s^\\alpha_{23}& c^\\alpha_{12} c^\\alpha_{23}-s^\\alpha_{12} s^\\alpha_{13} s^\\alpha_{23}  & c^\\alpha_{13} s^\\alpha_{23} \\\\ s^\\alpha_{12} s^\\alpha_{23}-c^\\alpha_{12} s^\\alpha_{13} c^\\alpha_{23} & -c^\\alpha_{12} s^\\alpha_{23}-s^\\alpha_{12} s^\\alpha_{13} c^\\alpha_{23}  & c^\\alpha_{13} c^\\alpha_{23}\\end{array}\\right)\n",
        "$$"
      ]
    },
    {
      "cell_type": "code",
      "metadata": {
        "colab": {
          "base_uri": "https://localhost:8080/"
        },
        "id": "oJAb6Cvpsj2I",
        "outputId": "342c1c9e-89f2-44d6-8e70-c0e660e52d9b"
      },
      "source": [
        "#Hallando cada valor de la matriz R\n",
        "\n",
        "r11 = ca12*ca13\n",
        "r12 = sa12*ca13\n",
        "r13 = sa13\n",
        "\n",
        "r21 = (-sa12*ca23)-(ca12*sa13*sa23)\n",
        "r22 = (ca12*ca23)-(sa12*sa13*sa23)\n",
        "r23 = ca13*sa23\n",
        "\n",
        "r31 = (sa12*sa23)-(ca12*sa13*ca23)\n",
        "r32 = (-ca12*sa23)-(sa12*sa13*ca23)\n",
        "r33 = ca13*ca23\n",
        "\n",
        "#Ahora hallando r con sus respectivos valores\n",
        "\n",
        "print(\"Valor de la matriz R =\")\n",
        "R = np.array([[r11,r12,r13],[r21,r22,r23],[r31,r32,r33]])\n",
        "R"
      ],
      "execution_count": 164,
      "outputs": [
        {
          "output_type": "stream",
          "name": "stdout",
          "text": [
            "Valor de la matriz R =\n"
          ]
        },
        {
          "output_type": "execute_result",
          "data": {
            "text/plain": [
              "array([[ 0.21250736,  0.62684776, -0.74960157],\n",
              "       [ 0.97258967, -0.06158266,  0.22422513],\n",
              "       [ 0.09439256, -0.77670423, -0.62275243]])"
            ]
          },
          "metadata": {},
          "execution_count": 164
        }
      ]
    },
    {
      "cell_type": "code",
      "metadata": {
        "colab": {
          "base_uri": "https://localhost:8080/"
        },
        "id": "voZRO4oJvbtw",
        "outputId": "7e5e18fd-28b0-4244-d4e2-6fae1a7a8d76"
      },
      "source": [
        "#Hallando las Traspuesta de U\n",
        "UT = np.transpose(U)\n",
        "print(\"Valor para la traspuesta de U =\")\n",
        "UT"
      ],
      "execution_count": 165,
      "outputs": [
        {
          "output_type": "stream",
          "name": "stdout",
          "text": [
            "Valor para la traspuesta de U =\n"
          ]
        },
        {
          "output_type": "execute_result",
          "data": {
            "text/plain": [
              "matrix([[ 0.82142745, -0.46312144,  0.33282949],\n",
              "        [ 0.55031308,  0.49045305, -0.67573021],\n",
              "        [ 0.14970791,  0.73822377,  0.65773339]])"
            ]
          },
          "metadata": {},
          "execution_count": 165
        }
      ]
    },
    {
      "cell_type": "code",
      "metadata": {
        "colab": {
          "base_uri": "https://localhost:8080/"
        },
        "id": "jjXs45VPwXH-",
        "outputId": "45fccffb-667c-4e0f-a332-69bffd80ff39"
      },
      "source": [
        "#Ahora hallamos la diagonal de la raiz de los valores m1,m2,m3\n",
        "\n",
        "Dm = np.diag([np.sqrt(m1),np.sqrt(m2),np.sqrt(m3)])\n",
        "print(\"valor para lamatriz diagonal de las raices de los valores m1,m2,m3\")\n",
        "Dm"
      ],
      "execution_count": 166,
      "outputs": [
        {
          "output_type": "stream",
          "name": "stdout",
          "text": [
            "valor para lamatriz diagonal de las raices de los valores m1,m2,m3\n"
          ]
        },
        {
          "output_type": "execute_result",
          "data": {
            "text/plain": [
              "array([[0.0162796 , 0.        , 0.        ],\n",
              "       [0.        , 0.09273939, 0.        ],\n",
              "       [0.        , 0.        , 0.22411867]])"
            ]
          },
          "metadata": {},
          "execution_count": 166
        }
      ]
    },
    {
      "cell_type": "markdown",
      "metadata": {
        "id": "dw1mG6oFwCr2"
      },
      "source": [
        "PUNTO 3\n",
        "\n",
        "Para hallar Y usamos \n",
        "$$\n",
        "\\boldsymbol{Y}=\\boldsymbol{R} \\boldsymbol{D}_{\\sqrt{m}} \\boldsymbol{U}^{\\operatorname{T}}\n",
        "$$"
      ]
    },
    {
      "cell_type": "code",
      "metadata": {
        "colab": {
          "base_uri": "https://localhost:8080/"
        },
        "id": "o9vyaOE-wz1p",
        "outputId": "8f144f32-ce1b-43b8-b72f-1dfd9e995cc8"
      },
      "source": [
        "# Valor de Y\n",
        "\n",
        "Y = R*Dm*UT\n",
        "print(\"Valor para la matriz Y\")\n",
        "Y"
      ],
      "execution_count": 167,
      "outputs": [
        {
          "output_type": "stream",
          "name": "stdout",
          "text": [
            "Valor para la matriz Y\n"
          ]
        },
        {
          "output_type": "execute_result",
          "data": {
            "text/plain": [
              "matrix([[ 0.00284176, -0.00160218,  0.00115144],\n",
              "        [-0.00314291, -0.00280105,  0.00385919],\n",
              "        [-0.0208948 , -0.10303422, -0.09180014]])"
            ]
          },
          "metadata": {},
          "execution_count": 167
        }
      ]
    },
    {
      "cell_type": "markdown",
      "metadata": {
        "id": "H3RycFCwxNzW"
      },
      "source": [
        "PUNTO 4\n",
        "\n",
        "Para hallar A usamos\n",
        "\n",
        "$$\n",
        "\\boldsymbol{A}=\\boldsymbol{Y}^{\\operatorname{T}}\\boldsymbol{Y}\n",
        "$$"
      ]
    },
    {
      "cell_type": "code",
      "metadata": {
        "colab": {
          "base_uri": "https://localhost:8080/"
        },
        "id": "B5vI4IH8xoK0",
        "outputId": "726f9384-48a7-45fc-beb9-f142c30fb92e"
      },
      "source": [
        "#Traspuesta de Y\n",
        "YT = np.transpose(Y)\n",
        "print(\"Valor de la matriz traspuesta de Y\")\n",
        "YT"
      ],
      "execution_count": 168,
      "outputs": [
        {
          "output_type": "stream",
          "name": "stdout",
          "text": [
            "Valor de la matriz traspuesta de Y\n"
          ]
        },
        {
          "output_type": "execute_result",
          "data": {
            "text/plain": [
              "matrix([[ 0.00284176, -0.00314291, -0.0208948 ],\n",
              "        [-0.00160218, -0.00280105, -0.10303422],\n",
              "        [ 0.00115144,  0.00385919, -0.09180014]])"
            ]
          },
          "metadata": {},
          "execution_count": 168
        }
      ]
    },
    {
      "cell_type": "code",
      "metadata": {
        "colab": {
          "base_uri": "https://localhost:8080/"
        },
        "id": "HMTEo4qjyBYg",
        "outputId": "11b28e71-e3ba-4255-9139-b3d4281a55df"
      },
      "source": [
        "#Valor de la matriz A\n",
        "A = YT*Y\n",
        "print(\"Valor para la matriz A\")\n",
        "A"
      ],
      "execution_count": 169,
      "outputs": [
        {
          "output_type": "stream",
          "name": "stdout",
          "text": [
            "Valor para la matriz A\n"
          ]
        },
        {
          "output_type": "execute_result",
          "data": {
            "text/plain": [
              "matrix([[0.00045455, 0.00215713, 0.00190929],\n",
              "        [0.00215713, 0.01062646, 0.0094459 ],\n",
              "        [0.00190929, 0.0094459 , 0.00844348]])"
            ]
          },
          "metadata": {},
          "execution_count": 169
        }
      ]
    },
    {
      "cell_type": "code",
      "metadata": {
        "colab": {
          "base_uri": "https://localhost:8080/"
        },
        "id": "wXBvbAuDybWW",
        "outputId": "b8250d6d-b198-4ef1-f56e-30bf49df3cc0"
      },
      "source": [
        "#Sacamos los valores y vecotores propios\n",
        "print(\"Valores y Vectores propios de A\")\n",
        "vectprop = np.linalg.eig(A)\n",
        "vectprop"
      ],
      "execution_count": 170,
      "outputs": [
        {
          "output_type": "stream",
          "name": "stdout",
          "text": [
            "Valores y Vectores propios de A\n"
          ]
        },
        {
          "output_type": "execute_result",
          "data": {
            "text/plain": [
              "(array([1.94799088e-02, 1.19683774e-05, 3.26171079e-05]),\n",
              " matrix([[-0.14970791, -0.82142745, -0.55031308],\n",
              "         [-0.73822377,  0.46312144, -0.49045305],\n",
              "         [-0.65773339, -0.33282949,  0.67573021]]))"
            ]
          },
          "metadata": {},
          "execution_count": 170
        }
      ]
    },
    {
      "cell_type": "markdown",
      "metadata": {
        "id": "pTTzUx8IzGGf"
      },
      "source": [
        "Hallamos los autovalores usando\n",
        "$$\n",
        "\\boldsymbol{U}^T \\boldsymbol{A} \\boldsymbol{U}\n",
        "$$"
      ]
    },
    {
      "cell_type": "code",
      "metadata": {
        "colab": {
          "base_uri": "https://localhost:8080/"
        },
        "id": "WCRf-I3Yy4Zm",
        "outputId": "80484048-d5b3-4d55-e59e-bcdf7c0a4d4c"
      },
      "source": [
        "#Autovalores de la matriz\n",
        "print(\"Autovalores\")\n",
        "autoval =UT*A*U\n",
        "autoval"
      ],
      "execution_count": 171,
      "outputs": [
        {
          "output_type": "stream",
          "name": "stdout",
          "text": [
            "Autovalores\n"
          ]
        },
        {
          "output_type": "execute_result",
          "data": {
            "text/plain": [
              "matrix([[ 1.19683774e-05,  2.08376830e-19,  1.47662158e-19],\n",
              "        [ 2.86265519e-19,  3.26171079e-05, -1.00069896e-18],\n",
              "        [ 7.00130178e-19, -1.83905680e-18,  1.94799088e-02]])"
            ]
          },
          "metadata": {},
          "execution_count": 171
        }
      ]
    },
    {
      "cell_type": "markdown",
      "metadata": {
        "id": "nSPGh198zskd"
      },
      "source": [
        "Para hallar los autovectores usamos\n",
        "$$\n",
        "\\boldsymbol{U}_1=\\begin{pmatrix}U_{e1}\\\\ U_{\\mu 1}\\\\ U_{\\tau 1}\\end{pmatrix}=\\begin{pmatrix}\n",
        "c_{12} c_{13} \\\\\n",
        "-s_{12} c_{23}-c_{12} s_{13} s_{23}  \\\\\n",
        "s_{12} s_{23}-c_{12} s_{13} c_{23} \n",
        "\\end{pmatrix},\\qquad \n",
        "\\boldsymbol{U}_2=\\begin{pmatrix}U_{e2}\\\\ U_{\\mu 2}\\\\ U_{\\tau 2}\\end{pmatrix}=\\begin{pmatrix}\n",
        "s_{12} c_{13} \\\\\n",
        "c_{12} c_{23}-s_{12} s_{13} s_{23}  \\\\\n",
        "-c_{12} s_{23}-s_{12} s_{13} c_{23} \n",
        "\\end{pmatrix},\\qquad\n",
        "\\boldsymbol{U}_3=\\begin{pmatrix}U_{e3}\\\\ U_{\\mu 3}\\\\ U_{\\tau 3}\\end{pmatrix}=\\begin{pmatrix}\n",
        "s_{13}  \\\\\n",
        "c_{13} s_{23} \\\\\n",
        "c_{13} c_{23}\n",
        "\\end{pmatrix}\n",
        "$$"
      ]
    },
    {
      "cell_type": "code",
      "metadata": {
        "colab": {
          "base_uri": "https://localhost:8080/"
        },
        "id": "jlYbCfZkz5C8",
        "outputId": "8e8120cc-4700-4911-d56d-5fa613814f1a"
      },
      "source": [
        "#Autovector  U1\n",
        "\n",
        "avect1 = np.array([[c12*c13],[-(s12*c23)-(c12*s13*s23)],[(s12*s23)-(c12*s13*c23)]])\n",
        "print(\"Autovector U1\")\n",
        "avect1"
      ],
      "execution_count": 172,
      "outputs": [
        {
          "output_type": "stream",
          "name": "stdout",
          "text": [
            "Autovector U1\n"
          ]
        },
        {
          "output_type": "execute_result",
          "data": {
            "text/plain": [
              "array([[ 0.82142745],\n",
              "       [-0.46312144],\n",
              "       [ 0.33282949]])"
            ]
          },
          "metadata": {},
          "execution_count": 172
        }
      ]
    },
    {
      "cell_type": "code",
      "metadata": {
        "colab": {
          "base_uri": "https://localhost:8080/"
        },
        "id": "quL66Y-J10z0",
        "outputId": "4ef82203-251a-4d69-963a-dd99d47c2a2c"
      },
      "source": [
        "#Autovector  U2\n",
        "\n",
        "avect2 = np.array([[s12*c13],[(c12*c23)-(s12*s13*s23)],[(-c12*s23)-(s12*s13*c23)]])\n",
        "print(\"Autovector U2\")\n",
        "avect2"
      ],
      "execution_count": 173,
      "outputs": [
        {
          "output_type": "stream",
          "name": "stdout",
          "text": [
            "Autovector U2\n"
          ]
        },
        {
          "output_type": "execute_result",
          "data": {
            "text/plain": [
              "array([[ 0.55031308],\n",
              "       [ 0.49045305],\n",
              "       [-0.67573021]])"
            ]
          },
          "metadata": {},
          "execution_count": 173
        }
      ]
    },
    {
      "cell_type": "code",
      "metadata": {
        "colab": {
          "base_uri": "https://localhost:8080/"
        },
        "id": "7qnJdFrP2EOO",
        "outputId": "7d9575fe-a754-41cc-a4fe-5ab35f30ff4c"
      },
      "source": [
        "#Autovecto  U3\n",
        "\n",
        "avect3 = np.array([[s13],[c13*s23],[c13*c23]])\n",
        "print(\"Autovector U3\")\n",
        "avect3"
      ],
      "execution_count": 174,
      "outputs": [
        {
          "output_type": "stream",
          "name": "stdout",
          "text": [
            "Autovector U3\n"
          ]
        },
        {
          "output_type": "execute_result",
          "data": {
            "text/plain": [
              "array([[0.14970791],\n",
              "       [0.73822377],\n",
              "       [0.65773339]])"
            ]
          },
          "metadata": {},
          "execution_count": 174
        }
      ]
    },
    {
      "cell_type": "markdown",
      "metadata": {
        "id": "kW_S3WwV3WVM"
      },
      "source": [
        "Se  puede ver que los Autovectores coinciden con los Autovectores de A"
      ]
    },
    {
      "cell_type": "markdown",
      "metadata": {
        "id": "M7D25I8R3kYR"
      },
      "source": [
        "Punto 5\n",
        "Rectificación con diferencia de Autovalores"
      ]
    },
    {
      "cell_type": "code",
      "metadata": {
        "colab": {
          "base_uri": "https://localhost:8080/"
        },
        "id": "LIBkRT2Q3fq0",
        "outputId": "ecd7ca44-4ac4-477b-a04e-ecea8db60a76"
      },
      "source": [
        "print(\"Autovalores de Y al cuadrado\")\n",
        "(np.linalg.eigvals(Y)** 2), np.linalg.eigvals(A)"
      ],
      "execution_count": 181,
      "outputs": [
        {
          "output_type": "stream",
          "name": "stdout",
          "text": [
            "Autovalores de Y al cuadrado\n"
          ]
        },
        {
          "output_type": "execute_result",
          "data": {
            "text/plain": [
              "(array([7.52092449e-03, 1.33777802e-05, 7.55809525e-05]),\n",
              " array([1.94799088e-02, 1.19683774e-05, 3.26171079e-05]))"
            ]
          },
          "metadata": {},
          "execution_count": 181
        }
      ]
    },
    {
      "cell_type": "code",
      "metadata": {
        "colab": {
          "base_uri": "https://localhost:8080/"
        },
        "id": "CvnS3kLW3zFL",
        "outputId": "6e815c4b-2f2c-4133-a4e2-3af4d7d6546e"
      },
      "source": [
        "print(\"Diferencia entre valores propios\")\n",
        "(np.linalg.eigvals(Y) ** 2)[0] - np.linalg.eigvals(A)[0] \n"
      ],
      "execution_count": 182,
      "outputs": [
        {
          "output_type": "stream",
          "name": "stdout",
          "text": [
            "Diferencia entre valores propios\n"
          ]
        },
        {
          "output_type": "execute_result",
          "data": {
            "text/plain": [
              "-0.011958984282256035"
            ]
          },
          "metadata": {},
          "execution_count": 182
        }
      ]
    },
    {
      "cell_type": "code",
      "metadata": {
        "colab": {
          "base_uri": "https://localhost:8080/"
        },
        "id": "F-lCJ57a5vET",
        "outputId": "5cb0666a-d3a6-471a-9b08-8f4b0924c6a2"
      },
      "source": [
        "print(\"Diferencia entre valores propios\")\n",
        "(np.linalg.eigvals(Y) ** 2)[1] - np.linalg.eigvals(A)[1] \n"
      ],
      "execution_count": 183,
      "outputs": [
        {
          "output_type": "stream",
          "name": "stdout",
          "text": [
            "Diferencia entre valores propios\n"
          ]
        },
        {
          "output_type": "execute_result",
          "data": {
            "text/plain": [
              "1.4094027637991065e-06"
            ]
          },
          "metadata": {},
          "execution_count": 183
        }
      ]
    },
    {
      "cell_type": "code",
      "metadata": {
        "colab": {
          "base_uri": "https://localhost:8080/"
        },
        "id": "hWbhRpjA5wWV",
        "outputId": "9fdf9411-4141-4c68-dc06-a04eef46983f"
      },
      "source": [
        "print(\"Diferencia entre valores propios\")\n",
        "(np.linalg.eigvals(Y) ** 2)[2] - np.linalg.eigvals(A)[2] "
      ],
      "execution_count": 184,
      "outputs": [
        {
          "output_type": "stream",
          "name": "stdout",
          "text": [
            "Diferencia entre valores propios\n"
          ]
        },
        {
          "output_type": "execute_result",
          "data": {
            "text/plain": [
              "4.2963844637537106e-05"
            ]
          },
          "metadata": {},
          "execution_count": 184
        }
      ]
    }
  ]
}