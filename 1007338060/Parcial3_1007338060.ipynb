{
  "nbformat": 4,
  "nbformat_minor": 0,
  "metadata": {
    "colab": {
      "name": "Parcial3_1007338060.ipynb",
      "provenance": [],
      "collapsed_sections": []
    },
    "kernelspec": {
      "name": "python3",
      "display_name": "Python 3"
    },
    "language_info": {
      "name": "python"
    }
  },
  "cells": [
    {
      "cell_type": "markdown",
      "metadata": {
        "id": "oimoaBUE8y1G"
      },
      "source": [
        "# Parcial 3 Brayan Alejandro Murillo González _ 1007338060"
      ]
    },
    {
      "cell_type": "code",
      "metadata": {
        "id": "JUVQ9_XCyE86"
      },
      "source": [
        "import numpy as np\n",
        "import scipy.linalg as la\n",
        "import random as rd\n",
        "import pandas as pd\n",
        "import sympy as sp"
      ],
      "execution_count": 1,
      "outputs": []
    },
    {
      "cell_type": "markdown",
      "metadata": {
        "id": "TBrczi41Kyaq"
      },
      "source": [
        "# Punto 1. m1 aleatorio , m1 y m2"
      ]
    },
    {
      "cell_type": "markdown",
      "metadata": {
        "id": "Oz5eJG1o7qrk"
      },
      "source": [
        "$\\frac { \\Delta  m^2_{21}}{10^-5 eV^2}=7.39\\ \\ \\ (1)$ \n",
        "\n",
        "$\\frac { \\Delta  m^2_{32}}{10^-3 eV^2}=2.44\\ \\ \\ (2)$ \n",
        "\n",
        "$\\Delta m^2_{ij}=m^2_i-m^2_j\\ \\ \\ \\ (3)$ \n",
        "\n",
        "se reemplaza $(3)$ en $(1)$ y $(2)$ y se despejan $m2$ y $m3$ \n",
        "\n",
        "$\\frac { m^2_2-m^2_1}{10^-5 eV^2}=7.39 $\n",
        "\n",
        "$ m_2=\\sqrt{7.39(10^-5)+m^2_1} $ \n",
        "\n",
        "y\n",
        "\n",
        "\n",
        "$\\frac { m^2_3-m^2_2}{10^-3 eV^2}=2.44 $\n",
        "\n",
        "$ m_3=\\sqrt{2.44(10^-3)+m^2_2} $ "
      ]
    },
    {
      "cell_type": "code",
      "metadata": {
        "colab": {
          "base_uri": "https://localhost:8080/"
        },
        "id": "uahnvkBGyOt3",
        "outputId": "4bd1f0cd-5a28-4bfa-d463-d99d37eeea6d"
      },
      "source": [
        "list_m1log = np.logspace(1e-9,1e-4,10000)  # Lista de valores aleatorios de m1 entre 1e-9 1e-4 eV  (elevados a la potencia 10)\n",
        "m1 = np.log10(rd.choice(list_m1log))   # Se escoge un valor aleatorio de la anterior lista, a este valor se le saca el log10 y ese será m1\n",
        "\n",
        "\n",
        "\n",
        "dm21 = 7.34e-05\n",
        "dm32 = 2.449e-03\n",
        " \n",
        "m2 = ((m1**2)+(dm21))**0.5  # m2 a partir de la relacion m21 de la tabla\n",
        "\n",
        "m3 = ((m2**2)+(dm32))**0.5 # m3 a partir dde la relacion m32 de la tabla\n",
        "\n",
        "\n",
        "if m1 < m2 and m2 < m3:    # Comprobamos las condiciones de m1 m2 m3\n",
        "  print(True)\n",
        "\n",
        "\n",
        "print(\"m1 = %E , m2 = %E , m3 = %E \"%(m1,m2,m3)) \n"
      ],
      "execution_count": 2,
      "outputs": [
        {
          "output_type": "stream",
          "name": "stdout",
          "text": [
            "True\n",
            "m1 = 1.296217E-05 , m2 = 8.567390E-03 , m3 = 5.022350E-02 \n"
          ]
        }
      ]
    },
    {
      "cell_type": "code",
      "metadata": {
        "id": "PtZMpADwsaxV"
      },
      "source": [
        ""
      ],
      "execution_count": 2,
      "outputs": []
    },
    {
      "cell_type": "markdown",
      "metadata": {
        "id": "vaUseozBK5iC"
      },
      "source": [
        "# Punto 2. $\\alpha_{ij}$ entre $(0,2\\pi)$"
      ]
    },
    {
      "cell_type": "code",
      "metadata": {
        "id": "tuxM7-1wHWUQ",
        "colab": {
          "base_uri": "https://localhost:8080/"
        },
        "outputId": "db0f93ed-e95a-409b-ee24-d4fed2468c42"
      },
      "source": [
        "α12 = np.random.uniform(0,2*np.pi)  # Angulo α12 en radianes\n",
        "\n",
        "α13 = np.random.uniform(0,2*np.pi)  # Angulo α13 en radianes\n",
        "\n",
        "α23 = np.random.uniform(0,2*np.pi)  # Angulo α23 en radianes\n",
        "\n",
        "print(α12,α13,α23)"
      ],
      "execution_count": 3,
      "outputs": [
        {
          "output_type": "stream",
          "name": "stdout",
          "text": [
            "5.556948732649545 5.629587700362364 3.720624363642487\n"
          ]
        }
      ]
    },
    {
      "cell_type": "code",
      "metadata": {
        "id": "VT4BmqyM9WjY"
      },
      "source": [
        "C12 = np.cos(α12) # Coeficiente C12 de α12 en radianes\n",
        "S12 = np.sin(α12) # Coeficiente S12 de α12 en radianes\n",
        "\n",
        "C13 = np.cos(α13) # Coeficiente C13 de α13 en radianes\n",
        "S13 = np.sin(α13) # Coeficiente S13 de α13 en radianes\n",
        "\n",
        "C23 = np.cos(α23) # Coeficiente C23 de α23 en radianes\n",
        "S23 = np.sin(α23) # Coeficiente S23 de α23 en radianes\n",
        "\n",
        "\n"
      ],
      "execution_count": 4,
      "outputs": []
    },
    {
      "cell_type": "markdown",
      "metadata": {
        "id": "wW5q8M64LFmS"
      },
      "source": [
        "#Punto 3. Obtener Y"
      ]
    },
    {
      "cell_type": "markdown",
      "metadata": {
        "id": "VYd9nwDIKkGa"
      },
      "source": [
        "# Matriz R"
      ]
    },
    {
      "cell_type": "markdown",
      "metadata": {
        "id": "zbPimIrPKjDw"
      },
      "source": [
        "$$\n",
        "\\boldsymbol{R}=\\left(\\begin{array}{ccc}c^\\alpha_{12} c^\\alpha_{13} & s^\\alpha_{12} c^\\alpha_{13} & s^\\alpha_{13}  \\\\ -s^\\alpha_{12} c^\\alpha_{23}-c^\\alpha_{12} s^\\alpha_{13} s^\\alpha_{23}& c^\\alpha_{12} c^\\alpha_{23}-s^\\alpha_{12} s^\\alpha_{13} s^\\alpha_{23}  & c^\\alpha_{13} s^\\alpha_{23} \\\\ s^\\alpha_{12} s^\\alpha_{23}-c^\\alpha_{12} s^\\alpha_{13} c^\\alpha_{23} & -c^\\alpha_{12} s^\\alpha_{23}-s^\\alpha_{12} s^\\alpha_{13} c^\\alpha_{23}  & c^\\alpha_{13} c^\\alpha_{23}\\end{array}\\right)\n",
        "$$"
      ]
    },
    {
      "cell_type": "code",
      "metadata": {
        "colab": {
          "base_uri": "https://localhost:8080/",
          "height": 78
        },
        "id": "bODtYIOS-v6D",
        "outputId": "ef5acf87-2af4-4815-bafd-71b7385f5a0e"
      },
      "source": [
        "# Matriz R\n",
        "\n",
        "R = np.array([[C12*C13 , S12*C13 , S13],[-S12*C23-C12*S13*S23,C12*C23-S12*S13*S23,C13*S23],[S12*S23-C12*S13*C23,-C12*S23 - S12*S13*C23 , C13*C23]])\n",
        "\n",
        "R = np.asmatrix(R)\n",
        "\n",
        "sp.Matrix(R)"
      ],
      "execution_count": 5,
      "outputs": [
        {
          "output_type": "execute_result",
          "data": {
            "text/latex": "$\\displaystyle \\left[\\begin{matrix}0.593583294162743 & -0.527198588252182 & -0.608046479667314\\\\-0.804590152135034 & -0.404848101676238 & -0.434433771312117\\\\-0.0171335920994122 & 0.747100838651686 & -0.664489862155713\\end{matrix}\\right]$",
            "text/plain": [
              "Matrix([\n",
              "[  0.593583294162743, -0.527198588252182, -0.608046479667314],\n",
              "[ -0.804590152135034, -0.404848101676238, -0.434433771312117],\n",
              "[-0.0171335920994122,  0.747100838651686, -0.664489862155713]])"
            ]
          },
          "metadata": {},
          "execution_count": 5
        }
      ]
    },
    {
      "cell_type": "markdown",
      "metadata": {
        "id": "NevmIqYBLIrB"
      },
      "source": [
        "#Valores de $\\theta_{ij}$"
      ]
    },
    {
      "cell_type": "code",
      "metadata": {
        "id": "3YX_m6_03f2z"
      },
      "source": [
        "\n",
        "\n",
        "θ12 = np.radians(33.82) # Valores de θ12 en radianes\n",
        "θ23 = np.radians(48.3)  # Valores de θ23 en radianes\n",
        "θ13 = np.radians(8.61)  # Valores de θ13 en radianes\n"
      ],
      "execution_count": 6,
      "outputs": []
    },
    {
      "cell_type": "code",
      "metadata": {
        "id": "Eud4YfswCDNI"
      },
      "source": [
        "c12 = np.cos(θ12) # Coeficiente c12 de θ12 en radianes\n",
        "s12 = np.sin(θ12) # Coeficiente s12 de θ12 en radianes\n",
        "\n",
        "c23 = np.cos(θ23) # Coeficiente c23 de θ23 en radianes\n",
        "s23 = np.sin(θ23) # Coeficiente s23 de θ23 en radianes\n",
        "\n",
        "c13 = np.cos(θ13) # Coeficiente c13 de θ13 en radianes\n",
        "s13 = np.sin(θ13) # Coeficiente s13 de θ13 en radianes\n",
        "\n",
        "\n",
        "\n"
      ],
      "execution_count": 7,
      "outputs": []
    },
    {
      "cell_type": "markdown",
      "metadata": {
        "id": "SBDWMllLLO6J"
      },
      "source": [
        "# Matriz U"
      ]
    },
    {
      "cell_type": "markdown",
      "metadata": {
        "id": "COfaOcWqDbHG"
      },
      "source": [
        "$$\n",
        "\\boldsymbol{U}=\\left(\\begin{array}{ccc}c_{12} c_{13} & s_{12} c_{13} & s_{13}  \\\\ -s_{12} c_{23}-c_{12} s_{13} s_{23}& c_{12} c_{23}-s_{12} s_{13} s_{23}  & c_{13} s_{23} \\\\ s_{12} s_{23}-c_{12} s_{13} c_{23} & -c_{12} s_{23}-s_{12} s_{13} c_{23}  & c_{13} c_{23}\\end{array}\\right)\n",
        "$$"
      ]
    },
    {
      "cell_type": "code",
      "metadata": {
        "id": "M9rhuPKbC2u_"
      },
      "source": [
        "# Matriz U\n",
        "\n",
        "U = np.array([[c12*c13,s12*c13,s13],[-s12*c23-c12*s13*s23,c12*c23-s12*s13*s23,c13*s23],[s12*s23-c12*s13*c23,-c12*s23-s12*s13*c23,c13*c23]])\n",
        "\n",
        "U = np.asmatrix(U)\n",
        "\n"
      ],
      "execution_count": 8,
      "outputs": []
    },
    {
      "cell_type": "code",
      "metadata": {
        "colab": {
          "base_uri": "https://localhost:8080/"
        },
        "id": "uFYqX0R9D-BC",
        "outputId": "231fc9e7-1758-43d3-eb63-c15ed3564db8"
      },
      "source": [
        "D = np.diag([m1,m2,m3])  # Matriz diagonal con las masas \n",
        "\n",
        "D = np.asmatrix(D)\n",
        "\n",
        "Dsqrt = np.sqrt(D)         # Raiz cuadrada de la matriz diagonal con las masas \n",
        "\n",
        "Dsqrt"
      ],
      "execution_count": 9,
      "outputs": [
        {
          "output_type": "execute_result",
          "data": {
            "text/plain": [
              "matrix([[0.0036003 , 0.        , 0.        ],\n",
              "        [0.        , 0.0925602 , 0.        ],\n",
              "        [0.        , 0.        , 0.22410601]])"
            ]
          },
          "metadata": {},
          "execution_count": 9
        }
      ]
    },
    {
      "cell_type": "code",
      "metadata": {
        "id": "t_RLhN_7E4vl"
      },
      "source": [
        "Y = R @ Dsqrt @ R.T  # Matriz Y   se tuvo que corregir porque en el enunciado del parcial decia que era R D U^T\n",
        "                     # Buscando bibliografía se encontró que era R D R^T\n",
        "\n",
        "A = Y.T @ Y  # Matriz A\n",
        " \n"
      ],
      "execution_count": 10,
      "outputs": []
    },
    {
      "cell_type": "markdown",
      "metadata": {
        "id": "vgfvoJswdyqs"
      },
      "source": [
        "# Punto 4. Autovalores Y Autovectores"
      ]
    },
    {
      "cell_type": "code",
      "metadata": {
        "colab": {
          "base_uri": "https://localhost:8080/",
          "height": 78
        },
        "id": "zUx57hIhn-fj",
        "outputId": "249133f7-827f-470a-e544-15ba2ff84afe"
      },
      "source": [
        "\n",
        "eva_A, eve_A  = la.eig(A) # Autovalores y autovectores de A\n",
        "sp.Matrix(np.real(eva_A))"
      ],
      "execution_count": 11,
      "outputs": [
        {
          "output_type": "execute_result",
          "data": {
            "text/latex": "$\\displaystyle \\left[\\begin{matrix}0.0502235021480757\\\\1.29621665166846 \\cdot 10^{-5}\\\\0.00856738980190355\\end{matrix}\\right]$",
            "text/plain": [
              "Matrix([\n",
              "[ 0.0502235021480757],\n",
              "[1.29621665166846e-5],\n",
              "[0.00856738980190355]])"
            ]
          },
          "metadata": {},
          "execution_count": 11
        }
      ]
    },
    {
      "cell_type": "code",
      "metadata": {
        "colab": {
          "base_uri": "https://localhost:8080/",
          "height": 143
        },
        "id": "H4v5KnTTGTlw",
        "outputId": "4bcaeae8-fe30-44f8-e0c2-7302e881f11c"
      },
      "source": [
        "\n",
        "# Creamos un dataframe para visualizar mejor los result\n",
        "df = pd.DataFrame()\n",
        "df[\"Masas[eV]\"]=[\"m1\",\"m2\",\"m3\"]\n",
        "df[\"Valor real\"]=[m1,m2,m3]\n",
        "df[\"Autovalores de A\"]= [np.real(eva_A[1]),np.real(eva_A[2]),np.real(eva_A[0])]\n",
        "\n",
        "df\n",
        "\n",
        "# Se observa que los autovalores corresponden a las masas m1 m2 m3 en eV"
      ],
      "execution_count": 12,
      "outputs": [
        {
          "output_type": "execute_result",
          "data": {
            "text/html": [
              "<div>\n",
              "<style scoped>\n",
              "    .dataframe tbody tr th:only-of-type {\n",
              "        vertical-align: middle;\n",
              "    }\n",
              "\n",
              "    .dataframe tbody tr th {\n",
              "        vertical-align: top;\n",
              "    }\n",
              "\n",
              "    .dataframe thead th {\n",
              "        text-align: right;\n",
              "    }\n",
              "</style>\n",
              "<table border=\"1\" class=\"dataframe\">\n",
              "  <thead>\n",
              "    <tr style=\"text-align: right;\">\n",
              "      <th></th>\n",
              "      <th>Masas[eV]</th>\n",
              "      <th>Valor real</th>\n",
              "      <th>Autovalores de A</th>\n",
              "    </tr>\n",
              "  </thead>\n",
              "  <tbody>\n",
              "    <tr>\n",
              "      <th>0</th>\n",
              "      <td>m1</td>\n",
              "      <td>0.000013</td>\n",
              "      <td>0.000013</td>\n",
              "    </tr>\n",
              "    <tr>\n",
              "      <th>1</th>\n",
              "      <td>m2</td>\n",
              "      <td>0.008567</td>\n",
              "      <td>0.008567</td>\n",
              "    </tr>\n",
              "    <tr>\n",
              "      <th>2</th>\n",
              "      <td>m3</td>\n",
              "      <td>0.050224</td>\n",
              "      <td>0.050224</td>\n",
              "    </tr>\n",
              "  </tbody>\n",
              "</table>\n",
              "</div>"
            ],
            "text/plain": [
              "  Masas[eV]  Valor real  Autovalores de A\n",
              "0        m1    0.000013          0.000013\n",
              "1        m2    0.008567          0.008567\n",
              "2        m3    0.050224          0.050224"
            ]
          },
          "metadata": {},
          "execution_count": 12
        }
      ]
    },
    {
      "cell_type": "code",
      "metadata": {
        "colab": {
          "base_uri": "https://localhost:8080/",
          "height": 78
        },
        "id": "3pEHrLCshH2I",
        "outputId": "e61c019d-0a1d-44e6-e58c-9278552a55d5"
      },
      "source": [
        "Avec = U.T @ A @ U # Vectores propios segun la definición\n",
        "sp.Matrix(Avec)\n"
      ],
      "execution_count": 13,
      "outputs": [
        {
          "output_type": "execute_result",
          "data": {
            "text/latex": "$\\displaystyle \\left[\\begin{matrix}0.0135603455501883 & 0.00254708498420879 & 0.0221404331875509\\\\0.00254708498420879 & 0.00894574795597489 & 0.00323966460436472\\\\0.0221404331875509 & 0.00323966460436472 & 0.0362977606103327\\end{matrix}\\right]$",
            "text/plain": [
              "Matrix([\n",
              "[ 0.0135603455501883, 0.00254708498420879,  0.0221404331875509],\n",
              "[0.00254708498420879, 0.00894574795597489, 0.00323966460436472],\n",
              "[ 0.0221404331875509, 0.00323966460436472,  0.0362977606103327]])"
            ]
          },
          "metadata": {},
          "execution_count": 13
        }
      ]
    },
    {
      "cell_type": "markdown",
      "metadata": {
        "id": "CbuGdw0Ghg_F"
      },
      "source": [
        "Se observa que la matriz que define los autovectores $U^{T} A U$ corresponden exactamente a la matriz diagonal con las masas m1,m2,m3 en cada columna, los numeros menores que $10^{-16}$ se pueden asumir como ceros computacionales"
      ]
    },
    {
      "cell_type": "markdown",
      "metadata": {
        "id": "HRgUxW8nimtK"
      },
      "source": [
        "# Punto 5"
      ]
    },
    {
      "cell_type": "markdown",
      "metadata": {
        "id": "oLgBeIKgRzVk"
      },
      "source": [
        "Si los autovalores de $Y$ son la raiz cuadrada de los autovalores de $A$ entonces   $\\sqrt{atovalores(A)}-Autovalores(Y)=0$"
      ]
    },
    {
      "cell_type": "code",
      "metadata": {
        "id": "-T-73JiGU84h"
      },
      "source": [
        "eva_Y = la.eigvals(Y) # Autovalores de Y"
      ],
      "execution_count": 14,
      "outputs": []
    },
    {
      "cell_type": "code",
      "metadata": {
        "colab": {
          "base_uri": "https://localhost:8080/"
        },
        "id": "S6LdRPR1mT0s",
        "outputId": "b7d2430a-eda2-407e-8fa1-f4f90b7743a4"
      },
      "source": [
        "print(eva_A**0.5-eva_Y)"
      ],
      "execution_count": 15,
      "outputs": [
        {
          "output_type": "stream",
          "name": "stdout",
          "text": [
            "[ 4.44089210e-16+0.j -4.98732999e-16+0.j  2.77555756e-17+0.j]\n"
          ]
        }
      ]
    },
    {
      "cell_type": "markdown",
      "metadata": {
        "id": "CYRc3Zzq2sdi"
      },
      "source": [
        "Como se observa la resta  $\\sqrt{atovalores(A)}-Autovalores(Y)=0$ ya que valores mas pequeños que $10^{-16}$ son ceros computacionales"
      ]
    },
    {
      "cell_type": "markdown",
      "metadata": {
        "id": "kRBwFYoJ4FIz"
      },
      "source": [
        "Este resultado es de esperarse ya que: \n",
        "$A=Y^TY$\n",
        "\n",
        "luego si remplazamos $A$ en $UAU^{T}$:\n",
        "\n",
        "$$diag(m_i)=UAU^T=UY^TYU^T=UY^TU^TUYU^T=diag(eigenvals(Y^T))diag(eigenvals(Y))= diag(eigenvals(Y^{T})*eigenvals(Y))$$\n",
        "\n",
        "pero \n",
        "\n",
        "$$eigenvals(Y^T) = eigenvals(Y)$$\n",
        "\n",
        "$$diag(eigenvals(Y^T)*eigenvals(Y))=diag(eigenvals(Y)^2)$$\n",
        "\n",
        "por tanto:\n",
        "\n",
        "\n",
        "$$UAU^{T}=diag(eigenvals(A))= diag(eigenvals(Y)^2)$$\n",
        "\n",
        "$$eigenvals(A))= eigenvals(Y)^2$$\n",
        "\n",
        "$$\\sqrt{eigenvals(A)}= eigenvals(Y)$$\n",
        "\n"
      ]
    }
  ]
}