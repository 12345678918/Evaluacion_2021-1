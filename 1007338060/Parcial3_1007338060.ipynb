{
  "nbformat": 4,
  "nbformat_minor": 0,
  "metadata": {
    "colab": {
      "name": "Parcial3_1007338060.ipynb",
      "provenance": [],
      "collapsed_sections": []
    },
    "kernelspec": {
      "name": "python3",
      "display_name": "Python 3"
    },
    "language_info": {
      "name": "python"
    }
  },
  "cells": [
    {
      "cell_type": "markdown",
      "metadata": {
        "id": "oimoaBUE8y1G"
      },
      "source": [
        "# Parcial 3 Brayan Alejandro Murillo González _ 1007338060"
      ]
    },
    {
      "cell_type": "code",
      "metadata": {
        "id": "JUVQ9_XCyE86"
      },
      "source": [
        "import numpy as np\n",
        "import scipy.linalg as la\n",
        "import random as rd\n",
        "import pandas as pd\n",
        "import sympy as sp"
      ],
      "execution_count": 1,
      "outputs": []
    },
    {
      "cell_type": "markdown",
      "metadata": {
        "id": "TBrczi41Kyaq"
      },
      "source": [
        "# Punto 1. m1 aleatorio , m1 y m2"
      ]
    },
    {
      "cell_type": "markdown",
      "metadata": {
        "id": "Oz5eJG1o7qrk"
      },
      "source": [
        "$\\frac { \\Delta  m^2_{21}}{10^-5 eV^2}=7.39\\ \\ \\ (1)$ \n",
        "\n",
        "$\\frac { \\Delta  m^2_{32}}{10^-3 eV^2}=2.44\\ \\ \\ (2)$ \n",
        "\n",
        "$\\Delta m^2_{ij}=m^2_i-m^2_j\\ \\ \\ \\ (3)$ \n",
        "\n",
        "se reemplaza $(3)$ en $(1)$ y $(2)$ y se despejan $m2$ y $m3$ \n",
        "\n",
        "$\\frac { m^2_2-m^2_1}{10^-5 eV^2}=7.39 $\n",
        "\n",
        "$ m_2=\\sqrt{7.39(10^-5)+m^2_1} $ \n",
        "\n",
        "y\n",
        "\n",
        "\n",
        "$\\frac { m^2_3-m^2_2}{10^-3 eV^2}=2.44 $\n",
        "\n",
        "$ m_3=\\sqrt{2.44(10^-3)+m^2_2} $ "
      ]
    },
    {
      "cell_type": "code",
      "metadata": {
        "colab": {
          "base_uri": "https://localhost:8080/"
        },
        "id": "uahnvkBGyOt3",
        "outputId": "6e42879a-cd5c-452b-c97a-06c19efbc822"
      },
      "source": [
        "list_m1log = np.logspace(1e-9,1e-4,10000)  # Lista de valores aleatorios de m1 entre 1e-9 1e-4 eV  (elevados a la potencia 10)\n",
        "m1 = np.log10(rd.choice(list_m1log))   # Se escoge un valor aleatorio de la anterior lista, a este valor se le saca el log10 y ese será m1\n",
        "\n",
        "\n",
        "\n",
        "dm21 = 7.34e-05\n",
        "dm32 = 2.449e-03\n",
        " \n",
        "m2 = ((m1**2)+(dm21))**0.5  # m2 a partir de la relacion m21 de la tabla\n",
        "\n",
        "m3 = ((m2**2)+(dm32))**0.5 # m3 a partir dde la relacion m32 de la tabla\n",
        "\n",
        "\n",
        "if m1 < m2 and m2 < m3:    # Comprobamos las condiciones de m1 m2 m3\n",
        "  print(True)\n",
        "\n",
        "\n",
        "print(\"m1 = %E , m2 = %E , m3 = %E \"%(m1,m2,m3)) \n"
      ],
      "execution_count": 2,
      "outputs": [
        {
          "output_type": "stream",
          "name": "stdout",
          "text": [
            "True\n",
            "m1 = 5.464592E-05 , m2 = 8.567554E-03 , m3 = 5.022353E-02 \n"
          ]
        }
      ]
    },
    {
      "cell_type": "code",
      "metadata": {
        "id": "PtZMpADwsaxV"
      },
      "source": [
        ""
      ],
      "execution_count": 2,
      "outputs": []
    },
    {
      "cell_type": "markdown",
      "metadata": {
        "id": "vaUseozBK5iC"
      },
      "source": [
        "# Punto 2. $\\alpha_{ij}$ entre $(0,2\\pi)$"
      ]
    },
    {
      "cell_type": "code",
      "metadata": {
        "id": "tuxM7-1wHWUQ",
        "colab": {
          "base_uri": "https://localhost:8080/"
        },
        "outputId": "4b91501e-0982-4629-8ef8-f9b5666a7a25"
      },
      "source": [
        "α12 = np.random.uniform(0,2*np.pi)  # Angulo α12 en radianes\n",
        "\n",
        "α13 = np.random.uniform(0,2*np.pi)  # Angulo α13 en radianes\n",
        "\n",
        "α23 = np.random.uniform(0,2*np.pi)  # Angulo α23 en radianes\n",
        "\n",
        "print(α12,α13,α23)"
      ],
      "execution_count": 3,
      "outputs": [
        {
          "output_type": "stream",
          "name": "stdout",
          "text": [
            "2.043591593063477 3.8482921646366375 3.2406199031582754\n"
          ]
        }
      ]
    },
    {
      "cell_type": "code",
      "metadata": {
        "id": "VT4BmqyM9WjY"
      },
      "source": [
        "C12 = np.cos(α12) # Coeficiente C12 de α12 en radianes\n",
        "S12 = np.sin(α12) # Coeficiente S12 de α12 en radianes\n",
        "\n",
        "C13 = np.cos(α13) # Coeficiente C13 de α13 en radianes\n",
        "S13 = np.sin(α13) # Coeficiente S13 de α13 en radianes\n",
        "\n",
        "C23 = np.cos(α23) # Coeficiente C23 de α23 en radianes\n",
        "S23 = np.sin(α23) # Coeficiente S23 de α23 en radianes\n",
        "\n",
        "\n"
      ],
      "execution_count": 4,
      "outputs": []
    },
    {
      "cell_type": "markdown",
      "metadata": {
        "id": "wW5q8M64LFmS"
      },
      "source": [
        "#Punto 3. Obtener Y"
      ]
    },
    {
      "cell_type": "markdown",
      "metadata": {
        "id": "VYd9nwDIKkGa"
      },
      "source": [
        "# Matriz R"
      ]
    },
    {
      "cell_type": "markdown",
      "metadata": {
        "id": "zbPimIrPKjDw"
      },
      "source": [
        "$$\n",
        "\\boldsymbol{R}=\\left(\\begin{array}{ccc}c^\\alpha_{12} c^\\alpha_{13} & s^\\alpha_{12} c^\\alpha_{13} & s^\\alpha_{13}  \\\\ -s^\\alpha_{12} c^\\alpha_{23}-c^\\alpha_{12} s^\\alpha_{13} s^\\alpha_{23}& c^\\alpha_{12} c^\\alpha_{23}-s^\\alpha_{12} s^\\alpha_{13} s^\\alpha_{23}  & c^\\alpha_{13} s^\\alpha_{23} \\\\ s^\\alpha_{12} s^\\alpha_{23}-c^\\alpha_{12} s^\\alpha_{13} c^\\alpha_{23} & -c^\\alpha_{12} s^\\alpha_{23}-s^\\alpha_{12} s^\\alpha_{13} c^\\alpha_{23}  & c^\\alpha_{13} c^\\alpha_{23}\\end{array}\\right)\n",
        "$$"
      ]
    },
    {
      "cell_type": "code",
      "metadata": {
        "colab": {
          "base_uri": "https://localhost:8080/",
          "height": 78
        },
        "id": "bODtYIOS-v6D",
        "outputId": "4f989cb1-1d41-49bf-c2ec-b17ca267519f"
      },
      "source": [
        "# Matriz R\n",
        "\n",
        "R = np.array([[C12*C13 , S12*C13 , S13],[-S12*C23-C12*S13*S23,C12*C23-S12*S13*S23,C13*S23],[S12*S23-C12*S13*C23,-C12*S23 - S12*S13*C23 , C13*C23]])\n",
        "\n",
        "R = np.asmatrix(R)\n",
        "\n",
        "sp.Matrix(R)"
      ],
      "execution_count": 5,
      "outputs": [
        {
          "output_type": "execute_result",
          "data": {
            "text/latex": "$\\displaystyle \\left[\\begin{matrix}0.346318117138974 & -0.677080402011548 & -0.649327260288059\\\\0.915170507990328 & 0.395992034390097 & 0.0751880974910133\\\\0.206220035510718 & -0.62028415900414 & 0.756783231211213\\end{matrix}\\right]$",
            "text/plain": [
              "Matrix([\n",
              "[0.346318117138974, -0.677080402011548, -0.649327260288059],\n",
              "[0.915170507990328,  0.395992034390097, 0.0751880974910133],\n",
              "[0.206220035510718,  -0.62028415900414,  0.756783231211213]])"
            ]
          },
          "metadata": {},
          "execution_count": 5
        }
      ]
    },
    {
      "cell_type": "markdown",
      "metadata": {
        "id": "NevmIqYBLIrB"
      },
      "source": [
        "#Valores de $\\theta_{ij}$"
      ]
    },
    {
      "cell_type": "code",
      "metadata": {
        "id": "3YX_m6_03f2z"
      },
      "source": [
        "\n",
        "\n",
        "θ12 = np.radians(33.82) # Valores de θ12 en radianes\n",
        "θ23 = np.radians(48.3)  # Valores de θ23 en radianes\n",
        "θ13 = np.radians(8.61)  # Valores de θ13 en radianes\n"
      ],
      "execution_count": 6,
      "outputs": []
    },
    {
      "cell_type": "code",
      "metadata": {
        "id": "Eud4YfswCDNI"
      },
      "source": [
        "c12 = np.cos(θ12) # Coeficiente c12 de θ12 en radianes\n",
        "s12 = np.sin(θ12) # Coeficiente s12 de θ12 en radianes\n",
        "\n",
        "c23 = np.cos(θ23) # Coeficiente c23 de θ23 en radianes\n",
        "s23 = np.sin(θ23) # Coeficiente s23 de θ23 en radianes\n",
        "\n",
        "c13 = np.cos(θ13) # Coeficiente c13 de θ13 en radianes\n",
        "s13 = np.sin(θ13) # Coeficiente s13 de θ13 en radianes\n",
        "\n",
        "\n",
        "\n"
      ],
      "execution_count": 7,
      "outputs": []
    },
    {
      "cell_type": "markdown",
      "metadata": {
        "id": "SBDWMllLLO6J"
      },
      "source": [
        "# Matriz U"
      ]
    },
    {
      "cell_type": "markdown",
      "metadata": {
        "id": "COfaOcWqDbHG"
      },
      "source": [
        "$$\n",
        "\\boldsymbol{U}=\\left(\\begin{array}{ccc}c_{12} c_{13} & s_{12} c_{13} & s_{13}  \\\\ -s_{12} c_{23}-c_{12} s_{13} s_{23}& c_{12} c_{23}-s_{12} s_{13} s_{23}  & c_{13} s_{23} \\\\ s_{12} s_{23}-c_{12} s_{13} c_{23} & -c_{12} s_{23}-s_{12} s_{13} c_{23}  & c_{13} c_{23}\\end{array}\\right)\n",
        "$$"
      ]
    },
    {
      "cell_type": "code",
      "metadata": {
        "id": "M9rhuPKbC2u_"
      },
      "source": [
        "# Matriz U\n",
        "\n",
        "U = np.array([[c12*c13,s12*c13,s13],[-s12*c23-c12*s13*s23,c12*c23-s12*s13*s23,c13*s23],[s12*s23-c12*s13*c23,-c12*s23-s12*s13*c23,c13*c23]])\n",
        "\n",
        "U = np.asmatrix(U)\n",
        "\n"
      ],
      "execution_count": 8,
      "outputs": []
    },
    {
      "cell_type": "code",
      "metadata": {
        "colab": {
          "base_uri": "https://localhost:8080/"
        },
        "id": "uFYqX0R9D-BC",
        "outputId": "4cdbd9fb-d33b-4d38-c9aa-2c316e5dd5fc"
      },
      "source": [
        "D = np.diag([m1,m2,m3])  # Matriz diagonal con las masas \n",
        "\n",
        "D = np.asmatrix(D)\n",
        "\n",
        "Dsqrt = np.sqrt(D)         # Raiz cuadrada de la matriz diagonal con las masas \n",
        "\n",
        "Dsqrt"
      ],
      "execution_count": 9,
      "outputs": [
        {
          "output_type": "execute_result",
          "data": {
            "text/plain": [
              "matrix([[0.00739229, 0.        , 0.        ],\n",
              "        [0.        , 0.09256108, 0.        ],\n",
              "        [0.        , 0.        , 0.22410607]])"
            ]
          },
          "metadata": {},
          "execution_count": 9
        }
      ]
    },
    {
      "cell_type": "code",
      "metadata": {
        "id": "t_RLhN_7E4vl"
      },
      "source": [
        "Y = R @ Dsqrt @ U.T  # Matriz Y   \n",
        "                     \n",
        "\n",
        "A = Y.T @ Y  # Matriz A\n",
        " \n"
      ],
      "execution_count": 10,
      "outputs": []
    },
    {
      "cell_type": "markdown",
      "metadata": {
        "id": "vgfvoJswdyqs"
      },
      "source": [
        "# Punto 4. Autovalores Y Autovectores"
      ]
    },
    {
      "cell_type": "code",
      "metadata": {
        "colab": {
          "base_uri": "https://localhost:8080/",
          "height": 78
        },
        "id": "zUx57hIhn-fj",
        "outputId": "f35168a2-e7df-491e-f3bb-9eb0cabf60e4"
      },
      "source": [
        "\n",
        "eva_A, eve_A  = la.eig(A) # Autovalores y autovectores de A\n",
        "sp.Matrix(np.real(eva_A))"
      ],
      "execution_count": 11,
      "outputs": [
        {
          "output_type": "execute_result",
          "data": {
            "text/latex": "$\\displaystyle \\left[\\begin{matrix}0.0502235302042416\\\\5.46459180918533 \\cdot 10^{-5}\\\\0.0085675542704067\\end{matrix}\\right]$",
            "text/plain": [
              "Matrix([\n",
              "[ 0.0502235302042416],\n",
              "[5.46459180918533e-5],\n",
              "[ 0.0085675542704067]])"
            ]
          },
          "metadata": {},
          "execution_count": 11
        }
      ]
    },
    {
      "cell_type": "code",
      "metadata": {
        "colab": {
          "base_uri": "https://localhost:8080/",
          "height": 143
        },
        "id": "H4v5KnTTGTlw",
        "outputId": "1548145b-3031-4a79-fdaf-83deb4cc61f6"
      },
      "source": [
        "\n",
        "# Creamos un dataframe para visualizar mejor los result\n",
        "df = pd.DataFrame()\n",
        "df[\"Masas[eV]\"]=[\"m1\",\"m2\",\"m3\"]\n",
        "df[\"Valor real\"]=[m1,m2,m3]\n",
        "df[\"Autovalores de A\"]= [np.real(eva_A[1]),np.real(eva_A[2]),np.real(eva_A[0])]\n",
        "\n",
        "df\n",
        "\n",
        "# Se observa que los autovalores corresponden a las masas m1 m2 m3 en eV"
      ],
      "execution_count": 12,
      "outputs": [
        {
          "output_type": "execute_result",
          "data": {
            "text/html": [
              "<div>\n",
              "<style scoped>\n",
              "    .dataframe tbody tr th:only-of-type {\n",
              "        vertical-align: middle;\n",
              "    }\n",
              "\n",
              "    .dataframe tbody tr th {\n",
              "        vertical-align: top;\n",
              "    }\n",
              "\n",
              "    .dataframe thead th {\n",
              "        text-align: right;\n",
              "    }\n",
              "</style>\n",
              "<table border=\"1\" class=\"dataframe\">\n",
              "  <thead>\n",
              "    <tr style=\"text-align: right;\">\n",
              "      <th></th>\n",
              "      <th>Masas[eV]</th>\n",
              "      <th>Valor real</th>\n",
              "      <th>Autovalores de A</th>\n",
              "    </tr>\n",
              "  </thead>\n",
              "  <tbody>\n",
              "    <tr>\n",
              "      <th>0</th>\n",
              "      <td>m1</td>\n",
              "      <td>0.000055</td>\n",
              "      <td>0.000055</td>\n",
              "    </tr>\n",
              "    <tr>\n",
              "      <th>1</th>\n",
              "      <td>m2</td>\n",
              "      <td>0.008568</td>\n",
              "      <td>0.008568</td>\n",
              "    </tr>\n",
              "    <tr>\n",
              "      <th>2</th>\n",
              "      <td>m3</td>\n",
              "      <td>0.050224</td>\n",
              "      <td>0.050224</td>\n",
              "    </tr>\n",
              "  </tbody>\n",
              "</table>\n",
              "</div>"
            ],
            "text/plain": [
              "  Masas[eV]  Valor real  Autovalores de A\n",
              "0        m1    0.000055          0.000055\n",
              "1        m2    0.008568          0.008568\n",
              "2        m3    0.050224          0.050224"
            ]
          },
          "metadata": {},
          "execution_count": 12
        }
      ]
    },
    {
      "cell_type": "code",
      "metadata": {
        "colab": {
          "base_uri": "https://localhost:8080/",
          "height": 78
        },
        "id": "3pEHrLCshH2I",
        "outputId": "84ca091e-2bec-4c6b-fe65-0f431933fd3d"
      },
      "source": [
        "Avec = U.T @ A @ U # Vectores propios segun la definición\n",
        "sp.Matrix(Avec)\n"
      ],
      "execution_count": 13,
      "outputs": [
        {
          "output_type": "execute_result",
          "data": {
            "text/latex": "$\\displaystyle \\left[\\begin{matrix}5.4645918091852 \\cdot 10^{-5} & 1.67542069571513 \\cdot 10^{-19} & -2.95484836928698 \\cdot 10^{-19}\\\\7.04397221291573 \\cdot 10^{-19} & 0.0085675542704067 & 1.67567128991775 \\cdot 10^{-19}\\\\2.20139872555983 \\cdot 10^{-19} & -2.28362456105417 \\cdot 10^{-18} & 0.0502235302042416\\end{matrix}\\right]$",
            "text/plain": [
              "Matrix([\n",
              "[  5.4645918091852e-5,  1.67542069571513e-19, -2.95484836928698e-19],\n",
              "[7.04397221291573e-19,    0.0085675542704067,  1.67567128991775e-19],\n",
              "[2.20139872555983e-19, -2.28362456105417e-18,    0.0502235302042416]])"
            ]
          },
          "metadata": {},
          "execution_count": 13
        }
      ]
    },
    {
      "cell_type": "markdown",
      "metadata": {
        "id": "CbuGdw0Ghg_F"
      },
      "source": [
        "Se observa que la matriz que define los autovectores $U^{T} A U$ corresponden exactamente a la matriz diagonal con las masas m1,m2,m3 en desorden en la diagonal, los numeros menores que $10^{-16}$ se pueden asumir como ceros computacionales"
      ]
    },
    {
      "cell_type": "markdown",
      "metadata": {
        "id": "HRgUxW8nimtK"
      },
      "source": [
        "# Punto 5"
      ]
    },
    {
      "cell_type": "markdown",
      "metadata": {
        "id": "oLgBeIKgRzVk"
      },
      "source": [
        "Si los autovalores de $Y$ son la raiz cuadrada de los autovalores de $A$ entonces   $\\sqrt{atovalores(A)}-Autovalores(Y)=0$"
      ]
    },
    {
      "cell_type": "code",
      "metadata": {
        "id": "-T-73JiGU84h"
      },
      "source": [
        "eva_Y = la.eigvals(Y) # Autovalores de Y"
      ],
      "execution_count": 14,
      "outputs": []
    },
    {
      "cell_type": "code",
      "metadata": {
        "colab": {
          "base_uri": "https://localhost:8080/"
        },
        "id": "S6LdRPR1mT0s",
        "outputId": "ce95d060-ded4-4aae-98f7-8aa8d6f2cf4e"
      },
      "source": [
        "print(eva_A**0.5-eva_Y)"
      ],
      "execution_count": 15,
      "outputs": [
        {
          "output_type": "stream",
          "name": "stdout",
          "text": [
            "[ 0.23090582-0.03268698j  0.01419204+0.03268698j -0.04500538+0.j        ]\n"
          ]
        }
      ]
    },
    {
      "cell_type": "markdown",
      "metadata": {
        "id": "CYRc3Zzq2sdi"
      },
      "source": [
        "Por mas que busco no encuentro errores en el codigo, los puntos anteriores me dan, pero este punto no me da, ya que la resta definida arriba no es cero"
      ]
    },
    {
      "cell_type": "markdown",
      "metadata": {
        "id": "kRBwFYoJ4FIz"
      },
      "source": [
        "Este resultado de la resta es de esperarse ya que: \n",
        "$A=Y^TY$\n",
        "\n",
        "luego si remplazamos $A$ en $UAU^{T}$:\n",
        "\n",
        "$$diag(m_i)=UAU^T=UY^TYU^T=UY^TU^TUYU^T=diag(eigenvals(Y^T))diag(eigenvals(Y))= diag(eigenvals(Y^{T})*eigenvals(Y))$$\n",
        "\n",
        "pero \n",
        "\n",
        "$$eigenvals(Y^T) = eigenvals(Y)$$\n",
        "\n",
        "$$diag(eigenvals(Y^T)*eigenvals(Y))=diag(eigenvals(Y)^2)$$\n",
        "\n",
        "por tanto:\n",
        "\n",
        "\n",
        "$$UAU^{T}=diag(eigenvals(A))= diag(eigenvals(Y)^2)$$\n",
        "\n",
        "$$eigenvals(A))= eigenvals(Y)^2$$\n",
        "\n",
        "$$\\sqrt{eigenvals(A)}= eigenvals(Y)$$\n",
        "\n"
      ]
    }
  ]
}