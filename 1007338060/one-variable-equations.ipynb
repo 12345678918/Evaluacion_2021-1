{
 "cells": [
  {
   "cell_type": "markdown",
   "metadata": {
    "colab_type": "text",
    "id": "cx_2LAjUw7VH"
   },
   "source": [
    "<a href=\"https://colab.research.google.com/github/restrepo/ComputationalMethods/blob/master/material/one-variable-equations.ipynb\" target=\"_parent\"><img src=\"https://colab.research.google.com/assets/colab-badge.svg\" alt=\"Open In Colab\"/></a>\n",
    "\n",
    "# One Variable Equations\n",
    "<a href=\"https://colab.research.google.com/github/restrepo/ComputationalMethods/blob/master/material/one-variable-equations.ipynb\" target=\"_parent\"><img src=\"https://colab.research.google.com/assets/colab-badge.svg\" alt=\"Open In Colab\"/></a>\n",
    "\n",
    "Throughout this section and the next ones we shall cover the topic of solutions to one variable equations. Many different problems in physics and astronomy require the use of complex expressions, even with implicit dependence of variables. When it is necessary to solve for one of those variable, an analytical approach is not usually the best solution, because of its complexity or even because it does not exist at all. Different approaches for dealing with this comprehend series expansions and numerical solutions. Among the most widely used numerical approaches are the Bisection or Binary-search method, fixed-point iteration, Newton's methods.\n",
    "\n",
    "For further details see for example Chap. 5 of Ref. ([1](../index.ipynb#Bibliography)) or Chap. 4 of Ref. ([3](../index.ipynb#Bibliography))\n"
   ]
  },
  {
   "cell_type": "markdown",
   "metadata": {
    "colab_type": "text",
    "id": "sExxbMPEw7VM"
   },
   "source": [
    "- - -\n",
    "- [Bisection Method](#Bisection-Method) \n",
    "    - [Steps](#Steps-BM)\n",
    "    - [Stop condition](#Stop-condition-BM)\n",
    "    - [Error analysis](#Error-analysis-BM)\n",
    "    - [Example 1](#Example-1)\n",
    "    - [Example 2](#Example-2)\n",
    "- [Fixed-point Iteration](./one-variable-equations-fixed-point.ipynb#Fixed-point-Iteration)\n",
    "    - [Steps](./one-variable-equations-fixed-point.ipynb#Steps-FP)\n",
    "    - [Example 3](./one-variable-equations-fixed-point.ipynb#Example-3)\n",
    "    - [Stop condition](./one-variable-equations-fixed-point.ipynb#Stop-condition-FP)\n",
    "    - [Example 4](./one-variable-equations-fixed-point.ipynb#Example-4)\n",
    "    - [Activity](./one-variable-equations-fixed-point.ipynb#ACTIVITY-FP)\n",
    "- [Newton-Raphson Method](./one-variable-equations-fixed-point.ipynb#Newton-Raphson-Method)\n",
    "    - [Derivation](./one-variable-equations-fixed-point.ipynb#Derivation-NM)\n",
    "    - [Steps](./one-variable-equations-fixed-point.ipynb#Steps-NM)\n",
    "    - [Example 5](./one-variable-equations-fixed-point.ipynb#Example-5)\n",
    "    - [Stop condition](./one-variable-equations-fixed-point.ipynb#Stop-condition-NM)\n",
    "    - [Convergence](./one-variable-equations-fixed-point.ipynb#Convergence-NM)\n",
    "- [Secant Method](./one-variable-equations-fixed-point.ipynb#Secant-Method)\n",
    "    - [Derivation](./one-variable-equations-fixed-point.ipynb#Derivation-SM)\n",
    "    - [Steps](./one-variable-equations-fixed-point.ipynb#Steps-SM)\n",
    "\n",
    "- - -\n",
    "## Bibliography\n",
    "[1] [Kiusalaas, Numerical Methods in Engineering with Python](https://drive.google.com/file/d/0BxoOXsn2EUNIQUdFVkctR2xWRUk/view?usp=sharing)<br/>\n",
    "[2] [Jensen, Computational_Physics](https://drive.google.com/file/d/0BxoOXsn2EUNIekRUMFVPYXVsSTg/view?usp=sharing).  Companion repos: https://github.com/mhjensen [Web page](http://compphysics.github.io/ComputationalPhysics/doc/web/course)  <br/>\n",
    "[3] E. Ayres, [Computational Physics With Python](http://bit.ly/CPwPython)<br/>\n"
   ]
  },
  {
   "cell_type": "code",
   "execution_count": 1,
   "metadata": {
    "colab": {},
    "colab_type": "code",
    "id": "GD4z2RTZw7VN",
    "outputId": "2780c361-b150-411f-b8ac-88567710c34f"
   },
   "outputs": [
    {
     "name": "stdout",
     "output_type": "stream",
     "text": [
      "Populating the interactive namespace from numpy and matplotlib\n"
     ]
    }
   ],
   "source": [
    "%pylab inline\n",
    "rc('animation', html='jshtml')"
   ]
  },
  {
   "cell_type": "markdown",
   "metadata": {
    "colab_type": "text",
    "id": "FY0-QkUnw7VS"
   },
   "source": [
    "JSAnimation import available at https://github.com/jakevdp/JSAnimation"
   ]
  },
  {
   "cell_type": "code",
   "execution_count": 2,
   "metadata": {
    "colab": {},
    "colab_type": "code",
    "id": "5rHmuj6mw7VT"
   },
   "outputs": [],
   "source": [
    "#from JSAnimation import IPython_display\n",
    "from matplotlib import animation"
   ]
  },
  {
   "cell_type": "code",
   "execution_count": 3,
   "metadata": {
    "colab": {},
    "colab_type": "code",
    "id": "zM--Q1_nw7VX"
   },
   "outputs": [],
   "source": [
    "import numpy as np\n",
    "\n",
    "\n",
    "from scipy import integrate\n",
    "from scipy import optimize"
   ]
  },
  {
   "cell_type": "markdown",
   "metadata": {
    "colab_type": "text",
    "id": "_45Zy-RWw7Vb"
   },
   "source": [
    "- - - "
   ]
  },
  {
   "cell_type": "markdown",
   "metadata": {
    "colab_type": "text",
    "id": "RNEo8n--w7Vc"
   },
   "source": [
    "# Bisection Method"
   ]
  },
  {
   "cell_type": "markdown",
   "metadata": {
    "colab_type": "text",
    "id": "2ZgAUxxyw7Vf"
   },
   "source": [
    "The Bisection method exploits the [intermediate value theorem](http://en.wikipedia.org/wiki/Intermediate_value_theorem), where a continuous and differentiable function $f$ must have a zero between an interval $[a,b]$ such that $f(a)f(b)<0$, or equivalently, there must be a value $p\\in[a,b]$ such that $f(p)=0$. Below the algorithmm is stated explicitly."
   ]
  },
  {
   "cell_type": "markdown",
   "metadata": {
    "colab_type": "text",
    "id": "tCrKSgUrw7Vh"
   },
   "source": [
    "## Steps BM"
   ]
  },
  {
   "cell_type": "markdown",
   "metadata": {
    "colab_type": "text",
    "id": "8uRIVSQOw7Vj"
   },
   "source": [
    "<div style=\"float: right;\" markdown=\"1\">\n",
    "    <img src=\"http://upload.wikimedia.org/wikipedia/commons/thumb/8/8c/Bisection_method.svg/300px-Bisection_method.svg.png\">\n",
    "</div>\n",
    "\n",
    "\n",
    "1. There must be selected two values $a$ and $b$ such that $f(a)f(b)<0$ and $p\\in[a,b]$ where $f(p)=0$. In other words, though we do not know the value of the root, we must know that there is at least one within the selected interval.\n",
    "\n",
    "2. To begin, it must be set $a_1=a$ and $b_1=b$.\n",
    "\n",
    "3. Calculate the mid-point $p_1$ as\n",
    "\n",
    "    $$p_1 = a_1 + \\frac{b_1-a_1}{2} = \\frac{a_1+b_1}{2}$$\n",
    "\n",
    "4. Evaluate the function in $p_1$, if the [stop condition](#Stop-Condition) is true, go to step 6.\n",
    "\n",
    "5. If the [stop condition](#Stop-Condition) is not satisfied, then:\n",
    "\n",
    "    1. If $f(p_1)f(a_1) > 0$, $p\\in(p_1,b_1)$. Then set $a_2=p_1$ and $b_2=b_1$\n",
    "\n",
    "    2. If $f(p_1)f(a_1) < 0$, $p\\in(a_1,p_1)$. Then set $a_2=a_1$ and $b_2=p_1$\n",
    "\n",
    "    3. Go to step 3 using $p_2$, $a_2$ and $b_2$ instead of $p_1$, $a_1$ and $b_1$. For next iterations the index increases until the [stop condition](#Stop-Condition) is reached.\n",
    "\n",
    "6. The End!"
   ]
  },
  {
   "cell_type": "markdown",
   "metadata": {
    "colab_type": "text",
    "id": "7uoUfZn9w7Vk"
   },
   "source": [
    "## Stop condition BM"
   ]
  },
  {
   "cell_type": "markdown",
   "metadata": {
    "colab_type": "text",
    "id": "qtHv5IGIw7Vl"
   },
   "source": [
    "There are several different stop conditions for this algorithm. The most used are stated below:\n",
    "\n",
    "* A fixed distance between the last two steps (absolute convergence):\n",
    "\n",
    "    $$|p_i - p_{i-1}|<\\epsilon$$\n",
    "\n",
    "* A fixed relative distance between the last two steps (relative convergence):\n",
    "\n",
    "    $$\\frac{|p_i - p_{i-1}|}{|p_i|}<\\epsilon\\ \\ \\ \\ \\ p_i \\neq 0$$\n",
    "\n",
    "* Function tolerance:\n",
    "\n",
    "    $$f(p_i)< \\epsilon$$\n",
    "\n",
    "All these conditions should lead to a desired convergence expressed by the $\\epsilon$ value. However, the first and the third conditions present some problems when the function has a derivative very large or close to $0$ as evaluated in the root value. When the function is very inclined, the first condition fails as a convergence in the $x$ axis does not guarantee a convergence in the $y$ axis, so the found root $p$ may be far from the real value. When the function is very flat ($dF/dx\\rightarrow 0$), the third condition fails due to an analogous reason.\n",
    "\n",
    "A final stop condition which does not have mathematical motivation but a computational one, is a maximum number of allowed iterations. This condition should be used not only for this algorithm but for all iteration-based numerical methods. This condition guarantees a finite computing time and prevents undesired infinite bucles.\n",
    "\n",
    "* If $N>N_{max}$, stop!"
   ]
  },
  {
   "cell_type": "markdown",
   "metadata": {
    "colab_type": "text",
    "id": "nBQBHO23w7Vm"
   },
   "source": [
    "## Error analysis BM"
   ]
  },
  {
   "cell_type": "markdown",
   "metadata": {
    "colab_type": "text",
    "id": "2u-a2qPOw7Vn"
   },
   "source": [
    "If we suppose $f\\in C[a,b]$ and $f(a)f(b)<0$, the Bisection method generates a sequence of numbers $\\left\\{p_i\\right\\}_{i=1}^\\infty$ approximating a root $p$ of $f$ as:\n",
    "\n",
    "$$|p_i-p|\\leq \\frac{b-a}{2^n},\\ \\ \\ \\ \\ i\\geq 1$$\n",
    "\n",
    "From this, we can conclude the convergence rate of the method is\n",
    "\n",
    "$$p_i = p + \\mathcal{O}\\left( \\frac{1}{2^i} \\right)$$\n",
    "\n",
    "This expression allows us to estimate the maximum number of required iterations for achieving a desired precision. The next figure sketches the number of iterations required for some precision."
   ]
  },
  {
   "cell_type": "code",
   "execution_count": 4,
   "metadata": {
    "colab": {},
    "colab_type": "code",
    "id": "OsQu8x8Jw7Vo"
   },
   "outputs": [],
   "source": [
    "import time"
   ]
  },
  {
   "cell_type": "code",
   "execution_count": 5,
   "metadata": {
    "colab": {},
    "colab_type": "code",
    "id": "NRO_1bQGw7Vt",
    "outputId": "1816cac5-f362-471a-ef17-40cda939e068"
   },
   "outputs": [
    {
     "data": {
      "text/plain": [
       "array([1, 2, 3])"
      ]
     },
     "execution_count": 5,
     "metadata": {},
     "output_type": "execute_result"
    }
   ],
   "source": [
    "i=np.arange( 1, 100)\n",
    "i[:3]"
   ]
  },
  {
   "cell_type": "code",
   "execution_count": 6,
   "metadata": {
    "colab": {},
    "colab_type": "code",
    "id": "Uf5JCpRuw7Vy"
   },
   "outputs": [],
   "source": [
    "# plt.plot( x,y  ) # points joined with straight lines "
   ]
  },
  {
   "cell_type": "code",
   "execution_count": 7,
   "metadata": {
    "colab": {},
    "colab_type": "code",
    "id": "j02SkcI1w7V4",
    "outputId": "6845b6c1-d366-4b39-c200-612315cd0cee"
   },
   "outputs": [
    {
     "data": {
      "text/plain": [
       "[<matplotlib.lines.Line2D at 0x2a3d0902c10>]"
      ]
     },
     "execution_count": 7,
     "metadata": {},
     "output_type": "execute_result"
    },
    {
     "data": {
      "image/png": "[encoded data removed]",
      "text/plain": [
       "<Figure size 432x288 with 1 Axes>"
      ]
     },
     "metadata": {
      "needs_background": "light"
     },
     "output_type": "display_data"
    }
   ],
   "source": [
    "# 1/2**i → exp2(-i)\n",
    "plt.plot(i,np.exp2(-i))"
   ]
  },
  {
   "cell_type": "code",
   "execution_count": 8,
   "metadata": {
    "colab": {},
    "colab_type": "code",
    "id": "_Eye-yOJw7V7",
    "outputId": "f83011e3-ca2f-438b-c6e7-280f27334322"
   },
   "outputs": [
    {
     "data": {
      "image/png": "[encoded data removed]",
      "text/plain": [
       "<Figure size 432x432 with 1 Axes>"
      ]
     },
     "metadata": {
      "needs_background": "light"
     },
     "output_type": "display_data"
    }
   ],
   "source": [
    "s=time.time()\n",
    "#Array of iterations\n",
    "Niter = np.arange( 1, 100 )\n",
    "\n",
    "plt.figure( figsize=(6,6) )\n",
    "#plt.semilogy( Niter, 2.0**-Niter, color=\"green\", lw = 2 )\n",
    "plt.semilogy( Niter, np.exp2(-Niter), color=\"green\", lw = 2 )\n",
    "plt.grid(True)\n",
    "plt.xlabel(\"Number of Iterations\",size=15)\n",
    "plt.ylabel(\"Absolute Error $|p_n-p|$\",size=15)\n",
    "f=time.time()-s"
   ]
  },
  {
   "cell_type": "markdown",
   "metadata": {
    "colab_type": "text",
    "id": "pd9PwTe1w7V-"
   },
   "source": [
    "## Example 1"
   ]
  },
  {
   "cell_type": "markdown",
   "metadata": {
    "colab_type": "text",
    "id": "vlEpT9Sjw7V_"
   },
   "source": [
    "Find the root of the function $f$\n",
    "\n",
    "$f(x) = x^3 - 2$\n",
    "\n",
    "for $20$ iterations, show the result and the relative error in each iteration."
   ]
  },
  {
   "cell_type": "code",
   "execution_count": 9,
   "metadata": {
    "colab": {},
    "colab_type": "code",
    "id": "GpdA20yow7WB"
   },
   "outputs": [],
   "source": [
    "#Defining Bisection function\n",
    "def Bisection( f, a, b, Nmax, printer=False ):\n",
    "    \"\"\"\n",
    "    Find the root of function f between a and b\n",
    "    \n",
    "    f: function\n",
    "    a,b: the initial interval\n",
    "    Nmax: Nmax de interations\n",
    "    printer: bool, to print internal steps\n",
    "    \"\"\"\n",
    "    #verifying the STEP1, a and b with different signs\n",
    "    import sys\n",
    "    if f(a)*f(b)>0:\n",
    "        sys.exit(\"Error, f(a) and f(b) should have opposite signs\")\n",
    "        return False\n",
    "    #Assigning the current extreme values, STEP2\n",
    "    ai = a\n",
    "    bi = b\n",
    "    #Iterations\n",
    "    n = 1\n",
    "    while n<=Nmax:\n",
    "        #Bisection, STEP3\n",
    "        pi = (ai+bi)/2.0\n",
    "        #Evaluating function in pi, STEP4 and STEP5\n",
    "        if printer:\n",
    "            print( \"Value for {} iterations: {}\".format(n,pi) )\n",
    "        #Condition A\n",
    "        if f(pi)*f(ai)>0:\n",
    "            ai = pi\n",
    "        #Condition B\n",
    "        elif f(pi)*f(ai)<0:\n",
    "            bi = pi\n",
    "        #Condition C: repeat the cycle\n",
    "        n+=1\n",
    "    #Final result\n",
    "    return pi"
   ]
  },
  {
   "cell_type": "markdown",
   "metadata": {
    "colab_type": "text",
    "id": "Z1XWelBgw7WJ"
   },
   "source": [
    "Defining function"
   ]
  },
  {
   "cell_type": "code",
   "execution_count": 10,
   "metadata": {
    "colab": {},
    "colab_type": "code",
    "id": "0Vd7ahTbw7WK"
   },
   "outputs": [],
   "source": [
    "def function(x):\n",
    "    return x**3.0 - 2.0"
   ]
  },
  {
   "cell_type": "markdown",
   "metadata": {
    "colab_type": "text",
    "id": "Cy9OT7XDw7WN"
   },
   "source": [
    "Finding the root of the function. The real root is $\\sqrt[3]{2}$, so `a` and `b` should enclose this value"
   ]
  },
  {
   "cell_type": "code",
   "execution_count": 11,
   "metadata": {
    "colab": {},
    "colab_type": "code",
    "id": "pvl1fZSKw7WO",
    "outputId": "e8accba7-9299-4533-c81c-5be42aeb1869"
   },
   "outputs": [
    {
     "name": "stdout",
     "output_type": "stream",
     "text": [
      "Value for 1 iterations: 1.0\n",
      "Value for 2 iterations: 1.5\n",
      "Value for 3 iterations: 1.25\n",
      "Value for 4 iterations: 1.375\n",
      "Value for 5 iterations: 1.3125\n",
      "Value for 6 iterations: 1.28125\n",
      "Value for 7 iterations: 1.265625\n",
      "Value for 8 iterations: 1.2578125\n",
      "Value for 9 iterations: 1.26171875\n",
      "Value for 10 iterations: 1.259765625\n",
      "Value for 11 iterations: 1.2607421875\n",
      "Value for 12 iterations: 1.26025390625\n",
      "Value for 13 iterations: 1.260009765625\n",
      "Value for 14 iterations: 1.2598876953125\n",
      "Value for 15 iterations: 1.25994873046875\n",
      "Value for 16 iterations: 1.259918212890625\n",
      "Value for 17 iterations: 1.2599334716796875\n",
      "Value for 18 iterations: 1.2599258422851562\n",
      "Value for 19 iterations: 1.2599220275878906\n",
      "Value for 20 iterations: 1.2599201202392578\n",
      "Real value: 1.2599210498948732\n",
      "Absolute error 9.296556153781665e-07\n"
     ]
    }
   ],
   "source": [
    "#Defining a and b\n",
    "a = 0.0\n",
    "b = 2.0\n",
    "Nmax = 20\n",
    "result = Bisection(function, a, b, Nmax, printer=True)\n",
    "print ( \"Real value:\", 2**(1/3.0))\n",
    "print ( \"Absolute error\", abs((2**(1/3.0)-result)) )"
   ]
  },
  {
   "cell_type": "markdown",
   "metadata": {
    "colab_type": "text",
    "id": "CmP1u-lPw7WQ"
   },
   "source": [
    "Using the error analysis, we can predict the produced error at $20$ iterations by computing:\n",
    "\n",
    "$$ \\left( \\frac{1}{2^{20}}\\right) \\approx 9.53674316\\times 10^{-7} $$\n",
    "\n",
    "This value is very close to the obtained relative error.\n",
    "\n",
    "If we were interested in a double precision, i.e. $\\epsilon \\sim 10^{-17}$, the number of required iterations would be:\n",
    "\n",
    "$$ 10^{-17} = \\left( \\frac{1}{2^{N}}\\right) \\longrightarrow N = \\frac{17}{\\log_{10}(2)} \\approx 56 $$"
   ]
  },
  {
   "cell_type": "markdown",
   "metadata": {
    "colab_type": "text",
    "id": "p2lZUHGSw7WR"
   },
   "source": [
    "Now the same but using scipy implementation"
   ]
  },
  {
   "cell_type": "code",
   "execution_count": 12,
   "metadata": {
    "colab": {},
    "colab_type": "code",
    "id": "LKwXO9vfw7WS"
   },
   "outputs": [],
   "source": [
    "from scipy import optimize "
   ]
  },
  {
   "cell_type": "markdown",
   "metadata": {
    "colab_type": "text",
    "id": "x92AU0K6w7WV"
   },
   "source": [
    "See help with `optimize?:`"
   ]
  },
  {
   "cell_type": "markdown",
   "metadata": {
    "colab_type": "text",
    "id": "VqmyDCFIw7Wa"
   },
   "source": [
    "Check the help:"
   ]
  },
  {
   "cell_type": "code",
   "execution_count": 13,
   "metadata": {
    "colab": {
     "base_uri": "https://localhost:8080/",
     "height": 1000
    },
    "colab_type": "code",
    "id": "s7ZzL1BEw7Wa",
    "outputId": "7b4af95b-ae70-4a02-e3ea-eb5ad062a87f"
   },
   "outputs": [
    {
     "name": "stdout",
     "output_type": "stream",
     "text": [
      "Help on function bisect in module scipy.optimize.zeros:\n",
      "\n",
      "bisect(f, a, b, args=(), xtol=2e-12, rtol=8.881784197001252e-16, maxiter=100, full_output=False, disp=True)\n",
      "    Find root of a function within an interval using bisection.\n",
      "    \n",
      "    Basic bisection routine to find a zero of the function `f` between the\n",
      "    arguments `a` and `b`. `f(a)` and `f(b)` cannot have the same signs.\n",
      "    Slow but sure.\n",
      "    \n",
      "    Parameters\n",
      "    ----------\n",
      "    f : function\n",
      "        Python function returning a number.  `f` must be continuous, and\n",
      "        f(a) and f(b) must have opposite signs.\n",
      "    a : scalar\n",
      "        One end of the bracketing interval [a,b].\n",
      "    b : scalar\n",
      "        The other end of the bracketing interval [a,b].\n",
      "    xtol : number, optional\n",
      "        The computed root ``x0`` will satisfy ``np.allclose(x, x0,\n",
      "        atol=xtol, rtol=rtol)``, where ``x`` is the exact root. The\n",
      "        parameter must be nonnegative.\n",
      "    rtol : number, optional\n",
      "        The computed root ``x0`` will satisfy ``np.allclose(x, x0,\n",
      "        atol=xtol, rtol=rtol)``, where ``x`` is the exact root. The\n",
      "        parameter cannot be smaller than its default value of\n",
      "        ``4*np.finfo(float).eps``.\n",
      "    maxiter : int, optional\n",
      "        If convergence is not achieved in `maxiter` iterations, an error is\n",
      "        raised. Must be >= 0.\n",
      "    args : tuple, optional\n",
      "        Containing extra arguments for the function `f`.\n",
      "        `f` is called by ``apply(f, (x)+args)``.\n",
      "    full_output : bool, optional\n",
      "        If `full_output` is False, the root is returned. If `full_output` is\n",
      "        True, the return value is ``(x, r)``, where x is the root, and r is\n",
      "        a `RootResults` object.\n",
      "    disp : bool, optional\n",
      "        If True, raise RuntimeError if the algorithm didn't converge.\n",
      "        Otherwise, the convergence status is recorded in a `RootResults`\n",
      "        return object.\n",
      "    \n",
      "    Returns\n",
      "    -------\n",
      "    x0 : float\n",
      "        Zero of `f` between `a` and `b`.\n",
      "    r : `RootResults` (present if ``full_output = True``)\n",
      "        Object containing information about the convergence. In particular,\n",
      "        ``r.converged`` is True if the routine converged.\n",
      "    \n",
      "    Examples\n",
      "    --------\n",
      "    \n",
      "    >>> def f(x):\n",
      "    ...     return (x**2 - 1)\n",
      "    \n",
      "    >>> from scipy import optimize\n",
      "    \n",
      "    >>> root = optimize.bisect(f, 0, 2)\n",
      "    >>> root\n",
      "    1.0\n",
      "    \n",
      "    >>> root = optimize.bisect(f, -2, 0)\n",
      "    >>> root\n",
      "    -1.0\n",
      "    \n",
      "    See Also\n",
      "    --------\n",
      "    brentq, brenth, bisect, newton\n",
      "    fixed_point : scalar fixed-point finder\n",
      "    fsolve : n-dimensional root-finding\n",
      "\n"
     ]
    }
   ],
   "source": [
    "help(optimize.bisect)"
   ]
  },
  {
   "cell_type": "markdown",
   "metadata": {
    "colab_type": "text",
    "id": "yC9nyRCwGJaw"
   },
   "source": [
    "## General arguments and options of a SciPy function"
   ]
  },
  {
   "cell_type": "markdown",
   "metadata": {
    "colab_type": "text",
    "id": "B-D9tsnEGTHD"
   },
   "source": [
    "Let define a general multiparameter \n",
    "* `f`\n",
    "with a mandatory parameter and two optional parameters, corresponding to a straight line with the slope and the intercept as parameters\n",
    "$$\n",
    "f(x)=mx+b\\,,\n",
    "$$"
   ]
  },
  {
   "cell_type": "code",
   "execution_count": 14,
   "metadata": {
    "colab": {},
    "colab_type": "code",
    "id": "3Jxl8Cyx4J32"
   },
   "outputs": [],
   "source": [
    "def f(x,m=3,b=-2):\n",
    "    return m*x+b"
   ]
  },
  {
   "cell_type": "code",
   "execution_count": 15,
   "metadata": {
    "colab": {
     "base_uri": "https://localhost:8080/",
     "height": 35
    },
    "colab_type": "code",
    "id": "WrYXrulI44Ij",
    "outputId": "b5bb125b-60da-4edc-fc0b-0249f80b66ca"
   },
   "outputs": [
    {
     "data": {
      "text/plain": [
       "0.0"
      ]
     },
     "execution_count": 15,
     "metadata": {},
     "output_type": "execute_result"
    }
   ],
   "source": [
    "f(0.66666666666666666,-3,2)"
   ]
  },
  {
   "cell_type": "markdown",
   "metadata": {},
   "source": [
    "We have at least three ways to use a multiparameter function, the first two with the implicit `lambda` function"
   ]
  },
  {
   "cell_type": "code",
   "execution_count": 16,
   "metadata": {
    "colab": {
     "base_uri": "https://localhost:8080/",
     "height": 35
    },
    "colab_type": "code",
    "id": "R6ihC-WN4ZUR",
    "outputId": "9d5a4737-95fe-4940-e9bc-f4dee796793c"
   },
   "outputs": [
    {
     "data": {
      "text/plain": [
       "0.6666666666671972"
      ]
     },
     "execution_count": 16,
     "metadata": {},
     "output_type": "execute_result"
    }
   ],
   "source": [
    "optimize.bisect(lambda x: -3*x+2,-10,10)"
   ]
  },
  {
   "cell_type": "code",
   "execution_count": 17,
   "metadata": {
    "colab": {
     "base_uri": "https://localhost:8080/",
     "height": 35
    },
    "colab_type": "code",
    "id": "iZHq9BrU4xFh",
    "outputId": "1a105e92-22a5-47e6-873b-6f17d8f6a412"
   },
   "outputs": [
    {
     "data": {
      "text/plain": [
       "0.6666666666671972"
      ]
     },
     "execution_count": 17,
     "metadata": {},
     "output_type": "execute_result"
    }
   ],
   "source": [
    "optimize.bisect(lambda x: f(x,-3,2),-10,10,)"
   ]
  },
  {
   "cell_type": "markdown",
   "metadata": {},
   "source": [
    "and the recommended way to used the designed implementation in Scipy through the `args` parameter which is common to many methods "
   ]
  },
  {
   "cell_type": "code",
   "execution_count": 18,
   "metadata": {
    "colab": {
     "base_uri": "https://localhost:8080/",
     "height": 35
    },
    "colab_type": "code",
    "id": "ojivSEZh5YLx",
    "outputId": "ed0c6690-c165-43d1-8e8e-4251fe0ea33b"
   },
   "outputs": [
    {
     "data": {
      "text/plain": [
       "0.6666666666671972"
      ]
     },
     "execution_count": 18,
     "metadata": {},
     "output_type": "execute_result"
    }
   ],
   "source": [
    "optimize.bisect(f,-10,10,args=(-3,2))"
   ]
  },
  {
   "cell_type": "markdown",
   "metadata": {
    "colab_type": "text",
    "id": "7wLEoVWK8FqU"
   },
   "source": [
    "* `xtol`"
   ]
  },
  {
   "cell_type": "code",
   "execution_count": 19,
   "metadata": {
    "colab": {
     "base_uri": "https://localhost:8080/",
     "height": 35
    },
    "colab_type": "code",
    "id": "1UyHY0m76fIk",
    "outputId": "2b172be2-43dd-4940-ba04-75659bda3d83"
   },
   "outputs": [
    {
     "data": {
      "text/plain": [
       "0.6666666666666671"
      ]
     },
     "execution_count": 19,
     "metadata": {},
     "output_type": "execute_result"
    }
   ],
   "source": [
    "optimize.bisect(f,-10,10,args=(-3,2),xtol=1E-17)"
   ]
  },
  {
   "cell_type": "markdown",
   "metadata": {
    "colab_type": "text",
    "id": "yjQIGQ5fGpIU"
   },
   "source": [
    "* `maxiter`"
   ]
  },
  {
   "cell_type": "code",
   "execution_count": 20,
   "metadata": {
    "colab": {
     "base_uri": "https://localhost:8080/",
     "height": 35
    },
    "colab_type": "code",
    "id": "xyyTsH7L7R-E",
    "outputId": "bc87c14b-b6a1-4c22-b68f-bef351841a12"
   },
   "outputs": [
    {
     "data": {
      "text/plain": [
       "0.6666666666666671"
      ]
     },
     "execution_count": 20,
     "metadata": {},
     "output_type": "execute_result"
    }
   ],
   "source": [
    "optimize.bisect(f,-10,10,args=(-3,2),xtol=1E-17,maxiter=10000)"
   ]
  },
  {
   "cell_type": "code",
   "execution_count": 21,
   "metadata": {},
   "outputs": [
    {
     "data": {
      "text/plain": [
       "0.6666666666666671"
      ]
     },
     "execution_count": 21,
     "metadata": {},
     "output_type": "execute_result"
    }
   ],
   "source": [
    "optimize.bisect(f,-10,10,args=(-3,2),xtol=1E-17,rtol=1E-15,maxiter=10000)"
   ]
  },
  {
   "cell_type": "markdown",
   "metadata": {
    "colab_type": "text",
    "id": "FiXdFcKEGuIU"
   },
   "source": [
    "* `full_output`"
   ]
  },
  {
   "cell_type": "code",
   "execution_count": 22,
   "metadata": {
    "colab": {},
    "colab_type": "code",
    "id": "tQnA1hbu7vYE"
   },
   "outputs": [],
   "source": [
    "x0,r=optimize.bisect(f,-10,10,args=(-3,2),xtol=1E-17,full_output=True)"
   ]
  },
  {
   "cell_type": "code",
   "execution_count": 23,
   "metadata": {
    "colab": {
     "base_uri": "https://localhost:8080/",
     "height": 35
    },
    "colab_type": "code",
    "id": "YIE2XkN68Bfg",
    "outputId": "4f964c0f-7ebb-488a-fe1a-084f6629647f"
   },
   "outputs": [
    {
     "data": {
      "text/plain": [
       "scipy.optimize.zeros.RootResults"
      ]
     },
     "execution_count": 23,
     "metadata": {},
     "output_type": "execute_result"
    }
   ],
   "source": [
    "type(r)"
   ]
  },
  {
   "cell_type": "markdown",
   "metadata": {
    "colab_type": "text",
    "id": "QmSG5wGKw7We"
   },
   "source": [
    "Check the code"
   ]
  },
  {
   "cell_type": "code",
   "execution_count": 24,
   "metadata": {
    "colab": {
     "base_uri": "https://localhost:8080/",
     "height": 35
    },
    "colab_type": "code",
    "id": "jBi0uZeE8NGk",
    "outputId": "aacf42d1-5bb2-4028-bbdc-e4ae465ff554"
   },
   "outputs": [
    {
     "data": {
      "text/plain": [
       "57"
      ]
     },
     "execution_count": 24,
     "metadata": {},
     "output_type": "execute_result"
    }
   ],
   "source": [
    "r.function_calls"
   ]
  },
  {
   "cell_type": "markdown",
   "metadata": {},
   "source": [
    "The help of the function is write directly in the code of the Scipy method `bisect`"
   ]
  },
  {
   "cell_type": "code",
   "execution_count": 25,
   "metadata": {
    "colab": {},
    "colab_type": "code",
    "id": "csnji5Tsw7Wf"
   },
   "outputs": [],
   "source": [
    "optimize.bisect??"
   ]
  },
  {
   "cell_type": "markdown",
   "metadata": {
    "colab_type": "text",
    "id": "6_7lOL6Ww7Wj"
   },
   "source": [
    "Check the internal referenced code"
   ]
  },
  {
   "cell_type": "code",
   "execution_count": 26,
   "metadata": {
    "colab": {},
    "colab_type": "code",
    "id": "Qh9fqUvgw7Wk"
   },
   "outputs": [],
   "source": [
    "optimize._zeros??"
   ]
  },
  {
   "cell_type": "markdown",
   "metadata": {
    "colab_type": "text",
    "id": "IJIfqraOG_fz"
   },
   "source": [
    "### Example\n",
    "Find the roots of\n",
    "$$x^3=2$$"
   ]
  },
  {
   "cell_type": "code",
   "execution_count": 27,
   "metadata": {
    "colab": {},
    "colab_type": "code",
    "id": "O1E6o0IRw7Wo"
   },
   "outputs": [],
   "source": [
    "def function(x):\n",
    "    return x**3.0 - 2.0"
   ]
  },
  {
   "cell_type": "code",
   "execution_count": 28,
   "metadata": {},
   "outputs": [],
   "source": [
    "todo=optimize.bisect(function,a,b,full_output=True)"
   ]
  },
  {
   "cell_type": "code",
   "execution_count": 29,
   "metadata": {},
   "outputs": [
    {
     "data": {
      "text/plain": [
       "tuple"
      ]
     },
     "execution_count": 29,
     "metadata": {},
     "output_type": "execute_result"
    }
   ],
   "source": [
    "type(todo)"
   ]
  },
  {
   "cell_type": "code",
   "execution_count": 30,
   "metadata": {},
   "outputs": [
    {
     "data": {
      "text/plain": [
       "2"
      ]
     },
     "execution_count": 30,
     "metadata": {},
     "output_type": "execute_result"
    }
   ],
   "source": [
    "len(todo)"
   ]
  },
  {
   "cell_type": "code",
   "execution_count": 31,
   "metadata": {},
   "outputs": [
    {
     "data": {
      "text/plain": [
       "1.2599210498938191"
      ]
     },
     "execution_count": 31,
     "metadata": {},
     "output_type": "execute_result"
    }
   ],
   "source": [
    "result=todo[0]\n",
    "result"
   ]
  },
  {
   "cell_type": "code",
   "execution_count": 32,
   "metadata": {},
   "outputs": [
    {
     "data": {
      "text/plain": [
       "      converged: True\n",
       "           flag: 'converged'\n",
       " function_calls: 42\n",
       "     iterations: 40\n",
       "           root: 1.2599210498938191"
      ]
     },
     "execution_count": 32,
     "metadata": {},
     "output_type": "execute_result"
    }
   ],
   "source": [
    "r=todo[1]\n",
    "r"
   ]
  },
  {
   "cell_type": "code",
   "execution_count": 33,
   "metadata": {},
   "outputs": [
    {
     "data": {
      "text/plain": [
       "scipy.optimize.zeros.RootResults"
      ]
     },
     "execution_count": 33,
     "metadata": {},
     "output_type": "execute_result"
    }
   ],
   "source": [
    "type(r)"
   ]
  },
  {
   "cell_type": "code",
   "execution_count": 34,
   "metadata": {},
   "outputs": [
    {
     "data": {
      "text/plain": [
       "40"
      ]
     },
     "execution_count": 34,
     "metadata": {},
     "output_type": "execute_result"
    }
   ],
   "source": [
    "r.iterations"
   ]
  },
  {
   "cell_type": "code",
   "execution_count": 35,
   "metadata": {},
   "outputs": [],
   "source": [
    "todo=optimize.bisect(function,a,b,full_output=False)"
   ]
  },
  {
   "cell_type": "code",
   "execution_count": 36,
   "metadata": {},
   "outputs": [
    {
     "data": {
      "text/plain": [
       "float"
      ]
     },
     "execution_count": 36,
     "metadata": {},
     "output_type": "execute_result"
    }
   ],
   "source": [
    "type(todo)"
   ]
  },
  {
   "cell_type": "code",
   "execution_count": 37,
   "metadata": {
    "colab": {},
    "colab_type": "code",
    "id": "kABWCrNcw7Wq"
   },
   "outputs": [],
   "source": [
    "a = 0.0\n",
    "b = 2.0\n",
    "\n",
    "result,r=optimize.bisect(function,a,b,full_output=True)"
   ]
  },
  {
   "cell_type": "code",
   "execution_count": 38,
   "metadata": {
    "colab": {
     "base_uri": "https://localhost:8080/",
     "height": 35
    },
    "colab_type": "code",
    "id": "nlxlkNYyw7Wt",
    "outputId": "1ca5ef81-e255-4df2-fe73-ebff00268deb"
   },
   "outputs": [
    {
     "data": {
      "text/plain": [
       "1.2599210498938191"
      ]
     },
     "execution_count": 38,
     "metadata": {},
     "output_type": "execute_result"
    }
   ],
   "source": [
    "result"
   ]
  },
  {
   "cell_type": "code",
   "execution_count": 39,
   "metadata": {
    "colab": {
     "base_uri": "https://localhost:8080/",
     "height": 35
    },
    "colab_type": "code",
    "id": "L3HyS2OGw7Wv",
    "outputId": "d0094839-53ce-43cc-ab3b-c276f0275ff3"
   },
   "outputs": [
    {
     "data": {
      "text/plain": [
       "1.2599210498948732"
      ]
     },
     "execution_count": 39,
     "metadata": {},
     "output_type": "execute_result"
    }
   ],
   "source": [
    "2**(1/3.0)"
   ]
  },
  {
   "cell_type": "markdown",
   "metadata": {
    "colab_type": "text",
    "id": "TKlBRLXUw7Wy"
   },
   "source": [
    "Check `r` object by using the `<TAB>` key next"
   ]
  },
  {
   "cell_type": "code",
   "execution_count": 40,
   "metadata": {
    "colab": {
     "base_uri": "https://localhost:8080/",
     "height": 35
    },
    "colab_type": "code",
    "id": "TkfTsXumw7Wz",
    "outputId": "d618fc43-05eb-4e22-de7e-4db81ad77435"
   },
   "outputs": [
    {
     "data": {
      "text/plain": [
       "40"
      ]
     },
     "execution_count": 40,
     "metadata": {},
     "output_type": "execute_result"
    }
   ],
   "source": [
    "r.iterations"
   ]
  },
  {
   "cell_type": "code",
   "execution_count": 41,
   "metadata": {},
   "outputs": [
    {
     "data": {
      "text/plain": [
       "42"
      ]
     },
     "execution_count": 41,
     "metadata": {},
     "output_type": "execute_result"
    }
   ],
   "source": [
    "r.function_calls"
   ]
  },
  {
   "cell_type": "code",
   "execution_count": 42,
   "metadata": {
    "colab": {
     "base_uri": "https://localhost:8080/",
     "height": 35
    },
    "colab_type": "code",
    "id": "HpBNHlWDw7W3",
    "outputId": "25eb56bd-9ec6-4c4f-9a08-b3035ac7260c"
   },
   "outputs": [
    {
     "data": {
      "text/plain": [
       "9.094947017729282e-13"
      ]
     },
     "execution_count": 42,
     "metadata": {},
     "output_type": "execute_result"
    }
   ],
   "source": [
    "2**(-r.iterations)"
   ]
  },
  {
   "cell_type": "code",
   "execution_count": 43,
   "metadata": {
    "colab": {
     "base_uri": "https://localhost:8080/",
     "height": 35
    },
    "colab_type": "code",
    "id": "tvkJ0Jy5w7W6",
    "outputId": "c9d1ebf4-0f00-4992-c901-562c1ae6dfde"
   },
   "outputs": [
    {
     "data": {
      "text/plain": [
       "1.0540457395791236e-12"
      ]
     },
     "execution_count": 43,
     "metadata": {},
     "output_type": "execute_result"
    }
   ],
   "source": [
    "abs((2**(1/3.0)-result))"
   ]
  },
  {
   "cell_type": "code",
   "execution_count": 44,
   "metadata": {
    "colab": {
     "base_uri": "https://localhost:8080/",
     "height": 35
    },
    "colab_type": "code",
    "id": "4m6VCcpiw7W8",
    "outputId": "8229c9e2-8cb1-4a0c-a2e1-51f77ae36dc4"
   },
   "outputs": [
    {
     "data": {
      "text/plain": [
       "True"
      ]
     },
     "execution_count": 44,
     "metadata": {},
     "output_type": "execute_result"
    }
   ],
   "source": [
    "r.converged"
   ]
  },
  {
   "cell_type": "code",
   "execution_count": 45,
   "metadata": {
    "colab": {},
    "colab_type": "code",
    "id": "7bp9qun4w7W_"
   },
   "outputs": [],
   "source": [
    "result,r=optimize.bisect(function,a,b,xtol=1E-17,full_output=True)"
   ]
  },
  {
   "cell_type": "code",
   "execution_count": 46,
   "metadata": {
    "colab": {
     "base_uri": "https://localhost:8080/",
     "height": 35
    },
    "colab_type": "code",
    "id": "kmUCIBwlw7XB",
    "outputId": "70a1d062-9ec4-4082-afbc-4056962e0d46"
   },
   "outputs": [
    {
     "data": {
      "text/plain": [
       "51"
      ]
     },
     "execution_count": 46,
     "metadata": {},
     "output_type": "execute_result"
    }
   ],
   "source": [
    "r.iterations"
   ]
  },
  {
   "cell_type": "code",
   "execution_count": 47,
   "metadata": {
    "colab": {
     "base_uri": "https://localhost:8080/",
     "height": 35
    },
    "colab_type": "code",
    "id": "zQTyAChgw7XE",
    "outputId": "c1a5a72d-53f8-4f53-ef5c-26ef8fcd2305"
   },
   "outputs": [
    {
     "data": {
      "text/plain": [
       "2.220446049250313e-16"
      ]
     },
     "execution_count": 47,
     "metadata": {},
     "output_type": "execute_result"
    }
   ],
   "source": [
    "abs((2**(1/3.0)-result))"
   ]
  },
  {
   "cell_type": "code",
   "execution_count": 48,
   "metadata": {
    "colab": {
     "base_uri": "https://localhost:8080/",
     "height": 35
    },
    "colab_type": "code",
    "id": "eXvvDw-4EZr-",
    "outputId": "bb036e6a-67cb-4b17-b1db-8f1fe1e38021"
   },
   "outputs": [
    {
     "data": {
      "text/plain": [
       "4.440892098500626e-16"
      ]
     },
     "execution_count": 48,
     "metadata": {},
     "output_type": "execute_result"
    }
   ],
   "source": [
    "2**(-r.iterations)"
   ]
  },
  {
   "cell_type": "markdown",
   "metadata": {
    "colab_type": "text",
    "id": "Mf8r3RfJw7XG"
   },
   "source": [
    "### <font color='red'> ACTIVITY </font>"
   ]
  },
  {
   "cell_type": "markdown",
   "metadata": {
    "colab_type": "text",
    "id": "gDKsdwSZw7XH"
   },
   "source": [
    "<font color='red'>\n",
    "In an IPython notebook, use the scipy implementation and find the first solution to the equation\n",
    "    \n",
    "$ 7 = \\sqrt{x^2+1}+e^x\\sin x $\n",
    "    \n",
    "CLUE: Check graphically (with matplotlib) that the solution is within the interval $[0,2]$.\n",
    "</font>"
   ]
  },
  {
   "cell_type": "markdown",
   "metadata": {
    "colab_type": "text",
    "id": "3Sr162oVw7XI"
   },
   "source": [
    "[solution](./solutions/sltn_bisect.ipynb)"
   ]
  },
  {
   "cell_type": "code",
   "execution_count": 61,
   "metadata": {
    "colab": {},
    "colab_type": "code",
    "id": "e5at_XXzHSlk"
   },
   "outputs": [],
   "source": [
    "def f(x):\n",
    "    return(np.sqrt(x**2+1)+np.exp(x)*np.sin(x)-7)"
   ]
  },
  {
   "cell_type": "code",
   "execution_count": 62,
   "metadata": {},
   "outputs": [
    {
     "name": "stdout",
     "output_type": "stream",
     "text": [
      "1.6287184949270084\n"
     ]
    }
   ],
   "source": [
    "root=optimize.newton(f,2)\n",
    "print(root)"
   ]
  },
  {
   "cell_type": "code",
   "execution_count": 68,
   "metadata": {
    "colab": {
     "base_uri": "https://localhost:8080/",
     "height": 35
    },
    "colab_type": "code",
    "id": "geD3ecfDHXFE",
    "outputId": "e823e103-fbd6-461d-c9ed-82c11a9c5d28"
   },
   "outputs": [
    {
     "data": {
      "image/png": "[encoded data removed]",
      "text/plain": [
       "<Figure size 432x288 with 1 Axes>"
      ]
     },
     "metadata": {
      "needs_background": "light"
     },
     "output_type": "display_data"
    }
   ],
   "source": [
    "x=np.arange(-1,3,0.1)\n",
    "plot(x,f(x),label=\"f (x)\")\n",
    "plot(root,0, \"ro\",label=\"raiz\")\n",
    "plt.legend()\n",
    "plt.grid()"
   ]
  },
  {
   "cell_type": "markdown",
   "metadata": {
    "colab_type": "text",
    "id": "hBSyBUNrw7XJ"
   },
   "source": [
    "## Example 2"
   ]
  },
  {
   "cell_type": "markdown",
   "metadata": {
    "colab_type": "text",
    "id": "qpIK0RxFw7XK"
   },
   "source": [
    "In orbital mechanics, when solving the central-force problem it becomes necessary to solve the Kepler's equation. This is a transcendental equation that relates the orbital parameters of the trajectory.\n",
    "\n",
    "*Kepler equation:* $M = E - \\epsilon \\sin E$\n",
    "\n",
    "where $M$ is the mean anomaly, $E$ the eccentric anomaly and $\\epsilon$ the eccentricity. The mean anomaly can be computed with the expression\n",
    "\n",
    "$$M = n\\ t = \\sqrt{ \\frac{GM}{a^3} } t$$\n",
    "\n",
    "where $n$ is the mean motion, $G$ the gravitational constant, $M$ the mass of the central body and $a$ the semi-major axis. $t$ is the time where the position in the trajectory will be computed.\n",
    "\n",
    "The coordinates $x$ and $y$ as time functions can be recovered by means of the next expressions\n",
    "\n",
    "$$x(t) = a(\\cos E - \\epsilon)$$\n",
    "\n",
    "$$y(t) = b\\sin E$$\n",
    "\n",
    "where $b = a \\sqrt{1-\\epsilon^2}$ is the semi-minor axis of the orbit and the implicit time-dependence of the eccentric anomaly $E$ is computed through the Kepler's equation."
   ]
  },
  {
   "cell_type": "markdown",
   "metadata": {
    "colab_type": "text",
    "id": "FlKupbitw7XL"
   },
   "source": [
    "**Problem:**\n",
    "\n",
    "For a stallite orbiting the earth in a equatorial trajectory with eccentricity $\\epsilon = 0.5$ at a geostationary distance for the semi-major axis, tabulate the positions $x$ and $y$ within the orbital plane in intervals of $15$ min during $5$ hours.\n",
    "\n",
    "**Parameters:**\n",
    "\n",
    "- $\\epsilon = 0.5$\n",
    "\n",
    "- $a = 35900$ km\n",
    "\n",
    "- $G = 6.67384 \\times 10^{-11}$ m$^3$ kg$^{-1}$ s$^{-2}$\n",
    "\n",
    "- $M_{\\oplus} = 5.972\\times 10^{24}$ kg"
   ]
  },
  {
   "cell_type": "code",
   "execution_count": null,
   "metadata": {
    "colab": {},
    "colab_type": "code",
    "id": "URwGARM5w7XL"
   },
   "outputs": [],
   "source": [
    "#====================================================================\n",
    "#Parameters\n",
    "#====================================================================\n",
    "#Eccentricity\n",
    "eps = 0.5\n",
    "#Semi-major axis    [m]\n",
    "a = 35900e3\n",
    "#Gravitational constant    [m3kg-1s-2]\n",
    "GC = 6.67384e-11\n",
    "#Earth mass    [kg]\n",
    "Me = 5.972e24\n",
    "\n",
    "#Semi-minor axis    [m]\n",
    "b = a*(1-eps**2.0)**0.5\n",
    "#Mean motion\n",
    "n = ( GC*Me/a**3.0 )**0.5\n",
    "\n",
    "#Hour to Second\n",
    "HR2SC = 3600.\n",
    "#Initial time    [hr]\n",
    "t0 = 0*HR2SC\n",
    "#Final time    [hr]\n",
    "tf = 5*HR2SC\n",
    "#Time step    [hr]\n",
    "tstep = 0.25*HR2SC\n",
    "#Number of maxim iterations\n",
    "Niter = 56\n",
    "#Root interval\n",
    "a0 = -10\n",
    "b0 = 10\n",
    "\n",
    "#====================================================================\n",
    "#Kepler Function\n",
    "#====================================================================\n",
    "def kepler( E ):\n",
    "    func = E - eps*np.sin(E) - n*t\n",
    "    return func\n",
    "\n",
    "#====================================================================\n",
    "#Position function\n",
    "#====================================================================\n",
    "def r(E):\n",
    "    x = a*(np.cos(E)-eps)\n",
    "    y = b*np.sin(E)\n",
    "    return [x/1.e3, y/1.e3]"
   ]
  },
  {
   "cell_type": "code",
   "execution_count": null,
   "metadata": {
    "colab": {},
    "colab_type": "code",
    "id": "z4PZbsmIw7XQ",
    "outputId": "bb53b14d-8d19-459f-ecf6-4e9d8988266d"
   },
   "outputs": [],
   "source": [
    "#====================================================================\n",
    "#Solving for different times\n",
    "#====================================================================\n",
    "#Time array\n",
    "times = np.arange( t0, tf, tstep )\n",
    "\n",
    "rpos = []\n",
    "for t in times:\n",
    "    #Finding the new eccentric anomaly\n",
    "    E = optimize.bisect( kepler, a0, b0 )\n",
    "    #Computing coordinates at this time\n",
    "    ri = r(E)\n",
    "    print (\"In %f hours, the satellite is located at (%f,%f) km\"%(t/HR2SC, ri[0], ri[1]) )\n",
    "    rpos.append( ri )\n",
    "rpos = np.array(rpos)    \n",
    "\n",
    "#Plotting\n",
    "plt.plot( rpos[:,0], rpos[:,1], \"o-\", color=\"red\", lw = 2 )\n",
    "plt.grid(True)\n",
    "plt.xlabel(\"$x$ coordinate [km]\")\n",
    "plt.ylabel(\"$y$ coordinate [km]\")"
   ]
  },
  {
   "cell_type": "markdown",
   "metadata": {
    "colab_type": "text",
    "id": "RJlKLGjww7XU"
   },
   "source": [
    "- - - "
   ]
  }
 ],
 "metadata": {
  "colab": {
   "include_colab_link": true,
   "name": "one-variable-equations.ipynb",
   "provenance": []
  },
  "kernelspec": {
   "display_name": "Python 3",
   "language": "python",
   "name": "python3"
  },
  "language_info": {
   "codemirror_mode": {
    "name": "ipython",
    "version": 3
   },
   "file_extension": ".py",
   "mimetype": "text/x-python",
   "name": "python",
   "nbconvert_exporter": "python",
   "pygments_lexer": "ipython3",
   "version": "3.9.4"
  },
  "toc": {
   "colors": {
    "hover_highlight": "#DAA520",
    "running_highlight": "#FF0000",
    "selected_highlight": "#FFD700"
   },
   "moveMenuLeft": true,
   "nav_menu": {
    "height": "426px",
    "width": "252px"
   },
   "navigate_menu": true,
   "number_sections": true,
   "sideBar": true,
   "threshold": 4,
   "toc_cell": false,
   "toc_section_display": "block",
   "toc_window_display": false
  }
 },
 "nbformat": 4,
 "nbformat_minor": 4
}
