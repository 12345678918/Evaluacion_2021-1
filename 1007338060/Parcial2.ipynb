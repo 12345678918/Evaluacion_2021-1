{
  "nbformat": 4,
  "nbformat_minor": 0,
  "metadata": {
    "colab": {
      "name": "Parcial2.ipynb",
      "provenance": []
    },
    "kernelspec": {
      "name": "python3",
      "display_name": "Python 3"
    },
    "language_info": {
      "name": "python"
    }
  },
  "cells": [
    {
      "cell_type": "markdown",
      "metadata": {
        "id": "7oxroMU2Z19m"
      },
      "source": [
        "# Parcial 2\n",
        "\n",
        "Brayan Alejandro Murillo González - 1007338060\n",
        "\n",
        "\n",
        "\n"
      ]
    },
    {
      "cell_type": "code",
      "metadata": {
        "id": "12M-NPNsZyDo"
      },
      "source": [
        "import numpy as np\n",
        "import sympy as sp\n",
        "import scipy as sc\n",
        "import pandas as pd\n",
        "from sympy import init_printing\n",
        "from scipy import interpolate\n",
        "import matplotlib.pylab as plt\n",
        "from sympy import Symbol\n",
        "from scipy import optimize\n",
        "from scipy import integrate\n",
        "import datetime \n",
        "from datetime import timedelta"
      ],
      "execution_count": 86,
      "outputs": []
    },
    {
      "cell_type": "code",
      "metadata": {
        "colab": {
          "base_uri": "https://localhost:8080/",
          "height": 424
        },
        "id": "yA2VaWM7aNhq",
        "outputId": "45accd1f-5236-4c8e-ed1e-4717999d5c95"
      },
      "source": [
        "data = pd.read_json('https://raw.githubusercontent.com/restrepo/ComputationalMethods/master/data/Followers.json')\n",
        "data"
      ],
      "execution_count": 87,
      "outputs": [
        {
          "output_type": "execute_result",
          "data": {
            "text/html": [
              "<div>\n",
              "<style scoped>\n",
              "    .dataframe tbody tr th:only-of-type {\n",
              "        vertical-align: middle;\n",
              "    }\n",
              "\n",
              "    .dataframe tbody tr th {\n",
              "        vertical-align: top;\n",
              "    }\n",
              "\n",
              "    .dataframe thead th {\n",
              "        text-align: right;\n",
              "    }\n",
              "</style>\n",
              "<table border=\"1\" class=\"dataframe\">\n",
              "  <thead>\n",
              "    <tr style=\"text-align: right;\">\n",
              "      <th></th>\n",
              "      <th>followers</th>\n",
              "      <th>date_time</th>\n",
              "      <th>hours</th>\n",
              "    </tr>\n",
              "  </thead>\n",
              "  <tbody>\n",
              "    <tr>\n",
              "      <th>0</th>\n",
              "      <td>42696</td>\n",
              "      <td>2021-08-04 22:06:53.668</td>\n",
              "      <td>0.000000</td>\n",
              "    </tr>\n",
              "    <tr>\n",
              "      <th>1</th>\n",
              "      <td>42706</td>\n",
              "      <td>2021-08-04 23:06:56.517</td>\n",
              "      <td>1.000791</td>\n",
              "    </tr>\n",
              "    <tr>\n",
              "      <th>2</th>\n",
              "      <td>42716</td>\n",
              "      <td>2021-08-05 00:06:59.505</td>\n",
              "      <td>2.001621</td>\n",
              "    </tr>\n",
              "    <tr>\n",
              "      <th>3</th>\n",
              "      <td>42734</td>\n",
              "      <td>2021-08-05 01:07:02.174</td>\n",
              "      <td>3.002363</td>\n",
              "    </tr>\n",
              "    <tr>\n",
              "      <th>4</th>\n",
              "      <td>42749</td>\n",
              "      <td>2021-08-05 02:07:04.854</td>\n",
              "      <td>4.003107</td>\n",
              "    </tr>\n",
              "    <tr>\n",
              "      <th>...</th>\n",
              "      <td>...</td>\n",
              "      <td>...</td>\n",
              "      <td>...</td>\n",
              "    </tr>\n",
              "    <tr>\n",
              "      <th>615</th>\n",
              "      <td>47452</td>\n",
              "      <td>2021-09-02 12:29:21.834</td>\n",
              "      <td>686.374491</td>\n",
              "    </tr>\n",
              "    <tr>\n",
              "      <th>616</th>\n",
              "      <td>47486</td>\n",
              "      <td>2021-09-02 19:59:32.801</td>\n",
              "      <td>693.877537</td>\n",
              "    </tr>\n",
              "    <tr>\n",
              "      <th>617</th>\n",
              "      <td>47491</td>\n",
              "      <td>2021-09-02 20:59:50.542</td>\n",
              "      <td>694.882465</td>\n",
              "    </tr>\n",
              "    <tr>\n",
              "      <th>618</th>\n",
              "      <td>47493</td>\n",
              "      <td>2021-09-02 21:59:59.345</td>\n",
              "      <td>695.884910</td>\n",
              "    </tr>\n",
              "    <tr>\n",
              "      <th>619</th>\n",
              "      <td>47498</td>\n",
              "      <td>2021-09-02 23:00:11.350</td>\n",
              "      <td>696.888245</td>\n",
              "    </tr>\n",
              "  </tbody>\n",
              "</table>\n",
              "<p>620 rows × 3 columns</p>\n",
              "</div>"
            ],
            "text/plain": [
              "     followers               date_time       hours\n",
              "0        42696 2021-08-04 22:06:53.668    0.000000\n",
              "1        42706 2021-08-04 23:06:56.517    1.000791\n",
              "2        42716 2021-08-05 00:06:59.505    2.001621\n",
              "3        42734 2021-08-05 01:07:02.174    3.002363\n",
              "4        42749 2021-08-05 02:07:04.854    4.003107\n",
              "..         ...                     ...         ...\n",
              "615      47452 2021-09-02 12:29:21.834  686.374491\n",
              "616      47486 2021-09-02 19:59:32.801  693.877537\n",
              "617      47491 2021-09-02 20:59:50.542  694.882465\n",
              "618      47493 2021-09-02 21:59:59.345  695.884910\n",
              "619      47498 2021-09-02 23:00:11.350  696.888245\n",
              "\n",
              "[620 rows x 3 columns]"
            ]
          },
          "metadata": {},
          "execution_count": 87
        }
      ]
    },
    {
      "cell_type": "markdown",
      "metadata": {
        "id": "u45X9brwPk_P"
      },
      "source": [
        "# Velocidad inicial y aceleración"
      ]
    },
    {
      "cell_type": "code",
      "metadata": {
        "colab": {
          "base_uri": "https://localhost:8080/",
          "height": 316
        },
        "id": "yiAxBy_CmH3m",
        "outputId": "4175cd45-6008-4446-a5da-c7b2c796bf47"
      },
      "source": [
        "pf = np.polyfit(data[\"hours\"],data[\"followers\"],deg=2)  # Hacemos un Fit con los datos de horas y seguidores del dataframe\n",
        "\n",
        "p = np.poly1d(pf,variable=\"t\")   # Polinomio de interpolación con los coeficientes del fit\n",
        "\n",
        "t=np.linspace(0,6000, 1000) # intervalo de horas para evaluar el polinomio de interpolación\n",
        "\n",
        "\"\"\" Grafica del polinomio de interpolación\"\"\"\n",
        "plt.plot(t,p(t))\n",
        "plt.grid()\n",
        "plt.xlabel(\"Horas\")\n",
        "plt.ylabel(\"Seguidores\")\n",
        "print(\"el polinomio de interpolacion es: %s\"%(p))\n"
      ],
      "execution_count": 89,
      "outputs": [
        {
          "output_type": "stream",
          "name": "stdout",
          "text": [
            "el polinomio de interpolacion es:            2\n",
            "-0.002438 t + 8.552 t + 4.276e+04\n"
          ]
        },
        {
          "output_type": "display_data",
          "data": {
            "image/png": "[encoded data removed]",
            "text/plain": [
              "<Figure size 432x288 with 1 Axes>"
            ]
          },
          "metadata": {
            "needs_background": "light"
          }
        }
      ]
    },
    {
      "cell_type": "markdown",
      "metadata": {
        "id": "50oD44taqX7r"
      },
      "source": [
        "El polinomio de interpolacion es:\n",
        "\n",
        "$$-0.002\\ t^2+8.552\\ t+42760$$"
      ]
    },
    {
      "cell_type": "markdown",
      "metadata": {
        "id": "GzT_Wv9TM-KJ"
      },
      "source": [
        "Se sabe que la formula de caida libre es:\n",
        "$$ y=y_0+v_0t+\\frac{a}{2}t^2$$\n",
        "\n",
        "por tanto en nuestro problema tenemos que:\n",
        "$$\\frac{a}{2}=-0.002 $$\n",
        "$$v_0= 8.552$$\n",
        "$$ y_0=42760 $$\n",
        "\n",
        "Estos corresponden a las entradas de indice $[0],[1],[2]$ respectivamente para $\\frac{a}{2},v_0,y_0$ dentro del polyfit"
      ]
    },
    {
      "cell_type": "markdown",
      "metadata": {
        "id": "fE9WnQRIOgYN"
      },
      "source": [
        "# Maximo de seguidores"
      ]
    },
    {
      "cell_type": "code",
      "metadata": {
        "colab": {
          "base_uri": "https://localhost:8080/",
          "height": 297
        },
        "id": "lM5YLmONsoyF",
        "outputId": "7f4538ac-62f5-4d1e-f7bc-4d57cc489d18"
      },
      "source": [
        "\n",
        "t = Symbol(\"t\")\n",
        "\n",
        "fm = sp.lambdify(t, -p(t), 'numpy') # Para convertir el polinomio de interpolacion en una función lambda\n",
        "\n",
        "t=np.linspace(0,6000, 1000) \n",
        "\n",
        "\"\"\" Grafica del polinomio con signo negativo para identificar el intervalor donde se encuentra el \"minimo\" \"\"\"\n",
        "plt.plot(t,fm(t),label=\"-p(horas)\")\n",
        "plt.legend()\n",
        "plt.xlabel(\"Horas\")\n",
        "plt.ylabel(\"-(#Seguidores)\")\n",
        "plt.grid()\n",
        "\n",
        "\n",
        "min = optimize.fminbound(fm,1000,2000)  # Hora en la que se alcanza el máximo\n",
        "\n",
        "print(\"El máximo de seguidores es de: %.0f\" %( p(min))) # Maximo de seguidores"
      ],
      "execution_count": 90,
      "outputs": [
        {
          "output_type": "stream",
          "name": "stdout",
          "text": [
            "El máximo de seguidores es de: 50262\n"
          ]
        },
        {
          "output_type": "display_data",
          "data": {
            "image/png": "[encoded data removed]",
            "text/plain": [
              "<Figure size 432x288 with 1 Axes>"
            ]
          },
          "metadata": {
            "needs_background": "light"
          }
        }
      ]
    },
    {
      "cell_type": "markdown",
      "metadata": {
        "id": "T3TFAd0aOjhx"
      },
      "source": [
        "# Fecha donde se alcanza el maximo de seguidores"
      ]
    },
    {
      "cell_type": "code",
      "metadata": {
        "colab": {
          "base_uri": "https://localhost:8080/"
        },
        "id": "WduKNkwmCH3I",
        "outputId": "993f9fef-d7b0-4975-8b7a-8c6ead94d134"
      },
      "source": [
        "fecha_inicial=data[\"date_time\"][0]  # Fecha inicial hours=0\n",
        "\n",
        "print(\"La fecha inicial es : %s\" %(fecha_inicial))\n",
        "\n",
        "fecha_del_maximo=fecha_inicial+datetime.timedelta(hours=min) # Se suman las horas que transcurrieron hasta el máximo de seguidores a la fecha inicial\n",
        "\n",
        "print(\"La fecha donde se alcanza el maximo de seguidores después de pasadas %f [horas] es: %s\" %(min,fecha_del_maximo))"
      ],
      "execution_count": 91,
      "outputs": [
        {
          "output_type": "stream",
          "name": "stdout",
          "text": [
            "La fecha inicial es : 2021-08-04 22:06:53.668000\n",
            "La fecha donde se alcanza el maximo de seguidores después de pasadas 1754.193168 [horas] es: 2021-10-17 00:18:29.072520\n"
          ]
        }
      ]
    },
    {
      "cell_type": "markdown",
      "metadata": {
        "id": "l40jsMgF-JBg"
      },
      "source": [
        "# Punto 2\n",
        "\n",
        "Se tiene la integral:\n",
        "$$\n",
        "T=\\frac{2 T_{0}}{\\pi} \\int_{0}^{\\frac{\\pi}{2}} \\frac{d \\phi}{\\left(1-\\sin ^{2} \\frac{\\alpha}{2} \\sin ^{2} \\phi\\right)^{\\frac{1}{2}}}\n",
        "$$\n",
        "\n",
        "Reescribiendo obtenemos: \n",
        "$$\n",
        "\\frac{T}{T_{0}}=\\frac{2}{\\pi} \\int_{0}^{\\frac{\\pi}{2}} \\frac{d \\phi}{\\left(1-\\sin ^{2} \\frac{\\alpha}{2} \\sin ^{2} \\phi\\right)^{\\frac{1}{2}}}\n",
        "$$"
      ]
    },
    {
      "cell_type": "code",
      "metadata": {
        "id": "L6MJHZ6FwFRL"
      },
      "source": [
        "\n",
        "def fn(alpha):\n",
        "  \"\"\"\n",
        "  Esta función recibe un alpha,\n",
        "  lo remplaza en la función lambda y devuelve dicha función con un\n",
        "  alpha específico\n",
        "  \"\"\"\n",
        "\n",
        "  return lambda phi:(2/np.pi)*(1/((1-(np.sin(alpha/2)**2)*(np.sin(phi)**2))**0.5))\n",
        "\n"
      ],
      "execution_count": 92,
      "outputs": []
    },
    {
      "cell_type": "code",
      "metadata": {
        "id": "XsORhkbk-RZm"
      },
      "source": [
        "alpha = np.linspace(0,90,90).astype(int) # Valores de alpha enteros\n",
        "\n",
        "a = 0       # Limites de la integral\n",
        "b = np.pi/2\n",
        "\n",
        "integ = np.zeros(len(alpha))  # Array para almacenar los valores del coeficiente\n",
        "\n",
        "\n",
        "\"\"\" Ciclo para determinar cada función con su alpha especifico,\n",
        " luego determina la integral de cada función y los almacena e el array integ,\n",
        " dicha integral es el valor del coeficiente con el alpha especifico \n",
        " \"\"\"\n",
        "\n",
        "for i in range (0,len(alpha)):\n",
        "  f_ = fn(alpha[i])\n",
        "  integ[i] = integrate.quad(f_,a,b)[0]"
      ],
      "execution_count": 93,
      "outputs": []
    },
    {
      "cell_type": "code",
      "metadata": {
        "colab": {
          "base_uri": "https://localhost:8080/",
          "height": 424
        },
        "id": "t9XH-wic-UnG",
        "outputId": "fee64f25-bd3b-47ac-e25d-8de6f7665cca"
      },
      "source": [
        "df=pd.DataFrame()  # Dataframe para almacenar los valores de amplitud y el coeficiente\n",
        "\n",
        "df[\"Amplitud [Deg]\"] = alpha              # Amplitud en Grados\n",
        "df[\"Amplitud [Rad]\"] = np.radians(alpha)  # Amplitud en radianes\n",
        "df[\"T/T0\"] = integ                        # Valor del coeficiente\n",
        "df"
      ],
      "execution_count": 94,
      "outputs": [
        {
          "output_type": "execute_result",
          "data": {
            "text/html": [
              "<div>\n",
              "<style scoped>\n",
              "    .dataframe tbody tr th:only-of-type {\n",
              "        vertical-align: middle;\n",
              "    }\n",
              "\n",
              "    .dataframe tbody tr th {\n",
              "        vertical-align: top;\n",
              "    }\n",
              "\n",
              "    .dataframe thead th {\n",
              "        text-align: right;\n",
              "    }\n",
              "</style>\n",
              "<table border=\"1\" class=\"dataframe\">\n",
              "  <thead>\n",
              "    <tr style=\"text-align: right;\">\n",
              "      <th></th>\n",
              "      <th>Amplitud [Deg]</th>\n",
              "      <th>Amplitud [Rad]</th>\n",
              "      <th>T/T0</th>\n",
              "    </tr>\n",
              "  </thead>\n",
              "  <tbody>\n",
              "    <tr>\n",
              "      <th>0</th>\n",
              "      <td>0</td>\n",
              "      <td>0.000000</td>\n",
              "      <td>1.000000</td>\n",
              "    </tr>\n",
              "    <tr>\n",
              "      <th>1</th>\n",
              "      <td>1</td>\n",
              "      <td>0.017453</td>\n",
              "      <td>1.066334</td>\n",
              "    </tr>\n",
              "    <tr>\n",
              "      <th>2</th>\n",
              "      <td>2</td>\n",
              "      <td>0.034907</td>\n",
              "      <td>1.328904</td>\n",
              "    </tr>\n",
              "    <tr>\n",
              "      <th>3</th>\n",
              "      <td>3</td>\n",
              "      <td>0.052360</td>\n",
              "      <td>2.571234</td>\n",
              "    </tr>\n",
              "    <tr>\n",
              "      <th>4</th>\n",
              "      <td>4</td>\n",
              "      <td>0.069813</td>\n",
              "      <td>1.478815</td>\n",
              "    </tr>\n",
              "    <tr>\n",
              "      <th>...</th>\n",
              "      <td>...</td>\n",
              "      <td>...</td>\n",
              "      <td>...</td>\n",
              "    </tr>\n",
              "    <tr>\n",
              "      <th>85</th>\n",
              "      <td>85</td>\n",
              "      <td>1.483530</td>\n",
              "      <td>2.430536</td>\n",
              "    </tr>\n",
              "    <tr>\n",
              "      <th>86</th>\n",
              "      <td>86</td>\n",
              "      <td>1.500983</td>\n",
              "      <td>1.313679</td>\n",
              "    </tr>\n",
              "    <tr>\n",
              "      <th>87</th>\n",
              "      <td>87</td>\n",
              "      <td>1.518436</td>\n",
              "      <td>1.061456</td>\n",
              "    </tr>\n",
              "    <tr>\n",
              "      <th>88</th>\n",
              "      <td>88</td>\n",
              "      <td>1.535890</td>\n",
              "      <td>1.000078</td>\n",
              "    </tr>\n",
              "    <tr>\n",
              "      <th>89</th>\n",
              "      <td>90</td>\n",
              "      <td>1.570796</td>\n",
              "      <td>1.344799</td>\n",
              "    </tr>\n",
              "  </tbody>\n",
              "</table>\n",
              "<p>90 rows × 3 columns</p>\n",
              "</div>"
            ],
            "text/plain": [
              "    Amplitud [Deg]  Amplitud [Rad]      T/T0\n",
              "0                0        0.000000  1.000000\n",
              "1                1        0.017453  1.066334\n",
              "2                2        0.034907  1.328904\n",
              "3                3        0.052360  2.571234\n",
              "4                4        0.069813  1.478815\n",
              "..             ...             ...       ...\n",
              "85              85        1.483530  2.430536\n",
              "86              86        1.500983  1.313679\n",
              "87              87        1.518436  1.061456\n",
              "88              88        1.535890  1.000078\n",
              "89              90        1.570796  1.344799\n",
              "\n",
              "[90 rows x 3 columns]"
            ]
          },
          "metadata": {},
          "execution_count": 94
        }
      ]
    },
    {
      "cell_type": "code",
      "metadata": {
        "colab": {
          "base_uri": "https://localhost:8080/",
          "height": 442
        },
        "id": "wwPpGTqN-al2",
        "outputId": "9bbe3788-f37a-403b-ebeb-04c4bd024cc7"
      },
      "source": [
        "\"\"\"Grafica del coeficiente en función de la amplitud en grados\"\"\"\n",
        "\n",
        "plt.figure(figsize = (10,7))\n",
        "plt.plot(df[\"Amplitud [Deg]\"],df[\"T/T0\"])\n",
        "plt.xlabel(\"Amplitud[Deg]\")\n",
        "plt.ylabel(\"T/T_0\")\n",
        "plt.grid()"
      ],
      "execution_count": 95,
      "outputs": [
        {
          "output_type": "display_data",
          "data": {
            "image/png": "[encoded data removed]",
            "text/plain": [
              "<Figure size 720x504 with 1 Axes>"
            ]
          },
          "metadata": {
            "needs_background": "light"
          }
        }
      ]
    },
    {
      "cell_type": "markdown",
      "metadata": {
        "id": "p5CuLWNM-eoA"
      },
      "source": [
        "Para $\\alpha=0$ el valor $\\frac{T}{T_0}=1$\n",
        "\n",
        "Esto significa $T=T_0$ \n",
        "Es decir, como la amplitud es cero, el periodo con este $\\alpha$ es exactamente el periodo cuando $\\alpha$ toma valores pequeños"
      ]
    }
  ]
}