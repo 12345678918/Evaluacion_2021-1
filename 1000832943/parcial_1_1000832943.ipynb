{
  "nbformat": 4,
  "nbformat_minor": 0,
  "metadata": {
    "colab": {
      "name": "parcial.1_1000832943.ipynb",
      "provenance": []
    },
    "kernelspec": {
      "name": "python3",
      "display_name": "Python 3"
    },
    "language_info": {
      "name": "python"
    }
  },
  "cells": [
    {
      "cell_type": "code",
      "metadata": {
        "colab": {
          "base_uri": "https://localhost:8080/"
        },
        "id": "YSMPWforZGkr",
        "outputId": "c1040af3-badc-4083-f099-5b8ca3a88fef"
      },
      "source": [
        "import pandas as pd\n",
        "import numpy as np\n",
        "import matplotlib.pyplot as plt\n",
        "\n",
        "\n",
        "from google.colab import drive \n",
        "drive.mount('/content/gdrive')"
      ],
      "execution_count": null,
      "outputs": [
        {
          "output_type": "stream",
          "text": [
            "Drive already mounted at /content/gdrive; to attempt to forcibly remount, call drive.mount(\"/content/gdrive\", force_remount=True).\n"
          ],
          "name": "stdout"
        }
      ]
    },
    {
      "cell_type": "code",
      "metadata": {
        "id": "zK931kEa1q1Q"
      },
      "source": [
        "##punto a"
      ],
      "execution_count": null,
      "outputs": []
    },
    {
      "cell_type": "code",
      "metadata": {
        "colab": {
          "base_uri": "https://localhost:8080/",
          "height": 417
        },
        "id": "ccQujT_tbYaC",
        "outputId": "11a5f69f-e716-4160-c316-be0c6b0ee9ef"
      },
      "source": [
        "json1 = pd.read_json('/content/gdrive/My Drive/Colab Notebooks/solutions.json')\n",
        "json1"
      ],
      "execution_count": null,
      "outputs": [
        {
          "output_type": "execute_result",
          "data": {
            "text/html": [
              "<div>\n",
              "<style scoped>\n",
              "    .dataframe tbody tr th:only-of-type {\n",
              "        vertical-align: middle;\n",
              "    }\n",
              "\n",
              "    .dataframe tbody tr th {\n",
              "        vertical-align: top;\n",
              "    }\n",
              "\n",
              "    .dataframe thead th {\n",
              "        text-align: right;\n",
              "    }\n",
              "</style>\n",
              "<table border=\"1\" class=\"dataframe\">\n",
              "  <thead>\n",
              "    <tr style=\"text-align: right;\">\n",
              "      <th></th>\n",
              "      <th>l</th>\n",
              "      <th>k</th>\n",
              "      <th>solution</th>\n",
              "      <th>gcd</th>\n",
              "      <th>n</th>\n",
              "    </tr>\n",
              "  </thead>\n",
              "  <tbody>\n",
              "    <tr>\n",
              "      <th>0</th>\n",
              "      <td>[-1, 0, -1, 0, -1]</td>\n",
              "      <td>[-1, 0, -1, 1, -1]</td>\n",
              "      <td>[1, 4, 4, 4, -5, -5, -5, -5, -5, 6, 6]</td>\n",
              "      <td>1</td>\n",
              "      <td>11</td>\n",
              "    </tr>\n",
              "    <tr>\n",
              "      <th>1</th>\n",
              "      <td>[-1, 1]</td>\n",
              "      <td>[-1, 0, -1]</td>\n",
              "      <td>[1, 2, 2, -3, -3, -3, 4]</td>\n",
              "      <td>1</td>\n",
              "      <td>7</td>\n",
              "    </tr>\n",
              "    <tr>\n",
              "      <th>2</th>\n",
              "      <td>[1, -1, 0, 1, -1]</td>\n",
              "      <td>[-2, 0, -1, -2, 0]</td>\n",
              "      <td>[1, 1, -2, -2, -3, -3, 5, 5, 5, 5, -6, -6]</td>\n",
              "      <td>2</td>\n",
              "      <td>12</td>\n",
              "    </tr>\n",
              "    <tr>\n",
              "      <th>3</th>\n",
              "      <td>[-1, 1, -1, 1, -1]</td>\n",
              "      <td>[-2, -1, 0, -1, 0]</td>\n",
              "      <td>[1, 1, 1, 1, 2, 2, 2, -3, -4, -4, -6, 7]</td>\n",
              "      <td>1</td>\n",
              "      <td>12</td>\n",
              "    </tr>\n",
              "    <tr>\n",
              "      <th>4</th>\n",
              "      <td>[1, 0, 1, 0, -1]</td>\n",
              "      <td>[-2, -1, -2, -1, 0]</td>\n",
              "      <td>[1, 1, 1, -2, -2, -5, -5, 6, 6, 7, -8]</td>\n",
              "      <td>1</td>\n",
              "      <td>11</td>\n",
              "    </tr>\n",
              "    <tr>\n",
              "      <th>...</th>\n",
              "      <td>...</td>\n",
              "      <td>...</td>\n",
              "      <td>...</td>\n",
              "      <td>...</td>\n",
              "      <td>...</td>\n",
              "    </tr>\n",
              "    <tr>\n",
              "      <th>390069</th>\n",
              "      <td>[-3, -15, -6]</td>\n",
              "      <td>[-3, 8, 9]</td>\n",
              "      <td>[8, -9, -9, 11, 25, -29, -29, 32]</td>\n",
              "      <td>36</td>\n",
              "      <td>8</td>\n",
              "    </tr>\n",
              "    <tr>\n",
              "      <th>390070</th>\n",
              "      <td>[-10, -5, -15]</td>\n",
              "      <td>[-10, -12, 12]</td>\n",
              "      <td>[5, 5, 5, -17, -27, -27, 28, 28]</td>\n",
              "      <td>100</td>\n",
              "      <td>8</td>\n",
              "    </tr>\n",
              "    <tr>\n",
              "      <th>390071</th>\n",
              "      <td>[15, -1, 15]</td>\n",
              "      <td>[-14, -13, -14]</td>\n",
              "      <td>[14, -15, -16, 17, -30, 31, 31, -32]</td>\n",
              "      <td>1</td>\n",
              "      <td>8</td>\n",
              "    </tr>\n",
              "    <tr>\n",
              "      <th>390072</th>\n",
              "      <td>[-15, -9, -1]</td>\n",
              "      <td>[-13, -14, -12]</td>\n",
              "      <td>[11, -13, -15, 19, 23, -26, -30, 31]</td>\n",
              "      <td>18</td>\n",
              "      <td>8</td>\n",
              "    </tr>\n",
              "    <tr>\n",
              "      <th>390073</th>\n",
              "      <td>[10, 15, 5]</td>\n",
              "      <td>[-11, -14, 7]</td>\n",
              "      <td>[16, -17, -17, 19, 20, -22, -22, 23]</td>\n",
              "      <td>2000</td>\n",
              "      <td>8</td>\n",
              "    </tr>\n",
              "  </tbody>\n",
              "</table>\n",
              "<p>390074 rows × 5 columns</p>\n",
              "</div>"
            ],
            "text/plain": [
              "                         l                    k  ...   gcd   n\n",
              "0       [-1, 0, -1, 0, -1]   [-1, 0, -1, 1, -1]  ...     1  11\n",
              "1                  [-1, 1]          [-1, 0, -1]  ...     1   7\n",
              "2        [1, -1, 0, 1, -1]   [-2, 0, -1, -2, 0]  ...     2  12\n",
              "3       [-1, 1, -1, 1, -1]   [-2, -1, 0, -1, 0]  ...     1  12\n",
              "4         [1, 0, 1, 0, -1]  [-2, -1, -2, -1, 0]  ...     1  11\n",
              "...                    ...                  ...  ...   ...  ..\n",
              "390069       [-3, -15, -6]           [-3, 8, 9]  ...    36   8\n",
              "390070      [-10, -5, -15]       [-10, -12, 12]  ...   100   8\n",
              "390071        [15, -1, 15]      [-14, -13, -14]  ...     1   8\n",
              "390072       [-15, -9, -1]      [-13, -14, -12]  ...    18   8\n",
              "390073         [10, 15, 5]        [-11, -14, 7]  ...  2000   8\n",
              "\n",
              "[390074 rows x 5 columns]"
            ]
          },
          "metadata": {},
          "execution_count": 25
        }
      ]
    },
    {
      "cell_type": "code",
      "metadata": {
        "colab": {
          "base_uri": "https://localhost:8080/",
          "height": 417
        },
        "id": "O_RoNHNhcGay",
        "outputId": "9c33f647-8924-4025-a80d-31e8df8e7109"
      },
      "source": [
        "json1['s_max'] = json1['solution'].apply(lambda l: max(map(abs,l)))\n",
        "json1"
      ],
      "execution_count": null,
      "outputs": [
        {
          "output_type": "execute_result",
          "data": {
            "text/html": [
              "<div>\n",
              "<style scoped>\n",
              "    .dataframe tbody tr th:only-of-type {\n",
              "        vertical-align: middle;\n",
              "    }\n",
              "\n",
              "    .dataframe tbody tr th {\n",
              "        vertical-align: top;\n",
              "    }\n",
              "\n",
              "    .dataframe thead th {\n",
              "        text-align: right;\n",
              "    }\n",
              "</style>\n",
              "<table border=\"1\" class=\"dataframe\">\n",
              "  <thead>\n",
              "    <tr style=\"text-align: right;\">\n",
              "      <th></th>\n",
              "      <th>l</th>\n",
              "      <th>k</th>\n",
              "      <th>solution</th>\n",
              "      <th>gcd</th>\n",
              "      <th>n</th>\n",
              "      <th>s_max</th>\n",
              "    </tr>\n",
              "  </thead>\n",
              "  <tbody>\n",
              "    <tr>\n",
              "      <th>0</th>\n",
              "      <td>[-1, 0, -1, 0, -1]</td>\n",
              "      <td>[-1, 0, -1, 1, -1]</td>\n",
              "      <td>[1, 4, 4, 4, -5, -5, -5, -5, -5, 6, 6]</td>\n",
              "      <td>1</td>\n",
              "      <td>11</td>\n",
              "      <td>6</td>\n",
              "    </tr>\n",
              "    <tr>\n",
              "      <th>1</th>\n",
              "      <td>[-1, 1]</td>\n",
              "      <td>[-1, 0, -1]</td>\n",
              "      <td>[1, 2, 2, -3, -3, -3, 4]</td>\n",
              "      <td>1</td>\n",
              "      <td>7</td>\n",
              "      <td>4</td>\n",
              "    </tr>\n",
              "    <tr>\n",
              "      <th>2</th>\n",
              "      <td>[1, -1, 0, 1, -1]</td>\n",
              "      <td>[-2, 0, -1, -2, 0]</td>\n",
              "      <td>[1, 1, -2, -2, -3, -3, 5, 5, 5, 5, -6, -6]</td>\n",
              "      <td>2</td>\n",
              "      <td>12</td>\n",
              "      <td>6</td>\n",
              "    </tr>\n",
              "    <tr>\n",
              "      <th>3</th>\n",
              "      <td>[-1, 1, -1, 1, -1]</td>\n",
              "      <td>[-2, -1, 0, -1, 0]</td>\n",
              "      <td>[1, 1, 1, 1, 2, 2, 2, -3, -4, -4, -6, 7]</td>\n",
              "      <td>1</td>\n",
              "      <td>12</td>\n",
              "      <td>7</td>\n",
              "    </tr>\n",
              "    <tr>\n",
              "      <th>4</th>\n",
              "      <td>[1, 0, 1, 0, -1]</td>\n",
              "      <td>[-2, -1, -2, -1, 0]</td>\n",
              "      <td>[1, 1, 1, -2, -2, -5, -5, 6, 6, 7, -8]</td>\n",
              "      <td>1</td>\n",
              "      <td>11</td>\n",
              "      <td>8</td>\n",
              "    </tr>\n",
              "    <tr>\n",
              "      <th>...</th>\n",
              "      <td>...</td>\n",
              "      <td>...</td>\n",
              "      <td>...</td>\n",
              "      <td>...</td>\n",
              "      <td>...</td>\n",
              "      <td>...</td>\n",
              "    </tr>\n",
              "    <tr>\n",
              "      <th>390069</th>\n",
              "      <td>[-3, -15, -6]</td>\n",
              "      <td>[-3, 8, 9]</td>\n",
              "      <td>[8, -9, -9, 11, 25, -29, -29, 32]</td>\n",
              "      <td>36</td>\n",
              "      <td>8</td>\n",
              "      <td>32</td>\n",
              "    </tr>\n",
              "    <tr>\n",
              "      <th>390070</th>\n",
              "      <td>[-10, -5, -15]</td>\n",
              "      <td>[-10, -12, 12]</td>\n",
              "      <td>[5, 5, 5, -17, -27, -27, 28, 28]</td>\n",
              "      <td>100</td>\n",
              "      <td>8</td>\n",
              "      <td>28</td>\n",
              "    </tr>\n",
              "    <tr>\n",
              "      <th>390071</th>\n",
              "      <td>[15, -1, 15]</td>\n",
              "      <td>[-14, -13, -14]</td>\n",
              "      <td>[14, -15, -16, 17, -30, 31, 31, -32]</td>\n",
              "      <td>1</td>\n",
              "      <td>8</td>\n",
              "      <td>32</td>\n",
              "    </tr>\n",
              "    <tr>\n",
              "      <th>390072</th>\n",
              "      <td>[-15, -9, -1]</td>\n",
              "      <td>[-13, -14, -12]</td>\n",
              "      <td>[11, -13, -15, 19, 23, -26, -30, 31]</td>\n",
              "      <td>18</td>\n",
              "      <td>8</td>\n",
              "      <td>31</td>\n",
              "    </tr>\n",
              "    <tr>\n",
              "      <th>390073</th>\n",
              "      <td>[10, 15, 5]</td>\n",
              "      <td>[-11, -14, 7]</td>\n",
              "      <td>[16, -17, -17, 19, 20, -22, -22, 23]</td>\n",
              "      <td>2000</td>\n",
              "      <td>8</td>\n",
              "      <td>23</td>\n",
              "    </tr>\n",
              "  </tbody>\n",
              "</table>\n",
              "<p>390074 rows × 6 columns</p>\n",
              "</div>"
            ],
            "text/plain": [
              "                         l                    k  ...   n  s_max\n",
              "0       [-1, 0, -1, 0, -1]   [-1, 0, -1, 1, -1]  ...  11      6\n",
              "1                  [-1, 1]          [-1, 0, -1]  ...   7      4\n",
              "2        [1, -1, 0, 1, -1]   [-2, 0, -1, -2, 0]  ...  12      6\n",
              "3       [-1, 1, -1, 1, -1]   [-2, -1, 0, -1, 0]  ...  12      7\n",
              "4         [1, 0, 1, 0, -1]  [-2, -1, -2, -1, 0]  ...  11      8\n",
              "...                    ...                  ...  ...  ..    ...\n",
              "390069       [-3, -15, -6]           [-3, 8, 9]  ...   8     32\n",
              "390070      [-10, -5, -15]       [-10, -12, 12]  ...   8     28\n",
              "390071        [15, -1, 15]      [-14, -13, -14]  ...   8     32\n",
              "390072       [-15, -9, -1]      [-13, -14, -12]  ...   8     31\n",
              "390073         [10, 15, 5]        [-11, -14, 7]  ...   8     23\n",
              "\n",
              "[390074 rows x 6 columns]"
            ]
          },
          "metadata": {},
          "execution_count": 26
        }
      ]
    },
    {
      "cell_type": "code",
      "metadata": {
        "colab": {
          "base_uri": "https://localhost:8080/",
          "height": 417
        },
        "id": "kcN5H5RSfLG6",
        "outputId": "a4afd028-0d8f-4338-b362-24f14e8ec42d"
      },
      "source": [
        "json1['sum_s'] = json1['solution'].apply(lambda i : sum(i))\n",
        "json1['sum_s^3'] = json1['sum_s'].apply(lambda i : i**3 )\n",
        "json1"
      ],
      "execution_count": null,
      "outputs": [
        {
          "output_type": "execute_result",
          "data": {
            "text/html": [
              "<div>\n",
              "<style scoped>\n",
              "    .dataframe tbody tr th:only-of-type {\n",
              "        vertical-align: middle;\n",
              "    }\n",
              "\n",
              "    .dataframe tbody tr th {\n",
              "        vertical-align: top;\n",
              "    }\n",
              "\n",
              "    .dataframe thead th {\n",
              "        text-align: right;\n",
              "    }\n",
              "</style>\n",
              "<table border=\"1\" class=\"dataframe\">\n",
              "  <thead>\n",
              "    <tr style=\"text-align: right;\">\n",
              "      <th></th>\n",
              "      <th>l</th>\n",
              "      <th>k</th>\n",
              "      <th>solution</th>\n",
              "      <th>gcd</th>\n",
              "      <th>n</th>\n",
              "      <th>s_max</th>\n",
              "      <th>sum_s</th>\n",
              "      <th>sum_s^3</th>\n",
              "    </tr>\n",
              "  </thead>\n",
              "  <tbody>\n",
              "    <tr>\n",
              "      <th>0</th>\n",
              "      <td>[-1, 0, -1, 0, -1]</td>\n",
              "      <td>[-1, 0, -1, 1, -1]</td>\n",
              "      <td>[1, 4, 4, 4, -5, -5, -5, -5, -5, 6, 6]</td>\n",
              "      <td>1</td>\n",
              "      <td>11</td>\n",
              "      <td>6</td>\n",
              "      <td>0</td>\n",
              "      <td>0</td>\n",
              "    </tr>\n",
              "    <tr>\n",
              "      <th>1</th>\n",
              "      <td>[-1, 1]</td>\n",
              "      <td>[-1, 0, -1]</td>\n",
              "      <td>[1, 2, 2, -3, -3, -3, 4]</td>\n",
              "      <td>1</td>\n",
              "      <td>7</td>\n",
              "      <td>4</td>\n",
              "      <td>0</td>\n",
              "      <td>0</td>\n",
              "    </tr>\n",
              "    <tr>\n",
              "      <th>2</th>\n",
              "      <td>[1, -1, 0, 1, -1]</td>\n",
              "      <td>[-2, 0, -1, -2, 0]</td>\n",
              "      <td>[1, 1, -2, -2, -3, -3, 5, 5, 5, 5, -6, -6]</td>\n",
              "      <td>2</td>\n",
              "      <td>12</td>\n",
              "      <td>6</td>\n",
              "      <td>0</td>\n",
              "      <td>0</td>\n",
              "    </tr>\n",
              "    <tr>\n",
              "      <th>3</th>\n",
              "      <td>[-1, 1, -1, 1, -1]</td>\n",
              "      <td>[-2, -1, 0, -1, 0]</td>\n",
              "      <td>[1, 1, 1, 1, 2, 2, 2, -3, -4, -4, -6, 7]</td>\n",
              "      <td>1</td>\n",
              "      <td>12</td>\n",
              "      <td>7</td>\n",
              "      <td>0</td>\n",
              "      <td>0</td>\n",
              "    </tr>\n",
              "    <tr>\n",
              "      <th>4</th>\n",
              "      <td>[1, 0, 1, 0, -1]</td>\n",
              "      <td>[-2, -1, -2, -1, 0]</td>\n",
              "      <td>[1, 1, 1, -2, -2, -5, -5, 6, 6, 7, -8]</td>\n",
              "      <td>1</td>\n",
              "      <td>11</td>\n",
              "      <td>8</td>\n",
              "      <td>0</td>\n",
              "      <td>0</td>\n",
              "    </tr>\n",
              "    <tr>\n",
              "      <th>...</th>\n",
              "      <td>...</td>\n",
              "      <td>...</td>\n",
              "      <td>...</td>\n",
              "      <td>...</td>\n",
              "      <td>...</td>\n",
              "      <td>...</td>\n",
              "      <td>...</td>\n",
              "      <td>...</td>\n",
              "    </tr>\n",
              "    <tr>\n",
              "      <th>390069</th>\n",
              "      <td>[-3, -15, -6]</td>\n",
              "      <td>[-3, 8, 9]</td>\n",
              "      <td>[8, -9, -9, 11, 25, -29, -29, 32]</td>\n",
              "      <td>36</td>\n",
              "      <td>8</td>\n",
              "      <td>32</td>\n",
              "      <td>0</td>\n",
              "      <td>0</td>\n",
              "    </tr>\n",
              "    <tr>\n",
              "      <th>390070</th>\n",
              "      <td>[-10, -5, -15]</td>\n",
              "      <td>[-10, -12, 12]</td>\n",
              "      <td>[5, 5, 5, -17, -27, -27, 28, 28]</td>\n",
              "      <td>100</td>\n",
              "      <td>8</td>\n",
              "      <td>28</td>\n",
              "      <td>0</td>\n",
              "      <td>0</td>\n",
              "    </tr>\n",
              "    <tr>\n",
              "      <th>390071</th>\n",
              "      <td>[15, -1, 15]</td>\n",
              "      <td>[-14, -13, -14]</td>\n",
              "      <td>[14, -15, -16, 17, -30, 31, 31, -32]</td>\n",
              "      <td>1</td>\n",
              "      <td>8</td>\n",
              "      <td>32</td>\n",
              "      <td>0</td>\n",
              "      <td>0</td>\n",
              "    </tr>\n",
              "    <tr>\n",
              "      <th>390072</th>\n",
              "      <td>[-15, -9, -1]</td>\n",
              "      <td>[-13, -14, -12]</td>\n",
              "      <td>[11, -13, -15, 19, 23, -26, -30, 31]</td>\n",
              "      <td>18</td>\n",
              "      <td>8</td>\n",
              "      <td>31</td>\n",
              "      <td>0</td>\n",
              "      <td>0</td>\n",
              "    </tr>\n",
              "    <tr>\n",
              "      <th>390073</th>\n",
              "      <td>[10, 15, 5]</td>\n",
              "      <td>[-11, -14, 7]</td>\n",
              "      <td>[16, -17, -17, 19, 20, -22, -22, 23]</td>\n",
              "      <td>2000</td>\n",
              "      <td>8</td>\n",
              "      <td>23</td>\n",
              "      <td>0</td>\n",
              "      <td>0</td>\n",
              "    </tr>\n",
              "  </tbody>\n",
              "</table>\n",
              "<p>390074 rows × 8 columns</p>\n",
              "</div>"
            ],
            "text/plain": [
              "                         l                    k  ... sum_s  sum_s^3\n",
              "0       [-1, 0, -1, 0, -1]   [-1, 0, -1, 1, -1]  ...     0        0\n",
              "1                  [-1, 1]          [-1, 0, -1]  ...     0        0\n",
              "2        [1, -1, 0, 1, -1]   [-2, 0, -1, -2, 0]  ...     0        0\n",
              "3       [-1, 1, -1, 1, -1]   [-2, -1, 0, -1, 0]  ...     0        0\n",
              "4         [1, 0, 1, 0, -1]  [-2, -1, -2, -1, 0]  ...     0        0\n",
              "...                    ...                  ...  ...   ...      ...\n",
              "390069       [-3, -15, -6]           [-3, 8, 9]  ...     0        0\n",
              "390070      [-10, -5, -15]       [-10, -12, 12]  ...     0        0\n",
              "390071        [15, -1, 15]      [-14, -13, -14]  ...     0        0\n",
              "390072       [-15, -9, -1]      [-13, -14, -12]  ...     0        0\n",
              "390073         [10, 15, 5]        [-11, -14, 7]  ...     0        0\n",
              "\n",
              "[390074 rows x 8 columns]"
            ]
          },
          "metadata": {},
          "execution_count": 29
        }
      ]
    },
    {
      "cell_type": "code",
      "metadata": {
        "colab": {
          "base_uri": "https://localhost:8080/"
        },
        "id": "kBQgU7kFmHfQ",
        "outputId": "3822a54f-7c57-46d7-a9dd-9e5e4618b1ef"
      },
      "source": [
        "import random\n",
        "np.random.seed(1000832943)\n",
        "a = np.random.randint(390073)\n",
        "cf = json1.loc[a][2]\n",
        "pO = np.poly1d(cf)\n",
        "print(pO)"
      ],
      "execution_count": null,
      "outputs": [
        {
          "output_type": "stream",
          "text": [
            "   11     10     9     8      7      6      5      4      3      2\n",
            "5 x  + 6 x  + 8 x + 9 x - 10 x + 12 x - 13 x - 17 x + 19 x - 23 x - 27 x + 31\n"
          ],
          "name": "stdout"
        }
      ]
    },
    {
      "cell_type": "code",
      "metadata": {
        "colab": {
          "base_uri": "https://localhost:8080/"
        },
        "id": "1vE1qVVApSQl",
        "outputId": "82be045f-7491-4559-fc11-fa3ee09113f7"
      },
      "source": [
        "r = np.roots(pO)\n",
        "raicesreal = r[r.imag == 0]\n",
        "rr = raicesreal.real\n",
        "print(rr)"
      ],
      "execution_count": null,
      "outputs": [
        {
          "output_type": "stream",
          "text": [
            "[-1.63348786  1.          0.75436736]\n"
          ],
          "name": "stdout"
        }
      ]
    },
    {
      "cell_type": "code",
      "metadata": {
        "colab": {
          "base_uri": "https://localhost:8080/"
        },
        "id": "coPMLvkbtBsa",
        "outputId": "52073b51-9787-493f-8fad-ed5a006a0cda"
      },
      "source": [
        "d = pO.deriv()\n",
        "print(d)"
      ],
      "execution_count": null,
      "outputs": [
        {
          "output_type": "stream",
          "text": [
            "    10      9      8      7      6      5      4      3      2\n",
            "55 x  + 60 x + 72 x + 72 x - 70 x + 72 x - 65 x - 68 x + 57 x - 46 x - 27\n"
          ],
          "name": "stdout"
        }
      ]
    },
    {
      "cell_type": "code",
      "metadata": {
        "colab": {
          "base_uri": "https://localhost:8080/",
          "height": 312
        },
        "id": "uBrtO93LvO98",
        "outputId": "b58013dc-b36a-4e4f-ef98-555b3fdffa79"
      },
      "source": [
        "x = np.linspace(-2,1.5,1000)\n",
        "plt.figure()\n",
        "plt.title('GRAFICA POLINOMIO DEL DATA FRAME')\n",
        "plt.ylabel('f(x)')\n",
        "plt.xlabel('(x)')\n",
        "plt.grid()\n",
        "plt.plot(x,pO(x),label= \"polinomio\", color = \"green\")\n",
        "plt.plot(rr,pO(rr),'ro',label = \"raices\")\n",
        "plt.plot(x,d(x),label = \"derivada\")\n",
        "plt.legend()\n",
        "plt.ylim(-260,150)\n",
        "plt.show"
      ],
      "execution_count": null,
      "outputs": [
        {
          "output_type": "execute_result",
          "data": {
            "text/plain": [
              "<function matplotlib.pyplot.show>"
            ]
          },
          "metadata": {},
          "execution_count": 103
        },
        {
          "output_type": "display_data",
          "data": {
            "image/png": "[encoded data removed]",
            "text/plain": [
              "<Figure size 432x288 with 1 Axes>"
            ]
          },
          "metadata": {
            "needs_background": "light"
          }
        }
      ]
    },
    {
      "cell_type": "code",
      "metadata": {
        "colab": {
          "base_uri": "https://localhost:8080/"
        },
        "id": "4Mm3MHrq1os_",
        "outputId": "e199caf6-6fbf-4dd0-cefe-01735a6c47c4"
      },
      "source": [
        "#punto b\n",
        "np.random.seed(1000832943)\n",
        "b = np.random.randint(1,5)\n",
        "print(b,\"como me salio el numero 1 se escoge la ecuacion numero 1\")\n",
        "p = np.random.random(1)\n",
        "print(p,\"valor de p\")"
      ],
      "execution_count": 179,
      "outputs": [
        {
          "output_type": "stream",
          "text": [
            "1 como me salio el numero 1 se escoge la ecuacion numero 1\n",
            "[0.72076748] valor de p\n"
          ],
          "name": "stdout"
        }
      ]
    },
    {
      "cell_type": "code",
      "metadata": {
        "id": "kCP3nDP6300l"
      },
      "source": [
        "from scipy import optimize\n",
        "def f (v):\n",
        "  return (v*(np.exp(v))) - p\n",
        "v = np.linspace(-10,10,100)\n",
        "J = 1\n",
        "root2 = optimize.fixed_point(lambda v: v - f(v),J, maxiter = 2000)"
      ],
      "execution_count": 184,
      "outputs": []
    },
    {
      "cell_type": "code",
      "metadata": {
        "colab": {
          "base_uri": "https://localhost:8080/",
          "height": 312
        },
        "id": "qN-bj9MC_pxl",
        "outputId": "ee30ba87-86c9-46cb-c2ab-9e117291ba5a"
      },
      "source": [
        "plt.figure()\n",
        "plt.title('GRAFICA FUNCION TRACENDENTAL')\n",
        "plt.ylabel('f(x)')\n",
        "plt.xlabel('(x)')\n",
        "plt.grid()\n",
        "plt.plot(v,f(v),label= \"funcion tracendental\", color = \"green\")\n",
        "plt.plot(root2,f(root2),'ro',label = \"raices de la funcion\")\n",
        "plt.legend()\n",
        "plt.ylim(-10,10)\n",
        "plt.show"
      ],
      "execution_count": 185,
      "outputs": [
        {
          "output_type": "execute_result",
          "data": {
            "text/plain": [
              "<function matplotlib.pyplot.show>"
            ]
          },
          "metadata": {},
          "execution_count": 185
        },
        {
          "output_type": "display_data",
          "data": {
            "image/png": "[encoded data removed]",
            "text/plain": [
              "<Figure size 432x288 with 1 Axes>"
            ]
          },
          "metadata": {
            "needs_background": "light"
          }
        }
      ]
    }
  ]
}