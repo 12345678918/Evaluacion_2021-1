{
  "nbformat": 4,
  "nbformat_minor": 0,
  "metadata": {
    "colab": {
      "name": "Untitled27.ipynb",
      "provenance": []
    },
    "kernelspec": {
      "name": "python3",
      "display_name": "Python 3"
    },
    "language_info": {
      "name": "python"
    }
  },
  "cells": [
    {
      "cell_type": "code",
      "metadata": {
        "id": "tvhKK1qJjkhs"
      },
      "source": [
        "import numpy as np\n",
        "import pandas as pd\n",
        "import matplotlib.pyplot as plt\n",
        "import random as random\n",
        "from scipy import optimize"
      ],
      "execution_count": null,
      "outputs": []
    },
    {
      "cell_type": "markdown",
      "metadata": {
        "id": "_IALIFV_k3d9"
      },
      "source": [
        ""
      ]
    },
    {
      "cell_type": "markdown",
      "metadata": {
        "id": "vge3gzjNXPJh"
      },
      "source": [
        "#A) Cargando el archivo JSON: \n",
        "* https://github.com/restrepo/anomaly/raw/main/solutions.json.gz\n",
        "\n",
        "en Pandas\n",
        "\n",
        "1) Adicione una columna nueva `'smax'` con el valor máximo en valor absoluto de la lista de enteros de la correspondiente entrada en la columna '`solution`'\n",
        "\n",
        "2) Adicione dos columnas nuevas: `'sum_s'` (`sum_s³`) con el resultado de la suma (al cubo) de todos los números de la lista de enteros de la correspondiente entrada en la columna '`solution`'. \n",
        "Note que al final el DataFrame debe quedar con tres columnas adicionales\n",
        "\n",
        "3) Usando como semilla el número de su cédula, genere un número entero de forma aleatoria entre 0 y 390073. Seleccione la fila con el índice correspondiente a ese número entero  y con base en la columna '`solution`': construya un polinomio con esa lista de enteros como coeficientes. Encuentre las raices reales de ese polinomio y realice el correspondiente gráfico incluyendo: \n",
        "* el polinomio generado, sus raices (como puntos en el gráfico) y la derivada del polinomio. \n",
        "* Optimize el rango de valores en el eje $x$ y en el eje $y$ del gráfico, de manera que el polinomio y sus raices se visualicen de la mejor forma posible. (Sugerencia → use: `plt.ylim(ymin,ymax)` ). \n",
        "* Se tendrá en cuenta la estética del gráfico presentado incluyendo la rotulación adecuada del mismo\n"
      ]
    },
    {
      "cell_type": "code",
      "metadata": {
        "colab": {
          "base_uri": "https://localhost:8080/",
          "height": 419
        },
        "id": "JDyq7xAkkICj",
        "outputId": "8278734b-5751-4f47-f944-f2c2ecf29eaa"
      },
      "source": [
        "#Se crea el DataFrame\n",
        "\n",
        "df = pd.read_json('https://github.com/restrepo/anomaly/raw/main/solutions.json.gz')\n",
        "df"
      ],
      "execution_count": null,
      "outputs": [
        {
          "output_type": "execute_result",
          "data": {
            "text/html": [
              "<div>\n",
              "<style scoped>\n",
              "    .dataframe tbody tr th:only-of-type {\n",
              "        vertical-align: middle;\n",
              "    }\n",
              "\n",
              "    .dataframe tbody tr th {\n",
              "        vertical-align: top;\n",
              "    }\n",
              "\n",
              "    .dataframe thead th {\n",
              "        text-align: right;\n",
              "    }\n",
              "</style>\n",
              "<table border=\"1\" class=\"dataframe\">\n",
              "  <thead>\n",
              "    <tr style=\"text-align: right;\">\n",
              "      <th></th>\n",
              "      <th>l</th>\n",
              "      <th>k</th>\n",
              "      <th>solution</th>\n",
              "      <th>gcd</th>\n",
              "      <th>n</th>\n",
              "    </tr>\n",
              "  </thead>\n",
              "  <tbody>\n",
              "    <tr>\n",
              "      <th>0</th>\n",
              "      <td>[-1, 0, -1, 0, -1]</td>\n",
              "      <td>[-1, 0, -1, 1, -1]</td>\n",
              "      <td>[1, 4, 4, 4, -5, -5, -5, -5, -5, 6, 6]</td>\n",
              "      <td>1</td>\n",
              "      <td>11</td>\n",
              "    </tr>\n",
              "    <tr>\n",
              "      <th>1</th>\n",
              "      <td>[-1, 1]</td>\n",
              "      <td>[-1, 0, -1]</td>\n",
              "      <td>[1, 2, 2, -3, -3, -3, 4]</td>\n",
              "      <td>1</td>\n",
              "      <td>7</td>\n",
              "    </tr>\n",
              "    <tr>\n",
              "      <th>2</th>\n",
              "      <td>[1, -1, 0, 1, -1]</td>\n",
              "      <td>[-2, 0, -1, -2, 0]</td>\n",
              "      <td>[1, 1, -2, -2, -3, -3, 5, 5, 5, 5, -6, -6]</td>\n",
              "      <td>2</td>\n",
              "      <td>12</td>\n",
              "    </tr>\n",
              "    <tr>\n",
              "      <th>3</th>\n",
              "      <td>[-1, 1, -1, 1, -1]</td>\n",
              "      <td>[-2, -1, 0, -1, 0]</td>\n",
              "      <td>[1, 1, 1, 1, 2, 2, 2, -3, -4, -4, -6, 7]</td>\n",
              "      <td>1</td>\n",
              "      <td>12</td>\n",
              "    </tr>\n",
              "    <tr>\n",
              "      <th>4</th>\n",
              "      <td>[1, 0, 1, 0, -1]</td>\n",
              "      <td>[-2, -1, -2, -1, 0]</td>\n",
              "      <td>[1, 1, 1, -2, -2, -5, -5, 6, 6, 7, -8]</td>\n",
              "      <td>1</td>\n",
              "      <td>11</td>\n",
              "    </tr>\n",
              "    <tr>\n",
              "      <th>...</th>\n",
              "      <td>...</td>\n",
              "      <td>...</td>\n",
              "      <td>...</td>\n",
              "      <td>...</td>\n",
              "      <td>...</td>\n",
              "    </tr>\n",
              "    <tr>\n",
              "      <th>390069</th>\n",
              "      <td>[-3, -15, -6]</td>\n",
              "      <td>[-3, 8, 9]</td>\n",
              "      <td>[8, -9, -9, 11, 25, -29, -29, 32]</td>\n",
              "      <td>36</td>\n",
              "      <td>8</td>\n",
              "    </tr>\n",
              "    <tr>\n",
              "      <th>390070</th>\n",
              "      <td>[-10, -5, -15]</td>\n",
              "      <td>[-10, -12, 12]</td>\n",
              "      <td>[5, 5, 5, -17, -27, -27, 28, 28]</td>\n",
              "      <td>100</td>\n",
              "      <td>8</td>\n",
              "    </tr>\n",
              "    <tr>\n",
              "      <th>390071</th>\n",
              "      <td>[15, -1, 15]</td>\n",
              "      <td>[-14, -13, -14]</td>\n",
              "      <td>[14, -15, -16, 17, -30, 31, 31, -32]</td>\n",
              "      <td>1</td>\n",
              "      <td>8</td>\n",
              "    </tr>\n",
              "    <tr>\n",
              "      <th>390072</th>\n",
              "      <td>[-15, -9, -1]</td>\n",
              "      <td>[-13, -14, -12]</td>\n",
              "      <td>[11, -13, -15, 19, 23, -26, -30, 31]</td>\n",
              "      <td>18</td>\n",
              "      <td>8</td>\n",
              "    </tr>\n",
              "    <tr>\n",
              "      <th>390073</th>\n",
              "      <td>[10, 15, 5]</td>\n",
              "      <td>[-11, -14, 7]</td>\n",
              "      <td>[16, -17, -17, 19, 20, -22, -22, 23]</td>\n",
              "      <td>2000</td>\n",
              "      <td>8</td>\n",
              "    </tr>\n",
              "  </tbody>\n",
              "</table>\n",
              "<p>390074 rows × 5 columns</p>\n",
              "</div>"
            ],
            "text/plain": [
              "                         l                    k  ...   gcd   n\n",
              "0       [-1, 0, -1, 0, -1]   [-1, 0, -1, 1, -1]  ...     1  11\n",
              "1                  [-1, 1]          [-1, 0, -1]  ...     1   7\n",
              "2        [1, -1, 0, 1, -1]   [-2, 0, -1, -2, 0]  ...     2  12\n",
              "3       [-1, 1, -1, 1, -1]   [-2, -1, 0, -1, 0]  ...     1  12\n",
              "4         [1, 0, 1, 0, -1]  [-2, -1, -2, -1, 0]  ...     1  11\n",
              "...                    ...                  ...  ...   ...  ..\n",
              "390069       [-3, -15, -6]           [-3, 8, 9]  ...    36   8\n",
              "390070      [-10, -5, -15]       [-10, -12, 12]  ...   100   8\n",
              "390071        [15, -1, 15]      [-14, -13, -14]  ...     1   8\n",
              "390072       [-15, -9, -1]      [-13, -14, -12]  ...    18   8\n",
              "390073         [10, 15, 5]        [-11, -14, 7]  ...  2000   8\n",
              "\n",
              "[390074 rows x 5 columns]"
            ]
          },
          "metadata": {},
          "execution_count": 211
        }
      ]
    },
    {
      "cell_type": "code",
      "metadata": {
        "colab": {
          "base_uri": "https://localhost:8080/",
          "height": 419
        },
        "id": "rqwqUMqrk_t3",
        "outputId": "b48bb3a2-7986-42af-b187-4f462d78bf43"
      },
      "source": [
        "df['smax'] = df.solution.apply(lambda x: max(list(map(abs,x)))) #Se aplica el valor absoluto a cada lista en la columna solution\n",
        "df['sum_s'] = df.solution.apply(lambda x: sum(list(map(int,x)))) #Luego, se suman los elementos de cada lista en la columna solution\n",
        "df['sum_s³'] = df.sum_s.apply(lambda x: x**3)  #Una vez creada la columna sum_s se le aplica la función cúbica a cada elemento de dicha columna\n",
        "df   #Visualizamos el nuevo DataFrame"
      ],
      "execution_count": null,
      "outputs": [
        {
          "output_type": "execute_result",
          "data": {
            "text/html": [
              "<div>\n",
              "<style scoped>\n",
              "    .dataframe tbody tr th:only-of-type {\n",
              "        vertical-align: middle;\n",
              "    }\n",
              "\n",
              "    .dataframe tbody tr th {\n",
              "        vertical-align: top;\n",
              "    }\n",
              "\n",
              "    .dataframe thead th {\n",
              "        text-align: right;\n",
              "    }\n",
              "</style>\n",
              "<table border=\"1\" class=\"dataframe\">\n",
              "  <thead>\n",
              "    <tr style=\"text-align: right;\">\n",
              "      <th></th>\n",
              "      <th>l</th>\n",
              "      <th>k</th>\n",
              "      <th>solution</th>\n",
              "      <th>gcd</th>\n",
              "      <th>n</th>\n",
              "      <th>smax</th>\n",
              "      <th>sum_s</th>\n",
              "      <th>sum_s³</th>\n",
              "    </tr>\n",
              "  </thead>\n",
              "  <tbody>\n",
              "    <tr>\n",
              "      <th>0</th>\n",
              "      <td>[-1, 0, -1, 0, -1]</td>\n",
              "      <td>[-1, 0, -1, 1, -1]</td>\n",
              "      <td>[1, 4, 4, 4, -5, -5, -5, -5, -5, 6, 6]</td>\n",
              "      <td>1</td>\n",
              "      <td>11</td>\n",
              "      <td>6</td>\n",
              "      <td>0</td>\n",
              "      <td>0</td>\n",
              "    </tr>\n",
              "    <tr>\n",
              "      <th>1</th>\n",
              "      <td>[-1, 1]</td>\n",
              "      <td>[-1, 0, -1]</td>\n",
              "      <td>[1, 2, 2, -3, -3, -3, 4]</td>\n",
              "      <td>1</td>\n",
              "      <td>7</td>\n",
              "      <td>4</td>\n",
              "      <td>0</td>\n",
              "      <td>0</td>\n",
              "    </tr>\n",
              "    <tr>\n",
              "      <th>2</th>\n",
              "      <td>[1, -1, 0, 1, -1]</td>\n",
              "      <td>[-2, 0, -1, -2, 0]</td>\n",
              "      <td>[1, 1, -2, -2, -3, -3, 5, 5, 5, 5, -6, -6]</td>\n",
              "      <td>2</td>\n",
              "      <td>12</td>\n",
              "      <td>6</td>\n",
              "      <td>0</td>\n",
              "      <td>0</td>\n",
              "    </tr>\n",
              "    <tr>\n",
              "      <th>3</th>\n",
              "      <td>[-1, 1, -1, 1, -1]</td>\n",
              "      <td>[-2, -1, 0, -1, 0]</td>\n",
              "      <td>[1, 1, 1, 1, 2, 2, 2, -3, -4, -4, -6, 7]</td>\n",
              "      <td>1</td>\n",
              "      <td>12</td>\n",
              "      <td>7</td>\n",
              "      <td>0</td>\n",
              "      <td>0</td>\n",
              "    </tr>\n",
              "    <tr>\n",
              "      <th>4</th>\n",
              "      <td>[1, 0, 1, 0, -1]</td>\n",
              "      <td>[-2, -1, -2, -1, 0]</td>\n",
              "      <td>[1, 1, 1, -2, -2, -5, -5, 6, 6, 7, -8]</td>\n",
              "      <td>1</td>\n",
              "      <td>11</td>\n",
              "      <td>8</td>\n",
              "      <td>0</td>\n",
              "      <td>0</td>\n",
              "    </tr>\n",
              "    <tr>\n",
              "      <th>...</th>\n",
              "      <td>...</td>\n",
              "      <td>...</td>\n",
              "      <td>...</td>\n",
              "      <td>...</td>\n",
              "      <td>...</td>\n",
              "      <td>...</td>\n",
              "      <td>...</td>\n",
              "      <td>...</td>\n",
              "    </tr>\n",
              "    <tr>\n",
              "      <th>390069</th>\n",
              "      <td>[-3, -15, -6]</td>\n",
              "      <td>[-3, 8, 9]</td>\n",
              "      <td>[8, -9, -9, 11, 25, -29, -29, 32]</td>\n",
              "      <td>36</td>\n",
              "      <td>8</td>\n",
              "      <td>32</td>\n",
              "      <td>0</td>\n",
              "      <td>0</td>\n",
              "    </tr>\n",
              "    <tr>\n",
              "      <th>390070</th>\n",
              "      <td>[-10, -5, -15]</td>\n",
              "      <td>[-10, -12, 12]</td>\n",
              "      <td>[5, 5, 5, -17, -27, -27, 28, 28]</td>\n",
              "      <td>100</td>\n",
              "      <td>8</td>\n",
              "      <td>28</td>\n",
              "      <td>0</td>\n",
              "      <td>0</td>\n",
              "    </tr>\n",
              "    <tr>\n",
              "      <th>390071</th>\n",
              "      <td>[15, -1, 15]</td>\n",
              "      <td>[-14, -13, -14]</td>\n",
              "      <td>[14, -15, -16, 17, -30, 31, 31, -32]</td>\n",
              "      <td>1</td>\n",
              "      <td>8</td>\n",
              "      <td>32</td>\n",
              "      <td>0</td>\n",
              "      <td>0</td>\n",
              "    </tr>\n",
              "    <tr>\n",
              "      <th>390072</th>\n",
              "      <td>[-15, -9, -1]</td>\n",
              "      <td>[-13, -14, -12]</td>\n",
              "      <td>[11, -13, -15, 19, 23, -26, -30, 31]</td>\n",
              "      <td>18</td>\n",
              "      <td>8</td>\n",
              "      <td>31</td>\n",
              "      <td>0</td>\n",
              "      <td>0</td>\n",
              "    </tr>\n",
              "    <tr>\n",
              "      <th>390073</th>\n",
              "      <td>[10, 15, 5]</td>\n",
              "      <td>[-11, -14, 7]</td>\n",
              "      <td>[16, -17, -17, 19, 20, -22, -22, 23]</td>\n",
              "      <td>2000</td>\n",
              "      <td>8</td>\n",
              "      <td>23</td>\n",
              "      <td>0</td>\n",
              "      <td>0</td>\n",
              "    </tr>\n",
              "  </tbody>\n",
              "</table>\n",
              "<p>390074 rows × 8 columns</p>\n",
              "</div>"
            ],
            "text/plain": [
              "                         l                    k  ... sum_s  sum_s³\n",
              "0       [-1, 0, -1, 0, -1]   [-1, 0, -1, 1, -1]  ...     0       0\n",
              "1                  [-1, 1]          [-1, 0, -1]  ...     0       0\n",
              "2        [1, -1, 0, 1, -1]   [-2, 0, -1, -2, 0]  ...     0       0\n",
              "3       [-1, 1, -1, 1, -1]   [-2, -1, 0, -1, 0]  ...     0       0\n",
              "4         [1, 0, 1, 0, -1]  [-2, -1, -2, -1, 0]  ...     0       0\n",
              "...                    ...                  ...  ...   ...     ...\n",
              "390069       [-3, -15, -6]           [-3, 8, 9]  ...     0       0\n",
              "390070      [-10, -5, -15]       [-10, -12, 12]  ...     0       0\n",
              "390071        [15, -1, 15]      [-14, -13, -14]  ...     0       0\n",
              "390072       [-15, -9, -1]      [-13, -14, -12]  ...     0       0\n",
              "390073         [10, 15, 5]        [-11, -14, 7]  ...     0       0\n",
              "\n",
              "[390074 rows x 8 columns]"
            ]
          },
          "metadata": {},
          "execution_count": 212
        }
      ]
    },
    {
      "cell_type": "code",
      "metadata": {
        "colab": {
          "base_uri": "https://localhost:8080/"
        },
        "id": "0AH6rCpUlL0M",
        "outputId": "fe3024a9-acf7-411f-a894-a8fbf565daf8"
      },
      "source": [
        "#Creamos el número aleatorio\n",
        "\n",
        "random.seed(1017270713)\n",
        "random.randint(0, 390073)"
      ],
      "execution_count": null,
      "outputs": [
        {
          "output_type": "execute_result",
          "data": {
            "text/plain": [
              "307721"
            ]
          },
          "metadata": {},
          "execution_count": 246
        }
      ]
    },
    {
      "cell_type": "code",
      "metadata": {
        "id": "MhJ9HPDJlUy3"
      },
      "source": [
        "#Definimos los coeficientes del polinomio\n",
        "\n",
        "coeficientes = df.iloc[307721]['solution']"
      ],
      "execution_count": null,
      "outputs": []
    },
    {
      "cell_type": "code",
      "metadata": {
        "colab": {
          "base_uri": "https://localhost:8080/"
        },
        "id": "kNzaBKehlxrk",
        "outputId": "f6803c58-b36a-4fc5-ec52-33221aaac806"
      },
      "source": [
        "#Construimos el polinomio\n",
        "\n",
        "poly = np.poly1d( coeficientes, variable = 'x' )\n",
        "print(poly)"
      ],
      "execution_count": null,
      "outputs": [
        {
          "output_type": "stream",
          "text": [
            "   10     9     8     7     6      5      4      3      2\n",
            "2 x  + 4 x + 7 x - 9 x - 9 x - 10 x + 17 x + 22 x - 25 x - 26 x + 27\n"
          ],
          "name": "stdout"
        }
      ]
    },
    {
      "cell_type": "code",
      "metadata": {
        "colab": {
          "base_uri": "https://localhost:8080/"
        },
        "id": "FhAokWiPqqSZ",
        "outputId": "f8eb3484-0daf-47c9-fdbf-b037108f7239"
      },
      "source": [
        "#Construimos la derivada del polinomio\n",
        "\n",
        "dpoly = poly.deriv()\n",
        "print(dpoly)"
      ],
      "execution_count": null,
      "outputs": [
        {
          "output_type": "stream",
          "text": [
            "    9      8      7      6      5      4      3      2\n",
            "20 x + 36 x + 56 x - 63 x - 54 x - 50 x + 68 x + 66 x - 50 x - 26\n"
          ],
          "name": "stdout"
        }
      ]
    },
    {
      "cell_type": "code",
      "metadata": {
        "colab": {
          "base_uri": "https://localhost:8080/"
        },
        "id": "Hn32Ze31muzG",
        "outputId": "34c531f6-f67d-4a6c-f011-4fffedd44ce6"
      },
      "source": [
        "#Buscamos todas las raíces del polinomio\n",
        "\n",
        "roots = np.roots(poly)\n",
        "roots"
      ],
      "execution_count": null,
      "outputs": [
        {
          "output_type": "execute_result",
          "data": {
            "text/plain": [
              "array([-1.27562701+1.81178797j, -1.27562701-1.81178797j,\n",
              "       -0.46263109+1.45104731j, -0.46263109-1.45104731j,\n",
              "       -1.02228002+0.41003082j, -1.02228002-0.41003082j,\n",
              "        0.77129391+0.63536062j,  0.77129391-0.63536062j,\n",
              "        1.        +0.j        ,  0.97848841+0.j        ])"
            ]
          },
          "metadata": {},
          "execution_count": 219
        }
      ]
    },
    {
      "cell_type": "code",
      "metadata": {
        "id": "UV47jpPjoG8U"
      },
      "source": [
        "#Seleccionamos las raíces reales\n",
        "\n",
        "real_roots = [1.0000000000000087,0.978488412671267]"
      ],
      "execution_count": null,
      "outputs": []
    },
    {
      "cell_type": "code",
      "metadata": {
        "colab": {
          "base_uri": "https://localhost:8080/",
          "height": 513
        },
        "id": "iRl3tHzTokBI",
        "outputId": "470d4ce6-da6f-471a-c1fe-b56fe0589226"
      },
      "source": [
        "#Graficación \n",
        "\n",
        "plt.figure( figsize = (10,8) )\n",
        "X = np.linspace(-0.8,1.2,1000)   #Definimos el espacio de mapeo\n",
        "plt.plot(X,poly(X), label = 'p(x)')   #Graficación del polinomio\n",
        "plt.plot(X, dpoly(X), label = 'p´(x)' ) #Graficación de la derivada del polinomio\n",
        "plt.plot(1.0000000000000087, poly(1.0000000000000087), 'r.') #Graficación de la primera raíz\n",
        "plt.plot(0.978488412671267, poly(0.978488412671267), 'g.') #Graficación de la segunda raíz\n",
        "plt.legend()   #Rotulación\n",
        "plt.xlabel('x')\n",
        "plt.ylabel('y')\n",
        "plt.title('Graficas del polinomio y su derivada')\n",
        "plt.grid(True)"
      ],
      "execution_count": null,
      "outputs": [
        {
          "output_type": "display_data",
          "data": {
            "image/png": "[encoded data removed]",
            "text/plain": [
              "<Figure size 720x576 with 1 Axes>"
            ]
          },
          "metadata": {
            "needs_background": "light"
          }
        }
      ]
    },
    {
      "cell_type": "markdown",
      "metadata": {
        "id": "SCYzhddbXPJi"
      },
      "source": [
        "#B)\n",
        "\n",
        "I) Usando como semilla el número de su cédula, genere de forma aletoria un número entero entre 1 y 5\n",
        "\n",
        "II) De acuerdo al entero obtenido, escoja una de las siguientes cinco funciones \n",
        "1. $$x\\operatorname{e}^x=p\\,, $$\n",
        "2. $$\\frac{\\sin x}{x}=+p\\,,$$\n",
        "3. $$\\frac{\\sin x}{x}=-p\\,,$$\n",
        "4. $$\\frac{\\cos x}{x}=+p\\,,$$\n",
        "5. $$\\frac{\\cos x}{x}=-p\\,,$$\n",
        "\n",
        "III) Genere un número aleatorio entre 0 y 1 y asignelo al valor de $p$\n",
        "\n",
        "IV) Encuentre las soluciones a la ecuación trascendental para el intervalo $x$ entre -10 y 10 y gráfique la correspondiente función trascendental y las correspondientes soluciones. Se tendrá en cuenta la estética del gráfico presentado incluyendo la rotulación adecuada del mismo.\n",
        "\n",
        "A modo de nota curiosa: estas ecuaciones trascendentales están asociadas a soluciones de la ecuación de Schödinger en mecánica cuántica: https://doi.org/10.1080/14786435.2015.1081425"
      ]
    },
    {
      "cell_type": "code",
      "metadata": {
        "colab": {
          "base_uri": "https://localhost:8080/"
        },
        "id": "cWUDxLoertwB",
        "outputId": "09129a23-4771-4fbf-d18b-e367cc081792"
      },
      "source": [
        "#Generación del número aleatorio\n",
        "\n",
        "random.seed(1017270713)\n",
        "random.randint(1,5)"
      ],
      "execution_count": null,
      "outputs": [
        {
          "output_type": "execute_result",
          "data": {
            "text/plain": [
              "5"
            ]
          },
          "metadata": {},
          "execution_count": 223
        }
      ]
    },
    {
      "cell_type": "code",
      "metadata": {
        "id": "EKNwqvGotXrY"
      },
      "source": [
        "#Se me asigna f(x) = cosx/x + p\n",
        "\n",
        "p = random.random()"
      ],
      "execution_count": null,
      "outputs": []
    },
    {
      "cell_type": "code",
      "metadata": {
        "id": "JwG-meFOtgIB"
      },
      "source": [
        "#Se define la función\n",
        "\n",
        "f = lambda x: np.cos(x)/x + p"
      ],
      "execution_count": 250,
      "outputs": []
    },
    {
      "cell_type": "code",
      "metadata": {
        "colab": {
          "base_uri": "https://localhost:8080/",
          "height": 513
        },
        "id": "quItx08duKG4",
        "outputId": "00d41818-af33-4eda-e4b8-85446a5c21ff"
      },
      "source": [
        "#Graficación\n",
        "\n",
        "plt.figure( figsize = (10,8) )\n",
        "X_1 = np.linspace( -10, 10, 200 )  #Definimos el espacio de mapeo\n",
        "plt.plot( X_1, f(X_1), label = 'f(x)' ) #Graficamos la función\n",
        "plt.plot( r_1, f(r_1), 'r.', label = f'r_1 = {r_1}' ) #Graficamos la raíz\n",
        "plt.legend()\n",
        "plt.xlabel('x')\n",
        "plt.ylabel( 'f(x)' )\n",
        "plt.title('Gráfica de la función f(x)')\n",
        "plt.grid(True)"
      ],
      "execution_count": 253,
      "outputs": [
        {
          "output_type": "display_data",
          "data": {
            "image/png": "[encoded data removed]",
            "text/plain": [
              "<Figure size 720x576 with 1 Axes>"
            ]
          },
          "metadata": {
            "needs_background": "light"
          }
        }
      ]
    },
    {
      "cell_type": "code",
      "metadata": {
        "colab": {
          "base_uri": "https://localhost:8080/"
        },
        "id": "QxmGiASVuGq5",
        "outputId": "e467820a-d4fd-4684-fd9d-2dc0c97504ed"
      },
      "source": [
        "#Definimos la raíz\n",
        "\n",
        "r_1 = optimize.bisect(f, -2, -0.5)\n",
        "r_1"
      ],
      "execution_count": 252,
      "outputs": [
        {
          "output_type": "execute_result",
          "data": {
            "text/plain": [
              "-0.8557662322596116"
            ]
          },
          "metadata": {},
          "execution_count": 252
        }
      ]
    }
  ]
}