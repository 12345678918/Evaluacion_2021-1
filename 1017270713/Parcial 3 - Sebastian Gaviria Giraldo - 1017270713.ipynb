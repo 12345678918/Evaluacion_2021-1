{
  "nbformat": 4,
  "nbformat_minor": 0,
  "metadata": {
    "kernelspec": {
      "display_name": "Python 3 (ipykernel)",
      "language": "python",
      "name": "python3"
    },
    "language_info": {
      "codemirror_mode": {
        "name": "ipython",
        "version": 3
      },
      "file_extension": ".py",
      "mimetype": "text/x-python",
      "name": "python",
      "nbconvert_exporter": "python",
      "pygments_lexer": "ipython3",
      "version": "3.7.3"
    },
    "colab": {
      "name": "Parcial 3 - Sebastian Gaviria Giraldo - 1017270713",
      "provenance": []
    }
  },
  "cells": [
    {
      "cell_type": "markdown",
      "metadata": {
        "id": "40WhQJy2EWqx"
      },
      "source": [
        "# Casas-Ibarra\n",
        "Let $\\boldsymbol{A}$ $3\\times3$ a symmetric non-diagonal matrix with the following set of eigenvalues and eigenvectors:\n"
      ]
    },
    {
      "cell_type": "markdown",
      "metadata": {
        "id": "cwKjVMtNvgl0"
      },
      "source": [
        "____"
      ]
    },
    {
      "cell_type": "markdown",
      "metadata": {
        "id": "G-uQDCOkvgl0"
      },
      "source": [
        "### Eigenvalues\n",
        "The normal ordering of the absolute value of the eigenvalues is $m_1<m_2<m_3$. Each eigenvalue is expressed in units of eV, which just of an energy unit.\n",
        "### Eigenvectors\n",
        "The eigenvectors in the normal ordering are defined by\n",
        "$$\n",
        "\\boldsymbol{U}^T \\boldsymbol{A} \\boldsymbol{U}=\n",
        "\\begin{pmatrix}\n",
        "m_1& 0 & 0\\\\\n",
        "0 & m_2& 0\\\\\n",
        "0 & 0 & m_3\\\\\n",
        "\\end{pmatrix}.\n",
        "$$\n",
        "The unitary matrix can be parameterized in terms of three mixing angles, $\\theta_{23}$ $\\theta_{13}$, $\\theta_{12}$, such that\n",
        "$$\n",
        "\\boldsymbol{U}=\\left(\\begin{array}{ccc}\n",
        "1 & 0 & 0 \\\\\n",
        "0 & c_{23} & s_{23} \\\\\n",
        "0 & -s_{23} & c_{23}\n",
        "\\end{array}\\right) \\cdot\\left(\\begin{array}{ccc}\n",
        "c_{13} & 0 & s_{13}  \\\\\n",
        "0 & 1 & 0 \\\\\n",
        "-s_{13}  & 0 & c_{13}\n",
        "\\end{array}\\right) \\cdot\\left(\\begin{array}{ccc}\n",
        "c_{12} & s_{12} & 0 \\\\\n",
        "-s_{12} & c_{12} & 0 \\\\\n",
        "0 & 0 & 1\n",
        "\\end{array}\\right),\n",
        "$$\n",
        "where $c_{i j} \\equiv \\cos \\theta_{i j}$ and $s_{i j} \\equiv \\sin \\theta_{i j}$. Thus, we can write $\\boldsymbol{U}$ as\n",
        "$$\n",
        "\\boldsymbol{U}=\\left(\\begin{array}{ccc}c_{12} c_{13} & s_{12} c_{13} & s_{13}  \\\\ -s_{12} c_{23}-c_{12} s_{13} s_{23}& c_{12} c_{23}-s_{12} s_{13} s_{23}  & c_{13} s_{23} \\\\ s_{12} s_{23}-c_{12} s_{13} c_{23} & -c_{12} s_{23}-s_{12} s_{13} c_{23}  & c_{13} c_{23}\\end{array}\\right)\n",
        "$$\n",
        "so that\n",
        "$$\n",
        "\\boldsymbol{U}_1=\\begin{pmatrix}U_{e1}\\\\ U_{\\mu 1}\\\\ U_{\\tau 1}\\end{pmatrix}=\\begin{pmatrix}\n",
        "c_{12} c_{13} \\\\\n",
        "-s_{12} c_{23}-c_{12} s_{13} s_{23}  \\\\\n",
        "s_{12} s_{23}-c_{12} s_{13} c_{23} \n",
        "\\end{pmatrix},\\qquad \n",
        "\\boldsymbol{U}_2=\\begin{pmatrix}U_{e2}\\\\ U_{\\mu 2}\\\\ U_{\\tau 2}\\end{pmatrix}=\\begin{pmatrix}\n",
        "s_{12} c_{13} \\\\\n",
        "c_{12} c_{23}-s_{12} s_{13} s_{23}  \\\\\n",
        "-c_{12} s_{23}-s_{12} s_{13} c_{23} \n",
        "\\end{pmatrix},\\qquad\n",
        "\\boldsymbol{U}_3=\\begin{pmatrix}U_{e3}\\\\ U_{\\mu 3}\\\\ U_{\\tau 3}\\end{pmatrix}=\\begin{pmatrix}\n",
        "s_{13}  \\\\\n",
        "c_{13} s_{23} \\\\\n",
        "c_{13} c_{23}\n",
        "\\end{pmatrix}\n",
        "$$\n",
        "\n",
        "### Data\n",
        "Use the _central values_  of the following table but ignoring $\\delta_{CP}$ (In the previous equations was fixed to $\\delta_{CP}=0$). __Hint__: take care of the denominator in the first colum.\n",
        "\n",
        "![IMAGE](https://github.com/restrepo/ComputationalMethods/raw/master/material/figures/nu.png)\n",
        "\n",
        "where $\\Delta m^2_{ij}=m^2_i-m^2_j$ is the squared mass difference between eigenvalues $i$ and $j$; in units of $\\text{eV}^2$.\n"
      ]
    },
    {
      "cell_type": "markdown",
      "metadata": {
        "id": "bnSCrqmSvgl1"
      },
      "source": [
        "### Casas-Ibarra parameterization\n",
        "We can assumme without lost of generality that $\\boldsymbol{A}$ can be generated from a matrix $\\boldsymbol{Y}$ such that\n",
        "$$\n",
        "\\boldsymbol{A}=\\boldsymbol{Y}^{\\operatorname{T}}\\boldsymbol{Y}\n",
        "$$\n",
        "\n",
        "The matrix $\\boldsymbol{Y}$ can be parameterized in terms of an arbitray orthogonal $3\\times 3$ matrix, $\\boldsymbol{R}$, as\n",
        "$$\n",
        "\\boldsymbol{Y}=\\boldsymbol{R} \\boldsymbol{D}_{\\sqrt{m}} \\boldsymbol{U}^{\\operatorname{T}}\n",
        "$$\n",
        "\n",
        "\n",
        "* $R$ is an orthogonal $3\\times 3$ matrix, with three rotation angles $\\alpha_{ij}$ between $(0,2\\pi)$\n",
        "$$\n",
        "\\boldsymbol{R}=\\left(\\begin{array}{ccc}c^\\alpha_{12} c^\\alpha_{13} & s^\\alpha_{12} c^\\alpha_{13} & s^\\alpha_{13}  \\\\ -s^\\alpha_{12} c^\\alpha_{23}-c^\\alpha_{12} s^\\alpha_{13} s^\\alpha_{23}& c^\\alpha_{12} c^\\alpha_{23}-s^\\alpha_{12} s^\\alpha_{13} s^\\alpha_{23}  & c^\\alpha_{13} s^\\alpha_{23} \\\\ s^\\alpha_{12} s^\\alpha_{23}-c^\\alpha_{12} s^\\alpha_{13} c^\\alpha_{23} & -c^\\alpha_{12} s^\\alpha_{23}-s^\\alpha_{12} s^\\alpha_{13} c^\\alpha_{23}  & c^\\alpha_{13} c^\\alpha_{23}\\end{array}\\right)\n",
        "$$\n",
        "where $c^\\alpha_{i j} \\equiv \\cos \\alpha_{i j}$ and $s^\\alpha_{i j} \\equiv \\sin \\alpha_{i j}$.\n",
        "\n",
        "* $$\n",
        " \\boldsymbol{D}_{\\sqrt{m}}=\\operatorname{diag}\\left(\\sqrt{m_1},\\sqrt{m_2},\\sqrt{m_3}\\right)\n",
        "$$"
      ]
    },
    {
      "cell_type": "markdown",
      "metadata": {
        "id": "Iqj7EWSPvgl3"
      },
      "source": [
        "### Problem\n",
        "1. Choose a random value for $m_1$ between $10^{-9}\\ \\text{eV}$ and $10^{-4}\\ \\text{eV}$. Note that because of the wide range, the random variation  must be in the exponents. Obtain the corresponding $m_2$ and $m_3$ with the proper normal ordering.\n",
        "1. Choose random values for $\\alpha_{ij}$  between $(0,2\\pi)$\n",
        "1. Obtain $\\boldsymbol{Y}$\n",
        "1. Check that the generated $\\boldsymbol{A}$ has the proper eigenvalues and eigenvectors\n",
        "1. Check that the eigenvalues of $\\boldsymbol{Y}$ correspond to the square root of the eigenvalues of $\\boldsymbol{A}$ and explain why."
      ]
    },
    {
      "cell_type": "markdown",
      "metadata": {
        "id": "nogCGwDT3LYG"
      },
      "source": [
        "#Solución del Parcial"
      ]
    },
    {
      "cell_type": "markdown",
      "metadata": {
        "id": "pBhfJpMu3RcE"
      },
      "source": [
        "##Importación de librerías"
      ]
    },
    {
      "cell_type": "code",
      "metadata": {
        "id": "hDRwHxzF3KLV"
      },
      "source": [
        "import numpy as np\n",
        "import random as random"
      ],
      "execution_count": 164,
      "outputs": []
    },
    {
      "cell_type": "markdown",
      "metadata": {
        "id": "4TVmrLvFGimO"
      },
      "source": [
        "##**Punto 1**"
      ]
    },
    {
      "cell_type": "code",
      "metadata": {
        "id": "2J0n-8Rfvqks"
      },
      "source": [
        "#Tenemos que el exponente de m1 será:\n",
        "u = np.random.randint( -9, -4 )\n",
        "m1 = 10**u"
      ],
      "execution_count": 167,
      "outputs": []
    },
    {
      "cell_type": "code",
      "metadata": {
        "colab": {
          "base_uri": "https://localhost:8080/"
        },
        "id": "u4gPgmVm6FSc",
        "outputId": "fc2c9113-ef6e-46cd-c2dd-5b09765b45fa"
      },
      "source": [
        "m1 #Este es el valor de m1"
      ],
      "execution_count": 168,
      "outputs": [
        {
          "output_type": "execute_result",
          "data": {
            "text/plain": [
              "1e-05"
            ]
          },
          "metadata": {},
          "execution_count": 168
        }
      ]
    },
    {
      "cell_type": "code",
      "metadata": {
        "id": "BmK035bg9QF0"
      },
      "source": [
        "#De acuerdo a los valores de la tabla, podemos hallar m2 y m3 respecto a m1\n",
        "Δm21 = 7.39E-5\n",
        "m2 = np.sqrt(Δm21 + m1**2)\n",
        "Δm32 = 2.449E-3\n",
        "m3 = np.sqrt(Δm32+m2)"
      ],
      "execution_count": 169,
      "outputs": []
    },
    {
      "cell_type": "code",
      "metadata": {
        "colab": {
          "base_uri": "https://localhost:8080/"
        },
        "id": "geZaurdT-5QJ",
        "outputId": "0cd682c3-56af-4e2c-bb9a-40b413b3284f"
      },
      "source": [
        "#Nótese que se cumple el orden normal\n",
        "m1 < m2 < m3"
      ],
      "execution_count": 170,
      "outputs": [
        {
          "output_type": "execute_result",
          "data": {
            "text/plain": [
              "True"
            ]
          },
          "metadata": {},
          "execution_count": 170
        }
      ]
    },
    {
      "cell_type": "markdown",
      "metadata": {
        "id": "3tejzf3GGeIt"
      },
      "source": [
        "##**Punto 2**"
      ]
    },
    {
      "cell_type": "code",
      "metadata": {
        "id": "RzHMZjNn_3ze"
      },
      "source": [
        "#Construcción de los alfas aleatorios\n",
        "alfas = np.zeros(3)\n",
        "for i in range(3):\n",
        "  alfas[i] = random.uniform(0,2*np.pi)"
      ],
      "execution_count": 172,
      "outputs": []
    },
    {
      "cell_type": "code",
      "metadata": {
        "id": "SweEwapPBG2H"
      },
      "source": [
        "#Definición de los alfas individualmente\n",
        "α12 = alfas[0]\n",
        "α13 = alfas[1]\n",
        "α23 = alfas[2]"
      ],
      "execution_count": 173,
      "outputs": []
    },
    {
      "cell_type": "markdown",
      "metadata": {
        "id": "yAoq2GSYGX8M"
      },
      "source": [
        "##**Punto 3**"
      ]
    },
    {
      "cell_type": "code",
      "metadata": {
        "id": "NIO_bVlyDPtC"
      },
      "source": [
        "#De acuerdo a los valores de la tabla, definimos los thetas para la matriz U\n",
        "θ12 = np.deg2rad(33.82)\n",
        "θ23 = np.deg2rad(48.3)\n",
        "θ13 = np.deg2rad(8.61)"
      ],
      "execution_count": 174,
      "outputs": []
    },
    {
      "cell_type": "code",
      "metadata": {
        "id": "6adWO4E7HG2Y"
      },
      "source": [
        "#Definición de los coeficientes para construir la matriz U\n",
        "c12 = np.cos(θ12)\n",
        "s12 = np.sin(θ12)\n",
        "c13 = np.cos(θ13)\n",
        "s13 = np.sin(θ13)\n",
        "c23 = np.cos(θ23)\n",
        "s23 = np.sin(θ23)"
      ],
      "execution_count": 175,
      "outputs": []
    },
    {
      "cell_type": "code",
      "metadata": {
        "id": "NBp5J2A8HCvP"
      },
      "source": [
        "#Definimos los valores de 3 columnas, tal que la multiplicación de estas matrices es igual a U\n",
        "\n",
        "col1 = np.array([ [1,   0,   0],\n",
        "                   [0, c23, s23],\n",
        "                   [0, -s23,c23] ])\n",
        "\n",
        "col2 = np.array([ [c13, 0,  s13],\n",
        "                   [0,    1,   0],\n",
        "                   [-s13, 0, c13] ])\n",
        "\n",
        "col3 = np.array([ [c12, s12,   0],\n",
        "                   [-s12, c12,  0],\n",
        "                   [0,     0,   1] ])"
      ],
      "execution_count": 180,
      "outputs": []
    },
    {
      "cell_type": "code",
      "metadata": {
        "colab": {
          "base_uri": "https://localhost:8080/"
        },
        "id": "cfsSGJASyfQX",
        "outputId": "22aac0e3-43dd-40de-9b41-b124a8c810e1"
      },
      "source": [
        "#Construcción de la matriz U\n",
        "U = np.dot(col1,np.dot(col2,col3))\n",
        "U"
      ],
      "execution_count": 185,
      "outputs": [
        {
          "output_type": "execute_result",
          "data": {
            "text/plain": [
              "array([[ 0.82142745,  0.55031308,  0.14970791],\n",
              "       [-0.46312144,  0.49045305,  0.73822377],\n",
              "       [ 0.33282949, -0.67573021,  0.65773339]])"
            ]
          },
          "metadata": {},
          "execution_count": 185
        }
      ]
    },
    {
      "cell_type": "code",
      "metadata": {
        "colab": {
          "base_uri": "https://localhost:8080/"
        },
        "id": "vyUCYBy0Jrch",
        "outputId": "8272fc5c-eb50-4f96-ee65-291d6898be45"
      },
      "source": [
        "#Construcción de la matriz diag(m1,m2,m3)\n",
        "D_s = np.diag(np.sqrt([m1,m2,m3]))\n",
        "D_s"
      ],
      "execution_count": 186,
      "outputs": [
        {
          "output_type": "execute_result",
          "data": {
            "text/plain": [
              "array([[0.00316228, 0.        , 0.        ],\n",
              "       [0.        , 0.0927174 , 0.        ],\n",
              "       [0.        , 0.        , 0.32418768]])"
            ]
          },
          "metadata": {},
          "execution_count": 186
        }
      ]
    },
    {
      "cell_type": "code",
      "metadata": {
        "id": "x1uGoeQNLvgT"
      },
      "source": [
        "#Definición de los coeficientes para construir la matriz R\n",
        "c_12 = np.cos(α12)\n",
        "s_12 = np.sin(α12)\n",
        "c_13 = np.cos(α13)\n",
        "s_13 = np.sin(α13)\n",
        "c_23 = np.cos(α23)\n",
        "s_23 = np.sin(α23)"
      ],
      "execution_count": 187,
      "outputs": []
    },
    {
      "cell_type": "code",
      "metadata": {
        "id": "bI_9sVZFLa3I"
      },
      "source": [
        "#Definimos las filas para la matriz R\n",
        "R1 = np.array([ c_12*c_13, c_13*s_13, s_13 ])\n",
        "R2 = np.array([ -s_12*c_23 -c_12*s_13*s_23, c_12*c_23 - s_12*s_13*s_23, c_13*s_23 ])\n",
        "R3 = np.array([ s_12*s_23 -c_12*s_13*c_23, -c_12*s_23 - s_12*s_13*c_23, c_13*c_23 ])"
      ],
      "execution_count": 189,
      "outputs": []
    },
    {
      "cell_type": "code",
      "metadata": {
        "colab": {
          "base_uri": "https://localhost:8080/"
        },
        "id": "uMiywPvZN8uw",
        "outputId": "c19275d8-bca6-4879-f4b4-af322dce1159"
      },
      "source": [
        "#Construcción de la matriz R\n",
        "R = np.array( [ R1, R2, R3 ] )\n",
        "R"
      ],
      "execution_count": 190,
      "outputs": [
        {
          "output_type": "execute_result",
          "data": {
            "text/plain": [
              "array([[ 0.07498562, -0.07889128, -0.99686355],\n",
              "       [ 0.23116523, -0.97288708, -0.00730532],\n",
              "       [-0.97002051, -0.2298924 , -0.0788016 ]])"
            ]
          },
          "metadata": {},
          "execution_count": 190
        }
      ]
    },
    {
      "cell_type": "code",
      "metadata": {
        "colab": {
          "base_uri": "https://localhost:8080/"
        },
        "id": "SnHxAP3VOdzN",
        "outputId": "78e0bcc5-1720-4a84-d69a-2be9a1abc2dd"
      },
      "source": [
        "#Según su definición, construimos la matriz Y\n",
        "Y = np.dot(R,np.dot(D_s,np.transpose(U)))\n",
        "Y"
      ],
      "execution_count": 192,
      "outputs": [
        {
          "output_type": "execute_result",
          "data": {
            "text/plain": [
              "array([[-0.05221177, -0.24226971, -0.20753867],\n",
              "       [-0.04939428, -0.04632749,  0.05963887],\n",
              "       [-0.01807416, -0.02789245, -0.00342053]])"
            ]
          },
          "metadata": {},
          "execution_count": 192
        }
      ]
    },
    {
      "cell_type": "markdown",
      "metadata": {
        "id": "vmD1b937O19g"
      },
      "source": [
        "##**Punto 4**"
      ]
    },
    {
      "cell_type": "code",
      "metadata": {
        "colab": {
          "base_uri": "https://localhost:8080/"
        },
        "id": "kDpXIAIxO8LG",
        "outputId": "b38243fc-ccc2-4454-f6eb-4245c6308c13"
      },
      "source": [
        "#Definimos la matriz A\n",
        "A = np.dot(np.transpose(Y),Y)\n",
        "A"
      ],
      "execution_count": 193,
      "outputs": [
        {
          "output_type": "execute_result",
          "data": {
            "text/plain": [
              "array([[0.00549254, 0.01544178, 0.00795197],\n",
              "       [0.01544178, 0.06161884, 0.04761282],\n",
              "       [0.00795197, 0.04761282, 0.04664079]])"
            ]
          },
          "metadata": {},
          "execution_count": 193
        }
      ]
    },
    {
      "cell_type": "code",
      "metadata": {
        "id": "xCJGhBQiQXka"
      },
      "source": [
        "#Resolvemos el eigenproblem para A\n",
        "W = np.linalg.eigvals(A)\n",
        "E, V = np.linalg.eig(A)"
      ],
      "execution_count": 201,
      "outputs": []
    },
    {
      "cell_type": "code",
      "metadata": {
        "colab": {
          "base_uri": "https://localhost:8080/"
        },
        "id": "95FXEt6M1bih",
        "outputId": "f6bc8974-23d9-4565-e407-0efeaf2151b4"
      },
      "source": [
        "np.sort(E) #Ordenamiento de mayor a menor, nótese que los autovalores coinciden con las m, con mínimos errores computacionales"
      ],
      "execution_count": 203,
      "outputs": [
        {
          "output_type": "execute_result",
          "data": {
            "text/plain": [
              "array([9.99938565e-06, 8.54356850e-03, 1.05198602e-01])"
            ]
          },
          "metadata": {},
          "execution_count": 203
        }
      ]
    },
    {
      "cell_type": "code",
      "metadata": {
        "colab": {
          "base_uri": "https://localhost:8080/"
        },
        "id": "bqHnFa6f1iXU",
        "outputId": "b2a66921-89d6-427f-aa5b-a7fee8da1530"
      },
      "source": [
        "#Reordenamiento de indices\n",
        "index = np.abs(E).argsort()\n",
        "index"
      ],
      "execution_count": 205,
      "outputs": [
        {
          "output_type": "execute_result",
          "data": {
            "text/plain": [
              "array([1, 2, 0])"
            ]
          },
          "metadata": {},
          "execution_count": 205
        }
      ]
    },
    {
      "cell_type": "code",
      "metadata": {
        "colab": {
          "base_uri": "https://localhost:8080/"
        },
        "id": "APiFizujd5KQ",
        "outputId": "bbbc581e-4e6b-4823-b475-1d57f75b4860"
      },
      "source": [
        "#Dado que los autovectores salen con signos opuestos, debemos multiplicar por -1 la matriz de autovectores\n",
        "V = -V\n",
        "V"
      ],
      "execution_count": 206,
      "outputs": [
        {
          "output_type": "execute_result",
          "data": {
            "text/plain": [
              "array([[ 0.16741388,  0.82157381,  0.54496703],\n",
              "       [ 0.7536887 , -0.46299578,  0.46646356],\n",
              "       [ 0.63555168,  0.33264302, -0.69672282]])"
            ]
          },
          "metadata": {},
          "execution_count": 206
        }
      ]
    },
    {
      "cell_type": "code",
      "metadata": {
        "colab": {
          "base_uri": "https://localhost:8080/"
        },
        "id": "4fHyTikyfzQn",
        "outputId": "9bfe1c9f-7cd0-447b-e28b-df1499c6b24d"
      },
      "source": [
        "#Reordenamiento de la matriz de autovectores, para que se vea claro que V coincide con U\n",
        "np.c_[ tuple( np.c_[V[:,i]]  for i in range(3)) ]"
      ],
      "execution_count": 215,
      "outputs": [
        {
          "output_type": "execute_result",
          "data": {
            "text/plain": [
              "array([[ 0.16741388,  0.82157381,  0.54496703],\n",
              "       [ 0.7536887 , -0.46299578,  0.46646356],\n",
              "       [ 0.63555168,  0.33264302, -0.69672282]])"
            ]
          },
          "metadata": {},
          "execution_count": 215
        }
      ]
    },
    {
      "cell_type": "code",
      "metadata": {
        "colab": {
          "base_uri": "https://localhost:8080/"
        },
        "id": "5fxgCX752o9H",
        "outputId": "180886b5-f87a-46e3-fdc6-b096d1ae36cf"
      },
      "source": [
        "#Reordenamiento de la matriz de autovectores, para que se vea claro que V coincide con U\n",
        "V = np.c_[ tuple( np.c_[V[:,i]]  for i in index) ]\n",
        "V"
      ],
      "execution_count": 216,
      "outputs": [
        {
          "output_type": "execute_result",
          "data": {
            "text/plain": [
              "array([[ 0.82157381,  0.54496703,  0.16741388],\n",
              "       [-0.46299578,  0.46646356,  0.7536887 ],\n",
              "       [ 0.33264302, -0.69672282,  0.63555168]])"
            ]
          },
          "metadata": {},
          "execution_count": 216
        }
      ]
    },
    {
      "cell_type": "code",
      "metadata": {
        "colab": {
          "base_uri": "https://localhost:8080/"
        },
        "id": "7YJdMUjnW45A",
        "outputId": "ecaa60b8-f830-446d-9c0d-8a832c6dfeca"
      },
      "source": [
        "#Nótese que el error en la resta de valores uno a uno entre V y U es relativamente pequeño\n",
        "abs(V-U)"
      ],
      "execution_count": 234,
      "outputs": [
        {
          "output_type": "execute_result",
          "data": {
            "text/plain": [
              "array([[0.00014636, 0.00534605, 0.01770596],\n",
              "       [0.00012567, 0.02398949, 0.01546493],\n",
              "       [0.00018647, 0.02099261, 0.02218171]])"
            ]
          },
          "metadata": {},
          "execution_count": 234
        }
      ]
    },
    {
      "cell_type": "markdown",
      "metadata": {
        "id": "yyqRIq8fikwt"
      },
      "source": [
        "##**Punto 5**"
      ]
    },
    {
      "cell_type": "code",
      "metadata": {
        "colab": {
          "base_uri": "https://localhost:8080/"
        },
        "id": "a6txB2PmirXR",
        "outputId": "20bdec92-0088-4883-f1ee-f8bf8db6bf30"
      },
      "source": [
        "#Resolvemos el eigenproblem para Y\n",
        "E1, V1 = np.linalg.eig(Y)\n",
        "E1 = abs(E1)\n",
        "E1 = np.sort(E1)\n",
        "E1"
      ],
      "execution_count": 231,
      "outputs": [
        {
          "output_type": "execute_result",
          "data": {
            "text/plain": [
              "array([0.00787426, 0.07234036, 0.16642589])"
            ]
          },
          "metadata": {},
          "execution_count": 231
        }
      ]
    },
    {
      "cell_type": "code",
      "metadata": {
        "colab": {
          "base_uri": "https://localhost:8080/"
        },
        "id": "eAGEmqMDlvhL",
        "outputId": "d82a70ae-d19c-4d22-c9b1-87b489003ccf"
      },
      "source": [
        "#Autovalores de Y elevados al cuadrado\n",
        "E2 = E1**2\n",
        "E2"
      ],
      "execution_count": 232,
      "outputs": [
        {
          "output_type": "execute_result",
          "data": {
            "text/plain": [
              "array([6.20039702e-05, 5.23312737e-03, 2.76975776e-02])"
            ]
          },
          "metadata": {},
          "execution_count": 232
        }
      ]
    },
    {
      "cell_type": "code",
      "metadata": {
        "colab": {
          "base_uri": "https://localhost:8080/"
        },
        "id": "v_P2UGtt3dbv",
        "outputId": "be3a42b6-8469-4c2c-9bce-8651bcda019d"
      },
      "source": [
        "#Nótese la diferencia entre los autovalores de A y los autovalores de Y elevados al cuadrado\n",
        "abs(np.sort(E) - E2)"
      ],
      "execution_count": 233,
      "outputs": [
        {
          "output_type": "execute_result",
          "data": {
            "text/plain": [
              "array([5.20045846e-05, 3.31044113e-03, 7.75010243e-02])"
            ]
          },
          "metadata": {},
          "execution_count": 233
        }
      ]
    },
    {
      "cell_type": "markdown",
      "metadata": {
        "id": "rHLubjtcrsHm"
      },
      "source": [
        "Nótese que $U^{-1} = U^{\\operatorname{T}}$ y $R^{-1} = R^{\\operatorname{T}}$ por la condición de ortogonalidad. Además, tenemos que $\n",
        "\\boldsymbol{Y}=\\boldsymbol{R} \\boldsymbol{D}_{\\sqrt{m}} \\boldsymbol{U}^{\\operatorname{T}}\n",
        "$ y por otro lado, $\\boldsymbol{A} = \\boldsymbol{Y}^{\\operatorname{T}}\\boldsymbol{Y}$. Por la estructura de la ecuación, podemos interpretar a  $\\boldsymbol{D}_{\\sqrt{m}}$ como la matriz diagonal de $\\boldsymbol{Y}$ y ahora veamos que, \n",
        "\n",
        "$$\\boldsymbol{Y}^{\\operatorname{T}}=\\boldsymbol{U} \\boldsymbol{D}_{\\sqrt{m}} \\boldsymbol{R}^{\\operatorname{T}}$$\n",
        "$$\\boldsymbol{A} = \\boldsymbol{Y}^{\\operatorname{T}}\\boldsymbol{Y} = \\boldsymbol{U} \\boldsymbol{D}_{\\sqrt{m}} \\boldsymbol{R}^{\\operatorname{T}}\\boldsymbol{R} \\boldsymbol{D}_{\\sqrt{m}} \\boldsymbol{U}^{\\operatorname{T}} = \\boldsymbol{U}\\boldsymbol{D}_{\\sqrt{m}}^2\\boldsymbol{U}^{\\operatorname{T}} $$\n",
        "$$\\boldsymbol{A}=\\boldsymbol{U}\\boldsymbol{D}_{\\sqrt{m}}^2\\boldsymbol{U}^{\\operatorname{T}}$$\n",
        "Pero vimos que $\\boldsymbol{Y_{diag}}=\\boldsymbol{D}_{\\sqrt{m}}$ por lo tanto, \n",
        "$$\\boldsymbol{U}^{\\operatorname{T}}\\boldsymbol{A}\\boldsymbol{U}=\\boldsymbol{Y_{diag}}^2$$\n",
        "\n",
        "Lo que quiere decir que $\\boldsymbol{A_{diag}}=\\boldsymbol{Y_{diag}}^2$"
      ]
    }
  ]
}