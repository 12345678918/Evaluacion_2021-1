{
  "nbformat": 4,
  "nbformat_minor": 0,
  "metadata": {
    "colab": {
      "name": "Untitled29.ipynb",
      "provenance": []
    },
    "kernelspec": {
      "name": "python3",
      "display_name": "Python 3"
    },
    "language_info": {
      "name": "python"
    }
  },
  "cells": [
    {
      "cell_type": "code",
      "metadata": {
        "colab": {
          "base_uri": "https://localhost:8080/"
        },
        "id": "xzvl9aIy0t02",
        "outputId": "c5db45b8-beaf-47cc-96f7-5d04dd87619c"
      },
      "source": [
        "import numpy as np\n",
        "import matplotlib, pylab as plt\n",
        "from scipy import optimize, interpolate, misc, integrate\n",
        "import pandas as pd\n",
        "import sympy as sp\n",
        "from sympy import simplify, symbols, expand, factor, sin, cos, init_printing\n",
        "init_printing"
      ],
      "execution_count": 67,
      "outputs": [
        {
          "output_type": "execute_result",
          "data": {
            "text/plain": [
              "<function sympy.interactive.printing.init_printing>"
            ]
          },
          "metadata": {},
          "execution_count": 67
        }
      ]
    },
    {
      "cell_type": "markdown",
      "metadata": {
        "id": "WM9DklBllh4J"
      },
      "source": [
        "#A).\n",
        "Los siguientes datos fueron extraidos de un [perfil real de Instragram](https://www.instagram.com/paulacano24/):\n",
        "\n",
        "https://raw.githubusercontent.com/restrepo/ComputationalMethods/master/data/Followers.json\n",
        "\n",
        "Interprete los datos como un problema de caida libre y a partir del ajuste (fit) a la correspondiente ecuación de movimiento, determine\n",
        "1. La velocidad inicial de incremento de seguidores en `followers/hour`\n",
        "1. La aceleración constante en `followers/hour**2`\n",
        "1. El número máximo de seguidores que alcanzaría el perfil\n",
        "1. La fecha en la que se alcanzaría dicho máximo"
      ]
    },
    {
      "cell_type": "code",
      "metadata": {
        "colab": {
          "base_uri": "https://localhost:8080/",
          "height": 419
        },
        "id": "jqRNPJkamSxR",
        "outputId": "4a4c3940-c9bd-4389-bc77-887cc814db89"
      },
      "source": [
        "#Copiamos el link y definimos el DataFrame\n",
        "\n",
        "path = 'https://raw.githubusercontent.com/restrepo/ComputationalMethods/master/data/Followers.json'\n",
        "df = pd.read_json( path )\n",
        "df"
      ],
      "execution_count": 43,
      "outputs": [
        {
          "output_type": "execute_result",
          "data": {
            "text/html": [
              "<div>\n",
              "<style scoped>\n",
              "    .dataframe tbody tr th:only-of-type {\n",
              "        vertical-align: middle;\n",
              "    }\n",
              "\n",
              "    .dataframe tbody tr th {\n",
              "        vertical-align: top;\n",
              "    }\n",
              "\n",
              "    .dataframe thead th {\n",
              "        text-align: right;\n",
              "    }\n",
              "</style>\n",
              "<table border=\"1\" class=\"dataframe\">\n",
              "  <thead>\n",
              "    <tr style=\"text-align: right;\">\n",
              "      <th></th>\n",
              "      <th>followers</th>\n",
              "      <th>date_time</th>\n",
              "      <th>hours</th>\n",
              "    </tr>\n",
              "  </thead>\n",
              "  <tbody>\n",
              "    <tr>\n",
              "      <th>0</th>\n",
              "      <td>42696</td>\n",
              "      <td>2021-08-04 22:06:53.668</td>\n",
              "      <td>0.000000</td>\n",
              "    </tr>\n",
              "    <tr>\n",
              "      <th>1</th>\n",
              "      <td>42706</td>\n",
              "      <td>2021-08-04 23:06:56.517</td>\n",
              "      <td>1.000791</td>\n",
              "    </tr>\n",
              "    <tr>\n",
              "      <th>2</th>\n",
              "      <td>42716</td>\n",
              "      <td>2021-08-05 00:06:59.505</td>\n",
              "      <td>2.001621</td>\n",
              "    </tr>\n",
              "    <tr>\n",
              "      <th>3</th>\n",
              "      <td>42734</td>\n",
              "      <td>2021-08-05 01:07:02.174</td>\n",
              "      <td>3.002363</td>\n",
              "    </tr>\n",
              "    <tr>\n",
              "      <th>4</th>\n",
              "      <td>42749</td>\n",
              "      <td>2021-08-05 02:07:04.854</td>\n",
              "      <td>4.003107</td>\n",
              "    </tr>\n",
              "    <tr>\n",
              "      <th>...</th>\n",
              "      <td>...</td>\n",
              "      <td>...</td>\n",
              "      <td>...</td>\n",
              "    </tr>\n",
              "    <tr>\n",
              "      <th>615</th>\n",
              "      <td>47452</td>\n",
              "      <td>2021-09-02 12:29:21.834</td>\n",
              "      <td>686.374491</td>\n",
              "    </tr>\n",
              "    <tr>\n",
              "      <th>616</th>\n",
              "      <td>47486</td>\n",
              "      <td>2021-09-02 19:59:32.801</td>\n",
              "      <td>693.877537</td>\n",
              "    </tr>\n",
              "    <tr>\n",
              "      <th>617</th>\n",
              "      <td>47491</td>\n",
              "      <td>2021-09-02 20:59:50.542</td>\n",
              "      <td>694.882465</td>\n",
              "    </tr>\n",
              "    <tr>\n",
              "      <th>618</th>\n",
              "      <td>47493</td>\n",
              "      <td>2021-09-02 21:59:59.345</td>\n",
              "      <td>695.884910</td>\n",
              "    </tr>\n",
              "    <tr>\n",
              "      <th>619</th>\n",
              "      <td>47498</td>\n",
              "      <td>2021-09-02 23:00:11.350</td>\n",
              "      <td>696.888245</td>\n",
              "    </tr>\n",
              "  </tbody>\n",
              "</table>\n",
              "<p>620 rows × 3 columns</p>\n",
              "</div>"
            ],
            "text/plain": [
              "     followers               date_time       hours\n",
              "0        42696 2021-08-04 22:06:53.668    0.000000\n",
              "1        42706 2021-08-04 23:06:56.517    1.000791\n",
              "2        42716 2021-08-05 00:06:59.505    2.001621\n",
              "3        42734 2021-08-05 01:07:02.174    3.002363\n",
              "4        42749 2021-08-05 02:07:04.854    4.003107\n",
              "..         ...                     ...         ...\n",
              "615      47452 2021-09-02 12:29:21.834  686.374491\n",
              "616      47486 2021-09-02 19:59:32.801  693.877537\n",
              "617      47491 2021-09-02 20:59:50.542  694.882465\n",
              "618      47493 2021-09-02 21:59:59.345  695.884910\n",
              "619      47498 2021-09-02 23:00:11.350  696.888245\n",
              "\n",
              "[620 rows x 3 columns]"
            ]
          },
          "metadata": {},
          "execution_count": 43
        }
      ]
    },
    {
      "cell_type": "code",
      "metadata": {
        "id": "Rkg3djVfm5DZ",
        "colab": {
          "base_uri": "https://localhost:8080/"
        },
        "outputId": "eb810f3e-21d1-4cb0-c14e-eca5cd87e405"
      },
      "source": [
        "t = df['hours']\n",
        "f = df['followers']\n",
        "\n",
        "coef = np.polyfit( t, f, deg = 2 ) #Definimos el polinomio de ajuste. Nótese que la variable independiente es el tiempo, y la dependiente los followers\n",
        "poly = np.poly1d( coef, variable = 't' ) #Creamos el polinomio de grado 2, pues \"sigue\" las reglas de caída libre\n",
        "print(poly)"
      ],
      "execution_count": 44,
      "outputs": [
        {
          "output_type": "stream",
          "name": "stdout",
          "text": [
            "           2\n",
            "-0.002438 t + 8.552 t + 4.276e+04\n"
          ]
        }
      ]
    },
    {
      "cell_type": "code",
      "metadata": {
        "colab": {
          "base_uri": "https://localhost:8080/"
        },
        "id": "MjQo_rYrEwG8",
        "outputId": "9a167884-93ad-409b-b162-c50fa6f0907c"
      },
      "source": [
        "dp = poly.deriv() #Derivamos el polinomio de ajuste\n",
        "dp = np.poly1d(dp, variable = 't') #creamos la derivada del polinomio con la variable t\n",
        "print(dp)"
      ],
      "execution_count": 51,
      "outputs": [
        {
          "output_type": "stream",
          "name": "stdout",
          "text": [
            " \n",
            "-0.004875 t + 8.552\n"
          ]
        }
      ]
    },
    {
      "cell_type": "markdown",
      "metadata": {
        "id": "Krcqc3aNFF87"
      },
      "source": [
        "Nótese que el primer dato del df es $t=0$, por tanto, $t - t_0 = t$. Esto justifica el hecho de que $f(t) = \\frac{a}{2}t^2 + v_0t + x_0 $. \\\\\n",
        "\n",
        "Así, en este caso, la aceleración estará dada por `2*poly[2]` y la velocidad inicial estará dada por `poly[1]`"
      ]
    },
    {
      "cell_type": "code",
      "metadata": {
        "colab": {
          "base_uri": "https://localhost:8080/"
        },
        "id": "Fa6qTzJbsSeg",
        "outputId": "600abcf1-baf1-4f8c-deef-7c3fc9eb7c48"
      },
      "source": [
        "v0 = poly[1]\n",
        "print(f'La velocidad inicial es de {v0} f/h')"
      ],
      "execution_count": 48,
      "outputs": [
        {
          "output_type": "stream",
          "name": "stdout",
          "text": [
            "La velocidad inicial es de 8.552137792664016 f/h\n"
          ]
        }
      ]
    },
    {
      "cell_type": "code",
      "metadata": {
        "colab": {
          "base_uri": "https://localhost:8080/"
        },
        "id": "PuBxP0wBsfM7",
        "outputId": "6ae37ba0-192b-49f7-a525-42c8d4f1de7d"
      },
      "source": [
        "a0 = 2*poly[2]\n",
        "print(f'La aceleración constante es de {a0} f/h^2')"
      ],
      "execution_count": 49,
      "outputs": [
        {
          "output_type": "stream",
          "name": "stdout",
          "text": [
            "La aceleración constante es de -0.0048752543859773 f/h^2\n"
          ]
        }
      ]
    },
    {
      "cell_type": "code",
      "metadata": {
        "colab": {
          "base_uri": "https://localhost:8080/"
        },
        "id": "lzqAwpwbHqlI",
        "outputId": "26c658e8-23e6-4333-fcb6-27edd0ad30c0"
      },
      "source": [
        "tmax = dp.roots[0] #El tiempo en el que se alcanza el máximo de seguidores está dado por las raíces de la derivada.\n",
        "fmax = poly(tmax)  #El número máximo de seguidores que alcanzaría está dado evaluando el polinomio en la raíz de la derivada.\n",
        "fmax "
      ],
      "execution_count": 56,
      "outputs": [
        {
          "output_type": "execute_result",
          "data": {
            "text/plain": [
              "50262.136729011865"
            ]
          },
          "metadata": {},
          "execution_count": 56
        }
      ]
    },
    {
      "cell_type": "code",
      "metadata": {
        "colab": {
          "base_uri": "https://localhost:8080/"
        },
        "id": "R7WrhlrnIXVp",
        "outputId": "459648d6-784a-4f4e-fe13-710a2a49a0e7"
      },
      "source": [
        "fecha = df['date_time'].values.astype('float')  #Se convierten los datos de fecha en el df a tipo flotante.\n",
        "\n",
        "coef1 = np.polyfit( t, fecha, deg = 2 )   #Se define un polinomio de ajuste de la fecha en función del tiempo en horas.\n",
        "poly1 = np.poly1d( coef1, variable = 't' ) #Se construye el polinomio de grado 2\n",
        "print(poly1)"
      ],
      "execution_count": 60,
      "outputs": [
        {
          "output_type": "stream",
          "name": "stdout",
          "text": [
            "          2\n",
            "0.003468 t + 3.6e+12 t + 1.628e+18\n"
          ]
        }
      ]
    },
    {
      "cell_type": "code",
      "metadata": {
        "colab": {
          "base_uri": "https://localhost:8080/"
        },
        "id": "UTZikvNuIpNg",
        "outputId": "b98be30c-6c2a-4445-f665-848759f77f6c"
      },
      "source": [
        "floa = poly1(tmax)  #El tiempo que el número followers alcanza el número máximo, da la fecha en la que se consigue dicha cantidad.\n",
        "pd.to_datetime(floa) #Transformamos el tipo flotante a fecha."
      ],
      "execution_count": 61,
      "outputs": [
        {
          "output_type": "execute_result",
          "data": {
            "text/plain": [
              "Timestamp('2021-10-17 00:18:28.966856960')"
            ]
          },
          "metadata": {},
          "execution_count": 61
        }
      ]
    },
    {
      "cell_type": "code",
      "metadata": {
        "colab": {
          "base_uri": "https://localhost:8080/",
          "height": 423
        },
        "id": "S5nKpzDErp39",
        "outputId": "a9f1b979-aef2-47e8-ee1e-059939aae6ce"
      },
      "source": [
        "t_ = np.linspace( 0, tmax )\n",
        "\n",
        "plt.figure( figsize = (8,6) )\n",
        "\n",
        "plt.plot(t, f, 'r.', label = 'datos')\n",
        "plt.plot(t_, poly(t_), 'k', label = 'f(t)')\n",
        "plt.xlabel( r'$t$', size = 15, labelpad=10 )\n",
        "plt.ylabel( r'$f(t)$', size = 15, labelpad=10 )\n",
        "plt.legend()\n",
        "plt.title( r'$f$ vs $t$', pad=10, size = 15 )\n",
        "\n",
        "plt.grid()"
      ],
      "execution_count": 62,
      "outputs": [
        {
          "output_type": "display_data",
          "data": {
            "image/png": "[encoded data removed]",
            "text/plain": [
              "<Figure size 576x432 with 1 Axes>"
            ]
          },
          "metadata": {
            "needs_background": "light"
          }
        }
      ]
    },
    {
      "cell_type": "markdown",
      "metadata": {
        "id": "ax7En0UeuL3L"
      },
      "source": [
        "#B). \n",
        "El período de  un pendulo de longitud $l$ oscilando a ángulos grandes  $\\alpha$, está dado por\n",
        "$$\n",
        "T=T_{0} \\frac{\\sqrt{2}}{\\pi} \\int_{0}^{\\alpha} \\frac{d \\theta}{(\\cos \\theta-\\cos \\alpha)^{\\frac{1}{2}}}\n",
        "$$\n",
        "donde\n",
        "$$\n",
        "T_{0}=2 \\pi \\sqrt{\\frac{l}{g}}\n",
        "$$\n",
        "es el período del mismo péndulo a pequeñas amplitudes. Culquier intento de evaluación numérico de esa integral debería fallar. Sin embargo, si hacemos el cambio de variable\n",
        "$$\n",
        "\\sin \\frac{\\theta}{2}=\\sin \\frac{\\alpha}{2} \\sin \\phi\n",
        "$$\n",
        "obtenemos\n",
        "$$\n",
        "T=\\frac{2 T_{0}}{\\pi} \\int_{0}^{\\frac{\\pi}{2}} \\frac{d \\phi}{\\left(1-\\sin ^{2} \\frac{\\alpha}{2} \\sin ^{2} \\phi\\right)^{\\frac{1}{2}}}\n",
        "$$\n",
        "que corresponde a una integral bien comportada. \n",
        "1. Escriba un programa que use la anterio integral para calcular el cociente  $T/T_0$ para ángulos enteros (en grados) $0^\\circ \\le\\alpha \\le 90^\\circ$.  \n",
        "1. Genere un DataFrame de pandas que contenga como columnas: la amplitud en grados, la amplitud en radianes, y el cociente $T/T_0$, \n",
        "1. Haga un gráfico de $T/T_0$ como función de $\\alpha$ (en grados). \n",
        "1. Explain the result when $\\alpha = 0.$ "
      ]
    },
    {
      "cell_type": "code",
      "metadata": {
        "id": "6adIAxx9uNGW"
      },
      "source": [
        "#Definimos la función que se va a integrar\n",
        "\n",
        "def f( ϕ, α ):\n",
        "  Term_1 = np.sin(0.5*α)\n",
        "  Term_2 = np.sin(ϕ)\n",
        "  Term = ( 1 - (Term_1*Term_2)**2 )**0.5\n",
        "  func = 1 / Term\n",
        "  return func"
      ],
      "execution_count": 64,
      "outputs": []
    },
    {
      "cell_type": "code",
      "metadata": {
        "id": "RQtNHtaR8oAU"
      },
      "source": [
        "α = np.arange( 0, 91, 1 ) #Alpha en grados\n",
        "α_1 = np.deg2rad(α) #Alpha en radianes"
      ],
      "execution_count": 65,
      "outputs": []
    },
    {
      "cell_type": "code",
      "metadata": {
        "id": "YbSOFIIc8kzU"
      },
      "source": [
        "a, b = 0, np.pi/2 #Definimos los límites de integración"
      ],
      "execution_count": 11,
      "outputs": []
    },
    {
      "cell_type": "code",
      "metadata": {
        "id": "6qbWw9zp9pWU"
      },
      "source": [
        "integrate = np.vectorize(integrate.quad) #Vectorizamos la función"
      ],
      "execution_count": 68,
      "outputs": []
    },
    {
      "cell_type": "code",
      "metadata": {
        "id": "c-4h18N79ym0"
      },
      "source": [
        "integral = integrate(f,a,b, args=(α_1)) #Calculamos la integral con el método de cuadratura"
      ],
      "execution_count": 69,
      "outputs": []
    },
    {
      "cell_type": "code",
      "metadata": {
        "colab": {
          "base_uri": "https://localhost:8080/"
        },
        "id": "81tlXIez927Y",
        "outputId": "25d869da-a956-4549-d83d-9981d00796e4"
      },
      "source": [
        "integral[0]"
      ],
      "execution_count": 70,
      "outputs": [
        {
          "output_type": "execute_result",
          "data": {
            "text/plain": [
              "array([1.57079633, 1.57082623, 1.57091596, 1.57106552, 1.57127495,\n",
              "       1.5715443 , 1.57187361, 1.57226296, 1.57271243, 1.57322212,\n",
              "       1.57379213, 1.57442258, 1.57511361, 1.57586535, 1.57667798,\n",
              "       1.57755166, 1.57848658, 1.57948293, 1.58054093, 1.58166081,\n",
              "       1.5828428 , 1.58408717, 1.58539416, 1.58676408, 1.58819721,\n",
              "       1.58969387, 1.59125438, 1.59287909, 1.59456834, 1.59632252,\n",
              "       1.598142  , 1.6000272 , 1.60197853, 1.60399643, 1.60608135,\n",
              "       1.60823376, 1.61045415, 1.61274303, 1.61510092, 1.61752835,\n",
              "       1.6200259 , 1.62259414, 1.62523367, 1.62794511, 1.6307291 ,\n",
              "       1.63358631, 1.63651741, 1.63952311, 1.64260414, 1.64576125,\n",
              "       1.64899522, 1.65230683, 1.65569693, 1.65916634, 1.66271596,\n",
              "       1.66634668, 1.67005943, 1.67385517, 1.67773488, 1.6816996 ,\n",
              "       1.68575035, 1.68988824, 1.69411436, 1.69842986, 1.70283594,\n",
              "       1.7073338 , 1.7119247 , 1.71660993, 1.72139083, 1.72626877,\n",
              "       1.73124518, 1.73632149, 1.74149923, 1.74677995, 1.75216524,\n",
              "       1.75765675, 1.76325618, 1.7689653 , 1.77478591, 1.78071988,\n",
              "       1.78676913, 1.79293567, 1.79922154, 1.80562887, 1.81215985,\n",
              "       1.81881675, 1.8256019 , 1.83251772, 1.83956672, 1.84675148,\n",
              "       1.85407468])"
            ]
          },
          "metadata": {},
          "execution_count": 70
        }
      ]
    },
    {
      "cell_type": "code",
      "metadata": {
        "id": "KBbIvEEE-Mv9"
      },
      "source": [
        "T_T0 = (2/np.pi)*integral[0] #Calculamos la T / T_0"
      ],
      "execution_count": 71,
      "outputs": []
    },
    {
      "cell_type": "code",
      "metadata": {
        "colab": {
          "base_uri": "https://localhost:8080/"
        },
        "id": "EpyK4PtZ-e55",
        "outputId": "74ba166f-b785-48b1-d7f3-c2c14fc2cd63"
      },
      "source": [
        "T_T0"
      ],
      "execution_count": 73,
      "outputs": [
        {
          "output_type": "execute_result",
          "data": {
            "text/plain": [
              "array([1.        , 1.00001904, 1.00007616, 1.00017137, 1.0003047 ,\n",
              "       1.00047617, 1.00068582, 1.00093369, 1.00121983, 1.00154431,\n",
              "       1.00190719, 1.00230855, 1.00274847, 1.00322704, 1.00374438,\n",
              "       1.00430058, 1.00489577, 1.00553006, 1.00620361, 1.00691655,\n",
              "       1.00766903, 1.00846121, 1.00929327, 1.01016539, 1.01107775,\n",
              "       1.01203055, 1.013024  , 1.01405832, 1.01513373, 1.01625048,\n",
              "       1.0174088 , 1.01860895, 1.01985121, 1.02113584, 1.02246314,\n",
              "       1.02383341, 1.02524696, 1.0267041 , 1.02820518, 1.02975053,\n",
              "       1.03134052, 1.03297551, 1.03465589, 1.03638204, 1.03815439,\n",
              "       1.03997334, 1.04183934, 1.04375283, 1.04571428, 1.04772416,\n",
              "       1.04978296, 1.0518912 , 1.0540494 , 1.0562581 , 1.05851786,\n",
              "       1.06082924, 1.06319285, 1.06560929, 1.0680792 , 1.07060321,\n",
              "       1.07318201, 1.07581626, 1.0785067 , 1.08125403, 1.08405903,\n",
              "       1.08692245, 1.08984511, 1.09282782, 1.09587144, 1.09897683,\n",
              "       1.10214491, 1.10537659, 1.10867285, 1.11203465, 1.11546303,\n",
              "       1.11895904, 1.12252375, 1.12615829, 1.1298638 , 1.13364148,\n",
              "       1.13749256, 1.1414183 , 1.14542001, 1.14949904, 1.15365679,\n",
              "       1.1578947 , 1.16221426, 1.16661702, 1.17110455, 1.17567851,\n",
              "       1.1803406 ])"
            ]
          },
          "metadata": {},
          "execution_count": 73
        }
      ]
    },
    {
      "cell_type": "code",
      "metadata": {
        "colab": {
          "base_uri": "https://localhost:8080/",
          "height": 419
        },
        "id": "LC-Y4eP9-s6q",
        "outputId": "2a6704b5-c301-424d-e249-bb9bf3c76064"
      },
      "source": [
        "#Definimos el DataFrame pedido\n",
        "\n",
        "dff = pd.DataFrame()\n",
        "dff['α'] = α\n",
        "dff['α_1'] = α_1\n",
        "dff['T/T_0'] = T_T0\n",
        "dff"
      ],
      "execution_count": 74,
      "outputs": [
        {
          "output_type": "execute_result",
          "data": {
            "text/html": [
              "<div>\n",
              "<style scoped>\n",
              "    .dataframe tbody tr th:only-of-type {\n",
              "        vertical-align: middle;\n",
              "    }\n",
              "\n",
              "    .dataframe tbody tr th {\n",
              "        vertical-align: top;\n",
              "    }\n",
              "\n",
              "    .dataframe thead th {\n",
              "        text-align: right;\n",
              "    }\n",
              "</style>\n",
              "<table border=\"1\" class=\"dataframe\">\n",
              "  <thead>\n",
              "    <tr style=\"text-align: right;\">\n",
              "      <th></th>\n",
              "      <th>α</th>\n",
              "      <th>α_1</th>\n",
              "      <th>T/T_0</th>\n",
              "    </tr>\n",
              "  </thead>\n",
              "  <tbody>\n",
              "    <tr>\n",
              "      <th>0</th>\n",
              "      <td>0</td>\n",
              "      <td>0.000000</td>\n",
              "      <td>1.000000</td>\n",
              "    </tr>\n",
              "    <tr>\n",
              "      <th>1</th>\n",
              "      <td>1</td>\n",
              "      <td>0.017453</td>\n",
              "      <td>1.000019</td>\n",
              "    </tr>\n",
              "    <tr>\n",
              "      <th>2</th>\n",
              "      <td>2</td>\n",
              "      <td>0.034907</td>\n",
              "      <td>1.000076</td>\n",
              "    </tr>\n",
              "    <tr>\n",
              "      <th>3</th>\n",
              "      <td>3</td>\n",
              "      <td>0.052360</td>\n",
              "      <td>1.000171</td>\n",
              "    </tr>\n",
              "    <tr>\n",
              "      <th>4</th>\n",
              "      <td>4</td>\n",
              "      <td>0.069813</td>\n",
              "      <td>1.000305</td>\n",
              "    </tr>\n",
              "    <tr>\n",
              "      <th>...</th>\n",
              "      <td>...</td>\n",
              "      <td>...</td>\n",
              "      <td>...</td>\n",
              "    </tr>\n",
              "    <tr>\n",
              "      <th>86</th>\n",
              "      <td>86</td>\n",
              "      <td>1.500983</td>\n",
              "      <td>1.162214</td>\n",
              "    </tr>\n",
              "    <tr>\n",
              "      <th>87</th>\n",
              "      <td>87</td>\n",
              "      <td>1.518436</td>\n",
              "      <td>1.166617</td>\n",
              "    </tr>\n",
              "    <tr>\n",
              "      <th>88</th>\n",
              "      <td>88</td>\n",
              "      <td>1.535890</td>\n",
              "      <td>1.171105</td>\n",
              "    </tr>\n",
              "    <tr>\n",
              "      <th>89</th>\n",
              "      <td>89</td>\n",
              "      <td>1.553343</td>\n",
              "      <td>1.175679</td>\n",
              "    </tr>\n",
              "    <tr>\n",
              "      <th>90</th>\n",
              "      <td>90</td>\n",
              "      <td>1.570796</td>\n",
              "      <td>1.180341</td>\n",
              "    </tr>\n",
              "  </tbody>\n",
              "</table>\n",
              "<p>91 rows × 3 columns</p>\n",
              "</div>"
            ],
            "text/plain": [
              "     α       α_1     T/T_0\n",
              "0    0  0.000000  1.000000\n",
              "1    1  0.017453  1.000019\n",
              "2    2  0.034907  1.000076\n",
              "3    3  0.052360  1.000171\n",
              "4    4  0.069813  1.000305\n",
              "..  ..       ...       ...\n",
              "86  86  1.500983  1.162214\n",
              "87  87  1.518436  1.166617\n",
              "88  88  1.535890  1.171105\n",
              "89  89  1.553343  1.175679\n",
              "90  90  1.570796  1.180341\n",
              "\n",
              "[91 rows x 3 columns]"
            ]
          },
          "metadata": {},
          "execution_count": 74
        }
      ]
    },
    {
      "cell_type": "code",
      "metadata": {
        "colab": {
          "base_uri": "https://localhost:8080/",
          "height": 423
        },
        "id": "T62qbUmK_ktx",
        "outputId": "feb222a2-8518-401b-f2d6-d320bacd7eb6"
      },
      "source": [
        "plt.figure( figsize = (8,6) )\n",
        "\n",
        "plt.plot(α, T_T0, 'k')\n",
        "\n",
        "plt.xlabel( r'$α$', size = 15, labelpad=10 )\n",
        "plt.ylabel( r'$T/T_0(α)$', size = 15, labelpad=10 )\n",
        "plt.title( r'$T/T_0$ vs $α$', pad=10, size = 15 )\n",
        "\n",
        "plt.grid()"
      ],
      "execution_count": 77,
      "outputs": [
        {
          "output_type": "display_data",
          "data": {
            "image/png": "[encoded data removed]",
            "text/plain": [
              "<Figure size 576x432 with 1 Axes>"
            ]
          },
          "metadata": {
            "needs_background": "light"
          }
        }
      ]
    },
    {
      "cell_type": "markdown",
      "metadata": {
        "id": "gnChbLQ1Aj6v"
      },
      "source": [
        "Nótese que cuando $\\alpha = 0$ \\\\\n",
        "\n",
        "$$T=\\frac{2 T_{0}}{\\pi} \\int_{0}^{\\frac{\\pi}{2}} \\frac{d \\phi}{\\left(1-\\sin ^{2} \\frac{0}{2} \\sin ^{2} \\phi\\right)^{\\frac{1}{2}}} = T=\\frac{2 T_{0}}{\\pi} \\int_{0}^{\\frac{\\pi}{2}} \\frac{d \\phi}{\\left(1-0\\right)^{\\frac{1}{2}}}$$ \\\\\n",
        "\n",
        "$$ =\\frac{2 T_{0}}{\\pi} \\int_{0}^{\\frac{\\pi}{2}}\\operatorname{d}\\phi = \\frac{2T_0}{\\pi}\\frac{\\pi}{2}$$ \\\\\n",
        "\n",
        "Por tanto, tenemos que $T = T_0$.\n",
        "\n",
        "Esto implica que para el ángulo de $\\alpha = 0$ el período del péndulo en el modelo general está siguiendo las reglas del período en la aproximación de pequeñas oscilaciones."
      ]
    }
  ]
}