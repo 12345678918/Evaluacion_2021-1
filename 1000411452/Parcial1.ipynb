{
  "nbformat": 4,
  "nbformat_minor": 0,
  "metadata": {
    "colab": {
      "name": "Parcial1.ipynb",
      "provenance": [],
      "collapsed_sections": []
    },
    "kernelspec": {
      "name": "python3",
      "display_name": "Python 3"
    },
    "language_info": {
      "name": "python"
    }
  },
  "cells": [
    {
      "cell_type": "markdown",
      "metadata": {
        "id": "a367RxNgb41m"
      },
      "source": [
        "Primer Examen 15% A) Cargando el archivo JSON:\n",
        "\n",
        "https://github.com/restrepo/anomaly/raw/main/solutions.json.gz en Pandas\n",
        "\n",
        "1) Adicione una columna nueva 'smax' con el valor máximo en valor absoluto de la lista de enteros de la correspondiente entrada en la columna 'solution'\n",
        "\n",
        "2) Adicione dos columnas nuevas: 'sum_s' (sum_s³) con el resultado de la suma (al cubo) de todos los números de la lista de enteros de la correspondiente entrada en la columna 'solution' \n",
        "\n",
        "3) Usando como semilla el número de su cédula, genere un número entero de forma aleatoria entre 0 y 390073. Seleccione el la fila correspondiente a ese número entero y construya un polinomio con esos coeficientes. Encuentre las raices reales de ese polinomio y realice el correspondiente gráfico incluyendo: el polinomio generado, sus raices (como puntos en gráfico) y la derivada del polinomio. Optimize el rango de valores en el eje  𝑥  y en el eje  𝑦  del gráfico, de manera que el polinomio y sus raices se visualicen de la mejor forma posible. (Sugerencia → use: plt.ylim(ymin,ymax) ). Se tendrá en cuenta la estética del gráfico presentado incluyendo la rotulación adecuada del mismo\n",
        "\n",
        "B)\n",
        "\n",
        "I) Usando como semilla el número de su cédula, genere de forma aletoria un número entero entre 1 y 5\n",
        "\n",
        "II) De acuerdo al entero obtenido, escoja una de las siguientes cinco funciones\n",
        "\n",
        "𝑥e𝑥=𝑝,\n",
        " \n",
        "sin𝑥𝑥=+𝑝,\n",
        " \n",
        "sin𝑥𝑥=−𝑝,\n",
        " \n",
        "cos𝑥𝑥=+𝑝,\n",
        " \n",
        "cos𝑥𝑥=−𝑝,\n",
        " \n",
        "III) Genere un número aleatorio entre 0 y 1 y asignelo al valor de  𝑝  IV) Encuentre la solución a la ecuación trascendental para el intervalo  𝑥  entre -10 y 10 y gráfique la correspondiente función trascendental y las correspondientes soluciones. . Se tendrá en cuenta la estética del gráfico presentado incluyendo la rotulación adecuada del mismo. A modo de nota curiosa: estas ecuaciones trascendentales están asociadas a soluciones de la ecuación de Schödinger en mecánica cuántica: https://doi.org/10.1080/14786435.2015.1081425"
      ]
    },
    {
      "cell_type": "code",
      "metadata": {
        "id": "AxBgXIv7b5gF"
      },
      "source": [
        "import pandas as pd\n",
        "import numpy as np\n",
        "import matplotlib.pyplot as plt\n",
        "from scipy import optimize"
      ],
      "execution_count": 187,
      "outputs": []
    },
    {
      "cell_type": "markdown",
      "metadata": {
        "id": "itktJ5QVcOba"
      },
      "source": [
        "A."
      ]
    },
    {
      "cell_type": "code",
      "metadata": {
        "colab": {
          "base_uri": "https://localhost:8080/",
          "height": 204
        },
        "id": "_mvHaOGfcIZZ",
        "outputId": "7d9fdcc6-1d3b-49e2-d691-77036036e188"
      },
      "source": [
        "df = pd.read_json('https://github.com/restrepo/anomaly/raw/main/solutions.json.gz')\n",
        "df.head()"
      ],
      "execution_count": 188,
      "outputs": [
        {
          "output_type": "execute_result",
          "data": {
            "text/html": [
              "<div>\n",
              "<style scoped>\n",
              "    .dataframe tbody tr th:only-of-type {\n",
              "        vertical-align: middle;\n",
              "    }\n",
              "\n",
              "    .dataframe tbody tr th {\n",
              "        vertical-align: top;\n",
              "    }\n",
              "\n",
              "    .dataframe thead th {\n",
              "        text-align: right;\n",
              "    }\n",
              "</style>\n",
              "<table border=\"1\" class=\"dataframe\">\n",
              "  <thead>\n",
              "    <tr style=\"text-align: right;\">\n",
              "      <th></th>\n",
              "      <th>l</th>\n",
              "      <th>k</th>\n",
              "      <th>solution</th>\n",
              "      <th>gcd</th>\n",
              "      <th>n</th>\n",
              "    </tr>\n",
              "  </thead>\n",
              "  <tbody>\n",
              "    <tr>\n",
              "      <th>0</th>\n",
              "      <td>[-1, 0, -1, 0, -1]</td>\n",
              "      <td>[-1, 0, -1, 1, -1]</td>\n",
              "      <td>[1, 4, 4, 4, -5, -5, -5, -5, -5, 6, 6]</td>\n",
              "      <td>1</td>\n",
              "      <td>11</td>\n",
              "    </tr>\n",
              "    <tr>\n",
              "      <th>1</th>\n",
              "      <td>[-1, 1]</td>\n",
              "      <td>[-1, 0, -1]</td>\n",
              "      <td>[1, 2, 2, -3, -3, -3, 4]</td>\n",
              "      <td>1</td>\n",
              "      <td>7</td>\n",
              "    </tr>\n",
              "    <tr>\n",
              "      <th>2</th>\n",
              "      <td>[1, -1, 0, 1, -1]</td>\n",
              "      <td>[-2, 0, -1, -2, 0]</td>\n",
              "      <td>[1, 1, -2, -2, -3, -3, 5, 5, 5, 5, -6, -6]</td>\n",
              "      <td>2</td>\n",
              "      <td>12</td>\n",
              "    </tr>\n",
              "    <tr>\n",
              "      <th>3</th>\n",
              "      <td>[-1, 1, -1, 1, -1]</td>\n",
              "      <td>[-2, -1, 0, -1, 0]</td>\n",
              "      <td>[1, 1, 1, 1, 2, 2, 2, -3, -4, -4, -6, 7]</td>\n",
              "      <td>1</td>\n",
              "      <td>12</td>\n",
              "    </tr>\n",
              "    <tr>\n",
              "      <th>4</th>\n",
              "      <td>[1, 0, 1, 0, -1]</td>\n",
              "      <td>[-2, -1, -2, -1, 0]</td>\n",
              "      <td>[1, 1, 1, -2, -2, -5, -5, 6, 6, 7, -8]</td>\n",
              "      <td>1</td>\n",
              "      <td>11</td>\n",
              "    </tr>\n",
              "  </tbody>\n",
              "</table>\n",
              "</div>"
            ],
            "text/plain": [
              "                    l                    k  ... gcd   n\n",
              "0  [-1, 0, -1, 0, -1]   [-1, 0, -1, 1, -1]  ...   1  11\n",
              "1             [-1, 1]          [-1, 0, -1]  ...   1   7\n",
              "2   [1, -1, 0, 1, -1]   [-2, 0, -1, -2, 0]  ...   2  12\n",
              "3  [-1, 1, -1, 1, -1]   [-2, -1, 0, -1, 0]  ...   1  12\n",
              "4    [1, 0, 1, 0, -1]  [-2, -1, -2, -1, 0]  ...   1  11\n",
              "\n",
              "[5 rows x 5 columns]"
            ]
          },
          "metadata": {},
          "execution_count": 188
        }
      ]
    },
    {
      "cell_type": "markdown",
      "metadata": {
        "id": "-rfJrkewcbYr"
      },
      "source": [
        "1. Adicione una columna nueva 'smax' con el valor máximo en valor absoluto de la lista de enteros de la correspondiente entrada en la columna 'solution'"
      ]
    },
    {
      "cell_type": "code",
      "metadata": {
        "id": "hOOVkb_kddA-"
      },
      "source": [
        "max = df.solution.max()"
      ],
      "execution_count": 121,
      "outputs": []
    },
    {
      "cell_type": "code",
      "metadata": {
        "id": "SFk_hr_YxrE9"
      },
      "source": [
        "df.solution.map((i,index))=> {\n",
        "    i.map((j,indexj)=>{\n",
        "      if (j>max):\n",
        "        max=i \n",
        "        Fila = index\n",
        "    })    \n",
        "  })"
      ],
      "execution_count": null,
      "outputs": []
    },
    {
      "cell_type": "code",
      "metadata": {
        "id": "3sIMCnXBcWXs"
      },
      "source": [
        "df['smax'] = df.apply(lambda t: max(t['solution']), axis = 'columns')\n",
        "df"
      ],
      "execution_count": 204,
      "outputs": []
    },
    {
      "cell_type": "markdown",
      "metadata": {
        "id": "hMuMhtgTeBwe"
      },
      "source": [
        "2. Adicione dos columnas nuevas: 'sum_s' (sum_s³) con el resultado de la suma (al cubo) de todos los números de la lista de enteros de la correspondiente entrada en la columna 'solution' "
      ]
    },
    {
      "cell_type": "code",
      "metadata": {
        "id": "qQrN4duAdwC6"
      },
      "source": [
        "df['sum_s'] = max"
      ],
      "execution_count": null,
      "outputs": []
    },
    {
      "cell_type": "markdown",
      "metadata": {
        "id": "T4L0BJEofZZS"
      },
      "source": [
        "3. 3) Usando como semilla el número de su cédula, genere un número entero de forma aleatoria entre 0 y 390073. Seleccione el la fila correspondiente a ese número entero y construya un polinomio con esos coeficientes. Encuentre las raices reales de ese polinomio y realice el correspondiente gráfico incluyendo: el polinomio generado, sus raices (como puntos en gráfico) y la derivada del polinomio. Optimize el rango de valores en el eje 𝑥 y en el eje 𝑦 del gráfico, de manera que el polinomio y sus raices se visualicen de la mejor forma posible. (Sugerencia → use: plt.ylim(ymin,ymax) ). Se tendrá en cuenta la estética del gráfico presentado incluyendo la rotulación adecuada del mismo"
      ]
    },
    {
      "cell_type": "code",
      "metadata": {
        "id": "BX3mblInfaVa"
      },
      "source": [
        "import random"
      ],
      "execution_count": 13,
      "outputs": []
    },
    {
      "cell_type": "code",
      "metadata": {
        "colab": {
          "base_uri": "https://localhost:8080/"
        },
        "id": "_d4uYW_Afnoj",
        "outputId": "1f8607bd-e2a7-4c87-d7da-1d069e549487"
      },
      "source": [
        "np.random.seed(100041) #No voy a colocar toda mi cedula. 1000411452, son más números.\n",
        "random.randint(0,390073)"
      ],
      "execution_count": 37,
      "outputs": [
        {
          "output_type": "execute_result",
          "data": {
            "text/plain": [
              "362615"
            ]
          },
          "metadata": {},
          "execution_count": 37
        }
      ]
    },
    {
      "cell_type": "code",
      "metadata": {
        "colab": {
          "base_uri": "https://localhost:8080/",
          "height": 235
        },
        "id": "REeR6kmIhBIM",
        "outputId": "3a5da986-5d8e-43b1-d0be-48e3e2288193"
      },
      "source": [
        "df1 = pd.DataFrame(df.iloc[362615])\n",
        "df1"
      ],
      "execution_count": 42,
      "outputs": [
        {
          "output_type": "execute_result",
          "data": {
            "text/html": [
              "<div>\n",
              "<style scoped>\n",
              "    .dataframe tbody tr th:only-of-type {\n",
              "        vertical-align: middle;\n",
              "    }\n",
              "\n",
              "    .dataframe tbody tr th {\n",
              "        vertical-align: top;\n",
              "    }\n",
              "\n",
              "    .dataframe thead th {\n",
              "        text-align: right;\n",
              "    }\n",
              "</style>\n",
              "<table border=\"1\" class=\"dataframe\">\n",
              "  <thead>\n",
              "    <tr style=\"text-align: right;\">\n",
              "      <th></th>\n",
              "      <th>362615</th>\n",
              "    </tr>\n",
              "  </thead>\n",
              "  <tbody>\n",
              "    <tr>\n",
              "      <th>l</th>\n",
              "      <td>[2, -4, 6]</td>\n",
              "    </tr>\n",
              "    <tr>\n",
              "      <th>k</th>\n",
              "      <td>[-1, 0, -3, 2]</td>\n",
              "    </tr>\n",
              "    <tr>\n",
              "      <th>solution</th>\n",
              "      <td>[3, 9, 9, -10, -14, -20, 26, 27, -30]</td>\n",
              "    </tr>\n",
              "    <tr>\n",
              "      <th>gcd</th>\n",
              "      <td>13</td>\n",
              "    </tr>\n",
              "    <tr>\n",
              "      <th>n</th>\n",
              "      <td>9</td>\n",
              "    </tr>\n",
              "    <tr>\n",
              "      <th>smax</th>\n",
              "      <td>&lt;built-in function max&gt;</td>\n",
              "    </tr>\n",
              "  </tbody>\n",
              "</table>\n",
              "</div>"
            ],
            "text/plain": [
              "                                         362615\n",
              "l                                    [2, -4, 6]\n",
              "k                                [-1, 0, -3, 2]\n",
              "solution  [3, 9, 9, -10, -14, -20, 26, 27, -30]\n",
              "gcd                                          13\n",
              "n                                             9\n",
              "smax                    <built-in function max>"
            ]
          },
          "metadata": {},
          "execution_count": 42
        }
      ]
    },
    {
      "cell_type": "code",
      "metadata": {
        "colab": {
          "base_uri": "https://localhost:8080/"
        },
        "id": "i9w1W8OIjisB",
        "outputId": "11c1a0fd-30fa-4346-803d-2bb8e6326428"
      },
      "source": [
        "P = np.poly1d([3,9,9,-10,-14,-20,26,27,-30]) #Crepo el polinomio con los coeficientes de solution.\n",
        "print(P)"
      ],
      "execution_count": 51,
      "outputs": [
        {
          "output_type": "stream",
          "text": [
            "   8     7     6      5      4      3      2\n",
            "3 x + 9 x + 9 x - 10 x - 14 x - 20 x + 26 x + 27 x - 30\n"
          ],
          "name": "stdout"
        }
      ]
    },
    {
      "cell_type": "code",
      "metadata": {
        "id": "unZ5vp1rlMYb"
      },
      "source": [
        "from sympy import Symbol\n",
        "from scipy import diff\n",
        "from scipy import optimize"
      ],
      "execution_count": 47,
      "outputs": []
    },
    {
      "cell_type": "code",
      "metadata": {
        "colab": {
          "base_uri": "https://localhost:8080/"
        },
        "id": "IcuAD2SklhyD",
        "outputId": "2b07ba9d-cd88-4297-ed3f-e2acd5e50711"
      },
      "source": [
        "x = Symbol('x')\n",
        "y = (3*x**8) + (9*x**7) - (9*x**6) + (-10*x**5) - (-14*x**4) + (-20*x**3) - (26*x**2) + (27*x) -30\n",
        "derivada = y.diff(x)\n",
        "print(derivada)"
      ],
      "execution_count": 54,
      "outputs": [
        {
          "output_type": "stream",
          "text": [
            "24*x**7 + 63*x**6 - 54*x**5 - 50*x**4 + 56*x**3 - 60*x**2 - 52*x + 27\n"
          ],
          "name": "stdout"
        }
      ]
    },
    {
      "cell_type": "code",
      "metadata": {
        "colab": {
          "base_uri": "https://localhost:8080/"
        },
        "id": "F8iFMEgDpK04",
        "outputId": "fc9ae221-f4ac-42c1-f7c1-28491e99b2ff"
      },
      "source": [
        "fprime = np.poly1d([24,63,-54,-50,56,-60,-52,27]) #Derivada\n",
        "fprime"
      ],
      "execution_count": 97,
      "outputs": [
        {
          "output_type": "execute_result",
          "data": {
            "text/plain": [
              "poly1d([ 24,  63, -54, -50,  56, -60, -52,  27])"
            ]
          },
          "metadata": {},
          "execution_count": 97
        }
      ]
    },
    {
      "cell_type": "code",
      "metadata": {
        "colab": {
          "base_uri": "https://localhost:8080/",
          "height": 282
        },
        "id": "wfa7ba8wrSXT",
        "outputId": "e2b508e2-8e98-4d8a-da53-757a750f8f55"
      },
      "source": [
        "#Gráfica para las raices\n",
        "x = np.linspace(-1.2,1.3)\n",
        "y = P(x)\n",
        "\n",
        "plt.plot(x,y)"
      ],
      "execution_count": 108,
      "outputs": [
        {
          "output_type": "execute_result",
          "data": {
            "text/plain": [
              "[<matplotlib.lines.Line2D at 0x7f1dfb521690>]"
            ]
          },
          "metadata": {},
          "execution_count": 108
        },
        {
          "output_type": "display_data",
          "data": {
            "image/png": "[encoded data removed]",
            "text/plain": [
              "<Figure size 432x288 with 1 Axes>"
            ]
          },
          "metadata": {
            "needs_background": "light"
          }
        }
      ]
    },
    {
      "cell_type": "code",
      "metadata": {
        "colab": {
          "base_uri": "https://localhost:8080/"
        },
        "id": "rF0Zaq7lm7Ib",
        "outputId": "94551db2-fde4-4237-a571-7a250a4bdd84"
      },
      "source": [
        "#Raíces:\n",
        "r1 = optimize.newton(P,0)\n",
        "r2 = optimize.newton(P,-1)\n",
        "print(r1,r2)\n"
      ],
      "execution_count": 101,
      "outputs": [
        {
          "output_type": "stream",
          "text": [
            "1.0 -1.1093951756394194\n"
          ],
          "name": "stdout"
        }
      ]
    },
    {
      "cell_type": "code",
      "metadata": {
        "colab": {
          "base_uri": "https://localhost:8080/"
        },
        "id": "WRrzKpmPnc-g",
        "outputId": "5747aaf0-cc3b-4f85-8457-112331cc8729"
      },
      "source": [
        "P(1)"
      ],
      "execution_count": 104,
      "outputs": [
        {
          "output_type": "execute_result",
          "data": {
            "text/plain": [
              "0"
            ]
          },
          "metadata": {},
          "execution_count": 104
        }
      ]
    },
    {
      "cell_type": "code",
      "metadata": {
        "colab": {
          "base_uri": "https://localhost:8080/"
        },
        "id": "CI7SitCKoo_8",
        "outputId": "e326c20a-0b9d-403d-b37b-f3c952a8d1f6"
      },
      "source": [
        "P(-1.1093951756394194)"
      ],
      "execution_count": 105,
      "outputs": [
        {
          "output_type": "execute_result",
          "data": {
            "text/plain": [
              "-1.4210854715202004e-14"
            ]
          },
          "metadata": {},
          "execution_count": 105
        }
      ]
    },
    {
      "cell_type": "code",
      "metadata": {
        "colab": {
          "base_uri": "https://localhost:8080/",
          "height": 295
        },
        "id": "lwnJnuKcqXZ3",
        "outputId": "e477d2f8-73e7-4d9a-bc38-4556316bab97"
      },
      "source": [
        "#Gráfica\n",
        "x = np.linspace(-1.2,1.3)\n",
        "y = P(x)\n",
        "yp = fprime(x)\n",
        "\n",
        "plt.plot(x,y,linewidth=2, linestyle='-', color='red') #Polinomio\n",
        "plt.plot(x,yp,linewidth=2, linestyle='-', color='blue') #Derivada\n",
        "\n",
        "plt.grid()\n",
        "plt.plot(1,0,'y*',alpha=1,label='root1') \n",
        "plt.plot(-1.1093951756394194,0,'y*',alpha=1,label='root2')\n",
        "\n",
        "plt.xlabel('$ x $',size=10)\n",
        "plt.ylabel('$ P(x) $',size=10)\n",
        "plt.legend(loc='best',fontsize=15)\n",
        "plt.title(r'Polinomio y su derivada')\n",
        "\n",
        "plt.show()"
      ],
      "execution_count": 118,
      "outputs": [
        {
          "output_type": "display_data",
          "data": {
            "image/png": "[encoded data removed]",
            "text/plain": [
              "<Figure size 432x288 with 1 Axes>"
            ]
          },
          "metadata": {
            "needs_background": "light"
          }
        }
      ]
    },
    {
      "cell_type": "markdown",
      "metadata": {
        "id": "q8EDRDVrtbOl"
      },
      "source": [
        "B)\n",
        "\n",
        "I) Usando como semilla el número de su cédula, genere de forma aletoria un número entero entre 1 y 5\n",
        "\n",
        "II) De acuerdo al entero obtenido, escoja una de las siguientes cinco funciones\n",
        "\n",
        "𝑥e𝑥=𝑝,\n",
        " \n",
        "sin𝑥𝑥=+𝑝,\n",
        " \n",
        "sin𝑥𝑥=−𝑝,\n",
        " \n",
        "cos𝑥𝑥=+𝑝,\n",
        " \n",
        "cos𝑥𝑥=−𝑝,\n",
        "\n",
        "III) Genere un número aleatorio entre 0 y 1 y asignelo al valor de  𝑝  IV) Encuentre la solución a la ecuación trascendental para el intervalo  𝑥  entre -10 y 10 y gráfique la correspondiente función trascendental y las correspondientes soluciones. . Se tendrá en cuenta la estética del gráfico presentado incluyendo la rotulación adecuada del mismo. A modo de nota curiosa: estas ecuaciones trascendentales están asociadas a soluciones de la ecuación de Schödinger en mecánica cuántica: https://doi.org/10.1080/14786435.2015.1081425"
      ]
    },
    {
      "cell_type": "markdown",
      "metadata": {
        "id": "XBrSI0QhtdmV"
      },
      "source": [
        "1."
      ]
    },
    {
      "cell_type": "code",
      "metadata": {
        "colab": {
          "base_uri": "https://localhost:8080/"
        },
        "id": "oWtuzePWtdKc",
        "outputId": "f5e878c1-4408-4548-a69a-9ef73f7b9042"
      },
      "source": [
        "np.random.seed(100041) #No voy a colocar toda mi cedula. 1000411452, son más números.\n",
        "random.randint(1,5)"
      ],
      "execution_count": 133,
      "outputs": [
        {
          "output_type": "execute_result",
          "data": {
            "text/plain": [
              "3"
            ]
          },
          "metadata": {},
          "execution_count": 133
        }
      ]
    },
    {
      "cell_type": "markdown",
      "metadata": {
        "id": "ijcXMen4vWk4"
      },
      "source": [
        "2. De acuerdo a eso, la funcion a usar es sinxx = -p"
      ]
    },
    {
      "cell_type": "code",
      "metadata": {
        "colab": {
          "base_uri": "https://localhost:8080/",
          "height": 35
        },
        "id": "kQ29cPYSvpEA",
        "outputId": "7093c82c-2f04-453e-c6b0-dfc8ea34baa5"
      },
      "source": [
        "#Elegir la función\n",
        "op = rd.choice(['f1', 'f2','f3', 'f4','f5'])\n",
        "op"
      ],
      "execution_count": 140,
      "outputs": [
        {
          "output_type": "execute_result",
          "data": {
            "application/vnd.google.colaboratory.intrinsic+json": {
              "type": "string"
            },
            "text/plain": [
              "'f3'"
            ]
          },
          "metadata": {},
          "execution_count": 140
        }
      ]
    },
    {
      "cell_type": "markdown",
      "metadata": {
        "id": "HOEzAerJvYfR"
      },
      "source": [
        "3."
      ]
    },
    {
      "cell_type": "code",
      "metadata": {
        "id": "9QFlwnI7vvyZ"
      },
      "source": [
        "import random as rd"
      ],
      "execution_count": 135,
      "outputs": []
    },
    {
      "cell_type": "code",
      "metadata": {
        "colab": {
          "base_uri": "https://localhost:8080/"
        },
        "id": "TjOzfUTNriDa",
        "outputId": "f389d0f7-6bd2-4c0d-968f-fdba698eb8e4"
      },
      "source": [
        "p = rd.uniform(0,1)\n",
        "p"
      ],
      "execution_count": 141,
      "outputs": [
        {
          "output_type": "execute_result",
          "data": {
            "text/plain": [
              "0.3746078989929087"
            ]
          },
          "metadata": {},
          "execution_count": 141
        }
      ]
    },
    {
      "cell_type": "code",
      "metadata": {
        "id": "6x3i3_KE6zn6"
      },
      "source": [
        "def f3(x):\n",
        "    p = 0.3746078989929087\n",
        "    \n",
        "    return np.sin(x) + p"
      ],
      "execution_count": 207,
      "outputs": []
    },
    {
      "cell_type": "code",
      "metadata": {
        "colab": {
          "base_uri": "https://localhost:8080/",
          "height": 295
        },
        "id": "Ye35ZZNf7htO",
        "outputId": "92141c76-a4ed-4699-8fae-505ef0977577"
      },
      "source": [
        "X = np.linspace(-10,10)\n",
        "Y = f3(X)\n",
        "\n",
        "\n",
        "#Gráfica\n",
        "\n",
        "plt.plot(X,Y,linewidth=2, linestyle='-', color='red') \n",
        "\n",
        "\n",
        "plt.grid()\n",
        "\n",
        "\n",
        "\n",
        "plt.xlabel('$ x $',size=10)\n",
        "plt.ylabel('$ F3(X) $',size=10)\n",
        "\n",
        "plt.title(r'Función trascendental')\n",
        "\n",
        "plt.show()"
      ],
      "execution_count": 224,
      "outputs": [
        {
          "output_type": "display_data",
          "data": {
            "image/png": "[encoded data removed]",
            "text/plain": [
              "<Figure size 432x288 with 1 Axes>"
            ]
          },
          "metadata": {
            "needs_background": "light"
          }
        }
      ]
    },
    {
      "cell_type": "markdown",
      "metadata": {
        "id": "x3s1Jv7f8-CY"
      },
      "source": [
        "Raices:"
      ]
    },
    {
      "cell_type": "code",
      "metadata": {
        "colab": {
          "base_uri": "https://localhost:8080/"
        },
        "id": "ic73Olgv3iFi",
        "outputId": "3545a3e0-0244-4328-e152-a66410009a38"
      },
      "source": [
        "R1 = optimize.newton(f3,-10)\n",
        "print(R1)"
      ],
      "execution_count": 218,
      "outputs": [
        {
          "output_type": "stream",
          "text": [
            "-9.040804117220079\n"
          ],
          "name": "stdout"
        }
      ]
    },
    {
      "cell_type": "code",
      "metadata": {
        "colab": {
          "base_uri": "https://localhost:8080/"
        },
        "id": "RJqEnmH078i5",
        "outputId": "78f802bf-3a50-4585-def5-0e0b709521e8"
      },
      "source": [
        "R2 = optimize.newton(f3,-7.5)\n",
        "print(R2)"
      ],
      "execution_count": 219,
      "outputs": [
        {
          "output_type": "stream",
          "text": [
            "-6.66715915072889\n"
          ],
          "name": "stdout"
        }
      ]
    },
    {
      "cell_type": "code",
      "metadata": {
        "colab": {
          "base_uri": "https://localhost:8080/"
        },
        "id": "iyNOhU3v8p2J",
        "outputId": "dba027a0-d359-4bd3-8c5f-e1f62ef9f786"
      },
      "source": [
        "R3 = optimize.newton(f3,-5)\n",
        "print(R3)"
      ],
      "execution_count": 220,
      "outputs": [
        {
          "output_type": "stream",
          "text": [
            "-12.950344457908473\n"
          ],
          "name": "stdout"
        }
      ]
    },
    {
      "cell_type": "code",
      "metadata": {
        "colab": {
          "base_uri": "https://localhost:8080/"
        },
        "id": "07hNaslZ8tp9",
        "outputId": "dd7e0539-bf47-431b-9005-2fd6af39fe86"
      },
      "source": [
        "\n",
        "R4 = optimize.newton(f3,0)\n",
        "print(R4)"
      ],
      "execution_count": 221,
      "outputs": [
        {
          "output_type": "stream",
          "text": [
            "-0.38397384354930314\n"
          ],
          "name": "stdout"
        }
      ]
    },
    {
      "cell_type": "code",
      "metadata": {
        "colab": {
          "base_uri": "https://localhost:8080/"
        },
        "id": "jEhTKBzh84ZF",
        "outputId": "f464c761-e728-40be-b47b-6135a00ce6db"
      },
      "source": [
        "\n",
        "R6 = optimize.newton(f3,10)\n",
        "print(R6)"
      ],
      "execution_count": 222,
      "outputs": [
        {
          "output_type": "stream",
          "text": [
            "9.808751804318684\n"
          ],
          "name": "stdout"
        }
      ]
    },
    {
      "cell_type": "code",
      "metadata": {
        "id": "yHt1LMZS86cL"
      },
      "source": [
        ""
      ],
      "execution_count": null,
      "outputs": []
    }
  ]
}