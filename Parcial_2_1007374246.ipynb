{
 "cells": [
  {
   "cell_type": "markdown",
   "metadata": {},
   "source": [
    "# Parcial #2\n",
    "### Juan Esteban Ospina Holguín - 1007374246"
   ]
  },
  {
   "cell_type": "code",
   "execution_count": 1,
   "metadata": {},
   "outputs": [],
   "source": [
    "#Librerías \n",
    "import numpy as np\n",
    "import sympy as sp\n",
    "import scipy as sc\n",
    "import pandas as pd\n",
    "from scipy import optimize\n",
    "import scipy.interpolate as interpolate\n",
    "import scipy.integrate as integrate\n",
    "from scipy.misc import derivative\n",
    "from sympy import init_printing\n",
    "import matplotlib.pylab as plt\n",
    "from scipy.interpolate import CubicSpline\n",
    "from datetime import datetime, date, time, timedelta\n",
    "import calendar\n",
    "init_printing() "
   ]
  },
  {
   "cell_type": "markdown",
   "metadata": {},
   "source": [
    "# A)\n",
    "Los siguientes datos fueron extraidos de un [perfil real de Instragram](https://www.instagram.com/paulacano24/):\n",
    "\n",
    "https://raw.githubusercontent.com/restrepo/ComputationalMethods/master/data/Followers.json\n",
    "\n",
    "Interprete los datos como un problema de caida libre y a partir del ajuste (fit) a la correspondiente ecuación de movimiento, determine\n",
    "1. La velocidad inicial de incremento de seguidores en `followers/hour`\n",
    "1. La aceleración constante en `followers/hour**2`\n",
    "1. El número máximo de seguidores que alcanzaría el perfil\n",
    "1. La fecha en la que se alcanzaría dicho máximo"
   ]
  },
  {
   "cell_type": "code",
   "execution_count": 2,
   "metadata": {
    "scrolled": true
   },
   "outputs": [],
   "source": [
    "path = \"https://raw.githubusercontent.com/restrepo/ComputationalMethods/master/data/Followers.json\"\n",
    "Df = pd.read_json(path)#Se hace un Data Frame de los datos"
   ]
  },
  {
   "cell_type": "markdown",
   "metadata": {},
   "source": [
    "Se considera un modelo de caída libre, esto quiere decir que la función del número de seguidores deber ser de la forma:\n",
    "$$\n",
    "f(t) = \\frac{a}{2}t^2+v_0t+x_0      (1)\n",
    "$$\n",
    "Dónde $a$ es la aceleración, $v_0$ es la velocidad inicial y $x_0$ es la cantidad inicial de seguidores.\n"
   ]
  },
  {
   "cell_type": "code",
   "execution_count": 3,
   "metadata": {},
   "outputs": [],
   "source": [
    "def f(x,a,b,c):\n",
    "        return a*x**2+b*x+c #Función a la que se aproximará la distribución de los datos"
   ]
  },
  {
   "cell_type": "code",
   "execution_count": 4,
   "metadata": {
    "scrolled": true
   },
   "outputs": [
    {
     "data": {
      "image/png": "[encoded data removed]",
      "text/plain": [
       "<Figure size 432x288 with 1 Axes>"
      ]
     },
     "metadata": {
      "needs_background": "light"
     },
     "output_type": "display_data"
    }
   ],
   "source": [
    "a = optimize.curve_fit( f,Df.hours,Df.followers,p0 =[4,400,40000])[0][0]#Se hace un ajuste a la función ax^2+bx+c\n",
    "b = optimize.curve_fit( f,Df.hours,Df.followers,p0 =[4,400,40000])[0][1]\n",
    "c = optimize.curve_fit( f,Df.hours,Df.followers,p0 =[4,400,40000])[0][2]\n",
    "\n",
    "plt.plot(Df.hours, Df.followers,'o-',markersize=3,color =\"red\",label = 'Datos')#grafica: datos\n",
    "plt.plot(Df.hours,f(Df.hours,a,b,c),color = 'black',label = 'ajuste lineal')#grafica del ajuste \n",
    "plt.xlabel('$t[hours]$')#etiquetas\n",
    "plt.ylabel('$f(t)[Followers]$')\n",
    "plt.title('$f(t) =-0.0024t^2+8.55t+42761.09$ ')\n",
    "plt.legend();"
   ]
  },
  {
   "cell_type": "markdown",
   "metadata": {},
   "source": [
    "## 1.Velocidad incial"
   ]
  },
  {
   "cell_type": "markdown",
   "metadata": {},
   "source": [
    "Según la ecuación (1), tenemos que la velocidad inicial es la constante que acompaña a $t$ en el polinomio obtenido tras el ajuste lineal. Así que nuestra velocidad es:\n",
    "### $v_0 = 8.55 followers/hour$\n",
    "\n",
    "\n",
    "    "
   ]
  },
  {
   "cell_type": "markdown",
   "metadata": {},
   "source": [
    "## 2. Aceleración "
   ]
  },
  {
   "cell_type": "markdown",
   "metadata": {},
   "source": [
    "según la ecuación (1), podemos obtener la aceleración de la constante que acompaña a $t^2$ en el polinomio obtenido tras el ajuste lineal. Así que nuestra velocidad es:\n",
    "### $$-0.0024 = \\frac{a}{2}\\\\\n",
    "a = -0.0048\n",
    "followers/hour^2$$\n",
    "\n"
   ]
  },
  {
   "cell_type": "markdown",
   "metadata": {},
   "source": [
    "## 3.El número máximo de seguidores que alcanzaría el perfil"
   ]
  },
  {
   "cell_type": "code",
   "execution_count": 5,
   "metadata": {},
   "outputs": [
    {
     "data": {
      "image/png": "[encoded data removed]",
      "text/latex": [
       "$\\displaystyle 50262$"
      ],
      "text/plain": [
       "50262"
      ]
     },
     "execution_count": 5,
     "metadata": {},
     "output_type": "execute_result"
    }
   ],
   "source": [
    "p = np.polynomial.polynomial.Polynomial([c,b,a])#Polinomio del número de seguidores\n",
    "v = p.deriv()#Velocidad de crecimiento\n",
    "round(p(v.roots()[0])) #Se muestra el máximo dado por la raíz de la derivada"
   ]
  },
  {
   "cell_type": "markdown",
   "metadata": {},
   "source": [
    "El número máximo de seguidores se obtiene cuando la velocidad se hace cero, por eso derivamos, igualamos a cero y obtenemos que el máximo de seguidores es $f_{max} = 50262$"
   ]
  },
  {
   "cell_type": "markdown",
   "metadata": {},
   "source": [
    "## 4.La fecha en la que se alcanzaría dicho máximo"
   ]
  },
  {
   "cell_type": "code",
   "execution_count": 6,
   "metadata": {},
   "outputs": [
    {
     "data": {
      "image/png": "[encoded data removed]",
      "text/latex": [
       "$\\displaystyle 1754.193060734139$"
      ],
      "text/plain": [
       "1754.193060734139"
      ]
     },
     "execution_count": 6,
     "metadata": {},
     "output_type": "execute_result"
    }
   ],
   "source": [
    "horasT = v.roots()[0]#Horas para que se alcance el máximo\n",
    "horasT"
   ]
  },
  {
   "cell_type": "markdown",
   "metadata": {},
   "source": [
    "Se necesita que pasen 1754.19 horas para que se llegue al máximo, calculemos cuando es la nueva fecha a partir de la primera lectura hecha.\n"
   ]
  },
  {
   "cell_type": "code",
   "execution_count": 7,
   "metadata": {},
   "outputs": [
    {
     "data": {
      "text/plain": [
       "Timestamp('2021-08-04 22:06:53.668000')"
      ]
     },
     "execution_count": 7,
     "metadata": {},
     "output_type": "execute_result"
    }
   ],
   "source": [
    "#Fecha inicial\n",
    "f0 = Df.iloc[0]['date_time']\n",
    "f0"
   ]
  },
  {
   "cell_type": "code",
   "execution_count": 8,
   "metadata": {
    "scrolled": true
   },
   "outputs": [
    {
     "name": "stdout",
     "output_type": "stream",
     "text": [
      "fecha inicial: 2021-08-04 22:06:53\n",
      "fecha final: 2021-10-17 00:18:28.018643\n"
     ]
    }
   ],
   "source": [
    "fecha_inicial =datetime(2021, 8,4,22,6,53)#Se convierte la fecha inicial a formato datetime\n",
    "print('fecha inicial:',fecha_inicial)\n",
    "día =fecha_inicial  + timedelta(hours=horasT)#Se suman las horas a la fecha inicial\n",
    "print('fecha final:',día)"
   ]
  },
  {
   "cell_type": "markdown",
   "metadata": {},
   "source": [
    "Así, para el 17 de octubre del año 2021 a las 6:28 pm, se espera que este usuario tenga su número máximo de seguidores según el modelo planteado."
   ]
  },
  {
   "cell_type": "markdown",
   "metadata": {
    "id": "oLb_AHbVlMEy"
   },
   "source": [
    "\n",
    "\n",
    "# B)\n",
    "El período de  un pendulo de longitud $l$ oscilando a ángulos grandes  $\\alpha$, está dado por\n",
    "$$\n",
    "T=T_{0} \\frac{\\sqrt{2}}{\\pi} \\int_{0}^{\\alpha} \\frac{d \\theta}{(\\cos \\theta-\\cos \\alpha)^{\\frac{1}{2}}}\n",
    "$$\n",
    "donde\n",
    "$$\n",
    "T_{0}=2 \\pi \\sqrt{\\frac{l}{g}}\n",
    "$$\n",
    "es el período del mismo péndulo a pequeñas amplitudes. Culquier intento de evaluación numérico de esa integral debería fallar. Sin embargo, si hacemos el cambio de variable\n",
    "$$\n",
    "\\sin \\frac{\\theta}{2}=\\sin \\frac{\\alpha}{2} \\sin \\phi\n",
    "$$\n",
    "obtenemos\n",
    "$$\n",
    "T=\\frac{2 T_{0}}{\\pi} \\int_{0}^{\\frac{\\pi}{2}} \\frac{d \\phi}{\\left(1-\\sin ^{2} \\frac{\\alpha}{2} \\sin ^{2} \\phi\\right)^{\\frac{1}{2}}}\n",
    "$$\n",
    "que corresponde a una integral bien comportada. \n",
    "1. Escriba un programa que use la anterio integral para calcular el cociente  $T/T_0$ para ángulos enteros (en grados) $0^\\circ \\le\\alpha \\le 90^\\circ$.  \n",
    "1. Genere un DataFrame de pandas que contenga como columnas: la amplitud en grados, la amplitud en radianes, y el cociente $T/T_0$, \n",
    "1. Haga un gráfico de $T/T_0$ como función de $\\alpha$ (en grados). \n",
    "1. Explain the result when $\\alpha = 0.$ "
   ]
  },
  {
   "cell_type": "markdown",
   "metadata": {},
   "source": [
    "# 1. \n",
    "Escriba un programa que use la anterio integral para calcular el cociente  $T/T_0$ para ángulos enteros (en grados) $0^\\circ \\le\\alpha \\le 90^\\circ$.  "
   ]
  },
  {
   "cell_type": "code",
   "execution_count": 9,
   "metadata": {},
   "outputs": [],
   "source": [
    "I = lambda α: integrate.quad(lambda ϕ:1/np.sqrt(1-np.sin(α/2)**2*np.sin(ϕ)**2),0,np.pi/2)[0]#Calculo de la integral\n",
    "def divi(t):\n",
    "    \"\"\"\n",
    "    Función para calcular T/T0\n",
    "    \"\"\"\n",
    "    f=np.vectorize(I)\n",
    "    return f(t)*2/np.pi"
   ]
  },
  {
   "cell_type": "code",
   "execution_count": 10,
   "metadata": {
    "scrolled": true
   },
   "outputs": [
    {
     "data": {
      "text/plain": [
       "array([1.        , 1.00001573, 1.00006294, 1.00014163, 1.00025181,\n",
       "       1.0003935 , 1.00056673, 1.00077153, 1.00100793, 1.00127597,\n",
       "       1.00157571, 1.00190719, 1.00227047, 1.00266561, 1.00309268,\n",
       "       1.00355177, 1.00404293, 1.00456628, 1.00512189, 1.00570986,\n",
       "       1.0063303 , 1.00698332, 1.00766903, 1.00838755, 1.00913901,\n",
       "       1.00992355, 1.01074131, 1.01159243, 1.01247707, 1.01339538,\n",
       "       1.01434753, 1.0153337 , 1.01635406, 1.0174088 , 1.01849811,\n",
       "       1.0196222 , 1.02078127, 1.02197553, 1.02320522, 1.02447055,\n",
       "       1.02577177, 1.02710911, 1.02848285, 1.02989323, 1.03134052,\n",
       "       1.03282501, 1.03434697, 1.03590671, 1.03750453, 1.03914074,\n",
       "       1.04081567, 1.04252964, 1.04428299, 1.04607609, 1.04790929,\n",
       "       1.04978296, 1.05169749, 1.05365326, 1.05565069, 1.05769018,\n",
       "       1.05977217, 1.0618971 , 1.06406541, 1.06627758, 1.06853407,\n",
       "       1.07083538, 1.07318201, 1.07557448, 1.07801332, 1.08049907,\n",
       "       1.08303231, 1.0856136 , 1.08824354, 1.09092274, 1.09365182,\n",
       "       1.09643144, 1.09926224, 1.10214491, 1.10508015, 1.10806868,\n",
       "       1.11111124, 1.11420858, 1.11736149, 1.12057078, 1.12383726,\n",
       "       1.12716179, 1.13054525, 1.13398853, 1.13749256, 1.14105829,\n",
       "       1.14468672, 1.14837883, 1.15213569, 1.15595835, 1.15984793,\n",
       "       1.16380556, 1.16783241, 1.1719297 , 1.17609867, 1.1803406 ])"
      ]
     },
     "execution_count": 10,
     "metadata": {},
     "output_type": "execute_result"
    }
   ],
   "source": [
    "α = np.linspace(0,np.pi/2,100) # defino el conjunto de valores de α\n",
    "l=1 # Longitud de la cuerda l =1\n",
    "\n",
    "divi(α)#Cociente T/T0"
   ]
  },
  {
   "cell_type": "markdown",
   "metadata": {},
   "source": [
    "## 2.\n",
    "Genere un DataFrame de pandas que contenga como columnas: la amplitud en grados, la amplitud en radianes, y el cociente $T/T_0$, \n"
   ]
  },
  {
   "cell_type": "code",
   "execution_count": 11,
   "metadata": {},
   "outputs": [
    {
     "data": {
      "text/html": [
       "<div>\n",
       "<style scoped>\n",
       "    .dataframe tbody tr th:only-of-type {\n",
       "        vertical-align: middle;\n",
       "    }\n",
       "\n",
       "    .dataframe tbody tr th {\n",
       "        vertical-align: top;\n",
       "    }\n",
       "\n",
       "    .dataframe thead th {\n",
       "        text-align: right;\n",
       "    }\n",
       "</style>\n",
       "<table border=\"1\" class=\"dataframe\">\n",
       "  <thead>\n",
       "    <tr style=\"text-align: right;\">\n",
       "      <th></th>\n",
       "      <th>α[rad]</th>\n",
       "      <th>α[°]</th>\n",
       "      <th>cociente</th>\n",
       "    </tr>\n",
       "  </thead>\n",
       "  <tbody>\n",
       "    <tr>\n",
       "      <th>0</th>\n",
       "      <td>0.000000</td>\n",
       "      <td>0.000000</td>\n",
       "      <td>1.000000</td>\n",
       "    </tr>\n",
       "    <tr>\n",
       "      <th>1</th>\n",
       "      <td>0.015867</td>\n",
       "      <td>0.909091</td>\n",
       "      <td>1.000016</td>\n",
       "    </tr>\n",
       "    <tr>\n",
       "      <th>2</th>\n",
       "      <td>0.031733</td>\n",
       "      <td>1.818182</td>\n",
       "      <td>1.000063</td>\n",
       "    </tr>\n",
       "    <tr>\n",
       "      <th>3</th>\n",
       "      <td>0.047600</td>\n",
       "      <td>2.727273</td>\n",
       "      <td>1.000142</td>\n",
       "    </tr>\n",
       "    <tr>\n",
       "      <th>4</th>\n",
       "      <td>0.063467</td>\n",
       "      <td>3.636364</td>\n",
       "      <td>1.000252</td>\n",
       "    </tr>\n",
       "    <tr>\n",
       "      <th>...</th>\n",
       "      <td>...</td>\n",
       "      <td>...</td>\n",
       "      <td>...</td>\n",
       "    </tr>\n",
       "    <tr>\n",
       "      <th>95</th>\n",
       "      <td>1.507330</td>\n",
       "      <td>86.363636</td>\n",
       "      <td>1.163806</td>\n",
       "    </tr>\n",
       "    <tr>\n",
       "      <th>96</th>\n",
       "      <td>1.523196</td>\n",
       "      <td>87.272727</td>\n",
       "      <td>1.167832</td>\n",
       "    </tr>\n",
       "    <tr>\n",
       "      <th>97</th>\n",
       "      <td>1.539063</td>\n",
       "      <td>88.181818</td>\n",
       "      <td>1.171930</td>\n",
       "    </tr>\n",
       "    <tr>\n",
       "      <th>98</th>\n",
       "      <td>1.554930</td>\n",
       "      <td>89.090909</td>\n",
       "      <td>1.176099</td>\n",
       "    </tr>\n",
       "    <tr>\n",
       "      <th>99</th>\n",
       "      <td>1.570796</td>\n",
       "      <td>90.000000</td>\n",
       "      <td>1.180341</td>\n",
       "    </tr>\n",
       "  </tbody>\n",
       "</table>\n",
       "<p>100 rows × 3 columns</p>\n",
       "</div>"
      ],
      "text/plain": [
       "      α[rad]       α[°]  cociente\n",
       "0   0.000000   0.000000  1.000000\n",
       "1   0.015867   0.909091  1.000016\n",
       "2   0.031733   1.818182  1.000063\n",
       "3   0.047600   2.727273  1.000142\n",
       "4   0.063467   3.636364  1.000252\n",
       "..       ...        ...       ...\n",
       "95  1.507330  86.363636  1.163806\n",
       "96  1.523196  87.272727  1.167832\n",
       "97  1.539063  88.181818  1.171930\n",
       "98  1.554930  89.090909  1.176099\n",
       "99  1.570796  90.000000  1.180341\n",
       "\n",
       "[100 rows x 3 columns]"
      ]
     },
     "execution_count": 11,
     "metadata": {},
     "output_type": "execute_result"
    }
   ],
   "source": [
    "    Df = pd.DataFrame({\"α[rad]\": α, \"α[°]\": α*180/np.pi, \"cociente\": divi(α)})  # Se construye el Data Frame con el cociente T/T0\n",
    "Df"
   ]
  },
  {
   "cell_type": "markdown",
   "metadata": {},
   "source": [
    "# 3.\n",
    "Haga un gráfico de $T/T_0$ como función de $\\alpha$ (en grados). "
   ]
  },
  {
   "cell_type": "code",
   "execution_count": 12,
   "metadata": {},
   "outputs": [
    {
     "data": {
      "image/png": "[encoded data removed]",
      "text/plain": [
       "<Figure size 432x288 with 1 Axes>"
      ]
     },
     "metadata": {
      "needs_background": "light"
     },
     "output_type": "display_data"
    }
   ],
   "source": [
    "plt.plot( Df['α[°]'], Df.cociente )#Grafica \n",
    "plt.xlabel('α (°)' ,size=15)#Etiquetas\n",
    "plt.ylabel(' $T/T0$' ,size=15)\n",
    "plt.grid()\n",
    "plt.title('cociente $T/T_0$ vs $α$')\n",
    "plt.show()"
   ]
  },
  {
   "cell_type": "markdown",
   "metadata": {},
   "source": [
    "# 4.\n",
    "Explain the result when $\\alpha = 0.$ "
   ]
  },
  {
   "cell_type": "markdown",
   "metadata": {},
   "source": [
    "Cuando α tiene a se cero, significa que el péndulo oscila con una amplitud pequeña y como podemos ver en la grafica anterior, el cociente $\\frac{T}{T_0}$ tiende a ser $1$, o de igual modo $T\\Rightarrow T_0$"
   ]
  }
 ],
 "metadata": {
  "colab": {
   "name": "Examen_2021_1_02_enunciado.ipynb",
   "provenance": []
  },
  "kernelspec": {
   "display_name": "Python 3",
   "language": "python",
   "name": "python3"
  },
  "language_info": {
   "codemirror_mode": {
    "name": "ipython",
    "version": 3
   },
   "file_extension": ".py",
   "mimetype": "text/x-python",
   "name": "python",
   "nbconvert_exporter": "python",
   "pygments_lexer": "ipython3",
   "version": "3.8.5"
  }
 },
 "nbformat": 4,
 "nbformat_minor": 1
}
