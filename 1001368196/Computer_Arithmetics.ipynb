{
  "nbformat": 4,
  "nbformat_minor": 0,
  "metadata": {
    "colab": {
      "name": "Computer Arithmetics",
      "provenance": []
    },
    "kernelspec": {
      "name": "python3",
      "display_name": "Python 3"
    },
    "language_info": {
      "name": "python"
    }
  },
  "cells": [
    {
      "cell_type": "markdown",
      "metadata": {
        "id": "Gam6-Fbz_ace"
      },
      "source": [
        "\n",
        "Función que entrega representación binaria de un entero\n",
        "\n"
      ]
    },
    {
      "cell_type": "code",
      "metadata": {
        "colab": {
          "base_uri": "https://localhost:8080/"
        },
        "id": "Z69FKASi_bR1",
        "outputId": "17232476-2a90-4e16-b093-8a10e356f9f6"
      },
      "source": [
        "\n",
        "#!/usr/bin/env python3\n",
        "\n",
        "def entero_binario(entero):\n",
        "    print('__name__= {}'.format(__name__))\n",
        "    \n",
        "   \n",
        "    númerob = \"\"          # Guardamos el resultado\n",
        "    \n",
        "    while entero != 0:     # Si se puede dividir\n",
        "        residuo = int(entero % 2)   # Saber si es 1 o 0\n",
        "        entero = int(entero / 2)     # Seguir dividiendo el entero\n",
        "        númerob = str(residuo) + númerob   #agrega el número a la izquierda del resultado\n",
        "    return númerob.rjust(8, \"0\")\n",
        "if __name__=='__main__':\n",
        "\n",
        "   x =input('Escriba un entero:\\n')\n",
        "   b=entero_binario(int(x))\n",
        "   print('Su representación binaria es: {}'.format(b))"
      ],
      "execution_count": 64,
      "outputs": [
        {
          "output_type": "stream",
          "text": [
            "Escriba un entero:\n",
            "8\n",
            "__name__= __main__\n",
            "Su representación binaria es: 00001000\n"
          ],
          "name": "stdout"
        }
      ]
    }
  ]
}