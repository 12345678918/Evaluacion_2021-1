{
  "nbformat": 4,
  "nbformat_minor": 0,
  "metadata": {
    "kernelspec": {
      "display_name": "Python 3 (ipykernel)",
      "language": "python",
      "name": "python3"
    },
    "language_info": {
      "codemirror_mode": {
        "name": "ipython",
        "version": 3
      },
      "file_extension": ".py",
      "mimetype": "text/x-python",
      "name": "python",
      "nbconvert_exporter": "python",
      "pygments_lexer": "ipython3",
      "version": "3.7.3"
    },
    "colab": {
      "name": "Parcial 3_Mariana_Fernández_CC1001368196",
      "provenance": [],
      "collapsed_sections": []
    }
  },
  "cells": [
    {
      "cell_type": "markdown",
      "metadata": {
        "id": "40WhQJy2EWqx"
      },
      "source": [
        "# Casas-Ibarra\n",
        "Let $\\boldsymbol{A}$ $3\\times3$ a symmetric non-diagonal matrix with the following set of eigenvalues and eigenvectors:\n"
      ]
    },
    {
      "cell_type": "markdown",
      "metadata": {
        "id": "cwKjVMtNvgl0"
      },
      "source": [
        "____"
      ]
    },
    {
      "cell_type": "markdown",
      "metadata": {
        "id": "G-uQDCOkvgl0"
      },
      "source": [
        "### Eigenvalues\n",
        "The normal ordering of the absolute value of the eigenvalues is $m_1<m_2<m_3$. Each eigenvalue is expressed in units of eV, which just of an energy unit.\n",
        "### Eigenvectors\n",
        "The eigenvectors in the normal ordering are defined by\n",
        "$$\n",
        "\\boldsymbol{U}^T \\boldsymbol{A} \\boldsymbol{U}=\n",
        "\\begin{pmatrix}\n",
        "m_1& 0 & 0\\\\\n",
        "0 & m_2& 0\\\\\n",
        "0 & 0 & m_3\\\\\n",
        "\\end{pmatrix}.\n",
        "$$\n",
        "The unitary matrix can be parameterized in terms of three mixing angles, $\\theta_{23}$ $\\theta_{13}$, $\\theta_{12}$, such that\n",
        "$$\n",
        "\\boldsymbol{U}=\\left(\\begin{array}{ccc}\n",
        "1 & 0 & 0 \\\\\n",
        "0 & c_{23} & s_{23} \\\\\n",
        "0 & -s_{23} & c_{23}\n",
        "\\end{array}\\right) \\cdot\\left(\\begin{array}{ccc}\n",
        "c_{13} & 0 & s_{13}  \\\\\n",
        "0 & 1 & 0 \\\\\n",
        "-s_{13}  & 0 & c_{13}\n",
        "\\end{array}\\right) \\cdot\\left(\\begin{array}{ccc}\n",
        "c_{12} & s_{12} & 0 \\\\\n",
        "-s_{12} & c_{12} & 0 \\\\\n",
        "0 & 0 & 1\n",
        "\\end{array}\\right),\n",
        "$$\n",
        "where $c_{i j} \\equiv \\cos \\theta_{i j}$ and $s_{i j} \\equiv \\sin \\theta_{i j}$. Thus, we can write $\\boldsymbol{U}$ as\n",
        "$$\n",
        "\\boldsymbol{U}=\\left(\\begin{array}{ccc}c_{12} c_{13} & s_{12} c_{13} & s_{13}  \\\\ -s_{12} c_{23}-c_{12} s_{13} s_{23}& c_{12} c_{23}-s_{12} s_{13} s_{23}  & c_{13} s_{23} \\\\ s_{12} s_{23}-c_{12} s_{13} c_{23} & -c_{12} s_{23}-s_{12} s_{13} c_{23}  & c_{13} c_{23}\\end{array}\\right)\n",
        "$$\n",
        "so that\n",
        "$$\n",
        "\\boldsymbol{U}_1=\\begin{pmatrix}U_{e1}\\\\ U_{\\mu 1}\\\\ U_{\\tau 1}\\end{pmatrix}=\\begin{pmatrix}\n",
        "c_{12} c_{13} \\\\\n",
        "-s_{12} c_{23}-c_{12} s_{13} s_{23}  \\\\\n",
        "s_{12} s_{23}-c_{12} s_{13} c_{23} \n",
        "\\end{pmatrix},\\qquad \n",
        "\\boldsymbol{U}_2=\\begin{pmatrix}U_{e2}\\\\ U_{\\mu 2}\\\\ U_{\\tau 2}\\end{pmatrix}=\\begin{pmatrix}\n",
        "s_{12} c_{13} \\\\\n",
        "c_{12} c_{23}-s_{12} s_{13} s_{23}  \\\\\n",
        "-c_{12} s_{23}-s_{12} s_{13} c_{23} \n",
        "\\end{pmatrix},\\qquad\n",
        "\\boldsymbol{U}_3=\\begin{pmatrix}U_{e3}\\\\ U_{\\mu 3}\\\\ U_{\\tau 3}\\end{pmatrix}=\\begin{pmatrix}\n",
        "s_{13}  \\\\\n",
        "c_{13} s_{23} \\\\\n",
        "c_{13} c_{23}\n",
        "\\end{pmatrix}\n",
        "$$\n",
        "\n",
        "### Data\n",
        "Use the _central values_  of the following table but ignoring $\\delta_{CP}$ (In the previous equations was fixed to $\\delta_{CP}=0$). __Hint__: take care of the denominator in the first colum.\n",
        "\n",
        "![IMAGE](https://github.com/restrepo/ComputationalMethods/raw/master/material/figures/nu.png)\n",
        "\n",
        "where $\\Delta m^2_{ij}=m^2_i-m^2_j$ is the squared mass difference between eigenvalues $i$ and $j$; in units of $\\text{eV}^2$.\n"
      ]
    },
    {
      "cell_type": "markdown",
      "metadata": {
        "id": "bnSCrqmSvgl1"
      },
      "source": [
        "### Casas-Ibarra parameterization\n",
        "We can assumme without lost of generality that $\\boldsymbol{A}$ can be generated from a matrix $\\boldsymbol{Y}$ such that\n",
        "$$\n",
        "\\boldsymbol{A}=\\boldsymbol{Y}^{\\operatorname{T}}\\boldsymbol{Y}\n",
        "$$\n",
        "\n",
        "The matrix $\\boldsymbol{Y}$ can be parameterized in terms of an arbitray orthogonal $3\\times 3$ matrix, $\\boldsymbol{R}$, as\n",
        "$$\n",
        "\\boldsymbol{Y}=\\boldsymbol{R} \\boldsymbol{D}_{\\sqrt{m}} \\boldsymbol{U}^{\\operatorname{T}}\n",
        "$$\n",
        "\n",
        "\n",
        "* $R$ is an orthogonal $3\\times 3$ matrix, with three rotation angles $\\alpha_{ij}$ between $(0,2\\pi)$\n",
        "$$\n",
        "\\boldsymbol{R}=\\left(\\begin{array}{ccc}c^\\alpha_{12} c^\\alpha_{13} & s^\\alpha_{12} c^\\alpha_{13} & s^\\alpha_{13}  \\\\ -s^\\alpha_{12} c^\\alpha_{23}-c^\\alpha_{12} s^\\alpha_{13} s^\\alpha_{23}& c^\\alpha_{12} c^\\alpha_{23}-s^\\alpha_{12} s^\\alpha_{13} s^\\alpha_{23}  & c^\\alpha_{13} s^\\alpha_{23} \\\\ s^\\alpha_{12} s^\\alpha_{23}-c^\\alpha_{12} s^\\alpha_{13} c^\\alpha_{23} & -c^\\alpha_{12} s^\\alpha_{23}-s^\\alpha_{12} s^\\alpha_{13} c^\\alpha_{23}  & c^\\alpha_{13} c^\\alpha_{23}\\end{array}\\right)\n",
        "$$\n",
        "where $c^\\alpha_{i j} \\equiv \\cos \\alpha_{i j}$ and $s^\\alpha_{i j} \\equiv \\sin \\alpha_{i j}$.\n",
        "\n",
        "* $$\n",
        " \\boldsymbol{D}_{\\sqrt{m}}=\\operatorname{diag}\\left(\\sqrt{m_1},\\sqrt{m_2},\\sqrt{m_3}\\right)\n",
        "$$"
      ]
    },
    {
      "cell_type": "markdown",
      "metadata": {
        "id": "Iqj7EWSPvgl3"
      },
      "source": [
        "### Problem\n",
        "1. Choose a random value for $m_1$ between $10^{-9}\\ \\text{eV}$ and $10^{-4}\\ \\text{eV}$. Note that because of the wide range, the random variation  must be in the exponents. Obtain the corresponding $m_2$ and $m_3$ with the proper normal ordering.\n",
        "1. Choose random values for $\\alpha_{ij}$  between $(0,2\\pi)$\n",
        "1. Obtain $\\boldsymbol{Y}$\n",
        "1. Check that the generated $\\boldsymbol{A}$ has the proper eigenvalues and eigenvectors\n",
        "1. Check that the eigenvalues of $\\boldsymbol{Y}$ correspond to the square root of the eigenvalues of $\\boldsymbol{A}$ and explain why."
      ]
    },
    {
      "cell_type": "code",
      "metadata": {
        "id": "2J0n-8Rfvqks"
      },
      "source": [
        " #Librerías\n",
        " import numpy as np\n",
        " import sympy"
      ],
      "execution_count": 1,
      "outputs": []
    },
    {
      "cell_type": "markdown",
      "metadata": {
        "id": "47pEBJ_AfO0D"
      },
      "source": [
        "**PUNTO 1**"
      ]
    },
    {
      "cell_type": "code",
      "metadata": {
        "colab": {
          "base_uri": "https://localhost:8080/"
        },
        "id": "-BR3yzMWAVih",
        "outputId": "641c4cab-50f6-4082-ef7a-0d782748e08d"
      },
      "source": [
        "# Generamos el exponente aleatorio \n",
        "em1=np.random.uniform(-9,-4)\n",
        "\n",
        "#Creamos m1 con el exponente aleatorio\n",
        "m1= 10**(em1)\n",
        "\n",
        "dm21 = 7.39*(10**-5)\n",
        "dm32 = 2.449*(10**-3)\n",
        "\n",
        "#Hallamos m2 y m3 a partir de m1\n",
        "m2 = np.sqrt(dm21+m1**2)\n",
        "m3 = np.sqrt(dm32+m2**2)\n",
        "\n",
        "print(\"m1 es: \",m1)\n",
        "print(\"m2 es: \",m2)\n",
        "print(\"m2 es: \",m3)"
      ],
      "execution_count": 2,
      "outputs": [
        {
          "output_type": "stream",
          "name": "stdout",
          "text": [
            "m1 es:  7.160380205905267e-08\n",
            "m2 es:  0.008596510920433191\n",
            "m2 es:  0.05022847797818611\n"
          ]
        }
      ]
    },
    {
      "cell_type": "markdown",
      "metadata": {
        "id": "yQjtggqWgKWb"
      },
      "source": [
        "**PUNTO 2**"
      ]
    },
    {
      "cell_type": "code",
      "metadata": {
        "colab": {
          "base_uri": "https://localhost:8080/"
        },
        "id": "jDVmuI2bAsdn",
        "outputId": "f5a3cfac-39a4-4c7b-e783-278fe1c7f8c0"
      },
      "source": [
        "\n",
        "#Generamos 3 alfa aleatorios entre 0 y 2 pi\n",
        "a=np.random.uniform(0,2*np.pi,3)\n",
        "\n",
        "print(\"los alfa son: \",a)"
      ],
      "execution_count": 3,
      "outputs": [
        {
          "output_type": "stream",
          "name": "stdout",
          "text": [
            "los alfa son:  [0.88018558 1.65264934 5.1348925 ]\n"
          ]
        }
      ]
    },
    {
      "cell_type": "markdown",
      "metadata": {
        "id": "VXU8Q2OlgcHy"
      },
      "source": [
        "**PUNTO 3**"
      ]
    },
    {
      "cell_type": "code",
      "metadata": {
        "colab": {
          "base_uri": "https://localhost:8080/",
          "height": 94
        },
        "id": "ZDC9gjtjBpF-",
        "outputId": "fa4ff54a-5f1d-4dc9-c6fc-f1ac25771809"
      },
      "source": [
        "#Usando alfa\n",
        "\n",
        "c12=np.cos(a[0])\n",
        "c13=np.cos(a[1])\n",
        "c23=np.cos(a[2])\n",
        "\n",
        "s12=np.sin(a[0])\n",
        "s13=np.sin(a[1])\n",
        "s23=np.sin(a[2])\n",
        "\n",
        "#Matriz R definida en el enunciado\n",
        "R=np.matrix([[c12*c13,s12*c13,s13],\n",
        "             [-s12*c23-c12*s13*s23,c12*c23-s12*s13*s23,c13*s23],\n",
        "             [s12*s23-c12*s13*c23,-c12*s23-s12*s13*c23,c13*c23]])\n",
        "\n",
        "#D definido en el enunciado\n",
        "D=np.diag([np.sqrt(m1),np.sqrt(m2),np.sqrt(m3)])\n",
        "\n",
        "#U por la definición de arriba\n",
        "\n",
        "t=np.array([33.82,8.61,48.3]) #Theta definididos en el cuadro\n",
        "t=t*np.pi/180\n",
        "\n",
        "c12=np.cos(t[0])\n",
        "c13=np.cos(t[1])\n",
        "c23=np.cos(t[2])\n",
        "\n",
        "s12=np.sin(t[0])\n",
        "s13=np.sin(t[1])\n",
        "s23=np.sin(t[2])\n",
        "\n",
        "U=np.matrix([[c12*c13,s12*c13,s13],\n",
        "             [-s12*c23-c12*s13*s23,c12*c23-s12*s13*s23,c13*s23],\n",
        "             [s12*s23-c12*s13*c23,-c12*s23-s12*s13*c23,c13*c23]])\n",
        "\n",
        "#Matriz U transpuesta\n",
        "Ut=np.transpose(U)\n",
        "\n",
        "#Y definido en el enunciado\n",
        "Y=R*D*Ut\n",
        "\n",
        "print(\"La matriz Y es: \")\n",
        "sympy.Matrix(Y)"
      ],
      "execution_count": 4,
      "outputs": [
        {
          "output_type": "stream",
          "name": "stdout",
          "text": [
            "La matriz Y es: \n"
          ]
        },
        {
          "output_type": "execute_result",
          "data": {
            "text/latex": "$\\displaystyle \\left[\\begin{matrix}0.0302124807344397 & 0.162035055493007 & 0.150859860811295\\\\0.0516404544363093 & 0.0560471253597812 & -0.0492501295722751\\\\0.0122338627461169 & 0.006666933801815 & -0.0216910634891237\\end{matrix}\\right]$",
            "text/plain": [
              "Matrix([\n",
              "[0.0302124807344397,  0.162035055493007,   0.150859860811295],\n",
              "[0.0516404544363093, 0.0560471253597812, -0.0492501295722751],\n",
              "[0.0122338627461169,  0.006666933801815, -0.0216910634891237]])"
            ]
          },
          "metadata": {},
          "execution_count": 4
        }
      ]
    },
    {
      "cell_type": "markdown",
      "metadata": {
        "id": "lgfBsx3-hlig"
      },
      "source": [
        "**PUNTO 4**"
      ]
    },
    {
      "cell_type": "code",
      "metadata": {
        "colab": {
          "base_uri": "https://localhost:8080/"
        },
        "id": "3ZpwIEhFGpMY",
        "outputId": "b13891fa-ef41-437e-8dd8-2c5f86804429"
      },
      "source": [
        "#Matriz Y transpuesta\n",
        "Yt=np.transpose(Y) \n",
        "\n",
        "#Matriz A definida en el enunciado\n",
        "A=Yt*Y \n",
        "\n",
        "#Eigenvalores y eigenvectores de A\n",
        "values,vectors=np.linalg.eig(A) \n",
        "\n",
        "#Comprobación de los eigenvalores\n",
        "print(m1,m2,m3)\n",
        "print(values,\"\\n\")\n",
        "\n",
        "#Comprobación de los eigenvectores\n",
        "print(vectors,\"\\n\")\n",
        "print(U)"
      ],
      "execution_count": 5,
      "outputs": [
        {
          "output_type": "stream",
          "name": "stdout",
          "text": [
            "7.160380205905267e-08 0.008596510920433191 0.05022847797818611\n",
            "[5.02284780e-02 7.16038021e-08 8.59651092e-03] \n",
            "\n",
            "[[-0.14970791 -0.82142745 -0.55031308]\n",
            " [-0.73822377  0.46312144 -0.49045305]\n",
            " [-0.65773339 -0.33282949  0.67573021]] \n",
            "\n",
            "[[ 0.82142745  0.55031308  0.14970791]\n",
            " [-0.46312144  0.49045305  0.73822377]\n",
            " [ 0.33282949 -0.67573021  0.65773339]]\n"
          ]
        }
      ]
    },
    {
      "cell_type": "markdown",
      "metadata": {
        "id": "7MnfdmVAihBQ"
      },
      "source": [
        "**PUNTO 5**"
      ]
    },
    {
      "cell_type": "code",
      "metadata": {
        "colab": {
          "base_uri": "https://localhost:8080/"
        },
        "id": "QTO_WaDzjhZE",
        "outputId": "c2d2e7e4-0284-4660-8c05-dc038ef47e67"
      },
      "source": [
        "#Observemos que los eigenvalores de Y corresponden con la raíz de los eigenvalores de A\n",
        "np.array(sorted([np.linalg.eigvals(A)]))**0.5-np.array(sorted(np.linalg.eigvals(Y))) #Haciendo diferencia de ellos "
      ],
      "execution_count": 7,
      "outputs": [
        {
          "output_type": "execute_result",
          "data": {
            "text/plain": [
              "array([[ 0.29684893,  0.00082216, -0.04513756]])"
            ]
          },
          "metadata": {},
          "execution_count": 7
        }
      ]
    },
    {
      "cell_type": "markdown",
      "metadata": {
        "id": "pA2Cja76oQ9Z"
      },
      "source": [
        "La diferencia de los eigenvalores debería dar 0, pues\n",
        " $A=Y^TY$ entonces $diag(m_i)=UAU^T=UY^TYU^T=UY^TU^TUYU^T=diag(eigenvalues(Y^T))diag(eigenvalues(Y))=diag(eigenvalues(Y)^2)  $\n",
        " \n",
        " \n",
        " Debido a los errores experimentales observamos que aunque no es 0, es bastante cercano"
      ]
    }
  ]
}