{
  "nbformat": 4,
  "nbformat_minor": 0,
  "metadata": {
    "colab": {
      "name": "Métodos-binarios",
      "provenance": []
    },
    "kernelspec": {
      "name": "python3",
      "display_name": "Python 3"
    },
    "language_info": {
      "name": "python"
    }
  },
  "cells": [
    {
      "cell_type": "markdown",
      "metadata": {
        "id": "Gam6-Fbz_ace"
      },
      "source": [
        "\n",
        "Función que entrega representación binaria de un entero\n",
        "\n"
      ]
    },
    {
      "cell_type": "code",
      "metadata": {
        "colab": {
          "base_uri": "https://localhost:8080/"
        },
        "id": "Z69FKASi_bR1",
        "outputId": "21a09bd3-6017-4f55-b75c-b0bc403b9a85"
      },
      "source": [
        "\n",
        "#!/usr/bin/env python3\n",
        "\n",
        "def entero_binario(entero):\n",
        "    print('__name__= {}'.format(__name__))\n",
        "    \n",
        "    # Guardamos el resultado\n",
        "    binario = \"\"\n",
        "    # Si se puede dividir\n",
        "    while entero != 0:\n",
        "        # Saber si es 1 o 0\n",
        "        residuo = int(entero % 2)\n",
        "        # E ir dividiendo el entero\n",
        "        entero = int(entero / 2)\n",
        "        #agregando el número (1 o 0) a la izquierda del resultado\n",
        "        binario = str(residuo) + binario\n",
        "    return binario.rjust(8, \"0\")\n",
        "if __name__=='__main__':\n",
        "\n",
        "   n=input('Escriba un entero:\\n')\n",
        "   b=entero_a_binario(int(n))\n",
        "   print('Su representación binaria es: {}'.format(b))"
      ],
      "execution_count": 63,
      "outputs": [
        {
          "output_type": "stream",
          "text": [
            "Escriba un entero:\n",
            "95\n",
            "__name__= __main__\n",
            "Su representación binaria es: 01011111\n"
          ],
          "name": "stdout"
        }
      ]
    }
  ]
}