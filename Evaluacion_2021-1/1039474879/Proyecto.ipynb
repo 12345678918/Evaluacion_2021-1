{
  "nbformat": 4,
  "nbformat_minor": 0,
  "metadata": {
    "colab": {
      "name": "Proyecto.ipynb",
      "provenance": [],
      "authorship_tag": "ABX9TyOOiN89KobOsYEInY8dpw/B",
      "include_colab_link": true
    },
    "kernelspec": {
      "name": "python3",
      "display_name": "Python 3"
    },
    "language_info": {
      "name": "python"
    }
  },
  "cells": [
    {
      "cell_type": "markdown",
      "metadata": {
        "id": "view-in-github",
        "colab_type": "text"
      },
      "source": [
        "<a href=\"https://colab.research.google.com/github/gabo235/Evaluacion_2021-1/blob/main/Evaluacion_2021-1/1039474879/Proyecto.ipynb\" target=\"_parent\"><img src=\"https://colab.research.google.com/assets/colab-badge.svg\" alt=\"Open In Colab\"/></a>"
      ]
    },
    {
      "cell_type": "markdown",
      "metadata": {
        "id": "WO5_RNIlNeXm"
      },
      "source": [
        "# Final Project: Computational Methods\n",
        "### Gabriel Cataño Sánchez"
      ]
    },
    {
      "cell_type": "markdown",
      "metadata": {
        "id": "IJy4lfxjpNxi"
      },
      "source": [
        "## $\\textbf{Abbe Number of a Material}$"
      ]
    },
    {
      "cell_type": "markdown",
      "metadata": {
        "id": "fwWcy347rzqI"
      },
      "source": [
        "The Abbe number of a transparent optical material, named after the German physicist Ernst Abbe, is defined as:\n",
        "\n",
        "\\begin{equation}\n",
        "V_D = \\frac{n_D - 1}{n_F - n_C}\n",
        "\\end{equation}\n",
        "\n",
        "This the ratio of the refractivity and the principal dispersion. It is also sometimes called the V-number, $V_D$ or the constringence.\n",
        "\n",
        "The definition refers to refractive indices at three different standard spectral lines in the visible region, which can easily be produced with spectral lamps:\n",
        "- $λ_F = 486.1$ nm (blue Fraunhofer F line from hydrogen)\n",
        "- $λ_D = 589.2$ nm (orange Fraunhofer D line from sodium)\n",
        "- $λ_C = 656.3$ nm (red Fraunhofer C line from hydrogen)\n",
        "\n",
        "The middle one (from the sodium D line) lies in the region of maximum sensitivity of the human eye.\n"
      ]
    },
    {
      "cell_type": "markdown",
      "metadata": {
        "id": "kMERkGu5t7OI"
      },
      "source": [
        "### $\\textbf{The Project}$"
      ]
    },
    {
      "cell_type": "markdown",
      "metadata": {
        "id": "TQqZR3oXuKNW"
      },
      "source": [
        "The purpose of this project is to meassure the Abbe number of different fluids, such as water, oil and alcohol, to acomplish the goal, we must first meassure the refractive indices of the fluids for three different wavelengths of monochromatic light. To meassure the refractive index easily, is used the fenomenom of light diffraction by a diffraction grating, for this project was use a CD as diffraction grating, a transparent rectangular container, three laser pointers, millimeter sheet, a camera and the fluids, then we need to meassure the distance between the diffracted order $m = 0$, and the diffracted order $m = \\pm 1$, this is made when the container is empty as well as when is filled whith any of the fluids.\n",
        "\n",
        "\\\\\n",
        "After the distances needed are meassured, the refractive index can be obtained with the next equation.\n",
        "\n",
        "\\begin{align}\n",
        "n = \\frac{y_{empty}}{y_{fluid}}\n",
        "\\end{align}\n",
        "\n",
        "Where $y_{empty}$ represents the meassured distance when the container is empty, and $y_{fluid}$ is the meassured distance when the container is filled with the fluid. The distances were meassured by taking a photo to the diffracted orders and then upload the photo to an image editor, with the program's rule got the meassure in pixels, thus the results would be better.\n",
        "\n",
        "\\\\\n",
        "In the next code, is shown the results of the refractive indices for each one of the fluids and for the different wavelengths, then the experimental data is fitted with the Cauchy's equation, which is given as:\n",
        "\n",
        "\\begin{equation}\n",
        "n(\\lambda) = A + \\frac{B}{\\lambda ^2}\n",
        "\\end{equation}\n",
        "\n",
        "$A$ and $B$ are constants, and $\\lambda $ is the wavelength, the equation represents a relation between the refractive index and the wavelength. The purpose of the fit is to obtain the refractive indices for the Fraunhofer spectral lines, $n_D, n_F$ and $n_C$. Then with the refractive indices we can calculate the Abbe number of the fluid with the very first equation that was shown above.\n",
        "\n",
        "\\\\\n",
        "In the code also is developed the propagation of uncertainty, so the final result will be presented as a central  value and its repective uncertainty."
      ]
    },
    {
      "cell_type": "markdown",
      "metadata": {
        "id": "XJqnxrG2CPdD"
      },
      "source": [
        "## $\\textbf{Code}$"
      ]
    },
    {
      "cell_type": "code",
      "metadata": {
        "colab": {
          "base_uri": "https://localhost:8080/"
        },
        "id": "ScVOEViN52Hn",
        "outputId": "8de6d8e6-9e31-4368-cd80-061c9c832fec"
      },
      "source": [
        "# Libraries\n",
        "\n",
        "import numpy as np\n",
        "import matplotlib.pylab as plt\n",
        "import pandas as pd\n",
        "import sympy as sp\n",
        "from scipy import stats\n",
        "from scipy.optimize import curve_fit\n",
        "%pylab inline"
      ],
      "execution_count": 45,
      "outputs": [
        {
          "output_type": "stream",
          "name": "stdout",
          "text": [
            "Populating the interactive namespace from numpy and matplotlib\n"
          ]
        },
        {
          "output_type": "stream",
          "name": "stderr",
          "text": [
            "/usr/local/lib/python3.7/dist-packages/IPython/core/magics/pylab.py:161: UserWarning: pylab import has clobbered these variables: ['f', 'plt', 're']\n",
            "`%matplotlib` prevents importing * from pylab and numpy\n",
            "  \"\\n`%matplotlib` prevents importing * from pylab and numpy\"\n"
          ]
        }
      ]
    },
    {
      "cell_type": "markdown",
      "metadata": {
        "id": "x3EvzQmuG56U"
      },
      "source": [
        "## $\\textbf{Water}$"
      ]
    },
    {
      "cell_type": "code",
      "metadata": {
        "colab": {
          "base_uri": "https://localhost:8080/",
          "height": 142
        },
        "id": "2IVeUYM7r4e9",
        "outputId": "cf11d18c-2d16-432d-bfc7-270d31c10d7c"
      },
      "source": [
        "# Laser pointers wavelengths used in the project\n",
        "W = np.array([405,532,650])\n",
        "\n",
        "# Rafractive indices of water for each wavelength\n",
        "R = np.array([1.34947,1.34161,1.33747]) \n",
        "\n",
        "# Experimental uncertainty for the refractive indices\n",
        "er = np.array([0.0065, 0.0043,0.0034])\n",
        "dat = {\"W\": W, \"R\":R, \"Er\": er }\n",
        "\n",
        "# DataFrame with the experimental data\n",
        "d = pd.DataFrame(dat)\n",
        "d"
      ],
      "execution_count": 46,
      "outputs": [
        {
          "output_type": "execute_result",
          "data": {
            "text/html": [
              "<div>\n",
              "<style scoped>\n",
              "    .dataframe tbody tr th:only-of-type {\n",
              "        vertical-align: middle;\n",
              "    }\n",
              "\n",
              "    .dataframe tbody tr th {\n",
              "        vertical-align: top;\n",
              "    }\n",
              "\n",
              "    .dataframe thead th {\n",
              "        text-align: right;\n",
              "    }\n",
              "</style>\n",
              "<table border=\"1\" class=\"dataframe\">\n",
              "  <thead>\n",
              "    <tr style=\"text-align: right;\">\n",
              "      <th></th>\n",
              "      <th>W</th>\n",
              "      <th>R</th>\n",
              "      <th>Er</th>\n",
              "    </tr>\n",
              "  </thead>\n",
              "  <tbody>\n",
              "    <tr>\n",
              "      <th>0</th>\n",
              "      <td>405</td>\n",
              "      <td>1.34947</td>\n",
              "      <td>0.0065</td>\n",
              "    </tr>\n",
              "    <tr>\n",
              "      <th>1</th>\n",
              "      <td>532</td>\n",
              "      <td>1.34161</td>\n",
              "      <td>0.0043</td>\n",
              "    </tr>\n",
              "    <tr>\n",
              "      <th>2</th>\n",
              "      <td>650</td>\n",
              "      <td>1.33747</td>\n",
              "      <td>0.0034</td>\n",
              "    </tr>\n",
              "  </tbody>\n",
              "</table>\n",
              "</div>"
            ],
            "text/plain": [
              "     W        R      Er\n",
              "0  405  1.34947  0.0065\n",
              "1  532  1.34161  0.0043\n",
              "2  650  1.33747  0.0034"
            ]
          },
          "metadata": {},
          "execution_count": 46
        }
      ]
    },
    {
      "cell_type": "code",
      "metadata": {
        "id": "g-DQ9gUm7g3x"
      },
      "source": [
        "# Cauchy's equation, this for the fitting\n",
        "def n(l,A,B):\n",
        "  \"\"\"\n",
        "  Function that relates the refractive index of a material with the wavelength of a light beam.\n",
        "  Input:\n",
        "    l : Wavelength of the light beam.\n",
        "    A : Coefficient 1.\n",
        "    B : Coefficient 2.\n",
        "\n",
        "  Output:\n",
        "    n(l) : Refractive index of the associated wavelength.\n",
        "\n",
        "  \"\"\"\n",
        "  return A + B/l**2 "
      ],
      "execution_count": 47,
      "outputs": []
    },
    {
      "cell_type": "code",
      "metadata": {
        "colab": {
          "base_uri": "https://localhost:8080/"
        },
        "id": "K6YsRJXftpec",
        "outputId": "40ed94c0-b9f1-46a3-9200-8b54847b6060"
      },
      "source": [
        "# Fit of the data with the equation\n",
        "l = d['W']\n",
        "r = d['R']\n",
        "f, pcov1 = curve_fit(n,l,r, sigma=d['Er'])\n",
        "\n",
        "# Values of A & B that best fit with the data\n",
        "f"
      ],
      "execution_count": 48,
      "outputs": [
        {
          "output_type": "execute_result",
          "data": {
            "text/plain": [
              "array([1.32991841e+00, 3.23683558e+03])"
            ]
          },
          "metadata": {},
          "execution_count": 48
        }
      ]
    },
    {
      "cell_type": "code",
      "metadata": {
        "colab": {
          "base_uri": "https://localhost:8080/"
        },
        "id": "R5kwtRlOVUS0",
        "outputId": "dc8e2ee8-249d-47fe-b391-05be6cb94fe9"
      },
      "source": [
        "# Uncertainty of the parameters A & B\n",
        "err1 = np.sqrt(np.diag(pcov1))\n",
        "err1"
      ],
      "execution_count": 49,
      "outputs": [
        {
          "output_type": "execute_result",
          "data": {
            "text/plain": [
              "array([5.01773801e-04, 1.42398736e+02])"
            ]
          },
          "metadata": {},
          "execution_count": 49
        }
      ]
    },
    {
      "cell_type": "code",
      "metadata": {
        "id": "CvXpCTCVWcBn"
      },
      "source": [
        "# Values of A & B\n",
        "A_ = f[0]\n",
        "B_ = f[1]"
      ],
      "execution_count": 50,
      "outputs": []
    },
    {
      "cell_type": "code",
      "metadata": {
        "colab": {
          "base_uri": "https://localhost:8080/"
        },
        "id": "YkLpgwei0MBw",
        "outputId": "fa72a44f-edb8-44f0-f869-8eef1cf6dc7c"
      },
      "source": [
        "# Refractive indices for the Fraunhofer spectral lines\n",
        "re = n(656.3, A_, B_)\n",
        "ye = n(589.3, A_, B_)\n",
        "bl = n(486.1, A_, B_)\n",
        "\n",
        "print(f'Refractive index of red in Water: {round(re,4)}\\n Refractive index of yellow in Water: {round(ye,4)}')\n",
        "print(f'Refractive index of blue in Water: {round(bl,4)} ')"
      ],
      "execution_count": 51,
      "outputs": [
        {
          "output_type": "stream",
          "name": "stdout",
          "text": [
            "Refractive index of red in Water: 1.3374\n",
            " Refractive index of yellow in Water: 1.3392\n",
            "Refractive index of blue in Water: 1.3436 \n"
          ]
        }
      ]
    },
    {
      "cell_type": "code",
      "metadata": {
        "colab": {
          "base_uri": "https://localhost:8080/"
        },
        "id": "EJEN78gO1LTp",
        "outputId": "89adb810-38c9-4313-9484-2d4c07c1f44f"
      },
      "source": [
        "# Abbe number of water\n",
        "V = (ye - 1)/(bl - re)\n",
        "print(f'Abbe number of Water, VD: {round(V,4)}')"
      ],
      "execution_count": 52,
      "outputs": [
        {
          "output_type": "stream",
          "name": "stdout",
          "text": [
            "Abbe number of Water, VD: 54.861\n"
          ]
        }
      ]
    },
    {
      "cell_type": "code",
      "metadata": {
        "colab": {
          "base_uri": "https://localhost:8080/",
          "height": 440
        },
        "id": "iFHX3Qoc1WQT",
        "outputId": "2b511137-6fdb-4ec9-fa32-813fc7be6da4"
      },
      "source": [
        "# Graph of the data and the fit\n",
        "\n",
        "font = {'weight' : 'bold', 'size'   : 15}\n",
        "matplotlib.rc('font', **font)\n",
        "fig = plt.figure(figsize=(12,6)) \n",
        "fig.subplots_adjust(wspace=.2)\n",
        "################################################\n",
        "\n",
        "# Cauchy's equation fit with its respective parameters uncertainty, three curves will be shown\n",
        "w_ = np.linspace(380,800, 20)\n",
        "ya = n(w_,A_,B_)\n",
        "y1a = n(w_,A_+err1[0], B_+err1[1])\n",
        "y2a = n(w_,A_-err1[0], B_-err1[1])\n",
        "\n",
        "plt.plot(d['W'], d['R'], 'o')\n",
        "plt.plot(w_, ya, 'k-', label=\"Cauchy's Equation Fit\")\n",
        "plt.plot(w_, y1a, 'g--')\n",
        "plt.plot(w_, y2a, 'g--')\n",
        "plt.fill_between(w_, y1a, y2a, facecolor=\"red\", alpha=0.15)\n",
        "\n",
        "# Experimental Data with its error bars\n",
        "plt.errorbar(d['W'][0],d['R'][0], yerr= d['Er'][0], color ='orange')\n",
        "plt.plot(d['W'][0], d['R'][0], 'mo', label = \"Refractive Index, $\\\\lambda = 405 nm$\")\n",
        "plt.errorbar(d['W'][1],d['R'][1], yerr= d['Er'][1], color= 'orange')\n",
        "plt.plot(d['W'][1], d['R'][1], 'go', label = \"Refractive Index, $\\\\lambda = 532 nm$\")\n",
        "plt.errorbar(d['W'][2],d['R'][2], yerr= d['Er'][2], color= 'orange')\n",
        "plt.plot(d['W'][2], d['R'][2], 'ro', label = \"Refractive Index, $\\\\lambda = 650 nm$\")\n",
        "\n",
        "# Refractive indices for the Fraunhofer spectral lines\n",
        "plt.plot(656.3, re, 's', color = 'darkred',  markersize=10)\n",
        "plt.plot(589.3, ye, 'ys', markersize=10)\n",
        "plt.plot(486.1, bl, 'bs',  markersize=10)\n",
        "\n",
        "# Labeling\n",
        "plt.title(\"Refractive Index of Water\", size = 20)\n",
        "plt.xlabel('$Wavelength$ $\\lambda$ $[nm]$')\n",
        "plt.ylabel('$Refractive$ $Index$ $n(\\lambda)$')\n",
        "plt.legend()\n",
        "plt.xlim(380,680)"
      ],
      "execution_count": 53,
      "outputs": [
        {
          "output_type": "execute_result",
          "data": {
            "text/plain": [
              "(380.0, 680.0)"
            ]
          },
          "metadata": {},
          "execution_count": 53
        },
        {
          "output_type": "display_data",
          "data": {
            "image/png": "[encoded data removed]",
            "text/plain": [
              "<Figure size 864x432 with 1 Axes>"
            ]
          },
          "metadata": {
            "needs_background": "light"
          }
        }
      ]
    },
    {
      "cell_type": "markdown",
      "metadata": {
        "id": "tx66D-w53qB5"
      },
      "source": [
        "## $\\textbf{Rubbing Alcohol}$"
      ]
    },
    {
      "cell_type": "code",
      "metadata": {
        "id": "g1Q5_edBvgLM",
        "colab": {
          "base_uri": "https://localhost:8080/",
          "height": 142
        },
        "outputId": "e0ee4df1-3b32-4618-c4ea-4154048d4c68"
      },
      "source": [
        "# Laser pointers wavelengths used in the project\n",
        "W = W\n",
        "\n",
        "# Rafractive indices of rubbing alcohol for each wavelength\n",
        "Rh = np.array([1.39555, 1.38636, 1.38266])\n",
        "\n",
        "# Experimental uncertainty for the refractive indices\n",
        "erh = np.array([0.0072,0.0058,0.0039])\n",
        "dath = {\"W\": W, \"R\": Rh, \"Er\": erh}\n",
        "\n",
        "# DataFrame with the experimental data\n",
        "dh = pd.DataFrame(dath) \n",
        "dh"
      ],
      "execution_count": 54,
      "outputs": [
        {
          "output_type": "execute_result",
          "data": {
            "text/html": [
              "<div>\n",
              "<style scoped>\n",
              "    .dataframe tbody tr th:only-of-type {\n",
              "        vertical-align: middle;\n",
              "    }\n",
              "\n",
              "    .dataframe tbody tr th {\n",
              "        vertical-align: top;\n",
              "    }\n",
              "\n",
              "    .dataframe thead th {\n",
              "        text-align: right;\n",
              "    }\n",
              "</style>\n",
              "<table border=\"1\" class=\"dataframe\">\n",
              "  <thead>\n",
              "    <tr style=\"text-align: right;\">\n",
              "      <th></th>\n",
              "      <th>W</th>\n",
              "      <th>R</th>\n",
              "      <th>Er</th>\n",
              "    </tr>\n",
              "  </thead>\n",
              "  <tbody>\n",
              "    <tr>\n",
              "      <th>0</th>\n",
              "      <td>405</td>\n",
              "      <td>1.39555</td>\n",
              "      <td>0.0072</td>\n",
              "    </tr>\n",
              "    <tr>\n",
              "      <th>1</th>\n",
              "      <td>532</td>\n",
              "      <td>1.38636</td>\n",
              "      <td>0.0058</td>\n",
              "    </tr>\n",
              "    <tr>\n",
              "      <th>2</th>\n",
              "      <td>650</td>\n",
              "      <td>1.38266</td>\n",
              "      <td>0.0039</td>\n",
              "    </tr>\n",
              "  </tbody>\n",
              "</table>\n",
              "</div>"
            ],
            "text/plain": [
              "     W        R      Er\n",
              "0  405  1.39555  0.0072\n",
              "1  532  1.38636  0.0058\n",
              "2  650  1.38266  0.0039"
            ]
          },
          "metadata": {},
          "execution_count": 54
        }
      ]
    },
    {
      "cell_type": "code",
      "metadata": {
        "id": "KFPynNNjjMsE",
        "colab": {
          "base_uri": "https://localhost:8080/"
        },
        "outputId": "c751e7c4-9e4d-4327-9431-e80a464e3d59"
      },
      "source": [
        "# Fit of the data with the equation\n",
        "L = dh['W']\n",
        "y = dh['R']\n",
        "fh, pcov2 = curve_fit(n,L,y, sigma=erh)\n",
        "\n",
        "# Values of A & B that best fit with the data\n",
        "fh"
      ],
      "execution_count": 55,
      "outputs": [
        {
          "output_type": "execute_result",
          "data": {
            "text/plain": [
              "array([1.37443112e+00, 3.44484176e+03])"
            ]
          },
          "metadata": {},
          "execution_count": 55
        }
      ]
    },
    {
      "cell_type": "code",
      "metadata": {
        "colab": {
          "base_uri": "https://localhost:8080/"
        },
        "id": "85YnnnExsYV5",
        "outputId": "aea4825f-e637-4cf6-9e65-259605c574ad"
      },
      "source": [
        "# Uncertainty of the parameters A & B\n",
        "err2 = np.sqrt(np.diag(pcov2))\n",
        "err2"
      ],
      "execution_count": 56,
      "outputs": [
        {
          "output_type": "execute_result",
          "data": {
            "text/plain": [
              "array([3.80146086e-04, 1.06710986e+02])"
            ]
          },
          "metadata": {},
          "execution_count": 56
        }
      ]
    },
    {
      "cell_type": "code",
      "metadata": {
        "id": "_CMr8Ryj4q08"
      },
      "source": [
        "# Values of A & B\n",
        "Ah = fh[0]\n",
        "Bh = fh[1]\n"
      ],
      "execution_count": 57,
      "outputs": []
    },
    {
      "cell_type": "code",
      "metadata": {
        "colab": {
          "base_uri": "https://localhost:8080/"
        },
        "id": "b0212amx5qc2",
        "outputId": "2f962de9-0404-4ced-feed-c40e9dbec2f7"
      },
      "source": [
        "# Refractive indices for the Fraunhofer spectral lines\n",
        "reh = n(656.3,Ah,Bh)\n",
        "yeh = n(589.3,Ah,Bh)\n",
        "blh = n(486.1,Ah,Bh)\n",
        "\n",
        "print(f'Refractive index of red in Alcohol: {round(reh,4)}\\n Refractive index of yellow in Alcohol: {round(yeh,4)}')\n",
        "print(f'Refractive index of blue in Alcohol: {round(blh,4)} ')"
      ],
      "execution_count": 58,
      "outputs": [
        {
          "output_type": "stream",
          "name": "stdout",
          "text": [
            "Refractive index of red in Alcohol: 1.3824\n",
            " Refractive index of yellow in Alcohol: 1.3844\n",
            "Refractive index of blue in Alcohol: 1.389 \n"
          ]
        }
      ]
    },
    {
      "cell_type": "code",
      "metadata": {
        "colab": {
          "base_uri": "https://localhost:8080/"
        },
        "id": "_nmK25oX6TML",
        "outputId": "2d8d51b8-c359-46ca-ce97-81f2cb39013a"
      },
      "source": [
        "# Abbe number of water\n",
        "Va = (yeh - 1)/(blh - reh)\n",
        "print(f'Abbe number of Rubbing Alcohol, Va: {round(Va,4)}')"
      ],
      "execution_count": 59,
      "outputs": [
        {
          "output_type": "stream",
          "name": "stdout",
          "text": [
            "Abbe number of Rubbing Alcohol, Va: 58.4032\n"
          ]
        }
      ]
    },
    {
      "cell_type": "code",
      "metadata": {
        "colab": {
          "base_uri": "https://localhost:8080/",
          "height": 440
        },
        "id": "fDX0uxBZ5KZd",
        "outputId": "9df6400b-e2fc-477a-b3b8-f94de9738404"
      },
      "source": [
        "# Graph of the data and the fit\n",
        "\n",
        "font = {'weight' : 'bold', 'size'   : 15}\n",
        "matplotlib.rc('font', **font)\n",
        "fig = plt.figure(figsize=(12,6)) \n",
        "fig.subplots_adjust(wspace=.2)\n",
        "################################################\n",
        "\n",
        "# Cauchy's equation fit with its respective parameters uncertainty, three curves will be shown\n",
        "Ah = fh[0]\n",
        "Bh = fh[1]\n",
        "w_ = np.linspace(380,800, 20)\n",
        "yh = n(w_,Ah,Bh)\n",
        "y1h = n(w_,Ah+err2[0], Bh+err2[1])\n",
        "y2h = n(w_,Ah-err2[0], Bh-err2[1])\n",
        "\n",
        "plt.plot(dh['W'], dh['R'], 'o')\n",
        "plt.plot(w_, yh, 'g-', label=\"Cauchy's Equation Fit\")\n",
        "plt.plot(w_, y1h, 'k--')\n",
        "plt.plot(w_, y2h, 'k--')\n",
        "plt.fill_between(w_, y1h, y2h, facecolor=\"blue\", alpha=0.15)\n",
        "\n",
        "# Experimental Data with its error bars\n",
        "plt.errorbar(dh['W'][0],dh['R'][0], yerr= dh['Er'][0], color ='orange')\n",
        "plt.plot(dh['W'][0], dh['R'][0], 'mo', label = \"Refractive Index, $\\\\lambda = 405 nm$\")\n",
        "plt.errorbar(dh['W'][1],dh['R'][1], yerr= dh['Er'][1], color ='orange')\n",
        "plt.plot(dh['W'][1], dh['R'][1], 'go', label = \"Refractive Index, $\\\\lambda = 532 nm$\")\n",
        "plt.errorbar(dh['W'][2],dh['R'][2], yerr= dh['Er'][2], color ='orange')\n",
        "plt.plot(dh['W'][2], dh['R'][2], 'ro', label = \"Refractive Index, $\\\\lambda = 650 nm$\")\n",
        "\n",
        "# Refractive indices for the Fraunhofer spectral lines\n",
        "plt.plot(656.3, reh, '<', color = 'darkred',  markersize=10)\n",
        "plt.plot(589.3, yeh, 'y<', markersize=10)\n",
        "plt.plot(486.1, blh, 'b<',  markersize=10)\n",
        "\n",
        "# Labeling\n",
        "plt.title(\"Refractive Index of Rubbing Alcohol\", size = 20)\n",
        "plt.xlabel('$Wavelength$ $\\lambda$ $[nm]$')\n",
        "plt.ylabel('$Refractive$ $Index$ $n(\\lambda)$')\n",
        "plt.legend()\n",
        "plt.xlim(380,700)"
      ],
      "execution_count": 60,
      "outputs": [
        {
          "output_type": "execute_result",
          "data": {
            "text/plain": [
              "(380.0, 700.0)"
            ]
          },
          "metadata": {},
          "execution_count": 60
        },
        {
          "output_type": "display_data",
          "data": {
            "image/png": "[encoded data removed]",
            "text/plain": [
              "<Figure size 864x432 with 1 Axes>"
            ]
          },
          "metadata": {
            "needs_background": "light"
          }
        }
      ]
    },
    {
      "cell_type": "markdown",
      "metadata": {
        "id": "QgUqDKDxHMyy"
      },
      "source": [
        "## $\\textbf{Sunflower Oil}$"
      ]
    },
    {
      "cell_type": "code",
      "metadata": {
        "colab": {
          "base_uri": "https://localhost:8080/",
          "height": 142
        },
        "id": "CmmaujzjHRWD",
        "outputId": "d5359500-ddd6-42b9-999c-a5e4b663fb13"
      },
      "source": [
        "# Laser pointers wavelengths used in the project\n",
        "W = W\n",
        "\n",
        "# Rafractive indices of sunflower oil for each wavelength\n",
        "RO = np.array([1.5047,1.4885, 1.4829])\n",
        "\n",
        "# Experimental uncertainty for the refractive indices\n",
        "erO = np.array([0.00620,0.00496,0.00392])\n",
        "datO = {\"W\": W, \"R\": RO, \"Er\": erO}\n",
        "\n",
        "# DataFrame with the experimental data\n",
        "dO = pd.DataFrame(datO) \n",
        "dO"
      ],
      "execution_count": 61,
      "outputs": [
        {
          "output_type": "execute_result",
          "data": {
            "text/html": [
              "<div>\n",
              "<style scoped>\n",
              "    .dataframe tbody tr th:only-of-type {\n",
              "        vertical-align: middle;\n",
              "    }\n",
              "\n",
              "    .dataframe tbody tr th {\n",
              "        vertical-align: top;\n",
              "    }\n",
              "\n",
              "    .dataframe thead th {\n",
              "        text-align: right;\n",
              "    }\n",
              "</style>\n",
              "<table border=\"1\" class=\"dataframe\">\n",
              "  <thead>\n",
              "    <tr style=\"text-align: right;\">\n",
              "      <th></th>\n",
              "      <th>W</th>\n",
              "      <th>R</th>\n",
              "      <th>Er</th>\n",
              "    </tr>\n",
              "  </thead>\n",
              "  <tbody>\n",
              "    <tr>\n",
              "      <th>0</th>\n",
              "      <td>405</td>\n",
              "      <td>1.5047</td>\n",
              "      <td>0.00620</td>\n",
              "    </tr>\n",
              "    <tr>\n",
              "      <th>1</th>\n",
              "      <td>532</td>\n",
              "      <td>1.4885</td>\n",
              "      <td>0.00496</td>\n",
              "    </tr>\n",
              "    <tr>\n",
              "      <th>2</th>\n",
              "      <td>650</td>\n",
              "      <td>1.4829</td>\n",
              "      <td>0.00392</td>\n",
              "    </tr>\n",
              "  </tbody>\n",
              "</table>\n",
              "</div>"
            ],
            "text/plain": [
              "     W       R       Er\n",
              "0  405  1.5047  0.00620\n",
              "1  532  1.4885  0.00496\n",
              "2  650  1.4829  0.00392"
            ]
          },
          "metadata": {},
          "execution_count": 61
        }
      ]
    },
    {
      "cell_type": "code",
      "metadata": {
        "colab": {
          "base_uri": "https://localhost:8080/"
        },
        "id": "70T0f5pfIOa9",
        "outputId": "9e3f2ecf-6f90-4f9a-8930-cf74c72796a3"
      },
      "source": [
        "# Fit of the data with the equation\n",
        "LO = dO['W']\n",
        "yO = dO['R']\n",
        "fO, pcov3 = curve_fit(n,LO,yO,sigma=erO)\n",
        "\n",
        "# Values of A & B that best fit with the data\n",
        "fO"
      ],
      "execution_count": 62,
      "outputs": [
        {
          "output_type": "execute_result",
          "data": {
            "text/plain": [
              "array([1.46873669e+00, 5.83148448e+03])"
            ]
          },
          "metadata": {},
          "execution_count": 62
        }
      ]
    },
    {
      "cell_type": "code",
      "metadata": {
        "colab": {
          "base_uri": "https://localhost:8080/"
        },
        "id": "eufYydI1uoyT",
        "outputId": "6489c669-36ac-4d44-8748-ab9254343d39"
      },
      "source": [
        "# Uncertainty of the parameters A & B\n",
        "err3 = np.sqrt(diag(pcov3)) \n",
        "err3"
      ],
      "execution_count": 63,
      "outputs": [
        {
          "output_type": "execute_result",
          "data": {
            "text/plain": [
              "array([1.49810311e-03, 4.00973055e+02])"
            ]
          },
          "metadata": {},
          "execution_count": 63
        }
      ]
    },
    {
      "cell_type": "code",
      "metadata": {
        "id": "bgX2p3fcIORg"
      },
      "source": [
        "# Values of A & B\n",
        "AO = fO[0]\n",
        "BO = fO[1]"
      ],
      "execution_count": 64,
      "outputs": []
    },
    {
      "cell_type": "code",
      "metadata": {
        "colab": {
          "base_uri": "https://localhost:8080/"
        },
        "id": "N4IOvXsfIOAi",
        "outputId": "f6111a21-f282-4966-b101-2ce035996205"
      },
      "source": [
        "# Refractive indices for the Fraunhofer spectral lines\n",
        "reO = n(656.3,AO,BO)\n",
        "yeO = n(589.3,AO,BO)\n",
        "blO = n(486.1,AO,BO)\n",
        "\n",
        "print(f'Refractive index of red in Oil: {round(reO,4)}\\n Refractive index of yellow in Oil: {round(yeO,4)}') \n",
        "print( f'Refractive index of blue in Oil: {round(blO,4)} ')"
      ],
      "execution_count": 65,
      "outputs": [
        {
          "output_type": "stream",
          "name": "stdout",
          "text": [
            "Refractive index of red in Oil: 1.4823\n",
            " Refractive index of yellow in Oil: 1.4855\n",
            "Refractive index of blue in Oil: 1.4934 \n"
          ]
        }
      ]
    },
    {
      "cell_type": "code",
      "metadata": {
        "colab": {
          "base_uri": "https://localhost:8080/"
        },
        "id": "yDzXeEhfINtf",
        "outputId": "d3b84ae3-c55b-4de8-89a0-92bbd0632e9c"
      },
      "source": [
        "# Abbe number of water\n",
        "VO = (yeO - 1)/(blO - reO)\n",
        "print(f'Abbe number of sunflower Oil, VO: {round(VO,4)}')"
      ],
      "execution_count": 66,
      "outputs": [
        {
          "output_type": "stream",
          "name": "stdout",
          "text": [
            "Abbe number of sunflower Oil, VO: 43.5827\n"
          ]
        }
      ]
    },
    {
      "cell_type": "code",
      "metadata": {
        "colab": {
          "base_uri": "https://localhost:8080/",
          "height": 440
        },
        "id": "WRIUlmkEKBNJ",
        "outputId": "326d2b86-0348-43c8-809c-cccf5ea528be"
      },
      "source": [
        "# Graph of the data and the fit\n",
        "\n",
        "font = {'weight' : 'bold', 'size'   : 15}\n",
        "matplotlib.rc('font', **font)\n",
        "fig = plt.figure(figsize=(12,6)) \n",
        "fig.subplots_adjust(wspace=.2)\n",
        "################################################\n",
        "\n",
        "# Cauchy's equation fit with its respective parameters uncertainty, three curves will be shown\n",
        "w_ = np.linspace(380,800, 20)\n",
        "yO = n(w_,AO,BO)\n",
        "y1O = n(w_,AO+err3[0], BO+err3[1])\n",
        "y2O = n(w_,AO-err3[0], BO-err3[1])\n",
        "\n",
        "plt.plot(dO['W'], dO['R'], 'o')\n",
        "plt.plot(w_, yO, '-', color='gray', label=\"Cauchy's Equation Fit\")\n",
        "plt.plot(w_, y1O, 'r--')\n",
        "plt.plot(w_, y2O, 'r--')\n",
        "plt.fill_between(w_, y1O, y2O, facecolor=\"g\", alpha=0.15)\n",
        "\n",
        "# Experimental Data with its error bars\n",
        "plt.errorbar(dO['W'][0],dO['R'][0], yerr= dO['Er'][0], color ='orange')\n",
        "plt.plot(dO['W'][0], dO['R'][0], 'mo', label = \"Refractive Index, $\\\\lambda = 405 nm$\")\n",
        "plt.errorbar(dO['W'][1],dO['R'][1], yerr= dO['Er'][1], color ='orange')\n",
        "plt.plot(dO['W'][1], dO['R'][1], 'go', label = \"Refractive Index, $\\\\lambda = 532 nm$\")\n",
        "plt.errorbar(dO['W'][2],dO['R'][2], yerr= dO['Er'][2], color ='orange')\n",
        "plt.plot(dO['W'][2], dO['R'][2], 'ro', label = \"Refractive Index, $\\\\lambda = 650 nm$\")\n",
        "\n",
        "# Refractive indices for the Fraunhofer spectral lines\n",
        "plt.plot(656.3, reO, 'X', color = 'darkred',  markersize=10)\n",
        "plt.plot(589.3, yeO, 'yX', markersize=10)\n",
        "plt.plot(486.1, blO, 'bX',  markersize=10)\n",
        "\n",
        "# Labeling\n",
        "plt.title(\"Refractive Index of Sunflower Oil\", size = 20)\n",
        "plt.xlabel('$Wavelength$ $\\lambda$ $[nm]$')\n",
        "plt.ylabel('$Refractive$ $Index$ $n(\\lambda)$')\n",
        "plt.legend()\n",
        "plt.xlim(380,700)"
      ],
      "execution_count": 67,
      "outputs": [
        {
          "output_type": "execute_result",
          "data": {
            "text/plain": [
              "(380.0, 700.0)"
            ]
          },
          "metadata": {},
          "execution_count": 67
        },
        {
          "output_type": "display_data",
          "data": {
            "image/png": "[encoded data removed]",
            "text/plain": [
              "<Figure size 864x432 with 1 Axes>"
            ]
          },
          "metadata": {
            "needs_background": "light"
          }
        }
      ]
    },
    {
      "cell_type": "markdown",
      "metadata": {
        "id": "BqKn12xhVBKY"
      },
      "source": [
        "## $\\textbf{Propagation of Uncertainty}$"
      ]
    },
    {
      "cell_type": "markdown",
      "metadata": {
        "id": "q3JAVQ975ddX"
      },
      "source": [
        "The propagation of uncertainty for the refractive indices values found with the Cauchy's equation fit, will be find with the equation:\n",
        "$$\n",
        "\\delta n = \\sqrt{(dA)^{2} + (dB)^{2}\\cdot (\\frac{1}{\\lambda ^{2}})^{2}}\n",
        "$$\n",
        "\n",
        "Where   $dA$ is the uncertainty of the $A$ coefficient in the Cauchy's equation, $dB$ is the uncertainty of the $B$ coefficient in the Cauchy's equation and $\\lambda$ is the wavelength."
      ]
    },
    {
      "cell_type": "code",
      "metadata": {
        "id": "Q5QxLvZqqlxp"
      },
      "source": [
        "# Function \n",
        "def Delta_n(w,dA,dB):\n",
        "  \"\"\"\"\n",
        "  Function that calculates the propagation of uncertainty of the refractive index of a material, given\n",
        "  the Cauchy's equation for the relation between the refractive index and the wavelength.\n",
        "  --------------------------\n",
        "  Input: \n",
        "    w: Wavelength of the ray source.\n",
        "    dA: Uncertainty of the A coefficient in the Cauchy's equation.\n",
        "    dB: Uncertainty of the B coefficient in the Cauchy's equation.\n",
        "\n",
        "  Output:\n",
        "    Dn: Uncertainty of the refractive index associated to the Cauchy's equation.\n",
        "  ---------------------------\n",
        "  \"\"\"\n",
        "\n",
        "  return np.sqrt(dA**2 + (dB**2)*(1/w**2)**2)"
      ],
      "execution_count": 68,
      "outputs": []
    },
    {
      "cell_type": "markdown",
      "metadata": {
        "id": "fMJM5fqV8GiS"
      },
      "source": [
        "The propagation of uncertainty for the Abbe number of each material, is given by the equation:\n",
        "$$\n",
        "\\delta V_D= \\frac{1}{n_F - n_C}\\sqrt{(dn_D)^{2}+ (dn_F)^{2}\\cdot(\\frac{1-n_D}{n_F - n_C})^{2}+ (dn_C)^{2}\\cdot (\\frac{n_D -1}{n_F - n_C})^{2}}\n",
        "$$\n",
        "\n",
        "Where $n_F, n_C $  and $n_D$, are  the refractive indices for Blue, Red and Yellow  respectively, for the Fraunhofer spectral lines. $dn_D$ is the uncertainty of the Refractive index for the Yellow Ray, $dn_F$ is the uncertainty of the Refractive index for the Blue Ray and $dn_C$ is the uncertainty of the Refractive index for the Red Ray."
      ]
    },
    {
      "cell_type": "code",
      "metadata": {
        "id": "7NcArE_H7uNi"
      },
      "source": [
        "# Function\n",
        "def Delta_V(nF,nC,nD,dnD,dnF,dnC):\n",
        "  \"\"\"\"\n",
        "  Function that calculates the propagation of uncertainty of the Abbe number of a material, given\n",
        "  the Abbe's equation for the relation between the refractive indices for the Fraunhofer spectral lines.\n",
        "  --------------------------\n",
        "  Input: \n",
        "    nF: Refractive index of Blue in the Fraunhofer spectral lines.\n",
        "    nC: Refractive index of Red in the Fraunhofer spectral lines.\n",
        "    nD: Refractive index of Yellow in the Fraunhofer spectral lines.\n",
        "    dnD: Uncertainty of the Refractive index of Yellow Ray.\n",
        "    dnF: Uncertainty of the Refractive index of Blue Ray.\n",
        "    dnC: Uncertainty of the Refractive index of Red Ray.\n",
        "    \n",
        "\n",
        "  Output:\n",
        "    dV: Uncertainty of the Abbe number associated to the Abbe's equation.\n",
        "  ---------------------------\n",
        "  \"\"\"\n",
        "\n",
        "  return (1/(nF-nC))* np.sqrt(dnD**2 + (dnF**2)*((1-nD)/(nF-nC))**2 + (dnC**2)*((nD-1)/(nF-nC))**2)"
      ],
      "execution_count": 69,
      "outputs": []
    },
    {
      "cell_type": "code",
      "metadata": {
        "id": "9rkKATaEGcsi",
        "colab": {
          "base_uri": "https://localhost:8080/"
        },
        "outputId": "f66b2f4d-c30d-4793-8559-e4ab70ac7dfd"
      },
      "source": [
        "# Uncertainty of the parameters A & B, Water\n",
        "pcov1 = pcov1\n",
        "err1 = np.sqrt(np.diag(pcov1))\n",
        "err1"
      ],
      "execution_count": 70,
      "outputs": [
        {
          "output_type": "execute_result",
          "data": {
            "text/plain": [
              "array([5.01773801e-04, 1.42398736e+02])"
            ]
          },
          "metadata": {},
          "execution_count": 70
        }
      ]
    },
    {
      "cell_type": "code",
      "metadata": {
        "id": "MaS9576uF3y4",
        "colab": {
          "base_uri": "https://localhost:8080/"
        },
        "outputId": "605a95d9-b50b-4085-96a9-484ea33e63cc"
      },
      "source": [
        "# Uncertainty of the parameters A & B, Alcohol\n",
        "pcov2 = pcov2\n",
        "err2 = np.sqrt(np.diag(pcov2))\n",
        "err2"
      ],
      "execution_count": 71,
      "outputs": [
        {
          "output_type": "execute_result",
          "data": {
            "text/plain": [
              "array([3.80146086e-04, 1.06710986e+02])"
            ]
          },
          "metadata": {},
          "execution_count": 71
        }
      ]
    },
    {
      "cell_type": "code",
      "metadata": {
        "id": "exxoudI5xT4e",
        "colab": {
          "base_uri": "https://localhost:8080/"
        },
        "outputId": "6bb9c8d1-578d-4ed1-b364-d64bbed5bce4"
      },
      "source": [
        "# Uncertainty of the parameters A & B, Oil\n",
        "pcov3 = pcov3\n",
        "err3 = np.sqrt(np.diag(pcov3))\n",
        "err3"
      ],
      "execution_count": 72,
      "outputs": [
        {
          "output_type": "execute_result",
          "data": {
            "text/plain": [
              "array([1.49810311e-03, 4.00973055e+02])"
            ]
          },
          "metadata": {},
          "execution_count": 72
        }
      ]
    },
    {
      "cell_type": "code",
      "metadata": {
        "id": "Sx2iUXI5-NbP",
        "colab": {
          "base_uri": "https://localhost:8080/"
        },
        "outputId": "5eff668a-1cf4-4059-ec0f-a9535f5b4ea5"
      },
      "source": [
        "# Fraunhofer lines wavelengths\n",
        "D = 589.3   ## nm\n",
        "F = 486.1   ## nm\n",
        "C = 656.3   ## nm\n",
        "\n",
        "# Water refractive indices for the Fraunhofer spectral lines  \n",
        "re = n(C, A_, B_)\n",
        "ye = n(D, A_, B_)\n",
        "bl = n(F, A_, B_)\n",
        "\n",
        "# Rubbing Alcohol refractive indices for the Fraunhofer spectral lines\n",
        "reh = n(C, Ah,Bh)\n",
        "yeh = n(D, Ah,Bh)\n",
        "blh = n(F, Ah,Bh)\n",
        "\n",
        "# Sunflower Oil refractive indices for the Fraunhofer spectral lines\n",
        "reO = n(C,AO,BO)\n",
        "yeO = n(D,AO,BO)\n",
        "blO = n(F,AO,BO)\n",
        "\n",
        "# Water refractive index propagation of uncertainty \n",
        "dnDWt = Delta_n(D,err1[0],err1[1])\n",
        "dnFWt = Delta_n(F,err1[0],err1[1])\n",
        "dnCWt = Delta_n(C,err1[0],err1[1])\n",
        "\n",
        "# Rubbing Alcohol refractive index propagation of uncertainty \n",
        "dnDAl = Delta_n(D,err2[0],err2[1])\n",
        "dnFAl = Delta_n(F,err2[0],err2[1])\n",
        "dnCAl = Delta_n(C,err2[0],err2[1])\n",
        "\n",
        "# Sunflower oil refractive index propagation of uncertainty \n",
        "dnDO = Delta_n(D,err3[0],err3[1])\n",
        "dnFO = Delta_n(F,err3[0],err3[1])\n",
        "dnCO = Delta_n(C,err3[0],err3[1])\n",
        "\n",
        "# Water  Abbe number propagation of uncertainty\n",
        "\n",
        "dVWt = Delta_V(bl,re,ye,dnDWt,dnFWt,dnCWt)\n",
        "\n",
        "# Rubbing Alcohol  Abbe number propagation of uncertainty  \n",
        "\n",
        "dVAl = Delta_V(blh,reh,yeh,dnDAl,dnFAl,dnCAl)\n",
        "\n",
        "# Sunflower oil  Abbe number propagation of uncertinty \n",
        "dVO = Delta_V(blO,reO,yeO,dnDO,dnFO,dnCO)\n",
        "\n",
        "print(f'Uncertainty Refractive Indices of Yellow, Blue and Red in Water: {round(dnDWt, 4),round(dnFWt,4),round(dnCWt,4)}')\n",
        "print(f'Uncertainty Refractive Indices of Yellow, Blue and Red in Rubbing Alcohol: {round(dnDAl,4),round(dnFAl,4),round(dnCAl,4)}')\n",
        "print(f'Uncertainty Refractive Indices of Yellow, Blue and Red in Sunflower Oil: {round(dnDO,4),round(dnFO,4),round(dnCO,4)}')\n",
        "print(f'Uncertainty Abbe Number of Water: {round(dVWt,2)}')\n",
        "print(f'Uncertainty Abbe Number of Rubbing Alcohol: {round(dVAl,2)}')\n",
        "print(f'Uncertainty Abbe Number of Sunflower Oil: {round(dVO,2)}')\n",
        "print(f'Abbe Number of Water: {round(V,2)}')\n",
        "print(f'Abbe Number of Rubbing Alcohol: {round(Va,2)}')\n",
        "print(f'Abbe Number of Sunflower Oil: {round(VO,2)}')"
      ],
      "execution_count": 73,
      "outputs": [
        {
          "output_type": "stream",
          "name": "stdout",
          "text": [
            "Uncertainty Refractive Indices of Yellow, Blue and Red in Water: (0.0006, 0.0008, 0.0006)\n",
            "Uncertainty Refractive Indices of Yellow, Blue and Red in Rubbing Alcohol: (0.0005, 0.0006, 0.0005)\n",
            "Uncertainty Refractive Indices of Yellow, Blue and Red in Sunflower Oil: (0.0019, 0.0023, 0.0018)\n",
            "Uncertainty Abbe Number of Water: 8.77\n",
            "Uncertainty Abbe Number of Rubbing Alcohol: 6.61\n",
            "Uncertainty Abbe Number of Sunflower Oil: 11.23\n",
            "Abbe Number of Water: 54.86\n",
            "Abbe Number of Rubbing Alcohol: 58.4\n",
            "Abbe Number of Sunflower Oil: 43.58\n"
          ]
        }
      ]
    },
    {
      "cell_type": "markdown",
      "metadata": {
        "id": "lm2Ke8bhGIFA"
      },
      "source": [
        "## $\\textbf{Results}$"
      ]
    },
    {
      "cell_type": "markdown",
      "metadata": {
        "id": "CZcLv1eMEhej"
      },
      "source": [
        "\n",
        "| Fluid | Abbe Number | Uncertainty |\n",
        "| :- | -: | :-: |\n",
        "| Water | 54.86 | $\\pm$ 8.77 |\n",
        "| Rubbing Alcohol  | 58.40 | $\\pm$ 6.61 |\n",
        "|Sunflower Oil| 43.58 | $\\pm$ 11.23 |\n",
        "\n"
      ]
    },
    {
      "cell_type": "markdown",
      "metadata": {
        "id": "Fmg9nhkWGEnJ"
      },
      "source": [
        "As resuts are shown above, it can be seen that the material with a higher abbe number is the rubbing alcohol, this means that rubbing alcohol has a less dispersion of light, on the other hand sunflower oil disperses more the light, low abbe number, if the fluids are observed it is notice that water and alcohol are more transparents than oil.\n",
        "\n",
        "\\\\\n",
        "The Abbe number is important in optics because with this number is determined the quality of materials use for the construction optics dispositives like lens."
      ]
    },
    {
      "cell_type": "markdown",
      "metadata": {
        "id": "u8FLqjM2tmPP"
      },
      "source": [
        "#### $\\textbf{References}$\n",
        "\n",
        "- Abbe Number: https://www.rp-photonics.com/abbe_number.html\n",
        "- Cauchy's Equation: https://en.wikipedia.org/wiki/Cauchy%27s_equation"
      ]
    },
    {
      "cell_type": "code",
      "metadata": {
        "id": "wLv-Q8SmtoQS"
      },
      "source": [
        ""
      ],
      "execution_count": 73,
      "outputs": []
    }
  ]
}