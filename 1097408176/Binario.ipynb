{
  "nbformat": 4,
  "nbformat_minor": 0,
  "metadata": {
    "colab": {
      "name": "Binario.ipynb",
      "provenance": []
    },
    "kernelspec": {
      "name": "python3",
      "display_name": "Python 3"
    },
    "language_info": {
      "name": "python"
    }
  },
  "cells": [
    {
      "cell_type": "code",
      "metadata": {
        "colab": {
          "base_uri": "https://localhost:8080/"
        },
        "id": "7EJ01rQ7MV7l",
        "outputId": "93472184-ffb2-4a5b-d5be-67e3b8d5f392"
      },
      "source": [
        "def binario(ent):\n",
        "    bina= \"\"\n",
        "    while ent != 0:\n",
        "        res = int(ent%2)\n",
        "        ent = int(ent//2)\n",
        "        bina = str(res)+bina \n",
        "    return bina\n",
        "if __name__=='__main__':\n",
        "    numero=input('Escriba un entero a convertir en binario:\\n')\n",
        "    b=binario(int(numero))\n",
        "    print('Su numero en binario es: {}'.format(b))"
      ],
      "execution_count": 9,
      "outputs": [
        {
          "output_type": "stream",
          "text": [
            "Escriba un entero a convertir en binario:\n",
            "47\n",
            "Su numero en binario es: 101111\n"
          ],
          "name": "stdout"
        }
      ]
    },
    {
      "cell_type": "code",
      "metadata": {
        "id": "fMHQPRl7Vw4A"
      },
      "source": [
        ""
      ],
      "execution_count": null,
      "outputs": []
    }
  ]
}