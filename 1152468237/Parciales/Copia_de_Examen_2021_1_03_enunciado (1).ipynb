{
  "nbformat": 4,
  "nbformat_minor": 0,
  "metadata": {
    "kernelspec": {
      "display_name": "Python 3 (ipykernel)",
      "language": "python",
      "name": "python3"
    },
    "language_info": {
      "codemirror_mode": {
        "name": "ipython",
        "version": 3
      },
      "file_extension": ".py",
      "mimetype": "text/x-python",
      "name": "python",
      "nbconvert_exporter": "python",
      "pygments_lexer": "ipython3",
      "version": "3.7.3"
    },
    "colab": {
      "name": "Copia de Examen_2021_1_03_enunciado.ipynb",
      "provenance": []
    }
  },
  "cells": [
    {
      "cell_type": "markdown",
      "metadata": {
        "id": "40WhQJy2EWqx"
      },
      "source": [
        "# Casas-Ibarra\n",
        "Let $\\boldsymbol{A}$ $3\\times3$ a symmetric non-diagonal matrix with the following set of eigenvalues and eigenvectors:\n"
      ]
    },
    {
      "cell_type": "markdown",
      "metadata": {
        "id": "cwKjVMtNvgl0"
      },
      "source": [
        "____"
      ]
    },
    {
      "cell_type": "markdown",
      "metadata": {
        "id": "G-uQDCOkvgl0"
      },
      "source": [
        "### Eigenvalues\n",
        "The normal ordering of the absolute value of the eigenvalues is $m_1<m_2<m_3$. Each eigenvalue is expressed in units of eV, which just of an energy unit.\n",
        "### Eigenvectors\n",
        "The eigenvectors in the normal ordering are defined by\n",
        "$$\n",
        "\\boldsymbol{U}^T \\boldsymbol{A} \\boldsymbol{U}=\n",
        "\\begin{pmatrix}\n",
        "m_1& 0 & 0\\\\\n",
        "0 & m_2& 0\\\\\n",
        "0 & 0 & m_3\\\\\n",
        "\\end{pmatrix}.\n",
        "$$\n",
        "The unitary matrix can be parameterized in terms of three mixing angles, $\\theta_{23}$ $\\theta_{13}$, $\\theta_{12}$, such that\n",
        "$$\n",
        "\\boldsymbol{U}=\\left(\\begin{array}{ccc}\n",
        "1 & 0 & 0 \\\\\n",
        "0 & c_{23} & s_{23} \\\\\n",
        "0 & -s_{23} & c_{23}\n",
        "\\end{array}\\right) \\cdot\\left(\\begin{array}{ccc}\n",
        "c_{13} & 0 & s_{13}  \\\\\n",
        "0 & 1 & 0 \\\\\n",
        "-s_{13}  & 0 & c_{13}\n",
        "\\end{array}\\right) \\cdot\\left(\\begin{array}{ccc}\n",
        "c_{12} & s_{12} & 0 \\\\\n",
        "-s_{12} & c_{12} & 0 \\\\\n",
        "0 & 0 & 1\n",
        "\\end{array}\\right),\n",
        "$$\n",
        "where $c_{i j} \\equiv \\cos \\theta_{i j}$ and $s_{i j} \\equiv \\sin \\theta_{i j}$. Thus, we can write $\\boldsymbol{U}$ as\n",
        "$$\n",
        "\\boldsymbol{U}=\\left(\\begin{array}{ccc}c_{12} c_{13} & s_{12} c_{13} & s_{13}  \\\\ -s_{12} c_{23}-c_{12} s_{13} s_{23}& c_{12} c_{23}-s_{12} s_{13} s_{23}  & c_{13} s_{23} \\\\ s_{12} s_{23}-c_{12} s_{13} c_{23} & -c_{12} s_{23}-s_{12} s_{13} c_{23}  & c_{13} c_{23}\\end{array}\\right)\n",
        "$$\n",
        "so that\n",
        "$$\n",
        "\\boldsymbol{U}_1=\\begin{pmatrix}U_{e1}\\\\ U_{\\mu 1}\\\\ U_{\\tau 1}\\end{pmatrix}=\\begin{pmatrix}\n",
        "c_{12} c_{13} \\\\\n",
        "-s_{12} c_{23}-c_{12} s_{13} s_{23}  \\\\\n",
        "s_{12} s_{23}-c_{12} s_{13} c_{23} \n",
        "\\end{pmatrix},\\qquad \n",
        "\\boldsymbol{U}_2=\\begin{pmatrix}U_{e2}\\\\ U_{\\mu 2}\\\\ U_{\\tau 2}\\end{pmatrix}=\\begin{pmatrix}\n",
        "s_{12} c_{13} \\\\\n",
        "c_{12} c_{23}-s_{12} s_{13} s_{23}  \\\\\n",
        "-c_{12} s_{23}-s_{12} s_{13} c_{23} \n",
        "\\end{pmatrix},\\qquad\n",
        "\\boldsymbol{U}_3=\\begin{pmatrix}U_{e3}\\\\ U_{\\mu 3}\\\\ U_{\\tau 3}\\end{pmatrix}=\\begin{pmatrix}\n",
        "s_{13}  \\\\\n",
        "c_{13} s_{23} \\\\\n",
        "c_{13} c_{23}\n",
        "\\end{pmatrix}\n",
        "$$\n",
        "\n",
        "### Data\n",
        "Use the _central values_  of the following table but ignoring $\\delta_{CP}$ (In the previous equations was fixed to $\\delta_{CP}=0$). __Hint__: take care of the denominator in the first colum.\n",
        "\n",
        "![IMAGE](https://github.com/restrepo/ComputationalMethods/raw/master/material/figures/nu.png)\n",
        "\n",
        "where $\\Delta m^2_{ij}=m^2_i-m^2_j$ is the squared mass difference between eigenvalues $i$ and $j$; in units of $\\text{eV}^2$.\n"
      ]
    },
    {
      "cell_type": "markdown",
      "metadata": {
        "id": "bnSCrqmSvgl1"
      },
      "source": [
        "### Casas-Ibarra parameterization\n",
        "We can assumme without lost of generality that $\\boldsymbol{A}$ can be generated from a matrix $\\boldsymbol{Y}$ such that\n",
        "$$\n",
        "\\boldsymbol{A}=\\boldsymbol{Y}^{\\operatorname{T}}\\boldsymbol{Y}\n",
        "$$\n",
        "\n",
        "The matrix $\\boldsymbol{Y}$ can be parameterized in terms of an arbitray orthogonal $3\\times 3$ matrix, $\\boldsymbol{R}$, as\n",
        "$$\n",
        "\\boldsymbol{Y}=\\boldsymbol{R} \\boldsymbol{D}_{\\sqrt{m}} \\boldsymbol{U}^{\\operatorname{T}}\n",
        "$$\n",
        "\n",
        "\n",
        "* $R$ is an orthogonal $3\\times 3$ matrix, with three rotation angles $\\alpha_{ij}$ between $(0,2\\pi)$\n",
        "$$\n",
        "\\boldsymbol{R}=\\left(\\begin{array}{ccc}c^\\alpha_{12} c^\\alpha_{13} & s^\\alpha_{12} c^\\alpha_{13} & s^\\alpha_{13}  \\\\ -s^\\alpha_{12} c^\\alpha_{23}-c^\\alpha_{12} s^\\alpha_{13} s^\\alpha_{23}& c^\\alpha_{12} c^\\alpha_{23}-s^\\alpha_{12} s^\\alpha_{13} s^\\alpha_{23}  & c^\\alpha_{13} s^\\alpha_{23} \\\\ s^\\alpha_{12} s^\\alpha_{23}-c^\\alpha_{12} s^\\alpha_{13} c^\\alpha_{23} & -c^\\alpha_{12} s^\\alpha_{23}-s^\\alpha_{12} s^\\alpha_{13} c^\\alpha_{23}  & c^\\alpha_{13} c^\\alpha_{23}\\end{array}\\right)\n",
        "$$\n",
        "where $c^\\alpha_{i j} \\equiv \\cos \\alpha_{i j}$ and $s^\\alpha_{i j} \\equiv \\sin \\alpha_{i j}$.\n",
        "\n",
        "* $$\n",
        " \\boldsymbol{D}_{\\sqrt{m}}=\\operatorname{diag}\\left(\\sqrt{m_1},\\sqrt{m_2},\\sqrt{m_3}\\right)\n",
        "$$"
      ]
    },
    {
      "cell_type": "markdown",
      "metadata": {
        "id": "Iqj7EWSPvgl3"
      },
      "source": [
        "### Problem\n",
        "1. Choose a random value for $m_1$ between $10^{-9}\\ \\text{eV}$ and $10^{-4}\\ \\text{eV}$. Note that because of the wide range, the random variation  must be in the exponents. Obtain the corresponding $m_2$ and $m_3$ with the proper normal ordering.\n",
        "1. Choose random values for $\\alpha_{ij}$  between $(0,2\\pi)$\n",
        "1. Obtain $\\boldsymbol{Y}$\n",
        "1. Check that the generated $\\boldsymbol{A}$ has the proper eigenvalues and eigenvectors\n",
        "1. Check that the eigenvalues of $\\boldsymbol{Y}$ correspond to the square root of the eigenvalues of $\\boldsymbol{A}$ and explain why."
      ]
    },
    {
      "cell_type": "code",
      "metadata": {
        "id": "2J0n-8Rfvqks"
      },
      "source": [
        "# Bibliotecas.\n",
        "import numpy as np\n",
        "import random\n",
        "import scipy.linalg as la"
      ],
      "execution_count": null,
      "outputs": []
    },
    {
      "cell_type": "markdown",
      "metadata": {
        "id": "Z7RVes4nDhrh"
      },
      "source": [
        "#1. Choose a random value for $m_1$ between $10^{-9}\\ \\text{eV}$ and $10^{-4}\\ \\text{eV}$. Note that because of the wide range, the random variation  must be in the exponents. Obtain the corresponding $m_2$ and $m_3$ with the proper normal ordering."
      ]
    },
    {
      "cell_type": "code",
      "metadata": {
        "colab": {
          "base_uri": "https://localhost:8080/"
        },
        "id": "0MVKyCxcA6CB",
        "outputId": "d460b4ef-ab17-4fc7-b8a9-1043eafbc53f"
      },
      "source": [
        "h = (random.randint(4, 9))\n",
        "m1 = 10**(-h)\n",
        "print('m1 = {}'.format(m1))"
      ],
      "execution_count": null,
      "outputs": [
        {
          "output_type": "stream",
          "name": "stdout",
          "text": [
            "m1 = 1e-05\n"
          ]
        }
      ]
    },
    {
      "cell_type": "markdown",
      "metadata": {
        "id": "DO4OxATfDyZn"
      },
      "source": [
        "where $\\Delta m^2_{ij}=m^2_i-m^2_j$ is the squared mass difference between eigenvalues $i$ and $j$; in units of $\\text{eV}^2$.\n",
        "\n",
        "Para $m_2$:\n",
        "\n",
        "$\\dfrac{\\Delta m^2_{21}}{10^{-5}} = 7.39$\n",
        "\n",
        "\n",
        "$\\Delta m^2_{21} = (7.39)(10^{-5}) = m^2_2 - m^2_1$\n",
        "\n",
        "$m_2 = \\sqrt{(7.39)(10^{-5})+m^2_1}$"
      ]
    },
    {
      "cell_type": "code",
      "metadata": {
        "colab": {
          "base_uri": "https://localhost:8080/"
        },
        "id": "lpLtR99OFqBW",
        "outputId": "41c70717-0b2d-4958-e9b5-bd171280eaa5"
      },
      "source": [
        "m2 = np.sqrt((7.39*1E-5)+m1)\n",
        "print('m2 = {}'.format(m2))"
      ],
      "execution_count": null,
      "outputs": [
        {
          "output_type": "stream",
          "name": "stdout",
          "text": [
            "m2 = 0.00915969431804359\n"
          ]
        }
      ]
    },
    {
      "cell_type": "markdown",
      "metadata": {
        "id": "NZI01U6OE-ZH"
      },
      "source": [
        "Para $m_3$:\n",
        "\n",
        "$\\dfrac{\\Delta m^2_{32}}{10^{-3}} = 2.449$\n",
        "\n",
        "$\\Delta m^2_{32} = (2.449)(10^{-3}) = m^2_3 - m^2_2$\n",
        "\n",
        "$m_3 = \\sqrt{(2.449)(10^{-3})+m^2_2}$"
      ]
    },
    {
      "cell_type": "code",
      "metadata": {
        "colab": {
          "base_uri": "https://localhost:8080/"
        },
        "id": "Z09uPufQGVYy",
        "outputId": "92a3a73f-3dbe-4561-90f7-ca33abdbdeb6"
      },
      "source": [
        "m3 = np.sqrt((2.449*1E-3)+m2)\n",
        "print('m3 = {}'.format(m3))"
      ],
      "execution_count": null,
      "outputs": [
        {
          "output_type": "stream",
          "name": "stdout",
          "text": [
            "m3 = 0.10774365094075655\n"
          ]
        }
      ]
    },
    {
      "cell_type": "markdown",
      "metadata": {
        "id": "99wWOg0EGtUe"
      },
      "source": [
        "#2. Choose random values for $\\alpha_{ij}$  between $(0,2\\pi)$\n"
      ]
    },
    {
      "cell_type": "code",
      "metadata": {
        "colab": {
          "base_uri": "https://localhost:8080/"
        },
        "id": "V6CiBBbBHUw2",
        "outputId": "5d84e8ae-c957-4236-c51b-4cbd774f3f7b"
      },
      "source": [
        "α12= random.uniform(0, np.pi*2)\n",
        "α13 = random.uniform(0, np.pi*2)\n",
        "α23 = random.uniform(0, np.pi*2)\n",
        "\n",
        "print('Los valores de α son:\\nα12 = {}\\nα13 = {}\\nα23 = {}'.format(α12,α13,α23))"
      ],
      "execution_count": null,
      "outputs": [
        {
          "output_type": "stream",
          "name": "stdout",
          "text": [
            "Los valores de α son:\n",
            "α12 = 1.9345285220181176\n",
            "α13 = 3.6847188278651295\n",
            "α23 = 6.2099806774320285\n"
          ]
        }
      ]
    },
    {
      "cell_type": "markdown",
      "metadata": {
        "id": "Bj5Uz8D8ISP_"
      },
      "source": [
        "#3. Obtain $\\boldsymbol{Y}$\n",
        "The matrix $\\boldsymbol{Y}$ can be parameterized in terms of an arbitray orthogonal $3\\times 3$ matrix, $\\boldsymbol{R}$, as\n",
        "$$\n",
        "\\boldsymbol{Y}=\\boldsymbol{R} \\boldsymbol{D}_{\\sqrt{m}} \\boldsymbol{U}^{\\operatorname{T}}\n",
        "$$\n",
        "\n",
        "\n",
        "* $R$ is an orthogonal $3\\times 3$ matrix, with three rotation angles $\\alpha_{ij}$ between $(0,2\\pi)$\n",
        "$$\n",
        "\\boldsymbol{R}=\\left(\\begin{array}{ccc}c^\\alpha_{12} c^\\alpha_{13} & s^\\alpha_{12} c^\\alpha_{13} & s^\\alpha_{13}  \\\\ -s^\\alpha_{12} c^\\alpha_{23}-c^\\alpha_{12} s^\\alpha_{13} s^\\alpha_{23}& c^\\alpha_{12} c^\\alpha_{23}-s^\\alpha_{12} s^\\alpha_{13} s^\\alpha_{23}  & c^\\alpha_{13} s^\\alpha_{23} \\\\ s^\\alpha_{12} s^\\alpha_{23}-c^\\alpha_{12} s^\\alpha_{13} c^\\alpha_{23} & -c^\\alpha_{12} s^\\alpha_{23}-s^\\alpha_{12} s^\\alpha_{13} c^\\alpha_{23}  & c^\\alpha_{13} c^\\alpha_{23}\\end{array}\\right)\n",
        "$$\n",
        "where $c^\\alpha_{i j} \\equiv \\cos \\alpha_{i j}$ and $s^\\alpha_{i j} \\equiv \\sin \\alpha_{i j}$.\n",
        "\n",
        "* $$\n",
        " \\boldsymbol{D}_{\\sqrt{m}}=\\operatorname{diag}\\left(\\sqrt{m_1},\\sqrt{m_2},\\sqrt{m_3}\\right)\n",
        "$$\n",
        "\n",
        "The unitary matrix can be parameterized in terms of three mixing angles, $\\theta_{23}$ $\\theta_{13}$, $\\theta_{12}$, such that\n",
        "$$\n",
        "\\boldsymbol{U}=\\left(\\begin{array}{ccc}\n",
        "1 & 0 & 0 \\\\\n",
        "0 & c_{23} & s_{23} \\\\\n",
        "0 & -s_{23} & c_{23}\n",
        "\\end{array}\\right) \\cdot\\left(\\begin{array}{ccc}\n",
        "c_{13} & 0 & s_{13}  \\\\\n",
        "0 & 1 & 0 \\\\\n",
        "-s_{13}  & 0 & c_{13}\n",
        "\\end{array}\\right) \\cdot\\left(\\begin{array}{ccc}\n",
        "c_{12} & s_{12} & 0 \\\\\n",
        "-s_{12} & c_{12} & 0 \\\\\n",
        "0 & 0 & 1\n",
        "\\end{array}\\right),\n",
        "$$\n",
        "where $c_{i j} \\equiv \\cos \\theta_{i j}$ and $s_{i j} \\equiv \\sin \\theta_{i j}$. Thus, we can write $\\boldsymbol{U}$ as\n",
        "$$\n",
        "\\boldsymbol{U}=\\left(\\begin{array}{ccc}c_{12} c_{13} & s_{12} c_{13} & s_{13}  \\\\ -s_{12} c_{23}-c_{12} s_{13} s_{23}& c_{12} c_{23}-s_{12} s_{13} s_{23}  & c_{13} s_{23} \\\\ s_{12} s_{23}-c_{12} s_{13} c_{23} & -c_{12} s_{23}-s_{12} s_{13} c_{23}  & c_{13} c_{23}\\end{array}\\right)\n",
        "$$"
      ]
    },
    {
      "cell_type": "markdown",
      "metadata": {
        "id": "7zaaHuiMbta2"
      },
      "source": [
        "### Valores de $\\theta$"
      ]
    },
    {
      "cell_type": "code",
      "metadata": {
        "id": "3xIErMDnKEAF"
      },
      "source": [
        "#Theta \n",
        "θ12 = np.deg2rad(33.82)\n",
        "θ23 = np.deg2rad(48.30)\n",
        "θ13 = np.deg2rad(8.61)"
      ],
      "execution_count": null,
      "outputs": []
    },
    {
      "cell_type": "markdown",
      "metadata": {
        "id": "cLSUMv4TcT0-"
      },
      "source": [
        "### Matriz R"
      ]
    },
    {
      "cell_type": "code",
      "metadata": {
        "colab": {
          "base_uri": "https://localhost:8080/"
        },
        "id": "FsYta4QpcN4V",
        "outputId": "1a354754-49b6-4b4a-a277-288d3dde19c6"
      },
      "source": [
        "#Matriz R\n",
        "def C(x):\n",
        "  return np.cos(x)\n",
        "\n",
        "def S(x):\n",
        "  return np.sin(x)  \n",
        "\n",
        "R1 = np.array([C(α12)*C(α13), S(α12)*C(α13), S(α13)])\n",
        "R2 = np.array([-S(α12)*C(α23)-C(α12)*S(α13)*S(α23), C(α12)*C(α23)-S(α12)*S(α13)*S(α23), C(α13)*S(α23)])\n",
        "R3 = np.array([S(α12)*S(α23)-C(α12)*S(α13)*C(α23), -C(α12)*S(α23)-S(α12)*S(α13)*C(α23), C(α13)*C(α23)])\n",
        "R = np.asmatrix([R1,R2,R3])\n",
        "R"
      ],
      "execution_count": null,
      "outputs": [
        {
          "output_type": "execute_result",
          "data": {
            "text/plain": [
              "matrix([[ 0.30456919, -0.80008753, -0.51681482],\n",
              "        [-0.9186248 , -0.39013834,  0.06261432],\n",
              "        [-0.25172621,  0.45568852, -0.85380436]])"
            ]
          },
          "metadata": {},
          "execution_count": 7
        }
      ]
    },
    {
      "cell_type": "markdown",
      "metadata": {
        "id": "Zhvvq0z5g740"
      },
      "source": [
        "matriz $\\boldsymbol{D}_{\\sqrt{m}}$\n",
        "\n",
        "$\n",
        " \\boldsymbol{D}_{\\sqrt{m}}=\\operatorname{diag}\\left(\\sqrt{m_1},\\sqrt{m_2},\\sqrt{m_3}\\right)\n",
        "$"
      ]
    },
    {
      "cell_type": "code",
      "metadata": {
        "colab": {
          "base_uri": "https://localhost:8080/"
        },
        "id": "yLirBWFDhZI3",
        "outputId": "2787ab2a-9c71-4b7e-a14b-3e0a7daa6adc"
      },
      "source": [
        "f = lambda t : np.sqrt(t)\n",
        "fv = np.vectorize(f)\n",
        "ms = [m1,m2,m3]\n",
        "Dsqrt = np.diag(fv(ms),0)\n",
        "Dsqrt"
      ],
      "execution_count": null,
      "outputs": [
        {
          "output_type": "execute_result",
          "data": {
            "text/plain": [
              "array([[0.00316228, 0.        , 0.        ],\n",
              "       [0.        , 0.09570629, 0.        ],\n",
              "       [0.        , 0.        , 0.32824328]])"
            ]
          },
          "metadata": {},
          "execution_count": 8
        }
      ]
    },
    {
      "cell_type": "markdown",
      "metadata": {
        "id": "OQtMGAfqigj0"
      },
      "source": [
        "## Matriz U"
      ]
    },
    {
      "cell_type": "code",
      "metadata": {
        "colab": {
          "base_uri": "https://localhost:8080/"
        },
        "id": "4K7iCkMvijHM",
        "outputId": "8d82e683-af9e-4660-baf2-bf4a828ecfa4"
      },
      "source": [
        "U1 = np.array([C(θ12)*C(θ13), S(θ12)*C(θ13), S(θ13)])\n",
        "U2 = np.array([-S(θ12)*C(θ23)-C(θ12)*S(θ13)*S(θ23), C(θ12)*C(θ23)-S(θ12)*S(θ13)*S(θ23), C(θ13)*S(θ23)])\n",
        "U3 = np.array([S(θ12)*S(θ23)-C(θ12)*S(θ13)*C(θ23), -C(θ12)*S(θ23)-S(θ12)*S(θ13)*C(θ23), C(θ13)*C(θ23)])\n",
        "U = np.asmatrix([U1,U2,U3])\n",
        "U"
      ],
      "execution_count": null,
      "outputs": [
        {
          "output_type": "execute_result",
          "data": {
            "text/plain": [
              "matrix([[ 0.82142745,  0.55031308,  0.14970791],\n",
              "        [-0.46312144,  0.49045305,  0.73822377],\n",
              "        [ 0.33282949, -0.67573021,  0.65773339]])"
            ]
          },
          "metadata": {},
          "execution_count": 9
        }
      ]
    },
    {
      "cell_type": "markdown",
      "metadata": {
        "id": "A6-3maBjjQtg"
      },
      "source": [
        "## Matriz $U^T$"
      ]
    },
    {
      "cell_type": "code",
      "metadata": {
        "colab": {
          "base_uri": "https://localhost:8080/"
        },
        "id": "BaFOmpvwjPjV",
        "outputId": "36a0ebc4-7cef-422a-ae63-954aa481cc25"
      },
      "source": [
        "UT = np.transpose(U)\n",
        "UT"
      ],
      "execution_count": null,
      "outputs": [
        {
          "output_type": "execute_result",
          "data": {
            "text/plain": [
              "matrix([[ 0.82142745, -0.46312144,  0.33282949],\n",
              "        [ 0.55031308,  0.49045305, -0.67573021],\n",
              "        [ 0.14970791,  0.73822377,  0.65773339]])"
            ]
          },
          "metadata": {},
          "execution_count": 10
        }
      ]
    },
    {
      "cell_type": "markdown",
      "metadata": {
        "id": "hPMxqB6vjjBf"
      },
      "source": [
        "## Matriz Y\n",
        "\n",
        "$\n",
        "\\boldsymbol{Y}=\\boldsymbol{R} \\boldsymbol{D}_{\\sqrt{m}} \\boldsymbol{U}^{\\operatorname{T}}\n",
        "$"
      ]
    },
    {
      "cell_type": "code",
      "metadata": {
        "colab": {
          "base_uri": "https://localhost:8080/"
        },
        "id": "EsjFG1fajP68",
        "outputId": "bb1ee6d7-5d41-4928-f04d-da0f42bf060c"
      },
      "source": [
        "Y = R@(Dsqrt@UT)\n",
        "Y"
      ],
      "execution_count": null,
      "outputs": [
        {
          "output_type": "execute_result",
          "data": {
            "text/plain": [
              "matrix([[-0.0667448 , -0.16323472, -0.05951502],\n",
              "        [-0.01985727, -0.00179502,  0.03778225],\n",
              "        [-0.01860996, -0.18513288, -0.21406849]])"
            ]
          },
          "metadata": {},
          "execution_count": 11
        }
      ]
    },
    {
      "cell_type": "markdown",
      "metadata": {
        "id": "VMteAuZxj8cg"
      },
      "source": [
        "# 4. Check that the generated $\\boldsymbol{A}$ has the proper eigenvalues and eigenvectors"
      ]
    },
    {
      "cell_type": "markdown",
      "metadata": {
        "id": "-A3g5yOQkZM_"
      },
      "source": [
        "## Matriz $\\boldsymbol{A}$ a partir de $\\boldsymbol{Y}$\n",
        "\n",
        "$\n",
        "\\boldsymbol{A}=\\boldsymbol{Y}^T\\boldsymbol{Y}\n",
        "$"
      ]
    },
    {
      "cell_type": "code",
      "metadata": {
        "colab": {
          "base_uri": "https://localhost:8080/"
        },
        "id": "-h-crqjAjiEz",
        "outputId": "833b08ec-0629-4c1b-f68a-2009d21843e0"
      },
      "source": [
        "YT = np.transpose(Y)\n",
        "A = YT@Y\n",
        "A"
      ],
      "execution_count": null,
      "outputs": [
        {
          "output_type": "execute_result",
          "data": {
            "text/plain": [
              "matrix([[0.00519551, 0.01437603, 0.00720587],\n",
              "        [0.01437603, 0.06092298, 0.04927821],\n",
              "        [0.00720587, 0.04927821, 0.05079485]])"
            ]
          },
          "metadata": {},
          "execution_count": 12
        }
      ]
    },
    {
      "cell_type": "markdown",
      "metadata": {
        "id": "6oCjkvu2lTAz"
      },
      "source": [
        "## Vectores(VecA) y valores(ValA) propios de A"
      ]
    },
    {
      "cell_type": "code",
      "metadata": {
        "colab": {
          "base_uri": "https://localhost:8080/"
        },
        "id": "9oRZ-xQwktgz",
        "outputId": "f11e5ee4-cc10-4932-93c2-def32d2eb55a"
      },
      "source": [
        "ValA, VecA = np.linalg.eig(A)\n",
        "print('Valores propios de A a partir de Y:\\n {}\\n '.format(ValA))\n",
        "print('Vectores propios de A a partir de Y:\\n {}'.format(VecA))"
      ],
      "execution_count": null,
      "outputs": [
        {
          "output_type": "stream",
          "name": "stdout",
          "text": [
            "Valores propios de A a partir de Y:\n",
            " [1.07743651e-01 1.00000000e-05 9.15969432e-03]\n",
            " \n",
            "Vectores propios de A a partir de Y:\n",
            " [[-0.14970791 -0.82142745 -0.55031308]\n",
            " [-0.73822377  0.46312144 -0.49045305]\n",
            " [-0.65773339 -0.33282949  0.67573021]]\n"
          ]
        }
      ]
    },
    {
      "cell_type": "markdown",
      "metadata": {
        "id": "o5upBNEdrrdp"
      },
      "source": [
        "\n",
        "$\\boldsymbol{U}^T \\boldsymbol{A} \\boldsymbol{U}$\n",
        "\n",
        "$\n",
        "\\boldsymbol{U}^T \\boldsymbol{A} \\boldsymbol{U}=\n",
        "\\begin{pmatrix}\n",
        "m_1& 0 & 0\\\\\n",
        "0 & m_2& 0\\\\\n",
        "0 & 0 & m_3\\\\\n",
        "\\end{pmatrix}.\n",
        "$"
      ]
    },
    {
      "cell_type": "code",
      "metadata": {
        "colab": {
          "base_uri": "https://localhost:8080/"
        },
        "id": "1TaXkO0skttU",
        "outputId": "f8422fcc-54e4-447c-a210-ce1ed2838677"
      },
      "source": [
        "UA = UT@(A@U)\n",
        "UA"
      ],
      "execution_count": null,
      "outputs": [
        {
          "output_type": "execute_result",
          "data": {
            "text/plain": [
              "matrix([[ 1.00000000e-05, -6.51483348e-21,  5.41620958e-18],\n",
              "        [-2.79378661e-18,  9.15969432e-03,  1.50113795e-18],\n",
              "        [ 2.82151605e-18,  1.15571054e-18,  1.07743651e-01]])"
            ]
          },
          "metadata": {},
          "execution_count": 14
        }
      ]
    },
    {
      "cell_type": "markdown",
      "metadata": {
        "id": "UpLlog66sqhE"
      },
      "source": [
        "##### Como se puede observar los valores propios $m_1,m_2,m_3$ Estan en la diagonal del producto $\\boldsymbol{U}^T \\boldsymbol{A} \\boldsymbol{U}$, los demas valores de la matriz son despreciables(tomados como 0) pues son de orden de magnitud -18 o -21.\n",
        "\n",
        "Valores propios usando $\\boldsymbol{U}^T \\boldsymbol{A} \\boldsymbol{U}$"
      ]
    },
    {
      "cell_type": "code",
      "metadata": {
        "colab": {
          "base_uri": "https://localhost:8080/"
        },
        "id": "aP_BURN2kt1h",
        "outputId": "8d26dfd8-873e-4b62-903a-f3d34fd13a6d"
      },
      "source": [
        "ValUA = [UA[0,0], UA[1,1], UA[2,2]]\n",
        "ValUA"
      ],
      "execution_count": null,
      "outputs": [
        {
          "output_type": "execute_result",
          "data": {
            "text/plain": [
              "[1.0000000000001517e-05, 0.009159694318043591, 0.10774365094075658]"
            ]
          },
          "metadata": {},
          "execution_count": 15
        }
      ]
    },
    {
      "cell_type": "markdown",
      "metadata": {
        "id": "GteTnDLgu2NG"
      },
      "source": [
        "Valores porpios usando\n",
        "$\\boldsymbol{A}=\\boldsymbol{Y}^T\\boldsymbol{Y}$"
      ]
    },
    {
      "cell_type": "code",
      "metadata": {
        "colab": {
          "base_uri": "https://localhost:8080/"
        },
        "id": "rELsdWV9jiHj",
        "outputId": "d3f64d1a-9f4e-4ccd-991a-e73d52d28c96"
      },
      "source": [
        "sorted(list(ValA))"
      ],
      "execution_count": null,
      "outputs": [
        {
          "output_type": "execute_result",
          "data": {
            "text/plain": [
              "[1.000000000000364e-05, 0.009159694318043591, 0.10774365094075665]"
            ]
          },
          "metadata": {},
          "execution_count": 16
        }
      ]
    },
    {
      "cell_type": "markdown",
      "metadata": {
        "id": "BhZ1xwHvvk4C"
      },
      "source": [
        "Valores propios tomados tomados $m_1,m_2,m_3$"
      ]
    },
    {
      "cell_type": "code",
      "metadata": {
        "colab": {
          "base_uri": "https://localhost:8080/"
        },
        "id": "Wo_MIzENvkLo",
        "outputId": "19042718-43b3-47f6-d050-1843139dfe31"
      },
      "source": [
        "[m1,m2,m3]"
      ],
      "execution_count": null,
      "outputs": [
        {
          "output_type": "execute_result",
          "data": {
            "text/plain": [
              "[1e-05, 0.00915969431804359, 0.10774365094075655]"
            ]
          },
          "metadata": {},
          "execution_count": 17
        }
      ]
    },
    {
      "cell_type": "markdown",
      "metadata": {
        "id": "ey_fC_qzwML4"
      },
      "source": [
        "Se puede concluir que los valores propios son los mismos, por consiguiente los vectores propios seran iguales."
      ]
    },
    {
      "cell_type": "markdown",
      "metadata": {
        "id": "eO5zjhBRwp44"
      },
      "source": [
        "#5.Check that the eigenvalues of $\\boldsymbol{Y}$ correspond to the square root of the eigenvalues of $\\boldsymbol{A}$ and explain why."
      ]
    },
    {
      "cell_type": "markdown",
      "metadata": {
        "id": "gYjZbniow2Du"
      },
      "source": [
        "## Valores propios de  $\\boldsymbol{Y}$"
      ]
    },
    {
      "cell_type": "code",
      "metadata": {
        "colab": {
          "base_uri": "https://localhost:8080/"
        },
        "id": "_VqUpmO2vkSG",
        "outputId": "20898434-1f30-4404-d1f8-8d87f0dc66b4"
      },
      "source": [
        "ValY, VecY = np.linalg.eig(Y)\n",
        "print('Valores propios de Y:\\n {}\\n '.format(ValY))\n",
        "print('Vectores propios de Y:\\n {}'.format(VecY))\n"
      ],
      "execution_count": null,
      "outputs": [
        {
          "output_type": "stream",
          "name": "stdout",
          "text": [
            "Valores propios de Y:\n",
            " [ 0.00524318 -0.10188327 -0.18596822]\n",
            " \n",
            "Vectores propios de Y:\n",
            " [[-0.81021755  0.55981901  0.24452473]\n",
            " [ 0.47997006  0.38754116 -0.1694909 ]\n",
            " [-0.33641679 -0.73240325  0.95471488]]\n"
          ]
        }
      ]
    },
    {
      "cell_type": "code",
      "metadata": {
        "colab": {
          "base_uri": "https://localhost:8080/"
        },
        "id": "aJ-Rzjf8vkU2",
        "outputId": "49504014-c819-4a08-c7c7-ce0c554e5e86"
      },
      "source": [
        "m = np.array([m1,m2,m3])\n",
        "m = fv(m)\n",
        "m"
      ],
      "execution_count": null,
      "outputs": [
        {
          "output_type": "execute_result",
          "data": {
            "text/plain": [
              "array([0.00316228, 0.09570629, 0.32824328])"
            ]
          },
          "metadata": {},
          "execution_count": 19
        }
      ]
    },
    {
      "cell_type": "code",
      "metadata": {
        "colab": {
          "base_uri": "https://localhost:8080/"
        },
        "id": "t_MWnJ-GDlK_",
        "outputId": "cbd8bbb4-773f-4c2f-8816-69496c3d3272"
      },
      "source": [
        "UT@(YT@(Y@U))"
      ],
      "execution_count": null,
      "outputs": [
        {
          "output_type": "execute_result",
          "data": {
            "text/plain": [
              "matrix([[ 1.00000000e-05,  1.14953047e-18, -1.52268432e-18],\n",
              "        [ 1.02375547e-18,  9.15969432e-03,  8.44003186e-18],\n",
              "        [ 1.48519279e-18,  2.59356505e-18,  1.07743651e-01]])"
            ]
          },
          "metadata": {},
          "execution_count": 25
        }
      ]
    },
    {
      "cell_type": "markdown",
      "metadata": {
        "id": "6eAdFQbrHZL2"
      },
      "source": [
        "$D_A^{1/2}-D_y$"
      ]
    },
    {
      "cell_type": "code",
      "metadata": {
        "colab": {
          "base_uri": "https://localhost:8080/"
        },
        "id": "gdvdon19HLxm",
        "outputId": "33c7a89c-7a73-4448-9c7d-fa6cfd193a8d"
      },
      "source": [
        "m-ValY"
      ],
      "execution_count": null,
      "outputs": [
        {
          "output_type": "execute_result",
          "data": {
            "text/plain": [
              "array([-0.0020809 ,  0.19758956,  0.5142115 ])"
            ]
          },
          "metadata": {},
          "execution_count": 27
        }
      ]
    },
    {
      "cell_type": "markdown",
      "metadata": {
        "id": "humc_XiNHmNS"
      },
      "source": [
        "### La diferencia no es 0"
      ]
    },
    {
      "cell_type": "markdown",
      "metadata": {
        "id": "L3wy7XsJ45Pb"
      },
      "source": [
        "### En este caso las raiz cuadrada de los autovalores de $\\boldsymbol{A}$ no corresponden con los autovalores de $\\boldsymbol{Y}$, para encontar una razon primero veamos que es $\\boldsymbol{U}^{\\operatorname{T}}\\boldsymbol{U}$ y $\\boldsymbol{U}\\boldsymbol{U}^{\\operatorname{T}}$"
      ]
    },
    {
      "cell_type": "code",
      "metadata": {
        "colab": {
          "base_uri": "https://localhost:8080/"
        },
        "id": "QvtKBEiH9-lD",
        "outputId": "16847fe7-e484-4b47-fd49-907ca7cf223e"
      },
      "source": [
        "np.transpose(U)@U"
      ],
      "execution_count": null,
      "outputs": [
        {
          "output_type": "execute_result",
          "data": {
            "text/plain": [
              "matrix([[ 1.00000000e+00, -6.17198363e-17,  2.93663603e-17],\n",
              "        [-6.17198363e-17,  1.00000000e+00, -2.66191823e-17],\n",
              "        [ 2.93663603e-17, -2.66191823e-17,  1.00000000e+00]])"
            ]
          },
          "metadata": {},
          "execution_count": 21
        }
      ]
    },
    {
      "cell_type": "code",
      "metadata": {
        "colab": {
          "base_uri": "https://localhost:8080/"
        },
        "id": "3sQ1X7sVEolH",
        "outputId": "ea626a25-9ef9-4413-9ed0-e8dd65c49a9d"
      },
      "source": [
        "U@np.transpose(U)"
      ],
      "execution_count": null,
      "outputs": [
        {
          "output_type": "execute_result",
          "data": {
            "text/plain": [
              "matrix([[ 1.00000000e+00, -3.86035020e-17,  3.59993582e-17],\n",
              "        [-3.86035020e-17,  1.00000000e+00, -1.71207185e-17],\n",
              "        [ 3.59993582e-17, -1.71207185e-17,  1.00000000e+00]])"
            ]
          },
          "metadata": {},
          "execution_count": 26
        }
      ]
    },
    {
      "cell_type": "markdown",
      "metadata": {
        "id": "HBEu1vjcAGiZ"
      },
      "source": [
        "### Podemos ver que $\\boldsymbol{U}^{\\operatorname{T}}\\boldsymbol{U}$ y $\\boldsymbol{U}\\boldsymbol{U}^{\\operatorname{T}}$ nos da como resultado 1 en la diagonal y numeros del orden de -17 en el resto de los valores es decir $\\boldsymbol{U}^{\\operatorname{T}}\\boldsymbol{U} = \\boldsymbol{I} $,$\\boldsymbol{U}\\boldsymbol{U}^{\\operatorname{T}} = \\boldsymbol{I} $ ahora:\n",
        "\n",
        "$$\n",
        "\\boldsymbol{U}^T \\boldsymbol{A} \\boldsymbol{U}=\n",
        "\\begin{pmatrix}\n",
        "m_1& 0 & 0\\\\\n",
        "0 & m_2& 0\\\\\n",
        "0 & 0 & m_3\\\\\n",
        "\\end{pmatrix},\\boldsymbol{U}^T \\boldsymbol{A} \\boldsymbol{U}=D_A\n",
        "$$\n",
        "\n",
        "$$\n",
        "\\boldsymbol{A}=\\boldsymbol{Y}^{\\operatorname{T}}\\boldsymbol{Y}\n",
        "$$\n",
        "\n",
        "$$D_A = \\boldsymbol{U}^T \\boldsymbol{A} \\boldsymbol{U} = \\boldsymbol{U}^T \\boldsymbol{Y}^{\\operatorname{T}}\\boldsymbol{Y} \\boldsymbol{U} = \\boldsymbol{U}^T \\boldsymbol{Y}^{\\operatorname{T}}\\boldsymbol{I}\\boldsymbol{Y} \\boldsymbol{U}=\\boldsymbol{U}^T \\boldsymbol{Y}^{\\operatorname{T}}\\boldsymbol{U}\\boldsymbol{U}^{\\operatorname{T}}\\boldsymbol{Y} \\boldsymbol{U} = D_{Y^T}D_{Y}$$\n",
        "\n",
        "Y dado que los valores propios de una matriz y su transpuesta son iguales entonces:\n",
        "\n",
        "$$D_{Y^T}=D_{Y}$$\n",
        "\n",
        "Es decir:\n",
        "\n",
        "$$D_A = D_y^2$$ \n",
        "\n",
        "Muy posiblemente en el ejemplo los valores no den exactamente igual por error y aproximaciones de la maquina.\n",
        "\n"
      ]
    }
  ]
}