{
  "nbformat": 4,
  "nbformat_minor": 0,
  "metadata": {
    "kernelspec": {
      "display_name": "Python 3 (ipykernel)",
      "language": "python",
      "name": "python3"
    },
    "language_info": {
      "codemirror_mode": {
        "name": "ipython",
        "version": 3
      },
      "file_extension": ".py",
      "mimetype": "text/x-python",
      "name": "python",
      "nbconvert_exporter": "python",
      "pygments_lexer": "ipython3",
      "version": "3.7.3"
    },
    "colab": {
      "name": "Copia de Examen_2021_1_02_enunciado.ipynb",
      "provenance": [],
      "collapsed_sections": []
    }
  },
  "cells": [
    {
      "cell_type": "markdown",
      "metadata": {
        "id": "1Gd-qU1TlSOj"
      },
      "source": [
        "A) Los siguientes datos fueron extraidos de un [perfil real de Instragram](https://www.instagram.com/paulacano24/):\n",
        "\n",
        "https://raw.githubusercontent.com/restrepo/ComputationalMethods/master/data/Followers.json\n",
        "\n",
        "Interprete los datos como un problema de caida libre y a partir del ajuste (fit) a la correspondiente ecuación de movimiento, determine\n",
        "1. La velocidad inicial de incremento de seguidores en `followers/hour`\n",
        "1. La aceleración constante en `followers/hour**2`\n",
        "1. El número máximo de seguidores que alcanzaría el perfil\n",
        "1. La fecha en la que se alcanzaría dicho máximo\n",
        "\n",
        "B) El período de  un pendulo de longitud $l$ oscilando a ángulos grandes  $\\alpha$, está dado por\n",
        "$$\n",
        "T=T_{0} \\frac{\\sqrt{2}}{\\pi} \\int_{0}^{\\alpha} \\frac{d \\theta}{(\\cos \\theta-\\cos \\alpha)^{\\frac{1}{2}}}\n",
        "$$\n",
        "donde\n",
        "$$\n",
        "T_{0}=2 \\pi \\sqrt{\\frac{l}{g}}\n",
        "$$\n",
        "es el período del mismo péndulo a pequeñas amplitudes. Culquier intento de evaluación numérico de esa integral debería fallar. Sin embargo, si hacemos el cambio de variable\n",
        "$$\n",
        "\\sin \\frac{\\theta}{2}=\\sin \\frac{\\alpha}{2} \\sin \\phi\n",
        "$$\n",
        "obtenemos\n",
        "$$\n",
        "T=\\frac{2 T_{0}}{\\pi} \\int_{0}^{\\frac{\\pi}{2}} \\frac{d \\phi}{\\left(1-\\sin ^{2} \\frac{\\alpha}{2} \\sin ^{2} \\phi\\right)^{\\frac{1}{2}}}\n",
        "$$\n",
        "que corresponde a una integral bien comportada. \n",
        "1. Escriba un programa que use la anterio integral para calcular el cociente  $T/T_0$ para ángulos enteros (en grados) $0^\\circ \\le\\alpha \\le 90^\\circ$.  \n",
        "1. Genere un DataFrame de pandas que contenga como columnas: la amplitud en grados, la amplitud en radianes, y el cociente $T/T_0$, \n",
        "1. Haga un gráfico de $T/T_0$ como función de $\\alpha$ (en grados). \n",
        "1. Explain the result when $\\alpha = 0.$ "
      ]
    },
    {
      "cell_type": "markdown",
      "metadata": {
        "id": "LucwTv1U3rGR"
      },
      "source": [
        "#A"
      ]
    },
    {
      "cell_type": "code",
      "metadata": {
        "id": "3xIm_xo2mjLV"
      },
      "source": [
        "import pandas as pd\n",
        "from scipy import optimize\n",
        "import matplotlib.pyplot as plt\n",
        "from datetime import datetime\n",
        "import numpy as np\n",
        "from scipy.integrate import quad\n",
        "from sympy import Symbol, sqrt, sin, pi"
      ],
      "execution_count": 262,
      "outputs": []
    },
    {
      "cell_type": "code",
      "metadata": {
        "colab": {
          "base_uri": "https://localhost:8080/",
          "height": 414
        },
        "id": "d4OtFeq1mwBO",
        "outputId": "af31bcf0-29fc-494b-d86e-b3a5a1835adf"
      },
      "source": [
        "data = pd.read_json(\"https://raw.githubusercontent.com/restrepo/ComputationalMethods/master/data/Followers.json\")\n",
        "data"
      ],
      "execution_count": 263,
      "outputs": [
        {
          "output_type": "execute_result",
          "data": {
            "text/html": [
              "<div>\n",
              "<style scoped>\n",
              "    .dataframe tbody tr th:only-of-type {\n",
              "        vertical-align: middle;\n",
              "    }\n",
              "\n",
              "    .dataframe tbody tr th {\n",
              "        vertical-align: top;\n",
              "    }\n",
              "\n",
              "    .dataframe thead th {\n",
              "        text-align: right;\n",
              "    }\n",
              "</style>\n",
              "<table border=\"1\" class=\"dataframe\">\n",
              "  <thead>\n",
              "    <tr style=\"text-align: right;\">\n",
              "      <th></th>\n",
              "      <th>followers</th>\n",
              "      <th>date_time</th>\n",
              "      <th>hours</th>\n",
              "    </tr>\n",
              "  </thead>\n",
              "  <tbody>\n",
              "    <tr>\n",
              "      <th>0</th>\n",
              "      <td>42696</td>\n",
              "      <td>2021-08-04 22:06:53.668</td>\n",
              "      <td>0.000000</td>\n",
              "    </tr>\n",
              "    <tr>\n",
              "      <th>1</th>\n",
              "      <td>42706</td>\n",
              "      <td>2021-08-04 23:06:56.517</td>\n",
              "      <td>1.000791</td>\n",
              "    </tr>\n",
              "    <tr>\n",
              "      <th>2</th>\n",
              "      <td>42716</td>\n",
              "      <td>2021-08-05 00:06:59.505</td>\n",
              "      <td>2.001621</td>\n",
              "    </tr>\n",
              "    <tr>\n",
              "      <th>3</th>\n",
              "      <td>42734</td>\n",
              "      <td>2021-08-05 01:07:02.174</td>\n",
              "      <td>3.002363</td>\n",
              "    </tr>\n",
              "    <tr>\n",
              "      <th>4</th>\n",
              "      <td>42749</td>\n",
              "      <td>2021-08-05 02:07:04.854</td>\n",
              "      <td>4.003107</td>\n",
              "    </tr>\n",
              "    <tr>\n",
              "      <th>...</th>\n",
              "      <td>...</td>\n",
              "      <td>...</td>\n",
              "      <td>...</td>\n",
              "    </tr>\n",
              "    <tr>\n",
              "      <th>615</th>\n",
              "      <td>47452</td>\n",
              "      <td>2021-09-02 12:29:21.834</td>\n",
              "      <td>686.374491</td>\n",
              "    </tr>\n",
              "    <tr>\n",
              "      <th>616</th>\n",
              "      <td>47486</td>\n",
              "      <td>2021-09-02 19:59:32.801</td>\n",
              "      <td>693.877537</td>\n",
              "    </tr>\n",
              "    <tr>\n",
              "      <th>617</th>\n",
              "      <td>47491</td>\n",
              "      <td>2021-09-02 20:59:50.542</td>\n",
              "      <td>694.882465</td>\n",
              "    </tr>\n",
              "    <tr>\n",
              "      <th>618</th>\n",
              "      <td>47493</td>\n",
              "      <td>2021-09-02 21:59:59.345</td>\n",
              "      <td>695.884910</td>\n",
              "    </tr>\n",
              "    <tr>\n",
              "      <th>619</th>\n",
              "      <td>47498</td>\n",
              "      <td>2021-09-02 23:00:11.350</td>\n",
              "      <td>696.888245</td>\n",
              "    </tr>\n",
              "  </tbody>\n",
              "</table>\n",
              "<p>620 rows × 3 columns</p>\n",
              "</div>"
            ],
            "text/plain": [
              "     followers               date_time       hours\n",
              "0        42696 2021-08-04 22:06:53.668    0.000000\n",
              "1        42706 2021-08-04 23:06:56.517    1.000791\n",
              "2        42716 2021-08-05 00:06:59.505    2.001621\n",
              "3        42734 2021-08-05 01:07:02.174    3.002363\n",
              "4        42749 2021-08-05 02:07:04.854    4.003107\n",
              "..         ...                     ...         ...\n",
              "615      47452 2021-09-02 12:29:21.834  686.374491\n",
              "616      47486 2021-09-02 19:59:32.801  693.877537\n",
              "617      47491 2021-09-02 20:59:50.542  694.882465\n",
              "618      47493 2021-09-02 21:59:59.345  695.884910\n",
              "619      47498 2021-09-02 23:00:11.350  696.888245\n",
              "\n",
              "[620 rows x 3 columns]"
            ]
          },
          "metadata": {},
          "execution_count": 263
        }
      ]
    },
    {
      "cell_type": "code",
      "metadata": {
        "id": "Rnf6rzQIo8K0"
      },
      "source": [
        "# Preparar curva, hacer fit y derivar para hallar la velocidad y aceleración.\n",
        "def curve(x, a, b, c):\n",
        "  return a*x**2 + b*x + c\n",
        "\n",
        "l, le = optimize.curve_fit(curve, data[\"hours\"], data[\"followers\"], p0=[0.1, 10, 50000])\n",
        "a, b, c = l\n",
        "\n",
        "p = np.poly1d([a, b, c])\n",
        "ve = p.deriv()\n",
        "ac = v.deriv()\n",
        "tmax = ve.roots[0]\n",
        "t = np.linspace(0, tmax)\n"
      ],
      "execution_count": 264,
      "outputs": []
    },
    {
      "cell_type": "code",
      "metadata": {
        "colab": {
          "base_uri": "https://localhost:8080/",
          "height": 282
        },
        "id": "AP6_vgtn0BeE",
        "outputId": "064b0503-1613-4a5b-8f76-69ec2e61361c"
      },
      "source": [
        "# Grafica y fit\n",
        "\n",
        "plt.plot(data[\"hours\"], data[\"followers\"], label=\"Followers/hour\")\n",
        "plt.plot(t, curve(t, a, b, c), linestyle = \"--\", color=\"k\", label=\"fit\")\n",
        "plt.xlabel(\"$horas(h)$\", size=10)\n",
        "plt.ylabel(\"$f(h)$\" + \" \" + \"$Followers$\")\n",
        "plt.legend()\n",
        "plt.grid()\n",
        "plt.show()"
      ],
      "execution_count": 265,
      "outputs": [
        {
          "output_type": "display_data",
          "data": {
            "image/png": "[encoded data removed]",
            "text/plain": [
              "<Figure size 432x288 with 1 Axes>"
            ]
          },
          "metadata": {
            "needs_background": "light"
          }
        }
      ]
    },
    {
      "cell_type": "markdown",
      "metadata": {
        "id": "S5p6Z9-61qdc"
      },
      "source": [
        "1. La velocidad inicial de incremento de seguidores en `followers/hour`\n",
        "1. La aceleración constante en `followers/hour**2`\n",
        "1. El número máximo de seguidores que alcanzaría el perfil\n",
        "1. La fecha en la que se alcanzaría dicho máximo"
      ]
    },
    {
      "cell_type": "code",
      "metadata": {
        "colab": {
          "base_uri": "https://localhost:8080/"
        },
        "id": "hivaEusB2rYr",
        "outputId": "98f52abe-8373-429d-ed00-5fe1aca6f846"
      },
      "source": [
        "print(\"1.la velociadad inicial followers/hour es: {} followers/h \\n\".format(ve(0)))\n",
        "print(\"2.La aceleración constante en followers/hour**2 es: {} followers/h**2 \\n\".format(ac))\n",
        "print(\"3.El número máximo de seguidores que alcanzaría el perfil: {} followers \\n\".format(p(tmax)))\n",
        "print(\"4.La fecha en la que se alcanzaría dicho máximo es en {} horas o 73.1 días despues, es decir 2021-08-04 22:06:53.668 + 73.1 días \\n\".format(tmax))"
      ],
      "execution_count": 266,
      "outputs": [
        {
          "output_type": "stream",
          "name": "stdout",
          "text": [
            "1.la velociadad inicial followers/hour es: 8.55213777040858 followers/h \n",
            "\n",
            "2.La aceleración constante en followers/hour**2 es:  \n",
            "-0.004875 followers/h**2 \n",
            "\n",
            "3.El número máximo de seguidores que alcanzaría el perfil: 50262.136794055594 followers \n",
            "\n",
            "4.La fecha en la que se alcanzaría dicho máximo es en 1754.193157798696 horas o 73.1 días despues, es decir 2021-08-04 22:06:53.668 + 73.1 días \n",
            "\n"
          ]
        }
      ]
    },
    {
      "cell_type": "markdown",
      "metadata": {
        "id": "zAJFiKkK3oqK"
      },
      "source": [
        "#B\n",
        "\n",
        "B) El período de  un pendulo de longitud $l$ oscilando a ángulos grandes  $\\alpha$, está dado por\n",
        "$$\n",
        "T=T_{0} \\frac{\\sqrt{2}}{\\pi} \\int_{0}^{\\alpha} \\frac{d \\theta}{(\\cos \\theta-\\cos \\alpha)^{\\frac{1}{2}}}\n",
        "$$\n",
        "donde\n",
        "$$\n",
        "T_{0}=2 \\pi \\sqrt{\\frac{l}{g}}\n",
        "$$\n",
        "es el período del mismo péndulo a pequeñas amplitudes. Culquier intento de evaluación numérico de esa integral debería fallar. Sin embargo, si hacemos el cambio de variable\n",
        "$$\n",
        "\\sin \\frac{\\theta}{2}=\\sin \\frac{\\alpha}{2} \\sin \\phi\n",
        "$$\n",
        "obtenemos\n",
        "$$\n",
        "T=\\frac{2 T_{0}}{\\pi} \\int_{0}^{\\frac{\\pi}{2}} \\frac{d \\phi}{\\left(1-\\sin ^{2} \\frac{\\alpha}{2} \\sin ^{2} \\phi\\right)^{\\frac{1}{2}}}\n",
        "$$\n",
        "que corresponde a una integral bien comportada. \n",
        "1. Escriba un programa que use la anterio integral para calcular el cociente  $T/T_0$ para ángulos enteros (en grados) $0^\\circ \\le\\alpha \\le 90^\\circ$.  \n",
        "1. Genere un DataFrame de pandas que contenga como columnas: la amplitud en grados, la amplitud en radianes, y el cociente $T/T_0$, \n",
        "1. Haga un gráfico de $T/T_0$ como función de $\\alpha$ (en grados). \n",
        "1. Explain the result when $\\alpha = 0.$ "
      ]
    },
    {
      "cell_type": "markdown",
      "metadata": {
        "id": "te_pBDUFZTp0"
      },
      "source": [
        ""
      ]
    },
    {
      "cell_type": "markdown",
      "metadata": {
        "id": "x3IIL5rjKeUX"
      },
      "source": [
        "#1"
      ]
    },
    {
      "cell_type": "markdown",
      "metadata": {
        "id": "nGiyc4Ee5LhZ"
      },
      "source": [
        "$T/T_0 = \\frac{2 T_{0}}{\\pi} \\int_{0}^{\\frac{\\pi}{2}} \\frac{d \\phi}{\\left(1-\\sin ^{2} \\frac{\\alpha}{2} \\sin ^{2} \\phi\\right)^{\\frac{1}{2}}} \\times\\frac{1}{T_0} =\\frac{2}{\\pi} \\int_{0}^{\\frac{\\pi}{2}} \\frac{d \\phi}{\\left(1-\\sin ^{2} \\frac{\\alpha}{2} \\sin ^{2} \\phi\\right)^{\\frac{1}{2}}} $"
      ]
    },
    {
      "cell_type": "code",
      "metadata": {
        "colab": {
          "base_uri": "https://localhost:8080/",
          "height": 85
        },
        "id": "NGHHJodIEZ04",
        "outputId": "013e79e3-7a09-4eef-8752-659ddab84aef"
      },
      "source": [
        "x = Symbol(\"x\")\n",
        "alpha = Symbol(\"α\")\n",
        "\n",
        "f = (2/pi)*(1/sqrt(1 - (sin(alpha/2))**2*(sin(x))**2 ) )\n",
        "Integral(f,(x , 0, pi/2))"
      ],
      "execution_count": 267,
      "outputs": [
        {
          "output_type": "execute_result",
          "data": {
            "text/latex": "$\\displaystyle \\int\\limits_{0}^{\\frac{\\pi}{2}} \\frac{2}{\\pi \\sqrt{- \\sin^{2}{\\left(x \\right)} \\sin^{2}{\\left(\\frac{α}{2} \\right)} + 1}}\\, dx$",
            "text/plain": [
              "Integral(2/(pi*sqrt(-sin(x)**2*sin(α/2)**2 + 1)), (x, 0, pi/2))"
            ]
          },
          "metadata": {},
          "execution_count": 267
        }
      ]
    },
    {
      "cell_type": "code",
      "metadata": {
        "id": "i8CLldVFGMm2"
      },
      "source": [
        "\n",
        "integral = lambda a: quad(lambda x: (1/np.sqrt(1 - ((np.sin(a/2))**2) * ((np.sin(x))**2 )) ),0,np.pi/2)[0]\n",
        "\n",
        "def T_T0(a):\n",
        "  if 0 <= a and a <= np.pi/2:\n",
        "    try:\n",
        "        f=np.vectorize(integral)\n",
        "    except IndexError:\n",
        "        f=integral\n",
        "    return (2/np.pi)*f(a)\n",
        "  else:\n",
        "    return \"Angulo incorrecto\"\n",
        "\n",
        "\n",
        "\n"
      ],
      "execution_count": 306,
      "outputs": []
    },
    {
      "cell_type": "markdown",
      "metadata": {
        "id": "dEcIYgJ9KjKO"
      },
      "source": [
        "#2"
      ]
    },
    {
      "cell_type": "code",
      "metadata": {
        "colab": {
          "base_uri": "https://localhost:8080/",
          "height": 414
        },
        "id": "F2vX0LFFKibt",
        "outputId": "38a009d1-9bc1-435e-8241-2866a8c218fd"
      },
      "source": [
        "\n",
        "ang = np.linspace(0, 90, 91)\n",
        "rad = np.deg2rad(ang)\n",
        "T = T_T0(ang[0])\n",
        "df = pd.DataFrame({'T_Grados':ang, \"T_Radianes\":rad})\n",
        "df[\"T/T0\"] = df.T_Radianes.apply(lambda x: T_T0(x))\n",
        "\n",
        "df\n"
      ],
      "execution_count": 307,
      "outputs": [
        {
          "output_type": "execute_result",
          "data": {
            "text/html": [
              "<div>\n",
              "<style scoped>\n",
              "    .dataframe tbody tr th:only-of-type {\n",
              "        vertical-align: middle;\n",
              "    }\n",
              "\n",
              "    .dataframe tbody tr th {\n",
              "        vertical-align: top;\n",
              "    }\n",
              "\n",
              "    .dataframe thead th {\n",
              "        text-align: right;\n",
              "    }\n",
              "</style>\n",
              "<table border=\"1\" class=\"dataframe\">\n",
              "  <thead>\n",
              "    <tr style=\"text-align: right;\">\n",
              "      <th></th>\n",
              "      <th>T_Grados</th>\n",
              "      <th>T_Radianes</th>\n",
              "      <th>T/T0</th>\n",
              "    </tr>\n",
              "  </thead>\n",
              "  <tbody>\n",
              "    <tr>\n",
              "      <th>0</th>\n",
              "      <td>0.0</td>\n",
              "      <td>0.000000</td>\n",
              "      <td>1.000000</td>\n",
              "    </tr>\n",
              "    <tr>\n",
              "      <th>1</th>\n",
              "      <td>1.0</td>\n",
              "      <td>0.017453</td>\n",
              "      <td>1.000019</td>\n",
              "    </tr>\n",
              "    <tr>\n",
              "      <th>2</th>\n",
              "      <td>2.0</td>\n",
              "      <td>0.034907</td>\n",
              "      <td>1.000076</td>\n",
              "    </tr>\n",
              "    <tr>\n",
              "      <th>3</th>\n",
              "      <td>3.0</td>\n",
              "      <td>0.052360</td>\n",
              "      <td>1.000171</td>\n",
              "    </tr>\n",
              "    <tr>\n",
              "      <th>4</th>\n",
              "      <td>4.0</td>\n",
              "      <td>0.069813</td>\n",
              "      <td>1.000305</td>\n",
              "    </tr>\n",
              "    <tr>\n",
              "      <th>...</th>\n",
              "      <td>...</td>\n",
              "      <td>...</td>\n",
              "      <td>...</td>\n",
              "    </tr>\n",
              "    <tr>\n",
              "      <th>86</th>\n",
              "      <td>86.0</td>\n",
              "      <td>1.500983</td>\n",
              "      <td>1.162214</td>\n",
              "    </tr>\n",
              "    <tr>\n",
              "      <th>87</th>\n",
              "      <td>87.0</td>\n",
              "      <td>1.518436</td>\n",
              "      <td>1.166617</td>\n",
              "    </tr>\n",
              "    <tr>\n",
              "      <th>88</th>\n",
              "      <td>88.0</td>\n",
              "      <td>1.535890</td>\n",
              "      <td>1.171105</td>\n",
              "    </tr>\n",
              "    <tr>\n",
              "      <th>89</th>\n",
              "      <td>89.0</td>\n",
              "      <td>1.553343</td>\n",
              "      <td>1.175679</td>\n",
              "    </tr>\n",
              "    <tr>\n",
              "      <th>90</th>\n",
              "      <td>90.0</td>\n",
              "      <td>1.570796</td>\n",
              "      <td>1.180341</td>\n",
              "    </tr>\n",
              "  </tbody>\n",
              "</table>\n",
              "<p>91 rows × 3 columns</p>\n",
              "</div>"
            ],
            "text/plain": [
              "    T_Grados  T_Radianes      T/T0\n",
              "0        0.0    0.000000  1.000000\n",
              "1        1.0    0.017453  1.000019\n",
              "2        2.0    0.034907  1.000076\n",
              "3        3.0    0.052360  1.000171\n",
              "4        4.0    0.069813  1.000305\n",
              "..       ...         ...       ...\n",
              "86      86.0    1.500983  1.162214\n",
              "87      87.0    1.518436  1.166617\n",
              "88      88.0    1.535890  1.171105\n",
              "89      89.0    1.553343  1.175679\n",
              "90      90.0    1.570796  1.180341\n",
              "\n",
              "[91 rows x 3 columns]"
            ]
          },
          "metadata": {},
          "execution_count": 307
        }
      ]
    },
    {
      "cell_type": "markdown",
      "metadata": {
        "id": "jguzx5C2Q9bn"
      },
      "source": [
        "#3\n"
      ]
    },
    {
      "cell_type": "code",
      "metadata": {
        "colab": {
          "base_uri": "https://localhost:8080/",
          "height": 282
        },
        "id": "brx78safQ-pd",
        "outputId": "9daceb38-68ac-4872-baa2-3b481f314fd5"
      },
      "source": [
        "plt.plot(df[\"T_Grados\"], df[\"T/T0\"], label=\"T/T0\")\n",
        "plt.xlabel(\"$Grados(°)$\", size=10)\n",
        "plt.ylabel(\"$f(Grados)$\")\n",
        "plt.legend()\n",
        "plt.grid()\n",
        "plt.show()"
      ],
      "execution_count": 308,
      "outputs": [
        {
          "output_type": "display_data",
          "data": {
            "image/png": "[encoded data removed]",
            "text/plain": [
              "<Figure size 432x288 with 1 Axes>"
            ]
          },
          "metadata": {
            "needs_background": "light"
          }
        }
      ]
    },
    {
      "cell_type": "markdown",
      "metadata": {
        "id": "fB-cDBnrZUlK"
      },
      "source": [
        "#4\n",
        "El comportamiento de $\\alpha = 0.$  donde $\\frac{T}{T0}=1$, es debido a que en  $\\alpha = 0$ se da que $T$ tiende a $T_0$ es decir $T = T_0$ en $\\alpha = 0.$ \n",
        "\n",
        "Demostración integral:\n",
        "\n",
        "$T=\\frac{2 T_{0}}{\\pi} \\int_{0}^{\\frac{\\pi}{2}} \\frac{d \\phi}{\\left(1-\\sin ^{2} \\frac{\\alpha}{2} \\sin ^{2} \\phi\\right)^{\\frac{1}{2}}}$\n",
        "\n",
        "$T=\\frac{2 T_{0}}{\\pi} \\int_{0}^{\\frac{\\pi}{2}} d \\phi $ para $\\alpha=0 \\\\$\n",
        "\n",
        "$T=\\frac{2 T_{0}}{\\pi} (\\frac{\\pi}{2})$\n",
        "\n",
        "$T=T_0$\n"
      ]
    }
  ]
}