{
 "cells": [
  {
   "cell_type": "markdown",
   "metadata": {
    "id": "bWVchymOoRBb"
   },
   "source": [
    "# Primer Examen 15%\n",
    "\n",
    "**Estudiante:** Andrés Felipe Riaño Quintanilla\n",
    "\n",
    "**Documento:** 1083928808"
   ]
  },
  {
   "cell_type": "markdown",
   "metadata": {
    "id": "vge3gzjNXPJh"
   },
   "source": [
    "A) Cargando el archivo JSON: \n",
    "* https://github.com/restrepo/anomaly/raw/main/solutions.json.gz\n",
    "\n",
    "en Pandas\n",
    "\n",
    "1) Adicione una columna nueva `'smax'` con el valor máximo en valor absoluto de la lista de enteros de la correspondiente entrada en la columna '`solution`'\n",
    "\n",
    "2) Adicione dos columnas nuevas: `'sum_s'` (`sum_s³`) con el resultado de la suma (al cubo) de todos los números de la lista de enteros de la correspondiente entrada en la columna '`solution`'. \n",
    "Note que al final el DataFrame debe quedar con tres columnas adicionales\n",
    "\n",
    "3) Usando como semilla el número de su cédula, genere un número entero de forma aleatoria entre 0 y 390073. Seleccione la fila con el índice correspondiente a ese número entero  y con base en la columna '`solution`': construya un polinomio con esa lista de enteros como coeficientes. Encuentre las raices reales de ese polinomio y realice el correspondiente gráfico incluyendo: \n",
    "* el polinomio generado, sus raices (como puntos en el gráfico) y la derivada del polinomio. \n",
    "* Optimize el rango de valores en el eje $x$ y en el eje $y$ del gráfico, de manera que el polinomio y sus raices se visualicen de la mejor forma posible. (Sugerencia → use: `plt.ylim(ymin,ymax)` ). \n",
    "* Se tendrá en cuenta la estética del gráfico presentado incluyendo la rotulación adecuada del mismo\n"
   ]
  },
  {
   "cell_type": "markdown",
   "metadata": {},
   "source": [
    "**Solución 1):**"
   ]
  },
  {
   "cell_type": "code",
   "execution_count": 1,
   "metadata": {},
   "outputs": [],
   "source": [
    "import pandas as pd"
   ]
  },
  {
   "cell_type": "code",
   "execution_count": 4,
   "metadata": {},
   "outputs": [
    {
     "data": {
      "text/html": [
       "<div>\n",
       "<style scoped>\n",
       "    .dataframe tbody tr th:only-of-type {\n",
       "        vertical-align: middle;\n",
       "    }\n",
       "\n",
       "    .dataframe tbody tr th {\n",
       "        vertical-align: top;\n",
       "    }\n",
       "\n",
       "    .dataframe thead th {\n",
       "        text-align: right;\n",
       "    }\n",
       "</style>\n",
       "<table border=\"1\" class=\"dataframe\">\n",
       "  <thead>\n",
       "    <tr style=\"text-align: right;\">\n",
       "      <th></th>\n",
       "      <th>l</th>\n",
       "      <th>k</th>\n",
       "      <th>solution</th>\n",
       "      <th>gcd</th>\n",
       "      <th>n</th>\n",
       "    </tr>\n",
       "  </thead>\n",
       "  <tbody>\n",
       "    <tr>\n",
       "      <th>0</th>\n",
       "      <td>[-1, 0, -1, 0, -1]</td>\n",
       "      <td>[-1, 0, -1, 1, -1]</td>\n",
       "      <td>[1, 4, 4, 4, -5, -5, -5, -5, -5, 6, 6]</td>\n",
       "      <td>1</td>\n",
       "      <td>11</td>\n",
       "    </tr>\n",
       "    <tr>\n",
       "      <th>1</th>\n",
       "      <td>[-1, 1]</td>\n",
       "      <td>[-1, 0, -1]</td>\n",
       "      <td>[1, 2, 2, -3, -3, -3, 4]</td>\n",
       "      <td>1</td>\n",
       "      <td>7</td>\n",
       "    </tr>\n",
       "    <tr>\n",
       "      <th>2</th>\n",
       "      <td>[1, -1, 0, 1, -1]</td>\n",
       "      <td>[-2, 0, -1, -2, 0]</td>\n",
       "      <td>[1, 1, -2, -2, -3, -3, 5, 5, 5, 5, -6, -6]</td>\n",
       "      <td>2</td>\n",
       "      <td>12</td>\n",
       "    </tr>\n",
       "    <tr>\n",
       "      <th>3</th>\n",
       "      <td>[-1, 1, -1, 1, -1]</td>\n",
       "      <td>[-2, -1, 0, -1, 0]</td>\n",
       "      <td>[1, 1, 1, 1, 2, 2, 2, -3, -4, -4, -6, 7]</td>\n",
       "      <td>1</td>\n",
       "      <td>12</td>\n",
       "    </tr>\n",
       "    <tr>\n",
       "      <th>4</th>\n",
       "      <td>[1, 0, 1, 0, -1]</td>\n",
       "      <td>[-2, -1, -2, -1, 0]</td>\n",
       "      <td>[1, 1, 1, -2, -2, -5, -5, 6, 6, 7, -8]</td>\n",
       "      <td>1</td>\n",
       "      <td>11</td>\n",
       "    </tr>\n",
       "    <tr>\n",
       "      <th>...</th>\n",
       "      <td>...</td>\n",
       "      <td>...</td>\n",
       "      <td>...</td>\n",
       "      <td>...</td>\n",
       "      <td>...</td>\n",
       "    </tr>\n",
       "    <tr>\n",
       "      <th>390069</th>\n",
       "      <td>[-3, -15, -6]</td>\n",
       "      <td>[-3, 8, 9]</td>\n",
       "      <td>[8, -9, -9, 11, 25, -29, -29, 32]</td>\n",
       "      <td>36</td>\n",
       "      <td>8</td>\n",
       "    </tr>\n",
       "    <tr>\n",
       "      <th>390070</th>\n",
       "      <td>[-10, -5, -15]</td>\n",
       "      <td>[-10, -12, 12]</td>\n",
       "      <td>[5, 5, 5, -17, -27, -27, 28, 28]</td>\n",
       "      <td>100</td>\n",
       "      <td>8</td>\n",
       "    </tr>\n",
       "    <tr>\n",
       "      <th>390071</th>\n",
       "      <td>[15, -1, 15]</td>\n",
       "      <td>[-14, -13, -14]</td>\n",
       "      <td>[14, -15, -16, 17, -30, 31, 31, -32]</td>\n",
       "      <td>1</td>\n",
       "      <td>8</td>\n",
       "    </tr>\n",
       "    <tr>\n",
       "      <th>390072</th>\n",
       "      <td>[-15, -9, -1]</td>\n",
       "      <td>[-13, -14, -12]</td>\n",
       "      <td>[11, -13, -15, 19, 23, -26, -30, 31]</td>\n",
       "      <td>18</td>\n",
       "      <td>8</td>\n",
       "    </tr>\n",
       "    <tr>\n",
       "      <th>390073</th>\n",
       "      <td>[10, 15, 5]</td>\n",
       "      <td>[-11, -14, 7]</td>\n",
       "      <td>[16, -17, -17, 19, 20, -22, -22, 23]</td>\n",
       "      <td>2000</td>\n",
       "      <td>8</td>\n",
       "    </tr>\n",
       "  </tbody>\n",
       "</table>\n",
       "<p>390074 rows × 5 columns</p>\n",
       "</div>"
      ],
      "text/plain": [
       "                         l                    k  \\\n",
       "0       [-1, 0, -1, 0, -1]   [-1, 0, -1, 1, -1]   \n",
       "1                  [-1, 1]          [-1, 0, -1]   \n",
       "2        [1, -1, 0, 1, -1]   [-2, 0, -1, -2, 0]   \n",
       "3       [-1, 1, -1, 1, -1]   [-2, -1, 0, -1, 0]   \n",
       "4         [1, 0, 1, 0, -1]  [-2, -1, -2, -1, 0]   \n",
       "...                    ...                  ...   \n",
       "390069       [-3, -15, -6]           [-3, 8, 9]   \n",
       "390070      [-10, -5, -15]       [-10, -12, 12]   \n",
       "390071        [15, -1, 15]      [-14, -13, -14]   \n",
       "390072       [-15, -9, -1]      [-13, -14, -12]   \n",
       "390073         [10, 15, 5]        [-11, -14, 7]   \n",
       "\n",
       "                                          solution   gcd   n  \n",
       "0           [1, 4, 4, 4, -5, -5, -5, -5, -5, 6, 6]     1  11  \n",
       "1                         [1, 2, 2, -3, -3, -3, 4]     1   7  \n",
       "2       [1, 1, -2, -2, -3, -3, 5, 5, 5, 5, -6, -6]     2  12  \n",
       "3         [1, 1, 1, 1, 2, 2, 2, -3, -4, -4, -6, 7]     1  12  \n",
       "4           [1, 1, 1, -2, -2, -5, -5, 6, 6, 7, -8]     1  11  \n",
       "...                                            ...   ...  ..  \n",
       "390069           [8, -9, -9, 11, 25, -29, -29, 32]    36   8  \n",
       "390070            [5, 5, 5, -17, -27, -27, 28, 28]   100   8  \n",
       "390071        [14, -15, -16, 17, -30, 31, 31, -32]     1   8  \n",
       "390072        [11, -13, -15, 19, 23, -26, -30, 31]    18   8  \n",
       "390073        [16, -17, -17, 19, 20, -22, -22, 23]  2000   8  \n",
       "\n",
       "[390074 rows x 5 columns]"
      ]
     },
     "execution_count": 4,
     "metadata": {},
     "output_type": "execute_result"
    }
   ],
   "source": [
    "df=pd.read_json('https://github.com/restrepo/anomaly/raw/main/solutions.json.gz')\n",
    "df"
   ]
  },
  {
   "cell_type": "code",
   "execution_count": 16,
   "metadata": {},
   "outputs": [
    {
     "data": {
      "text/plain": [
       "0          6\n",
       "1          4\n",
       "2          6\n",
       "3          7\n",
       "4          8\n",
       "          ..\n",
       "390069    32\n",
       "390070    28\n",
       "390071    32\n",
       "390072    31\n",
       "390073    23\n",
       "Name: solution, Length: 390074, dtype: int64"
      ]
     },
     "execution_count": 16,
     "metadata": {},
     "output_type": "execute_result"
    }
   ],
   "source": [
    "df.solution.apply(lambda l: max([abs(i) for i in l]))  #Columna con el valor máximo en valor absoluto de las listas de solution."
   ]
  },
  {
   "cell_type": "code",
   "execution_count": 17,
   "metadata": {},
   "outputs": [
    {
     "data": {
      "text/html": [
       "<div>\n",
       "<style scoped>\n",
       "    .dataframe tbody tr th:only-of-type {\n",
       "        vertical-align: middle;\n",
       "    }\n",
       "\n",
       "    .dataframe tbody tr th {\n",
       "        vertical-align: top;\n",
       "    }\n",
       "\n",
       "    .dataframe thead th {\n",
       "        text-align: right;\n",
       "    }\n",
       "</style>\n",
       "<table border=\"1\" class=\"dataframe\">\n",
       "  <thead>\n",
       "    <tr style=\"text-align: right;\">\n",
       "      <th></th>\n",
       "      <th>l</th>\n",
       "      <th>k</th>\n",
       "      <th>solution</th>\n",
       "      <th>gcd</th>\n",
       "      <th>n</th>\n",
       "      <th>smax</th>\n",
       "    </tr>\n",
       "  </thead>\n",
       "  <tbody>\n",
       "    <tr>\n",
       "      <th>0</th>\n",
       "      <td>[-1, 0, -1, 0, -1]</td>\n",
       "      <td>[-1, 0, -1, 1, -1]</td>\n",
       "      <td>[1, 4, 4, 4, -5, -5, -5, -5, -5, 6, 6]</td>\n",
       "      <td>1</td>\n",
       "      <td>11</td>\n",
       "      <td>6</td>\n",
       "    </tr>\n",
       "    <tr>\n",
       "      <th>1</th>\n",
       "      <td>[-1, 1]</td>\n",
       "      <td>[-1, 0, -1]</td>\n",
       "      <td>[1, 2, 2, -3, -3, -3, 4]</td>\n",
       "      <td>1</td>\n",
       "      <td>7</td>\n",
       "      <td>4</td>\n",
       "    </tr>\n",
       "    <tr>\n",
       "      <th>2</th>\n",
       "      <td>[1, -1, 0, 1, -1]</td>\n",
       "      <td>[-2, 0, -1, -2, 0]</td>\n",
       "      <td>[1, 1, -2, -2, -3, -3, 5, 5, 5, 5, -6, -6]</td>\n",
       "      <td>2</td>\n",
       "      <td>12</td>\n",
       "      <td>6</td>\n",
       "    </tr>\n",
       "    <tr>\n",
       "      <th>3</th>\n",
       "      <td>[-1, 1, -1, 1, -1]</td>\n",
       "      <td>[-2, -1, 0, -1, 0]</td>\n",
       "      <td>[1, 1, 1, 1, 2, 2, 2, -3, -4, -4, -6, 7]</td>\n",
       "      <td>1</td>\n",
       "      <td>12</td>\n",
       "      <td>7</td>\n",
       "    </tr>\n",
       "    <tr>\n",
       "      <th>4</th>\n",
       "      <td>[1, 0, 1, 0, -1]</td>\n",
       "      <td>[-2, -1, -2, -1, 0]</td>\n",
       "      <td>[1, 1, 1, -2, -2, -5, -5, 6, 6, 7, -8]</td>\n",
       "      <td>1</td>\n",
       "      <td>11</td>\n",
       "      <td>8</td>\n",
       "    </tr>\n",
       "    <tr>\n",
       "      <th>...</th>\n",
       "      <td>...</td>\n",
       "      <td>...</td>\n",
       "      <td>...</td>\n",
       "      <td>...</td>\n",
       "      <td>...</td>\n",
       "      <td>...</td>\n",
       "    </tr>\n",
       "    <tr>\n",
       "      <th>390069</th>\n",
       "      <td>[-3, -15, -6]</td>\n",
       "      <td>[-3, 8, 9]</td>\n",
       "      <td>[8, -9, -9, 11, 25, -29, -29, 32]</td>\n",
       "      <td>36</td>\n",
       "      <td>8</td>\n",
       "      <td>32</td>\n",
       "    </tr>\n",
       "    <tr>\n",
       "      <th>390070</th>\n",
       "      <td>[-10, -5, -15]</td>\n",
       "      <td>[-10, -12, 12]</td>\n",
       "      <td>[5, 5, 5, -17, -27, -27, 28, 28]</td>\n",
       "      <td>100</td>\n",
       "      <td>8</td>\n",
       "      <td>28</td>\n",
       "    </tr>\n",
       "    <tr>\n",
       "      <th>390071</th>\n",
       "      <td>[15, -1, 15]</td>\n",
       "      <td>[-14, -13, -14]</td>\n",
       "      <td>[14, -15, -16, 17, -30, 31, 31, -32]</td>\n",
       "      <td>1</td>\n",
       "      <td>8</td>\n",
       "      <td>32</td>\n",
       "    </tr>\n",
       "    <tr>\n",
       "      <th>390072</th>\n",
       "      <td>[-15, -9, -1]</td>\n",
       "      <td>[-13, -14, -12]</td>\n",
       "      <td>[11, -13, -15, 19, 23, -26, -30, 31]</td>\n",
       "      <td>18</td>\n",
       "      <td>8</td>\n",
       "      <td>31</td>\n",
       "    </tr>\n",
       "    <tr>\n",
       "      <th>390073</th>\n",
       "      <td>[10, 15, 5]</td>\n",
       "      <td>[-11, -14, 7]</td>\n",
       "      <td>[16, -17, -17, 19, 20, -22, -22, 23]</td>\n",
       "      <td>2000</td>\n",
       "      <td>8</td>\n",
       "      <td>23</td>\n",
       "    </tr>\n",
       "  </tbody>\n",
       "</table>\n",
       "<p>390074 rows × 6 columns</p>\n",
       "</div>"
      ],
      "text/plain": [
       "                         l                    k  \\\n",
       "0       [-1, 0, -1, 0, -1]   [-1, 0, -1, 1, -1]   \n",
       "1                  [-1, 1]          [-1, 0, -1]   \n",
       "2        [1, -1, 0, 1, -1]   [-2, 0, -1, -2, 0]   \n",
       "3       [-1, 1, -1, 1, -1]   [-2, -1, 0, -1, 0]   \n",
       "4         [1, 0, 1, 0, -1]  [-2, -1, -2, -1, 0]   \n",
       "...                    ...                  ...   \n",
       "390069       [-3, -15, -6]           [-3, 8, 9]   \n",
       "390070      [-10, -5, -15]       [-10, -12, 12]   \n",
       "390071        [15, -1, 15]      [-14, -13, -14]   \n",
       "390072       [-15, -9, -1]      [-13, -14, -12]   \n",
       "390073         [10, 15, 5]        [-11, -14, 7]   \n",
       "\n",
       "                                          solution   gcd   n  smax  \n",
       "0           [1, 4, 4, 4, -5, -5, -5, -5, -5, 6, 6]     1  11     6  \n",
       "1                         [1, 2, 2, -3, -3, -3, 4]     1   7     4  \n",
       "2       [1, 1, -2, -2, -3, -3, 5, 5, 5, 5, -6, -6]     2  12     6  \n",
       "3         [1, 1, 1, 1, 2, 2, 2, -3, -4, -4, -6, 7]     1  12     7  \n",
       "4           [1, 1, 1, -2, -2, -5, -5, 6, 6, 7, -8]     1  11     8  \n",
       "...                                            ...   ...  ..   ...  \n",
       "390069           [8, -9, -9, 11, 25, -29, -29, 32]    36   8    32  \n",
       "390070            [5, 5, 5, -17, -27, -27, 28, 28]   100   8    28  \n",
       "390071        [14, -15, -16, 17, -30, 31, 31, -32]     1   8    32  \n",
       "390072        [11, -13, -15, 19, 23, -26, -30, 31]    18   8    31  \n",
       "390073        [16, -17, -17, 19, 20, -22, -22, 23]  2000   8    23  \n",
       "\n",
       "[390074 rows x 6 columns]"
      ]
     },
     "execution_count": 17,
     "metadata": {},
     "output_type": "execute_result"
    }
   ],
   "source": [
    "df['smax']=df.solution.apply(lambda l: max([abs(i) for i in l]))  #Se agrega la columna anterior al dataframe.\n",
    "df"
   ]
  },
  {
   "cell_type": "markdown",
   "metadata": {},
   "source": [
    "**Solución 2):**"
   ]
  },
  {
   "cell_type": "code",
   "execution_count": 18,
   "metadata": {},
   "outputs": [
    {
     "data": {
      "text/plain": [
       "0         0\n",
       "1         0\n",
       "2         0\n",
       "3         0\n",
       "4         0\n",
       "         ..\n",
       "390069    0\n",
       "390070    0\n",
       "390071    0\n",
       "390072    0\n",
       "390073    0\n",
       "Name: solution, Length: 390074, dtype: int64"
      ]
     },
     "execution_count": 18,
     "metadata": {},
     "output_type": "execute_result"
    }
   ],
   "source": [
    "df.solution.apply(lambda l: sum(l))  #Columna con la suma de los valores de las listas de la columna solution."
   ]
  },
  {
   "cell_type": "code",
   "execution_count": 22,
   "metadata": {},
   "outputs": [
    {
     "data": {
      "text/html": [
       "<div>\n",
       "<style scoped>\n",
       "    .dataframe tbody tr th:only-of-type {\n",
       "        vertical-align: middle;\n",
       "    }\n",
       "\n",
       "    .dataframe tbody tr th {\n",
       "        vertical-align: top;\n",
       "    }\n",
       "\n",
       "    .dataframe thead th {\n",
       "        text-align: right;\n",
       "    }\n",
       "</style>\n",
       "<table border=\"1\" class=\"dataframe\">\n",
       "  <thead>\n",
       "    <tr style=\"text-align: right;\">\n",
       "      <th></th>\n",
       "      <th>l</th>\n",
       "      <th>k</th>\n",
       "      <th>solution</th>\n",
       "      <th>gcd</th>\n",
       "      <th>n</th>\n",
       "      <th>smax</th>\n",
       "      <th>sum_s</th>\n",
       "    </tr>\n",
       "  </thead>\n",
       "  <tbody>\n",
       "    <tr>\n",
       "      <th>0</th>\n",
       "      <td>[-1, 0, -1, 0, -1]</td>\n",
       "      <td>[-1, 0, -1, 1, -1]</td>\n",
       "      <td>[1, 4, 4, 4, -5, -5, -5, -5, -5, 6, 6]</td>\n",
       "      <td>1</td>\n",
       "      <td>11</td>\n",
       "      <td>6</td>\n",
       "      <td>0</td>\n",
       "    </tr>\n",
       "    <tr>\n",
       "      <th>1</th>\n",
       "      <td>[-1, 1]</td>\n",
       "      <td>[-1, 0, -1]</td>\n",
       "      <td>[1, 2, 2, -3, -3, -3, 4]</td>\n",
       "      <td>1</td>\n",
       "      <td>7</td>\n",
       "      <td>4</td>\n",
       "      <td>0</td>\n",
       "    </tr>\n",
       "    <tr>\n",
       "      <th>2</th>\n",
       "      <td>[1, -1, 0, 1, -1]</td>\n",
       "      <td>[-2, 0, -1, -2, 0]</td>\n",
       "      <td>[1, 1, -2, -2, -3, -3, 5, 5, 5, 5, -6, -6]</td>\n",
       "      <td>2</td>\n",
       "      <td>12</td>\n",
       "      <td>6</td>\n",
       "      <td>0</td>\n",
       "    </tr>\n",
       "    <tr>\n",
       "      <th>3</th>\n",
       "      <td>[-1, 1, -1, 1, -1]</td>\n",
       "      <td>[-2, -1, 0, -1, 0]</td>\n",
       "      <td>[1, 1, 1, 1, 2, 2, 2, -3, -4, -4, -6, 7]</td>\n",
       "      <td>1</td>\n",
       "      <td>12</td>\n",
       "      <td>7</td>\n",
       "      <td>0</td>\n",
       "    </tr>\n",
       "    <tr>\n",
       "      <th>4</th>\n",
       "      <td>[1, 0, 1, 0, -1]</td>\n",
       "      <td>[-2, -1, -2, -1, 0]</td>\n",
       "      <td>[1, 1, 1, -2, -2, -5, -5, 6, 6, 7, -8]</td>\n",
       "      <td>1</td>\n",
       "      <td>11</td>\n",
       "      <td>8</td>\n",
       "      <td>0</td>\n",
       "    </tr>\n",
       "    <tr>\n",
       "      <th>...</th>\n",
       "      <td>...</td>\n",
       "      <td>...</td>\n",
       "      <td>...</td>\n",
       "      <td>...</td>\n",
       "      <td>...</td>\n",
       "      <td>...</td>\n",
       "      <td>...</td>\n",
       "    </tr>\n",
       "    <tr>\n",
       "      <th>390069</th>\n",
       "      <td>[-3, -15, -6]</td>\n",
       "      <td>[-3, 8, 9]</td>\n",
       "      <td>[8, -9, -9, 11, 25, -29, -29, 32]</td>\n",
       "      <td>36</td>\n",
       "      <td>8</td>\n",
       "      <td>32</td>\n",
       "      <td>0</td>\n",
       "    </tr>\n",
       "    <tr>\n",
       "      <th>390070</th>\n",
       "      <td>[-10, -5, -15]</td>\n",
       "      <td>[-10, -12, 12]</td>\n",
       "      <td>[5, 5, 5, -17, -27, -27, 28, 28]</td>\n",
       "      <td>100</td>\n",
       "      <td>8</td>\n",
       "      <td>28</td>\n",
       "      <td>0</td>\n",
       "    </tr>\n",
       "    <tr>\n",
       "      <th>390071</th>\n",
       "      <td>[15, -1, 15]</td>\n",
       "      <td>[-14, -13, -14]</td>\n",
       "      <td>[14, -15, -16, 17, -30, 31, 31, -32]</td>\n",
       "      <td>1</td>\n",
       "      <td>8</td>\n",
       "      <td>32</td>\n",
       "      <td>0</td>\n",
       "    </tr>\n",
       "    <tr>\n",
       "      <th>390072</th>\n",
       "      <td>[-15, -9, -1]</td>\n",
       "      <td>[-13, -14, -12]</td>\n",
       "      <td>[11, -13, -15, 19, 23, -26, -30, 31]</td>\n",
       "      <td>18</td>\n",
       "      <td>8</td>\n",
       "      <td>31</td>\n",
       "      <td>0</td>\n",
       "    </tr>\n",
       "    <tr>\n",
       "      <th>390073</th>\n",
       "      <td>[10, 15, 5]</td>\n",
       "      <td>[-11, -14, 7]</td>\n",
       "      <td>[16, -17, -17, 19, 20, -22, -22, 23]</td>\n",
       "      <td>2000</td>\n",
       "      <td>8</td>\n",
       "      <td>23</td>\n",
       "      <td>0</td>\n",
       "    </tr>\n",
       "  </tbody>\n",
       "</table>\n",
       "<p>390074 rows × 7 columns</p>\n",
       "</div>"
      ],
      "text/plain": [
       "                         l                    k  \\\n",
       "0       [-1, 0, -1, 0, -1]   [-1, 0, -1, 1, -1]   \n",
       "1                  [-1, 1]          [-1, 0, -1]   \n",
       "2        [1, -1, 0, 1, -1]   [-2, 0, -1, -2, 0]   \n",
       "3       [-1, 1, -1, 1, -1]   [-2, -1, 0, -1, 0]   \n",
       "4         [1, 0, 1, 0, -1]  [-2, -1, -2, -1, 0]   \n",
       "...                    ...                  ...   \n",
       "390069       [-3, -15, -6]           [-3, 8, 9]   \n",
       "390070      [-10, -5, -15]       [-10, -12, 12]   \n",
       "390071        [15, -1, 15]      [-14, -13, -14]   \n",
       "390072       [-15, -9, -1]      [-13, -14, -12]   \n",
       "390073         [10, 15, 5]        [-11, -14, 7]   \n",
       "\n",
       "                                          solution   gcd   n  smax  sum_s  \n",
       "0           [1, 4, 4, 4, -5, -5, -5, -5, -5, 6, 6]     1  11     6      0  \n",
       "1                         [1, 2, 2, -3, -3, -3, 4]     1   7     4      0  \n",
       "2       [1, 1, -2, -2, -3, -3, 5, 5, 5, 5, -6, -6]     2  12     6      0  \n",
       "3         [1, 1, 1, 1, 2, 2, 2, -3, -4, -4, -6, 7]     1  12     7      0  \n",
       "4           [1, 1, 1, -2, -2, -5, -5, 6, 6, 7, -8]     1  11     8      0  \n",
       "...                                            ...   ...  ..   ...    ...  \n",
       "390069           [8, -9, -9, 11, 25, -29, -29, 32]    36   8    32      0  \n",
       "390070            [5, 5, 5, -17, -27, -27, 28, 28]   100   8    28      0  \n",
       "390071        [14, -15, -16, 17, -30, 31, 31, -32]     1   8    32      0  \n",
       "390072        [11, -13, -15, 19, 23, -26, -30, 31]    18   8    31      0  \n",
       "390073        [16, -17, -17, 19, 20, -22, -22, 23]  2000   8    23      0  \n",
       "\n",
       "[390074 rows x 7 columns]"
      ]
     },
     "execution_count": 22,
     "metadata": {},
     "output_type": "execute_result"
    }
   ],
   "source": [
    "df[\"sum_s\"]=df.solution.apply(lambda l: sum(l))  #Se agrega la columna anterior al dataframe.\n",
    "df"
   ]
  },
  {
   "cell_type": "code",
   "execution_count": 27,
   "metadata": {},
   "outputs": [
    {
     "data": {
      "text/plain": [
       "0         0\n",
       "1         0\n",
       "2         0\n",
       "3         0\n",
       "4         0\n",
       "         ..\n",
       "390069    0\n",
       "390070    0\n",
       "390071    0\n",
       "390072    0\n",
       "390073    0\n",
       "Name: solution, Length: 390074, dtype: int64"
      ]
     },
     "execution_count": 27,
     "metadata": {},
     "output_type": "execute_result"
    }
   ],
   "source": [
    "df.solution.apply(lambda l: sum([i**3 for i in l]))  #Columna con la suma de los cubos de los elementos de las listas de la columna solution."
   ]
  },
  {
   "cell_type": "code",
   "execution_count": 24,
   "metadata": {},
   "outputs": [
    {
     "data": {
      "text/html": [
       "<div>\n",
       "<style scoped>\n",
       "    .dataframe tbody tr th:only-of-type {\n",
       "        vertical-align: middle;\n",
       "    }\n",
       "\n",
       "    .dataframe tbody tr th {\n",
       "        vertical-align: top;\n",
       "    }\n",
       "\n",
       "    .dataframe thead th {\n",
       "        text-align: right;\n",
       "    }\n",
       "</style>\n",
       "<table border=\"1\" class=\"dataframe\">\n",
       "  <thead>\n",
       "    <tr style=\"text-align: right;\">\n",
       "      <th></th>\n",
       "      <th>l</th>\n",
       "      <th>k</th>\n",
       "      <th>solution</th>\n",
       "      <th>gcd</th>\n",
       "      <th>n</th>\n",
       "      <th>smax</th>\n",
       "      <th>sum_s</th>\n",
       "      <th>sum_s³</th>\n",
       "    </tr>\n",
       "  </thead>\n",
       "  <tbody>\n",
       "    <tr>\n",
       "      <th>0</th>\n",
       "      <td>[-1, 0, -1, 0, -1]</td>\n",
       "      <td>[-1, 0, -1, 1, -1]</td>\n",
       "      <td>[1, 4, 4, 4, -5, -5, -5, -5, -5, 6, 6]</td>\n",
       "      <td>1</td>\n",
       "      <td>11</td>\n",
       "      <td>6</td>\n",
       "      <td>0</td>\n",
       "      <td>0</td>\n",
       "    </tr>\n",
       "    <tr>\n",
       "      <th>1</th>\n",
       "      <td>[-1, 1]</td>\n",
       "      <td>[-1, 0, -1]</td>\n",
       "      <td>[1, 2, 2, -3, -3, -3, 4]</td>\n",
       "      <td>1</td>\n",
       "      <td>7</td>\n",
       "      <td>4</td>\n",
       "      <td>0</td>\n",
       "      <td>0</td>\n",
       "    </tr>\n",
       "    <tr>\n",
       "      <th>2</th>\n",
       "      <td>[1, -1, 0, 1, -1]</td>\n",
       "      <td>[-2, 0, -1, -2, 0]</td>\n",
       "      <td>[1, 1, -2, -2, -3, -3, 5, 5, 5, 5, -6, -6]</td>\n",
       "      <td>2</td>\n",
       "      <td>12</td>\n",
       "      <td>6</td>\n",
       "      <td>0</td>\n",
       "      <td>0</td>\n",
       "    </tr>\n",
       "    <tr>\n",
       "      <th>3</th>\n",
       "      <td>[-1, 1, -1, 1, -1]</td>\n",
       "      <td>[-2, -1, 0, -1, 0]</td>\n",
       "      <td>[1, 1, 1, 1, 2, 2, 2, -3, -4, -4, -6, 7]</td>\n",
       "      <td>1</td>\n",
       "      <td>12</td>\n",
       "      <td>7</td>\n",
       "      <td>0</td>\n",
       "      <td>0</td>\n",
       "    </tr>\n",
       "    <tr>\n",
       "      <th>4</th>\n",
       "      <td>[1, 0, 1, 0, -1]</td>\n",
       "      <td>[-2, -1, -2, -1, 0]</td>\n",
       "      <td>[1, 1, 1, -2, -2, -5, -5, 6, 6, 7, -8]</td>\n",
       "      <td>1</td>\n",
       "      <td>11</td>\n",
       "      <td>8</td>\n",
       "      <td>0</td>\n",
       "      <td>0</td>\n",
       "    </tr>\n",
       "    <tr>\n",
       "      <th>...</th>\n",
       "      <td>...</td>\n",
       "      <td>...</td>\n",
       "      <td>...</td>\n",
       "      <td>...</td>\n",
       "      <td>...</td>\n",
       "      <td>...</td>\n",
       "      <td>...</td>\n",
       "      <td>...</td>\n",
       "    </tr>\n",
       "    <tr>\n",
       "      <th>390069</th>\n",
       "      <td>[-3, -15, -6]</td>\n",
       "      <td>[-3, 8, 9]</td>\n",
       "      <td>[8, -9, -9, 11, 25, -29, -29, 32]</td>\n",
       "      <td>36</td>\n",
       "      <td>8</td>\n",
       "      <td>32</td>\n",
       "      <td>0</td>\n",
       "      <td>0</td>\n",
       "    </tr>\n",
       "    <tr>\n",
       "      <th>390070</th>\n",
       "      <td>[-10, -5, -15]</td>\n",
       "      <td>[-10, -12, 12]</td>\n",
       "      <td>[5, 5, 5, -17, -27, -27, 28, 28]</td>\n",
       "      <td>100</td>\n",
       "      <td>8</td>\n",
       "      <td>28</td>\n",
       "      <td>0</td>\n",
       "      <td>0</td>\n",
       "    </tr>\n",
       "    <tr>\n",
       "      <th>390071</th>\n",
       "      <td>[15, -1, 15]</td>\n",
       "      <td>[-14, -13, -14]</td>\n",
       "      <td>[14, -15, -16, 17, -30, 31, 31, -32]</td>\n",
       "      <td>1</td>\n",
       "      <td>8</td>\n",
       "      <td>32</td>\n",
       "      <td>0</td>\n",
       "      <td>0</td>\n",
       "    </tr>\n",
       "    <tr>\n",
       "      <th>390072</th>\n",
       "      <td>[-15, -9, -1]</td>\n",
       "      <td>[-13, -14, -12]</td>\n",
       "      <td>[11, -13, -15, 19, 23, -26, -30, 31]</td>\n",
       "      <td>18</td>\n",
       "      <td>8</td>\n",
       "      <td>31</td>\n",
       "      <td>0</td>\n",
       "      <td>0</td>\n",
       "    </tr>\n",
       "    <tr>\n",
       "      <th>390073</th>\n",
       "      <td>[10, 15, 5]</td>\n",
       "      <td>[-11, -14, 7]</td>\n",
       "      <td>[16, -17, -17, 19, 20, -22, -22, 23]</td>\n",
       "      <td>2000</td>\n",
       "      <td>8</td>\n",
       "      <td>23</td>\n",
       "      <td>0</td>\n",
       "      <td>0</td>\n",
       "    </tr>\n",
       "  </tbody>\n",
       "</table>\n",
       "<p>390074 rows × 8 columns</p>\n",
       "</div>"
      ],
      "text/plain": [
       "                         l                    k  \\\n",
       "0       [-1, 0, -1, 0, -1]   [-1, 0, -1, 1, -1]   \n",
       "1                  [-1, 1]          [-1, 0, -1]   \n",
       "2        [1, -1, 0, 1, -1]   [-2, 0, -1, -2, 0]   \n",
       "3       [-1, 1, -1, 1, -1]   [-2, -1, 0, -1, 0]   \n",
       "4         [1, 0, 1, 0, -1]  [-2, -1, -2, -1, 0]   \n",
       "...                    ...                  ...   \n",
       "390069       [-3, -15, -6]           [-3, 8, 9]   \n",
       "390070      [-10, -5, -15]       [-10, -12, 12]   \n",
       "390071        [15, -1, 15]      [-14, -13, -14]   \n",
       "390072       [-15, -9, -1]      [-13, -14, -12]   \n",
       "390073         [10, 15, 5]        [-11, -14, 7]   \n",
       "\n",
       "                                          solution   gcd   n  smax  sum_s  \\\n",
       "0           [1, 4, 4, 4, -5, -5, -5, -5, -5, 6, 6]     1  11     6      0   \n",
       "1                         [1, 2, 2, -3, -3, -3, 4]     1   7     4      0   \n",
       "2       [1, 1, -2, -2, -3, -3, 5, 5, 5, 5, -6, -6]     2  12     6      0   \n",
       "3         [1, 1, 1, 1, 2, 2, 2, -3, -4, -4, -6, 7]     1  12     7      0   \n",
       "4           [1, 1, 1, -2, -2, -5, -5, 6, 6, 7, -8]     1  11     8      0   \n",
       "...                                            ...   ...  ..   ...    ...   \n",
       "390069           [8, -9, -9, 11, 25, -29, -29, 32]    36   8    32      0   \n",
       "390070            [5, 5, 5, -17, -27, -27, 28, 28]   100   8    28      0   \n",
       "390071        [14, -15, -16, 17, -30, 31, 31, -32]     1   8    32      0   \n",
       "390072        [11, -13, -15, 19, 23, -26, -30, 31]    18   8    31      0   \n",
       "390073        [16, -17, -17, 19, 20, -22, -22, 23]  2000   8    23      0   \n",
       "\n",
       "        sum_s³  \n",
       "0            0  \n",
       "1            0  \n",
       "2            0  \n",
       "3            0  \n",
       "4            0  \n",
       "...        ...  \n",
       "390069       0  \n",
       "390070       0  \n",
       "390071       0  \n",
       "390072       0  \n",
       "390073       0  \n",
       "\n",
       "[390074 rows x 8 columns]"
      ]
     },
     "execution_count": 24,
     "metadata": {},
     "output_type": "execute_result"
    }
   ],
   "source": [
    "df[\"sum_s³\"]=df.solution.apply(lambda l: sum([i**3 for i in l])) #Se agrega la columna anterior al dataframe.\n",
    "df"
   ]
  },
  {
   "cell_type": "markdown",
   "metadata": {},
   "source": [
    "**Solución 3):**"
   ]
  },
  {
   "cell_type": "code",
   "execution_count": 32,
   "metadata": {},
   "outputs": [],
   "source": [
    "import numpy as np"
   ]
  },
  {
   "cell_type": "code",
   "execution_count": 39,
   "metadata": {},
   "outputs": [
    {
     "data": {
      "text/plain": [
       "14408"
      ]
     },
     "execution_count": 39,
     "metadata": {},
     "output_type": "execute_result"
    }
   ],
   "source": [
    "np.random.seed(1083928808)\n",
    "fila=np.random.randint(0,390073)  #Índice de la fila\n",
    "fila"
   ]
  },
  {
   "cell_type": "code",
   "execution_count": 43,
   "metadata": {},
   "outputs": [
    {
     "data": {
      "text/plain": [
       "[1, -2, -3, -3, -12, -13, 16, 18, -28, 29, 29, -32]"
      ]
     },
     "execution_count": 43,
     "metadata": {},
     "output_type": "execute_result"
    }
   ],
   "source": [
    "coeficientes=df.loc[fila,'solution']  #Lista con los coeficientes del polinomio a generar.\n",
    "coeficientes"
   ]
  },
  {
   "cell_type": "code",
   "execution_count": 160,
   "metadata": {},
   "outputs": [
    {
     "name": "stdout",
     "output_type": "stream",
     "text": [
      "   11     10     9     8      7      6      5      4      3      2\n",
      "1 x  - 2 x  - 3 x - 3 x - 12 x - 13 x + 16 x + 18 x - 28 x + 29 x + 29 x - 32\n"
     ]
    }
   ],
   "source": [
    "P = np.poly1d(coeficientes)  #Polinomio generado.\n",
    "print(P)"
   ]
  },
  {
   "cell_type": "markdown",
   "metadata": {},
   "source": [
    "**Gráfico preliminar:** El siguiente gráfico no es el que se pretende entregar. Es solamente una ayuda para visualizar el polinomio."
   ]
  },
  {
   "cell_type": "code",
   "execution_count": 47,
   "metadata": {},
   "outputs": [],
   "source": [
    "import matplotlib.pyplot as plt"
   ]
  },
  {
   "cell_type": "code",
   "execution_count": 161,
   "metadata": {},
   "outputs": [
    {
     "data": {
      "image/png": "[encoded data removed]",
      "text/plain": [
       "<Figure size 720x432 with 1 Axes>"
      ]
     },
     "metadata": {
      "needs_background": "light"
     },
     "output_type": "display_data"
    }
   ],
   "source": [
    "xp=np.linspace(-2,4,10000)\n",
    "yp=P(xp)\n",
    "plt.figure(figsize=(10,6))\n",
    "plt.plot(xp,yp,'-',color='blue')\n",
    "font = {'family' : 'Arial', 'weight' : 'bold', 'size'   : 20} \n",
    "font2={'family' : 'Arial', 'weight' : 'bold', 'size' : 15}\n",
    "plt.title('Gráfico Preliminar', **font),plt.xlabel('x', **font2),plt.ylabel('p(x)', **font2)\n",
    "plt.ylim(-10,10)\n",
    "plt.grid()\n",
    "plt.show()"
   ]
  },
  {
   "cell_type": "markdown",
   "metadata": {},
   "source": [
    "Como es difícil saber si fuera del intervalo graficado hay más raíces, esto se verificará de la siguiente forma."
   ]
  },
  {
   "cell_type": "code",
   "execution_count": 68,
   "metadata": {},
   "outputs": [],
   "source": [
    "intervalo1=np.linspace(-10000,-2,1000000)  #Se toman los intervalos [-10000,-2] y [4,10000] y se verifica si en ellos \n",
    "intervalo2=np.linspace(4,10000,1000000)   #hay cambios de signo."
   ]
  },
  {
   "cell_type": "code",
   "execution_count": 162,
   "metadata": {},
   "outputs": [
    {
     "data": {
      "text/plain": [
       "False"
      ]
     },
     "execution_count": 162,
     "metadata": {},
     "output_type": "execute_result"
    }
   ],
   "source": [
    "False in P(intervalo1)<0 #¿Hay números positivos en el intervalo [-10000,-2]?: No"
   ]
  },
  {
   "cell_type": "code",
   "execution_count": 163,
   "metadata": {},
   "outputs": [
    {
     "data": {
      "text/plain": [
       "False"
      ]
     },
     "execution_count": 163,
     "metadata": {},
     "output_type": "execute_result"
    }
   ],
   "source": [
    "False in P(intervalo2)>0 #¿Hay números negativos en el intervalo [4,10000]?: No"
   ]
  },
  {
   "cell_type": "markdown",
   "metadata": {},
   "source": [
    "Como en $[-10000,-2]$ y en $[4,10000]$ no hay cambios de signo, es muy poco probable que hayan raíces para $x<-2$ y para $x>4$. Por lo tanto, se hallarán las 5 raíces que aparecen en la gráfica."
   ]
  },
  {
   "cell_type": "code",
   "execution_count": 71,
   "metadata": {},
   "outputs": [],
   "source": [
    "from scipy import optimize"
   ]
  },
  {
   "cell_type": "code",
   "execution_count": 164,
   "metadata": {},
   "outputs": [],
   "source": [
    "#Raíces del polinomio.\n",
    "\n",
    "root1=optimize.bisect(P,-1.2,-1.4,xtol=1e-16,rtol=9e-16,maxiter=1000)\n",
    "root2=optimize.bisect(P,-1.2,-0.5,xtol=1e-16,rtol=9e-16,maxiter=1000)\n",
    "root3=optimize.bisect(P,0.5,0.8,xtol=1e-16,rtol=9e-16,maxiter=1000)\n",
    "root4=optimize.bisect(P,0.8,1.2,xtol=1e-16,rtol=9e-16,maxiter=1000)\n",
    "root5=optimize.bisect(P,3,4,xtol=1e-16,rtol=9e-16,maxiter=1000)\n",
    "\n",
    "roots=np.array([root1,root2,root3,root4,root5])"
   ]
  },
  {
   "cell_type": "markdown",
   "metadata": {},
   "source": [
    "**Gráfico definitivo**"
   ]
  },
  {
   "cell_type": "code",
   "execution_count": 166,
   "metadata": {},
   "outputs": [],
   "source": [
    "#Primero hallemos la derivada del polinomio p.\n",
    "\n",
    "dP=P.deriv()"
   ]
  },
  {
   "cell_type": "code",
   "execution_count": 177,
   "metadata": {},
   "outputs": [
    {
     "data": {
      "image/png": "[encoded data removed]",
      "text/plain": [
       "<Figure size 864x432 with 1 Axes>"
      ]
     },
     "metadata": {
      "needs_background": "light"
     },
     "output_type": "display_data"
    }
   ],
   "source": [
    "x=np.linspace(-2,4,10000)\n",
    "\n",
    "plt.figure(figsize=(12,6))\n",
    "font1 = {'family' : 'Georgia', 'weight' : 'bold', 'size'   : 30}\n",
    "font2 = {'family' : 'Georgia', 'weight' : 'bold', 'size'   : 20}\n",
    "plt.title('Derivada y Raíces del Polinomio P',**font1)\n",
    "plt.plot([-5,5],[0,0],linestyle='-',color='black'), plt.plot([0,0],[-50,50],linestyle='-',color='black')\n",
    "\n",
    "plt.plot(x,P(x),label='$P$',linestyle='-',color='blue'),plt.plot(x,dP(x),label='$dP/dx$', linestyle='-',color='red')\n",
    "plt.plot(roots,P(roots),label='$Raíces$',color='green',marker='o',linestyle='',markersize=8)\n",
    "plt.xlabel('Coordenadas x', **font2)\n",
    "plt.ylabel('Coordenadas y', **font2)\n",
    "plt.xlim(-3,5)\n",
    "plt.ylim(-50,50)\n",
    "plt.legend()\n",
    "plt.grid()\n",
    "plt.show()"
   ]
  },
  {
   "cell_type": "markdown",
   "metadata": {
    "id": "SCYzhddbXPJi"
   },
   "source": [
    "B)\n",
    "\n",
    "I) Usando como semilla el número de su cédula, genere de forma aletoria un número entero entre 1 y 5\n",
    "\n",
    "II) De acuerdo al entero obtenido, escoja una de las siguientes cinco funciones \n",
    "1. $$x\\operatorname{e}^x=p\\,, $$\n",
    "2. $$\\frac{\\sin x}{x}=+p\\,,$$\n",
    "3. $$\\frac{\\sin x}{x}=-p\\,,$$\n",
    "4. $$\\frac{\\cos x}{x}=+p\\,,$$\n",
    "5. $$\\frac{\\cos x}{x}=-p\\,,$$\n",
    "\n",
    "III) Genere un número aleatorio entre 0 y 1 y asignelo al valor de $p$\n",
    "\n",
    "IV) Encuentre las soluciones a la ecuación trascendental para el intervalo $x$ entre -10 y 10 y gráfique la correspondiente función trascendental y las correspondientes soluciones. Se tendrá en cuenta la estética del gráfico presentado incluyendo la rotulación adecuada del mismo.\n",
    "\n",
    "A modo de nota curiosa: estas ecuaciones trascendentales están asociadas a soluciones de la ecuación de Schödinger en mecánica cuántica: https://doi.org/10.1080/14786435.2015.1081425"
   ]
  },
  {
   "cell_type": "markdown",
   "metadata": {
    "id": "snkfIJe2b5LO"
   },
   "source": [
    "**Solución I):**"
   ]
  },
  {
   "cell_type": "code",
   "execution_count": 152,
   "metadata": {},
   "outputs": [
    {
     "data": {
      "text/plain": [
       "1"
      ]
     },
     "execution_count": 152,
     "metadata": {},
     "output_type": "execute_result"
    }
   ],
   "source": [
    "np.random.seed(1083928808)\n",
    "número=np.random.randint(1,5)  \n",
    "número"
   ]
  },
  {
   "cell_type": "markdown",
   "metadata": {},
   "source": [
    "**Solución II):**"
   ]
  },
  {
   "cell_type": "markdown",
   "metadata": {},
   "source": [
    "De acuerdo con el número obtenido, la elección es: $$x\\operatorname{e}^x=p\\,$$"
   ]
  },
  {
   "cell_type": "markdown",
   "metadata": {},
   "source": [
    "**Solución III):**"
   ]
  },
  {
   "cell_type": "code",
   "execution_count": 170,
   "metadata": {},
   "outputs": [
    {
     "data": {
      "text/plain": [
       "0.4383578465040612"
      ]
     },
     "execution_count": 170,
     "metadata": {},
     "output_type": "execute_result"
    }
   ],
   "source": [
    "np.random.seed(1083928808)\n",
    "p=np.random.uniform(0,1)\n",
    "p"
   ]
  },
  {
   "cell_type": "markdown",
   "metadata": {},
   "source": [
    "**Solución IV):**"
   ]
  },
  {
   "cell_type": "markdown",
   "metadata": {},
   "source": [
    "**Gráfica preliminar:** El siguiente gráfico no es el que se pretende entregar. Es solamente una ayuda para visualizar $xe^x-p=0$."
   ]
  },
  {
   "cell_type": "code",
   "execution_count": 182,
   "metadata": {},
   "outputs": [],
   "source": [
    "def ft(x):  #Defino a la función trascendental.\n",
    "    return x*np.exp(x)\n",
    "\n",
    "def ftp(x,p):\n",
    "    return (x*np.exp(x))-p  #Defino a la función xe^x-p"
   ]
  },
  {
   "cell_type": "code",
   "execution_count": 189,
   "metadata": {},
   "outputs": [
    {
     "data": {
      "image/png": "[encoded data removed]",
      "text/plain": [
       "<Figure size 720x432 with 1 Axes>"
      ]
     },
     "metadata": {
      "needs_background": "light"
     },
     "output_type": "display_data"
    }
   ],
   "source": [
    "xp=np.linspace(-10,10,10000)\n",
    "plt.figure(figsize=(10,6))\n",
    "plt.plot(xp,ftp(xp,p),'-',color='blue')\n",
    "font = {'family' : 'Arial', 'weight' : 'bold', 'size'   : 20} \n",
    "font2={'family' : 'Arial', 'weight' : 'bold', 'size' : 15}\n",
    "plt.title('Gráfico Preliminar', **font),plt.xlabel('x', **font2),plt.ylabel('ftp(x)', **font2)\n",
    "plt.ylim(-10,10)\n",
    "plt.grid()\n",
    "plt.show()"
   ]
  },
  {
   "cell_type": "markdown",
   "metadata": {},
   "source": [
    "En el intervalo $[-10,10]$ tan solo hay una solución para $xe^x-p=0$"
   ]
  },
  {
   "cell_type": "code",
   "execution_count": 188,
   "metadata": {},
   "outputs": [
    {
     "data": {
      "text/plain": [
       "0.31872062925380695"
      ]
     },
     "execution_count": 188,
     "metadata": {},
     "output_type": "execute_result"
    }
   ],
   "source": [
    "#Solución a la ecuación trascendental.\n",
    "Root=optimize.bisect(ftp,-2,2,xtol=1e-16,rtol=9e-16,maxiter=1000,args=(p))\n",
    "Root"
   ]
  },
  {
   "cell_type": "markdown",
   "metadata": {},
   "source": [
    "**Gráfico definitivo**"
   ]
  },
  {
   "cell_type": "code",
   "execution_count": 202,
   "metadata": {},
   "outputs": [
    {
     "data": {
      "image/png": "[encoded data removed]",
      "text/plain": [
       "<Figure size 864x432 with 1 Axes>"
      ]
     },
     "metadata": {
      "needs_background": "light"
     },
     "output_type": "display_data"
    }
   ],
   "source": [
    "X=np.linspace(-10,10,10000)\n",
    "\n",
    "\n",
    "\n",
    "plt.figure(figsize=(12,6))\n",
    "plt.xticks([-4, -3, -2, -1, 0, 1, 2, 3, 4])\n",
    "font1 = {'family' : 'Georgia', 'weight' : 'bold', 'size'   : 30}\n",
    "font2 = {'family' : 'Georgia', 'weight' : 'bold', 'size'   : 20}\n",
    "plt.title('Función Trascendental y Solución',**font1)\n",
    "plt.plot([-5,5],[0,0],linestyle='-',color='black'), plt.plot([0,0],[-50,50],linestyle='-',color='black')\n",
    "plt.plot(X,ft(X),label='$xe^x$',linestyle='-',color='blue')\n",
    "plt.plot(Root,ft(Root),label='$xe^x=p$',color='red',marker='o',linestyle='',markersize=8)\n",
    "plt.xlabel('Coordenadas x', **font2)\n",
    "plt.ylabel('Coordenadas y', **font2)\n",
    "plt.xlim(-5,5)\n",
    "plt.ylim(-5,10)\n",
    "plt.legend()\n",
    "plt.grid()\n",
    "plt.show()"
   ]
  },
  {
   "cell_type": "markdown",
   "metadata": {},
   "source": [
    "## Nota:"
   ]
  },
  {
   "cell_type": "markdown",
   "metadata": {},
   "source": [
    "Entrego este parcial tan tarde, porque comencé a resolverlo a las 2:00 pm, pues de 12:00 m a 2:00 pm tenía clase de Cálculo 2. Agradezco su comprensión."
   ]
  }
 ],
 "metadata": {
  "colab": {
   "name": "Examen_2020_1_01_enunciado.ipynb",
   "provenance": []
  },
  "kernelspec": {
   "display_name": "Python 3",
   "language": "python",
   "name": "python3"
  },
  "language_info": {
   "codemirror_mode": {
    "name": "ipython",
    "version": 3
   },
   "file_extension": ".py",
   "mimetype": "text/x-python",
   "name": "python",
   "nbconvert_exporter": "python",
   "pygments_lexer": "ipython3",
   "version": "3.8.5"
  },
  "toc": {
   "colors": {
    "hover_highlight": "#DAA520",
    "running_highlight": "#FF0000",
    "selected_highlight": "#FFD700"
   },
   "moveMenuLeft": true,
   "nav_menu": {
    "height": "30px",
    "width": "252px"
   },
   "navigate_menu": true,
   "number_sections": true,
   "sideBar": true,
   "threshold": 4,
   "toc_cell": false,
   "toc_section_display": "block",
   "toc_window_display": false
  }
 },
 "nbformat": 4,
 "nbformat_minor": 1
}
