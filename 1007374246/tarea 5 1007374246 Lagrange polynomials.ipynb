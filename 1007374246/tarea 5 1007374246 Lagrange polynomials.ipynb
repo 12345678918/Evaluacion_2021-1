{
 "cells": [
  {
   "cell_type": "markdown",
   "metadata": {
    "colab_type": "text",
    "id": "view-in-github"
   },
   "source": [
    "<a href=\"https://colab.research.google.com/github/restrepo/ComputationalMethods/blob/master/material/LagrangePoly.ipynb\" target=\"_parent\"><img src=\"https://colab.research.google.com/assets/colab-badge.svg\" alt=\"Open In Colab\"/></a>"
   ]
  },
  {
   "cell_type": "markdown",
   "metadata": {
    "colab_type": "text",
    "id": "g7Iz90k56MsP"
   },
   "source": [
    "# Interpolation polynomial in the Lagrange form\n",
    "<a href=\"https://colab.research.google.com/github/restrepo/ComputationalMethods/blob/master/material/LagrangePoly.ipynb\" target=\"_parent\"><img src=\"https://colab.research.google.com/assets/colab-badge.svg\" alt=\"Open In Colab\"/></a>\n",
    "\n",
    "Based on [this code](https://gist.github.com/folkertdev/084c53887c49a6248839)\n",
    "\n",
    "$$f(x)\\approx P_n(x)\\,,$$\n",
    "\n",
    "$$P_n(x) = \\sum_{i=0}^n f(x_i)L_{n,i}(x) = \\sum_{i=0}^n y_iL_{n,i}(x)$$\n",
    "\n",
    "**References:**\n",
    "[Wikipedia](https://en.wikipedia.org/wiki/Lagrange_polynomial)"
   ]
  },
  {
   "cell_type": "markdown",
   "metadata": {
    "colab_type": "text",
    "id": "xYmS1wzh-hZL"
   },
   "source": [
    "### We will use SymPy"
   ]
  },
  {
   "cell_type": "code",
   "execution_count": 4,
   "metadata": {
    "colab": {},
    "colab_type": "code",
    "id": "kF5mBh2q-mMs"
   },
   "outputs": [],
   "source": [
    "from sympy import simplify, symbols, expand, factor, sin, cos #..., lambdify, solve_poly_system"
   ]
  },
  {
   "cell_type": "code",
   "execution_count": 3,
   "metadata": {
    "colab": {
     "base_uri": "https://localhost:8080/",
     "height": 34
    },
    "colab_type": "code",
    "id": "ht5AYUK2L4-r",
    "outputId": "f902fbea-bac1-4bb8-ecf3-89bfa719aef2"
   },
   "outputs": [
    {
     "data": {
      "text/latex": [
       "$\\displaystyle \\frac{3}{2}$"
      ],
      "text/plain": [
       "3/2"
      ]
     },
     "execution_count": 3,
     "metadata": {},
     "output_type": "execute_result"
    }
   ],
   "source": [
    "simplify('2/3+5/6')"
   ]
  },
  {
   "cell_type": "code",
   "execution_count": 4,
   "metadata": {
    "colab": {
     "base_uri": "https://localhost:8080/",
     "height": 34
    },
    "colab_type": "code",
    "id": "grYmSnH2L3O8",
    "outputId": "616f0161-71c8-4207-d592-ab35c6ad18a5"
   },
   "outputs": [
    {
     "data": {
      "text/latex": [
       "$\\displaystyle x^{2} - 1$"
      ],
      "text/plain": [
       "x**2 - 1"
      ]
     },
     "execution_count": 4,
     "metadata": {},
     "output_type": "execute_result"
    }
   ],
   "source": [
    "x = symbols('x')\n",
    "expand('(x-1)*(x+1)')"
   ]
  },
  {
   "cell_type": "code",
   "execution_count": 5,
   "metadata": {
    "colab": {
     "base_uri": "https://localhost:8080/",
     "height": 34
    },
    "colab_type": "code",
    "id": "2N6pf_oOMRv5",
    "outputId": "eb598d67-392d-4a4d-8d04-e49bfdd4d131"
   },
   "outputs": [
    {
     "data": {
      "text/latex": [
       "$\\displaystyle \\left(x - 1\\right) \\left(x + 1\\right)$"
      ],
      "text/plain": [
       "(x - 1)*(x + 1)"
      ]
     },
     "execution_count": 5,
     "metadata": {},
     "output_type": "execute_result"
    }
   ],
   "source": [
    "factor('x**2-1')"
   ]
  },
  {
   "cell_type": "code",
   "execution_count": 6,
   "metadata": {
    "colab": {},
    "colab_type": "code",
    "id": "M2SWdB5RMwdA"
   },
   "outputs": [],
   "source": [
    "x=symbols('x')"
   ]
  },
  {
   "cell_type": "markdown",
   "metadata": {
    "colab_type": "text",
    "id": "IXPmsm0IcFl6"
   },
   "source": [
    "##  Implementation of the Lagrange interpolating polynomials and  Lagrange polynomials in SymPy"
   ]
  },
  {
   "cell_type": "code",
   "execution_count": 5,
   "metadata": {
    "colab": {
     "base_uri": "https://localhost:8080/",
     "height": 34
    },
    "colab_type": "code",
    "id": "edG_qX0U6MsR",
    "outputId": "cd795357-cca6-4e48-c79d-94044034390a"
   },
   "outputs": [
    {
     "name": "stdout",
     "output_type": "stream",
     "text": [
      "Writing LagrangePolynomial.py\n"
     ]
    }
   ],
   "source": [
    "%%writefile LagrangePolynomial.py\n",
    "\"\"\"\n",
    "From: https://gist.github.com/folkertdev/084c53887c49a6248839\n",
    "A sympy-based Lagrange polynomial constructor. \n",
    "\n",
    "Implementation of Lagrangian interpolating polynomial.\n",
    "See:\n",
    "\n",
    "   def lagrangePolynomial(xs, ys):\n",
    "\n",
    "Given two 1-D arrays `xs` and `ys,` returns the Lagrange interpolating\n",
    "polynomial through the points ``(xs, ys)``\n",
    "\n",
    "\n",
    "Given a set 1-D arrays of inputs and outputs, the lagrangePolynomial function \n",
    "will construct an expression that for every input gives the corresponding output. \n",
    "For intermediate values, the polynomial interpolates (giving varying results \n",
    "based  on the shape of your input). \n",
    "\n",
    "The Lagrangian polynomials can be obtained explicitly with (see below):\n",
    "   \n",
    "   def polyL(xs,j):\n",
    "   \n",
    "as sympy polynomial, and \n",
    "\n",
    "    def L(xs,j):\n",
    "\n",
    "as Python functions.\n",
    "\n",
    "\n",
    "This is useful when the result needs to be used outside of Python, because the \n",
    "expression can easily be copied. To convert the expression to a python function \n",
    "object, use sympy.lambdify.\n",
    "\"\"\"\n",
    "from sympy import symbols, expand, lambdify, solve_poly_system\n",
    "#Python library for arithmetic with arbitrary precision\n",
    "from mpmath import tan, e\n",
    "\n",
    "import math\n",
    "\n",
    "from operator import mul\n",
    "from functools import reduce, lru_cache\n",
    "from itertools import chain\n",
    "\n",
    "# sympy symbols\n",
    "x = symbols('x')\n",
    "\n",
    "# convenience functions\n",
    "product = lambda *args: reduce(mul, *(list(args) + [1]))\n",
    "\n",
    "# test data\n",
    "labels = [(-3/2), (-3/4), 0, 3/4, 3/2]\n",
    "points = [math.tan(v) for v in labels]\n",
    "\n",
    "# this product may be reusable (when creating many functions on the same domain)\n",
    "# therefore, cache the result\n",
    "@lru_cache(16)\n",
    "def l(labels, j):\n",
    "    def gen(labels, j):\n",
    "        k = len(labels)\n",
    "        current = labels[j]\n",
    "        for m in labels:\n",
    "            if m == current:\n",
    "                continue\n",
    "            yield (x - m) / (current - m)\n",
    "    return expand(product(gen(labels, j)))\n",
    "\n",
    "def polyL(xs,j):\n",
    "    '''\n",
    "    Lagrange polynomials as sympy polynomial\n",
    "    xs: the n+1 nodes of the intepolation polynomial in the Lagrange Form\n",
    "    j: Is the j-th Lagrange polinomial for the specific xs.\n",
    "    '''\n",
    "    xs=tuple(xs)\n",
    "    return l(xs,j)\n",
    "\n",
    "def L(xs,j):\n",
    "    '''\n",
    "    Lagrange polynomials as python function\n",
    "    xs: the n+1 nodes of the intepolation polynomial in the Lagrange Form\n",
    "    j: Is the j-th Lagrange polinomial for the specific xs.\n",
    "    '''\n",
    "    return lambdify(x, polyL(xs,j) )\n",
    "\n",
    "def lagrangePolynomial(xs, ys):\n",
    "    '''\n",
    "    Given two 1-D arrays `x` and `w,` returns the Lagrange interpolating\n",
    "    polynomial through the points ``(x, w)``.\n",
    "\n",
    "    '''\n",
    "    # based on https://en.wikipedia.org/wiki/Lagrange_polynomial#Example_1\n",
    "    k = len(xs)\n",
    "    total = 0\n",
    "\n",
    "    # use tuple, needs to be hashable to cache\n",
    "    xs = tuple(xs)\n",
    "\n",
    "    for j, current in enumerate(ys):\n",
    "        t = current * l(xs, j)\n",
    "        total += t\n",
    "\n",
    "    return total\n",
    "\n",
    "\n",
    "\n",
    "\n",
    "def x_intersections(function, *args):\n",
    "    \"Finds all x for which function(x) = 0\"\n",
    "    # solve_poly_system seems more efficient than solve for larger expressions\n",
    "    return [var for var in chain.from_iterable(solve_poly_system([function], *args)) if (var.is_real)]\n",
    "\n",
    "def x_scale(function, factor):\n",
    "    \"Scale function on the x-axis\"\n",
    "    return functions.subs(x, x / factor)\n",
    "\n",
    "if __name__ == '__main__':\n",
    "    func = lagrangePolynomial(labels, points)\n",
    "\n",
    "    pyfunc = lambdify(x, func)\n",
    "\n",
    "    for a, b in zip(labels, points):\n",
    "        assert(pyfunc(a) - b < 1e-6)"
   ]
  },
  {
   "cell_type": "code",
   "execution_count": 6,
   "metadata": {
    "colab": {
     "base_uri": "https://localhost:8080/",
     "height": 105
    },
    "colab_type": "code",
    "id": "a8hIn20o6MsW",
    "outputId": "69c08780-f21b-43e8-95b3-e371577cf231"
   },
   "outputs": [
    {
     "name": "stdout",
     "output_type": "stream",
     "text": [
      "Populating the interactive namespace from numpy and matplotlib\n"
     ]
    },
    {
     "name": "stderr",
     "output_type": "stream",
     "text": [
      "C:\\Users\\Juan Ospina\\Documents\\Programas\\Anaconda\\lib\\site-packages\\IPython\\core\\magics\\pylab.py:159: UserWarning: pylab import has clobbered these variables: ['sin', 'cos']\n",
      "`%matplotlib` prevents importing * from pylab and numpy\n",
      "  warn(\"pylab import has clobbered these variables: %s\"  % clobbered +\n"
     ]
    }
   ],
   "source": [
    "%pylab inline\n",
    "import pandas as pd\n",
    "import numpy as np\n",
    "import LagrangePolynomial as LP\n",
    "from scipy import interpolate"
   ]
  },
  {
   "cell_type": "markdown",
   "metadata": {
    "colab_type": "text",
    "id": "9hay33SU6MsZ"
   },
   "source": [
    "## Example of interpolation of tree points with a polynomial of degree 2"
   ]
  },
  {
   "cell_type": "code",
   "execution_count": 7,
   "metadata": {
    "colab": {
     "base_uri": "https://localhost:8080/",
     "height": 141
    },
    "colab_type": "code",
    "id": "XIUK3AHE6Msb",
    "outputId": "0befbe4e-addd-49e8-af1e-e1f096e1c769"
   },
   "outputs": [
    {
     "data": {
      "text/html": [
       "<div>\n",
       "<style scoped>\n",
       "    .dataframe tbody tr th:only-of-type {\n",
       "        vertical-align: middle;\n",
       "    }\n",
       "\n",
       "    .dataframe tbody tr th {\n",
       "        vertical-align: top;\n",
       "    }\n",
       "\n",
       "    .dataframe thead th {\n",
       "        text-align: right;\n",
       "    }\n",
       "</style>\n",
       "<table border=\"1\" class=\"dataframe\">\n",
       "  <thead>\n",
       "    <tr style=\"text-align: right;\">\n",
       "      <th></th>\n",
       "      <th>X</th>\n",
       "      <th>Y</th>\n",
       "    </tr>\n",
       "  </thead>\n",
       "  <tbody>\n",
       "    <tr>\n",
       "      <th>0</th>\n",
       "      <td>3.0</td>\n",
       "      <td>8.0</td>\n",
       "    </tr>\n",
       "    <tr>\n",
       "      <th>1</th>\n",
       "      <td>10.0</td>\n",
       "      <td>6.5</td>\n",
       "    </tr>\n",
       "    <tr>\n",
       "      <th>2</th>\n",
       "      <td>21.3</td>\n",
       "      <td>3.0</td>\n",
       "    </tr>\n",
       "  </tbody>\n",
       "</table>\n",
       "</div>"
      ],
      "text/plain": [
       "      X    Y\n",
       "0   3.0  8.0\n",
       "1  10.0  6.5\n",
       "2  21.3  3.0"
      ]
     },
     "execution_count": 7,
     "metadata": {},
     "output_type": "execute_result"
    }
   ],
   "source": [
    "df=pd.DataFrame({ 'X':[3,10,21.3],'Y':[8.,6.5,3.]}  )\n",
    "df"
   ]
  },
  {
   "cell_type": "markdown",
   "metadata": {
    "colab_type": "text",
    "id": "BdwRAGHJ6Msd"
   },
   "source": [
    "### `Numpy` implementation:"
   ]
  },
  {
   "cell_type": "code",
   "execution_count": 10,
   "metadata": {
    "colab": {
     "base_uri": "https://localhost:8080/",
     "height": 303
    },
    "colab_type": "code",
    "id": "WmBQnOFN6Mse",
    "outputId": "afdc3fe6-afe4-4c8e-ec03-5555b7738ed4"
   },
   "outputs": [
    {
     "name": "stdout",
     "output_type": "stream",
     "text": [
      "           2\n",
      "-0.005216 x - 0.1465 x + 8.486\n"
     ]
    },
    {
     "data": {
      "image/png": "[encoded data removed]",
      "text/plain": [
       "<Figure size 432x288 with 1 Axes>"
      ]
     },
     "metadata": {
      "needs_background": "light"
     },
     "output_type": "display_data"
    }
   ],
   "source": [
    "coeffs=np.polyfit(df.X,df.Y,deg=2)\n",
    "\n",
    "P=np.poly1d(coeffs)\n",
    "plt.plot(df.X,df.Y,'ro')\n",
    "x=np.linspace(-8,30)\n",
    "plt.plot(x,P( x),'b-')\n",
    "#plt.grid()\n",
    "plt.ylim(0,12)\n",
    "\n",
    "print(np.poly1d(coeffs))"
   ]
  },
  {
   "cell_type": "markdown",
   "metadata": {
    "colab_type": "text",
    "id": "Vzok9x4q6Msi"
   },
   "source": [
    "### `Scipy` implementation of the Interpolation polynomial in the Lagrange form"
   ]
  },
  {
   "cell_type": "code",
   "execution_count": null,
   "metadata": {
    "colab": {},
    "colab_type": "code",
    "id": "YyFwK_zYPA7S"
   },
   "outputs": [],
   "source": [
    "interpolate.lagrange?"
   ]
  },
  {
   "cell_type": "code",
   "execution_count": 11,
   "metadata": {
    "colab": {
     "base_uri": "https://localhost:8080/",
     "height": 51
    },
    "colab_type": "code",
    "id": "RNkOXO3U6Msi",
    "outputId": "951d840b-0a70-4afb-f752-5c0ea8f72684"
   },
   "outputs": [
    {
     "name": "stdout",
     "output_type": "stream",
     "text": [
      "           2\n",
      "-0.005216 x - 0.1465 x + 8.486\n"
     ]
    }
   ],
   "source": [
    "P=interpolate.lagrange(df.X,df.Y)\n",
    "print(P)"
   ]
  },
  {
   "cell_type": "markdown",
   "metadata": {
    "colab_type": "text",
    "id": "HPev6_vt6Mso"
   },
   "source": [
    "### `Sympy` implementation of the Interpolation polynomial in the Lagrange form"
   ]
  },
  {
   "cell_type": "code",
   "execution_count": 12,
   "metadata": {
    "colab": {
     "base_uri": "https://localhost:8080/",
     "height": 34
    },
    "colab_type": "code",
    "id": "A9HnVoq66Msp",
    "outputId": "c9ed4285-3b4b-4552-eddd-d9746adf9d5c"
   },
   "outputs": [
    {
     "data": {
      "text/latex": [
       "$\\displaystyle - 0.00521578136549848 x^{2} - 0.146480556534234 x + 8.48638370189219$"
      ],
      "text/plain": [
       "-0.00521578136549848*x**2 - 0.146480556534234*x + 8.48638370189219"
      ]
     },
     "execution_count": 12,
     "metadata": {},
     "output_type": "execute_result"
    }
   ],
   "source": [
    "LP.lagrangePolynomial(df.X,df.Y)"
   ]
  },
  {
   "cell_type": "markdown",
   "metadata": {
    "colab_type": "text",
    "id": "I6NkvQE_6Mst"
   },
   "source": [
    "With this simpy implementation we can check expliclty that:\n",
    "$$P_2(x) =  L_{2,0}(x)f(x_0)+L_{2,1}(x)f(x_1)+L_{2,2}(x)f(x_2)$$"
   ]
  },
  {
   "cell_type": "markdown",
   "metadata": {
    "colab_type": "text",
    "id": "qoMgEkhQ6Mst"
   },
   "source": [
    "a) By using `sympy` polynomials:  `LP.polyL`:"
   ]
  },
  {
   "cell_type": "code",
   "execution_count": 13,
   "metadata": {
    "colab": {
     "base_uri": "https://localhost:8080/",
     "height": 34
    },
    "colab_type": "code",
    "id": "LpV8NsAK6Msx",
    "outputId": "305e8446-966d-4971-94d3-8e6f2b90af45"
   },
   "outputs": [
    {
     "data": {
      "text/latex": [
       "$\\displaystyle - 0.00521578136549848 x^{2} - 0.146480556534234 x + 8.48638370189219$"
      ],
      "text/plain": [
       "-0.00521578136549848*x**2 - 0.146480556534234*x + 8.48638370189219"
      ]
     },
     "execution_count": 13,
     "metadata": {},
     "output_type": "execute_result"
    }
   ],
   "source": [
    "LP.polyL( df.X,0)*df.Y[0]+LP.polyL( df.X,1)*df.Y[1]+LP.polyL( df.X,2)*df.Y[2]"
   ]
  },
  {
   "cell_type": "code",
   "execution_count": 14,
   "metadata": {
    "colab": {
     "base_uri": "https://localhost:8080/",
     "height": 34
    },
    "colab_type": "code",
    "id": "nYd7rBzxCI9r",
    "outputId": "680987cb-c13f-4b14-8a5e-6dcf6c33e870"
   },
   "outputs": [
    {
     "data": {
      "text/latex": [
       "$\\displaystyle 0.0078064012490242 x^{2} - 0.244340359094457 x + 1.66276346604215$"
      ],
      "text/plain": [
       "0.0078064012490242*x**2 - 0.244340359094457*x + 1.66276346604215"
      ]
     },
     "execution_count": 14,
     "metadata": {},
     "output_type": "execute_result"
    }
   ],
   "source": [
    "LP.polyL( df.X,0)"
   ]
  },
  {
   "cell_type": "markdown",
   "metadata": {
    "colab_type": "text",
    "id": "sUh2LNo76Ms0"
   },
   "source": [
    "As a function"
   ]
  },
  {
   "cell_type": "code",
   "execution_count": 15,
   "metadata": {
    "colab": {},
    "colab_type": "code",
    "id": "upfcBNKG6Ms1"
   },
   "outputs": [],
   "source": [
    "def P_2(x,xs,ys):\n",
    "    return LP.L(xs,0)(x)*ys[0]+LP.L(xs,1)(x)*ys[1]+LP.L( xs,2)(x)*ys[2]"
   ]
  },
  {
   "cell_type": "code",
   "execution_count": 16,
   "metadata": {
    "colab": {
     "base_uri": "https://localhost:8080/",
     "height": 286
    },
    "colab_type": "code",
    "id": "3qEo2_Z36Ms5",
    "outputId": "98165806-35b9-43c4-9fb5-f43ab88ebb44"
   },
   "outputs": [
    {
     "data": {
      "text/plain": [
       "(0, 12)"
      ]
     },
     "execution_count": 16,
     "metadata": {},
     "output_type": "execute_result"
    },
    {
     "data": {
      "image/png": "[encoded data removed]",
      "text/plain": [
       "<Figure size 432x288 with 1 Axes>"
      ]
     },
     "metadata": {
      "needs_background": "light"
     },
     "output_type": "display_data"
    }
   ],
   "source": [
    "plt.plot(df.X,df.Y,'ro')\n",
    "x=np.linspace(-8,30)\n",
    "plt.plot(x,P_2( x,df.X,df.Y),'b-')\n",
    "#plt.grid()\n",
    "plt.ylim(0,12)"
   ]
  },
  {
   "cell_type": "markdown",
   "metadata": {
    "colab_type": "text",
    "id": "kuQ67AD36Ms7"
   },
   "source": [
    "## Lagrange polynomial properties\n",
    "$$L_{n,i}(x_i) = 1\\,,\\qquad\\text{and}\\,,\\qquad L_{n,i}(x_j) = 0\\quad\\text{for $i\\neq j$}$$ "
   ]
  },
  {
   "cell_type": "markdown",
   "metadata": {
    "colab_type": "text",
    "id": "sm3yMzd16Ms8"
   },
   "source": [
    "As `sympy` objects"
   ]
  },
  {
   "cell_type": "code",
   "execution_count": 17,
   "metadata": {
    "colab": {
     "base_uri": "https://localhost:8080/",
     "height": 34
    },
    "colab_type": "code",
    "id": "d75g4LLQ6Ms_",
    "outputId": "e4fd8229-8187-4d17-c647-f1306d063f99"
   },
   "outputs": [
    {
     "data": {
      "text/latex": [
       "$\\displaystyle 0.0078064012490242 x^{2} - 0.244340359094457 x + 1.66276346604215$"
      ],
      "text/plain": [
       "0.0078064012490242*x**2 - 0.244340359094457*x + 1.66276346604215"
      ]
     },
     "execution_count": 17,
     "metadata": {},
     "output_type": "execute_result"
    }
   ],
   "source": [
    "L2_0=LP.polyL(df.X,0)\n",
    "L2_0"
   ]
  },
  {
   "cell_type": "code",
   "execution_count": 21,
   "metadata": {},
   "outputs": [
    {
     "data": {
      "text/latex": [
       "$\\displaystyle \\operatorname{Poly}{\\left( 0.0078064012490242 x^{2} - 0.244340359094457 x + 1.66276346604215, x, domain=\\mathbb{R} \\right)}$"
      ],
      "text/plain": [
       "Poly(0.0078064012490242*x**2 - 0.244340359094457*x + 1.66276346604215, x, domain='RR')"
      ]
     },
     "execution_count": 21,
     "metadata": {},
     "output_type": "execute_result"
    }
   ],
   "source": [
    "L2_0.as_poly()"
   ]
  },
  {
   "cell_type": "code",
   "execution_count": 18,
   "metadata": {
    "colab": {
     "base_uri": "https://localhost:8080/",
     "height": 34
    },
    "colab_type": "code",
    "id": "-o_bqkZb6MtB",
    "outputId": "7f2fb62c-307c-4bfa-d136-b848f7ccf481"
   },
   "outputs": [
    {
     "data": {
      "text/latex": [
       "$\\displaystyle 1.0$"
      ],
      "text/plain": [
       "1.00000000000000"
      ]
     },
     "execution_count": 18,
     "metadata": {},
     "output_type": "execute_result"
    }
   ],
   "source": [
    "L2_0.as_poly()(df.X[0])"
   ]
  },
  {
   "cell_type": "code",
   "execution_count": 19,
   "metadata": {
    "colab": {
     "base_uri": "https://localhost:8080/",
     "height": 34
    },
    "colab_type": "code",
    "id": "DXf_QFl-6MtD",
    "outputId": "ecf944d4-6d39-417b-af61-f566467ac680"
   },
   "outputs": [
    {
     "data": {
      "text/latex": [
       "$\\displaystyle -4.44089209850063 \\cdot 10^{-16}$"
      ],
      "text/plain": [
       "-4.44089209850063e-16"
      ]
     },
     "execution_count": 19,
     "metadata": {},
     "output_type": "execute_result"
    }
   ],
   "source": [
    "L2_0.as_poly()(df.X[1])"
   ]
  },
  {
   "cell_type": "markdown",
   "metadata": {
    "colab_type": "text",
    "id": "pGt8p9Pi6MtH"
   },
   "source": [
    "As `python` function"
   ]
  },
  {
   "cell_type": "code",
   "execution_count": 20,
   "metadata": {
    "colab": {
     "base_uri": "https://localhost:8080/",
     "height": 34
    },
    "colab_type": "code",
    "id": "QdZDFKwg6MtH",
    "outputId": "3fbac818-8b67-4fc5-bf19-760990d7d958"
   },
   "outputs": [
    {
     "name": "stdout",
     "output_type": "stream",
     "text": [
      "0.9999999999999968 0.9999999999999951 0.9999999999999998\n"
     ]
    }
   ],
   "source": [
    "print( LP.L(df.X,0)(df.X[0]),LP.L(df.X,1)(df.X[1]),LP.L(df.X,2)(df.X[2]) )"
   ]
  },
  {
   "cell_type": "code",
   "execution_count": 22,
   "metadata": {
    "colab": {
     "base_uri": "https://localhost:8080/",
     "height": 85
    },
    "colab_type": "code",
    "id": "ASNerdbw6MtL",
    "outputId": "e6d0a641-d5b6-4f0e-88ec-8d6c963cb0cd"
   },
   "outputs": [
    {
     "data": {
      "text/plain": [
       "0    1.000000e+00\n",
       "1   -4.440892e-16\n",
       "2    5.329071e-15\n",
       "Name: X, dtype: float64"
      ]
     },
     "execution_count": 22,
     "metadata": {
      "tags": []
     },
     "output_type": "execute_result"
    }
   ],
   "source": [
    "LP.L(df.X,0)(df.X)"
   ]
  },
  {
   "cell_type": "code",
   "execution_count": 23,
   "metadata": {
    "colab": {
     "base_uri": "https://localhost:8080/",
     "height": 85
    },
    "colab_type": "code",
    "id": "_khcYeBZ6MtP",
    "outputId": "5ad67dfb-20f7-4084-f549-201ba0d0445b"
   },
   "outputs": [
    {
     "data": {
      "text/plain": [
       "0   -4.302114e-16\n",
       "1    1.000000e+00\n",
       "2   -2.042810e-14\n",
       "Name: X, dtype: float64"
      ]
     },
     "execution_count": 23,
     "metadata": {
      "tags": []
     },
     "output_type": "execute_result"
    }
   ],
   "source": [
    "LP.L(df.X,1)(df.X)"
   ]
  },
  {
   "cell_type": "code",
   "execution_count": 24,
   "metadata": {
    "colab": {
     "base_uri": "https://localhost:8080/",
     "height": 85
    },
    "colab_type": "code",
    "id": "WTerwYpC6MtS",
    "outputId": "ebfe3e3f-2bb4-492f-b96e-aa886d80c73a"
   },
   "outputs": [
    {
     "data": {
      "text/plain": [
       "0    1.665335e-16\n",
       "1    0.000000e+00\n",
       "2    1.000000e+00\n",
       "Name: X, dtype: float64"
      ]
     },
     "execution_count": 24,
     "metadata": {
      "tags": []
     },
     "output_type": "execute_result"
    }
   ],
   "source": [
    "LP.L(df.X,2)(df.X)"
   ]
  },
  {
   "cell_type": "markdown",
   "metadata": {
    "colab_type": "text",
    "id": "l0tYzMZp6MtX"
   },
   "source": [
    "**__Actividad__** Fit a cuatro puntos, comprobando las propiedades del polinomio de Lagrange"
   ]
  },
  {
   "cell_type": "markdown",
   "metadata": {},
   "source": [
    "Empecemos por definir 4 puntos "
   ]
  },
  {
   "cell_type": "code",
   "execution_count": 14,
   "metadata": {},
   "outputs": [
    {
     "data": {
      "text/html": [
       "<div>\n",
       "<style scoped>\n",
       "    .dataframe tbody tr th:only-of-type {\n",
       "        vertical-align: middle;\n",
       "    }\n",
       "\n",
       "    .dataframe tbody tr th {\n",
       "        vertical-align: top;\n",
       "    }\n",
       "\n",
       "    .dataframe thead th {\n",
       "        text-align: right;\n",
       "    }\n",
       "</style>\n",
       "<table border=\"1\" class=\"dataframe\">\n",
       "  <thead>\n",
       "    <tr style=\"text-align: right;\">\n",
       "      <th></th>\n",
       "      <th>X</th>\n",
       "      <th>Y</th>\n",
       "    </tr>\n",
       "  </thead>\n",
       "  <tbody>\n",
       "    <tr>\n",
       "      <th>0</th>\n",
       "      <td>0</td>\n",
       "      <td>3.0</td>\n",
       "    </tr>\n",
       "    <tr>\n",
       "      <th>1</th>\n",
       "      <td>5</td>\n",
       "      <td>4.0</td>\n",
       "    </tr>\n",
       "    <tr>\n",
       "      <th>2</th>\n",
       "      <td>13</td>\n",
       "      <td>10.0</td>\n",
       "    </tr>\n",
       "    <tr>\n",
       "      <th>3</th>\n",
       "      <td>17</td>\n",
       "      <td>19.5</td>\n",
       "    </tr>\n",
       "  </tbody>\n",
       "</table>\n",
       "</div>"
      ],
      "text/plain": [
       "    X     Y\n",
       "0   0   3.0\n",
       "1   5   4.0\n",
       "2  13  10.0\n",
       "3  17  19.5"
      ]
     },
     "execution_count": 14,
     "metadata": {},
     "output_type": "execute_result"
    }
   ],
   "source": [
    "df=pd.DataFrame({ 'X':[0,5,13,17],'Y':[3,4,10,19.5]}  )\n",
    "df"
   ]
  },
  {
   "cell_type": "markdown",
   "metadata": {
    "colab": {},
    "colab_type": "code",
    "id": "9gFhCI7pC_Qd"
   },
   "source": [
    "Ahora interpolemos estos valores para un polinomio "
   ]
  },
  {
   "cell_type": "code",
   "execution_count": 23,
   "metadata": {
    "scrolled": true
   },
   "outputs": [
    {
     "name": "stdout",
     "output_type": "stream",
     "text": [
      "          3           2\n",
      "0.005477 x - 0.05628 x + 0.3445 x + 3\n"
     ]
    },
    {
     "data": {
      "text/plain": [
       "[<matplotlib.lines.Line2D at 0x28f535c7460>]"
      ]
     },
     "execution_count": 23,
     "metadata": {},
     "output_type": "execute_result"
    },
    {
     "data": {
      "image/png": "[encoded data removed]",
      "text/plain": [
       "<Figure size 432x288 with 1 Axes>"
      ]
     },
     "metadata": {
      "needs_background": "light"
     },
     "output_type": "display_data"
    }
   ],
   "source": [
    "P1=interpolate.lagrange(df.X,df.Y)\n",
    "print(P1)\n",
    "x=np.linspace(-2,20,50)\n",
    "plt.plot(df.X,df.Y,'ro')\n",
    "plt.plot(x,P1(x))"
   ]
  },
  {
   "cell_type": "markdown",
   "metadata": {},
   "source": [
    "Y por último verifiquemos que se cumplen las propiedades"
   ]
  },
  {
   "cell_type": "code",
   "execution_count": 24,
   "metadata": {},
   "outputs": [
    {
     "data": {
      "text/plain": [
       "0    1.000000e+00\n",
       "1    1.110223e-16\n",
       "2    0.000000e+00\n",
       "3    0.000000e+00\n",
       "Name: X, dtype: float64"
      ]
     },
     "execution_count": 24,
     "metadata": {},
     "output_type": "execute_result"
    }
   ],
   "source": [
    "LP.L(df.X,0)(df.X)"
   ]
  },
  {
   "cell_type": "code",
   "execution_count": 25,
   "metadata": {},
   "outputs": [
    {
     "data": {
      "text/plain": [
       "0    0.000000e+00\n",
       "1    1.000000e+00\n",
       "2    0.000000e+00\n",
       "3   -1.776357e-15\n",
       "Name: X, dtype: float64"
      ]
     },
     "execution_count": 25,
     "metadata": {},
     "output_type": "execute_result"
    }
   ],
   "source": [
    "LP.L(df.X,1)(df.X)"
   ]
  },
  {
   "cell_type": "code",
   "execution_count": 20,
   "metadata": {},
   "outputs": [
    {
     "data": {
      "text/plain": [
       "0    0.000000e+00\n",
       "1    0.000000e+00\n",
       "2    1.000000e+00\n",
       "3   -4.440892e-16\n",
       "Name: X, dtype: float64"
      ]
     },
     "execution_count": 20,
     "metadata": {},
     "output_type": "execute_result"
    }
   ],
   "source": [
    "LP.L(df.X,2)(df.X)"
   ]
  },
  {
   "cell_type": "code",
   "execution_count": 22,
   "metadata": {},
   "outputs": [
    {
     "data": {
      "text/plain": [
       "0    0.000000e+00\n",
       "1   -5.551115e-17\n",
       "2   -2.220446e-16\n",
       "3    1.000000e+00\n",
       "Name: X, dtype: float64"
      ]
     },
     "execution_count": 22,
     "metadata": {},
     "output_type": "execute_result"
    }
   ],
   "source": [
    "LP.L(df.X,3)(df.X)"
   ]
  }
 ],
 "metadata": {
  "colab": {
   "collapsed_sections": [],
   "include_colab_link": true,
   "name": "Copia de LagrangePoly.ipynb",
   "provenance": []
  },
  "kernelspec": {
   "display_name": "Python 3",
   "language": "python",
   "name": "python3"
  },
  "language_info": {
   "codemirror_mode": {
    "name": "ipython",
    "version": 3
   },
   "file_extension": ".py",
   "mimetype": "text/x-python",
   "name": "python",
   "nbconvert_exporter": "python",
   "pygments_lexer": "ipython3",
   "version": "3.8.5"
  }
 },
 "nbformat": 4,
 "nbformat_minor": 4
}
