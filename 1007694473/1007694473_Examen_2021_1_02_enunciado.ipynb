{
  "nbformat": 4,
  "nbformat_minor": 0,
  "metadata": {
    "kernelspec": {
      "display_name": "Python 3 (ipykernel)",
      "language": "python",
      "name": "python3"
    },
    "language_info": {
      "codemirror_mode": {
        "name": "ipython",
        "version": 3
      },
      "file_extension": ".py",
      "mimetype": "text/x-python",
      "name": "python",
      "nbconvert_exporter": "python",
      "pygments_lexer": "ipython3",
      "version": "3.7.3"
    },
    "colab": {
      "name": "1007694473_Examen_2021_1_02_enunciado.ipynb",
      "provenance": [],
      "collapsed_sections": []
    }
  },
  "cells": [
    {
      "cell_type": "markdown",
      "metadata": {
        "id": "ANqfVur3XacV"
      },
      "source": [
        "**Yennifer Yuliana Guerrero Uchima**"
      ]
    },
    {
      "cell_type": "markdown",
      "metadata": {
        "id": "obVhz1n8laAj"
      },
      "source": [
        "A) Los siguientes datos fueron extraidos de un [perfil real de Instragram](https://www.instagram.com/paulacano24/):\n",
        "\n",
        "https://raw.githubusercontent.com/restrepo/ComputationalMethods/master/data/Followers.json\n",
        "\n",
        "Interprete los datos como un problema de caida libre y a partir del ajuste (fit) a la correspondiente ecuación de movimiento, determine\n",
        "1. La velocidad inicial de incremento de seguidores en `followers/hour`\n",
        "1. La aceleración constante en `followers/hour**2`\n",
        "1. El número máximo de seguidores que alcanzaría el perfil\n",
        "1. La fecha en la que se alcanzaría dicho máximo\n",
        "\n",
        "\n"
      ]
    },
    {
      "cell_type": "code",
      "metadata": {
        "id": "QYDWESyPnL2U"
      },
      "source": [
        "# librerías ==================================\n",
        "\n",
        "import numpy as np\n",
        "from scipy import integrate\n",
        "import scipy.optimize as optimize\n",
        "import pandas as pd\n",
        "import matplotlib.pylab as plt"
      ],
      "execution_count": null,
      "outputs": []
    },
    {
      "cell_type": "markdown",
      "metadata": {
        "id": "qcWAvbEbtqWS"
      },
      "source": [
        "**Punto A**"
      ]
    },
    {
      "cell_type": "code",
      "metadata": {
        "colab": {
          "base_uri": "https://localhost:8080/",
          "height": 206
        },
        "id": "3h6Bg8a40_oI",
        "outputId": "44157ac7-f780-4c20-8917-5b87d306fac2"
      },
      "source": [
        "df = pd.read_json(\"https://raw.githubusercontent.com/restrepo/ComputationalMethods/master/data/Followers.json\")\n",
        "df.head()"
      ],
      "execution_count": null,
      "outputs": [
        {
          "output_type": "execute_result",
          "data": {
            "text/html": [
              "<div>\n",
              "<style scoped>\n",
              "    .dataframe tbody tr th:only-of-type {\n",
              "        vertical-align: middle;\n",
              "    }\n",
              "\n",
              "    .dataframe tbody tr th {\n",
              "        vertical-align: top;\n",
              "    }\n",
              "\n",
              "    .dataframe thead th {\n",
              "        text-align: right;\n",
              "    }\n",
              "</style>\n",
              "<table border=\"1\" class=\"dataframe\">\n",
              "  <thead>\n",
              "    <tr style=\"text-align: right;\">\n",
              "      <th></th>\n",
              "      <th>followers</th>\n",
              "      <th>date_time</th>\n",
              "      <th>hours</th>\n",
              "    </tr>\n",
              "  </thead>\n",
              "  <tbody>\n",
              "    <tr>\n",
              "      <th>0</th>\n",
              "      <td>42696</td>\n",
              "      <td>2021-08-04 22:06:53.668</td>\n",
              "      <td>0.000000</td>\n",
              "    </tr>\n",
              "    <tr>\n",
              "      <th>1</th>\n",
              "      <td>42706</td>\n",
              "      <td>2021-08-04 23:06:56.517</td>\n",
              "      <td>1.000791</td>\n",
              "    </tr>\n",
              "    <tr>\n",
              "      <th>2</th>\n",
              "      <td>42716</td>\n",
              "      <td>2021-08-05 00:06:59.505</td>\n",
              "      <td>2.001621</td>\n",
              "    </tr>\n",
              "    <tr>\n",
              "      <th>3</th>\n",
              "      <td>42734</td>\n",
              "      <td>2021-08-05 01:07:02.174</td>\n",
              "      <td>3.002363</td>\n",
              "    </tr>\n",
              "    <tr>\n",
              "      <th>4</th>\n",
              "      <td>42749</td>\n",
              "      <td>2021-08-05 02:07:04.854</td>\n",
              "      <td>4.003107</td>\n",
              "    </tr>\n",
              "  </tbody>\n",
              "</table>\n",
              "</div>"
            ],
            "text/plain": [
              "   followers               date_time     hours\n",
              "0      42696 2021-08-04 22:06:53.668  0.000000\n",
              "1      42706 2021-08-04 23:06:56.517  1.000791\n",
              "2      42716 2021-08-05 00:06:59.505  2.001621\n",
              "3      42734 2021-08-05 01:07:02.174  3.002363\n",
              "4      42749 2021-08-05 02:07:04.854  4.003107"
            ]
          },
          "metadata": {},
          "execution_count": 2
        }
      ]
    },
    {
      "cell_type": "code",
      "metadata": {
        "id": "k1DB3bWG20sa"
      },
      "source": [
        "X = df['hours']\n",
        "Y = df['followers']"
      ],
      "execution_count": null,
      "outputs": []
    },
    {
      "cell_type": "code",
      "metadata": {
        "colab": {
          "base_uri": "https://localhost:8080/",
          "height": 519
        },
        "id": "okI200jd69zW",
        "outputId": "940f1289-900b-4c61-c97c-8f99de595ffd"
      },
      "source": [
        "coef = np.polyfit(X, Y, 2)   # Interpolación de los datos con un polinomio de grado 2\n",
        "f = np.poly1d(coef)       # Convertimos a una función\n",
        "\n",
        "x = np.linspace(0, 2000, 4000)\n",
        "\n",
        "plt.figure(figsize=(11,8))\n",
        "plt.plot(X,f(X), 'o', c='m', label='Puntos')\n",
        "plt.plot(x, f(x), '--', label='polinomio')\n",
        "plt.xlabel('$Time$ $[h]$')\n",
        "plt.ylabel('$Followers$')\n",
        "plt.title('$Seguidores \\ por \\ hora$')\n",
        "plt.legend()\n",
        "plt.grid()"
      ],
      "execution_count": null,
      "outputs": [
        {
          "output_type": "display_data",
          "data": {
            "image/png": "[encoded data removed]",
            "text/plain": [
              "<Figure size 792x576 with 1 Axes>"
            ]
          },
          "metadata": {
            "needs_background": "light"
          }
        }
      ]
    },
    {
      "cell_type": "markdown",
      "metadata": {
        "id": "1ncPZmNIS0DH"
      },
      "source": [
        "**Nota**\n",
        "\n",
        "Como la función es cuadr\n",
        "\n",
        "Observemos que la curva que describe el crecimiento de los seguidores en función del tiempo es una parábola cuya concavidad es hacia abajo y creciente antes de llegar al máximo de la función, esto nos permite concluir que la pendiente es una línea recta en función del tiempo y es decreciente."
      ]
    },
    {
      "cell_type": "code",
      "metadata": {
        "colab": {
          "base_uri": "https://localhost:8080/",
          "height": 462
        },
        "id": "kKFFHVI6RXow",
        "outputId": "59906c4f-7a61-4db6-e561-c97ac0560fe7"
      },
      "source": [
        "''' ============ Punto 1 ============ ''' \n",
        "\n",
        "v = f.deriv()     # Pendiente en función del tiempo = derivada\n",
        "\n",
        "plt.figure(figsize=(10,7))\n",
        "plt.plot(x, v(x), '--', label='Velocidad')\n",
        "plt.hlines(0, 0, 2000)\n",
        "plt.xlabel('$Time$ $[h]$')\n",
        "plt.ylabel('$Followers \\ / \\ hora$  $[1/h]$')\n",
        "plt.title('Variación de la cantidad de los seguidores en función del tiempo')\n",
        "plt.legend()\n",
        "plt.grid()"
      ],
      "execution_count": null,
      "outputs": [
        {
          "output_type": "display_data",
          "data": {
            "image/png": "[encoded data removed]",
            "text/plain": [
              "<Figure size 720x504 with 1 Axes>"
            ]
          },
          "metadata": {
            "needs_background": "light"
          }
        }
      ]
    },
    {
      "cell_type": "code",
      "metadata": {
        "colab": {
          "base_uri": "https://localhost:8080/"
        },
        "id": "poDi5peTUNax",
        "outputId": "fda8bc28-da1a-4d2c-f76f-22ebdc9af727"
      },
      "source": [
        "Mv = v(0)     # Velocidad inicial de incremento\n",
        "\n",
        "print('La velocidad inicial de incremento es', Mv, '[seguidores por hora]')"
      ],
      "execution_count": null,
      "outputs": [
        {
          "output_type": "stream",
          "name": "stdout",
          "text": [
            "\n",
            "La velocidad inicial de incremento es 8.552137792664016 [seguidores por hora]\n"
          ]
        }
      ]
    },
    {
      "cell_type": "markdown",
      "metadata": {
        "id": "wIHmGWIhV9u4"
      },
      "source": [
        "Como la velocidad de variación de los seguidores es una línea recta, entonces la aceleración con la que decrece esta función es constante."
      ]
    },
    {
      "cell_type": "code",
      "metadata": {
        "colab": {
          "base_uri": "https://localhost:8080/"
        },
        "id": "pRtgvN6SV5_A",
        "outputId": "1284dc33-9d7c-4aa9-917c-1f51a073e2e6"
      },
      "source": [
        "''' ============ Punto 2 ============ ''' \n",
        "\n",
        "ac = v.deriv()\n",
        "\n",
        "print('La aceleración de decrecimiento de la cantidad de seguidores es', ac, '[seguidores por hora²]')"
      ],
      "execution_count": null,
      "outputs": [
        {
          "output_type": "stream",
          "name": "stdout",
          "text": [
            "La aceleración de decrecimiento de la cantidad de seguidores es  \n",
            "-0.004875 [seguidores por hora²]\n"
          ]
        }
      ]
    },
    {
      "cell_type": "code",
      "metadata": {
        "id": "w55MCtJhC7Uf",
        "colab": {
          "base_uri": "https://localhost:8080/"
        },
        "outputId": "e6c36913-4f32-4a59-8a9f-ce6630a8c3e3"
      },
      "source": [
        "''' ============ Punto 3 ============ ''' \n",
        "\n",
        "M = optimize.fmin_powell(-f,680)    # Hora en la que se tiene más seguidores\n",
        "Max = abs(f(M))     # valor máximo de f\n",
        "\n",
        "print('-------------------------------------------------------------------------')\n",
        "print('\\nEl número máximo de seguidores es', Max, 'que se obtiene a la hora', M)"
      ],
      "execution_count": null,
      "outputs": [
        {
          "output_type": "stream",
          "name": "stdout",
          "text": [
            "Optimization terminated successfully.\n",
            "         Current function value: -50262.136729\n",
            "         Iterations: 2\n",
            "         Function evaluations: 28\n",
            "-------------------------------------------------------------------------\n",
            "\n",
            "El número máximo de seguidores es 50262.136729011865 que se obtiene a la hora 1754.1931385701214\n"
          ]
        }
      ]
    },
    {
      "cell_type": "code",
      "metadata": {
        "colab": {
          "base_uri": "https://localhost:8080/"
        },
        "id": "0pGqphrGK-5Y",
        "outputId": "04453e43-15c8-4126-9b35-7a680a954776"
      },
      "source": [
        "''' ============ Punto 4 ============ ''' \n",
        "\n",
        "import datetime as dt\n",
        "\n",
        "h = float(M)\n",
        "fecha = df['date_time'][0] + dt.timedelta(hours = h)\n",
        "print('La fecha del máximo sería en: {}'.format(fecha))"
      ],
      "execution_count": null,
      "outputs": [
        {
          "output_type": "stream",
          "name": "stdout",
          "text": [
            "La fecha del máximo sería en: 2021-10-17 00:18:28.966852\n"
          ]
        }
      ]
    },
    {
      "cell_type": "markdown",
      "metadata": {
        "id": "np6HwYIttDCM"
      },
      "source": [
        "**Punto B**\n",
        "\n",
        "B) El período de  un pendulo de longitud $l$ oscilando a ángulos grandes  $\\alpha$, está dado por\n",
        "$$\n",
        "T=T_{0} \\frac{\\sqrt{2}}{\\pi} \\int_{0}^{\\alpha} \\frac{d \\theta}{(\\cos \\theta-\\cos \\alpha)^{\\frac{1}{2}}}\n",
        "$$\n",
        "donde\n",
        "$$\n",
        "T_{0}=2 \\pi \\sqrt{\\frac{l}{g}}\n",
        "$$\n",
        "es el período del mismo péndulo a pequeñas amplitudes. Cualquier intento de evaluación numérico de esa integral debería fallar. Sin embargo, si hacemos el cambio de variable\n",
        "$$\n",
        "\\sin \\frac{\\theta}{2}=\\sin \\frac{\\alpha}{2} \\sin \\phi\n",
        "$$\n",
        "obtenemos\n",
        "$$\n",
        "T=\\frac{2 T_{0}}{\\pi} \\int_{0}^{\\frac{\\pi}{2}} \\frac{d \\phi}{\\left(1-\\sin ^{2} \\frac{\\alpha}{2} \\sin ^{2} \\phi\\right)^{\\frac{1}{2}}}\n",
        "$$"
      ]
    },
    {
      "cell_type": "markdown",
      "metadata": {
        "id": "J2BrVpQc5orr"
      },
      "source": [
        "**Solución**"
      ]
    },
    {
      "cell_type": "markdown",
      "metadata": {
        "id": "4fQFF19UnEjP"
      },
      "source": [
        " Notemos que para diferentes valores de $\\alpha$ obtenemos una integral diferente\n",
        "$$I(\\alpha)=\\int_{0}^{\\frac{\\pi}{2}} \\frac{d \\phi}{\\left(1-\\sin ^{2} \\frac{\\alpha}{2} \\sin ^{2} \\phi\\right)^{\\frac{1}{2}}}\n",
        "$$"
      ]
    },
    {
      "cell_type": "markdown",
      "metadata": {
        "id": "3uybkVYgx64H"
      },
      "source": [
        "$$\n",
        "S_i(\\alpha)=\\frac{T}{T_0}=\\frac{2}{\\pi} \\int_{0}^{\\frac{\\pi}{2}} \\frac{d \\phi}{\\left(1-\\sin ^{2} \\frac{\\alpha}{2} \\sin ^{2} \\phi\\right)^{\\frac{1}{2}}}\n",
        "$$"
      ]
    },
    {
      "cell_type": "markdown",
      "metadata": {
        "id": "4EgOO4wStMtM"
      },
      "source": [
        "1. Escriba un programa que use la anterio integral para calcular el cociente  $T/T_0$ para ángulos enteros (en grados) $0^\\circ \\le\\alpha \\le 90^\\circ$."
      ]
    },
    {
      "cell_type": "code",
      "metadata": {
        "id": "lAPWdDuqnFk4"
      },
      "source": [
        "\n",
        "I= lambda α: integrate.quad(lambda ϕ:1/np.sqrt(1-np.sin(α/2)**2*np.sin(ϕ)**2),0,np.pi/2)[0]\n",
        "a"
      ],
      "execution_count": null,
      "outputs": []
    },
    {
      "cell_type": "code",
      "metadata": {
        "colab": {
          "base_uri": "https://localhost:8080/"
        },
        "id": "cYogjmH6of8_",
        "outputId": "14154688-661c-40f2-d711-4849b2a86a94"
      },
      "source": [
        "\n",
        "\"\"\" input:\n",
        "    recibe un valor de α o un arreglo de valores de α\n",
        "    Output:\n",
        "    funcion entrega el valor de T/T_0 \n",
        "\"\"\"\n",
        "def Si(t):\n",
        "    try:\n",
        "        nn=np.array(t).shape[0]\n",
        "        f=np.vectorize(I)\n",
        "    except IndexError:\n",
        "        f=I\n",
        "    return f(t)*2/np.pi\n",
        "\n",
        "alpha = np.linspace(0,np.pi/2,100)#valores enteros de alpha en radianes\n",
        "Si(alpha)"
      ],
      "execution_count": null,
      "outputs": [
        {
          "output_type": "execute_result",
          "data": {
            "text/plain": [
              "array([1.        , 1.00001573, 1.00006294, 1.00014163, 1.00025181,\n",
              "       1.0003935 , 1.00056673, 1.00077153, 1.00100793, 1.00127597,\n",
              "       1.00157571, 1.00190719, 1.00227047, 1.00266561, 1.00309268,\n",
              "       1.00355177, 1.00404293, 1.00456628, 1.00512189, 1.00570986,\n",
              "       1.0063303 , 1.00698332, 1.00766903, 1.00838755, 1.00913901,\n",
              "       1.00992355, 1.01074131, 1.01159243, 1.01247707, 1.01339538,\n",
              "       1.01434753, 1.0153337 , 1.01635406, 1.0174088 , 1.01849811,\n",
              "       1.0196222 , 1.02078127, 1.02197553, 1.02320522, 1.02447055,\n",
              "       1.02577177, 1.02710911, 1.02848285, 1.02989323, 1.03134052,\n",
              "       1.03282501, 1.03434697, 1.03590671, 1.03750453, 1.03914074,\n",
              "       1.04081567, 1.04252964, 1.04428299, 1.04607609, 1.04790929,\n",
              "       1.04978296, 1.05169749, 1.05365326, 1.05565069, 1.05769018,\n",
              "       1.05977217, 1.0618971 , 1.06406541, 1.06627758, 1.06853407,\n",
              "       1.07083538, 1.07318201, 1.07557448, 1.07801332, 1.08049907,\n",
              "       1.08303231, 1.0856136 , 1.08824354, 1.09092274, 1.09365182,\n",
              "       1.09643144, 1.09926224, 1.10214491, 1.10508015, 1.10806868,\n",
              "       1.11111124, 1.11420858, 1.11736149, 1.12057078, 1.12383726,\n",
              "       1.12716179, 1.13054525, 1.13398853, 1.13749256, 1.14105829,\n",
              "       1.14468672, 1.14837883, 1.15213569, 1.15595835, 1.15984793,\n",
              "       1.16380556, 1.16783241, 1.1719297 , 1.17609867, 1.1803406 ])"
            ]
          },
          "metadata": {},
          "execution_count": 8
        }
      ]
    },
    {
      "cell_type": "markdown",
      "metadata": {
        "id": "a-1D0pqotTXr"
      },
      "source": [
        "2. Genere un DataFrame de pandas que contenga como columnas: la amplitud en grados, la amplitud en radianes, y el cociente $T/T_0$, "
      ]
    },
    {
      "cell_type": "code",
      "metadata": {
        "id": "Nq8rnGIjqFd4"
      },
      "source": [
        "df = pd.DataFrame({'α [rad]':alpha,'α [°]':alpha*180/np.pi,'T/T0':Si(alpha)})"
      ],
      "execution_count": null,
      "outputs": []
    },
    {
      "cell_type": "code",
      "metadata": {
        "colab": {
          "base_uri": "https://localhost:8080/",
          "height": 423
        },
        "id": "0YCnwXb_rxqC",
        "outputId": "3a8ba447-805d-47f7-8b7c-f3ebf303cdb3"
      },
      "source": [
        "df"
      ],
      "execution_count": null,
      "outputs": [
        {
          "output_type": "execute_result",
          "data": {
            "text/html": [
              "<div>\n",
              "<style scoped>\n",
              "    .dataframe tbody tr th:only-of-type {\n",
              "        vertical-align: middle;\n",
              "    }\n",
              "\n",
              "    .dataframe tbody tr th {\n",
              "        vertical-align: top;\n",
              "    }\n",
              "\n",
              "    .dataframe thead th {\n",
              "        text-align: right;\n",
              "    }\n",
              "</style>\n",
              "<table border=\"1\" class=\"dataframe\">\n",
              "  <thead>\n",
              "    <tr style=\"text-align: right;\">\n",
              "      <th></th>\n",
              "      <th>α [rad]</th>\n",
              "      <th>α [°]</th>\n",
              "      <th>T/T0</th>\n",
              "    </tr>\n",
              "  </thead>\n",
              "  <tbody>\n",
              "    <tr>\n",
              "      <th>0</th>\n",
              "      <td>0.000000</td>\n",
              "      <td>0.000000</td>\n",
              "      <td>1.000000</td>\n",
              "    </tr>\n",
              "    <tr>\n",
              "      <th>1</th>\n",
              "      <td>0.015867</td>\n",
              "      <td>0.909091</td>\n",
              "      <td>1.000016</td>\n",
              "    </tr>\n",
              "    <tr>\n",
              "      <th>2</th>\n",
              "      <td>0.031733</td>\n",
              "      <td>1.818182</td>\n",
              "      <td>1.000063</td>\n",
              "    </tr>\n",
              "    <tr>\n",
              "      <th>3</th>\n",
              "      <td>0.047600</td>\n",
              "      <td>2.727273</td>\n",
              "      <td>1.000142</td>\n",
              "    </tr>\n",
              "    <tr>\n",
              "      <th>4</th>\n",
              "      <td>0.063467</td>\n",
              "      <td>3.636364</td>\n",
              "      <td>1.000252</td>\n",
              "    </tr>\n",
              "    <tr>\n",
              "      <th>...</th>\n",
              "      <td>...</td>\n",
              "      <td>...</td>\n",
              "      <td>...</td>\n",
              "    </tr>\n",
              "    <tr>\n",
              "      <th>95</th>\n",
              "      <td>1.507330</td>\n",
              "      <td>86.363636</td>\n",
              "      <td>1.163806</td>\n",
              "    </tr>\n",
              "    <tr>\n",
              "      <th>96</th>\n",
              "      <td>1.523196</td>\n",
              "      <td>87.272727</td>\n",
              "      <td>1.167832</td>\n",
              "    </tr>\n",
              "    <tr>\n",
              "      <th>97</th>\n",
              "      <td>1.539063</td>\n",
              "      <td>88.181818</td>\n",
              "      <td>1.171930</td>\n",
              "    </tr>\n",
              "    <tr>\n",
              "      <th>98</th>\n",
              "      <td>1.554930</td>\n",
              "      <td>89.090909</td>\n",
              "      <td>1.176099</td>\n",
              "    </tr>\n",
              "    <tr>\n",
              "      <th>99</th>\n",
              "      <td>1.570796</td>\n",
              "      <td>90.000000</td>\n",
              "      <td>1.180341</td>\n",
              "    </tr>\n",
              "  </tbody>\n",
              "</table>\n",
              "<p>100 rows × 3 columns</p>\n",
              "</div>"
            ],
            "text/plain": [
              "     α [rad]      α [°]      T/T0\n",
              "0   0.000000   0.000000  1.000000\n",
              "1   0.015867   0.909091  1.000016\n",
              "2   0.031733   1.818182  1.000063\n",
              "3   0.047600   2.727273  1.000142\n",
              "4   0.063467   3.636364  1.000252\n",
              "..       ...        ...       ...\n",
              "95  1.507330  86.363636  1.163806\n",
              "96  1.523196  87.272727  1.167832\n",
              "97  1.539063  88.181818  1.171930\n",
              "98  1.554930  89.090909  1.176099\n",
              "99  1.570796  90.000000  1.180341\n",
              "\n",
              "[100 rows x 3 columns]"
            ]
          },
          "metadata": {},
          "execution_count": 10
        }
      ]
    },
    {
      "cell_type": "markdown",
      "metadata": {
        "id": "UYSYU_pctc0I"
      },
      "source": [
        "3. Haga un gráfico de $T/T_0$ como función de $\\alpha$ (en grados). "
      ]
    },
    {
      "cell_type": "code",
      "metadata": {
        "colab": {
          "base_uri": "https://localhost:8080/",
          "height": 569
        },
        "id": "TKODQ4MNryZ6",
        "outputId": "80df197a-1322-4599-b055-b6407051ea53"
      },
      "source": [
        "plt.figure(figsize = (12,9))\n",
        "plt.plot(df['α [°]'],df['T/T0'],'c',label = 'T/T0(α)')\n",
        "plt.title('T/T0 en función de la amplitud α',size=14)\n",
        "plt.ylabel('T/T0')\n",
        "plt.xlabel('α [°]')\n",
        "plt.grid()\n",
        "plt.legend()\n",
        "plt.show()"
      ],
      "execution_count": null,
      "outputs": [
        {
          "output_type": "display_data",
          "data": {
            "image/png": "[encoded data removed]",
            "text/plain": [
              "<Figure size 864x648 with 1 Axes>"
            ]
          },
          "metadata": {
            "needs_background": "light"
          }
        }
      ]
    },
    {
      "cell_type": "markdown",
      "metadata": {
        "id": "YVXnYX9otkHT"
      },
      "source": [
        "4. Explain the result when $\\alpha = 0.$ "
      ]
    },
    {
      "cell_type": "markdown",
      "metadata": {
        "id": "Je4Elq22xSQT"
      },
      "source": [
        "Cuando $\\alpha \\longrightarrow 0$ la amplitud es cada vez más pequeña y por lo tanto el periodo se aproxima al periodo del pendulo a amplitudes pequeñas y\n",
        "$T\\longrightarrow  T_0$, por tanto $\n",
        "\\frac{T}{T_0} = 1\n",
        "$"
      ]
    }
  ]
}