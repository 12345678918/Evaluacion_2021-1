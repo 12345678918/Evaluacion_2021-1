{
 "cells": [
  {
   "cell_type": "markdown",
   "metadata": {
    "id": "d8BGX58hxE06"
   },
   "source": [
    "# Pandas\n",
    "<a href=\"https://colab.research.google.com/github/restrepo/ComputationalMethods/blob/master/material/Pandas.ipynb\" target=\"_parent\"><img src=\"https://colab.research.google.com/assets/colab-badge.svg\" alt=\"Open In Colab\"/></a>"
   ]
  },
  {
   "cell_type": "markdown",
   "metadata": {
    "id": "zm9tRsn7xE0_"
   },
   "source": [
    "From http://pandas.pydata.org/pandas-docs/stable/\n",
    "\n",
    "pandas is a Python package providing fast, flexible, and expressive data structures designed to make working with “relational” or “labeled” data both easy and intuitive. It aims to be the fundamental high-level building block for doing practical, real world data analysis in Python. Additionally, it has the broader goal of becoming the most powerful and flexible open source data analysis / manipulation tool available in any language. It is already well on its way toward this goal.\n",
    "\n",
    "See also:\n",
    "\n",
    "* https://github.com/restrepo/data-analysis\n",
    "  * https://classroom.github.com/g/sSMBdBqN\n",
    "  * https://classroom.github.com/a/PcbQBE7F\n",
    "* https://github.com/restrepo/PythonTipsAndTricks\n",
    "* https://pbpython.com/excel-pandas-comp.html [[archive.org](https://web.archive.org/web/20201126143453/https://pbpython.com/excel-pandas-comp.html)]"
   ]
  },
  {
   "cell_type": "code",
   "execution_count": null,
   "metadata": {},
   "outputs": [],
   "source": [
    "package paquete\n"
   ]
  },
  {
   "cell_type": "markdown",
   "metadata": {
    "id": "rK9HYxStzq9j"
   },
   "source": [
    "A good and practice book about `Pandas` possibilities is:\n",
    "\n",
    "[__Python for Data Analysis__](https://drive.google.com/open?id=0BxoOXsn2EUNIWExXbVc4SDN0YTQ)<br/>\n",
    "Data Wrangling with Pandas, NumPy, and IPython<br/>\n",
    "_By William McKinney_\n",
    "\n",
    "\n",
    "This other is about aplications based on `Pandas`:\n",
    "![image.png](https://covers.oreillystatic.com/images/0636920030515/cat.gif) [Introduction to Machine Learning with Python](https://drive.google.com/open?id=0BxoOXsn2EUNISGhrdEZ3S29fS3M)<br/>\n",
    "A Guide for Data Scientists\n",
    "By Sarah Guido, Andreas Müller\n",
    "\n",
    "`Pandas` can be used in a similar way to `R`, which is based on similar data structures. `Pandas` also can replace the use of graphical interfaces to access spreadsheets like Excel"
   ]
  },
  {
   "cell_type": "markdown",
   "metadata": {
    "id": "zd4jo7KLxE1C"
   },
   "source": [
    "## Standard way to load the module"
   ]
  },
  {
   "cell_type": "code",
   "execution_count": null,
   "metadata": {
    "id": "K3BSlyLBxE1E"
   },
   "outputs": [],
   "source": [
    "import pandas as pd"
   ]
  },
  {
   "cell_type": "markdown",
   "metadata": {
    "id": "I7Hbe9JEadOC"
   },
   "source": [
    "## Basic structure: DataFrame"
   ]
  },
  {
   "cell_type": "markdown",
   "metadata": {
    "id": "IE_Vzycqajls"
   },
   "source": [
    "An flat _spreadsheet_ can be seen in terms of the types of variables of `Python` just as dictionary of lists, where each column of the spreadsheet is a pair key-list of the dictionary \n",
    "\n",
    "|   |  A   |  B   |\n",
    "|---|:----:|:----:|\n",
    "| 1 | even | odd  |\n",
    "| 2 |   0  | 1    |\n",
    "| 3 |   2  | 3    |\n",
    "| 4 |   4  | 5    |\n",
    "| 5 |   6  | 7    |\n",
    "| 6 |   8  | 9    |"
   ]
  },
  {
   "cell_type": "code",
   "execution_count": null,
   "metadata": {},
   "outputs": [],
   "source": [
    "flat spreadsheet hoja de calculo plana"
   ]
  },
  {
   "cell_type": "code",
   "execution_count": 1,
   "metadata": {
    "id": "lxEc0jlHauyc"
   },
   "outputs": [],
   "source": [
    "numbers={\"even\": [0,2,4,6,8],   #  First  key-list\n",
    "         \"odd\" : [1,3,5,7,9] }  #  Second key-list"
   ]
  },
  {
   "cell_type": "markdown",
   "metadata": {
    "id": "HeN8rw1JxE1N"
   },
   "source": [
    "## Data structures"
   ]
  },
  {
   "cell_type": "markdown",
   "metadata": {
    "id": "UiL0O2SNcCfG"
   },
   "source": [
    "`Pandas` has two new data structures:\n",
    "1. `DataFrame` which are similar to numpy arrays but with some assigned key. For example, for the previous case\n",
    "```python\n",
    "import numpy as np\n",
    "np.array([[0,1],\n",
    "          [2,3],\n",
    "          [4,5],\n",
    "          [6,7],\n",
    "          [8,9] \n",
    "         ])\n",
    "```\n",
    "1. `Series` which are enriched  to dictionaries, as the ones defined for the rows of the previous example: `{'even':0,'odd':1}`.\n",
    "\n"
   ]
  },
  {
   "cell_type": "markdown",
   "metadata": {
    "id": "jaWfZyimxE1O"
   },
   "source": [
    "\n",
    "The rows in a two-dimensional `DataFrame` corresponds to `Series` with similar keys, while the columns are also Series with the indices as keys. \n",
    "\n",
    "An example of a  `DataFrame` is a spreadsheet, as the one before."
   ]
  },
  {
   "cell_type": "markdown",
   "metadata": {
    "id": "uRdBR4BXc8WY"
   },
   "source": [
    "### `DataFrame`\n",
    "`Pandas` can convert a dictionary of lists, like the `numbers` dictionary before, into a `DataFrame`, which is just an spreadsheet but interpreted at the programming level:\n",
    "\n"
   ]
  },
  {
   "cell_type": "code",
   "execution_count": null,
   "metadata": {
    "colab": {
     "base_uri": "https://localhost:8080/"
    },
    "id": "GwSio39szq9s",
    "outputId": "980d2a49-8e9c-432d-df1b-cc264e96c69e"
   },
   "outputs": [
    {
     "data": {
      "text/plain": [
       "{'even': [0, 2, 4, 6, 8], 'odd': [1, 3, 5, 7, 9]}"
      ]
     },
     "execution_count": 14,
     "metadata": {
      "tags": []
     },
     "output_type": "execute_result"
    }
   ],
   "source": [
    "numbers"
   ]
  },
  {
   "cell_type": "code",
   "execution_count": 3,
   "metadata": {
    "colab": {
     "base_uri": "https://localhost:8080/",
     "height": 202
    },
    "id": "dC00VECAd_Dr",
    "outputId": "fbd2a85b-1897-43c0-9e2b-8993adcae96e"
   },
   "outputs": [
    {
     "data": {
      "text/html": [
       "<div>\n",
       "<style scoped>\n",
       "    .dataframe tbody tr th:only-of-type {\n",
       "        vertical-align: middle;\n",
       "    }\n",
       "\n",
       "    .dataframe tbody tr th {\n",
       "        vertical-align: top;\n",
       "    }\n",
       "\n",
       "    .dataframe thead th {\n",
       "        text-align: right;\n",
       "    }\n",
       "</style>\n",
       "<table border=\"1\" class=\"dataframe\">\n",
       "  <thead>\n",
       "    <tr style=\"text-align: right;\">\n",
       "      <th></th>\n",
       "      <th>even</th>\n",
       "      <th>odd</th>\n",
       "    </tr>\n",
       "  </thead>\n",
       "  <tbody>\n",
       "    <tr>\n",
       "      <th>0</th>\n",
       "      <td>0</td>\n",
       "      <td>1</td>\n",
       "    </tr>\n",
       "    <tr>\n",
       "      <th>1</th>\n",
       "      <td>2</td>\n",
       "      <td>3</td>\n",
       "    </tr>\n",
       "    <tr>\n",
       "      <th>2</th>\n",
       "      <td>4</td>\n",
       "      <td>5</td>\n",
       "    </tr>\n",
       "    <tr>\n",
       "      <th>3</th>\n",
       "      <td>6</td>\n",
       "      <td>7</td>\n",
       "    </tr>\n",
       "    <tr>\n",
       "      <th>4</th>\n",
       "      <td>8</td>\n",
       "      <td>9</td>\n",
       "    </tr>\n",
       "  </tbody>\n",
       "</table>\n",
       "</div>"
      ],
      "text/plain": [
       "   even  odd\n",
       "0     0    1\n",
       "1     2    3\n",
       "2     4    5\n",
       "3     6    7\n",
       "4     8    9"
      ]
     },
     "execution_count": 3,
     "metadata": {},
     "output_type": "execute_result"
    }
   ],
   "source": [
    "import pandas as pd\n",
    "df=pd.DataFrame(numbers)\n",
    "df"
   ]
  },
  {
   "cell_type": "markdown",
   "metadata": {
    "id": "zUZ1BcuneYQf"
   },
   "source": [
    "It is equivalent to:"
   ]
  },
  {
   "cell_type": "code",
   "execution_count": 4,
   "metadata": {
    "colab": {
     "base_uri": "https://localhost:8080/"
    },
    "id": "r5LPfKhGzq9x",
    "outputId": "3d785c05-a5ef-4684-cfbd-c3aa4ec977ee"
   },
   "outputs": [
    {
     "data": {
      "text/plain": [
       "{'even': {0: 0, 1: 2, 2: 4, 3: 6, 4: 8}, 'odd': {0: 1, 1: 3, 2: 5, 3: 7, 4: 9}}"
      ]
     },
     "execution_count": 4,
     "metadata": {},
     "output_type": "execute_result"
    }
   ],
   "source": [
    "df.to_dict()"
   ]
  },
  {
   "cell_type": "code",
   "execution_count": 5,
   "metadata": {
    "colab": {
     "base_uri": "https://localhost:8080/",
     "height": 202
    },
    "id": "2wCcN4llzq9y",
    "outputId": "0cef7ef5-644c-401a-e5ff-4b40902b6641"
   },
   "outputs": [
    {
     "data": {
      "text/html": [
       "<div>\n",
       "<style scoped>\n",
       "    .dataframe tbody tr th:only-of-type {\n",
       "        vertical-align: middle;\n",
       "    }\n",
       "\n",
       "    .dataframe tbody tr th {\n",
       "        vertical-align: top;\n",
       "    }\n",
       "\n",
       "    .dataframe thead th {\n",
       "        text-align: right;\n",
       "    }\n",
       "</style>\n",
       "<table border=\"1\" class=\"dataframe\">\n",
       "  <thead>\n",
       "    <tr style=\"text-align: right;\">\n",
       "      <th></th>\n",
       "      <th>even</th>\n",
       "      <th>odd</th>\n",
       "    </tr>\n",
       "  </thead>\n",
       "  <tbody>\n",
       "    <tr>\n",
       "      <th>0</th>\n",
       "      <td>0</td>\n",
       "      <td>1</td>\n",
       "    </tr>\n",
       "    <tr>\n",
       "      <th>1</th>\n",
       "      <td>2</td>\n",
       "      <td>3</td>\n",
       "    </tr>\n",
       "    <tr>\n",
       "      <th>2</th>\n",
       "      <td>4</td>\n",
       "      <td>5</td>\n",
       "    </tr>\n",
       "    <tr>\n",
       "      <th>3</th>\n",
       "      <td>6</td>\n",
       "      <td>7</td>\n",
       "    </tr>\n",
       "    <tr>\n",
       "      <th>4</th>\n",
       "      <td>8</td>\n",
       "      <td>9</td>\n",
       "    </tr>\n",
       "  </tbody>\n",
       "</table>\n",
       "</div>"
      ],
      "text/plain": [
       "   even  odd\n",
       "0     0    1\n",
       "1     2    3\n",
       "2     4    5\n",
       "3     6    7\n",
       "4     8    9"
      ]
     },
     "execution_count": 5,
     "metadata": {},
     "output_type": "execute_result"
    }
   ],
   "source": [
    "pd.DataFrame(  {'even': {0: 0, 1: 2, 2: 4, 3: 6, 4: 8}, 'odd': {0: 1, 1: 3, 2: 5, 3: 7, 4: 9}} )\n"
   ]
  },
  {
   "cell_type": "code",
   "execution_count": 6,
   "metadata": {
    "colab": {
     "base_uri": "https://localhost:8080/",
     "height": 202
    },
    "id": "nqtL07nJecD6",
    "outputId": "610bfffc-f112-45fc-b07c-fbe4943c4836"
   },
   "outputs": [
    {
     "data": {
      "text/html": [
       "<div>\n",
       "<style scoped>\n",
       "    .dataframe tbody tr th:only-of-type {\n",
       "        vertical-align: middle;\n",
       "    }\n",
       "\n",
       "    .dataframe tbody tr th {\n",
       "        vertical-align: top;\n",
       "    }\n",
       "\n",
       "    .dataframe thead th {\n",
       "        text-align: right;\n",
       "    }\n",
       "</style>\n",
       "<table border=\"1\" class=\"dataframe\">\n",
       "  <thead>\n",
       "    <tr style=\"text-align: right;\">\n",
       "      <th></th>\n",
       "      <th>even</th>\n",
       "      <th>odd</th>\n",
       "    </tr>\n",
       "  </thead>\n",
       "  <tbody>\n",
       "    <tr>\n",
       "      <th>0</th>\n",
       "      <td>0</td>\n",
       "      <td>1</td>\n",
       "    </tr>\n",
       "    <tr>\n",
       "      <th>1</th>\n",
       "      <td>2</td>\n",
       "      <td>3</td>\n",
       "    </tr>\n",
       "    <tr>\n",
       "      <th>2</th>\n",
       "      <td>4</td>\n",
       "      <td>5</td>\n",
       "    </tr>\n",
       "    <tr>\n",
       "      <th>3</th>\n",
       "      <td>6</td>\n",
       "      <td>7</td>\n",
       "    </tr>\n",
       "    <tr>\n",
       "      <th>4</th>\n",
       "      <td>8</td>\n",
       "      <td>9</td>\n",
       "    </tr>\n",
       "  </tbody>\n",
       "</table>\n",
       "</div>"
      ],
      "text/plain": [
       "   even  odd\n",
       "0     0    1\n",
       "1     2    3\n",
       "2     4    5\n",
       "3     6    7\n",
       "4     8    9"
      ]
     },
     "execution_count": 6,
     "metadata": {},
     "output_type": "execute_result"
    }
   ],
   "source": [
    "pd.DataFrame.from_dict(numbers)"
   ]
  },
  {
   "cell_type": "markdown",
   "metadata": {
    "id": "1ftuPJd5eiu6"
   },
   "source": [
    "See below for other possibilities of [creating Pandas DataFrames from lists and dictionaries](https://fisica.udea.edu.co:4443/user/restrepo/notebooks/prog/cursos/data-analysis/Pandas.ipynb#Intialization-from-lists-and-dictionaries)"
   ]
  },
  {
   "cell_type": "markdown",
   "metadata": {
    "id": "myuwII1Ed9PE"
   },
   "source": [
    "The main advantage of the `DataFrame`, `df`, is that it can be managed without a graphical interface."
   ]
  },
  {
   "cell_type": "markdown",
   "metadata": {
    "id": "5A0YScKRehta"
   },
   "source": [
    "We can check the shape of the `DataFrame`"
   ]
  },
  {
   "cell_type": "code",
   "execution_count": null,
   "metadata": {
    "colab": {
     "base_uri": "https://localhost:8080/"
    },
    "id": "RV-ivs5Weyzq",
    "outputId": "5aeaa0d3-6be1-4a42-e928-66bf42a10568"
   },
   "outputs": [
    {
     "data": {
      "text/plain": [
       "(5, 2)"
      ]
     },
     "execution_count": 19,
     "metadata": {
      "tags": []
     },
     "output_type": "execute_result"
    }
   ],
   "source": [
    "df.shape"
   ]
  },
  {
   "cell_type": "markdown",
   "metadata": {
    "id": "ZMc0puXbe3nD"
   },
   "source": [
    "####  Export DataFrame to other formats\n",
    "* To export to excel:"
   ]
  },
  {
   "cell_type": "code",
   "execution_count": null,
   "metadata": {
    "id": "ioWKY1FAe-rK"
   },
   "outputs": [],
   "source": [
    "df.to_excel('example.xlsx',index=False)"
   ]
  },
  {
   "cell_type": "code",
   "execution_count": null,
   "metadata": {
    "colab": {
     "base_uri": "https://localhost:8080/",
     "height": 202
    },
    "id": "fnvrMKxizq91",
    "outputId": "dce5dd39-36e3-491b-e2d4-72f3e207e61c"
   },
   "outputs": [
    {
     "data": {
      "text/html": [
       "<div>\n",
       "<style scoped>\n",
       "    .dataframe tbody tr th:only-of-type {\n",
       "        vertical-align: middle;\n",
       "    }\n",
       "\n",
       "    .dataframe tbody tr th {\n",
       "        vertical-align: top;\n",
       "    }\n",
       "\n",
       "    .dataframe thead th {\n",
       "        text-align: right;\n",
       "    }\n",
       "</style>\n",
       "<table border=\"1\" class=\"dataframe\">\n",
       "  <thead>\n",
       "    <tr style=\"text-align: right;\">\n",
       "      <th></th>\n",
       "      <th>even</th>\n",
       "      <th>odd</th>\n",
       "    </tr>\n",
       "  </thead>\n",
       "  <tbody>\n",
       "    <tr>\n",
       "      <th>0</th>\n",
       "      <td>0</td>\n",
       "      <td>1</td>\n",
       "    </tr>\n",
       "    <tr>\n",
       "      <th>1</th>\n",
       "      <td>2</td>\n",
       "      <td>3</td>\n",
       "    </tr>\n",
       "    <tr>\n",
       "      <th>2</th>\n",
       "      <td>4</td>\n",
       "      <td>5</td>\n",
       "    </tr>\n",
       "    <tr>\n",
       "      <th>3</th>\n",
       "      <td>6</td>\n",
       "      <td>7</td>\n",
       "    </tr>\n",
       "    <tr>\n",
       "      <th>4</th>\n",
       "      <td>8</td>\n",
       "      <td>9</td>\n",
       "    </tr>\n",
       "  </tbody>\n",
       "</table>\n",
       "</div>"
      ],
      "text/plain": [
       "   even  odd\n",
       "0     0    1\n",
       "1     2    3\n",
       "2     4    5\n",
       "3     6    7\n",
       "4     8    9"
      ]
     },
     "execution_count": 27,
     "metadata": {
      "tags": []
     },
     "output_type": "execute_result"
    }
   ],
   "source": [
    "newdf=pd.read_excel('example.xlsx')\n",
    "newdf"
   ]
  },
  {
   "cell_type": "markdown",
   "metadata": {
    "id": "yIdeiNi_fBPJ"
   },
   "source": [
    "__Activity__: Open the resulting spreadsheet in Google Drive, publish it and open from the resulting link with Pandas in the next cell"
   ]
  },
  {
   "cell_type": "code",
   "execution_count": null,
   "metadata": {
    "colab": {
     "base_uri": "https://localhost:8080/",
     "height": 202
    },
    "id": "ZqIbSbLvf0wm",
    "outputId": "eb337caf-d7fe-416d-d4d8-5dcf4f5daf8c"
   },
   "outputs": [
    {
     "data": {
      "text/html": [
       "<div>\n",
       "<style scoped>\n",
       "    .dataframe tbody tr th:only-of-type {\n",
       "        vertical-align: middle;\n",
       "    }\n",
       "\n",
       "    .dataframe tbody tr th {\n",
       "        vertical-align: top;\n",
       "    }\n",
       "\n",
       "    .dataframe thead th {\n",
       "        text-align: right;\n",
       "    }\n",
       "</style>\n",
       "<table border=\"1\" class=\"dataframe\">\n",
       "  <thead>\n",
       "    <tr style=\"text-align: right;\">\n",
       "      <th></th>\n",
       "      <th>even</th>\n",
       "      <th>odd</th>\n",
       "    </tr>\n",
       "  </thead>\n",
       "  <tbody>\n",
       "    <tr>\n",
       "      <th>0</th>\n",
       "      <td>0</td>\n",
       "      <td>1</td>\n",
       "    </tr>\n",
       "    <tr>\n",
       "      <th>1</th>\n",
       "      <td>2</td>\n",
       "      <td>3</td>\n",
       "    </tr>\n",
       "    <tr>\n",
       "      <th>2</th>\n",
       "      <td>4</td>\n",
       "      <td>5</td>\n",
       "    </tr>\n",
       "    <tr>\n",
       "      <th>3</th>\n",
       "      <td>6</td>\n",
       "      <td>7</td>\n",
       "    </tr>\n",
       "    <tr>\n",
       "      <th>4</th>\n",
       "      <td>8</td>\n",
       "      <td>9</td>\n",
       "    </tr>\n",
       "  </tbody>\n",
       "</table>\n",
       "</div>"
      ],
      "text/plain": [
       "   even  odd\n",
       "0     0    1\n",
       "1     2    3\n",
       "2     4    5\n",
       "3     6    7\n",
       "4     8    9"
      ]
     },
     "execution_count": 55,
     "metadata": {
      "tags": []
     },
     "output_type": "execute_result"
    }
   ],
   "source": [
    "df=pd.read_excel('https://docs.google.com/spreadsheets/d/e/2PACX-1vQ0vNBHgrNAeXDKrneiloFNu2cBjZYqqsLSrn7-WjRVdDTpx48CGy40es05QZCb6A/pub?output=xlsx')\n",
    "df"
   ]
  },
  {
   "cell_type": "markdown",
   "metadata": {
    "id": "c_bj3IfLxE1Q"
   },
   "source": [
    "### `Series`"
   ]
  },
  {
   "cell_type": "markdown",
   "metadata": {
    "id": "H2LIeZbCgoL5"
   },
   "source": [
    "Each column of the DataFrame is now an augmented dictionary called `Series`, with the indices as the keys of the `Series`"
   ]
  },
  {
   "cell_type": "markdown",
   "metadata": {
    "id": "klrbIsoGxE1R"
   },
   "source": [
    "A `Pandas` `Series` object can be just initialized from a `Python` dictionary:"
   ]
  },
  {
   "cell_type": "code",
   "execution_count": 7,
   "metadata": {
    "colab": {
     "base_uri": "https://localhost:8080/"
    },
    "id": "FoTT2jkqgrpR",
    "outputId": "730c0ff0-7dc6-4577-d6e7-232b9d694045"
   },
   "outputs": [
    {
     "data": {
      "text/plain": [
       "pandas.core.series.Series"
      ]
     },
     "execution_count": 7,
     "metadata": {},
     "output_type": "execute_result"
    }
   ],
   "source": [
    "type( df['even'] )"
   ]
  },
  {
   "cell_type": "markdown",
   "metadata": {
    "id": "Iy8h3XICgz9w"
   },
   "source": [
    "The keys are the index of the `DataFrame`"
   ]
  },
  {
   "cell_type": "code",
   "execution_count": null,
   "metadata": {
    "colab": {
     "base_uri": "https://localhost:8080/"
    },
    "id": "BTIxbKvhg6m2",
    "outputId": "25da20a7-de59-441a-b553-0efcc61f4cc3"
   },
   "outputs": [
    {
     "data": {
      "text/plain": [
       "8"
      ]
     },
     "execution_count": 56,
     "metadata": {
      "tags": []
     },
     "output_type": "execute_result"
    }
   ],
   "source": [
    "#df['even']\n",
    "df.even[4]"
   ]
  },
  {
   "cell_type": "markdown",
   "metadata": {
    "id": "7MIKjfslg7Xx"
   },
   "source": [
    "Each row is also a series"
   ]
  },
  {
   "cell_type": "code",
   "execution_count": 8,
   "metadata": {
    "colab": {
     "base_uri": "https://localhost:8080/"
    },
    "id": "rhiEFGhOg-kx",
    "outputId": "e5627af3-66f2-45d9-df95-2f006cff3b1a"
   },
   "outputs": [
    {
     "data": {
      "text/plain": [
       "even    0\n",
       "odd     1\n",
       "Name: 0, dtype: int64"
      ]
     },
     "execution_count": 8,
     "metadata": {},
     "output_type": "execute_result"
    }
   ],
   "source": [
    "df.loc[0]"
   ]
  },
  {
   "cell_type": "markdown",
   "metadata": {
    "id": "ki2GW4yohKl5"
   },
   "source": [
    "with keys: `'even'` and `'odd'`"
   ]
  },
  {
   "cell_type": "code",
   "execution_count": null,
   "metadata": {
    "colab": {
     "base_uri": "https://localhost:8080/"
    },
    "id": "JPLVdBrAhFCJ",
    "outputId": "c1cd7d58-2370-4298-d53d-e84d8b20740e"
   },
   "outputs": [
    {
     "data": {
      "text/plain": [
       "0"
      ]
     },
     "execution_count": 58,
     "metadata": {
      "tags": []
     },
     "output_type": "execute_result"
    }
   ],
   "source": [
    "df.loc[0]['even']"
   ]
  },
  {
   "cell_type": "markdown",
   "metadata": {
    "id": "8NuiZ2NIhGjx"
   },
   "source": [
    "or attributes `even` and `odd`"
   ]
  },
  {
   "cell_type": "code",
   "execution_count": null,
   "metadata": {
    "colab": {
     "base_uri": "https://localhost:8080/"
    },
    "id": "KmY9Jrk_hZyx",
    "outputId": "2fd7cd4b-fe0e-402b-a50b-403a223a372f"
   },
   "outputs": [
    {
     "data": {
      "text/plain": [
       "1"
      ]
     },
     "execution_count": 59,
     "metadata": {
      "tags": []
     },
     "output_type": "execute_result"
    }
   ],
   "source": [
    "df.loc[0].odd"
   ]
  },
  {
   "cell_type": "markdown",
   "metadata": {
    "id": "vOxxMKJshhKJ"
   },
   "source": [
    "One specific cell value can be reached with the index and the key:"
   ]
  },
  {
   "cell_type": "code",
   "execution_count": null,
   "metadata": {
    "colab": {
     "base_uri": "https://localhost:8080/"
    },
    "id": "MexLUmZLhph5",
    "outputId": "d125195b-014d-4798-8810-eb870761f5bf"
   },
   "outputs": [
    {
     "data": {
      "text/plain": [
       "5"
      ]
     },
     "execution_count": 60,
     "metadata": {
      "tags": []
     },
     "output_type": "execute_result"
    }
   ],
   "source": [
    "df.loc[2,'odd']"
   ]
  },
  {
   "cell_type": "code",
   "execution_count": 9,
   "metadata": {
    "colab": {
     "base_uri": "https://localhost:8080/"
    },
    "id": "LrhKw9EQxE1T",
    "outputId": "4128441d-62ce-492a-b13f-0cae8f3c9146"
   },
   "outputs": [
    {
     "data": {
      "text/plain": [
       "Age                     23\n",
       "Nacionality       Colombia\n",
       "Name           Juan Valdez\n",
       "dtype: object"
      ]
     },
     "execution_count": 9,
     "metadata": {},
     "output_type": "execute_result"
    }
   ],
   "source": [
    "s=pd.Series({'Name':'Juan Valdez','Nacionality':'Colombia','Age':23})\n",
    "s"
   ]
  },
  {
   "cell_type": "markdown",
   "metadata": {
    "id": "TzNtVUV6h36n"
   },
   "source": [
    "*Note* that the key name can be used also as an attribute.\n"
   ]
  },
  {
   "cell_type": "code",
   "execution_count": null,
   "metadata": {
    "colab": {
     "base_uri": "https://localhost:8080/"
    },
    "id": "ip9ADEo7h5vA",
    "outputId": "365c87c8-ef92-4827-a6fc-01d87157986e"
   },
   "outputs": [
    {
     "data": {
      "text/plain": [
       "0    1\n",
       "1    3\n",
       "2    5\n",
       "3    7\n",
       "4    9\n",
       "Name: odd, dtype: int64"
      ]
     },
     "execution_count": 62,
     "metadata": {
      "tags": []
     },
     "output_type": "execute_result"
    }
   ],
   "source": [
    "df.odd"
   ]
  },
  {
   "cell_type": "markdown",
   "metadata": {
    "id": "z5JBXWlkh8Z3"
   },
   "source": [
    "> The __power__ of Pandas rely in that their main data structures: `DataFrames` and `Series`, are enriched with many useful methods and attributes.\n",
    "\n",
    "### [Official definition of Pandas](http://pandas.pydata.org/pandas-docs/stable/)\n",
    "\n",
    "> Pandas is a Python package providing __fast__, __flexible__, and __expressive__ _data structures_ designed to make working with “relational” or “labeled” data both easy and intuitive. It aims to be the fundamental high-level building block for doing practical, real world data analysis in Python. Additionally, it _has the broader goal of becoming the most powerful and flexible open source data analysis / manipulation tool_ available in any language. It is already well on its way toward this goal.\n",
    "\n",
    "* \"relational\": the list of data is identified with some unique index (like a `SQL` table)\n",
    "* \"labeled\": the list is identified with a key, like the previous `odd` or `even` keys.\n"
   ]
  },
  {
   "cell_type": "markdown",
   "metadata": {
    "id": "sDC5HnPOicTg"
   },
   "source": [
    "For example. A double bracket `[[...]]`, can be used to filter data.\n",
    "\n",
    "A row in a two-dimensional `DataFrame` corresponds to `Series` with the same keys of the `DataFrame`, but with single values instead of a list "
   ]
  },
  {
   "cell_type": "code",
   "execution_count": null,
   "metadata": {
    "colab": {
     "base_uri": "https://localhost:8080/",
     "height": 79
    },
    "id": "UfyqbhjXigZc",
    "outputId": "e3746f0d-f4a3-4216-d150-fc38966f86d2"
   },
   "outputs": [
    {
     "data": {
      "text/html": [
       "<div>\n",
       "<style scoped>\n",
       "    .dataframe tbody tr th:only-of-type {\n",
       "        vertical-align: middle;\n",
       "    }\n",
       "\n",
       "    .dataframe tbody tr th {\n",
       "        vertical-align: top;\n",
       "    }\n",
       "\n",
       "    .dataframe thead th {\n",
       "        text-align: right;\n",
       "    }\n",
       "</style>\n",
       "<table border=\"1\" class=\"dataframe\">\n",
       "  <thead>\n",
       "    <tr style=\"text-align: right;\">\n",
       "      <th></th>\n",
       "      <th>even</th>\n",
       "      <th>odd</th>\n",
       "    </tr>\n",
       "  </thead>\n",
       "  <tbody>\n",
       "    <tr>\n",
       "      <th>0</th>\n",
       "      <td>0</td>\n",
       "      <td>1</td>\n",
       "    </tr>\n",
       "  </tbody>\n",
       "</table>\n",
       "</div>"
      ],
      "text/plain": [
       "   even  odd\n",
       "0     0    1"
      ]
     },
     "execution_count": 63,
     "metadata": {
      "tags": []
     },
     "output_type": "execute_result"
    }
   ],
   "source": [
    "df.loc[[0]]"
   ]
  },
  {
   "cell_type": "code",
   "execution_count": null,
   "metadata": {
    "colab": {
     "base_uri": "https://localhost:8080/"
    },
    "id": "-dANKUEoi78M",
    "outputId": "a9345db3-efdb-4a8c-afc6-7e53d34f320f"
   },
   "outputs": [
    {
     "name": "stdout",
     "output_type": "stream",
     "text": [
      "the row has\n",
      "                  keys: ['even', 'odd'] and values: [0 1]\n",
      "like the dictionay:\n",
      "                      { 'even' : 0, 'odd' : 1 }\n"
     ]
    }
   ],
   "source": [
    "print( 'the row has' )\n",
    "print( '                  keys: {} and values: {}'.format( list( df.loc[[0]].keys() ),df.loc[[0]].values[0]  ) )\n",
    "print( \"like the dictionay:\" )\n",
    "print( \"                      { 'even' : 0, 'odd' : 1 }\")"
   ]
  },
  {
   "cell_type": "markdown",
   "metadata": {
    "id": "p7MgQWMijI0W"
   },
   "source": [
    "To filter a column:"
   ]
  },
  {
   "cell_type": "code",
   "execution_count": null,
   "metadata": {
    "colab": {
     "base_uri": "https://localhost:8080/",
     "height": 202
    },
    "id": "nT_SkKMIjMWY",
    "outputId": "0f9659da-bda9-4d31-bc49-495771870203"
   },
   "outputs": [
    {
     "data": {
      "text/html": [
       "<div>\n",
       "<style scoped>\n",
       "    .dataframe tbody tr th:only-of-type {\n",
       "        vertical-align: middle;\n",
       "    }\n",
       "\n",
       "    .dataframe tbody tr th {\n",
       "        vertical-align: top;\n",
       "    }\n",
       "\n",
       "    .dataframe thead th {\n",
       "        text-align: right;\n",
       "    }\n",
       "</style>\n",
       "<table border=\"1\" class=\"dataframe\">\n",
       "  <thead>\n",
       "    <tr style=\"text-align: right;\">\n",
       "      <th></th>\n",
       "      <th>odd</th>\n",
       "    </tr>\n",
       "  </thead>\n",
       "  <tbody>\n",
       "    <tr>\n",
       "      <th>0</th>\n",
       "      <td>1</td>\n",
       "    </tr>\n",
       "    <tr>\n",
       "      <th>1</th>\n",
       "      <td>3</td>\n",
       "    </tr>\n",
       "    <tr>\n",
       "      <th>2</th>\n",
       "      <td>5</td>\n",
       "    </tr>\n",
       "    <tr>\n",
       "      <th>3</th>\n",
       "      <td>7</td>\n",
       "    </tr>\n",
       "    <tr>\n",
       "      <th>4</th>\n",
       "      <td>9</td>\n",
       "    </tr>\n",
       "  </tbody>\n",
       "</table>\n",
       "</div>"
      ],
      "text/plain": [
       "   odd\n",
       "0    1\n",
       "1    3\n",
       "2    5\n",
       "3    7\n",
       "4    9"
      ]
     },
     "execution_count": 65,
     "metadata": {
      "tags": []
     },
     "output_type": "execute_result"
    }
   ],
   "source": [
    "df[['odd']]"
   ]
  },
  {
   "cell_type": "markdown",
   "metadata": {
    "id": "ElU5h9tnxE1Y"
   },
   "source": [
    "### More on `Series`"
   ]
  },
  {
   "cell_type": "markdown",
   "metadata": {
    "id": "pg20NksOjdQW"
   },
   "source": [
    "A `Pandas` `Series` object can be just initialized from a `Python` dictionary:"
   ]
  },
  {
   "cell_type": "code",
   "execution_count": null,
   "metadata": {
    "colab": {
     "base_uri": "https://localhost:8080/"
    },
    "id": "qjuk_nn0jgFH",
    "outputId": "bef3b600-cc44-49ff-ba0e-aec2e82ef70e"
   },
   "outputs": [
    {
     "data": {
      "text/plain": [
       "Name           Juan Valdez\n",
       "Nacionality       Colombia\n",
       "Age                     23\n",
       "dtype: object"
      ]
     },
     "execution_count": 66,
     "metadata": {
      "tags": []
     },
     "output_type": "execute_result"
    }
   ],
   "source": [
    "s=pd.Series({'Name':'Juan Valdez','Nacionality':'Colombia','Age':23})\n",
    "s"
   ]
  },
  {
   "cell_type": "code",
   "execution_count": 22,
   "metadata": {},
   "outputs": [
    {
     "data": {
      "text/html": [
       "<div>\n",
       "<style scoped>\n",
       "    .dataframe tbody tr th:only-of-type {\n",
       "        vertical-align: middle;\n",
       "    }\n",
       "\n",
       "    .dataframe tbody tr th {\n",
       "        vertical-align: top;\n",
       "    }\n",
       "\n",
       "    .dataframe thead th {\n",
       "        text-align: right;\n",
       "    }\n",
       "</style>\n",
       "<table border=\"1\" class=\"dataframe\">\n",
       "  <thead>\n",
       "    <tr style=\"text-align: right;\">\n",
       "      <th></th>\n",
       "      <th>hola</th>\n",
       "      <th>mundo</th>\n",
       "    </tr>\n",
       "  </thead>\n",
       "  <tbody>\n",
       "    <tr>\n",
       "      <th>0</th>\n",
       "      <td>1</td>\n",
       "      <td>5</td>\n",
       "    </tr>\n",
       "    <tr>\n",
       "      <th>1</th>\n",
       "      <td>2</td>\n",
       "      <td>6</td>\n",
       "    </tr>\n",
       "    <tr>\n",
       "      <th>2</th>\n",
       "      <td>3</td>\n",
       "      <td>7</td>\n",
       "    </tr>\n",
       "    <tr>\n",
       "      <th>3</th>\n",
       "      <td>4</td>\n",
       "      <td>8</td>\n",
       "    </tr>\n",
       "  </tbody>\n",
       "</table>\n",
       "</div>"
      ],
      "text/plain": [
       "   hola  mundo\n",
       "0     1      5\n",
       "1     2      6\n",
       "2     3      7\n",
       "3     4      8"
      ]
     },
     "execution_count": 22,
     "metadata": {},
     "output_type": "execute_result"
    }
   ],
   "source": [
    "#s=pd.DataFrame({'Name':'Juan Valdez','Nacionality':'Colombia','Age':23})\n",
    "diccionario=({\"hola\":[1,2,3,4],\"mundo\":[5,6,7,8]})\n",
    "Df=pd.DataFrame(diccionario)#DataFrame\n",
    "ser=pd.Series(diccionario)#serie\n"
   ]
  },
  {
   "cell_type": "code",
   "execution_count": null,
   "metadata": {
    "colab": {
     "base_uri": "https://localhost:8080/",
     "height": 35
    },
    "id": "pAtixllExE1Z",
    "outputId": "38d914a6-eda1-4fb4-a139-a79efc05bea5"
   },
   "outputs": [
    {
     "data": {
      "application/vnd.google.colaboratory.intrinsic+json": {
       "type": "string"
      },
      "text/plain": [
       "'Juan Valdez'"
      ]
     },
     "execution_count": 67,
     "metadata": {
      "tags": []
     },
     "output_type": "execute_result"
    }
   ],
   "source": [
    "s['Name']"
   ]
  },
  {
   "cell_type": "markdown",
   "metadata": {
    "id": "pYb112eqxE1e"
   },
   "source": [
    "but also as containers of name spaces!"
   ]
  },
  {
   "cell_type": "code",
   "execution_count": null,
   "metadata": {
    "colab": {
     "base_uri": "https://localhost:8080/",
     "height": 35
    },
    "id": "6_GfsFVwxE1f",
    "outputId": "01e6c2e2-5ff7-4363-a5e6-e677873f39d6"
   },
   "outputs": [
    {
     "data": {
      "application/vnd.google.colaboratory.intrinsic+json": {
       "type": "string"
      },
      "text/plain": [
       "'Juan Valdez'"
      ]
     },
     "execution_count": 68,
     "metadata": {
      "tags": []
     },
     "output_type": "execute_result"
    }
   ],
   "source": [
    "s.Name"
   ]
  },
  {
   "cell_type": "markdown",
   "metadata": {
    "id": "Kab6pfyMxE1k"
   },
   "source": [
    "## `DataFrame` initialization"
   ]
  },
  {
   "cell_type": "markdown",
   "metadata": {
    "id": "4zhJVNq1pTTe"
   },
   "source": [
    "### Initization from an existing spreadsheet. \n",
    "This can be locally in your computer o from some downloadable  link"
   ]
  },
  {
   "cell_type": "code",
   "execution_count": null,
   "metadata": {
    "colab": {
     "base_uri": "https://localhost:8080/",
     "height": 110
    },
    "id": "yM4oF9r-pWsw",
    "outputId": "3f2689f2-a81f-4b0b-d4eb-514b93e28ec1"
   },
   "outputs": [
    {
     "data": {
      "text/html": [
       "<div>\n",
       "<style scoped>\n",
       "    .dataframe tbody tr th:only-of-type {\n",
       "        vertical-align: middle;\n",
       "    }\n",
       "\n",
       "    .dataframe tbody tr th {\n",
       "        vertical-align: top;\n",
       "    }\n",
       "\n",
       "    .dataframe thead th {\n",
       "        text-align: right;\n",
       "    }\n",
       "</style>\n",
       "<table border=\"1\" class=\"dataframe\">\n",
       "  <thead>\n",
       "    <tr style=\"text-align: right;\">\n",
       "      <th></th>\n",
       "      <th>Nombre</th>\n",
       "      <th>Edad</th>\n",
       "      <th>Compañia</th>\n",
       "    </tr>\n",
       "  </thead>\n",
       "  <tbody>\n",
       "    <tr>\n",
       "      <th>0</th>\n",
       "      <td>Juan Valdez</td>\n",
       "      <td>23</td>\n",
       "      <td>Café de Colombia</td>\n",
       "    </tr>\n",
       "    <tr>\n",
       "      <th>1</th>\n",
       "      <td>Álvaro Uribe Vélez</td>\n",
       "      <td>65</td>\n",
       "      <td>Senado de la República</td>\n",
       "    </tr>\n",
       "  </tbody>\n",
       "</table>\n",
       "</div>"
      ],
      "text/plain": [
       "               Nombre  Edad                Compañia\n",
       "0         Juan Valdez    23        Café de Colombia\n",
       "1  Álvaro Uribe Vélez    65  Senado de la República"
      ]
     },
     "execution_count": 70,
     "metadata": {
      "tags": []
     },
     "output_type": "execute_result"
    }
   ],
   "source": [
    "df=pd.read_excel('http://bit.ly/spreadsheet_xlsx')\n",
    "df"
   ]
  },
  {
   "cell_type": "markdown",
   "metadata": {
    "id": "QM4z4MoXpjLj"
   },
   "source": [
    "To make a downloadable link for any spread sheet in Google Drive, follow the sequence:\n",
    "```\n",
    "File → Publish to the web...→ Entire Document → Web page → Microsoft excel (xlsx)\n",
    "```\n",
    "as illustrated in the figure:\n",
    "![GS](https://github.com/restrepo/data-analysis/blob/master/img/img1.png?raw=1)"
   ]
  },
  {
   "cell_type": "code",
   "execution_count": null,
   "metadata": {
    "colab": {
     "base_uri": "https://localhost:8080/",
     "height": 110
    },
    "id": "29uXQfWjpx66",
    "outputId": "af4f340f-1c18-4831-9928-eec414cf2a43"
   },
   "outputs": [
    {
     "data": {
      "text/html": [
       "<div>\n",
       "<style scoped>\n",
       "    .dataframe tbody tr th:only-of-type {\n",
       "        vertical-align: middle;\n",
       "    }\n",
       "\n",
       "    .dataframe tbody tr th {\n",
       "        vertical-align: top;\n",
       "    }\n",
       "\n",
       "    .dataframe thead th {\n",
       "        text-align: right;\n",
       "    }\n",
       "</style>\n",
       "<table border=\"1\" class=\"dataframe\">\n",
       "  <thead>\n",
       "    <tr style=\"text-align: right;\">\n",
       "      <th></th>\n",
       "      <th>Nombre</th>\n",
       "      <th>Edad</th>\n",
       "      <th>Compañia</th>\n",
       "    </tr>\n",
       "  </thead>\n",
       "  <tbody>\n",
       "    <tr>\n",
       "      <th>0</th>\n",
       "      <td>Juan Valdez</td>\n",
       "      <td>32</td>\n",
       "      <td>Café de Colombia</td>\n",
       "    </tr>\n",
       "    <tr>\n",
       "      <th>1</th>\n",
       "      <td>Álvaro Uribe Vélez</td>\n",
       "      <td>65</td>\n",
       "      <td>Senado de la República</td>\n",
       "    </tr>\n",
       "  </tbody>\n",
       "</table>\n",
       "</div>"
      ],
      "text/plain": [
       "               Nombre  Edad                Compañia\n",
       "0         Juan Valdez    32        Café de Colombia\n",
       "1  Álvaro Uribe Vélez    65  Senado de la República"
      ]
     },
     "execution_count": 71,
     "metadata": {
      "tags": []
     },
     "output_type": "execute_result"
    }
   ],
   "source": [
    "df.loc[0,'Edad']=32\n",
    "#df.at[0,'Edad']=32\n",
    "df"
   ]
  },
  {
   "cell_type": "markdown",
   "metadata": {
    "id": "eeZzLpDUpqbS"
   },
   "source": [
    "*After* some modification"
   ]
  },
  {
   "cell_type": "markdown",
   "metadata": {
    "id": "TRjW0Y4Rpv-i"
   },
   "source": [
    "it can be saved again as an `excel file` with the option to not create a column of indices: `index=False`"
   ]
  },
  {
   "cell_type": "markdown",
   "metadata": {
    "id": "QZUHeScjp6cC"
   },
   "source": [
    "### Intialization from lists and dictionaries"
   ]
  },
  {
   "cell_type": "markdown",
   "metadata": {
    "id": "5ulKgKBRxE1m"
   },
   "source": [
    "#### Inizialization from Series\n",
    "We start with an empty `DataFrame`:"
   ]
  },
  {
   "cell_type": "markdown",
   "metadata": {
    "id": "J-F92xHmp8v7"
   },
   "source": [
    "Creating Pandas DataFrame from list and dictionaries [offers many alternatives](http://pbpython.com/pandas-list-dict.html)\n",
    "\n",
    "![creating dataframes](http://pbpython.com/images/pandas-dataframe-shadow.png)\n",
    "\n",
    "#### Row oriented way\n",
    "* In addition to the dictionary of lists [already illustrated at the beginning]() that in this case corresponds to:"
   ]
  },
  {
   "cell_type": "code",
   "execution_count": null,
   "metadata": {
    "colab": {
     "base_uri": "https://localhost:8080/",
     "height": 110
    },
    "id": "7IOuJCeMqBRj",
    "outputId": "78304f7a-4aed-4a61-d193-a234ca42bff8"
   },
   "outputs": [
    {
     "data": {
      "text/html": [
       "<div>\n",
       "<style scoped>\n",
       "    .dataframe tbody tr th:only-of-type {\n",
       "        vertical-align: middle;\n",
       "    }\n",
       "\n",
       "    .dataframe tbody tr th {\n",
       "        vertical-align: top;\n",
       "    }\n",
       "\n",
       "    .dataframe thead th {\n",
       "        text-align: right;\n",
       "    }\n",
       "</style>\n",
       "<table border=\"1\" class=\"dataframe\">\n",
       "  <thead>\n",
       "    <tr style=\"text-align: right;\">\n",
       "      <th></th>\n",
       "      <th>Nombre</th>\n",
       "      <th>Edad</th>\n",
       "      <th>Compañia</th>\n",
       "    </tr>\n",
       "  </thead>\n",
       "  <tbody>\n",
       "    <tr>\n",
       "      <th>0</th>\n",
       "      <td>Juan Valdez</td>\n",
       "      <td>32</td>\n",
       "      <td>Café de Colombia</td>\n",
       "    </tr>\n",
       "    <tr>\n",
       "      <th>1</th>\n",
       "      <td>Álvaro Uribe Vélez</td>\n",
       "      <td>65</td>\n",
       "      <td>Senado de la República</td>\n",
       "    </tr>\n",
       "  </tbody>\n",
       "</table>\n",
       "</div>"
      ],
      "text/plain": [
       "               Nombre  Edad                Compañia\n",
       "0         Juan Valdez    32        Café de Colombia\n",
       "1  Álvaro Uribe Vélez    65  Senado de la República"
      ]
     },
     "execution_count": 75,
     "metadata": {
      "tags": []
     },
     "output_type": "execute_result"
    }
   ],
   "source": [
    "pd.DataFrame({'Nombre'   : ['Juan Valdez','Álvaro Uribe Vélez'],\n",
    "              'Edad'     : [32,            65                 ],\n",
    "              'Compañia' : ['Café de Colombia','Senado de la República']})\n",
    "#diccionario  fila orientada"
   ]
  },
  {
   "cell_type": "markdown",
   "metadata": {
    "id": "nJLhj4G4qJZb"
   },
   "source": [
    "* We can obtain the DataFrame from list of items"
   ]
  },
  {
   "cell_type": "code",
   "execution_count": null,
   "metadata": {
    "colab": {
     "base_uri": "https://localhost:8080/",
     "height": 141
    },
    "id": "p755U93VqKLC",
    "outputId": "f8471c87-6320-423c-fa25-6d487f75d6d1"
   },
   "outputs": [
    {
     "data": {
      "text/html": [
       "<div>\n",
       "<style scoped>\n",
       "    .dataframe tbody tr th:only-of-type {\n",
       "        vertical-align: middle;\n",
       "    }\n",
       "\n",
       "    .dataframe tbody tr th {\n",
       "        vertical-align: top;\n",
       "    }\n",
       "\n",
       "    .dataframe thead th {\n",
       "        text-align: right;\n",
       "    }\n",
       "</style>\n",
       "<table border=\"1\" class=\"dataframe\">\n",
       "  <thead>\n",
       "    <tr style=\"text-align: right;\">\n",
       "      <th></th>\n",
       "      <th>0</th>\n",
       "      <th>1</th>\n",
       "    </tr>\n",
       "  </thead>\n",
       "  <tbody>\n",
       "    <tr>\n",
       "      <th>0</th>\n",
       "      <td>Nombre</td>\n",
       "      <td>[Juan Valdez, Álvaro Uribe Vélez]</td>\n",
       "    </tr>\n",
       "    <tr>\n",
       "      <th>1</th>\n",
       "      <td>Edad</td>\n",
       "      <td>[32, 65]</td>\n",
       "    </tr>\n",
       "    <tr>\n",
       "      <th>2</th>\n",
       "      <td>Compañia</td>\n",
       "      <td>[Café de Colombia, Senado de la República]</td>\n",
       "    </tr>\n",
       "  </tbody>\n",
       "</table>\n",
       "</div>"
      ],
      "text/plain": [
       "          0                                           1\n",
       "0    Nombre           [Juan Valdez, Álvaro Uribe Vélez]\n",
       "1      Edad                                    [32, 65]\n",
       "2  Compañia  [Café de Colombia, Senado de la República]"
      ]
     },
     "execution_count": 77,
     "metadata": {
      "tags": []
     },
     "output_type": "execute_result"
    }
   ],
   "source": [
    "pd.DataFrame.from_dict([ [ 'Nombre'  , ['Juan Valdez','Álvaro Uribe Vélez']],\n",
    "                          [ 'Edad'    , [  32,            65               ]],\n",
    "                          [ 'Compañia', ['Café de Colombia','Senado de la República']] ])\n",
    "#diccionario  columna orientada"
   ]
  },
  {
   "cell_type": "markdown",
   "metadata": {
    "id": "J6tp94TlqO_S"
   },
   "source": [
    "* We can obtain the `DataFrame` from dictionary"
   ]
  },
  {
   "cell_type": "code",
   "execution_count": null,
   "metadata": {
    "colab": {
     "base_uri": "https://localhost:8080/",
     "height": 110
    },
    "id": "wx-JJgqIqQAD",
    "outputId": "bd071966-5a64-4bb6-caa4-0e0aa977572d"
   },
   "outputs": [
    {
     "data": {
      "text/html": [
       "<div>\n",
       "<style scoped>\n",
       "    .dataframe tbody tr th:only-of-type {\n",
       "        vertical-align: middle;\n",
       "    }\n",
       "\n",
       "    .dataframe tbody tr th {\n",
       "        vertical-align: top;\n",
       "    }\n",
       "\n",
       "    .dataframe thead th {\n",
       "        text-align: right;\n",
       "    }\n",
       "</style>\n",
       "<table border=\"1\" class=\"dataframe\">\n",
       "  <thead>\n",
       "    <tr style=\"text-align: right;\">\n",
       "      <th></th>\n",
       "      <th>Nombre</th>\n",
       "      <th>Edad</th>\n",
       "      <th>Compañia</th>\n",
       "    </tr>\n",
       "  </thead>\n",
       "  <tbody>\n",
       "    <tr>\n",
       "      <th>0</th>\n",
       "      <td>Juan Valdez</td>\n",
       "      <td>32</td>\n",
       "      <td>Café de Colombia</td>\n",
       "    </tr>\n",
       "    <tr>\n",
       "      <th>1</th>\n",
       "      <td>Álvaro Uribe Vélez</td>\n",
       "      <td>65</td>\n",
       "      <td>Senado de la República</td>\n",
       "    </tr>\n",
       "  </tbody>\n",
       "</table>\n",
       "</div>"
      ],
      "text/plain": [
       "               Nombre  Edad                Compañia\n",
       "0         Juan Valdez    32        Café de Colombia\n",
       "1  Álvaro Uribe Vélez    65  Senado de la República"
      ]
     },
     "execution_count": 78,
     "metadata": {
      "tags": []
     },
     "output_type": "execute_result"
    }
   ],
   "source": [
    "#obtener el data frame directamente desde el diccionario\n",
    "pd.DataFrame( [{'Nombre':'Juan Valdez',        'Edad': 32   ,'Compañia':'Café de Colombia'      },\n",
    "              {'Nombre':'Álvaro Uribe Vélez', 'Edad': 65   ,'Compañia':'Senado de la República'}])"
   ]
  },
  {
   "cell_type": "code",
   "execution_count": null,
   "metadata": {
    "colab": {
     "base_uri": "https://localhost:8080/",
     "height": 32
    },
    "id": "jPsRspsXxE1n",
    "outputId": "b2b74934-9d81-4d66-d408-46e6699bf85a"
   },
   "outputs": [
    {
     "data": {
      "text/html": [
       "<div>\n",
       "<style scoped>\n",
       "    .dataframe tbody tr th:only-of-type {\n",
       "        vertical-align: middle;\n",
       "    }\n",
       "\n",
       "    .dataframe tbody tr th {\n",
       "        vertical-align: top;\n",
       "    }\n",
       "\n",
       "    .dataframe thead th {\n",
       "        text-align: right;\n",
       "    }\n",
       "</style>\n",
       "<table border=\"1\" class=\"dataframe\">\n",
       "  <thead>\n",
       "    <tr style=\"text-align: right;\">\n",
       "      <th></th>\n",
       "    </tr>\n",
       "  </thead>\n",
       "  <tbody>\n",
       "  </tbody>\n",
       "</table>\n",
       "</div>"
      ],
      "text/plain": [
       "Empty DataFrame\n",
       "Columns: []\n",
       "Index: []"
      ]
     },
     "execution_count": 79,
     "metadata": {
      "tags": []
     },
     "output_type": "execute_result"
    }
   ],
   "source": [
    "df=pd.DataFrame() #crear ua tabla vacía\n",
    "df"
   ]
  },
  {
   "cell_type": "markdown",
   "metadata": {
    "id": "_ylhD2zjqdby"
   },
   "source": [
    "### Initialization from sequential rows as  Series\n",
    "We start with an empty `DataFrame`:"
   ]
  },
  {
   "cell_type": "code",
   "execution_count": null,
   "metadata": {
    "colab": {
     "base_uri": "https://localhost:8080/"
    },
    "id": "r6V0qilXqxBB",
    "outputId": "e04bbdba-5149-45b3-defd-92cc625c6dd6"
   },
   "outputs": [
    {
     "data": {
      "text/plain": [
       "True"
      ]
     },
     "execution_count": 85,
     "metadata": {
      "tags": []
     },
     "output_type": "execute_result"
    }
   ],
   "source": [
    "df=pd.DataFrame()\n",
    "df.empty"
   ]
  },
  {
   "cell_type": "markdown",
   "metadata": {
    "id": "f0OJapjvxE1q"
   },
   "source": [
    "We can append a dictionary (or Series) as a row of the `DataFrame`, provided that we always use the option: `ignore_index=True`"
   ]
  },
  {
   "cell_type": "code",
   "execution_count": null,
   "metadata": {
    "colab": {
     "base_uri": "https://localhost:8080/",
     "height": 79
    },
    "id": "AgR5uPbxrA6q",
    "outputId": "3344edf4-cf0e-44c4-877a-920ca21a5edf"
   },
   "outputs": [
    {
     "data": {
      "text/html": [
       "<div>\n",
       "<style scoped>\n",
       "    .dataframe tbody tr th:only-of-type {\n",
       "        vertical-align: middle;\n",
       "    }\n",
       "\n",
       "    .dataframe tbody tr th {\n",
       "        vertical-align: top;\n",
       "    }\n",
       "\n",
       "    .dataframe thead th {\n",
       "        text-align: right;\n",
       "    }\n",
       "</style>\n",
       "<table border=\"1\" class=\"dataframe\">\n",
       "  <thead>\n",
       "    <tr style=\"text-align: right;\">\n",
       "      <th></th>\n",
       "      <th>Age</th>\n",
       "      <th>Nacionality</th>\n",
       "      <th>Name</th>\n",
       "    </tr>\n",
       "  </thead>\n",
       "  <tbody>\n",
       "    <tr>\n",
       "      <th>0</th>\n",
       "      <td>23.0</td>\n",
       "      <td>Colombia</td>\n",
       "      <td>Juan Valdez</td>\n",
       "    </tr>\n",
       "  </tbody>\n",
       "</table>\n",
       "</div>"
      ],
      "text/plain": [
       "    Age Nacionality         Name\n",
       "0  23.0    Colombia  Juan Valdez"
      ]
     },
     "execution_count": 86,
     "metadata": {
      "tags": []
     },
     "output_type": "execute_result"
    }
   ],
   "source": [
    "d={'Name':'Juan Valdez','Nacionality':'Colombia','Age':23}\n",
    "df=df.append(d,ignore_index=True)\n",
    "df"
   ]
  },
  {
   "cell_type": "markdown",
   "metadata": {
    "id": "32Oh_stDxE1w"
   },
   "source": [
    "We can fix the type of data of the `'Age'` column"
   ]
  },
  {
   "cell_type": "code",
   "execution_count": null,
   "metadata": {
    "colab": {
     "base_uri": "https://localhost:8080/"
    },
    "id": "-Jk5bSRGxE1y",
    "outputId": "82db65fc-8efb-478e-da28-57fc0f09c423"
   },
   "outputs": [
    {
     "data": {
      "text/plain": [
       "numpy.float64"
      ]
     },
     "execution_count": 87,
     "metadata": {
      "tags": []
     },
     "output_type": "execute_result"
    }
   ],
   "source": [
    "type(df.Age[0])"
   ]
  },
  {
   "cell_type": "code",
   "execution_count": null,
   "metadata": {
    "colab": {
     "base_uri": "https://localhost:8080/",
     "height": 79
    },
    "id": "vl9RKEBXxE12",
    "outputId": "e51a404d-336a-4ac5-8be4-778b03eec4c5"
   },
   "outputs": [
    {
     "data": {
      "text/html": [
       "<div>\n",
       "<style scoped>\n",
       "    .dataframe tbody tr th:only-of-type {\n",
       "        vertical-align: middle;\n",
       "    }\n",
       "\n",
       "    .dataframe tbody tr th {\n",
       "        vertical-align: top;\n",
       "    }\n",
       "\n",
       "    .dataframe thead th {\n",
       "        text-align: right;\n",
       "    }\n",
       "</style>\n",
       "<table border=\"1\" class=\"dataframe\">\n",
       "  <thead>\n",
       "    <tr style=\"text-align: right;\">\n",
       "      <th></th>\n",
       "      <th>Age</th>\n",
       "      <th>Nacionality</th>\n",
       "      <th>Name</th>\n",
       "    </tr>\n",
       "  </thead>\n",
       "  <tbody>\n",
       "    <tr>\n",
       "      <th>0</th>\n",
       "      <td>23</td>\n",
       "      <td>Colombia</td>\n",
       "      <td>Juan Valdez</td>\n",
       "    </tr>\n",
       "  </tbody>\n",
       "</table>\n",
       "</div>"
      ],
      "text/plain": [
       "   Age Nacionality         Name\n",
       "0   23    Colombia  Juan Valdez"
      ]
     },
     "execution_count": 88,
     "metadata": {
      "tags": []
     },
     "output_type": "execute_result"
    }
   ],
   "source": [
    "df['Age']=df.Age.astype(int)\n",
    "df"
   ]
  },
  {
   "cell_type": "markdown",
   "metadata": {
    "id": "npH4wLrNxE17"
   },
   "source": [
    "To add a second file we build another `dict`"
   ]
  },
  {
   "cell_type": "code",
   "execution_count": null,
   "metadata": {
    "colab": {
     "base_uri": "https://localhost:8080/"
    },
    "id": "nTwRmub3xE18",
    "outputId": "8d21abb1-eb10-4772-fbfe-f2d898028458"
   },
   "outputs": [
    {
     "name": "stdout",
     "output_type": "stream",
     "text": [
      "Name:\n",
      "Yennifer Yuliana\n",
      "Nacionality:\n",
      "Colombiana\n",
      "Age:\n",
      "20\n",
      "Company:\n",
      "Universidad de Antioquia\n"
     ]
    }
   ],
   "source": [
    "d={}\n",
    "for k in ['Name','Nacionality','Age','Company']:\n",
    "    var=input('{}:\\n'.format(k))\n",
    "    d[k]=var"
   ]
  },
  {
   "cell_type": "markdown",
   "metadata": {
    "id": "t8Xzsb0qxE1-"
   },
   "source": [
    "#### Exercises\n",
    "* Display the resulting `Series` in the screen:"
   ]
  },
  {
   "cell_type": "code",
   "execution_count": null,
   "metadata": {
    "id": "OE_r4rwCzq-X"
   },
   "outputs": [],
   "source": []
  },
  {
   "cell_type": "markdown",
   "metadata": {
    "id": "sSPUdkvtxE2C"
   },
   "source": [
    "* Append to the previous `DataFrame` and visualize it:"
   ]
  },
  {
   "cell_type": "code",
   "execution_count": null,
   "metadata": {
    "colab": {
     "base_uri": "https://localhost:8080/",
     "height": 141
    },
    "id": "vRRypFa_xE2D",
    "outputId": "0bfa941c-d193-4d9b-e8e7-20d8b3a312be"
   },
   "outputs": [
    {
     "data": {
      "text/html": [
       "<div>\n",
       "<style scoped>\n",
       "    .dataframe tbody tr th:only-of-type {\n",
       "        vertical-align: middle;\n",
       "    }\n",
       "\n",
       "    .dataframe tbody tr th {\n",
       "        vertical-align: top;\n",
       "    }\n",
       "\n",
       "    .dataframe thead th {\n",
       "        text-align: right;\n",
       "    }\n",
       "</style>\n",
       "<table border=\"1\" class=\"dataframe\">\n",
       "  <thead>\n",
       "    <tr style=\"text-align: right;\">\n",
       "      <th></th>\n",
       "      <th>Age</th>\n",
       "      <th>Nacionality</th>\n",
       "      <th>Name</th>\n",
       "      <th>Company</th>\n",
       "    </tr>\n",
       "  </thead>\n",
       "  <tbody>\n",
       "    <tr>\n",
       "      <th>0</th>\n",
       "      <td>23</td>\n",
       "      <td>Colombia</td>\n",
       "      <td>Juan Valdez</td>\n",
       "      <td>NaN</td>\n",
       "    </tr>\n",
       "    <tr>\n",
       "      <th>1</th>\n",
       "      <td>20</td>\n",
       "      <td>Colombiana</td>\n",
       "      <td>Yennifer Yuliana</td>\n",
       "      <td>Universidad de Antioquia</td>\n",
       "    </tr>\n",
       "    <tr>\n",
       "      <th>2</th>\n",
       "      <td>20</td>\n",
       "      <td>Colombiana</td>\n",
       "      <td>Yennifer Yuliana</td>\n",
       "      <td>Universidad de Antioquia</td>\n",
       "    </tr>\n",
       "  </tbody>\n",
       "</table>\n",
       "</div>"
      ],
      "text/plain": [
       "  Age Nacionality              Name                   Company\n",
       "0  23    Colombia       Juan Valdez                       NaN\n",
       "1  20  Colombiana  Yennifer Yuliana  Universidad de Antioquia\n",
       "2  20  Colombiana  Yennifer Yuliana  Universidad de Antioquia"
      ]
     },
     "execution_count": 93,
     "metadata": {
      "tags": []
     },
     "output_type": "execute_result"
    }
   ],
   "source": [
    "df=df.append(d,ignore_index=True)\n",
    "df"
   ]
  },
  {
   "cell_type": "markdown",
   "metadata": {
    "id": "wLUED3NWxE2G"
   },
   "source": [
    "* Fill NaN with empty strings"
   ]
  },
  {
   "cell_type": "code",
   "execution_count": null,
   "metadata": {
    "colab": {
     "base_uri": "https://localhost:8080/",
     "height": 141
    },
    "id": "28rp4v3BxE2I",
    "outputId": "5d69b7b0-57b9-4c73-bda7-eb8c053e290a"
   },
   "outputs": [
    {
     "data": {
      "text/html": [
       "<div>\n",
       "<style scoped>\n",
       "    .dataframe tbody tr th:only-of-type {\n",
       "        vertical-align: middle;\n",
       "    }\n",
       "\n",
       "    .dataframe tbody tr th {\n",
       "        vertical-align: top;\n",
       "    }\n",
       "\n",
       "    .dataframe thead th {\n",
       "        text-align: right;\n",
       "    }\n",
       "</style>\n",
       "<table border=\"1\" class=\"dataframe\">\n",
       "  <thead>\n",
       "    <tr style=\"text-align: right;\">\n",
       "      <th></th>\n",
       "      <th>Age</th>\n",
       "      <th>Nacionality</th>\n",
       "      <th>Name</th>\n",
       "      <th>Company</th>\n",
       "    </tr>\n",
       "  </thead>\n",
       "  <tbody>\n",
       "    <tr>\n",
       "      <th>0</th>\n",
       "      <td>23</td>\n",
       "      <td>Colombia</td>\n",
       "      <td>Juan Valdez</td>\n",
       "      <td></td>\n",
       "    </tr>\n",
       "    <tr>\n",
       "      <th>1</th>\n",
       "      <td>20</td>\n",
       "      <td>Colombiana</td>\n",
       "      <td>Yennifer Yuliana</td>\n",
       "      <td>Universidad de Antioquia</td>\n",
       "    </tr>\n",
       "    <tr>\n",
       "      <th>2</th>\n",
       "      <td>20</td>\n",
       "      <td>Colombiana</td>\n",
       "      <td>Yennifer Yuliana</td>\n",
       "      <td>Universidad de Antioquia</td>\n",
       "    </tr>\n",
       "  </tbody>\n",
       "</table>\n",
       "</div>"
      ],
      "text/plain": [
       "  Age Nacionality              Name                   Company\n",
       "0  23    Colombia       Juan Valdez                          \n",
       "1  20  Colombiana  Yennifer Yuliana  Universidad de Antioquia\n",
       "2  20  Colombiana  Yennifer Yuliana  Universidad de Antioquia"
      ]
     },
     "execution_count": 97,
     "metadata": {
      "tags": []
     },
     "output_type": "execute_result"
    }
   ],
   "source": [
    "df=df.fillna('')\n",
    "df"
   ]
  },
  {
   "cell_type": "markdown",
   "metadata": {
    "id": "K3feFAfYxE2K"
   },
   "source": [
    "* Save `Pandas` `DataFrame` as an Excel file"
   ]
  },
  {
   "cell_type": "code",
   "execution_count": null,
   "metadata": {
    "id": "fdxuA_FAxE2L"
   },
   "outputs": [],
   "source": [
    "df.to_excel('prof.xlsx',index=False)"
   ]
  },
  {
   "cell_type": "markdown",
   "metadata": {
    "id": "evWZKwEPxE2O"
   },
   "source": [
    "* Load pandas DataFrame from the saved file in Excel"
   ]
  },
  {
   "cell_type": "code",
   "execution_count": null,
   "metadata": {
    "colab": {
     "base_uri": "https://localhost:8080/",
     "height": 141
    },
    "id": "xl7KUNVCxE2P",
    "outputId": "499ef70e-480a-4f04-96ae-c8e555a11a68"
   },
   "outputs": [
    {
     "data": {
      "text/html": [
       "<div>\n",
       "<style scoped>\n",
       "    .dataframe tbody tr th:only-of-type {\n",
       "        vertical-align: middle;\n",
       "    }\n",
       "\n",
       "    .dataframe tbody tr th {\n",
       "        vertical-align: top;\n",
       "    }\n",
       "\n",
       "    .dataframe thead th {\n",
       "        text-align: right;\n",
       "    }\n",
       "</style>\n",
       "<table border=\"1\" class=\"dataframe\">\n",
       "  <thead>\n",
       "    <tr style=\"text-align: right;\">\n",
       "      <th></th>\n",
       "      <th>Age</th>\n",
       "      <th>Nacionality</th>\n",
       "      <th>Name</th>\n",
       "      <th>Company</th>\n",
       "    </tr>\n",
       "  </thead>\n",
       "  <tbody>\n",
       "    <tr>\n",
       "      <th>0</th>\n",
       "      <td>23</td>\n",
       "      <td>Colombia</td>\n",
       "      <td>Juan Valdez</td>\n",
       "      <td>NaN</td>\n",
       "    </tr>\n",
       "    <tr>\n",
       "      <th>1</th>\n",
       "      <td>20</td>\n",
       "      <td>Colombiana</td>\n",
       "      <td>Yennifer Yuliana</td>\n",
       "      <td>Universidad de Antioquia</td>\n",
       "    </tr>\n",
       "    <tr>\n",
       "      <th>2</th>\n",
       "      <td>20</td>\n",
       "      <td>Colombiana</td>\n",
       "      <td>Yennifer Yuliana</td>\n",
       "      <td>Universidad de Antioquia</td>\n",
       "    </tr>\n",
       "  </tbody>\n",
       "</table>\n",
       "</div>"
      ],
      "text/plain": [
       "   Age Nacionality              Name                   Company\n",
       "0   23    Colombia       Juan Valdez                       NaN\n",
       "1   20  Colombiana  Yennifer Yuliana  Universidad de Antioquia\n",
       "2   20  Colombiana  Yennifer Yuliana  Universidad de Antioquia"
      ]
     },
     "execution_count": 103,
     "metadata": {
      "tags": []
     },
     "output_type": "execute_result"
    }
   ],
   "source": [
    "pd.read_excel('prof.xlsx')"
   ]
  },
  {
   "cell_type": "markdown",
   "metadata": {
    "id": "pAZISlqKxE2T"
   },
   "source": [
    "### Common operations upon `DataFrames`\n",
    "See https://github.com/restrepo/PythonTipsAndTricks"
   ]
  },
  {
   "cell_type": "markdown",
   "metadata": {
    "id": "IBgQ8cojxE2U"
   },
   "source": [
    "* __To fill a specific cell__"
   ]
  },
  {
   "cell_type": "code",
   "execution_count": null,
   "metadata": {
    "id": "a00HZIQhxE2V"
   },
   "outputs": [],
   "source": [
    "df.at[0,'Company']='Federación de Caferos'"
   ]
  },
  {
   "cell_type": "code",
   "execution_count": null,
   "metadata": {
    "colab": {
     "base_uri": "https://localhost:8080/",
     "height": 141
    },
    "id": "g6f2psm3xE2X",
    "outputId": "b73dd1d0-ef0c-44f8-d0b0-d33827be1e6e"
   },
   "outputs": [
    {
     "data": {
      "text/html": [
       "<div>\n",
       "<style scoped>\n",
       "    .dataframe tbody tr th:only-of-type {\n",
       "        vertical-align: middle;\n",
       "    }\n",
       "\n",
       "    .dataframe tbody tr th {\n",
       "        vertical-align: top;\n",
       "    }\n",
       "\n",
       "    .dataframe thead th {\n",
       "        text-align: right;\n",
       "    }\n",
       "</style>\n",
       "<table border=\"1\" class=\"dataframe\">\n",
       "  <thead>\n",
       "    <tr style=\"text-align: right;\">\n",
       "      <th></th>\n",
       "      <th>Age</th>\n",
       "      <th>Nacionality</th>\n",
       "      <th>Name</th>\n",
       "      <th>Company</th>\n",
       "    </tr>\n",
       "  </thead>\n",
       "  <tbody>\n",
       "    <tr>\n",
       "      <th>0</th>\n",
       "      <td>23</td>\n",
       "      <td>Colombia</td>\n",
       "      <td>Juan Valdez</td>\n",
       "      <td>Federación de Caferos</td>\n",
       "    </tr>\n",
       "    <tr>\n",
       "      <th>1</th>\n",
       "      <td>20</td>\n",
       "      <td>Colombiana</td>\n",
       "      <td>Yennifer Yuliana</td>\n",
       "      <td>Universidad de Antioquia</td>\n",
       "    </tr>\n",
       "    <tr>\n",
       "      <th>2</th>\n",
       "      <td>20</td>\n",
       "      <td>Colombiana</td>\n",
       "      <td>Yennifer Yuliana</td>\n",
       "      <td>Universidad de Antioquia</td>\n",
       "    </tr>\n",
       "  </tbody>\n",
       "</table>\n",
       "</div>"
      ],
      "text/plain": [
       "  Age Nacionality              Name                   Company\n",
       "0  23    Colombia       Juan Valdez     Federación de Caferos\n",
       "1  20  Colombiana  Yennifer Yuliana  Universidad de Antioquia\n",
       "2  20  Colombiana  Yennifer Yuliana  Universidad de Antioquia"
      ]
     },
     "execution_count": 102,
     "metadata": {
      "tags": []
     },
     "output_type": "execute_result"
    }
   ],
   "source": [
    "df"
   ]
  },
  {
   "cell_type": "markdown",
   "metadata": {
    "id": "rzAKwxQhxE2a"
   },
   "source": [
    "## Other formats to saving and read files\n",
    "We are interested in format which keeps the tags of the columns, like `'Nombre', 'Edad', 'Compañia'`"
   ]
  },
  {
   "cell_type": "code",
   "execution_count": null,
   "metadata": {
    "colab": {
     "base_uri": "https://localhost:8080/",
     "height": 110
    },
    "id": "CbgkbfTKvIkO",
    "outputId": "0911684e-bf1d-434c-ebd3-818d71be6384"
   },
   "outputs": [
    {
     "data": {
      "text/html": [
       "<div>\n",
       "<style scoped>\n",
       "    .dataframe tbody tr th:only-of-type {\n",
       "        vertical-align: middle;\n",
       "    }\n",
       "\n",
       "    .dataframe tbody tr th {\n",
       "        vertical-align: top;\n",
       "    }\n",
       "\n",
       "    .dataframe thead th {\n",
       "        text-align: right;\n",
       "    }\n",
       "</style>\n",
       "<table border=\"1\" class=\"dataframe\">\n",
       "  <thead>\n",
       "    <tr style=\"text-align: right;\">\n",
       "      <th></th>\n",
       "      <th>Nombre</th>\n",
       "      <th>Edad</th>\n",
       "      <th>Compañia</th>\n",
       "    </tr>\n",
       "  </thead>\n",
       "  <tbody>\n",
       "    <tr>\n",
       "      <th>0</th>\n",
       "      <td>Juan Valdez</td>\n",
       "      <td>23</td>\n",
       "      <td>Café de Colombia</td>\n",
       "    </tr>\n",
       "    <tr>\n",
       "      <th>1</th>\n",
       "      <td>Álvaro Uribe Vélez</td>\n",
       "      <td>65</td>\n",
       "      <td>Senado de la República</td>\n",
       "    </tr>\n",
       "  </tbody>\n",
       "</table>\n",
       "</div>"
      ],
      "text/plain": [
       "               Nombre  Edad                Compañia\n",
       "0         Juan Valdez    23        Café de Colombia\n",
       "1  Álvaro Uribe Vélez    65  Senado de la República"
      ]
     },
     "execution_count": 130,
     "metadata": {
      "tags": []
     },
     "output_type": "execute_result"
    }
   ],
   "source": [
    "df=pd.read_excel('http://bit.ly/spreadsheet_xlsx')\n",
    "df"
   ]
  },
  {
   "cell_type": "code",
   "execution_count": null,
   "metadata": {
    "colab": {
     "base_uri": "https://localhost:8080/"
    },
    "id": "dAbm15alzq-e",
    "outputId": "38601c60-ee6d-4fbe-cb22-1a79e9926bbf"
   },
   "outputs": [
    {
     "data": {
      "text/plain": [
       "numpy.int64"
      ]
     },
     "execution_count": 131,
     "metadata": {
      "tags": []
     },
     "output_type": "execute_result"
    }
   ],
   "source": [
    "type(df.loc[0,'Edad'])"
   ]
  },
  {
   "cell_type": "markdown",
   "metadata": {
    "id": "w8hdIGOvu3Ee"
   },
   "source": [
    "#### CSV"
   ]
  },
  {
   "cell_type": "code",
   "execution_count": null,
   "metadata": {
    "id": "90PSoWzUxE2b"
   },
   "outputs": [],
   "source": [
    "df.to_csv('hoja.csv',index=False)#mandar el dataframe a un fromato cxv"
   ]
  },
  {
   "cell_type": "markdown",
   "metadata": {
    "id": "ViJ62k6BxfOm"
   },
   "source": [
    "We can check the explicit file format with"
   ]
  },
  {
   "cell_type": "code",
   "execution_count": null,
   "metadata": {
    "colab": {
     "base_uri": "https://localhost:8080/",
     "height": 53
    },
    "id": "gTKiTD23zq-f",
    "outputId": "ccb2a852-8bfa-445a-dae4-49c0fef169a1"
   },
   "outputs": [
    {
     "data": {
      "application/vnd.google.colaboratory.intrinsic+json": {
       "type": "string"
      },
      "text/plain": [
       "'Nombre,Edad,Compañia\\nJuan Valdez,23,Café de Colombia\\nÁlvaro Uribe Vélez,65,Senado de la República\\n'"
      ]
     },
     "execution_count": 133,
     "metadata": {
      "tags": []
     },
     "output_type": "execute_result"
    }
   ],
   "source": [
    "df.to_csv(None,index=False)"
   ]
  },
  {
   "cell_type": "code",
   "execution_count": null,
   "metadata": {
    "colab": {
     "base_uri": "https://localhost:8080/"
    },
    "id": "fGmx6K8SxRB1",
    "outputId": "eba9e7b2-d65b-468f-cc14-4d20d434211f"
   },
   "outputs": [
    {
     "name": "stdout",
     "output_type": "stream",
     "text": [
      "Nombre,Edad,Compañia\n",
      "Juan Valdez,23,Café de Colombia\n",
      "Álvaro Uribe Vélez,65,Senado de la República\n",
      "\n"
     ]
    }
   ],
   "source": [
    "print(df.to_csv(None,index=False))"
   ]
  },
  {
   "cell_type": "code",
   "execution_count": null,
   "metadata": {
    "colab": {
     "base_uri": "https://localhost:8080/",
     "height": 110
    },
    "id": "DRHMP57fzq-h",
    "outputId": "b29c6f50-c472-4fea-867a-0ebcd1c11f76"
   },
   "outputs": [
    {
     "data": {
      "text/html": [
       "<div>\n",
       "<style scoped>\n",
       "    .dataframe tbody tr th:only-of-type {\n",
       "        vertical-align: middle;\n",
       "    }\n",
       "\n",
       "    .dataframe tbody tr th {\n",
       "        vertical-align: top;\n",
       "    }\n",
       "\n",
       "    .dataframe thead th {\n",
       "        text-align: right;\n",
       "    }\n",
       "</style>\n",
       "<table border=\"1\" class=\"dataframe\">\n",
       "  <thead>\n",
       "    <tr style=\"text-align: right;\">\n",
       "      <th></th>\n",
       "      <th>Nombre</th>\n",
       "      <th>Edad</th>\n",
       "      <th>Compañia</th>\n",
       "    </tr>\n",
       "  </thead>\n",
       "  <tbody>\n",
       "    <tr>\n",
       "      <th>0</th>\n",
       "      <td>Juan Valdez</td>\n",
       "      <td>23</td>\n",
       "      <td>Café de Colombia</td>\n",
       "    </tr>\n",
       "    <tr>\n",
       "      <th>1</th>\n",
       "      <td>Álvaro Uribe Vélez</td>\n",
       "      <td>65</td>\n",
       "      <td>Senado de la República</td>\n",
       "    </tr>\n",
       "  </tbody>\n",
       "</table>\n",
       "</div>"
      ],
      "text/plain": [
       "               Nombre  Edad                Compañia\n",
       "0         Juan Valdez    23        Café de Colombia\n",
       "1  Álvaro Uribe Vélez    65  Senado de la República"
      ]
     },
     "execution_count": 135,
     "metadata": {
      "tags": []
     },
     "output_type": "execute_result"
    }
   ],
   "source": [
    "pd.read_csv('hoja.csv')"
   ]
  },
  {
   "cell_type": "markdown",
   "metadata": {
    "id": "s1rbHbLmuv2g"
   },
   "source": [
    "#### JSON"
   ]
  },
  {
   "cell_type": "markdown",
   "metadata": {
    "id": "JwWj-SSVv6Aj"
   },
   "source": [
    "This format keeps the Python lists and dictionaries at the storage level"
   ]
  },
  {
   "cell_type": "code",
   "execution_count": null,
   "metadata": {
    "colab": {
     "base_uri": "https://localhost:8080/",
     "height": 110
    },
    "id": "OaMV4GdOwmBo",
    "outputId": "b4ba5314-ff5e-41b5-eaf9-1d58db28c097"
   },
   "outputs": [
    {
     "data": {
      "text/html": [
       "<div>\n",
       "<style scoped>\n",
       "    .dataframe tbody tr th:only-of-type {\n",
       "        vertical-align: middle;\n",
       "    }\n",
       "\n",
       "    .dataframe tbody tr th {\n",
       "        vertical-align: top;\n",
       "    }\n",
       "\n",
       "    .dataframe thead th {\n",
       "        text-align: right;\n",
       "    }\n",
       "</style>\n",
       "<table border=\"1\" class=\"dataframe\">\n",
       "  <thead>\n",
       "    <tr style=\"text-align: right;\">\n",
       "      <th></th>\n",
       "      <th>Name</th>\n",
       "      <th>Age</th>\n",
       "    </tr>\n",
       "  </thead>\n",
       "  <tbody>\n",
       "    <tr>\n",
       "      <th>0</th>\n",
       "      <td>Donald Trump</td>\n",
       "      <td>74</td>\n",
       "    </tr>\n",
       "    <tr>\n",
       "      <th>1</th>\n",
       "      <td>Barak Obama</td>\n",
       "      <td>59</td>\n",
       "    </tr>\n",
       "  </tbody>\n",
       "</table>\n",
       "</div>"
      ],
      "text/plain": [
       "           Name  Age\n",
       "0  Donald Trump   74\n",
       "1   Barak Obama   59"
      ]
     },
     "execution_count": 136,
     "metadata": {
      "tags": []
     },
     "output_type": "execute_result"
    }
   ],
   "source": [
    "df=pd.DataFrame([{\"Name\":\"Donald Trump\",\"Age\":74},\n",
    "                 {\"Name\":\"Barak Obama\", \"Age\":59}])\n",
    "df"
   ]
  },
  {
   "cell_type": "markdown",
   "metadata": {
    "id": "Ajc79wC9z2b0"
   },
   "source": [
    "This format allow us to keep exactly the very same list of dictionaries structure!"
   ]
  },
  {
   "cell_type": "code",
   "execution_count": 25,
   "metadata": {
    "colab": {
     "base_uri": "https://localhost:8080/"
    },
    "id": "00a9jBWAzg29",
    "outputId": "7abe2020-94d7-40dc-ac12-f5a2dc8c3211"
   },
   "outputs": [
    {
     "name": "stdout",
     "output_type": "stream",
     "text": [
      "[{\"even\":0,\"odd\":1},{\"even\":2,\"odd\":3},{\"even\":4,\"odd\":5},{\"even\":6,\"odd\":7},{\"even\":8,\"odd\":9}]\n"
     ]
    }
   ],
   "source": [
    "print(df.to_json(None,orient='records'))"
   ]
  },
  {
   "cell_type": "markdown",
   "metadata": {
    "id": "xwPu1tn30hQ8"
   },
   "source": [
    "__Activity__: \n",
    "* Save to a file instead of `None` and open the file with some editor. "
   ]
  },
  {
   "cell_type": "code",
   "execution_count": null,
   "metadata": {
    "id": "KtKmXfQg1Z4z"
   },
   "outputs": [],
   "source": [
    "df.to_json('presidents.json',orient='records')#guarda en el directorio "
   ]
  },
  {
   "cell_type": "markdown",
   "metadata": {
    "id": "5S7OR7X11acD"
   },
   "source": [
    "* Add a break-line at the end of the first dictionary and try to\n",
    "load the resulting file with `pd.read_json`"
   ]
  },
  {
   "cell_type": "code",
   "execution_count": null,
   "metadata": {
    "colab": {
     "base_uri": "https://localhost:8080/",
     "height": 110
    },
    "id": "xOaIuF_y1b5C",
    "outputId": "16bde3d2-3150-4ffc-dd43-c4644aa90160"
   },
   "outputs": [
    {
     "data": {
      "text/html": [
       "<div>\n",
       "<style scoped>\n",
       "    .dataframe tbody tr th:only-of-type {\n",
       "        vertical-align: middle;\n",
       "    }\n",
       "\n",
       "    .dataframe tbody tr th {\n",
       "        vertical-align: top;\n",
       "    }\n",
       "\n",
       "    .dataframe thead th {\n",
       "        text-align: right;\n",
       "    }\n",
       "</style>\n",
       "<table border=\"1\" class=\"dataframe\">\n",
       "  <thead>\n",
       "    <tr style=\"text-align: right;\">\n",
       "      <th></th>\n",
       "      <th>Name</th>\n",
       "      <th>Age</th>\n",
       "    </tr>\n",
       "  </thead>\n",
       "  <tbody>\n",
       "    <tr>\n",
       "      <th>0</th>\n",
       "      <td>Donald Trump</td>\n",
       "      <td>74</td>\n",
       "    </tr>\n",
       "    <tr>\n",
       "      <th>1</th>\n",
       "      <td>Barak Obama</td>\n",
       "      <td>59</td>\n",
       "    </tr>\n",
       "  </tbody>\n",
       "</table>\n",
       "</div>"
      ],
      "text/plain": [
       "           Name  Age\n",
       "0  Donald Trump   74\n",
       "1   Barak Obama   59"
      ]
     },
     "execution_count": 140,
     "metadata": {
      "tags": []
     },
     "output_type": "execute_result"
    }
   ],
   "source": [
    "pd.read_json('presidents.json')#lee el Json"
   ]
  },
  {
   "cell_type": "markdown",
   "metadata": {
    "id": "5vSq9daI0F7R"
   },
   "source": [
    "JSON allows for some flexibility in the break-lines structure:"
   ]
  },
  {
   "cell_type": "code",
   "execution_count": null,
   "metadata": {
    "id": "T61A0TKszq-n"
   },
   "outputs": [],
   "source": [
    "hm='''\n",
    "hola\n",
    "mundo\n",
    "'''"
   ]
  },
  {
   "cell_type": "code",
   "execution_count": null,
   "metadata": {
    "colab": {
     "base_uri": "https://localhost:8080/",
     "height": 35
    },
    "id": "pUXA0n4tzq-n",
    "outputId": "44ef4d3e-773e-407f-98dc-d74a9c11568b"
   },
   "outputs": [
    {
     "data": {
      "application/vnd.google.colaboratory.intrinsic+json": {
       "type": "string"
      },
      "text/plain": [
       "'\\nhola\\nmundo\\n'"
      ]
     },
     "execution_count": 118,
     "metadata": {
      "tags": []
     },
     "output_type": "execute_result"
    }
   ],
   "source": [
    "hm"
   ]
  },
  {
   "cell_type": "code",
   "execution_count": null,
   "metadata": {
    "colab": {
     "base_uri": "https://localhost:8080/",
     "height": 110
    },
    "id": "qT8Lnlrgy0M9",
    "outputId": "43d2ee1f-1720-40de-f771-8d80d1445cbc"
   },
   "outputs": [
    {
     "data": {
      "text/html": [
       "<div>\n",
       "<style scoped>\n",
       "    .dataframe tbody tr th:only-of-type {\n",
       "        vertical-align: middle;\n",
       "    }\n",
       "\n",
       "    .dataframe tbody tr th {\n",
       "        vertical-align: top;\n",
       "    }\n",
       "\n",
       "    .dataframe thead th {\n",
       "        text-align: right;\n",
       "    }\n",
       "</style>\n",
       "<table border=\"1\" class=\"dataframe\">\n",
       "  <thead>\n",
       "    <tr style=\"text-align: right;\">\n",
       "      <th></th>\n",
       "      <th>Name</th>\n",
       "      <th>Age</th>\n",
       "    </tr>\n",
       "  </thead>\n",
       "  <tbody>\n",
       "    <tr>\n",
       "      <th>0</th>\n",
       "      <td>Donald Trump</td>\n",
       "      <td>73</td>\n",
       "    </tr>\n",
       "    <tr>\n",
       "      <th>1</th>\n",
       "      <td>Barak Obama</td>\n",
       "      <td>58</td>\n",
       "    </tr>\n",
       "  </tbody>\n",
       "</table>\n",
       "</div>"
      ],
      "text/plain": [
       "           Name  Age\n",
       "0  Donald Trump   73\n",
       "1   Barak Obama   58"
      ]
     },
     "execution_count": 142,
     "metadata": {
      "tags": []
     },
     "output_type": "execute_result"
    }
   ],
   "source": [
    "pd.read_json('''\n",
    "             [{\"Name\":\"Donald Trump\",\"Age\":73},\n",
    "              {\"Name\":\"Barak Obama\", \"Age\":58}]\n",
    "            ''')"
   ]
  },
  {
   "cell_type": "markdown",
   "metadata": {
    "id": "w6PyR85f1mfD"
   },
   "source": [
    "For large databases it is convinient just to accumulate dictionaries in a sequential form:"
   ]
  },
  {
   "cell_type": "code",
   "execution_count": null,
   "metadata": {
    "colab": {
     "base_uri": "https://localhost:8080/"
    },
    "id": "y2f8y66fyC5S",
    "outputId": "fcde7d77-5d52-4603-e000-7bb85c1ab6ba"
   },
   "outputs": [
    {
     "name": "stdout",
     "output_type": "stream",
     "text": [
      "{\"Name\":\"Donald Trump\",\"Age\":74}\n",
      "{\"Name\":\"Barak Obama\",\"Age\":59}\n"
     ]
    }
   ],
   "source": [
    "print(df.to_json(None,orient='records',lines=True))"
   ]
  },
  {
   "cell_type": "code",
   "execution_count": null,
   "metadata": {
    "colab": {
     "base_uri": "https://localhost:8080/",
     "height": 110
    },
    "id": "Bvhzs_GRzNWM",
    "outputId": "3468aa57-5218-46fb-8ffe-a48641296705"
   },
   "outputs": [
    {
     "data": {
      "text/html": [
       "<div>\n",
       "<style scoped>\n",
       "    .dataframe tbody tr th:only-of-type {\n",
       "        vertical-align: middle;\n",
       "    }\n",
       "\n",
       "    .dataframe tbody tr th {\n",
       "        vertical-align: top;\n",
       "    }\n",
       "\n",
       "    .dataframe thead th {\n",
       "        text-align: right;\n",
       "    }\n",
       "</style>\n",
       "<table border=\"1\" class=\"dataframe\">\n",
       "  <thead>\n",
       "    <tr style=\"text-align: right;\">\n",
       "      <th></th>\n",
       "      <th>Name</th>\n",
       "      <th>Age</th>\n",
       "    </tr>\n",
       "  </thead>\n",
       "  <tbody>\n",
       "    <tr>\n",
       "      <th>0</th>\n",
       "      <td>Donald Trump</td>\n",
       "      <td>73</td>\n",
       "    </tr>\n",
       "    <tr>\n",
       "      <th>1</th>\n",
       "      <td>Barak Obama</td>\n",
       "      <td>58</td>\n",
       "    </tr>\n",
       "  </tbody>\n",
       "</table>\n",
       "</div>"
      ],
      "text/plain": [
       "           Name  Age\n",
       "0  Donald Trump   73\n",
       "1   Barak Obama   58"
      ]
     },
     "execution_count": 144,
     "metadata": {
      "tags": []
     },
     "output_type": "execute_result"
    }
   ],
   "source": [
    "pd.read_json('''\n",
    "             {\"Name\":\"Donald Trump\",\"Age\":73}\n",
    "             {\"Name\":\"Barak Obama\", \"Age\":58}\n",
    "            ''',orient='records',lines=True)"
   ]
  },
  {
   "cell_type": "markdown",
   "metadata": {
    "id": "sYfWnw1e2wfi"
   },
   "source": [
    "__Activity__: \n",
    "* Save to a file instead of `None`, with options: `orient='records',lines=True`, and open the file with some editor. "
   ]
  },
  {
   "cell_type": "code",
   "execution_count": null,
   "metadata": {
    "id": "S9wv93dM3KER"
   },
   "outputs": [],
   "source": [
    "df.to_json('presidents.json',orient='records',lines=True)"
   ]
  },
  {
   "cell_type": "markdown",
   "metadata": {
    "id": "bGYW8Xl-3Kdi"
   },
   "source": [
    "* Add a similar dictionary in the next new line, and try to\n",
    "load the resulting file with `pd.read_json` with options: `orient='records',lines=True`. \n",
    "   * WARNING: Use doble-quotes `\"` to write the keys od the new\n",
    "dictionary"
   ]
  },
  {
   "cell_type": "markdown",
   "metadata": {
    "id": "icGCveT34HDA"
   },
   "source": [
    "Any Python string need to be converted first to double-quotes before to be used as JSON string.\n",
    "\n",
    "__Example__"
   ]
  },
  {
   "cell_type": "code",
   "execution_count": null,
   "metadata": {
    "id": "mPRCSHbG4dRx"
   },
   "outputs": [],
   "source": [
    "numbers={\"even\": [0,2,4,-6,8],   #  First  key-list\n",
    "         \"odd\" : [1,3,-5,7,9] }  #  Second key-list"
   ]
  },
  {
   "cell_type": "code",
   "execution_count": null,
   "metadata": {
    "colab": {
     "base_uri": "https://localhost:8080/"
    },
    "id": "Q1JyuDh6zq-t",
    "outputId": "5dfbccc9-b8aa-49ac-a9a5-c6dc08367838"
   },
   "outputs": [
    {
     "data": {
      "text/plain": [
       "{'even': [0, 2, 4, -6, 8], 'odd': [1, 3, -5, 7, 9]}"
      ]
     },
     "execution_count": 147,
     "metadata": {
      "tags": []
     },
     "output_type": "execute_result"
    }
   ],
   "source": [
    "numbers"
   ]
  },
  {
   "cell_type": "code",
   "execution_count": null,
   "metadata": {
    "colab": {
     "base_uri": "https://localhost:8080/",
     "height": 35
    },
    "id": "An-yzTut4gtw",
    "outputId": "e363aa01-343e-4eaa-e804-fbb279307f27"
   },
   "outputs": [
    {
     "data": {
      "application/vnd.google.colaboratory.intrinsic+json": {
       "type": "string"
      },
      "text/plain": [
       "\"{'even': [0, 2, 4, -6, 8], 'odd': [1, 3, -5, 7, 9]}\""
      ]
     },
     "execution_count": 148,
     "metadata": {
      "tags": []
     },
     "output_type": "execute_result"
    }
   ],
   "source": [
    "str(numbers)#escrito en el formanto Json"
   ]
  },
  {
   "cell_type": "markdown",
   "metadata": {
    "id": "BFCE3Hq34ktw"
   },
   "source": [
    "This string can be writing in the `JSON` format by replacing the single quotes, ' , by  duoble quotes, \":"
   ]
  },
  {
   "cell_type": "code",
   "execution_count": null,
   "metadata": {
    "colab": {
     "base_uri": "https://localhost:8080/",
     "height": 35
    },
    "id": "PJVD2Btc4nJx",
    "outputId": "6518122e-5e0b-4f04-cfe3-698b01aba176"
   },
   "outputs": [
    {
     "data": {
      "application/vnd.google.colaboratory.intrinsic+json": {
       "type": "string"
      },
      "text/plain": [
       "'{\"even\": [0, 2, 4, -6, 8], \"odd\": [1, 3, -5, 7, 9]}'"
      ]
     },
     "execution_count": 151,
     "metadata": {
      "tags": []
     },
     "output_type": "execute_result"
    }
   ],
   "source": [
    "str(numbers).replace(\"'\",'\"')"
   ]
  },
  {
   "cell_type": "markdown",
   "metadata": {
    "id": "zDssJstU45Qi"
   },
   "source": [
    "and now can be used as an JSON input"
   ]
  },
  {
   "cell_type": "code",
   "execution_count": null,
   "metadata": {
    "colab": {
     "base_uri": "https://localhost:8080/",
     "height": 202
    },
    "id": "HxbaP5T542_h",
    "outputId": "585c8af9-f2c2-48ff-d491-ea1a162f0683"
   },
   "outputs": [
    {
     "data": {
      "text/html": [
       "<div>\n",
       "<style scoped>\n",
       "    .dataframe tbody tr th:only-of-type {\n",
       "        vertical-align: middle;\n",
       "    }\n",
       "\n",
       "    .dataframe tbody tr th {\n",
       "        vertical-align: top;\n",
       "    }\n",
       "\n",
       "    .dataframe thead th {\n",
       "        text-align: right;\n",
       "    }\n",
       "</style>\n",
       "<table border=\"1\" class=\"dataframe\">\n",
       "  <thead>\n",
       "    <tr style=\"text-align: right;\">\n",
       "      <th></th>\n",
       "      <th>even</th>\n",
       "      <th>odd</th>\n",
       "    </tr>\n",
       "  </thead>\n",
       "  <tbody>\n",
       "    <tr>\n",
       "      <th>0</th>\n",
       "      <td>0</td>\n",
       "      <td>1</td>\n",
       "    </tr>\n",
       "    <tr>\n",
       "      <th>1</th>\n",
       "      <td>2</td>\n",
       "      <td>3</td>\n",
       "    </tr>\n",
       "    <tr>\n",
       "      <th>2</th>\n",
       "      <td>4</td>\n",
       "      <td>-5</td>\n",
       "    </tr>\n",
       "    <tr>\n",
       "      <th>3</th>\n",
       "      <td>-6</td>\n",
       "      <td>7</td>\n",
       "    </tr>\n",
       "    <tr>\n",
       "      <th>4</th>\n",
       "      <td>8</td>\n",
       "      <td>9</td>\n",
       "    </tr>\n",
       "  </tbody>\n",
       "</table>\n",
       "</div>"
      ],
      "text/plain": [
       "   even  odd\n",
       "0     0    1\n",
       "1     2    3\n",
       "2     4   -5\n",
       "3    -6    7\n",
       "4     8    9"
      ]
     },
     "execution_count": 180,
     "metadata": {
      "tags": []
     },
     "output_type": "execute_result"
    }
   ],
   "source": [
    "df=pd.read_json(  str(numbers).replace(\"'\",'\"') )\n",
    "df"
   ]
  },
  {
   "cell_type": "markdown",
   "metadata": {
    "id": "EtqUn4t85Hlp"
   },
   "source": [
    "__Activity__: Try to read the string as JSON without make the double-quote replacement"
   ]
  },
  {
   "cell_type": "code",
   "execution_count": null,
   "metadata": {
    "colab": {
     "base_uri": "https://localhost:8080/",
     "height": 346
    },
    "id": "M4a58iqqTIsq",
    "outputId": "267afb4b-77ad-4de3-be59-01146c6b5990"
   },
   "outputs": [
    {
     "ename": "ValueError",
     "evalue": "ignored",
     "output_type": "error",
     "traceback": [
      "\u001b[0;31m---------------------------------------------------------------------------\u001b[0m",
      "\u001b[0;31mValueError\u001b[0m                                Traceback (most recent call last)",
      "\u001b[0;32m<ipython-input-181-edbeafc3cc7a>\u001b[0m in \u001b[0;36m<module>\u001b[0;34m()\u001b[0m\n\u001b[0;32m----> 1\u001b[0;31m \u001b[0mdf\u001b[0m\u001b[0;34m=\u001b[0m\u001b[0mpd\u001b[0m\u001b[0;34m.\u001b[0m\u001b[0mread_json\u001b[0m\u001b[0;34m(\u001b[0m  \u001b[0mstr\u001b[0m\u001b[0;34m(\u001b[0m\u001b[0mnumbers\u001b[0m\u001b[0;34m)\u001b[0m \u001b[0;34m)\u001b[0m\u001b[0;34m\u001b[0m\u001b[0;34m\u001b[0m\u001b[0m\n\u001b[0m\u001b[1;32m      2\u001b[0m \u001b[0mdf\u001b[0m\u001b[0;34m\u001b[0m\u001b[0;34m\u001b[0m\u001b[0m\n\u001b[1;32m      3\u001b[0m \u001b[0;31m#se está leyendo el formato string usando Json\u001b[0m\u001b[0;34m\u001b[0m\u001b[0;34m\u001b[0m\u001b[0;34m\u001b[0m\u001b[0m\n",
      "\u001b[0;32m/usr/local/lib/python3.7/dist-packages/pandas/util/_decorators.py\u001b[0m in \u001b[0;36mwrapper\u001b[0;34m(*args, **kwargs)\u001b[0m\n\u001b[1;32m    197\u001b[0m                 \u001b[0;32melse\u001b[0m\u001b[0;34m:\u001b[0m\u001b[0;34m\u001b[0m\u001b[0;34m\u001b[0m\u001b[0m\n\u001b[1;32m    198\u001b[0m                     \u001b[0mkwargs\u001b[0m\u001b[0;34m[\u001b[0m\u001b[0mnew_arg_name\u001b[0m\u001b[0;34m]\u001b[0m \u001b[0;34m=\u001b[0m \u001b[0mnew_arg_value\u001b[0m\u001b[0;34m\u001b[0m\u001b[0;34m\u001b[0m\u001b[0m\n\u001b[0;32m--> 199\u001b[0;31m             \u001b[0;32mreturn\u001b[0m \u001b[0mfunc\u001b[0m\u001b[0;34m(\u001b[0m\u001b[0;34m*\u001b[0m\u001b[0margs\u001b[0m\u001b[0;34m,\u001b[0m \u001b[0;34m**\u001b[0m\u001b[0mkwargs\u001b[0m\u001b[0;34m)\u001b[0m\u001b[0;34m\u001b[0m\u001b[0;34m\u001b[0m\u001b[0m\n\u001b[0m\u001b[1;32m    200\u001b[0m \u001b[0;34m\u001b[0m\u001b[0m\n\u001b[1;32m    201\u001b[0m         \u001b[0;32mreturn\u001b[0m \u001b[0mcast\u001b[0m\u001b[0;34m(\u001b[0m\u001b[0mF\u001b[0m\u001b[0;34m,\u001b[0m \u001b[0mwrapper\u001b[0m\u001b[0;34m)\u001b[0m\u001b[0;34m\u001b[0m\u001b[0;34m\u001b[0m\u001b[0m\n",
      "\u001b[0;32m/usr/local/lib/python3.7/dist-packages/pandas/util/_decorators.py\u001b[0m in \u001b[0;36mwrapper\u001b[0;34m(*args, **kwargs)\u001b[0m\n\u001b[1;32m    294\u001b[0m                 )\n\u001b[1;32m    295\u001b[0m                 \u001b[0mwarnings\u001b[0m\u001b[0;34m.\u001b[0m\u001b[0mwarn\u001b[0m\u001b[0;34m(\u001b[0m\u001b[0mmsg\u001b[0m\u001b[0;34m,\u001b[0m \u001b[0mFutureWarning\u001b[0m\u001b[0;34m,\u001b[0m \u001b[0mstacklevel\u001b[0m\u001b[0;34m=\u001b[0m\u001b[0mstacklevel\u001b[0m\u001b[0;34m)\u001b[0m\u001b[0;34m\u001b[0m\u001b[0;34m\u001b[0m\u001b[0m\n\u001b[0;32m--> 296\u001b[0;31m             \u001b[0;32mreturn\u001b[0m \u001b[0mfunc\u001b[0m\u001b[0;34m(\u001b[0m\u001b[0;34m*\u001b[0m\u001b[0margs\u001b[0m\u001b[0;34m,\u001b[0m \u001b[0;34m**\u001b[0m\u001b[0mkwargs\u001b[0m\u001b[0;34m)\u001b[0m\u001b[0;34m\u001b[0m\u001b[0;34m\u001b[0m\u001b[0m\n\u001b[0m\u001b[1;32m    297\u001b[0m \u001b[0;34m\u001b[0m\u001b[0m\n\u001b[1;32m    298\u001b[0m         \u001b[0;32mreturn\u001b[0m \u001b[0mwrapper\u001b[0m\u001b[0;34m\u001b[0m\u001b[0;34m\u001b[0m\u001b[0m\n",
      "\u001b[0;32m/usr/local/lib/python3.7/dist-packages/pandas/io/json/_json.py\u001b[0m in \u001b[0;36mread_json\u001b[0;34m(path_or_buf, orient, typ, dtype, convert_axes, convert_dates, keep_default_dates, numpy, precise_float, date_unit, encoding, lines, chunksize, compression, nrows)\u001b[0m\n\u001b[1;32m    616\u001b[0m         \u001b[0;32mreturn\u001b[0m \u001b[0mjson_reader\u001b[0m\u001b[0;34m\u001b[0m\u001b[0;34m\u001b[0m\u001b[0m\n\u001b[1;32m    617\u001b[0m \u001b[0;34m\u001b[0m\u001b[0m\n\u001b[0;32m--> 618\u001b[0;31m     \u001b[0mresult\u001b[0m \u001b[0;34m=\u001b[0m \u001b[0mjson_reader\u001b[0m\u001b[0;34m.\u001b[0m\u001b[0mread\u001b[0m\u001b[0;34m(\u001b[0m\u001b[0;34m)\u001b[0m\u001b[0;34m\u001b[0m\u001b[0;34m\u001b[0m\u001b[0m\n\u001b[0m\u001b[1;32m    619\u001b[0m     \u001b[0;32mif\u001b[0m \u001b[0mshould_close\u001b[0m\u001b[0;34m:\u001b[0m\u001b[0;34m\u001b[0m\u001b[0;34m\u001b[0m\u001b[0m\n\u001b[1;32m    620\u001b[0m         \u001b[0mfilepath_or_buffer\u001b[0m\u001b[0;34m.\u001b[0m\u001b[0mclose\u001b[0m\u001b[0;34m(\u001b[0m\u001b[0;34m)\u001b[0m\u001b[0;34m\u001b[0m\u001b[0;34m\u001b[0m\u001b[0m\n",
      "\u001b[0;32m/usr/local/lib/python3.7/dist-packages/pandas/io/json/_json.py\u001b[0m in \u001b[0;36mread\u001b[0;34m(self)\u001b[0m\n\u001b[1;32m    753\u001b[0m                 \u001b[0mobj\u001b[0m \u001b[0;34m=\u001b[0m \u001b[0mself\u001b[0m\u001b[0;34m.\u001b[0m\u001b[0m_get_object_parser\u001b[0m\u001b[0;34m(\u001b[0m\u001b[0mself\u001b[0m\u001b[0;34m.\u001b[0m\u001b[0m_combine_lines\u001b[0m\u001b[0;34m(\u001b[0m\u001b[0mdata\u001b[0m\u001b[0;34m)\u001b[0m\u001b[0;34m)\u001b[0m\u001b[0;34m\u001b[0m\u001b[0;34m\u001b[0m\u001b[0m\n\u001b[1;32m    754\u001b[0m         \u001b[0;32melse\u001b[0m\u001b[0;34m:\u001b[0m\u001b[0;34m\u001b[0m\u001b[0;34m\u001b[0m\u001b[0m\n\u001b[0;32m--> 755\u001b[0;31m             \u001b[0mobj\u001b[0m \u001b[0;34m=\u001b[0m \u001b[0mself\u001b[0m\u001b[0;34m.\u001b[0m\u001b[0m_get_object_parser\u001b[0m\u001b[0;34m(\u001b[0m\u001b[0mself\u001b[0m\u001b[0;34m.\u001b[0m\u001b[0mdata\u001b[0m\u001b[0;34m)\u001b[0m\u001b[0;34m\u001b[0m\u001b[0;34m\u001b[0m\u001b[0m\n\u001b[0m\u001b[1;32m    756\u001b[0m         \u001b[0mself\u001b[0m\u001b[0;34m.\u001b[0m\u001b[0mclose\u001b[0m\u001b[0;34m(\u001b[0m\u001b[0;34m)\u001b[0m\u001b[0;34m\u001b[0m\u001b[0;34m\u001b[0m\u001b[0m\n\u001b[1;32m    757\u001b[0m         \u001b[0;32mreturn\u001b[0m \u001b[0mobj\u001b[0m\u001b[0;34m\u001b[0m\u001b[0;34m\u001b[0m\u001b[0m\n",
      "\u001b[0;32m/usr/local/lib/python3.7/dist-packages/pandas/io/json/_json.py\u001b[0m in \u001b[0;36m_get_object_parser\u001b[0;34m(self, json)\u001b[0m\n\u001b[1;32m    775\u001b[0m         \u001b[0mobj\u001b[0m \u001b[0;34m=\u001b[0m \u001b[0;32mNone\u001b[0m\u001b[0;34m\u001b[0m\u001b[0;34m\u001b[0m\u001b[0m\n\u001b[1;32m    776\u001b[0m         \u001b[0;32mif\u001b[0m \u001b[0mtyp\u001b[0m \u001b[0;34m==\u001b[0m \u001b[0;34m\"frame\"\u001b[0m\u001b[0;34m:\u001b[0m\u001b[0;34m\u001b[0m\u001b[0;34m\u001b[0m\u001b[0m\n\u001b[0;32m--> 777\u001b[0;31m             \u001b[0mobj\u001b[0m \u001b[0;34m=\u001b[0m \u001b[0mFrameParser\u001b[0m\u001b[0;34m(\u001b[0m\u001b[0mjson\u001b[0m\u001b[0;34m,\u001b[0m \u001b[0;34m**\u001b[0m\u001b[0mkwargs\u001b[0m\u001b[0;34m)\u001b[0m\u001b[0;34m.\u001b[0m\u001b[0mparse\u001b[0m\u001b[0;34m(\u001b[0m\u001b[0;34m)\u001b[0m\u001b[0;34m\u001b[0m\u001b[0;34m\u001b[0m\u001b[0m\n\u001b[0m\u001b[1;32m    778\u001b[0m \u001b[0;34m\u001b[0m\u001b[0m\n\u001b[1;32m    779\u001b[0m         \u001b[0;32mif\u001b[0m \u001b[0mtyp\u001b[0m \u001b[0;34m==\u001b[0m \u001b[0;34m\"series\"\u001b[0m \u001b[0;32mor\u001b[0m \u001b[0mobj\u001b[0m \u001b[0;32mis\u001b[0m \u001b[0;32mNone\u001b[0m\u001b[0;34m:\u001b[0m\u001b[0;34m\u001b[0m\u001b[0;34m\u001b[0m\u001b[0m\n",
      "\u001b[0;32m/usr/local/lib/python3.7/dist-packages/pandas/io/json/_json.py\u001b[0m in \u001b[0;36mparse\u001b[0;34m(self)\u001b[0m\n\u001b[1;32m    884\u001b[0m \u001b[0;34m\u001b[0m\u001b[0m\n\u001b[1;32m    885\u001b[0m         \u001b[0;32melse\u001b[0m\u001b[0;34m:\u001b[0m\u001b[0;34m\u001b[0m\u001b[0;34m\u001b[0m\u001b[0m\n\u001b[0;32m--> 886\u001b[0;31m             \u001b[0mself\u001b[0m\u001b[0;34m.\u001b[0m\u001b[0m_parse_no_numpy\u001b[0m\u001b[0;34m(\u001b[0m\u001b[0;34m)\u001b[0m\u001b[0;34m\u001b[0m\u001b[0;34m\u001b[0m\u001b[0m\n\u001b[0m\u001b[1;32m    887\u001b[0m \u001b[0;34m\u001b[0m\u001b[0m\n\u001b[1;32m    888\u001b[0m         \u001b[0;32mif\u001b[0m \u001b[0mself\u001b[0m\u001b[0;34m.\u001b[0m\u001b[0mobj\u001b[0m \u001b[0;32mis\u001b[0m \u001b[0;32mNone\u001b[0m\u001b[0;34m:\u001b[0m\u001b[0;34m\u001b[0m\u001b[0;34m\u001b[0m\u001b[0m\n",
      "\u001b[0;32m/usr/local/lib/python3.7/dist-packages/pandas/io/json/_json.py\u001b[0m in \u001b[0;36m_parse_no_numpy\u001b[0;34m(self)\u001b[0m\n\u001b[1;32m   1117\u001b[0m         \u001b[0;32mif\u001b[0m \u001b[0morient\u001b[0m \u001b[0;34m==\u001b[0m \u001b[0;34m\"columns\"\u001b[0m\u001b[0;34m:\u001b[0m\u001b[0;34m\u001b[0m\u001b[0;34m\u001b[0m\u001b[0m\n\u001b[1;32m   1118\u001b[0m             self.obj = DataFrame(\n\u001b[0;32m-> 1119\u001b[0;31m                 \u001b[0mloads\u001b[0m\u001b[0;34m(\u001b[0m\u001b[0mjson\u001b[0m\u001b[0;34m,\u001b[0m \u001b[0mprecise_float\u001b[0m\u001b[0;34m=\u001b[0m\u001b[0mself\u001b[0m\u001b[0;34m.\u001b[0m\u001b[0mprecise_float\u001b[0m\u001b[0;34m)\u001b[0m\u001b[0;34m,\u001b[0m \u001b[0mdtype\u001b[0m\u001b[0;34m=\u001b[0m\u001b[0;32mNone\u001b[0m\u001b[0;34m\u001b[0m\u001b[0;34m\u001b[0m\u001b[0m\n\u001b[0m\u001b[1;32m   1120\u001b[0m             )\n\u001b[1;32m   1121\u001b[0m         \u001b[0;32melif\u001b[0m \u001b[0morient\u001b[0m \u001b[0;34m==\u001b[0m \u001b[0;34m\"split\"\u001b[0m\u001b[0;34m:\u001b[0m\u001b[0;34m\u001b[0m\u001b[0;34m\u001b[0m\u001b[0m\n",
      "\u001b[0;31mValueError\u001b[0m: Expected object or value"
     ]
    }
   ],
   "source": [
    "df=pd.read_json(  str(numbers) )\n",
    "df\n",
    "#se está leyendo el formato string usando Json "
   ]
  },
  {
   "cell_type": "markdown",
   "metadata": {
    "id": "s2uApSIi8PjI"
   },
   "source": [
    "## Filters\n",
    "The main application of labeled data for data analysis is the possibility to make filers, or cuts, to obtain specific reduced datasets to further analysis"
   ]
  },
  {
   "cell_type": "code",
   "execution_count": null,
   "metadata": {
    "colab": {
     "base_uri": "https://localhost:8080/",
     "height": 202
    },
    "id": "_A6lcpyHzq-y",
    "outputId": "52e1d3dd-151e-4f25-9e5e-1b936089bb37"
   },
   "outputs": [
    {
     "data": {
      "text/html": [
       "<div>\n",
       "<style scoped>\n",
       "    .dataframe tbody tr th:only-of-type {\n",
       "        vertical-align: middle;\n",
       "    }\n",
       "\n",
       "    .dataframe tbody tr th {\n",
       "        vertical-align: top;\n",
       "    }\n",
       "\n",
       "    .dataframe thead th {\n",
       "        text-align: right;\n",
       "    }\n",
       "</style>\n",
       "<table border=\"1\" class=\"dataframe\">\n",
       "  <thead>\n",
       "    <tr style=\"text-align: right;\">\n",
       "      <th></th>\n",
       "      <th>even</th>\n",
       "      <th>odd</th>\n",
       "    </tr>\n",
       "  </thead>\n",
       "  <tbody>\n",
       "    <tr>\n",
       "      <th>0</th>\n",
       "      <td>0</td>\n",
       "      <td>1</td>\n",
       "    </tr>\n",
       "    <tr>\n",
       "      <th>1</th>\n",
       "      <td>2</td>\n",
       "      <td>3</td>\n",
       "    </tr>\n",
       "    <tr>\n",
       "      <th>2</th>\n",
       "      <td>4</td>\n",
       "      <td>-5</td>\n",
       "    </tr>\n",
       "    <tr>\n",
       "      <th>3</th>\n",
       "      <td>-6</td>\n",
       "      <td>7</td>\n",
       "    </tr>\n",
       "    <tr>\n",
       "      <th>4</th>\n",
       "      <td>8</td>\n",
       "      <td>9</td>\n",
       "    </tr>\n",
       "  </tbody>\n",
       "</table>\n",
       "</div>"
      ],
      "text/plain": [
       "   even  odd\n",
       "0     0    1\n",
       "1     2    3\n",
       "2     4   -5\n",
       "3    -6    7\n",
       "4     8    9"
      ]
     },
     "execution_count": 182,
     "metadata": {
      "tags": []
     },
     "output_type": "execute_result"
    }
   ],
   "source": [
    "df"
   ]
  },
  {
   "cell_type": "code",
   "execution_count": null,
   "metadata": {
    "colab": {
     "base_uri": "https://localhost:8080/",
     "height": 110
    },
    "id": "zt2S0aln8_4s",
    "outputId": "ee50ab07-b5cd-4628-f57a-3f63e989d3e7"
   },
   "outputs": [
    {
     "data": {
      "text/html": [
       "<div>\n",
       "<style scoped>\n",
       "    .dataframe tbody tr th:only-of-type {\n",
       "        vertical-align: middle;\n",
       "    }\n",
       "\n",
       "    .dataframe tbody tr th {\n",
       "        vertical-align: top;\n",
       "    }\n",
       "\n",
       "    .dataframe thead th {\n",
       "        text-align: right;\n",
       "    }\n",
       "</style>\n",
       "<table border=\"1\" class=\"dataframe\">\n",
       "  <thead>\n",
       "    <tr style=\"text-align: right;\">\n",
       "      <th></th>\n",
       "      <th>even</th>\n",
       "      <th>odd</th>\n",
       "    </tr>\n",
       "  </thead>\n",
       "  <tbody>\n",
       "    <tr>\n",
       "      <th>3</th>\n",
       "      <td>-6</td>\n",
       "      <td>7</td>\n",
       "    </tr>\n",
       "    <tr>\n",
       "      <th>4</th>\n",
       "      <td>8</td>\n",
       "      <td>9</td>\n",
       "    </tr>\n",
       "  </tbody>\n",
       "</table>\n",
       "</div>"
      ],
      "text/plain": [
       "   even  odd\n",
       "3    -6    7\n",
       "4     8    9"
      ]
     },
     "execution_count": 183,
     "metadata": {
      "tags": []
     },
     "output_type": "execute_result"
    }
   ],
   "source": [
    "df[df.even.abs()>4]"
   ]
  },
  {
   "cell_type": "code",
   "execution_count": null,
   "metadata": {
    "colab": {
     "base_uri": "https://localhost:8080/",
     "height": 79
    },
    "id": "eVSePCQB9GFe",
    "outputId": "480d15c8-d218-4025-c94b-726062d828c5"
   },
   "outputs": [
    {
     "data": {
      "text/html": [
       "<div>\n",
       "<style scoped>\n",
       "    .dataframe tbody tr th:only-of-type {\n",
       "        vertical-align: middle;\n",
       "    }\n",
       "\n",
       "    .dataframe tbody tr th {\n",
       "        vertical-align: top;\n",
       "    }\n",
       "\n",
       "    .dataframe thead th {\n",
       "        text-align: right;\n",
       "    }\n",
       "</style>\n",
       "<table border=\"1\" class=\"dataframe\">\n",
       "  <thead>\n",
       "    <tr style=\"text-align: right;\">\n",
       "      <th></th>\n",
       "      <th>even</th>\n",
       "      <th>odd</th>\n",
       "    </tr>\n",
       "  </thead>\n",
       "  <tbody>\n",
       "    <tr>\n",
       "      <th>2</th>\n",
       "      <td>4</td>\n",
       "      <td>-5</td>\n",
       "    </tr>\n",
       "  </tbody>\n",
       "</table>\n",
       "</div>"
      ],
      "text/plain": [
       "   even  odd\n",
       "2     4   -5"
      ]
     },
     "execution_count": 184,
     "metadata": {
      "tags": []
     },
     "output_type": "execute_result"
    }
   ],
   "source": [
    "#and\n",
    "df[(df.even>0) & (df.odd<0)]"
   ]
  },
  {
   "cell_type": "code",
   "execution_count": null,
   "metadata": {
    "colab": {
     "base_uri": "https://localhost:8080/",
     "height": 171
    },
    "id": "ZwWVZxnazq-1",
    "outputId": "94fc0cfc-d14e-492a-81fd-30c1fc45fdf3"
   },
   "outputs": [
    {
     "data": {
      "text/html": [
       "<div>\n",
       "<style scoped>\n",
       "    .dataframe tbody tr th:only-of-type {\n",
       "        vertical-align: middle;\n",
       "    }\n",
       "\n",
       "    .dataframe tbody tr th {\n",
       "        vertical-align: top;\n",
       "    }\n",
       "\n",
       "    .dataframe thead th {\n",
       "        text-align: right;\n",
       "    }\n",
       "</style>\n",
       "<table border=\"1\" class=\"dataframe\">\n",
       "  <thead>\n",
       "    <tr style=\"text-align: right;\">\n",
       "      <th></th>\n",
       "      <th>even</th>\n",
       "      <th>odd</th>\n",
       "    </tr>\n",
       "  </thead>\n",
       "  <tbody>\n",
       "    <tr>\n",
       "      <th>0</th>\n",
       "      <td>0</td>\n",
       "      <td>1</td>\n",
       "    </tr>\n",
       "    <tr>\n",
       "      <th>1</th>\n",
       "      <td>2</td>\n",
       "      <td>3</td>\n",
       "    </tr>\n",
       "    <tr>\n",
       "      <th>3</th>\n",
       "      <td>-6</td>\n",
       "      <td>7</td>\n",
       "    </tr>\n",
       "    <tr>\n",
       "      <th>4</th>\n",
       "      <td>8</td>\n",
       "      <td>9</td>\n",
       "    </tr>\n",
       "  </tbody>\n",
       "</table>\n",
       "</div>"
      ],
      "text/plain": [
       "   even  odd\n",
       "0     0    1\n",
       "1     2    3\n",
       "3    -6    7\n",
       "4     8    9"
      ]
     },
     "execution_count": 185,
     "metadata": {
      "tags": []
     },
     "output_type": "execute_result"
    }
   ],
   "source": [
    "df[~((df.even>0) & (df.odd<0)) ]"
   ]
  },
  {
   "cell_type": "code",
   "execution_count": null,
   "metadata": {
    "colab": {
     "base_uri": "https://localhost:8080/",
     "height": 110
    },
    "id": "dVktA6ze9wI2",
    "outputId": "164f510a-4072-4c80-8ef9-1c3c0821f659"
   },
   "outputs": [
    {
     "data": {
      "text/html": [
       "<div>\n",
       "<style scoped>\n",
       "    .dataframe tbody tr th:only-of-type {\n",
       "        vertical-align: middle;\n",
       "    }\n",
       "\n",
       "    .dataframe tbody tr th {\n",
       "        vertical-align: top;\n",
       "    }\n",
       "\n",
       "    .dataframe thead th {\n",
       "        text-align: right;\n",
       "    }\n",
       "</style>\n",
       "<table border=\"1\" class=\"dataframe\">\n",
       "  <thead>\n",
       "    <tr style=\"text-align: right;\">\n",
       "      <th></th>\n",
       "      <th>even</th>\n",
       "      <th>odd</th>\n",
       "    </tr>\n",
       "  </thead>\n",
       "  <tbody>\n",
       "    <tr>\n",
       "      <th>2</th>\n",
       "      <td>4</td>\n",
       "      <td>-5</td>\n",
       "    </tr>\n",
       "    <tr>\n",
       "      <th>3</th>\n",
       "      <td>-6</td>\n",
       "      <td>7</td>\n",
       "    </tr>\n",
       "  </tbody>\n",
       "</table>\n",
       "</div>"
      ],
      "text/plain": [
       "   even  odd\n",
       "2     4   -5\n",
       "3    -6    7"
      ]
     },
     "execution_count": 186,
     "metadata": {
      "tags": []
     },
     "output_type": "execute_result"
    }
   ],
   "source": [
    "#or\n",
    "df[(df.even<0) | (df.odd<0)]"
   ]
  },
  {
   "cell_type": "markdown",
   "metadata": {
    "id": "xHsCPml65i54"
   },
   "source": [
    "## The `apply` method\n",
    "The advantage of the spreadsheet paradigm is that the columns can be transformed with functions. All the typical functions avalaible for a spreadsheet are already implemented like the method `.abs()` used before, or the method: `.sum()`"
   ]
  },
  {
   "cell_type": "code",
   "execution_count": null,
   "metadata": {
    "colab": {
     "base_uri": "https://localhost:8080/"
    },
    "id": "pPLWFFLA6NX4",
    "outputId": "ceb55fb3-6ea5-4d44-cc1e-22ae87aba3a7"
   },
   "outputs": [
    {
     "data": {
      "text/plain": [
       "8"
      ]
     },
     "execution_count": 187,
     "metadata": {
      "tags": []
     },
     "output_type": "execute_result"
    }
   ],
   "source": [
    "df.even.sum()#suma todos los valores de la columna"
   ]
  },
  {
   "cell_type": "markdown",
   "metadata": {
    "id": "XCUwgF0f6WFP"
   },
   "source": [
    "__Activity__: Explore the avalaible methods by using the completion system of the notebook after the last semicolon of `df.even.`"
   ]
  },
  {
   "cell_type": "code",
   "execution_count": null,
   "metadata": {
    "id": "psQ22cBEzq-4"
   },
   "outputs": [],
   "source": [
    "df.even;"
   ]
  },
  {
   "cell_type": "markdown",
   "metadata": {
    "id": "JDqDXVoF6mOv"
   },
   "source": [
    "In addittion, for the `DataFrame` paradigm, we can easy implement any other function directly at the programming level either along the columns or along the rows"
   ]
  },
  {
   "cell_type": "markdown",
   "metadata": {
    "id": "378RNNb97OQs"
   },
   "source": [
    "### Column-level `apply`\n",
    "We just select the column and apply the direct or implicit function:\n",
    "* Pre-defined function"
   ]
  },
  {
   "cell_type": "code",
   "execution_count": null,
   "metadata": {
    "colab": {
     "base_uri": "https://localhost:8080/"
    },
    "id": "L210XcRK7qYn",
    "outputId": "eb52425b-30c0-4425-fd36-6843d4e0fc9a"
   },
   "outputs": [
    {
     "data": {
      "text/plain": [
       "0    0\n",
       "1    2\n",
       "2    4\n",
       "3    6\n",
       "4    8\n",
       "Name: even, dtype: int64"
      ]
     },
     "execution_count": 188,
     "metadata": {
      "tags": []
     },
     "output_type": "execute_result"
    }
   ],
   "source": [
    "df.even.apply(abs)"
   ]
  },
  {
   "cell_type": "markdown",
   "metadata": {
    "id": "JX0nA6swDphj"
   },
   "source": [
    "* Implicit function"
   ]
  },
  {
   "cell_type": "code",
   "execution_count": null,
   "metadata": {
    "colab": {
     "base_uri": "https://localhost:8080/"
    },
    "id": "oGEcVFrA72LX",
    "outputId": "0337f408-f334-406a-e72c-3c2b39efac09"
   },
   "outputs": [
    {
     "data": {
      "text/plain": [
       "0    True\n",
       "1    True\n",
       "2    True\n",
       "3    True\n",
       "4    True\n",
       "Name: even, dtype: bool"
      ]
     },
     "execution_count": 189,
     "metadata": {
      "tags": []
     },
     "output_type": "execute_result"
    }
   ],
   "source": [
    "df.even.apply(lambda n:isinstance(n,int))"
   ]
  },
  {
   "cell_type": "code",
   "execution_count": null,
   "metadata": {
    "colab": {
     "base_uri": "https://localhost:8080/"
    },
    "id": "ou9DV2Xjzq-7",
    "outputId": "3a87eaac-f919-47a4-8b35-71fe1880e7d9"
   },
   "outputs": [
    {
     "data": {
      "text/plain": [
       "0     0\n",
       "1     4\n",
       "2    16\n",
       "3    36\n",
       "4    64\n",
       "Name: even, dtype: int64"
      ]
     },
     "execution_count": 190,
     "metadata": {
      "tags": []
     },
     "output_type": "execute_result"
    }
   ],
   "source": [
    "df.even.apply(lambda n: n**2)"
   ]
  },
  {
   "cell_type": "markdown",
   "metadata": {
    "id": "8wFVd7Sk7irH"
   },
   "source": [
    "### Row-level apply\n",
    "The foll row is passed as dictionary to the explicit or implicit function when `apply` is used for the full `DataFrame` and the option `axis=1` is used at the end"
   ]
  },
  {
   "cell_type": "code",
   "execution_count": 26,
   "metadata": {
    "colab": {
     "base_uri": "https://localhost:8080/"
    },
    "id": "b_12a_kGzq-8",
    "outputId": "df9ee8d6-30d5-48e1-8319-a9f5813a932c"
   },
   "outputs": [
    {
     "data": {
      "text/plain": [
       "0     1\n",
       "1     5\n",
       "2     9\n",
       "3    13\n",
       "4    17\n",
       "dtype: int64"
      ]
     },
     "execution_count": 26,
     "metadata": {},
     "output_type": "execute_result"
    }
   ],
   "source": [
    "df['even']+df['odd']"
   ]
  },
  {
   "cell_type": "code",
   "execution_count": 27,
   "metadata": {
    "colab": {
     "base_uri": "https://localhost:8080/"
    },
    "id": "z6GLMMuEEUwB",
    "outputId": "fc13f651-535a-472f-d2ba-4645bf8c0a7c"
   },
   "outputs": [
    {
     "data": {
      "text/plain": [
       "0     1\n",
       "1    11\n",
       "2    29\n",
       "3    55\n",
       "4    89\n",
       "dtype: int64"
      ]
     },
     "execution_count": 27,
     "metadata": {},
     "output_type": "execute_result"
    }
   ],
   "source": [
    "df.apply(lambda row: row['even']+row['odd']**2,axis='columns')"
   ]
  },
  {
   "cell_type": "markdown",
   "metadata": {
    "id": "hN0UI8ymzq-9"
   },
   "source": [
    "## Chain tools for data analysis\n",
    "There are several chain tools for data analyis like the\n",
    "* Spreadsheet based one, like Excel \n",
    "* Relational databases with the use of more advanced SQL tabular data with some data base software like MySQL\n",
    "* Non-relational databases with Pandas, R, or MongoDB\n",
    "\n",
    "Here we illustrate an example of use fo a non-relational database with Pandas"
   ]
  },
  {
   "cell_type": "markdown",
   "metadata": {
    "id": "6SKZWwZbzq--"
   },
   "source": [
    "## Relational databases"
   ]
  },
  {
   "cell_type": "code",
   "execution_count": 29,
   "metadata": {
    "id": "Zqo5X-a1zq--"
   },
   "outputs": [],
   "source": [
    "df=pd.read_excel('http://bit.ly/spreadsheet_xlsx')\n",
    "persona=df[['Nombre','Edad']]"
   ]
  },
  {
   "cell_type": "code",
   "execution_count": null,
   "metadata": {
    "id": "lufFJNwcYpyy"
   },
   "outputs": [],
   "source": []
  },
  {
   "cell_type": "code",
   "execution_count": 30,
   "metadata": {
    "colab": {
     "base_uri": "https://localhost:8080/",
     "height": 110
    },
    "id": "3uYeZncezq-_",
    "outputId": "28a98ce4-5b0b-4957-f97f-604fb7b9bfb6"
   },
   "outputs": [
    {
     "data": {
      "text/html": [
       "<div>\n",
       "<style scoped>\n",
       "    .dataframe tbody tr th:only-of-type {\n",
       "        vertical-align: middle;\n",
       "    }\n",
       "\n",
       "    .dataframe tbody tr th {\n",
       "        vertical-align: top;\n",
       "    }\n",
       "\n",
       "    .dataframe thead th {\n",
       "        text-align: right;\n",
       "    }\n",
       "</style>\n",
       "<table border=\"1\" class=\"dataframe\">\n",
       "  <thead>\n",
       "    <tr style=\"text-align: right;\">\n",
       "      <th></th>\n",
       "      <th>Nombre</th>\n",
       "      <th>Edad</th>\n",
       "      <th>id</th>\n",
       "    </tr>\n",
       "  </thead>\n",
       "  <tbody>\n",
       "    <tr>\n",
       "      <th>0</th>\n",
       "      <td>Juan Valdez</td>\n",
       "      <td>23</td>\n",
       "      <td>888</td>\n",
       "    </tr>\n",
       "    <tr>\n",
       "      <th>1</th>\n",
       "      <td>Álvaro Uribe Vélez</td>\n",
       "      <td>65</td>\n",
       "      <td>666</td>\n",
       "    </tr>\n",
       "  </tbody>\n",
       "</table>\n",
       "</div>"
      ],
      "text/plain": [
       "               Nombre  Edad   id\n",
       "0         Juan Valdez    23  888\n",
       "1  Álvaro Uribe Vélez    65  666"
      ]
     },
     "execution_count": 30,
     "metadata": {},
     "output_type": "execute_result"
    }
   ],
   "source": [
    "persona['id']=[888,666]\n",
    "persona"
   ]
  },
  {
   "cell_type": "code",
   "execution_count": 31,
   "metadata": {
    "colab": {
     "base_uri": "https://localhost:8080/",
     "height": 141
    },
    "id": "VhBkTibHzq-_",
    "outputId": "e4eef02c-f4f7-4abb-b7f6-47fad9c8d53e"
   },
   "outputs": [
    {
     "data": {
      "text/html": [
       "<div>\n",
       "<style scoped>\n",
       "    .dataframe tbody tr th:only-of-type {\n",
       "        vertical-align: middle;\n",
       "    }\n",
       "\n",
       "    .dataframe tbody tr th {\n",
       "        vertical-align: top;\n",
       "    }\n",
       "\n",
       "    .dataframe thead th {\n",
       "        text-align: right;\n",
       "    }\n",
       "</style>\n",
       "<table border=\"1\" class=\"dataframe\">\n",
       "  <thead>\n",
       "    <tr style=\"text-align: right;\">\n",
       "      <th></th>\n",
       "      <th>Cargo</th>\n",
       "      <th>Compañía</th>\n",
       "      <th>Fin:</th>\n",
       "      <th>Inicio</th>\n",
       "      <th>id</th>\n",
       "    </tr>\n",
       "  </thead>\n",
       "  <tbody>\n",
       "    <tr>\n",
       "      <th>0</th>\n",
       "      <td>Arriero</td>\n",
       "      <td>Café de Colombia</td>\n",
       "      <td>NaN</td>\n",
       "      <td>2010</td>\n",
       "      <td>888</td>\n",
       "    </tr>\n",
       "    <tr>\n",
       "      <th>1</th>\n",
       "      <td>Senador</td>\n",
       "      <td>Senado de la República de Colombia</td>\n",
       "      <td>2020.0</td>\n",
       "      <td>2013</td>\n",
       "      <td>666</td>\n",
       "    </tr>\n",
       "    <tr>\n",
       "      <th>2</th>\n",
       "      <td>Influencer</td>\n",
       "      <td>Twitter</td>\n",
       "      <td>NaN</td>\n",
       "      <td>2020</td>\n",
       "      <td>666</td>\n",
       "    </tr>\n",
       "  </tbody>\n",
       "</table>\n",
       "</div>"
      ],
      "text/plain": [
       "        Cargo                            Compañía    Fin:  Inicio   id\n",
       "0     Arriero                    Café de Colombia     NaN    2010  888\n",
       "1     Senador  Senado de la República de Colombia  2020.0    2013  666\n",
       "2  Influencer                             Twitter     NaN    2020  666"
      ]
     },
     "execution_count": 31,
     "metadata": {},
     "output_type": "execute_result"
    }
   ],
   "source": [
    "d1={'id':888, 'Inicio':2010,'Fin:':None,'Cargo':'Arriero','Compañía':'Café de Colombia'}\n",
    "d2={'id':666, 'Inicio':2013,'Fin:':2020,'Cargo':'Senador','Compañía':'Senado de la República de Colombia'}\n",
    "d3={'id':666, 'Inicio':2020,'Fin:':None,'Cargo':'Influencer','Compañía':'Twitter'}\n",
    "trabajo=pd.DataFrame( [d1,d2,d3] )  \n",
    "trabajo"
   ]
  },
  {
   "cell_type": "markdown",
   "metadata": {
    "id": "RPIIoLL-zq_A"
   },
   "source": [
    "![img](https://raw.githubusercontent.com/restrepo/ComputationalMethods/master/material/figures/relation.jpg)"
   ]
  },
  {
   "cell_type": "markdown",
   "metadata": {
    "id": "WBiOafZFzq_A"
   },
   "source": [
    "### Actividad\n",
    "Obtenga el último trabajo de Álvaro Uribe Vélez"
   ]
  },
  {
   "cell_type": "code",
   "execution_count": 32,
   "metadata": {
    "colab": {
     "base_uri": "https://localhost:8080/",
     "height": 35
    },
    "id": "w6ojVcEnzq_A",
    "outputId": "35fb3ee3-f0b6-46f9-b658-9880e98e9539"
   },
   "outputs": [
    {
     "data": {
      "text/plain": [
       "'Influencer'"
      ]
     },
     "execution_count": 32,
     "metadata": {},
     "output_type": "execute_result"
    }
   ],
   "source": [
    "cc=persona[persona['Nombre'].str.lower().str.contains('álvaro uribe vélez')].iloc[0].get('id')\n",
    "trabajo[trabajo['id']==cc]['Cargo'].iloc[-1]"
   ]
  },
  {
   "cell_type": "markdown",
   "metadata": {
    "id": "z2NsLagWs-Jg"
   },
   "source": [
    "## Non-relational databases"
   ]
  },
  {
   "cell_type": "code",
   "execution_count": 33,
   "metadata": {
    "id": "kdRkjfppzq_C"
   },
   "outputs": [],
   "source": [
    "persona=persona.drop('id',axis='columns')"
   ]
  },
  {
   "cell_type": "code",
   "execution_count": 35,
   "metadata": {
    "id": "uERtRxYxzq_C"
   },
   "outputs": [],
   "source": [
    "persona['Trabajo']=''\n",
    "#Column need to be converted to object to assign an advance object like a list\n",
    "persona['Trabajo']=persona['Trabajo'].astype('object')\n",
    "persona.at[0,'Trabajo']=[d1]\n",
    "persona.at[1,'Trabajo']=[d2,d3]\n"
   ]
  },
  {
   "cell_type": "code",
   "execution_count": null,
   "metadata": {
    "colab": {
     "base_uri": "https://localhost:8080/",
     "height": 110
    },
    "id": "cAgJ-aoezq_D",
    "outputId": "11027bd1-9344-4f95-c098-1807c52d1f4f"
   },
   "outputs": [
    {
     "data": {
      "text/html": [
       "<div>\n",
       "<style scoped>\n",
       "    .dataframe tbody tr th:only-of-type {\n",
       "        vertical-align: middle;\n",
       "    }\n",
       "\n",
       "    .dataframe tbody tr th {\n",
       "        vertical-align: top;\n",
       "    }\n",
       "\n",
       "    .dataframe thead th {\n",
       "        text-align: right;\n",
       "    }\n",
       "</style>\n",
       "<table border=\"1\" class=\"dataframe\">\n",
       "  <thead>\n",
       "    <tr style=\"text-align: right;\">\n",
       "      <th></th>\n",
       "      <th>Nombre</th>\n",
       "      <th>Edad</th>\n",
       "      <th>Trabajo</th>\n",
       "    </tr>\n",
       "  </thead>\n",
       "  <tbody>\n",
       "    <tr>\n",
       "      <th>0</th>\n",
       "      <td>Juan Valdez</td>\n",
       "      <td>23</td>\n",
       "      <td>[{'id': 888, 'Inicio': 2010, 'Fin:': None, 'Ca...</td>\n",
       "    </tr>\n",
       "    <tr>\n",
       "      <th>1</th>\n",
       "      <td>Álvaro Uribe Vélez</td>\n",
       "      <td>65</td>\n",
       "      <td>[{'id': 666, 'Inicio': 2013, 'Fin:': 2020, 'Ca...</td>\n",
       "    </tr>\n",
       "  </tbody>\n",
       "</table>\n",
       "</div>"
      ],
      "text/plain": [
       "               Nombre  Edad                                            Trabajo\n",
       "0         Juan Valdez    23  [{'id': 888, 'Inicio': 2010, 'Fin:': None, 'Ca...\n",
       "1  Álvaro Uribe Vélez    65  [{'id': 666, 'Inicio': 2013, 'Fin:': 2020, 'Ca..."
      ]
     },
     "execution_count": 197,
     "metadata": {
      "tags": []
     },
     "output_type": "execute_result"
    }
   ],
   "source": [
    "persona"
   ]
  },
  {
   "cell_type": "code",
   "execution_count": 36,
   "metadata": {
    "colab": {
     "base_uri": "https://localhost:8080/",
     "height": 110
    },
    "id": "Xltdv9ZTzq_E",
    "outputId": "4a8c3a8a-3abe-4b61-900b-54dec0d8b93f"
   },
   "outputs": [
    {
     "data": {
      "text/html": [
       "<div>\n",
       "<style scoped>\n",
       "    .dataframe tbody tr th:only-of-type {\n",
       "        vertical-align: middle;\n",
       "    }\n",
       "\n",
       "    .dataframe tbody tr th {\n",
       "        vertical-align: top;\n",
       "    }\n",
       "\n",
       "    .dataframe thead th {\n",
       "        text-align: right;\n",
       "    }\n",
       "</style>\n",
       "<table border=\"1\" class=\"dataframe\">\n",
       "  <thead>\n",
       "    <tr style=\"text-align: right;\">\n",
       "      <th></th>\n",
       "      <th>Cargo</th>\n",
       "      <th>Compañía</th>\n",
       "      <th>Fin:</th>\n",
       "      <th>Inicio</th>\n",
       "      <th>id</th>\n",
       "    </tr>\n",
       "  </thead>\n",
       "  <tbody>\n",
       "    <tr>\n",
       "      <th>0</th>\n",
       "      <td>Senador</td>\n",
       "      <td>Senado de la República de Colombia</td>\n",
       "      <td>2020.0</td>\n",
       "      <td>2013</td>\n",
       "      <td>666</td>\n",
       "    </tr>\n",
       "    <tr>\n",
       "      <th>1</th>\n",
       "      <td>Influencer</td>\n",
       "      <td>Twitter</td>\n",
       "      <td>NaN</td>\n",
       "      <td>2020</td>\n",
       "      <td>666</td>\n",
       "    </tr>\n",
       "  </tbody>\n",
       "</table>\n",
       "</div>"
      ],
      "text/plain": [
       "        Cargo                            Compañía    Fin:  Inicio   id\n",
       "0     Senador  Senado de la República de Colombia  2020.0    2013  666\n",
       "1  Influencer                             Twitter     NaN    2020  666"
      ]
     },
     "execution_count": 36,
     "metadata": {},
     "output_type": "execute_result"
    }
   ],
   "source": [
    "pd.DataFrame( persona.loc[1,'Trabajo'] )"
   ]
  },
  {
   "cell_type": "markdown",
   "metadata": {
    "id": "hZdJuQRKzq_E"
   },
   "source": [
    "### Actividad\n",
    "Obtenga el último trabajo de Álvaro Uribe Vélez"
   ]
  },
  {
   "cell_type": "code",
   "execution_count": 37,
   "metadata": {
    "colab": {
     "base_uri": "https://localhost:8080/"
    },
    "id": "50pvts9fzq_E",
    "outputId": "1d7d44aa-eea1-4755-d1a7-8158217deccc"
   },
   "outputs": [
    {
     "data": {
      "text/plain": [
       "1    Influencer\n",
       "Name: Trabajo, dtype: object"
      ]
     },
     "execution_count": 37,
     "metadata": {},
     "output_type": "execute_result"
    }
   ],
   "source": [
    "persona[persona['Nombre']=='Álvaro Uribe Vélez'\n",
    "       ].Trabajo.apply(\n",
    "        lambda l: [d.get('Cargo') for d in l ]).str[-1]"
   ]
  },
  {
   "cell_type": "markdown",
   "metadata": {
    "id": "2NdcwWa5tuzv"
   },
   "source": [
    "We have shown that the simple two dimensional spreadsheets where each cell values is a simple type like string, integer, or float, can be represented as a dictionary of lists values or a list of dictionary column-value assignment. \n",
    "\n",
    "We can go further and allow to store in the value itself a more general data structure, like nested lists and dictionaries. This allows advanced data-analysis when the `apply` methos is used to operate inside the nested lists or dictionaries.\n",
    "\n",
    "See for example:\n"
   ]
  },
  {
   "cell_type": "markdown",
   "metadata": {
    "id": "wB4hBVkhoPwR"
   },
   "source": [
    "##  World wide web\n",
    "There are really three kinds of web\n",
    "* The normal web, \n",
    "* The deep web,\n",
    "* _The machine web_. The web for machine readable responses. It is served in `JSON` or `XML`  formats, which preserve programming objects."
   ]
  },
  {
   "cell_type": "markdown",
   "metadata": {
    "id": "4PxEt7R4zq_F"
   },
   "source": [
    "### Normal web"
   ]
  },
  {
   "cell_type": "code",
   "execution_count": 38,
   "metadata": {
    "colab": {
     "base_uri": "https://localhost:8080/",
     "height": 417
    },
    "id": "AysjyMGpzq_G",
    "outputId": "d1cdd85a-37dc-4aaa-dee7-c90698fb5ca8"
   },
   "outputs": [
    {
     "data": {
      "text/html": [
       "<div>\n",
       "<style scoped>\n",
       "    .dataframe tbody tr th:only-of-type {\n",
       "        vertical-align: middle;\n",
       "    }\n",
       "\n",
       "    .dataframe tbody tr th {\n",
       "        vertical-align: top;\n",
       "    }\n",
       "\n",
       "    .dataframe thead th {\n",
       "        text-align: right;\n",
       "    }\n",
       "</style>\n",
       "<table border=\"1\" class=\"dataframe\">\n",
       "  <thead>\n",
       "    <tr style=\"text-align: right;\">\n",
       "      <th></th>\n",
       "      <th>0</th>\n",
       "      <th>1</th>\n",
       "    </tr>\n",
       "  </thead>\n",
       "  <tbody>\n",
       "    <tr>\n",
       "      <th>1</th>\n",
       "      <td>Confirmed deaths per million populationper dat...</td>\n",
       "      <td>NaN</td>\n",
       "    </tr>\n",
       "    <tr>\n",
       "      <th>2</th>\n",
       "      <td>Disease</td>\n",
       "      <td>COVID-19</td>\n",
       "    </tr>\n",
       "    <tr>\n",
       "      <th>3</th>\n",
       "      <td>Virus strain</td>\n",
       "      <td>SARS-CoV-2</td>\n",
       "    </tr>\n",
       "    <tr>\n",
       "      <th>4</th>\n",
       "      <td>Source</td>\n",
       "      <td>Probably bats, possibly via pangolins[1][2]</td>\n",
       "    </tr>\n",
       "    <tr>\n",
       "      <th>5</th>\n",
       "      <td>Location</td>\n",
       "      <td>Worldwide</td>\n",
       "    </tr>\n",
       "    <tr>\n",
       "      <th>6</th>\n",
       "      <td>First outbreak</td>\n",
       "      <td>Mainland China[3]</td>\n",
       "    </tr>\n",
       "    <tr>\n",
       "      <th>7</th>\n",
       "      <td>Index case</td>\n",
       "      <td>Wuhan, Hubei, China.mw-parser-output .geo-defa...</td>\n",
       "    </tr>\n",
       "    <tr>\n",
       "      <th>8</th>\n",
       "      <td>Date</td>\n",
       "      <td>1 December 2019 (2019-12-01)[3] – present(1 ye...</td>\n",
       "    </tr>\n",
       "    <tr>\n",
       "      <th>9</th>\n",
       "      <td>Confirmed cases</td>\n",
       "      <td>128,104,216[4]</td>\n",
       "    </tr>\n",
       "    <tr>\n",
       "      <th>10</th>\n",
       "      <td>Active cases</td>\n",
       "      <td>52,657,283[4]</td>\n",
       "    </tr>\n",
       "    <tr>\n",
       "      <th>11</th>\n",
       "      <td>Recovered</td>\n",
       "      <td>72,645,238[4]</td>\n",
       "    </tr>\n",
       "    <tr>\n",
       "      <th>12</th>\n",
       "      <td>Deaths</td>\n",
       "      <td>2,801,695[4]</td>\n",
       "    </tr>\n",
       "    <tr>\n",
       "      <th>13</th>\n",
       "      <td>Territories</td>\n",
       "      <td>192[4]</td>\n",
       "    </tr>\n",
       "  </tbody>\n",
       "</table>\n",
       "</div>"
      ],
      "text/plain": [
       "                                                    0  \\\n",
       "1   Confirmed deaths per million populationper dat...   \n",
       "2                                             Disease   \n",
       "3                                        Virus strain   \n",
       "4                                              Source   \n",
       "5                                            Location   \n",
       "6                                      First outbreak   \n",
       "7                                          Index case   \n",
       "8                                                Date   \n",
       "9                                     Confirmed cases   \n",
       "10                                       Active cases   \n",
       "11                                          Recovered   \n",
       "12                                             Deaths   \n",
       "13                                        Territories   \n",
       "\n",
       "                                                    1  \n",
       "1                                                 NaN  \n",
       "2                                            COVID-19  \n",
       "3                                          SARS-CoV-2  \n",
       "4         Probably bats, possibly via pangolins[1][2]  \n",
       "5                                           Worldwide  \n",
       "6                                   Mainland China[3]  \n",
       "7   Wuhan, Hubei, China.mw-parser-output .geo-defa...  \n",
       "8   1 December 2019 (2019-12-01)[3] – present(1 ye...  \n",
       "9                                      128,104,216[4]  \n",
       "10                                      52,657,283[4]  \n",
       "11                                      72,645,238[4]  \n",
       "12                                       2,801,695[4]  \n",
       "13                                             192[4]  "
      ]
     },
     "execution_count": 38,
     "metadata": {},
     "output_type": "execute_result"
    }
   ],
   "source": [
    "pd.read_html('https://en.wikipedia.org/wiki/COVID-19_pandemic_by_country_and_territory')[0][1:]"
   ]
  },
  {
   "cell_type": "markdown",
   "metadata": {
    "id": "YZUVC-Ghzq_H"
   },
   "source": [
    "Real world example: microsoft academics\n",
    "![img](https://docs.microsoft.com/en-us/academic-services/graph/media/erd/entity-relationship-diagram.png)"
   ]
  },
  {
   "cell_type": "markdown",
   "metadata": {
    "id": "7O9SUEirzq_Q"
   },
   "source": [
    "### Machine web\n",
    "For example, consider the following normal web page:\n",
    "\n",
    "http://old.inspirehep.net/search?p=doi:10.1103/PhysRevLett.122.132001\n",
    "\n",
    "about a Scientific paper with people from the University of Antioquia. A _machine web_ version can be easily obtained in JSON just by attaching the extra parameter `&of=recjson`, and direcly loaded from Pandas, which works like a _browser for the third web_:"
   ]
  },
  {
   "cell_type": "code",
   "execution_count": null,
   "metadata": {
    "id": "EyqyZmUUzq_R"
   },
   "outputs": [],
   "source": [
    "import pandas as pd"
   ]
  },
  {
   "cell_type": "code",
   "execution_count": 76,
   "metadata": {
    "id": "-cg2w7wsoo7H"
   },
   "outputs": [],
   "source": [
    "df=pd.read_json('http://old.inspirehep.net/search?p=doi:10.1103/PhysRevLett.122.132001&of=recjson')"
   ]
  },
  {
   "cell_type": "code",
   "execution_count": 44,
   "metadata": {
    "colab": {
     "base_uri": "https://localhost:8080/",
     "height": 169
    },
    "id": "MPiuuciYo90S",
    "outputId": "a4ab9e15-da97-4b44-fb81-e38a9ffbe939"
   },
   "outputs": [
    {
     "data": {
      "text/html": [
       "<div>\n",
       "<style scoped>\n",
       "    .dataframe tbody tr th:only-of-type {\n",
       "        vertical-align: middle;\n",
       "    }\n",
       "\n",
       "    .dataframe tbody tr th {\n",
       "        vertical-align: top;\n",
       "    }\n",
       "\n",
       "    .dataframe thead th {\n",
       "        text-align: right;\n",
       "    }\n",
       "</style>\n",
       "<table border=\"1\" class=\"dataframe\">\n",
       "  <thead>\n",
       "    <tr style=\"text-align: right;\">\n",
       "      <th></th>\n",
       "      <th>FIXME_OAI</th>\n",
       "      <th>abstract</th>\n",
       "      <th>accelerator_experiment</th>\n",
       "      <th>authors</th>\n",
       "      <th>cataloguer_info</th>\n",
       "      <th>collection</th>\n",
       "      <th>comment</th>\n",
       "      <th>corporate_name</th>\n",
       "      <th>coyright</th>\n",
       "      <th>creation_date</th>\n",
       "      <th>...</th>\n",
       "      <th>publication_info</th>\n",
       "      <th>recid</th>\n",
       "      <th>reference</th>\n",
       "      <th>source_of_acquisition</th>\n",
       "      <th>subject</th>\n",
       "      <th>system_control_number</th>\n",
       "      <th>thesaurus_terms</th>\n",
       "      <th>title</th>\n",
       "      <th>url</th>\n",
       "      <th>version_id</th>\n",
       "    </tr>\n",
       "  </thead>\n",
       "  <tbody>\n",
       "    <tr>\n",
       "      <th>0</th>\n",
       "      <td>{'set': ['CERN', 'INSPIRE:HEP', 'CERN:arXiv', ...</td>\n",
       "      <td>[{'number': 'arXiv', 'summary': 'Signals consi...</td>\n",
       "      <td>{'experiment': 'CERN-LHC-CMS'}</td>\n",
       "      <td>[{'INSPIRE_number': 'INSPIRE-00312131', 'affil...</td>\n",
       "      <td>{'creation_date': '2019-02-05'}</td>\n",
       "      <td>[{'primary': 'HEP'}, {'primary': 'Citeable'}, ...</td>\n",
       "      <td>Submitted to Phys. Rev. Lett. All figures and ...</td>\n",
       "      <td>[{'collaboration': 'CMS'}]</td>\n",
       "      <td>{'date': '2019', 'holder_contact': 'publicatio...</td>\n",
       "      <td>2019-02-05T04:03:36</td>\n",
       "      <td>...</td>\n",
       "      <td>{'volume': '122', 'pagination': '132001', 'tit...</td>\n",
       "      <td>1718338</td>\n",
       "      <td>[{'title': 'Phys.Rev.Lett.,81,2432', 'year': '...</td>\n",
       "      <td>{'source_of_acquisition': 'arXiv', 'date': '20...</td>\n",
       "      <td>[{'source': 'INSPIRE', 'term': 'Experiment-HEP...</td>\n",
       "      <td>[{'institute': 'INSPIRETeX', 'value': 'Sirunya...</td>\n",
       "      <td>[{'term': 'p p: scattering'}, {'term': 'p p: c...</td>\n",
       "      <td>{'title': 'Observation of Two Excited B$^+_\\ma...</td>\n",
       "      <td>[{'url': 'http://inspirehep.net/record/1718338...</td>\n",
       "      <td>2021-02-26T15:19:21</td>\n",
       "    </tr>\n",
       "  </tbody>\n",
       "</table>\n",
       "<p>1 rows × 36 columns</p>\n",
       "</div>"
      ],
      "text/plain": [
       "                                           FIXME_OAI  \\\n",
       "0  {'set': ['CERN', 'INSPIRE:HEP', 'CERN:arXiv', ...   \n",
       "\n",
       "                                            abstract  \\\n",
       "0  [{'number': 'arXiv', 'summary': 'Signals consi...   \n",
       "\n",
       "           accelerator_experiment  \\\n",
       "0  {'experiment': 'CERN-LHC-CMS'}   \n",
       "\n",
       "                                             authors  \\\n",
       "0  [{'INSPIRE_number': 'INSPIRE-00312131', 'affil...   \n",
       "\n",
       "                   cataloguer_info  \\\n",
       "0  {'creation_date': '2019-02-05'}   \n",
       "\n",
       "                                          collection  \\\n",
       "0  [{'primary': 'HEP'}, {'primary': 'Citeable'}, ...   \n",
       "\n",
       "                                             comment  \\\n",
       "0  Submitted to Phys. Rev. Lett. All figures and ...   \n",
       "\n",
       "               corporate_name  \\\n",
       "0  [{'collaboration': 'CMS'}]   \n",
       "\n",
       "                                            coyright        creation_date  \\\n",
       "0  {'date': '2019', 'holder_contact': 'publicatio...  2019-02-05T04:03:36   \n",
       "\n",
       "          ...                                            publication_info  \\\n",
       "0         ...           {'volume': '122', 'pagination': '132001', 'tit...   \n",
       "\n",
       "     recid                                          reference  \\\n",
       "0  1718338  [{'title': 'Phys.Rev.Lett.,81,2432', 'year': '...   \n",
       "\n",
       "                               source_of_acquisition  \\\n",
       "0  {'source_of_acquisition': 'arXiv', 'date': '20...   \n",
       "\n",
       "                                             subject  \\\n",
       "0  [{'source': 'INSPIRE', 'term': 'Experiment-HEP...   \n",
       "\n",
       "                               system_control_number  \\\n",
       "0  [{'institute': 'INSPIRETeX', 'value': 'Sirunya...   \n",
       "\n",
       "                                     thesaurus_terms  \\\n",
       "0  [{'term': 'p p: scattering'}, {'term': 'p p: c...   \n",
       "\n",
       "                                               title  \\\n",
       "0  {'title': 'Observation of Two Excited B$^+_\\ma...   \n",
       "\n",
       "                                                 url           version_id  \n",
       "0  [{'url': 'http://inspirehep.net/record/1718338...  2021-02-26T15:19:21  \n",
       "\n",
       "[1 rows x 36 columns]"
      ]
     },
     "execution_count": 44,
     "metadata": {},
     "output_type": "execute_result"
    }
   ],
   "source": [
    "df"
   ]
  },
  {
   "cell_type": "markdown",
   "metadata": {
    "id": "SyVgDj1ApPtP"
   },
   "source": [
    "We can see that the column `authors` is quite nested: Is a list of dictionaries with the full information for each one of the authors of the article."
   ]
  },
  {
   "cell_type": "code",
   "execution_count": 45,
   "metadata": {
    "colab": {
     "base_uri": "https://localhost:8080/"
    },
    "id": "7pMjjzxuzq_T",
    "outputId": "378c18ef-af1b-42ff-f637-63320c6052da"
   },
   "outputs": [
    {
     "data": {
      "text/plain": [
       "Index(['FIXME_OAI', 'abstract', 'accelerator_experiment', 'authors',\n",
       "       'cataloguer_info', 'collection', 'comment', 'corporate_name',\n",
       "       'coyright', 'creation_date', 'doi', 'filenames', 'files', 'filetypes',\n",
       "       'imprint', 'keywords', 'license', 'number_of_authors',\n",
       "       'number_of_citations', 'number_of_comments', 'number_of_reviews',\n",
       "       'other_report_number', 'persistent_identifiers_keys',\n",
       "       'physical_description', 'prepublication', 'primary_report_number',\n",
       "       'publication_info', 'recid', 'reference', 'source_of_acquisition',\n",
       "       'subject', 'system_control_number', 'thesaurus_terms', 'title', 'url',\n",
       "       'version_id'],\n",
       "      dtype='object')"
      ]
     },
     "execution_count": 45,
     "metadata": {},
     "output_type": "execute_result"
    }
   ],
   "source": [
    "df.columns"
   ]
  },
  {
   "cell_type": "code",
   "execution_count": 46,
   "metadata": {
    "colab": {
     "base_uri": "https://localhost:8080/"
    },
    "id": "FoV20hYHzq_T",
    "outputId": "1a201cdd-953f-470e-ed79-f9333d90d389"
   },
   "outputs": [
    {
     "data": {
      "text/plain": [
       "0    2279\n",
       "Name: number_of_authors, dtype: int64"
      ]
     },
     "execution_count": 46,
     "metadata": {},
     "output_type": "execute_result"
    }
   ],
   "source": [
    "df.number_of_authors "
   ]
  },
  {
   "cell_type": "code",
   "execution_count": 47,
   "metadata": {
    "colab": {
     "base_uri": "https://localhost:8080/"
    },
    "id": "BybpMovNsB7N",
    "outputId": "02ea58b8-5a5a-41ed-c690-9d8e2bde5bd7"
   },
   "outputs": [
    {
     "data": {
      "text/plain": [
       "0    [{'INSPIRE_number': 'INSPIRE-00312131', 'affil...\n",
       "Name: authors, dtype: object"
      ]
     },
     "execution_count": 47,
     "metadata": {},
     "output_type": "execute_result"
    }
   ],
   "source": [
    "df.authors"
   ]
  },
  {
   "cell_type": "markdown",
   "metadata": {
    "id": "8zr5Nsxwsikt"
   },
   "source": [
    "__Activity__: Check that the lenght of the auhors list coincides with the `number_of_authors` \n",
    "<!-- df.authors.apply(len),df.number_of_authors.values -->"
   ]
  },
  {
   "cell_type": "code",
   "execution_count": 73,
   "metadata": {
    "colab": {
     "base_uri": "https://localhost:8080/"
    },
    "id": "dYK4n_sqzq_U",
    "outputId": "a66d154c-1979-43a4-fb05-cd8b8a77c0ba"
   },
   "outputs": [
    {
     "data": {
      "text/plain": [
       "0    2279\n",
       "Name: authors, dtype: int64"
      ]
     },
     "execution_count": 73,
     "metadata": {},
     "output_type": "execute_result"
    }
   ],
   "source": [
    "df.authors.apply(len)"
   ]
  },
  {
   "cell_type": "code",
   "execution_count": 74,
   "metadata": {
    "colab": {
     "base_uri": "https://localhost:8080/"
    },
    "id": "I1IvH1K-s46d",
    "outputId": "a916a7fc-5c4e-4d94-967b-3215edaac819"
   },
   "outputs": [
    {
     "data": {
      "text/plain": [
       "{'INSPIRE_number': 'INSPIRE-00312131',\n",
       " 'affiliation': 'Yerevan Phys. Inst.',\n",
       " 'first_name': 'Albert M',\n",
       " 'last_name': 'Sirunyan',\n",
       " 'full_name': 'Sirunyan, Albert M'}"
      ]
     },
     "execution_count": 74,
     "metadata": {},
     "output_type": "execute_result"
    }
   ],
   "source": [
    "df.authors[0][0]"
   ]
  },
  {
   "cell_type": "markdown",
   "metadata": {
    "id": "i22ywhohsAVo"
   },
   "source": [
    " We can use all the previous methods to extract the authors from `'Antioquia U.'`:\n",
    " \n",
    " Note: For a dictionary, `d` is safer to use `d.get('key')` instead of just `d['key']` to obtain some `key`, because not error is generated if the requested `key` does not exists at all "
   ]
  },
  {
   "cell_type": "code",
   "execution_count": 75,
   "metadata": {
    "colab": {
     "base_uri": "https://localhost:8080/"
    },
    "id": "gVDbo0yszq_W",
    "outputId": "126ac5e4-78e8-4eae-e10f-f24ae6e549be"
   },
   "outputs": [
    {
     "data": {
      "text/plain": [
       "[{'INSPIRE_number': 'INSPIRE-00343518',\n",
       "  'affiliation': 'Antioquia U.',\n",
       "  'first_name': 'Jhovanny',\n",
       "  'last_name': 'Mejia Guisao',\n",
       "  'full_name': 'Mejia Guisao, Jhovanny'},\n",
       " {'INSPIRE_number': 'INSPIRE-00355050',\n",
       "  'affiliation': 'Antioquia U.',\n",
       "  'first_name': 'José David',\n",
       "  'last_name': 'Ruiz Alvarez',\n",
       "  'full_name': 'Ruiz Alvarez, José David'}]"
      ]
     },
     "execution_count": 75,
     "metadata": {},
     "output_type": "execute_result"
    }
   ],
   "source": [
    "df.authors.apply(lambda l: [d for d in l if d.get('affiliation')=='Antioquia U.']).loc[0]"
   ]
  },
  {
   "cell_type": "markdown",
   "metadata": {
    "id": "6wEPaGquzq_X"
   },
   "source": [
    "We also need use comprenhension list like in"
   ]
  },
  {
   "cell_type": "code",
   "execution_count": 64,
   "metadata": {
    "id": "WfaoaabVzq_X"
   },
   "outputs": [],
   "source": [
    "l=[1,2,3]"
   ]
  },
  {
   "cell_type": "code",
   "execution_count": 65,
   "metadata": {
    "id": "SYKIKfXnzq_Y",
    "outputId": "34cb74fe-9cfa-4392-98d9-63292d32cda7"
   },
   "outputs": [
    {
     "data": {
      "text/plain": [
       "[3, 2, 3]"
      ]
     },
     "execution_count": 65,
     "metadata": {},
     "output_type": "execute_result"
    }
   ],
   "source": [
    "[x if x>1 else 3 for x in l ]"
   ]
  },
  {
   "cell_type": "markdown",
   "metadata": {
    "id": "0nItql-mzq_Y"
   },
   "source": [
    "Then the on-fly apply function to extract the authors with affiliation 'Antioquia U.' is"
   ]
  },
  {
   "cell_type": "code",
   "execution_count": 66,
   "metadata": {
    "colab": {
     "base_uri": "https://localhost:8080/",
     "height": 54
    },
    "id": "1cx7xy2rpOzg",
    "outputId": "e2a0b01a-7f8e-4f6f-848d-c15d53f44ae3"
   },
   "outputs": [
    {
     "data": {
      "text/plain": [
       "0    [Mejia Guisao, Jhovanny, Ruiz Alvarez, José Da...\n",
       "Name: authors, dtype: object"
      ]
     },
     "execution_count": 66,
     "metadata": {},
     "output_type": "execute_result"
    }
   ],
   "source": [
    "df.authors.apply(lambda l:  #implicit function\n",
    "                           [ d.get('full_name') #safer way to obtain a `key` value\n",
    "                             for d in l   #comprehension list \n",
    "                              if isinstance(d,dict) and d.get('affiliation')=='Antioquia U.' #condition\n",
    "                           ] \n",
    "                             if isinstance(l,list) else None #  Be sure that cell have the proper format\n",
    "                 )"
   ]
  },
  {
   "cell_type": "markdown",
   "metadata": {
    "id": "-YpfjPAdu19J"
   },
   "source": [
    "A simpler version is possible,  but is more prompted to error when used through multiple column entries:"
   ]
  },
  {
   "cell_type": "code",
   "execution_count": 67,
   "metadata": {
    "colab": {
     "base_uri": "https://localhost:8080/",
     "height": 54
    },
    "id": "oM80j8zdvAdq",
    "outputId": "0a5bc9e0-cd9e-44b0-86eb-b4f409298b8b"
   },
   "outputs": [
    {
     "data": {
      "text/plain": [
       "0    [Mejia Guisao, Jhovanny, Ruiz Alvarez, José Da...\n",
       "Name: authors, dtype: object"
      ]
     },
     "execution_count": 67,
     "metadata": {},
     "output_type": "execute_result"
    }
   ],
   "source": [
    "df.authors.apply(lambda l: [ d['full_name'] for d in l   \n",
    "                              if d['affiliation']=='Antioquia U.'\n",
    "                           ] )"
   ]
  },
  {
   "cell_type": "markdown",
   "metadata": {
    "id": "1Z96Ju2gwQO0"
   },
   "source": [
    "For further details see: https://github.com/restrepo/inspire/blob/master/gfif.ipynb\n"
   ]
  },
  {
   "cell_type": "markdown",
   "metadata": {
    "id": "h4N3ebVAzq_a"
   },
   "source": [
    "__Activity__: Repeat the same activity but using directly the JSON file"
   ]
  },
  {
   "cell_type": "markdown",
   "metadata": {
    "id": "h8HcGDARzq_b"
   },
   "source": [
    "__NOTE__: The same but with the new API"
   ]
  },
  {
   "cell_type": "code",
   "execution_count": 68,
   "metadata": {
    "id": "_UFQ9neWzq_b",
    "outputId": "2ed7d1f9-973b-4437-979c-2e5b3e71f3cb"
   },
   "outputs": [
    {
     "data": {
      "text/plain": [
       "['Mejia Guisao, Jhovanny', 'Ruiz Alvarez, José David']"
      ]
     },
     "execution_count": 68,
     "metadata": {},
     "output_type": "execute_result"
    }
   ],
   "source": [
    "#See: https://github.com/inspirehep/rest-api-doc/issues/4#issuecomment-645218074\n",
    "import requests                                                                                                                                                      \n",
    "response = requests.get('https://inspirehep.net/api/doi/10.1103/PhysRevLett.122.132001')                                                                              \n",
    "authors = response.json()['metadata']['authors']                                                                                                                     \n",
    "names = [author.get('full_name')\n",
    "              for author in authors \n",
    "               if any(aff.get('value') == 'Antioquia U.' for aff in author.get('affiliations'))]\n",
    "names"
   ]
  },
  {
   "cell_type": "code",
   "execution_count": 79,
   "metadata": {},
   "outputs": [],
   "source": [
    "df.to_json('formatojson.json',orient='records')\n",
    "x=pd.read_json('formatojson.json',)"
   ]
  },
  {
   "cell_type": "code",
   "execution_count": 80,
   "metadata": {},
   "outputs": [
    {
     "data": {
      "text/plain": [
       "0    2279\n",
       "Name: authors, dtype: int64"
      ]
     },
     "execution_count": 80,
     "metadata": {},
     "output_type": "execute_result"
    }
   ],
   "source": [
    "x.authors.apply(len)#longitud de la columna de autores"
   ]
  },
  {
   "cell_type": "code",
   "execution_count": 81,
   "metadata": {},
   "outputs": [
    {
     "data": {
      "text/plain": [
       "0    2279\n",
       "Name: number_of_authors, dtype: int64"
      ]
     },
     "execution_count": 81,
     "metadata": {},
     "output_type": "execute_result"
    }
   ],
   "source": [
    "x.number_of_authors #el numero de autores\n",
    "\"\"\"el numero de autores coincide con la longitud de la colimna\n",
    "de autores\"\"\""
   ]
  },
  {
   "cell_type": "markdown",
   "metadata": {
    "id": "D7SNm2ABxE22"
   },
   "source": [
    "##  ACTIVITIES\n",
    "See:\n",
    "* https://github.com/ajcr/100-pandas-puzzles\n",
    "* https://github.com/guipsamora/pandas_exercises"
   ]
  },
  {
   "cell_type": "markdown",
   "metadata": {
    "id": "fWjYdB7LxE23"
   },
   "source": [
    "## Final remarks\n",
    "With basic scripting and Pandas we already have a solid environment to analyse data. We introduce the other libraries motivated with the extending the capabilities of Pandas"
   ]
  },
  {
   "cell_type": "code",
   "execution_count": null,
   "metadata": {
    "id": "erRi7J01xE24"
   },
   "outputs": [],
   "source": []
  }
 ],
 "metadata": {
  "colab": {
   "name": "Copia de Pandas.ipynb",
   "provenance": []
  },
  "kernelspec": {
   "display_name": "Python 3",
   "language": "python",
   "name": "python3"
  },
  "language_info": {
   "codemirror_mode": {
    "name": "ipython",
    "version": 3
   },
   "file_extension": ".py",
   "mimetype": "text/x-python",
   "name": "python",
   "nbconvert_exporter": "python",
   "pygments_lexer": "ipython3",
   "version": "3.6.9"
  },
  "toc": {
   "colors": {
    "hover_highlight": "#DAA520",
    "running_highlight": "#FF0000",
    "selected_highlight": "#FFD700"
   },
   "moveMenuLeft": true,
   "nav_menu": {},
   "navigate_menu": true,
   "number_sections": true,
   "sideBar": true,
   "threshold": 4,
   "toc_cell": false,
   "toc_section_display": "block",
   "toc_window_display": false
  }
 },
 "nbformat": 4,
 "nbformat_minor": 1
}
