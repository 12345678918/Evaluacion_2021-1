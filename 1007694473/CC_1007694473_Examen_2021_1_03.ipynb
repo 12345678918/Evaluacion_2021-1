{
  "nbformat": 4,
  "nbformat_minor": 0,
  "metadata": {
    "kernelspec": {
      "display_name": "Python 3 (ipykernel)",
      "language": "python",
      "name": "python3"
    },
    "language_info": {
      "codemirror_mode": {
        "name": "ipython",
        "version": 3
      },
      "file_extension": ".py",
      "mimetype": "text/x-python",
      "name": "python",
      "nbconvert_exporter": "python",
      "pygments_lexer": "ipython3",
      "version": "3.7.3"
    },
    "colab": {
      "name": "CC 1007694473 - Examen_2021_1_03.ipynb",
      "provenance": [],
      "collapsed_sections": []
    }
  },
  "cells": [
    {
      "cell_type": "markdown",
      "metadata": {
        "id": "40WhQJy2EWqx"
      },
      "source": [
        "# Casas-Ibarra\n",
        "Let $\\boldsymbol{A}$ $3\\times3$ a symmetric non-diagonal matrix with the following set of eigenvalues and eigenvectors:\n"
      ]
    },
    {
      "cell_type": "markdown",
      "metadata": {
        "id": "cwKjVMtNvgl0"
      },
      "source": [
        "____"
      ]
    },
    {
      "cell_type": "markdown",
      "metadata": {
        "id": "G-uQDCOkvgl0"
      },
      "source": [
        "### Eigenvalues\n",
        "The normal ordering of the absolute value of the eigenvalues is $m_1<m_2<m_3$. Each eigenvalue is expressed in units of eV, which just of an energy unit.\n",
        "### Eigenvectors\n",
        "The eigenvectors in the normal ordering are defined by\n",
        "$$\n",
        "\\boldsymbol{U}^T \\boldsymbol{A} \\boldsymbol{U}=\n",
        "\\begin{pmatrix}\n",
        "m_1& 0 & 0\\\\\n",
        "0 & m_2& 0\\\\\n",
        "0 & 0 & m_3\\\\\n",
        "\\end{pmatrix}.\n",
        "$$\n",
        "The unitary matrix can be parameterized in terms of three mixing angles, $\\theta_{23}$ $\\theta_{13}$, $\\theta_{12}$, such that\n",
        "$$\n",
        "\\boldsymbol{U}=\\left(\\begin{array}{ccc}\n",
        "1 & 0 & 0 \\\\\n",
        "0 & c_{23} & s_{23} \\\\\n",
        "0 & -s_{23} & c_{23}\n",
        "\\end{array}\\right) \\cdot\\left(\\begin{array}{ccc}\n",
        "c_{13} & 0 & s_{13}  \\\\\n",
        "0 & 1 & 0 \\\\\n",
        "-s_{13}  & 0 & c_{13}\n",
        "\\end{array}\\right) \\cdot\\left(\\begin{array}{ccc}\n",
        "c_{12} & s_{12} & 0 \\\\\n",
        "-s_{12} & c_{12} & 0 \\\\\n",
        "0 & 0 & 1\n",
        "\\end{array}\\right),\n",
        "$$\n",
        "where $c_{i j} \\equiv \\cos \\theta_{i j}$ and $s_{i j} \\equiv \\sin \\theta_{i j}$. Thus, we can write $\\boldsymbol{U}$ as\n",
        "$$\n",
        "\\boldsymbol{U}=\\left(\\begin{array}{ccc}c_{12} c_{13} & s_{12} c_{13} & s_{13}  \\\\ -s_{12} c_{23}-c_{12} s_{13} s_{23}& c_{12} c_{23}-s_{12} s_{13} s_{23}  & c_{13} s_{23} \\\\ s_{12} s_{23}-c_{12} s_{13} c_{23} & -c_{12} s_{23}-s_{12} s_{13} c_{23}  & c_{13} c_{23}\\end{array}\\right)\n",
        "$$\n",
        "so that\n",
        "$$\n",
        "\\boldsymbol{U}_1=\\begin{pmatrix}U_{e1}\\\\ U_{\\mu 1}\\\\ U_{\\tau 1}\\end{pmatrix}=\\begin{pmatrix}\n",
        "c_{12} c_{13} \\\\\n",
        "-s_{12} c_{23}-c_{12} s_{13} s_{23}  \\\\\n",
        "s_{12} s_{23}-c_{12} s_{13} c_{23} \n",
        "\\end{pmatrix},\\qquad \n",
        "\\boldsymbol{U}_2=\\begin{pmatrix}U_{e2}\\\\ U_{\\mu 2}\\\\ U_{\\tau 2}\\end{pmatrix}=\\begin{pmatrix}\n",
        "s_{12} c_{13} \\\\\n",
        "c_{12} c_{23}-s_{12} s_{13} s_{23}  \\\\\n",
        "-c_{12} s_{23}-s_{12} s_{13} c_{23} \n",
        "\\end{pmatrix},\\qquad\n",
        "\\boldsymbol{U}_3=\\begin{pmatrix}U_{e3}\\\\ U_{\\mu 3}\\\\ U_{\\tau 3}\\end{pmatrix}=\\begin{pmatrix}\n",
        "s_{13}  \\\\\n",
        "c_{13} s_{23} \\\\\n",
        "c_{13} c_{23}\n",
        "\\end{pmatrix}\n",
        "$$\n",
        "\n",
        "### Data\n",
        "Use the _central values_  of the following table but ignoring $\\delta_{CP}$ (In the previous equations was fixed to $\\delta_{CP}=0$). __Hint__: take care of the denominator in the first colum.\n",
        "\n",
        "![IMAGE](https://github.com/restrepo/ComputationalMethods/raw/master/material/figures/nu.png)\n",
        "\n",
        "where $\\Delta m^2_{ij}=m^2_i-m^2_j$ is the squared mass difference between eigenvalues $i$ and $j$; in units of $\\text{eV}^2$.\n"
      ]
    },
    {
      "cell_type": "markdown",
      "metadata": {
        "id": "bnSCrqmSvgl1"
      },
      "source": [
        "### Casas-Ibarra parameterization\n",
        "We can assumme without lost of generality that $\\boldsymbol{A}$ can be generated from a matrix $\\boldsymbol{Y}$ such that\n",
        "$$\n",
        "\\boldsymbol{A}=\\boldsymbol{Y}^{\\operatorname{T}}\\boldsymbol{Y}\n",
        "$$\n",
        "\n",
        "The matrix $\\boldsymbol{Y}$ can be parameterized in terms of an arbitray orthogonal $3\\times 3$ matrix, $\\boldsymbol{R}$, as\n",
        "$$\n",
        "\\boldsymbol{Y}=\\boldsymbol{R} \\boldsymbol{D}_{\\sqrt{m}} \\boldsymbol{U}^{\\operatorname{T}}\n",
        "$$\n",
        "\n",
        "\n",
        "* $R$ is an orthogonal $3\\times 3$ matrix, with three rotation angles $\\alpha_{ij}$ between $(0,2\\pi)$\n",
        "$$\n",
        "\\boldsymbol{R}=\\left(\\begin{array}{ccc}c^\\alpha_{12} c^\\alpha_{13} & s^\\alpha_{12} c^\\alpha_{13} & s^\\alpha_{13}  \\\\ -s^\\alpha_{12} c^\\alpha_{23}-c^\\alpha_{12} s^\\alpha_{13} s^\\alpha_{23}& c^\\alpha_{12} c^\\alpha_{23}-s^\\alpha_{12} s^\\alpha_{13} s^\\alpha_{23}  & c^\\alpha_{13} s^\\alpha_{23} \\\\ s^\\alpha_{12} s^\\alpha_{23}-c^\\alpha_{12} s^\\alpha_{13} c^\\alpha_{23} & -c^\\alpha_{12} s^\\alpha_{23}-s^\\alpha_{12} s^\\alpha_{13} c^\\alpha_{23}  & c^\\alpha_{13} c^\\alpha_{23}\\end{array}\\right)\n",
        "$$\n",
        "where $c^\\alpha_{i j} \\equiv \\cos \\alpha_{i j}$ and $s^\\alpha_{i j} \\equiv \\sin \\alpha_{i j}$.\n",
        "\n",
        "* $$\n",
        " \\boldsymbol{D}_{\\sqrt{m}}=\\operatorname{diag}\\left(\\sqrt{m_1},\\sqrt{m_2},\\sqrt{m_3}\\right)\n",
        "$$"
      ]
    },
    {
      "cell_type": "markdown",
      "metadata": {
        "id": "Iqj7EWSPvgl3"
      },
      "source": [
        "### Problem\n",
        "1. Choose a random value for $m_1$ between $10^{-9}\\ \\text{eV}$ and $10^{-4}\\ \\text{eV}$. Note that because of the wide range, the random variation  must be in the exponents. Obtain the corresponding $m_2$ and $m_3$ with the proper normal ordering.\n",
        "1. Choose random values for $\\alpha_{ij}$  between $(0,2\\pi)$\n",
        "1. Obtain $\\boldsymbol{Y}$\n",
        "1. Check that the generated $\\boldsymbol{A}$ has the proper eigenvalues and eigenvectors\n",
        "1. Check that the eigenvalues of $\\boldsymbol{Y}$ correspond to the square root of the eigenvalues of $\\boldsymbol{A}$ and explain why."
      ]
    },
    {
      "cell_type": "code",
      "metadata": {
        "id": "OgCzCabJBTSz"
      },
      "source": [
        "import numpy as np"
      ],
      "execution_count": null,
      "outputs": []
    },
    {
      "cell_type": "code",
      "metadata": {
        "id": "2J0n-8Rfvqks",
        "colab": {
          "base_uri": "https://localhost:8080/"
        },
        "outputId": "4959bbcc-04f2-4870-e18d-4ebb49f99151"
      },
      "source": [
        "''' ============= Punto 1 ============= '''\n",
        "\n",
        "m1 = np.random.uniform(-9, -4)\n",
        "m1 = 10**m1\n",
        "\n",
        "dm21 = 7.39*10**(-5)\n",
        "m2 = np.sqrt(m1**2 + dm21)\n",
        "\n",
        "dm32 = 2.449*10**(-3)\n",
        "m3 = np.sqrt(dm32 + m2**2)\n",
        "\n",
        "m1, m2, m3     # se cumple que las masas m1 < m2 < m3"
      ],
      "execution_count": null,
      "outputs": [
        {
          "output_type": "execute_result",
          "data": {
            "text/plain": [
              "(8.762068141886157e-05, 0.008596957449226577, 0.05022855440268824)"
            ]
          },
          "metadata": {},
          "execution_count": 8
        }
      ]
    },
    {
      "cell_type": "code",
      "metadata": {
        "colab": {
          "base_uri": "https://localhost:8080/"
        },
        "id": "rO7Ue2mRCEK0",
        "outputId": "f67efd7b-defb-4b63-a630-558deffb9cc0"
      },
      "source": [
        "''' ============= Punto 2 ============= '''\n",
        "\n",
        "alpha12 = np.random.uniform(0, 2*np.pi)\n",
        "alpha13 = np.random.uniform(0, 2*np.pi)\n",
        "alpha23 = np.random.uniform(0, 2*np.pi)\n",
        "\n",
        "alpha12, alpha13, alpha23"
      ],
      "execution_count": null,
      "outputs": [
        {
          "output_type": "execute_result",
          "data": {
            "text/plain": [
              "(3.1802400191996005, 1.3980451081047336, 2.215810099913796)"
            ]
          },
          "metadata": {},
          "execution_count": 9
        }
      ]
    },
    {
      "cell_type": "code",
      "metadata": {
        "colab": {
          "base_uri": "https://localhost:8080/"
        },
        "id": "3fDQkxZeDpdD",
        "outputId": "0985f209-456e-444b-961b-5d7612e89b71"
      },
      "source": [
        "''' ============= Punto 3 ============= '''\n",
        "\n",
        "sin_12 = np.sin(alpha12)\n",
        "sin_23 = np.sin(alpha23)\n",
        "sin_13 = np.sin(alpha13)\n",
        "cos_12 = np.cos(alpha12)\n",
        "cos_13 = np.cos(alpha13)\n",
        "cos_23 = np.cos(alpha23)\n",
        "\n",
        "R = np.zeros([3, 3])    # Matriz ortogonal\n",
        "\n",
        "R[0, 0] = cos_12*cos_13\n",
        "R[0, 1] = sin_12*cos_13\n",
        "R[0, 2] = sin_13\n",
        "R[1, 0] = -sin_12*cos_23 - cos_12*sin_13*sin_23\n",
        "R[1, 1] = cos_12*cos_23 - sin_12*sin_13*sin_23\n",
        "R[1, 2] = cos_13*sin_23\n",
        "R[2, 0] = sin_12*sin_23 - cos_12*sin_13*cos_23\n",
        "R[2, 1] = -cos_12*sin_23 - sin_12*sin_13*cos_23\n",
        "R[2, 2] = cos_13*cos_23\n",
        "# -------------------------------------------------------------------\n",
        "\n",
        "Dm = np.diag([m1**0.5, m2**0.5, m3**0.5])     # matriz diagonal\n",
        "\n",
        "# ========== Matriz unitaria ==========\n",
        "sin2_12 = 3.10*0.1\n",
        "sin2_13 = 2.241*0.01\n",
        "sin2_23 = 5.58*0.1\n",
        "\n",
        "# Usamos la identidad trigonométrica cos**2(x) + sin**2(x) = 1\n",
        "cos2_12 = 1 - sin2_12\n",
        "cos2_13 = 1 - sin2_13\n",
        "cos2_23 = 1 - sin2_23\n",
        "\n",
        "# Eliminamos el cuadrados de los senos y cosenos\n",
        "sin2_12 = sin2_12**0.5\n",
        "sin2_13 = sin2_13**0.5\n",
        "sin2_23 = sin2_23**0.5\n",
        "cos2_12 = cos2_12**0.5\n",
        "cos2_13 = cos2_13**0.5\n",
        "cos2_23 = cos2_23**0.5\n",
        "\n",
        "'''\n",
        "theta_12 = 33.82*np.pi/180\n",
        "theta_13 = 8.61*np.pi/180\n",
        "theta_23 = 48.3*np.pi/180\n",
        "\n",
        "sin2_12 = np.sin(theta_12)\n",
        "sin2_13 = np.sin(theta_13)\n",
        "sin2_23 = np.sin(theta_23)\n",
        "cos2_12 = np.cos(theta_12)\n",
        "cos2_13 = np.cos(theta_13)\n",
        "cos2_23 = np.cos(theta_23)'''\n",
        "\n",
        "U = np.zeros([3, 3])\n",
        "\n",
        "U[0, 0] = cos2_12*cos2_13\n",
        "U[0, 1] = sin2_12*cos2_13\n",
        "U[0, 2] = sin2_13\n",
        "U[1, 0] = -sin2_12*cos2_23 - cos2_12*sin2_13*sin2_23\n",
        "U[1, 1] = cos2_12*cos2_23 - sin2_12*sin2_13*sin2_23\n",
        "U[1, 2] = cos2_13*sin2_23\n",
        "U[2, 0] = sin2_12*sin2_23 - cos2_12*sin2_13*cos2_23\n",
        "U[2, 1] = -cos2_12*sin2_23 - sin2_12*sin2_13*cos2_23\n",
        "U[2, 2] = cos2_13*cos2_23\n",
        "\n",
        "# Y = R*Dm*Ut\n",
        "Y = np.dot( np.dot(R, Dm), np.transpose(U) )\n",
        "Y"
      ],
      "execution_count": null,
      "outputs": [
        {
          "output_type": "execute_result",
          "data": {
            "text/plain": [
              "array([[ 0.0313914 ,  0.16350673,  0.14500872],\n",
              "       [ 0.04269397,  0.04810317, -0.01693912],\n",
              "       [ 0.0313347 ,  0.02083003, -0.06577503]])"
            ]
          },
          "metadata": {},
          "execution_count": 10
        }
      ]
    },
    {
      "cell_type": "code",
      "metadata": {
        "colab": {
          "base_uri": "https://localhost:8080/"
        },
        "id": "_0SF7_Lrin7K",
        "outputId": "81d6c253-86d2-4d62-97b8-6863cada2474"
      },
      "source": [
        "''' ============= Punto 4 ============= '''\n",
        "\n",
        "A = np.dot( np.transpose(Y), Y)     # Matriz generada\n",
        "\n",
        "def argeig(a):\n",
        "    \"\"\"\n",
        "    Diagonalize with increasing order in the eigenvalues.\n",
        "  \n",
        "    See help(np.linalg.eig)\n",
        "    \"\"\"\n",
        "    l,V = np.linalg.eig(a)  #diagonalizacion \n",
        "    index = np.abs(l).argsort()\n",
        "    argl = np.sort( l)\n",
        "    argV = np.c_[ tuple([ np.c_[ V[:,i]] for i in index   ]) ]\n",
        "    return argl, argV\n",
        "\n",
        "l, v = argeig(A)\n",
        "\n",
        "# veamos que U sea similar a v (matriz de vectores propios)\n",
        "print('Matriz unitaria U:\\n', U, '\\n')\n",
        "print('Matriz de vectores propios:\\n', v, '\\n')\n",
        "\n",
        "print('\\nMatriz diagonal:\\n', np.diag([m1, m2, m3]), '\\n')\n",
        "print('Matriz diagonal de valores propios de A:\\n', np.diag(l), '\\n')"
      ],
      "execution_count": null,
      "outputs": [
        {
          "output_type": "stream",
          "name": "stdout",
          "text": [
            "Matriz unitaria U:\n",
            " [[ 0.82130208  0.55050241  0.1496997 ]\n",
            " [-0.46305076  0.48998854  0.73857648]\n",
            " [ 0.33323699 -0.67591296  0.65733917]] \n",
            "\n",
            "Matriz de vectores propios:\n",
            " [[-0.82130208 -0.55050241 -0.1496997 ]\n",
            " [ 0.46305076 -0.48998854 -0.73857648]\n",
            " [-0.33323699  0.67591296 -0.65733917]] \n",
            "\n",
            "\n",
            "Matriz diagonal:\n",
            " [[8.76206814e-05 0.00000000e+00 0.00000000e+00]\n",
            " [0.00000000e+00 8.59695745e-03 0.00000000e+00]\n",
            " [0.00000000e+00 0.00000000e+00 5.02285544e-02]] \n",
            "\n",
            "Matriz diagonal de valores propios de A:\n",
            " [[8.76206814e-05 0.00000000e+00 0.00000000e+00]\n",
            " [0.00000000e+00 8.59695745e-03 0.00000000e+00]\n",
            " [0.00000000e+00 0.00000000e+00 5.02285544e-02]] \n",
            "\n"
          ]
        }
      ]
    },
    {
      "cell_type": "code",
      "metadata": {
        "colab": {
          "base_uri": "https://localhost:8080/"
        },
        "id": "1TvzvLiVUSgd",
        "outputId": "8e90d22c-e3a1-4948-e107-19d247d26ec9"
      },
      "source": [
        "''' ============= Punto 5 ============= '''\n",
        "\n",
        "ly, va = argeig(Y)\n",
        "\n",
        "print('Raíz cuadrada de los valores propios de A:', l)\n",
        "print('Valores propios de Y', ly**2)\n",
        "\n",
        "print('\\nDiferencia:', l - ly**2)"
      ],
      "execution_count": null,
      "outputs": [
        {
          "output_type": "stream",
          "name": "stdout",
          "text": [
            "Raíz cuadrada de los valores propios de A: [8.76206814e-05 8.59695745e-03 5.02285544e-02]\n",
            "Valores propios de Y [0.01160688 0.00017928 0.01818296]\n",
            "\n",
            "Diferencia: [-0.01151926  0.00841768  0.0320456 ]\n"
          ]
        }
      ]
    },
    {
      "cell_type": "markdown",
      "metadata": {
        "id": "_HwfgI3rp-o5"
      },
      "source": [
        "como $A=Y^TY$ entonces $diag(m_i)=UAU^T=UY^TYU^T=UY^TU^TUYU^T = diag(eigenvalues(Y^T))diag(eigenvalues(Y))=diag(eigenvalues(Y)^2)  $"
      ]
    }
  ]
}