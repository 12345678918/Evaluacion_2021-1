{
 "cells": [
  {
   "cell_type": "code",
   "execution_count": 43,
   "metadata": {
    "colab": {
     "base_uri": "https://localhost:8080/"
    },
    "id": "sarMw5swnhwv",
    "outputId": "14fdfe7e-5a72-470d-e13c-903499da06b9"
   },
   "outputs": [
    {
     "name": "stdout",
     "output_type": "stream",
     "text": [
      "Overwriting LagrangePolynomial.py\n"
     ]
    }
   ],
   "source": [
    "%%writefile LagrangePolynomial.py\n",
    "\"\"\"\n",
    "From: https://gist.github.com/folkertdev/084c53887c49a6248839\n",
    "A sympy-based Lagrange polynomial constructor. \n",
    "\n",
    "Implementation of Lagrangian interpolating polynomial.\n",
    "See:\n",
    "\n",
    "   def lagrangePolynomial(xs, ys):\n",
    "\n",
    "Given two 1-D arrays `xs` and `ys,` returns the Lagrange interpolating\n",
    "polynomial through the points ``(xs, ys)``\n",
    "\n",
    "\n",
    "Given a set 1-D arrays of inputs and outputs, the lagrangePolynomial function \n",
    "will construct an expression that for every input gives the corresponding output. \n",
    "For intermediate values, the polynomial interpolates (giving varying results \n",
    "based  on the shape of your input). \n",
    "\n",
    "The Lagrangian polynomials can be obtained explicitly with (see below):\n",
    "   \n",
    "   def polyL(xs,j):\n",
    "   \n",
    "as sympy polynomial, and \n",
    "\n",
    "    def L(xs,j):\n",
    "\n",
    "as Python functions.\n",
    "\n",
    "\n",
    "This is useful when the result needs to be used outside of Python, because the \n",
    "expression can easily be copied. To convert the expression to a python function \n",
    "object, use sympy.lambdify.\n",
    "\"\"\"\n",
    "from sympy import symbols, expand, lambdify, solve_poly_system\n",
    "#Python library for arithmetic with arbitrary precision\n",
    "from mpmath import tan, e\n",
    "\n",
    "import math\n",
    "\n",
    "from operator import mul\n",
    "from functools import reduce, lru_cache\n",
    "from itertools import chain\n",
    "\n",
    "# sympy symbols\n",
    "x = symbols('x')\n",
    "\n",
    "# convenience functions\n",
    "product = lambda *args: reduce(mul, *(list(args) + [1]))\n",
    "\n",
    "# test data\n",
    "labels = [(-3/2), (-3/4), 0, 3/4, 3/2]\n",
    "points = [math.tan(v) for v in labels]\n",
    "\n",
    "# this product may be reusable (when creating many functions on the same domain)\n",
    "# therefore, cache the result\n",
    "@lru_cache(16)\n",
    "def l(labels, j):\n",
    "    def gen(labels, j):\n",
    "        k = len(labels)\n",
    "        current = labels[j]\n",
    "        for m in labels:\n",
    "            if m == current:\n",
    "                continue\n",
    "            yield (x - m) / (current - m)\n",
    "    return expand(product(gen(labels, j)))\n",
    "\n",
    "def polyL(xs,j):\n",
    "    '''\n",
    "    Lagrange polynomials as sympy polynomial\n",
    "    xs: the n+1 nodes of the intepolation polynomial in the Lagrange Form\n",
    "    j: Is the j-th Lagrange polinomial for the specific xs.\n",
    "    '''\n",
    "    xs=tuple(xs)\n",
    "    return l(xs,j)\n",
    "\n",
    "def L(xs,j):\n",
    "    '''\n",
    "    Lagrange polynomials as python function\n",
    "    xs: the n+1 nodes of the intepolation polynomial in the Lagrange Form\n",
    "    j: Is the j-th Lagrange polinomial for the specific xs.\n",
    "    '''\n",
    "    return lambdify(x, polyL(xs,j) )\n",
    "\n",
    "def lagrangePolynomial(xs, ys):\n",
    "    '''\n",
    "    Given two 1-D arrays `x` and `w,` returns the Lagrange interpolating\n",
    "    polynomial through the points ``(x, w)``.\n",
    "\n",
    "    '''\n",
    "    # based on https://en.wikipedia.org/wiki/Lagrange_polynomial#Example_1\n",
    "    k = len(xs)\n",
    "    total = 0\n",
    "\n",
    "    # use tuple, needs to be hashable to cache\n",
    "    xs = tuple(xs)\n",
    "\n",
    "    for j, current in enumerate(ys):\n",
    "        t = current * l(xs, j)\n",
    "        total += t\n",
    "\n",
    "    return total\n",
    "\n",
    "\n",
    "\n",
    "\n",
    "def x_intersections(function, *args):\n",
    "    \"Finds all x for which function(x) = 0\"\n",
    "    # solve_poly_system seems more efficient than solve for larger expressions\n",
    "    return [var for var in chain.from_iterable(solve_poly_system([function], *args)) if (var.is_real)]\n",
    "\n",
    "def x_scale(function, factor):\n",
    "    \"Scale function on the x-axis\"\n",
    "    return functions.subs(x, x / factor)\n",
    "\n",
    "if __name__ == '__main__':\n",
    "    func = lagrangePolynomial(labels, points)\n",
    "\n",
    "    pyfunc = lambdify(x, func)\n",
    "\n",
    "    for a, b in zip(labels, points):\n",
    "        assert(pyfunc(a) - b < 1e-6)"
   ]
  },
  {
   "cell_type": "code",
   "execution_count": 44,
   "metadata": {
    "colab": {
     "base_uri": "https://localhost:8080/"
    },
    "id": "GZGo1gTwursm",
    "outputId": "dd260f46-b054-4ab9-c548-4c8e9c4db219"
   },
   "outputs": [
    {
     "name": "stdout",
     "output_type": "stream",
     "text": [
      "Populating the interactive namespace from numpy and matplotlib\n"
     ]
    },
    {
     "name": "stderr",
     "output_type": "stream",
     "text": [
      "/usr/local/lib/python3.7/dist-packages/IPython/core/magics/pylab.py:161: UserWarning: pylab import has clobbered these variables: ['random']\n",
      "`%matplotlib` prevents importing * from pylab and numpy\n",
      "  \"\\n`%matplotlib` prevents importing * from pylab and numpy\"\n"
     ]
    }
   ],
   "source": [
    "#Importación de librerías\n",
    "%pylab inline\n",
    "import pandas as pd\n",
    "import numpy as np\n",
    "import LagrangePolynomial as LP\n",
    "import random \n",
    "from scipy import interpolate"
   ]
  },
  {
   "cell_type": "code",
   "execution_count": 45,
   "metadata": {
    "id": "0WXs1Q7elfjP"
   },
   "outputs": [],
   "source": [
    "#Generador de 4 puntos aleatorios\n",
    "aleatoriosx = [random.uniform(0,20) for _ in range(4)]\n",
    "\n",
    "aleatoriosy = [random.uniform(0,20) for _ in range(4)]\n"
   ]
  },
  {
   "cell_type": "code",
   "execution_count": 46,
   "metadata": {
    "colab": {
     "base_uri": "https://localhost:8080/",
     "height": 167
    },
    "id": "N_bYSLMSnJ9m",
    "outputId": "badc26a7-2b55-4b56-8408-4644578058c7"
   },
   "outputs": [
    {
     "data": {
      "text/html": [
       "<div>\n",
       "<style scoped>\n",
       "    .dataframe tbody tr th:only-of-type {\n",
       "        vertical-align: middle;\n",
       "    }\n",
       "\n",
       "    .dataframe tbody tr th {\n",
       "        vertical-align: top;\n",
       "    }\n",
       "\n",
       "    .dataframe thead th {\n",
       "        text-align: right;\n",
       "    }\n",
       "</style>\n",
       "<table border=\"1\" class=\"dataframe\">\n",
       "  <thead>\n",
       "    <tr style=\"text-align: right;\">\n",
       "      <th></th>\n",
       "      <th>X</th>\n",
       "      <th>Y</th>\n",
       "    </tr>\n",
       "  </thead>\n",
       "  <tbody>\n",
       "    <tr>\n",
       "      <th>0</th>\n",
       "      <td>9.312174</td>\n",
       "      <td>14.556558</td>\n",
       "    </tr>\n",
       "    <tr>\n",
       "      <th>1</th>\n",
       "      <td>19.691652</td>\n",
       "      <td>7.905608</td>\n",
       "    </tr>\n",
       "    <tr>\n",
       "      <th>2</th>\n",
       "      <td>6.965395</td>\n",
       "      <td>16.255140</td>\n",
       "    </tr>\n",
       "    <tr>\n",
       "      <th>3</th>\n",
       "      <td>1.309871</td>\n",
       "      <td>3.598262</td>\n",
       "    </tr>\n",
       "  </tbody>\n",
       "</table>\n",
       "</div>"
      ],
      "text/plain": [
       "           X          Y\n",
       "0   9.312174  14.556558\n",
       "1  19.691652   7.905608\n",
       "2   6.965395  16.255140\n",
       "3   1.309871   3.598262"
      ]
     },
     "execution_count": 46,
     "metadata": {
      "tags": []
     },
     "output_type": "execute_result"
    }
   ],
   "source": [
    "# Interpolación de 4 puntos con un polinomio de grado 3\n",
    "df=pd.DataFrame({ 'X': aleatoriosx,'Y':aleatoriosy}  )\n",
    "df"
   ]
  },
  {
   "cell_type": "code",
   "execution_count": 62,
   "metadata": {
    "colab": {
     "base_uri": "https://localhost:8080/",
     "height": 304
    },
    "id": "w6D3ZlGdtlel",
    "outputId": "e81023bd-b1dd-433f-9a81-9e67179b0aa8"
   },
   "outputs": [
    {
     "name": "stdout",
     "output_type": "stream",
     "text": [
      "         3          2\n",
      "0.02049 x - 0.7305 x + 7.067 x - 4.451\n"
     ]
    },
    {
     "data": {
      "image/png": "[encoded data removed]",
      "text/plain": [
       "<Figure size 432x288 with 1 Axes>"
      ]
     },
     "metadata": {
      "needs_background": "light",
      "tags": []
     },
     "output_type": "display_data"
    }
   ],
   "source": [
    "coeffs=np.polyfit(df.X,df.Y,deg=3)\n",
    "\n",
    "P=np.poly1d(coeffs)\n",
    "plt.plot(df.X,df.Y,'ro')\n",
    "x=np.linspace(-8,30)\n",
    "plt.plot(x,P( x),'b-')\n",
    "#plt.grid()\n",
    "plt.ylim(0,12)\n",
    "\n",
    "print(np.poly1d(coeffs))"
   ]
  },
  {
   "cell_type": "code",
   "execution_count": 63,
   "metadata": {
    "colab": {
     "base_uri": "https://localhost:8080/",
     "height": 37
    },
    "id": "kb6M92xEt3C9",
    "outputId": "f89b876d-0f61-45a5-8e32-dc15d9df7760"
   },
   "outputs": [
    {
     "data": {
      "text/latex": [
       "$\\displaystyle 0.0204896699567291 x^{3} - 0.730474396885713 x^{2} + 7.06664751909961 x - 4.45086558845046$"
      ],
      "text/plain": [
       "0.0204896699567291*x**3 - 0.730474396885713*x**2 + 7.06664751909961*x - 4.45086558845046"
      ]
     },
     "execution_count": 63,
     "metadata": {
      "tags": []
     },
     "output_type": "execute_result"
    }
   ],
   "source": [
    "#Implementación de la interpolación polinomial de la forma de Lagrange\n",
    "P=interpolate.lagrange(df.X,df.Y)\n",
    "print(P)\n",
    "LP.lagrangePolynomial(df.X,df.Y)"
   ]
  },
  {
   "cell_type": "code",
   "execution_count": 50,
   "metadata": {
    "colab": {
     "base_uri": "https://localhost:8080/",
     "height": 37
    },
    "id": "lPfbQ3b-u8zC",
    "outputId": "be758c0d-21d4-437c-81be-89f5f0666621"
   },
   "outputs": [
    {
     "data": {
      "text/latex": [
       "$\\displaystyle 0.0248149820892252 x^{3} - 0.886052503324795 x^{2} + 8.73360198589858 x - 9.9754093250381$"
      ],
      "text/plain": [
       "0.0248149820892252*x**3 - 0.886052503324795*x**2 + 8.73360198589858*x - 9.9754093250381"
      ]
     },
     "execution_count": 50,
     "metadata": {
      "tags": []
     },
     "output_type": "execute_result"
    }
   ],
   "source": [
    "LP.polyL( df.X,0)*df.Y[0]+LP.polyL( df.X,1)*df.Y[1]+LP.polyL( df.X,2)*df.Y[2]"
   ]
  },
  {
   "cell_type": "code",
   "execution_count": 51,
   "metadata": {
    "colab": {
     "base_uri": "https://localhost:8080/",
     "height": 37
    },
    "id": "IWi0zgBcu-0H",
    "outputId": "f50e3034-f531-414e-bdc3-ffdcb20eb49d"
   },
   "outputs": [
    {
     "data": {
      "text/latex": [
       "$\\displaystyle - 0.00513023487852575 x^{3} + 0.143476858230323 x^{2} - 0.882797634884103 x + 0.92170892635118$"
      ],
      "text/plain": [
       "-0.00513023487852575*x**3 + 0.143476858230323*x**2 - 0.882797634884103*x + 0.92170892635118"
      ]
     },
     "execution_count": 51,
     "metadata": {
      "tags": []
     },
     "output_type": "execute_result"
    }
   ],
   "source": [
    "LP.polyL( df.X,0)"
   ]
  },
  {
   "cell_type": "code",
   "execution_count": 52,
   "metadata": {
    "id": "4727VrrCvC7y"
   },
   "outputs": [],
   "source": [
    "def P_2(x,xs,ys):\n",
    "    return LP.L(xs,0)(x)*ys[0]+LP.L(xs,1)(x)*ys[1]+LP.L( xs,2)(x)*ys[2]"
   ]
  },
  {
   "cell_type": "code",
   "execution_count": 53,
   "metadata": {
    "colab": {
     "base_uri": "https://localhost:8080/",
     "height": 286
    },
    "id": "1wJ87QegvFcP",
    "outputId": "979c2958-4f46-495a-be4d-d40fa8cf10e4"
   },
   "outputs": [
    {
     "data": {
      "text/plain": [
       "(0.0, 12.0)"
      ]
     },
     "execution_count": 53,
     "metadata": {
      "tags": []
     },
     "output_type": "execute_result"
    },
    {
     "data": {
      "image/png": "[encoded data removed]",
      "text/plain": [
       "<Figure size 432x288 with 1 Axes>"
      ]
     },
     "metadata": {
      "needs_background": "light",
      "tags": []
     },
     "output_type": "display_data"
    }
   ],
   "source": [
    "plt.plot(df.X,df.Y,'ro')\n",
    "x=np.linspace(-8,30)\n",
    "plt.plot(x,P_2( x,df.X,df.Y),'b-')\n",
    "#plt.grid()\n",
    "plt.ylim(0,12)"
   ]
  },
  {
   "cell_type": "code",
   "execution_count": 54,
   "metadata": {
    "colab": {
     "base_uri": "https://localhost:8080/",
     "height": 37
    },
    "id": "_ru_G5ZsvWdp",
    "outputId": "59884394-5737-44f2-ee00-5537cee8d37f"
   },
   "outputs": [
    {
     "data": {
      "text/latex": [
       "$\\displaystyle - 0.00513023487852575 x^{3} + 0.143476858230323 x^{2} - 0.882797634884103 x + 0.92170892635118$"
      ],
      "text/plain": [
       "-0.00513023487852575*x**3 + 0.143476858230323*x**2 - 0.882797634884103*x + 0.92170892635118"
      ]
     },
     "execution_count": 54,
     "metadata": {
      "tags": []
     },
     "output_type": "execute_result"
    }
   ],
   "source": [
    "#Verificación de las propiedades del polinomio de Lagrange\n",
    "\n",
    "L2_0=LP.polyL(df.X,0)\n",
    "L2_0"
   ]
  },
  {
   "cell_type": "code",
   "execution_count": 55,
   "metadata": {
    "colab": {
     "base_uri": "https://localhost:8080/",
     "height": 38
    },
    "id": "WiGHOQ7FvXzi",
    "outputId": "9a9c3aab-78d6-489d-d3c8-ab2db33ae2bd"
   },
   "outputs": [
    {
     "data": {
      "text/latex": [
       "$\\displaystyle \\operatorname{Poly}{\\left( -0.00513023487852575 x^{3} + 0.143476858230323 x^{2} - 0.882797634884103 x + 0.92170892635118, x, domain=\\mathbb{R} \\right)}$"
      ],
      "text/plain": [
       "Poly(-0.00513023487852575*x**3 + 0.143476858230323*x**2 - 0.882797634884103*x + 0.92170892635118, x, domain='RR')"
      ]
     },
     "execution_count": 55,
     "metadata": {
      "tags": []
     },
     "output_type": "execute_result"
    }
   ],
   "source": [
    "L2_0.as_poly()"
   ]
  },
  {
   "cell_type": "code",
   "execution_count": 56,
   "metadata": {
    "colab": {
     "base_uri": "https://localhost:8080/",
     "height": 36
    },
    "id": "jvpUdoLdvZoT",
    "outputId": "92287d02-c62d-4757-c49b-1d27b0dd42bd"
   },
   "outputs": [
    {
     "data": {
      "text/latex": [
       "$\\displaystyle 1.0$"
      ],
      "text/plain": [
       "1.00000000000000"
      ]
     },
     "execution_count": 56,
     "metadata": {
      "tags": []
     },
     "output_type": "execute_result"
    }
   ],
   "source": [
    "L2_0.as_poly()(df.X[0])"
   ]
  },
  {
   "cell_type": "code",
   "execution_count": 57,
   "metadata": {
    "colab": {
     "base_uri": "https://localhost:8080/",
     "height": 36
    },
    "id": "bRNlqM2evbJ3",
    "outputId": "bab7baa7-748b-43db-dd57-b15ee70ab646"
   },
   "outputs": [
    {
     "data": {
      "text/latex": [
       "$\\displaystyle 1.11022302462516 \\cdot 10^{-16}$"
      ],
      "text/plain": [
       "1.11022302462516e-16"
      ]
     },
     "execution_count": 57,
     "metadata": {
      "tags": []
     },
     "output_type": "execute_result"
    }
   ],
   "source": [
    "L2_0.as_poly()(df.X[1])"
   ]
  },
  {
   "cell_type": "code",
   "execution_count": 58,
   "metadata": {
    "colab": {
     "base_uri": "https://localhost:8080/"
    },
    "id": "RWSQ_rGQvc1e",
    "outputId": "26020a38-511f-4d3b-b5b1-e867a80c33f7"
   },
   "outputs": [
    {
     "name": "stdout",
     "output_type": "stream",
     "text": [
      "0.9999999999999614 0.9999999999999999 1.0000000000000078\n"
     ]
    }
   ],
   "source": [
    "print( LP.L(df.X,0)(df.X[0]),LP.L(df.X,1)(df.X[1]),LP.L(df.X,2)(df.X[2]) )"
   ]
  },
  {
   "cell_type": "code",
   "execution_count": 59,
   "metadata": {
    "colab": {
     "base_uri": "https://localhost:8080/"
    },
    "id": "KjH6cEbHvf41",
    "outputId": "ab4ea87b-388e-4ddc-deb5-2da73af7b52b"
   },
   "outputs": [
    {
     "data": {
      "text/plain": [
       "0    1.000000e+00\n",
       "1   -1.558753e-13\n",
       "2   -2.176037e-14\n",
       "3   -3.330669e-16\n",
       "Name: X, dtype: float64"
      ]
     },
     "execution_count": 59,
     "metadata": {
      "tags": []
     },
     "output_type": "execute_result"
    }
   ],
   "source": [
    "LP.L(df.X,0)(df.X)"
   ]
  },
  {
   "cell_type": "code",
   "execution_count": 60,
   "metadata": {
    "colab": {
     "base_uri": "https://localhost:8080/"
    },
    "id": "7PMZBvJhvhyi",
    "outputId": "79778e99-3386-476f-fbde-a2471d4eb9cc"
   },
   "outputs": [
    {
     "data": {
      "text/plain": [
       "0    7.632783e-17\n",
       "1    1.000000e+00\n",
       "2    1.040834e-16\n",
       "3    3.469447e-17\n",
       "Name: X, dtype: float64"
      ]
     },
     "execution_count": 60,
     "metadata": {
      "tags": []
     },
     "output_type": "execute_result"
    }
   ],
   "source": [
    "LP.L(df.X,1)(df.X)"
   ]
  },
  {
   "cell_type": "code",
   "execution_count": 61,
   "metadata": {
    "colab": {
     "base_uri": "https://localhost:8080/"
    },
    "id": "KkhetnD4vkB2",
    "outputId": "c8d49450-521b-494d-b7d5-d1356cf89dd3"
   },
   "outputs": [
    {
     "data": {
      "text/plain": [
       "0    2.109424e-14\n",
       "1    1.436629e-13\n",
       "2    1.000000e+00\n",
       "3   -2.220446e-15\n",
       "Name: X, dtype: float64"
      ]
     },
     "execution_count": 61,
     "metadata": {
      "tags": []
     },
     "output_type": "execute_result"
    }
   ],
   "source": [
    "LP.L(df.X,2)(df.X)"
   ]
  }
 ],
 "metadata": {
  "colab": {
   "name": "Polinomio_Lagrange",
   "provenance": []
  },
  "kernelspec": {
   "display_name": "Python 3",
   "language": "python",
   "name": "python3"
  },
  "language_info": {
   "codemirror_mode": {
    "name": "ipython",
    "version": 3
   },
   "file_extension": ".py",
   "mimetype": "text/x-python",
   "name": "python",
   "nbconvert_exporter": "python",
   "pygments_lexer": "ipython3",
   "version": "3.8.5"
  }
 },
 "nbformat": 4,
 "nbformat_minor": 1
}
