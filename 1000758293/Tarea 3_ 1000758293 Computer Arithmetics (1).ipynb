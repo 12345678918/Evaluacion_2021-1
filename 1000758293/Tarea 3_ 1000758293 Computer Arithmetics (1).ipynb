{
 "cells": [
  {
   "cell_type": "markdown",
   "metadata": {},
   "source": [
    "** Tarea 3: 1000758293 Computer Arithmetics**"
   ]
  },
  {
   "cell_type": "code",
   "execution_count": 1,
   "metadata": {},
   "outputs": [],
   "source": [
    "import pandas as pd"
   ]
  },
  {
   "cell_type": "code",
   "execution_count": 2,
   "metadata": {},
   "outputs": [
    {
     "name": "stdout",
     "output_type": "stream",
     "text": [
      "Escriba un entero;\n",
      "47\n",
      "__name__ = __main__\n",
      "Su representación binaria es: 00101111\n"
     ]
    }
   ],
   "source": [
    "#!/usr/bin/env python3\n",
    "def conversion_entero_binario(n):\n",
    "    print('__name__ = {}'.format(__name__))\n",
    "    \n",
    "    numero = \"\"  # Me va guardando los resultados del ciclo \n",
    "   \n",
    "    while n != 0:            #evalua si los valores son distintos(para evitar una division por cero).\n",
    "        residuo = int(n%2)  # El % me da el residuo, lo que me indica si es 0 o 1.\n",
    "        n = int(n / 2)        # Me divide el numero entero entre 2.\n",
    "        numero = str(residuo) + numero  # Me imprime a la izquierda del resutados los (1 o 0 )\n",
    "    return numero.rjust(8, \"0\")  # Me complementa los espacios faltantes con ceros hasta tener ocho cifras.  \n",
    "            \n",
    "if __name__=='__main__':\n",
    "        \n",
    "    a=input('Escriba un entero;\\n')\n",
    "    b=conversion_entero_binario(int(a))\n",
    "    print('Su representación binaria es: {}'.format(b))"
   ]
  },
  {
   "cell_type": "code",
   "execution_count": null,
   "metadata": {},
   "outputs": [],
   "source": []
  },
  {
   "cell_type": "code",
   "execution_count": null,
   "metadata": {},
   "outputs": [],
   "source": []
  }
 ],
 "metadata": {
  "kernelspec": {
   "display_name": "Python 3",
   "language": "python",
   "name": "python3"
  },
  "language_info": {
   "codemirror_mode": {
    "name": "ipython",
    "version": 3
   },
   "file_extension": ".py",
   "mimetype": "text/x-python",
   "name": "python",
   "nbconvert_exporter": "python",
   "pygments_lexer": "ipython3",
   "version": "3.8.5"
  }
 },
 "nbformat": 4,
 "nbformat_minor": 4
}
