{
 "cells": [
  {
   "cell_type": "markdown",
   "metadata": {
    "id": "40WhQJy2EWqx"
   },
   "source": [
    "# Casas-Ibarra\n",
    "Let $\\boldsymbol{A}$ $3\\times3$ a symmetric non-diagonal matrix with the following set of eigenvalues and eigenvectors:\n"
   ]
  },
  {
   "cell_type": "markdown",
   "metadata": {
    "id": "cwKjVMtNvgl0"
   },
   "source": [
    "____"
   ]
  },
  {
   "cell_type": "markdown",
   "metadata": {
    "id": "G-uQDCOkvgl0"
   },
   "source": [
    "### Eigenvalues\n",
    "The normal ordering of the absolute value of the eigenvalues is $m_1<m_2<m_3$. Each eigenvalue is expressed in units of eV, which just of an energy unit.\n",
    "### Eigenvectors\n",
    "The eigenvectors in the normal ordering are defined by\n",
    "$$\n",
    "\\boldsymbol{U}^T \\boldsymbol{A} \\boldsymbol{U}=\n",
    "\\begin{pmatrix}\n",
    "m_1& 0 & 0\\\\\n",
    "0 & m_2& 0\\\\\n",
    "0 & 0 & m_3\\\\\n",
    "\\end{pmatrix}.\n",
    "$$\n",
    "The unitary matrix can be parameterized in terms of three mixing angles, $\\theta_{23}$ $\\theta_{13}$, $\\theta_{12}$, such that\n",
    "$$\n",
    "\\boldsymbol{U}=\\left(\\begin{array}{ccc}\n",
    "1 & 0 & 0 \\\\\n",
    "0 & c_{23} & s_{23} \\\\\n",
    "0 & -s_{23} & c_{23}\n",
    "\\end{array}\\right) \\cdot\\left(\\begin{array}{ccc}\n",
    "c_{13} & 0 & s_{13}  \\\\\n",
    "0 & 1 & 0 \\\\\n",
    "-s_{13}  & 0 & c_{13}\n",
    "\\end{array}\\right) \\cdot\\left(\\begin{array}{ccc}\n",
    "c_{12} & s_{12} & 0 \\\\\n",
    "-s_{12} & c_{12} & 0 \\\\\n",
    "0 & 0 & 1\n",
    "\\end{array}\\right),\n",
    "$$\n",
    "where $c_{i j} \\equiv \\cos \\theta_{i j}$ and $s_{i j} \\equiv \\sin \\theta_{i j}$. Thus, we can write $\\boldsymbol{U}$ as\n",
    "$$\n",
    "\\boldsymbol{U}=\\left(\\begin{array}{ccc}c_{12} c_{13} & s_{12} c_{13} & s_{13}  \\\\ -s_{12} c_{23}-c_{12} s_{13} s_{23}& c_{12} c_{23}-s_{12} s_{13} s_{23}  & c_{13} s_{23} \\\\ s_{12} s_{23}-c_{12} s_{13} c_{23} & -c_{12} s_{23}-s_{12} s_{13} c_{23}  & c_{13} c_{23}\\end{array}\\right)\n",
    "$$\n",
    "so that\n",
    "$$\n",
    "\\boldsymbol{U}_1=\\begin{pmatrix}U_{e1}\\\\ U_{\\mu 1}\\\\ U_{\\tau 1}\\end{pmatrix}=\\begin{pmatrix}\n",
    "c_{12} c_{13} \\\\\n",
    "-s_{12} c_{23}-c_{12} s_{13} s_{23}  \\\\\n",
    "s_{12} s_{23}-c_{12} s_{13} c_{23} \n",
    "\\end{pmatrix},\\qquad \n",
    "\\boldsymbol{U}_2=\\begin{pmatrix}U_{e2}\\\\ U_{\\mu 2}\\\\ U_{\\tau 2}\\end{pmatrix}=\\begin{pmatrix}\n",
    "s_{12} c_{13} \\\\\n",
    "c_{12} c_{23}-s_{12} s_{13} s_{23}  \\\\\n",
    "-c_{12} s_{23}-s_{12} s_{13} c_{23} \n",
    "\\end{pmatrix},\\qquad\n",
    "\\boldsymbol{U}_3=\\begin{pmatrix}U_{e3}\\\\ U_{\\mu 3}\\\\ U_{\\tau 3}\\end{pmatrix}=\\begin{pmatrix}\n",
    "s_{13}  \\\\\n",
    "c_{13} s_{23} \\\\\n",
    "c_{13} c_{23}\n",
    "\\end{pmatrix}\n",
    "$$\n",
    "\n",
    "### Data\n",
    "Use the _central values_  of the following table but ignoring $\\delta_{CP}$ (In the previous equations was fixed to $\\delta_{CP}=0$). __Hint__: take care of the denominator in the first colum.\n",
    "\n",
    "![IMAGE](https://github.com/restrepo/ComputationalMethods/raw/master/material/figures/nu.png)\n",
    "\n",
    "where $\\Delta m^2_{ij}=m^2_i-m^2_j$ is the squared mass difference between eigenvalues $i$ and $j$; in units of $\\text{eV}^2$.\n"
   ]
  },
  {
   "cell_type": "markdown",
   "metadata": {
    "id": "bnSCrqmSvgl1"
   },
   "source": [
    "### Casas-Ibarra parameterization\n",
    "We can assumme without lost of generality that $\\boldsymbol{A}$ can be generated from a matrix $\\boldsymbol{Y}$ such that\n",
    "$$\n",
    "\\boldsymbol{A}=\\boldsymbol{Y}^{\\operatorname{T}}\\boldsymbol{Y}\n",
    "$$\n",
    "\n",
    "The matrix $\\boldsymbol{Y}$ can be parameterized in terms of an arbitray orthogonal $3\\times 3$ matrix, $\\boldsymbol{R}$, as\n",
    "$$\n",
    "\\boldsymbol{Y}=\\boldsymbol{R} \\boldsymbol{D}_{\\sqrt{m}} \\boldsymbol{U}^{\\operatorname{T}}\n",
    "$$\n",
    "\n",
    "\n",
    "* $R$ is an orthogonal $3\\times 3$ matrix, with three rotation angles $\\alpha_{ij}$ between $(0,2\\pi)$\n",
    "$$\n",
    "\\boldsymbol{R}=\\left(\\begin{array}{ccc}c^\\alpha_{12} c^\\alpha_{13} & s^\\alpha_{12} c^\\alpha_{13} & s^\\alpha_{13}  \\\\ -s^\\alpha_{12} c^\\alpha_{23}-c^\\alpha_{12} s^\\alpha_{13} s^\\alpha_{23}& c^\\alpha_{12} c^\\alpha_{23}-s^\\alpha_{12} s^\\alpha_{13} s^\\alpha_{23}  & c^\\alpha_{13} s^\\alpha_{23} \\\\ s^\\alpha_{12} s^\\alpha_{23}-c^\\alpha_{12} s^\\alpha_{13} c^\\alpha_{23} & -c^\\alpha_{12} s^\\alpha_{23}-s^\\alpha_{12} s^\\alpha_{13} c^\\alpha_{23}  & c^\\alpha_{13} c^\\alpha_{23}\\end{array}\\right)\n",
    "$$\n",
    "where $c^\\alpha_{i j} \\equiv \\cos \\alpha_{i j}$ and $s^\\alpha_{i j} \\equiv \\sin \\alpha_{i j}$.\n",
    "\n",
    "* $$\n",
    " \\boldsymbol{D}_{\\sqrt{m}}=\\operatorname{diag}\\left(\\sqrt{m_1},\\sqrt{m_2},\\sqrt{m_3}\\right)\n",
    "$$"
   ]
  },
  {
   "cell_type": "markdown",
   "metadata": {
    "id": "Iqj7EWSPvgl3"
   },
   "source": [
    "### Problem\n",
    "1. Choose a random value for $m_1$ between $10^{-9}\\ \\text{eV}$ and $10^{-4}\\ \\text{eV}$. Note that because of the wide range, the random variation  must be in the exponents. Obtain the corresponding $m_2$ and $m_3$ with the proper normal ordering.\n",
    "1. Choose random values for $\\alpha_{ij}$  between $(0,2\\pi)$\n",
    "1. Obtain $\\boldsymbol{Y}$\n",
    "1. Check that the generated $\\boldsymbol{A}$ has the proper eigenvalues and eigenvectors\n",
    "1. Check that the eigenvalues of $\\boldsymbol{Y}$ correspond to the square root of the eigenvalues of $\\boldsymbol{A}$ and explain why."
   ]
  },
  {
   "cell_type": "code",
   "execution_count": 1,
   "metadata": {
    "id": "2J0n-8Rfvqks"
   },
   "outputs": [],
   "source": [
    "#Librerías \n",
    "import numpy as np"
   ]
  },
  {
   "cell_type": "code",
   "execution_count": 2,
   "metadata": {
    "colab": {
     "base_uri": "https://localhost:8080/"
    },
    "id": "IoJ9qJqp7mwb",
    "outputId": "b8b95309-c4a3-4ed1-f587-897ccf4850b5"
   },
   "outputs": [
    {
     "data": {
      "text/plain": [
       "(1e-08, 0.027184554438138213, 0.15883639381451625)"
      ]
     },
     "execution_count": 2,
     "metadata": {},
     "output_type": "execute_result"
    }
   ],
   "source": [
    "\"\"\"Punto 1\"\"\"\n",
    "np.random.seed(1007374246) # semilla para los números aleatorios\n",
    "m1 = 10**(round(np.random.uniform(-9,-4))) # Se obtiene m1 aleatorio \n",
    "Δsquarem21 = 7.39*10e-5 # Diferencia de las masas 21\n",
    "Δsquarem32 = 2.449*10e-3 # Diferencia de las masas 32\n",
    "m2 = np.sqrt(Δsquarem21+m1**2) # se calcula m2\n",
    "m3 = np.sqrt(Δsquarem32+m2**2) # Se calcula m3\n",
    "m1,m2,m3"
   ]
  },
  {
   "cell_type": "code",
   "execution_count": 3,
   "metadata": {},
   "outputs": [
    {
     "data": {
      "text/plain": [
       "(1.0958699824467912, 4.520198029015211, 3.6184432432729237)"
      ]
     },
     "execution_count": 3,
     "metadata": {},
     "output_type": "execute_result"
    }
   ],
   "source": [
    "\"\"\"Punto 2\"\"\"\n",
    "np.random.seed(1007374246)\n",
    "α12 = np.random.uniform(0,2*np.pi) #Se calculan los angulos de forma aleatoria\n",
    "α13 = np.random.uniform(0,2*np.pi)\n",
    "α23 = np.random.uniform(0,2*np.pi)\n",
    "\n",
    "α12,α13,α23"
   ]
  },
  {
   "cell_type": "code",
   "execution_count": 4,
   "metadata": {
    "scrolled": true
   },
   "outputs": [
    {
     "data": {
      "text/plain": [
       "array([[-0.07398668, -0.30252921, -0.23838575],\n",
       "       [-0.06793751, -0.03948549,  0.11290337],\n",
       "       [-0.04126838,  0.00422174,  0.10748284]])"
      ]
     },
     "execution_count": 4,
     "metadata": {},
     "output_type": "execute_result"
    }
   ],
   "source": [
    "\"\"\"Punto 3\"\"\"\n",
    "def Ortogonal(α12,α13,α23):\n",
    "#Función para calcular R y U\n",
    "  return np.array([[np.cos(α12)*np.cos(α13),                                       np.sin(α12)*np.cos(α13),                                      np.sin(α13)],\n",
    "                  [-np.sin(α12)*np.cos(α23)-np.cos(α12)*np.sin(α13)*np.sin(α23),   np.cos(α12)*np.cos(α23)-np.sin(α12)*np.sin(α13)*np.sin(α23),  np.cos(α13)*np.sin(α23) ],\n",
    "                  [np.sin(α12)*np.sin(α23)-np.cos(α12)*np.sin(α13)*np.cos(α23),   -np.cos(α12)*np.sin(α23)-np.sin(α12)*np.sin(α13)*np.cos(α23),  np.cos(α13)*np.cos(α23)]\n",
    "                  ])\n",
    "\n",
    "R = Ortogonal(α12,α13,α23) # Se calcula la matriz R\n",
    "D_sqrtm=np.diag( np.sqrt([m1,m2,m3]) ) # Matriz diagonal con las raices de las masas\n",
    "\n",
    "θ12 = np.deg2rad(33.82)#Angulos tomados de la tabla de datos\n",
    "θ23 = np.deg2rad(48.3)\n",
    "θ13 = np.deg2rad(8.61)\n",
    "\n",
    "U = Ortogonal(θ12,θ13,θ23) # Se calcula U para los angulos de la tabla\n",
    "Y=np.dot( np.dot( R,D_sqrtm), U.transpose() ) # Se calcula Y\n",
    "Y"
   ]
  },
  {
   "cell_type": "code",
   "execution_count": 5,
   "metadata": {
    "scrolled": true
   },
   "outputs": [
    {
     "name": "stdout",
     "output_type": "stream",
     "text": [
      "Autovalores=[1.58836394e-01 1.00000000e-08 2.71845544e-02]\n",
      "Masas=[0.15883639381451625, 1e-08, 0.027184554438138213]\n",
      "Matriz U=\n"
     ]
    },
    {
     "data": {
      "text/plain": [
       "array([[-0.14970791, -0.82142745, -0.55031308],\n",
       "       [-0.73822377,  0.46312144, -0.49045305],\n",
       "       [-0.65773339, -0.33282949,  0.67573021]])"
      ]
     },
     "execution_count": 5,
     "metadata": {},
     "output_type": "execute_result"
    }
   ],
   "source": [
    "\"\"\"Punto 4\"\"\"\n",
    "A=np.dot( Y.transpose(), Y)#Se encuentra la matriz A\n",
    "λA,UA=np.linalg.eig(A) #Se optienen obtienen los autovalores y autovectores de A\n",
    "print('Autovalores={}'.format(λA))\n",
    "print('Masas={}'.format([m3,m1,m2]))\n",
    "print('Matriz U=')\n",
    "U =UA #Se encuentra la matriz de Autovectores \n",
    "U"
   ]
  },
  {
   "cell_type": "markdown",
   "metadata": {},
   "source": [
    "Notamos que los autovalores corresponden con los valores de las masas m1, m2 y m3."
   ]
  },
  {
   "cell_type": "code",
   "execution_count": 6,
   "metadata": {},
   "outputs": [
    {
     "data": {
      "text/plain": [
       "array([[ 6.01834978e-01,  2.63689978e-04, -3.25891137e-02]])"
      ]
     },
     "execution_count": 6,
     "metadata": {},
     "output_type": "execute_result"
    }
   ],
   "source": [
    "\"\"\"Punto 5\"\"\"\n",
    "np.array(sorted([np.linalg.eigvals(A)]))**0.5-np.array(sorted(np.linalg.eigvals(Y)))#se hace la resta de los autovalores de A^0.5 y Y"
   ]
  },
  {
   "cell_type": "markdown",
   "metadata": {},
   "source": [
    "Notamos que la diferencia entre los valores de los autovalores de A a la (1/2) y los autovalores de Y no son cero, pero si se aproximan a este valor. Esta diferencia se puede entender como consecuencia de la no consideración de $δ_{CP}$. "
   ]
  }
 ],
 "metadata": {
  "colab": {
   "name": "Copia de Examen_2021_1_03_enunciado.ipynb",
   "provenance": []
  },
  "kernelspec": {
   "display_name": "Python 3",
   "language": "python",
   "name": "python3"
  },
  "language_info": {
   "codemirror_mode": {
    "name": "ipython",
    "version": 3
   },
   "file_extension": ".py",
   "mimetype": "text/x-python",
   "name": "python",
   "nbconvert_exporter": "python",
   "pygments_lexer": "ipython3",
   "version": "3.8.5"
  }
 },
 "nbformat": 4,
 "nbformat_minor": 1
}
