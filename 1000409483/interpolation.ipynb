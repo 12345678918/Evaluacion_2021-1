{
 "cells": [
  {
   "cell_type": "markdown",
   "metadata": {
    "id": "XGh1ScX5EZVp"
   },
   "source": [
    "# Interpolation Methods\n",
    "<a href=\"https://colab.research.google.com/github/restrepo/ComputationalMethods/blob/master/material/interpolation.ipynb\" target=\"_parent\"><img src=\"https://colab.research.google.com/assets/colab-badge.svg\" alt=\"Open In Colab\"/></a>"
   ]
  },
  {
   "cell_type": "markdown",
   "metadata": {
    "id": "b9K_MnFJEZVr"
   },
   "source": [
    "Due to the discrete, and sometimes sparse, nature of experiments and observations, data taking procedures will always produce discrete data as well. Even, as we have seen before, information only can be discretely presented into a computer due to the binary representation. However, when we are dealing with physical models, continuous and smooth properties are of course preferred. Interpolation techniques allow then to recover a continuous field from sparse datasets. Throughout this section we shall cover some of these interpolation methods.\n",
    "\n",
    "---\n",
    "\n",
    "<!-- __Homework__: https://classroom.github.com/a/SB94rDVJ -->\n",
    "## Bibliography: \n",
    "[1a] Gonzalo Galiano Casas, Esperanza García Gonzalo [Numerical Computation](https://www.unioviedo.es/compnum/expositive/handbook/metnum.pdf) - [GD](https://drive.google.com/file/d/1gwHYLx5aBf3oXRhmGeG-n1toTtAUhvfX/view?usp=sharing) - [Web page with notebooks](https://www.unioviedo.es/compnum/index.php/english-menu)<br/>\n",
    "[1g] Mo Mu, [MATH 3311: Introduction to Numerical Methods](https://www.math.ust.hk/~mamu/courses/230/course.htm) [GD](https://drive.google.com/drive/folders/1vv38SS7Zpw8mOHG7Kq_3lZr6o9H4xOYP?usp=sharing) - [Demostration Error in Lagrange Polynomials](https://www.math.ust.hk/~mamu/courses/231/Slides/CH03_1B.pdf)<br/>\n",
    "[1h] Zhiliang Xu, [ACMS 40390: Fall 2016 - Numerical Analysis](https://www3.nd.edu/~zxu2/ACMS40390-F16.html) [GD](https://drive.google.com/drive/folders/1Z9Fws1v34PuPdGAp_mBCWmTvZM_Qd6Xk?usp=sharing)</br>\n",
    "\n",
    "\n",
    "https://github.com/restrepo/Calculus/blob/master/Differential_Calculus.ipynb\n"
   ]
  },
  {
   "cell_type": "markdown",
   "metadata": {
    "id": "ooE-OhsOEZVs"
   },
   "source": [
    "- - -\n",
    "- [NumPy polynomials](#NumPy-Polynomials)\n",
    "- [Linear Interpolation](#Linear-Interpolation)\n",
    "    - [Steps](#Steps-LI)\n",
    "    - [Example 1](#Example-1)\n",
    "- [Lagrange Polynomial](#Lagrange-Polynomial)\n",
    "    - [Derivation](#Derivation)\n",
    "    - [Steps](#Steps-LP)\n",
    "    - [Activity](#Activity-LP)\n",
    "- [Divided Differences](#Divided-Differences)\n",
    "    - [Example 2](#Example-2)\n",
    "- [Hermite Interpolation](#Hermite-Interpolation)\n",
    "    - [Derivation in terms of divided differences](#Derivation-in-terms-of-divided-differences)\n",
    "    - [Example 3](#Example-3)\n",
    "- - -"
   ]
  },
  {
   "cell_type": "code",
   "execution_count": 1,
   "metadata": {
    "colab": {
     "base_uri": "https://localhost:8080/",
     "height": 34
    },
    "id": "8BwVVom3EZVu",
    "outputId": "5d379375-42ad-47ce-d4f1-ea45a27b490b"
   },
   "outputs": [
    {
     "name": "stdout",
     "output_type": "stream",
     "text": [
      "Populating the interactive namespace from numpy and matplotlib\n"
     ]
    }
   ],
   "source": [
    "%pylab inline"
   ]
  },
  {
   "cell_type": "code",
   "execution_count": 2,
   "metadata": {
    "id": "jLrHQj5MEZV0"
   },
   "outputs": [],
   "source": [
    "from IPython.display import display, Markdown, Latex, Image \n",
    "import pandas as pd"
   ]
  },
  {
   "cell_type": "code",
   "execution_count": 3,
   "metadata": {
    "id": "qA6vPaJBEZV2"
   },
   "outputs": [],
   "source": [
    "from scipy import interpolate"
   ]
  },
  {
   "cell_type": "code",
   "execution_count": 4,
   "metadata": {
    "id": "rIsrgFTCEZV4"
   },
   "outputs": [],
   "source": [
    "import numpy as np\n",
    "from matplotlib import animation"
   ]
  },
  {
   "cell_type": "markdown",
   "metadata": {
    "id": "izA9D35WdJjg"
   },
   "source": [
    "Pretty print inside colaboratory"
   ]
  },
  {
   "cell_type": "markdown",
   "metadata": {
    "id": "udTzmy-CEZV7"
   },
   "source": [
    "- - -"
   ]
  },
  {
   "cell_type": "markdown",
   "metadata": {
    "id": "Z-txzMoJEZV7"
   },
   "source": [
    "# NumPy Polynomials"
   ]
  },
  {
   "cell_type": "markdown",
   "metadata": {
    "id": "bA0x7_nCEZV9"
   },
   "source": [
    "In Numpy there is an implementation of Polynomials. The object is initialized giving the polynomial coefficients: \n",
    "\n",
    "More information about this\n",
    "* [LaTeX print](https://perso.crans.org/besson/publis/notebooks/Demonstration%20of%20numpy.polynomial.Polynomial%20and%20nice%20display%20with%20LaTeX%20and%20MathJax%20(python3).html): "
   ]
  },
  {
   "cell_type": "code",
   "execution_count": 14,
   "metadata": {
    "colab": {
     "base_uri": "https://localhost:8080/",
     "height": 51
    },
    "id": "OEDBQReUEZV9",
    "outputId": "dc526b35-cc2c-414b-b2e9-7248e6b93397"
   },
   "outputs": [
    {
     "name": "stdout",
     "output_type": "stream",
     "text": [
      "   2\n",
      "1 x + 2 x - 3\n"
     ]
    }
   ],
   "source": [
    "p = np.poly1d([1, 2, -3]) #genera un polinomio con coeficientes del array\n",
    "print(p)"
   ]
  },
  {
   "cell_type": "markdown",
   "metadata": {
    "id": "hcpwcjMsPQiI"
   },
   "source": [
    "The numpy polynomial is automatically a function of its variable $x$"
   ]
  },
  {
   "cell_type": "code",
   "execution_count": null,
   "metadata": {
    "id": "YdJttzusPQiJ",
    "outputId": "ccb6a365-9664-4ed2-df16-5ea64eee59b1"
   },
   "outputs": [
    {
     "data": {
      "text/plain": [
       "1.29"
      ]
     },
     "execution_count": 31,
     "metadata": {
      "tags": []
     },
     "output_type": "execute_result"
    }
   ],
   "source": [
    "p(1.3) #el polinomio actua como funcion de x, pudiendo ser evaluado"
   ]
  },
  {
   "cell_type": "markdown",
   "metadata": {
    "id": "HuqkJBhWEZV_"
   },
   "source": [
    "By default, the assigned the attribute `variable` is `x`:"
   ]
  },
  {
   "cell_type": "markdown",
   "metadata": {
    "id": "x-7Tef0-EZWC"
   },
   "source": [
    "which can be assigned at initialization "
   ]
  },
  {
   "cell_type": "code",
   "execution_count": 7,
   "metadata": {
    "colab": {
     "base_uri": "https://localhost:8080/",
     "height": 51
    },
    "id": "A8ZMzlaTEZWD",
    "outputId": "8df22d7e-3db3-4d15-b61f-566993847465"
   },
   "outputs": [
    {
     "name": "stdout",
     "output_type": "stream",
     "text": [
      "   2\n",
      "1 t + 2 t - 3\n"
     ]
    }
   ],
   "source": [
    "q = np.poly1d([1, 2, -3],variable='t') #se cambia la letra de la variable\n",
    "print(q)"
   ]
  },
  {
   "cell_type": "code",
   "execution_count": 9,
   "metadata": {
    "id": "Tlh7IFlPPQiS",
    "outputId": "f2f4764d-651f-4dd1-b2ab-e3a5e060a9ff"
   },
   "outputs": [
    {
     "data": {
      "text/plain": [
       "array([ 1,  2, -3])"
      ]
     },
     "execution_count": 9,
     "metadata": {},
     "output_type": "execute_result"
    }
   ],
   "source": [
    "p.coef #Muestra los coeficientes del polinomio en un array"
   ]
  },
  {
   "cell_type": "markdown",
   "metadata": {
    "id": "QeeVX4_nPQiV"
   },
   "source": [
    "Polynomial can be added but not multiplied, simplified or expanded"
   ]
  },
  {
   "cell_type": "code",
   "execution_count": 10,
   "metadata": {
    "id": "tJS4lgNnPQiW",
    "outputId": "d203675f-ed7f-46ec-91ee-f16cbfffa917"
   },
   "outputs": [
    {
     "name": "stdout",
     "output_type": "stream",
     "text": [
      "p1(x)= \n",
      "1 x + 1\n",
      "********************\n",
      "p2(x)= \n",
      "-1 x + 1\n",
      "********************\n",
      "p1(x)+p2(x)= \n",
      "2\n"
     ]
    }
   ],
   "source": [
    "p1=np.poly1d([1,1])\n",
    "print('p1(x)={}'.format(p1))\n",
    "print('*'*20)\n",
    "p2=np.poly1d([-1,1])\n",
    "print('p2(x)={}'.format(p2))\n",
    "print('*'*20)\n",
    "print('p1(x)+p2(x)={}'.format(p1+p2)) #se suman los polinomios y genera un array con los coeficientes resultantes"
   ]
  },
  {
   "cell_type": "markdown",
   "metadata": {
    "id": "hDgtm5VCEZWF"
   },
   "source": [
    "The object have in particular methods for <br/>\n",
    "__Integration__:"
   ]
  },
  {
   "cell_type": "code",
   "execution_count": 11,
   "metadata": {
    "colab": {
     "base_uri": "https://localhost:8080/",
     "height": 51
    },
    "id": "nMJq0CrOEZWG",
    "outputId": "836fdb43-e142-4740-fdbf-94221970b2ad"
   },
   "outputs": [
    {
     "name": "stdout",
     "output_type": "stream",
     "text": [
      "        3     2\n",
      "0.3333 x + 1 x - 3 x\n"
     ]
    }
   ],
   "source": [
    "p = np.poly1d([1, 2, -3])\n",
    "q=p.integ() #integra el polinomio respecto a la variable\n",
    "print(q) "
   ]
  },
  {
   "cell_type": "markdown",
   "metadata": {
    "id": "JVolgx0wEZWI"
   },
   "source": [
    "__Derivatives__"
   ]
  },
  {
   "cell_type": "code",
   "execution_count": 12,
   "metadata": {
    "colab": {
     "base_uri": "https://localhost:8080/",
     "height": 51
    },
    "id": "fVS5U1bBEZWJ",
    "outputId": "3e77e527-c41f-45dc-b7a2-0f575d102095"
   },
   "outputs": [
    {
     "name": "stdout",
     "output_type": "stream",
     "text": [
      " \n",
      "2 x + 2\n"
     ]
    }
   ],
   "source": [
    "q=p.deriv() #deriva el polinomio respecto a la variable\n",
    "print(q)"
   ]
  },
  {
   "cell_type": "markdown",
   "metadata": {
    "id": "R8f3r0yOEZWN"
   },
   "source": [
    "__roots__:"
   ]
  },
  {
   "cell_type": "code",
   "execution_count": 15,
   "metadata": {
    "colab": {
     "base_uri": "https://localhost:8080/",
     "height": 70
    },
    "id": "Md4Q2gmNEZWO",
    "outputId": "8a03f49c-1d06-4170-8c07-58dfc99e947a"
   },
   "outputs": [
    {
     "name": "stdout",
     "output_type": "stream",
     "text": [
      "[-3.  1.]\n"
     ]
    }
   ],
   "source": [
    "q=p.roots #encuentra las raices del polinomio\n",
    "print(q)"
   ]
  },
  {
   "cell_type": "markdown",
   "metadata": {
    "id": "1NLa6wh1EZWQ"
   },
   "source": [
    " It is possible to define polynomial by given the list of roots and "
   ]
  },
  {
   "cell_type": "code",
   "execution_count": 16,
   "metadata": {
    "colab": {
     "base_uri": "https://localhost:8080/",
     "height": 51
    },
    "id": "E67K42bQEZWR",
    "outputId": "81efc332-dc52-471c-c562-81ff1a4fb00f"
   },
   "outputs": [
    {
     "name": "stdout",
     "output_type": "stream",
     "text": [
      "   4             2\n",
      "1 x - 6.221e+04 x + 9.698e+07\n"
     ]
    }
   ],
   "source": [
    "p=np.poly1d([-246.2,-40,40,246.2],r=True) #define el polinomio dando la lista de las raices\n",
    "print(p)"
   ]
  },
  {
   "cell_type": "markdown",
   "metadata": {
    "id": "GSuuNnvMEZWU"
   },
   "source": [
    "For further details check the official help:"
   ]
  },
  {
   "cell_type": "markdown",
   "metadata": {
    "id": "3cs7-2egEZWW"
   },
   "source": [
    "__Activity__:  Movement with uniform acceleration\n",
    "1. Define a polynomial for the movement with uniform acceleration:\n",
    "\\begin{align}\n",
    "x(t)=x_0+v_0 (t-t_0)+\\tfrac{1}{2} a (t-t_0)^2 \\,,\n",
    "\\end{align}\n",
    "2. Use the previous formula expressed as polynomial of degree 2, to solve the following problem with `np.poly1d`: \n",
    "    * A car departs from rest with a constant acceleration of $6~\\text{m}\\cdot\\text{s}^{-2}$ and travels through a flat and straight road. 10 seconds later a second pass for the same starting point and in the same direction with an initial speed of $10~\\text{m}\\cdot\\text{s}^{-1}$ and a constant acelleration of $10~\\text{m}\\cdot\\text{s}^{-2}$. Find the time and distance at which the two cars meet.\n",
    "    \n",
    "_Hint_. \n",
    "\\begin{align}\n",
    "x(t)=x_0-v_0t_0+\\frac{1}{2}at_0^2 +(v_0-at_0)t+\\tfrac{1}{2} a t^2 \n",
    "\\end{align}\n"
   ]
  },
  {
   "cell_type": "code",
   "execution_count": 17,
   "metadata": {
    "id": "PiSOfazMPQin"
   },
   "outputs": [],
   "source": [
    "x0=0\n",
    "t0=0\n",
    "v0=0\n",
    "a=6 #m/s^2\n",
    "x_1=np.poly1d([0.5*a,v0-a*t0,x0-v0*t0+0.5*a*t0**2],variable='t')\n",
    "x0=0\n",
    "t0=10 #s\n",
    "v0=10 #m/s\n",
    "a=10 #m/s^2\n",
    "x_2=np.poly1d([0.5*a,v0-a*t0,x0-v0*t0+0.5*a*t0**2],variable='t')"
   ]
  },
  {
   "cell_type": "code",
   "execution_count": 18,
   "metadata": {
    "id": "NycN6CaJPQio",
    "outputId": "3f7d8377-959f-4c29-c206-1f04e1dc0965"
   },
   "outputs": [
    {
     "name": "stdout",
     "output_type": "stream",
     "text": [
      "   2\n",
      "3 t\n"
     ]
    }
   ],
   "source": [
    "print(x_1)"
   ]
  },
  {
   "cell_type": "code",
   "execution_count": 19,
   "metadata": {
    "id": "SOGhhsnAPQit",
    "outputId": "8fc7119b-046a-4022-e146-da6ddada83b8"
   },
   "outputs": [
    {
     "name": "stdout",
     "output_type": "stream",
     "text": [
      "   2\n",
      "5 t - 90 t + 400\n"
     ]
    }
   ],
   "source": [
    "print(x_2)"
   ]
  },
  {
   "cell_type": "markdown",
   "metadata": {
    "id": "smN1y6pyEZWX"
   },
   "source": [
    "<!-- ### <font color=red>Solution</font>\n",
    "setup_typeset() #active colab pretty print\n",
    "def x(x0,t0,v0,a):\n",
    "    return np.poly1d( [0.5*a,v0-a*t0,x0-v0*t0+0.5*a*t0**2],\n",
    "                     variable='t'  )\n",
    "x1=x(0,0,0,6)\n",
    "x2=x(0,10,10,10)\n",
    "display(Latex('$x_1(t)=$'))\n",
    "print(x1) \n",
    "display(Latex('$x_2(t)=$'))\n",
    "print(x2)\n",
    "t=np.linspace(0,45,100)\n",
    "plt.plot(t,x2(t)-x1(t))\n",
    "plt.grid()\n",
    "#plt.plot(t,(x2-x1)(t))\n",
    "#plt.grid()\n",
    "#Physica solution is the one after 10s\n",
    "Latex(r'meeting time $t_{\\rm end}=$ %g s; meeting point $x_{\\rm end}=$ %g m' \n",
    "          %(  (x2-x1).r[0]  ,  x2(  (x2-x1).r[0]  )   )) \n",
    "#plt.plot(t,x2(t),'ro')\n",
    "#plt.plot(t,x2(t),'k-')\n",
    "#plt.xlim(10,15)\n",
    "#plt.ylim(0,200)          \n",
    "          -->"
   ]
  },
  {
   "cell_type": "markdown",
   "metadata": {
    "id": "xmOKPBd9PQiy"
   },
   "source": [
    "Sea el tiempo de encuentro definido $t_e$\n",
    "$$x_1(t_e)=x_2(t_e)\\,,$$\n",
    "que se interpreta como\n",
    "$$x_1(t_e)-x_2(t_e)=0\\,,$$\n",
    "Puedo definir un nuevo polinomio\n",
    "$$\n",
    "x(t)=x_1(t)-x_2(t)\n",
    "$$\n",
    "Entonces $t_e$, es la raíz del polinomio $x(t)$\n"
   ]
  },
  {
   "cell_type": "code",
   "execution_count": 20,
   "metadata": {
    "id": "PPqN-5U4PQi7",
    "outputId": "185b0c07-d9d9-418d-9018-7e595a079660"
   },
   "outputs": [
    {
     "name": "stdout",
     "output_type": "stream",
     "text": [
      "    2\n",
      "-2 x + 90 x - 400\n"
     ]
    }
   ],
   "source": [
    "x=x_1-x_2\n",
    "print(x)"
   ]
  },
  {
   "cell_type": "code",
   "execution_count": 21,
   "metadata": {
    "id": "c6basZQNPQi8",
    "outputId": "f0ed9fba-9113-4900-f70a-4e8c522489ca"
   },
   "outputs": [
    {
     "data": {
      "text/plain": [
       "array([40.,  5.])"
      ]
     },
     "execution_count": 21,
     "metadata": {},
     "output_type": "execute_result"
    }
   ],
   "source": [
    "x.roots"
   ]
  },
  {
   "cell_type": "markdown",
   "metadata": {
    "id": "vWJZfq_YEZWe"
   },
   "source": [
    "# Linear Interpolation"
   ]
  },
  {
   "cell_type": "markdown",
   "metadata": {
    "id": "wGj1U7PmEZWe"
   },
   "source": [
    "When we have a set of discrete points of the form $(x_i, y_i)$ for $1\\leq i \\leq N$, the most natural way to obtain (approximate) any intermediate value is assuming points connected by lines. Let's assume a set of points $(x_i, y_i)$ such that $y_i = f(x_i)$ for an unknown function $f(x)$, if we want to approximate the value $f(x)$ for $x_i\\leq x \\leq x_{i+1}$, we construct an equation of a line passing through $(x_i,y_i)$ and $(x_{i+1},y_{i+1})$.\n",
    "\n",
    "The linear equation is\n",
    "\n",
    "$$y=mx+b$$\n",
    "\n",
    "where\n",
    "\n",
    "$$m=\\frac{y_{i+1}-y_i}{x_{i+1}-x_i} $$\n",
    "\n",
    "and $b$ is obtained by evaluating with either $(x_i,y_i)$ or $(x_{i+1},y_{i+1})$\n",
    "\n",
    "$$y=\\frac{y_{i+1}-y_i}{x_{i+1}-x_i}x+b$$\n",
    "\n",
    "$$b=y_i-\\frac{y_{i+1}-y_i}{x_{i+1}-x_i}x_i$$\n",
    "\n",
    "\n",
    "\\begin{align}\n",
    "%$$  \n",
    "f(x)\\approx y = &\\frac{y_{i+1}-y_i}{x_{i+1}-x_i}(x-x_i) + y_i \\\\\n",
    "=&\\frac{y_{i+1}-y_i}{x_{i+1}-x_i}x+\\left[y_i-\\frac{y_{i+1}-y_i}{x_{i+1}-x_i}x_i\\right] \\\\\n",
    "%$$\n",
    "\\end{align}\n",
    "\n",
    "and this can be applied for any $x$ such that $x_0\\leq x \\leq x_N$ and where it has been assumed an ordered set $\\left\\{x_i\\right\\}_i$."
   ]
  },
  {
   "cell_type": "markdown",
   "metadata": {
    "id": "WsnL9PoDEZWi"
   },
   "source": [
    "## Steps LI"
   ]
  },
  {
   "cell_type": "markdown",
   "metadata": {
    "id": "w4MSYnO6EZWi"
   },
   "source": [
    "Once defined the mathematical basis behind linear interpolation, we proceed to establish the algorithmic steps for an implementation.\n",
    "\n",
    "1. Establish the dataset you want to interpolate, i.e. you must provide a set of the form $(x_i,y_i)$.\n",
    "2. Give the value $x$ where you want to approximate the value $f(x)$.\n",
    "3. Find the interval $[x_i, x_{i+1}]$ in which $x$ is embedded.\n",
    "4. Use the above expression in order to find $y=f(x)$."
   ]
  },
  {
   "cell_type": "markdown",
   "metadata": {
    "id": "0Gmn6NAdjz1W"
   },
   "source": [
    "To make the linear interpolation we will use"
   ]
  },
  {
   "cell_type": "code",
   "execution_count": null,
   "metadata": {
    "id": "bzCHHksPEZWn"
   },
   "outputs": [],
   "source": [
    "import scipy as sp\n",
    "sp.interpolate.interp1d?"
   ]
  },
  {
   "cell_type": "markdown",
   "metadata": {
    "id": "epbBukAVjz1Z"
   },
   "source": [
    "The option `kind` specifies the kind of interpolation: \n",
    "* `'linear', 'nearest', 'zero', 'slinear', 'quadratic', 'cubic'`,\n",
    "    where `'zero', 'slinear', 'quadratic' and 'cubic'` refer to a spline\n",
    "    interpolation of zeroth, first, second or third order) \n",
    "* or as an\n",
    "    integer specifying the order of the spline interpolator to use.\n",
    "\n",
    "Default is `'linear'` correponding to integer 1."
   ]
  },
  {
   "cell_type": "markdown",
   "metadata": {
    "id": "OZXQtU4WEZWj"
   },
   "source": [
    "## Example 1"
   ]
  },
  {
   "cell_type": "markdown",
   "metadata": {
    "id": "Jb7eChUUEZWk"
   },
   "source": [
    "Sample the function $f(x) = \\sin(x)$ between $0$ and $10$ using $N=10$ points (9 intervals). Plot both, the interpolation and the original function."
   ]
  },
  {
   "cell_type": "code",
   "execution_count": null,
   "metadata": {
    "id": "5G1t56pnjz1a"
   },
   "outputs": [],
   "source": [
    "import scipy as sp\n",
    "from scipy import interpolate "
   ]
  },
  {
   "cell_type": "markdown",
   "metadata": {
    "id": "A0mxSeRjk1T6"
   },
   "source": [
    "`sp` reemplaza completamente a numpy con `np`"
   ]
  },
  {
   "cell_type": "markdown",
   "metadata": {
    "id": "sB0lNqKIEZWn"
   },
   "source": [
    "Interpolation with 9 equal intervals"
   ]
  },
  {
   "cell_type": "code",
   "execution_count": null,
   "metadata": {
    "id": "BaCvQYBoEZWp"
   },
   "outputs": [],
   "source": [
    "n_points = 10\n",
    "x=np.linspace(0, 2*np.pi, n_points)\n",
    "f=interpolate.interp1d( x,np.sin(x),kind='linear' )"
   ]
  },
  {
   "cell_type": "markdown",
   "metadata": {
    "id": "IFSu7iE6jz1g"
   },
   "source": [
    "Plotting the results adding the real function with enough points"
   ]
  },
  {
   "cell_type": "code",
   "execution_count": null,
   "metadata": {
    "colab": {
     "base_uri": "https://localhost:8080/",
     "height": 283
    },
    "id": "3Ggn5WacEZWq",
    "outputId": "c33ed8a9-bd0c-4418-85e9-45e32cb2ab0d"
   },
   "outputs": [
    {
     "data": {
      "image/png": "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\n",
      "text/plain": [
       "<Figure size 864x432 with 1 Axes>"
      ]
     },
     "metadata": {
      "needs_background": "light",
      "tags": []
     },
     "output_type": "display_data"
    }
   ],
   "source": [
    "Ninter = 100\n",
    "X=np.linspace(0, 2*np.pi, Ninter)\n",
    "plt.figure( figsize=(12,6) )\n",
    "plt.plot(x,f(x),'ro',label='Data')\n",
    "plt.plot(X,f(X),'k-',lw=3,label='linear interpolation')\n",
    "plt.plot(X,np.sin(X),'c-',label='real function')\n",
    "\n",
    "#Formatting\n",
    "plt.plot(2.35,f(2.35),'y*',markersize=10,label='sample point')\n",
    "plt.title( \"Linear interpolation of $\\sin(x)$\" )\n",
    "plt.legend()\n",
    "plt.xlabel( \"$x$\",size=15 )\n",
    "plt.ylabel( \"$y$\",size=15 )\n",
    "plt.grid()"
   ]
  },
  {
   "cell_type": "markdown",
   "metadata": {
    "id": "QeCb12m0jz1j"
   },
   "source": [
    "Other `kind` values: 0,1,2"
   ]
  },
  {
   "cell_type": "code",
   "execution_count": null,
   "metadata": {
    "colab": {
     "base_uri": "https://localhost:8080/",
     "height": 650
    },
    "id": "pvnSUdF8jz1k",
    "outputId": "94de36f6-0068-4af8-d8dd-eac9aed6eb1e"
   },
   "outputs": [
    {
     "data": {
      "image/png": "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\n",
      "text/plain": [
       "<Figure size 864x432 with 1 Axes>"
      ]
     },
     "metadata": {
      "needs_background": "light",
      "tags": []
     },
     "output_type": "display_data"
    }
   ],
   "source": [
    "n_points = 10\n",
    "x=np.linspace(0, 2*np.pi, n_points)\n",
    "Ninter = 100\n",
    "X=np.linspace(0, 2*np.pi, Ninter)\n",
    "plt.figure( figsize=(12,6) )\n",
    "plt.plot(x,np.sin(x),'ro',label='Data')\n",
    "plt.plot(X,np.sin(X),'c-',label='real function')\n",
    "\n",
    "plt.plot(X,interpolate.interp1d( x,np.sin(x),kind=0)(X),\n",
    "         'g--',lw=1,label='interpolation with horizontal lines')\n",
    "plt.plot(X,interpolate.interp1d( x,np.sin(x),kind=1)(X),\n",
    "         'k-',lw=1,label='linear interpolation')\n",
    "plt.plot(X,interpolate.interp1d( x,np.sin(x),kind=2)(X),\n",
    "         'r:',lw=1,label='quadratic interpolation')\n",
    "#plt.plot(X,interpolate.interp1d( x,np.sin(x),kind=3)(X),\n",
    "#         'k:',lw=1,label='quadratic interpolation')\n",
    "\n",
    "#Formatting\n",
    "plt.plot(2.35,f(2.35),'y*',markersize=10,label='sample point')\n",
    "plt.title( \"Linear interpolation of $\\sin(x)$\" )\n",
    "plt.legend()\n",
    "plt.xlabel( \"$x$\",size=15 )\n",
    "plt.ylabel( \"$y$\",size=15 )\n",
    "\n",
    "#Formatting\n",
    "plt.title( \"Linear interpolation of $\\sin(x)$\" )\n",
    "plt.legend()\n",
    "plt.xlabel( \"$x$\",size=15 )\n",
    "plt.ylabel( \"$y$\",size=15 )\n",
    "plt.grid()"
   ]
  },
  {
   "cell_type": "markdown",
   "metadata": {
    "id": "AyEnMaaqjz1m"
   },
   "source": [
    "We can see that the data poinst are just joined by straight lines:"
   ]
  },
  {
   "cell_type": "code",
   "execution_count": null,
   "metadata": {
    "colab": {
     "base_uri": "https://localhost:8080/",
     "height": 35
    },
    "id": "g7QLUR5MEZWs",
    "outputId": "174f8d15-3c3a-4d44-f770-3a6c646e9366"
   },
   "outputs": [
    {
     "data": {
      "text/plain": [
       "(array(0.67198441), 0.7114733527908443)"
      ]
     },
     "execution_count": 23,
     "metadata": {
      "tags": []
     },
     "output_type": "execute_result"
    }
   ],
   "source": [
    "f(2.35),np.sin(2.35)"
   ]
  },
  {
   "cell_type": "markdown",
   "metadata": {
    "id": "Gn2sL8iZEZWu"
   },
   "source": [
    "However, the object `f` behaves like a function. For example. We can evaluate both the real and the interpolated function in $x_0=3$"
   ]
  },
  {
   "cell_type": "code",
   "execution_count": null,
   "metadata": {
    "colab": {
     "base_uri": "https://localhost:8080/",
     "height": 35
    },
    "id": "c0Hix__AEZWu",
    "outputId": "b9451278-6747-46a3-e6db-f8f218265dfa"
   },
   "outputs": [
    {
     "data": {
      "text/plain": [
       "0.1411200080598672"
      ]
     },
     "execution_count": 24,
     "metadata": {
      "tags": []
     },
     "output_type": "execute_result"
    }
   ],
   "source": [
    "np.sin(3)"
   ]
  },
  {
   "cell_type": "code",
   "execution_count": null,
   "metadata": {
    "colab": {
     "base_uri": "https://localhost:8080/",
     "height": 35
    },
    "id": "-skeqhluEZWx",
    "outputId": "ab1b923d-89ca-4bcd-9bab-0c41ec693a72"
   },
   "outputs": [
    {
     "data": {
      "text/plain": [
       "array(0.13335233)"
      ]
     },
     "execution_count": 25,
     "metadata": {
      "tags": []
     },
     "output_type": "execute_result"
    }
   ],
   "source": [
    "f(3)"
   ]
  },
  {
   "cell_type": "markdown",
   "metadata": {
    "id": "fv_29O5rEZW2"
   },
   "source": [
    "**Activity**   \n",
    "    \n",
    "Use the previous code and explore the behaviour of the Linear Interpolation algorithm when varying the number of data used."
   ]
  },
  {
   "cell_type": "markdown",
   "metadata": {
    "id": "CPc-9Ql1EZW3"
   },
   "source": [
    "<!--\n",
    "N=20\n",
    "x=np.linspace(0,6,N)\n",
    "f=interpolate.interp1d( x,np.sin(x) )\n",
    "X=np.linspace(0,6,100)\n",
    "plt.plot(x,f(x),'ro')\n",
    "plt.plot(x,f(x),'k-',lw=3)\n",
    "plt.plot(X,np.sin(X),'c-')\n",
    "plt.plot(2.35,f(2.35),'y*',markersize=10)\n",
    "-->"
   ]
  },
  {
   "cell_type": "markdown",
   "metadata": {
    "id": "3SGRypgREZW5"
   },
   "source": [
    "- - -"
   ]
  },
  {
   "cell_type": "markdown",
   "metadata": {
    "id": "3Zgj3wv8EZW6"
   },
   "source": [
    "## Example: \n",
    "Generate three points that do not lie upon a stright line, and try to make a manual interpolation with a polynomial of degree two."
   ]
  },
  {
   "cell_type": "code",
   "execution_count": null,
   "metadata": {
    "id": "S6UxbvTtEZW7"
   },
   "outputs": [],
   "source": [
    "import pandas as pd\n",
    "df=pd.DataFrame({ 'X':[-2.4,3,21.3],\n",
    "                  'Y':[-10.,8.,3.]\n",
    "                 }  \n",
    "                )"
   ]
  },
  {
   "cell_type": "code",
   "execution_count": null,
   "metadata": {
    "colab": {
     "base_uri": "https://localhost:8080/",
     "height": 141
    },
    "id": "9souHyUYEZW9",
    "outputId": "05e01698-bf8f-4600-8590-b2cbbb7e26ab"
   },
   "outputs": [
    {
     "data": {
      "text/html": [
       "<div>\n",
       "<style scoped>\n",
       "    .dataframe tbody tr th:only-of-type {\n",
       "        vertical-align: middle;\n",
       "    }\n",
       "\n",
       "    .dataframe tbody tr th {\n",
       "        vertical-align: top;\n",
       "    }\n",
       "\n",
       "    .dataframe thead th {\n",
       "        text-align: right;\n",
       "    }\n",
       "</style>\n",
       "<table border=\"1\" class=\"dataframe\">\n",
       "  <thead>\n",
       "    <tr style=\"text-align: right;\">\n",
       "      <th></th>\n",
       "      <th>X</th>\n",
       "      <th>Y</th>\n",
       "    </tr>\n",
       "  </thead>\n",
       "  <tbody>\n",
       "    <tr>\n",
       "      <th>0</th>\n",
       "      <td>-2.4</td>\n",
       "      <td>-10.0</td>\n",
       "    </tr>\n",
       "    <tr>\n",
       "      <th>1</th>\n",
       "      <td>3.0</td>\n",
       "      <td>8.0</td>\n",
       "    </tr>\n",
       "    <tr>\n",
       "      <th>2</th>\n",
       "      <td>21.3</td>\n",
       "      <td>3.0</td>\n",
       "    </tr>\n",
       "  </tbody>\n",
       "</table>\n",
       "</div>"
      ],
      "text/plain": [
       "      X     Y\n",
       "0  -2.4 -10.0\n",
       "1   3.0   8.0\n",
       "2  21.3   3.0"
      ]
     },
     "execution_count": 6,
     "metadata": {
      "tags": []
     },
     "output_type": "execute_result"
    }
   ],
   "source": [
    "df"
   ]
  },
  {
   "cell_type": "code",
   "execution_count": null,
   "metadata": {
    "colab": {
     "base_uri": "https://localhost:8080/",
     "height": 265
    },
    "id": "efE3I3CCEZW_",
    "outputId": "879d3a7d-bcf5-44ff-f5fd-75fc4cca1198"
   },
   "outputs": [
    {
     "data": {
      "image/png": "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\n",
      "text/plain": [
       "<Figure size 432x288 with 1 Axes>"
      ]
     },
     "metadata": {
      "needs_background": "light",
      "tags": []
     },
     "output_type": "display_data"
    }
   ],
   "source": [
    "plt.plot(df.X,df.Y,'ro')\n",
    "plt.grid()"
   ]
  },
  {
   "cell_type": "code",
   "execution_count": null,
   "metadata": {
    "id": "K-oIiZDQPQjc"
   },
   "outputs": [],
   "source": [
    "import scipy as sp"
   ]
  },
  {
   "cell_type": "code",
   "execution_count": null,
   "metadata": {
    "id": "gMncmDM0jz16"
   },
   "outputs": [],
   "source": [
    "f=sp.interpolate.interp1d(df.X,df.Y)"
   ]
  },
  {
   "cell_type": "code",
   "execution_count": null,
   "metadata": {
    "id": "H9ygkC7_PQjm",
    "outputId": "2406306b-b270-4e41-c917-5203c1fc7afa"
   },
   "outputs": [
    {
     "data": {
      "text/plain": [
       "array(-2.)"
      ]
     },
     "execution_count": 13,
     "metadata": {
      "tags": []
     },
     "output_type": "execute_result"
    }
   ],
   "source": [
    "f(0)"
   ]
  },
  {
   "cell_type": "code",
   "execution_count": null,
   "metadata": {
    "id": "J0dxZ51NPQjn",
    "outputId": "17e9673a-b5c5-4ae7-9457-5c1ff8ce355d"
   },
   "outputs": [
    {
     "data": {
      "image/png": "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\n",
      "text/plain": [
       "<Figure size 432x288 with 1 Axes>"
      ]
     },
     "metadata": {
      "needs_background": "light",
      "tags": []
     },
     "output_type": "display_data"
    }
   ],
   "source": [
    "plt.plot(df.X,df.Y,'ro')\n",
    "plt.plot(df.X,f(df.X),'b-')\n",
    "plt.plot(5,f(5),'y*')\n",
    "plt.grid()"
   ]
  },
  {
   "cell_type": "markdown",
   "metadata": {
    "id": "BP0sX_6fEZXA"
   },
   "source": [
    "### Polynomial object in `numpy`\n",
    "In `numpy` it is possible to define polynomials friom either its coefficients o its roots with `np.poly1d`"
   ]
  },
  {
   "cell_type": "markdown",
   "metadata": {
    "id": "yKOPE5AcEZXC"
   },
   "source": [
    "Define a two degree polynomial from its roots:"
   ]
  },
  {
   "cell_type": "code",
   "execution_count": null,
   "metadata": {
    "id": "S_V2zHPnjz19"
   },
   "outputs": [],
   "source": [
    "import numpy as np"
   ]
  },
  {
   "cell_type": "markdown",
   "metadata": {
    "id": "l-sKCHWojz2A"
   },
   "source": [
    "We try to make a fit by using an inverted parabola passing trough the tree points and using the roots as a guess.\n",
    "In fact, we can try with a polynomial of degree two with roots at 1 and 22.\n",
    "\n",
    "With $k$ we can flip the curve and reduce the maximum without change the roots"
   ]
  },
  {
   "cell_type": "code",
   "execution_count": null,
   "metadata": {
    "id": "uV6xujqPEZXC"
   },
   "outputs": [],
   "source": [
    "k=-0.1\n",
    "P=k*np.poly1d([0,23],r=True)"
   ]
  },
  {
   "cell_type": "code",
   "execution_count": null,
   "metadata": {
    "colab": {
     "base_uri": "https://localhost:8080/",
     "height": 51
    },
    "id": "9ztBor9-EZXE",
    "outputId": "44ab36ca-8f74-4113-aec0-e8d6072beab0"
   },
   "outputs": [
    {
     "name": "stdout",
     "output_type": "stream",
     "text": [
      "      2\n",
      "-0.1 x + 2.3 x - 0\n"
     ]
    }
   ],
   "source": [
    "print(P)"
   ]
  },
  {
   "cell_type": "code",
   "execution_count": null,
   "metadata": {
    "colab": {
     "base_uri": "https://localhost:8080/",
     "height": 34
    },
    "id": "oGBYy5vAm6LU",
    "outputId": "b2e42386-2d86-4092-bcfe-c5088642f126"
   },
   "outputs": [
    {
     "data": {
      "text/plain": [
       "array([23.,  0.])"
      ]
     },
     "execution_count": 21,
     "metadata": {
      "tags": []
     },
     "output_type": "execute_result"
    }
   ],
   "source": [
    "P.roots"
   ]
  },
  {
   "cell_type": "code",
   "execution_count": null,
   "metadata": {
    "colab": {
     "base_uri": "https://localhost:8080/",
     "height": 286
    },
    "id": "PUM8A4EmEZXG",
    "outputId": "413d70fc-0b17-497a-a84f-2b96300bc306"
   },
   "outputs": [
    {
     "data": {
      "text/plain": [
       "(-15.0, 20.0)"
      ]
     },
     "execution_count": 22,
     "metadata": {
      "tags": []
     },
     "output_type": "execute_result"
    },
    {
     "data": {
      "image/png": "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\n",
      "text/plain": [
       "<Figure size 432x288 with 1 Axes>"
      ]
     },
     "metadata": {
      "needs_background": "light",
      "tags": []
     },
     "output_type": "display_data"
    }
   ],
   "source": [
    "plt.plot(df.X,df.Y,'ro')\n",
    "x=np.linspace(-8,30)\n",
    "plt.plot(x,P( x),'b-')\n",
    "plt.grid()\n",
    "plt.xlim(-8,30)\n",
    "plt.ylim(-15,20)"
   ]
  },
  {
   "cell_type": "markdown",
   "metadata": {
    "id": "tlOZC1tQEZXM"
   },
   "source": [
    "__Activity__: Scipy interpolation.\n",
    "\n",
    "Define an interplation function which passes throgh the three points by using `interp1D` of Scipy with several linear and quadratic curves between the points."
   ]
  },
  {
   "cell_type": "markdown",
   "metadata": {
    "id": "QCe6jFV_jz2M"
   },
   "source": [
    "<!-- \n",
    "plt.plot(df.X,df.Y,'ro')\n",
    "x=sp.linspace(df.X.min(),df.X.max() )\n",
    "plt.plot(x, sp.interpolate.interp1d(df.X,df.Y,kind=1)(x),label='linear')\n",
    "plt.plot(x, sp.interpolate.interp1d(df.X,df.Y,kind=2)(x),label='qudratic')\n",
    "plt.legend()\n",
    "plt.grid()\n",
    "plt.xlabel( \"$x$\",size=15 )\n",
    "plt.ylabel( \"$y$\",size=15 )\n",
    "plt.xlim(-8,30)\n",
    "plt.ylim(-15,20)\n",
    "-->"
   ]
  },
  {
   "cell_type": "markdown",
   "metadata": {
    "id": "473B0wvREZXN"
   },
   "source": [
    "### Interpolation with `numpy`\n",
    "`numpy` already include an interpolation function with polynomials called `np.polyfit`"
   ]
  },
  {
   "cell_type": "code",
   "execution_count": null,
   "metadata": {
    "id": "7Y1-HKaFEZXN"
   },
   "outputs": [],
   "source": [
    "```python\n",
    "np.polyfit(x, y, deg, rcond=None, full=False, w=None, cov=False)\n",
    "```\n",
    "\n",
    "Least squares polynomial fit.\n",
    "\n",
    "Fit a polynomial ``p(x) = p[0] * x**deg + ... + p[deg]`` of degree `deg`\n",
    "to points `(x, y)`. Returns a vector of coefficients `p` that minimises\n",
    "the squared error."
   ]
  },
  {
   "cell_type": "markdown",
   "metadata": {
    "id": "YqD87C61jz2P"
   },
   "source": [
    "To fit a set of `x` and `y` we need to specify the degree of the polynial to make the fit with the madatory argument: `deg`"
   ]
  },
  {
   "cell_type": "markdown",
   "metadata": {
    "id": "a8l2s1ZDjz2Q"
   },
   "source": [
    "__Example__: fit the points of the previous DataFrame with a polynomial of degree 3"
   ]
  },
  {
   "cell_type": "code",
   "execution_count": null,
   "metadata": {
    "id": "fk00t2uDEZXP"
   },
   "outputs": [],
   "source": [
    "coeffs=np.polyfit(df.X,df.Y,deg=2)"
   ]
  },
  {
   "cell_type": "code",
   "execution_count": null,
   "metadata": {
    "id": "9iBwc4tOPQj3",
    "outputId": "565430c1-0184-43c9-ecca-accf59019581"
   },
   "outputs": [
    {
     "data": {
      "text/plain": [
       "array([-0.15217542,  3.42463858, -0.904337  ])"
      ]
     },
     "execution_count": 26,
     "metadata": {
      "tags": []
     },
     "output_type": "execute_result"
    }
   ],
   "source": [
    "coeffs"
   ]
  },
  {
   "cell_type": "code",
   "execution_count": null,
   "metadata": {
    "colab": {
     "base_uri": "https://localhost:8080/",
     "height": 34
    },
    "id": "Jjo6Xezsjz2U",
    "outputId": "b7ee15e1-da50-490a-cf22-ae5e1c3646bb"
   },
   "outputs": [
    {
     "data": {
      "text/plain": [
       "array([22.2373041 ,  0.26724135])"
      ]
     },
     "execution_count": 28,
     "metadata": {
      "tags": []
     },
     "output_type": "execute_result"
    }
   ],
   "source": [
    "np.poly1d(coeffs).roots"
   ]
  },
  {
   "cell_type": "code",
   "execution_count": null,
   "metadata": {
    "colab": {
     "base_uri": "https://localhost:8080/",
     "height": 51
    },
    "id": "bmIVN0hzEZXQ",
    "outputId": "d1d4d3fc-2f37-40d6-b4dc-5089ffd9487a"
   },
   "outputs": [
    {
     "name": "stdout",
     "output_type": "stream",
     "text": [
      "         2\n",
      "-0.1522 x + 3.425 x - 0.9043\n"
     ]
    }
   ],
   "source": [
    "print(np.poly1d(coeffs))"
   ]
  },
  {
   "cell_type": "code",
   "execution_count": null,
   "metadata": {
    "colab": {
     "base_uri": "https://localhost:8080/",
     "height": 286
    },
    "id": "O8F-k_NxEZXT",
    "outputId": "46d14de8-926d-4f4f-ba1a-aa38b2153d6b"
   },
   "outputs": [
    {
     "data": {
      "text/plain": [
       "(-20.0, 20.0)"
      ]
     },
     "execution_count": 33,
     "metadata": {
      "tags": []
     },
     "output_type": "execute_result"
    },
    {
     "data": {
      "image/png": "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\n",
      "text/plain": [
       "<Figure size 432x288 with 1 Axes>"
      ]
     },
     "metadata": {
      "needs_background": "light",
      "tags": []
     },
     "output_type": "display_data"
    }
   ],
   "source": [
    "coeffs=np.polyfit(df.X,df.Y,deg=2)\n",
    "P=np.poly1d(coeffs)\n",
    "plt.plot(df.X,df.Y,'ro')\n",
    "x=np.linspace(-8,30,100)\n",
    "plt.plot(x,P( x),'b-')\n",
    "plt.grid()\n",
    "plt.ylim(-20,20)"
   ]
  },
  {
   "cell_type": "markdown",
   "metadata": {
    "id": "63FIku-BEZXX"
   },
   "source": [
    "## Example: Least action\n",
    "see Least action Notebook: [[local]](./least_action.ipynb) [[GitHub]](https://github.com/restrepo/ComputationalMethods/blob/master/material/least_action.ipynb) "
   ]
  },
  {
   "cell_type": "markdown",
   "metadata": {
    "id": "oKqUP0SaEZXZ"
   },
   "source": [
    "# Lagrange Polynomial"
   ]
  },
  {
   "cell_type": "markdown",
   "metadata": {
    "id": "P09CyJ2SEZXa"
   },
   "source": [
    "Algebraic polynomials are very special functions as they have properties like differentiability (unlike linear interpolation) and continuity that make them useful for approximations like interpolation. A Polynomial is defined as a function given by the general expression:\n",
    "\n",
    "$$P_n(x) = a_nx^n + a_{n-1}x^{n-1} + \\cdots + a_1 x + a_0$$\n",
    "\n",
    "where $n$ is the polynomial degree.\n",
    "\n",
    "Another important property of polynomials is given by the [Weierstrass Approximation Theorem](http://en.wikipedia.org/wiki/Stone%E2%80%93Weierstrass_theorem), which states given a continuous function $f$ defined on a interval $[a,b]$, for all $\\epsilon >0$, there exits a polynomial $P(x)$ such that\n",
    "\n",
    "$$|f(x) - P(x)|<\\epsilon\\ \\ \\ \\ \\  \\mbox{for all }\\ x\\ \\mbox{ in }\\ [a,b].$$\n",
    "\n",
    "This theorem guarantees the existence of such a polynomial, however it is necessary to propose a scheme to build it."
   ]
  },
  {
   "cell_type": "code",
   "execution_count": 25,
   "metadata": {
    "colab": {
     "base_uri": "https://localhost:8080/",
     "height": 110
    },
    "id": "X8U0VfLjEZXa",
    "outputId": "676dc519-d056-4c02-d362-185158372d51"
   },
   "outputs": [
    {
     "data": {
      "text/html": [
       "<div>\n",
       "<style scoped>\n",
       "    .dataframe tbody tr th:only-of-type {\n",
       "        vertical-align: middle;\n",
       "    }\n",
       "\n",
       "    .dataframe tbody tr th {\n",
       "        vertical-align: top;\n",
       "    }\n",
       "\n",
       "    .dataframe thead th {\n",
       "        text-align: right;\n",
       "    }\n",
       "</style>\n",
       "<table border=\"1\" class=\"dataframe\">\n",
       "  <thead>\n",
       "    <tr style=\"text-align: right;\">\n",
       "      <th></th>\n",
       "      <th>X</th>\n",
       "      <th>Y</th>\n",
       "    </tr>\n",
       "  </thead>\n",
       "  <tbody>\n",
       "    <tr>\n",
       "      <th>0</th>\n",
       "      <td>3.0</td>\n",
       "      <td>8.0</td>\n",
       "    </tr>\n",
       "    <tr>\n",
       "      <th>1</th>\n",
       "      <td>21.3</td>\n",
       "      <td>3.0</td>\n",
       "    </tr>\n",
       "  </tbody>\n",
       "</table>\n",
       "</div>"
      ],
      "text/plain": [
       "      X    Y\n",
       "0   3.0  8.0\n",
       "1  21.3  3.0"
      ]
     },
     "execution_count": 25,
     "metadata": {},
     "output_type": "execute_result"
    }
   ],
   "source": [
    "import pandas as pd\n",
    "df=pd.DataFrame({ 'X':[3,21.3],\n",
    "                  'Y':[8.,3.]\n",
    "                 }  \n",
    "                )\n",
    "df"
   ]
  },
  {
   "cell_type": "code",
   "execution_count": 26,
   "metadata": {
    "colab": {
     "base_uri": "https://localhost:8080/",
     "height": 265
    },
    "id": "qS_89FJWEZXd",
    "outputId": "c2c6cff1-a0ff-48bd-a618-581a9dc64410"
   },
   "outputs": [
    {
     "data": {
      "image/png": "iVBORw0KGgoAAAANSUhEUgAAAWoAAAD4CAYAAADFAawfAAAAOXRFWHRTb2Z0d2FyZQBNYXRwbG90bGliIHZlcnNpb24zLjMuMiwgaHR0cHM6Ly9tYXRwbG90bGliLm9yZy8vihELAAAACXBIWXMAAAsTAAALEwEAmpwYAAAO40lEQVR4nO3df4zk9V3H8ecbDtIui9L26Eqh2fNXSLQJyFyQtkrZAxtAQtUYQ7ON+CPZNLEKJk2KuaStMcRUo0nV+mNVYqsrW0WoDSkNxltq/AP0jh4UPCo/ylkKheKP0uWMlPr2j5lt9/a+szO7NzP7/srzkXwzM9/v5zvzus997zWz35nZi8xEklTXKTsdQJK0OYtakoqzqCWpOItakoqzqCWpuF3juNPdu3fnnj17Tlj/4osvcsYZZ4zjIUfKnKPThozQjpxtyAjm3K5Dhw49n5lnN27MzJEvnU4nm6ysrDSur8aco9OGjJntyNmGjJnm3C7gYPbpVE99SFJxFrUkFWdRS1JxFrUkFWdRS1JxQxV1RPxyRDwcEQ9FxK0R8aqRJ1lagj174JRTupdLSyN/CElqo4FFHRHnAr8E7M3MNwGnAteNNMXSEiwswNGjkNm9XFiwrCWJ4U997AJeHRG7gCng6ZGm2L8fjh07ft2xY931kvQKFznE76OOiBuAm4H/Bu7OzPmGMQvAAsDMzExneXn5hPtZXV1lenr6hPVv27ePaMiREXzmwIHBf4oR65ezmjbkbENGaEfONmQEc27X3Nzcoczc27ix3zdh1hbgNcAB4GzgNOATwLs222fL30ycnc3snvQ4fpmdPcnv+mxPtW8s9dOGnG3ImNmOnG3ImGnO7eIkv5l4BfCFzPxKZn4duB14y8k/f6xz880wNXX8uqmp7npJeoUbpqj/DbgkIqYiIoDLgSMjTTE/D4uLMDsLEd3LxcXuekl6hRv42/My876IuA24H3gZ+CywOPIk8/MWsyQ1GOrXnGbmB4APjDmLJKmB30yUpOIsakkqzqKWpOIsakkqzqKWpOIsakkqzqKWpOIsakkqzqKWpOIsakkqzqKWpOIsakkqzqKWpOIsakkqzqKWpOIsakkqzqKWpOIsakkqzqKWpOIsakkqzqKWpOIsakkqzqKWpOIsakkqzqKWpOIsakkqzqKWpOIsakkqzqKWpOIsakkqzqKWpOIGFnVEnB8Rh9ctL0TEjRPIJkkCdg0akJmfBy4EiIhTgS8Bd4w3liRpzVZPfVwOPJ6ZR8cRRpJ0osjM4QdH3ALcn5m/17BtAVgAmJmZ6SwvL5+w/+rqKtPT09tPOyHmHJ02ZIR25GxDRjDnds3NzR3KzL2NGzNzqAU4HXgemBk0ttPpZJOVlZXG9dWYc3TakDGzHTnbkDHTnNsFHMw+nbqVUx9X0X01/ezJPnNIkoa3laJ+J3DruIJIkpoNVdQRMQX8CHD7eONIkjYa+PE8gMw8BrxuzFkkSQ38ZqIkFWdRS1JxFrUkFWdRS1JxFrUkFWdRS1JxFrUkFWdRS1JxFrUkFWdRS1JxFrUkFWdRS1JxFrUkFWdRS1JxFrUkFWdRS1JxFrUkFWdRS1JxFrUkFWdRS1JxFrUkFWdRS1JxFrUkFWdRS1JxFrUkFWdRS1JxFrUkFWdRS1JxFrUkFWdRS1JxQxV1RJwVEbdFxCMRcSQi3jzuYJKkrl1Djvsw8OnM/MmIOB2YGmMmSdI6A4s6Ir4NuBT4GYDMfAl4abyxJElrIjM3HxBxIbAI/AtwAXAIuCEzX9wwbgFYAJiZmeksLy+fcF+rq6tMT0+PJPg4mXN02pAR2pGzDRnBnNs1Nzd3KDP3Nm7MzE0XYC/wMvCDvdsfBn5ts306nU42WVlZaVxfjTlHpw0ZM9uRsw0ZM825XcDB7NOpw7yZ+BTwVGbe17t9G3DRST55SJKGNLCoM/PLwBcj4vzeqsvpngaRJE3AsJ/6+EVgqfeJjyeAnx1fJEnSekMVdWYepnuuWpI0YX4zUZKKs6glqTiLWpKKs6glqTiLWpKKs6glqTiLWpKKs6glqTiLWpKKs6glqTiLWpKKs6glqTiLWpKKs6glqTiLWpKKs6glqTiLWpKKs6glqTiLWpKKs6glqTiLWpKKs6glqTiLWpKKs6glqTiLWpKKs6glqTiLWpKKs6glqTiLWpKKs6glqTiLWpKK2zXMoIh4Evga8A3g5czcO85QkqRvGaqoe+Yy8/mxJZEkNfLUhyQVF5k5eFDEF4D/BBL4o8xcbBizACwAzMzMdJaXl0+4n9XVVaanp08289iZc3TakBHakbMNGcGc2zU3N3eo72nlzBy4AG/oXb4eeAC4dLPxnU4nm6ysrDSur8aco9OGjJntyNmGjJnm3C7gYPbp1KFOfWTm073L54A7gItP/vlDkjSMgUUdEWdExJlr14G3Aw+NO5gkqWuYT33MAHdExNr4v8zMT481lSTpmwYWdWY+AVwwgSySpAZ+PE+SirOoJak4i1qSirOoJak4i1qSirOoJak4i1qSirOoJak4i1qSirOoJak4i1qSirOoJak4i1qSirOoJak4i1qSirOoJak4i1qSirOoJak4i1qSirOoJak4i1qSirOoJak4i1qSirOoJak4i1qSirOoJak4i1qSirOoJak4i1qSirOoJam4oYs6Ik6NiM9GxJ3jDCRJOt5WXlHfABwZVxBJUrOhijoizgN+FPiT8caRJG0UmTl4UMRtwK8DZwLvzcxrGsYsAAsAMzMzneXl5RPuZ3V1lenp6ZPNPHbmHJ02ZIR25GxDRjDnds3NzR3KzL2NGzNz0wW4Bvj93vXLgDsH7dPpdLLJyspK4/pqzDk6bciY2Y6cbciYac7tAg5mn04d5tTHW4FrI+JJYBnYFxF/cfLPH5KkYQws6sz8lcw8LzP3ANcBBzLzXWNPJkkC/By1JJW3ayuDM/Me4J6xJJEkNfIVtSQVZ1FLUnEWtSQVZ1FLUnEWtSQVZ1FLUnEWtSQVZ1FLUnEWtSQVZ1FLUnEWtSQVZ1FLUnEWtSQVZ1FLUnEWtSQVZ1FLUnEWtSQVZ1FLUnEWtSQVZ1FLUnEWtSQVZ1FLUnEWtSQVZ1FLUnEWtSQVZ1FLUnEWtSQVZ1FLUnEWtSQVZ1FLUnEWtSQVN7CoI+JVEfFPEfFARDwcEb86iWCS1BpLS7BnD5xySvdyaWmkd79riDH/A+zLzNWIOA34x4i4KzPvHWkSSWqjpSVYWIBjx7q3jx7t3gaYnx/JQwx8RZ1dq72bp/WWHMmjS1Lb7d//rZJec+xYd/2IRObgzo2IU4FDwPcAH8nM9zWMWQAWAGZmZjrLy8sn3M/q6irT09Mnm3nszDk6bcgI7cjZhozwysv5tn37iIYezQg+c+DA0PczNzd3KDP3Nm7MzKEX4CxgBXjTZuM6nU42WVlZaVxfjTlHpw0ZM9uRsw0ZM1+BOWdnM+HEZXZ2S3cDHMw+nbqlT31k5n8B9wBXbmU/Sfp/6+abYWrq+HVTU931IzLMpz7OjoizetdfDVwBPDKyBJLUZvPzsLgIs7MQ0b1cXBzZG4kw3Kc+zgE+2jtPfQrwV5l558gSSFLbzc+PtJg3GljUmfkg8ANjSyBJ2pTfTJSk4ixqSSrOopak4ixqSSpuqG8mbvlOI74CHG3YtBt4fuQPOHrmHJ02ZIR25GxDRjDnds1m5tlNG8ZS1P1ExMHs9xXJQsw5Om3ICO3I2YaMYM5x8NSHJBVnUUtScZMu6sUJP952mXN02pAR2pGzDRnBnCM30XPUkqSt89SHJBVnUUtScSMv6oh4Y0SsRMSR3n+Ge0PDmMsi4qsRcbi3vH/UOYbM+mREfK6X4WDD9oiI34mIxyLiwYi4aML5zl83R4cj4oWIuHHDmB2Zy4i4JSKei4iH1q17bUT8XUQ82rt8TZ99r4yIz/fm9aYdyPmbEfFI7+/0jrVf49uw76bHx5gzfjAivrTu7/XqPvvu9Fx+fF3GJyPicJ99JzWXjf1T8djckn7/o8B2F7q/FvWi3vUzgX8Fvm/DmMuAO0f92NvI+iSwe5PtVwN3AQFcAty3g1lPBb5M90PxOz6XwKXARcBD69b9BnBT7/pNwIf6/DkeB74LOB14YOPxMYGcbwd29a5/qCnnMMfHmDN+EHjvEMfEjs7lhu2/Bbx/h+eysX8qHptbWUb+ijozn8nM+3vXvwYcAc4d9eNMyDuAj2XXvcBZEXHODmW5HHg8M5u+8TlxmfkPwH9sWP0O4KO96x8Ffqxh14uBxzLzicx8CVju7TexnJl5d2a+3Lt5L3DeuB5/GH3mchg7PpdrIiKAnwJuHdfjD2OT/il3bG7FWM9RR8Qeur/L+r6GzW+OiAci4q6I+P5x5thEAndHxKHef8670bnAF9fdfoqde9K5jv7/CCrMJcBMZj4D3X8wwOsbxlSaU4Cfo/tTU5NBx8e4vad3euaWPj+qV5rLHwaezcxH+2yf+Fxu6J82HpvfNLaijohp4G+AGzPzhQ2b76f7I/wFwO8CnxhXjgHempkXAVcBvxARl27YHg37TPzzjBFxOnAt8NcNm6vM5bBKzClAROwHXgaW+gwZdHyM0x8A3w1cCDxD97TCRmXmEngnm7+anuhcDuifvrs1rCvx+eWxFHVEnEZ3kpYy8/aN2zPzhcxc7V3/FHBaROweR5bNZObTvcvngDvo/uiz3lPAG9fdPg94ejLpjnMVcH9mPrtxQ5W57Hl27dRQ7/K5hjEl5jQirgeuAeazd4JyoyGOj7HJzGcz8xuZ+b/AH/d57CpzuQv4CeDj/cZMci779E9rjs0m4/jURwB/ChzJzN/uM+Y7euOIiIt7Of591Fk2ExFnRMSZa9fpvsH00IZhnwR+OrouAb669uPThPV9tVJhLtf5JHB97/r1wN82jPln4Hsj4jt7Pylc19tvYiLiSuB9wLWZeazPmGGOj3FmXP9eyI/3eewdn8ueK4BHMvOppo2TnMtN+qcVx2ZfY3jX9Yfo/rjwIHC4t1wNvBt4d2/Me4CH6b6rei/wlkm/i0r3nd0HesvDwP7e+vU5A/gI3XeCPwfs3YGcU3SL99vXrdvxuaT7xPEM8HW6r0R+Hngd8PfAo73L1/bGvgH41Lp9r6b7bvzja/M+4ZyP0T0XuXZ8/uHGnP2Ojwlm/PPeMfcg3bI4p+Jc9tb/2drxuG7sTs1lv/4pd2xuZfEr5JJUnN9MlKTiLGpJKs6ilqTiLGpJKs6ilqTiLGpJKs6ilqTi/g/uPIOpdwExSgAAAABJRU5ErkJggg==\n",
      "text/plain": [
       "<Figure size 432x288 with 1 Axes>"
      ]
     },
     "metadata": {
      "needs_background": "light"
     },
     "output_type": "display_data"
    }
   ],
   "source": [
    "plt.plot(df.X,df.Y,'ro')\n",
    "plt.grid()"
   ]
  },
  {
   "cell_type": "markdown",
   "metadata": {
    "id": "1Kv8QCJpEZXf"
   },
   "source": [
    "Polinomio de interp. de grado <font color=\"blue\">0</font>"
   ]
  },
  {
   "cell_type": "code",
   "execution_count": 27,
   "metadata": {
    "colab": {
     "base_uri": "https://localhost:8080/",
     "height": 303
    },
    "id": "vDmLxerpEZXf",
    "outputId": "6b846d93-a28d-4f72-e02c-bd559e7205b1"
   },
   "outputs": [
    {
     "name": "stdout",
     "output_type": "stream",
     "text": [
      " \n",
      "5.5\n"
     ]
    },
    {
     "data": {
      "image/png": "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\n",
      "text/plain": [
       "<Figure size 432x288 with 1 Axes>"
      ]
     },
     "metadata": {
      "needs_background": "light"
     },
     "output_type": "display_data"
    }
   ],
   "source": [
    "coeffs=np.polyfit(df.X,df.Y,deg=0)\n",
    "\n",
    "P=np.poly1d(coeffs)\n",
    "plt.plot(df.X,df.Y,'ro')\n",
    "x=np.linspace(-8,30)\n",
    "plt.plot(x,P( x),'b-')\n",
    "plt.grid()\n",
    "plt.ylim(0,12)\n",
    "\n",
    "print(np.poly1d(coeffs))"
   ]
  },
  {
   "cell_type": "markdown",
   "metadata": {
    "id": "7Sh-xNwBEZXg"
   },
   "source": [
    "Polinomio de interp. de grado <font color=\"blue\">1</font>"
   ]
  },
  {
   "cell_type": "code",
   "execution_count": null,
   "metadata": {
    "colab": {
     "base_uri": "https://localhost:8080/",
     "height": 303
    },
    "id": "3GUuXGJDEZXh",
    "outputId": "f3fadba7-0ecd-4964-901a-04f83470a134"
   },
   "outputs": [
    {
     "name": "stdout",
     "output_type": "stream",
     "text": [
      " \n",
      "-0.2732 x + 8.82\n"
     ]
    },
    {
     "data": {
      "image/png": "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\n",
      "text/plain": [
       "<Figure size 432x288 with 1 Axes>"
      ]
     },
     "metadata": {
      "needs_background": "light",
      "tags": []
     },
     "output_type": "display_data"
    }
   ],
   "source": [
    "coeffs=np.polyfit(df.X,df.Y,deg=1)\n",
    "\n",
    "P=np.poly1d(coeffs)\n",
    "plt.plot(df.X,df.Y,'ro')\n",
    "x=np.linspace(-8,30)\n",
    "plt.plot(x,P( x),'b-')\n",
    "plt.grid()\n",
    "plt.ylim(0,12)\n",
    "\n",
    "print(np.poly1d(coeffs))"
   ]
  },
  {
   "cell_type": "markdown",
   "metadata": {
    "id": "3XW4YY3_EZXk"
   },
   "source": [
    "Polinomio de interp. de grado <font color=\"blue\">2</font>"
   ]
  },
  {
   "cell_type": "code",
   "execution_count": 28,
   "metadata": {
    "colab": {
     "base_uri": "https://localhost:8080/",
     "height": 358
    },
    "id": "-B1dOzcAEZXl",
    "outputId": "a0d6608a-57ff-47d1-eab3-da42e3634f81"
   },
   "outputs": [
    {
     "name": "stderr",
     "output_type": "stream",
     "text": [
      "C:\\Users\\danit\\anaconda3\\lib\\site-packages\\IPython\\core\\interactiveshell.py:3418: RankWarning: Polyfit may be poorly conditioned\n",
      "  exec(code_obj, self.user_global_ns, self.user_ns)\n"
     ]
    },
    {
     "name": "stdout",
     "output_type": "stream",
     "text": [
      "           2\n",
      "-0.008617 x - 0.06383 x + 8.269\n"
     ]
    },
    {
     "data": {
      "image/png": "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\n",
      "text/plain": [
       "<Figure size 432x288 with 1 Axes>"
      ]
     },
     "metadata": {
      "needs_background": "light"
     },
     "output_type": "display_data"
    }
   ],
   "source": [
    "coeffs=np.polyfit(df.X,df.Y,deg=2)\n",
    "\n",
    "P=np.poly1d(coeffs)\n",
    "plt.plot(df.X,df.Y,'ro')\n",
    "x=np.linspace(-8,30)\n",
    "plt.plot(x,P( x),'b-')\n",
    "plt.grid()\n",
    "plt.ylim(0,12)\n",
    "\n",
    "print(np.poly1d(coeffs))"
   ]
  },
  {
   "cell_type": "code",
   "execution_count": 30,
   "metadata": {
    "colab": {
     "base_uri": "https://localhost:8080/",
     "height": 303
    },
    "id": "MGNua9-REZXo",
    "outputId": "89115b32-35e1-45f5-9b10-1f0cb3467423"
   },
   "outputs": [
    {
     "name": "stdout",
     "output_type": "stream",
     "text": [
      "           2\n",
      "-0.005216 x - 0.1465 x + 8.486\n"
     ]
    },
    {
     "data": {
      "image/png": "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\n",
      "text/plain": [
       "<Figure size 432x288 with 1 Axes>"
      ]
     },
     "metadata": {
      "needs_background": "light"
     },
     "output_type": "display_data"
    }
   ],
   "source": [
    "coeffs=np.polyfit(df.X,df.Y,deg=2)\n",
    "\n",
    "P=np.poly1d(coeffs)\n",
    "plt.plot(df.X,df.Y,'ro')\n",
    "x=np.linspace(-8,30)\n",
    "plt.plot(x,P( x),'b-')\n",
    "plt.grid()\n",
    "plt.ylim(0,12)\n",
    "\n",
    "print(np.poly1d(coeffs))"
   ]
  },
  {
   "cell_type": "code",
   "execution_count": null,
   "metadata": {
    "colab": {
     "base_uri": "https://localhost:8080/",
     "height": 51
    },
    "id": "XqX2NSmUEZXq",
    "outputId": "3bb4a6a6-0f22-49ef-8dec-32d0a04e39ae"
   },
   "outputs": [
    {
     "name": "stdout",
     "output_type": "stream",
     "text": [
      "           2\n",
      "-0.005216 x - 0.1465 x + 8.486\n"
     ]
    }
   ],
   "source": [
    "print(np.poly1d(coeffs))"
   ]
  },
  {
   "cell_type": "markdown",
   "metadata": {
    "id": "jN_ZqgxNEZXs"
   },
   "source": [
    "## Derivation"
   ]
  },
  {
   "cell_type": "markdown",
   "metadata": {
    "id": "d2qULdqzEZXt"
   },
   "source": [
    "Let's suppose a well-behaved yet unknown function $f$ and two points $(x_0,y_0)$ and $(x_1,y_1)$ for which $f(x_0) = y_0$ and $f(x_1) = y_1$. With this information we can build a first-degree polynomial that passes through both points by using the last equation in sec. [Linear Interpolation](interpolation.ipynb#Linear-Interpolation), we have\n",
    "\n",
    "$$P_1(x) = \\left[ \\frac{y_{1}-y_0}{x_{1}-x_0} \\right]x + \\left[ y_0 - \\frac{y_{1}-y_0}{x_{1}-x_0}x_0 \\right]$$\n",
    "\n",
    "We can readily rewrite this expression like:\n",
    "\\begin{align}\n",
    "P_1(x) =& \\frac{y_{1}}{x_{1}-x_0} x- \\frac{y_0}{x_{1}-x_0} x + y_0 -\\frac{y_{1}}{x_{1}-x_0}x_0 +  \\frac{y_0}{x_{1}-x_0}x_0 \\nonumber\\\\\n",
    "=& \\left[1 - \\frac{x}{x_{1}-x_0}  +  \\frac{x_0}{x_{1}-x_0}\\right]y_0+\n",
    "\\left[\\frac{x}{x_{1}-x_0}  -\\frac{x_0}{x_{1}-x_0}\\right]y_1    \\nonumber\\\\\n",
    " =& \\left[\\frac{x_1-x_0}{x_{1}-x_0} - \\frac{x}{x_{1}-x_0}  +  \\frac{x_0}{x_{1}-x_0}\\right]y_0+\n",
    "\\left[\\frac{x}{x_{1}-x_0}  -\\frac{x_0}{x_{1}-x_0}\\right]y_1    \\nonumber\\\\\n",
    "=& \\left[\\frac{x_1-x}{x_{1}-x_0}\\right]y_0+\n",
    "\\left[\\frac{x-x_0}{x_{1}-x_0}\\right]y_1    \\,.\n",
    "\\end{align}\n",
    "In this way\n",
    "$$P_1(x) = L_0(x)f(x_0) + L_1(x)f(x_1)$$\n",
    "\n",
    "where we define the functions $L_0(x)$ and $L_1(x)$ as:\n",
    "\n",
    "$$L_0(x) = \\frac{x-x_1}{x_0-x_1} \\mbox{ and } L_1(x) = \\frac{x-x_0}{x_1-x_0}$$\n",
    "\n",
    "Note that\n",
    "\n",
    "$$L_0(x_0) = 1,\\ \\ \\ L_0(x_1) = 0,\\ \\ \\ L_1(x_0) = 0,\\ \\ \\ L_1(x_1) = 1$$\n",
    "\n",
    "implying:\n",
    "\n",
    "$$P_1(x_0) = f(x_0) = y_0$$\n",
    "\n",
    "$$P_1(x_1) = f(x_1) = y_1$$\n",
    "\n",
    "Although all this procedure may seem unnecessary for a polynomial of degree 1, a generalization to polynomials of larger degrees is now possible."
   ]
  },
  {
   "cell_type": "markdown",
   "metadata": {
    "id": "t5benGvIEZXt"
   },
   "source": [
    "## General case\n",
    "Let's assume again a well-behaved and unknown function $f$ sampled by using a set of $n+1$ data $(x_m,y_m)$ ($0\\leq m \\leq n$).\n",
    "We call the set of $[x_0,x_1,\\ldots,x_n]$ as the _node_ points of the _interpolation polynomial in the Lagrange form_, $P_n(x)$, where:\n",
    "$$f(x)\\approx P_n(x)\\,,$$\n",
    "\n",
    "$$P_n(x) = \\sum_{i=0}^n f(x_i)L_{n,i}(x) = \\sum_{i=0}^n y_iL_{n,i}(x)$$\n",
    "\n",
    "Such that\n",
    "$$f(x_i)= P_n(x_i)\\,,$$\n",
    "\n",
    "We need to find the _Lagrange polynomials_,  $L_{n,i}(x)$, such that \n",
    "$$L_{n,i}(x_i) = 1\\,,\\qquad\\text{and}\\,,\\qquad L_{n,i}(x_j) = 0\\quad\\text{for $i\\neq j$}$$ \n",
    "A function that satisfies this criterion is\n",
    "\n",
    "$$L_{n,i}(x) = \\prod_{\\begin{smallmatrix}m=0\\\\ m\\neq i\\end{smallmatrix}}^n \\frac{x-x_m}{x_i-x_m} =\\frac{(x-x_0)}{(x_i-x_0)}\\frac{(x-x_1)}{(x_i-x_1)}\\cdots \\frac{(x-x_{i-1})}{(x_i-x_{i-1})}\\underbrace{\\frac{}{}}_{m\\ne i}\n",
    "\\frac{(x-x_{i+1})}{(x_i-x_{i+1})} \\cdots \\frac{(x-x_{n-1})}{(x_i-x_{n-1})}\\frac{(x-x_n)}{(x_i-x_n)}  $$\n",
    "Please note that in the expansion the term $(x-x_i)$ does not appears in both the numerator and the denominator as stablished in the productory condition $m\\neq i$.\n",
    "\n",
    "Moreower\n",
    "$$L_{n,i}(x_i) = \\prod_{\\begin{smallmatrix}m=0\\\\ m\\neq i\\end{smallmatrix}}^n \\frac{x_i-x_m}{x_i-x_m} =1$$\n",
    "and, for $j\\ne i$\n",
    "$$L_{n,i}(x_j) = \\prod_{\\begin{smallmatrix}m=0\\\\ m\\neq i\\end{smallmatrix}}^n \\frac{x_j-x_m}{x_i-x_m} =\\frac{(x_j-x_0)}{(x_i-x_0)}\\cdots \\frac{(\\boldsymbol{x_j}-\\boldsymbol{x_j})}{(x_i-x_j)}\\cdots\\frac{(x_j-x_n)}{(x_i-x_n)}=0.$$\n",
    "\n",
    "\n",
    "Then, the polynomial of $n$th-degree $P_n(x)$ will satisfy the definitory property for a interpolating polynomial, i.e. $P_n(x_i) = y_i$ for any $i$ and it is called the _interpolation Polynomial in the Lagrange form_.\n",
    "\n",
    "Check [this implementation in sympy](./LagrangePoly.ipynb) [[View in Colaboratory](https://colab.research.google.com/github/restrepo/ComputationalMethods/blob/master/material/LagrangePoly.ipynb)] where both the interpolating polynomial and the Lagrange polynomials are defined."
   ]
  },
  {
   "cell_type": "markdown",
   "metadata": {
    "id": "z-CFe6VIPQkL"
   },
   "source": [
    "**Further details at:**\n",
    "[Wikipedia](https://en.wikipedia.org/wiki/Lagrange_polynomial)"
   ]
  },
  {
   "cell_type": "markdown",
   "metadata": {
    "id": "HAld-e8YEZXu"
   },
   "source": [
    "### Example:\n",
    "Obtain the Lagrange Polynomials for a Interpolation polynomial of degree 1."
   ]
  },
  {
   "cell_type": "markdown",
   "metadata": {
    "id": "9WWq5hcOEZXu"
   },
   "source": [
    "$i=0$, $n=1$\n",
    "$$ L_{1,0}=\\prod_{\\begin{smallmatrix}m=0\\\\ m\\neq 0\\end{smallmatrix}}^1 \\frac{x-x_m}{x_i-x_m}=\\prod_{\\begin{smallmatrix}m=1\\end{smallmatrix}}^1 \\frac{x-x_m}{x_0-x_m}=\\frac{x-x_1}{x_0-x_1}$$\n",
    "$i=1$, $n=1$\n",
    "$$ L_{1,1}=\\prod_{\\begin{smallmatrix}m=0\\\\ m\\neq 1\\end{smallmatrix}}^1 \\frac{x-x_m}{x_i-x_m}=\\prod_{\\begin{smallmatrix}m=0\\end{smallmatrix}}^0 \\frac{x-x_m}{x_1-x_m}=\\frac{x-x_0}{x_1-x_0}$$"
   ]
  },
  {
   "cell_type": "markdown",
   "metadata": {
    "id": "EV1LqYoaPQkN"
   },
   "source": [
    "Until now we can only guarantee that $P_n(x_i)=f(x_i)$. To calculate the function from any $x$ in the interpolation interval we have the following Theorem (See [here](https://www3.nd.edu/~zxu2/acms40390F12/Lec-3.1.pdf))\n",
    "## Theorem\n",
    "Suppose $X_0,\\ldots,x_n$ are distinct numbers in the interval $[a,b]$ and $f\\in[a,b]$.Then for each $x$ in $[a,b]$, a number $\\xi(x)$ between $x_0,\\ldots,x_n$, and hence in $[a,b]$, exists with\n",
    "$$\n",
    "f(x)=P_n(x)+E_n(x)\\,,\\qquad \\text{such that } E_n(x_i)=0\\,,\n",
    "$$\n",
    "where the formula for the error bound is given by\n",
    "$$\n",
    "E_n(x) = {f^{n+1}(\\xi(x)) \\over (n+1)!} \\cdot \\prod_{i=0}^{n}\\left(x-x_{i}\\right)\\,,\n",
    "$$\n",
    "$f^{(n+1)}$ is the $n+1$ derivative of $f$\n",
    "\n",
    "For a demostration see [1d] → https://www.math.ust.hk/~mamu/courses/231/Slides/CH03_1B.pdf\n",
    "\n",
    "The specific calculation of the bounded error is to find the $\\xi$ and $x$ such that\n",
    "$$\n",
    "\\left|f(x)-P(x)\\right| \\leq \\max_{\\xi\\in[a,b]}\\left|\\frac{f^{(n+1)}(\\xi)}{(n+1) !}\\right| \\cdot \\max_{x\\in[a,b]}\\left|\\prod_{i=0}^{n}\\left(x-x_{i}\\right)\\right|\n",
    "$$"
   ]
  },
  {
   "cell_type": "markdown",
   "metadata": {
    "id": "me-qxh8sEZXv"
   },
   "source": [
    "### Exercise-interpolation\n",
    "Obtain the Lagrange Polynomials for a Interpolation polynomial of degree 2."
   ]
  },
  {
   "cell_type": "markdown",
   "metadata": {
    "id": "QrN1hmlnEZXv"
   },
   "source": [
    "### Implementation in Scipy"
   ]
  },
  {
   "cell_type": "code",
   "execution_count": null,
   "metadata": {
    "id": "IRQNq9xrEZXw"
   },
   "outputs": [],
   "source": [
    "from scipy import interpolate"
   ]
  },
  {
   "cell_type": "code",
   "execution_count": null,
   "metadata": {
    "id": "SP7TER3gEZXy"
   },
   "outputs": [],
   "source": [
    "#interpolate.lagrange?"
   ]
  },
  {
   "cell_type": "code",
   "execution_count": null,
   "metadata": {
    "colab": {
     "base_uri": "https://localhost:8080/",
     "height": 141
    },
    "id": "-p_85Kiz5Xi-",
    "outputId": "f6fe740e-5ba0-4407-d20f-50672c7926ef"
   },
   "outputs": [
    {
     "data": {
      "text/html": [
       "<div>\n",
       "<style scoped>\n",
       "    .dataframe tbody tr th:only-of-type {\n",
       "        vertical-align: middle;\n",
       "    }\n",
       "\n",
       "    .dataframe tbody tr th {\n",
       "        vertical-align: top;\n",
       "    }\n",
       "\n",
       "    .dataframe thead th {\n",
       "        text-align: right;\n",
       "    }\n",
       "</style>\n",
       "<table border=\"1\" class=\"dataframe\">\n",
       "  <thead>\n",
       "    <tr style=\"text-align: right;\">\n",
       "      <th></th>\n",
       "      <th>X</th>\n",
       "      <th>Y</th>\n",
       "    </tr>\n",
       "  </thead>\n",
       "  <tbody>\n",
       "    <tr>\n",
       "      <th>0</th>\n",
       "      <td>3.0</td>\n",
       "      <td>8.0</td>\n",
       "    </tr>\n",
       "    <tr>\n",
       "      <th>2</th>\n",
       "      <td>10.0</td>\n",
       "      <td>6.5</td>\n",
       "    </tr>\n",
       "    <tr>\n",
       "      <th>1</th>\n",
       "      <td>21.3</td>\n",
       "      <td>3.0</td>\n",
       "    </tr>\n",
       "  </tbody>\n",
       "</table>\n",
       "</div>"
      ],
      "text/plain": [
       "      X    Y\n",
       "0   3.0  8.0\n",
       "2  10.0  6.5\n",
       "1  21.3  3.0"
      ]
     },
     "execution_count": 43,
     "metadata": {
      "tags": []
     },
     "output_type": "execute_result"
    }
   ],
   "source": [
    "df"
   ]
  },
  {
   "cell_type": "code",
   "execution_count": null,
   "metadata": {
    "colab": {
     "base_uri": "https://localhost:8080/",
     "height": 51
    },
    "id": "YkHQHYglEZXz",
    "outputId": "a8272714-15a7-472b-9c11-25a259a3ac9d"
   },
   "outputs": [
    {
     "name": "stdout",
     "output_type": "stream",
     "text": [
      "           2\n",
      "-0.005216 x - 0.1465 x + 8.486\n"
     ]
    }
   ],
   "source": [
    "P=interpolate.lagrange(df.X,df.Y)\n",
    "print(P)"
   ]
  },
  {
   "cell_type": "code",
   "execution_count": null,
   "metadata": {
    "id": "7Tyn6kv0EZX0",
    "outputId": "03a84f18-fa87-43d9-d69c-b419bbfd9e3c"
   },
   "outputs": [
    {
     "data": {
      "text/plain": [
       "(0.0, 12.0)"
      ]
     },
     "execution_count": 45,
     "metadata": {
      "tags": []
     },
     "output_type": "execute_result"
    },
    {
     "data": {
      "image/png": "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\n",
      "text/plain": [
       "<Figure size 432x288 with 1 Axes>"
      ]
     },
     "metadata": {
      "needs_background": "light",
      "tags": []
     },
     "output_type": "display_data"
    }
   ],
   "source": [
    "plt.plot(df.X,df.Y,'ro')\n",
    "x=np.linspace(-8,30)\n",
    "plt.plot(x,P( x),'b-')\n",
    "plt.grid()\n",
    "plt.ylim(0,12)"
   ]
  },
  {
   "cell_type": "markdown",
   "metadata": {
    "id": "uOOr8_m6PQkl"
   },
   "source": [
    "### Example of error calculation\n",
    "See details [here](https://math.stackexchange.com/a/1151599/790274)\n",
    "\n",
    "Consider $f(x) = \\operatorname{e}^{2x} - x$ interpolation in the interval $[1,1.6]$ \n",
    "\n",
    "1. Construct the Lagrange Polynomial for the points $x_0=1$, $x_1=1.25$, $x_2=1.6$. \n",
    "1. Find the approximate value at $f(1.5)$ and the error bound for the approximation"
   ]
  },
  {
   "cell_type": "markdown",
   "metadata": {
    "id": "9bAKocaCPQkm"
   },
   "source": [
    "1. We start by defining the function\n",
    "\n",
    "Be sure that the function input will be an array"
   ]
  },
  {
   "cell_type": "code",
   "execution_count": null,
   "metadata": {
    "id": "TsnecBMmPQko",
    "outputId": "d7cad493-1fce-45b4-991c-406670b05726"
   },
   "outputs": [
    {
     "data": {
      "text/plain": [
       "array([2.71828183, 3.49034296, 4.95303242, 2.71828183, 3.49034296,\n",
       "       4.95303242])"
      ]
     },
     "execution_count": 46,
     "metadata": {
      "tags": []
     },
     "output_type": "execute_result"
    }
   ],
   "source": [
    "#Wrong result for a list\n",
    "x=[1,1.25,1.6]\n",
    "np.exp(2*x)"
   ]
  },
  {
   "cell_type": "code",
   "execution_count": null,
   "metadata": {
    "id": "JBLGQeGAPQkp",
    "outputId": "236e0b73-9edc-4fd3-d2ee-c63922004ad0"
   },
   "outputs": [
    {
     "data": {
      "text/plain": [
       "[1, 1.25, 1.6, 1, 1.25, 1.6]"
      ]
     },
     "execution_count": 49,
     "metadata": {
      "tags": []
     },
     "output_type": "execute_result"
    }
   ],
   "source": [
    "x+x"
   ]
  },
  {
   "cell_type": "code",
   "execution_count": null,
   "metadata": {
    "id": "VLBFtahGPQkq",
    "outputId": "b78a1179-1431-4fab-b2e8-c0121872db50"
   },
   "outputs": [
    {
     "data": {
      "text/plain": [
       "[1, 1.25, 1.6, 1, 1.25, 1.6]"
      ]
     },
     "execution_count": 48,
     "metadata": {
      "tags": []
     },
     "output_type": "execute_result"
    }
   ],
   "source": [
    "2*x"
   ]
  },
  {
   "cell_type": "code",
   "execution_count": null,
   "metadata": {
    "id": "JSfLbmsVPQkr",
    "outputId": "bd63773f-29b8-4f3d-b924-ec439049489f"
   },
   "outputs": [
    {
     "data": {
      "text/plain": [
       "array([ 7.3890561 , 12.18249396, 24.5325302 ])"
      ]
     },
     "execution_count": 50,
     "metadata": {
      "tags": []
     },
     "output_type": "execute_result"
    }
   ],
   "source": [
    "np.exp(2*np.array(x))"
   ]
  },
  {
   "cell_type": "code",
   "execution_count": null,
   "metadata": {
    "id": "Dh5kkAL9PQkv",
    "outputId": "c0bad7a7-3701-412c-d460-c1f764abb304"
   },
   "outputs": [
    {
     "ename": "TypeError",
     "evalue": "unsupported operand type(s) for -: 'list' and 'list'",
     "output_type": "error",
     "traceback": [
      "\u001b[0;31m---------------------------------------------------------------------------\u001b[0m",
      "\u001b[0;31mTypeError\u001b[0m                                 Traceback (most recent call last)",
      "\u001b[0;32m<ipython-input-70-641c9f212de0>\u001b[0m in \u001b[0;36m<module>\u001b[0;34m()\u001b[0m\n\u001b[1;32m      1\u001b[0m \u001b[0;31m#List operations are not well defined in general\u001b[0m\u001b[0;34m\u001b[0m\u001b[0;34m\u001b[0m\u001b[0;34m\u001b[0m\u001b[0m\n\u001b[0;32m----> 2\u001b[0;31m \u001b[0;34m[\u001b[0m\u001b[0;36m1\u001b[0m\u001b[0;34m,\u001b[0m\u001b[0;36m2\u001b[0m\u001b[0;34m,\u001b[0m\u001b[0;36m4\u001b[0m\u001b[0;34m]\u001b[0m\u001b[0;34m-\u001b[0m\u001b[0;34m[\u001b[0m\u001b[0;36m1\u001b[0m\u001b[0;34m,\u001b[0m\u001b[0;36m5\u001b[0m\u001b[0;34m,\u001b[0m\u001b[0;36m6\u001b[0m\u001b[0;34m]\u001b[0m\u001b[0;34m\u001b[0m\u001b[0;34m\u001b[0m\u001b[0m\n\u001b[0m",
      "\u001b[0;31mTypeError\u001b[0m: unsupported operand type(s) for -: 'list' and 'list'"
     ]
    }
   ],
   "source": [
    "#List operations are not well defined in general\n",
    "[1,2,4]-[1,5,6]"
   ]
  },
  {
   "cell_type": "code",
   "execution_count": null,
   "metadata": {
    "id": "6A9Lvov6PQkw"
   },
   "outputs": [],
   "source": [
    "def f(x):\n",
    "    '''\n",
    "    WARNING: all the parts of the function must be \n",
    "    numpy arrays in order to get the element by element sum.\n",
    "    '''\n",
    "    x=np.asarray(x) # Force x → array\n",
    "    return np.exp(2*x)-x"
   ]
  },
  {
   "cell_type": "markdown",
   "metadata": {
    "id": "trAGd41jPQkx"
   },
   "source": [
    "The interpolation polynomial is"
   ]
  },
  {
   "cell_type": "code",
   "execution_count": null,
   "metadata": {
    "id": "pA0wgoTXPQkz",
    "outputId": "2d268f3b-72d9-46d1-c891-3f23d86f3d6b"
   },
   "outputs": [
    {
     "name": "stdout",
     "output_type": "stream",
     "text": [
      "       2\n",
      "26.85 x - 42.25 x + 21.78\n"
     ]
    }
   ],
   "source": [
    "x=[1,1.25,1.6]\n",
    "P_2=interpolate.lagrange(x,f(x))\n",
    "print(P_2)"
   ]
  },
  {
   "cell_type": "markdown",
   "metadata": {
    "id": "tBpPkhajPQk1"
   },
   "source": [
    "Test interpolation with one of the three points"
   ]
  },
  {
   "cell_type": "code",
   "execution_count": null,
   "metadata": {
    "id": "J1POJ3vhPQk1",
    "outputId": "1d5f7807-5e2f-4940-efb9-72804381b523"
   },
   "outputs": [
    {
     "data": {
      "text/plain": [
       "(10.932493960703491, 10.932493960703473)"
      ]
     },
     "execution_count": 35,
     "metadata": {
      "tags": []
     },
     "output_type": "execute_result"
    }
   ],
   "source": [
    "P_2(x[1]),f(x[1])"
   ]
  },
  {
   "cell_type": "markdown",
   "metadata": {
    "id": "RcFmuo3HPQk3"
   },
   "source": [
    "For the bounded error we start with the left part\n",
    "$$\n",
    "\\max_{\\xi\\in[1,1.6]}\\left|\\frac{f'''(\\xi)}{(3)!}\\right| \n",
    "$$\n",
    "where\n",
    "$$f'(x)=2\\operatorname{e}^{2x}-1$$\n",
    "$$f''(x)=4\\operatorname{e}^{2x}$$\n",
    "$$f'''(x)=8\\operatorname{e}^{2x}$$\n",
    "The maximum is obtained for the last point $x_2$"
   ]
  },
  {
   "cell_type": "code",
   "execution_count": null,
   "metadata": {
    "id": "RBvcrtQtPQk4",
    "outputId": "a7aa5315-0605-49f9-b7cf-a5c321ae0559"
   },
   "outputs": [
    {
     "data": {
      "text/plain": [
       "196.26024157687482"
      ]
     },
     "execution_count": 53,
     "metadata": {
      "tags": []
     },
     "output_type": "execute_result"
    }
   ],
   "source": [
    "fppp=8*np.exp(2*x[2])\n",
    "fppp"
   ]
  },
  {
   "cell_type": "markdown",
   "metadata": {
    "id": "a5okSA0NPQk5"
   },
   "source": [
    "For the right part \n",
    "$$\n",
    "\\max_{x\\in[a,b]}\\left|\\prod_{i=0}^{2}\\left(x-x_{i}\\right)\\right|=\n",
    "$$\n",
    "we need just to build the numpy polynomial with roots at $(x_0,x_1,x_2)$\n",
    "$$\n",
    "p_e(x)=(x-x_0)(x-x_1)(x-x_2)\\,,\n",
    "$$"
   ]
  },
  {
   "cell_type": "code",
   "execution_count": null,
   "metadata": {
    "id": "w_325DXLPQk7"
   },
   "outputs": [],
   "source": [
    "p_e=np.poly1d(x,r=True)"
   ]
  },
  {
   "cell_type": "code",
   "execution_count": null,
   "metadata": {
    "id": "7rWw8MHmPQk8",
    "outputId": "5f535b15-0862-4bab-d692-91beb62e2c18"
   },
   "outputs": [
    {
     "data": {
      "image/png": "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\n",
      "text/plain": [
       "<Figure size 432x288 with 1 Axes>"
      ]
     },
     "metadata": {
      "needs_background": "light",
      "tags": []
     },
     "output_type": "display_data"
    }
   ],
   "source": [
    "X=np.linspace( x[0],x[-1]  )\n",
    "plt.plot(X,p_e(X))\n",
    "plt.plot(X,p_e.deriv()(X))\n",
    "plt.ylim(-0.02,0.01)\n",
    "plt.grid()"
   ]
  },
  {
   "cell_type": "markdown",
   "metadata": {
    "id": "jmabjYC9PQk9"
   },
   "source": [
    "And find the maximun of the absolute value of the critical points"
   ]
  },
  {
   "cell_type": "code",
   "execution_count": null,
   "metadata": {
    "id": "xBdp66viPQk9",
    "outputId": "b3d003ba-c966-47ca-ecb5-005f5e182bf4"
   },
   "outputs": [
    {
     "data": {
      "text/plain": [
       "array([1.45733844, 1.10932822])"
      ]
     },
     "execution_count": 79,
     "metadata": {
      "tags": []
     },
     "output_type": "execute_result"
    }
   ],
   "source": [
    "p_e.deriv().roots"
   ]
  },
  {
   "cell_type": "markdown",
   "metadata": {
    "id": "xQTMQvJYPQk-"
   },
   "source": [
    "The point in the interval $[1,1.6]$ for which $|p_e(x)|$ is maximum corresponds to the root"
   ]
  },
  {
   "cell_type": "code",
   "execution_count": null,
   "metadata": {
    "id": "gOoyEzIOPQk-",
    "outputId": "29a6c2ef-c025-4480-c0f1-c19868130d2c"
   },
   "outputs": [
    {
     "data": {
      "text/plain": [
       "1.4573384418151778"
      ]
     },
     "execution_count": 81,
     "metadata": {
      "tags": []
     },
     "output_type": "execute_result"
    }
   ],
   "source": [
    "xmax=p_e.deriv().roots[0]\n",
    "xmax"
   ]
  },
  {
   "cell_type": "code",
   "execution_count": null,
   "metadata": {
    "id": "3bbP3uCtPQk_",
    "outputId": "f3b62805-34f2-470a-a06b-c5435c08512b"
   },
   "outputs": [
    {
     "data": {
      "text/plain": [
       "0.013527716754363928"
      ]
     },
     "execution_count": 86,
     "metadata": {
      "tags": []
     },
     "output_type": "execute_result"
    }
   ],
   "source": [
    "np.abs(p_e(xmax))"
   ]
  },
  {
   "cell_type": "markdown",
   "metadata": {
    "id": "Yv5rdlW0PQlA"
   },
   "source": [
    "Or"
   ]
  },
  {
   "cell_type": "code",
   "execution_count": null,
   "metadata": {
    "id": "yci0yPSjPQlA"
   },
   "outputs": [],
   "source": [
    "p_emax=np.abs( p_e(p_e.deriv().roots) ).max()"
   ]
  },
  {
   "cell_type": "code",
   "execution_count": null,
   "metadata": {
    "id": "2bD4u-UVPQlA",
    "outputId": "e861e4a9-59cd-4283-9dee-75f64e18807c"
   },
   "outputs": [
    {
     "data": {
      "text/plain": [
       "0.013527716754363928"
      ]
     },
     "execution_count": 89,
     "metadata": {
      "tags": []
     },
     "output_type": "execute_result"
    }
   ],
   "source": [
    "p_emax"
   ]
  },
  {
   "cell_type": "markdown",
   "metadata": {
    "id": "rTz4Az4aPQlB"
   },
   "source": [
    "In this way, the maximum error for $p(x)$ is expected for $x_{\\text{max}}=1.45733844$"
   ]
  },
  {
   "cell_type": "markdown",
   "metadata": {
    "id": "3OKs35W_PQlD"
   },
   "source": [
    "The bounded error is then\n",
    "$$\n",
    "E_2(x)=\\max_{\\xi\\in[1,1.6]}\\left|\\frac{f'''(\\xi)}{(3)!}\\right|\\cdot\\max_{x\\in[a,b]}\\left|\\prod_{i=0}^{2}\\left(x-x_{i}\\right)\\right|\n",
    "$$"
   ]
  },
  {
   "cell_type": "code",
   "execution_count": null,
   "metadata": {
    "id": "weNUxqWWPQlF",
    "outputId": "c7cfdbb9-fd24-4d3d-8e17-a91b866507db"
   },
   "outputs": [
    {
     "data": {
      "text/plain": [
       "0.4424921596991669"
      ]
     },
     "execution_count": 90,
     "metadata": {
      "tags": []
     },
     "output_type": "execute_result"
    }
   ],
   "source": [
    "E_2=fppp/(2*3)*p_emax\n",
    "E_2"
   ]
  },
  {
   "cell_type": "code",
   "execution_count": null,
   "metadata": {
    "id": "_GdsxLZaPQlH",
    "outputId": "3835da1a-51b9-4f65-db8e-cd7ec9392152"
   },
   "outputs": [
    {
     "data": {
      "text/plain": [
       "18.585536923187668"
      ]
     },
     "execution_count": 91,
     "metadata": {
      "tags": []
     },
     "output_type": "execute_result"
    }
   ],
   "source": [
    "X=1.5\n",
    "f(X)"
   ]
  },
  {
   "cell_type": "code",
   "execution_count": null,
   "metadata": {
    "id": "x35J82y3PQlJ",
    "outputId": "f287689a-1f6e-4270-fd81-606331099004"
   },
   "outputs": [
    {
     "data": {
      "text/plain": [
       "18.832612316478652"
      ]
     },
     "execution_count": 92,
     "metadata": {
      "tags": []
     },
     "output_type": "execute_result"
    }
   ],
   "source": [
    "P_2(X)"
   ]
  },
  {
   "cell_type": "code",
   "execution_count": null,
   "metadata": {
    "id": "bAffxdWqPQlJ",
    "outputId": "403b0f03-fc99-4218-f119-e7a4a6a0889c"
   },
   "outputs": [
    {
     "data": {
      "text/plain": [
       "0.24707539329098438"
      ]
     },
     "execution_count": 93,
     "metadata": {
      "tags": []
     },
     "output_type": "execute_result"
    }
   ],
   "source": [
    "P_2(X)-f(X)"
   ]
  },
  {
   "cell_type": "markdown",
   "metadata": {
    "id": "tnSv4m7ZPQlN"
   },
   "source": [
    "The real bounded error is"
   ]
  },
  {
   "cell_type": "code",
   "execution_count": null,
   "metadata": {
    "id": "LQY2DvhkPQlO",
    "outputId": "b2b6a512-e907-4777-a2a2-c30c8b670366"
   },
   "outputs": [
    {
     "data": {
      "text/plain": [
       "0.26182823963596036"
      ]
     },
     "execution_count": 116,
     "metadata": {
      "tags": []
     },
     "output_type": "execute_result"
    }
   ],
   "source": [
    "xlin=np.linspace(x[0],x[-1],100)\n",
    "np.abs(P_2(xlin)-f(xlin)).max()"
   ]
  },
  {
   "cell_type": "code",
   "execution_count": null,
   "metadata": {
    "id": "Dd8p4hLvPQlP",
    "outputId": "40caa35e-fd48-4246-fec5-75b90759a79d"
   },
   "outputs": [
    {
     "data": {
      "image/png": "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\n",
      "text/plain": [
       "<Figure size 432x288 with 1 Axes>"
      ]
     },
     "metadata": {
      "needs_background": "light",
      "tags": []
     },
     "output_type": "display_data"
    }
   ],
   "source": [
    "plt.plot(X,P_2(X))\n",
    "plt.plot(X,f(X))\n",
    "plt.grid()"
   ]
  },
  {
   "cell_type": "code",
   "execution_count": null,
   "metadata": {
    "id": "LNzfyDahPQlQ",
    "outputId": "800ec706-ecae-4cfa-98af-ec330ff94b35"
   },
   "outputs": [
    {
     "data": {
      "image/png": "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\n",
      "text/plain": [
       "<Figure size 432x288 with 1 Axes>"
      ]
     },
     "metadata": {
      "needs_background": "light",
      "tags": []
     },
     "output_type": "display_data"
    }
   ],
   "source": [
    "plt.plot(X,np.abs(P_2(X)-f(X) ))\n",
    "plt.grid()"
   ]
  },
  {
   "cell_type": "markdown",
   "metadata": {
    "id": "WSrNnaKcEZX2"
   },
   "source": [
    "### Implementation in `sympy`\n",
    "For details see [here](./LagrangePoly.ipynb)"
   ]
  },
  {
   "cell_type": "code",
   "execution_count": null,
   "metadata": {
    "id": "aUSZ0Pt9PQlT",
    "outputId": "997bca69-9040-4b54-db8a-0dd8c3ca5191"
   },
   "outputs": [
    {
     "name": "stdout",
     "output_type": "stream",
     "text": [
      "Populating the interactive namespace from numpy and matplotlib\n"
     ]
    }
   ],
   "source": [
    "%pylab inline"
   ]
  },
  {
   "cell_type": "code",
   "execution_count": null,
   "metadata": {
    "id": "cRYPX-v6PQlV"
   },
   "outputs": [],
   "source": [
    "df=pd.read_csv('https://github.com/restrepo/ComputationalMethods/raw/master/data/interpolation.csv')"
   ]
  },
  {
   "cell_type": "code",
   "execution_count": null,
   "metadata": {
    "id": "0VOIS4fJEZX3",
    "outputId": "91f56066-10ac-4c21-84cf-c0cd76bab274"
   },
   "outputs": [
    {
     "data": {
      "text/latex": [
       "$\\displaystyle - 0.00521578136549848 x^{2} - 0.146480556534234 x + 8.48638370189219$"
      ],
      "text/plain": [
       "-0.00521578136549848*x**2 - 0.146480556534234*x + 8.48638370189219"
      ]
     },
     "execution_count": 99,
     "metadata": {
      "tags": []
     },
     "output_type": "execute_result"
    }
   ],
   "source": [
    "import LagrangePolynomial as LP\n",
    "LP.lagrangePolynomial(df.X,df.Y)"
   ]
  },
  {
   "cell_type": "markdown",
   "metadata": {
    "id": "2_6up-MlEZX6"
   },
   "source": [
    "$$P_n(x) =  \\sum_{i=0}^n L_{n,i}(x) \\, y_i$$"
   ]
  },
  {
   "cell_type": "code",
   "execution_count": null,
   "metadata": {
    "id": "mh1rbre7EZX6",
    "outputId": "c919803b-049e-49be-c8d8-124ed9695410"
   },
   "outputs": [
    {
     "data": {
      "text/latex": [
       "$\\displaystyle 0.0559573894841558 x^{2} - 1.44173177757974 x + 11.8215788273818$"
      ],
      "text/plain": [
       "0.0559573894841558*x**2 - 1.44173177757974*x + 11.8215788273818"
      ]
     },
     "execution_count": 100,
     "metadata": {
      "tags": []
     },
     "output_type": "execute_result"
    }
   ],
   "source": [
    "LP.polyL( df.X,0)*df.Y[0]+LP.polyL( df.X,1)*df.Y[1]+LP.polyL( df.X,2)*df.Y[2]"
   ]
  },
  {
   "cell_type": "code",
   "execution_count": null,
   "metadata": {
    "id": "zKtIr3S6PQlX",
    "outputId": "b3f7152b-6c1a-4e44-ee48-192ab158ee8c"
   },
   "outputs": [
    {
     "data": {
      "text/html": [
       "<div>\n",
       "<style scoped>\n",
       "    .dataframe tbody tr th:only-of-type {\n",
       "        vertical-align: middle;\n",
       "    }\n",
       "\n",
       "    .dataframe tbody tr th {\n",
       "        vertical-align: top;\n",
       "    }\n",
       "\n",
       "    .dataframe thead th {\n",
       "        text-align: right;\n",
       "    }\n",
       "</style>\n",
       "<table border=\"1\" class=\"dataframe\">\n",
       "  <thead>\n",
       "    <tr style=\"text-align: right;\">\n",
       "      <th></th>\n",
       "      <th>X</th>\n",
       "      <th>Y</th>\n",
       "    </tr>\n",
       "  </thead>\n",
       "  <tbody>\n",
       "    <tr>\n",
       "      <th>0</th>\n",
       "      <td>3.0</td>\n",
       "      <td>8.0</td>\n",
       "    </tr>\n",
       "    <tr>\n",
       "      <th>2</th>\n",
       "      <td>10.0</td>\n",
       "      <td>6.5</td>\n",
       "    </tr>\n",
       "    <tr>\n",
       "      <th>1</th>\n",
       "      <td>21.3</td>\n",
       "      <td>3.0</td>\n",
       "    </tr>\n",
       "  </tbody>\n",
       "</table>\n",
       "</div>"
      ],
      "text/plain": [
       "      X    Y\n",
       "0   3.0  8.0\n",
       "2  10.0  6.5\n",
       "1  21.3  3.0"
      ]
     },
     "execution_count": 102,
     "metadata": {
      "tags": []
     },
     "output_type": "execute_result"
    }
   ],
   "source": [
    "df"
   ]
  },
  {
   "cell_type": "code",
   "execution_count": null,
   "metadata": {
    "id": "adBWzXh8PQlY",
    "outputId": "d8663a88-91ff-4cf9-edd9-879a74fdfcd4"
   },
   "outputs": [
    {
     "data": {
      "text/plain": [
       "3.0"
      ]
     },
     "execution_count": 103,
     "metadata": {
      "tags": []
     },
     "output_type": "execute_result"
    }
   ],
   "source": [
    "df.X[0]"
   ]
  },
  {
   "cell_type": "markdown",
   "metadata": {
    "id": "FEj64uDmEZX8"
   },
   "source": [
    "## Steps LP"
   ]
  },
  {
   "cell_type": "markdown",
   "metadata": {
    "id": "t6ks3grEEZX8"
   },
   "source": [
    "Once defined the formal procedure for constructing a Lagrange Polynomial, we proceed to describe the explicit algorithm:\n",
    "\n",
    "1. Give the working dataset $(x_i, y_i)$ and stablish how many points you have.\n",
    "2. Define the functions $L_{n,i}(x)$ in a general way.\n",
    "3. Add each of those terms as shown in last expression.\n",
    "4. Evaluate your result wherever you want."
   ]
  },
  {
   "cell_type": "markdown",
   "metadata": {
    "id": "FbuCBnS4EZX9"
   },
   "source": [
    "**Activity**\n",
    "\n",
    "Along with the professor, write an implementation of the previous algorithm during classtime."
   ]
  },
  {
   "cell_type": "markdown",
   "metadata": {
    "id": "-1r8xBk8EZX9"
   },
   "source": [
    "## Activity LP"
   ]
  },
  {
   "cell_type": "markdown",
   "metadata": {
    "id": "ZkuEZPFTEZX-"
   },
   "source": [
    "<div style=\"float: right;\" markdown=\"1\">\n",
    "    <img src=\"http://universe-review.ca/I05-28-NGC7331.jpg\">\n",
    "</div>\n",
    "\n",
    "One of the very first evidences of the existence of dark matter was the flat rotation curves of spiral galaxies. If we assume the total budget of mass of a galaxy is entirely made of luminous matter, the orbital circular velocity of stars around the galaxy plane should decay according to a keplerian potential. However this is not the case and the circular velocity barely decreases at larger radius, thus indicating the presence of a new non-visible matter component (dark matter). When it is necessary to determine how massive is the dark matter halo embedding a galaxy, an integration of the circular velocity is required. Nevertheless, due to the finite array of a CCD camera, only a discrete set of velocities can be measured and interpolation techniques are required.\n",
    "\n",
    "\n",
    "In this activity we will take a discrete dataset of the circular velocity as a function of the radius for the galaxy [NGC 7331](http://es.wikipedia.org/wiki/NGC_7331) and perform both, a linear and a Lagrange interpolation. You can download the dataset from this [link](https://raw.githubusercontent.com/sbustamante/ComputationalMethods/master/data/NGC7331.dat).\n"
   ]
  },
  {
   "cell_type": "code",
   "execution_count": 140,
   "metadata": {},
   "outputs": [],
   "source": [
    "import pandas as pd\n",
    "import numpy as np\n",
    "import matplotlib.pyplot as plt\n",
    "import scipy.interpolate as sp\n",
    "\n",
    "df=pd.read_csv('https://raw.githubusercontent.com/restrepo/ComputationalMethods/master/data/NGC7331.csv')\n",
    "\n",
    "R=np.array(df.r)\n",
    "V=np.array(df.v)\n",
    "\n",
    "x=np.arange(R[0],R[len(R)-1],0.005)\n",
    "\n",
    "f1=sp.interp1d(R,V,kind=\"linear\")\n",
    "\n",
    "#f2=sp.lagrange(R,V)\n",
    "\n",
    "#y=np.array([])\n",
    "#for i in range(0,len(x),1):\n",
    "    #y=np.append(y,f2(x[i]))"
   ]
  },
  {
   "cell_type": "code",
   "execution_count": 143,
   "metadata": {},
   "outputs": [
    {
     "data": {
      "text/plain": [
       "[<matplotlib.lines.Line2D at 0x131d461f970>]"
      ]
     },
     "execution_count": 143,
     "metadata": {},
     "output_type": "execute_result"
    },
    {
     "data": {
      "image/png": "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\n",
      "text/plain": [
       "<Figure size 1440x360 with 2 Axes>"
      ]
     },
     "metadata": {
      "needs_background": "light"
     },
     "output_type": "display_data"
    }
   ],
   "source": [
    "fig=plt.figure(figsize=(20,5))\n",
    "ax1=fig.add_subplot(131)\n",
    "ax1.set(title=\"Datos suministrados\",ylabel=\"v\",xlabel=\"r\")\n",
    "\n",
    "ax2=fig.add_subplot(132)\n",
    "ax2.set(title=\"Interpolacion lineal\",ylabel=\"v\",xlabel=\"r\")\n",
    "\n",
    "#ax3=fig.add_subplot(133)\n",
    "ax1.grid()\n",
    "ax2.grid()\n",
    "#ax3.grid()\n",
    "\n",
    "ax1.plot(R,V,"bo")\n",
    "ax2.plot(x,f1(x),"ro")\n",
    "#ax3.plot(x,y) No consegui hacer funcionar la interpolacion de lagrange"
   ]
  },
  {
   "cell_type": "markdown",
   "metadata": {
    "id": "BR6smicNjz3k"
   },
   "source": [
    "###  Logarithmic interpolation\n",
    "See: https://stackoverflow.com/a/29359275/2268280"
   ]
  },
  {
   "cell_type": "markdown",
   "metadata": {
    "id": "VSYozPLFEZYl"
   },
   "source": [
    "# Appendix\n",
    "Thecnical details of interpolation functions: [interpolation_details.ipynb](./interpolation_details.ipynb)"
   ]
  }
 ],
 "metadata": {
  "colab": {
   "collapsed_sections": [
    "HAld-e8YEZXu",
    "me-qxh8sEZXv",
    "QrN1hmlnEZXv",
    "WSrNnaKcEZX2",
    "FEj64uDmEZX8",
    "XFqacQP6EZX8",
    "-1r8xBk8EZX9",
    "IAYkvn-_EZYD"
   ],
   "name": "interpolation.ipynb",
   "provenance": []
  },
  "kernelspec": {
   "display_name": "Python 3",
   "language": "python",
   "name": "python3"
  },
  "language_info": {
   "codemirror_mode": {
    "name": "ipython",
    "version": 3
   },
   "file_extension": ".py",
   "mimetype": "text/x-python",
   "name": "python",
   "nbconvert_exporter": "python",
   "pygments_lexer": "ipython3",
   "version": "3.8.5"
  }
 },
 "nbformat": 4,
 "nbformat_minor": 4
}
