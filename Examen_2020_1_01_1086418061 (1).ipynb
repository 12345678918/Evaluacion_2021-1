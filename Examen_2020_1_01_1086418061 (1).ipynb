{
 "cells": [
  {
   "cell_type": "markdown",
   "metadata": {
    "id": "bWVchymOoRBb"
   },
   "source": [
    "# Primer Examen 15%"
   ]
  },
  {
   "cell_type": "markdown",
   "metadata": {
    "id": "vge3gzjNXPJh"
   },
   "source": [
    "A) Cargando el archivo JSON: \n",
    "* https://github.com/restrepo/anomaly/raw/main/solutions.json.gz\n",
    "\n",
    "en Pandas\n",
    "\n",
    "1) Adicione una columna nueva `'smax'` con el valor máximo en valor absoluto de la lista de enteros de la correspondiente entrada en la columna '`solution`'\n",
    "2) Adicione dos columnas nuevas: `'sum_s'` (`sum_s³`) con el resultado de la suma (al cubo) de todos los números de la lista de enteros de la correspondiente entrada en la columna '`solution`'\n",
    "3) Usando como semilla el número de su cédula, genere un número entero de forma aleatoria entre 0 y 390073. Seleccione el la fila correspondiente a ese número entero y construya un polinomio con esos coeficientes. Encuentre las raices reales de ese polinomio y realice el correspondiente gráfico incluyendo: el polinomio generado, sus raices (como puntos en gráfico) y la derivada del polinomio. Optimize el rango de valores en el eje $x$ y en el eje $y$ del gráfico, de manera que el polinomio y sus raices se visualicen de la mejor forma posible. (Sugerencia → use: `plt.ylim(ymin,ymax)` ). Se tendrá en cuenta la estética del gráfico presentado incluyendo la rotulación adecuada del mismo\n"
   ]
  },
  {
   "cell_type": "code",
   "execution_count": 87,
   "metadata": {
    "scrolled": false
   },
   "outputs": [
    {
     "data": {
      "text/html": [
       "<div>\n",
       "<style scoped>\n",
       "    .dataframe tbody tr th:only-of-type {\n",
       "        vertical-align: middle;\n",
       "    }\n",
       "\n",
       "    .dataframe tbody tr th {\n",
       "        vertical-align: top;\n",
       "    }\n",
       "\n",
       "    .dataframe thead th {\n",
       "        text-align: right;\n",
       "    }\n",
       "</style>\n",
       "<table border=\"1\" class=\"dataframe\">\n",
       "  <thead>\n",
       "    <tr style=\"text-align: right;\">\n",
       "      <th></th>\n",
       "      <th>l</th>\n",
       "      <th>k</th>\n",
       "      <th>solution</th>\n",
       "      <th>gcd</th>\n",
       "      <th>n</th>\n",
       "    </tr>\n",
       "  </thead>\n",
       "  <tbody>\n",
       "    <tr>\n",
       "      <th>0</th>\n",
       "      <td>[-1, 0, -1, 0, -1]</td>\n",
       "      <td>[-1, 0, -1, 1, -1]</td>\n",
       "      <td>[1, 4, 4, 4, -5, -5, -5, -5, -5, 6, 6]</td>\n",
       "      <td>1</td>\n",
       "      <td>11</td>\n",
       "    </tr>\n",
       "    <tr>\n",
       "      <th>1</th>\n",
       "      <td>[-1, 1]</td>\n",
       "      <td>[-1, 0, -1]</td>\n",
       "      <td>[1, 2, 2, -3, -3, -3, 4]</td>\n",
       "      <td>1</td>\n",
       "      <td>7</td>\n",
       "    </tr>\n",
       "    <tr>\n",
       "      <th>2</th>\n",
       "      <td>[1, -1, 0, 1, -1]</td>\n",
       "      <td>[-2, 0, -1, -2, 0]</td>\n",
       "      <td>[1, 1, -2, -2, -3, -3, 5, 5, 5, 5, -6, -6]</td>\n",
       "      <td>2</td>\n",
       "      <td>12</td>\n",
       "    </tr>\n",
       "    <tr>\n",
       "      <th>3</th>\n",
       "      <td>[-1, 1, -1, 1, -1]</td>\n",
       "      <td>[-2, -1, 0, -1, 0]</td>\n",
       "      <td>[1, 1, 1, 1, 2, 2, 2, -3, -4, -4, -6, 7]</td>\n",
       "      <td>1</td>\n",
       "      <td>12</td>\n",
       "    </tr>\n",
       "    <tr>\n",
       "      <th>4</th>\n",
       "      <td>[1, 0, 1, 0, -1]</td>\n",
       "      <td>[-2, -1, -2, -1, 0]</td>\n",
       "      <td>[1, 1, 1, -2, -2, -5, -5, 6, 6, 7, -8]</td>\n",
       "      <td>1</td>\n",
       "      <td>11</td>\n",
       "    </tr>\n",
       "    <tr>\n",
       "      <th>...</th>\n",
       "      <td>...</td>\n",
       "      <td>...</td>\n",
       "      <td>...</td>\n",
       "      <td>...</td>\n",
       "      <td>...</td>\n",
       "    </tr>\n",
       "    <tr>\n",
       "      <th>390069</th>\n",
       "      <td>[-3, -15, -6]</td>\n",
       "      <td>[-3, 8, 9]</td>\n",
       "      <td>[8, -9, -9, 11, 25, -29, -29, 32]</td>\n",
       "      <td>36</td>\n",
       "      <td>8</td>\n",
       "    </tr>\n",
       "    <tr>\n",
       "      <th>390070</th>\n",
       "      <td>[-10, -5, -15]</td>\n",
       "      <td>[-10, -12, 12]</td>\n",
       "      <td>[5, 5, 5, -17, -27, -27, 28, 28]</td>\n",
       "      <td>100</td>\n",
       "      <td>8</td>\n",
       "    </tr>\n",
       "    <tr>\n",
       "      <th>390071</th>\n",
       "      <td>[15, -1, 15]</td>\n",
       "      <td>[-14, -13, -14]</td>\n",
       "      <td>[14, -15, -16, 17, -30, 31, 31, -32]</td>\n",
       "      <td>1</td>\n",
       "      <td>8</td>\n",
       "    </tr>\n",
       "    <tr>\n",
       "      <th>390072</th>\n",
       "      <td>[-15, -9, -1]</td>\n",
       "      <td>[-13, -14, -12]</td>\n",
       "      <td>[11, -13, -15, 19, 23, -26, -30, 31]</td>\n",
       "      <td>18</td>\n",
       "      <td>8</td>\n",
       "    </tr>\n",
       "    <tr>\n",
       "      <th>390073</th>\n",
       "      <td>[10, 15, 5]</td>\n",
       "      <td>[-11, -14, 7]</td>\n",
       "      <td>[16, -17, -17, 19, 20, -22, -22, 23]</td>\n",
       "      <td>2000</td>\n",
       "      <td>8</td>\n",
       "    </tr>\n",
       "  </tbody>\n",
       "</table>\n",
       "<p>390074 rows × 5 columns</p>\n",
       "</div>"
      ],
      "text/plain": [
       "                         l                    k  \\\n",
       "0       [-1, 0, -1, 0, -1]   [-1, 0, -1, 1, -1]   \n",
       "1                  [-1, 1]          [-1, 0, -1]   \n",
       "2        [1, -1, 0, 1, -1]   [-2, 0, -1, -2, 0]   \n",
       "3       [-1, 1, -1, 1, -1]   [-2, -1, 0, -1, 0]   \n",
       "4         [1, 0, 1, 0, -1]  [-2, -1, -2, -1, 0]   \n",
       "...                    ...                  ...   \n",
       "390069       [-3, -15, -6]           [-3, 8, 9]   \n",
       "390070      [-10, -5, -15]       [-10, -12, 12]   \n",
       "390071        [15, -1, 15]      [-14, -13, -14]   \n",
       "390072       [-15, -9, -1]      [-13, -14, -12]   \n",
       "390073         [10, 15, 5]        [-11, -14, 7]   \n",
       "\n",
       "                                          solution   gcd   n  \n",
       "0           [1, 4, 4, 4, -5, -5, -5, -5, -5, 6, 6]     1  11  \n",
       "1                         [1, 2, 2, -3, -3, -3, 4]     1   7  \n",
       "2       [1, 1, -2, -2, -3, -3, 5, 5, 5, 5, -6, -6]     2  12  \n",
       "3         [1, 1, 1, 1, 2, 2, 2, -3, -4, -4, -6, 7]     1  12  \n",
       "4           [1, 1, 1, -2, -2, -5, -5, 6, 6, 7, -8]     1  11  \n",
       "...                                            ...   ...  ..  \n",
       "390069           [8, -9, -9, 11, 25, -29, -29, 32]    36   8  \n",
       "390070            [5, 5, 5, -17, -27, -27, 28, 28]   100   8  \n",
       "390071        [14, -15, -16, 17, -30, 31, 31, -32]     1   8  \n",
       "390072        [11, -13, -15, 19, 23, -26, -30, 31]    18   8  \n",
       "390073        [16, -17, -17, 19, 20, -22, -22, 23]  2000   8  \n",
       "\n",
       "[390074 rows x 5 columns]"
      ]
     },
     "execution_count": 87,
     "metadata": {},
     "output_type": "execute_result"
    }
   ],
   "source": [
    "import pandas as pd\n",
    "import numpy as np\n",
    "import matplotlib.pyplot as plt\n",
    "df=pd.read_json('https://github.com/restrepo/anomaly/raw/main/solutions.json.gz')\n",
    "df\n"
   ]
  },
  {
   "cell_type": "code",
   "execution_count": 76,
   "metadata": {},
   "outputs": [],
   "source": [
    "df=pd.DataFrame(df,columns=['i','k','solution','gcd','n','smax'])"
   ]
  },
  {
   "cell_type": "code",
   "execution_count": 79,
   "metadata": {},
   "outputs": [
    {
     "ename": "SyntaxError",
     "evalue": "invalid syntax (<ipython-input-79-76ce15f88940>, line 1)",
     "output_type": "error",
     "traceback": [
      "\u001b[1;36m  File \u001b[1;32m\"<ipython-input-79-76ce15f88940>\"\u001b[1;36m, line \u001b[1;32m1\u001b[0m\n\u001b[1;33m    df['solution'] = df[abs(n) for n in solution]\u001b[0m\n\u001b[1;37m                               ^\u001b[0m\n\u001b[1;31mSyntaxError\u001b[0m\u001b[1;31m:\u001b[0m invalid syntax\n"
     ]
    }
   ],
   "source": [
    "#df['solution'] = df[abs(n) for n in solution]"
   ]
  },
  {
   "cell_type": "code",
   "execution_count": 70,
   "metadata": {
    "scrolled": true
   },
   "outputs": [
    {
     "data": {
      "text/html": [
       "<div>\n",
       "<style scoped>\n",
       "    .dataframe tbody tr th:only-of-type {\n",
       "        vertical-align: middle;\n",
       "    }\n",
       "\n",
       "    .dataframe tbody tr th {\n",
       "        vertical-align: top;\n",
       "    }\n",
       "\n",
       "    .dataframe thead th {\n",
       "        text-align: right;\n",
       "    }\n",
       "</style>\n",
       "<table border=\"1\" class=\"dataframe\">\n",
       "  <thead>\n",
       "    <tr style=\"text-align: right;\">\n",
       "      <th></th>\n",
       "      <th>i</th>\n",
       "      <th>k</th>\n",
       "      <th>solution</th>\n",
       "      <th>gcd</th>\n",
       "      <th>n</th>\n",
       "      <th>smax</th>\n",
       "    </tr>\n",
       "  </thead>\n",
       "  <tbody>\n",
       "    <tr>\n",
       "      <th>0</th>\n",
       "      <td>NaN</td>\n",
       "      <td>[-1, 0, -1, 1, -1]</td>\n",
       "      <td>[1, 4, 4, 4, -5, -5, -5, -5, -5, 6, 6]</td>\n",
       "      <td>1</td>\n",
       "      <td>11</td>\n",
       "      <td>6</td>\n",
       "    </tr>\n",
       "    <tr>\n",
       "      <th>1</th>\n",
       "      <td>NaN</td>\n",
       "      <td>[-1, 0, -1]</td>\n",
       "      <td>[1, 2, 2, -3, -3, -3, 4]</td>\n",
       "      <td>1</td>\n",
       "      <td>7</td>\n",
       "      <td>4</td>\n",
       "    </tr>\n",
       "    <tr>\n",
       "      <th>2</th>\n",
       "      <td>NaN</td>\n",
       "      <td>[-2, 0, -1, -2, 0]</td>\n",
       "      <td>[1, 1, -2, -2, -3, -3, 5, 5, 5, 5, -6, -6]</td>\n",
       "      <td>2</td>\n",
       "      <td>12</td>\n",
       "      <td>5</td>\n",
       "    </tr>\n",
       "    <tr>\n",
       "      <th>3</th>\n",
       "      <td>NaN</td>\n",
       "      <td>[-2, -1, 0, -1, 0]</td>\n",
       "      <td>[1, 1, 1, 1, 2, 2, 2, -3, -4, -4, -6, 7]</td>\n",
       "      <td>1</td>\n",
       "      <td>12</td>\n",
       "      <td>7</td>\n",
       "    </tr>\n",
       "    <tr>\n",
       "      <th>4</th>\n",
       "      <td>NaN</td>\n",
       "      <td>[-2, -1, -2, -1, 0]</td>\n",
       "      <td>[1, 1, 1, -2, -2, -5, -5, 6, 6, 7, -8]</td>\n",
       "      <td>1</td>\n",
       "      <td>11</td>\n",
       "      <td>7</td>\n",
       "    </tr>\n",
       "    <tr>\n",
       "      <th>...</th>\n",
       "      <td>...</td>\n",
       "      <td>...</td>\n",
       "      <td>...</td>\n",
       "      <td>...</td>\n",
       "      <td>...</td>\n",
       "      <td>...</td>\n",
       "    </tr>\n",
       "    <tr>\n",
       "      <th>390069</th>\n",
       "      <td>NaN</td>\n",
       "      <td>[-3, 8, 9]</td>\n",
       "      <td>[8, -9, -9, 11, 25, -29, -29, 32]</td>\n",
       "      <td>36</td>\n",
       "      <td>8</td>\n",
       "      <td>32</td>\n",
       "    </tr>\n",
       "    <tr>\n",
       "      <th>390070</th>\n",
       "      <td>NaN</td>\n",
       "      <td>[-10, -12, 12]</td>\n",
       "      <td>[5, 5, 5, -17, -27, -27, 28, 28]</td>\n",
       "      <td>100</td>\n",
       "      <td>8</td>\n",
       "      <td>28</td>\n",
       "    </tr>\n",
       "    <tr>\n",
       "      <th>390071</th>\n",
       "      <td>NaN</td>\n",
       "      <td>[-14, -13, -14]</td>\n",
       "      <td>[14, -15, -16, 17, -30, 31, 31, -32]</td>\n",
       "      <td>1</td>\n",
       "      <td>8</td>\n",
       "      <td>31</td>\n",
       "    </tr>\n",
       "    <tr>\n",
       "      <th>390072</th>\n",
       "      <td>NaN</td>\n",
       "      <td>[-13, -14, -12]</td>\n",
       "      <td>[11, -13, -15, 19, 23, -26, -30, 31]</td>\n",
       "      <td>18</td>\n",
       "      <td>8</td>\n",
       "      <td>31</td>\n",
       "    </tr>\n",
       "    <tr>\n",
       "      <th>390073</th>\n",
       "      <td>NaN</td>\n",
       "      <td>[-11, -14, 7]</td>\n",
       "      <td>[16, -17, -17, 19, 20, -22, -22, 23]</td>\n",
       "      <td>2000</td>\n",
       "      <td>8</td>\n",
       "      <td>23</td>\n",
       "    </tr>\n",
       "  </tbody>\n",
       "</table>\n",
       "<p>390074 rows × 6 columns</p>\n",
       "</div>"
      ],
      "text/plain": [
       "         i                    k                                    solution  \\\n",
       "0      NaN   [-1, 0, -1, 1, -1]      [1, 4, 4, 4, -5, -5, -5, -5, -5, 6, 6]   \n",
       "1      NaN          [-1, 0, -1]                    [1, 2, 2, -3, -3, -3, 4]   \n",
       "2      NaN   [-2, 0, -1, -2, 0]  [1, 1, -2, -2, -3, -3, 5, 5, 5, 5, -6, -6]   \n",
       "3      NaN   [-2, -1, 0, -1, 0]    [1, 1, 1, 1, 2, 2, 2, -3, -4, -4, -6, 7]   \n",
       "4      NaN  [-2, -1, -2, -1, 0]      [1, 1, 1, -2, -2, -5, -5, 6, 6, 7, -8]   \n",
       "...     ..                  ...                                         ...   \n",
       "390069 NaN           [-3, 8, 9]           [8, -9, -9, 11, 25, -29, -29, 32]   \n",
       "390070 NaN       [-10, -12, 12]            [5, 5, 5, -17, -27, -27, 28, 28]   \n",
       "390071 NaN      [-14, -13, -14]        [14, -15, -16, 17, -30, 31, 31, -32]   \n",
       "390072 NaN      [-13, -14, -12]        [11, -13, -15, 19, 23, -26, -30, 31]   \n",
       "390073 NaN        [-11, -14, 7]        [16, -17, -17, 19, 20, -22, -22, 23]   \n",
       "\n",
       "         gcd   n  smax  \n",
       "0          1  11     6  \n",
       "1          1   7     4  \n",
       "2          2  12     5  \n",
       "3          1  12     7  \n",
       "4          1  11     7  \n",
       "...      ...  ..   ...  \n",
       "390069    36   8    32  \n",
       "390070   100   8    28  \n",
       "390071     1   8    31  \n",
       "390072    18   8    31  \n",
       "390073  2000   8    23  \n",
       "\n",
       "[390074 rows x 6 columns]"
      ]
     },
     "execution_count": 70,
     "metadata": {},
     "output_type": "execute_result"
    }
   ],
   "source": [
    "a=abs(df.solution.apply(max))# toma el valor maximo de las listas soluciones\n",
    "\n",
    "df['smax']=a\n",
    "df"
   ]
  },
  {
   "cell_type": "code",
   "execution_count": 171,
   "metadata": {},
   "outputs": [
    {
     "name": "stdout",
     "output_type": "stream",
     "text": [
      "144683\n"
     ]
    }
   ],
   "source": [
    "b=(df.solution.apply(sum))# Maximo de las lista solución\n",
    "#suma\n",
    "df['sum_s']=b \n",
    "df['sum_s³']=b**3 #cubo de la suma \n",
    "np.random.seed(1086418061)\n",
    "a = np.random.randint(1,390073); print(a)"
   ]
  },
  {
   "cell_type": "code",
   "execution_count": 172,
   "metadata": {},
   "outputs": [
    {
     "data": {
      "text/plain": [
       "l                                            [-3, 2, 1, 2]\n",
       "k                                       [-1, -3, 1, -2, 1]\n",
       "solution    [3, -4, 8, 11, -18, 19, -21, 25, -26, -29, 32]\n",
       "gcd                                                      2\n",
       "n                                                       11\n",
       "sum_s                                                    0\n",
       "sum_s³                                                   0\n",
       "Name: 144683, dtype: object"
      ]
     },
     "execution_count": 172,
     "metadata": {},
     "output_type": "execute_result"
    }
   ],
   "source": [
    "z=df.iloc[a] #Se escoge la fila aleatoria\n",
    "z"
   ]
  },
  {
   "cell_type": "code",
   "execution_count": 135,
   "metadata": {},
   "outputs": [],
   "source": [
    "nn=z['solution'] #Escoge la fila solución"
   ]
  },
  {
   "cell_type": "code",
   "execution_count": 136,
   "metadata": {
    "scrolled": true
   },
   "outputs": [
    {
     "name": "stdout",
     "output_type": "stream",
     "text": [
      "   10     9     8      7      6      5      4      3      2\n",
      "3 x  - 4 x + 8 x + 11 x - 18 x + 19 x - 21 x + 25 x - 26 x - 29 x + 32\n",
      "[ 0.79905722+1.83863012j  0.79905722-1.83863012j -1.63790759+0.j\n",
      " -0.50606031+1.08136887j -0.50606031-1.08136887j -0.83284172+0.j\n",
      "  0.68475659+1.06750321j  0.68475659-1.06750321j  1.        +0.j\n",
      "  0.84857564+0.j        ]\n",
      "    9      8      7      6       5      4      3      2\n",
      "30 x - 36 x + 64 x + 77 x - 108 x + 95 x - 84 x + 75 x - 52 x - 29\n"
     ]
    }
   ],
   "source": [
    "#l=[1,4,4,6,8,3] #lista con números\n",
    "\n",
    "p = np.poly1d(nn) #polinomio con el número.\n",
    "print(p)\n",
    "\n",
    "r=p.roots #Raíz del polinomio\n",
    "print (r)\n",
    "#print(p(r[1]))\n",
    "\n",
    "dp=p.deriv() #Derivada del polinomio\n",
    "print(dp)"
   ]
  },
  {
   "cell_type": "code",
   "execution_count": 141,
   "metadata": {},
   "outputs": [
    {
     "name": "stderr",
     "output_type": "stream",
     "text": [
      "C:\\Users\\JAMER_PC\\anaconda3\\lib\\site-packages\\numpy\\core\\_asarray.py:136: ComplexWarning: Casting complex values to real discards the imaginary part\n",
      "  return array(a, dtype, copy=False, order=order, subok=True)\n"
     ]
    },
    {
     "data": {
      "image/png": "[encoded data removed]",
      "text/plain": [
       "<Figure size 432x288 with 1 Axes>"
      ]
     },
     "metadata": {
      "needs_background": "light"
     },
     "output_type": "display_data"
    }
   ],
   "source": [
    "x=np.linspace(-10,10,5000) #Definir puntos en x\n",
    "plt.figure()\n",
    "plt.title('Gráfico del polinomio, la derivad y raices.')\n",
    "plt.plot(x,p(x),\"r-\", label=\"P1\") #Grafica de el polinomio y el polinomio derivado\n",
    "plt.plot(x,dp(x), \"b-\", label=\"Polinomio derivado\"  )\n",
    "plt.scatter(r, p(r), color='gray', label='Raices' ) #Muestra las raices en el gráfico\n",
    "plt.xlim(-4,4)\n",
    "plt.ylim(-1000,1000) #Optimizar el gráfico\n",
    "\n",
    "plt.legend()\n",
    "plt.grid()\n",
    "\n",
    "plt.show()"
   ]
  },
  {
   "cell_type": "markdown",
   "metadata": {
    "id": "SCYzhddbXPJi"
   },
   "source": [
    "B)\n",
    "\n",
    "I) Usando como semilla el número de su cédula, genere de forma aletoria un número entero entre 1 y 5\n",
    "\n",
    "II) De acuerdo al entero obtenido, escoja una de las siguientes cinco funciones \n",
    "1. $$x\\operatorname{e}^x=p\\,, $$\n",
    "2. $$\\frac{\\sin x}{x}=+p\\,,$$\n",
    "3. $$\\frac{\\sin x}{x}=-p\\,,$$\n",
    "4. $$\\frac{\\cos x}{x}=+p\\,,$$\n",
    "5. $$\\frac{\\cos x}{x}=-p\\,,$$\n",
    "III) Genere un número aleatorio entre 0 y 1 y asignelo al valor de $p$\n",
    "IV) Encuentre la solución a la ecuación trascendental para el intervalo $x$ entre -10 y 10 y gráfique la correspondiente función trascendental y las correspondientes soluciones. . Se tendrá en cuenta la estética del gráfico presentado incluyendo la rotulación adecuada del mismo.\n",
    "\n",
    "A modo de nota curiosa: estas ecuaciones trascendentales están asociadas a soluciones de la ecuación de Schödinger en mecánica cuántica: https://doi.org/10.1080/14786435.2015.1081425"
   ]
  },
  {
   "cell_type": "code",
   "execution_count": 153,
   "metadata": {},
   "outputs": [
    {
     "name": "stdout",
     "output_type": "stream",
     "text": [
      "2\n",
      "0.624488543665644\n"
     ]
    }
   ],
   "source": [
    "np.random.seed(1086418061) #Se usa como semilla mi número de cédula.\n",
    "a = np.random.randint(1,6); print(a) #Forma aleatoria para número entero y se escoge la función\n",
    "P = np.random.rand(); print(P) #Número aleatorio"
   ]
  },
  {
   "cell_type": "code",
   "execution_count": 185,
   "metadata": {},
   "outputs": [
    {
     "data": {
      "image/png": "[encoded data removed]",
      "text/plain": [
       "<Figure size 432x288 with 1 Axes>"
      ]
     },
     "metadata": {
      "needs_background": "light"
     },
     "output_type": "display_data"
    }
   ],
   "source": [
    "x = np.linspace(-10,10)\n",
    "y = np.sin(x)/x \n",
    "plt.plot(x,y)\n",
    "plt.hlines(P,-10,10)\n",
    "plt.show()"
   ]
  },
  {
   "cell_type": "code",
   "execution_count": 165,
   "metadata": {},
   "outputs": [],
   "source": [
    "def  sec(f,p0,p1,eps,Nmax): #Método secante para encontrar las raices\n",
    "\n",
    "    q0 = f(p0)\n",
    "    q1 = f(p1)\n",
    "    i = 2\n",
    "    while i<Nmax:\n",
    "        p = p1 - q1*(p1 - p0)/(q1 - q0)\n",
    "        print (i, p, f(p))  \n",
    " \n",
    "        if ( np.abs(p - p1) < eps ): break \n",
    "        i += 1\n",
    "\n",
    "        p0 = p1; q0 = q1\n",
    "        p1 = p; q1 = f(p)\n",
    "        if (i == Nmax): print (\"el método fallo\")\n",
    "    return p"
   ]
  },
  {
   "cell_type": "code",
   "execution_count": 166,
   "metadata": {},
   "outputs": [],
   "source": [
    "f = lambda x :(np.sin(x)/x)-P #Se define la función."
   ]
  },
  {
   "cell_type": "code",
   "execution_count": 167,
   "metadata": {
    "scrolled": true
   },
   "outputs": [
    {
     "name": "stdout",
     "output_type": "stream",
     "text": [
      "2 1.6614304059207854 -0.02506798464595017\n",
      "3 1.59752536436951 0.0012560127827357936\n",
      "4 1.600574504200461 1.0134911245462952e-05\n",
      "5 1.600599308205949 -4.3440763208835165e-09\n",
      "6 1.6005992975788872 1.4988010832439613e-14\n",
      "7 1.6005992975789238 0.0\n",
      "1.6005992975789238\n"
     ]
    }
   ],
   "source": [
    "r1 = sec(f,0.9,1.3,1e-8,100); print(r1) #Se cácula la raíz 1"
   ]
  },
  {
   "cell_type": "code",
   "execution_count": 176,
   "metadata": {},
   "outputs": [
    {
     "name": "stdout",
     "output_type": "stream",
     "text": [
      "2 -1.4167538728297546 0.07299245342441318\n",
      "3 -1.6727744331550853 -0.029785087003883604\n",
      "4 -1.5985792867028987 0.0008255003166439678\n",
      "5 -1.6005801668640138 7.820162575944423e-06\n",
      "6 -1.6005993029627403 -2.200776672012239e-09\n",
      "7 -1.6005992975789096 5.773159728050814e-15\n",
      "-1.6005992975789096\n"
     ]
    }
   ],
   "source": [
    "r2 = sec(f,-3,-0.5,1e-8,100); print(r2) #Se cácula la raíz 2"
   ]
  },
  {
   "cell_type": "code",
   "execution_count": 184,
   "metadata": {},
   "outputs": [
    {
     "data": {
      "image/png": "[encoded data removed]",
      "text/plain": [
       "<Figure size 432x288 with 1 Axes>"
      ]
     },
     "metadata": {
      "needs_background": "light"
     },
     "output_type": "display_data"
    }
   ],
   "source": [
    "\n",
    "r=np.array([r1,r2])\n",
    "xp = linspace(-10,10)\n",
    "y = f(xp) + P\n",
    "#Se grafica para las dos raices. y la función 2.\n",
    "plt.title('Raices')\n",
    "plt.plot(xp,y, color = 'blue', label='Función')\n",
    "plt.scatter(r,f(r)+P, color = 'gray', label='Raiz') \n",
    "plt.hlines(P,-10, 10, color = 'red')\n",
    "plt.grid()\n",
    "plt.legend()\n",
    "\n",
    "#Gráfico\n",
    "plt.show()\n"
   ]
  }
 ],
 "metadata": {
  "colab": {
   "name": "Examen_2020_1_01_enunciado.ipynb",
   "provenance": []
  },
  "kernelspec": {
   "display_name": "Python 3",
   "language": "python",
   "name": "python3"
  },
  "language_info": {
   "codemirror_mode": {
    "name": "ipython",
    "version": 3
   },
   "file_extension": ".py",
   "mimetype": "text/x-python",
   "name": "python",
   "nbconvert_exporter": "python",
   "pygments_lexer": "ipython3",
   "version": "3.8.5"
  },
  "toc": {
   "colors": {
    "hover_highlight": "#DAA520",
    "running_highlight": "#FF0000",
    "selected_highlight": "#FFD700"
   },
   "moveMenuLeft": true,
   "nav_menu": {
    "height": "30px",
    "width": "252px"
   },
   "navigate_menu": true,
   "number_sections": true,
   "sideBar": true,
   "threshold": 4,
   "toc_cell": false,
   "toc_section_display": "block",
   "toc_window_display": false
  }
 },
 "nbformat": 4,
 "nbformat_minor": 1
}
