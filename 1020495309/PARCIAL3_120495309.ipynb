{
  "nbformat": 4,
  "nbformat_minor": 0,
  "metadata": {
    "colab": {
      "name": "PARCIAL3_120495309",
      "provenance": []
    },
    "kernelspec": {
      "name": "python3",
      "display_name": "Python 3"
    },
    "language_info": {
      "name": "python"
    }
  },
  "cells": [
    {
      "cell_type": "code",
      "metadata": {
        "id": "HI81J1Iiy-mG"
      },
      "source": [
        "import numpy as np\n",
        "import random"
      ],
      "execution_count": 112,
      "outputs": []
    },
    {
      "cell_type": "markdown",
      "metadata": {
        "id": "89BoGUkbKb3W"
      },
      "source": [
        "**Numeral 1**"
      ]
    },
    {
      "cell_type": "code",
      "metadata": {
        "colab": {
          "base_uri": "https://localhost:8080/"
        },
        "id": "jyd_cLfFzEFe",
        "outputId": "d7481922-386f-491d-94a4-fd93f8fbab05"
      },
      "source": [
        "# m1<m2<m3: Valor absoluto de los valores propios, Unidades: eV(Energía)\n",
        "# Generar un valor aleatorio para m1, y con ello encontrar m2 y m3:\n",
        "\n",
        "m1 = random.uniform(10E-9, 10E-4) #eV\n",
        "\n",
        "#Fijandonos en la formula y en los valores que nos dan en la segunda columna de la \"Data\", y teniendo en cuenta los denominadores de la primera columna:\n",
        "#Formula despejada: m_i^2 = bfp*10^n + m_j^2 \n",
        "\n",
        "bfp_2 = 7.39*10**(-5) #bfp multiplicado por el valor del denominador de la primera columna\n",
        "m2 = np.sqrt( bfp_2 + m1**2 )\n",
        "\n",
        "bfp_3 = 2.449*10**(-3) #bfp multiplicado por el valor del denominador de la primera columna\n",
        "m3 = np.sqrt( bfp_3 + m2**2 )\n",
        "\n",
        "if m1<m2<m3:\n",
        "  print(\"Valores propios [Energía]:\\n\",\n",
        "        \"\\n\",\n",
        "      \"m1:\", m1 ,\"eV\\n\",\n",
        "      \"m2:\", m2 ,\"eV\\n\",\n",
        "      \"m3:\", m3 ,\"eV\\n\")\n",
        "else:\n",
        "  print(\"No se cumple la condición inicial, debe haber un error\")"
      ],
      "execution_count": 113,
      "outputs": [
        {
          "output_type": "stream",
          "name": "stdout",
          "text": [
            "Valores propios [Energía]:\n",
            " \n",
            " m1: 0.0003379589419132989 eV\n",
            " m2: 0.00860315152989991 eV\n",
            " m3: 0.05022961493229287 eV\n",
            "\n"
          ]
        }
      ]
    },
    {
      "cell_type": "markdown",
      "metadata": {
        "id": "FxQnzj-MQQd4"
      },
      "source": [
        "**Numeral 2**"
      ]
    },
    {
      "cell_type": "code",
      "metadata": {
        "colab": {
          "base_uri": "https://localhost:8080/"
        },
        "id": "iZyXWSVrQP_A",
        "outputId": "9a3c320c-c21c-4f05-e1ae-5fec48cd53f7"
      },
      "source": [
        "#Generando valores aleatorios para alpha_ij:\n",
        "\n",
        "a_12 = random.uniform(0, 2*np.pi)\n",
        "\n",
        "a_13 = random.uniform(0, 2*np.pi)\n",
        "\n",
        "a_23 = random.uniform(0, 2*np.pi)\n",
        "\n",
        "print(\"Valores de alpha [Radianes]: \\n\",\n",
        "      \"\\n\",\n",
        "      \"a_12:\" , a_12, \"\\n\",\n",
        "      \"a_13:\" , a_13, \"\\n\",\n",
        "      \"a_23:\" , a_23)\n"
      ],
      "execution_count": 114,
      "outputs": [
        {
          "output_type": "stream",
          "name": "stdout",
          "text": [
            "Valores de alpha [Radianes]: \n",
            " \n",
            " a_12: 0.5799666292395612 \n",
            " a_13: 1.648330050742668 \n",
            " a_23: 4.167128621910797\n"
          ]
        }
      ]
    },
    {
      "cell_type": "markdown",
      "metadata": {
        "id": "4J4Lrz-PTZZ3"
      },
      "source": [
        "**Numeral 3**"
      ]
    },
    {
      "cell_type": "code",
      "metadata": {
        "colab": {
          "base_uri": "https://localhost:8080/"
        },
        "id": "hx9shIxbKi3o",
        "outputId": "e5419fe9-5ade-40bc-8614-aa114f9e4eab"
      },
      "source": [
        "#Ecuacion: Y = R*D+U^T\n",
        "\n",
        "#Primero hallamos los s_ij y los c_ij , puesto que ya conocemos los theta(ángulos de mezcla) en la tabla \"Data\":\n",
        "#Ecuaciones:\n",
        "# s_ij = sin(theta)\n",
        "# c_ij = cos(theta)\n",
        "\n",
        "s_12 = np.sin(np.deg2rad(33.82))\n",
        "c_12 = np.cos(np.deg2rad(33.82))\n",
        "\n",
        "s_13 = np.sin(np.deg2rad(8.61))\n",
        "c_13 = np.cos(np.deg2rad(8.61))\n",
        "\n",
        "s_23 = np.sin(np.deg2rad(48.3))\n",
        "c_23 = np.cos(np.deg2rad(48.3))\n",
        "\n",
        "print(\"Valores de s_ij y c_ij:\\n\",\n",
        "      \"\\n\",\n",
        "      \"s_12:\" , s_12 , \"\\n\",\n",
        "      \"c_12:\" , c_12 , \"\\n\",\n",
        "      \"\\n\",\n",
        "      \"s_13:\" , s_13 , \"\\n\",\n",
        "      \"c_13:\" , c_13 , \"\\n\",\n",
        "      \"\\n\",\n",
        "      \"s_23:\" , s_23 , \"\\n\",\n",
        "      \"c_23:\" , c_23 , \"\\n\")\n",
        "\n",
        "#Ahora que tenemos estos valores, debemos hallar U con la ecuación que se nos presenta:\n",
        "\n",
        "\n",
        "U = np.array([[c_12*c_13, s_12*c_13, s_13],\n",
        "              [-s_12*c_23-c_12*s_13*s_23, c_12*c_23-s_12*s_13*s_23, c_13*s_23],\n",
        "              [s_12*s_23-c_12*s_13*c_23, -c_12*s_23-s_12*s_13*c_23, c_13*c_23]])\n",
        "\n",
        "print(\"Matriz U:\\n\",\n",
        "      \"\\n\",\n",
        "      U,\"\\n\")\n",
        "\n",
        "#La matriz D, ya está definida:\n",
        "\n",
        "D = np.diag([np.sqrt(m1),np.sqrt(m2),np.sqrt(m3)])\n",
        "\n",
        "print(\"Matriz D:\\n\",\n",
        "      \"\\n\",\n",
        "      D,\"\\n\")\n",
        "#Ahora nos queda la matriz R, para ello primero hallamos los s^a_ij y c^a_ij:\n",
        "#Ecuaciones:\n",
        "#s^a_ij = sin(theta)\n",
        "#c^a_ij = cos(theta)\n",
        "\n",
        "sa_12 = np.sin(np.deg2rad(a_12))\n",
        "ca_12 = np.cos(np.deg2rad(a_12))\n",
        "\n",
        "sa_13 = np.sin(np.deg2rad(a_13))\n",
        "ca_13 = np.cos(np.deg2rad(a_13))\n",
        "\n",
        "sa_23 = np.sin(np.deg2rad(a_23))\n",
        "ca_23 = np.cos(np.deg2rad(a_23))\n",
        "\n",
        "print(\"Valores de sa_ij y ca_ij:\\n\",\n",
        "      \"\\n\",\n",
        "      \"sa_12:\" , sa_12 , \"\\n\",\n",
        "      \"ca_12:\" , ca_12 , \"\\n\",\n",
        "      \"\\n\",\n",
        "      \"sa_13:\" , sa_13 , \"\\n\",\n",
        "      \"ca_13:\" , ca_13 , \"\\n\",\n",
        "      \"\\n\",\n",
        "      \"sa_23:\" , sa_23 , \"\\n\",\n",
        "      \"ca_23:\" , ca_23 , \"\\n\")\n",
        "\n",
        "#Matriz R:\n",
        "R = np.array([[ca_12*ca_13, sa_12*ca_13, sa_13],\n",
        "              [-sa_12*ca_23-ca_12*sa_13*sa_23, ca_12*ca_23-sa_12*sa_13*sa_23, ca_13*sa_23],\n",
        "              [sa_12*sa_23-ca_12*sa_13*ca_23, -ca_12*sa_23-sa_12*sa_13*ca_23, ca_13*ca_23]])\n",
        "\n",
        "print(\"Matriz R:\\n\",\n",
        "      \"\\n\",\n",
        "      R,\"\\n\")\n",
        "\n",
        "#Así ya podemos hallar Y:\n",
        "\n",
        "Y =  R @ (D @ U.transpose())\n",
        "\n",
        "print(\"\\033[91m\"+\"Matriz Y:\"+\"\\033[0m\", \"\\n\",\n",
        "      \"\\n\",\n",
        "      Y,\"\\n\")\n",
        "\n"
      ],
      "execution_count": 115,
      "outputs": [
        {
          "output_type": "stream",
          "name": "stdout",
          "text": [
            "Valores de s_ij y c_ij:\n",
            " \n",
            " s_12: 0.556585649903383 \n",
            " c_12: 0.8307902348497055 \n",
            " \n",
            " s_13: 0.14970791170877362 \n",
            " c_13: 0.9887302671466056 \n",
            " \n",
            " s_23: 0.7466381822853914 \n",
            " c_23: 0.6652303546543609 \n",
            "\n",
            "Matriz U:\n",
            " \n",
            " [[ 0.82142745  0.55031308  0.14970791]\n",
            " [-0.46312144  0.49045305  0.73822377]\n",
            " [ 0.33282949 -0.67573021  0.65773339]] \n",
            "\n",
            "Matriz D:\n",
            " \n",
            " [[0.01838366 0.         0.        ]\n",
            " [0.         0.09275318 0.        ]\n",
            " [0.         0.         0.22411964]] \n",
            "\n",
            "Valores de sa_ij y ca_ij:\n",
            " \n",
            " sa_12: 0.01012215437465602 \n",
            " ca_12: 0.9999487696831352 \n",
            " \n",
            " sa_13: 0.02876481832806117 \n",
            " ca_13: 0.9995862070009538 \n",
            " \n",
            " sa_23: 0.07266601205002668 \n",
            " ca_23: 0.9973563308530935 \n",
            "\n",
            "Matriz R:\n",
            " \n",
            " [[ 0.999535    0.01011797  0.02876482]\n",
            " [-0.01218551  0.99728408  0.07263594]\n",
            " [-0.02795177 -0.07295268  0.99694363]] \n",
            "\n",
            "\u001b[91mMatriz Y:\u001b[0m \n",
            " \n",
            " [[ 0.01657541 -0.00329048  0.00972187]\n",
            " [ 0.05315776  0.05748892 -0.05187312]\n",
            " [ 0.0293041   0.16186405  0.1513618 ]] \n",
            "\n"
          ]
        }
      ]
    },
    {
      "cell_type": "markdown",
      "metadata": {
        "id": "D5wgjUzSjJ0a"
      },
      "source": [
        "**Numeral 4**"
      ]
    },
    {
      "cell_type": "code",
      "metadata": {
        "colab": {
          "base_uri": "https://localhost:8080/"
        },
        "id": "7aHYPhnGjIIP",
        "outputId": "33d1bd76-c0d8-4e8d-c24a-0ba55057759f"
      },
      "source": [
        "#Primero debemos calcular A:\n",
        "#Ecuación: A = YT*Y\n",
        "\n",
        "A = Y.transpose() @ Y\n",
        "\n",
        "print(\"Matriz A:\\n\",\n",
        "      \"\\n\",\n",
        "      A,\"\\n\")\n",
        "\n",
        "#Autovalores y autovectores:\n",
        "\n",
        "A_valor, A_vector = np.linalg.eig(A)\n",
        "\n",
        "#Para ver si se cumplen los valores propios calulemos: UT*A*U, y debería dar una matriz diagonal con los valores propios en la diagonal:\n",
        "\n",
        "K = U.transpose() @ A @U\n",
        "\n",
        "print(\"Matriz K:\\n\",\n",
        "      \"\\n\",\n",
        "     K,\"\\n\")"
      ],
      "execution_count": 116,
      "outputs": [
        {
          "output_type": "stream",
          "name": "stdout",
          "text": [
            "Matriz A:\n",
            " \n",
            " [[0.00395922 0.00774472 0.00183921]\n",
            " [0.00774472 0.02951578 0.02148591]\n",
            " [0.00183921 0.02148591 0.02569573]] \n",
            "\n",
            "Matriz K:\n",
            " \n",
            " [[ 3.37958942e-04 -4.20646714e-19  3.79041103e-19]\n",
            " [-4.22982274e-19  8.60315153e-03 -2.30376669e-18]\n",
            " [-6.66715321e-19  1.36590248e-19  5.02296149e-02]] \n",
            "\n"
          ]
        }
      ]
    },
    {
      "cell_type": "markdown",
      "metadata": {
        "id": "ydEar8akptDp"
      },
      "source": [
        "**Vemos que nos da una matriz diagonal (los otros valores son ceros numericos), y los valores de la diagonal coinciden con m1,m2,m3.**"
      ]
    },
    {
      "cell_type": "code",
      "metadata": {
        "colab": {
          "base_uri": "https://localhost:8080/"
        },
        "id": "Pnt2LeSXps0j",
        "outputId": "94d9f1a9-2704-4366-e91c-387f29ae1c2d"
      },
      "source": [
        "#Los valores propios también los puedo ver con A_valor:\n",
        "M = np.array([m1,m2,m3]) # Array con los valores de m_i\n",
        "print(\"Valores propios de A:\\n\",\n",
        "      A_valor,\"\\n\")\n",
        "print(\"Valores m_i:\\n\",\n",
        "      M,\"\\n\")\n",
        "#Para los vectores propios:\n",
        "print(\"Vetores propios de A:\\n\",\n",
        "      A_vector,\"\\n\")\n",
        "print(\"Matriz U:\\n\",\n",
        "      U,\"\\n\")"
      ],
      "execution_count": 117,
      "outputs": [
        {
          "output_type": "stream",
          "name": "stdout",
          "text": [
            "Valores propios de A:\n",
            " [0.05022961 0.00033796 0.00860315] \n",
            "\n",
            "Valores m_i:\n",
            " [0.00033796 0.00860315 0.05022961] \n",
            "\n",
            "Vetores propios de A:\n",
            " [[-0.14970791 -0.82142745 -0.55031308]\n",
            " [-0.73822377  0.46312144 -0.49045305]\n",
            " [-0.65773339 -0.33282949  0.67573021]] \n",
            "\n",
            "Matriz U:\n",
            " [[ 0.82142745  0.55031308  0.14970791]\n",
            " [-0.46312144  0.49045305  0.73822377]\n",
            " [ 0.33282949 -0.67573021  0.65773339]] \n",
            "\n"
          ]
        }
      ]
    },
    {
      "cell_type": "markdown",
      "metadata": {
        "id": "FkLzC8ZKsWD6"
      },
      "source": [
        "**Vemos que los vectores columna de U coinciden con los vectores propios obtenidos (con signo contrario :( ),**\n",
        "**Además acá se comprueban los valores propios de otra forma diferente a la anterior**"
      ]
    },
    {
      "cell_type": "markdown",
      "metadata": {
        "id": "9zFAtmBisrIs"
      },
      "source": [
        "**Numeral 5**\n",
        "**En este numeral no me dió esa corresponencia entre los valores propios**"
      ]
    },
    {
      "cell_type": "code",
      "metadata": {
        "colab": {
          "base_uri": "https://localhost:8080/"
        },
        "id": "iGh5JLHdsD2J",
        "outputId": "3638f43d-1f97-440a-84c4-a979462c02b0"
      },
      "source": [
        "Y_valor, Y_vector = np.linalg.eig(Y)\n",
        "print(Y_valor)"
      ],
      "execution_count": 132,
      "outputs": [
        {
          "output_type": "stream",
          "name": "stdout",
          "text": [
            "[0.02465572+0.j         0.1003852 +0.07363764j 0.1003852 -0.07363764j]\n"
          ]
        }
      ]
    }
  ]
}