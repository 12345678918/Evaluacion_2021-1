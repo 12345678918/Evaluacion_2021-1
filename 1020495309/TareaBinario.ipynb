{
  "nbformat": 4,
  "nbformat_minor": 0,
  "metadata": {
    "colab": {
      "name": "TareaBinario",
      "provenance": []
    },
    "kernelspec": {
      "name": "python3",
      "display_name": "Python 3"
    }
  },
  "cells": [
    {
      "cell_type": "code",
      "metadata": {
        "colab": {
          "base_uri": "https://localhost:8080/"
        },
        "id": "DVFtNUwlNDDF",
        "outputId": "f03945a6-294b-4a7b-ab6b-df6b32fc695c"
      },
      "source": [
        "#!/usr/bin/env python3\n",
        "def binary(x):\n",
        "  binario = \"\"\n",
        "  while x > 0 :\n",
        "    residuo = str(x%2)\n",
        "    binario = binario + residuo\n",
        "    x = x//2\n",
        "  binario = binario[::-1].rjust(8,\"0\")\n",
        "  return binario\n",
        "if __name__=='__main__':\n",
        "  x=int(input(\"Escriba un entero:\\n\"))\n",
        "  print(\"La representacion binaria es: {}\".format(binary(x)))\n"
      ],
      "execution_count": 98,
      "outputs": [
        {
          "output_type": "stream",
          "text": [
            "Escriba un entero:\n",
            "47\n",
            "La representacion binaria es: 00101111\n"
          ],
          "name": "stdout"
        }
      ]
    },
    {
      "cell_type": "code",
      "metadata": {
        "colab": {
          "base_uri": "https://localhost:8080/",
          "height": 36
        },
        "id": "H7QSo5nsYWuk",
        "outputId": "1dbf24c4-5a79-41e8-b8f1-0784b5422c5f"
      },
      "source": [
        "binary(50)"
      ],
      "execution_count": 102,
      "outputs": [
        {
          "output_type": "execute_result",
          "data": {
            "application/vnd.google.colaboratory.intrinsic+json": {
              "type": "string"
            },
            "text/plain": [
              "'00110010'"
            ]
          },
          "metadata": {
            "tags": []
          },
          "execution_count": 102
        }
      ]
    }
  ]
}