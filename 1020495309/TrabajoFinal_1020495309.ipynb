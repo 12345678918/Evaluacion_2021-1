{
  "nbformat": 4,
  "nbformat_minor": 0,
  "metadata": {
    "colab": {
      "name": "TrabajoFinal_1020495309",
      "provenance": []
    },
    "kernelspec": {
      "name": "python3",
      "display_name": "Python 3"
    },
    "language_info": {
      "name": "python"
    }
  },
  "cells": [
    {
      "cell_type": "markdown",
      "metadata": {
        "id": "DP5OGXplUHUA"
      },
      "source": [
        "**TRABAJO FINAL - MÉTODOS COMPUTACIONALES**\n",
        "\n",
        "**Por: SAMUEL GIRALDO BUILES - 1020495309**\n",
        "\n",
        "---"
      ]
    },
    {
      "cell_type": "markdown",
      "metadata": {
        "id": "gz9cNWLVk3jK"
      },
      "source": [
        "**EXPLICACIÓN DE FUNCIONAMIENTO Y USO:**\n",
        "\n",
        "El código funciona como un encriptador de mensajes; el código tiene 2 partes generales, la \"ENCRIPTACIÓN\", y la \"DESENCRIPTACIÓN\", lo ideal es que una persona escribiera un mensaje que quiere enviar, y la persona que lo recibe lo pudiese deceifrar solo si tiene el código.\n",
        "\n",
        "La parte de \"ENCRIPTACIÓN\" arroja como resultado dos variables, una con el mensaje encriptado, y otra con el código.\n",
        "\n",
        "En la parte de \"DESENCRIPTACIÓN\", se ingresa la variable que contiene el mensaje, y el código, y este lo decifra\n",
        "\n",
        "---\n",
        "\n",
        "**EXPLICACIÓN DEL CÓDIGO:**\n",
        "\n",
        "\n",
        "Lo fundamental en esta encriptación es la multiplicación de matrices y sus propiedades; lo que se hace es asignar un número entero a cada caracter de la frase que ingresa el usuario, luego estos números se guardan de forma ordenada en una matriz cuadrada \"A\", luego se genera una matriz C (matriz código) de forma aleatoria de las dimensiones de \"A\"; para encriptar el código se multiplica A*C = M, donde M es el mensaje encriptado.\n",
        "Para desencriptar el código se multiplica la matriz M, por la inversa de C: M*C.I = A*C*C.I = A*I = A, que cómo podemos ver nos da la matriz inicial(el mensaje).\n",
        "\n",
        "---\n",
        "\n",
        "**Nota:**\n",
        "\n",
        "Lo ideal sería que toda la parte de encriptación se ejecute en una sola celda, pero lo hice de esta forma para que quede más entendible, lo mismo con la parte de desencriptación\n",
        "\n",
        "\n"
      ]
    },
    {
      "cell_type": "markdown",
      "metadata": {
        "id": "vy95SXs1kjmb"
      },
      "source": [
        "**Librerias**"
      ]
    },
    {
      "cell_type": "code",
      "metadata": {
        "id": "QNiZAk8kkPhp"
      },
      "source": [
        "import numpy as np\n",
        "import pandas as pd\n",
        "import matplotlib.pyplot as plt\n",
        "import random"
      ],
      "execution_count": 137,
      "outputs": []
    },
    {
      "cell_type": "markdown",
      "metadata": {
        "id": "QQ5D8mmJlTDp"
      },
      "source": [
        "**Aquí se piden los datos al usuario**"
      ]
    },
    {
      "cell_type": "code",
      "metadata": {
        "colab": {
          "base_uri": "https://localhost:8080/"
        },
        "id": "jU6uJqVElqdS",
        "outputId": "298dc4fa-692a-49f4-ff57-56be9d155c8e"
      },
      "source": [
        "print(\"Este es un encriptador de mensajes, donde usted ingresa el mensaje que desea encriptar, y este programa le retorna el mensaje encriptado y una llave para desencriptarlo.\\n\",\n",
        "      \"Normas:\\n\",\n",
        "      \"-No se deben ingresar signos como ?,:, etc\")\n",
        "\n",
        "frase = input(\"Ingrese el mensaje que desea enviar:\\n\") # Input para el usuario"
      ],
      "execution_count": 143,
      "outputs": [
        {
          "name": "stdout",
          "output_type": "stream",
          "text": [
            "Este es un encriptador de mensajes, donde usted ingresa el mensaje que desea encriptar, y este programa le retorna el mensaje encriptado y una llave para desencriptarlo.\n",
            " Normas:\n",
            " -No se deben ingresar signos como ?,:, etc\n",
            "Ingrese el mensaje que desea enviar:\n",
            "HOLAAAA \n"
          ]
        }
      ]
    },
    {
      "cell_type": "markdown",
      "metadata": {
        "id": "20aM0mesp3LE"
      },
      "source": [
        "***ENCRIPTACIÓN***\n",
        "\n",
        "---\n",
        "\n"
      ]
    },
    {
      "cell_type": "code",
      "metadata": {
        "id": "9LSAJnSRp1T2"
      },
      "source": [
        "#A cada número se le asigna una letra\n",
        "\n",
        "abc=['A','B','C','D','E','F','G','H','I','J','K','L','M','N','Ñ','O','P','Q','R','S','T','U','V','W','X','Y','Z',\n",
        "     'Á','É','Í','Ó','Ú','Ä','Ë','Ï','Ö','Ü',\n",
        "     'a','b','c','d','e','f','g','h','i','j','k','l','m','n','ñ','o','p','q','r','s','t','u','v','w','x','y','z',\n",
        "     'á','é','í','ó','ú','ä','ë','ï','ö','ü',\n",
        "     '0','1','2','3','4','5','6','7','8','9',' ']\n",
        "\n",
        "X = np.linspace(1,len(abc),len(abc)) # Crea un número para cada elemento de \"abc\"\n",
        "\n",
        "num = [str(x) for x in X] #Convierte los float de \"X\" en str\n",
        "\n",
        "N = len(frase)//2 #logitud de la frase divida dos, puesto que a cada entrada de la matriz le corresponde un caracter de la \"frase\", y se le suma uno, para \n",
        "\n",
        "M_frase = 85* (np.ones((N,N))) #Matriz NxN que contiene todos sus valores con el entero \"27\" (que representa un espacio)\n",
        "\n",
        "M_codigo = np.random.random((N,N)) #Matriz código generada de forma aleatoria para cada mensaje"
      ],
      "execution_count": 139,
      "outputs": []
    },
    {
      "cell_type": "markdown",
      "metadata": {
        "id": "xdF2mz2fr51t"
      },
      "source": [
        "**Aquí se convierte las letras de la frase en una lista con los números correspodientes**"
      ]
    },
    {
      "cell_type": "code",
      "metadata": {
        "colab": {
          "base_uri": "https://localhost:8080/"
        },
        "id": "6iXX1qFBsDe8",
        "outputId": "4d6f40c2-2a86-4d94-cc88-b0cc605868b9"
      },
      "source": [
        "frase_numeros = list() #Lista vacía, que irá almacenando los números\n",
        "\n",
        "i = 0\n",
        "\n",
        "while i < len(frase): #Este ciclo selecciona cada elemento de la \"frase\"\n",
        "  \n",
        "  k = 0\n",
        "\n",
        "  while k < len(abc): #Este ciclo compara cada una elemento de la \"frase\" con cada elemento de \"abc\"\n",
        "  \n",
        "    if frase[i] == abc[k]: #Aquí se filtra, y se le asigna un número de \"num\" a cada elemento de la \"frase\" ↓\n",
        "\n",
        "      frase_numeros.append(num[k])\n",
        "\n",
        "    k = k + 1\n",
        "  i = i + 1"
      ],
      "execution_count": 140,
      "outputs": [
        {
          "output_type": "stream",
          "name": "stdout",
          "text": [
            "Hola cómo estás 420\n",
            "['8.0', '53.0', '49.0', '38.0', '85.0', '40.0', '68.0', '50.0', '53.0', '85.0', '42.0', '57.0', '58.0', '65.0', '57.0', '85.0', '79.0', '77.0', '75.0']\n"
          ]
        }
      ]
    },
    {
      "cell_type": "markdown",
      "metadata": {
        "id": "kwYT5E9bu8Se"
      },
      "source": [
        "**Aquí se le asigna a cada elemento de \"frase_numeros\" una entrada en la matriz \"M_frase\"**"
      ]
    },
    {
      "cell_type": "code",
      "metadata": {
        "id": "yj450LhQsiNF"
      },
      "source": [
        "\n",
        "n = len(M_frase[0])\n",
        "a = 0 # contador para cada fila de la matriz M_frase\n",
        "j = 0 # contador para cada elemento de la frase(\"frase_numeros\")\n",
        "\n",
        "while a < n:\n",
        "\n",
        "  b = 0 # contador para cada columna de la matriz M_frase\n",
        "\n",
        "  while b < n:\n",
        "\n",
        "    if j < len(frase):\n",
        "\n",
        "      M_frase[a][b] = frase_numeros[j]\n",
        "\n",
        "    b = b + 1\n",
        "\n",
        "    j = j + 1\n",
        "  \n",
        "  a = a + 1"
      ],
      "execution_count": 141,
      "outputs": []
    },
    {
      "cell_type": "markdown",
      "metadata": {
        "id": "waUwDZYU4pnA"
      },
      "source": [
        "**Aquí se multiplica M_frase por M_codigo a derecha, para encriptar el mensaje**"
      ]
    },
    {
      "cell_type": "markdown",
      "metadata": {
        "id": "7aHtN-vTE-FA"
      },
      "source": [
        ""
      ]
    },
    {
      "cell_type": "code",
      "metadata": {
        "colab": {
          "base_uri": "https://localhost:8080/"
        },
        "id": "gpxXFZaj4onC",
        "outputId": "4531039a-ef3e-48af-ae79-1fa7c899e8d4"
      },
      "source": [
        "Mensaje_E = M_frase @ M_codigo #Mensaje encriptado\n",
        "Codigo = M_codigo \n",
        "print(\"Su mensaje quedó guardado en el archivo Mensaje_E, y la llave en el archivo Codigo.\")"
      ],
      "execution_count": 142,
      "outputs": [
        {
          "output_type": "stream",
          "name": "stdout",
          "text": [
            "Su mensaje quedó guardada en el archivo Mensaje_E, y la llave en el archivo Codigo.\n"
          ]
        }
      ]
    },
    {
      "cell_type": "markdown",
      "metadata": {
        "id": "Q6W2q43MFAX-"
      },
      "source": [
        "---"
      ]
    },
    {
      "cell_type": "markdown",
      "metadata": {
        "id": "hTXKhMNDE6hZ"
      },
      "source": [
        "***DESENCRIPTACIÓN***"
      ]
    },
    {
      "cell_type": "markdown",
      "metadata": {
        "id": "qMgG6rRf7d4n"
      },
      "source": [
        "---\n"
      ]
    },
    {
      "cell_type": "markdown",
      "metadata": {
        "id": "uLfB2_P_7gPn"
      },
      "source": [
        "**Ahora este sería el programa que desencripta el mensaje, al cual se le ingresa el mensaje encriptado, y la llave.**"
      ]
    },
    {
      "cell_type": "markdown",
      "metadata": {
        "id": "6eqIbXn9FLlK"
      },
      "source": [
        "**Aquí el usuario ingresa el mensaje encriptado y la llave**"
      ]
    },
    {
      "cell_type": "code",
      "metadata": {
        "colab": {
          "base_uri": "https://localhost:8080/"
        },
        "id": "mRe9gUdV76_H",
        "outputId": "ae60ea78-5361-4ee5-fa8c-9dd634b1125a"
      },
      "source": [
        "msg = input(\"Ingrese la variable que contiene el mensaje encriptado:\\n\")\n",
        "code = input(\"Ingrese la llave:\\n\")"
      ],
      "execution_count": 131,
      "outputs": [
        {
          "name": "stdout",
          "output_type": "stream",
          "text": [
            "Ingrese la variable que contiene el mensaje encriptado:\n",
            "Mensaje_E\n",
            "Ingrese la llave:\n",
            "Codigo\n"
          ]
        }
      ]
    },
    {
      "cell_type": "markdown",
      "metadata": {
        "id": "0xVxn8HJIM2R"
      },
      "source": [
        "**Aquí se asegura de que el usuario haya ingresado los valores correctos, y se desencipta el mensaje**"
      ]
    },
    {
      "cell_type": "code",
      "metadata": {
        "colab": {
          "base_uri": "https://localhost:8080/"
        },
        "id": "CDeop6sZ5WLN",
        "outputId": "f1896a36-1966-41cc-9c03-87d14d8e0325"
      },
      "source": [
        "\n",
        "\n",
        "if code == \"Codigo\":       #Filtro para que se certifique que el usuario ingresó los datos correctos\n",
        "  if msg == \"Mensaje_E\":\n",
        "\n",
        "    Mensaje = Mensaje_E @ np.linalg.inv(Codigo)\n",
        "\n",
        "    i = 0\n",
        "    mensaje = \"Mensaje: \"\n",
        "    while i < len(M_codigo[0]): #Este ciclo itera cada columna\n",
        "\n",
        "      k = 0\n",
        "\n",
        "      while k < len(M_codigo[0]): #Este ciclo itera cada fila\n",
        "\n",
        "        Contador = round(Mensaje[i,k]) # Este ciclo itera cada fila\n",
        "\n",
        "        letra = abc[Contador - 1] # Al contador se le resta uno, pues para la lista \"abc\" el \"0\" es la \"A\", así que se debe hacer esta correción para que se interprete bien el mensaje\n",
        "\n",
        "        mensaje = mensaje + letra\n",
        "\n",
        "        k = k+1\n",
        "\n",
        "      i = i+1\n",
        "\n",
        "    print(mensaje)\n",
        "  else:\n",
        "    print(\"Error: Ha ingresado mal alguno de los datos, tenga en cuenta las mayusculas.\") \n",
        "else:\n",
        "  print(\"Error: Ha ingresado mal alguno de los datos, tenga en cuenta las mayusculas.\")"
      ],
      "execution_count": 132,
      "outputs": [
        {
          "output_type": "stream",
          "name": "stdout",
          "text": [
            "Mensaje: HOLA CÓMO ESTÁS 456                                                              \n"
          ]
        }
      ]
    }
  ]
}