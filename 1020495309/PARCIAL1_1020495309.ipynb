{
  "nbformat": 4,
  "nbformat_minor": 0,
  "metadata": {
    "colab": {
      "name": "PARCIAL1METODOS_1020495309",
      "provenance": [],
      "collapsed_sections": []
    },
    "kernelspec": {
      "name": "python3",
      "display_name": "Python 3"
    },
    "language_info": {
      "name": "python"
    }
  },
  "cells": [
    {
      "cell_type": "code",
      "metadata": {
        "id": "8bxFYhOEo3Yw"
      },
      "source": [
        "import numpy as np\n",
        "import pandas as pd\n",
        "import random\n",
        "import matplotlib.pyplot as plt\n",
        "from scipy import optimize\n",
        "from matplotlib import pyplot"
      ],
      "execution_count": 127,
      "outputs": []
    },
    {
      "cell_type": "markdown",
      "metadata": {
        "id": "T0541DCIMWi9"
      },
      "source": [
        "**PUNTO B**"
      ]
    },
    {
      "cell_type": "code",
      "metadata": {
        "colab": {
          "base_uri": "https://localhost:8080/"
        },
        "id": "rkm64SIepLqB",
        "outputId": "52154dbb-240c-4c9f-c89f-38f518983ecf"
      },
      "source": [
        "random.seed(1020495309)\n",
        "n = random.randrange(6) # NUMERO ALEATORIO ENTRE 1 y 5 (n = 5)\n",
        "k = random.randint(0,2) # NUMERO ENTRE 0 y 1 (k = 0)\n",
        "fx = lambda x: np.cos(x)/x + k\n",
        "raiz = optimize.bisect(fx,-10,10) # LA FUNCION SE HACE 0 EN (2n+1)*(pi/2)\n",
        "#COMO YA TENEMOS LA PRIMERA RAIZ PODEMOS OBTENER EL RESTO, SI LE RESTAMOS *pi cada vez\n"
      ],
      "execution_count": 123,
      "outputs": [
        {
          "output_type": "stream",
          "text": [
            "/usr/local/lib/python3.7/dist-packages/ipykernel_launcher.py:4: RuntimeWarning: divide by zero encountered in double_scalars\n",
            "  after removing the cwd from sys.path.\n"
          ],
          "name": "stderr"
        }
      ]
    },
    {
      "cell_type": "code",
      "metadata": {
        "colab": {
          "base_uri": "https://localhost:8080/",
          "height": 295
        },
        "id": "qOSA_2y0rSn7",
        "outputId": "ba74590a-bd3b-4b3e-9e54-e71168e26b54"
      },
      "source": [
        "#GRAFICO DE LA FUNCION Y SUS RAICES ENTRE -10,10\n",
        "x = np.arange(-10,10,0.1)\n",
        "y = np.cos(x)/x + k\n",
        "plt.plot(x,y)\n",
        "plt.xlabel('x')\n",
        "plt.ylabel('y')\n",
        "pyplot.plot(raiz, 0,\"ro\")\n",
        "pyplot.plot(raiz - np.pi , 0,\"ro\")\n",
        "pyplot.plot(raiz - 2*np.pi , 0,\"ro\")\n",
        "pyplot.plot(raiz - 3*np.pi , 0,\"ro\")\n",
        "pyplot.plot(raiz - 4*np.pi , 0,\"ro\")\n",
        "pyplot.plot(raiz - 5*np.pi , 0,\"ro\")\n",
        "pyplot.xlim(-10, 10)\n",
        "pyplot.ylim(-5, 5)\n",
        "plt.title('GRAFICO')\n",
        "plt.show()"
      ],
      "execution_count": 154,
      "outputs": [
        {
          "output_type": "display_data",
          "data": {
            "image/png": "[encoded data removed]",
            "text/plain": [
              "<Figure size 432x288 with 1 Axes>"
            ]
          },
          "metadata": {
            "needs_background": "light"
          }
        }
      ]
    },
    {
      "cell_type": "markdown",
      "metadata": {
        "id": "yte65VTy2JGx"
      },
      "source": [
        "**PUNTO A**"
      ]
    },
    {
      "cell_type": "code",
      "metadata": {
        "id": "bw2uVrqX2Ns1"
      },
      "source": [
        "#NUMERAL UNO\n",
        "df = pd.read_json(\"https://github.com/restrepo/anomaly/raw/main/solutions.json.gz\")\n",
        "df.insert(5,\"smax\",0)\n",
        "\n",
        "def abs_lista(lista): # FUNCION DEL VALOR ABSOLUTO PARA UNA LISTA\n",
        "  i = 0\n",
        "  lista_aux = lista\n",
        "  while i<len(lista):\n",
        "    lista_aux[i] = abs(lista_aux[i])\n",
        "    i = i+1\n",
        "  return lista_aux\n",
        "\n",
        "a = df.shape[0] #NUMERO DE FILAS\n",
        "i = 0\n",
        "while i < a: # SACAR EL MAXIMO DE CADA LISTA EN VALOR ABSOLUTO Y AÑADIRLOS A LA COLUMNA SMAX(5)\n",
        "  H = max(abs_lista(df.iat[i,2]))\n",
        "  df.iat[i,5] = H\n",
        "  i = i+1\n",
        "  "
      ],
      "execution_count": 132,
      "outputs": []
    },
    {
      "cell_type": "code",
      "metadata": {
        "id": "FMTFm1DSDS9l"
      },
      "source": [
        "#NUMERAL DOS\n",
        "df.insert(6,\"sum_s\",0)\n",
        "df.insert(7,\"sum_s3\",0)\n",
        "i = 0\n",
        "while i < n: # VALORES DE LA COLUMNA sums_s\n",
        "  H = sum(df.iat[i,2])\n",
        "  df.iat[i,6] = H\n",
        "  i = i+1\n",
        "df[\"sum_s3\"] = df[\"sum_s\"]**2 #VALORES DE LA COLUMNA sum_s3"
      ],
      "execution_count": 133,
      "outputs": []
    },
    {
      "cell_type": "code",
      "metadata": {
        "colab": {
          "base_uri": "https://localhost:8080/",
          "height": 283
        },
        "id": "La8y4uEsEZXM",
        "outputId": "ba424a86-7757-4ee2-fc6e-eafb7914b961"
      },
      "source": [
        "#NUMERAL TRES\n",
        "from numpy.polynomial import Polynomial as P\n",
        "random.seed(1020495309)\n",
        "Q = random.randrange(a)\n",
        "polinomio_list = df.iat[Q,2] #LISTA DE LOS COEFICIENTES DEL POLINOMIO\n",
        "polinomio = np.polynomial.Polynomial(polinomio_list) #EL POLINOMIO EN NUMPY\n",
        "raices_polinomio = p.roots(polinomio)\n",
        "gx = lambda x: polinomio\n",
        "#GRAFICO\n",
        "plt.plot()\n"
      ],
      "execution_count": 152,
      "outputs": [
        {
          "output_type": "execute_result",
          "data": {
            "text/plain": [
              "[]"
            ]
          },
          "metadata": {},
          "execution_count": 152
        },
        {
          "output_type": "display_data",
          "data": {
            "image/png": "[encoded data removed]",
            "text/plain": [
              "<Figure size 432x288 with 1 Axes>"
            ]
          },
          "metadata": {
            "needs_background": "light"
          }
        }
      ]
    },
    {
      "cell_type": "code",
      "metadata": {
        "colab": {
          "base_uri": "https://localhost:8080/"
        },
        "id": "2_Z1vIz_KBUf",
        "outputId": "ae830ab2-ae2b-4b03-b108-07e13c7ee981"
      },
      "source": [
        "type(polinomio)"
      ],
      "execution_count": 142,
      "outputs": [
        {
          "output_type": "execute_result",
          "data": {
            "text/plain": [
              "numpy.polynomial.polynomial.Polynomial"
            ]
          },
          "metadata": {},
          "execution_count": 142
        }
      ]
    }
  ]
}