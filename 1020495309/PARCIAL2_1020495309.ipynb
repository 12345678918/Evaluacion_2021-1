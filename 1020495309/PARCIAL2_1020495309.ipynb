{
  "nbformat": 4,
  "nbformat_minor": 0,
  "metadata": {
    "colab": {
      "name": "Examen2-Solucion",
      "provenance": [],
      "collapsed_sections": []
    },
    "kernelspec": {
      "name": "python3",
      "display_name": "Python 3"
    },
    "language_info": {
      "name": "python"
    }
  },
  "cells": [
    {
      "cell_type": "code",
      "metadata": {
        "id": "LWRGPnmplb1v"
      },
      "source": [
        "import numpy as np\n",
        "import pandas as pd\n",
        "import random\n",
        "import matplotlib.pyplot as plt\n",
        "from scipy import optimize\n",
        "from matplotlib import pyplot\n",
        "import sympy as sp\n",
        "from scipy import interpolate\n",
        "from scipy.optimize import minimize\n",
        "import scipy.optimize as opt\n",
        "import math\n",
        "import scipy.integrate as integrate\n",
        "from scipy.optimize import curve_fit"
      ],
      "execution_count": 108,
      "outputs": []
    },
    {
      "cell_type": "markdown",
      "metadata": {
        "id": "obtOstvZPRVT"
      },
      "source": [
        "**SAMUEL GIRALDO BUILES - 1020495309**"
      ]
    },
    {
      "cell_type": "markdown",
      "metadata": {
        "id": "taKrjsBy49_S"
      },
      "source": [
        "**NUMERAL A**"
      ]
    },
    {
      "cell_type": "code",
      "metadata": {
        "id": "aXqPrFv5lrtP"
      },
      "source": [
        "df = pd.read_json(\"https://raw.githubusercontent.com/restrepo/ComputationalMethods/master/data/Followers.json\")"
      ],
      "execution_count": 96,
      "outputs": []
    },
    {
      "cell_type": "code",
      "metadata": {
        "colab": {
          "base_uri": "https://localhost:8080/",
          "height": 591
        },
        "id": "t-15vAGKmA6S",
        "outputId": "60971c20-39a8-4eab-f31a-f6854463bdff"
      },
      "source": [
        "#FIT\n",
        "def caida(a0,v0,t):\n",
        "  return v0 + a0*t\n",
        "v = df[\"followers\"]/df[\"hours\"]\n",
        "\n",
        "res, cov = curve_fit(caida , df[\"hours\"][1:], v[1:] ) # \"res\" nos da los valores para \"v_i\", y para \"a_0\"\n",
        "x = np.linspace(0 , 100, 100)\n",
        "plt.figure()\n",
        "plt.plot(x,caida(3.64931416e+02,-2.65753530e-02,x),\"go\")\n",
        "plt.xlabel('Tiempo')\n",
        "plt.ylabel('Velocidad')\n",
        "plt.title('Caída libre (FIT)')\n",
        "\n",
        "#NUMERAL 1\n",
        "\n",
        "v_i = res[0] #Velocidad inicial [followers/hour]\n",
        "\n",
        "#NUMERAL 2\n",
        "\n",
        "a_0 = res[1] # Aceleración constante [followers/hour^2]\n",
        "\n",
        "#NUMERAL 3\n",
        "#Para calcular la cantidad máxima de followers primero debemos calcular \"x\", y para ello primero interpolaremos \"followers\",luego sacaremos su máximo\n",
        "H = np.polynomial.hermite.Hermite.fit(df[\"hours\"],df[\"followers\"],2) #Hermite Interpolation\n",
        "#Graficando la interpolacion para ver como ser comporta\n",
        "x = np.linspace(df[\"hours\"][0] , df[\"hours\"][-1:] , 100)\n",
        "plt.figure()\n",
        "plt.plot(x, H(x), \"ro\")\n",
        "plt.xlabel('hours')\n",
        "plt.ylabel('followers')\n",
        "plt.title('Interpolacion')"
      ],
      "execution_count": 115,
      "outputs": [
        {
          "output_type": "execute_result",
          "data": {
            "text/plain": [
              "Text(0.5, 1.0, 'Interpolacion')"
            ]
          },
          "metadata": {},
          "execution_count": 115
        },
        {
          "output_type": "display_data",
          "data": {
            "image/png": "[encoded data removed]",
            "text/plain": [
              "<Figure size 432x288 with 1 Axes>"
            ]
          },
          "metadata": {
            "needs_background": "light"
          }
        },
        {
          "output_type": "display_data",
          "data": {
            "image/png": "[encoded data removed]",
            "text/plain": [
              "<Figure size 432x288 with 1 Axes>"
            ]
          },
          "metadata": {
            "needs_background": "light"
          }
        }
      ]
    },
    {
      "cell_type": "code",
      "metadata": {
        "colab": {
          "base_uri": "https://localhost:8080/",
          "height": 332
        },
        "id": "vTafzvBHyzJ0",
        "outputId": "d46769eb-4193-4a8b-caf9-fe60b7071f2d"
      },
      "source": [
        "#Ahora calculemos su máximo\n",
        "maximo = optimize.minimize(-H,2)\n",
        "maximo = abs(maximo.fun)\n",
        "print(\"El máximo de seguidores sería:\", maximo,\",su parte entera sería:\",maximo//1)\n",
        "\n",
        "#Numeral 4\n",
        "#Miremos la grafica en el maximo\n",
        "x = np.linspace(df[\"hours\"][0] , 2000, 100)\n",
        "plt.plot(x, H(x), \"ro\")\n",
        "plt.grid\n",
        "plt.ylim(47000,50300)\n",
        "plt.xlabel('hours')\n",
        "plt.ylabel('followers')\n",
        "plt.title('Aumento para ver la hora en la que se alcanza el máximo')"
      ],
      "execution_count": 116,
      "outputs": [
        {
          "output_type": "stream",
          "name": "stdout",
          "text": [
            "El máximo de seguidores sería: 50262.13672786526 ,su parte entera sería: 50262.0\n"
          ]
        },
        {
          "output_type": "execute_result",
          "data": {
            "text/plain": [
              "Text(0.5, 1.0, 'Aumento para ver la hora en la que se alcanza el máximo')"
            ]
          },
          "metadata": {},
          "execution_count": 116
        },
        {
          "output_type": "display_data",
          "data": {
            "image/png": "[encoded data removed]",
            "text/plain": [
              "<Figure size 432x288 with 1 Axes>"
            ]
          },
          "metadata": {
            "needs_background": "light"
          }
        }
      ]
    },
    {
      "cell_type": "code",
      "metadata": {
        "colab": {
          "base_uri": "https://localhost:8080/"
        },
        "id": "mt5GaG4H16Ty",
        "outputId": "26207972-8634-48b7-8d9b-7bdc15ba5ff4"
      },
      "source": [
        "#Vemos que es aproximadamente en la hora 1750\n",
        "dia = 1750/24 # Estas horas en días\n",
        "#Así a la fecha cero (2021/08/04) le sumamos aproximadamente 73 días\n",
        "#La fecha sería (2021/10/16)\n"
      ],
      "execution_count": 84,
      "outputs": [
        {
          "output_type": "execute_result",
          "data": {
            "text/plain": [
              "72.91666666666667"
            ]
          },
          "metadata": {},
          "execution_count": 84
        }
      ]
    },
    {
      "cell_type": "markdown",
      "metadata": {
        "id": "rxYFfWZb44Sl"
      },
      "source": [
        "**NUMERAL B**"
      ]
    },
    {
      "cell_type": "code",
      "metadata": {
        "colab": {
          "base_uri": "https://localhost:8080/",
          "height": 352
        },
        "id": "uzbQv9qj4Wns",
        "outputId": "67562c7d-013c-44ff-ee0c-c04d2d14b7cf"
      },
      "source": [
        "#Numeral 1\n",
        "n = 0 #Variación del ángulo en grados\n",
        "rad = [] #Lista de angulos en radianes\n",
        "ang = [] #Lista de angulos en radianes\n",
        "t = [] #Lista de los valores de T/To\n",
        "while n <= 90:\n",
        "  a = math.radians(n)\n",
        "  func = lambda phi: 1/((1 - (np.sin(a/2)**2)*(np.sin(phi)**2))**(1/2))\n",
        "  integral = integrate.quadrature(func,0,np.pi/2)\n",
        "  T_To = 4*integral #T/To\n",
        "  rad.append(a) #Añadiendo valores a la lista de angulos en radianes\n",
        "  ang.append(n) #Anadiendo valores a la lista de angulos en grados\n",
        "  t.append(T_To[0]) # [0] Para que no tome el error de la integral\n",
        "  n = n+1\n",
        "print(t) # RESPUESTA AL NUMERAL 1\n",
        "#Numeral 2\n",
        "pf = pd.DataFrame({\"T/To\":t , \"Angulo(Grados)\":ang, \"Angulo(Radianes)\":rad})\n",
        "#Numeral 3\n",
        "plt.figure()\n",
        "plt.plot(pf[\"Angulo(Grados)\"],pf[\"T/To\"], \"go\")\n",
        "plt.xlabel('Alpha(Grados)')\n",
        "plt.ylabel('T/To')\n",
        "plt.title('T/To en funcion de Alpha(Grados)')\n",
        "#Numeral 4; no comprendo muy bien a que se refiere"
      ],
      "execution_count": 102,
      "outputs": [
        {
          "output_type": "stream",
          "name": "stdout",
          "text": [
            "[1.5707963267948966, 1.5708262331648322, 1.570915959771527, 1.5710655200080292, 1.5712749524890401, 1.5715442970721103, 1.5718736111058933, 1.5722629626287306, 1.572712434941228, 1.5732221219133953, 1.5737921307928342, 1.5744225816605408, 1.57511360750356, 1.5758653542956291, 1.5766779810859142, 1.5775516607762854, 1.5784865777048471, 1.579482931283389, 1.5805409339210672, 1.5816608116720685, 1.5828428043756602, 1.5840871658053677, 1.5853941638274833, 1.5867640805691152, 1.588197212596002, 1.5896938711003374, 1.591254382098856, 1.5928790866414546, 1.5945683410306386, 1.5963225170520954, 1.5981420022167203, 1.6000272000144407, 1.6019785301801885, 1.6039964289724227, 1.6060813494645847, 1.6082337618499298, 1.6104541537601784, 1.6127430305984605, 1.6151009158870575, 1.617528351630477, 1.6200258986944045, 1.622594137201135, 1.6252336669420997, 1.627945107808143, 1.6307291002382447, 1.6335863056874114, 1.6365174071145179, 1.6395231094908973, 1.6426041403305478, 1.6457612502428587, 1.648995213508811, 1.6523068286816645, 1.6556969192131925, 1.6591663429796757, 1.662715959023647, 1.6663466770505717, 1.6700594269395175, 1.673855167024685, 1.6777348849007436, 1.681699598263037, 1.6857503557843314, 1.6898882370118102, 1.6941143573428843, 1.698429863083564, 1.702835936383933, 1.7073337953698557, 1.711924695280007, 1.7166099296542496, 1.721390831576021, 1.7262687749715666, 1.731245175969028, 1.7363214943205938, 1.7414992348911211, 1.7467799492168645, 1.7521652371381855, 1.757656748510365, 1.763256184996929, 1.7689653019501947, 1.7747859103840427, 1.7807198790443024, 1.7867691365824818, 1.7929356738389857, 1.7992215462424048, 1.805628876331927, 1.812159853686674, 1.8188167483558666, 1.825601898237598, 1.8325177222887425, 1.839566668818334, 1.846751481457404, 1.8540746777336643]\n"
          ]
        },
        {
          "output_type": "execute_result",
          "data": {
            "text/plain": [
              "Text(0.5, 1.0, 'T/To en funcion de Alpha(Grados)')"
            ]
          },
          "metadata": {},
          "execution_count": 102
        },
        {
          "output_type": "display_data",
          "data": {
            "image/png": "[encoded data removed]",
            "text/plain": [
              "<Figure size 432x288 with 1 Axes>"
            ]
          },
          "metadata": {
            "needs_background": "light"
          }
        }
      ]
    },
    {
      "cell_type": "code",
      "metadata": {
        "colab": {
          "base_uri": "https://localhost:8080/",
          "height": 38
        },
        "id": "2WtaaLj8IHMr",
        "outputId": "63b79ca5-55ee-4e40-9c1a-b5736e3fa859"
      },
      "source": [
        "a"
      ],
      "execution_count": 100,
      "outputs": [
        {
          "output_type": "execute_result",
          "data": {
            "text/latex": "$x \\mapsto \\text{nan}\\,{H}_{0}(\\text{-1.0} + \\text{0.0028699006108217537}x) - \\text{nan}\\,{H}_{1}(\\text{-1.0} + \\text{0.0028699006108217537}x) - \\text{nan}\\,{H}_{2}(\\text{-1.0} + \\text{0.0028699006108217537}x)$",
            "text/plain": [
              "Hermite([nan, nan, nan], domain=[  0.      , 696.888245], window=[-1.,  1.])"
            ]
          },
          "metadata": {},
          "execution_count": 100
        }
      ]
    }
  ]
}