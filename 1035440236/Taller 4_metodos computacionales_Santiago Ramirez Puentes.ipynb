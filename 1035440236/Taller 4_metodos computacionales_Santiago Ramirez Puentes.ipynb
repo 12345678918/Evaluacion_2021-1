{
 "cells": [
  {
   "cell_type": "code",
   "execution_count": 9,
   "metadata": {},
   "outputs": [
    {
     "data": {
      "image/png": "[encoded data removed]",
      "text/plain": [
       "<Figure size 432x288 with 1 Axes>"
      ]
     },
     "metadata": {
      "needs_background": "light"
     },
     "output_type": "display_data"
    }
   ],
   "source": [
    "from matplotlib import animation, rc\n",
    "rc('animation', html='jshtml')\n",
    "import numpy as np\n",
    "from scipy import integrate\n",
    "from scipy import optimize\n",
    "import matplotlib.pylab as plt\n",
    "import matplotlib\n",
    "from scipy.optimize import brentq\n",
    "import time\n",
    "\n",
    "# Realizaremos el primer punto de nuestro taller usando cada metodo, podemos iniciar con el metodo de biseccion:\n",
    "# Primero tomamos los datos de nuestra funcion:\n",
    "# Primero graficaremos la funcion\n",
    "vo= 20 # MeV\n",
    "a=2 # fm\n",
    "m= 938 # MeV\n",
    "hbar=6.582e-10\n",
    "# Empezaremos a graficar\n",
    "E=np.linspace(1,10)\n",
    "F_E=np.sqrt( 2*m*(vo-np.absolute(E)))*(1/ (np.tan( np.sqrt( 2*m*(a**2)*(vo-np.absolute(E)))/hbar)))*np.sqrt(2*m*np.absolute(E))\n",
    "plt.xlim(0,2.5)\n",
    "\n",
    "plt.plot(E,F_E)\n",
    "# Apliquemos el metodo de biseccion:\n",
    "def funcion(E,vo,hbar,m):\n",
    "    F_E=np.sqrt( 2*m*(vo-np.absolute(E)))*(1/ (np.tan( np.sqrt( 2*m*(a**2)*(vo-np.absolute(E)))/hbar)))*np.sqrt(2*m*np.absolute(E))\n",
    "    \n",
    "a= 0.0\n",
    "b = 2.0\n",
    "Nmax = 20\n",
    "def f(E):\n",
    "    return np.sqrt( 2*m*(vo-np.absolute(E)))*(1/ (np.tan( np.sqrt( 2*m*(a**2)*(vo-np.absolute(E)))/hbar)))*np.sqrt(2*m*np.absolute(E))\n",
    "\n",
    "\n"
   ]
  },
  {
   "cell_type": "code",
   "execution_count": 5,
   "metadata": {},
   "outputs": [
    {
     "name": "stdout",
     "output_type": "stream",
     "text": [
      "La raiz que tenemos buscando con una semilla de -1 es -1.0002036705489306\n",
      "la segunda raiz que tenemos es 1.3892646620156484\n",
      "0.0\n",
      "tenemos que la raiz es 1.248724316399317\n"
     ]
    },
    {
     "data": {
      "image/png": "[encoded data removed]",
      "text/plain": [
       "<Figure size 432x288 with 1 Axes>"
      ]
     },
     "metadata": {
      "needs_background": "light"
     },
     "output_type": "display_data"
    }
   ],
   "source": [
    "def f(E):\n",
    "    vo= 20 # MeV\n",
    "    a=2 # fm\n",
    "    m= 938 # MeV\n",
    "    hbar=6.582e-10\n",
    "    return np.sqrt( 2*m*(vo-np.absolute(E)))*(1/ (np.tan( np.sqrt( 2*m*(a**2)*(vo-np.absolute(E)))/hbar)))*np.sqrt(2*m*np.absolute(E))\n",
    "\n",
    "vo= 20 # MeV\n",
    "a=2 # fm\n",
    "m= 938 # MeV\n",
    "hbar=6.582e-10\n",
    "# Empezaremos a graficar\n",
    "E=np.linspace(1,10)\n",
    "F_E=np.sqrt( 2*m*(vo-np.absolute(E)))*(1/ (np.tan( np.sqrt( 2*m*(a**2)*(vo-np.absolute(E)))/hbar)))*np.sqrt(2*m*np.absolute(E))\n",
    "plt.plot(E,F_E)\n",
    "plt.xlim(0,2.5)\n",
    "\n",
    "\n",
    "root1=optimize.newton(f,-1)\n",
    "print(\"La raiz que tenemos buscando con una semilla de -1 es\",root1)   # Tenemos el metodo de newton\n",
    "\n",
    "root1=optimize.bisect( f, a=1, b=4)\n",
    "print(\"la segunda raiz que tenemos es\",root1) # Tenemos el metodo de biseccion.\n",
    "f(-1.0002036705489306)\n",
    "def g(E):\n",
    "    return E-f(E)\n",
    "root3=optimize.fixed_point(g,0)   # Metodo del punto fijo.\n",
    "print(root3)   # Nuestra otra raiz...\n",
    "root = optimize.brentq(f, a=1, b=4)\n",
    "print(\"tenemos que la raiz es\",root)\n"
   ]
  },
  {
   "cell_type": "code",
   "execution_count": 3,
   "metadata": {},
   "outputs": [],
   "source": []
  },
  {
   "cell_type": "code",
   "execution_count": 3,
   "metadata": {},
   "outputs": [
    {
     "name": "stdout",
     "output_type": "stream",
     "text": [
      "la solucion es: 0.311\n",
      "se encontro en: 2 iteraciones\n",
      " con un error relativo de: 3.575%\n"
     ]
    }
   ],
   "source": [
    "# Punto numero 2:\n",
    "# Falsa posicion:\n",
    "def falsaposicion(funcion,xi,xf,iteraciones=1000,error=0.001): # Definimos nuestra funcion de falsapocicion\n",
    "    # Variables, nuestras variables sera\n",
    "    solucion= None \n",
    "    contador=0 # Inicializamos nuestro contador desde cero.\n",
    "    error_calculado=101\n",
    "    if funcion(xi)*funcion(xf)<=0:\n",
    "        # Procedemos con la solucion\n",
    "        while contador<= iteraciones and error_calculado >= error:\n",
    "            contador=contador+1\n",
    "            solucion=xf-((funcion(xf)*(xf-xi)) /(funcion(xf) - funcion(xi))) # Nuestra solucion tendra esta formula.\n",
    "            error_calculado=abs((solucion-xi)/solucion)*10 # Calculamos nuestro error\n",
    "            # Definimos el nuevo intervalo\n",
    "            if funcion(xi)*funcion(solucion)>=0: # Ponemos nuestra condicion que debe de ser mayor que cero\n",
    "                xi=solucion\n",
    "            else:\n",
    "                xf=solucion\n",
    "        print(\"la solucion es: {:.3f}\".format(solucion)) # Imprimimos nuestro resultado\n",
    "        print(\"se encontro en:\",contador,'iteraciones') # Imprimimos el numero de interaciones\n",
    "        print(' con un error relativo de: {:.3f}'.format(error_calculado) + '%'  ) # Imprimos nuestro error relativo.\n",
    "    else:\n",
    "        print(\" No existe la solucion\")\n",
    "falsaposicion(lambda x: 4*x**4-9*x**2+1,0,1,5,5) # Llamamos nuestra funcion falsaposicion        \n",
    "        \n",
    "\n",
    "\n",
    "\n",
    "\n",
    "\n",
    "\n",
    "\n",
    "\n"
   ]
  },
  {
   "cell_type": "code",
   "execution_count": null,
   "metadata": {},
   "outputs": [],
   "source": []
  },
  {
   "cell_type": "code",
   "execution_count": 71,
   "metadata": {},
   "outputs": [],
   "source": [
    "# Punto numero tres:\n",
    "# Definimos los siguientes valores.\n",
    "#Excentricidad\n",
    "eps = 0.5\n",
    "a = 35900e3 # Semi-eje mayor.\n",
    "GC = 6.67384e-11 # Constante gravitacional de newton.\n",
    "Me = 5.972e24 # Masa de la tierra\n",
    "b = a*(1-eps**2.0)**0.5 # Semi-eje menor calculo.\n",
    "#Mean motion\n",
    "n = ( GC*Me/a**3.0 )**0.5 # tenemos nuestra anomalia media\n",
    "HR2SC = 3600. # Equivalencia de una hora en segundos.\n",
    "t0 = 0*HR2SC # Tiempo inicial\n",
    "tf = 5*HR2SC # Tiempo final\n",
    "\n",
    "tstep = 0.25*HR2SC\n",
    "Niter = 56 # Numero de iteraciones que tenemos\n",
    "a0 = -10 # intervalo generado desde -10 a 10\n",
    "b0 = 10 # Intervalo.\n",
    "def kepler( E ): # Definimos nuestra funcion la cual es la ecuacion de kepler.\n",
    "    func = E - eps*np.sin(E) - n*t\n",
    "    return func\n",
    "def r(E):\n",
    "    x = a*(np.cos(E)-eps)\n",
    "    y = b*np.sin(E)\n",
    "    return [x/1.e3, y/1.e3]"
   ]
  },
  {
   "cell_type": "code",
   "execution_count": 72,
   "metadata": {},
   "outputs": [
    {
     "name": "stdout",
     "output_type": "stream",
     "text": [
      "In 0.000000 horas, el satelite esta localizado (17950.000000,0.000000) km\n",
      "In 0.250000 horas, el satelite esta localizado (17454.741542,5146.426647) km\n",
      "In 0.500000 horas, el satelite esta localizado (16033.097675,10023.437750) km\n",
      "In 0.750000 horas, el satelite esta localizado (13848.847528,14430.262364) km\n",
      "In 1.000000 horas, el satelite esta localizado (11104.379909,18261.701894) km\n",
      "In 1.250000 horas, el satelite esta localizado (7989.437466,21493.410338) km\n",
      "In 1.500000 horas, el satelite esta localizado (4657.168469,24151.489610) km\n",
      "In 1.750000 horas, el satelite esta localizado (1221.066166,26286.121177) km\n",
      "In 2.000000 horas, el satelite esta localizado (-2238.747501,27954.872718) km\n",
      "In 2.250000 horas, el satelite esta localizado (-5667.264143,29214.008624) km\n",
      "In 2.500000 horas, el satelite esta localizado (-9027.373695,30114.739827) km\n",
      "In 2.750000 horas, el satelite esta localizado (-12294.392344,30702.085866) km\n",
      "In 3.000000 horas, el satelite esta localizado (-15452.164136,31014.965936) km\n",
      "In 3.250000 horas, el satelite esta localizado (-18490.361033,31086.789919) km\n",
      "In 3.500000 horas, el satelite esta localizado (-21402.633716,30946.195086) km\n",
      "In 3.750000 horas, el satelite esta localizado (-24185.347784,30617.769816) km\n",
      "In 4.000000 horas, el satelite esta localizado (-26836.717825,30122.702148) km\n",
      "In 4.250000 horas, el satelite esta localizado (-29356.211228,29479.336137) km\n",
      "In 4.500000 horas, el satelite esta localizado (-31744.135350,28703.638662) km\n",
      "In 4.750000 horas, el satelite esta localizado (-34001.350021,27809.586870) km\n"
     ]
    },
    {
     "data": {
      "text/plain": [
       "Text(0, 0.5, 'coordenada en km [km]')"
      ]
     },
     "execution_count": 72,
     "metadata": {},
     "output_type": "execute_result"
    },
    {
     "data": {
      "image/png": "[encoded data removed]",
      "text/plain": [
       "<Figure size 432x288 with 1 Axes>"
      ]
     },
     "metadata": {
      "needs_background": "light"
     },
     "output_type": "display_data"
    }
   ],
   "source": [
    "\n",
    "times = np.arange( t0, tf, tstep ) # Damos el intervalo de nuestro tiempo.\n",
    "rpos = [] # Inicializamos la lista donde vamos a ir contanto nuestro tiempo.\n",
    "for t in times:\n",
    "    E = optimize.bisect( kepler, a0, b0 ) # Aplicamos el metodo de biseccion para hallar nuestros ceros.\n",
    "    ri = r(E) # Evaluamos la funcion\n",
    "    print (\"In %f horas, el satelite esta localizado (%f,%f) km\"%(t/HR2SC, ri[0], ri[1]) )\n",
    "    rpos.append( ri )\n",
    "rpos = np.array(rpos)    \n",
    "plt.plot( rpos[:,0], rpos[:,1], \"o-\", color=\"blue\", lw = 2 )\n",
    "plt.grid(True)\n",
    "plt.xlabel(\" cordenada en km [km]\")\n",
    "plt.ylabel(\"coordenada en km [km]\")"
   ]
  },
  {
   "cell_type": "code",
   "execution_count": null,
   "metadata": {},
   "outputs": [],
   "source": []
  },
  {
   "cell_type": "code",
   "execution_count": null,
   "metadata": {},
   "outputs": [],
   "source": []
  }
 ],
 "metadata": {
  "kernelspec": {
   "display_name": "Python 3",
   "language": "python",
   "name": "python3"
  },
  "language_info": {
   "codemirror_mode": {
    "name": "ipython",
    "version": 3
   },
   "file_extension": ".py",
   "mimetype": "text/x-python",
   "name": "python",
   "nbconvert_exporter": "python",
   "pygments_lexer": "ipython3",
   "version": "3.8.5"
  }
 },
 "nbformat": 4,
 "nbformat_minor": 4
}
