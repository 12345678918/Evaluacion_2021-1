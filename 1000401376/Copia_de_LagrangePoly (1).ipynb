{
  "nbformat": 4,
  "nbformat_minor": 0,
  "metadata": {
    "colab": {
      "name": "Copia de LagrangePoly.ipynb",
      "provenance": [],
      "collapsed_sections": []
    },
    "kernelspec": {
      "display_name": "Python 3",
      "language": "python",
      "name": "python3"
    },
    "language_info": {
      "codemirror_mode": {
        "name": "ipython",
        "version": 3
      },
      "file_extension": ".py",
      "mimetype": "text/x-python",
      "name": "python",
      "nbconvert_exporter": "python",
      "pygments_lexer": "ipython3",
      "version": "3.7.3"
    }
  },
  "cells": [
    {
      "cell_type": "markdown",
      "metadata": {
        "id": "g7Iz90k56MsP"
      },
      "source": [
        "# Interpolation polynomial in the Lagrange form\n",
        "<a href=\"https://colab.research.google.com/github/restrepo/ComputationalMethods/blob/master/material/LagrangePoly.ipynb\" target=\"_parent\"><img src=\"https://colab.research.google.com/assets/colab-badge.svg\" alt=\"Open In Colab\"/></a>\n",
        "\n",
        "Based on [this code](https://gist.github.com/folkertdev/084c53887c49a6248839)\n",
        "\n",
        "$$f(x)\\approx P_n(x)\\,,$$\n",
        "\n",
        "$$P_n(x) = \\sum_{i=0}^n f(x_i)L_{n,i}(x) = \\sum_{i=0}^n y_iL_{n,i}(x)$$\n",
        "\n",
        "**References:**\n",
        "[Wikipedia](https://en.wikipedia.org/wiki/Lagrange_polynomial)"
      ]
    },
    {
      "cell_type": "markdown",
      "metadata": {
        "id": "xYmS1wzh-hZL"
      },
      "source": [
        "### We will use SymPy"
      ]
    },
    {
      "cell_type": "code",
      "metadata": {
        "id": "kF5mBh2q-mMs"
      },
      "source": [
        "from sympy import simplify, symbols, expand, factor, sin, cos #..., lambdify, solve_poly_system"
      ],
      "execution_count": 109,
      "outputs": []
    },
    {
      "cell_type": "code",
      "metadata": {
        "colab": {
          "base_uri": "https://localhost:8080/",
          "height": 51
        },
        "id": "ht5AYUK2L4-r",
        "outputId": "8758d8bd-e597-4536-c22a-b6d95de8cf54"
      },
      "source": [
        "simplify('2/3+5/6')"
      ],
      "execution_count": 110,
      "outputs": [
        {
          "output_type": "execute_result",
          "data": {
            "text/latex": "$\\displaystyle \\frac{3}{2}$",
            "text/plain": [
              "3/2"
            ]
          },
          "metadata": {
            "tags": []
          },
          "execution_count": 110
        }
      ]
    },
    {
      "cell_type": "code",
      "metadata": {
        "colab": {
          "base_uri": "https://localhost:8080/",
          "height": 36
        },
        "id": "grYmSnH2L3O8",
        "outputId": "5d379130-3b35-46f3-b7a3-542db1cfb448"
      },
      "source": [
        "x = symbols('x')\n",
        "expand('(x-1)*(x+1)')"
      ],
      "execution_count": 111,
      "outputs": [
        {
          "output_type": "execute_result",
          "data": {
            "text/latex": "$\\displaystyle x^{2} - 1$",
            "text/plain": [
              "x**2 - 1"
            ]
          },
          "metadata": {
            "tags": []
          },
          "execution_count": 111
        }
      ]
    },
    {
      "cell_type": "code",
      "metadata": {
        "colab": {
          "base_uri": "https://localhost:8080/",
          "height": 37
        },
        "id": "2N6pf_oOMRv5",
        "outputId": "b3fc5b5a-6c95-468d-a50b-b6ccc9678b18"
      },
      "source": [
        "factor('x**2-1')"
      ],
      "execution_count": 112,
      "outputs": [
        {
          "output_type": "execute_result",
          "data": {
            "text/latex": "$\\displaystyle \\left(x - 1\\right) \\left(x + 1\\right)$",
            "text/plain": [
              "(x - 1)*(x + 1)"
            ]
          },
          "metadata": {
            "tags": []
          },
          "execution_count": 112
        }
      ]
    },
    {
      "cell_type": "code",
      "metadata": {
        "id": "M2SWdB5RMwdA"
      },
      "source": [
        "x=symbols('x')"
      ],
      "execution_count": 113,
      "outputs": []
    },
    {
      "cell_type": "markdown",
      "metadata": {
        "id": "IXPmsm0IcFl6"
      },
      "source": [
        "##  Implementation of the Lagrange interpolating polynomials and  Lagrange polynomials in SymPy"
      ]
    },
    {
      "cell_type": "code",
      "metadata": {
        "colab": {
          "base_uri": "https://localhost:8080/"
        },
        "id": "edG_qX0U6MsR",
        "outputId": "2c6deec6-9837-4dce-be39-657604a8e435"
      },
      "source": [
        "%%writefile LagrangePolynomial.py\n",
        "\"\"\"\n",
        "From: https://gist.github.com/folkertdev/084c53887c49a6248839\n",
        "A sympy-based Lagrange polynomial constructor. \n",
        "\n",
        "Implementation of Lagrangian interpolating polynomial.\n",
        "See:\n",
        "\n",
        "   def lagrangePolynomial(xs, ys):\n",
        "\n",
        "Given two 1-D arrays `xs` and `ys,` returns the Lagrange interpolating\n",
        "polynomial through the points ``(xs, ys)``\n",
        "\n",
        "\n",
        "Given a set 1-D arrays of inputs and outputs, the lagrangePolynomial function \n",
        "will construct an expression that for every input gives the corresponding output. \n",
        "For intermediate values, the polynomial interpolates (giving varying results \n",
        "based  on the shape of your input). \n",
        "\n",
        "The Lagrangian polynomials can be obtained explicitly with (see below):\n",
        "   \n",
        "   def polyL(xs,j):\n",
        "   \n",
        "as sympy polynomial, and \n",
        "\n",
        "    def L(xs,j):\n",
        "\n",
        "as Python functions.\n",
        "\n",
        "\n",
        "This is useful when the result needs to be used outside of Python, because the \n",
        "expression can easily be copied. To convert the expression to a python function \n",
        "object, use sympy.lambdify.\n",
        "\"\"\"\n",
        "from sympy import symbols, expand, lambdify, solve_poly_system\n",
        "#Python library for arithmetic with arbitrary precision\n",
        "from mpmath import tan, e\n",
        "\n",
        "import math\n",
        "\n",
        "from operator import mul\n",
        "from functools import reduce, lru_cache\n",
        "from itertools import chain\n",
        "\n",
        "# sympy symbols\n",
        "x = symbols('x')\n",
        "\n",
        "# convenience functions\n",
        "product = lambda *args: reduce(mul, *(list(args) + [1]))\n",
        "\n",
        "# test data\n",
        "labels = [(-3/2), (-3/4), 0, 3/4, 3/2]\n",
        "points = [math.tan(v) for v in labels]\n",
        "\n",
        "# this product may be reusable (when creating many functions on the same domain)\n",
        "# therefore, cache the result\n",
        "@lru_cache(16)\n",
        "def l(labels, j):\n",
        "    def gen(labels, j):\n",
        "        k = len(labels)\n",
        "        current = labels[j]\n",
        "        for m in labels:\n",
        "            if m == current:\n",
        "                continue\n",
        "            yield (x - m) / (current - m)\n",
        "    return expand(product(gen(labels, j)))\n",
        "\n",
        "def polyL(xs,j):\n",
        "    '''\n",
        "    Lagrange polynomials as sympy polynomial\n",
        "    xs: the n+1 nodes of the intepolation polynomial in the Lagrange Form\n",
        "    j: Is the j-th Lagrange polinomial for the specific xs.\n",
        "    '''\n",
        "    xs=tuple(xs)\n",
        "    return l(xs,j)\n",
        "\n",
        "def L(xs,j):\n",
        "    '''\n",
        "    Lagrange polynomials as python function\n",
        "    xs: the n+1 nodes of the intepolation polynomial in the Lagrange Form\n",
        "    j: Is the j-th Lagrange polinomial for the specific xs.\n",
        "    '''\n",
        "    return lambdify(x, polyL(xs,j) )\n",
        "\n",
        "def lagrangePolynomial(xs, ys):\n",
        "    '''\n",
        "    Given two 1-D arrays `x` and `w,` returns the Lagrange interpolating\n",
        "    polynomial through the points ``(x, w)``.\n",
        "\n",
        "    '''\n",
        "    # based on https://en.wikipedia.org/wiki/Lagrange_polynomial#Example_1\n",
        "    k = len(xs)\n",
        "    total = 0\n",
        "\n",
        "    # use tuple, needs to be hashable to cache\n",
        "    xs = tuple(xs)\n",
        "\n",
        "    for j, current in enumerate(ys):\n",
        "        t = current * l(xs, j)\n",
        "        total += t\n",
        "\n",
        "    return total\n",
        "\n",
        "\n",
        "\n",
        "\n",
        "def x_intersections(function, *args):\n",
        "    \"Finds all x for which function(x) = 0\"\n",
        "    # solve_poly_system seems more efficient than solve for larger expressions\n",
        "    return [var for var in chain.from_iterable(solve_poly_system([function], *args)) if (var.is_real)]\n",
        "\n",
        "def x_scale(function, factor):\n",
        "    \"Scale function on the x-axis\"\n",
        "    return functions.subs(x, x / factor)\n",
        "\n",
        "if __name__ == '__main__':\n",
        "    func = lagrangePolynomial(labels, points)\n",
        "\n",
        "    pyfunc = lambdify(x, func)\n",
        "\n",
        "    for a, b in zip(labels, points):\n",
        "        assert(pyfunc(a) - b < 1e-6)"
      ],
      "execution_count": 114,
      "outputs": [
        {
          "output_type": "stream",
          "text": [
            "Overwriting LagrangePolynomial.py\n"
          ],
          "name": "stdout"
        }
      ]
    },
    {
      "cell_type": "code",
      "metadata": {
        "colab": {
          "base_uri": "https://localhost:8080/"
        },
        "id": "a8hIn20o6MsW",
        "outputId": "d0c63d4b-50fd-4735-8e31-37af93af1122"
      },
      "source": [
        "%pylab inline\n",
        "import pandas as pd\n",
        "import numpy as np\n",
        "import LagrangePolynomial as LP\n",
        "from scipy import interpolate"
      ],
      "execution_count": 115,
      "outputs": [
        {
          "output_type": "stream",
          "text": [
            "Populating the interactive namespace from numpy and matplotlib\n"
          ],
          "name": "stdout"
        },
        {
          "output_type": "stream",
          "text": [
            "/usr/local/lib/python3.7/dist-packages/IPython/core/magics/pylab.py:161: UserWarning: pylab import has clobbered these variables: ['cos', 'sin']\n",
            "`%matplotlib` prevents importing * from pylab and numpy\n",
            "  \"\\n`%matplotlib` prevents importing * from pylab and numpy\"\n"
          ],
          "name": "stderr"
        }
      ]
    },
    {
      "cell_type": "markdown",
      "metadata": {
        "id": "9hay33SU6MsZ"
      },
      "source": [
        "## Example of interpolation of tree points with a polynomial of degree 2"
      ]
    },
    {
      "cell_type": "code",
      "metadata": {
        "colab": {
          "base_uri": "https://localhost:8080/",
          "height": 137
        },
        "id": "XIUK3AHE6Msb",
        "outputId": "f4e987c5-ff64-4fc5-8321-04fe5e37e34e"
      },
      "source": [
        "df=pd.DataFrame({ 'X':[3,10,21.3],'Y':[8.,6.5,3.]}  )\n",
        "df"
      ],
      "execution_count": 116,
      "outputs": [
        {
          "output_type": "execute_result",
          "data": {
            "text/html": [
              "<div>\n",
              "<style scoped>\n",
              "    .dataframe tbody tr th:only-of-type {\n",
              "        vertical-align: middle;\n",
              "    }\n",
              "\n",
              "    .dataframe tbody tr th {\n",
              "        vertical-align: top;\n",
              "    }\n",
              "\n",
              "    .dataframe thead th {\n",
              "        text-align: right;\n",
              "    }\n",
              "</style>\n",
              "<table border=\"1\" class=\"dataframe\">\n",
              "  <thead>\n",
              "    <tr style=\"text-align: right;\">\n",
              "      <th></th>\n",
              "      <th>X</th>\n",
              "      <th>Y</th>\n",
              "    </tr>\n",
              "  </thead>\n",
              "  <tbody>\n",
              "    <tr>\n",
              "      <th>0</th>\n",
              "      <td>3.0</td>\n",
              "      <td>8.0</td>\n",
              "    </tr>\n",
              "    <tr>\n",
              "      <th>1</th>\n",
              "      <td>10.0</td>\n",
              "      <td>6.5</td>\n",
              "    </tr>\n",
              "    <tr>\n",
              "      <th>2</th>\n",
              "      <td>21.3</td>\n",
              "      <td>3.0</td>\n",
              "    </tr>\n",
              "  </tbody>\n",
              "</table>\n",
              "</div>"
            ],
            "text/plain": [
              "      X    Y\n",
              "0   3.0  8.0\n",
              "1  10.0  6.5\n",
              "2  21.3  3.0"
            ]
          },
          "metadata": {
            "tags": []
          },
          "execution_count": 116
        }
      ]
    },
    {
      "cell_type": "markdown",
      "metadata": {
        "id": "BdwRAGHJ6Msd"
      },
      "source": [
        "### `Numpy` implementation:"
      ]
    },
    {
      "cell_type": "code",
      "metadata": {
        "colab": {
          "base_uri": "https://localhost:8080/",
          "height": 304
        },
        "id": "WmBQnOFN6Mse",
        "outputId": "86b83e5f-dde5-44ae-d465-72b901bca7e2"
      },
      "source": [
        "coeffs=np.polyfit(df.X,df.Y,deg=2)\n",
        "\n",
        "P=np.poly1d(coeffs)\n",
        "plt.plot(df.X,df.Y,'ro')\n",
        "x=np.linspace(-8,30)\n",
        "plt.plot(x,P( x),'b-')\n",
        "#plt.grid()\n",
        "plt.ylim(0,12)\n",
        "\n",
        "print(np.poly1d(coeffs))"
      ],
      "execution_count": 117,
      "outputs": [
        {
          "output_type": "stream",
          "text": [
            "           2\n",
            "-0.005216 x - 0.1465 x + 8.486\n"
          ],
          "name": "stdout"
        },
        {
          "output_type": "display_data",
          "data": {
            "image/png": "[encoded data removed]",
            "text/plain": [
              "<Figure size 432x288 with 1 Axes>"
            ]
          },
          "metadata": {
            "tags": [],
            "needs_background": "light"
          }
        }
      ]
    },
    {
      "cell_type": "markdown",
      "metadata": {
        "id": "Vzok9x4q6Msi"
      },
      "source": [
        "### `Scipy` implementation of the Interpolation polynomial in the Lagrange form"
      ]
    },
    {
      "cell_type": "code",
      "metadata": {
        "id": "YyFwK_zYPA7S"
      },
      "source": [
        "interpolate.lagrange?"
      ],
      "execution_count": 118,
      "outputs": []
    },
    {
      "cell_type": "code",
      "metadata": {
        "colab": {
          "base_uri": "https://localhost:8080/"
        },
        "id": "RNkOXO3U6Msi",
        "outputId": "d142461c-287f-4b56-a47e-0e0d061728a9"
      },
      "source": [
        "P=interpolate.lagrange(df.X,df.Y)\n",
        "print(P)"
      ],
      "execution_count": 119,
      "outputs": [
        {
          "output_type": "stream",
          "text": [
            "           2\n",
            "-0.005216 x - 0.1465 x + 8.486\n"
          ],
          "name": "stdout"
        }
      ]
    },
    {
      "cell_type": "markdown",
      "metadata": {
        "id": "HPev6_vt6Mso"
      },
      "source": [
        "### `Sympy` implementation of the Interpolation polynomial in the Lagrange form"
      ]
    },
    {
      "cell_type": "code",
      "metadata": {
        "colab": {
          "base_uri": "https://localhost:8080/",
          "height": 37
        },
        "id": "A9HnVoq66Msp",
        "outputId": "b56df02b-8b4b-474e-c281-71b3e2945c9c"
      },
      "source": [
        "LP.lagrangePolynomial(df.X,df.Y)"
      ],
      "execution_count": 120,
      "outputs": [
        {
          "output_type": "execute_result",
          "data": {
            "text/latex": "$\\displaystyle - 0.00521578136549848 x^{2} - 0.146480556534234 x + 8.48638370189219$",
            "text/plain": [
              "-0.00521578136549848*x**2 - 0.146480556534234*x + 8.48638370189219"
            ]
          },
          "metadata": {
            "tags": []
          },
          "execution_count": 120
        }
      ]
    },
    {
      "cell_type": "markdown",
      "metadata": {
        "id": "I6NkvQE_6Mst"
      },
      "source": [
        "With this simpy implementation we can check expliclty that:\n",
        "$$P_2(x) =  L_{2,0}(x)f(x_0)+L_{2,1}(x)f(x_1)+L_{2,2}(x)f(x_2)$$"
      ]
    },
    {
      "cell_type": "markdown",
      "metadata": {
        "id": "qoMgEkhQ6Mst"
      },
      "source": [
        "a) By using `sympy` polynomials:  `LP.polyL`:"
      ]
    },
    {
      "cell_type": "code",
      "metadata": {
        "colab": {
          "base_uri": "https://localhost:8080/",
          "height": 37
        },
        "id": "LpV8NsAK6Msx",
        "outputId": "9dcd1a1a-69af-414c-850b-b44903ec2282"
      },
      "source": [
        "LP.polyL( df.X,0)*df.Y[0]+LP.polyL( df.X,1)*df.Y[1]+LP.polyL( df.X,2)*df.Y[2]"
      ],
      "execution_count": 121,
      "outputs": [
        {
          "output_type": "execute_result",
          "data": {
            "text/latex": "$\\displaystyle - 0.00521578136549848 x^{2} - 0.146480556534234 x + 8.48638370189219$",
            "text/plain": [
              "-0.00521578136549848*x**2 - 0.146480556534234*x + 8.48638370189219"
            ]
          },
          "metadata": {
            "tags": []
          },
          "execution_count": 121
        }
      ]
    },
    {
      "cell_type": "code",
      "metadata": {
        "colab": {
          "base_uri": "https://localhost:8080/",
          "height": 37
        },
        "id": "nYd7rBzxCI9r",
        "outputId": "8c521cdb-206d-4514-8bff-ff7e06f73e1f"
      },
      "source": [
        "LP.polyL( df.X,0)"
      ],
      "execution_count": 122,
      "outputs": [
        {
          "output_type": "execute_result",
          "data": {
            "text/latex": "$\\displaystyle 0.0078064012490242 x^{2} - 0.244340359094457 x + 1.66276346604215$",
            "text/plain": [
              "0.0078064012490242*x**2 - 0.244340359094457*x + 1.66276346604215"
            ]
          },
          "metadata": {
            "tags": []
          },
          "execution_count": 122
        }
      ]
    },
    {
      "cell_type": "markdown",
      "metadata": {
        "id": "sUh2LNo76Ms0"
      },
      "source": [
        "As a function"
      ]
    },
    {
      "cell_type": "code",
      "metadata": {
        "id": "upfcBNKG6Ms1"
      },
      "source": [
        "def P_2(x,xs,ys):\n",
        "    return LP.L(xs,0)(x)*ys[0]+LP.L(xs,1)(x)*ys[1]+LP.L( xs,2)(x)*ys[2]"
      ],
      "execution_count": 123,
      "outputs": []
    },
    {
      "cell_type": "code",
      "metadata": {
        "colab": {
          "base_uri": "https://localhost:8080/",
          "height": 286
        },
        "id": "3qEo2_Z36Ms5",
        "outputId": "3094f4d8-44f5-4fcd-9603-186206ea577e"
      },
      "source": [
        "plt.plot(df.X,df.Y,'ro')\n",
        "x=np.linspace(-8,30)\n",
        "plt.plot(x,P_2( x,df.X,df.Y),'b-')\n",
        "#plt.grid()\n",
        "plt.ylim(0,12)"
      ],
      "execution_count": 124,
      "outputs": [
        {
          "output_type": "execute_result",
          "data": {
            "text/plain": [
              "(0.0, 12.0)"
            ]
          },
          "metadata": {
            "tags": []
          },
          "execution_count": 124
        },
        {
          "output_type": "display_data",
          "data": {
            "image/png": "[encoded data removed]",
            "text/plain": [
              "<Figure size 432x288 with 1 Axes>"
            ]
          },
          "metadata": {
            "tags": [],
            "needs_background": "light"
          }
        }
      ]
    },
    {
      "cell_type": "markdown",
      "metadata": {
        "id": "kuQ67AD36Ms7"
      },
      "source": [
        "## Lagrange polynomial properties\n",
        "$$L_{n,i}(x_i) = 1\\,,\\qquad\\text{and}\\,,\\qquad L_{n,i}(x_j) = 0\\quad\\text{for $i\\neq j$}$$ "
      ]
    },
    {
      "cell_type": "markdown",
      "metadata": {
        "id": "sm3yMzd16Ms8"
      },
      "source": [
        "As `sympy` objects"
      ]
    },
    {
      "cell_type": "code",
      "metadata": {
        "colab": {
          "base_uri": "https://localhost:8080/",
          "height": 37
        },
        "id": "d75g4LLQ6Ms_",
        "outputId": "9dd9f573-a01d-4de3-d23d-3558b3eed87c"
      },
      "source": [
        "L2_0=LP.polyL(df.X,0)\n",
        "L2_0"
      ],
      "execution_count": 125,
      "outputs": [
        {
          "output_type": "execute_result",
          "data": {
            "text/latex": "$\\displaystyle 0.0078064012490242 x^{2} - 0.244340359094457 x + 1.66276346604215$",
            "text/plain": [
              "0.0078064012490242*x**2 - 0.244340359094457*x + 1.66276346604215"
            ]
          },
          "metadata": {
            "tags": []
          },
          "execution_count": 125
        }
      ]
    },
    {
      "cell_type": "code",
      "metadata": {
        "colab": {
          "base_uri": "https://localhost:8080/",
          "height": 38
        },
        "id": "OiKXcs4E3kVc",
        "outputId": "db77228f-24b6-4154-8a27-a2a2c97e21de"
      },
      "source": [
        "L2_0.as_poly()"
      ],
      "execution_count": 126,
      "outputs": [
        {
          "output_type": "execute_result",
          "data": {
            "text/latex": "$\\displaystyle \\operatorname{Poly}{\\left( 0.0078064012490242 x^{2} - 0.244340359094457 x + 1.66276346604215, x, domain=\\mathbb{R} \\right)}$",
            "text/plain": [
              "Poly(0.0078064012490242*x**2 - 0.244340359094457*x + 1.66276346604215, x, domain='RR')"
            ]
          },
          "metadata": {
            "tags": []
          },
          "execution_count": 126
        }
      ]
    },
    {
      "cell_type": "code",
      "metadata": {
        "colab": {
          "base_uri": "https://localhost:8080/",
          "height": 36
        },
        "id": "-o_bqkZb6MtB",
        "outputId": "86e635c6-18eb-47e9-8591-586eff7c9f11"
      },
      "source": [
        "L2_0.as_poly()(df.X[0])"
      ],
      "execution_count": 127,
      "outputs": [
        {
          "output_type": "execute_result",
          "data": {
            "text/latex": "$\\displaystyle 1.0$",
            "text/plain": [
              "1.00000000000000"
            ]
          },
          "metadata": {
            "tags": []
          },
          "execution_count": 127
        }
      ]
    },
    {
      "cell_type": "code",
      "metadata": {
        "colab": {
          "base_uri": "https://localhost:8080/",
          "height": 36
        },
        "id": "DXf_QFl-6MtD",
        "outputId": "7378f8c4-8d2f-4c30-f1d6-fce2cc23c76f"
      },
      "source": [
        "L2_0.as_poly()(df.X[1])"
      ],
      "execution_count": 128,
      "outputs": [
        {
          "output_type": "execute_result",
          "data": {
            "text/latex": "$\\displaystyle -4.44089209850063 \\cdot 10^{-16}$",
            "text/plain": [
              "-4.44089209850063e-16"
            ]
          },
          "metadata": {
            "tags": []
          },
          "execution_count": 128
        }
      ]
    },
    {
      "cell_type": "markdown",
      "metadata": {
        "id": "pGt8p9Pi6MtH"
      },
      "source": [
        "As `python` function"
      ]
    },
    {
      "cell_type": "code",
      "metadata": {
        "colab": {
          "base_uri": "https://localhost:8080/"
        },
        "id": "QdZDFKwg6MtH",
        "outputId": "4a15df44-5a67-4e41-c383-457f6a5e25e6"
      },
      "source": [
        "print( LP.L(df.X,0)(df.X[0]),LP.L(df.X,1)(df.X[1]),LP.L(df.X,2)(df.X[2]) )"
      ],
      "execution_count": 129,
      "outputs": [
        {
          "output_type": "stream",
          "text": [
            "0.9999999999999968 0.9999999999999951 0.9999999999999998\n"
          ],
          "name": "stdout"
        }
      ]
    },
    {
      "cell_type": "code",
      "metadata": {
        "colab": {
          "base_uri": "https://localhost:8080/"
        },
        "id": "ASNerdbw6MtL",
        "outputId": "c1b02adb-7119-4a11-c2ac-ab0a65d0d066"
      },
      "source": [
        "LP.L(df.X,0)(df.X)"
      ],
      "execution_count": 130,
      "outputs": [
        {
          "output_type": "execute_result",
          "data": {
            "text/plain": [
              "0    1.000000e+00\n",
              "1   -2.220446e-16\n",
              "2    5.551115e-15\n",
              "Name: X, dtype: float64"
            ]
          },
          "metadata": {
            "tags": []
          },
          "execution_count": 130
        }
      ]
    },
    {
      "cell_type": "code",
      "metadata": {
        "colab": {
          "base_uri": "https://localhost:8080/"
        },
        "id": "_khcYeBZ6MtP",
        "outputId": "cda0fe94-b272-44de-9206-d9456eecaf7e"
      },
      "source": [
        "LP.L(df.X,1)(df.X)"
      ],
      "execution_count": 131,
      "outputs": [
        {
          "output_type": "execute_result",
          "data": {
            "text/plain": [
              "0   -4.440892e-16\n",
              "1    1.000000e+00\n",
              "2   -2.042810e-14\n",
              "Name: X, dtype: float64"
            ]
          },
          "metadata": {
            "tags": []
          },
          "execution_count": 131
        }
      ]
    },
    {
      "cell_type": "code",
      "metadata": {
        "colab": {
          "base_uri": "https://localhost:8080/"
        },
        "id": "WTerwYpC6MtS",
        "outputId": "1c5ce26b-1d4e-4269-b7c2-13d72f9cec09"
      },
      "source": [
        "LP.L(df.X,2)(df.X)"
      ],
      "execution_count": 132,
      "outputs": [
        {
          "output_type": "execute_result",
          "data": {
            "text/plain": [
              "0    1.665335e-16\n",
              "1    0.000000e+00\n",
              "2    1.000000e+00\n",
              "Name: X, dtype: float64"
            ]
          },
          "metadata": {
            "tags": []
          },
          "execution_count": 132
        }
      ]
    },
    {
      "cell_type": "markdown",
      "metadata": {
        "id": "l0tYzMZp6MtX"
      },
      "source": [
        "__Actividad__ Fit a cuatro puntos, comprobando las propiedades del polinomio de Lagrange"
      ]
    },
    {
      "cell_type": "code",
      "metadata": {
        "id": "9gFhCI7pC_Qd"
      },
      "source": [
        "import pandas as pd\n",
        "import numpy as np\n",
        "import scipy as sp\n",
        "import LagrangePolynomial as lp"
      ],
      "execution_count": 133,
      "outputs": []
    },
    {
      "cell_type": "code",
      "metadata": {
        "colab": {
          "base_uri": "https://localhost:8080/",
          "height": 167
        },
        "id": "QwaGcnB-4Xvf",
        "outputId": "7d4aec8a-8020-42c2-c941-9a6a023c4aad"
      },
      "source": [
        "df=pd.DataFrame({ 'x':[3,15,27.3,35],'y':[8.,6.5,3.,15]}  )\n",
        "df"
      ],
      "execution_count": 134,
      "outputs": [
        {
          "output_type": "execute_result",
          "data": {
            "text/html": [
              "<div>\n",
              "<style scoped>\n",
              "    .dataframe tbody tr th:only-of-type {\n",
              "        vertical-align: middle;\n",
              "    }\n",
              "\n",
              "    .dataframe tbody tr th {\n",
              "        vertical-align: top;\n",
              "    }\n",
              "\n",
              "    .dataframe thead th {\n",
              "        text-align: right;\n",
              "    }\n",
              "</style>\n",
              "<table border=\"1\" class=\"dataframe\">\n",
              "  <thead>\n",
              "    <tr style=\"text-align: right;\">\n",
              "      <th></th>\n",
              "      <th>x</th>\n",
              "      <th>y</th>\n",
              "    </tr>\n",
              "  </thead>\n",
              "  <tbody>\n",
              "    <tr>\n",
              "      <th>0</th>\n",
              "      <td>3.0</td>\n",
              "      <td>8.0</td>\n",
              "    </tr>\n",
              "    <tr>\n",
              "      <th>1</th>\n",
              "      <td>15.0</td>\n",
              "      <td>6.5</td>\n",
              "    </tr>\n",
              "    <tr>\n",
              "      <th>2</th>\n",
              "      <td>27.3</td>\n",
              "      <td>3.0</td>\n",
              "    </tr>\n",
              "    <tr>\n",
              "      <th>3</th>\n",
              "      <td>35.0</td>\n",
              "      <td>15.0</td>\n",
              "    </tr>\n",
              "  </tbody>\n",
              "</table>\n",
              "</div>"
            ],
            "text/plain": [
              "      x     y\n",
              "0   3.0   8.0\n",
              "1  15.0   6.5\n",
              "2  27.3   3.0\n",
              "3  35.0  15.0"
            ]
          },
          "metadata": {
            "tags": []
          },
          "execution_count": 134
        }
      ]
    },
    {
      "cell_type": "code",
      "metadata": {
        "colab": {
          "base_uri": "https://localhost:8080/",
          "height": 304
        },
        "id": "xyvBAhPU4mIy",
        "outputId": "43ca2934-4133-4325-c602-1e993a24d1c0"
      },
      "source": [
        "coeficientes=np.polyfit(df.x,df.y,deg=3)\n",
        "\n",
        "p=np.poly1d(coeficientes)\n",
        "plt.plot(df.x,df.y,'ro')\n",
        "x=np.linspace(-8,45)\n",
        "plt.plot(x,p( x),'b-')\n",
        "plt.grid()\n",
        "plt.ylim(0,20)\n",
        "\n",
        "print(p)"
      ],
      "execution_count": 135,
      "outputs": [
        {
          "output_type": "stream",
          "text": [
            "          3          2\n",
            "0.003085 x - 0.1463 x + 1.648 x + 4.29\n"
          ],
          "name": "stdout"
        },
        {
          "output_type": "display_data",
          "data": {
            "image/png": "[encoded data removed]",
            "text/plain": [
              "<Figure size 432x288 with 1 Axes>"
            ]
          },
          "metadata": {
            "tags": [],
            "needs_background": "light"
          }
        }
      ]
    },
    {
      "cell_type": "code",
      "metadata": {
        "colab": {
          "base_uri": "https://localhost:8080/",
          "height": 37
        },
        "id": "WGhV9ZuN50rB",
        "outputId": "cd1a3f23-2d15-4e08-8163-681cd35d307f"
      },
      "source": [
        "lp.lagrangePolynomial(df.x,df.y) #polinomio que pasa por los puntos del df"
      ],
      "execution_count": 136,
      "outputs": [
        {
          "output_type": "execute_result",
          "data": {
            "text/latex": "$\\displaystyle 0.00308486502874488 x^{3} - 0.146310346523479 x^{2} + 1.6479088944028 x + 4.28977507972681$",
            "text/plain": [
              "0.00308486502874488*x**3 - 0.146310346523479*x**2 + 1.6479088944028*x + 4.28977507972681"
            ]
          },
          "metadata": {
            "tags": []
          },
          "execution_count": 136
        }
      ]
    },
    {
      "cell_type": "code",
      "metadata": {
        "colab": {
          "base_uri": "https://localhost:8080/"
        },
        "id": "SqSNsOKj6j9T",
        "outputId": "7b062a1f-01b3-4d07-a19d-abcf30b994dd"
      },
      "source": [
        "new_poly=lp.polyL(df.x,0)\n",
        "print(f\"{new_poly}\\n\") # el nuevo polinomio\n",
        "\n",
        "print(f\"{new_poly.as_poly()}\\n\") # el mismo polinomio nuevo, pero con los coeficientes de y=o\n",
        "\n",
        "print(f\"{new_poly.as_poly()(df.x[0])}\\n\")\n",
        "\n",
        "print(f\"{new_poly.as_poly()(df.x[1])}\\n\")\n",
        "\n",
        "print(f\"{lp.L(df.x,0)(df.x[0]),lp.L(df.x,1)(df.x[1]),lp.L(df.x,2)(df.x[2])}\\n\")\n",
        "\n",
        "print(f\"{lp.L(df.x,0)(df.x)}\\n\")\n",
        "\n",
        "print(f\"{lp.L(df.x,1)(df.x)}\\n\")\n",
        "\n",
        "print(f\"{lp.L(df.x,2)(df.x)}\\n\")\n",
        "\n",
        "print(f\"{lp.L(df.x,3)(df.x)}\\n\")"
      ],
      "execution_count": 137,
      "outputs": [
        {
          "output_type": "stream",
          "text": [
            "-0.000107167352537723*x**3 + 0.00828403635116598*x**2 - 0.202546296296296*x + 1.53597608024691\n",
            "\n",
            "Poly(-0.000107167352537723*x**3 + 0.00828403635116598*x**2 - 0.202546296296296*x + 1.53597608024691, x, domain='RR')\n",
            "\n",
            "1.00000000000000\n",
            "\n",
            "-2.22044604925031E-16\n",
            "\n",
            "(0.9999999999999973, 0.9999999999999865, 1.0000000000000133)\n",
            "\n",
            "0    1.000000e+00\n",
            "1    2.220446e-16\n",
            "2    1.998401e-15\n",
            "3    6.661338e-16\n",
            "Name: x, dtype: float64\n",
            "\n",
            "0   -1.332268e-15\n",
            "1    1.000000e+00\n",
            "2   -4.507505e-14\n",
            "3   -7.349676e-14\n",
            "Name: x, dtype: float64\n",
            "\n",
            "0    1.665335e-15\n",
            "1    6.328271e-15\n",
            "2    1.000000e+00\n",
            "3    1.698641e-14\n",
            "Name: x, dtype: float64\n",
            "\n",
            "0    9.159340e-16\n",
            "1    5.689893e-15\n",
            "2    1.101896e-14\n",
            "3    1.000000e+00\n",
            "Name: x, dtype: float64\n",
            "\n"
          ],
          "name": "stdout"
        }
      ]
    }
  ]
}