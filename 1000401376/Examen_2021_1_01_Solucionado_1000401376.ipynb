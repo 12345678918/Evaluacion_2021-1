{
  "nbformat": 4,
  "nbformat_minor": 0,
  "metadata": {
    "colab": {
      "name": "Examen_2021_1_01_Solucionado_1000401376.ipynb",
      "provenance": [],
      "collapsed_sections": []
    },
    "kernelspec": {
      "display_name": "Python 3 (ipykernel)",
      "language": "python",
      "name": "python3"
    },
    "language_info": {
      "codemirror_mode": {
        "name": "ipython",
        "version": 3
      },
      "file_extension": ".py",
      "mimetype": "text/x-python",
      "name": "python",
      "nbconvert_exporter": "python",
      "pygments_lexer": "ipython3",
      "version": "3.7.3"
    },
    "toc": {
      "colors": {
        "hover_highlight": "#DAA520",
        "running_highlight": "#FF0000",
        "selected_highlight": "#FFD700"
      },
      "moveMenuLeft": true,
      "nav_menu": {
        "height": "30px",
        "width": "252px"
      },
      "navigate_menu": true,
      "number_sections": true,
      "sideBar": true,
      "threshold": 4,
      "toc_cell": false,
      "toc_section_display": "block",
      "toc_window_display": false
    }
  },
  "cells": [
    {
      "cell_type": "markdown",
      "metadata": {
        "id": "bWVchymOoRBb"
      },
      "source": [
        "# Primer Examen 15%"
      ]
    },
    {
      "cell_type": "markdown",
      "metadata": {
        "id": "vge3gzjNXPJh"
      },
      "source": [
        "A) Cargando el archivo JSON: \n",
        "* https://github.com/restrepo/anomaly/raw/main/solutions.json.gz\n",
        "\n",
        "en Pandas\n",
        "\n",
        "1) Adicione una columna nueva `'smax'` con el valor máximo en valor absoluto de la lista de enteros de la correspondiente entrada en la columna '`solution`'\n",
        "2) Adicione dos columnas nuevas: `'sum_s'` (`sum_s³`) con el resultado de la suma (al cubo) de todos los números de la lista de enteros de la correspondiente entrada en la columna '`solution`'\n",
        "3) Usando como semilla el número de su cédula, genere un número entero de forma aleatoria entre 0 y 390073. Seleccione el la fila correspondiente a ese número entero y construya un polinomio con esos coeficientes. Encuentre las raices reales de ese polinomio y realice el correspondiente gráfico incluyendo: el polinomio generado, sus raices (como puntos en gráfico) y la derivada del polinomio. Optimize el rango de valores en el eje $x$ y en el eje $y$ del gráfico, de manera que el polinomio y sus raices se visualicen de la mejor forma posible. (Sugerencia → use: `plt.ylim(ymin,ymax)` ). Se tendrá en cuenta la estética del gráfico presentado incluyendo la rotulación adecuada del mismo\n"
      ]
    },
    {
      "cell_type": "markdown",
      "metadata": {
        "id": "SCYzhddbXPJi"
      },
      "source": [
        "B)\n",
        "\n",
        "I) Usando como semilla el número de su cédula, genere de forma aletoria un número entero entre 1 y 5\n",
        "\n",
        "II) De acuerdo al entero obtenido, escoja una de las siguientes cinco funciones \n",
        "1. $$x\\operatorname{e}^x=p\\,, $$\n",
        "2. $$\\frac{\\sin x}{x}=+p\\,,$$\n",
        "3. $$\\frac{\\sin x}{x}=-p\\,,$$\n",
        "4. $$\\frac{\\cos x}{x}=+p\\,,$$\n",
        "5. $$\\frac{\\cos x}{x}=-p\\,,$$\n",
        "III) Genere un número aleatorio entre 0 y 1 y asignelo al valor de $p$\n",
        "IV) Encuentre las soluciónes a la ecuación trascendental para el intervalo $x$ entre -10 y 10 y gráfique la correspondiente función trascendental y las correspondientes soluciones. . Se tendrá en cuenta la estética del gráfico presentado incluyendo la rotulación adecuada del mismo.\n",
        "\n",
        "A modo de nota curiosa: estas ecuaciones trascendentales están asociadas a soluciones de la ecuación de Schödinger en mecánica cuántica: https://doi.org/10.1080/14786435.2015.1081425"
      ]
    },
    {
      "cell_type": "code",
      "metadata": {
        "id": "BJFbYbBWaUBb"
      },
      "source": [
        "import numpy as np\n",
        "import pandas as pd \n",
        "import matplotlib.pyplot as plt\n",
        "import random as rd \n",
        "from scipy import optimize"
      ],
      "execution_count": 481,
      "outputs": []
    },
    {
      "cell_type": "code",
      "metadata": {
        "colab": {
          "base_uri": "https://localhost:8080/",
          "height": 419
        },
        "id": "90-bHR1kamcK",
        "outputId": "308c49fd-ee06-40b2-a220-6b9b0a3c01e1"
      },
      "source": [
        "df = pd.read_json(\"https://github.com/restrepo/anomaly/raw/main/solutions.json.gz\") #leer el json\n",
        "df"
      ],
      "execution_count": 482,
      "outputs": [
        {
          "output_type": "execute_result",
          "data": {
            "text/html": [
              "<div>\n",
              "<style scoped>\n",
              "    .dataframe tbody tr th:only-of-type {\n",
              "        vertical-align: middle;\n",
              "    }\n",
              "\n",
              "    .dataframe tbody tr th {\n",
              "        vertical-align: top;\n",
              "    }\n",
              "\n",
              "    .dataframe thead th {\n",
              "        text-align: right;\n",
              "    }\n",
              "</style>\n",
              "<table border=\"1\" class=\"dataframe\">\n",
              "  <thead>\n",
              "    <tr style=\"text-align: right;\">\n",
              "      <th></th>\n",
              "      <th>l</th>\n",
              "      <th>k</th>\n",
              "      <th>solution</th>\n",
              "      <th>gcd</th>\n",
              "      <th>n</th>\n",
              "    </tr>\n",
              "  </thead>\n",
              "  <tbody>\n",
              "    <tr>\n",
              "      <th>0</th>\n",
              "      <td>[-1, 0, -1, 0, -1]</td>\n",
              "      <td>[-1, 0, -1, 1, -1]</td>\n",
              "      <td>[1, 4, 4, 4, -5, -5, -5, -5, -5, 6, 6]</td>\n",
              "      <td>1</td>\n",
              "      <td>11</td>\n",
              "    </tr>\n",
              "    <tr>\n",
              "      <th>1</th>\n",
              "      <td>[-1, 1]</td>\n",
              "      <td>[-1, 0, -1]</td>\n",
              "      <td>[1, 2, 2, -3, -3, -3, 4]</td>\n",
              "      <td>1</td>\n",
              "      <td>7</td>\n",
              "    </tr>\n",
              "    <tr>\n",
              "      <th>2</th>\n",
              "      <td>[1, -1, 0, 1, -1]</td>\n",
              "      <td>[-2, 0, -1, -2, 0]</td>\n",
              "      <td>[1, 1, -2, -2, -3, -3, 5, 5, 5, 5, -6, -6]</td>\n",
              "      <td>2</td>\n",
              "      <td>12</td>\n",
              "    </tr>\n",
              "    <tr>\n",
              "      <th>3</th>\n",
              "      <td>[-1, 1, -1, 1, -1]</td>\n",
              "      <td>[-2, -1, 0, -1, 0]</td>\n",
              "      <td>[1, 1, 1, 1, 2, 2, 2, -3, -4, -4, -6, 7]</td>\n",
              "      <td>1</td>\n",
              "      <td>12</td>\n",
              "    </tr>\n",
              "    <tr>\n",
              "      <th>4</th>\n",
              "      <td>[1, 0, 1, 0, -1]</td>\n",
              "      <td>[-2, -1, -2, -1, 0]</td>\n",
              "      <td>[1, 1, 1, -2, -2, -5, -5, 6, 6, 7, -8]</td>\n",
              "      <td>1</td>\n",
              "      <td>11</td>\n",
              "    </tr>\n",
              "    <tr>\n",
              "      <th>...</th>\n",
              "      <td>...</td>\n",
              "      <td>...</td>\n",
              "      <td>...</td>\n",
              "      <td>...</td>\n",
              "      <td>...</td>\n",
              "    </tr>\n",
              "    <tr>\n",
              "      <th>390069</th>\n",
              "      <td>[-3, -15, -6]</td>\n",
              "      <td>[-3, 8, 9]</td>\n",
              "      <td>[8, -9, -9, 11, 25, -29, -29, 32]</td>\n",
              "      <td>36</td>\n",
              "      <td>8</td>\n",
              "    </tr>\n",
              "    <tr>\n",
              "      <th>390070</th>\n",
              "      <td>[-10, -5, -15]</td>\n",
              "      <td>[-10, -12, 12]</td>\n",
              "      <td>[5, 5, 5, -17, -27, -27, 28, 28]</td>\n",
              "      <td>100</td>\n",
              "      <td>8</td>\n",
              "    </tr>\n",
              "    <tr>\n",
              "      <th>390071</th>\n",
              "      <td>[15, -1, 15]</td>\n",
              "      <td>[-14, -13, -14]</td>\n",
              "      <td>[14, -15, -16, 17, -30, 31, 31, -32]</td>\n",
              "      <td>1</td>\n",
              "      <td>8</td>\n",
              "    </tr>\n",
              "    <tr>\n",
              "      <th>390072</th>\n",
              "      <td>[-15, -9, -1]</td>\n",
              "      <td>[-13, -14, -12]</td>\n",
              "      <td>[11, -13, -15, 19, 23, -26, -30, 31]</td>\n",
              "      <td>18</td>\n",
              "      <td>8</td>\n",
              "    </tr>\n",
              "    <tr>\n",
              "      <th>390073</th>\n",
              "      <td>[10, 15, 5]</td>\n",
              "      <td>[-11, -14, 7]</td>\n",
              "      <td>[16, -17, -17, 19, 20, -22, -22, 23]</td>\n",
              "      <td>2000</td>\n",
              "      <td>8</td>\n",
              "    </tr>\n",
              "  </tbody>\n",
              "</table>\n",
              "<p>390074 rows × 5 columns</p>\n",
              "</div>"
            ],
            "text/plain": [
              "                         l                    k  ...   gcd   n\n",
              "0       [-1, 0, -1, 0, -1]   [-1, 0, -1, 1, -1]  ...     1  11\n",
              "1                  [-1, 1]          [-1, 0, -1]  ...     1   7\n",
              "2        [1, -1, 0, 1, -1]   [-2, 0, -1, -2, 0]  ...     2  12\n",
              "3       [-1, 1, -1, 1, -1]   [-2, -1, 0, -1, 0]  ...     1  12\n",
              "4         [1, 0, 1, 0, -1]  [-2, -1, -2, -1, 0]  ...     1  11\n",
              "...                    ...                  ...  ...   ...  ..\n",
              "390069       [-3, -15, -6]           [-3, 8, 9]  ...    36   8\n",
              "390070      [-10, -5, -15]       [-10, -12, 12]  ...   100   8\n",
              "390071        [15, -1, 15]      [-14, -13, -14]  ...     1   8\n",
              "390072       [-15, -9, -1]      [-13, -14, -12]  ...    18   8\n",
              "390073         [10, 15, 5]        [-11, -14, 7]  ...  2000   8\n",
              "\n",
              "[390074 rows x 5 columns]"
            ]
          },
          "metadata": {},
          "execution_count": 482
        }
      ]
    },
    {
      "cell_type": "code",
      "metadata": {
        "colab": {
          "base_uri": "https://localhost:8080/",
          "height": 419
        },
        "id": "eg2whinNa6ls",
        "outputId": "762f76f5-6605-49da-b37b-88370e180f69"
      },
      "source": [
        "mayor = df[\"solution\"].apply(lambda x: max(list(map(abs, x)))) #crear la nueva lista, con los maximos\n",
        "df[\"smax\"] = mayor  # agregar la nueva columna\n",
        "df"
      ],
      "execution_count": 483,
      "outputs": [
        {
          "output_type": "execute_result",
          "data": {
            "text/html": [
              "<div>\n",
              "<style scoped>\n",
              "    .dataframe tbody tr th:only-of-type {\n",
              "        vertical-align: middle;\n",
              "    }\n",
              "\n",
              "    .dataframe tbody tr th {\n",
              "        vertical-align: top;\n",
              "    }\n",
              "\n",
              "    .dataframe thead th {\n",
              "        text-align: right;\n",
              "    }\n",
              "</style>\n",
              "<table border=\"1\" class=\"dataframe\">\n",
              "  <thead>\n",
              "    <tr style=\"text-align: right;\">\n",
              "      <th></th>\n",
              "      <th>l</th>\n",
              "      <th>k</th>\n",
              "      <th>solution</th>\n",
              "      <th>gcd</th>\n",
              "      <th>n</th>\n",
              "      <th>smax</th>\n",
              "    </tr>\n",
              "  </thead>\n",
              "  <tbody>\n",
              "    <tr>\n",
              "      <th>0</th>\n",
              "      <td>[-1, 0, -1, 0, -1]</td>\n",
              "      <td>[-1, 0, -1, 1, -1]</td>\n",
              "      <td>[1, 4, 4, 4, -5, -5, -5, -5, -5, 6, 6]</td>\n",
              "      <td>1</td>\n",
              "      <td>11</td>\n",
              "      <td>6</td>\n",
              "    </tr>\n",
              "    <tr>\n",
              "      <th>1</th>\n",
              "      <td>[-1, 1]</td>\n",
              "      <td>[-1, 0, -1]</td>\n",
              "      <td>[1, 2, 2, -3, -3, -3, 4]</td>\n",
              "      <td>1</td>\n",
              "      <td>7</td>\n",
              "      <td>4</td>\n",
              "    </tr>\n",
              "    <tr>\n",
              "      <th>2</th>\n",
              "      <td>[1, -1, 0, 1, -1]</td>\n",
              "      <td>[-2, 0, -1, -2, 0]</td>\n",
              "      <td>[1, 1, -2, -2, -3, -3, 5, 5, 5, 5, -6, -6]</td>\n",
              "      <td>2</td>\n",
              "      <td>12</td>\n",
              "      <td>6</td>\n",
              "    </tr>\n",
              "    <tr>\n",
              "      <th>3</th>\n",
              "      <td>[-1, 1, -1, 1, -1]</td>\n",
              "      <td>[-2, -1, 0, -1, 0]</td>\n",
              "      <td>[1, 1, 1, 1, 2, 2, 2, -3, -4, -4, -6, 7]</td>\n",
              "      <td>1</td>\n",
              "      <td>12</td>\n",
              "      <td>7</td>\n",
              "    </tr>\n",
              "    <tr>\n",
              "      <th>4</th>\n",
              "      <td>[1, 0, 1, 0, -1]</td>\n",
              "      <td>[-2, -1, -2, -1, 0]</td>\n",
              "      <td>[1, 1, 1, -2, -2, -5, -5, 6, 6, 7, -8]</td>\n",
              "      <td>1</td>\n",
              "      <td>11</td>\n",
              "      <td>8</td>\n",
              "    </tr>\n",
              "    <tr>\n",
              "      <th>...</th>\n",
              "      <td>...</td>\n",
              "      <td>...</td>\n",
              "      <td>...</td>\n",
              "      <td>...</td>\n",
              "      <td>...</td>\n",
              "      <td>...</td>\n",
              "    </tr>\n",
              "    <tr>\n",
              "      <th>390069</th>\n",
              "      <td>[-3, -15, -6]</td>\n",
              "      <td>[-3, 8, 9]</td>\n",
              "      <td>[8, -9, -9, 11, 25, -29, -29, 32]</td>\n",
              "      <td>36</td>\n",
              "      <td>8</td>\n",
              "      <td>32</td>\n",
              "    </tr>\n",
              "    <tr>\n",
              "      <th>390070</th>\n",
              "      <td>[-10, -5, -15]</td>\n",
              "      <td>[-10, -12, 12]</td>\n",
              "      <td>[5, 5, 5, -17, -27, -27, 28, 28]</td>\n",
              "      <td>100</td>\n",
              "      <td>8</td>\n",
              "      <td>28</td>\n",
              "    </tr>\n",
              "    <tr>\n",
              "      <th>390071</th>\n",
              "      <td>[15, -1, 15]</td>\n",
              "      <td>[-14, -13, -14]</td>\n",
              "      <td>[14, -15, -16, 17, -30, 31, 31, -32]</td>\n",
              "      <td>1</td>\n",
              "      <td>8</td>\n",
              "      <td>32</td>\n",
              "    </tr>\n",
              "    <tr>\n",
              "      <th>390072</th>\n",
              "      <td>[-15, -9, -1]</td>\n",
              "      <td>[-13, -14, -12]</td>\n",
              "      <td>[11, -13, -15, 19, 23, -26, -30, 31]</td>\n",
              "      <td>18</td>\n",
              "      <td>8</td>\n",
              "      <td>31</td>\n",
              "    </tr>\n",
              "    <tr>\n",
              "      <th>390073</th>\n",
              "      <td>[10, 15, 5]</td>\n",
              "      <td>[-11, -14, 7]</td>\n",
              "      <td>[16, -17, -17, 19, 20, -22, -22, 23]</td>\n",
              "      <td>2000</td>\n",
              "      <td>8</td>\n",
              "      <td>23</td>\n",
              "    </tr>\n",
              "  </tbody>\n",
              "</table>\n",
              "<p>390074 rows × 6 columns</p>\n",
              "</div>"
            ],
            "text/plain": [
              "                         l                    k  ...   n  smax\n",
              "0       [-1, 0, -1, 0, -1]   [-1, 0, -1, 1, -1]  ...  11     6\n",
              "1                  [-1, 1]          [-1, 0, -1]  ...   7     4\n",
              "2        [1, -1, 0, 1, -1]   [-2, 0, -1, -2, 0]  ...  12     6\n",
              "3       [-1, 1, -1, 1, -1]   [-2, -1, 0, -1, 0]  ...  12     7\n",
              "4         [1, 0, 1, 0, -1]  [-2, -1, -2, -1, 0]  ...  11     8\n",
              "...                    ...                  ...  ...  ..   ...\n",
              "390069       [-3, -15, -6]           [-3, 8, 9]  ...   8    32\n",
              "390070      [-10, -5, -15]       [-10, -12, 12]  ...   8    28\n",
              "390071        [15, -1, 15]      [-14, -13, -14]  ...   8    32\n",
              "390072       [-15, -9, -1]      [-13, -14, -12]  ...   8    31\n",
              "390073         [10, 15, 5]        [-11, -14, 7]  ...   8    23\n",
              "\n",
              "[390074 rows x 6 columns]"
            ]
          },
          "metadata": {},
          "execution_count": 483
        }
      ]
    },
    {
      "cell_type": "code",
      "metadata": {
        "colab": {
          "base_uri": "https://localhost:8080/",
          "height": 419
        },
        "id": "JBEGgLFrbIM9",
        "outputId": "ff2b86a8-e55d-419f-d8a3-25c78e6bb194"
      },
      "source": [
        "b = map(sum, df[\"solution\"]) # sumar las listas\n",
        "df[\"sum_s\"] = list(b) # agregar la nueva columna\n",
        "df"
      ],
      "execution_count": 484,
      "outputs": [
        {
          "output_type": "execute_result",
          "data": {
            "text/html": [
              "<div>\n",
              "<style scoped>\n",
              "    .dataframe tbody tr th:only-of-type {\n",
              "        vertical-align: middle;\n",
              "    }\n",
              "\n",
              "    .dataframe tbody tr th {\n",
              "        vertical-align: top;\n",
              "    }\n",
              "\n",
              "    .dataframe thead th {\n",
              "        text-align: right;\n",
              "    }\n",
              "</style>\n",
              "<table border=\"1\" class=\"dataframe\">\n",
              "  <thead>\n",
              "    <tr style=\"text-align: right;\">\n",
              "      <th></th>\n",
              "      <th>l</th>\n",
              "      <th>k</th>\n",
              "      <th>solution</th>\n",
              "      <th>gcd</th>\n",
              "      <th>n</th>\n",
              "      <th>smax</th>\n",
              "      <th>sum_s</th>\n",
              "    </tr>\n",
              "  </thead>\n",
              "  <tbody>\n",
              "    <tr>\n",
              "      <th>0</th>\n",
              "      <td>[-1, 0, -1, 0, -1]</td>\n",
              "      <td>[-1, 0, -1, 1, -1]</td>\n",
              "      <td>[1, 4, 4, 4, -5, -5, -5, -5, -5, 6, 6]</td>\n",
              "      <td>1</td>\n",
              "      <td>11</td>\n",
              "      <td>6</td>\n",
              "      <td>0</td>\n",
              "    </tr>\n",
              "    <tr>\n",
              "      <th>1</th>\n",
              "      <td>[-1, 1]</td>\n",
              "      <td>[-1, 0, -1]</td>\n",
              "      <td>[1, 2, 2, -3, -3, -3, 4]</td>\n",
              "      <td>1</td>\n",
              "      <td>7</td>\n",
              "      <td>4</td>\n",
              "      <td>0</td>\n",
              "    </tr>\n",
              "    <tr>\n",
              "      <th>2</th>\n",
              "      <td>[1, -1, 0, 1, -1]</td>\n",
              "      <td>[-2, 0, -1, -2, 0]</td>\n",
              "      <td>[1, 1, -2, -2, -3, -3, 5, 5, 5, 5, -6, -6]</td>\n",
              "      <td>2</td>\n",
              "      <td>12</td>\n",
              "      <td>6</td>\n",
              "      <td>0</td>\n",
              "    </tr>\n",
              "    <tr>\n",
              "      <th>3</th>\n",
              "      <td>[-1, 1, -1, 1, -1]</td>\n",
              "      <td>[-2, -1, 0, -1, 0]</td>\n",
              "      <td>[1, 1, 1, 1, 2, 2, 2, -3, -4, -4, -6, 7]</td>\n",
              "      <td>1</td>\n",
              "      <td>12</td>\n",
              "      <td>7</td>\n",
              "      <td>0</td>\n",
              "    </tr>\n",
              "    <tr>\n",
              "      <th>4</th>\n",
              "      <td>[1, 0, 1, 0, -1]</td>\n",
              "      <td>[-2, -1, -2, -1, 0]</td>\n",
              "      <td>[1, 1, 1, -2, -2, -5, -5, 6, 6, 7, -8]</td>\n",
              "      <td>1</td>\n",
              "      <td>11</td>\n",
              "      <td>8</td>\n",
              "      <td>0</td>\n",
              "    </tr>\n",
              "    <tr>\n",
              "      <th>...</th>\n",
              "      <td>...</td>\n",
              "      <td>...</td>\n",
              "      <td>...</td>\n",
              "      <td>...</td>\n",
              "      <td>...</td>\n",
              "      <td>...</td>\n",
              "      <td>...</td>\n",
              "    </tr>\n",
              "    <tr>\n",
              "      <th>390069</th>\n",
              "      <td>[-3, -15, -6]</td>\n",
              "      <td>[-3, 8, 9]</td>\n",
              "      <td>[8, -9, -9, 11, 25, -29, -29, 32]</td>\n",
              "      <td>36</td>\n",
              "      <td>8</td>\n",
              "      <td>32</td>\n",
              "      <td>0</td>\n",
              "    </tr>\n",
              "    <tr>\n",
              "      <th>390070</th>\n",
              "      <td>[-10, -5, -15]</td>\n",
              "      <td>[-10, -12, 12]</td>\n",
              "      <td>[5, 5, 5, -17, -27, -27, 28, 28]</td>\n",
              "      <td>100</td>\n",
              "      <td>8</td>\n",
              "      <td>28</td>\n",
              "      <td>0</td>\n",
              "    </tr>\n",
              "    <tr>\n",
              "      <th>390071</th>\n",
              "      <td>[15, -1, 15]</td>\n",
              "      <td>[-14, -13, -14]</td>\n",
              "      <td>[14, -15, -16, 17, -30, 31, 31, -32]</td>\n",
              "      <td>1</td>\n",
              "      <td>8</td>\n",
              "      <td>32</td>\n",
              "      <td>0</td>\n",
              "    </tr>\n",
              "    <tr>\n",
              "      <th>390072</th>\n",
              "      <td>[-15, -9, -1]</td>\n",
              "      <td>[-13, -14, -12]</td>\n",
              "      <td>[11, -13, -15, 19, 23, -26, -30, 31]</td>\n",
              "      <td>18</td>\n",
              "      <td>8</td>\n",
              "      <td>31</td>\n",
              "      <td>0</td>\n",
              "    </tr>\n",
              "    <tr>\n",
              "      <th>390073</th>\n",
              "      <td>[10, 15, 5]</td>\n",
              "      <td>[-11, -14, 7]</td>\n",
              "      <td>[16, -17, -17, 19, 20, -22, -22, 23]</td>\n",
              "      <td>2000</td>\n",
              "      <td>8</td>\n",
              "      <td>23</td>\n",
              "      <td>0</td>\n",
              "    </tr>\n",
              "  </tbody>\n",
              "</table>\n",
              "<p>390074 rows × 7 columns</p>\n",
              "</div>"
            ],
            "text/plain": [
              "                         l                    k  ... smax  sum_s\n",
              "0       [-1, 0, -1, 0, -1]   [-1, 0, -1, 1, -1]  ...    6      0\n",
              "1                  [-1, 1]          [-1, 0, -1]  ...    4      0\n",
              "2        [1, -1, 0, 1, -1]   [-2, 0, -1, -2, 0]  ...    6      0\n",
              "3       [-1, 1, -1, 1, -1]   [-2, -1, 0, -1, 0]  ...    7      0\n",
              "4         [1, 0, 1, 0, -1]  [-2, -1, -2, -1, 0]  ...    8      0\n",
              "...                    ...                  ...  ...  ...    ...\n",
              "390069       [-3, -15, -6]           [-3, 8, 9]  ...   32      0\n",
              "390070      [-10, -5, -15]       [-10, -12, 12]  ...   28      0\n",
              "390071        [15, -1, 15]      [-14, -13, -14]  ...   32      0\n",
              "390072       [-15, -9, -1]      [-13, -14, -12]  ...   31      0\n",
              "390073         [10, 15, 5]        [-11, -14, 7]  ...   23      0\n",
              "\n",
              "[390074 rows x 7 columns]"
            ]
          },
          "metadata": {},
          "execution_count": 484
        }
      ]
    },
    {
      "cell_type": "code",
      "metadata": {
        "colab": {
          "base_uri": "https://localhost:8080/",
          "height": 419
        },
        "id": "mLDazmAQfuU2",
        "outputId": "87883b73-1d34-4645-c349-1eaa6d42456f"
      },
      "source": [
        "df[\"sum_s³\"] = df[\"sum_s\"]**3 # elevamos al cuadrado sum_s para agregar la nueva lista\n",
        "df"
      ],
      "execution_count": 485,
      "outputs": [
        {
          "output_type": "execute_result",
          "data": {
            "text/html": [
              "<div>\n",
              "<style scoped>\n",
              "    .dataframe tbody tr th:only-of-type {\n",
              "        vertical-align: middle;\n",
              "    }\n",
              "\n",
              "    .dataframe tbody tr th {\n",
              "        vertical-align: top;\n",
              "    }\n",
              "\n",
              "    .dataframe thead th {\n",
              "        text-align: right;\n",
              "    }\n",
              "</style>\n",
              "<table border=\"1\" class=\"dataframe\">\n",
              "  <thead>\n",
              "    <tr style=\"text-align: right;\">\n",
              "      <th></th>\n",
              "      <th>l</th>\n",
              "      <th>k</th>\n",
              "      <th>solution</th>\n",
              "      <th>gcd</th>\n",
              "      <th>n</th>\n",
              "      <th>smax</th>\n",
              "      <th>sum_s</th>\n",
              "      <th>sum_s³</th>\n",
              "    </tr>\n",
              "  </thead>\n",
              "  <tbody>\n",
              "    <tr>\n",
              "      <th>0</th>\n",
              "      <td>[-1, 0, -1, 0, -1]</td>\n",
              "      <td>[-1, 0, -1, 1, -1]</td>\n",
              "      <td>[1, 4, 4, 4, -5, -5, -5, -5, -5, 6, 6]</td>\n",
              "      <td>1</td>\n",
              "      <td>11</td>\n",
              "      <td>6</td>\n",
              "      <td>0</td>\n",
              "      <td>0</td>\n",
              "    </tr>\n",
              "    <tr>\n",
              "      <th>1</th>\n",
              "      <td>[-1, 1]</td>\n",
              "      <td>[-1, 0, -1]</td>\n",
              "      <td>[1, 2, 2, -3, -3, -3, 4]</td>\n",
              "      <td>1</td>\n",
              "      <td>7</td>\n",
              "      <td>4</td>\n",
              "      <td>0</td>\n",
              "      <td>0</td>\n",
              "    </tr>\n",
              "    <tr>\n",
              "      <th>2</th>\n",
              "      <td>[1, -1, 0, 1, -1]</td>\n",
              "      <td>[-2, 0, -1, -2, 0]</td>\n",
              "      <td>[1, 1, -2, -2, -3, -3, 5, 5, 5, 5, -6, -6]</td>\n",
              "      <td>2</td>\n",
              "      <td>12</td>\n",
              "      <td>6</td>\n",
              "      <td>0</td>\n",
              "      <td>0</td>\n",
              "    </tr>\n",
              "    <tr>\n",
              "      <th>3</th>\n",
              "      <td>[-1, 1, -1, 1, -1]</td>\n",
              "      <td>[-2, -1, 0, -1, 0]</td>\n",
              "      <td>[1, 1, 1, 1, 2, 2, 2, -3, -4, -4, -6, 7]</td>\n",
              "      <td>1</td>\n",
              "      <td>12</td>\n",
              "      <td>7</td>\n",
              "      <td>0</td>\n",
              "      <td>0</td>\n",
              "    </tr>\n",
              "    <tr>\n",
              "      <th>4</th>\n",
              "      <td>[1, 0, 1, 0, -1]</td>\n",
              "      <td>[-2, -1, -2, -1, 0]</td>\n",
              "      <td>[1, 1, 1, -2, -2, -5, -5, 6, 6, 7, -8]</td>\n",
              "      <td>1</td>\n",
              "      <td>11</td>\n",
              "      <td>8</td>\n",
              "      <td>0</td>\n",
              "      <td>0</td>\n",
              "    </tr>\n",
              "    <tr>\n",
              "      <th>...</th>\n",
              "      <td>...</td>\n",
              "      <td>...</td>\n",
              "      <td>...</td>\n",
              "      <td>...</td>\n",
              "      <td>...</td>\n",
              "      <td>...</td>\n",
              "      <td>...</td>\n",
              "      <td>...</td>\n",
              "    </tr>\n",
              "    <tr>\n",
              "      <th>390069</th>\n",
              "      <td>[-3, -15, -6]</td>\n",
              "      <td>[-3, 8, 9]</td>\n",
              "      <td>[8, -9, -9, 11, 25, -29, -29, 32]</td>\n",
              "      <td>36</td>\n",
              "      <td>8</td>\n",
              "      <td>32</td>\n",
              "      <td>0</td>\n",
              "      <td>0</td>\n",
              "    </tr>\n",
              "    <tr>\n",
              "      <th>390070</th>\n",
              "      <td>[-10, -5, -15]</td>\n",
              "      <td>[-10, -12, 12]</td>\n",
              "      <td>[5, 5, 5, -17, -27, -27, 28, 28]</td>\n",
              "      <td>100</td>\n",
              "      <td>8</td>\n",
              "      <td>28</td>\n",
              "      <td>0</td>\n",
              "      <td>0</td>\n",
              "    </tr>\n",
              "    <tr>\n",
              "      <th>390071</th>\n",
              "      <td>[15, -1, 15]</td>\n",
              "      <td>[-14, -13, -14]</td>\n",
              "      <td>[14, -15, -16, 17, -30, 31, 31, -32]</td>\n",
              "      <td>1</td>\n",
              "      <td>8</td>\n",
              "      <td>32</td>\n",
              "      <td>0</td>\n",
              "      <td>0</td>\n",
              "    </tr>\n",
              "    <tr>\n",
              "      <th>390072</th>\n",
              "      <td>[-15, -9, -1]</td>\n",
              "      <td>[-13, -14, -12]</td>\n",
              "      <td>[11, -13, -15, 19, 23, -26, -30, 31]</td>\n",
              "      <td>18</td>\n",
              "      <td>8</td>\n",
              "      <td>31</td>\n",
              "      <td>0</td>\n",
              "      <td>0</td>\n",
              "    </tr>\n",
              "    <tr>\n",
              "      <th>390073</th>\n",
              "      <td>[10, 15, 5]</td>\n",
              "      <td>[-11, -14, 7]</td>\n",
              "      <td>[16, -17, -17, 19, 20, -22, -22, 23]</td>\n",
              "      <td>2000</td>\n",
              "      <td>8</td>\n",
              "      <td>23</td>\n",
              "      <td>0</td>\n",
              "      <td>0</td>\n",
              "    </tr>\n",
              "  </tbody>\n",
              "</table>\n",
              "<p>390074 rows × 8 columns</p>\n",
              "</div>"
            ],
            "text/plain": [
              "                         l                    k  ... sum_s  sum_s³\n",
              "0       [-1, 0, -1, 0, -1]   [-1, 0, -1, 1, -1]  ...     0       0\n",
              "1                  [-1, 1]          [-1, 0, -1]  ...     0       0\n",
              "2        [1, -1, 0, 1, -1]   [-2, 0, -1, -2, 0]  ...     0       0\n",
              "3       [-1, 1, -1, 1, -1]   [-2, -1, 0, -1, 0]  ...     0       0\n",
              "4         [1, 0, 1, 0, -1]  [-2, -1, -2, -1, 0]  ...     0       0\n",
              "...                    ...                  ...  ...   ...     ...\n",
              "390069       [-3, -15, -6]           [-3, 8, 9]  ...     0       0\n",
              "390070      [-10, -5, -15]       [-10, -12, 12]  ...     0       0\n",
              "390071        [15, -1, 15]      [-14, -13, -14]  ...     0       0\n",
              "390072       [-15, -9, -1]      [-13, -14, -12]  ...     0       0\n",
              "390073         [10, 15, 5]        [-11, -14, 7]  ...     0       0\n",
              "\n",
              "[390074 rows x 8 columns]"
            ]
          },
          "metadata": {},
          "execution_count": 485
        }
      ]
    },
    {
      "cell_type": "code",
      "metadata": {
        "id": "7u8Cbp6IhF9B"
      },
      "source": [
        "# cemilla = 1000401376\n",
        "#rd.seed? para saber como funcionaba"
      ],
      "execution_count": 486,
      "outputs": []
    },
    {
      "cell_type": "code",
      "metadata": {
        "id": "8E08GtRWjMaD"
      },
      "source": [
        "rd.seed(1000401376)\n",
        "numero = rd.randint(0, 390073) #numero entre 0 y 390073"
      ],
      "execution_count": 487,
      "outputs": []
    },
    {
      "cell_type": "code",
      "metadata": {
        "colab": {
          "base_uri": "https://localhost:8080/"
        },
        "id": "QgsQ_nEojjNz",
        "outputId": "96ef7d4b-3146-47ce-afe1-daac385d3cd5"
      },
      "source": [
        "df[\"solution\"][numero] # ver las constantes que me tocaron"
      ],
      "execution_count": 488,
      "outputs": [
        {
          "output_type": "execute_result",
          "data": {
            "text/plain": [
              "[1, -2, 4, 5, 6, 9, 14, -22, -23, -24, 32]"
            ]
          },
          "metadata": {},
          "execution_count": 488
        }
      ]
    },
    {
      "cell_type": "code",
      "metadata": {
        "colab": {
          "base_uri": "https://localhost:8080/"
        },
        "id": "m87PGEOHk0Y9",
        "outputId": "4716c393-20b2-4e00-b793-c2ee67d54959"
      },
      "source": [
        "p = np.poly1d(df[\"solution\"][numero]) # crear el polinomio\n",
        "print(p)"
      ],
      "execution_count": 489,
      "outputs": [
        {
          "output_type": "stream",
          "text": [
            "   10     9     8     7     6     5      4      3      2\n",
            "1 x  - 2 x + 4 x + 5 x + 6 x + 9 x + 14 x - 22 x - 23 x - 24 x + 32\n"
          ],
          "name": "stdout"
        }
      ]
    },
    {
      "cell_type": "code",
      "metadata": {
        "colab": {
          "base_uri": "https://localhost:8080/"
        },
        "id": "p6ZBji-DnSzk",
        "outputId": "e7af20ff-84f5-408e-b81d-61a91a802cd3"
      },
      "source": [
        "roots = p.roots #crear y ver las raices\n",
        "roots"
      ],
      "execution_count": 490,
      "outputs": [
        {
          "output_type": "execute_result",
          "data": {
            "text/plain": [
              "array([ 1.69780369+1.97653512j,  1.69780369-1.97653512j,\n",
              "        0.27505407+1.58051176j,  0.27505407-1.58051176j,\n",
              "       -1.2357825 +0.58408392j, -1.2357825 -0.58408392j,\n",
              "       -0.61706458+0.95343612j, -0.61706458-0.95343612j,\n",
              "        1.        +0.j        ,  0.75997864+0.j        ])"
            ]
          },
          "metadata": {},
          "execution_count": 490
        }
      ]
    },
    {
      "cell_type": "code",
      "metadata": {
        "colab": {
          "base_uri": "https://localhost:8080/"
        },
        "id": "4iacKDMnn8Eo",
        "outputId": "63ced485-6f4e-4b57-e1d8-e132a9e27d09"
      },
      "source": [
        "reales = list(roots[8:]) # los numeros reales de todas las raices\n",
        "reales"
      ],
      "execution_count": 491,
      "outputs": [
        {
          "output_type": "execute_result",
          "data": {
            "text/plain": [
              "[(0.9999999999999996+0j), (0.7599786353674388+0j)]"
            ]
          },
          "metadata": {},
          "execution_count": 491
        }
      ]
    },
    {
      "cell_type": "code",
      "metadata": {
        "colab": {
          "base_uri": "https://localhost:8080/"
        },
        "id": "HKuMZ4bxs3p2",
        "outputId": "d0cdb138-8b25-408a-9b0d-6e5c6fe84880"
      },
      "source": [
        "p_1 = p.deriv() # el nuevo polinomio derivados\n",
        "print(p_1)"
      ],
      "execution_count": 492,
      "outputs": [
        {
          "output_type": "stream",
          "text": [
            "    9      8      7      6      5      4      3      2\n",
            "10 x - 18 x + 32 x + 35 x + 36 x + 45 x + 56 x - 66 x - 46 x - 24\n"
          ],
          "name": "stdout"
        }
      ]
    },
    {
      "cell_type": "code",
      "metadata": {
        "colab": {
          "base_uri": "https://localhost:8080/",
          "height": 448
        },
        "id": "kzaJq1ifp4cO",
        "outputId": "7c95ce44-4bcc-4714-9faa-163a558562d9"
      },
      "source": [
        "x = np.linspace(1, 10, 20)\n",
        "plt.figure(figsize=(7, 6))\n",
        "plt.plot(x, p(x), label = \"Polinomio\")\n",
        "plt.plot(x, p_1(x), label = \"D(Polinomio)\")\n",
        "plt.legend()\n",
        "plt.plot(reales[0], p(1), \"r*\") #Raiz solucion \n",
        "plt.plot(reales[1], p(0.7599786353674388), \"r*\") # Raiz solucion\n",
        "plt.title(\"$Polinomio$\", size=20)\n",
        "plt.xlabel(\"$x$\", size=15)\n",
        "plt.ylabel(\"$P(x)$\", size=15)\n",
        "plt.grid()\n",
        "# grafica del polinomio y el polinomio derivado, con sus raices"
      ],
      "execution_count": 493,
      "outputs": [
        {
          "output_type": "stream",
          "text": [
            "/usr/local/lib/python3.7/dist-packages/numpy/core/_asarray.py:83: ComplexWarning: Casting complex values to real discards the imaginary part\n",
            "  return array(a, dtype, copy=False, order=order)\n"
          ],
          "name": "stderr"
        },
        {
          "output_type": "display_data",
          "data": {
            "image/png": "[encoded data removed]",
            "text/plain": [
              "<Figure size 504x432 with 1 Axes>"
            ]
          },
          "metadata": {
            "needs_background": "light"
          }
        }
      ]
    },
    {
      "cell_type": "code",
      "metadata": {
        "colab": {
          "base_uri": "https://localhost:8080/"
        },
        "id": "TnQvxPR_qi2N",
        "outputId": "bb0046e0-988b-42bb-9bed-4aee0073c317"
      },
      "source": [
        "rd.seed(1000401376)\n",
        "numero_1 = rd.randint(1, 5)\n",
        "numero_1\n",
        "# Escogo la ecuacion 5) cos(x)/x = -p"
      ],
      "execution_count": 494,
      "outputs": [
        {
          "output_type": "execute_result",
          "data": {
            "text/plain": [
              "5"
            ]
          },
          "metadata": {},
          "execution_count": 494
        }
      ]
    },
    {
      "cell_type": "code",
      "metadata": {
        "id": "25va1weCw9US"
      },
      "source": [
        "def f(y, P_ = rd.random()): #p_ es el numero entre 0 y 1 y creo la funcion para hacer las raices y graficar la\n",
        "  return np.cos(y)/y + p_\n",
        "\n",
        "y = np.linspace(-10, 10, 100)\n"
      ],
      "execution_count": 495,
      "outputs": []
    },
    {
      "cell_type": "code",
      "metadata": {
        "colab": {
          "base_uri": "https://localhost:8080/",
          "height": 416
        },
        "id": "KAAltMkP0P1V",
        "outputId": "a99621fa-8405-44e5-cef6-e362e853225a"
      },
      "source": [
        "plt.figure(figsize=(7, 6))\n",
        "plt.plot(y, f(y),)\n",
        "plt.plot(-1.3379952556406352, f(-1.3379952556406352), \"r*\")\n",
        "plt.plot(1.9055863681626306, f(1.9055863681626306), \"r*\")\n",
        "plt.plot(3.960644176278265, f(3.960644176278265), \"r*\")\n",
        "plt.title(\"$cos(x)/x + p$\", size=20)\n",
        "plt.xlabel(\"$x$\", size=15)\n",
        "plt.ylabel(\"$f(x)$\", size=15)\n",
        "plt.grid()"
      ],
      "execution_count": 496,
      "outputs": [
        {
          "output_type": "display_data",
          "data": {
            "image/png": "[encoded data removed]",
            "text/plain": [
              "<Figure size 504x432 with 1 Axes>"
            ]
          },
          "metadata": {
            "needs_background": "light"
          }
        }
      ]
    },
    {
      "cell_type": "code",
      "metadata": {
        "colab": {
          "base_uri": "https://localhost:8080/"
        },
        "id": "f2s1I5i_1aj0",
        "outputId": "fec56948-ab7b-429a-bcf4-e5ab5e4c6934"
      },
      "source": [
        "raiz_1 = optimize.bisect(f, -2, -1) # -1.3379952556406352\n",
        "raiz_2 = optimize.bisect(f, 0, 2.5) # 1.9055863681626306\n",
        "raiz_3 = optimize.bisect(f, 2.5, 5) # 3.960644176278265"
      ],
      "execution_count": 497,
      "outputs": [
        {
          "output_type": "stream",
          "text": [
            "/usr/local/lib/python3.7/dist-packages/ipykernel_launcher.py:2: RuntimeWarning: divide by zero encountered in double_scalars\n",
            "  \n"
          ],
          "name": "stderr"
        }
      ]
    }
  ]
}