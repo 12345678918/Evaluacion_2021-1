{
  "nbformat": 4,
  "nbformat_minor": 0,
  "metadata": {
    "colab": {
      "name": "Parcial_3_1000401376.ipynb",
      "provenance": [],
      "collapsed_sections": []
    },
    "kernelspec": {
      "name": "python3",
      "display_name": "Python 3"
    },
    "language_info": {
      "name": "python"
    }
  },
  "cells": [
    {
      "cell_type": "markdown",
      "metadata": {
        "id": "40WhQJy2EWqx"
      },
      "source": [
        "# Casas-Ibarra\n",
        "Let $\\boldsymbol{A}$ $3\\times3$ a symmetric non-diagonal matrix with the following set of eigenvalues and eigenvectors:\n"
      ]
    },
    {
      "cell_type": "markdown",
      "metadata": {
        "id": "cwKjVMtNvgl0"
      },
      "source": [
        "____"
      ]
    },
    {
      "cell_type": "markdown",
      "metadata": {
        "id": "G-uQDCOkvgl0"
      },
      "source": [
        "### Eigenvalues\n",
        "The normal ordering of the absolute value of the eigenvalues is $m_1<m_2<m_3$. Each eigenvalue is expressed in units of eV, which just of an energy unit.\n",
        "### Eigenvectors\n",
        "The eigenvectors in the normal ordering are defined by\n",
        "$$\n",
        "\\boldsymbol{U}^T \\boldsymbol{A} \\boldsymbol{U}=\n",
        "\\begin{pmatrix}\n",
        "m_1& 0 & 0\\\\\n",
        "0 & m_2& 0\\\\\n",
        "0 & 0 & m_3\\\\\n",
        "\\end{pmatrix}.\n",
        "$$\n",
        "The unitary matrix can be parameterized in terms of three mixing angles, $\\theta_{23}$ $\\theta_{13}$, $\\theta_{12}$, such that\n",
        "$$\n",
        "\\boldsymbol{U}=\\left(\\begin{array}{ccc}\n",
        "1 & 0 & 0 \\\\\n",
        "0 & c_{23} & s_{23} \\\\\n",
        "0 & -s_{23} & c_{23}\n",
        "\\end{array}\\right) \\cdot\\left(\\begin{array}{ccc}\n",
        "c_{13} & 0 & s_{13}  \\\\\n",
        "0 & 1 & 0 \\\\\n",
        "-s_{13}  & 0 & c_{13}\n",
        "\\end{array}\\right) \\cdot\\left(\\begin{array}{ccc}\n",
        "c_{12} & s_{12} & 0 \\\\\n",
        "-s_{12} & c_{12} & 0 \\\\\n",
        "0 & 0 & 1\n",
        "\\end{array}\\right),\n",
        "$$\n",
        "where $c_{i j} \\equiv \\cos \\theta_{i j}$ and $s_{i j} \\equiv \\sin \\theta_{i j}$. Thus, we can write $\\boldsymbol{U}$ as\n",
        "$$\n",
        "\\boldsymbol{U}=\\left(\\begin{array}{ccc}c_{12} c_{13} & s_{12} c_{13} & s_{13}  \\\\ -s_{12} c_{23}-c_{12} s_{13} s_{23}& c_{12} c_{23}-s_{12} s_{13} s_{23}  & c_{13} s_{23} \\\\ s_{12} s_{23}-c_{12} s_{13} c_{23} & -c_{12} s_{23}-s_{12} s_{13} c_{23}  & c_{13} c_{23}\\end{array}\\right)\n",
        "$$\n",
        "so that\n",
        "$$\n",
        "\\boldsymbol{U}_1=\\begin{pmatrix}U_{e1}\\\\ U_{\\mu 1}\\\\ U_{\\tau 1}\\end{pmatrix}=\\begin{pmatrix}\n",
        "c_{12} c_{13} \\\\\n",
        "-s_{12} c_{23}-c_{12} s_{13} s_{23}  \\\\\n",
        "s_{12} s_{23}-c_{12} s_{13} c_{23} \n",
        "\\end{pmatrix},\\qquad \n",
        "\\boldsymbol{U}_2=\\begin{pmatrix}U_{e2}\\\\ U_{\\mu 2}\\\\ U_{\\tau 2}\\end{pmatrix}=\\begin{pmatrix}\n",
        "s_{12} c_{13} \\\\\n",
        "c_{12} c_{23}-s_{12} s_{13} s_{23}  \\\\\n",
        "-c_{12} s_{23}-s_{12} s_{13} c_{23} \n",
        "\\end{pmatrix},\\qquad\n",
        "\\boldsymbol{U}_3=\\begin{pmatrix}U_{e3}\\\\ U_{\\mu 3}\\\\ U_{\\tau 3}\\end{pmatrix}=\\begin{pmatrix}\n",
        "s_{13}  \\\\\n",
        "c_{13} s_{23} \\\\\n",
        "c_{13} c_{23}\n",
        "\\end{pmatrix}\n",
        "$$\n",
        "\n",
        "### Data\n",
        "Use the _central values_  of the following table but ignoring $\\delta_{CP}$ (In the previous equations was fixed to $\\delta_{CP}=0$). __Hint__: take care of the denominator in the first colum.\n",
        "\n",
        "![IMAGE](https://github.com/restrepo/ComputationalMethods/raw/master/material/figures/nu.png)\n",
        "\n",
        "where $\\Delta m^2_{ij}=m^2_i-m^2_j$ is the squared mass difference between eigenvalues $i$ and $j$; in units of $\\text{eV}^2$.\n"
      ]
    },
    {
      "cell_type": "markdown",
      "metadata": {
        "id": "bnSCrqmSvgl1"
      },
      "source": [
        "### Casas-Ibarra parameterization\n",
        "We can assumme without lost of generality that $\\boldsymbol{A}$ can be generated from a matrix $\\boldsymbol{Y}$ such that\n",
        "$$\n",
        "\\boldsymbol{A}=\\boldsymbol{Y}^{\\operatorname{T}}\\boldsymbol{Y}\n",
        "$$\n",
        "\n",
        "The matrix $\\boldsymbol{Y}$ can be parameterized in terms of an arbitray orthogonal $3\\times 3$ matrix, $\\boldsymbol{R}$, as\n",
        "$$\n",
        "\\boldsymbol{Y}=\\boldsymbol{R} \\boldsymbol{D}_{\\sqrt{m}} \\boldsymbol{U}^{\\operatorname{T}}\n",
        "$$\n",
        "\n",
        "\n",
        "* $R$ is an orthogonal $3\\times 3$ matrix, with three rotation angles $\\alpha_{ij}$ between $(0,2\\pi)$\n",
        "$$\n",
        "\\boldsymbol{R}=\\left(\\begin{array}{ccc}c^\\alpha_{12} c^\\alpha_{13} & s^\\alpha_{12} c^\\alpha_{13} & s^\\alpha_{13}  \\\\ -s^\\alpha_{12} c^\\alpha_{23}-c^\\alpha_{12} s^\\alpha_{13} s^\\alpha_{23}& c^\\alpha_{12} c^\\alpha_{23}-s^\\alpha_{12} s^\\alpha_{13} s^\\alpha_{23}  & c^\\alpha_{13} s^\\alpha_{23} \\\\ s^\\alpha_{12} s^\\alpha_{23}-c^\\alpha_{12} s^\\alpha_{13} c^\\alpha_{23} & -c^\\alpha_{12} s^\\alpha_{23}-s^\\alpha_{12} s^\\alpha_{13} c^\\alpha_{23}  & c^\\alpha_{13} c^\\alpha_{23}\\end{array}\\right)\n",
        "$$\n",
        "where $c^\\alpha_{i j} \\equiv \\cos \\alpha_{i j}$ and $s^\\alpha_{i j} \\equiv \\sin \\alpha_{i j}$.\n",
        "\n",
        "* $$\n",
        " \\boldsymbol{D}_{\\sqrt{m}}=\\operatorname{diag}\\left(\\sqrt{m_1},\\sqrt{m_2},\\sqrt{m_3}\\right)\n",
        "$$"
      ]
    },
    {
      "cell_type": "markdown",
      "metadata": {
        "id": "Iqj7EWSPvgl3"
      },
      "source": [
        "### Problem\n",
        "1. Choose a random value for $m_1$ between $10^{-9}\\ \\text{eV}$ and $10^{-4}\\ \\text{eV}$. Note that because of the wide range, the random variation  must be in the exponents. Obtain the corresponding $m_2$ and $m_3$ with the proper normal ordering.\n",
        "1. Choose random values for $\\alpha_{ij}$  between $(0,2\\pi)$\n",
        "1. Obtain $\\boldsymbol{Y}$\n",
        "1. Check that the generated $\\boldsymbol{A}$ has the proper eigenvalues and eigenvectors\n",
        "1. Check that the eigenvalues of $\\boldsymbol{Y}$ correspond to the square root of the eigenvalues of $\\boldsymbol{A}$ and explain why."
      ]
    },
    {
      "cell_type": "code",
      "metadata": {
        "id": "J7ukvHP4yRc1"
      },
      "source": [
        "#1)\n",
        "import numpy as np\n",
        "import random as rd"
      ],
      "execution_count": 340,
      "outputs": []
    },
    {
      "cell_type": "code",
      "metadata": {
        "colab": {
          "base_uri": "https://localhost:8080/"
        },
        "id": "jnXy0E5-1-lj",
        "outputId": "e64b2eaa-169a-438e-cd8f-e8cafed0179d"
      },
      "source": [
        "m1 = (10 ** rd.randint(-9, -4)) # [eV] # m1 aleatorio \n",
        "m2 = np.sqrt(7.39 * (10**(-5)) + m1 ** 2) # m2 a partir de la tabla\n",
        "m3 = np.sqrt(2.449 * (10**(-3)) + m2 ** 2) # m3 a partir de la tabla \n",
        "\n",
        "print(m1, m2, m3)"
      ],
      "execution_count": 341,
      "outputs": [
        {
          "output_type": "stream",
          "name": "stdout",
          "text": [
            "0.0001 0.00859709253178073 0.05022857752315906\n"
          ]
        }
      ]
    },
    {
      "cell_type": "code",
      "metadata": {
        "id": "lQNK8n274yNF"
      },
      "source": [
        "#2)"
      ],
      "execution_count": 342,
      "outputs": []
    },
    {
      "cell_type": "code",
      "metadata": {
        "colab": {
          "base_uri": "https://localhost:8080/"
        },
        "id": "Gx_J2L6p2Ot4",
        "outputId": "0af9388c-0a8b-4804-96d6-1812085f0401"
      },
      "source": [
        "alpha_12 = rd.uniform(0, 2 * np.pi) # alpha12 aleatorio entre 0 y 2pi\n",
        "alpha_13 = rd.uniform(0, 2 * np.pi) # alpha13 aleatorio entre 0 y 2pi\n",
        "alpha_23 = rd.uniform(0, 2 * np.pi) # alpha23 aleatorio entre 0 y 2pi\n",
        "\n",
        "print(alpha_12, alpha_13, alpha_23)"
      ],
      "execution_count": 343,
      "outputs": [
        {
          "output_type": "stream",
          "name": "stdout",
          "text": [
            "0.687847691766626 4.6734225606494295 3.6243737837939354\n"
          ]
        }
      ]
    },
    {
      "cell_type": "code",
      "metadata": {
        "id": "mMa6qrET3_NV"
      },
      "source": [
        "#3)"
      ],
      "execution_count": 344,
      "outputs": []
    },
    {
      "cell_type": "markdown",
      "metadata": {
        "id": "v1yCQB7mVdhu"
      },
      "source": [
        "$$\n",
        "\\boldsymbol{U}=\\left(\\begin{array}{ccc}\n",
        "1 & 0 & 0 \\\\\n",
        "0 & c_{23} & s_{23} \\\\\n",
        "0 & -s_{23} & c_{23}\n",
        "\\end{array}\\right) \\cdot\\left(\\begin{array}{ccc}\n",
        "c_{13} & 0 & s_{13}  \\\\\n",
        "0 & 1 & 0 \\\\\n",
        "-s_{13}  & 0 & c_{13}\n",
        "\\end{array}\\right) \\cdot\\left(\\begin{array}{ccc}\n",
        "c_{12} & s_{12} & 0 \\\\\n",
        "-s_{12} & c_{12} & 0 \\\\\n",
        "0 & 0 & 1\n",
        "\\end{array}\\right),\n",
        "$$"
      ]
    },
    {
      "cell_type": "code",
      "metadata": {
        "colab": {
          "base_uri": "https://localhost:8080/"
        },
        "id": "3vW9lHLNEl2Q",
        "outputId": "641111a4-e80a-46ab-ce17-da5924e62d7b"
      },
      "source": [
        "theta12 = np.deg2rad(33.82) # generamos theta12 en radianes a partir de la iamgen \n",
        "theta13 = np.deg2rad(8.61)  # generamos theta13 en radianes a partir de la iamgen \n",
        "theta23 = np.deg2rad(48.3)  # generamos theta23 en radianes a partir de la iamgen \n",
        "\n",
        "# generamos los valores que corresponden a la matriz U \n",
        "co12 = np.cos(theta12) \n",
        "co13 = np.cos(theta13)\n",
        "co23 = np.cos(theta23)\n",
        "\n",
        "si12 = np.sin(theta12)\n",
        "si13 = np.sin(theta13)\n",
        "si23 = np.sin(theta23)\n",
        "\n",
        "# generamos las matrices que daran la matriz U\n",
        "u1 = np.matrix([[1, 0,  0],\n",
        "                [0,co23,si23],\n",
        "                [0,-si23,co23]])\n",
        "\n",
        "u2 = np.matrix([[co13, 0,  si13],\n",
        "                [0,    1,   0],\n",
        "                [-si13, 0, co13]])\n",
        "\n",
        "u3 = np.matrix([[co12, si12,  0],\n",
        "                [-si12, co12,  0],\n",
        "                [0,     0,  1]])\n",
        "\n",
        "U = u1 * u2 * u3 # Matriz U\n",
        "U_T = np.transpose(U) # Matriz U transpuesta\n",
        "\n",
        "print(U)\n",
        "print(\"\\n\")\n",
        "print(U_T)"
      ],
      "execution_count": 345,
      "outputs": [
        {
          "output_type": "stream",
          "name": "stdout",
          "text": [
            "[[ 0.82142745  0.55031308  0.14970791]\n",
            " [-0.46312144  0.49045305  0.73822377]\n",
            " [ 0.33282949 -0.67573021  0.65773339]]\n",
            "\n",
            "\n",
            "[[ 0.82142745 -0.46312144  0.33282949]\n",
            " [ 0.55031308  0.49045305 -0.67573021]\n",
            " [ 0.14970791  0.73822377  0.65773339]]\n"
          ]
        }
      ]
    },
    {
      "cell_type": "markdown",
      "metadata": {
        "id": "GGYn78gjS3u0"
      },
      "source": [
        "$$\n",
        "\\boldsymbol{R}=\\left(\\begin{array}{ccc}c^\\alpha_{12} c^\\alpha_{13} & s^\\alpha_{12} c^\\alpha_{13} & s^\\alpha_{13}  \\\\ -s^\\alpha_{12} c^\\alpha_{23}-c^\\alpha_{12} s^\\alpha_{13} s^\\alpha_{23}& c^\\alpha_{12} c^\\alpha_{23}-s^\\alpha_{12} s^\\alpha_{13} s^\\alpha_{23}  & c^\\alpha_{13} s^\\alpha_{23} \\\\ s^\\alpha_{12} s^\\alpha_{23}-c^\\alpha_{12} s^\\alpha_{13} c^\\alpha_{23} & -c^\\alpha_{12} s^\\alpha_{23}-s^\\alpha_{12} s^\\alpha_{13} c^\\alpha_{23}  & c^\\alpha_{13} c^\\alpha_{23}\\end{array}\\right)\n",
        "$$"
      ]
    },
    {
      "cell_type": "code",
      "metadata": {
        "colab": {
          "base_uri": "https://localhost:8080/"
        },
        "id": "0yPTecdw5f08",
        "outputId": "aab309d4-6ace-4c31-99d3-292ff4c5e332"
      },
      "source": [
        "D_sqrt_m = np.diag([np.sqrt(m1),np.sqrt(m2),np.sqrt(m3)]) # Matriz diagonal con los autovalores de A\n",
        "\n",
        "# generamos los valores que corresponden a la matriz R\n",
        "c12 = np.cos(alpha_12)\n",
        "c13 = np.cos(alpha_13)\n",
        "c23 = np.cos(alpha_23)\n",
        "\n",
        "s12 = np.sin(alpha_12)\n",
        "s13 = np.sin(alpha_13)\n",
        "s23 = np.sin(alpha_23)\n",
        "\n",
        "\n",
        "R11, R12, R13 = c12 * c13 , s12 * c13, s13\n",
        "R21, R22, R23= -s12 * c23 - c12 * s13 * s23, c12 * c23 - s12 * s13 * s23, c13 * s23\n",
        "R31, R32, R33 = s12 * s23 - c12 * s13 * c23, -c12 * s23 - s12 * s13 * c23, c13 * c23 \n",
        "\n",
        "# R ortogonal 3x3 con rotacion de angulos alpha_ij\n",
        "R = np.array([[R11, R12, R13],\n",
        "             [R21, R22, R23],\n",
        "             [R31, R32, R33]])\n",
        "\n",
        "print(R)"
      ],
      "execution_count": 346,
      "outputs": [
        {
          "output_type": "stream",
          "name": "stdout",
          "text": [
            "[[-0.03009839 -0.02473257 -0.99924091]\n",
            " [ 0.2039046  -0.9788237   0.01808536]\n",
            " [-0.97852798 -0.20320548  0.03450411]]\n"
          ]
        }
      ]
    },
    {
      "cell_type": "code",
      "metadata": {
        "colab": {
          "base_uri": "https://localhost:8080/"
        },
        "id": "q143ogeXBzzY",
        "outputId": "9af9c858-8c6d-47ef-cbab-d96842b9db3f"
      },
      "source": [
        "Y = R * D_sqrt_m * U_T # Matriz Y \n",
        "Y_T = np.transpose(Y) # Matriz Y transpuesta\n",
        "\n",
        "print(Y)\n",
        "print(\"\\n\")\n",
        "print(Y_T)"
      ],
      "execution_count": 347,
      "outputs": [
        {
          "output_type": "stream",
          "name": "stdout",
          "text": [
            "[[-0.00024724  0.00013939 -0.00010018]\n",
            " [-0.04994478 -0.04451206  0.06132727]\n",
            " [ 0.00115769  0.00570866  0.00508623]]\n",
            "\n",
            "\n",
            "[[-0.00024724 -0.04994478  0.00115769]\n",
            " [ 0.00013939 -0.04451206  0.00570866]\n",
            " [-0.00010018  0.06132727  0.00508623]]\n"
          ]
        }
      ]
    },
    {
      "cell_type": "code",
      "metadata": {
        "id": "20Maef39DDeJ"
      },
      "source": [
        "#4)"
      ],
      "execution_count": 348,
      "outputs": []
    },
    {
      "cell_type": "code",
      "metadata": {
        "colab": {
          "base_uri": "https://localhost:8080/"
        },
        "id": "-PZciZK6DUSH",
        "outputId": "71ad5865-ca0c-4856-83b7-f6b46d945142"
      },
      "source": [
        "A = Y_T * Y  # Matriz A\n",
        "np.linalg.eig(A) # Valores y Vectores propios "
      ],
      "execution_count": 349,
      "outputs": [
        {
          "output_type": "execute_result",
          "data": {
            "text/plain": [
              "(array([8.23683854e-03, 9.05913265e-08, 5.97987966e-05]),\n",
              " matrix([[-0.55031308, -0.82142745,  0.14970791],\n",
              "         [-0.49045305,  0.46312144,  0.73822377],\n",
              "         [ 0.67573021, -0.33282949,  0.65773339]]))"
            ]
          },
          "metadata": {},
          "execution_count": 349
        }
      ]
    },
    {
      "cell_type": "code",
      "metadata": {
        "colab": {
          "base_uri": "https://localhost:8080/"
        },
        "id": "q3nIaXo4FqFR",
        "outputId": "23d6de77-0af2-4445-d536-882f0db77268"
      },
      "source": [
        "(U_T * A * U).round(5) # autovalores "
      ],
      "execution_count": 350,
      "outputs": [
        {
          "output_type": "execute_result",
          "data": {
            "text/plain": [
              "array([[ 0.00e+00,  0.00e+00, -0.00e+00],\n",
              "       [-0.00e+00,  8.24e-03,  0.00e+00],\n",
              "       [-0.00e+00,  0.00e+00,  6.00e-05]])"
            ]
          },
          "metadata": {},
          "execution_count": 350
        }
      ]
    },
    {
      "cell_type": "code",
      "metadata": {
        "colab": {
          "base_uri": "https://localhost:8080/"
        },
        "id": "u9_qlwAcGAYf",
        "outputId": "9b858f60-7b6b-44db-cd12-91d521a3a290"
      },
      "source": [
        "# Autevector 1\n",
        "av1 = np.array([[co12 * co13],\n",
        "              [-si12 * co23 - co12 * si13 * si23],\n",
        "              [si12 * si23 - co12 * si13 * co23]])\n",
        "\n",
        "# Autovector 2\n",
        "av2 = np.array([[si12 * co13], \n",
        "                [co12 * co23 - si12 * si13 * si23], \n",
        "                [-co12 * si23 - si12 * si13 * co23]])\n",
        "\n",
        "# Autovector 3\n",
        "av3 = np.array([[si13], \n",
        "                [co13 * si23], \n",
        "                [co13 * co23]])\n",
        "# coinciden con los autovectores de A\n",
        "\n",
        "print(av1)\n",
        "print(\"\\n\")\n",
        "print(av2)\n",
        "print(\"\\n\")\n",
        "print(av3)"
      ],
      "execution_count": 351,
      "outputs": [
        {
          "output_type": "stream",
          "name": "stdout",
          "text": [
            "[[ 0.82142745]\n",
            " [-0.46312144]\n",
            " [ 0.33282949]]\n",
            "\n",
            "\n",
            "[[ 0.55031308]\n",
            " [ 0.49045305]\n",
            " [-0.67573021]]\n",
            "\n",
            "\n",
            "[[0.14970791]\n",
            " [0.73822377]\n",
            " [0.65773339]]\n"
          ]
        }
      ]
    },
    {
      "cell_type": "code",
      "metadata": {
        "id": "pV6kIEuPGSHU"
      },
      "source": [
        "#5)"
      ],
      "execution_count": 352,
      "outputs": []
    },
    {
      "cell_type": "code",
      "metadata": {
        "colab": {
          "base_uri": "https://localhost:8080/"
        },
        "id": "0u3fIELDIJxd",
        "outputId": "2ab86a19-1b42-444b-9a26-3f92bfdd7582"
      },
      "source": [
        "(np.linalg.eigvals(Y) ** 2), np.linalg.eigvals(A)\n",
        "# auto valores de Y al cuadrado y para "
      ],
      "execution_count": 353,
      "outputs": [
        {
          "output_type": "execute_result",
          "data": {
            "text/plain": [
              "(array([2.56462858e-03, 1.35368426e-07, 1.28528003e-04]),\n",
              " array([8.23683854e-03, 9.05913265e-08, 5.97987966e-05]))"
            ]
          },
          "metadata": {},
          "execution_count": 353
        }
      ]
    },
    {
      "cell_type": "code",
      "metadata": {
        "colab": {
          "base_uri": "https://localhost:8080/"
        },
        "id": "2-SyUuFYImtP",
        "outputId": "79f1bbc7-552b-49e3-f030-27a8b36b3f82"
      },
      "source": [
        "(np.linalg.eigvals(Y) ** 2)[0] - np.linalg.eigvals(A)[0] \n",
        "# esta es la diferencia entre los dos valores propios, es una diferencia muy pequeña"
      ],
      "execution_count": 354,
      "outputs": [
        {
          "output_type": "execute_result",
          "data": {
            "text/plain": [
              "-0.0056722099544083415"
            ]
          },
          "metadata": {},
          "execution_count": 354
        }
      ]
    },
    {
      "cell_type": "code",
      "metadata": {
        "colab": {
          "base_uri": "https://localhost:8080/"
        },
        "id": "8K9yz7LhLcau",
        "outputId": "e6f93a9d-156b-478a-8590-7b4202bca05d"
      },
      "source": [
        "(np.linalg.eigvals(Y) ** 2)[1] - np.linalg.eigvals(A)[1] \n",
        "# esta es la diferencia entre los dos valores propios, es una diferencia muy pequeña"
      ],
      "execution_count": 355,
      "outputs": [
        {
          "output_type": "execute_result",
          "data": {
            "text/plain": [
              "4.477709959713203e-08"
            ]
          },
          "metadata": {},
          "execution_count": 355
        }
      ]
    },
    {
      "cell_type": "code",
      "metadata": {
        "colab": {
          "base_uri": "https://localhost:8080/"
        },
        "id": "W0h8roaXLfMS",
        "outputId": "f31d7821-aed0-4818-b177-3a8a6cf13566"
      },
      "source": [
        "(np.linalg.eigvals(Y) ** 2)[2] - np.linalg.eigvals(A)[2] \n",
        "# esta es la diferencia entre los dos valores propios, es un valor muy pequeña"
      ],
      "execution_count": 356,
      "outputs": [
        {
          "output_type": "execute_result",
          "data": {
            "text/plain": [
              "6.87292060249723e-05"
            ]
          },
          "metadata": {},
          "execution_count": 356
        }
      ]
    },
    {
      "cell_type": "code",
      "metadata": {
        "id": "sRHOkE1kM_Y0"
      },
      "source": [
        ""
      ],
      "execution_count": 356,
      "outputs": []
    }
  ]
}