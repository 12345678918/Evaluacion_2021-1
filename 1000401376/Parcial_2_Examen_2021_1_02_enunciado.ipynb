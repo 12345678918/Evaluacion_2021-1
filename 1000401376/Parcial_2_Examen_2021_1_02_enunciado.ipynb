{
  "nbformat": 4,
  "nbformat_minor": 0,
  "metadata": {
    "kernelspec": {
      "display_name": "Python 3 (ipykernel)",
      "language": "python",
      "name": "python3"
    },
    "language_info": {
      "codemirror_mode": {
        "name": "ipython",
        "version": 3
      },
      "file_extension": ".py",
      "mimetype": "text/x-python",
      "name": "python",
      "nbconvert_exporter": "python",
      "pygments_lexer": "ipython3",
      "version": "3.7.3"
    },
    "colab": {
      "name": "Parcial_2_Examen_2021_1_02_enunciado.ipynb",
      "provenance": [],
      "collapsed_sections": []
    }
  },
  "cells": [
    {
      "cell_type": "markdown",
      "metadata": {
        "id": "9x5jwKCPmou0"
      },
      "source": [
        "A) Los siguientes datos fueron extraidos de un [perfil real de Instragram](https://www.instagram.com/paulacano24/):\n",
        "\n",
        "https://raw.githubusercontent.com/restrepo/ComputationalMethods/master/data/Followers.json\n",
        "\n",
        "Interprete los datos como un problema de caida libre y a partir del ajuste (fit) a la correspondiente ecuación de movimiento, determine\n",
        "1. La velocidad inicial de incremento de seguidores en `followers/hour`\n",
        "1. La aceleración constante en `followers/hour**2`\n",
        "1. El número máximo de seguidores que alcanzaría el perfil\n",
        "1. La fecha en la que se alcanzaría dicho máximo\n",
        "\n",
        "B) El período de  un pendulo de longitud $l$ oscilando a ángulos grandes  $\\alpha$, está dado por\n",
        "$$\n",
        "T=T_{0} \\frac{\\sqrt{2}}{\\pi} \\int_{0}^{\\alpha} \\frac{d \\theta}{(\\cos \\theta-\\cos \\alpha)^{\\frac{1}{2}}}\n",
        "$$\n",
        "donde\n",
        "$$\n",
        "T_{0}=2 \\pi \\sqrt{\\frac{l}{g}}\n",
        "$$\n",
        "es el período del mismo péndulo a pequeñas amplitudes. Culquier intento de evaluación numérico de esa integral debería fallar. Sin embargo, si hacemos el cambio de variable\n",
        "$$\n",
        "\\sin \\frac{\\theta}{2}=\\sin \\frac{\\alpha}{2} \\sin \\phi\n",
        "$$\n",
        "obtenemos\n",
        "$$\n",
        "T=\\frac{2 T_{0}}{\\pi} \\int_{0}^{\\frac{\\pi}{2}} \\frac{d \\phi}{\\left(1-\\sin ^{2} \\frac{\\alpha}{2} \\sin ^{2} \\phi\\right)^{\\frac{1}{2}}}\n",
        "$$\n",
        "que corresponde a una integral bien comportada. \n",
        "1. Escriba un programa que use la anterio integral para calcular el cociente  $T/T_0$ para ángulos enteros (en grados) $0^\\circ \\le\\alpha \\le 90^\\circ$.  \n",
        "1. Genere un DataFrame de pandas que contenga como columnas: la amplitud en grados, la amplitud en radianes, y el cociente $T/T_0$, \n",
        "1. Haga un gráfico de $T/T_0$ como función de $\\alpha$ (en grados). \n",
        "1. Explain the result when $\\alpha = 0.$ "
      ]
    },
    {
      "cell_type": "code",
      "metadata": {
        "id": "K9cxIVzHnSge"
      },
      "source": [
        "import pandas as pd\n",
        "import numpy as np \n",
        "import matplotlib.pyplot as plt\n",
        "from scipy import integrate"
      ],
      "execution_count": 233,
      "outputs": []
    },
    {
      "cell_type": "code",
      "metadata": {
        "colab": {
          "base_uri": "https://localhost:8080/",
          "height": 414
        },
        "id": "zrjeeYebnZ8h",
        "outputId": "3b9d384c-0be1-420f-fcda-f0bb667094e7"
      },
      "source": [
        "#a)\n",
        "df = pd.read_json(\"https://raw.githubusercontent.com/restrepo/ComputationalMethods/master/data/Followers.json\")\n",
        "df"
      ],
      "execution_count": 234,
      "outputs": [
        {
          "output_type": "execute_result",
          "data": {
            "text/html": [
              "<div>\n",
              "<style scoped>\n",
              "    .dataframe tbody tr th:only-of-type {\n",
              "        vertical-align: middle;\n",
              "    }\n",
              "\n",
              "    .dataframe tbody tr th {\n",
              "        vertical-align: top;\n",
              "    }\n",
              "\n",
              "    .dataframe thead th {\n",
              "        text-align: right;\n",
              "    }\n",
              "</style>\n",
              "<table border=\"1\" class=\"dataframe\">\n",
              "  <thead>\n",
              "    <tr style=\"text-align: right;\">\n",
              "      <th></th>\n",
              "      <th>followers</th>\n",
              "      <th>date_time</th>\n",
              "      <th>hours</th>\n",
              "    </tr>\n",
              "  </thead>\n",
              "  <tbody>\n",
              "    <tr>\n",
              "      <th>0</th>\n",
              "      <td>42696</td>\n",
              "      <td>2021-08-04 22:06:53.668</td>\n",
              "      <td>0.000000</td>\n",
              "    </tr>\n",
              "    <tr>\n",
              "      <th>1</th>\n",
              "      <td>42706</td>\n",
              "      <td>2021-08-04 23:06:56.517</td>\n",
              "      <td>1.000791</td>\n",
              "    </tr>\n",
              "    <tr>\n",
              "      <th>2</th>\n",
              "      <td>42716</td>\n",
              "      <td>2021-08-05 00:06:59.505</td>\n",
              "      <td>2.001621</td>\n",
              "    </tr>\n",
              "    <tr>\n",
              "      <th>3</th>\n",
              "      <td>42734</td>\n",
              "      <td>2021-08-05 01:07:02.174</td>\n",
              "      <td>3.002363</td>\n",
              "    </tr>\n",
              "    <tr>\n",
              "      <th>4</th>\n",
              "      <td>42749</td>\n",
              "      <td>2021-08-05 02:07:04.854</td>\n",
              "      <td>4.003107</td>\n",
              "    </tr>\n",
              "    <tr>\n",
              "      <th>...</th>\n",
              "      <td>...</td>\n",
              "      <td>...</td>\n",
              "      <td>...</td>\n",
              "    </tr>\n",
              "    <tr>\n",
              "      <th>615</th>\n",
              "      <td>47452</td>\n",
              "      <td>2021-09-02 12:29:21.834</td>\n",
              "      <td>686.374491</td>\n",
              "    </tr>\n",
              "    <tr>\n",
              "      <th>616</th>\n",
              "      <td>47486</td>\n",
              "      <td>2021-09-02 19:59:32.801</td>\n",
              "      <td>693.877537</td>\n",
              "    </tr>\n",
              "    <tr>\n",
              "      <th>617</th>\n",
              "      <td>47491</td>\n",
              "      <td>2021-09-02 20:59:50.542</td>\n",
              "      <td>694.882465</td>\n",
              "    </tr>\n",
              "    <tr>\n",
              "      <th>618</th>\n",
              "      <td>47493</td>\n",
              "      <td>2021-09-02 21:59:59.345</td>\n",
              "      <td>695.884910</td>\n",
              "    </tr>\n",
              "    <tr>\n",
              "      <th>619</th>\n",
              "      <td>47498</td>\n",
              "      <td>2021-09-02 23:00:11.350</td>\n",
              "      <td>696.888245</td>\n",
              "    </tr>\n",
              "  </tbody>\n",
              "</table>\n",
              "<p>620 rows × 3 columns</p>\n",
              "</div>"
            ],
            "text/plain": [
              "     followers               date_time       hours\n",
              "0        42696 2021-08-04 22:06:53.668    0.000000\n",
              "1        42706 2021-08-04 23:06:56.517    1.000791\n",
              "2        42716 2021-08-05 00:06:59.505    2.001621\n",
              "3        42734 2021-08-05 01:07:02.174    3.002363\n",
              "4        42749 2021-08-05 02:07:04.854    4.003107\n",
              "..         ...                     ...         ...\n",
              "615      47452 2021-09-02 12:29:21.834  686.374491\n",
              "616      47486 2021-09-02 19:59:32.801  693.877537\n",
              "617      47491 2021-09-02 20:59:50.542  694.882465\n",
              "618      47493 2021-09-02 21:59:59.345  695.884910\n",
              "619      47498 2021-09-02 23:00:11.350  696.888245\n",
              "\n",
              "[620 rows x 3 columns]"
            ]
          },
          "metadata": {},
          "execution_count": 234
        }
      ]
    },
    {
      "cell_type": "code",
      "metadata": {
        "colab": {
          "base_uri": "https://localhost:8080/"
        },
        "id": "lceu0uaFnfoH",
        "outputId": "f5009518-9dbf-4b22-d7c5-04373438439b"
      },
      "source": [
        "P = np.polyfit(df[\"hours\"], df[\"followers\"], 2)\n",
        "P1 = np.poly1d([P[0], P[1], P[2]])\n",
        "print(f\"Polinomio : \\n {P1}\")\n",
        "\n",
        "v_0 = P[1] #Velocidad inicial\n",
        "a_0 = P[0]*2 #aceleracion inicial \n",
        "seguidores_max = max(df[\"followers\"]) # seguidores maximos \n"
      ],
      "execution_count": 235,
      "outputs": [
        {
          "output_type": "stream",
          "name": "stdout",
          "text": [
            "Polinomio : \n",
            "            2\n",
            "-0.002438 x + 8.552 x + 4.276e+04\n"
          ]
        }
      ]
    },
    {
      "cell_type": "code",
      "metadata": {
        "colab": {
          "base_uri": "https://localhost:8080/",
          "height": 304
        },
        "id": "ZjM6qFbCn0nc",
        "outputId": "576d60a0-aae4-43ff-ae4e-84751d7aad1c"
      },
      "source": [
        "plt.plot(df[\"hours\"], df[\"followers\"])\n",
        "plt.title(\"$hours \\ vs \\ followers$\", size = 20)\n",
        "plt.xlabel(\"hours\", size = 15)\n",
        "plt.ylabel(\"followers\", size = 15)\n",
        "plt.grid()"
      ],
      "execution_count": 236,
      "outputs": [
        {
          "output_type": "display_data",
          "data": {
            "image/png": "[encoded data removed]",
            "text/plain": [
              "<Figure size 432x288 with 1 Axes>"
            ]
          },
          "metadata": {
            "needs_background": "light"
          }
        }
      ]
    },
    {
      "cell_type": "code",
      "metadata": {
        "colab": {
          "base_uri": "https://localhost:8080/"
        },
        "id": "ZZre5BWMskHp",
        "outputId": "8ef6f3e8-18fa-43b9-b00d-de5091e00427"
      },
      "source": [
        "dP = P1.deriv() # Derivada del polinomio \n",
        "print(dP) # Polinomio derivado\n",
        "np.max(dP) # la velocidad\n",
        "print(dP.roots) # Tiempo en que se alcanza el maximo\n",
        "print(np.max(P1(dP.roots))) # es el numero maximo de followwers que obtendra"
      ],
      "execution_count": 237,
      "outputs": [
        {
          "output_type": "stream",
          "name": "stdout",
          "text": [
            " \n",
            "-0.004875 x + 8.552\n",
            "[1754.19313857]\n",
            "50262.136729011865\n"
          ]
        }
      ]
    },
    {
      "cell_type": "code",
      "metadata": {
        "colab": {
          "base_uri": "https://localhost:8080/"
        },
        "id": "gFZpC9WLoDel",
        "outputId": "474a257c-dcbb-47aa-fc2b-a77f1ffbafb0"
      },
      "source": [
        "x = df[\"date_time\"].values.astype(float)\n",
        "coef = np.polyfit(x, df[\"followers\"], 2)\n",
        "poly = np.poly1d([coef[0], coef[1], coef[2]])\n",
        "fech = poly.deriv().roots #la fecha en flotante\n",
        "pd.to_datetime(fech) # fecha en la cual conseguira el maximo de followers"
      ],
      "execution_count": 238,
      "outputs": [
        {
          "output_type": "execute_result",
          "data": {
            "text/plain": [
              "DatetimeIndex(['2021-10-17 00:18:28.965938432'], dtype='datetime64[ns]', freq=None)"
            ]
          },
          "metadata": {},
          "execution_count": 238
        }
      ]
    },
    {
      "cell_type": "markdown",
      "metadata": {
        "id": "bpX7R1ML3aOg"
      },
      "source": [
        "B) El período de  un pendulo de longitud $l$ oscilando a ángulos grandes  $\\alpha$, está dado por\n",
        "$$\n",
        "T=T_{0} \\frac{\\sqrt{2}}{\\pi} \\int_{0}^{\\alpha} \\frac{d \\theta}{(\\cos \\theta-\\cos \\alpha)^{\\frac{1}{2}}}\n",
        "$$\n",
        "donde\n",
        "$$\n",
        "T_{0}=2 \\pi \\sqrt{\\frac{l}{g}}\n",
        "$$\n",
        "es el período del mismo péndulo a pequeñas amplitudes. Culquier intento de evaluación numérico de esa integral debería fallar. Sin embargo, si hacemos el cambio de variable\n",
        "$$\n",
        "\\sin \\frac{\\theta}{2}=\\sin \\frac{\\alpha}{2} \\sin \\phi\n",
        "$$\n",
        "obtenemos\n",
        "$$\n",
        "T=\\frac{2 T_{0}}{\\pi} \\int_{0}^{\\frac{\\pi}{2}} \\frac{d \\phi}{\\left(1-\\sin ^{2} \\frac{\\alpha}{2} \\sin ^{2} \\phi\\right)^{\\frac{1}{2}}}\n",
        "$$\n",
        "que corresponde a una integral bien comportada. \n",
        "1. Escriba un programa que use la anterio integral para calcular el cociente  $T/T_0$ para ángulos enteros (en grados) $0^\\circ \\le\\alpha \\le 90^\\circ$.  \n",
        "1. Genere un DataFrame de pandas que contenga como columnas: la amplitud en grados, la amplitud en radianes, y el cociente $T/T_0$, \n",
        "1. Haga un gráfico de $T/T_0$ como función de $\\alpha$ (en grados). \n",
        "1. Explain the result when $\\alpha = 0.$ "
      ]
    },
    {
      "cell_type": "code",
      "metadata": {
        "colab": {
          "base_uri": "https://localhost:8080/"
        },
        "id": "6m-rNa08vvOZ",
        "outputId": "062cbc01-4364-410e-ce1b-0077be4e9479"
      },
      "source": [
        "#B) 1) \n",
        "alpha = np.arange(0 , 91, 1) #alpha en grados \n",
        "alpha1 = np.deg2rad(alpha)\n",
        "def f(phi, alpha1):\n",
        "  return 1/(1 - ((np.sin(alpha1/2))**2) * (np.sin(phi))**2)**(0.5)\n",
        "\n",
        "\n",
        "integral = np.vectorize(integrate.quad)\n",
        "integral = integral(f, 0, np.pi/2, args = (alpha1)) #los valores de la integral en una tupla\n",
        "integral = np.array(integral)\n",
        "T_T0 = (2/np.pi) * integral[0] #multiplicar lo por los valores, y no por el error \n",
        "T_T0"
      ],
      "execution_count": 239,
      "outputs": [
        {
          "output_type": "execute_result",
          "data": {
            "text/plain": [
              "array([1.        , 1.00001904, 1.00007616, 1.00017137, 1.0003047 ,\n",
              "       1.00047617, 1.00068582, 1.00093369, 1.00121983, 1.00154431,\n",
              "       1.00190719, 1.00230855, 1.00274847, 1.00322704, 1.00374438,\n",
              "       1.00430058, 1.00489577, 1.00553006, 1.00620361, 1.00691655,\n",
              "       1.00766903, 1.00846121, 1.00929327, 1.01016539, 1.01107775,\n",
              "       1.01203055, 1.013024  , 1.01405832, 1.01513373, 1.01625048,\n",
              "       1.0174088 , 1.01860895, 1.01985121, 1.02113584, 1.02246314,\n",
              "       1.02383341, 1.02524696, 1.0267041 , 1.02820518, 1.02975053,\n",
              "       1.03134052, 1.03297551, 1.03465589, 1.03638204, 1.03815439,\n",
              "       1.03997334, 1.04183934, 1.04375283, 1.04571428, 1.04772416,\n",
              "       1.04978296, 1.0518912 , 1.0540494 , 1.0562581 , 1.05851786,\n",
              "       1.06082924, 1.06319285, 1.06560929, 1.0680792 , 1.07060321,\n",
              "       1.07318201, 1.07581626, 1.0785067 , 1.08125403, 1.08405903,\n",
              "       1.08692245, 1.08984511, 1.09282782, 1.09587144, 1.09897683,\n",
              "       1.10214491, 1.10537659, 1.10867285, 1.11203465, 1.11546303,\n",
              "       1.11895904, 1.12252375, 1.12615829, 1.1298638 , 1.13364148,\n",
              "       1.13749256, 1.1414183 , 1.14542001, 1.14949904, 1.15365679,\n",
              "       1.1578947 , 1.16221426, 1.16661702, 1.17110455, 1.17567851,\n",
              "       1.1803406 ])"
            ]
          },
          "metadata": {},
          "execution_count": 239
        }
      ]
    },
    {
      "cell_type": "code",
      "metadata": {
        "id": "FsIrjSoj4sdp",
        "colab": {
          "base_uri": "https://localhost:8080/",
          "height": 414
        },
        "outputId": "fb1ade4d-5f1f-46cb-f16f-67674c0bb8ce"
      },
      "source": [
        "#2) \n",
        "dicc = {\"Amplitud_Grados\" : alpha, \"Amplitud_Radianes\" : alpha1, \"T/T0\" : T_T0}\n",
        "df = pd.DataFrame.from_dict(dicc)\n",
        "df "
      ],
      "execution_count": 240,
      "outputs": [
        {
          "output_type": "execute_result",
          "data": {
            "text/html": [
              "<div>\n",
              "<style scoped>\n",
              "    .dataframe tbody tr th:only-of-type {\n",
              "        vertical-align: middle;\n",
              "    }\n",
              "\n",
              "    .dataframe tbody tr th {\n",
              "        vertical-align: top;\n",
              "    }\n",
              "\n",
              "    .dataframe thead th {\n",
              "        text-align: right;\n",
              "    }\n",
              "</style>\n",
              "<table border=\"1\" class=\"dataframe\">\n",
              "  <thead>\n",
              "    <tr style=\"text-align: right;\">\n",
              "      <th></th>\n",
              "      <th>Amplitud_Grados</th>\n",
              "      <th>Amplitud_Radianes</th>\n",
              "      <th>T/T0</th>\n",
              "    </tr>\n",
              "  </thead>\n",
              "  <tbody>\n",
              "    <tr>\n",
              "      <th>0</th>\n",
              "      <td>0</td>\n",
              "      <td>0.000000</td>\n",
              "      <td>1.000000</td>\n",
              "    </tr>\n",
              "    <tr>\n",
              "      <th>1</th>\n",
              "      <td>1</td>\n",
              "      <td>0.017453</td>\n",
              "      <td>1.000019</td>\n",
              "    </tr>\n",
              "    <tr>\n",
              "      <th>2</th>\n",
              "      <td>2</td>\n",
              "      <td>0.034907</td>\n",
              "      <td>1.000076</td>\n",
              "    </tr>\n",
              "    <tr>\n",
              "      <th>3</th>\n",
              "      <td>3</td>\n",
              "      <td>0.052360</td>\n",
              "      <td>1.000171</td>\n",
              "    </tr>\n",
              "    <tr>\n",
              "      <th>4</th>\n",
              "      <td>4</td>\n",
              "      <td>0.069813</td>\n",
              "      <td>1.000305</td>\n",
              "    </tr>\n",
              "    <tr>\n",
              "      <th>...</th>\n",
              "      <td>...</td>\n",
              "      <td>...</td>\n",
              "      <td>...</td>\n",
              "    </tr>\n",
              "    <tr>\n",
              "      <th>86</th>\n",
              "      <td>86</td>\n",
              "      <td>1.500983</td>\n",
              "      <td>1.162214</td>\n",
              "    </tr>\n",
              "    <tr>\n",
              "      <th>87</th>\n",
              "      <td>87</td>\n",
              "      <td>1.518436</td>\n",
              "      <td>1.166617</td>\n",
              "    </tr>\n",
              "    <tr>\n",
              "      <th>88</th>\n",
              "      <td>88</td>\n",
              "      <td>1.535890</td>\n",
              "      <td>1.171105</td>\n",
              "    </tr>\n",
              "    <tr>\n",
              "      <th>89</th>\n",
              "      <td>89</td>\n",
              "      <td>1.553343</td>\n",
              "      <td>1.175679</td>\n",
              "    </tr>\n",
              "    <tr>\n",
              "      <th>90</th>\n",
              "      <td>90</td>\n",
              "      <td>1.570796</td>\n",
              "      <td>1.180341</td>\n",
              "    </tr>\n",
              "  </tbody>\n",
              "</table>\n",
              "<p>91 rows × 3 columns</p>\n",
              "</div>"
            ],
            "text/plain": [
              "    Amplitud_Grados  Amplitud_Radianes      T/T0\n",
              "0                 0           0.000000  1.000000\n",
              "1                 1           0.017453  1.000019\n",
              "2                 2           0.034907  1.000076\n",
              "3                 3           0.052360  1.000171\n",
              "4                 4           0.069813  1.000305\n",
              "..              ...                ...       ...\n",
              "86               86           1.500983  1.162214\n",
              "87               87           1.518436  1.166617\n",
              "88               88           1.535890  1.171105\n",
              "89               89           1.553343  1.175679\n",
              "90               90           1.570796  1.180341\n",
              "\n",
              "[91 rows x 3 columns]"
            ]
          },
          "metadata": {},
          "execution_count": 240
        }
      ]
    },
    {
      "cell_type": "code",
      "metadata": {
        "colab": {
          "base_uri": "https://localhost:8080/",
          "height": 316
        },
        "id": "K7NX3c5YABbN",
        "outputId": "8e3dde0c-0760-43b9-9664-acd82caf95eb"
      },
      "source": [
        "# 3)\n",
        "plt.plot(alpha, T_T0) \n",
        "plt.title(r\"$α \\ vs \\ \\frac{T}{T_{0}}$\", size = 20)\n",
        "plt.xlabel(\"α\", size = 15)\n",
        "plt.ylabel(r\"$\\frac{T}{T_{0}}$\", size = 15)\n",
        "plt.grid()"
      ],
      "execution_count": 241,
      "outputs": [
        {
          "output_type": "display_data",
          "data": {
            "image/png": "[encoded data removed]",
            "text/plain": [
              "<Figure size 432x288 with 1 Axes>"
            ]
          },
          "metadata": {
            "needs_background": "light"
          }
        }
      ]
    },
    {
      "cell_type": "code",
      "metadata": {
        "colab": {
          "base_uri": "https://localhost:8080/"
        },
        "id": "-WNpRGJeAvIF",
        "outputId": "11aab101-4583-44c1-8661-5489a89efdd1"
      },
      "source": [
        "T_T0[0] # cuando alpha == 0, tenemos que el resultado es T/T0 = 1"
      ],
      "execution_count": 242,
      "outputs": [
        {
          "output_type": "execute_result",
          "data": {
            "text/plain": [
              "1.0"
            ]
          },
          "metadata": {},
          "execution_count": 242
        }
      ]
    },
    {
      "cell_type": "markdown",
      "metadata": {
        "id": "FCBv73H_DiLp"
      },
      "source": [
        "Para la ecuacion\n",
        "$$\n",
        "T=\\frac{2 T_{0}}{\\pi} \\int_{0}^{\\frac{\\pi}{2}} \\frac{d \\phi}{\\left(1-\\sin ^{2} \\frac{\\alpha}{2} \\sin ^{2} \\phi\\right)^{\\frac{1}{2}}}\n",
        "\\\\\\\\\n",
        "$$\n",
        "Ahora hacemos $\\alpha$ = 0\n",
        "$$\n",
        "T = \\frac{2 T_{0}}{\\pi} \\int_{0}^{\\frac{\\pi}{2}} \\frac{d \\phi}{\\left(1-\\sin ^{2} \\frac{0}{2} \\sin ^{2} \\phi\\right)^{\\frac{1}{2}}} = \\frac{2 T_{0}}{\\pi} \\int_{0}^{\\frac{\\pi}{2}} \\frac{d \\phi}{1} = (\\frac{2 T_{0}}{\\pi}) (\\frac{2}{\\pi}) = T_{0} \n",
        "$$\n",
        "Por lo anterior obtenemos que\n",
        "$$\n",
        "T = T_{0} $$ Asi $$ \\frac{T}{T_{0}} = 1\n",
        "$$ \n"
      ]
    }
  ]
}