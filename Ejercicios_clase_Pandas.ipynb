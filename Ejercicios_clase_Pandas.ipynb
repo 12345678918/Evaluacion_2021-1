{
  "nbformat": 4,
  "nbformat_minor": 0,
  "metadata": {
    "colab": {
      "name": "Ejercicios clase Pandas.ipynb",
      "provenance": [],
      "collapsed_sections": [
        "z5JBXWlkh8Z3",
        "ElU5h9tnxE1Y",
        "4zhJVNq1pTTe",
        "5ulKgKBRxE1m",
        "pAZISlqKxE2T",
        "w8hdIGOvu3Ee",
        "s1rbHbLmuv2g",
        "378RNNb97OQs",
        "8wFVd7Sk7irH",
        "h2IQ3AOQ6y16"
      ],
      "toc_visible": true,
      "include_colab_link": true
    },
    "kernelspec": {
      "display_name": "Python 3",
      "language": "python",
      "name": "python3"
    },
    "language_info": {
      "codemirror_mode": {
        "name": "ipython",
        "version": 3
      },
      "file_extension": ".py",
      "mimetype": "text/x-python",
      "name": "python",
      "nbconvert_exporter": "python",
      "pygments_lexer": "ipython3",
      "version": "3.7.3"
    },
    "toc": {
      "colors": {
        "hover_highlight": "#DAA520",
        "running_highlight": "#FF0000",
        "selected_highlight": "#FFD700"
      },
      "moveMenuLeft": true,
      "nav_menu": {},
      "navigate_menu": true,
      "number_sections": true,
      "sideBar": true,
      "threshold": 4,
      "toc_cell": false,
      "toc_section_display": "block",
      "toc_window_display": false
    }
  },
  "cells": [
    {
      "cell_type": "markdown",
      "metadata": {
        "id": "view-in-github",
        "colab_type": "text"
      },
      "source": [
        "<a href=\"https://colab.research.google.com/github/CamiloLon/Evaluacion_2021-1/blob/main/Ejercicios_clase_Pandas.ipynb\" target=\"_parent\"><img src=\"https://colab.research.google.com/assets/colab-badge.svg\" alt=\"Open In Colab\"/></a>"
      ]
    },
    {
      "cell_type": "markdown",
      "metadata": {
        "id": "d8BGX58hxE06"
      },
      "source": [
        "# Pandas\n",
        "<a href=\"https://colab.research.google.com/github/restrepo/ComputationalMethods/blob/master/material/Pandas.ipynb\" target=\"_parent\"><img src=\"https://colab.research.google.com/assets/colab-badge.svg\" alt=\"Open In Colab\"/></a>"
      ]
    },
    {
      "cell_type": "markdown",
      "metadata": {
        "id": "zm9tRsn7xE0_"
      },
      "source": [
        "From http://pandas.pydata.org/pandas-docs/stable/\n",
        "\n",
        "pandas is a Python package providing fast, flexible, and expressive data structures designed to make working with “relational” or “labeled” data both easy and intuitive. It aims to be the fundamental high-level building block for doing practical, real world data analysis in Python. Additionally, it has the broader goal of becoming the most powerful and flexible open source data analysis / manipulation tool available in any language. It is already well on its way toward this goal.\n",
        "\n",
        "See also:\n",
        "\n",
        "* https://github.com/restrepo/data-analysis\n",
        "  * https://classroom.github.com/g/sSMBdBqN\n",
        "  * https://classroom.github.com/a/PcbQBE7F\n",
        "* https://github.com/restrepo/PythonTipsAndTricks\n",
        "* https://pbpython.com/excel-pandas-comp.html [[archive.org](https://web.archive.org/web/20201126143453/https://pbpython.com/excel-pandas-comp.html)]\n",
        "\n",
        "A good and practice book about `Pandas` possibilities is:\n",
        "\n",
        "[__Python for Data Analysis__](https://drive.google.com/open?id=0BxoOXsn2EUNIWExXbVc4SDN0YTQ)<br/>\n",
        "Data Wrangling with Pandas, NumPy, and IPython<br/>\n",
        "_By William McKinney_\n",
        "\n",
        "\n",
        "This other is about aplications based on `Pandas`:\n",
        "![image.png](https://covers.oreillystatic.com/images/0636920030515/cat.gif) [Introduction to Machine Learning with Python](https://drive.google.com/open?id=0BxoOXsn2EUNISGhrdEZ3S29fS3M)<br/>\n",
        "A Guide for Data Scientists\n",
        "By Sarah Guido, Andreas Müller\n",
        "\n",
        "`Pandas` can be used in a similar way to `R`, which is based on similar data structures. `Pandas` also can replace the use of graphical interfaces to access spreadsheets like Excel"
      ]
    },
    {
      "cell_type": "markdown",
      "metadata": {
        "id": "zd4jo7KLxE1C"
      },
      "source": [
        "## Standard way to load the module"
      ]
    },
    {
      "cell_type": "code",
      "metadata": {
        "id": "K3BSlyLBxE1E"
      },
      "source": [
        "import pandas as pd"
      ],
      "execution_count": 150,
      "outputs": []
    },
    {
      "cell_type": "markdown",
      "metadata": {
        "id": "I7Hbe9JEadOC"
      },
      "source": [
        "## Basic structure: DataFrame"
      ]
    },
    {
      "cell_type": "markdown",
      "metadata": {
        "id": "IE_Vzycqajls"
      },
      "source": [
        "An flat _spreadsheet_ can be seen in terms of the types of variables of `Python` just as dictionary of lists, where each column of the spreadsheet is a pair key-list of the dictionary \n",
        "\n",
        "|   |  A   |  B   |\n",
        "|---|:----:|:----:|\n",
        "| 1 | even | odd  |\n",
        "| 2 |   0  | 1    |\n",
        "| 3 |   2  | 3    |\n",
        "| 4 |   4  | 5    |\n",
        "| 5 |   6  | 7    |\n",
        "| 6 |   8  | 9    |"
      ]
    },
    {
      "cell_type": "code",
      "metadata": {
        "id": "lxEc0jlHauyc"
      },
      "source": [
        "numbers={\"even\": [0,2,4,6,8],   #  First  key-list\n",
        "         \"odd\" : [1,3,5,7,9] }  #  Second key-list"
      ],
      "execution_count": 151,
      "outputs": []
    },
    {
      "cell_type": "markdown",
      "metadata": {
        "id": "HeN8rw1JxE1N"
      },
      "source": [
        "## Data structures"
      ]
    },
    {
      "cell_type": "markdown",
      "metadata": {
        "id": "UiL0O2SNcCfG"
      },
      "source": [
        "`Pandas` has two new data structures:\n",
        "1. `DataFrame` which are similar to numpy arrays but with some assigned key. For example, for the previous case\n",
        "```python\n",
        "import numpy as np\n",
        "np.array([[0,1],\n",
        "          [2,3],\n",
        "          [4,5],\n",
        "          [6,7],\n",
        "          [8,9] \n",
        "         ])\n",
        "```\n",
        "1. `Series` which are enriched  to dictionaries, as the ones defined for the rows of the previous example: `{'even':0,'odd':1}`.\n",
        "\n"
      ]
    },
    {
      "cell_type": "markdown",
      "metadata": {
        "id": "jaWfZyimxE1O"
      },
      "source": [
        "\n",
        "The rows in a two-dimensional `DataFrame` corresponds to `Series` with similar keys, while the columns are also Series with the indices as keys. \n",
        "\n",
        "An example of a  `DataFrame` is a spreadsheet, as the one before."
      ]
    },
    {
      "cell_type": "markdown",
      "metadata": {
        "id": "uRdBR4BXc8WY"
      },
      "source": [
        "### `DataFrame`\n",
        "`Pandas` can convert a dictionary of lists, like the `numbers` dictionary before, into a `DataFrame`, which is just an spreadsheet but interpreted at the programming level:\n",
        "\n"
      ]
    },
    {
      "cell_type": "code",
      "metadata": {
        "colab": {
          "base_uri": "https://localhost:8080/",
          "height": 204
        },
        "id": "dC00VECAd_Dr",
        "outputId": "3c6e7369-d748-4f46-eb4f-2d81398c4fa1"
      },
      "source": [
        "import pandas as pd\n",
        "pd.set_option('display.max_colwidth',200)\n",
        "df=pd.DataFrame(numbers)\n",
        "df"
      ],
      "execution_count": 152,
      "outputs": [
        {
          "output_type": "execute_result",
          "data": {
            "text/html": [
              "<div>\n",
              "<style scoped>\n",
              "    .dataframe tbody tr th:only-of-type {\n",
              "        vertical-align: middle;\n",
              "    }\n",
              "\n",
              "    .dataframe tbody tr th {\n",
              "        vertical-align: top;\n",
              "    }\n",
              "\n",
              "    .dataframe thead th {\n",
              "        text-align: right;\n",
              "    }\n",
              "</style>\n",
              "<table border=\"1\" class=\"dataframe\">\n",
              "  <thead>\n",
              "    <tr style=\"text-align: right;\">\n",
              "      <th></th>\n",
              "      <th>even</th>\n",
              "      <th>odd</th>\n",
              "    </tr>\n",
              "  </thead>\n",
              "  <tbody>\n",
              "    <tr>\n",
              "      <th>0</th>\n",
              "      <td>0</td>\n",
              "      <td>1</td>\n",
              "    </tr>\n",
              "    <tr>\n",
              "      <th>1</th>\n",
              "      <td>2</td>\n",
              "      <td>3</td>\n",
              "    </tr>\n",
              "    <tr>\n",
              "      <th>2</th>\n",
              "      <td>4</td>\n",
              "      <td>5</td>\n",
              "    </tr>\n",
              "    <tr>\n",
              "      <th>3</th>\n",
              "      <td>6</td>\n",
              "      <td>7</td>\n",
              "    </tr>\n",
              "    <tr>\n",
              "      <th>4</th>\n",
              "      <td>8</td>\n",
              "      <td>9</td>\n",
              "    </tr>\n",
              "  </tbody>\n",
              "</table>\n",
              "</div>"
            ],
            "text/plain": [
              "   even  odd\n",
              "0     0    1\n",
              "1     2    3\n",
              "2     4    5\n",
              "3     6    7\n",
              "4     8    9"
            ]
          },
          "metadata": {
            "tags": []
          },
          "execution_count": 152
        }
      ]
    },
    {
      "cell_type": "markdown",
      "metadata": {
        "id": "zUZ1BcuneYQf"
      },
      "source": [
        "It is equivalent to:"
      ]
    },
    {
      "cell_type": "code",
      "metadata": {
        "colab": {
          "base_uri": "https://localhost:8080/",
          "height": 204
        },
        "id": "nqtL07nJecD6",
        "outputId": "4d2527a3-daea-4900-cc73-bf7e0ceb067f"
      },
      "source": [
        "pd.DataFrame.from_dict(numbers)"
      ],
      "execution_count": 153,
      "outputs": [
        {
          "output_type": "execute_result",
          "data": {
            "text/html": [
              "<div>\n",
              "<style scoped>\n",
              "    .dataframe tbody tr th:only-of-type {\n",
              "        vertical-align: middle;\n",
              "    }\n",
              "\n",
              "    .dataframe tbody tr th {\n",
              "        vertical-align: top;\n",
              "    }\n",
              "\n",
              "    .dataframe thead th {\n",
              "        text-align: right;\n",
              "    }\n",
              "</style>\n",
              "<table border=\"1\" class=\"dataframe\">\n",
              "  <thead>\n",
              "    <tr style=\"text-align: right;\">\n",
              "      <th></th>\n",
              "      <th>even</th>\n",
              "      <th>odd</th>\n",
              "    </tr>\n",
              "  </thead>\n",
              "  <tbody>\n",
              "    <tr>\n",
              "      <th>0</th>\n",
              "      <td>0</td>\n",
              "      <td>1</td>\n",
              "    </tr>\n",
              "    <tr>\n",
              "      <th>1</th>\n",
              "      <td>2</td>\n",
              "      <td>3</td>\n",
              "    </tr>\n",
              "    <tr>\n",
              "      <th>2</th>\n",
              "      <td>4</td>\n",
              "      <td>5</td>\n",
              "    </tr>\n",
              "    <tr>\n",
              "      <th>3</th>\n",
              "      <td>6</td>\n",
              "      <td>7</td>\n",
              "    </tr>\n",
              "    <tr>\n",
              "      <th>4</th>\n",
              "      <td>8</td>\n",
              "      <td>9</td>\n",
              "    </tr>\n",
              "  </tbody>\n",
              "</table>\n",
              "</div>"
            ],
            "text/plain": [
              "   even  odd\n",
              "0     0    1\n",
              "1     2    3\n",
              "2     4    5\n",
              "3     6    7\n",
              "4     8    9"
            ]
          },
          "metadata": {
            "tags": []
          },
          "execution_count": 153
        }
      ]
    },
    {
      "cell_type": "markdown",
      "metadata": {
        "id": "1ftuPJd5eiu6"
      },
      "source": [
        "See below for other possibilities of [creating Pandas DataFrames from lists and dictionaries](https://fisica.udea.edu.co:4443/user/restrepo/notebooks/prog/cursos/data-analysis/Pandas.ipynb#Intialization-from-lists-and-dictionaries)"
      ]
    },
    {
      "cell_type": "markdown",
      "metadata": {
        "id": "myuwII1Ed9PE"
      },
      "source": [
        "The main advantage of the `DataFrame`, `df`, is that it can be managed without a graphical interface."
      ]
    },
    {
      "cell_type": "markdown",
      "metadata": {
        "id": "5A0YScKRehta"
      },
      "source": [
        "We can check the shape of the `DataFrame`"
      ]
    },
    {
      "cell_type": "code",
      "metadata": {
        "colab": {
          "base_uri": "https://localhost:8080/"
        },
        "id": "RV-ivs5Weyzq",
        "outputId": "a8b2b7f4-cb6f-41e7-b433-76016c62c70f"
      },
      "source": [
        "df.shape"
      ],
      "execution_count": 154,
      "outputs": [
        {
          "output_type": "execute_result",
          "data": {
            "text/plain": [
              "(5, 2)"
            ]
          },
          "metadata": {
            "tags": []
          },
          "execution_count": 154
        }
      ]
    },
    {
      "cell_type": "markdown",
      "metadata": {
        "id": "ZMc0puXbe3nD"
      },
      "source": [
        "####  Export DataFrame to other formats\n",
        "* To export to excel:"
      ]
    },
    {
      "cell_type": "code",
      "metadata": {
        "id": "ioWKY1FAe-rK"
      },
      "source": [
        "df.to_excel('example.xlsx',index=False)"
      ],
      "execution_count": 155,
      "outputs": []
    },
    {
      "cell_type": "markdown",
      "metadata": {
        "id": "yIdeiNi_fBPJ"
      },
      "source": [
        "__Activity__: Open the resulting spreadsheet in Google Drive, publish it and open from the resulting link with Pandas in the next cell"
      ]
    },
    {
      "cell_type": "markdown",
      "metadata": {
        "id": "c_bj3IfLxE1Q"
      },
      "source": [
        "### `Series`"
      ]
    },
    {
      "cell_type": "markdown",
      "metadata": {
        "id": "H2LIeZbCgoL5"
      },
      "source": [
        "Each column of the DataFrame is now an augmented dictionary called `Series`, with the indices as the keys of the `Series`"
      ]
    },
    {
      "cell_type": "markdown",
      "metadata": {
        "id": "klrbIsoGxE1R"
      },
      "source": [
        "A `Pandas` `Series` object can be just initialized from a `Python` dictionary:"
      ]
    },
    {
      "cell_type": "code",
      "metadata": {
        "id": "FoTT2jkqgrpR",
        "colab": {
          "base_uri": "https://localhost:8080/"
        },
        "outputId": "68cdf43d-dfb5-4f7a-e57c-e310a315512f"
      },
      "source": [
        "type( df['even'] )"
      ],
      "execution_count": 156,
      "outputs": [
        {
          "output_type": "execute_result",
          "data": {
            "text/plain": [
              "pandas.core.series.Series"
            ]
          },
          "metadata": {
            "tags": []
          },
          "execution_count": 156
        }
      ]
    },
    {
      "cell_type": "markdown",
      "metadata": {
        "id": "Iy8h3XICgz9w"
      },
      "source": [
        "The keys are the index of the `DataFrame`"
      ]
    },
    {
      "cell_type": "code",
      "metadata": {
        "id": "BTIxbKvhg6m2",
        "colab": {
          "base_uri": "https://localhost:8080/"
        },
        "outputId": "cc6a8e9c-e622-420c-a9e4-12083df8ae54"
      },
      "source": [
        "df.even[3]"
      ],
      "execution_count": 157,
      "outputs": [
        {
          "output_type": "execute_result",
          "data": {
            "text/plain": [
              "6"
            ]
          },
          "metadata": {
            "tags": []
          },
          "execution_count": 157
        }
      ]
    },
    {
      "cell_type": "markdown",
      "metadata": {
        "id": "7MIKjfslg7Xx"
      },
      "source": [
        "Each row is also a series"
      ]
    },
    {
      "cell_type": "code",
      "metadata": {
        "id": "rhiEFGhOg-kx",
        "colab": {
          "base_uri": "https://localhost:8080/"
        },
        "outputId": "8639cbbd-d4be-487e-8755-a5932cc823df"
      },
      "source": [
        "df.loc[0]"
      ],
      "execution_count": 158,
      "outputs": [
        {
          "output_type": "execute_result",
          "data": {
            "text/plain": [
              "even    0\n",
              "odd     1\n",
              "Name: 0, dtype: int64"
            ]
          },
          "metadata": {
            "tags": []
          },
          "execution_count": 158
        }
      ]
    },
    {
      "cell_type": "markdown",
      "metadata": {
        "id": "ki2GW4yohKl5"
      },
      "source": [
        "with keys: `'even'` and `'odd'`"
      ]
    },
    {
      "cell_type": "code",
      "metadata": {
        "id": "JPLVdBrAhFCJ",
        "colab": {
          "base_uri": "https://localhost:8080/"
        },
        "outputId": "18b14536-bacb-403f-d95d-13815b9c99aa"
      },
      "source": [
        "df.loc[0]['even']"
      ],
      "execution_count": 159,
      "outputs": [
        {
          "output_type": "execute_result",
          "data": {
            "text/plain": [
              "0"
            ]
          },
          "metadata": {
            "tags": []
          },
          "execution_count": 159
        }
      ]
    },
    {
      "cell_type": "markdown",
      "metadata": {
        "id": "8NuiZ2NIhGjx"
      },
      "source": [
        "or attributes `even` and `odd`"
      ]
    },
    {
      "cell_type": "code",
      "metadata": {
        "id": "KmY9Jrk_hZyx",
        "colab": {
          "base_uri": "https://localhost:8080/"
        },
        "outputId": "d3d1f805-d3dc-4921-89ba-878577d31aa9"
      },
      "source": [
        "df.loc[0].odd"
      ],
      "execution_count": 160,
      "outputs": [
        {
          "output_type": "execute_result",
          "data": {
            "text/plain": [
              "1"
            ]
          },
          "metadata": {
            "tags": []
          },
          "execution_count": 160
        }
      ]
    },
    {
      "cell_type": "markdown",
      "metadata": {
        "id": "vOxxMKJshhKJ"
      },
      "source": [
        "One specific cell value can be reached with the index and the key:"
      ]
    },
    {
      "cell_type": "code",
      "metadata": {
        "id": "MexLUmZLhph5",
        "colab": {
          "base_uri": "https://localhost:8080/"
        },
        "outputId": "622b35e1-640a-4655-9d27-4218f7320415"
      },
      "source": [
        "df.loc[2,'odd']"
      ],
      "execution_count": 161,
      "outputs": [
        {
          "output_type": "execute_result",
          "data": {
            "text/plain": [
              "5"
            ]
          },
          "metadata": {
            "tags": []
          },
          "execution_count": 161
        }
      ]
    },
    {
      "cell_type": "code",
      "metadata": {
        "id": "LrhKw9EQxE1T",
        "colab": {
          "base_uri": "https://localhost:8080/"
        },
        "outputId": "f5ad36bb-3c80-4031-fec6-572a4f076a77"
      },
      "source": [
        "s=pd.Series({'Name':'Juan Valdez','Nacionality':'Colombia','Age':23})\n",
        "s"
      ],
      "execution_count": 162,
      "outputs": [
        {
          "output_type": "execute_result",
          "data": {
            "text/plain": [
              "Name           Juan Valdez\n",
              "Nacionality       Colombia\n",
              "Age                     23\n",
              "dtype: object"
            ]
          },
          "metadata": {
            "tags": []
          },
          "execution_count": 162
        }
      ]
    },
    {
      "cell_type": "markdown",
      "metadata": {
        "id": "TzNtVUV6h36n"
      },
      "source": [
        "*Note* that the key name can be used also as an attribute.\n"
      ]
    },
    {
      "cell_type": "code",
      "metadata": {
        "id": "ip9ADEo7h5vA",
        "colab": {
          "base_uri": "https://localhost:8080/"
        },
        "outputId": "58eb5210-7c38-4a54-8b9e-4fa382eeaefa"
      },
      "source": [
        "df.odd"
      ],
      "execution_count": 163,
      "outputs": [
        {
          "output_type": "execute_result",
          "data": {
            "text/plain": [
              "0    1\n",
              "1    3\n",
              "2    5\n",
              "3    7\n",
              "4    9\n",
              "Name: odd, dtype: int64"
            ]
          },
          "metadata": {
            "tags": []
          },
          "execution_count": 163
        }
      ]
    },
    {
      "cell_type": "markdown",
      "metadata": {
        "id": "z5JBXWlkh8Z3"
      },
      "source": [
        "> The __power__ of Pandas rely in that their main data structures: `DataFrames` and `Series`, are enriched with many useful methods and attributes.\n",
        "\n",
        "### [Official definition of Pandas](http://pandas.pydata.org/pandas-docs/stable/)\n",
        "\n",
        "> Pandas is a Python package providing __fast__, __flexible__, and __expressive__ _data structures_ designed to make working with “relational” or “labeled” data both easy and intuitive. It aims to be the fundamental high-level building block for doing practical, real world data analysis in Python. Additionally, it _has the broader goal of becoming the most powerful and flexible open source data analysis / manipulation tool_ available in any language. It is already well on its way toward this goal.\n",
        "\n",
        "* \"relational\": the list of data is identified with some unique index (like a `SQL` table)\n",
        "* \"labeled\": the list is identified with a key, like the previous `odd` or `even` keys.\n"
      ]
    },
    {
      "cell_type": "markdown",
      "metadata": {
        "id": "sDC5HnPOicTg"
      },
      "source": [
        "For example. A double bracket `[[...]]`, can be used to filter data.\n",
        "\n",
        "A row in a two-dimensional `DataFrame` corresponds to `Series` with the same keys of the `DataFrame`, but with single values instead of a list "
      ]
    },
    {
      "cell_type": "code",
      "metadata": {
        "id": "UfyqbhjXigZc",
        "colab": {
          "base_uri": "https://localhost:8080/",
          "height": 0
        },
        "outputId": "1a198dbf-591d-4e56-d181-a7b39f2a0645"
      },
      "source": [
        "df.loc[[0]]"
      ],
      "execution_count": 164,
      "outputs": [
        {
          "output_type": "execute_result",
          "data": {
            "text/html": [
              "<div>\n",
              "<style scoped>\n",
              "    .dataframe tbody tr th:only-of-type {\n",
              "        vertical-align: middle;\n",
              "    }\n",
              "\n",
              "    .dataframe tbody tr th {\n",
              "        vertical-align: top;\n",
              "    }\n",
              "\n",
              "    .dataframe thead th {\n",
              "        text-align: right;\n",
              "    }\n",
              "</style>\n",
              "<table border=\"1\" class=\"dataframe\">\n",
              "  <thead>\n",
              "    <tr style=\"text-align: right;\">\n",
              "      <th></th>\n",
              "      <th>even</th>\n",
              "      <th>odd</th>\n",
              "    </tr>\n",
              "  </thead>\n",
              "  <tbody>\n",
              "    <tr>\n",
              "      <th>0</th>\n",
              "      <td>0</td>\n",
              "      <td>1</td>\n",
              "    </tr>\n",
              "  </tbody>\n",
              "</table>\n",
              "</div>"
            ],
            "text/plain": [
              "   even  odd\n",
              "0     0    1"
            ]
          },
          "metadata": {
            "tags": []
          },
          "execution_count": 164
        }
      ]
    },
    {
      "cell_type": "code",
      "metadata": {
        "id": "-dANKUEoi78M",
        "colab": {
          "base_uri": "https://localhost:8080/"
        },
        "outputId": "afaa50ad-6803-4eff-c6bb-9964284c27ca"
      },
      "source": [
        "print( 'the row has' )\n",
        "print( '                  keys: {} and values: {}'.format( list( df.loc[[0]].keys() ),df.loc[[0]].values[0]  ) )\n",
        "print( \"like the dictionay:\" )\n",
        "print( \"                      { 'even' : 0, 'odd' : 1 }\")"
      ],
      "execution_count": 165,
      "outputs": [
        {
          "output_type": "stream",
          "text": [
            "the row has\n",
            "                  keys: ['even', 'odd'] and values: [0 1]\n",
            "like the dictionay:\n",
            "                      { 'even' : 0, 'odd' : 1 }\n"
          ],
          "name": "stdout"
        }
      ]
    },
    {
      "cell_type": "markdown",
      "metadata": {
        "id": "p7MgQWMijI0W"
      },
      "source": [
        "To filter a column:"
      ]
    },
    {
      "cell_type": "code",
      "metadata": {
        "id": "nT_SkKMIjMWY",
        "colab": {
          "base_uri": "https://localhost:8080/",
          "height": 0
        },
        "outputId": "909490fb-e2b4-475f-d749-c71a4d9640bb"
      },
      "source": [
        "df[['odd']]"
      ],
      "execution_count": 166,
      "outputs": [
        {
          "output_type": "execute_result",
          "data": {
            "text/html": [
              "<div>\n",
              "<style scoped>\n",
              "    .dataframe tbody tr th:only-of-type {\n",
              "        vertical-align: middle;\n",
              "    }\n",
              "\n",
              "    .dataframe tbody tr th {\n",
              "        vertical-align: top;\n",
              "    }\n",
              "\n",
              "    .dataframe thead th {\n",
              "        text-align: right;\n",
              "    }\n",
              "</style>\n",
              "<table border=\"1\" class=\"dataframe\">\n",
              "  <thead>\n",
              "    <tr style=\"text-align: right;\">\n",
              "      <th></th>\n",
              "      <th>odd</th>\n",
              "    </tr>\n",
              "  </thead>\n",
              "  <tbody>\n",
              "    <tr>\n",
              "      <th>0</th>\n",
              "      <td>1</td>\n",
              "    </tr>\n",
              "    <tr>\n",
              "      <th>1</th>\n",
              "      <td>3</td>\n",
              "    </tr>\n",
              "    <tr>\n",
              "      <th>2</th>\n",
              "      <td>5</td>\n",
              "    </tr>\n",
              "    <tr>\n",
              "      <th>3</th>\n",
              "      <td>7</td>\n",
              "    </tr>\n",
              "    <tr>\n",
              "      <th>4</th>\n",
              "      <td>9</td>\n",
              "    </tr>\n",
              "  </tbody>\n",
              "</table>\n",
              "</div>"
            ],
            "text/plain": [
              "   odd\n",
              "0    1\n",
              "1    3\n",
              "2    5\n",
              "3    7\n",
              "4    9"
            ]
          },
          "metadata": {
            "tags": []
          },
          "execution_count": 166
        }
      ]
    },
    {
      "cell_type": "markdown",
      "metadata": {
        "id": "ElU5h9tnxE1Y"
      },
      "source": [
        "### More on `Series`"
      ]
    },
    {
      "cell_type": "markdown",
      "metadata": {
        "id": "pg20NksOjdQW"
      },
      "source": [
        "A `Pandas` `Series` object can be just initialized from a `Python` dictionary:"
      ]
    },
    {
      "cell_type": "code",
      "metadata": {
        "id": "qjuk_nn0jgFH",
        "colab": {
          "base_uri": "https://localhost:8080/"
        },
        "outputId": "5a97e84a-e78d-4239-8e2b-163bdacefb9e"
      },
      "source": [
        "s=pd.Series({'Name':'Juan Valdez','Nacionality':'Colombia','Age':23})\n",
        "s"
      ],
      "execution_count": 167,
      "outputs": [
        {
          "output_type": "execute_result",
          "data": {
            "text/plain": [
              "Name           Juan Valdez\n",
              "Nacionality       Colombia\n",
              "Age                     23\n",
              "dtype: object"
            ]
          },
          "metadata": {
            "tags": []
          },
          "execution_count": 167
        }
      ]
    },
    {
      "cell_type": "code",
      "metadata": {
        "id": "pAtixllExE1Z",
        "colab": {
          "base_uri": "https://localhost:8080/",
          "height": 0
        },
        "outputId": "5b1eaed0-99ed-4c34-9668-173171233a3e"
      },
      "source": [
        "s['Name']"
      ],
      "execution_count": 168,
      "outputs": [
        {
          "output_type": "execute_result",
          "data": {
            "application/vnd.google.colaboratory.intrinsic+json": {
              "type": "string"
            },
            "text/plain": [
              "'Juan Valdez'"
            ]
          },
          "metadata": {
            "tags": []
          },
          "execution_count": 168
        }
      ]
    },
    {
      "cell_type": "markdown",
      "metadata": {
        "id": "pYb112eqxE1e"
      },
      "source": [
        "but also as containers of name spaces!"
      ]
    },
    {
      "cell_type": "code",
      "metadata": {
        "id": "6_GfsFVwxE1f",
        "colab": {
          "base_uri": "https://localhost:8080/",
          "height": 0
        },
        "outputId": "88401d2c-67d3-4144-eb2f-31309ba308c8"
      },
      "source": [
        "s.Name"
      ],
      "execution_count": 169,
      "outputs": [
        {
          "output_type": "execute_result",
          "data": {
            "application/vnd.google.colaboratory.intrinsic+json": {
              "type": "string"
            },
            "text/plain": [
              "'Juan Valdez'"
            ]
          },
          "metadata": {
            "tags": []
          },
          "execution_count": 169
        }
      ]
    },
    {
      "cell_type": "markdown",
      "metadata": {
        "id": "Kab6pfyMxE1k"
      },
      "source": [
        "## `DataFrame` initialization"
      ]
    },
    {
      "cell_type": "markdown",
      "metadata": {
        "id": "4zhJVNq1pTTe"
      },
      "source": [
        "### Initization from an existing spreadsheet. \n",
        "This can be locally in your computer o from some downloadable  link"
      ]
    },
    {
      "cell_type": "code",
      "metadata": {
        "id": "yM4oF9r-pWsw",
        "colab": {
          "base_uri": "https://localhost:8080/",
          "height": 0
        },
        "outputId": "44386439-de3f-47b4-cf5f-424da627ae2b"
      },
      "source": [
        "df=pd.read_excel('http://bit.ly/spreadsheet_xlsx')\n",
        "df"
      ],
      "execution_count": 170,
      "outputs": [
        {
          "output_type": "execute_result",
          "data": {
            "text/html": [
              "<div>\n",
              "<style scoped>\n",
              "    .dataframe tbody tr th:only-of-type {\n",
              "        vertical-align: middle;\n",
              "    }\n",
              "\n",
              "    .dataframe tbody tr th {\n",
              "        vertical-align: top;\n",
              "    }\n",
              "\n",
              "    .dataframe thead th {\n",
              "        text-align: right;\n",
              "    }\n",
              "</style>\n",
              "<table border=\"1\" class=\"dataframe\">\n",
              "  <thead>\n",
              "    <tr style=\"text-align: right;\">\n",
              "      <th></th>\n",
              "      <th>Nombre</th>\n",
              "      <th>Edad</th>\n",
              "      <th>Compañia</th>\n",
              "    </tr>\n",
              "  </thead>\n",
              "  <tbody>\n",
              "    <tr>\n",
              "      <th>0</th>\n",
              "      <td>Juan Valdez</td>\n",
              "      <td>23</td>\n",
              "      <td>Café de Colombia</td>\n",
              "    </tr>\n",
              "    <tr>\n",
              "      <th>1</th>\n",
              "      <td>Álvaro Uribe Vélez</td>\n",
              "      <td>65</td>\n",
              "      <td>Senado de la República</td>\n",
              "    </tr>\n",
              "  </tbody>\n",
              "</table>\n",
              "</div>"
            ],
            "text/plain": [
              "               Nombre  Edad                Compañia\n",
              "0         Juan Valdez    23        Café de Colombia\n",
              "1  Álvaro Uribe Vélez    65  Senado de la República"
            ]
          },
          "metadata": {
            "tags": []
          },
          "execution_count": 170
        }
      ]
    },
    {
      "cell_type": "markdown",
      "metadata": {
        "id": "QM4z4MoXpjLj"
      },
      "source": [
        "To make a downloadable link for any spread sheet in Google Drive, follow the sequence:\n",
        "```\n",
        "File → Publish to the web...→ Entire Document → Web page → Microsoft excel (xlsx)\n",
        "```\n",
        "as illustrated in the figure:\n",
        "![GS](https://github.com/restrepo/data-analysis/blob/master/img/img1.png?raw=1)"
      ]
    },
    {
      "cell_type": "code",
      "metadata": {
        "id": "29uXQfWjpx66",
        "colab": {
          "base_uri": "https://localhost:8080/",
          "height": 0
        },
        "outputId": "8e934f78-f0c2-4264-a442-604c00592c72"
      },
      "source": [
        "df.loc[0,'Edad']=32\n",
        "df"
      ],
      "execution_count": 171,
      "outputs": [
        {
          "output_type": "execute_result",
          "data": {
            "text/html": [
              "<div>\n",
              "<style scoped>\n",
              "    .dataframe tbody tr th:only-of-type {\n",
              "        vertical-align: middle;\n",
              "    }\n",
              "\n",
              "    .dataframe tbody tr th {\n",
              "        vertical-align: top;\n",
              "    }\n",
              "\n",
              "    .dataframe thead th {\n",
              "        text-align: right;\n",
              "    }\n",
              "</style>\n",
              "<table border=\"1\" class=\"dataframe\">\n",
              "  <thead>\n",
              "    <tr style=\"text-align: right;\">\n",
              "      <th></th>\n",
              "      <th>Nombre</th>\n",
              "      <th>Edad</th>\n",
              "      <th>Compañia</th>\n",
              "    </tr>\n",
              "  </thead>\n",
              "  <tbody>\n",
              "    <tr>\n",
              "      <th>0</th>\n",
              "      <td>Juan Valdez</td>\n",
              "      <td>32</td>\n",
              "      <td>Café de Colombia</td>\n",
              "    </tr>\n",
              "    <tr>\n",
              "      <th>1</th>\n",
              "      <td>Álvaro Uribe Vélez</td>\n",
              "      <td>65</td>\n",
              "      <td>Senado de la República</td>\n",
              "    </tr>\n",
              "  </tbody>\n",
              "</table>\n",
              "</div>"
            ],
            "text/plain": [
              "               Nombre  Edad                Compañia\n",
              "0         Juan Valdez    32        Café de Colombia\n",
              "1  Álvaro Uribe Vélez    65  Senado de la República"
            ]
          },
          "metadata": {
            "tags": []
          },
          "execution_count": 171
        }
      ]
    },
    {
      "cell_type": "markdown",
      "metadata": {
        "id": "eeZzLpDUpqbS"
      },
      "source": [
        "*After* some modification"
      ]
    },
    {
      "cell_type": "markdown",
      "metadata": {
        "id": "TRjW0Y4Rpv-i"
      },
      "source": [
        "it can be saved again as an `excel file` with the option to not create a column of indices: `index=False`"
      ]
    },
    {
      "cell_type": "markdown",
      "metadata": {
        "id": "QZUHeScjp6cC"
      },
      "source": [
        "### Intialization from lists and dictionaries"
      ]
    },
    {
      "cell_type": "markdown",
      "metadata": {
        "id": "5ulKgKBRxE1m"
      },
      "source": [
        "#### Inizialization from Series\n",
        "We start with an empty `DataFrame`:"
      ]
    },
    {
      "cell_type": "markdown",
      "metadata": {
        "id": "J-F92xHmp8v7"
      },
      "source": [
        "Creating Pandas DataFrame from list and dictionaries [offers many alternatives](http://pbpython.com/pandas-list-dict.html)\n",
        "\n",
        "![creating dataframes](http://pbpython.com/images/pandas-dataframe-shadow.png)\n",
        "\n",
        "#### Row oriented way\n",
        "* In addition to the dictionary of lists [already illustrated at the beginning]() that in this case corresponds to:"
      ]
    },
    {
      "cell_type": "code",
      "metadata": {
        "id": "7IOuJCeMqBRj",
        "colab": {
          "base_uri": "https://localhost:8080/",
          "height": 111
        },
        "outputId": "b814fc0f-1767-4f86-8ae0-09a61de8f898"
      },
      "source": [
        "pd.DataFrame({'Nombre'   : ['Juan Valdez','Álvaro Uribe Vélez'],\n",
        "              'Edad'     : [32,            65                 ],\n",
        "              'Compañia' : ['Café de Colombia','Senado de la República']})"
      ],
      "execution_count": 174,
      "outputs": [
        {
          "output_type": "execute_result",
          "data": {
            "text/html": [
              "<div>\n",
              "<style scoped>\n",
              "    .dataframe tbody tr th:only-of-type {\n",
              "        vertical-align: middle;\n",
              "    }\n",
              "\n",
              "    .dataframe tbody tr th {\n",
              "        vertical-align: top;\n",
              "    }\n",
              "\n",
              "    .dataframe thead th {\n",
              "        text-align: right;\n",
              "    }\n",
              "</style>\n",
              "<table border=\"1\" class=\"dataframe\">\n",
              "  <thead>\n",
              "    <tr style=\"text-align: right;\">\n",
              "      <th></th>\n",
              "      <th>Nombre</th>\n",
              "      <th>Edad</th>\n",
              "      <th>Compañia</th>\n",
              "    </tr>\n",
              "  </thead>\n",
              "  <tbody>\n",
              "    <tr>\n",
              "      <th>0</th>\n",
              "      <td>Juan Valdez</td>\n",
              "      <td>32</td>\n",
              "      <td>Café de Colombia</td>\n",
              "    </tr>\n",
              "    <tr>\n",
              "      <th>1</th>\n",
              "      <td>Álvaro Uribe Vélez</td>\n",
              "      <td>65</td>\n",
              "      <td>Senado de la República</td>\n",
              "    </tr>\n",
              "  </tbody>\n",
              "</table>\n",
              "</div>"
            ],
            "text/plain": [
              "               Nombre  Edad                Compañia\n",
              "0         Juan Valdez    32        Café de Colombia\n",
              "1  Álvaro Uribe Vélez    65  Senado de la República"
            ]
          },
          "metadata": {
            "tags": []
          },
          "execution_count": 174
        }
      ]
    },
    {
      "cell_type": "markdown",
      "metadata": {
        "id": "nJLhj4G4qJZb"
      },
      "source": [
        "* We can obtain the DataFrame from list of items"
      ]
    },
    {
      "cell_type": "markdown",
      "metadata": {
        "id": "J6tp94TlqO_S"
      },
      "source": [
        "* We can obtain the `DataFrame` from dictionary"
      ]
    },
    {
      "cell_type": "code",
      "metadata": {
        "id": "wx-JJgqIqQAD",
        "colab": {
          "base_uri": "https://localhost:8080/",
          "height": 111
        },
        "outputId": "c28b80c8-1b24-420b-87f6-856625bcc728"
      },
      "source": [
        "pd.DataFrame( [{'Nombre':'Juan Valdez',        'Edad': 32   ,'Compañia':'Café de Colombia'      },\n",
        "              {'Nombre':'Álvaro Uribe Vélez', 'Edad': 65   ,'Compañia':'Senado de la República'}]\n",
        "            )"
      ],
      "execution_count": 175,
      "outputs": [
        {
          "output_type": "execute_result",
          "data": {
            "text/html": [
              "<div>\n",
              "<style scoped>\n",
              "    .dataframe tbody tr th:only-of-type {\n",
              "        vertical-align: middle;\n",
              "    }\n",
              "\n",
              "    .dataframe tbody tr th {\n",
              "        vertical-align: top;\n",
              "    }\n",
              "\n",
              "    .dataframe thead th {\n",
              "        text-align: right;\n",
              "    }\n",
              "</style>\n",
              "<table border=\"1\" class=\"dataframe\">\n",
              "  <thead>\n",
              "    <tr style=\"text-align: right;\">\n",
              "      <th></th>\n",
              "      <th>Nombre</th>\n",
              "      <th>Edad</th>\n",
              "      <th>Compañia</th>\n",
              "    </tr>\n",
              "  </thead>\n",
              "  <tbody>\n",
              "    <tr>\n",
              "      <th>0</th>\n",
              "      <td>Juan Valdez</td>\n",
              "      <td>32</td>\n",
              "      <td>Café de Colombia</td>\n",
              "    </tr>\n",
              "    <tr>\n",
              "      <th>1</th>\n",
              "      <td>Álvaro Uribe Vélez</td>\n",
              "      <td>65</td>\n",
              "      <td>Senado de la República</td>\n",
              "    </tr>\n",
              "  </tbody>\n",
              "</table>\n",
              "</div>"
            ],
            "text/plain": [
              "               Nombre  Edad                Compañia\n",
              "0         Juan Valdez    32        Café de Colombia\n",
              "1  Álvaro Uribe Vélez    65  Senado de la República"
            ]
          },
          "metadata": {
            "tags": []
          },
          "execution_count": 175
        }
      ]
    },
    {
      "cell_type": "code",
      "metadata": {
        "id": "jPsRspsXxE1n",
        "colab": {
          "base_uri": "https://localhost:8080/",
          "height": 32
        },
        "outputId": "18601bee-1b6d-4b61-e206-6010043ef374"
      },
      "source": [
        "df=pd.DataFrame()\n",
        "df"
      ],
      "execution_count": 225,
      "outputs": [
        {
          "output_type": "execute_result",
          "data": {
            "text/html": [
              "<div>\n",
              "<style scoped>\n",
              "    .dataframe tbody tr th:only-of-type {\n",
              "        vertical-align: middle;\n",
              "    }\n",
              "\n",
              "    .dataframe tbody tr th {\n",
              "        vertical-align: top;\n",
              "    }\n",
              "\n",
              "    .dataframe thead th {\n",
              "        text-align: right;\n",
              "    }\n",
              "</style>\n",
              "<table border=\"1\" class=\"dataframe\">\n",
              "  <thead>\n",
              "    <tr style=\"text-align: right;\">\n",
              "      <th></th>\n",
              "    </tr>\n",
              "  </thead>\n",
              "  <tbody>\n",
              "  </tbody>\n",
              "</table>\n",
              "</div>"
            ],
            "text/plain": [
              "Empty DataFrame\n",
              "Columns: []\n",
              "Index: []"
            ]
          },
          "metadata": {
            "tags": []
          },
          "execution_count": 225
        }
      ]
    },
    {
      "cell_type": "markdown",
      "metadata": {
        "id": "_ylhD2zjqdby"
      },
      "source": [
        "### Initialization from sequential rows as  Series\n",
        "We start with an empty `DataFrame`:"
      ]
    },
    {
      "cell_type": "code",
      "metadata": {
        "id": "r6V0qilXqxBB",
        "colab": {
          "base_uri": "https://localhost:8080/"
        },
        "outputId": "4a558840-fff5-4a7e-8b6a-c0431e5e3964"
      },
      "source": [
        "df=pd.DataFrame()\n",
        "df.empty"
      ],
      "execution_count": 226,
      "outputs": [
        {
          "output_type": "execute_result",
          "data": {
            "text/plain": [
              "True"
            ]
          },
          "metadata": {
            "tags": []
          },
          "execution_count": 226
        }
      ]
    },
    {
      "cell_type": "markdown",
      "metadata": {
        "id": "f0OJapjvxE1q"
      },
      "source": [
        "We can append a dictionary (or Series) as a row of the `DataFrame`, provided that we always use the option: `ignore_index=True`"
      ]
    },
    {
      "cell_type": "code",
      "metadata": {
        "id": "AgR5uPbxrA6q",
        "colab": {
          "base_uri": "https://localhost:8080/",
          "height": 80
        },
        "outputId": "f19c37e9-aca2-49e4-90eb-feec8c68f50a"
      },
      "source": [
        "d={'Name':'Juan Valdez','Nacionality':'Colombia','Age':23}\n",
        "df=df.append(d,ignore_index=True)\n",
        "df"
      ],
      "execution_count": 227,
      "outputs": [
        {
          "output_type": "execute_result",
          "data": {
            "text/html": [
              "<div>\n",
              "<style scoped>\n",
              "    .dataframe tbody tr th:only-of-type {\n",
              "        vertical-align: middle;\n",
              "    }\n",
              "\n",
              "    .dataframe tbody tr th {\n",
              "        vertical-align: top;\n",
              "    }\n",
              "\n",
              "    .dataframe thead th {\n",
              "        text-align: right;\n",
              "    }\n",
              "</style>\n",
              "<table border=\"1\" class=\"dataframe\">\n",
              "  <thead>\n",
              "    <tr style=\"text-align: right;\">\n",
              "      <th></th>\n",
              "      <th>Age</th>\n",
              "      <th>Nacionality</th>\n",
              "      <th>Name</th>\n",
              "    </tr>\n",
              "  </thead>\n",
              "  <tbody>\n",
              "    <tr>\n",
              "      <th>0</th>\n",
              "      <td>23.0</td>\n",
              "      <td>Colombia</td>\n",
              "      <td>Juan Valdez</td>\n",
              "    </tr>\n",
              "  </tbody>\n",
              "</table>\n",
              "</div>"
            ],
            "text/plain": [
              "    Age Nacionality         Name\n",
              "0  23.0    Colombia  Juan Valdez"
            ]
          },
          "metadata": {
            "tags": []
          },
          "execution_count": 227
        }
      ]
    },
    {
      "cell_type": "markdown",
      "metadata": {
        "id": "32Oh_stDxE1w"
      },
      "source": [
        "We can fix the type of data of the `'Age'` column"
      ]
    },
    {
      "cell_type": "code",
      "metadata": {
        "id": "-Jk5bSRGxE1y",
        "colab": {
          "base_uri": "https://localhost:8080/"
        },
        "outputId": "e7d12fd7-6b66-44ac-956b-710897d55bd1"
      },
      "source": [
        "type(df.Age)"
      ],
      "execution_count": 228,
      "outputs": [
        {
          "output_type": "execute_result",
          "data": {
            "text/plain": [
              "pandas.core.series.Series"
            ]
          },
          "metadata": {
            "tags": []
          },
          "execution_count": 228
        }
      ]
    },
    {
      "cell_type": "code",
      "metadata": {
        "id": "vl9RKEBXxE12",
        "colab": {
          "base_uri": "https://localhost:8080/",
          "height": 80
        },
        "outputId": "eda975d4-13b6-491a-cba2-d2e7a5652385"
      },
      "source": [
        "df['Age']=df.Age.astype(int)\n",
        "df"
      ],
      "execution_count": 229,
      "outputs": [
        {
          "output_type": "execute_result",
          "data": {
            "text/html": [
              "<div>\n",
              "<style scoped>\n",
              "    .dataframe tbody tr th:only-of-type {\n",
              "        vertical-align: middle;\n",
              "    }\n",
              "\n",
              "    .dataframe tbody tr th {\n",
              "        vertical-align: top;\n",
              "    }\n",
              "\n",
              "    .dataframe thead th {\n",
              "        text-align: right;\n",
              "    }\n",
              "</style>\n",
              "<table border=\"1\" class=\"dataframe\">\n",
              "  <thead>\n",
              "    <tr style=\"text-align: right;\">\n",
              "      <th></th>\n",
              "      <th>Age</th>\n",
              "      <th>Nacionality</th>\n",
              "      <th>Name</th>\n",
              "    </tr>\n",
              "  </thead>\n",
              "  <tbody>\n",
              "    <tr>\n",
              "      <th>0</th>\n",
              "      <td>23</td>\n",
              "      <td>Colombia</td>\n",
              "      <td>Juan Valdez</td>\n",
              "    </tr>\n",
              "  </tbody>\n",
              "</table>\n",
              "</div>"
            ],
            "text/plain": [
              "   Age Nacionality         Name\n",
              "0   23    Colombia  Juan Valdez"
            ]
          },
          "metadata": {
            "tags": []
          },
          "execution_count": 229
        }
      ]
    },
    {
      "cell_type": "markdown",
      "metadata": {
        "id": "npH4wLrNxE17"
      },
      "source": [
        "To add a second file we build another `dict`"
      ]
    },
    {
      "cell_type": "code",
      "metadata": {
        "id": "nTwRmub3xE18",
        "colab": {
          "base_uri": "https://localhost:8080/"
        },
        "outputId": "f78af4a4-0d48-42fb-933c-f3eaca07fee6"
      },
      "source": [
        "d={}\n",
        "for k in ['Name','Nacionality','Age','Company']:\n",
        "    var=input('{}:\\n'.format(k))\n",
        "    d[k]=var"
      ],
      "execution_count": 230,
      "outputs": [
        {
          "output_type": "stream",
          "text": [
            "Name:\n",
            "Camilo\n",
            "Nacionality:\n",
            "Colombia\n",
            "Age:\n",
            "19\n",
            "Company:\n",
            "UdeA\n"
          ],
          "name": "stdout"
        }
      ]
    },
    {
      "cell_type": "markdown",
      "metadata": {
        "id": "t8Xzsb0qxE1-"
      },
      "source": [
        "#### Exercises\n",
        "* Display the resulting `Series` in the screen:"
      ]
    },
    {
      "cell_type": "code",
      "metadata": {
        "id": "58Cku5HjxE1_",
        "colab": {
          "base_uri": "https://localhost:8080/"
        },
        "outputId": "1f473165-6fac-4ca7-de8f-992ba89826fa"
      },
      "source": [
        "pd.Series(d)"
      ],
      "execution_count": 231,
      "outputs": [
        {
          "output_type": "execute_result",
          "data": {
            "text/plain": [
              "Name             Camilo\n",
              "Nacionality    Colombia\n",
              "Age                  19\n",
              "Company            UdeA\n",
              "dtype: object"
            ]
          },
          "metadata": {
            "tags": []
          },
          "execution_count": 231
        }
      ]
    },
    {
      "cell_type": "markdown",
      "metadata": {
        "id": "sSPUdkvtxE2C"
      },
      "source": [
        "* Append to the previous `DataFrame` and visualize it:"
      ]
    },
    {
      "cell_type": "code",
      "metadata": {
        "id": "vRRypFa_xE2D"
      },
      "source": [
        "df=df.append(d,ignore_index=True)"
      ],
      "execution_count": 232,
      "outputs": []
    },
    {
      "cell_type": "markdown",
      "metadata": {
        "id": "wLUED3NWxE2G"
      },
      "source": [
        "* Fill NaN with empty strings"
      ]
    },
    {
      "cell_type": "code",
      "metadata": {
        "id": "28rp4v3BxE2I",
        "colab": {
          "base_uri": "https://localhost:8080/",
          "height": 111
        },
        "outputId": "f2d5fb8e-a538-4fc5-df41-3f6a362106ae"
      },
      "source": [
        "df=df.fillna(' ')\n",
        "df"
      ],
      "execution_count": 241,
      "outputs": [
        {
          "output_type": "execute_result",
          "data": {
            "text/html": [
              "<div>\n",
              "<style scoped>\n",
              "    .dataframe tbody tr th:only-of-type {\n",
              "        vertical-align: middle;\n",
              "    }\n",
              "\n",
              "    .dataframe tbody tr th {\n",
              "        vertical-align: top;\n",
              "    }\n",
              "\n",
              "    .dataframe thead th {\n",
              "        text-align: right;\n",
              "    }\n",
              "</style>\n",
              "<table border=\"1\" class=\"dataframe\">\n",
              "  <thead>\n",
              "    <tr style=\"text-align: right;\">\n",
              "      <th></th>\n",
              "      <th>Age</th>\n",
              "      <th>Nacionality</th>\n",
              "      <th>Name</th>\n",
              "      <th>Company</th>\n",
              "    </tr>\n",
              "  </thead>\n",
              "  <tbody>\n",
              "    <tr>\n",
              "      <th>0</th>\n",
              "      <td>23</td>\n",
              "      <td>Colombia</td>\n",
              "      <td>Juan Valdez</td>\n",
              "      <td></td>\n",
              "    </tr>\n",
              "    <tr>\n",
              "      <th>1</th>\n",
              "      <td>19</td>\n",
              "      <td>Colombia</td>\n",
              "      <td>Camilo</td>\n",
              "      <td>UdeA</td>\n",
              "    </tr>\n",
              "  </tbody>\n",
              "</table>\n",
              "</div>"
            ],
            "text/plain": [
              "  Age Nacionality         Name Company\n",
              "0  23    Colombia  Juan Valdez        \n",
              "1  19    Colombia       Camilo    UdeA"
            ]
          },
          "metadata": {
            "tags": []
          },
          "execution_count": 241
        }
      ]
    },
    {
      "cell_type": "markdown",
      "metadata": {
        "id": "K3feFAfYxE2K"
      },
      "source": [
        "* Save `Pandas` `DataFrame` as an Excel file"
      ]
    },
    {
      "cell_type": "code",
      "metadata": {
        "id": "fdxuA_FAxE2L"
      },
      "source": [
        "df.to_excel('expandas.xlsx',index=False)"
      ],
      "execution_count": 242,
      "outputs": []
    },
    {
      "cell_type": "markdown",
      "metadata": {
        "id": "evWZKwEPxE2O"
      },
      "source": [
        "* Load pandas DataFrame from the saved file in Excel"
      ]
    },
    {
      "cell_type": "code",
      "metadata": {
        "id": "xl7KUNVCxE2P",
        "colab": {
          "base_uri": "https://localhost:8080/",
          "height": 111
        },
        "outputId": "31dbc9d7-d1a2-4eb4-e0f4-a734594ed516"
      },
      "source": [
        "pd.read_excel('expandas.xlsx')"
      ],
      "execution_count": 243,
      "outputs": [
        {
          "output_type": "execute_result",
          "data": {
            "text/html": [
              "<div>\n",
              "<style scoped>\n",
              "    .dataframe tbody tr th:only-of-type {\n",
              "        vertical-align: middle;\n",
              "    }\n",
              "\n",
              "    .dataframe tbody tr th {\n",
              "        vertical-align: top;\n",
              "    }\n",
              "\n",
              "    .dataframe thead th {\n",
              "        text-align: right;\n",
              "    }\n",
              "</style>\n",
              "<table border=\"1\" class=\"dataframe\">\n",
              "  <thead>\n",
              "    <tr style=\"text-align: right;\">\n",
              "      <th></th>\n",
              "      <th>Age</th>\n",
              "      <th>Nacionality</th>\n",
              "      <th>Name</th>\n",
              "      <th>Company</th>\n",
              "    </tr>\n",
              "  </thead>\n",
              "  <tbody>\n",
              "    <tr>\n",
              "      <th>0</th>\n",
              "      <td>23</td>\n",
              "      <td>Colombia</td>\n",
              "      <td>Juan Valdez</td>\n",
              "      <td>NaN</td>\n",
              "    </tr>\n",
              "    <tr>\n",
              "      <th>1</th>\n",
              "      <td>19</td>\n",
              "      <td>Colombia</td>\n",
              "      <td>Camilo</td>\n",
              "      <td>UdeA</td>\n",
              "    </tr>\n",
              "  </tbody>\n",
              "</table>\n",
              "</div>"
            ],
            "text/plain": [
              "   Age Nacionality         Name Company\n",
              "0   23    Colombia  Juan Valdez     NaN\n",
              "1   19    Colombia       Camilo    UdeA"
            ]
          },
          "metadata": {
            "tags": []
          },
          "execution_count": 243
        }
      ]
    },
    {
      "cell_type": "markdown",
      "metadata": {
        "id": "pAZISlqKxE2T"
      },
      "source": [
        "### Common operations upon `DataFrames`\n",
        "See https://github.com/restrepo/PythonTipsAndTricks"
      ]
    },
    {
      "cell_type": "markdown",
      "metadata": {
        "id": "IBgQ8cojxE2U"
      },
      "source": [
        "* __To fill a specific cell__"
      ]
    },
    {
      "cell_type": "code",
      "metadata": {
        "id": "a00HZIQhxE2V"
      },
      "source": [
        "df.loc[0,'Company']='Federación de Caferos'"
      ],
      "execution_count": 90,
      "outputs": []
    },
    {
      "cell_type": "code",
      "metadata": {
        "id": "g6f2psm3xE2X",
        "colab": {
          "base_uri": "https://localhost:8080/",
          "height": 0
        },
        "outputId": "962c9630-254c-4db4-d212-c7f51651e116"
      },
      "source": [
        "df"
      ],
      "execution_count": 91,
      "outputs": [
        {
          "output_type": "execute_result",
          "data": {
            "text/html": [
              "<div>\n",
              "<style scoped>\n",
              "    .dataframe tbody tr th:only-of-type {\n",
              "        vertical-align: middle;\n",
              "    }\n",
              "\n",
              "    .dataframe tbody tr th {\n",
              "        vertical-align: top;\n",
              "    }\n",
              "\n",
              "    .dataframe thead th {\n",
              "        text-align: right;\n",
              "    }\n",
              "</style>\n",
              "<table border=\"1\" class=\"dataframe\">\n",
              "  <thead>\n",
              "    <tr style=\"text-align: right;\">\n",
              "      <th></th>\n",
              "      <th>Age</th>\n",
              "      <th>Nacionality</th>\n",
              "      <th>Name</th>\n",
              "      <th>Company</th>\n",
              "    </tr>\n",
              "  </thead>\n",
              "  <tbody>\n",
              "    <tr>\n",
              "      <th>0</th>\n",
              "      <td>23</td>\n",
              "      <td>Colombia</td>\n",
              "      <td>Juan Valdez</td>\n",
              "      <td>Federación de Caferos</td>\n",
              "    </tr>\n",
              "  </tbody>\n",
              "</table>\n",
              "</div>"
            ],
            "text/plain": [
              "   Age Nacionality         Name                Company\n",
              "0   23    Colombia  Juan Valdez  Federación de Caferos"
            ]
          },
          "metadata": {
            "tags": []
          },
          "execution_count": 91
        }
      ]
    },
    {
      "cell_type": "markdown",
      "metadata": {
        "id": "rzAKwxQhxE2a"
      },
      "source": [
        "## Other formats to saving and read files\n",
        "We are interested in format which keeps the tags of the columns, like `'Nombre', 'Edad', 'Compañia'`"
      ]
    },
    {
      "cell_type": "code",
      "metadata": {
        "colab": {
          "base_uri": "https://localhost:8080/",
          "height": 111
        },
        "id": "CbgkbfTKvIkO",
        "outputId": "d8e38211-4769-4326-c528-832fead01226"
      },
      "source": [
        "df=pd.read_excel('http://bit.ly/spreadsheet_xlsx')\n",
        "df"
      ],
      "execution_count": 244,
      "outputs": [
        {
          "output_type": "execute_result",
          "data": {
            "text/html": [
              "<div>\n",
              "<style scoped>\n",
              "    .dataframe tbody tr th:only-of-type {\n",
              "        vertical-align: middle;\n",
              "    }\n",
              "\n",
              "    .dataframe tbody tr th {\n",
              "        vertical-align: top;\n",
              "    }\n",
              "\n",
              "    .dataframe thead th {\n",
              "        text-align: right;\n",
              "    }\n",
              "</style>\n",
              "<table border=\"1\" class=\"dataframe\">\n",
              "  <thead>\n",
              "    <tr style=\"text-align: right;\">\n",
              "      <th></th>\n",
              "      <th>Nombre</th>\n",
              "      <th>Edad</th>\n",
              "      <th>Compañia</th>\n",
              "    </tr>\n",
              "  </thead>\n",
              "  <tbody>\n",
              "    <tr>\n",
              "      <th>0</th>\n",
              "      <td>Juan Valdez</td>\n",
              "      <td>23</td>\n",
              "      <td>Café de Colombia</td>\n",
              "    </tr>\n",
              "    <tr>\n",
              "      <th>1</th>\n",
              "      <td>Álvaro Uribe Vélez</td>\n",
              "      <td>65</td>\n",
              "      <td>Senado de la República</td>\n",
              "    </tr>\n",
              "  </tbody>\n",
              "</table>\n",
              "</div>"
            ],
            "text/plain": [
              "               Nombre  Edad                Compañia\n",
              "0         Juan Valdez    23        Café de Colombia\n",
              "1  Álvaro Uribe Vélez    65  Senado de la República"
            ]
          },
          "metadata": {
            "tags": []
          },
          "execution_count": 244
        }
      ]
    },
    {
      "cell_type": "markdown",
      "metadata": {
        "id": "w8hdIGOvu3Ee"
      },
      "source": [
        "#### CSV"
      ]
    },
    {
      "cell_type": "code",
      "metadata": {
        "id": "90PSoWzUxE2b"
      },
      "source": [
        "df.to_csv('hoja.csv',index=False)"
      ],
      "execution_count": 245,
      "outputs": []
    },
    {
      "cell_type": "markdown",
      "metadata": {
        "id": "ViJ62k6BxfOm"
      },
      "source": [
        "We can check the explicit file format with"
      ]
    },
    {
      "cell_type": "code",
      "metadata": {
        "id": "_RezVT_36y1w",
        "colab": {
          "base_uri": "https://localhost:8080/",
          "height": 0
        },
        "outputId": "c142fb66-5476-4871-ba8c-28eb8c0d0124"
      },
      "source": [
        "df.to_csv(None,index=False)"
      ],
      "execution_count": 246,
      "outputs": [
        {
          "output_type": "execute_result",
          "data": {
            "application/vnd.google.colaboratory.intrinsic+json": {
              "type": "string"
            },
            "text/plain": [
              "'Nombre,Edad,Compañia\\nJuan Valdez,23,Café de Colombia\\nÁlvaro Uribe Vélez,65,Senado de la República\\n'"
            ]
          },
          "metadata": {
            "tags": []
          },
          "execution_count": 246
        }
      ]
    },
    {
      "cell_type": "code",
      "metadata": {
        "colab": {
          "base_uri": "https://localhost:8080/"
        },
        "id": "fGmx6K8SxRB1",
        "outputId": "bc98dde6-609b-4429-f376-e7f0f87970f5"
      },
      "source": [
        "print(df.to_csv(None,index=False))"
      ],
      "execution_count": 247,
      "outputs": [
        {
          "output_type": "stream",
          "text": [
            "Nombre,Edad,Compañia\n",
            "Juan Valdez,23,Café de Colombia\n",
            "Álvaro Uribe Vélez,65,Senado de la República\n",
            "\n"
          ],
          "name": "stdout"
        }
      ]
    },
    {
      "cell_type": "code",
      "metadata": {
        "id": "RkyWSSoA6y1w",
        "colab": {
          "base_uri": "https://localhost:8080/",
          "height": 0
        },
        "outputId": "c90c9c53-8d8c-43cb-c842-15b53174d2ab"
      },
      "source": [
        "pd.read_csv('hoja.csv')"
      ],
      "execution_count": 248,
      "outputs": [
        {
          "output_type": "execute_result",
          "data": {
            "text/html": [
              "<div>\n",
              "<style scoped>\n",
              "    .dataframe tbody tr th:only-of-type {\n",
              "        vertical-align: middle;\n",
              "    }\n",
              "\n",
              "    .dataframe tbody tr th {\n",
              "        vertical-align: top;\n",
              "    }\n",
              "\n",
              "    .dataframe thead th {\n",
              "        text-align: right;\n",
              "    }\n",
              "</style>\n",
              "<table border=\"1\" class=\"dataframe\">\n",
              "  <thead>\n",
              "    <tr style=\"text-align: right;\">\n",
              "      <th></th>\n",
              "      <th>Nombre</th>\n",
              "      <th>Edad</th>\n",
              "      <th>Compañia</th>\n",
              "    </tr>\n",
              "  </thead>\n",
              "  <tbody>\n",
              "    <tr>\n",
              "      <th>0</th>\n",
              "      <td>Juan Valdez</td>\n",
              "      <td>23</td>\n",
              "      <td>Café de Colombia</td>\n",
              "    </tr>\n",
              "    <tr>\n",
              "      <th>1</th>\n",
              "      <td>Álvaro Uribe Vélez</td>\n",
              "      <td>65</td>\n",
              "      <td>Senado de la República</td>\n",
              "    </tr>\n",
              "  </tbody>\n",
              "</table>\n",
              "</div>"
            ],
            "text/plain": [
              "               Nombre  Edad                Compañia\n",
              "0         Juan Valdez    23        Café de Colombia\n",
              "1  Álvaro Uribe Vélez    65  Senado de la República"
            ]
          },
          "metadata": {
            "tags": []
          },
          "execution_count": 248
        }
      ]
    },
    {
      "cell_type": "markdown",
      "metadata": {
        "id": "s1rbHbLmuv2g"
      },
      "source": [
        "#### JSON"
      ]
    },
    {
      "cell_type": "markdown",
      "metadata": {
        "id": "JwWj-SSVv6Aj"
      },
      "source": [
        "This format keeps the Python lists and dictionaries at the storage level"
      ]
    },
    {
      "cell_type": "code",
      "metadata": {
        "colab": {
          "base_uri": "https://localhost:8080/",
          "height": 0
        },
        "id": "OaMV4GdOwmBo",
        "outputId": "070f5fc8-8aa2-4687-b285-f4c1cb7786c7"
      },
      "source": [
        "df=pd.DataFrame([{\"Name\":\"Donald Trump\",\"Age\":74},\n",
        "                 {\"Name\":\"Barak Obama\", \"Age\":59}])\n",
        "df"
      ],
      "execution_count": 249,
      "outputs": [
        {
          "output_type": "execute_result",
          "data": {
            "text/html": [
              "<div>\n",
              "<style scoped>\n",
              "    .dataframe tbody tr th:only-of-type {\n",
              "        vertical-align: middle;\n",
              "    }\n",
              "\n",
              "    .dataframe tbody tr th {\n",
              "        vertical-align: top;\n",
              "    }\n",
              "\n",
              "    .dataframe thead th {\n",
              "        text-align: right;\n",
              "    }\n",
              "</style>\n",
              "<table border=\"1\" class=\"dataframe\">\n",
              "  <thead>\n",
              "    <tr style=\"text-align: right;\">\n",
              "      <th></th>\n",
              "      <th>Name</th>\n",
              "      <th>Age</th>\n",
              "    </tr>\n",
              "  </thead>\n",
              "  <tbody>\n",
              "    <tr>\n",
              "      <th>0</th>\n",
              "      <td>Donald Trump</td>\n",
              "      <td>74</td>\n",
              "    </tr>\n",
              "    <tr>\n",
              "      <th>1</th>\n",
              "      <td>Barak Obama</td>\n",
              "      <td>59</td>\n",
              "    </tr>\n",
              "  </tbody>\n",
              "</table>\n",
              "</div>"
            ],
            "text/plain": [
              "           Name  Age\n",
              "0  Donald Trump   74\n",
              "1   Barak Obama   59"
            ]
          },
          "metadata": {
            "tags": []
          },
          "execution_count": 249
        }
      ]
    },
    {
      "cell_type": "markdown",
      "metadata": {
        "id": "Ajc79wC9z2b0"
      },
      "source": [
        "This format allow us to keep exactly the very same list of dictionaries structure!"
      ]
    },
    {
      "cell_type": "code",
      "metadata": {
        "colab": {
          "base_uri": "https://localhost:8080/"
        },
        "id": "00a9jBWAzg29",
        "outputId": "3f1c4480-daf6-4356-9a49-ca8312b55c19"
      },
      "source": [
        "print(df.to_json(None,orient='records'))"
      ],
      "execution_count": 250,
      "outputs": [
        {
          "output_type": "stream",
          "text": [
            "[{\"Name\":\"Donald Trump\",\"Age\":74},{\"Name\":\"Barak Obama\",\"Age\":59}]\n"
          ],
          "name": "stdout"
        }
      ]
    },
    {
      "cell_type": "markdown",
      "metadata": {
        "id": "xwPu1tn30hQ8"
      },
      "source": [
        "__Activity__: \n",
        "* Save to a file instead of `None` and open the file with some editor. "
      ]
    },
    {
      "cell_type": "code",
      "metadata": {
        "id": "KtKmXfQg1Z4z"
      },
      "source": [
        "df.to_json('presidents.json',orient='records')"
      ],
      "execution_count": 251,
      "outputs": []
    },
    {
      "cell_type": "markdown",
      "metadata": {
        "id": "5S7OR7X11acD"
      },
      "source": [
        "* Add a break-line at the end of the first dictionary and try to\n",
        "load the resulting file with `pd.read_json`"
      ]
    },
    {
      "cell_type": "code",
      "metadata": {
        "id": "xOaIuF_y1b5C",
        "colab": {
          "base_uri": "https://localhost:8080/",
          "height": 0
        },
        "outputId": "b3d9293f-f4d3-46e1-efee-f945ee583d25"
      },
      "source": [
        "pd.read_json('presidents.json')"
      ],
      "execution_count": 252,
      "outputs": [
        {
          "output_type": "execute_result",
          "data": {
            "text/html": [
              "<div>\n",
              "<style scoped>\n",
              "    .dataframe tbody tr th:only-of-type {\n",
              "        vertical-align: middle;\n",
              "    }\n",
              "\n",
              "    .dataframe tbody tr th {\n",
              "        vertical-align: top;\n",
              "    }\n",
              "\n",
              "    .dataframe thead th {\n",
              "        text-align: right;\n",
              "    }\n",
              "</style>\n",
              "<table border=\"1\" class=\"dataframe\">\n",
              "  <thead>\n",
              "    <tr style=\"text-align: right;\">\n",
              "      <th></th>\n",
              "      <th>Name</th>\n",
              "      <th>Age</th>\n",
              "    </tr>\n",
              "  </thead>\n",
              "  <tbody>\n",
              "    <tr>\n",
              "      <th>0</th>\n",
              "      <td>Donald Trump</td>\n",
              "      <td>74</td>\n",
              "    </tr>\n",
              "    <tr>\n",
              "      <th>1</th>\n",
              "      <td>Barak Obama</td>\n",
              "      <td>59</td>\n",
              "    </tr>\n",
              "  </tbody>\n",
              "</table>\n",
              "</div>"
            ],
            "text/plain": [
              "           Name  Age\n",
              "0  Donald Trump   74\n",
              "1   Barak Obama   59"
            ]
          },
          "metadata": {
            "tags": []
          },
          "execution_count": 252
        }
      ]
    },
    {
      "cell_type": "markdown",
      "metadata": {
        "id": "5vSq9daI0F7R"
      },
      "source": [
        "JSON allows for some flexibility in the break-lines structure:"
      ]
    },
    {
      "cell_type": "code",
      "metadata": {
        "id": "E7GfYF3E6y1z"
      },
      "source": [
        "hm='''\n",
        "hola\n",
        "mundo\n",
        "'''"
      ],
      "execution_count": 253,
      "outputs": []
    },
    {
      "cell_type": "code",
      "metadata": {
        "id": "t1srmxlK6y1z",
        "colab": {
          "base_uri": "https://localhost:8080/",
          "height": 0
        },
        "outputId": "5d1d8815-f0ba-44f6-d5a4-df0e82da32ac"
      },
      "source": [
        "hm"
      ],
      "execution_count": 254,
      "outputs": [
        {
          "output_type": "execute_result",
          "data": {
            "application/vnd.google.colaboratory.intrinsic+json": {
              "type": "string"
            },
            "text/plain": [
              "'\\nhola\\nmundo\\n'"
            ]
          },
          "metadata": {
            "tags": []
          },
          "execution_count": 254
        }
      ]
    },
    {
      "cell_type": "code",
      "metadata": {
        "colab": {
          "base_uri": "https://localhost:8080/",
          "height": 0
        },
        "id": "qT8Lnlrgy0M9",
        "outputId": "86fda1cb-03e5-42c7-f820-11201d6e1c94"
      },
      "source": [
        "pd.read_json('''\n",
        "             [{\"Name\":\"Donald Trump\",\"Age\":73},\n",
        "              {\"Name\":\"Barak Obama\", \"Age\":58}]\n",
        "            ''')"
      ],
      "execution_count": 255,
      "outputs": [
        {
          "output_type": "execute_result",
          "data": {
            "text/html": [
              "<div>\n",
              "<style scoped>\n",
              "    .dataframe tbody tr th:only-of-type {\n",
              "        vertical-align: middle;\n",
              "    }\n",
              "\n",
              "    .dataframe tbody tr th {\n",
              "        vertical-align: top;\n",
              "    }\n",
              "\n",
              "    .dataframe thead th {\n",
              "        text-align: right;\n",
              "    }\n",
              "</style>\n",
              "<table border=\"1\" class=\"dataframe\">\n",
              "  <thead>\n",
              "    <tr style=\"text-align: right;\">\n",
              "      <th></th>\n",
              "      <th>Name</th>\n",
              "      <th>Age</th>\n",
              "    </tr>\n",
              "  </thead>\n",
              "  <tbody>\n",
              "    <tr>\n",
              "      <th>0</th>\n",
              "      <td>Donald Trump</td>\n",
              "      <td>73</td>\n",
              "    </tr>\n",
              "    <tr>\n",
              "      <th>1</th>\n",
              "      <td>Barak Obama</td>\n",
              "      <td>58</td>\n",
              "    </tr>\n",
              "  </tbody>\n",
              "</table>\n",
              "</div>"
            ],
            "text/plain": [
              "           Name  Age\n",
              "0  Donald Trump   73\n",
              "1   Barak Obama   58"
            ]
          },
          "metadata": {
            "tags": []
          },
          "execution_count": 255
        }
      ]
    },
    {
      "cell_type": "markdown",
      "metadata": {
        "id": "w6PyR85f1mfD"
      },
      "source": [
        "For large databases it is convinient just to accumulate dictionaries in a sequential form:"
      ]
    },
    {
      "cell_type": "code",
      "metadata": {
        "colab": {
          "base_uri": "https://localhost:8080/"
        },
        "id": "y2f8y66fyC5S",
        "outputId": "000ae2d1-161b-46f2-92f0-8cebca7219f2"
      },
      "source": [
        "print(df.to_json(None,orient='records',lines=True))"
      ],
      "execution_count": 256,
      "outputs": [
        {
          "output_type": "stream",
          "text": [
            "{\"Name\":\"Donald Trump\",\"Age\":74}\n",
            "{\"Name\":\"Barak Obama\",\"Age\":59}\n"
          ],
          "name": "stdout"
        }
      ]
    },
    {
      "cell_type": "code",
      "metadata": {
        "colab": {
          "base_uri": "https://localhost:8080/",
          "height": 0
        },
        "id": "Bvhzs_GRzNWM",
        "outputId": "eb63173d-f430-480e-83be-f30304749168"
      },
      "source": [
        "pd.read_json('''\n",
        "             {\"Name\":\"Donald Trump\",\"Age\":73}\n",
        "             {\"Name\":\"Barak Obama\", \"Age\":58}\n",
        "            ''',orient='records',lines=True)"
      ],
      "execution_count": 257,
      "outputs": [
        {
          "output_type": "execute_result",
          "data": {
            "text/html": [
              "<div>\n",
              "<style scoped>\n",
              "    .dataframe tbody tr th:only-of-type {\n",
              "        vertical-align: middle;\n",
              "    }\n",
              "\n",
              "    .dataframe tbody tr th {\n",
              "        vertical-align: top;\n",
              "    }\n",
              "\n",
              "    .dataframe thead th {\n",
              "        text-align: right;\n",
              "    }\n",
              "</style>\n",
              "<table border=\"1\" class=\"dataframe\">\n",
              "  <thead>\n",
              "    <tr style=\"text-align: right;\">\n",
              "      <th></th>\n",
              "      <th>Name</th>\n",
              "      <th>Age</th>\n",
              "    </tr>\n",
              "  </thead>\n",
              "  <tbody>\n",
              "    <tr>\n",
              "      <th>0</th>\n",
              "      <td>Donald Trump</td>\n",
              "      <td>73</td>\n",
              "    </tr>\n",
              "    <tr>\n",
              "      <th>1</th>\n",
              "      <td>Barak Obama</td>\n",
              "      <td>58</td>\n",
              "    </tr>\n",
              "  </tbody>\n",
              "</table>\n",
              "</div>"
            ],
            "text/plain": [
              "           Name  Age\n",
              "0  Donald Trump   73\n",
              "1   Barak Obama   58"
            ]
          },
          "metadata": {
            "tags": []
          },
          "execution_count": 257
        }
      ]
    },
    {
      "cell_type": "markdown",
      "metadata": {
        "id": "sYfWnw1e2wfi"
      },
      "source": [
        "__Activity__: \n",
        "* Save to a file instead of `None`, with options: `orient='records',lines=True`, and open the file with some editor. "
      ]
    },
    {
      "cell_type": "code",
      "metadata": {
        "id": "S9wv93dM3KER"
      },
      "source": [
        "df.to_json('presidents.json',orient='records',lines=True)"
      ],
      "execution_count": 258,
      "outputs": []
    },
    {
      "cell_type": "markdown",
      "metadata": {
        "id": "bGYW8Xl-3Kdi"
      },
      "source": [
        "* Add a similar dictionary in the next new line, and try to\n",
        "load the resulting file with `pd.read_json` with options: `orient='records',lines=True`. \n",
        "   * WARNING: Use doble-quotes `\"` to write the keys od the new\n",
        "dictionary"
      ]
    },
    {
      "cell_type": "markdown",
      "metadata": {
        "id": "icGCveT34HDA"
      },
      "source": [
        "Any Python string need to be converted first to double-quotes before to be used as JSON string.\n",
        "\n",
        "__Example__"
      ]
    },
    {
      "cell_type": "code",
      "metadata": {
        "id": "mPRCSHbG4dRx"
      },
      "source": [
        "numbers={\"even\": [0,2,4,-6,8],   #  First  key-list\n",
        "         \"odd\" : [1,3,-5,7,9] }  #  Second key-list"
      ],
      "execution_count": 259,
      "outputs": []
    },
    {
      "cell_type": "code",
      "metadata": {
        "id": "yg2-DGrf6y10",
        "colab": {
          "base_uri": "https://localhost:8080/"
        },
        "outputId": "658892f6-92e6-4325-90b7-d2376f37e020"
      },
      "source": [
        "numbers"
      ],
      "execution_count": 260,
      "outputs": [
        {
          "output_type": "execute_result",
          "data": {
            "text/plain": [
              "{'even': [0, 2, 4, -6, 8], 'odd': [1, 3, -5, 7, 9]}"
            ]
          },
          "metadata": {
            "tags": []
          },
          "execution_count": 260
        }
      ]
    },
    {
      "cell_type": "code",
      "metadata": {
        "colab": {
          "base_uri": "https://localhost:8080/",
          "height": 0
        },
        "id": "An-yzTut4gtw",
        "outputId": "eb898a7b-915a-4a46-cdb8-0b427d2ebe1b"
      },
      "source": [
        "str(numbers)"
      ],
      "execution_count": 261,
      "outputs": [
        {
          "output_type": "execute_result",
          "data": {
            "application/vnd.google.colaboratory.intrinsic+json": {
              "type": "string"
            },
            "text/plain": [
              "\"{'even': [0, 2, 4, -6, 8], 'odd': [1, 3, -5, 7, 9]}\""
            ]
          },
          "metadata": {
            "tags": []
          },
          "execution_count": 261
        }
      ]
    },
    {
      "cell_type": "markdown",
      "metadata": {
        "id": "BFCE3Hq34ktw"
      },
      "source": [
        "This string can be writing in the `JSON` format by replacing the single quotes, ' , by  duoble quotes, \":"
      ]
    },
    {
      "cell_type": "code",
      "metadata": {
        "colab": {
          "base_uri": "https://localhost:8080/",
          "height": 0
        },
        "id": "PJVD2Btc4nJx",
        "outputId": "db1ef853-fbf1-4ba6-d631-3bab78f584d1"
      },
      "source": [
        "str(numbers).replace(\"'\",'\"')"
      ],
      "execution_count": 262,
      "outputs": [
        {
          "output_type": "execute_result",
          "data": {
            "application/vnd.google.colaboratory.intrinsic+json": {
              "type": "string"
            },
            "text/plain": [
              "'{\"even\": [0, 2, 4, -6, 8], \"odd\": [1, 3, -5, 7, 9]}'"
            ]
          },
          "metadata": {
            "tags": []
          },
          "execution_count": 262
        }
      ]
    },
    {
      "cell_type": "markdown",
      "metadata": {
        "id": "zDssJstU45Qi"
      },
      "source": [
        "and now can be used as an JSON input"
      ]
    },
    {
      "cell_type": "code",
      "metadata": {
        "id": "HxbaP5T542_h",
        "colab": {
          "base_uri": "https://localhost:8080/",
          "height": 0
        },
        "outputId": "33a9f265-5a7d-4f7a-b2c2-652a7a801b87"
      },
      "source": [
        "df=pd.read_json(  str(numbers).replace(\"'\",'\"') )\n",
        "df"
      ],
      "execution_count": 263,
      "outputs": [
        {
          "output_type": "execute_result",
          "data": {
            "text/html": [
              "<div>\n",
              "<style scoped>\n",
              "    .dataframe tbody tr th:only-of-type {\n",
              "        vertical-align: middle;\n",
              "    }\n",
              "\n",
              "    .dataframe tbody tr th {\n",
              "        vertical-align: top;\n",
              "    }\n",
              "\n",
              "    .dataframe thead th {\n",
              "        text-align: right;\n",
              "    }\n",
              "</style>\n",
              "<table border=\"1\" class=\"dataframe\">\n",
              "  <thead>\n",
              "    <tr style=\"text-align: right;\">\n",
              "      <th></th>\n",
              "      <th>even</th>\n",
              "      <th>odd</th>\n",
              "    </tr>\n",
              "  </thead>\n",
              "  <tbody>\n",
              "    <tr>\n",
              "      <th>0</th>\n",
              "      <td>0</td>\n",
              "      <td>1</td>\n",
              "    </tr>\n",
              "    <tr>\n",
              "      <th>1</th>\n",
              "      <td>2</td>\n",
              "      <td>3</td>\n",
              "    </tr>\n",
              "    <tr>\n",
              "      <th>2</th>\n",
              "      <td>4</td>\n",
              "      <td>-5</td>\n",
              "    </tr>\n",
              "    <tr>\n",
              "      <th>3</th>\n",
              "      <td>-6</td>\n",
              "      <td>7</td>\n",
              "    </tr>\n",
              "    <tr>\n",
              "      <th>4</th>\n",
              "      <td>8</td>\n",
              "      <td>9</td>\n",
              "    </tr>\n",
              "  </tbody>\n",
              "</table>\n",
              "</div>"
            ],
            "text/plain": [
              "   even  odd\n",
              "0     0    1\n",
              "1     2    3\n",
              "2     4   -5\n",
              "3    -6    7\n",
              "4     8    9"
            ]
          },
          "metadata": {
            "tags": []
          },
          "execution_count": 263
        }
      ]
    },
    {
      "cell_type": "markdown",
      "metadata": {
        "id": "EtqUn4t85Hlp"
      },
      "source": [
        "__Activity__: Try to read the string as JSON without make the double-quote replacement"
      ]
    },
    {
      "cell_type": "code",
      "metadata": {
        "id": "lg5vwraLoEdO"
      },
      "source": [
        ""
      ],
      "execution_count": 263,
      "outputs": []
    },
    {
      "cell_type": "markdown",
      "metadata": {
        "id": "s2uApSIi8PjI"
      },
      "source": [
        "## Filters\n",
        "The main application of labeled data for data analysis is the possibility to make filers, or cuts, to obtain specific reduced datasets to further analysis"
      ]
    },
    {
      "cell_type": "code",
      "metadata": {
        "id": "9ozk33Mh6y12",
        "colab": {
          "base_uri": "https://localhost:8080/",
          "height": 204
        },
        "outputId": "0e27ff58-e506-4121-9809-4bb9b3dd8d1b"
      },
      "source": [
        "df"
      ],
      "execution_count": 264,
      "outputs": [
        {
          "output_type": "execute_result",
          "data": {
            "text/html": [
              "<div>\n",
              "<style scoped>\n",
              "    .dataframe tbody tr th:only-of-type {\n",
              "        vertical-align: middle;\n",
              "    }\n",
              "\n",
              "    .dataframe tbody tr th {\n",
              "        vertical-align: top;\n",
              "    }\n",
              "\n",
              "    .dataframe thead th {\n",
              "        text-align: right;\n",
              "    }\n",
              "</style>\n",
              "<table border=\"1\" class=\"dataframe\">\n",
              "  <thead>\n",
              "    <tr style=\"text-align: right;\">\n",
              "      <th></th>\n",
              "      <th>even</th>\n",
              "      <th>odd</th>\n",
              "    </tr>\n",
              "  </thead>\n",
              "  <tbody>\n",
              "    <tr>\n",
              "      <th>0</th>\n",
              "      <td>0</td>\n",
              "      <td>1</td>\n",
              "    </tr>\n",
              "    <tr>\n",
              "      <th>1</th>\n",
              "      <td>2</td>\n",
              "      <td>3</td>\n",
              "    </tr>\n",
              "    <tr>\n",
              "      <th>2</th>\n",
              "      <td>4</td>\n",
              "      <td>-5</td>\n",
              "    </tr>\n",
              "    <tr>\n",
              "      <th>3</th>\n",
              "      <td>-6</td>\n",
              "      <td>7</td>\n",
              "    </tr>\n",
              "    <tr>\n",
              "      <th>4</th>\n",
              "      <td>8</td>\n",
              "      <td>9</td>\n",
              "    </tr>\n",
              "  </tbody>\n",
              "</table>\n",
              "</div>"
            ],
            "text/plain": [
              "   even  odd\n",
              "0     0    1\n",
              "1     2    3\n",
              "2     4   -5\n",
              "3    -6    7\n",
              "4     8    9"
            ]
          },
          "metadata": {
            "tags": []
          },
          "execution_count": 264
        }
      ]
    },
    {
      "cell_type": "code",
      "metadata": {
        "colab": {
          "base_uri": "https://localhost:8080/",
          "height": 111
        },
        "id": "zt2S0aln8_4s",
        "outputId": "81cea88b-96d0-4aa9-e50e-6bb4a584ae69"
      },
      "source": [
        "df[df.even.abs()>4]"
      ],
      "execution_count": 265,
      "outputs": [
        {
          "output_type": "execute_result",
          "data": {
            "text/html": [
              "<div>\n",
              "<style scoped>\n",
              "    .dataframe tbody tr th:only-of-type {\n",
              "        vertical-align: middle;\n",
              "    }\n",
              "\n",
              "    .dataframe tbody tr th {\n",
              "        vertical-align: top;\n",
              "    }\n",
              "\n",
              "    .dataframe thead th {\n",
              "        text-align: right;\n",
              "    }\n",
              "</style>\n",
              "<table border=\"1\" class=\"dataframe\">\n",
              "  <thead>\n",
              "    <tr style=\"text-align: right;\">\n",
              "      <th></th>\n",
              "      <th>even</th>\n",
              "      <th>odd</th>\n",
              "    </tr>\n",
              "  </thead>\n",
              "  <tbody>\n",
              "    <tr>\n",
              "      <th>3</th>\n",
              "      <td>-6</td>\n",
              "      <td>7</td>\n",
              "    </tr>\n",
              "    <tr>\n",
              "      <th>4</th>\n",
              "      <td>8</td>\n",
              "      <td>9</td>\n",
              "    </tr>\n",
              "  </tbody>\n",
              "</table>\n",
              "</div>"
            ],
            "text/plain": [
              "   even  odd\n",
              "3    -6    7\n",
              "4     8    9"
            ]
          },
          "metadata": {
            "tags": []
          },
          "execution_count": 265
        }
      ]
    },
    {
      "cell_type": "code",
      "metadata": {
        "colab": {
          "base_uri": "https://localhost:8080/",
          "height": 80
        },
        "id": "eVSePCQB9GFe",
        "outputId": "9b86aa88-ce9a-492b-d666-f7c3f67026b6"
      },
      "source": [
        "#and\n",
        "df[(df.even>0) & (df.odd<0)]"
      ],
      "execution_count": 266,
      "outputs": [
        {
          "output_type": "execute_result",
          "data": {
            "text/html": [
              "<div>\n",
              "<style scoped>\n",
              "    .dataframe tbody tr th:only-of-type {\n",
              "        vertical-align: middle;\n",
              "    }\n",
              "\n",
              "    .dataframe tbody tr th {\n",
              "        vertical-align: top;\n",
              "    }\n",
              "\n",
              "    .dataframe thead th {\n",
              "        text-align: right;\n",
              "    }\n",
              "</style>\n",
              "<table border=\"1\" class=\"dataframe\">\n",
              "  <thead>\n",
              "    <tr style=\"text-align: right;\">\n",
              "      <th></th>\n",
              "      <th>even</th>\n",
              "      <th>odd</th>\n",
              "    </tr>\n",
              "  </thead>\n",
              "  <tbody>\n",
              "    <tr>\n",
              "      <th>2</th>\n",
              "      <td>4</td>\n",
              "      <td>-5</td>\n",
              "    </tr>\n",
              "  </tbody>\n",
              "</table>\n",
              "</div>"
            ],
            "text/plain": [
              "   even  odd\n",
              "2     4   -5"
            ]
          },
          "metadata": {
            "tags": []
          },
          "execution_count": 266
        }
      ]
    },
    {
      "cell_type": "code",
      "metadata": {
        "id": "BPthdJ9T6y13",
        "colab": {
          "base_uri": "https://localhost:8080/",
          "height": 173
        },
        "outputId": "61613388-3a65-42d2-8475-5af3d0350815"
      },
      "source": [
        "df[~((df.even>0) & (df.odd<0)) ]"
      ],
      "execution_count": 267,
      "outputs": [
        {
          "output_type": "execute_result",
          "data": {
            "text/html": [
              "<div>\n",
              "<style scoped>\n",
              "    .dataframe tbody tr th:only-of-type {\n",
              "        vertical-align: middle;\n",
              "    }\n",
              "\n",
              "    .dataframe tbody tr th {\n",
              "        vertical-align: top;\n",
              "    }\n",
              "\n",
              "    .dataframe thead th {\n",
              "        text-align: right;\n",
              "    }\n",
              "</style>\n",
              "<table border=\"1\" class=\"dataframe\">\n",
              "  <thead>\n",
              "    <tr style=\"text-align: right;\">\n",
              "      <th></th>\n",
              "      <th>even</th>\n",
              "      <th>odd</th>\n",
              "    </tr>\n",
              "  </thead>\n",
              "  <tbody>\n",
              "    <tr>\n",
              "      <th>0</th>\n",
              "      <td>0</td>\n",
              "      <td>1</td>\n",
              "    </tr>\n",
              "    <tr>\n",
              "      <th>1</th>\n",
              "      <td>2</td>\n",
              "      <td>3</td>\n",
              "    </tr>\n",
              "    <tr>\n",
              "      <th>3</th>\n",
              "      <td>-6</td>\n",
              "      <td>7</td>\n",
              "    </tr>\n",
              "    <tr>\n",
              "      <th>4</th>\n",
              "      <td>8</td>\n",
              "      <td>9</td>\n",
              "    </tr>\n",
              "  </tbody>\n",
              "</table>\n",
              "</div>"
            ],
            "text/plain": [
              "   even  odd\n",
              "0     0    1\n",
              "1     2    3\n",
              "3    -6    7\n",
              "4     8    9"
            ]
          },
          "metadata": {
            "tags": []
          },
          "execution_count": 267
        }
      ]
    },
    {
      "cell_type": "code",
      "metadata": {
        "colab": {
          "base_uri": "https://localhost:8080/",
          "height": 111
        },
        "id": "dVktA6ze9wI2",
        "outputId": "d70c5c6a-6d0d-4415-837c-382f0dc939ad"
      },
      "source": [
        "#or\n",
        "df[(df.even<0) | (df.odd<0)]"
      ],
      "execution_count": 268,
      "outputs": [
        {
          "output_type": "execute_result",
          "data": {
            "text/html": [
              "<div>\n",
              "<style scoped>\n",
              "    .dataframe tbody tr th:only-of-type {\n",
              "        vertical-align: middle;\n",
              "    }\n",
              "\n",
              "    .dataframe tbody tr th {\n",
              "        vertical-align: top;\n",
              "    }\n",
              "\n",
              "    .dataframe thead th {\n",
              "        text-align: right;\n",
              "    }\n",
              "</style>\n",
              "<table border=\"1\" class=\"dataframe\">\n",
              "  <thead>\n",
              "    <tr style=\"text-align: right;\">\n",
              "      <th></th>\n",
              "      <th>even</th>\n",
              "      <th>odd</th>\n",
              "    </tr>\n",
              "  </thead>\n",
              "  <tbody>\n",
              "    <tr>\n",
              "      <th>2</th>\n",
              "      <td>4</td>\n",
              "      <td>-5</td>\n",
              "    </tr>\n",
              "    <tr>\n",
              "      <th>3</th>\n",
              "      <td>-6</td>\n",
              "      <td>7</td>\n",
              "    </tr>\n",
              "  </tbody>\n",
              "</table>\n",
              "</div>"
            ],
            "text/plain": [
              "   even  odd\n",
              "2     4   -5\n",
              "3    -6    7"
            ]
          },
          "metadata": {
            "tags": []
          },
          "execution_count": 268
        }
      ]
    },
    {
      "cell_type": "markdown",
      "metadata": {
        "id": "xHsCPml65i54"
      },
      "source": [
        "## The `apply` method\n",
        "The advantage of the spreadsheet paradigm is that the columns can be transformed with functions. All the typical functions avalaible for a spreadsheet are already implemented like the method `.abs()` used before, or the method: `.sum()`"
      ]
    },
    {
      "cell_type": "code",
      "metadata": {
        "colab": {
          "base_uri": "https://localhost:8080/"
        },
        "id": "pPLWFFLA6NX4",
        "outputId": "1b51a7fb-58f7-46bd-f2b3-2661d404815b"
      },
      "source": [
        "df.even.sum()"
      ],
      "execution_count": 269,
      "outputs": [
        {
          "output_type": "execute_result",
          "data": {
            "text/plain": [
              "8"
            ]
          },
          "metadata": {
            "tags": []
          },
          "execution_count": 269
        }
      ]
    },
    {
      "cell_type": "markdown",
      "metadata": {
        "id": "XCUwgF0f6WFP"
      },
      "source": [
        "__Activity__: Explore the avalaible methods by using the completion system of the notebook after the last semicolon of `df.even.`"
      ]
    },
    {
      "cell_type": "markdown",
      "metadata": {
        "id": "JDqDXVoF6mOv"
      },
      "source": [
        "In addittion, for the `DataFrame` paradigm, we can easy implement any other function directly at the programming level either along the columns or along the rows"
      ]
    },
    {
      "cell_type": "markdown",
      "metadata": {
        "id": "378RNNb97OQs"
      },
      "source": [
        "### Column-level `apply`\n",
        "We just select the column and apply the direct or implicit function:\n",
        "* Pre-defined function"
      ]
    },
    {
      "cell_type": "code",
      "metadata": {
        "colab": {
          "base_uri": "https://localhost:8080/"
        },
        "id": "L210XcRK7qYn",
        "outputId": "cc379b68-c46f-468f-e7c3-8be11255da23"
      },
      "source": [
        "df.even.apply(abs)"
      ],
      "execution_count": 270,
      "outputs": [
        {
          "output_type": "execute_result",
          "data": {
            "text/plain": [
              "0    0\n",
              "1    2\n",
              "2    4\n",
              "3    6\n",
              "4    8\n",
              "Name: even, dtype: int64"
            ]
          },
          "metadata": {
            "tags": []
          },
          "execution_count": 270
        }
      ]
    },
    {
      "cell_type": "markdown",
      "metadata": {
        "id": "JX0nA6swDphj"
      },
      "source": [
        "* Implicit function"
      ]
    },
    {
      "cell_type": "code",
      "metadata": {
        "colab": {
          "base_uri": "https://localhost:8080/"
        },
        "id": "oGEcVFrA72LX",
        "outputId": "d7f456e2-6a78-48f3-f10a-d15e1a42ea3f"
      },
      "source": [
        "df.even.apply(lambda n:isinstance(n,int))"
      ],
      "execution_count": 271,
      "outputs": [
        {
          "output_type": "execute_result",
          "data": {
            "text/plain": [
              "0    True\n",
              "1    True\n",
              "2    True\n",
              "3    True\n",
              "4    True\n",
              "Name: even, dtype: bool"
            ]
          },
          "metadata": {
            "tags": []
          },
          "execution_count": 271
        }
      ]
    },
    {
      "cell_type": "code",
      "metadata": {
        "id": "gwXm0JrM6y15",
        "colab": {
          "base_uri": "https://localhost:8080/"
        },
        "outputId": "6f8dbf8e-71b6-4747-92b4-598033a78504"
      },
      "source": [
        "df.even.apply(lambda n: n**2)"
      ],
      "execution_count": 272,
      "outputs": [
        {
          "output_type": "execute_result",
          "data": {
            "text/plain": [
              "0     0\n",
              "1     4\n",
              "2    16\n",
              "3    36\n",
              "4    64\n",
              "Name: even, dtype: int64"
            ]
          },
          "metadata": {
            "tags": []
          },
          "execution_count": 272
        }
      ]
    },
    {
      "cell_type": "markdown",
      "metadata": {
        "id": "8wFVd7Sk7irH"
      },
      "source": [
        "### Row-level apply\n",
        "The foll row is passed as dictionary to the explicit or implicit function when `apply` is used for the full `DataFrame` and the option `axis=1` is used at the end"
      ]
    },
    {
      "cell_type": "code",
      "metadata": {
        "colab": {
          "base_uri": "https://localhost:8080/"
        },
        "id": "z6GLMMuEEUwB",
        "outputId": "cf44b43b-0a70-47e7-b486-07a9ec670751"
      },
      "source": [
        "df.apply(lambda row: row['even']+row['odd'],axis='columns')"
      ],
      "execution_count": 273,
      "outputs": [
        {
          "output_type": "execute_result",
          "data": {
            "text/plain": [
              "0     1\n",
              "1     5\n",
              "2    -1\n",
              "3     1\n",
              "4    17\n",
              "dtype: int64"
            ]
          },
          "metadata": {
            "tags": []
          },
          "execution_count": 273
        }
      ]
    },
    {
      "cell_type": "markdown",
      "metadata": {
        "id": "dYmaC7hj6y15"
      },
      "source": [
        "## Chain tools for data analysis\n",
        "There are several chain tools for data analyis like the\n",
        "* Spreadsheet based one, like Excel \n",
        "* Relational databases with the use of more advanced SQL tabular data with some data base software like MySQL\n",
        "* Non-relational databases with Pandas, R, or MongoDB\n",
        "\n",
        "Here we illustrate an example of use fo a non-relational database with Pandas"
      ]
    },
    {
      "cell_type": "markdown",
      "metadata": {
        "id": "z2NsLagWs-Jg"
      },
      "source": [
        "## Non-relational databases"
      ]
    },
    {
      "cell_type": "markdown",
      "metadata": {
        "id": "2NdcwWa5tuzv"
      },
      "source": [
        "We have shown that the simple two dimensional spreadsheets where each cell values is a simple type like string, integer, or float, can be represented as a dictionary of lists values or a list of dictionary column-value assignment. \n",
        "\n",
        "We can go further and allow to store in the value itself a more general data structure, like nested lists and dictionaries. This allows advanced data-analysis when the `apply` methos is used to operate inside the nested lists or dictionaries.\n",
        "\n",
        "See for example:\n"
      ]
    },
    {
      "cell_type": "markdown",
      "metadata": {
        "id": "wB4hBVkhoPwR"
      },
      "source": [
        "##  World wide web\n",
        "There are really three kinds of web\n",
        "* The normal web, \n",
        "* The deep web,\n",
        "* _The machine web_. The web for machine readable responses. It is served in `JSON` or `XML`  formats, which preserve programming objects."
      ]
    },
    {
      "cell_type": "markdown",
      "metadata": {
        "id": "h2IQ3AOQ6y16"
      },
      "source": [
        "### Normal web"
      ]
    },
    {
      "cell_type": "code",
      "metadata": {
        "id": "1lIWHdJC6y16",
        "colab": {
          "base_uri": "https://localhost:8080/",
          "height": 0
        },
        "outputId": "013cd51d-e7e4-477a-c48f-e6c69982176e"
      },
      "source": [
        "pd.read_html('https://en.wikipedia.org/wiki/COVID-19_pandemic_by_country_and_territory')[1][:3]"
      ],
      "execution_count": 274,
      "outputs": [
        {
          "output_type": "execute_result",
          "data": {
            "text/html": [
              "<div>\n",
              "<style scoped>\n",
              "    .dataframe tbody tr th:only-of-type {\n",
              "        vertical-align: middle;\n",
              "    }\n",
              "\n",
              "    .dataframe tbody tr th {\n",
              "        vertical-align: top;\n",
              "    }\n",
              "\n",
              "    .dataframe thead th {\n",
              "        text-align: right;\n",
              "    }\n",
              "</style>\n",
              "<table border=\"1\" class=\"dataframe\">\n",
              "  <thead>\n",
              "    <tr style=\"text-align: right;\">\n",
              "      <th></th>\n",
              "      <th>0</th>\n",
              "      <th>1</th>\n",
              "    </tr>\n",
              "  </thead>\n",
              "  <tbody>\n",
              "    <tr>\n",
              "      <th>0</th>\n",
              "      <td>Confirmed total cases by country as of 20 Mar 2021.[6] 10,000,000+ 1,000,000–9,999,999 100,000–999,999 10,000–99,999 1,000–9,999 100–999 1–99 0</td>\n",
              "      <td>Confirmed cases per 100,000 by country or sub-national unit as of 14 March 2021.[7] &gt;10,000 3,000–10,000 1,000–3,000 300–1,000 100–300 30–100 0–30 None or no data</td>\n",
              "    </tr>\n",
              "  </tbody>\n",
              "</table>\n",
              "</div>"
            ],
            "text/plain": [
              "                                                                                                                                                 0                                                                                                                                                                   1\n",
              "0  Confirmed total cases by country as of 20 Mar 2021.[6] 10,000,000+ 1,000,000–9,999,999 100,000–999,999 10,000–99,999 1,000–9,999 100–999 1–99 0  Confirmed cases per 100,000 by country or sub-national unit as of 14 March 2021.[7] >10,000 3,000–10,000 1,000–3,000 300–1,000 100–300 30–100 0–30 None or no data"
            ]
          },
          "metadata": {
            "tags": []
          },
          "execution_count": 274
        }
      ]
    },
    {
      "cell_type": "markdown",
      "metadata": {
        "id": "W09PjzNS6y16"
      },
      "source": [
        "### Machine web\n",
        "For example, consider the following normal web page:\n",
        "\n",
        "http://old.inspirehep.net/search?p=doi:10.1103/PhysRevLett.122.132001\n",
        "\n",
        "about a Scientific paper with people from the University of Antioquia. A _machine web_ version can be easily obtained in JSON just by attaching the extra parameter `&of=recjson`, and direcly loaded from Pandas, which works like a _browser for the third web_:"
      ]
    },
    {
      "cell_type": "code",
      "metadata": {
        "id": "jIs2l09R6y16"
      },
      "source": [
        "import pandas as pd"
      ],
      "execution_count": 287,
      "outputs": []
    },
    {
      "cell_type": "code",
      "metadata": {
        "id": "-cg2w7wsoo7H"
      },
      "source": [
        "df=pd.read_json('http://old.inspirehep.net/search?p=doi:10.1103/PhysRevLett.122.132001&of=recjson')"
      ],
      "execution_count": 288,
      "outputs": []
    },
    {
      "cell_type": "code",
      "metadata": {
        "colab": {
          "base_uri": "https://localhost:8080/",
          "height": 321
        },
        "id": "MPiuuciYo90S",
        "outputId": "e78490f2-7427-4ce3-ee62-38d63251767e"
      },
      "source": [
        "df"
      ],
      "execution_count": 289,
      "outputs": [
        {
          "output_type": "execute_result",
          "data": {
            "text/html": [
              "<div>\n",
              "<style scoped>\n",
              "    .dataframe tbody tr th:only-of-type {\n",
              "        vertical-align: middle;\n",
              "    }\n",
              "\n",
              "    .dataframe tbody tr th {\n",
              "        vertical-align: top;\n",
              "    }\n",
              "\n",
              "    .dataframe thead th {\n",
              "        text-align: right;\n",
              "    }\n",
              "</style>\n",
              "<table border=\"1\" class=\"dataframe\">\n",
              "  <thead>\n",
              "    <tr style=\"text-align: right;\">\n",
              "      <th></th>\n",
              "      <th>comment</th>\n",
              "      <th>reference</th>\n",
              "      <th>abstract</th>\n",
              "      <th>creation_date</th>\n",
              "      <th>imprint</th>\n",
              "      <th>primary_report_number</th>\n",
              "      <th>keywords</th>\n",
              "      <th>publication_info</th>\n",
              "      <th>coyright</th>\n",
              "      <th>subject</th>\n",
              "      <th>cataloguer_info</th>\n",
              "      <th>physical_description</th>\n",
              "      <th>number_of_citations</th>\n",
              "      <th>other_report_number</th>\n",
              "      <th>title</th>\n",
              "      <th>persistent_identifiers_keys</th>\n",
              "      <th>corporate_name</th>\n",
              "      <th>files</th>\n",
              "      <th>system_control_number</th>\n",
              "      <th>filenames</th>\n",
              "      <th>source_of_acquisition</th>\n",
              "      <th>number_of_reviews</th>\n",
              "      <th>version_id</th>\n",
              "      <th>FIXME_OAI</th>\n",
              "      <th>authors</th>\n",
              "      <th>doi</th>\n",
              "      <th>number_of_authors</th>\n",
              "      <th>license</th>\n",
              "      <th>accelerator_experiment</th>\n",
              "      <th>number_of_comments</th>\n",
              "      <th>url</th>\n",
              "      <th>recid</th>\n",
              "      <th>collection</th>\n",
              "      <th>thesaurus_terms</th>\n",
              "      <th>filetypes</th>\n",
              "      <th>prepublication</th>\n",
              "    </tr>\n",
              "  </thead>\n",
              "  <tbody>\n",
              "    <tr>\n",
              "      <th>0</th>\n",
              "      <td>Submitted to Phys. Rev. Lett. All figures and tables can be found at http://cms-results.web.cern.ch/cms-results/public-results/publications/BPH-18-007 (CMS Public Pages). This version corrects the...</td>\n",
              "      <td>[{'title': 'Phys.Rev.Lett.,81,2432', 'year': '1998', 'doi': 'doi:10.1103/PhysRevLett.81.2432', 'order_number': '1', 'authors': 'F. Abe'}, {'title': 'Phys.Rev.,D49,5845', 'year': '1994', 'doi': 'do...</td>\n",
              "      <td>[{'number': 'arXiv', 'summary': 'Signals consistent with the B$^+_\\mathrm{c}$(2S) and B$^{*+}_\\mathrm{c}$(2S) states are observed in proton-proton collisions at $\\sqrt{s} =$ 13 TeV, in an event sa...</td>\n",
              "      <td>2019-02-05T04:03:36</td>\n",
              "      <td>{'date': '2019-04-03'}</td>\n",
              "      <td>[arXiv:1902.00571, None, CMS-BPH-18-007, CERN-EP-2019-014]</td>\n",
              "      <td>[{'institute': 'publisher', 'term': 'Elementary Particles and Fields'}]</td>\n",
              "      <td>{'volume': '122', 'pagination': '132001', 'title': 'Phys.Rev.Lett.', 'year': '2019'}</td>\n",
              "      <td>{'date': '2019', 'holder_contact': 'publication', 'holder': 'CERN'}</td>\n",
              "      <td>[{'source': 'INSPIRE', 'term': 'Experiment-HEP'}, {'source': 'arXiv', 'term': 'hep-ex'}, {'source': 'INSPIRE', 'term': 'Experiment-HEP'}]</td>\n",
              "      <td>{'creation_date': '2019-02-05'}</td>\n",
              "      <td>{'pagination': '17'}</td>\n",
              "      <td>58</td>\n",
              "      <td>{'source_number': 'PDG', 'clasification_number': 'M217M'}</td>\n",
              "      <td>{'title': 'Observation of Two Excited B$^+_\\mathrm{c}$ States and Measurement of the B$^+_\\mathrm{c}$(2S) Mass in pp Collisions at $\\sqrt{s} =$ 13 TeV'}</td>\n",
              "      <td>[recid, system_control_number, doi]</td>\n",
              "      <td>[{'collaboration': 'CMS'}]</td>\n",
              "      <td>[{'comment': None, 'status': '', 'magic': ['XML 1.0 document, UTF-8 Unicode text, with very long lines, with CRLF line terminators', 'application/xml', 'utf-8'], 'description': None, 'url': 'http:...</td>\n",
              "      <td>[{'institute': 'INSPIRETeX', 'value': 'Sirunyan:2019osb'}, {'institute': 'arXiv', 'value': 'oai:arXiv.org:1902.00571'}, {'institute': 'CDS', 'value': '2655521'}, {'institute': 'HAL', 'value': 'hal...</td>\n",
              "      <td>[fulltext, fulltext.xml, 10, 10.1103_PhysRevLett.122.132001.pdf, 10.1103_PhysRevLett.122.132001, 10.1103_PhysRevLett, 10.1103_PhysRevLett.122, 1902, 1902.00571, 1902.00571.pdf, scoap3-fulltext, sc...</td>\n",
              "      <td>{'source_of_acquisition': 'arXiv', 'date': '2019-02-13T03:35:35.632671', 'accession_number': '1447042'}</td>\n",
              "      <td>0</td>\n",
              "      <td>2021-02-26T15:19:21</td>\n",
              "      <td>{'set': ['CERN', 'INSPIRE:HEP', 'CERN:arXiv', 'CDS'], 'id': 'oai:inspirehep.net:1718338'}</td>\n",
              "      <td>[{'INSPIRE_number': 'INSPIRE-00312131', 'affiliation': 'Yerevan Phys. Inst.', 'first_name': 'Albert M', 'last_name': 'Sirunyan', 'full_name': 'Sirunyan, Albert M'}, {'INSPIRE_number': 'INSPIRE-001...</td>\n",
              "      <td>10.1103/PhysRevLett.122.132001</td>\n",
              "      <td>2279</td>\n",
              "      <td>[{'url': 'http://creativecommons.org/licenses/by/4.0/', 'material': 'preprint', 'license': 'CC BY 4.0'}, {'imposing': 'APS', 'url': 'https://creativecommons.org/licenses/by/4.0/', 'license': 'Crea...</td>\n",
              "      <td>{'experiment': 'CERN-LHC-CMS'}</td>\n",
              "      <td>0</td>\n",
              "      <td>[{'url': 'http://inspirehep.net/record/1718338/files/Figure_001.png', 'description': '00002 Transitions between the lightest \\BC states, with solid and dashed lines indicating the emission of phot...</td>\n",
              "      <td>1718338</td>\n",
              "      <td>[{'primary': 'HEP'}, {'primary': 'Citeable'}, {'primary': 'CORE'}, {'primary': 'Fermilab'}, {'primary': 'Published'}]</td>\n",
              "      <td>[{'term': 'p p: scattering'}, {'term': 'p p: colliding beams'}, {'term': 'B/c+: hadroproduction'}, {'term': 'B/c: excited state'}, {'term': 'B/c+: hadronic decay'}, {'term': 'excited state: hadron...</td>\n",
              "      <td>[xml, pdf, pdf, pdf, png, png, png]</td>\n",
              "      <td>{'date': '2019-02-01'}</td>\n",
              "    </tr>\n",
              "  </tbody>\n",
              "</table>\n",
              "</div>"
            ],
            "text/plain": [
              "                                                                                                                                                                                                   comment  ...          prepublication\n",
              "0  Submitted to Phys. Rev. Lett. All figures and tables can be found at http://cms-results.web.cern.ch/cms-results/public-results/publications/BPH-18-007 (CMS Public Pages). This version corrects the...  ...  {'date': '2019-02-01'}\n",
              "\n",
              "[1 rows x 36 columns]"
            ]
          },
          "metadata": {
            "tags": []
          },
          "execution_count": 289
        }
      ]
    },
    {
      "cell_type": "markdown",
      "metadata": {
        "id": "SyVgDj1ApPtP"
      },
      "source": [
        "We can see that the column `authors` is quite nested: Is a list of dictionaries with the full information for each one of the authors of the article."
      ]
    },
    {
      "cell_type": "code",
      "metadata": {
        "id": "_wwHUr9g6y17",
        "colab": {
          "base_uri": "https://localhost:8080/"
        },
        "outputId": "910f5cbb-73a7-4eab-af5b-022aae0d5fc3"
      },
      "source": [
        "df.columns"
      ],
      "execution_count": 290,
      "outputs": [
        {
          "output_type": "execute_result",
          "data": {
            "text/plain": [
              "Index(['comment', 'reference', 'abstract', 'creation_date', 'imprint',\n",
              "       'primary_report_number', 'keywords', 'publication_info', 'coyright',\n",
              "       'subject', 'cataloguer_info', 'physical_description',\n",
              "       'number_of_citations', 'other_report_number', 'title',\n",
              "       'persistent_identifiers_keys', 'corporate_name', 'files',\n",
              "       'system_control_number', 'filenames', 'source_of_acquisition',\n",
              "       'number_of_reviews', 'version_id', 'FIXME_OAI', 'authors', 'doi',\n",
              "       'number_of_authors', 'license', 'accelerator_experiment',\n",
              "       'number_of_comments', 'url', 'recid', 'collection', 'thesaurus_terms',\n",
              "       'filetypes', 'prepublication'],\n",
              "      dtype='object')"
            ]
          },
          "metadata": {
            "tags": []
          },
          "execution_count": 290
        }
      ]
    },
    {
      "cell_type": "code",
      "metadata": {
        "id": "J7GWOv4-6y17",
        "colab": {
          "base_uri": "https://localhost:8080/"
        },
        "outputId": "1fac5e17-8478-4f7c-9e08-d187f59a16f7"
      },
      "source": [
        "df.number_of_authors"
      ],
      "execution_count": 291,
      "outputs": [
        {
          "output_type": "execute_result",
          "data": {
            "text/plain": [
              "0    2279\n",
              "Name: number_of_authors, dtype: int64"
            ]
          },
          "metadata": {
            "tags": []
          },
          "execution_count": 291
        }
      ]
    },
    {
      "cell_type": "code",
      "metadata": {
        "colab": {
          "base_uri": "https://localhost:8080/"
        },
        "id": "BybpMovNsB7N",
        "outputId": "f2285900-4dab-4aaa-e307-36b9930a90ff"
      },
      "source": [
        "df.authors"
      ],
      "execution_count": 292,
      "outputs": [
        {
          "output_type": "execute_result",
          "data": {
            "text/plain": [
              "0    [{'INSPIRE_number': 'INSPIRE-00312131', 'affiliation': 'Yerevan Phys. Inst.', 'first_name': 'Albert M', 'last_name': 'Sirunyan', 'full_name': 'Sirunyan, Albert M'}, {'INSPIRE_number': 'INSPIRE-001...\n",
              "Name: authors, dtype: object"
            ]
          },
          "metadata": {
            "tags": []
          },
          "execution_count": 292
        }
      ]
    },
    {
      "cell_type": "markdown",
      "metadata": {
        "id": "8zr5Nsxwsikt"
      },
      "source": [
        "__Activity__: Check that the lenght of the auhors list coincides with the `number_of_authors` \n",
        "<!-- df.authors.apply(len),df.number_of_authors.values -->"
      ]
    },
    {
      "cell_type": "code",
      "metadata": {
        "id": "Fxeom1086y18"
      },
      "source": [
        ""
      ],
      "execution_count": 292,
      "outputs": []
    },
    {
      "cell_type": "code",
      "metadata": {
        "id": "I1IvH1K-s46d",
        "colab": {
          "base_uri": "https://localhost:8080/"
        },
        "outputId": "6734fdc8-b968-48b9-ae28-5a3ad616dbe0"
      },
      "source": [
        "df.authors[0][0]"
      ],
      "execution_count": 293,
      "outputs": [
        {
          "output_type": "execute_result",
          "data": {
            "text/plain": [
              "{'INSPIRE_number': 'INSPIRE-00312131',\n",
              " 'affiliation': 'Yerevan Phys. Inst.',\n",
              " 'first_name': 'Albert M',\n",
              " 'full_name': 'Sirunyan, Albert M',\n",
              " 'last_name': 'Sirunyan'}"
            ]
          },
          "metadata": {
            "tags": []
          },
          "execution_count": 293
        }
      ]
    },
    {
      "cell_type": "code",
      "metadata": {
        "id": "U8iwN3x3tKlN"
      },
      "source": [
        ""
      ],
      "execution_count": 293,
      "outputs": []
    },
    {
      "cell_type": "markdown",
      "metadata": {
        "id": "i22ywhohsAVo"
      },
      "source": [
        " We can use all the previous methods to extract the authors from `'Antioquia U.'`:\n",
        " \n",
        " Note: For a dictionary, `d` is safer to use `d.get('key')` instead of just `d['key']` to obtain some `key`, because not error is generated if the requested `key` does not exists at all "
      ]
    },
    {
      "cell_type": "markdown",
      "metadata": {
        "id": "D8ctffkw6y19"
      },
      "source": [
        "We also need use comprenhension list like in"
      ]
    },
    {
      "cell_type": "code",
      "metadata": {
        "id": "AD1BP0TD6y19"
      },
      "source": [
        "l=[1,2,3]"
      ],
      "execution_count": 294,
      "outputs": []
    },
    {
      "cell_type": "code",
      "metadata": {
        "id": "MiujXEcG6y19",
        "colab": {
          "base_uri": "https://localhost:8080/"
        },
        "outputId": "c37bf1ca-d299-4598-8ce2-110dce575312"
      },
      "source": [
        "[x if x>1 else 3 for x in l ]"
      ],
      "execution_count": 295,
      "outputs": [
        {
          "output_type": "execute_result",
          "data": {
            "text/plain": [
              "[3, 2, 3]"
            ]
          },
          "metadata": {
            "tags": []
          },
          "execution_count": 295
        }
      ]
    },
    {
      "cell_type": "markdown",
      "metadata": {
        "id": "DryTmgWE6y19"
      },
      "source": [
        "Then the on-fly apply function to extract the authors with affiliation 'Antioquia U.' is"
      ]
    },
    {
      "cell_type": "code",
      "metadata": {
        "colab": {
          "base_uri": "https://localhost:8080/"
        },
        "id": "1cx7xy2rpOzg",
        "outputId": "23656f02-2917-4679-b2ee-813b557bcffb"
      },
      "source": [
        "df.authors.apply(lambda l:  #implicit function\n",
        "                           [ d.get('full_name') #safer way to obtain a `key` value\n",
        "                             for d in l   #comprehension list \n",
        "                              if isinstance(d,dict) and d.get('affiliation')=='Antioquia U.' #condition\n",
        "                           ] \n",
        "                             if isinstance(l,list) else None #  Be sure that cell have the proper format\n",
        "                 )"
      ],
      "execution_count": 296,
      "outputs": [
        {
          "output_type": "execute_result",
          "data": {
            "text/plain": [
              "0    [Mejia Guisao, Jhovanny, Ruiz Alvarez, José David]\n",
              "Name: authors, dtype: object"
            ]
          },
          "metadata": {
            "tags": []
          },
          "execution_count": 296
        }
      ]
    },
    {
      "cell_type": "markdown",
      "metadata": {
        "id": "-YpfjPAdu19J"
      },
      "source": [
        "A simpler version is possible,  but is more prompted to error when used through multiple column entries:"
      ]
    },
    {
      "cell_type": "code",
      "metadata": {
        "colab": {
          "base_uri": "https://localhost:8080/"
        },
        "id": "oM80j8zdvAdq",
        "outputId": "bdcb354b-894c-4444-ea3e-70944ce717ff"
      },
      "source": [
        "df.authors.apply(lambda l: [ d['full_name'] for d in l   \n",
        "                              if d['affiliation']=='Antioquia U.'\n",
        "                           ] )"
      ],
      "execution_count": 297,
      "outputs": [
        {
          "output_type": "execute_result",
          "data": {
            "text/plain": [
              "0    [Mejia Guisao, Jhovanny, Ruiz Alvarez, José David]\n",
              "Name: authors, dtype: object"
            ]
          },
          "metadata": {
            "tags": []
          },
          "execution_count": 297
        }
      ]
    },
    {
      "cell_type": "markdown",
      "metadata": {
        "id": "1Z96Ju2gwQO0"
      },
      "source": [
        "For further details see: https://github.com/restrepo/inspire/blob/master/gfif.ipynb\n"
      ]
    },
    {
      "cell_type": "markdown",
      "metadata": {
        "id": "xk-q2GKA6y1-"
      },
      "source": [
        "__Activity__: Repeat the same activity but using directly the JSON file"
      ]
    },
    {
      "cell_type": "markdown",
      "metadata": {
        "id": "wXv_DXpR6y1-"
      },
      "source": [
        "__NOTE__: The same but with the new API"
      ]
    },
    {
      "cell_type": "code",
      "metadata": {
        "id": "lk1a_aQ36y1-",
        "colab": {
          "base_uri": "https://localhost:8080/"
        },
        "outputId": "faf4aa2b-01b1-47d6-a66d-d51421aea6df"
      },
      "source": [
        "#See: https://github.com/inspirehep/rest-api-doc/issues/4#issuecomment-645218074\n",
        "import requests                                                                                                                                                      \n",
        "response = requests.get('https://inspirehep.net/api/doi/10.1103/PhysRevLett.122.132001')                                                                              \n",
        "authors = response.json()['metadata']['authors']                                                                                                                     \n",
        "names = [author.get('full_name')\n",
        "              for author in authors \n",
        "               if any(aff.get('value') == 'Antioquia U.' for aff in author.get('affiliations'))]\n",
        "names"
      ],
      "execution_count": 298,
      "outputs": [
        {
          "output_type": "execute_result",
          "data": {
            "text/plain": [
              "['Mejia Guisao, Jhovanny', 'Ruiz Alvarez, José David']"
            ]
          },
          "metadata": {
            "tags": []
          },
          "execution_count": 298
        }
      ]
    },
    {
      "cell_type": "markdown",
      "metadata": {
        "id": "D7SNm2ABxE22"
      },
      "source": [
        "##  ACTIVITIES\n",
        "See:\n",
        "* https://github.com/ajcr/100-pandas-puzzles\n",
        "* https://github.com/guipsamora/pandas_exercises"
      ]
    },
    {
      "cell_type": "markdown",
      "metadata": {
        "id": "fWjYdB7LxE23"
      },
      "source": [
        "## Final remarks\n",
        "With basic scripting and Pandas we already have a solid environment to analyse data. We introduce the other libraries motivated with the extending the capabilities of Pandas"
      ]
    },
    {
      "cell_type": "code",
      "metadata": {
        "id": "erRi7J01xE24"
      },
      "source": [
        ""
      ],
      "execution_count": 286,
      "outputs": []
    }
  ]
}