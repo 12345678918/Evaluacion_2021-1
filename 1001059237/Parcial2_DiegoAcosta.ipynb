{
  "nbformat": 4,
  "nbformat_minor": 0,
  "metadata": {
    "kernelspec": {
      "display_name": "Python 3 (ipykernel)",
      "language": "python",
      "name": "python3"
    },
    "language_info": {
      "codemirror_mode": {
        "name": "ipython",
        "version": 3
      },
      "file_extension": ".py",
      "mimetype": "text/x-python",
      "name": "python",
      "nbconvert_exporter": "python",
      "pygments_lexer": "ipython3",
      "version": "3.7.3"
    },
    "colab": {
      "name": "Parcial2_DiegoAcosta.ipynb",
      "provenance": [],
      "collapsed_sections": []
    }
  },
  "cells": [
    {
      "cell_type": "markdown",
      "metadata": {
        "id": "MUzl1lqxlZg8"
      },
      "source": [
        "#A) Los siguientes datos fueron extraidos de un [perfil real de Instragram](https://www.instagram.com/paulacano24/):\n",
        "\n",
        "https://raw.githubusercontent.com/restrepo/ComputationalMethods/master/data/Followers.json\n",
        "\n",
        "Interprete los datos como un problema de caida libre y a partir del ajuste (fit) a la correspondiente ecuación de movimiento, determine\n",
        "1. La velocidad inicial de incremento de seguidores en `followers/hour`\n",
        "1. La aceleración constante en `followers/hour**2`\n",
        "1. El número máximo de seguidores que alcanzaría el perfil\n",
        "1. La fecha en la que se alcanzaría dicho máximo\n",
        "\n"
      ]
    },
    {
      "cell_type": "code",
      "metadata": {
        "id": "nEAgbTWXmLd0"
      },
      "source": [
        "import pandas as pd\n",
        "import numpy as np\n",
        "from scipy.integrate import quad\n",
        "import matplotlib.pyplot as plt\n"
      ],
      "execution_count": 239,
      "outputs": []
    },
    {
      "cell_type": "code",
      "metadata": {
        "colab": {
          "base_uri": "https://localhost:8080/",
          "height": 424
        },
        "id": "LrdWOBR-mWPi",
        "outputId": "446863cb-453d-48b2-f24a-798dee6ffb87"
      },
      "source": [
        "dfo = pd.read_json(\"https://raw.githubusercontent.com/restrepo/ComputationalMethods/master/data/Followers.json\")\n",
        "dfo"
      ],
      "execution_count": 240,
      "outputs": [
        {
          "output_type": "execute_result",
          "data": {
            "text/html": [
              "<div>\n",
              "<style scoped>\n",
              "    .dataframe tbody tr th:only-of-type {\n",
              "        vertical-align: middle;\n",
              "    }\n",
              "\n",
              "    .dataframe tbody tr th {\n",
              "        vertical-align: top;\n",
              "    }\n",
              "\n",
              "    .dataframe thead th {\n",
              "        text-align: right;\n",
              "    }\n",
              "</style>\n",
              "<table border=\"1\" class=\"dataframe\">\n",
              "  <thead>\n",
              "    <tr style=\"text-align: right;\">\n",
              "      <th></th>\n",
              "      <th>followers</th>\n",
              "      <th>date_time</th>\n",
              "      <th>hours</th>\n",
              "    </tr>\n",
              "  </thead>\n",
              "  <tbody>\n",
              "    <tr>\n",
              "      <th>0</th>\n",
              "      <td>42696</td>\n",
              "      <td>2021-08-04 22:06:53.668</td>\n",
              "      <td>0.000000</td>\n",
              "    </tr>\n",
              "    <tr>\n",
              "      <th>1</th>\n",
              "      <td>42706</td>\n",
              "      <td>2021-08-04 23:06:56.517</td>\n",
              "      <td>1.000791</td>\n",
              "    </tr>\n",
              "    <tr>\n",
              "      <th>2</th>\n",
              "      <td>42716</td>\n",
              "      <td>2021-08-05 00:06:59.505</td>\n",
              "      <td>2.001621</td>\n",
              "    </tr>\n",
              "    <tr>\n",
              "      <th>3</th>\n",
              "      <td>42734</td>\n",
              "      <td>2021-08-05 01:07:02.174</td>\n",
              "      <td>3.002363</td>\n",
              "    </tr>\n",
              "    <tr>\n",
              "      <th>4</th>\n",
              "      <td>42749</td>\n",
              "      <td>2021-08-05 02:07:04.854</td>\n",
              "      <td>4.003107</td>\n",
              "    </tr>\n",
              "    <tr>\n",
              "      <th>...</th>\n",
              "      <td>...</td>\n",
              "      <td>...</td>\n",
              "      <td>...</td>\n",
              "    </tr>\n",
              "    <tr>\n",
              "      <th>615</th>\n",
              "      <td>47452</td>\n",
              "      <td>2021-09-02 12:29:21.834</td>\n",
              "      <td>686.374491</td>\n",
              "    </tr>\n",
              "    <tr>\n",
              "      <th>616</th>\n",
              "      <td>47486</td>\n",
              "      <td>2021-09-02 19:59:32.801</td>\n",
              "      <td>693.877537</td>\n",
              "    </tr>\n",
              "    <tr>\n",
              "      <th>617</th>\n",
              "      <td>47491</td>\n",
              "      <td>2021-09-02 20:59:50.542</td>\n",
              "      <td>694.882465</td>\n",
              "    </tr>\n",
              "    <tr>\n",
              "      <th>618</th>\n",
              "      <td>47493</td>\n",
              "      <td>2021-09-02 21:59:59.345</td>\n",
              "      <td>695.884910</td>\n",
              "    </tr>\n",
              "    <tr>\n",
              "      <th>619</th>\n",
              "      <td>47498</td>\n",
              "      <td>2021-09-02 23:00:11.350</td>\n",
              "      <td>696.888245</td>\n",
              "    </tr>\n",
              "  </tbody>\n",
              "</table>\n",
              "<p>620 rows × 3 columns</p>\n",
              "</div>"
            ],
            "text/plain": [
              "     followers               date_time       hours\n",
              "0        42696 2021-08-04 22:06:53.668    0.000000\n",
              "1        42706 2021-08-04 23:06:56.517    1.000791\n",
              "2        42716 2021-08-05 00:06:59.505    2.001621\n",
              "3        42734 2021-08-05 01:07:02.174    3.002363\n",
              "4        42749 2021-08-05 02:07:04.854    4.003107\n",
              "..         ...                     ...         ...\n",
              "615      47452 2021-09-02 12:29:21.834  686.374491\n",
              "616      47486 2021-09-02 19:59:32.801  693.877537\n",
              "617      47491 2021-09-02 20:59:50.542  694.882465\n",
              "618      47493 2021-09-02 21:59:59.345  695.884910\n",
              "619      47498 2021-09-02 23:00:11.350  696.888245\n",
              "\n",
              "[620 rows x 3 columns]"
            ]
          },
          "metadata": {},
          "execution_count": 240
        }
      ]
    },
    {
      "cell_type": "code",
      "metadata": {
        "id": "33skgJOYm_-S"
      },
      "source": [
        "polyfit = np.polyfit(dfo[\"hours\"],dfo[\"followers\"],deg = 2) # Coeficientes del\n",
        "#Polinomio de interpolacion\n",
        "poly = np.poly1d(polyfit) # Polinomio de interpolacion para los valores"
      ],
      "execution_count": 241,
      "outputs": []
    },
    {
      "cell_type": "code",
      "metadata": {
        "id": "8If-FhnrnUiO",
        "colab": {
          "base_uri": "https://localhost:8080/",
          "height": 538
        },
        "outputId": "48ac6bfb-770a-41f7-99a1-531d0dd20e3d"
      },
      "source": [
        "plt.figure(figsize= (8,8))\n",
        "plt.plot(dfo[\"hours\"],poly(dfo[\"hours\"]),label=\"Interpolacion\")\n",
        "plt.plot(dfo[\"hours\"],dfo[\"followers\"],\"ro\", markersize=1,label=\"Valores reales\")\n",
        "plt.xlabel(\"Horas (h)\",fontsize = 15)\n",
        "plt.ylabel(\"Seguidores\", fontsize =15)\n",
        "plt.title(\"Seguidores vs Tiempo\", fontsize = 15)\n",
        "plt.grid()\n",
        "plt.legend()"
      ],
      "execution_count": 242,
      "outputs": [
        {
          "output_type": "execute_result",
          "data": {
            "text/plain": [
              "<matplotlib.legend.Legend at 0x7fa70c0fae10>"
            ]
          },
          "metadata": {},
          "execution_count": 242
        },
        {
          "output_type": "display_data",
          "data": {
            "image/png": "[encoded data removed]",
            "text/plain": [
              "<Figure size 576x576 with 1 Axes>"
            ]
          },
          "metadata": {
            "needs_background": "light"
          }
        }
      ]
    },
    {
      "cell_type": "markdown",
      "metadata": {
        "id": "ofUHZIdypsqo"
      },
      "source": [
        "### Como la ecuacion de un movimiento parabolico es\n",
        "\\begin{equation}\n",
        "F(t) = F_0+v_0*t+\\frac{1}{2}at^2 \\\\\n",
        "\\end{equation}\n",
        "La velocidad inicial es\n",
        "\\begin{equation}\n",
        "v_0 = 8.552 h\n",
        "\\end{equation}\n",
        "Y la aceleracion es \n",
        "\\begin{equation}\n",
        "\\frac{a}{2} = -0.002438\\quad a = -4.876*10^{-3}h^2\n",
        "\\end{equation}"
      ]
    },
    {
      "cell_type": "code",
      "metadata": {
        "id": "LM76z2hXqS80",
        "colab": {
          "base_uri": "https://localhost:8080/"
        },
        "outputId": "bc13ca27-bcd1-4839-b1b0-5a60c4728629"
      },
      "source": [
        "times = dfo[\"date_time\"].values.astype(float) # Convertir datos tipo date_time a float\n",
        "# Los coeficientes del polinomio de interpolacion\n",
        "poldate = np.polyfit(times,dfo[\"followers\"], deg = 2) \n",
        "polydate = np.poly1d(poldate) # El polinomio\n",
        "# Se saca la derivada y se buscan las raices para hallar el valor maximo\n",
        "deriv = np.poly1d(polydate.deriv())\n",
        "maximo = deriv.roots\n",
        "print(\"El valor maximo es {}\".format(polydate(maximo)[0]))\n",
        "# Se pasa la fecha en formato float a tipo date_time\n",
        "fecha = pd.to_datetime(maximo[0])\n",
        "print(fecha)"
      ],
      "execution_count": 243,
      "outputs": [
        {
          "output_type": "stream",
          "name": "stdout",
          "text": [
            "El valor maximo es 50262.136728167534\n",
            "2021-10-17 00:18:28.965938432\n"
          ]
        }
      ]
    },
    {
      "cell_type": "markdown",
      "metadata": {
        "id": "PlPRsdmTsjzd"
      },
      "source": [
        "### El valor maximo que alcanzaria seria $50262,1367$\n",
        "\n",
        "### El momento en el que alcanza el maximo de seguidores\n",
        "\n",
        "###$2021-10-17 \\quad 00:18:28.9659$"
      ]
    },
    {
      "cell_type": "markdown",
      "metadata": {
        "id": "T-5llutQmO5B"
      },
      "source": [
        "###B) El período de  un pendulo de longitud $l$ oscilando a ángulos grandes  $\\alpha$, está dado por\n",
        "$$\n",
        "T=T_{0} \\frac{\\sqrt{2}}{\\pi} \\int_{0}^{\\alpha} \\frac{d \\theta}{(\\cos \\theta-\\cos \\alpha)^{\\frac{1}{2}}}\n",
        "$$\n",
        "donde\n",
        "$$\n",
        "T_{0}=2 \\pi \\sqrt{\\frac{l}{g}}\n",
        "$$\n",
        "es el período del mismo péndulo a pequeñas amplitudes. Culquier intento de evaluación numérico de esa integral debería fallar. Sin embargo, si hacemos el cambio de variable\n",
        "$$\n",
        "\\sin \\frac{\\theta}{2}=\\sin \\frac{\\alpha}{2} \\sin \\phi\n",
        "$$\n",
        "obtenemos\n",
        "$$\n",
        "T=\\frac{2 T_{0}}{\\pi} \\int_{0}^{\\frac{\\pi}{2}} \\frac{d \\phi}{\\left(1-\\sin ^{2} \\frac{\\alpha}{2} \\sin ^{2} \\phi\\right)^{\\frac{1}{2}}}\n",
        "$$\n",
        "que corresponde a una integral bien comportada. \n",
        "1. Escriba un programa que use la anterio integral para calcular el cociente  $T/T_0$ para ángulos enteros (en grados) $0^\\circ \\le\\alpha \\le 90^\\circ$.  \n",
        "1. Genere un DataFrame de pandas que contenga como columnas: la amplitud en grados, la amplitud en radianes, y el cociente $T/T_0$, \n",
        "1. Haga un gráfico de $T/T_0$ como función de $\\alpha$ (en grados). \n",
        "1. Explain the result when $\\alpha = 0.$ "
      ]
    },
    {
      "cell_type": "code",
      "metadata": {
        "id": "Htu1jgbRuSLs"
      },
      "source": [
        "def f(phi, alpha): # Funcion a integrar\n",
        "  return 1/np.sqrt(1-(np.sin(alpha/2)*np.sin(phi))**2)\n",
        "# Array con los angulos de alpha\n",
        "angles = np.linspace(0,90,91).astype(int)\n",
        "# Array con los valores de la integral para cierto alpha entre 0° y 90°\n",
        "integral = np.array([quad(f,0,np.pi/2,args=(np.deg2rad(a)))[0] for a in angles])\n",
        "# Valor del periodo /T0\n",
        "T_T0 = (2/np.pi)*integral\n",
        "data = {\"alpha\":angles,\"alpha(rad)\":np.deg2rad(angles),\"T/T0\":T_T0}\n",
        "df = pd.DataFrame.from_dict(data)\n"
      ],
      "execution_count": 244,
      "outputs": []
    },
    {
      "cell_type": "code",
      "metadata": {
        "colab": {
          "base_uri": "https://localhost:8080/",
          "height": 538
        },
        "id": "UJRX_pDV85FP",
        "outputId": "f16026dc-26c5-40f9-8944-362513e21e41"
      },
      "source": [
        "plt.figure(figsize = (8,8))\n",
        "plt.plot(df[\"alpha\"],df[\"T/T0\"])\n",
        "plt.ylabel(r\"$\\frac{T}{T_0}$\",fontsize = 20)\n",
        "plt.xlabel(r\"$\\alpha°$\",fontsize = 20)\n",
        "plt.title(r\"$\\frac{T}{T_0} \\quad vs \\quad \\alpha°$\", fontsize = 20)\n",
        "plt.grid()"
      ],
      "execution_count": 245,
      "outputs": [
        {
          "output_type": "display_data",
          "data": {
            "image/png": "[encoded data removed]",
            "text/plain": [
              "<Figure size 576x576 with 1 Axes>"
            ]
          },
          "metadata": {
            "needs_background": "light"
          }
        }
      ]
    },
    {
      "cell_type": "markdown",
      "metadata": {
        "id": "UYmxbeNf90bf"
      },
      "source": [
        "### Cuando $\\alpha=0$\n",
        "\\begin{equation}\n",
        "T = \\frac{2 T_{0}}{\\pi} \\int_{0}^{\\frac{\\pi}{2}} \\frac{d \\phi}{\\left(1-\\sin ^{2} \\frac{\\alpha}{2} \\sin ^{2} \\phi\\right)^{\\frac{1}{2}}} = \\frac{2 T_{0}}{\\pi} \\int_{0}^{\\frac{\\pi}{2}}  d\\phi = \\frac{2T_0}{\\pi}*\\frac{\\pi}{2}=T_0\n",
        "\\end{equation}\n",
        "### Asi cuando hallamos el cociente $\\frac{T}{T_0}$ cuando $\\alpha =0$\n",
        "\\begin{equation}\n",
        "\\frac{T}{T_0} = \\frac{T_0}{T_0}=1\n",
        "\\end{equation}"
      ]
    }
  ]
}