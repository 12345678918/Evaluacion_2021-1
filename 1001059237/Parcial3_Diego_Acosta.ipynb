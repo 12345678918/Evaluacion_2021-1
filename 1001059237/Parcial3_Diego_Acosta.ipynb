{
  "nbformat": 4,
  "nbformat_minor": 0,
  "metadata": {
    "colab": {
      "name": "Parcial3_Metodos.ipynb",
      "provenance": [],
      "collapsed_sections": []
    },
    "kernelspec": {
      "name": "python3",
      "display_name": "Python 3"
    },
    "language_info": {
      "name": "python"
    }
  },
  "cells": [
    {
      "cell_type": "markdown",
      "metadata": {
        "id": "jDWTPe8EVNL7"
      },
      "source": [
        "\n",
        "![IMAGE](https://github.com/restrepo/ComputationalMethods/raw/master/material/figures/nu.png)"
      ]
    },
    {
      "cell_type": "markdown",
      "metadata": {
        "id": "7TO7d0fN1-sR"
      },
      "source": [
        "1) Choose a random value for $m_1$ between $10^{-9}\\ \\text{eV}$ and $10^{-4}\\ \\text{eV}$. Note that because of the wide range, the random variation must be in the exponents. Obtain the corresponding $m_2$ and $m_3$ with the proper normal ordering."
      ]
    },
    {
      "cell_type": "code",
      "metadata": {
        "id": "dC0cWDi_1xg1"
      },
      "source": [
        "import random\n",
        "import numpy as np"
      ],
      "execution_count": 510,
      "outputs": []
    },
    {
      "cell_type": "markdown",
      "metadata": {
        "id": "kJAHlBi0UDkT"
      },
      "source": [
        " $\\Delta m^2_{ij}=m^2_i-m^2_j$"
      ]
    },
    {
      "cell_type": "code",
      "metadata": {
        "id": "FS_Py-Ik2HFe"
      },
      "source": [
        "exponent = random.randint(-9,-4) # Creacion de los m1, m2, m3 en base a el m1 aleatoria\n",
        "m1 = 10**(exponent)\n",
        "m2 = np.sqrt(7.39e-5+m1**2)\n",
        "m3 = np.sqrt(2.449e-3+m2**2)"
      ],
      "execution_count": 511,
      "outputs": []
    },
    {
      "cell_type": "markdown",
      "metadata": {
        "id": "skewNhup3FuI"
      },
      "source": [
        "2) Choose random values for $\\alpha_{ij}$ between $(0,2\\pi)$"
      ]
    },
    {
      "cell_type": "code",
      "metadata": {
        "id": "nDWWT4LD3n4p"
      },
      "source": [
        "a12 = random.uniform(0,2*np.pi)\n",
        "a13 = random.uniform(0,2*np.pi)\n",
        "a23 = random.uniform(0,2*np.pi)"
      ],
      "execution_count": 512,
      "outputs": []
    },
    {
      "cell_type": "markdown",
      "metadata": {
        "id": "-G4L7nKd5on4"
      },
      "source": [
        "3 ) Obtain $\\boldsymbol{Y}$"
      ]
    },
    {
      "cell_type": "markdown",
      "metadata": {
        "id": "_6pufngxUOyN"
      },
      "source": [
        " $c^\\alpha_{i j} \\equiv \\cos \\alpha_{i j}$ and $s^\\alpha_{i j} \\equiv \\sin \\alpha_{i j}$."
      ]
    },
    {
      "cell_type": "code",
      "metadata": {
        "id": "PSs2-mpp5psK"
      },
      "source": [
        "c12 = np.cos(a12)\n",
        "c13 = np.cos(a13)\n",
        "c23 = np.cos(a23)\n",
        "s12 = np.sin(a12)\n",
        "s13 = np.sin(a13)\n",
        "s23 = np.sin(a23)"
      ],
      "execution_count": 513,
      "outputs": []
    },
    {
      "cell_type": "markdown",
      "metadata": {
        "id": "mbQA25v6UQKd"
      },
      "source": [
        "$$\n",
        "\\boldsymbol{R}=\\left(\\begin{array}{ccc}c^\\alpha_{12} c^\\alpha_{13} & s^\\alpha_{12} c^\\alpha_{13} & s^\\alpha_{13}  \\\\ -s^\\alpha_{12} c^\\alpha_{23}-c^\\alpha_{12} s^\\alpha_{13} s^\\alpha_{23}& c^\\alpha_{12} c^\\alpha_{23}-s^\\alpha_{12} s^\\alpha_{13} s^\\alpha_{23}  & c^\\alpha_{13} s^\\alpha_{23} \\\\ s^\\alpha_{12} s^\\alpha_{23}-c^\\alpha_{12} s^\\alpha_{13} c^\\alpha_{23} & -c^\\alpha_{12} s^\\alpha_{23}-s^\\alpha_{12} s^\\alpha_{13} c^\\alpha_{23}  & c^\\alpha_{13} c^\\alpha_{23}\\end{array}\\right)\n",
        "$$"
      ]
    },
    {
      "cell_type": "code",
      "metadata": {
        "id": "tTTPNrWl-3gC"
      },
      "source": [
        "#Construccion de R\n",
        "R = np.matrix([[c12*c13             , s12*c13            , s13],\n",
        "              [-s12*c23-c12*s13*s23, c12*c23-s12*s13*s23, c13*s23],\n",
        "              [s12*s23-c12*s13*c23 , -c12*s23-s12*s13*c23, c13*c23]])"
      ],
      "execution_count": 514,
      "outputs": []
    },
    {
      "cell_type": "markdown",
      "metadata": {
        "id": "GZ_lvzRhUlsT"
      },
      "source": [
        "* $$\n",
        " \\boldsymbol{D}_{\\sqrt{m}}=\\operatorname{diag}\\left(\\sqrt{m_1},\\sqrt{m_2},\\sqrt{m_3}\\right)\n",
        "$$"
      ]
    },
    {
      "cell_type": "code",
      "metadata": {
        "id": "8pdHd1XK-83Q"
      },
      "source": [
        "# Construccion de D\n",
        "D_m = np.diag([np.sqrt(m1),np.sqrt(m2),np.sqrt(m3)])"
      ],
      "execution_count": 515,
      "outputs": []
    },
    {
      "cell_type": "markdown",
      "metadata": {
        "id": "i2_mTnXxU96j"
      },
      "source": [
        "$$\n",
        "\\boldsymbol{U}=\\left(\\begin{array}{ccc}\n",
        "1 & 0 & 0 \\\\\n",
        "0 & c_{23} & s_{23} \\\\\n",
        "0 & -s_{23} & c_{23}\n",
        "\\end{array}\\right) \\cdot\\left(\\begin{array}{ccc}\n",
        "c_{13} & 0 & s_{13}  \\\\\n",
        "0 & 1 & 0 \\\\\n",
        "-s_{13}  & 0 & c_{13}\n",
        "\\end{array}\\right) \\cdot\\left(\\begin{array}{ccc}\n",
        "c_{12} & s_{12} & 0 \\\\\n",
        "-s_{12} & c_{12} & 0 \\\\\n",
        "0 & 0 & 1\n",
        "\\end{array}\\right),\n",
        "$$\n",
        "where $c_{i j} \\equiv \\cos \\theta_{i j}$ and $s_{i j} \\equiv \\sin \\theta_{i j}$. "
      ]
    },
    {
      "cell_type": "code",
      "metadata": {
        "id": "pRf_6AxAEKad"
      },
      "source": [
        "# Valores utilizados para la creacion de U\n",
        "t12 = np.deg2rad(33.82) # Asignacion de los thetas usando los valores de la grafica\n",
        "t13 = np.deg2rad(8.61) \n",
        "t23 = np.deg2rad(48.3)\n",
        "c_12 = np.cos(t12)\n",
        "c_13 = np.cos(t13)\n",
        "c_23 = np.cos(t23)\n",
        "s_12 = np.sin(t12)\n",
        "s_13 = np.sin(t13)\n",
        "s_23 = np.sin(t23)"
      ],
      "execution_count": 503,
      "outputs": []
    },
    {
      "cell_type": "code",
      "metadata": {
        "id": "GUHxD2Ye--1h"
      },
      "source": [
        "# Creacion de U\n",
        "aux1 = np.matrix([[1, 0,  0],\n",
        "                 [0,c_23,s_23],\n",
        "                 [0,-s_23,c_23]])\n",
        "aux2 = np.matrix([[c_13, 0,  s_13],\n",
        "                 [0,    1,   0],\n",
        "                 [-s_13, 0, c_13]])\n",
        "aux3 = np.matrix([[c_12, s_12,  0],\n",
        "                 [-s_12, c_12,  0],\n",
        "                 [0,     0,  1]])\n",
        "U = aux1 * aux2 * aux3\n",
        "#Creacion de U transpuesta\n",
        "U_transpose = U.transpose()"
      ],
      "execution_count": 504,
      "outputs": []
    },
    {
      "cell_type": "code",
      "metadata": {
        "id": "YwZGDS2BGjqV"
      },
      "source": [
        "# Asignando los autovectores U1,U2,U3\n",
        "U1 = np.c_[[c_12*c_13,-s_12*c_23-c_12*s_13*s_23,s_12*s_23-c_12*s_13*c_23]]\n",
        "U2 = np.c_[[s_12*c_13,c_12*c_23-s_12*s_13*s_23,-c_12*s_23-s_12*s_13*c_23]]\n",
        "U3 = np.c_[[s_13,c_13*s_23,c_13*c_23]]"
      ],
      "execution_count": 505,
      "outputs": []
    },
    {
      "cell_type": "markdown",
      "metadata": {
        "id": "4lrNiQz0Vpk5"
      },
      "source": [
        "$$ \\boldsymbol{Y}=\\boldsymbol{R} \\boldsymbol{D}_{\\sqrt{m}} \\boldsymbol{U}^{\\operatorname{T}} $$"
      ]
    },
    {
      "cell_type": "code",
      "metadata": {
        "id": "d4Z_IXPUALIq"
      },
      "source": [
        "Y = R * D_m * U_transpose"
      ],
      "execution_count": 506,
      "outputs": []
    },
    {
      "cell_type": "markdown",
      "metadata": {
        "id": "PqcS6avOBD9S"
      },
      "source": [
        "4 ) Check that the generated $\\boldsymbol{A}$ has the proper eigenvalues and eigenvectors"
      ]
    },
    {
      "cell_type": "markdown",
      "metadata": {
        "id": "3LntRT_gVtCw"
      },
      "source": [
        "$$ \\boldsymbol{A}=\\boldsymbol{Y}^{\\operatorname{T}}\\boldsymbol{Y} $$"
      ]
    },
    {
      "cell_type": "code",
      "metadata": {
        "id": "zRJ7RkCwBHBE"
      },
      "source": [
        "A = Y.transpose() @ Y "
      ],
      "execution_count": 507,
      "outputs": []
    },
    {
      "cell_type": "code",
      "metadata": {
        "colab": {
          "base_uri": "https://localhost:8080/"
        },
        "id": "OYAE8C9IFMIv",
        "outputId": "f5cfde92-f75d-4d87-a9db-89cf1e08a32a"
      },
      "source": [
        "# Comparacion de los valores de m1,m2,m3 con los obtenidos\n",
        "Eigen = U_transpose @ A @ U\n",
        "delta_m1 = Eigen[0,0]-m1\n",
        "delta_m2 = Eigen[1,1]-m2\n",
        "delta_m3 = Eigen[2,2]-m3\n",
        "print(\"La diferencia para los valores teoricos con los obtenidos es para m1,m2 y m3 respectivamente:\"\n",
        "      ,delta_m1,delta_m2,delta_m3)"
      ],
      "execution_count": 508,
      "outputs": [
        {
          "output_type": "stream",
          "name": "stdout",
          "text": [
            "La diferencia para los valores teoricos con los obtenidos es para m1,m2 y m3 respectivamente: -7.936963413568811e-19 1.734723475976807e-18 1.3877787807814457e-17\n"
          ]
        }
      ]
    },
    {
      "cell_type": "code",
      "metadata": {
        "colab": {
          "base_uri": "https://localhost:8080/"
        },
        "id": "iLBmIN6GJx66",
        "outputId": "3bffa374-e661-4ace-f8b0-c9c077a50b8d"
      },
      "source": [
        "Eigen_vectors = np.linalg.eig(A)[1]\n",
        "print(\"El autovector correspondiente \\n\",np.c_[-Eigen_vectors[:,1]],\n",
        "      \"\\n Con el vector  U1\\n\",U1)\n",
        "print(\"\\n\")\n",
        "print(\"El autovector correspondiente \\n\",np.c_[-Eigen_vectors[:,2]],\n",
        "      \"\\n Con el vector  U2\\n\",U2)\n",
        "print(\"\\n\")\n",
        "print(\"El autovector correspondiente \\n\",np.c_[-Eigen_vectors[:,0]],\n",
        "      \"\\n Con el vector  U3\\n\",U3)\n",
        "# print(U1)\n",
        "# print(U2)\n",
        "# print(U3)"
      ],
      "execution_count": 509,
      "outputs": [
        {
          "output_type": "stream",
          "name": "stdout",
          "text": [
            "El autovector correspondiente \n",
            " [[ 0.82142745]\n",
            " [-0.46312144]\n",
            " [ 0.33282949]] \n",
            " Con el vector  U1\n",
            " [[ 0.82142745]\n",
            " [-0.46312144]\n",
            " [ 0.33282949]]\n",
            "\n",
            "\n",
            "El autovector correspondiente \n",
            " [[ 0.55031308]\n",
            " [ 0.49045305]\n",
            " [-0.67573021]] \n",
            " Con el vector  U2\n",
            " [[ 0.55031308]\n",
            " [ 0.49045305]\n",
            " [-0.67573021]]\n",
            "\n",
            "\n",
            "El autovector correspondiente \n",
            " [[0.14970791]\n",
            " [0.73822377]\n",
            " [0.65773339]] \n",
            " Con el vector  U3\n",
            " [[0.14970791]\n",
            " [0.73822377]\n",
            " [0.65773339]]\n"
          ]
        }
      ]
    },
    {
      "cell_type": "markdown",
      "metadata": {
        "id": "KwKajUFfXUjJ"
      },
      "source": [
        "5) Check that the eigenvalues of $\\boldsymbol{Y}$ correspond to the square root of the eigenvalues of $\\boldsymbol{A}$ and explain why."
      ]
    },
    {
      "cell_type": "code",
      "metadata": {
        "colab": {
          "base_uri": "https://localhost:8080/"
        },
        "id": "13GvM1nlK1aa",
        "outputId": "958872b0-5765-4c71-fae0-2c1871d086e8"
      },
      "source": [
        "# Comparacion entre los autovalores de A y los de Y\n",
        "EY = np.linalg.eig(Y)[0]\n",
        "Eigen_values_Y = np.array([EY[2],EY[1],EY[0]])\n",
        "Eigen_valuesA = np.linalg.eig(A)[0]\n",
        "print(r\"La diferencia que se separa del cero numerico es debido a que los valores de m1,m2,m3 y thetas tienen cierta incertidumbre\")\n",
        "print(Eigen_values_Y -Eigen_valuesA**0.5)"
      ],
      "execution_count": 516,
      "outputs": [
        {
          "output_type": "stream",
          "name": "stdout",
          "text": [
            "La diferencia que se separa del cero numerico es debido a que los valores de m1,m2,m3 y thetas tienen cierta incertidumbre\n",
            "[-0.22319317  0.04661083  0.05883772]\n"
          ]
        }
      ]
    },
    {
      "cell_type": "markdown",
      "metadata": {
        "id": "RqGHXO1oqJig"
      },
      "source": [
        "Como $$ \\boldsymbol{Y}=\\boldsymbol{R} \\boldsymbol{D}_{\\sqrt{m}} \\boldsymbol{U}^{\\operatorname{T}} $$\n",
        "$\\boldsymbol{Y}$ es la multiplicacion de una matriz ortogonal generada por los angulos aleatorios, la raiz de los autovalores de A y una matriz ortogonal que diagonaliza A \n",
        "\n",
        "\\begin{equation}\n",
        "\\boldsymbol{A}=\\boldsymbol{Y}^{\\operatorname{T}}\\boldsymbol{Y}\\\\\n",
        "\\boldsymbol{A}=\\boldsymbol{U} \\boldsymbol{D}_{\\sqrt{m}} \\boldsymbol{R}^{\\operatorname{T}}\\boldsymbol{R} \\boldsymbol{D}_{\\sqrt{m}} \\boldsymbol{U}^{\\operatorname{T}} \\\\\n",
        "\\boldsymbol{A}=\\boldsymbol{U} (\\boldsymbol{D}_{\\sqrt{m}})^2 \\boldsymbol{U}^{\\operatorname{T}} \\\\\n",
        "\\boldsymbol{U}^{\\operatorname{T}}\\boldsymbol{A}\\boldsymbol{U}=(\\boldsymbol{D}_{\\sqrt{m}})^2\n",
        "\\end{equation}\n",
        "Y usando el hecho de que $\\boldsymbol{A}$ es diagonalizado de la forma\n",
        "\\begin{equation}\n",
        "\\boldsymbol{A}=\\boldsymbol{U} \\boldsymbol{D} \\boldsymbol{U}^{\\operatorname{T}}\n",
        "\\end{equation}\n",
        "Despejando $\\boldsymbol{D}$ hallamos que\n",
        "\\begin{equation}\n",
        "\\boldsymbol{U}^{\\operatorname{T}}\\boldsymbol{A}\\boldsymbol{U}=\\boldsymbol{D} =(\\boldsymbol{D}_{\\sqrt{m}})^2\n",
        "\\end{equation}\n",
        "Asi los autovalores de $A$ son la raiz de los autovalores de $Y$"
      ]
    }
  ]
}