{
 "cells": [
  {
   "cell_type": "markdown",
   "metadata": {},
   "source": [
    "# Solución:\n",
    "\n",
    "**A:**\n"
   ]
  },
  {
   "cell_type": "code",
   "execution_count": 1,
   "metadata": {},
   "outputs": [],
   "source": [
    "import pandas as pd"
   ]
  },
  {
   "cell_type": "code",
   "execution_count": 4,
   "metadata": {},
   "outputs": [
    {
     "data": {
      "text/html": [
       "<div>\n",
       "<style scoped>\n",
       "    .dataframe tbody tr th:only-of-type {\n",
       "        vertical-align: middle;\n",
       "    }\n",
       "\n",
       "    .dataframe tbody tr th {\n",
       "        vertical-align: top;\n",
       "    }\n",
       "\n",
       "    .dataframe thead th {\n",
       "        text-align: right;\n",
       "    }\n",
       "</style>\n",
       "<table border=\"1\" class=\"dataframe\">\n",
       "  <thead>\n",
       "    <tr style=\"text-align: right;\">\n",
       "      <th></th>\n",
       "      <th>l</th>\n",
       "      <th>k</th>\n",
       "      <th>solution</th>\n",
       "      <th>gcd</th>\n",
       "      <th>n</th>\n",
       "    </tr>\n",
       "  </thead>\n",
       "  <tbody>\n",
       "    <tr>\n",
       "      <th>0</th>\n",
       "      <td>[-1, 0, -1, 0, -1]</td>\n",
       "      <td>[-1, 0, -1, 1, -1]</td>\n",
       "      <td>[1, 4, 4, 4, -5, -5, -5, -5, -5, 6, 6]</td>\n",
       "      <td>1</td>\n",
       "      <td>11</td>\n",
       "    </tr>\n",
       "    <tr>\n",
       "      <th>1</th>\n",
       "      <td>[-1, 1]</td>\n",
       "      <td>[-1, 0, -1]</td>\n",
       "      <td>[1, 2, 2, -3, -3, -3, 4]</td>\n",
       "      <td>1</td>\n",
       "      <td>7</td>\n",
       "    </tr>\n",
       "    <tr>\n",
       "      <th>2</th>\n",
       "      <td>[1, -1, 0, 1, -1]</td>\n",
       "      <td>[-2, 0, -1, -2, 0]</td>\n",
       "      <td>[1, 1, -2, -2, -3, -3, 5, 5, 5, 5, -6, -6]</td>\n",
       "      <td>2</td>\n",
       "      <td>12</td>\n",
       "    </tr>\n",
       "    <tr>\n",
       "      <th>3</th>\n",
       "      <td>[-1, 1, -1, 1, -1]</td>\n",
       "      <td>[-2, -1, 0, -1, 0]</td>\n",
       "      <td>[1, 1, 1, 1, 2, 2, 2, -3, -4, -4, -6, 7]</td>\n",
       "      <td>1</td>\n",
       "      <td>12</td>\n",
       "    </tr>\n",
       "    <tr>\n",
       "      <th>4</th>\n",
       "      <td>[1, 0, 1, 0, -1]</td>\n",
       "      <td>[-2, -1, -2, -1, 0]</td>\n",
       "      <td>[1, 1, 1, -2, -2, -5, -5, 6, 6, 7, -8]</td>\n",
       "      <td>1</td>\n",
       "      <td>11</td>\n",
       "    </tr>\n",
       "    <tr>\n",
       "      <th>...</th>\n",
       "      <td>...</td>\n",
       "      <td>...</td>\n",
       "      <td>...</td>\n",
       "      <td>...</td>\n",
       "      <td>...</td>\n",
       "    </tr>\n",
       "    <tr>\n",
       "      <th>390069</th>\n",
       "      <td>[-3, -15, -6]</td>\n",
       "      <td>[-3, 8, 9]</td>\n",
       "      <td>[8, -9, -9, 11, 25, -29, -29, 32]</td>\n",
       "      <td>36</td>\n",
       "      <td>8</td>\n",
       "    </tr>\n",
       "    <tr>\n",
       "      <th>390070</th>\n",
       "      <td>[-10, -5, -15]</td>\n",
       "      <td>[-10, -12, 12]</td>\n",
       "      <td>[5, 5, 5, -17, -27, -27, 28, 28]</td>\n",
       "      <td>100</td>\n",
       "      <td>8</td>\n",
       "    </tr>\n",
       "    <tr>\n",
       "      <th>390071</th>\n",
       "      <td>[15, -1, 15]</td>\n",
       "      <td>[-14, -13, -14]</td>\n",
       "      <td>[14, -15, -16, 17, -30, 31, 31, -32]</td>\n",
       "      <td>1</td>\n",
       "      <td>8</td>\n",
       "    </tr>\n",
       "    <tr>\n",
       "      <th>390072</th>\n",
       "      <td>[-15, -9, -1]</td>\n",
       "      <td>[-13, -14, -12]</td>\n",
       "      <td>[11, -13, -15, 19, 23, -26, -30, 31]</td>\n",
       "      <td>18</td>\n",
       "      <td>8</td>\n",
       "    </tr>\n",
       "    <tr>\n",
       "      <th>390073</th>\n",
       "      <td>[10, 15, 5]</td>\n",
       "      <td>[-11, -14, 7]</td>\n",
       "      <td>[16, -17, -17, 19, 20, -22, -22, 23]</td>\n",
       "      <td>2000</td>\n",
       "      <td>8</td>\n",
       "    </tr>\n",
       "  </tbody>\n",
       "</table>\n",
       "<p>390074 rows × 5 columns</p>\n",
       "</div>"
      ],
      "text/plain": [
       "                         l                    k  \\\n",
       "0       [-1, 0, -1, 0, -1]   [-1, 0, -1, 1, -1]   \n",
       "1                  [-1, 1]          [-1, 0, -1]   \n",
       "2        [1, -1, 0, 1, -1]   [-2, 0, -1, -2, 0]   \n",
       "3       [-1, 1, -1, 1, -1]   [-2, -1, 0, -1, 0]   \n",
       "4         [1, 0, 1, 0, -1]  [-2, -1, -2, -1, 0]   \n",
       "...                    ...                  ...   \n",
       "390069       [-3, -15, -6]           [-3, 8, 9]   \n",
       "390070      [-10, -5, -15]       [-10, -12, 12]   \n",
       "390071        [15, -1, 15]      [-14, -13, -14]   \n",
       "390072       [-15, -9, -1]      [-13, -14, -12]   \n",
       "390073         [10, 15, 5]        [-11, -14, 7]   \n",
       "\n",
       "                                          solution   gcd   n  \n",
       "0           [1, 4, 4, 4, -5, -5, -5, -5, -5, 6, 6]     1  11  \n",
       "1                         [1, 2, 2, -3, -3, -3, 4]     1   7  \n",
       "2       [1, 1, -2, -2, -3, -3, 5, 5, 5, 5, -6, -6]     2  12  \n",
       "3         [1, 1, 1, 1, 2, 2, 2, -3, -4, -4, -6, 7]     1  12  \n",
       "4           [1, 1, 1, -2, -2, -5, -5, 6, 6, 7, -8]     1  11  \n",
       "...                                            ...   ...  ..  \n",
       "390069           [8, -9, -9, 11, 25, -29, -29, 32]    36   8  \n",
       "390070            [5, 5, 5, -17, -27, -27, 28, 28]   100   8  \n",
       "390071        [14, -15, -16, 17, -30, 31, 31, -32]     1   8  \n",
       "390072        [11, -13, -15, 19, 23, -26, -30, 31]    18   8  \n",
       "390073        [16, -17, -17, 19, 20, -22, -22, 23]  2000   8  \n",
       "\n",
       "[390074 rows x 5 columns]"
      ]
     },
     "execution_count": 4,
     "metadata": {},
     "output_type": "execute_result"
    }
   ],
   "source": [
    "ds=pd.read_json(\"https://github.com/restrepo/anomaly/raw/main/solutions.json.gz\")\n",
    "ds"
   ]
  },
  {
   "cell_type": "markdown",
   "metadata": {},
   "source": [
    "**1.** Añadimos la nueva columna `smax`:"
   ]
  },
  {
   "cell_type": "code",
   "execution_count": 8,
   "metadata": {},
   "outputs": [
    {
     "data": {
      "text/html": [
       "<div>\n",
       "<style scoped>\n",
       "    .dataframe tbody tr th:only-of-type {\n",
       "        vertical-align: middle;\n",
       "    }\n",
       "\n",
       "    .dataframe tbody tr th {\n",
       "        vertical-align: top;\n",
       "    }\n",
       "\n",
       "    .dataframe thead th {\n",
       "        text-align: right;\n",
       "    }\n",
       "</style>\n",
       "<table border=\"1\" class=\"dataframe\">\n",
       "  <thead>\n",
       "    <tr style=\"text-align: right;\">\n",
       "      <th></th>\n",
       "      <th>l</th>\n",
       "      <th>k</th>\n",
       "      <th>solution</th>\n",
       "      <th>gcd</th>\n",
       "      <th>n</th>\n",
       "      <th>smax</th>\n",
       "    </tr>\n",
       "  </thead>\n",
       "  <tbody>\n",
       "    <tr>\n",
       "      <th>0</th>\n",
       "      <td>[-1, 0, -1, 0, -1]</td>\n",
       "      <td>[-1, 0, -1, 1, -1]</td>\n",
       "      <td>[1, 4, 4, 4, -5, -5, -5, -5, -5, 6, 6]</td>\n",
       "      <td>1</td>\n",
       "      <td>11</td>\n",
       "      <td>6</td>\n",
       "    </tr>\n",
       "    <tr>\n",
       "      <th>1</th>\n",
       "      <td>[-1, 1]</td>\n",
       "      <td>[-1, 0, -1]</td>\n",
       "      <td>[1, 2, 2, -3, -3, -3, 4]</td>\n",
       "      <td>1</td>\n",
       "      <td>7</td>\n",
       "      <td>4</td>\n",
       "    </tr>\n",
       "    <tr>\n",
       "      <th>2</th>\n",
       "      <td>[1, -1, 0, 1, -1]</td>\n",
       "      <td>[-2, 0, -1, -2, 0]</td>\n",
       "      <td>[1, 1, -2, -2, -3, -3, 5, 5, 5, 5, -6, -6]</td>\n",
       "      <td>2</td>\n",
       "      <td>12</td>\n",
       "      <td>6</td>\n",
       "    </tr>\n",
       "    <tr>\n",
       "      <th>3</th>\n",
       "      <td>[-1, 1, -1, 1, -1]</td>\n",
       "      <td>[-2, -1, 0, -1, 0]</td>\n",
       "      <td>[1, 1, 1, 1, 2, 2, 2, -3, -4, -4, -6, 7]</td>\n",
       "      <td>1</td>\n",
       "      <td>12</td>\n",
       "      <td>7</td>\n",
       "    </tr>\n",
       "    <tr>\n",
       "      <th>4</th>\n",
       "      <td>[1, 0, 1, 0, -1]</td>\n",
       "      <td>[-2, -1, -2, -1, 0]</td>\n",
       "      <td>[1, 1, 1, -2, -2, -5, -5, 6, 6, 7, -8]</td>\n",
       "      <td>1</td>\n",
       "      <td>11</td>\n",
       "      <td>8</td>\n",
       "    </tr>\n",
       "    <tr>\n",
       "      <th>...</th>\n",
       "      <td>...</td>\n",
       "      <td>...</td>\n",
       "      <td>...</td>\n",
       "      <td>...</td>\n",
       "      <td>...</td>\n",
       "      <td>...</td>\n",
       "    </tr>\n",
       "    <tr>\n",
       "      <th>390069</th>\n",
       "      <td>[-3, -15, -6]</td>\n",
       "      <td>[-3, 8, 9]</td>\n",
       "      <td>[8, -9, -9, 11, 25, -29, -29, 32]</td>\n",
       "      <td>36</td>\n",
       "      <td>8</td>\n",
       "      <td>32</td>\n",
       "    </tr>\n",
       "    <tr>\n",
       "      <th>390070</th>\n",
       "      <td>[-10, -5, -15]</td>\n",
       "      <td>[-10, -12, 12]</td>\n",
       "      <td>[5, 5, 5, -17, -27, -27, 28, 28]</td>\n",
       "      <td>100</td>\n",
       "      <td>8</td>\n",
       "      <td>28</td>\n",
       "    </tr>\n",
       "    <tr>\n",
       "      <th>390071</th>\n",
       "      <td>[15, -1, 15]</td>\n",
       "      <td>[-14, -13, -14]</td>\n",
       "      <td>[14, -15, -16, 17, -30, 31, 31, -32]</td>\n",
       "      <td>1</td>\n",
       "      <td>8</td>\n",
       "      <td>32</td>\n",
       "    </tr>\n",
       "    <tr>\n",
       "      <th>390072</th>\n",
       "      <td>[-15, -9, -1]</td>\n",
       "      <td>[-13, -14, -12]</td>\n",
       "      <td>[11, -13, -15, 19, 23, -26, -30, 31]</td>\n",
       "      <td>18</td>\n",
       "      <td>8</td>\n",
       "      <td>31</td>\n",
       "    </tr>\n",
       "    <tr>\n",
       "      <th>390073</th>\n",
       "      <td>[10, 15, 5]</td>\n",
       "      <td>[-11, -14, 7]</td>\n",
       "      <td>[16, -17, -17, 19, 20, -22, -22, 23]</td>\n",
       "      <td>2000</td>\n",
       "      <td>8</td>\n",
       "      <td>23</td>\n",
       "    </tr>\n",
       "  </tbody>\n",
       "</table>\n",
       "<p>390074 rows × 6 columns</p>\n",
       "</div>"
      ],
      "text/plain": [
       "                         l                    k  \\\n",
       "0       [-1, 0, -1, 0, -1]   [-1, 0, -1, 1, -1]   \n",
       "1                  [-1, 1]          [-1, 0, -1]   \n",
       "2        [1, -1, 0, 1, -1]   [-2, 0, -1, -2, 0]   \n",
       "3       [-1, 1, -1, 1, -1]   [-2, -1, 0, -1, 0]   \n",
       "4         [1, 0, 1, 0, -1]  [-2, -1, -2, -1, 0]   \n",
       "...                    ...                  ...   \n",
       "390069       [-3, -15, -6]           [-3, 8, 9]   \n",
       "390070      [-10, -5, -15]       [-10, -12, 12]   \n",
       "390071        [15, -1, 15]      [-14, -13, -14]   \n",
       "390072       [-15, -9, -1]      [-13, -14, -12]   \n",
       "390073         [10, 15, 5]        [-11, -14, 7]   \n",
       "\n",
       "                                          solution   gcd   n  smax  \n",
       "0           [1, 4, 4, 4, -5, -5, -5, -5, -5, 6, 6]     1  11     6  \n",
       "1                         [1, 2, 2, -3, -3, -3, 4]     1   7     4  \n",
       "2       [1, 1, -2, -2, -3, -3, 5, 5, 5, 5, -6, -6]     2  12     6  \n",
       "3         [1, 1, 1, 1, 2, 2, 2, -3, -4, -4, -6, 7]     1  12     7  \n",
       "4           [1, 1, 1, -2, -2, -5, -5, 6, 6, 7, -8]     1  11     8  \n",
       "...                                            ...   ...  ..   ...  \n",
       "390069           [8, -9, -9, 11, 25, -29, -29, 32]    36   8    32  \n",
       "390070            [5, 5, 5, -17, -27, -27, 28, 28]   100   8    28  \n",
       "390071        [14, -15, -16, 17, -30, 31, 31, -32]     1   8    32  \n",
       "390072        [11, -13, -15, 19, 23, -26, -30, 31]    18   8    31  \n",
       "390073        [16, -17, -17, 19, 20, -22, -22, 23]  2000   8    23  \n",
       "\n",
       "[390074 rows x 6 columns]"
      ]
     },
     "execution_count": 8,
     "metadata": {},
     "output_type": "execute_result"
    }
   ],
   "source": [
    "ds[\"smax\"]=ds[\"solution\"].apply(lambda l: max(map(abs,l)))\n",
    "ds"
   ]
  },
  {
   "cell_type": "markdown",
   "metadata": {},
   "source": [
    "**2.** Añadimos las dos columnas sum_s y sum_s$^{3}$:"
   ]
  },
  {
   "cell_type": "code",
   "execution_count": 10,
   "metadata": {},
   "outputs": [
    {
     "data": {
      "text/html": [
       "<div>\n",
       "<style scoped>\n",
       "    .dataframe tbody tr th:only-of-type {\n",
       "        vertical-align: middle;\n",
       "    }\n",
       "\n",
       "    .dataframe tbody tr th {\n",
       "        vertical-align: top;\n",
       "    }\n",
       "\n",
       "    .dataframe thead th {\n",
       "        text-align: right;\n",
       "    }\n",
       "</style>\n",
       "<table border=\"1\" class=\"dataframe\">\n",
       "  <thead>\n",
       "    <tr style=\"text-align: right;\">\n",
       "      <th></th>\n",
       "      <th>l</th>\n",
       "      <th>k</th>\n",
       "      <th>solution</th>\n",
       "      <th>gcd</th>\n",
       "      <th>n</th>\n",
       "      <th>smax</th>\n",
       "      <th>sum_s</th>\n",
       "      <th>sum_s^{3}</th>\n",
       "    </tr>\n",
       "  </thead>\n",
       "  <tbody>\n",
       "    <tr>\n",
       "      <th>0</th>\n",
       "      <td>[-1, 0, -1, 0, -1]</td>\n",
       "      <td>[-1, 0, -1, 1, -1]</td>\n",
       "      <td>[1, 4, 4, 4, -5, -5, -5, -5, -5, 6, 6]</td>\n",
       "      <td>1</td>\n",
       "      <td>11</td>\n",
       "      <td>6</td>\n",
       "      <td>0</td>\n",
       "      <td>0</td>\n",
       "    </tr>\n",
       "    <tr>\n",
       "      <th>1</th>\n",
       "      <td>[-1, 1]</td>\n",
       "      <td>[-1, 0, -1]</td>\n",
       "      <td>[1, 2, 2, -3, -3, -3, 4]</td>\n",
       "      <td>1</td>\n",
       "      <td>7</td>\n",
       "      <td>4</td>\n",
       "      <td>0</td>\n",
       "      <td>0</td>\n",
       "    </tr>\n",
       "    <tr>\n",
       "      <th>2</th>\n",
       "      <td>[1, -1, 0, 1, -1]</td>\n",
       "      <td>[-2, 0, -1, -2, 0]</td>\n",
       "      <td>[1, 1, -2, -2, -3, -3, 5, 5, 5, 5, -6, -6]</td>\n",
       "      <td>2</td>\n",
       "      <td>12</td>\n",
       "      <td>6</td>\n",
       "      <td>0</td>\n",
       "      <td>0</td>\n",
       "    </tr>\n",
       "    <tr>\n",
       "      <th>3</th>\n",
       "      <td>[-1, 1, -1, 1, -1]</td>\n",
       "      <td>[-2, -1, 0, -1, 0]</td>\n",
       "      <td>[1, 1, 1, 1, 2, 2, 2, -3, -4, -4, -6, 7]</td>\n",
       "      <td>1</td>\n",
       "      <td>12</td>\n",
       "      <td>7</td>\n",
       "      <td>0</td>\n",
       "      <td>0</td>\n",
       "    </tr>\n",
       "    <tr>\n",
       "      <th>4</th>\n",
       "      <td>[1, 0, 1, 0, -1]</td>\n",
       "      <td>[-2, -1, -2, -1, 0]</td>\n",
       "      <td>[1, 1, 1, -2, -2, -5, -5, 6, 6, 7, -8]</td>\n",
       "      <td>1</td>\n",
       "      <td>11</td>\n",
       "      <td>8</td>\n",
       "      <td>0</td>\n",
       "      <td>0</td>\n",
       "    </tr>\n",
       "    <tr>\n",
       "      <th>...</th>\n",
       "      <td>...</td>\n",
       "      <td>...</td>\n",
       "      <td>...</td>\n",
       "      <td>...</td>\n",
       "      <td>...</td>\n",
       "      <td>...</td>\n",
       "      <td>...</td>\n",
       "      <td>...</td>\n",
       "    </tr>\n",
       "    <tr>\n",
       "      <th>390069</th>\n",
       "      <td>[-3, -15, -6]</td>\n",
       "      <td>[-3, 8, 9]</td>\n",
       "      <td>[8, -9, -9, 11, 25, -29, -29, 32]</td>\n",
       "      <td>36</td>\n",
       "      <td>8</td>\n",
       "      <td>32</td>\n",
       "      <td>0</td>\n",
       "      <td>0</td>\n",
       "    </tr>\n",
       "    <tr>\n",
       "      <th>390070</th>\n",
       "      <td>[-10, -5, -15]</td>\n",
       "      <td>[-10, -12, 12]</td>\n",
       "      <td>[5, 5, 5, -17, -27, -27, 28, 28]</td>\n",
       "      <td>100</td>\n",
       "      <td>8</td>\n",
       "      <td>28</td>\n",
       "      <td>0</td>\n",
       "      <td>0</td>\n",
       "    </tr>\n",
       "    <tr>\n",
       "      <th>390071</th>\n",
       "      <td>[15, -1, 15]</td>\n",
       "      <td>[-14, -13, -14]</td>\n",
       "      <td>[14, -15, -16, 17, -30, 31, 31, -32]</td>\n",
       "      <td>1</td>\n",
       "      <td>8</td>\n",
       "      <td>32</td>\n",
       "      <td>0</td>\n",
       "      <td>0</td>\n",
       "    </tr>\n",
       "    <tr>\n",
       "      <th>390072</th>\n",
       "      <td>[-15, -9, -1]</td>\n",
       "      <td>[-13, -14, -12]</td>\n",
       "      <td>[11, -13, -15, 19, 23, -26, -30, 31]</td>\n",
       "      <td>18</td>\n",
       "      <td>8</td>\n",
       "      <td>31</td>\n",
       "      <td>0</td>\n",
       "      <td>0</td>\n",
       "    </tr>\n",
       "    <tr>\n",
       "      <th>390073</th>\n",
       "      <td>[10, 15, 5]</td>\n",
       "      <td>[-11, -14, 7]</td>\n",
       "      <td>[16, -17, -17, 19, 20, -22, -22, 23]</td>\n",
       "      <td>2000</td>\n",
       "      <td>8</td>\n",
       "      <td>23</td>\n",
       "      <td>0</td>\n",
       "      <td>0</td>\n",
       "    </tr>\n",
       "  </tbody>\n",
       "</table>\n",
       "<p>390074 rows × 8 columns</p>\n",
       "</div>"
      ],
      "text/plain": [
       "                         l                    k  \\\n",
       "0       [-1, 0, -1, 0, -1]   [-1, 0, -1, 1, -1]   \n",
       "1                  [-1, 1]          [-1, 0, -1]   \n",
       "2        [1, -1, 0, 1, -1]   [-2, 0, -1, -2, 0]   \n",
       "3       [-1, 1, -1, 1, -1]   [-2, -1, 0, -1, 0]   \n",
       "4         [1, 0, 1, 0, -1]  [-2, -1, -2, -1, 0]   \n",
       "...                    ...                  ...   \n",
       "390069       [-3, -15, -6]           [-3, 8, 9]   \n",
       "390070      [-10, -5, -15]       [-10, -12, 12]   \n",
       "390071        [15, -1, 15]      [-14, -13, -14]   \n",
       "390072       [-15, -9, -1]      [-13, -14, -12]   \n",
       "390073         [10, 15, 5]        [-11, -14, 7]   \n",
       "\n",
       "                                          solution   gcd   n  smax  sum_s  \\\n",
       "0           [1, 4, 4, 4, -5, -5, -5, -5, -5, 6, 6]     1  11     6      0   \n",
       "1                         [1, 2, 2, -3, -3, -3, 4]     1   7     4      0   \n",
       "2       [1, 1, -2, -2, -3, -3, 5, 5, 5, 5, -6, -6]     2  12     6      0   \n",
       "3         [1, 1, 1, 1, 2, 2, 2, -3, -4, -4, -6, 7]     1  12     7      0   \n",
       "4           [1, 1, 1, -2, -2, -5, -5, 6, 6, 7, -8]     1  11     8      0   \n",
       "...                                            ...   ...  ..   ...    ...   \n",
       "390069           [8, -9, -9, 11, 25, -29, -29, 32]    36   8    32      0   \n",
       "390070            [5, 5, 5, -17, -27, -27, 28, 28]   100   8    28      0   \n",
       "390071        [14, -15, -16, 17, -30, 31, 31, -32]     1   8    32      0   \n",
       "390072        [11, -13, -15, 19, 23, -26, -30, 31]    18   8    31      0   \n",
       "390073        [16, -17, -17, 19, 20, -22, -22, 23]  2000   8    23      0   \n",
       "\n",
       "        sum_s^{3}  \n",
       "0               0  \n",
       "1               0  \n",
       "2               0  \n",
       "3               0  \n",
       "4               0  \n",
       "...           ...  \n",
       "390069          0  \n",
       "390070          0  \n",
       "390071          0  \n",
       "390072          0  \n",
       "390073          0  \n",
       "\n",
       "[390074 rows x 8 columns]"
      ]
     },
     "execution_count": 10,
     "metadata": {},
     "output_type": "execute_result"
    }
   ],
   "source": [
    "ds[\"sum_s\"]=ds[\"solution\"].apply(lambda l: sum(l))\n",
    "ds[\"sum_s^{3}\"]=ds[\"solution\"].apply(lambda l: sum(l)**3)\n",
    "ds"
   ]
  },
  {
   "cell_type": "markdown",
   "metadata": {},
   "source": [
    "**3.** Generamos el número aleatorio:"
   ]
  },
  {
   "cell_type": "code",
   "execution_count": 11,
   "metadata": {},
   "outputs": [],
   "source": [
    "import numpy as np"
   ]
  },
  {
   "cell_type": "code",
   "execution_count": 13,
   "metadata": {},
   "outputs": [
    {
     "data": {
      "text/plain": [
       "54669"
      ]
     },
     "execution_count": 13,
     "metadata": {},
     "output_type": "execute_result"
    }
   ],
   "source": [
    "np.random.seed(1000565036)\n",
    "np.random.randint(0, 390073)"
   ]
  },
  {
   "cell_type": "markdown",
   "metadata": {},
   "source": [
    "Filtramos la fila:\n"
   ]
  },
  {
   "cell_type": "code",
   "execution_count": 93,
   "metadata": {},
   "outputs": [
    {
     "data": {
      "text/plain": [
       "[3, -5, -13, 14, -19, 22, 24, -25, 28, -29]"
      ]
     },
     "execution_count": 93,
     "metadata": {},
     "output_type": "execute_result"
    }
   ],
   "source": [
    "coef=ds[\"solution\"][54669]\n",
    "coef"
   ]
  },
  {
   "cell_type": "markdown",
   "metadata": {},
   "source": [
    "Generamos el polinomio:"
   ]
  },
  {
   "cell_type": "code",
   "execution_count": 136,
   "metadata": {},
   "outputs": [
    {
     "name": "stdout",
     "output_type": "stream",
     "text": [
      "   9     8      7      6      5      4      3      2\n",
      "3 x - 5 x - 13 x + 14 x - 19 x + 22 x + 24 x - 25 x + 28 x - 29\n"
     ]
    }
   ],
   "source": [
    "p=np.poly1d(coef)\n",
    "print(p)"
   ]
  },
  {
   "cell_type": "markdown",
   "metadata": {},
   "source": [
    "Hallamos sus raíces:"
   ]
  },
  {
   "cell_type": "code",
   "execution_count": 137,
   "metadata": {},
   "outputs": [
    {
     "data": {
      "text/plain": [
       "array([-2.11246056+0.j        ,  2.76254745+0.j        ,\n",
       "       -1.18857936+0.j        ,  1.14879652+0.j        ,\n",
       "        1.        +0.j        , -0.03907592+1.0395474j ,\n",
       "       -0.03907592-1.0395474j ,  0.06725723+1.05663411j,\n",
       "        0.06725723-1.05663411j])"
      ]
     },
     "execution_count": 137,
     "metadata": {},
     "output_type": "execute_result"
    }
   ],
   "source": [
    "r=p.roots\n",
    "r"
   ]
  },
  {
   "cell_type": "markdown",
   "metadata": {},
   "source": [
    "Filtramos las raíces reales:"
   ]
  },
  {
   "cell_type": "code",
   "execution_count": 233,
   "metadata": {},
   "outputs": [
    {
     "data": {
      "text/plain": [
       "array([-2.11246056+0.j,  2.76254745+0.j, -1.18857936+0.j,  1.14879652+0.j,\n",
       "        1.        +0.j])"
      ]
     },
     "execution_count": 233,
     "metadata": {},
     "output_type": "execute_result"
    }
   ],
   "source": [
    "real=(r[np.isreal(r)])\n",
    "real"
   ]
  },
  {
   "cell_type": "markdown",
   "metadata": {},
   "source": [
    "Hallamos su derivada:"
   ]
  },
  {
   "cell_type": "code",
   "execution_count": 139,
   "metadata": {},
   "outputs": [
    {
     "name": "stdout",
     "output_type": "stream",
     "text": [
      "    8      7      6      5      4      3      2\n",
      "27 x - 40 x - 91 x + 84 x - 95 x + 88 x + 72 x - 50 x + 28\n"
     ]
    }
   ],
   "source": [
    "dp=p.deriv()\n",
    "print(dp)"
   ]
  },
  {
   "cell_type": "markdown",
   "metadata": {},
   "source": [
    "Realizamos la gráfica:"
   ]
  },
  {
   "cell_type": "code",
   "execution_count": 140,
   "metadata": {},
   "outputs": [],
   "source": [
    "import matplotlib.pyplot as plt"
   ]
  },
  {
   "cell_type": "code",
   "execution_count": 234,
   "metadata": {},
   "outputs": [
    {
     "name": "stderr",
     "output_type": "stream",
     "text": [
      "C:\\Users\\juang\\anaconda3\\lib\\site-packages\\numpy\\core\\_asarray.py:85: ComplexWarning: Casting complex values to real discards the imaginary part\n",
      "  return array(a, dtype, copy=False, order=order)\n"
     ]
    },
    {
     "data": {
      "text/plain": [
       "<function matplotlib.pyplot.show(*args, **kw)>"
      ]
     },
     "execution_count": 234,
     "metadata": {},
     "output_type": "execute_result"
    },
    {
     "data": {
      "image/png": "[encoded data removed]",
      "text/plain": [
       "<Figure size 864x576 with 1 Axes>"
      ]
     },
     "metadata": {
      "needs_background": "light"
     },
     "output_type": "display_data"
    }
   ],
   "source": [
    "p=np.poly1d(coef)\n",
    "x = np.linspace(-5,5,50)\n",
    "\n",
    "plt.figure(figsize=(12,8))\n",
    "plt.plot(x,p(x),label=\"p(x)\")\n",
    "plt.legend()\n",
    "plt.plot(x,dp(x),\"r\",label=\"dp(x)\")\n",
    "plt.legend()\n",
    "plt.plot(real,\"o\")\n",
    "plt.ylim(-20,20)\n",
    "plt.grid(True)\n",
    "plt.xlabel(\"x\")\n",
    "plt.ylabel(\"y\")\n",
    "plt.show"
   ]
  },
  {
   "cell_type": "markdown",
   "metadata": {},
   "source": [
    "**NOTA**: No logro entender qué estoy haciendo mal dado que no se muestran las raíces correctamente en la gráfica."
   ]
  },
  {
   "cell_type": "markdown",
   "metadata": {},
   "source": [
    "**B.**"
   ]
  },
  {
   "cell_type": "code",
   "execution_count": 207,
   "metadata": {},
   "outputs": [
    {
     "data": {
      "text/plain": [
       "2"
      ]
     },
     "execution_count": 207,
     "metadata": {},
     "output_type": "execute_result"
    }
   ],
   "source": [
    "np.random.seed(1000565036)\n",
    "np.random.randint(1,5)"
   ]
  },
  {
   "cell_type": "markdown",
   "metadata": {},
   "source": [
    "$-p=\\frac{\\sin(x)}{x}$"
   ]
  },
  {
   "cell_type": "code",
   "execution_count": 208,
   "metadata": {},
   "outputs": [
    {
     "data": {
      "text/plain": [
       "0.9387334322012377"
      ]
     },
     "execution_count": 208,
     "metadata": {},
     "output_type": "execute_result"
    }
   ],
   "source": [
    "np.random.seed(1000565036)\n",
    "p=np.random.random()\n",
    "p"
   ]
  },
  {
   "cell_type": "code",
   "execution_count": 209,
   "metadata": {},
   "outputs": [],
   "source": [
    "def f(x):\n",
    "    return (np.sin(x))/x"
   ]
  },
  {
   "cell_type": "code",
   "execution_count": 210,
   "metadata": {},
   "outputs": [],
   "source": [
    "from scipy import optimize"
   ]
  },
  {
   "cell_type": "code",
   "execution_count": 215,
   "metadata": {},
   "outputs": [
    {
     "data": {
      "text/plain": [
       "-3.141592653589793"
      ]
     },
     "execution_count": 215,
     "metadata": {},
     "output_type": "execute_result"
    }
   ],
   "source": [
    "optimize.newton(f,-p)"
   ]
  },
  {
   "cell_type": "code",
   "execution_count": 204,
   "metadata": {},
   "outputs": [
    {
     "data": {
      "image/png": "[encoded data removed]",
      "text/plain": [
       "<Figure size 432x288 with 1 Axes>"
      ]
     },
     "metadata": {
      "needs_background": "light"
     },
     "output_type": "display_data"
    }
   ],
   "source": [
    "X=np.linspace(-10,10)\n",
    "y=f(x)\n",
    "\n",
    "plt.plot(X,y)\n",
    "plt.grid(True)\n",
    "plt.xlabel(\"x\")\n",
    "plt.ylabel(\"y\")\n",
    "\n",
    "plt.show()"
   ]
  },
  {
   "cell_type": "code",
   "execution_count": null,
   "metadata": {},
   "outputs": [],
   "source": []
  }
 ],
 "metadata": {
  "kernelspec": {
   "display_name": "Python 3",
   "language": "python",
   "name": "python3"
  },
  "language_info": {
   "codemirror_mode": {
    "name": "ipython",
    "version": 3
   },
   "file_extension": ".py",
   "mimetype": "text/x-python",
   "name": "python",
   "nbconvert_exporter": "python",
   "pygments_lexer": "ipython3",
   "version": "3.8.3"
  }
 },
 "nbformat": 4,
 "nbformat_minor": 4
}
