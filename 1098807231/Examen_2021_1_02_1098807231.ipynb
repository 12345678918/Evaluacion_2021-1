{
  "nbformat": 4,
  "nbformat_minor": 0,
  "metadata": {
    "kernelspec": {
      "display_name": "Python 3 (ipykernel)",
      "language": "python",
      "name": "python3"
    },
    "language_info": {
      "codemirror_mode": {
        "name": "ipython",
        "version": 3
      },
      "file_extension": ".py",
      "mimetype": "text/x-python",
      "name": "python",
      "nbconvert_exporter": "python",
      "pygments_lexer": "ipython3",
      "version": "3.7.3"
    },
    "colab": {
      "name": "Examen_2021_1_02_1098807231.ipynb",
      "provenance": []
    }
  },
  "cells": [
    {
      "cell_type": "markdown",
      "metadata": {
        "id": "i0fU6k6llhS3"
      },
      "source": [
        "A) Los siguientes datos fueron extraidos de un [perfil real de Instragram](https://www.instagram.com/paulacano24/):\n",
        "\n",
        "https://raw.githubusercontent.com/restrepo/ComputationalMethods/master/data/Followers.json\n",
        "\n",
        "Interprete los datos como un problema de caida libre y a partir del ajuste (fit) a la correspondiente ecuación de movimiento, determine\n",
        "1. La velocidad inicial de incremento de seguidores en `followers/hour`\n",
        "1. La aceleración constante en `followers/hour**2`\n",
        "1. El número máximo de seguidores que alcanzaría el perfil\n",
        "1. La fecha en la que se alcanzaría dicho máximo\n",
        "\n",
        "B) El período de  un pendulo de longitud $l$ oscilando a ángulos grandes  $\\alpha$, está dado por\n",
        "$$\n",
        "T=T_{0} \\frac{\\sqrt{2}}{\\pi} \\int_{0}^{\\alpha} \\frac{d \\theta}{(\\cos \\theta-\\cos \\alpha)^{\\frac{1}{2}}}\n",
        "$$\n",
        "donde\n",
        "$$\n",
        "T_{0}=2 \\pi \\sqrt{\\frac{l}{g}}\n",
        "$$\n",
        "es el período del mismo péndulo a pequeñas amplitudes. Culquier intento de evaluación numérico de esa integral debería fallar. Sin embargo, si hacemos el cambio de variable\n",
        "$$\n",
        "\\sin \\frac{\\theta}{2}=\\sin \\frac{\\alpha}{2} \\sin \\phi\n",
        "$$\n",
        "obtenemos\n",
        "$$\n",
        "T=\\frac{2 T_{0}}{\\pi} \\int_{0}^{\\frac{\\pi}{2}} \\frac{d \\phi}{\\left(1-\\sin ^{2} \\frac{\\alpha}{2} \\sin ^{2} \\phi\\right)^{\\frac{1}{2}}}\n",
        "$$\n",
        "que corresponde a una integral bien comportada. \n",
        "1. Escriba un programa que use la anterio integral para calcular el cociente  $T/T_0$ para ángulos enteros (en grados) $0^\\circ \\le\\alpha \\le 90^\\circ$.  \n",
        "1. Genere un DataFrame de pandas que contenga como columnas: la amplitud en grados, la amplitud en radianes, y el cociente $T/T_0$, \n",
        "1. Haga un gráfico de $T/T_0$ como función de $\\alpha$ (en grados). \n",
        "1. Explain the result when $\\alpha = 0.$ "
      ]
    },
    {
      "cell_type": "code",
      "metadata": {
        "id": "O7Z-MciCltq-"
      },
      "source": [
        "import numpy as np\n",
        "import sympy as sp\n",
        "import scipy as sc\n",
        "import pandas as pd\n",
        "from scipy.misc import derivative\n",
        "from sympy import init_printing\n",
        "from scipy import interpolate\n",
        "import matplotlib.pylab as plt\n",
        "from sympy import Symbol\n",
        "from scipy import misc\n",
        "from scipy import optimize\n",
        "from scipy import integrate\n",
        "import datetime \n",
        "from datetime import timedelta"
      ],
      "execution_count": 12,
      "outputs": []
    },
    {
      "cell_type": "code",
      "metadata": {
        "colab": {
          "base_uri": "https://localhost:8080/",
          "height": 419
        },
        "id": "--8NZDS4lyrM",
        "outputId": "126cab22-b2c5-4239-d09b-332dd7e65dc7"
      },
      "source": [
        "df=pd.read_json(\"https://raw.githubusercontent.com/restrepo/ComputationalMethods/master/data/Followers.json\") \n",
        "df"
      ],
      "execution_count": 13,
      "outputs": [
        {
          "output_type": "execute_result",
          "data": {
            "text/html": [
              "<div>\n",
              "<style scoped>\n",
              "    .dataframe tbody tr th:only-of-type {\n",
              "        vertical-align: middle;\n",
              "    }\n",
              "\n",
              "    .dataframe tbody tr th {\n",
              "        vertical-align: top;\n",
              "    }\n",
              "\n",
              "    .dataframe thead th {\n",
              "        text-align: right;\n",
              "    }\n",
              "</style>\n",
              "<table border=\"1\" class=\"dataframe\">\n",
              "  <thead>\n",
              "    <tr style=\"text-align: right;\">\n",
              "      <th></th>\n",
              "      <th>followers</th>\n",
              "      <th>date_time</th>\n",
              "      <th>hours</th>\n",
              "    </tr>\n",
              "  </thead>\n",
              "  <tbody>\n",
              "    <tr>\n",
              "      <th>0</th>\n",
              "      <td>42696</td>\n",
              "      <td>2021-08-04 22:06:53.668</td>\n",
              "      <td>0.000000</td>\n",
              "    </tr>\n",
              "    <tr>\n",
              "      <th>1</th>\n",
              "      <td>42706</td>\n",
              "      <td>2021-08-04 23:06:56.517</td>\n",
              "      <td>1.000791</td>\n",
              "    </tr>\n",
              "    <tr>\n",
              "      <th>2</th>\n",
              "      <td>42716</td>\n",
              "      <td>2021-08-05 00:06:59.505</td>\n",
              "      <td>2.001621</td>\n",
              "    </tr>\n",
              "    <tr>\n",
              "      <th>3</th>\n",
              "      <td>42734</td>\n",
              "      <td>2021-08-05 01:07:02.174</td>\n",
              "      <td>3.002363</td>\n",
              "    </tr>\n",
              "    <tr>\n",
              "      <th>4</th>\n",
              "      <td>42749</td>\n",
              "      <td>2021-08-05 02:07:04.854</td>\n",
              "      <td>4.003107</td>\n",
              "    </tr>\n",
              "    <tr>\n",
              "      <th>...</th>\n",
              "      <td>...</td>\n",
              "      <td>...</td>\n",
              "      <td>...</td>\n",
              "    </tr>\n",
              "    <tr>\n",
              "      <th>615</th>\n",
              "      <td>47452</td>\n",
              "      <td>2021-09-02 12:29:21.834</td>\n",
              "      <td>686.374491</td>\n",
              "    </tr>\n",
              "    <tr>\n",
              "      <th>616</th>\n",
              "      <td>47486</td>\n",
              "      <td>2021-09-02 19:59:32.801</td>\n",
              "      <td>693.877537</td>\n",
              "    </tr>\n",
              "    <tr>\n",
              "      <th>617</th>\n",
              "      <td>47491</td>\n",
              "      <td>2021-09-02 20:59:50.542</td>\n",
              "      <td>694.882465</td>\n",
              "    </tr>\n",
              "    <tr>\n",
              "      <th>618</th>\n",
              "      <td>47493</td>\n",
              "      <td>2021-09-02 21:59:59.345</td>\n",
              "      <td>695.884910</td>\n",
              "    </tr>\n",
              "    <tr>\n",
              "      <th>619</th>\n",
              "      <td>47498</td>\n",
              "      <td>2021-09-02 23:00:11.350</td>\n",
              "      <td>696.888245</td>\n",
              "    </tr>\n",
              "  </tbody>\n",
              "</table>\n",
              "<p>620 rows × 3 columns</p>\n",
              "</div>"
            ],
            "text/plain": [
              "     followers               date_time       hours\n",
              "0        42696 2021-08-04 22:06:53.668    0.000000\n",
              "1        42706 2021-08-04 23:06:56.517    1.000791\n",
              "2        42716 2021-08-05 00:06:59.505    2.001621\n",
              "3        42734 2021-08-05 01:07:02.174    3.002363\n",
              "4        42749 2021-08-05 02:07:04.854    4.003107\n",
              "..         ...                     ...         ...\n",
              "615      47452 2021-09-02 12:29:21.834  686.374491\n",
              "616      47486 2021-09-02 19:59:32.801  693.877537\n",
              "617      47491 2021-09-02 20:59:50.542  694.882465\n",
              "618      47493 2021-09-02 21:59:59.345  695.884910\n",
              "619      47498 2021-09-02 23:00:11.350  696.888245\n",
              "\n",
              "[620 rows x 3 columns]"
            ]
          },
          "metadata": {},
          "execution_count": 13
        }
      ]
    },
    {
      "cell_type": "code",
      "metadata": {
        "colab": {
          "base_uri": "https://localhost:8080/"
        },
        "id": "7KQxjtt_JsA-",
        "outputId": "c46e56b5-69d5-4347-ae4e-f1f18149b0ca"
      },
      "source": [
        "fit=np.polyfit(df.hours,df.followers,deg=2)              #ajuste (fit) \n",
        "p=np.poly1d(fit,variable=\"x\")                            #polinomio\n",
        "h=np.linspace(0,5000)                                    #arreglo con mas hora para poder ver la grafica completa \n",
        "v=fit[1]\n",
        "a=2*fit[0]\n",
        "print(p)\n",
        "print(\"La velocidad inicial de incremento de seguidores es: %5lf [followers/hour]\" %v)\n",
        "print(\"La aceleración constante es: %5lf [followers/hour**2]\" %a)"
      ],
      "execution_count": 14,
      "outputs": [
        {
          "output_type": "stream",
          "name": "stdout",
          "text": [
            "           2\n",
            "-0.002438 x + 8.552 x + 4.276e+04\n",
            "La velocidad inicial de incremento de seguidores es: 8.552138 [followers/hour]\n",
            "La aceleración constante es: -0.004875 [followers/hour**2]\n"
          ]
        }
      ]
    },
    {
      "cell_type": "code",
      "metadata": {
        "colab": {
          "base_uri": "https://localhost:8080/",
          "height": 279
        },
        "id": "xS1oZ0aPSYBn",
        "outputId": "3a47d746-90b8-4e3d-88d0-ce3fa9b9f4e2"
      },
      "source": [
        "plt.plot(h,p(h))                                        #grafica followers \n",
        "plt.xlabel(\"hours\")\n",
        "plt.ylabel(\"followers\")\n",
        "plt.grid()"
      ],
      "execution_count": 16,
      "outputs": [
        {
          "output_type": "display_data",
          "data": {
            "image/png": "[encoded data removed]",
            "text/plain": [
              "<Figure size 432x288 with 1 Axes>"
            ]
          },
          "metadata": {
            "needs_background": "light"
          }
        }
      ]
    },
    {
      "cell_type": "code",
      "metadata": {
        "colab": {
          "base_uri": "https://localhost:8080/"
        },
        "id": "JMUChiyyO-_7",
        "outputId": "b65f4db2-1e73-4d01-e84d-9a771658bdd9"
      },
      "source": [
        "x=Symbol(\"x\")\n",
        "wxn=sp.lambdify(x,-p(x),'numpy')                       \n",
        "min=optimize.fminbound(wxn,1000,1500)         #minimo de la funcion negativa para hallar el maximo\n",
        "max=p(abs(min))                               #maximo de la funcion\n",
        "\n",
        "\n",
        "fechai=df[\"date_time\"][0]\n",
        "fechamax=fechai+datetime.timedelta(hours=min)           #fecha de la hora en la que alcanzó el maximo\n",
        "\n",
        "print(\"El número máximo de seguidores que alcanzaría el perfil:%5lf\" %max)\n",
        "print(\"La fecha en la que se alcanzaría dicho máximo:%s\" %fechamax)"
      ],
      "execution_count": 17,
      "outputs": [
        {
          "output_type": "stream",
          "name": "stdout",
          "text": [
            "El número máximo de seguidores que alcanzaría el perfil:50104.631469\n",
            "La fecha en la que se alcanzaría dicho máximo:2021-10-06 10:06:53.531703\n"
          ]
        }
      ]
    },
    {
      "cell_type": "markdown",
      "metadata": {
        "id": "7Lk9IMburNub"
      },
      "source": [
        "#Se puede reescribir como:\n",
        "-\n",
        "$$\n",
        "\\frac{T}{T_{0}}=\\frac{2}{\\pi} \\int_{0}^{\\frac{\\pi}{2}} \\frac{d \\phi}{\\left(1-\\sin ^{2} \\frac{\\alpha}{2} \\sin ^{2} \\phi\\right)^{\\frac{1}{2}}}\n",
        "$$"
      ]
    },
    {
      "cell_type": "code",
      "metadata": {
        "id": "4b5yt5xp9xtx"
      },
      "source": [
        "def intgr(α,a,b):                                                               #α=ángulos enteros (en grados)  0≤α≤90, a y b son los limites de integracion\n",
        "  t=[]                                                                          # lista donde se van almacenar las funcioness dependiendo de los α\n",
        "  for i in α:       \n",
        "    f_= lambda x:(2/np.pi)*(1/((1-(np.sin(i/2)**2)*(np.sin(x)**2))**0.5))\n",
        "    t.append(f_)\n",
        "  t2=[]                                                                         #lista donde se van a almacenar los valores de las integrales \n",
        "  for i in range(0,len(t)):\n",
        "    integral=integrate.quad(t[i],a,b)\n",
        "    t2.append(integral[0])\n",
        "  return t2                                                                     #la funcion devolvera los valores de las integrales "
      ],
      "execution_count": 18,
      "outputs": []
    },
    {
      "cell_type": "code",
      "metadata": {
        "colab": {
          "base_uri": "https://localhost:8080/",
          "height": 419
        },
        "id": "Y4ob--_i-rlp",
        "outputId": "527e972f-8b87-44c4-85ae-2928aa307a2a"
      },
      "source": [
        "a=0                                            #limite inicial\n",
        "b=np.pi/2                                      #limite final \n",
        "α=np.linspace(0,90,90).astype(int)             #ángulos enteros (en grados)  0≤α≤90\n",
        "Arad=np.radians(α)                             # ángulos enteros (en radianes)  0≤α≤90\n",
        "l=intgr(α,a,b)                                 # Valores de la integral\n",
        "df = pd.DataFrame({'Amplitud[deg]':α ,\n",
        "                   'Amplitud[rad]':Arad ,\n",
        "                   'T/T0': l})\n",
        "\n",
        "df"
      ],
      "execution_count": 19,
      "outputs": [
        {
          "output_type": "execute_result",
          "data": {
            "text/html": [
              "<div>\n",
              "<style scoped>\n",
              "    .dataframe tbody tr th:only-of-type {\n",
              "        vertical-align: middle;\n",
              "    }\n",
              "\n",
              "    .dataframe tbody tr th {\n",
              "        vertical-align: top;\n",
              "    }\n",
              "\n",
              "    .dataframe thead th {\n",
              "        text-align: right;\n",
              "    }\n",
              "</style>\n",
              "<table border=\"1\" class=\"dataframe\">\n",
              "  <thead>\n",
              "    <tr style=\"text-align: right;\">\n",
              "      <th></th>\n",
              "      <th>Amplitud[deg]</th>\n",
              "      <th>Amplitud[rad]</th>\n",
              "      <th>T/T0</th>\n",
              "    </tr>\n",
              "  </thead>\n",
              "  <tbody>\n",
              "    <tr>\n",
              "      <th>0</th>\n",
              "      <td>0</td>\n",
              "      <td>0.000000</td>\n",
              "      <td>1.000000</td>\n",
              "    </tr>\n",
              "    <tr>\n",
              "      <th>1</th>\n",
              "      <td>1</td>\n",
              "      <td>0.017453</td>\n",
              "      <td>1.066334</td>\n",
              "    </tr>\n",
              "    <tr>\n",
              "      <th>2</th>\n",
              "      <td>2</td>\n",
              "      <td>0.034907</td>\n",
              "      <td>1.328904</td>\n",
              "    </tr>\n",
              "    <tr>\n",
              "      <th>3</th>\n",
              "      <td>3</td>\n",
              "      <td>0.052360</td>\n",
              "      <td>2.571234</td>\n",
              "    </tr>\n",
              "    <tr>\n",
              "      <th>4</th>\n",
              "      <td>4</td>\n",
              "      <td>0.069813</td>\n",
              "      <td>1.478815</td>\n",
              "    </tr>\n",
              "    <tr>\n",
              "      <th>...</th>\n",
              "      <td>...</td>\n",
              "      <td>...</td>\n",
              "      <td>...</td>\n",
              "    </tr>\n",
              "    <tr>\n",
              "      <th>85</th>\n",
              "      <td>85</td>\n",
              "      <td>1.483530</td>\n",
              "      <td>2.430536</td>\n",
              "    </tr>\n",
              "    <tr>\n",
              "      <th>86</th>\n",
              "      <td>86</td>\n",
              "      <td>1.500983</td>\n",
              "      <td>1.313679</td>\n",
              "    </tr>\n",
              "    <tr>\n",
              "      <th>87</th>\n",
              "      <td>87</td>\n",
              "      <td>1.518436</td>\n",
              "      <td>1.061456</td>\n",
              "    </tr>\n",
              "    <tr>\n",
              "      <th>88</th>\n",
              "      <td>88</td>\n",
              "      <td>1.535890</td>\n",
              "      <td>1.000078</td>\n",
              "    </tr>\n",
              "    <tr>\n",
              "      <th>89</th>\n",
              "      <td>90</td>\n",
              "      <td>1.570796</td>\n",
              "      <td>1.071434</td>\n",
              "    </tr>\n",
              "  </tbody>\n",
              "</table>\n",
              "<p>90 rows × 3 columns</p>\n",
              "</div>"
            ],
            "text/plain": [
              "    Amplitud[deg]  Amplitud[rad]      T/T0\n",
              "0               0       0.000000  1.000000\n",
              "1               1       0.017453  1.066334\n",
              "2               2       0.034907  1.328904\n",
              "3               3       0.052360  2.571234\n",
              "4               4       0.069813  1.478815\n",
              "..            ...            ...       ...\n",
              "85             85       1.483530  2.430536\n",
              "86             86       1.500983  1.313679\n",
              "87             87       1.518436  1.061456\n",
              "88             88       1.535890  1.000078\n",
              "89             90       1.570796  1.071434\n",
              "\n",
              "[90 rows x 3 columns]"
            ]
          },
          "metadata": {},
          "execution_count": 19
        }
      ]
    },
    {
      "cell_type": "code",
      "metadata": {
        "colab": {
          "base_uri": "https://localhost:8080/",
          "height": 279
        },
        "id": "ewhS3qgKB0oC",
        "outputId": "5ee1d9bf-484d-4a9d-f47c-321bdc0eddc4"
      },
      "source": [
        "plt.plot(df[\"Amplitud[deg]\"],df[\"T/T0\"])     #grafica de T/T0  como función de  α  (en grados)\n",
        "plt.ylabel(\"T/T0\")\n",
        "plt.xlabel(\"Amplitud[deg]\")\n",
        "plt.grid()"
      ],
      "execution_count": 20,
      "outputs": [
        {
          "output_type": "display_data",
          "data": {
            "image/png": "[encoded data removed]",
            "text/plain": [
              "<Figure size 432x288 with 1 Axes>"
            ]
          },
          "metadata": {
            "needs_background": "light"
          }
        }
      ]
    },
    {
      "cell_type": "markdown",
      "metadata": {
        "id": "Cbx7HnfEXX5M"
      },
      "source": [
        "cuando $\\alpha=0$ , \n",
        "tenemos que$T=T_0$ \n",
        "luego como la amplitud es igual a cero, los periodos sonn exactamente los mismos"
      ]
    }
  ]
}