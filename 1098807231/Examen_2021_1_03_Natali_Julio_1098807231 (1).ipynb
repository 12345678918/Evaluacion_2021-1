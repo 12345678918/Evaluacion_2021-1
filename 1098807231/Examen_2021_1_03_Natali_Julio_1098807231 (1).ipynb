{
  "nbformat": 4,
  "nbformat_minor": 0,
  "metadata": {
    "kernelspec": {
      "display_name": "Python 3 (ipykernel)",
      "language": "python",
      "name": "python3"
    },
    "language_info": {
      "codemirror_mode": {
        "name": "ipython",
        "version": 3
      },
      "file_extension": ".py",
      "mimetype": "text/x-python",
      "name": "python",
      "nbconvert_exporter": "python",
      "pygments_lexer": "ipython3",
      "version": "3.7.3"
    },
    "colab": {
      "name": " Examen_2021_1_03_Natali_Julio_1098807231.ipynb",
      "provenance": []
    }
  },
  "cells": [
    {
      "cell_type": "markdown",
      "metadata": {
        "id": "40WhQJy2EWqx"
      },
      "source": [
        "# Casas-Ibarra\n",
        "Let $\\boldsymbol{A}$ $3\\times3$ a symmetric non-diagonal matrix with the following set of eigenvalues and eigenvectors:\n"
      ]
    },
    {
      "cell_type": "markdown",
      "metadata": {
        "id": "cwKjVMtNvgl0"
      },
      "source": [
        "____"
      ]
    },
    {
      "cell_type": "markdown",
      "metadata": {
        "id": "G-uQDCOkvgl0"
      },
      "source": [
        "### Eigenvalues\n",
        "The normal ordering of the absolute value of the eigenvalues is $m_1<m_2<m_3$. Each eigenvalue is expressed in units of eV, which just of an energy unit.\n",
        "### Eigenvectors\n",
        "The eigenvectors in the normal ordering are defined by\n",
        "$$\n",
        "\\boldsymbol{U}^T \\boldsymbol{A} \\boldsymbol{U}=\n",
        "\\begin{pmatrix}\n",
        "m_1& 0 & 0\\\\\n",
        "0 & m_2& 0\\\\\n",
        "0 & 0 & m_3\\\\\n",
        "\\end{pmatrix}.\n",
        "$$\n",
        "The unitary matrix can be parameterized in terms of three mixing angles, $\\theta_{23}$ $\\theta_{13}$, $\\theta_{12}$, such that\n",
        "$$\n",
        "\\boldsymbol{U}=\\left(\\begin{array}{ccc}\n",
        "1 & 0 & 0 \\\\\n",
        "0 & c_{23} & s_{23} \\\\\n",
        "0 & -s_{23} & c_{23}\n",
        "\\end{array}\\right) \\cdot\\left(\\begin{array}{ccc}\n",
        "c_{13} & 0 & s_{13}  \\\\\n",
        "0 & 1 & 0 \\\\\n",
        "-s_{13}  & 0 & c_{13}\n",
        "\\end{array}\\right) \\cdot\\left(\\begin{array}{ccc}\n",
        "c_{12} & s_{12} & 0 \\\\\n",
        "-s_{12} & c_{12} & 0 \\\\\n",
        "0 & 0 & 1\n",
        "\\end{array}\\right),\n",
        "$$\n",
        "where $c_{i j} \\equiv \\cos \\theta_{i j}$ and $s_{i j} \\equiv \\sin \\theta_{i j}$. Thus, we can write $\\boldsymbol{U}$ as\n",
        "$$\n",
        "\\boldsymbol{U}=\\left(\\begin{array}{ccc}c_{12} c_{13} & s_{12} c_{13} & s_{13}  \\\\ -s_{12} c_{23}-c_{12} s_{13} s_{23}& c_{12} c_{23}-s_{12} s_{13} s_{23}  & c_{13} s_{23} \\\\ s_{12} s_{23}-c_{12} s_{13} c_{23} & -c_{12} s_{23}-s_{12} s_{13} c_{23}  & c_{13} c_{23}\\end{array}\\right)\n",
        "$$\n",
        "so that\n",
        "$$\n",
        "\\boldsymbol{U}_1=\\begin{pmatrix}U_{e1}\\\\ U_{\\mu 1}\\\\ U_{\\tau 1}\\end{pmatrix}=\\begin{pmatrix}\n",
        "c_{12} c_{13} \\\\\n",
        "-s_{12} c_{23}-c_{12} s_{13} s_{23}  \\\\\n",
        "s_{12} s_{23}-c_{12} s_{13} c_{23} \n",
        "\\end{pmatrix},\\qquad \n",
        "\\boldsymbol{U}_2=\\begin{pmatrix}U_{e2}\\\\ U_{\\mu 2}\\\\ U_{\\tau 2}\\end{pmatrix}=\\begin{pmatrix}\n",
        "s_{12} c_{13} \\\\\n",
        "c_{12} c_{23}-s_{12} s_{13} s_{23}  \\\\\n",
        "-c_{12} s_{23}-s_{12} s_{13} c_{23} \n",
        "\\end{pmatrix},\\qquad\n",
        "\\boldsymbol{U}_3=\\begin{pmatrix}U_{e3}\\\\ U_{\\mu 3}\\\\ U_{\\tau 3}\\end{pmatrix}=\\begin{pmatrix}\n",
        "s_{13}  \\\\\n",
        "c_{13} s_{23} \\\\\n",
        "c_{13} c_{23}\n",
        "\\end{pmatrix}\n",
        "$$\n",
        "\n",
        "### Data\n",
        "Use the _central values_  of the following table but ignoring $\\delta_{CP}$ (In the previous equations was fixed to $\\delta_{CP}=0$). __Hint__: take care of the denominator in the first colum.\n",
        "\n",
        "![IMAGE](https://github.com/restrepo/ComputationalMethods/raw/master/material/figures/nu.png)\n",
        "\n",
        "where $\\Delta m^2_{ij}=m^2_i-m^2_j$ is the squared mass difference between eigenvalues $i$ and $j$; in units of $\\text{eV}^2$.\n"
      ]
    },
    {
      "cell_type": "markdown",
      "metadata": {
        "id": "bnSCrqmSvgl1"
      },
      "source": [
        "### Casas-Ibarra parameterization\n",
        "We can assumme without lost of generality that $\\boldsymbol{A}$ can be generated from a matrix $\\boldsymbol{Y}$ such that\n",
        "$$\n",
        "\\boldsymbol{A}=\\boldsymbol{Y}^{\\operatorname{T}}\\boldsymbol{Y}\n",
        "$$\n",
        "\n",
        "The matrix $\\boldsymbol{Y}$ can be parameterized in terms of an arbitray orthogonal $3\\times 3$ matrix, $\\boldsymbol{R}$, as\n",
        "$$\n",
        "\\boldsymbol{Y}=\\boldsymbol{R} \\boldsymbol{D}_{\\sqrt{m}} \\boldsymbol{U}^{\\operatorname{T}}\n",
        "$$\n",
        "\n",
        "\n",
        "* $R$ is an orthogonal $3\\times 3$ matrix, with three rotation angles $\\alpha_{ij}$ between $(0,2\\pi)$\n",
        "$$\n",
        "\\boldsymbol{R}=\\left(\\begin{array}{ccc}c^\\alpha_{12} c^\\alpha_{13} & s^\\alpha_{12} c^\\alpha_{13} & s^\\alpha_{13}  \\\\ -s^\\alpha_{12} c^\\alpha_{23}-c^\\alpha_{12} s^\\alpha_{13} s^\\alpha_{23}& c^\\alpha_{12} c^\\alpha_{23}-s^\\alpha_{12} s^\\alpha_{13} s^\\alpha_{23}  & c^\\alpha_{13} s^\\alpha_{23} \\\\ s^\\alpha_{12} s^\\alpha_{23}-c^\\alpha_{12} s^\\alpha_{13} c^\\alpha_{23} & -c^\\alpha_{12} s^\\alpha_{23}-s^\\alpha_{12} s^\\alpha_{13} c^\\alpha_{23}  & c^\\alpha_{13} c^\\alpha_{23}\\end{array}\\right)\n",
        "$$\n",
        "where $c^\\alpha_{i j} \\equiv \\cos \\alpha_{i j}$ and $s^\\alpha_{i j} \\equiv \\sin \\alpha_{i j}$.\n",
        "\n",
        "* $$\n",
        " \\boldsymbol{D}_{\\sqrt{m}}=\\operatorname{diag}\\left(\\sqrt{m_1},\\sqrt{m_2},\\sqrt{m_3}\\right)\n",
        "$$"
      ]
    },
    {
      "cell_type": "markdown",
      "metadata": {
        "id": "Iqj7EWSPvgl3"
      },
      "source": [
        "### Problem\n",
        "1. Choose a random value for $m_1$ between $10^{-9}\\ \\text{eV}$ and $10^{-4}\\ \\text{eV}$. Note that because of the wide range, the random variation  must be in the exponents. Obtain the corresponding $m_2$ and $m_3$ with the proper normal ordering.\n",
        "1. Choose random values for $\\alpha_{ij}$  between $(0,2\\pi)$\n",
        "1. Obtain $\\boldsymbol{Y}$\n",
        "1. Check that the generated $\\boldsymbol{A}$ has the proper eigenvalues and eigenvectors\n",
        "1. Check that the eigenvalues of $\\boldsymbol{Y}$ correspond to the square root of the eigenvalues of $\\boldsymbol{A}$ and explain why."
      ]
    },
    {
      "cell_type": "code",
      "metadata": {
        "id": "2J0n-8Rfvqks"
      },
      "source": [
        "import numpy as np\n",
        "import matplotlib.pyplot as plt\n",
        "import scipy.linalg as la\n",
        "import random"
      ],
      "execution_count": 1,
      "outputs": []
    },
    {
      "cell_type": "markdown",
      "metadata": {
        "id": "KHb_kCnzutV9"
      },
      "source": [
        "### Punto 1:   Choose a random value for $m_1$ between $10^{-9}\\ \\text{eV}$ and $10^{-4}\\ \\text{eV}$. Note that because of the wide range, the random variation  must be in the exponents. Obtain the corresponding $m_2$ and $m_3$ with the proper normal ordering."
      ]
    },
    {
      "cell_type": "code",
      "metadata": {
        "colab": {
          "base_uri": "https://localhost:8080/"
        },
        "id": "8MwPMkyw0oYW",
        "outputId": "84ab1378-aa2b-4af0-b567-f374cf72880f"
      },
      "source": [
        "#numero aleatorio entre 1e-9 y 1e-4\n",
        "m1 = random.uniform(1e-9,1e-4)\n",
        "m1"
      ],
      "execution_count": 2,
      "outputs": [
        {
          "output_type": "execute_result",
          "data": {
            "text/plain": [
              "1.5406146972492148e-05"
            ]
          },
          "metadata": {},
          "execution_count": 2
        }
      ]
    },
    {
      "cell_type": "markdown",
      "metadata": {
        "id": "c19MnSPBVk9H"
      },
      "source": [
        "se tiene que:\n",
        "\n",
        "$\\frac { \\Delta  m^2_{21}}{10^-5 eV^2}=7.39 $ (1)\n",
        "\n",
        "$\\frac { \\Delta  m^2_{32}}{10^-3 eV^2}=2.44 $ (2)\n",
        "\n",
        "$\\Delta m^2_{ij}=m^2_i-m^2_j$ (3)\n",
        "\n",
        "se reemplaza (3) en (1) y (2) y se despejan m2 y m3 de la siguiente forma:\n",
        "\n",
        "$\\frac { m^2_2-m^2_1}{10^-5 eV^2}=7.39 $\n",
        "\n",
        "$ m_2=\\sqrt{7.39(10^-5)+m^2_1} $ (3)\n",
        "\n",
        "y\n",
        "\n",
        "\n",
        "$\\frac { m^2_3-m^2_2}{10^-3 eV^2}=2.44 $\n",
        "\n",
        "$ m_3=\\sqrt{2.44(10^-3)+m^2_2} $ (4)\n",
        "\n"
      ]
    },
    {
      "cell_type": "code",
      "metadata": {
        "colab": {
          "base_uri": "https://localhost:8080/"
        },
        "id": "WPnte5AA3HjM",
        "outputId": "382a708a-601e-4e2a-d44e-a308f81b7318"
      },
      "source": [
        "m2 = np.sqrt((7.39e-5)+m1**2)\n",
        "m2"
      ],
      "execution_count": 3,
      "outputs": [
        {
          "output_type": "execute_result",
          "data": {
            "text/plain": [
              "0.008596524725106334"
            ]
          },
          "metadata": {},
          "execution_count": 3
        }
      ]
    },
    {
      "cell_type": "code",
      "metadata": {
        "colab": {
          "base_uri": "https://localhost:8080/"
        },
        "id": "a11B2dDR7rsg",
        "outputId": "101df9c8-df22-40c5-ce82-a7f76844dfa6"
      },
      "source": [
        "m3 = np.sqrt(2.44e-3+m2**2)\n",
        "m3"
      ],
      "execution_count": 4,
      "outputs": [
        {
          "output_type": "execute_result",
          "data": {
            "text/plain": [
              "0.050138809692187196"
            ]
          },
          "metadata": {},
          "execution_count": 4
        }
      ]
    },
    {
      "cell_type": "code",
      "metadata": {
        "colab": {
          "base_uri": "https://localhost:8080/"
        },
        "id": "K-qzVAGKbT_0",
        "outputId": "828842fe-4bc2-41d5-9ec6-0024c576f302"
      },
      "source": [
        "# asegurando que m1<m2<m3\n",
        "m = [m3,m2,m1]\n",
        "m.sort()\n",
        "print(m)"
      ],
      "execution_count": 5,
      "outputs": [
        {
          "output_type": "stream",
          "name": "stdout",
          "text": [
            "[1.5406146972492148e-05, 0.008596524725106334, 0.050138809692187196]\n"
          ]
        }
      ]
    },
    {
      "cell_type": "markdown",
      "metadata": {
        "id": "S0GwmwY-u6Sw"
      },
      "source": [
        "### Punto 2: Choose random values for $\\alpha_{ij}$  between $(0,2\\pi)$"
      ]
    },
    {
      "cell_type": "code",
      "metadata": {
        "colab": {
          "base_uri": "https://localhost:8080/"
        },
        "id": "EELxQAaD9TcL",
        "outputId": "5646fdbf-f063-4c8d-a04f-6706be6491eb"
      },
      "source": [
        "#valores random de aplha en radianes \n",
        "a12 = random.uniform(0,2*np.pi)\n",
        "a13 = random.uniform(0,2*np.pi)\n",
        "a23 = random.uniform(0,2*np.pi)\n",
        "\n",
        "print(a12,a13,a23)"
      ],
      "execution_count": 6,
      "outputs": [
        {
          "output_type": "stream",
          "name": "stdout",
          "text": [
            "3.957756338178937 1.5933177471300743 2.338007256650127\n"
          ]
        }
      ]
    },
    {
      "cell_type": "markdown",
      "metadata": {
        "id": "Ec0-TSqQvKAc"
      },
      "source": [
        "### Punto 3:Obtain $\\boldsymbol{Y}$\n"
      ]
    },
    {
      "cell_type": "code",
      "metadata": {
        "colab": {
          "base_uri": "https://localhost:8080/"
        },
        "id": "dLkibmvQD3LK",
        "outputId": "4edd275c-2ce0-4cf5-a97b-6f262688a648"
      },
      "source": [
        "#valores de theta convertidos a radianes\n",
        "θ12 = np.radians(33.82)\n",
        "θ13 = np.radians(8.61)\n",
        "θ23 = np.radians(48.3)\n",
        "\n",
        "print(θ12,θ13,θ23)"
      ],
      "execution_count": 7,
      "outputs": [
        {
          "output_type": "stream",
          "name": "stdout",
          "text": [
            "0.5902703530244823 0.15027284859671178 0.8429940287132611\n"
          ]
        }
      ]
    },
    {
      "cell_type": "code",
      "metadata": {
        "id": "JFwvJssD_m46"
      },
      "source": [
        "#matriz diagonal de m1,m2,m3\n",
        "d1 = np.array([m1,0,0])\n",
        "d2 = np.array([0,m2,0])\n",
        "d3 = np.array([0,0,m3])\n",
        "d = np.array([d1,d2,d3])\n",
        "D = np.asmatrix(d)\n",
        "Dr = np.sqrt(D)  #Dr es la raiz cuadrada de la matriz D\n"
      ],
      "execution_count": 8,
      "outputs": []
    },
    {
      "cell_type": "code",
      "metadata": {
        "id": "gZgiiRUfJqaB"
      },
      "source": [
        "#senos y cosenos con valores de aplha\n",
        "c12 = np.cos(a12)\n",
        "c13 = np.cos(a13)\n",
        "c23 = np.cos(a23)\n",
        "s12 = np.sin(a12)\n",
        "s13 = np.sin(a13)\n",
        "s23 = np.sin(a23)"
      ],
      "execution_count": 9,
      "outputs": []
    },
    {
      "cell_type": "code",
      "metadata": {
        "id": "G0ltvugyCAcV"
      },
      "source": [
        "#matriz R\n",
        "r1 = np.array([c12*c13,s12*c13,s13])\n",
        "r2 = np.array([(-s12*c23)-(c12*s13*s23),(c12*c23)-(s12*s13*s23),c13*s23])\n",
        "r3 = np.array([(s12*s23)-(c12*s13*c23),(-c12*s23)-(s12*s13*c23),c13*c23])\n",
        "r = np.array([r1,r2,r3])\n",
        "R = np.asmatrix(r)\n"
      ],
      "execution_count": 10,
      "outputs": []
    },
    {
      "cell_type": "code",
      "metadata": {
        "id": "DJe_i_imLLfZ"
      },
      "source": [
        "#senos y cosenos con valores de theta\n",
        "C12 = np.cos(θ12)\n",
        "C13 = np.cos(θ13)\n",
        "C23 = np.cos(θ23)\n",
        "S12 = np.sin(θ12)\n",
        "S13 = np.sin(θ13)\n",
        "S23 = np.sin(θ23)\n"
      ],
      "execution_count": 11,
      "outputs": []
    },
    {
      "cell_type": "code",
      "metadata": {
        "id": "HYhiZapiMB_U"
      },
      "source": [
        "#matrix U\n",
        "u1 = np.array([C12*C13,S12*C13,S13])\n",
        "u2 = np.array([(-S12*C23)-(C12*S13*S23),(C12*C23)-(S12*S13*S23),C13*S23])\n",
        "u3 = np.array([(S12*S23)-(C12*S13*C23),(-C12*S23)-(S12*S13*C23),C13*C23])\n",
        "u = np.array([u1,u2,u3])\n",
        "U = np.asmatrix(u)"
      ],
      "execution_count": 12,
      "outputs": []
    },
    {
      "cell_type": "code",
      "metadata": {
        "colab": {
          "base_uri": "https://localhost:8080/"
        },
        "id": "Bp78gnVzNekO",
        "outputId": "1369e023-86a2-4aef-afe0-7e9dd860a2bb"
      },
      "source": [
        "#matrix Y\n",
        "Y = R @ Dr @ U.T\n",
        "Y"
      ],
      "execution_count": 13,
      "outputs": [
        {
          "output_type": "execute_result",
          "data": {
            "text/plain": [
              "matrix([[ 0.03440047,  0.16597691,  0.1462326 ],\n",
              "        [ 0.05042843,  0.04280736, -0.06504275],\n",
              "        [-0.00333474,  0.00383518,  0.00177605]])"
            ]
          },
          "metadata": {},
          "execution_count": 13
        }
      ]
    },
    {
      "cell_type": "markdown",
      "metadata": {
        "id": "OF8syuAhvUGt"
      },
      "source": [
        "### Punto 4: Check that the generated $\\boldsymbol{A}$ has the proper eigenvalues and eigenvectors\n",
        "\n",
        " "
      ]
    },
    {
      "cell_type": "code",
      "metadata": {
        "colab": {
          "base_uri": "https://localhost:8080/"
        },
        "id": "GM3Q9YqqOC7w",
        "outputId": "dd01539f-1022-4cd6-fe5f-7183bfe459a3"
      },
      "source": [
        "#matrix A\n",
        "A = Y.T @ Y\n",
        "A"
      ],
      "execution_count": 14,
      "outputs": [
        {
          "output_type": "execute_result",
          "data": {
            "text/plain": [
              "matrix([[0.00373754, 0.0078556 , 0.00174454],\n",
              "        [0.0078556 , 0.02939551, 0.02149374],\n",
              "        [0.00174454, 0.02149374, 0.02561769]])"
            ]
          },
          "metadata": {},
          "execution_count": 14
        }
      ]
    },
    {
      "cell_type": "code",
      "metadata": {
        "colab": {
          "base_uri": "https://localhost:8080/"
        },
        "id": "Jw7JPKZbOgz4",
        "outputId": "26415289-2304-4588-874c-cae386e89536"
      },
      "source": [
        "# E=autoovalores, V=autovectores de la matriz A\n",
        "E,V = la.eig(A)\n",
        "print(E) #vemos que los auto valores de a son m1,m2 y m3 pero en desorden\n",
        "print(m1,m2,m3)"
      ],
      "execution_count": 15,
      "outputs": [
        {
          "output_type": "stream",
          "name": "stdout",
          "text": [
            "[5.01388097e-02+0.j 1.54061470e-05+0.j 8.59652473e-03+0.j]\n",
            "1.5406146972492148e-05 0.008596524725106334 0.050138809692187196\n"
          ]
        }
      ]
    },
    {
      "cell_type": "code",
      "metadata": {
        "colab": {
          "base_uri": "https://localhost:8080/"
        },
        "id": "Vvw-qWX1j7SF",
        "outputId": "76766d97-b93b-44a0-d056-b40b877372e1"
      },
      "source": [
        "#matriz de auto vectores en orden apropiado \n",
        "AU = U.T @ A @ U\n",
        "\n",
        "print(AU)\n",
        "#Vemos m1,m2,m3 en la diagonal de la matriz de autovectores y lo demas son ceros computacionales"
      ],
      "execution_count": 16,
      "outputs": [
        {
          "output_type": "stream",
          "name": "stdout",
          "text": [
            "[[ 1.54061470e-05  3.04829004e-19 -3.96268369e-19]\n",
            " [ 2.10633438e-19  8.59652473e-03  4.49198923e-19]\n",
            " [-1.84907466e-18 -1.09456649e-18  5.01388097e-02]]\n"
          ]
        }
      ]
    },
    {
      "cell_type": "markdown",
      "metadata": {
        "id": "eariTZjehRng"
      },
      "source": [
        "### Punto 5:Check that the eigenvalues of $\\boldsymbol{Y}$ correspond to the square root of the eigenvalues of $\\boldsymbol{A}$ and explain why."
      ]
    },
    {
      "cell_type": "code",
      "metadata": {
        "colab": {
          "base_uri": "https://localhost:8080/"
        },
        "id": "rWDEEjJehfPz",
        "outputId": "654d4aec-0a74-43fc-e602-044a7b5d633d"
      },
      "source": [
        "print(E) #autovalores de la matriz A"
      ],
      "execution_count": 17,
      "outputs": [
        {
          "output_type": "stream",
          "name": "stdout",
          "text": [
            "[5.01388097e-02+0.j 1.54061470e-05+0.j 8.59652473e-03+0.j]\n"
          ]
        }
      ]
    },
    {
      "cell_type": "code",
      "metadata": {
        "colab": {
          "base_uri": "https://localhost:8080/"
        },
        "id": "37J2Q9NNnMFo",
        "outputId": "6b41d9d4-fc80-4df1-94d0-c0358c30c3fb"
      },
      "source": [
        "EY,VY = la.eig(Y) # EY=autovalores de la  matriz Y, VY=autovectores de la matriz Y\n",
        "print(EY)"
      ],
      "execution_count": 18,
      "outputs": [
        {
          "output_type": "stream",
          "name": "stdout",
          "text": [
            "[ 0.13009614+0.j -0.03072773+0.j -0.02038452+0.j]\n"
          ]
        }
      ]
    },
    {
      "cell_type": "code",
      "metadata": {
        "colab": {
          "base_uri": "https://localhost:8080/"
        },
        "id": "e-k3NxCMhd1l",
        "outputId": "94483c77-a66d-450e-bfc7-db709d7053c8"
      },
      "source": [
        "print(E**0.5) # raiz cuadrada de los valores propios de la matriz A"
      ],
      "execution_count": 19,
      "outputs": [
        {
          "output_type": "stream",
          "name": "stdout",
          "text": [
            "[0.22391697+0.j 0.00392507+0.j 0.09271745+0.j]\n"
          ]
        }
      ]
    },
    {
      "cell_type": "markdown",
      "metadata": {
        "id": "ohX7ij2t2lnz"
      },
      "source": [
        "Rta/: se evidencia que los autovalores de Y son parecidos a la raiz cuadrada de los autovalores de A y se le atribuye el que no sean iguales a los errores en los valores de m1,m2,m3 que no se tomaron en cuenta\n",
        " \n",
        "$A=Y^TY$\n",
        "\n",
        "reemplanzando lo anterior\n",
        "\n",
        "\n",
        "$diag(m_i)=UAU^T=UY^TYU^T=UY^TU^TUYU^T=diag(eigenvals(Y^T))diag(eigenvals(Y)=diag(eigenvals(Y^{T})*eigenvals(Y))$\n",
        "\n",
        "pero sabemos que\n",
        "\n",
        "$eigenvals(Y^T) = eigenvals(Y)$\n",
        "\n",
        "$diag(eigenvals(Y^T)*eigenvals(Y))=diag(eigenvals(Y)^2)$\n",
        "\n",
        "entonces\n",
        "\n",
        "\n",
        "$UAU^{T}=diag(eigenvals(A))= diag(eigenvals(Y)^2)$\n",
        "\n",
        "\n",
        "\n"
      ]
    }
  ]
}