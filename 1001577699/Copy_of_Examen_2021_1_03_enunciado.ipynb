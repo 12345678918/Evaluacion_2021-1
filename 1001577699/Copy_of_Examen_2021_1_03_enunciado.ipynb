{
  "nbformat": 4,
  "nbformat_minor": 0,
  "metadata": {
    "kernelspec": {
      "display_name": "Python 3 (ipykernel)",
      "language": "python",
      "name": "python3"
    },
    "language_info": {
      "codemirror_mode": {
        "name": "ipython",
        "version": 3
      },
      "file_extension": ".py",
      "mimetype": "text/x-python",
      "name": "python",
      "nbconvert_exporter": "python",
      "pygments_lexer": "ipython3",
      "version": "3.7.3"
    },
    "colab": {
      "name": "Copy of Examen_2021_1_03_enunciado.ipynb",
      "provenance": [],
      "collapsed_sections": []
    }
  },
  "cells": [
    {
      "cell_type": "markdown",
      "metadata": {
        "id": "40WhQJy2EWqx"
      },
      "source": [
        "# Casas-Ibarra Parametrisation\n",
        "## Juan David Salcedo Hernández\n",
        "Let $\\boldsymbol{A}$ be a $3 \\times 3$ symmetric, non-diagonal matrix with the following set of eigenvalues and eigenvectors:\n"
      ]
    },
    {
      "cell_type": "markdown",
      "metadata": {
        "id": "cwKjVMtNvgl0"
      },
      "source": [
        "____"
      ]
    },
    {
      "cell_type": "markdown",
      "metadata": {
        "id": "G-uQDCOkvgl0"
      },
      "source": [
        "### Eigenvalues\n",
        "The normal ordering of the absolute value of the eigenvalues is $m_1<m_2<m_3$. Each eigenvalue is expressed in units of eV, which just of an energy unit.\n",
        "### Eigenvectors\n",
        "The eigenvectors in the normal ordering are defined by\n",
        "$$\n",
        "\\boldsymbol{U}^T \\boldsymbol{A} \\boldsymbol{U}=\n",
        "\\begin{pmatrix}\n",
        "m_1& 0 & 0\\\\\n",
        "0 & m_2& 0\\\\\n",
        "0 & 0 & m_3\\\\\n",
        "\\end{pmatrix}.\n",
        "$$\n",
        "The unitary matrix can be parameterized in terms of three mixing angles, $\\theta_{23}$ $\\theta_{13}$, $\\theta_{12}$, such that\n",
        "$$\n",
        "\\boldsymbol{U}=\\left(\\begin{array}{ccc}\n",
        "1 & 0 & 0 \\\\\n",
        "0 & c_{23} & s_{23} \\\\\n",
        "0 & -s_{23} & c_{23}\n",
        "\\end{array}\\right) \\cdot\\left(\\begin{array}{ccc}\n",
        "c_{13} & 0 & s_{13}  \\\\\n",
        "0 & 1 & 0 \\\\\n",
        "-s_{13}  & 0 & c_{13}\n",
        "\\end{array}\\right) \\cdot\\left(\\begin{array}{ccc}\n",
        "c_{12} & s_{12} & 0 \\\\\n",
        "-s_{12} & c_{12} & 0 \\\\\n",
        "0 & 0 & 1\n",
        "\\end{array}\\right),\n",
        "$$\n",
        "where $c_{i j} \\equiv \\cos \\theta_{i j}$ and $s_{i j} \\equiv \\sin \\theta_{i j}$. Thus, we can write $\\boldsymbol{U}$ as\n",
        "$$\n",
        "\\boldsymbol{U}=\\left(\\begin{array}{ccc}c_{12} c_{13} & s_{12} c_{13} & s_{13}  \\\\ -s_{12} c_{23}-c_{12} s_{13} s_{23}& c_{12} c_{23}-s_{12} s_{13} s_{23}  & c_{13} s_{23} \\\\ s_{12} s_{23}-c_{12} s_{13} c_{23} & -c_{12} s_{23}-s_{12} s_{13} c_{23}  & c_{13} c_{23}\\end{array}\\right)\n",
        "$$\n",
        "so that\n",
        "$$\n",
        "\\boldsymbol{U}_1=\\begin{pmatrix}U_{e1}\\\\ U_{\\mu 1}\\\\ U_{\\tau 1}\\end{pmatrix}=\\begin{pmatrix}\n",
        "c_{12} c_{13} \\\\\n",
        "-s_{12} c_{23}-c_{12} s_{13} s_{23}  \\\\\n",
        "s_{12} s_{23}-c_{12} s_{13} c_{23} \n",
        "\\end{pmatrix},\\qquad \n",
        "\\boldsymbol{U}_2=\\begin{pmatrix}U_{e2}\\\\ U_{\\mu 2}\\\\ U_{\\tau 2}\\end{pmatrix}=\\begin{pmatrix}\n",
        "s_{12} c_{13} \\\\\n",
        "c_{12} c_{23}-s_{12} s_{13} s_{23}  \\\\\n",
        "-c_{12} s_{23}-s_{12} s_{13} c_{23} \n",
        "\\end{pmatrix},\\qquad\n",
        "\\boldsymbol{U}_3=\\begin{pmatrix}U_{e3}\\\\ U_{\\mu 3}\\\\ U_{\\tau 3}\\end{pmatrix}=\\begin{pmatrix}\n",
        "s_{13}  \\\\\n",
        "c_{13} s_{23} \\\\\n",
        "c_{13} c_{23}\n",
        "\\end{pmatrix}\n",
        "$$\n",
        "\n",
        "### Data\n",
        "Use the _central values_  of the following table but ignoring $\\delta_{CP}$ (In the previous equations was fixed to $\\delta_{CP}=0$). __Hint__: take care of the denominator in the first colum.\n",
        "\n",
        "![IMAGE](https://github.com/restrepo/ComputationalMethods/raw/master/material/figures/nu.png)\n",
        "\n",
        "where $\\Delta m^2_{ij}=m^2_i-m^2_j$ is the squared mass difference between eigenvalues $i$ and $j$; in units of $\\text{eV}^2$.\n"
      ]
    },
    {
      "cell_type": "markdown",
      "metadata": {
        "id": "bnSCrqmSvgl1"
      },
      "source": [
        "### Casas-Ibarra parameterization\n",
        "We can assumme without lost of generality that $\\boldsymbol{A}$ can be generated from a matrix $\\boldsymbol{Y}$ such that\n",
        "$$\n",
        "\\boldsymbol{A}=\\boldsymbol{Y}^{\\operatorname{T}}\\boldsymbol{Y}\n",
        "$$\n",
        "\n",
        "The matrix $\\boldsymbol{Y}$ can be parameterized in terms of an arbitray orthogonal $3\\times 3$ matrix, $\\boldsymbol{R}$, as\n",
        "$$\n",
        "\\boldsymbol{Y}=\\boldsymbol{R} \\boldsymbol{D}_{\\sqrt{m}} \\boldsymbol{U}^{\\operatorname{T}}\n",
        "$$\n",
        "\n",
        "\n",
        "* $R$ is an orthogonal $3\\times 3$ matrix, with three rotation angles $\\alpha_{ij}$ between $(0,2\\pi)$\n",
        "$$\n",
        "\\boldsymbol{R}=\\left(\\begin{array}{ccc}c^\\alpha_{12} c^\\alpha_{13} & s^\\alpha_{12} c^\\alpha_{13} & s^\\alpha_{13}  \\\\ -s^\\alpha_{12} c^\\alpha_{23}-c^\\alpha_{12} s^\\alpha_{13} s^\\alpha_{23}& c^\\alpha_{12} c^\\alpha_{23}-s^\\alpha_{12} s^\\alpha_{13} s^\\alpha_{23}  & c^\\alpha_{13} s^\\alpha_{23} \\\\ s^\\alpha_{12} s^\\alpha_{23}-c^\\alpha_{12} s^\\alpha_{13} c^\\alpha_{23} & -c^\\alpha_{12} s^\\alpha_{23}-s^\\alpha_{12} s^\\alpha_{13} c^\\alpha_{23}  & c^\\alpha_{13} c^\\alpha_{23}\\end{array}\\right)\n",
        "$$\n",
        "where $c^\\alpha_{i j} \\equiv \\cos \\alpha_{i j}$ and $s^\\alpha_{i j} \\equiv \\sin \\alpha_{i j}$.\n",
        "\n",
        "* $$\n",
        " \\boldsymbol{D}_{\\sqrt{m}}=\\operatorname{diag}\\left(\\sqrt{m_1},\\sqrt{m_2},\\sqrt{m_3}\\right)\n",
        "$$"
      ]
    },
    {
      "cell_type": "markdown",
      "metadata": {
        "id": "Iqj7EWSPvgl3"
      },
      "source": [
        "### Problem\n",
        "1. Choose a random value for $m_1$ between $10^{-9}\\ \\text{eV}$ and $10^{-4}\\ \\text{eV}$. Note that because of the wide range, the random variation  must be in the exponents. Obtain the corresponding $m_2$ and $m_3$ with the proper normal ordering.\n",
        "1. Choose random values for $\\alpha_{ij}$  between $(0,2\\pi)$\n",
        "1. Obtain $\\boldsymbol{Y}$\n",
        "1. Check that the generated $\\boldsymbol{A}$ has the proper eigenvalues and eigenvectors\n",
        "1. Check that the eigenvalues of $\\boldsymbol{Y}$ correspond to the square root of the eigenvalues of $\\boldsymbol{A}$ and explain why."
      ]
    },
    {
      "cell_type": "code",
      "metadata": {
        "id": "RVk44t6C01D9"
      },
      "source": [
        "import numpy as np"
      ],
      "execution_count": 1,
      "outputs": []
    },
    {
      "cell_type": "markdown",
      "metadata": {
        "id": "cIYmz39f1oSH"
      },
      "source": [
        "We shall use the fact that\n",
        "\\begin{equation}\n",
        "{\\Delta m_{2,1}}^2 := {m_2}^2 - {m_1}^2 = 7.39 \\times 10^{-5}\\text{ eV}^2,\n",
        "\\end{equation}\n",
        "while\n",
        "\\begin{equation}\n",
        "{\\Delta m_{3,2}}^2 := {m_3}^2 - {m_2}^2 = 2.449 \\times 10^{-3}\\text{ eV}^2.\n",
        "\\end{equation}"
      ]
    },
    {
      "cell_type": "code",
      "metadata": {
        "id": "6bxaBvk-MYQU"
      },
      "source": [
        "# To begin with, we choose an arbitrary value in the desired range\n",
        "m_1 = np.exp( np.random.uniform(np.log(1e-9), np.log(1e-4)) )"
      ],
      "execution_count": 181,
      "outputs": []
    },
    {
      "cell_type": "code",
      "metadata": {
        "id": "2J0n-8Rfvqks",
        "colab": {
          "base_uri": "https://localhost:8080/"
        },
        "outputId": "778854df-ea60-49e9-c4d9-96e56db23055"
      },
      "source": [
        "# The following m values arise from the ones listed in the table:\n",
        "m_2 = np.sqrt(m_1**2 + 7.39e-5)\n",
        "m_3 = np.sqrt(m_2**2 + 2.449e-3)\n",
        "\n",
        "# The problem amounts to finding a symmetric matrix whose eigenvalues are \n",
        "# precisely these m values, oredered as follows:\n",
        "eigvals = np.array([m_1, m_2, m_3])\n",
        "ordered_eigvals = np.sort(eigvals)\n",
        "ordered_eigvals"
      ],
      "execution_count": 182,
      "outputs": [
        {
          "output_type": "execute_result",
          "data": {
            "text/plain": [
              "array([2.85615487e-07, 8.59651092e-03, 5.02284780e-02])"
            ]
          },
          "metadata": {},
          "execution_count": 182
        }
      ]
    },
    {
      "cell_type": "code",
      "metadata": {
        "id": "rkC82FCy8ui0"
      },
      "source": [
        "def rotation_operator(angle_12, angle_13, angle_23,\n",
        "                      eigenvalues=None, reordering=False):\n",
        "    ''' returns a rotation matrix, ignoring any complex phase '''\n",
        "\n",
        "    s_12 = np.sin(angle_12)\n",
        "    s_13 = np.sin(angle_13)\n",
        "    s_23 = np.sin(angle_23)\n",
        "\n",
        "    c_12 = np.cos(angle_12)\n",
        "    c_13 = np.cos(angle_13)\n",
        "    c_23 = np.cos(angle_23)\n",
        "\n",
        "    A = np.array([[1,0,0],\n",
        "                  [0,c_23,s_23],\n",
        "                  [0,-s_23,c_23]])\n",
        "    B = np.array([[c_13,0,s_13],\n",
        "                  [0,1,0],\n",
        "                  [-s_13,0,c_13]])\n",
        "    C = np.array([[c_12,s_12,0],\n",
        "                  [-s_12,c_12,0],\n",
        "                  [0,0,1]])\n",
        "    \n",
        "    if reordering:\n",
        "        ordered_columns = np.asarray(eigenvalues).argsort()\n",
        "        return ((A @ B @ C).T[ordered_columns]).T\n",
        "    else:\n",
        "        return A @ B @ C"
      ],
      "execution_count": 183,
      "outputs": []
    },
    {
      "cell_type": "code",
      "metadata": {
        "id": "EQ7FS0ydFvpI"
      },
      "source": [
        "# Now we choose random mixing angles, which we use to define the matrix R\n",
        "alpha_12, alpha_13, alpha_23 = tuple(\n",
        "    *np.random.uniform(0, 2*np.pi, size=(1,3)))"
      ],
      "execution_count": 184,
      "outputs": []
    },
    {
      "cell_type": "code",
      "metadata": {
        "colab": {
          "base_uri": "https://localhost:8080/"
        },
        "id": "BbC-rcjmHEDN",
        "outputId": "c6523019-38d4-4541-8114-703bab5dfa9b"
      },
      "source": [
        "R = rotation_operator(alpha_12, alpha_13, alpha_23)# ,eigenvalues=eigvals, reordering=True)\n",
        "R"
      ],
      "execution_count": 185,
      "outputs": [
        {
          "output_type": "execute_result",
          "data": {
            "text/plain": [
              "array([[-0.17239137,  0.18592263,  0.96732311],\n",
              "       [ 0.4212588 , -0.87377556,  0.24301707],\n",
              "       [ 0.89040566,  0.44938742,  0.07230982]])"
            ]
          },
          "metadata": {},
          "execution_count": 185
        }
      ]
    },
    {
      "cell_type": "markdown",
      "metadata": {
        "id": "ZdAgFTWHKOgT"
      },
      "source": [
        "We use the values in the table to define the $U$ operator."
      ]
    },
    {
      "cell_type": "code",
      "metadata": {
        "colab": {
          "base_uri": "https://localhost:8080/"
        },
        "id": "pMyCBVKBDF82",
        "outputId": "3216aeb2-c8f8-4083-c95a-190b51d2f243"
      },
      "source": [
        "theta_12 = np.deg2rad(33.82)\n",
        "theta_13 = np.deg2rad(8.61)\n",
        "theta_23 = np.deg2rad(14.3)\n",
        "\n",
        "U = rotation_operator(theta_12, theta_13, theta_23)#, eigenvalues=eigvals, reordering=True)\n",
        "U"
      ],
      "execution_count": 186,
      "outputs": [
        {
          "output_type": "execute_result",
          "data": {
            "text/plain": [
              "array([[ 0.82142745,  0.55031308,  0.14970791],\n",
              "       [-0.57006097,  0.78446755,  0.2442154 ],\n",
              "       [ 0.01695393, -0.28594787,  0.95809518]])"
            ]
          },
          "metadata": {},
          "execution_count": 186
        }
      ]
    },
    {
      "cell_type": "code",
      "metadata": {
        "colab": {
          "base_uri": "https://localhost:8080/"
        },
        "id": "wD0PF4rGEW75",
        "outputId": "70752da0-84d5-4ece-d880-8a016aff7c44"
      },
      "source": [
        "# Finally, we get Y\n",
        "Y = R @ np.diag(np.sqrt(ordered_eigvals)) @ U.T\n",
        "Y"
      ],
      "execution_count": 192,
      "outputs": [
        {
          "output_type": "execute_result",
          "data": {
            "text/plain": [
              "array([[ 0.04186648,  0.06651972,  0.20277815],\n",
              "       [-0.03624449, -0.05038031,  0.07535161],\n",
              "       [ 0.02574639,  0.03637209,  0.00362052]])"
            ]
          },
          "metadata": {},
          "execution_count": 192
        }
      ]
    },
    {
      "cell_type": "code",
      "metadata": {
        "colab": {
          "base_uri": "https://localhost:8080/"
        },
        "id": "V6yQvtDzEnHR",
        "outputId": "5c5b274a-e18a-4c27-e01e-f0194f06857c"
      },
      "source": [
        "# Likewise, we can get A\n",
        "A = Y.T @ Y\n",
        "A_eigvals, A_eigvecs = np.linalg.eig(A)\n",
        "A"
      ],
      "execution_count": 199,
      "outputs": [
        {
          "output_type": "execute_result",
          "data": {
            "text/plain": [
              "array([[0.00372934, 0.00554741, 0.00585174],\n",
              "       [0.00554741, 0.00828598, 0.00982419],\n",
              "       [0.00585174, 0.00982419, 0.04680995]])"
            ]
          },
          "metadata": {},
          "execution_count": 199
        }
      ]
    },
    {
      "cell_type": "markdown",
      "metadata": {
        "id": "bsckv_XxQE4M"
      },
      "source": [
        "Notice that the eigenvalues of A are indeed the ones that we had arbitrarily selected:"
      ]
    },
    {
      "cell_type": "code",
      "metadata": {
        "colab": {
          "base_uri": "https://localhost:8080/"
        },
        "id": "viZXr6x9Inby",
        "outputId": "c855513b-60bc-49e7-dea7-facfc97b4432"
      },
      "source": [
        "np.sort(A_eigvals), ordered_eigvals"
      ],
      "execution_count": 194,
      "outputs": [
        {
          "output_type": "execute_result",
          "data": {
            "text/plain": [
              "(array([2.85615487e-07, 8.59651092e-03, 5.02284780e-02]),\n",
              " array([2.85615487e-07, 8.59651092e-03, 5.02284780e-02]))"
            ]
          },
          "metadata": {},
          "execution_count": 194
        }
      ]
    },
    {
      "cell_type": "markdown",
      "metadata": {
        "id": "Sugps62tQOKr"
      },
      "source": [
        "Likewise, the eigenvectors of $A$ are all in the span of the basis formed by the columns of $U$, as expected. By way of explanation, the columns of the first matrix can be written as the negative of another column in the second matrix."
      ]
    },
    {
      "cell_type": "code",
      "metadata": {
        "colab": {
          "base_uri": "https://localhost:8080/"
        },
        "id": "wwJ0uojTPoYC",
        "outputId": "55b0ef57-9017-4d59-a22a-61cc4e9631e2"
      },
      "source": [
        "A_eigvecs, U"
      ],
      "execution_count": 190,
      "outputs": [
        {
          "output_type": "execute_result",
          "data": {
            "text/plain": [
              "(array([[-0.14970791, -0.82142745, -0.55031308],\n",
              "        [-0.2442154 ,  0.57006097, -0.78446755],\n",
              "        [-0.95809518, -0.01695393,  0.28594787]]),\n",
              " array([[ 0.82142745,  0.55031308,  0.14970791],\n",
              "        [-0.57006097,  0.78446755,  0.2442154 ],\n",
              "        [ 0.01695393, -0.28594787,  0.95809518]]))"
            ]
          },
          "metadata": {},
          "execution_count": 190
        }
      ]
    },
    {
      "cell_type": "markdown",
      "metadata": {
        "id": "TIRFa0EHQoVR"
      },
      "source": [
        "Not surprisingly, the eigenvalues of the matrix $A^{T}A$ correspond to the squares of the eigenvalues of $A$. This is to say that $A$ is a *normal operator*, viz., there exists an *isometry* (a distance-preserving transformation, in this case, a rotation) such that\n",
        "\\begin{equation}\n",
        "A_{\\text{diag}} = U A U^{-1}.\n",
        "\\end{equation}\n",
        "Such matrices satisfy the aforementioned property. Furthermore, they commute with their adjoint, which in the case of real matrices means that $A^{T}A = AA^{T}$."
      ]
    },
    {
      "cell_type": "code",
      "metadata": {
        "colab": {
          "base_uri": "https://localhost:8080/"
        },
        "id": "skfWo0KaIzHG",
        "outputId": "ef9203c7-0a16-43b1-9eeb-91ac29318c7a"
      },
      "source": [
        "ATA_eigvals, ATA_eigvecs = np.linalg.eig(A.T @ A)\n",
        "np.sqrt(ATA_eigvals), A_eigvals"
      ],
      "execution_count": 197,
      "outputs": [
        {
          "output_type": "execute_result",
          "data": {
            "text/plain": [
              "(array([5.02284780e-02, 2.85615430e-07, 8.59651092e-03]),\n",
              " array([5.02284780e-02, 2.85615487e-07, 8.59651092e-03]))"
            ]
          },
          "metadata": {},
          "execution_count": 197
        }
      ]
    },
    {
      "cell_type": "markdown",
      "metadata": {
        "id": "kKkiZhw6dQFL"
      },
      "source": [
        "Nevertheless, the same cannot be said about the eigenvalues of $Y$ and the square root of the eigenvalues of $A$:"
      ]
    },
    {
      "cell_type": "code",
      "metadata": {
        "colab": {
          "base_uri": "https://localhost:8080/"
        },
        "id": "8uYaVw2ddN7W",
        "outputId": "04aa9e6b-af26-4a22-8bcc-880d1e1d9008"
      },
      "source": [
        "Y_eigvals, Y_eigvecs = np.linalg.eig(Y)\n",
        "Y_eigvals, np.sqrt(A_eigvals)"
      ],
      "execution_count": 198,
      "outputs": [
        {
          "output_type": "execute_result",
          "data": {
            "text/plain": [
              "(array([-0.08946652,  0.08601628, -0.00144306]),\n",
              " array([0.22411711, 0.00053443, 0.09271737]))"
            ]
          },
          "metadata": {},
          "execution_count": 198
        }
      ]
    },
    {
      "cell_type": "code",
      "metadata": {
        "colab": {
          "base_uri": "https://localhost:8080/"
        },
        "id": "hHPrGvtSByqK",
        "outputId": "b26ca542-c449-446f-c315-910ef8c0c795"
      },
      "source": [
        "# Ignore this\n",
        "A = np.array([[1,2,3],\n",
        "              [4,5,6],\n",
        "              [7,8,9]])\n",
        "(A.T[[0,2,1]]).T"
      ],
      "execution_count": 28,
      "outputs": [
        {
          "output_type": "execute_result",
          "data": {
            "text/plain": [
              "array([[1, 3, 2],\n",
              "       [4, 6, 5],\n",
              "       [7, 9, 8]])"
            ]
          },
          "metadata": {},
          "execution_count": 28
        }
      ]
    }
  ]
}