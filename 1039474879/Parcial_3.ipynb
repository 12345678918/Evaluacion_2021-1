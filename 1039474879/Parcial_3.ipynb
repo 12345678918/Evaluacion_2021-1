{
  "nbformat": 4,
  "nbformat_minor": 0,
  "metadata": {
    "kernelspec": {
      "display_name": "Python 3 (ipykernel)",
      "language": "python",
      "name": "python3"
    },
    "language_info": {
      "codemirror_mode": {
        "name": "ipython",
        "version": 3
      },
      "file_extension": ".py",
      "mimetype": "text/x-python",
      "name": "python",
      "nbconvert_exporter": "python",
      "pygments_lexer": "ipython3",
      "version": "3.7.3"
    },
    "colab": {
      "name": "Parcial_3.ipynb",
      "provenance": []
    }
  },
  "cells": [
    {
      "cell_type": "markdown",
      "metadata": {
        "id": "dr6Li3P_zibK"
      },
      "source": [
        "## Parcial 3: Métodods Computacionales\n",
        "\n",
        "### Gabriel Cataño Sánchez"
      ]
    },
    {
      "cell_type": "markdown",
      "metadata": {
        "id": "bxNw8X-oz1Ph"
      },
      "source": [
        "#Enunciado"
      ]
    },
    {
      "cell_type": "markdown",
      "metadata": {
        "id": "40WhQJy2EWqx"
      },
      "source": [
        "# Casas-Ibarra\n",
        "Let $\\boldsymbol{A}$ $3\\times3$ a symmetric non-diagonal matrix with the following set of eigenvalues and eigenvectors:\n"
      ]
    },
    {
      "cell_type": "markdown",
      "metadata": {
        "id": "cwKjVMtNvgl0"
      },
      "source": [
        "____"
      ]
    },
    {
      "cell_type": "markdown",
      "metadata": {
        "id": "G-uQDCOkvgl0"
      },
      "source": [
        "### Eigenvalues\n",
        "The normal ordering of the absolute value of the eigenvalues is $m_1<m_2<m_3$. Each eigenvalue is expressed in units of eV, which just of an energy unit.\n",
        "### Eigenvectors\n",
        "The eigenvectors in the normal ordering are defined by\n",
        "$$\n",
        "\\boldsymbol{U}^T \\boldsymbol{A} \\boldsymbol{U}=\n",
        "\\begin{pmatrix}\n",
        "m_1& 0 & 0\\\\\n",
        "0 & m_2& 0\\\\\n",
        "0 & 0 & m_3\\\\\n",
        "\\end{pmatrix}.\n",
        "$$\n",
        "The unitary matrix can be parameterized in terms of three mixing angles, $\\theta_{23}$ $\\theta_{13}$, $\\theta_{12}$, such that\n",
        "$$\n",
        "\\boldsymbol{U}=\\left(\\begin{array}{ccc}\n",
        "1 & 0 & 0 \\\\\n",
        "0 & c_{23} & s_{23} \\\\\n",
        "0 & -s_{23} & c_{23}\n",
        "\\end{array}\\right) \\cdot\\left(\\begin{array}{ccc}\n",
        "c_{13} & 0 & s_{13}  \\\\\n",
        "0 & 1 & 0 \\\\\n",
        "-s_{13}  & 0 & c_{13}\n",
        "\\end{array}\\right) \\cdot\\left(\\begin{array}{ccc}\n",
        "c_{12} & s_{12} & 0 \\\\\n",
        "-s_{12} & c_{12} & 0 \\\\\n",
        "0 & 0 & 1\n",
        "\\end{array}\\right),\n",
        "$$\n",
        "where $c_{i j} \\equiv \\cos \\theta_{i j}$ and $s_{i j} \\equiv \\sin \\theta_{i j}$. Thus, we can write $\\boldsymbol{U}$ as\n",
        "$$\n",
        "\\boldsymbol{U}=\\left(\\begin{array}{ccc}c_{12} c_{13} & s_{12} c_{13} & s_{13}  \\\\ -s_{12} c_{23}-c_{12} s_{13} s_{23}& c_{12} c_{23}-s_{12} s_{13} s_{23}  & c_{13} s_{23} \\\\ s_{12} s_{23}-c_{12} s_{13} c_{23} & -c_{12} s_{23}-s_{12} s_{13} c_{23}  & c_{13} c_{23}\\end{array}\\right)\n",
        "$$\n",
        "so that\n",
        "$$\n",
        "\\boldsymbol{U}_1=\\begin{pmatrix}U_{e1}\\\\ U_{\\mu 1}\\\\ U_{\\tau 1}\\end{pmatrix}=\\begin{pmatrix}\n",
        "c_{12} c_{13} \\\\\n",
        "-s_{12} c_{23}-c_{12} s_{13} s_{23}  \\\\\n",
        "s_{12} s_{23}-c_{12} s_{13} c_{23} \n",
        "\\end{pmatrix},\\qquad \n",
        "\\boldsymbol{U}_2=\\begin{pmatrix}U_{e2}\\\\ U_{\\mu 2}\\\\ U_{\\tau 2}\\end{pmatrix}=\\begin{pmatrix}\n",
        "s_{12} c_{13} \\\\\n",
        "c_{12} c_{23}-s_{12} s_{13} s_{23}  \\\\\n",
        "-c_{12} s_{23}-s_{12} s_{13} c_{23} \n",
        "\\end{pmatrix},\\qquad\n",
        "\\boldsymbol{U}_3=\\begin{pmatrix}U_{e3}\\\\ U_{\\mu 3}\\\\ U_{\\tau 3}\\end{pmatrix}=\\begin{pmatrix}\n",
        "s_{13}  \\\\\n",
        "c_{13} s_{23} \\\\\n",
        "c_{13} c_{23}\n",
        "\\end{pmatrix}\n",
        "$$\n",
        "\n",
        "### Data\n",
        "Use the _central values_  of the following table but ignoring $\\delta_{CP}$ (In the previous equations was fixed to $\\delta_{CP}=0$). __Hint__: take care of the denominator in the first colum.\n",
        "\n",
        "![IMAGE](https://github.com/restrepo/ComputationalMethods/raw/master/material/figures/nu.png)\n",
        "\n",
        "where $\\Delta m^2_{ij}=m^2_i-m^2_j$ is the squared mass difference between eigenvalues $i$ and $j$; in units of $\\text{eV}^2$.\n"
      ]
    },
    {
      "cell_type": "markdown",
      "metadata": {
        "id": "bnSCrqmSvgl1"
      },
      "source": [
        "### Casas-Ibarra parameterization\n",
        "We can assumme without lost of generality that $\\boldsymbol{A}$ can be generated from a matrix $\\boldsymbol{Y}$ such that\n",
        "$$\n",
        "\\boldsymbol{A}=\\boldsymbol{Y}^{\\operatorname{T}}\\boldsymbol{Y}\n",
        "$$\n",
        "\n",
        "The matrix $\\boldsymbol{Y}$ can be parameterized in terms of an arbitray orthogonal $3\\times 3$ matrix, $\\boldsymbol{R}$, as\n",
        "$$\n",
        "\\boldsymbol{Y}=\\boldsymbol{R} \\boldsymbol{D}_{\\sqrt{m}} \\boldsymbol{U}^{\\operatorname{T}}\n",
        "$$\n",
        "\n",
        "\n",
        "* $R$ is an orthogonal $3\\times 3$ matrix, with three rotation angles $\\alpha_{ij}$ between $(0,2\\pi)$\n",
        "$$\n",
        "\\boldsymbol{R}=\\left(\\begin{array}{ccc}c^\\alpha_{12} c^\\alpha_{13} & s^\\alpha_{12} c^\\alpha_{13} & s^\\alpha_{13}  \\\\ -s^\\alpha_{12} c^\\alpha_{23}-c^\\alpha_{12} s^\\alpha_{13} s^\\alpha_{23}& c^\\alpha_{12} c^\\alpha_{23}-s^\\alpha_{12} s^\\alpha_{13} s^\\alpha_{23}  & c^\\alpha_{13} s^\\alpha_{23} \\\\ s^\\alpha_{12} s^\\alpha_{23}-c^\\alpha_{12} s^\\alpha_{13} c^\\alpha_{23} & -c^\\alpha_{12} s^\\alpha_{23}-s^\\alpha_{12} s^\\alpha_{13} c^\\alpha_{23}  & c^\\alpha_{13} c^\\alpha_{23}\\end{array}\\right)\n",
        "$$\n",
        "where $c^\\alpha_{i j} \\equiv \\cos \\alpha_{i j}$ and $s^\\alpha_{i j} \\equiv \\sin \\alpha_{i j}$.\n",
        "\n",
        "* $$\n",
        " \\boldsymbol{D}_{\\sqrt{m}}=\\operatorname{diag}\\left(\\sqrt{m_1},\\sqrt{m_2},\\sqrt{m_3}\\right)\n",
        "$$"
      ]
    },
    {
      "cell_type": "markdown",
      "metadata": {
        "id": "Iqj7EWSPvgl3"
      },
      "source": [
        "### Problem\n",
        "1. Choose a random value for $m_1$ between $10^{-9}\\ \\text{eV}$ and $10^{-4}\\ \\text{eV}$. Note that because of the wide range, the random variation  must be in the exponents. Obtain the corresponding $m_2$ and $m_3$ with the proper normal ordering.\n",
        "1. Choose random values for $\\alpha_{ij}$  between $(0,2\\pi)$\n",
        "1. Obtain $\\boldsymbol{Y}$\n",
        "1. Check that the generated $\\boldsymbol{A}$ has the proper eigenvalues and eigenvectors\n",
        "1. Check that the eigenvalues of $\\boldsymbol{Y}$ correspond to the square root of the eigenvalues of $\\boldsymbol{A}$ and explain why."
      ]
    },
    {
      "cell_type": "markdown",
      "metadata": {
        "id": "u-WP-kCp1Mn4"
      },
      "source": [
        "# Solución"
      ]
    },
    {
      "cell_type": "code",
      "metadata": {
        "id": "2J0n-8Rfvqks",
        "colab": {
          "base_uri": "https://localhost:8080/"
        },
        "outputId": "86e7f341-6cb9-42ad-f04b-ced3257a619b"
      },
      "source": [
        "# Librerías\n",
        "import numpy as np\n",
        "from scipy import linalg as la\n",
        "import matplotlib.pylab as plt\n",
        "from scipy import optimize\n",
        "from scipy.optimize import curve_fit\n",
        "from scipy import integrate\n",
        "from numpy import random\n",
        "\n",
        "%pylab inline"
      ],
      "execution_count": 126,
      "outputs": [
        {
          "output_type": "stream",
          "name": "stdout",
          "text": [
            "Populating the interactive namespace from numpy and matplotlib\n"
          ]
        },
        {
          "output_type": "stream",
          "name": "stderr",
          "text": [
            "/usr/local/lib/python3.7/dist-packages/IPython/core/magics/pylab.py:161: UserWarning: pylab import has clobbered these variables: ['plt']\n",
            "`%matplotlib` prevents importing * from pylab and numpy\n",
            "  \"\\n`%matplotlib` prevents importing * from pylab and numpy\"\n"
          ]
        }
      ]
    },
    {
      "cell_type": "markdown",
      "metadata": {
        "id": "-v_rFbT4FO-3"
      },
      "source": [
        "## 1. Valores de m1,m2,m3"
      ]
    },
    {
      "cell_type": "code",
      "metadata": {
        "colab": {
          "base_uri": "https://localhost:8080/"
        },
        "id": "hZZBwx3Q2GXl",
        "outputId": "5729bd8f-0785-4dc2-c992-fae47100da51"
      },
      "source": [
        "# Semilla para fijar el m\n",
        "random.seed(4879)\n",
        "m1 = np.random.uniform(1e-10,1e-4)\n",
        "print(f'Valor m1 = {m1}  eV')"
      ],
      "execution_count": 127,
      "outputs": [
        {
          "output_type": "stream",
          "name": "stdout",
          "text": [
            "Valor m1 = 6.623918180048154e-05  eV\n"
          ]
        }
      ]
    },
    {
      "cell_type": "code",
      "metadata": {
        "colab": {
          "base_uri": "https://localhost:8080/"
        },
        "id": "OX6Flisr3VI-",
        "outputId": "1ea4b5c9-9025-4632-dc6c-08c1575352be"
      },
      "source": [
        "# Hallar los valores de m2 y m3 a paertir de m1\n",
        "\n",
        "val1 = 7.39e-5       #eV^2\n",
        "val2 = 2.449e-3      #eV^2\n",
        "def deltm21(m1, v1):\n",
        "  return np.sqrt(m1**2 + v1)\n",
        "\n",
        "def deltm32(m2, v2):\n",
        "  return np.sqrt(m2**2 + v2)\n",
        "\n",
        "\n",
        "m2 = deltm21(m1,val1)\n",
        "m3 = deltm32(m2,val2)\n",
        "print(f'Valor m2 = {m2}  eV')\n",
        "print(f'Valor m3 = {m3}  eV')"
      ],
      "execution_count": 128,
      "outputs": [
        {
          "output_type": "stream",
          "name": "stdout",
          "text": [
            "Valor m2 = 0.008596766114604118  eV\n",
            "Valor m3 = 0.05022852165482482  eV\n"
          ]
        }
      ]
    },
    {
      "cell_type": "markdown",
      "metadata": {
        "id": "0nl0OqM-FEYW"
      },
      "source": [
        "## 2. Hallar $\\alpha_{ij}$"
      ]
    },
    {
      "cell_type": "code",
      "metadata": {
        "colab": {
          "base_uri": "https://localhost:8080/"
        },
        "id": "FJ5_DDJc961-",
        "outputId": "3f0879a8-9299-4e5f-ce82-07b2e0e70888"
      },
      "source": [
        "# Semilla para que los alpha no cambien\n",
        "\n",
        "random.seed(2)\n",
        "al = np.random.uniform(0,2*np.pi,3)\n",
        "print(f'\\u03B1_{12} = {round(np.rad2deg(al[0]),2)}°')\n",
        "print(f'\\u03B1_{13} = {round(np.rad2deg(al[1]),2)}°')\n",
        "print(f'\\u03B1_{23} = {round(np.rad2deg(al[2]),2)}°')"
      ],
      "execution_count": 144,
      "outputs": [
        {
          "output_type": "stream",
          "name": "stdout",
          "text": [
            "α_12 = 156.96°\n",
            "α_13 = 9.33°\n",
            "α_23 = 197.88°\n"
          ]
        }
      ]
    },
    {
      "cell_type": "markdown",
      "metadata": {
        "id": "zk0YauK8McGr"
      },
      "source": [
        "## 3. Hallar R, $D_{\\sqrt{m_i}}$ y Y"
      ]
    },
    {
      "cell_type": "markdown",
      "metadata": {
        "id": "7pkUNZBjDZNE"
      },
      "source": [
        "* $R$ is an orthogonal $3\\times 3$ matrix, with three rotation angles $\\alpha_{ij}$ between $(0,2\\pi)$\n",
        "$$\n",
        "\\boldsymbol{R}=\\left(\\begin{array}{ccc}c^\\alpha_{12} c^\\alpha_{13} & s^\\alpha_{12} c^\\alpha_{13} & s^\\alpha_{13}  \\\\ -s^\\alpha_{12} c^\\alpha_{23}-c^\\alpha_{12} s^\\alpha_{13} s^\\alpha_{23}& c^\\alpha_{12} c^\\alpha_{23}-s^\\alpha_{12} s^\\alpha_{13} s^\\alpha_{23}  & c^\\alpha_{13} s^\\alpha_{23} \\\\ s^\\alpha_{12} s^\\alpha_{23}-c^\\alpha_{12} s^\\alpha_{13} c^\\alpha_{23} & -c^\\alpha_{12} s^\\alpha_{23}-s^\\alpha_{12} s^\\alpha_{13} c^\\alpha_{23}  & c^\\alpha_{13} c^\\alpha_{23}\\end{array}\\right)\n",
        "$$\n",
        "where $c^\\alpha_{i j} \\equiv \\cos \\alpha_{i j}$ and $s^\\alpha_{i j} \\equiv \\sin \\alpha_{i j}$."
      ]
    },
    {
      "cell_type": "code",
      "metadata": {
        "colab": {
          "base_uri": "https://localhost:8080/"
        },
        "id": "dWHQrcnMBI-i",
        "outputId": "b16909ea-ebcc-48b7-d33d-4217f86620d8"
      },
      "source": [
        "# Definición de los cosenos y senos a partir de los alpha hallados\n",
        "\n",
        "al12 = al[0]\n",
        "al13 = al[1]\n",
        "al23 = al[2]\n",
        "\n",
        "c12 = np.cos(al12)\n",
        "c13 = np.cos(al13)\n",
        "c23 = np.cos(al23)\n",
        "s12 = np.sin(al12)\n",
        "s13 = np.sin(al13)\n",
        "s23 = np.sin(al23)\n",
        "\n",
        "x1 = np.array([c12*c13,s12*c13,s13])\n",
        "x2 = np.array([-s12*c23-c12*s13*s23,c12*c23-s12*s13*s23,c13*s23])\n",
        "x3 = np.array([s12*s23-c12*s13*c23,-c12*s23-s12*s13*c23,c13*c23])\n",
        "\n",
        "# Matriz R\n",
        "\n",
        "R = np.asmatrix([x1,x2,x3])\n",
        "R"
      ],
      "execution_count": 130,
      "outputs": [
        {
          "output_type": "execute_result",
          "data": {
            "text/plain": [
              "matrix([[-0.90803673,  0.38622144,  0.16217982],\n",
              "        [ 0.32668528,  0.89526927, -0.30293508],\n",
              "        [-0.26219463, -0.22209442, -0.93911024]])"
            ]
          },
          "metadata": {},
          "execution_count": 130
        }
      ]
    },
    {
      "cell_type": "markdown",
      "metadata": {
        "id": "WBQ609gGFhGC"
      },
      "source": [
        "\n",
        "where $c_{i j} \\equiv \\cos \\theta_{i j}$ and $s_{i j} \\equiv \\sin \\theta_{i j}$. Thus, we can write $\\boldsymbol{U}$ as\n",
        "$$\n",
        "\\boldsymbol{U}=\\left(\\begin{array}{ccc}c_{12} c_{13} & s_{12} c_{13} & s_{13}  \\\\ -s_{12} c_{23}-c_{12} s_{13} s_{23}& c_{12} c_{23}-s_{12} s_{13} s_{23}  & c_{13} s_{23} \\\\ s_{12} s_{23}-c_{12} s_{13} c_{23} & -c_{12} s_{23}-s_{12} s_{13} c_{23}  & c_{13} c_{23}\\end{array}\\right)\n",
        "$$"
      ]
    },
    {
      "cell_type": "code",
      "metadata": {
        "colab": {
          "base_uri": "https://localhost:8080/"
        },
        "id": "w52pQ68FCWS4",
        "outputId": "c9363b58-16d5-471e-f119-4008d776c32a"
      },
      "source": [
        "# Definición de los valores de seno y coseno a partir de los theta entregados en la tabla\n",
        "\n",
        "the12 = deg2rad(33.82)\n",
        "the13 = deg2rad(8.61)\n",
        "the23 = deg2rad(48.3)\n",
        "c_12 = np.cos(the12)\n",
        "c_13 = np.cos(the13)\n",
        "c_23 = np.cos(the23)\n",
        "s_12 = np.sin(the12)\n",
        "s_13 = np.sin(the13)\n",
        "s_23 = np.sin(the23)\n",
        "\n",
        "x11 = np.array([c_12*c_13,s_12*c_13,s_13])\n",
        "x21 = np.array([-s_12*c_23-c_12*s_13*s_23,c_12*c_23-s_12*s_13*s_23,c_13*s_23])\n",
        "x31 = np.array([s_12*s_23-c_12*s_13*c_23,-c_12*s_23-s_12*s_13*c_23,c_13*c_23])\n",
        "\n",
        "# Matriz U\n",
        "U = np.asmatrix([x11,x21,x31])\n",
        "U"
      ],
      "execution_count": 131,
      "outputs": [
        {
          "output_type": "execute_result",
          "data": {
            "text/plain": [
              "matrix([[ 0.82142745,  0.55031308,  0.14970791],\n",
              "        [-0.46312144,  0.49045305,  0.73822377],\n",
              "        [ 0.33282949, -0.67573021,  0.65773339]])"
            ]
          },
          "metadata": {},
          "execution_count": 131
        }
      ]
    },
    {
      "cell_type": "code",
      "metadata": {
        "colab": {
          "base_uri": "https://localhost:8080/"
        },
        "id": "S8x6CXEOE5Q0",
        "outputId": "f38a0e86-3bc4-499d-aaf0-4a5ce4dbd763"
      },
      "source": [
        "# Raíz cuadrada de los valores de m1,m2 y m3\n",
        "rm1 = np.sqrt(m1)\n",
        "rm2 = np.sqrt(m2)\n",
        "rm3 = np.sqrt(m3)\n",
        "\n",
        "# Matriz diagonal con los valores de las raíces cuadradas de m1,m2 y m3\n",
        "Drm = np.diag([rm1,rm2,rm3],0)\n",
        "Drm"
      ],
      "execution_count": 132,
      "outputs": [
        {
          "output_type": "execute_result",
          "data": {
            "text/plain": [
              "array([[0.00813875, 0.        , 0.        ],\n",
              "       [0.        , 0.09271875, 0.        ],\n",
              "       [0.        , 0.        , 0.22411721]])"
            ]
          },
          "metadata": {},
          "execution_count": 132
        }
      ]
    },
    {
      "cell_type": "markdown",
      "metadata": {
        "id": "9zEHv4fgM6cS"
      },
      "source": [
        "The matrix $\\boldsymbol{Y}$ can be parameterized in terms of an arbitray orthogonal $3\\times 3$ matrix, $\\boldsymbol{R}$, as\n",
        "$$\n",
        "\\boldsymbol{Y}=\\boldsymbol{R} \\boldsymbol{D}_{\\sqrt{m}} \\boldsymbol{U}^{\\operatorname{T}}\n",
        "$$"
      ]
    },
    {
      "cell_type": "code",
      "metadata": {
        "colab": {
          "base_uri": "https://localhost:8080/"
        },
        "id": "4Fc_urg3MGnh",
        "outputId": "25d9f829-486d-4854-9f1b-2e6d984ddfce"
      },
      "source": [
        "# Hallar Y a partir de R, la matriz diagonal y la transpuesta de U\n",
        "Y = R@Drm@U.T\n",
        "Y"
      ],
      "execution_count": 133,
      "outputs": [
        {
          "output_type": "execute_result",
          "data": {
            "text/plain": [
              "matrix([[ 0.01907759,  0.04781814, -0.00275076],\n",
              "        [ 0.03770043, -0.0106399 , -0.09986172],\n",
              "        [-0.04459423, -0.16448581, -0.12522903]])"
            ]
          },
          "metadata": {},
          "execution_count": 133
        }
      ]
    },
    {
      "cell_type": "markdown",
      "metadata": {
        "id": "-Ja7Y9GVNhMb"
      },
      "source": [
        "## 4. Hallar A"
      ]
    },
    {
      "cell_type": "markdown",
      "metadata": {
        "id": "oTs5vOQINcXe"
      },
      "source": [
        "### Casas-Ibarra parameterization\n",
        "We can assumme without lost of generality that $\\boldsymbol{A}$ can be generated from a matrix $\\boldsymbol{Y}$ such that\n",
        "$$\n",
        "\\boldsymbol{A}=\\boldsymbol{Y}^{\\operatorname{T}}\\boldsymbol{Y}\n",
        "$$"
      ]
    },
    {
      "cell_type": "code",
      "metadata": {
        "colab": {
          "base_uri": "https://localhost:8080/"
        },
        "id": "v_YU0JhuNGAa",
        "outputId": "4acb48b5-e7a6-4119-e0a2-2b4b63c9603f"
      },
      "source": [
        "# Hallar A a partir de Y y Y transpuesta\n",
        "A = Y.T@Y\n",
        "A"
      ],
      "execution_count": 134,
      "outputs": [
        {
          "output_type": "execute_result",
          "data": {
            "text/plain": [
              "matrix([[0.00377392, 0.00784624, 0.00176719],\n",
              "        [0.00784624, 0.02945536, 0.02152938],\n",
              "        [0.00176719, 0.02152938, 0.02566224]])"
            ]
          },
          "metadata": {},
          "execution_count": 134
        }
      ]
    },
    {
      "cell_type": "code",
      "metadata": {
        "colab": {
          "base_uri": "https://localhost:8080/"
        },
        "id": "ei3ZM-cENE_u",
        "outputId": "f9f972ab-08aa-4fd9-c27d-db72627ddb87"
      },
      "source": [
        "# Valores y vectores propios de A\n",
        "E1,V1 = la.eig(A)\n",
        "E1"
      ],
      "execution_count": 135,
      "outputs": [
        {
          "output_type": "execute_result",
          "data": {
            "text/plain": [
              "array([5.02285217e-02+0.j, 6.62391818e-05+0.j, 8.59676611e-03+0.j])"
            ]
          },
          "metadata": {},
          "execution_count": 135
        }
      ]
    },
    {
      "cell_type": "code",
      "metadata": {
        "colab": {
          "base_uri": "https://localhost:8080/"
        },
        "id": "JOnBJd7SQA6p",
        "outputId": "c6606ffa-42b3-4aa8-d4ba-3a557c28d123"
      },
      "source": [
        "# Vemos que los valores propios de A son los valores de m1, m2 y m3\n",
        "m1,m2,m3"
      ],
      "execution_count": 138,
      "outputs": [
        {
          "output_type": "execute_result",
          "data": {
            "text/plain": [
              "(6.623918180048154e-05, 0.008596766114604118, 0.05022852165482482)"
            ]
          },
          "metadata": {},
          "execution_count": 138
        }
      ]
    },
    {
      "cell_type": "code",
      "metadata": {
        "colab": {
          "base_uri": "https://localhost:8080/"
        },
        "id": "xLq_R3G-NJUU",
        "outputId": "78b9fba0-0651-47f1-a5e2-243bd22dd691"
      },
      "source": [
        "# Matriz de los vectores propios de A\n",
        "V1"
      ],
      "execution_count": 136,
      "outputs": [
        {
          "output_type": "execute_result",
          "data": {
            "text/plain": [
              "array([[-0.14970791, -0.82142745, -0.55031308],\n",
              "       [-0.73822377,  0.46312144, -0.49045305],\n",
              "       [-0.65773339, -0.33282949,  0.67573021]])"
            ]
          },
          "metadata": {},
          "execution_count": 136
        }
      ]
    },
    {
      "cell_type": "markdown",
      "metadata": {
        "id": "wHmhy734Onok"
      },
      "source": [
        "## 5. Autovalores y autovectores"
      ]
    },
    {
      "cell_type": "code",
      "metadata": {
        "colab": {
          "base_uri": "https://localhost:8080/"
        },
        "id": "INw12dh7Odv4",
        "outputId": "fa99c0f7-8d94-4c73-a478-fc3820975c91"
      },
      "source": [
        "# Valores y vectores propios de Y\n",
        "E2, V2 = la.eig(Y)\n",
        "E2"
      ],
      "execution_count": 137,
      "outputs": [
        {
          "output_type": "execute_result",
          "data": {
            "text/plain": [
              "array([ 0.09886701+0.j, -0.0082474 +0.j, -0.20741095+0.j])"
            ]
          },
          "metadata": {},
          "execution_count": 137
        }
      ]
    },
    {
      "cell_type": "code",
      "metadata": {
        "colab": {
          "base_uri": "https://localhost:8080/"
        },
        "id": "OdhaqiPrO0Ho",
        "outputId": "cffcba36-cbc1-42ad-c943-5d23a982a6ca"
      },
      "source": [
        "# Raíz caudrada de los autovalores de A\n",
        "E1s = E1**.5\n",
        "E1s"
      ],
      "execution_count": 147,
      "outputs": [
        {
          "output_type": "execute_result",
          "data": {
            "text/plain": [
              "array([0.22411721+0.j, 0.00813875+0.j, 0.09271875+0.j])"
            ]
          },
          "metadata": {},
          "execution_count": 147
        }
      ]
    },
    {
      "cell_type": "code",
      "metadata": {
        "colab": {
          "base_uri": "https://localhost:8080/"
        },
        "id": "tGptjkoeRJeE",
        "outputId": "dd3a0010-7e36-45c7-f13e-8ce8a1a5b778"
      },
      "source": [
        "# Diferencias entre los autovalores de la matriz Y y la raíz cuadrada de los autovalores de la matriz A\n",
        "er1ay = abs(E2[0]) - E1s[2]\n",
        "er2ay = abs(E2[1]) - E1s[1]\n",
        "er3ay = abs(E2[2]) - E1s[0]\n",
        "print(f'Error en las diferencias de los autovalores: \\n {er1ay.round(),er2ay.round(), er3ay.round()}')"
      ],
      "execution_count": 157,
      "outputs": [
        {
          "output_type": "stream",
          "name": "stdout",
          "text": [
            "Error en las diferencias de los autovalores: \n",
            " (0j, 0j, (-0+0j))\n"
          ]
        }
      ]
    },
    {
      "cell_type": "markdown",
      "metadata": {
        "id": "vlZSFHEDYRgh"
      },
      "source": [
        "Observamos que el error hallado en las diferencia en el punto anterior es nulo, esto es, los autovalores de $\\boldsymbol{Y}$, corresponden a la raíz cuadrada de los autovalores de $\\boldsymbol{A}$. Esto se debe a que la matirz $\\boldsymbol{Y}$, fue hallada multiplicando una matriz diagonal que contiene la raíz cuadrada de los valores de $m_1,m_2$ y $m_3$ en la diagonal, que a su vez corresponden a los autovalores de la matirz $\\boldsymbol{A}$."
      ]
    },
    {
      "cell_type": "code",
      "metadata": {
        "id": "e6rTWbNeX5_w"
      },
      "source": [
        ""
      ],
      "execution_count": null,
      "outputs": []
    }
  ]
}