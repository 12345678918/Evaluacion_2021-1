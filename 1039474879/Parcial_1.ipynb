{
  "nbformat": 4,
  "nbformat_minor": 0,
  "metadata": {
    "colab": {
      "name": "Parcial_1.ipynb",
      "provenance": []
    },
    "kernelspec": {
      "display_name": "Python 3 (ipykernel)",
      "language": "python",
      "name": "python3"
    },
    "language_info": {
      "codemirror_mode": {
        "name": "ipython",
        "version": 3
      },
      "file_extension": ".py",
      "mimetype": "text/x-python",
      "name": "python",
      "nbconvert_exporter": "python",
      "pygments_lexer": "ipython3",
      "version": "3.7.3"
    },
    "toc": {
      "colors": {
        "hover_highlight": "#DAA520",
        "running_highlight": "#FF0000",
        "selected_highlight": "#FFD700"
      },
      "moveMenuLeft": true,
      "nav_menu": {
        "height": "30px",
        "width": "252px"
      },
      "navigate_menu": true,
      "number_sections": true,
      "sideBar": true,
      "threshold": 4,
      "toc_cell": false,
      "toc_section_display": "block",
      "toc_window_display": false
    }
  },
  "cells": [
    {
      "cell_type": "markdown",
      "metadata": {
        "id": "yCrzGnBJc2Aj"
      },
      "source": [
        "# $\\textbf{Parcial 1, Métodos Computacionales}$\n",
        "## $\\textbf{Gabriel Cataño Sánchez}$\n",
        "### $\\textbf{CC: 1039474879}$"
      ]
    },
    {
      "cell_type": "markdown",
      "metadata": {
        "id": "bWVchymOoRBb"
      },
      "source": [
        "# $\\textbf{Enunciado}$"
      ]
    },
    {
      "cell_type": "markdown",
      "metadata": {
        "id": "vge3gzjNXPJh"
      },
      "source": [
        "A) Cargando el archivo JSON: \n",
        "* https://github.com/restrepo/anomaly/raw/main/solutions.json.gz\n",
        "\n",
        "en Pandas\n",
        "\n",
        "1) Adicione una columna nueva `'smax'` con el valor máximo en valor absoluto de la lista de enteros de la correspondiente entrada en la columna '`solution`'\n",
        "2) Adicione dos columnas nuevas: `'sum_s'` (`sum_s³`) con el resultado de la suma (al cubo) de todos los números de la lista de enteros de la correspondiente entrada en la columna '`solution`'\n",
        "3) Usando como semilla el número de su cédula, genere un número entero de forma aleatoria entre 0 y 390073. Seleccione el la fila correspondiente a ese número entero y construya un polinomio con esos coeficientes. Encuentre las raices reales de ese polinomio y realice el correspondiente gráfico incluyendo: el polinomio generado, sus raices (como puntos en gráfico) y la derivada del polinomio. Optimize el rango de valores en el eje $x$ y en el eje $y$ del gráfico, de manera que el polinomio y sus raices se visualicen de la mejor forma posible. (Sugerencia → use: `plt.ylim(ymin,ymax)` ). Se tendrá en cuenta la estética del gráfico presentado incluyendo la rotulación adecuada del mismo\n"
      ]
    },
    {
      "cell_type": "markdown",
      "metadata": {
        "id": "SCYzhddbXPJi"
      },
      "source": [
        "B)\n",
        "\n",
        "I) Usando como semilla el número de su cédula, genere de forma aletoria un número entero entre 1 y 5\n",
        "\n",
        "II) De acuerdo al entero obtenido, escoja una de las siguientes cinco funciones \n",
        "1. $$x\\operatorname{e}^x=p\\,, $$\n",
        "2. $$\\frac{\\sin x}{x}=+p\\,,$$\n",
        "3. $$\\frac{\\sin x}{x}=-p\\,,$$\n",
        "4. $$\\frac{\\cos x}{x}=+p\\,,$$\n",
        "5. $$\\frac{\\cos x}{x}=-p\\,,$$\n",
        "III) Genere un número aleatorio entre 0 y 1 y asignelo al valor de $p$\n",
        "IV) Encuentre las soluciones a la ecuación trascendental para el intervalo $x$ entre -10 y 10 y gráfique la correspondiente función trascendental y las correspondientes soluciones. . Se tendrá en cuenta la estética del gráfico presentado incluyendo la rotulación adecuada del mismo.\n",
        "\n",
        "A modo de nota curiosa: estas ecuaciones trascendentales están asociadas a soluciones de la ecuación de Schödinger en mecánica cuántica: https://doi.org/10.1080/14786435.2015.1081425"
      ]
    },
    {
      "cell_type": "markdown",
      "metadata": {
        "id": "7Lp63rgmu_bt"
      },
      "source": [
        "# $\\textbf{Solución}$"
      ]
    },
    {
      "cell_type": "code",
      "metadata": {
        "id": "mU-1JXipZIRu"
      },
      "source": [
        "#Librerías\n",
        "\n",
        "import pandas as pd\n",
        "import matplotlib.pylab as plt\n",
        "import numpy as np\n",
        "import sympy as sy\n",
        "from scipy import optimize"
      ],
      "execution_count": 41,
      "outputs": []
    },
    {
      "cell_type": "markdown",
      "metadata": {
        "id": "U88MoeYFe-cb"
      },
      "source": [
        "## $\\textbf{Primera Parte} $"
      ]
    },
    {
      "cell_type": "code",
      "metadata": {
        "colab": {
          "base_uri": "https://localhost:8080/",
          "height": 204
        },
        "id": "flAQIHleZUDZ",
        "outputId": "0908d20b-0465-46ff-bffa-70ceeadbbb33"
      },
      "source": [
        "#Leer el archivo JSON y ponerlo en un Dataframe\n",
        "\n",
        "link = 'https://github.com/restrepo/anomaly/raw/main/solutions.json.gz'\n",
        "d1 = pd.read_json(link)\n",
        "d1.head()"
      ],
      "execution_count": 2,
      "outputs": [
        {
          "output_type": "execute_result",
          "data": {
            "text/html": [
              "<div>\n",
              "<style scoped>\n",
              "    .dataframe tbody tr th:only-of-type {\n",
              "        vertical-align: middle;\n",
              "    }\n",
              "\n",
              "    .dataframe tbody tr th {\n",
              "        vertical-align: top;\n",
              "    }\n",
              "\n",
              "    .dataframe thead th {\n",
              "        text-align: right;\n",
              "    }\n",
              "</style>\n",
              "<table border=\"1\" class=\"dataframe\">\n",
              "  <thead>\n",
              "    <tr style=\"text-align: right;\">\n",
              "      <th></th>\n",
              "      <th>l</th>\n",
              "      <th>k</th>\n",
              "      <th>solution</th>\n",
              "      <th>gcd</th>\n",
              "      <th>n</th>\n",
              "    </tr>\n",
              "  </thead>\n",
              "  <tbody>\n",
              "    <tr>\n",
              "      <th>0</th>\n",
              "      <td>[-1, 0, -1, 0, -1]</td>\n",
              "      <td>[-1, 0, -1, 1, -1]</td>\n",
              "      <td>[1, 4, 4, 4, -5, -5, -5, -5, -5, 6, 6]</td>\n",
              "      <td>1</td>\n",
              "      <td>11</td>\n",
              "    </tr>\n",
              "    <tr>\n",
              "      <th>1</th>\n",
              "      <td>[-1, 1]</td>\n",
              "      <td>[-1, 0, -1]</td>\n",
              "      <td>[1, 2, 2, -3, -3, -3, 4]</td>\n",
              "      <td>1</td>\n",
              "      <td>7</td>\n",
              "    </tr>\n",
              "    <tr>\n",
              "      <th>2</th>\n",
              "      <td>[1, -1, 0, 1, -1]</td>\n",
              "      <td>[-2, 0, -1, -2, 0]</td>\n",
              "      <td>[1, 1, -2, -2, -3, -3, 5, 5, 5, 5, -6, -6]</td>\n",
              "      <td>2</td>\n",
              "      <td>12</td>\n",
              "    </tr>\n",
              "    <tr>\n",
              "      <th>3</th>\n",
              "      <td>[-1, 1, -1, 1, -1]</td>\n",
              "      <td>[-2, -1, 0, -1, 0]</td>\n",
              "      <td>[1, 1, 1, 1, 2, 2, 2, -3, -4, -4, -6, 7]</td>\n",
              "      <td>1</td>\n",
              "      <td>12</td>\n",
              "    </tr>\n",
              "    <tr>\n",
              "      <th>4</th>\n",
              "      <td>[1, 0, 1, 0, -1]</td>\n",
              "      <td>[-2, -1, -2, -1, 0]</td>\n",
              "      <td>[1, 1, 1, -2, -2, -5, -5, 6, 6, 7, -8]</td>\n",
              "      <td>1</td>\n",
              "      <td>11</td>\n",
              "    </tr>\n",
              "  </tbody>\n",
              "</table>\n",
              "</div>"
            ],
            "text/plain": [
              "                    l                    k  ... gcd   n\n",
              "0  [-1, 0, -1, 0, -1]   [-1, 0, -1, 1, -1]  ...   1  11\n",
              "1             [-1, 1]          [-1, 0, -1]  ...   1   7\n",
              "2   [1, -1, 0, 1, -1]   [-2, 0, -1, -2, 0]  ...   2  12\n",
              "3  [-1, 1, -1, 1, -1]   [-2, -1, 0, -1, 0]  ...   1  12\n",
              "4    [1, 0, 1, 0, -1]  [-2, -1, -2, -1, 0]  ...   1  11\n",
              "\n",
              "[5 rows x 5 columns]"
            ]
          },
          "metadata": {},
          "execution_count": 2
        }
      ]
    },
    {
      "cell_type": "code",
      "metadata": {
        "id": "AQVklhrfZsrI"
      },
      "source": [
        "# Halla el máximo de cada lista en la columna solutions del Dataframe\n",
        "\n",
        "s = d1['solution']\n",
        "sm = [l for l in s[:]]\n",
        "smax = []\n",
        "for i in range(0,len(sm)):\n",
        "  smi = sm[i] \n",
        "  ab = [abs(x) for x in smi]\n",
        "  sma = max(ab)\n",
        "  smax = smax + [sma]"
      ],
      "execution_count": 3,
      "outputs": []
    },
    {
      "cell_type": "code",
      "metadata": {
        "colab": {
          "base_uri": "https://localhost:8080/",
          "height": 419
        },
        "id": "HFIebRv7ZzxL",
        "outputId": "14091a80-f138-40dc-f142-50fe349edca3"
      },
      "source": [
        "# Suma de los elementos de cada lista en la columna 'solution' del Dataframe\n",
        "\n",
        "suma = s.apply(sum)\n",
        "d = pd.DataFrame(suma)\n",
        "d"
      ],
      "execution_count": 39,
      "outputs": [
        {
          "output_type": "execute_result",
          "data": {
            "text/html": [
              "<div>\n",
              "<style scoped>\n",
              "    .dataframe tbody tr th:only-of-type {\n",
              "        vertical-align: middle;\n",
              "    }\n",
              "\n",
              "    .dataframe tbody tr th {\n",
              "        vertical-align: top;\n",
              "    }\n",
              "\n",
              "    .dataframe thead th {\n",
              "        text-align: right;\n",
              "    }\n",
              "</style>\n",
              "<table border=\"1\" class=\"dataframe\">\n",
              "  <thead>\n",
              "    <tr style=\"text-align: right;\">\n",
              "      <th></th>\n",
              "      <th>solution</th>\n",
              "    </tr>\n",
              "  </thead>\n",
              "  <tbody>\n",
              "    <tr>\n",
              "      <th>0</th>\n",
              "      <td>0</td>\n",
              "    </tr>\n",
              "    <tr>\n",
              "      <th>1</th>\n",
              "      <td>0</td>\n",
              "    </tr>\n",
              "    <tr>\n",
              "      <th>2</th>\n",
              "      <td>0</td>\n",
              "    </tr>\n",
              "    <tr>\n",
              "      <th>3</th>\n",
              "      <td>0</td>\n",
              "    </tr>\n",
              "    <tr>\n",
              "      <th>4</th>\n",
              "      <td>0</td>\n",
              "    </tr>\n",
              "    <tr>\n",
              "      <th>...</th>\n",
              "      <td>...</td>\n",
              "    </tr>\n",
              "    <tr>\n",
              "      <th>390069</th>\n",
              "      <td>0</td>\n",
              "    </tr>\n",
              "    <tr>\n",
              "      <th>390070</th>\n",
              "      <td>0</td>\n",
              "    </tr>\n",
              "    <tr>\n",
              "      <th>390071</th>\n",
              "      <td>0</td>\n",
              "    </tr>\n",
              "    <tr>\n",
              "      <th>390072</th>\n",
              "      <td>0</td>\n",
              "    </tr>\n",
              "    <tr>\n",
              "      <th>390073</th>\n",
              "      <td>0</td>\n",
              "    </tr>\n",
              "  </tbody>\n",
              "</table>\n",
              "<p>390074 rows × 1 columns</p>\n",
              "</div>"
            ],
            "text/plain": [
              "        solution\n",
              "0              0\n",
              "1              0\n",
              "2              0\n",
              "3              0\n",
              "4              0\n",
              "...          ...\n",
              "390069         0\n",
              "390070         0\n",
              "390071         0\n",
              "390072         0\n",
              "390073         0\n",
              "\n",
              "[390074 rows x 1 columns]"
            ]
          },
          "metadata": {},
          "execution_count": 39
        }
      ]
    },
    {
      "cell_type": "code",
      "metadata": {
        "colab": {
          "base_uri": "https://localhost:8080/",
          "height": 419
        },
        "id": "d_wyVw6fYzNO",
        "outputId": "1acf0747-997a-4ccc-dbc9-835da523acbe"
      },
      "source": [
        "# Se crea el Dataframe con las columnas nuevas de los datos obtenidos \n",
        "\n",
        "dicc = {'smax': smax}\n",
        "d2 = pd.DataFrame(dicc)\n",
        "d3 = pd.DataFrame()\n",
        "d3['l'] = d1['l']\n",
        "d3['k'] = d1['k']\n",
        "d3['slution'] = d1['solution']\n",
        "d3['smax'] = d2\n",
        "d3['sum_s'] = d['solution']\n",
        "d3['gcd'] = d1['gcd']\n",
        "d3['n'] = d1['n']\n",
        "d3"
      ],
      "execution_count": 26,
      "outputs": [
        {
          "output_type": "execute_result",
          "data": {
            "text/html": [
              "<div>\n",
              "<style scoped>\n",
              "    .dataframe tbody tr th:only-of-type {\n",
              "        vertical-align: middle;\n",
              "    }\n",
              "\n",
              "    .dataframe tbody tr th {\n",
              "        vertical-align: top;\n",
              "    }\n",
              "\n",
              "    .dataframe thead th {\n",
              "        text-align: right;\n",
              "    }\n",
              "</style>\n",
              "<table border=\"1\" class=\"dataframe\">\n",
              "  <thead>\n",
              "    <tr style=\"text-align: right;\">\n",
              "      <th></th>\n",
              "      <th>l</th>\n",
              "      <th>k</th>\n",
              "      <th>slution</th>\n",
              "      <th>smax</th>\n",
              "      <th>sum_s</th>\n",
              "      <th>gcd</th>\n",
              "      <th>n</th>\n",
              "    </tr>\n",
              "  </thead>\n",
              "  <tbody>\n",
              "    <tr>\n",
              "      <th>0</th>\n",
              "      <td>[-1, 0, -1, 0, -1]</td>\n",
              "      <td>[-1, 0, -1, 1, -1]</td>\n",
              "      <td>[1, 4, 4, 4, -5, -5, -5, -5, -5, 6, 6]</td>\n",
              "      <td>6</td>\n",
              "      <td>0</td>\n",
              "      <td>1</td>\n",
              "      <td>11</td>\n",
              "    </tr>\n",
              "    <tr>\n",
              "      <th>1</th>\n",
              "      <td>[-1, 1]</td>\n",
              "      <td>[-1, 0, -1]</td>\n",
              "      <td>[1, 2, 2, -3, -3, -3, 4]</td>\n",
              "      <td>4</td>\n",
              "      <td>0</td>\n",
              "      <td>1</td>\n",
              "      <td>7</td>\n",
              "    </tr>\n",
              "    <tr>\n",
              "      <th>2</th>\n",
              "      <td>[1, -1, 0, 1, -1]</td>\n",
              "      <td>[-2, 0, -1, -2, 0]</td>\n",
              "      <td>[1, 1, -2, -2, -3, -3, 5, 5, 5, 5, -6, -6]</td>\n",
              "      <td>6</td>\n",
              "      <td>0</td>\n",
              "      <td>2</td>\n",
              "      <td>12</td>\n",
              "    </tr>\n",
              "    <tr>\n",
              "      <th>3</th>\n",
              "      <td>[-1, 1, -1, 1, -1]</td>\n",
              "      <td>[-2, -1, 0, -1, 0]</td>\n",
              "      <td>[1, 1, 1, 1, 2, 2, 2, -3, -4, -4, -6, 7]</td>\n",
              "      <td>7</td>\n",
              "      <td>0</td>\n",
              "      <td>1</td>\n",
              "      <td>12</td>\n",
              "    </tr>\n",
              "    <tr>\n",
              "      <th>4</th>\n",
              "      <td>[1, 0, 1, 0, -1]</td>\n",
              "      <td>[-2, -1, -2, -1, 0]</td>\n",
              "      <td>[1, 1, 1, -2, -2, -5, -5, 6, 6, 7, -8]</td>\n",
              "      <td>8</td>\n",
              "      <td>0</td>\n",
              "      <td>1</td>\n",
              "      <td>11</td>\n",
              "    </tr>\n",
              "    <tr>\n",
              "      <th>...</th>\n",
              "      <td>...</td>\n",
              "      <td>...</td>\n",
              "      <td>...</td>\n",
              "      <td>...</td>\n",
              "      <td>...</td>\n",
              "      <td>...</td>\n",
              "      <td>...</td>\n",
              "    </tr>\n",
              "    <tr>\n",
              "      <th>390069</th>\n",
              "      <td>[-3, -15, -6]</td>\n",
              "      <td>[-3, 8, 9]</td>\n",
              "      <td>[8, -9, -9, 11, 25, -29, -29, 32]</td>\n",
              "      <td>32</td>\n",
              "      <td>0</td>\n",
              "      <td>36</td>\n",
              "      <td>8</td>\n",
              "    </tr>\n",
              "    <tr>\n",
              "      <th>390070</th>\n",
              "      <td>[-10, -5, -15]</td>\n",
              "      <td>[-10, -12, 12]</td>\n",
              "      <td>[5, 5, 5, -17, -27, -27, 28, 28]</td>\n",
              "      <td>28</td>\n",
              "      <td>0</td>\n",
              "      <td>100</td>\n",
              "      <td>8</td>\n",
              "    </tr>\n",
              "    <tr>\n",
              "      <th>390071</th>\n",
              "      <td>[15, -1, 15]</td>\n",
              "      <td>[-14, -13, -14]</td>\n",
              "      <td>[14, -15, -16, 17, -30, 31, 31, -32]</td>\n",
              "      <td>32</td>\n",
              "      <td>0</td>\n",
              "      <td>1</td>\n",
              "      <td>8</td>\n",
              "    </tr>\n",
              "    <tr>\n",
              "      <th>390072</th>\n",
              "      <td>[-15, -9, -1]</td>\n",
              "      <td>[-13, -14, -12]</td>\n",
              "      <td>[11, -13, -15, 19, 23, -26, -30, 31]</td>\n",
              "      <td>31</td>\n",
              "      <td>0</td>\n",
              "      <td>18</td>\n",
              "      <td>8</td>\n",
              "    </tr>\n",
              "    <tr>\n",
              "      <th>390073</th>\n",
              "      <td>[10, 15, 5]</td>\n",
              "      <td>[-11, -14, 7]</td>\n",
              "      <td>[16, -17, -17, 19, 20, -22, -22, 23]</td>\n",
              "      <td>23</td>\n",
              "      <td>0</td>\n",
              "      <td>2000</td>\n",
              "      <td>8</td>\n",
              "    </tr>\n",
              "  </tbody>\n",
              "</table>\n",
              "<p>390074 rows × 7 columns</p>\n",
              "</div>"
            ],
            "text/plain": [
              "                         l                    k  ...   gcd   n\n",
              "0       [-1, 0, -1, 0, -1]   [-1, 0, -1, 1, -1]  ...     1  11\n",
              "1                  [-1, 1]          [-1, 0, -1]  ...     1   7\n",
              "2        [1, -1, 0, 1, -1]   [-2, 0, -1, -2, 0]  ...     2  12\n",
              "3       [-1, 1, -1, 1, -1]   [-2, -1, 0, -1, 0]  ...     1  12\n",
              "4         [1, 0, 1, 0, -1]  [-2, -1, -2, -1, 0]  ...     1  11\n",
              "...                    ...                  ...  ...   ...  ..\n",
              "390069       [-3, -15, -6]           [-3, 8, 9]  ...    36   8\n",
              "390070      [-10, -5, -15]       [-10, -12, 12]  ...   100   8\n",
              "390071        [15, -1, 15]      [-14, -13, -14]  ...     1   8\n",
              "390072       [-15, -9, -1]      [-13, -14, -12]  ...    18   8\n",
              "390073         [10, 15, 5]        [-11, -14, 7]  ...  2000   8\n",
              "\n",
              "[390074 rows x 7 columns]"
            ]
          },
          "metadata": {},
          "execution_count": 26
        }
      ]
    },
    {
      "cell_type": "code",
      "metadata": {
        "colab": {
          "base_uri": "https://localhost:8080/"
        },
        "id": "8zDEWWIxl-w6",
        "outputId": "683da2ce-5cd5-4d1f-b5e0-ed25485be165"
      },
      "source": [
        "# Obtenemos la fila con la smilla para los coeficientes del polinomio\n",
        "\n",
        "np.random.seed(1039474879)\n",
        "n = np.random.randint(0,390074)\n",
        "print('Fila para sacar el los coeficientes: ',n)"
      ],
      "execution_count": 5,
      "outputs": [
        {
          "output_type": "stream",
          "text": [
            "Fila para sacar el los coeficientes:  323626\n"
          ],
          "name": "stdout"
        }
      ]
    },
    {
      "cell_type": "code",
      "metadata": {
        "colab": {
          "base_uri": "https://localhost:8080/"
        },
        "id": "fHdggSpt2gqS",
        "outputId": "e5568432-2297-4eb2-9646-cdce3b57e038"
      },
      "source": [
        "# Lista de los coeficientes que tendrá el polinomio\n",
        "\n",
        "d3.iloc[n,2]"
      ],
      "execution_count": 6,
      "outputs": [
        {
          "output_type": "execute_result",
          "data": {
            "text/plain": [
              "[1, -9, -11, -12, 17, 18, 20, -23, 30, -31]"
            ]
          },
          "metadata": {},
          "execution_count": 6
        }
      ]
    },
    {
      "cell_type": "code",
      "metadata": {
        "colab": {
          "base_uri": "https://localhost:8080/"
        },
        "id": "1sASpnZD3RUR",
        "outputId": "3c51f690-d725-463a-f1a9-20ce7052c20c"
      },
      "source": [
        "# Polinomio de grado 9 con los coeficientes obtenidos\n",
        "\n",
        "coef = d3.iloc[n,2]\n",
        "coef = np.array(coef)\n",
        "poly = np.poly1d(coef)\n",
        "print(np.poly1d(poly))"
      ],
      "execution_count": 7,
      "outputs": [
        {
          "output_type": "stream",
          "text": [
            "   9     8      7      6      5      4      3      2\n",
            "1 x - 9 x - 11 x - 12 x + 17 x + 18 x + 20 x - 23 x + 30 x - 31\n"
          ],
          "name": "stdout"
        }
      ]
    },
    {
      "cell_type": "code",
      "metadata": {
        "colab": {
          "base_uri": "https://localhost:8080/"
        },
        "id": "ZNsQrV7W6rdw",
        "outputId": "c9980f61-b12c-45bc-c695-0b0f2fc987a3"
      },
      "source": [
        "# Raíces del polinomio con el método de Newton\n",
        "\n",
        "root1 = optimize.newton(poly,-18)\n",
        "root2 = optimize.newton(poly,-10)\n",
        "root3 = optimize.newton(poly,0)\n",
        "root4 = optimize.newton(poly,10)\n",
        "root5 = optimize.newton(poly,18)\n",
        "\n",
        "print('raíz 1: ' ,root1)\n",
        "print('raíz 2: ' ,root2)\n",
        "print('raíz 3: ' ,root3)\n",
        "print('raíz 4: ' ,root4)\n",
        "print('raíz 5: ' ,root5)"
      ],
      "execution_count": 12,
      "outputs": [
        {
          "output_type": "stream",
          "text": [
            "raíz 1:  1.0000000000000544\n",
            "raíz 2:  0.9999999999999996\n",
            "raíz 3:  1.0000000000000155\n",
            "raíz 4:  10.17856620905625\n",
            "raíz 5:  10.17856620905625\n"
          ],
          "name": "stdout"
        }
      ]
    },
    {
      "cell_type": "code",
      "metadata": {
        "colab": {
          "base_uri": "https://localhost:8080/",
          "height": 99
        },
        "id": "RKdGGLYc7Awz",
        "outputId": "4212bc1f-8386-44a3-b965-bc522171b6d6"
      },
      "source": [
        "# Derivda  del polinomio\n",
        "\n",
        "x = sy.var('x')\n",
        "dp = sy.diff(poly(x))\n",
        "dp"
      ],
      "execution_count": 9,
      "outputs": [
        {
          "output_type": "execute_result",
          "data": {
            "text/latex": "$\\displaystyle x \\left(x \\left(x \\left(x \\left(x \\left(x \\left(x \\left(x - 9\\right) - 11\\right) - 12\\right) + 17\\right) + 18\\right) + 20\\right) - 23\\right) + x \\left(x \\left(x \\left(x \\left(x \\left(x \\left(x \\left(x - 9\\right) - 11\\right) - 12\\right) + 17\\right) + 18\\right) + 20\\right) + x \\left(x \\left(x \\left(x \\left(x \\left(x \\left(x - 9\\right) - 11\\right) - 12\\right) + 17\\right) + 18\\right) + x \\left(x \\left(x \\left(x \\left(x \\left(x - 9\\right) - 11\\right) - 12\\right) + 17\\right) + x \\left(x \\left(x \\left(x \\left(x - 9\\right) - 11\\right) - 12\\right) + x \\left(x \\left(x \\left(x - 9\\right) - 11\\right) + x \\left(x \\left(x - 9\\right) + x \\left(2 x - 9\\right) - 11\\right) - 12\\right) + 17\\right) + 18\\right) + 20\\right) - 23\\right) + 30$",
            "text/plain": [
              "x*(x*(x*(x*(x*(x*(x*(x - 9) - 11) - 12) + 17) + 18) + 20) - 23) + x*(x*(x*(x*(x*(x*(x*(x - 9) - 11) - 12) + 17) + 18) + 20) + x*(x*(x*(x*(x*(x*(x - 9) - 11) - 12) + 17) + 18) + x*(x*(x*(x*(x*(x - 9) - 11) - 12) + 17) + x*(x*(x*(x*(x - 9) - 11) - 12) + x*(x*(x*(x - 9) - 11) + x*(x*(x - 9) + x*(2*x - 9) - 11) - 12) + 17) + 18) + 20) - 23) + 30"
            ]
          },
          "metadata": {},
          "execution_count": 9
        }
      ]
    },
    {
      "cell_type": "code",
      "metadata": {
        "colab": {
          "base_uri": "https://localhost:8080/",
          "height": 421
        },
        "id": "C-U696Z_7AiE",
        "outputId": "040be6d6-7df7-48a9-ef63-02a5ea2528e9"
      },
      "source": [
        "# Gráfico del polinomio\n",
        "x = np.linspace(-50,50,10000)\n",
        "\n",
        "plt.figure(figsize=(12,6))\n",
        "plt.plot(x,poly(x), label = '$P(x)$')\n",
        "plt.grid()\n",
        "plt.xlabel('$x$', fontsize=16)\n",
        "plt.ylabel('$P(x)$', fontsize = 16)\n",
        "plt.legend(fontsize = 16)\n",
        "\n",
        "# Límite en el eje x\n",
        "plt.xlim(-35,35)"
      ],
      "execution_count": 10,
      "outputs": [
        {
          "output_type": "execute_result",
          "data": {
            "text/plain": [
              "(-35.0, 35.0)"
            ]
          },
          "metadata": {},
          "execution_count": 10
        },
        {
          "output_type": "display_data",
          "data": {
            "image/png": "[encoded data removed]",
            "text/plain": [
              "<Figure size 864x432 with 1 Axes>"
            ]
          },
          "metadata": {
            "needs_background": "light"
          }
        }
      ]
    },
    {
      "cell_type": "markdown",
      "metadata": {
        "id": "llOtmHTAfTJO"
      },
      "source": [
        "## $\\textbf{Segunda Parte}$"
      ]
    },
    {
      "cell_type": "code",
      "metadata": {
        "colab": {
          "base_uri": "https://localhost:8080/"
        },
        "id": "a0QXnR5AgofX",
        "outputId": "2c3a9ce0-a555-4337-9bb7-10f8e1fb0568"
      },
      "source": [
        "# Fijar semilla y sacar número aleatorio\n",
        "\n",
        "np.random.seed(1039474879)\n",
        "n = print('Número: ', np.random.randint(1,6))"
      ],
      "execution_count": 13,
      "outputs": [
        {
          "output_type": "stream",
          "text": [
            "Número:  3\n"
          ],
          "name": "stdout"
        }
      ]
    },
    {
      "cell_type": "markdown",
      "metadata": {
        "id": "N-gs7s6zic4Q"
      },
      "source": [
        "Función: \n",
        "\\begin{equation}\n",
        " \\frac{\\sin x}{x}=-p\\,\n",
        "\\end{equation}"
      ]
    },
    {
      "cell_type": "code",
      "metadata": {
        "id": "5-S0pXywiBOF",
        "colab": {
          "base_uri": "https://localhost:8080/"
        },
        "outputId": "fd128dc4-cfe6-48dd-8d82-892fdec2e51f"
      },
      "source": [
        "#Hallar valor alatorio para p con semilla\n",
        "np.random.seed(1039474)\n",
        "p = np.random.rand()\n",
        "print('Valor aleatorio entre 0 y 1 para p: %.3f ' %p)"
      ],
      "execution_count": 14,
      "outputs": [
        {
          "output_type": "stream",
          "text": [
            "Valor aleatorio entre 0 y 1 para p: 0.153 \n"
          ],
          "name": "stdout"
        }
      ]
    },
    {
      "cell_type": "markdown",
      "metadata": {
        "id": "pyoxMhNWqqai"
      },
      "source": [
        "Luego la función queda: \n",
        "\\begin{equation}\n",
        "g(x) = \\frac{\\sin x}{x} + 0.153\\,\n",
        "\\end{equation}"
      ]
    },
    {
      "cell_type": "code",
      "metadata": {
        "id": "vpzgJRmojJHM",
        "colab": {
          "base_uri": "https://localhost:8080/"
        },
        "outputId": "dee8724b-bfab-45e3-8a9f-6e495abfa44e"
      },
      "source": [
        "# Hallar las soluciones a la ecuación anerior\n",
        "\n",
        "g = lambda x : np.sin(x)/x + p\n",
        "\n",
        "\n",
        "#Calculo de las raíces con el método \"bisect\".\n",
        "r1 = optimize.bisect(g, -10, -4)\n",
        "print('r1: ',r1)\n",
        "\n",
        "r2 = optimize.bisect(g, -1, 5)\n",
        "print('r2: ',r2)\n",
        "\n",
        "r3 = optimize.bisect(g, 5, 10)\n",
        "print('r3: ',r3)"
      ],
      "execution_count": 17,
      "outputs": [
        {
          "output_type": "stream",
          "text": [
            "r1:  -5.32832749756426\n",
            "r2:  3.754339552530382\n",
            "r3:  5.328327497564942\n"
          ],
          "name": "stdout"
        }
      ]
    },
    {
      "cell_type": "code",
      "metadata": {
        "id": "y8Jv2nwhwD50",
        "colab": {
          "base_uri": "https://localhost:8080/"
        },
        "outputId": "c4bfde01-48bf-4af1-8c92-14679a5c941f"
      },
      "source": [
        "#Calculo de las raíces con el método \"Newton Rapshod\".\n",
        "r4 = optimize.newton(g,-4)\n",
        "print('r4: ',r4)\n",
        "\n",
        "r5 = optimize.newton(g,-6)\n",
        "print('r5: ',r5)"
      ],
      "execution_count": 18,
      "outputs": [
        {
          "output_type": "stream",
          "text": [
            "r4:  -3.754339552531586\n",
            "r5:  -5.328327497564297\n"
          ],
          "name": "stdout"
        }
      ]
    },
    {
      "cell_type": "markdown",
      "metadata": {
        "id": "3zu6T8flsd85"
      },
      "source": [
        "Vemos que utilizando dos métodos para hallar raíces, tenemos 4 raíces, en: -5.33, -3.75, 3.75 y 5.33, allí la función se hace cero.\\\n",
        "\\\n",
        " A continuación se graficará la función con valores de $x$ $\\epsilon$ $[-10,10]$."
      ]
    },
    {
      "cell_type": "code",
      "metadata": {
        "id": "yQDe1YFVkIEP",
        "colab": {
          "base_uri": "https://localhost:8080/",
          "height": 412
        },
        "outputId": "c4aa18ba-da6e-4fca-9f22-d98c8b0445df"
      },
      "source": [
        "# Valores de x, entre -10 y 10, 1000 puntos\n",
        "x = np.linspace(-10,10,1000)\n",
        "\n",
        "# Gráfica de la función\n",
        "plt.figure(figsize=(12,6))\n",
        "plt.plot(x, g(x), 'r', label = '$g(x) = sin(x)/x + 0.153$')\n",
        "plt.title('$Gráfica$ $de$ $la$ $Función$', fontsize= 18)\n",
        "plt.xlabel('$x$', fontsize=12)\n",
        "plt.ylabel('$g(x)$', fontsize=12)\n",
        "plt.legend(fontsize = 14)\n",
        "plt.grid()"
      ],
      "execution_count": 19,
      "outputs": [
        {
          "output_type": "display_data",
          "data": {
            "image/png": "[encoded data removed]",
            "text/plain": [
              "<Figure size 864x432 with 1 Axes>"
            ]
          },
          "metadata": {
            "needs_background": "light"
          }
        }
      ]
    },
    {
      "cell_type": "markdown",
      "metadata": {
        "id": "1SyWHxpgtcu9"
      },
      "source": [
        "Observamos entonces que efectivamente como la función se hace cero en los valores encontrados anteriormente"
      ]
    },
    {
      "cell_type": "code",
      "metadata": {
        "id": "GSLwZf8ckn4x"
      },
      "source": [
        ""
      ],
      "execution_count": null,
      "outputs": []
    }
  ]
}