{
  "nbformat": 4,
  "nbformat_minor": 0,
  "metadata": {
    "colab": {
      "name": "Copia de Pandas.ipynb",
      "provenance": [],
      "collapsed_sections": [
        "c_bj3IfLxE1Q",
        "z5JBXWlkh8Z3",
        "ElU5h9tnxE1Y",
        "4zhJVNq1pTTe",
        "QZUHeScjp6cC",
        "5ulKgKBRxE1m",
        "J-F92xHmp8v7"
      ]
    },
    "kernelspec": {
      "display_name": "Python 3",
      "language": "python",
      "name": "python3"
    },
    "language_info": {
      "codemirror_mode": {
        "name": "ipython",
        "version": 3
      },
      "file_extension": ".py",
      "mimetype": "text/x-python",
      "name": "python",
      "nbconvert_exporter": "python",
      "pygments_lexer": "ipython3",
      "version": "3.7.3"
    },
    "toc": {
      "colors": {
        "hover_highlight": "#DAA520",
        "running_highlight": "#FF0000",
        "selected_highlight": "#FFD700"
      },
      "moveMenuLeft": true,
      "nav_menu": {},
      "navigate_menu": true,
      "number_sections": true,
      "sideBar": true,
      "threshold": 4,
      "toc_cell": false,
      "toc_section_display": "block",
      "toc_window_display": false
    }
  },
  "cells": [
    {
      "cell_type": "markdown",
      "metadata": {
        "id": "d8BGX58hxE06"
      },
      "source": [
        "# Pandas\n",
        "<a href=\"https://colab.research.google.com/github/restrepo/ComputationalMethods/blob/master/material/Pandas.ipynb\" target=\"_parent\"><img src=\"https://colab.research.google.com/assets/colab-badge.svg\" alt=\"Open In Colab\"/></a>"
      ]
    },
    {
      "cell_type": "markdown",
      "metadata": {
        "id": "zm9tRsn7xE0_"
      },
      "source": [
        "From http://pandas.pydata.org/pandas-docs/stable/\n",
        "\n",
        "pandas is a Python package providing fast, flexible, and expressive data structures designed to make working with “relational” or “labeled” data both easy and intuitive. It aims to be the fundamental high-level building block for doing practical, real world data analysis in Python. Additionally, it has the broader goal of becoming the most powerful and flexible open source data analysis / manipulation tool available in any language. It is already well on its way toward this goal.\n",
        "\n",
        "See also:\n",
        "\n",
        "* https://github.com/restrepo/data-analysis\n",
        "  * https://classroom.github.com/g/sSMBdBqN\n",
        "  * https://classroom.github.com/a/PcbQBE7F\n",
        "* https://github.com/restrepo/PythonTipsAndTricks\n",
        "* https://pbpython.com/excel-pandas-comp.html [[archive.org](https://web.archive.org/web/20201126143453/https://pbpython.com/excel-pandas-comp.html)]\n",
        "\n",
        "A good and practice book about `Pandas` possibilities is:\n",
        "\n",
        "[__Python for Data Analysis__](https://drive.google.com/open?id=0BxoOXsn2EUNIWExXbVc4SDN0YTQ)<br/>\n",
        "Data Wrangling with Pandas, NumPy, and IPython<br/>\n",
        "_By William McKinney_\n",
        "\n",
        "\n",
        "This other is about aplications based on `Pandas`:\n",
        "![image.png](https://covers.oreillystatic.com/images/0636920030515/cat.gif) [Introduction to Machine Learning with Python](https://drive.google.com/open?id=0BxoOXsn2EUNISGhrdEZ3S29fS3M)<br/>\n",
        "A Guide for Data Scientists\n",
        "By Sarah Guido, Andreas Müller\n",
        "\n",
        "`Pandas` can be used in a similar way to `R`, which is based on similar data structures. `Pandas` also can replace the use of graphical interfaces to access spreadsheets like Excel"
      ]
    },
    {
      "cell_type": "markdown",
      "metadata": {
        "id": "zd4jo7KLxE1C"
      },
      "source": [
        "## Standard way to load the module"
      ]
    },
    {
      "cell_type": "code",
      "metadata": {
        "id": "K3BSlyLBxE1E"
      },
      "source": [
        "import pandas as pd"
      ],
      "execution_count": null,
      "outputs": []
    },
    {
      "cell_type": "markdown",
      "metadata": {
        "id": "I7Hbe9JEadOC"
      },
      "source": [
        "## Basic structure: DataFrame"
      ]
    },
    {
      "cell_type": "markdown",
      "metadata": {
        "id": "IE_Vzycqajls"
      },
      "source": [
        "An flat _spreadsheet_ can be seen in terms of the types of variables of `Python` just as dictionary of lists, where each column of the spreadsheet is a pair key-list of the dictionary \n",
        "\n",
        "|   |  A   |  B   |\n",
        "|---|:----:|:----:|\n",
        "| 1 | even | odd  |\n",
        "| 2 |   0  | 1    |\n",
        "| 3 |   2  | 3    |\n",
        "| 4 |   4  | 5    |\n",
        "| 5 |   6  | 7    |\n",
        "| 6 |   8  | 9    |"
      ]
    },
    {
      "cell_type": "code",
      "metadata": {
        "id": "lxEc0jlHauyc"
      },
      "source": [
        "numbers={\"even\": [0,2,4,6,8],   #  First  key-list\n",
        "         \"odd\" : [1,3,5,7,9] }  #  Second key-list"
      ],
      "execution_count": 5,
      "outputs": []
    },
    {
      "cell_type": "markdown",
      "metadata": {
        "id": "HeN8rw1JxE1N"
      },
      "source": [
        "## Data structures"
      ]
    },
    {
      "cell_type": "markdown",
      "metadata": {
        "id": "UiL0O2SNcCfG"
      },
      "source": [
        "`Pandas` has two new data structures:\n",
        "1. `DataFrame` which are similar to numpy arrays but with some assigned key. For example, for the previous case\n",
        "```python\n",
        "import numpy as np\n",
        "np.array([[0,1],\n",
        "          [2,3],\n",
        "          [4,5],\n",
        "          [6,7],\n",
        "          [8,9] \n",
        "         ])\n",
        "```\n",
        "1. `Series` which are enriched  to dictionaries, as the ones defined for the rows of the previous example: `{'even':0,'odd':1}`.\n",
        "\n"
      ]
    },
    {
      "cell_type": "markdown",
      "metadata": {
        "id": "jaWfZyimxE1O"
      },
      "source": [
        "\n",
        "The rows in a two-dimensional `DataFrame` corresponds to `Series` with similar keys, while the columns are also Series with the indices as keys. \n",
        "\n",
        "An example of a  `DataFrame` is a spreadsheet, as the one before."
      ]
    },
    {
      "cell_type": "markdown",
      "metadata": {
        "id": "uRdBR4BXc8WY"
      },
      "source": [
        "### `DataFrame`\n",
        "`Pandas` can convert a dictionary of lists, like the `numbers` dictionary before, into a `DataFrame`, which is just an spreadsheet but interpreted at the programming level:\n",
        "\n"
      ]
    },
    {
      "cell_type": "code",
      "metadata": {
        "colab": {
          "base_uri": "https://localhost:8080/",
          "height": 204
        },
        "id": "dC00VECAd_Dr",
        "outputId": "059cc6f5-439e-4d79-806a-bf20772374f6"
      },
      "source": [
        "import pandas as pd\n",
        "pd.set_option('display.max_colwidth',200)\n",
        "df=pd.DataFrame(numbers)\n",
        "df"
      ],
      "execution_count": 11,
      "outputs": [
        {
          "output_type": "execute_result",
          "data": {
            "text/html": [
              "<div>\n",
              "<style scoped>\n",
              "    .dataframe tbody tr th:only-of-type {\n",
              "        vertical-align: middle;\n",
              "    }\n",
              "\n",
              "    .dataframe tbody tr th {\n",
              "        vertical-align: top;\n",
              "    }\n",
              "\n",
              "    .dataframe thead th {\n",
              "        text-align: right;\n",
              "    }\n",
              "</style>\n",
              "<table border=\"1\" class=\"dataframe\">\n",
              "  <thead>\n",
              "    <tr style=\"text-align: right;\">\n",
              "      <th></th>\n",
              "      <th>even</th>\n",
              "      <th>odd</th>\n",
              "    </tr>\n",
              "  </thead>\n",
              "  <tbody>\n",
              "    <tr>\n",
              "      <th>0</th>\n",
              "      <td>0</td>\n",
              "      <td>1</td>\n",
              "    </tr>\n",
              "    <tr>\n",
              "      <th>1</th>\n",
              "      <td>2</td>\n",
              "      <td>3</td>\n",
              "    </tr>\n",
              "    <tr>\n",
              "      <th>2</th>\n",
              "      <td>4</td>\n",
              "      <td>5</td>\n",
              "    </tr>\n",
              "    <tr>\n",
              "      <th>3</th>\n",
              "      <td>6</td>\n",
              "      <td>7</td>\n",
              "    </tr>\n",
              "    <tr>\n",
              "      <th>4</th>\n",
              "      <td>8</td>\n",
              "      <td>9</td>\n",
              "    </tr>\n",
              "  </tbody>\n",
              "</table>\n",
              "</div>"
            ],
            "text/plain": [
              "   even  odd\n",
              "0     0    1\n",
              "1     2    3\n",
              "2     4    5\n",
              "3     6    7\n",
              "4     8    9"
            ]
          },
          "metadata": {
            "tags": []
          },
          "execution_count": 11
        }
      ]
    },
    {
      "cell_type": "markdown",
      "metadata": {
        "id": "zUZ1BcuneYQf"
      },
      "source": [
        "It is equivalent to:"
      ]
    },
    {
      "cell_type": "code",
      "metadata": {
        "colab": {
          "base_uri": "https://localhost:8080/",
          "height": 204
        },
        "id": "nqtL07nJecD6",
        "outputId": "43ada72b-b6a9-4fd2-a27a-51fa8c663307"
      },
      "source": [
        "pd.DataFrame.from_dict(numbers)"
      ],
      "execution_count": 12,
      "outputs": [
        {
          "output_type": "execute_result",
          "data": {
            "text/html": [
              "<div>\n",
              "<style scoped>\n",
              "    .dataframe tbody tr th:only-of-type {\n",
              "        vertical-align: middle;\n",
              "    }\n",
              "\n",
              "    .dataframe tbody tr th {\n",
              "        vertical-align: top;\n",
              "    }\n",
              "\n",
              "    .dataframe thead th {\n",
              "        text-align: right;\n",
              "    }\n",
              "</style>\n",
              "<table border=\"1\" class=\"dataframe\">\n",
              "  <thead>\n",
              "    <tr style=\"text-align: right;\">\n",
              "      <th></th>\n",
              "      <th>even</th>\n",
              "      <th>odd</th>\n",
              "    </tr>\n",
              "  </thead>\n",
              "  <tbody>\n",
              "    <tr>\n",
              "      <th>0</th>\n",
              "      <td>0</td>\n",
              "      <td>1</td>\n",
              "    </tr>\n",
              "    <tr>\n",
              "      <th>1</th>\n",
              "      <td>2</td>\n",
              "      <td>3</td>\n",
              "    </tr>\n",
              "    <tr>\n",
              "      <th>2</th>\n",
              "      <td>4</td>\n",
              "      <td>5</td>\n",
              "    </tr>\n",
              "    <tr>\n",
              "      <th>3</th>\n",
              "      <td>6</td>\n",
              "      <td>7</td>\n",
              "    </tr>\n",
              "    <tr>\n",
              "      <th>4</th>\n",
              "      <td>8</td>\n",
              "      <td>9</td>\n",
              "    </tr>\n",
              "  </tbody>\n",
              "</table>\n",
              "</div>"
            ],
            "text/plain": [
              "   even  odd\n",
              "0     0    1\n",
              "1     2    3\n",
              "2     4    5\n",
              "3     6    7\n",
              "4     8    9"
            ]
          },
          "metadata": {
            "tags": []
          },
          "execution_count": 12
        }
      ]
    },
    {
      "cell_type": "markdown",
      "metadata": {
        "id": "1ftuPJd5eiu6"
      },
      "source": [
        "See below for other possibilities of [creating Pandas DataFrames from lists and dictionaries](https://fisica.udea.edu.co:4443/user/restrepo/notebooks/prog/cursos/data-analysis/Pandas.ipynb#Intialization-from-lists-and-dictionaries)"
      ]
    },
    {
      "cell_type": "markdown",
      "metadata": {
        "id": "myuwII1Ed9PE"
      },
      "source": [
        "The main advantage of the `DataFrame`, `df`, is that it can be managed without a graphical interface."
      ]
    },
    {
      "cell_type": "markdown",
      "metadata": {
        "id": "5A0YScKRehta"
      },
      "source": [
        "We can check the shape of the `DataFrame`"
      ]
    },
    {
      "cell_type": "code",
      "metadata": {
        "colab": {
          "base_uri": "https://localhost:8080/"
        },
        "id": "RV-ivs5Weyzq",
        "outputId": "ab990629-893d-42dc-b939-9a0aa2395767"
      },
      "source": [
        "df.shape"
      ],
      "execution_count": 13,
      "outputs": [
        {
          "output_type": "execute_result",
          "data": {
            "text/plain": [
              "(5, 2)"
            ]
          },
          "metadata": {
            "tags": []
          },
          "execution_count": 13
        }
      ]
    },
    {
      "cell_type": "markdown",
      "metadata": {
        "id": "ZMc0puXbe3nD"
      },
      "source": [
        "####  Export DataFrame to other formats\n",
        "* To export to excel:"
      ]
    },
    {
      "cell_type": "code",
      "metadata": {
        "id": "ioWKY1FAe-rK"
      },
      "source": [
        "df.to_excel('example.xlsx',index=False)"
      ],
      "execution_count": 14,
      "outputs": []
    },
    {
      "cell_type": "markdown",
      "metadata": {
        "id": "yIdeiNi_fBPJ"
      },
      "source": [
        "__Activity__: Open the resulting spreadsheet in Google Drive, publish it and open from the resulting link with Pandas in the next cell"
      ]
    },
    {
      "cell_type": "code",
      "metadata": {
        "id": "ZqIbSbLvf0wm",
        "colab": {
          "base_uri": "https://localhost:8080/",
          "height": 340
        },
        "outputId": "0f884308-135f-4186-acb9-0fd1403a9f07"
      },
      "source": [
        "df=pd.read_excel('PASTE THE PUBLISHED LINK HERE')\n",
        "df"
      ],
      "execution_count": 17,
      "outputs": [
        {
          "output_type": "error",
          "ename": "FileNotFoundError",
          "evalue": "ignored",
          "traceback": [
            "\u001b[0;31m---------------------------------------------------------------------------\u001b[0m",
            "\u001b[0;31mFileNotFoundError\u001b[0m                         Traceback (most recent call last)",
            "\u001b[0;32m<ipython-input-17-8c6776022bfa>\u001b[0m in \u001b[0;36m<module>\u001b[0;34m()\u001b[0m\n\u001b[0;32m----> 1\u001b[0;31m \u001b[0mdf\u001b[0m\u001b[0;34m=\u001b[0m\u001b[0mpd\u001b[0m\u001b[0;34m.\u001b[0m\u001b[0mread_excel\u001b[0m\u001b[0;34m(\u001b[0m\u001b[0;34m'PASTE THE PUBLISHED LINK HERE'\u001b[0m\u001b[0;34m)\u001b[0m\u001b[0;34m\u001b[0m\u001b[0;34m\u001b[0m\u001b[0m\n\u001b[0m\u001b[1;32m      2\u001b[0m \u001b[0mdf\u001b[0m\u001b[0;34m\u001b[0m\u001b[0;34m\u001b[0m\u001b[0m\n",
            "\u001b[0;32m/usr/local/lib/python3.7/dist-packages/pandas/util/_decorators.py\u001b[0m in \u001b[0;36mwrapper\u001b[0;34m(*args, **kwargs)\u001b[0m\n\u001b[1;32m    294\u001b[0m                 )\n\u001b[1;32m    295\u001b[0m                 \u001b[0mwarnings\u001b[0m\u001b[0;34m.\u001b[0m\u001b[0mwarn\u001b[0m\u001b[0;34m(\u001b[0m\u001b[0mmsg\u001b[0m\u001b[0;34m,\u001b[0m \u001b[0mFutureWarning\u001b[0m\u001b[0;34m,\u001b[0m \u001b[0mstacklevel\u001b[0m\u001b[0;34m=\u001b[0m\u001b[0mstacklevel\u001b[0m\u001b[0;34m)\u001b[0m\u001b[0;34m\u001b[0m\u001b[0;34m\u001b[0m\u001b[0m\n\u001b[0;32m--> 296\u001b[0;31m             \u001b[0;32mreturn\u001b[0m \u001b[0mfunc\u001b[0m\u001b[0;34m(\u001b[0m\u001b[0;34m*\u001b[0m\u001b[0margs\u001b[0m\u001b[0;34m,\u001b[0m \u001b[0;34m**\u001b[0m\u001b[0mkwargs\u001b[0m\u001b[0;34m)\u001b[0m\u001b[0;34m\u001b[0m\u001b[0;34m\u001b[0m\u001b[0m\n\u001b[0m\u001b[1;32m    297\u001b[0m \u001b[0;34m\u001b[0m\u001b[0m\n\u001b[1;32m    298\u001b[0m         \u001b[0;32mreturn\u001b[0m \u001b[0mwrapper\u001b[0m\u001b[0;34m\u001b[0m\u001b[0;34m\u001b[0m\u001b[0m\n",
            "\u001b[0;32m/usr/local/lib/python3.7/dist-packages/pandas/io/excel/_base.py\u001b[0m in \u001b[0;36mread_excel\u001b[0;34m(io, sheet_name, header, names, index_col, usecols, squeeze, dtype, engine, converters, true_values, false_values, skiprows, nrows, na_values, keep_default_na, na_filter, verbose, parse_dates, date_parser, thousands, comment, skipfooter, convert_float, mangle_dupe_cols)\u001b[0m\n\u001b[1;32m    302\u001b[0m \u001b[0;34m\u001b[0m\u001b[0m\n\u001b[1;32m    303\u001b[0m     \u001b[0;32mif\u001b[0m \u001b[0;32mnot\u001b[0m \u001b[0misinstance\u001b[0m\u001b[0;34m(\u001b[0m\u001b[0mio\u001b[0m\u001b[0;34m,\u001b[0m \u001b[0mExcelFile\u001b[0m\u001b[0;34m)\u001b[0m\u001b[0;34m:\u001b[0m\u001b[0;34m\u001b[0m\u001b[0;34m\u001b[0m\u001b[0m\n\u001b[0;32m--> 304\u001b[0;31m         \u001b[0mio\u001b[0m \u001b[0;34m=\u001b[0m \u001b[0mExcelFile\u001b[0m\u001b[0;34m(\u001b[0m\u001b[0mio\u001b[0m\u001b[0;34m,\u001b[0m \u001b[0mengine\u001b[0m\u001b[0;34m=\u001b[0m\u001b[0mengine\u001b[0m\u001b[0;34m)\u001b[0m\u001b[0;34m\u001b[0m\u001b[0;34m\u001b[0m\u001b[0m\n\u001b[0m\u001b[1;32m    305\u001b[0m     \u001b[0;32melif\u001b[0m \u001b[0mengine\u001b[0m \u001b[0;32mand\u001b[0m \u001b[0mengine\u001b[0m \u001b[0;34m!=\u001b[0m \u001b[0mio\u001b[0m\u001b[0;34m.\u001b[0m\u001b[0mengine\u001b[0m\u001b[0;34m:\u001b[0m\u001b[0;34m\u001b[0m\u001b[0;34m\u001b[0m\u001b[0m\n\u001b[1;32m    306\u001b[0m         raise ValueError(\n",
            "\u001b[0;32m/usr/local/lib/python3.7/dist-packages/pandas/io/excel/_base.py\u001b[0m in \u001b[0;36m__init__\u001b[0;34m(self, path_or_buffer, engine)\u001b[0m\n\u001b[1;32m    865\u001b[0m         \u001b[0mself\u001b[0m\u001b[0;34m.\u001b[0m\u001b[0m_io\u001b[0m \u001b[0;34m=\u001b[0m \u001b[0mstringify_path\u001b[0m\u001b[0;34m(\u001b[0m\u001b[0mpath_or_buffer\u001b[0m\u001b[0;34m)\u001b[0m\u001b[0;34m\u001b[0m\u001b[0;34m\u001b[0m\u001b[0m\n\u001b[1;32m    866\u001b[0m \u001b[0;34m\u001b[0m\u001b[0m\n\u001b[0;32m--> 867\u001b[0;31m         \u001b[0mself\u001b[0m\u001b[0;34m.\u001b[0m\u001b[0m_reader\u001b[0m \u001b[0;34m=\u001b[0m \u001b[0mself\u001b[0m\u001b[0;34m.\u001b[0m\u001b[0m_engines\u001b[0m\u001b[0;34m[\u001b[0m\u001b[0mengine\u001b[0m\u001b[0;34m]\u001b[0m\u001b[0;34m(\u001b[0m\u001b[0mself\u001b[0m\u001b[0;34m.\u001b[0m\u001b[0m_io\u001b[0m\u001b[0;34m)\u001b[0m\u001b[0;34m\u001b[0m\u001b[0;34m\u001b[0m\u001b[0m\n\u001b[0m\u001b[1;32m    868\u001b[0m \u001b[0;34m\u001b[0m\u001b[0m\n\u001b[1;32m    869\u001b[0m     \u001b[0;32mdef\u001b[0m \u001b[0m__fspath__\u001b[0m\u001b[0;34m(\u001b[0m\u001b[0mself\u001b[0m\u001b[0;34m)\u001b[0m\u001b[0;34m:\u001b[0m\u001b[0;34m\u001b[0m\u001b[0;34m\u001b[0m\u001b[0m\n",
            "\u001b[0;32m/usr/local/lib/python3.7/dist-packages/pandas/io/excel/_xlrd.py\u001b[0m in \u001b[0;36m__init__\u001b[0;34m(self, filepath_or_buffer)\u001b[0m\n\u001b[1;32m     20\u001b[0m         \u001b[0merr_msg\u001b[0m \u001b[0;34m=\u001b[0m \u001b[0;34m\"Install xlrd >= 1.0.0 for Excel support\"\u001b[0m\u001b[0;34m\u001b[0m\u001b[0;34m\u001b[0m\u001b[0m\n\u001b[1;32m     21\u001b[0m         \u001b[0mimport_optional_dependency\u001b[0m\u001b[0;34m(\u001b[0m\u001b[0;34m\"xlrd\"\u001b[0m\u001b[0;34m,\u001b[0m \u001b[0mextra\u001b[0m\u001b[0;34m=\u001b[0m\u001b[0merr_msg\u001b[0m\u001b[0;34m)\u001b[0m\u001b[0;34m\u001b[0m\u001b[0;34m\u001b[0m\u001b[0m\n\u001b[0;32m---> 22\u001b[0;31m         \u001b[0msuper\u001b[0m\u001b[0;34m(\u001b[0m\u001b[0;34m)\u001b[0m\u001b[0;34m.\u001b[0m\u001b[0m__init__\u001b[0m\u001b[0;34m(\u001b[0m\u001b[0mfilepath_or_buffer\u001b[0m\u001b[0;34m)\u001b[0m\u001b[0;34m\u001b[0m\u001b[0;34m\u001b[0m\u001b[0m\n\u001b[0m\u001b[1;32m     23\u001b[0m \u001b[0;34m\u001b[0m\u001b[0m\n\u001b[1;32m     24\u001b[0m     \u001b[0;34m@\u001b[0m\u001b[0mproperty\u001b[0m\u001b[0;34m\u001b[0m\u001b[0;34m\u001b[0m\u001b[0m\n",
            "\u001b[0;32m/usr/local/lib/python3.7/dist-packages/pandas/io/excel/_base.py\u001b[0m in \u001b[0;36m__init__\u001b[0;34m(self, filepath_or_buffer)\u001b[0m\n\u001b[1;32m    351\u001b[0m             \u001b[0mself\u001b[0m\u001b[0;34m.\u001b[0m\u001b[0mbook\u001b[0m \u001b[0;34m=\u001b[0m \u001b[0mself\u001b[0m\u001b[0;34m.\u001b[0m\u001b[0mload_workbook\u001b[0m\u001b[0;34m(\u001b[0m\u001b[0mfilepath_or_buffer\u001b[0m\u001b[0;34m)\u001b[0m\u001b[0;34m\u001b[0m\u001b[0;34m\u001b[0m\u001b[0m\n\u001b[1;32m    352\u001b[0m         \u001b[0;32melif\u001b[0m \u001b[0misinstance\u001b[0m\u001b[0;34m(\u001b[0m\u001b[0mfilepath_or_buffer\u001b[0m\u001b[0;34m,\u001b[0m \u001b[0mstr\u001b[0m\u001b[0;34m)\u001b[0m\u001b[0;34m:\u001b[0m\u001b[0;34m\u001b[0m\u001b[0;34m\u001b[0m\u001b[0m\n\u001b[0;32m--> 353\u001b[0;31m             \u001b[0mself\u001b[0m\u001b[0;34m.\u001b[0m\u001b[0mbook\u001b[0m \u001b[0;34m=\u001b[0m \u001b[0mself\u001b[0m\u001b[0;34m.\u001b[0m\u001b[0mload_workbook\u001b[0m\u001b[0;34m(\u001b[0m\u001b[0mfilepath_or_buffer\u001b[0m\u001b[0;34m)\u001b[0m\u001b[0;34m\u001b[0m\u001b[0;34m\u001b[0m\u001b[0m\n\u001b[0m\u001b[1;32m    354\u001b[0m         \u001b[0;32melif\u001b[0m \u001b[0misinstance\u001b[0m\u001b[0;34m(\u001b[0m\u001b[0mfilepath_or_buffer\u001b[0m\u001b[0;34m,\u001b[0m \u001b[0mbytes\u001b[0m\u001b[0;34m)\u001b[0m\u001b[0;34m:\u001b[0m\u001b[0;34m\u001b[0m\u001b[0;34m\u001b[0m\u001b[0m\n\u001b[1;32m    355\u001b[0m             \u001b[0mself\u001b[0m\u001b[0;34m.\u001b[0m\u001b[0mbook\u001b[0m \u001b[0;34m=\u001b[0m \u001b[0mself\u001b[0m\u001b[0;34m.\u001b[0m\u001b[0mload_workbook\u001b[0m\u001b[0;34m(\u001b[0m\u001b[0mBytesIO\u001b[0m\u001b[0;34m(\u001b[0m\u001b[0mfilepath_or_buffer\u001b[0m\u001b[0;34m)\u001b[0m\u001b[0;34m)\u001b[0m\u001b[0;34m\u001b[0m\u001b[0;34m\u001b[0m\u001b[0m\n",
            "\u001b[0;32m/usr/local/lib/python3.7/dist-packages/pandas/io/excel/_xlrd.py\u001b[0m in \u001b[0;36mload_workbook\u001b[0;34m(self, filepath_or_buffer)\u001b[0m\n\u001b[1;32m     35\u001b[0m             \u001b[0;32mreturn\u001b[0m \u001b[0mopen_workbook\u001b[0m\u001b[0;34m(\u001b[0m\u001b[0mfile_contents\u001b[0m\u001b[0;34m=\u001b[0m\u001b[0mdata\u001b[0m\u001b[0;34m)\u001b[0m\u001b[0;34m\u001b[0m\u001b[0;34m\u001b[0m\u001b[0m\n\u001b[1;32m     36\u001b[0m         \u001b[0;32melse\u001b[0m\u001b[0;34m:\u001b[0m\u001b[0;34m\u001b[0m\u001b[0;34m\u001b[0m\u001b[0m\n\u001b[0;32m---> 37\u001b[0;31m             \u001b[0;32mreturn\u001b[0m \u001b[0mopen_workbook\u001b[0m\u001b[0;34m(\u001b[0m\u001b[0mfilepath_or_buffer\u001b[0m\u001b[0;34m)\u001b[0m\u001b[0;34m\u001b[0m\u001b[0;34m\u001b[0m\u001b[0m\n\u001b[0m\u001b[1;32m     38\u001b[0m \u001b[0;34m\u001b[0m\u001b[0m\n\u001b[1;32m     39\u001b[0m     \u001b[0;34m@\u001b[0m\u001b[0mproperty\u001b[0m\u001b[0;34m\u001b[0m\u001b[0;34m\u001b[0m\u001b[0m\n",
            "\u001b[0;32m/usr/local/lib/python3.7/dist-packages/xlrd/__init__.py\u001b[0m in \u001b[0;36mopen_workbook\u001b[0;34m(filename, logfile, verbosity, use_mmap, file_contents, encoding_override, formatting_info, on_demand, ragged_rows)\u001b[0m\n\u001b[1;32m    114\u001b[0m         \u001b[0mpeek\u001b[0m \u001b[0;34m=\u001b[0m \u001b[0mfile_contents\u001b[0m\u001b[0;34m[\u001b[0m\u001b[0;34m:\u001b[0m\u001b[0mpeeksz\u001b[0m\u001b[0;34m]\u001b[0m\u001b[0;34m\u001b[0m\u001b[0;34m\u001b[0m\u001b[0m\n\u001b[1;32m    115\u001b[0m     \u001b[0;32melse\u001b[0m\u001b[0;34m:\u001b[0m\u001b[0;34m\u001b[0m\u001b[0;34m\u001b[0m\u001b[0m\n\u001b[0;32m--> 116\u001b[0;31m         \u001b[0;32mwith\u001b[0m \u001b[0mopen\u001b[0m\u001b[0;34m(\u001b[0m\u001b[0mfilename\u001b[0m\u001b[0;34m,\u001b[0m \u001b[0;34m\"rb\"\u001b[0m\u001b[0;34m)\u001b[0m \u001b[0;32mas\u001b[0m \u001b[0mf\u001b[0m\u001b[0;34m:\u001b[0m\u001b[0;34m\u001b[0m\u001b[0;34m\u001b[0m\u001b[0m\n\u001b[0m\u001b[1;32m    117\u001b[0m             \u001b[0mpeek\u001b[0m \u001b[0;34m=\u001b[0m \u001b[0mf\u001b[0m\u001b[0;34m.\u001b[0m\u001b[0mread\u001b[0m\u001b[0;34m(\u001b[0m\u001b[0mpeeksz\u001b[0m\u001b[0;34m)\u001b[0m\u001b[0;34m\u001b[0m\u001b[0;34m\u001b[0m\u001b[0m\n\u001b[1;32m    118\u001b[0m     \u001b[0;32mif\u001b[0m \u001b[0mpeek\u001b[0m \u001b[0;34m==\u001b[0m \u001b[0;34mb\"PK\\x03\\x04\"\u001b[0m\u001b[0;34m:\u001b[0m \u001b[0;31m# a ZIP file\u001b[0m\u001b[0;34m\u001b[0m\u001b[0;34m\u001b[0m\u001b[0m\n",
            "\u001b[0;31mFileNotFoundError\u001b[0m: [Errno 2] No such file or directory: 'PASTE THE PUBLISHED LINK HERE'"
          ]
        }
      ]
    },
    {
      "cell_type": "markdown",
      "metadata": {
        "id": "c_bj3IfLxE1Q"
      },
      "source": [
        "### `Series`"
      ]
    },
    {
      "cell_type": "markdown",
      "metadata": {
        "id": "H2LIeZbCgoL5"
      },
      "source": [
        "Each column of the DataFrame is now an augmented dictionary called `Series`, with the indices as the keys of the `Series`"
      ]
    },
    {
      "cell_type": "markdown",
      "metadata": {
        "id": "klrbIsoGxE1R"
      },
      "source": [
        "A `Pandas` `Series` object can be just initialized from a `Python` dictionary:"
      ]
    },
    {
      "cell_type": "markdown",
      "metadata": {
        "id": "FoTT2jkqgrpR"
      },
      "source": [
        " df['even'] "
      ]
    },
    {
      "cell_type": "markdown",
      "metadata": {
        "id": "aQVbUu5sRR0_"
      },
      "source": [
        ""
      ]
    },
    {
      "cell_type": "code",
      "metadata": {
        "id": "l6L4Yh-TRS4h",
        "colab": {
          "base_uri": "https://localhost:8080/"
        },
        "outputId": "ed945bd5-8831-4521-8ee3-5e9e084056cb"
      },
      "source": [
        "type(df['even'])"
      ],
      "execution_count": 27,
      "outputs": [
        {
          "output_type": "execute_result",
          "data": {
            "text/plain": [
              "pandas.core.series.Series"
            ]
          },
          "metadata": {
            "tags": []
          },
          "execution_count": 27
        }
      ]
    },
    {
      "cell_type": "markdown",
      "metadata": {
        "id": "Iy8h3XICgz9w"
      },
      "source": [
        "The keys are the index of the `DataFrame`"
      ]
    },
    {
      "cell_type": "code",
      "metadata": {
        "colab": {
          "base_uri": "https://localhost:8080/"
        },
        "id": "BTIxbKvhg6m2",
        "outputId": "3fdc187f-7eda-48ec-d3cd-1a7057917931"
      },
      "source": [
        "df.even"
      ],
      "execution_count": 28,
      "outputs": [
        {
          "output_type": "execute_result",
          "data": {
            "text/plain": [
              "0    0\n",
              "1    2\n",
              "2    4\n",
              "3    6\n",
              "4    8\n",
              "Name: even, dtype: int64"
            ]
          },
          "metadata": {
            "tags": []
          },
          "execution_count": 28
        }
      ]
    },
    {
      "cell_type": "markdown",
      "metadata": {
        "id": "7MIKjfslg7Xx"
      },
      "source": [
        "Each row is also a series"
      ]
    },
    {
      "cell_type": "code",
      "metadata": {
        "colab": {
          "base_uri": "https://localhost:8080/"
        },
        "id": "rhiEFGhOg-kx",
        "outputId": "fde1039f-34bb-4770-bf29-460bfecef3f8"
      },
      "source": [
        "df.loc[0]"
      ],
      "execution_count": 29,
      "outputs": [
        {
          "output_type": "execute_result",
          "data": {
            "text/plain": [
              "even    0\n",
              "odd     1\n",
              "Name: 0, dtype: int64"
            ]
          },
          "metadata": {
            "tags": []
          },
          "execution_count": 29
        }
      ]
    },
    {
      "cell_type": "markdown",
      "metadata": {
        "id": "ki2GW4yohKl5"
      },
      "source": [
        "with keys: `'even'` and `'odd'`"
      ]
    },
    {
      "cell_type": "code",
      "metadata": {
        "colab": {
          "base_uri": "https://localhost:8080/"
        },
        "id": "JPLVdBrAhFCJ",
        "outputId": "8a94a420-aa3d-4045-95d8-8e34741a9be9"
      },
      "source": [
        "df.loc[0]['even']"
      ],
      "execution_count": 30,
      "outputs": [
        {
          "output_type": "execute_result",
          "data": {
            "text/plain": [
              "0"
            ]
          },
          "metadata": {
            "tags": []
          },
          "execution_count": 30
        }
      ]
    },
    {
      "cell_type": "markdown",
      "metadata": {
        "id": "8NuiZ2NIhGjx"
      },
      "source": [
        "or attributes `even` and `odd`"
      ]
    },
    {
      "cell_type": "code",
      "metadata": {
        "colab": {
          "base_uri": "https://localhost:8080/"
        },
        "id": "KmY9Jrk_hZyx",
        "outputId": "e82582fe-7956-4306-cb83-c04aecc54c35"
      },
      "source": [
        "df.loc[0].odd"
      ],
      "execution_count": 31,
      "outputs": [
        {
          "output_type": "execute_result",
          "data": {
            "text/plain": [
              "1"
            ]
          },
          "metadata": {
            "tags": []
          },
          "execution_count": 31
        }
      ]
    },
    {
      "cell_type": "markdown",
      "metadata": {
        "id": "vOxxMKJshhKJ"
      },
      "source": [
        "One specific cell value can be reached with the index and the key:"
      ]
    },
    {
      "cell_type": "code",
      "metadata": {
        "colab": {
          "base_uri": "https://localhost:8080/"
        },
        "id": "MexLUmZLhph5",
        "outputId": "43496a51-7cd7-4926-c8fc-b98f726ba42b"
      },
      "source": [
        "df.loc[2,'odd']"
      ],
      "execution_count": 32,
      "outputs": [
        {
          "output_type": "execute_result",
          "data": {
            "text/plain": [
              "5"
            ]
          },
          "metadata": {
            "tags": []
          },
          "execution_count": 32
        }
      ]
    },
    {
      "cell_type": "code",
      "metadata": {
        "id": "Y47et2xaSauX",
        "colab": {
          "base_uri": "https://localhost:8080/",
          "height": 0
        },
        "outputId": "c15f758a-5ecb-4656-bac9-f473f35ee45c"
      },
      "source": [
        "df\n"
      ],
      "execution_count": 33,
      "outputs": [
        {
          "output_type": "execute_result",
          "data": {
            "text/html": [
              "<div>\n",
              "<style scoped>\n",
              "    .dataframe tbody tr th:only-of-type {\n",
              "        vertical-align: middle;\n",
              "    }\n",
              "\n",
              "    .dataframe tbody tr th {\n",
              "        vertical-align: top;\n",
              "    }\n",
              "\n",
              "    .dataframe thead th {\n",
              "        text-align: right;\n",
              "    }\n",
              "</style>\n",
              "<table border=\"1\" class=\"dataframe\">\n",
              "  <thead>\n",
              "    <tr style=\"text-align: right;\">\n",
              "      <th></th>\n",
              "      <th>even</th>\n",
              "      <th>odd</th>\n",
              "    </tr>\n",
              "  </thead>\n",
              "  <tbody>\n",
              "    <tr>\n",
              "      <th>0</th>\n",
              "      <td>0</td>\n",
              "      <td>1</td>\n",
              "    </tr>\n",
              "    <tr>\n",
              "      <th>1</th>\n",
              "      <td>2</td>\n",
              "      <td>3</td>\n",
              "    </tr>\n",
              "    <tr>\n",
              "      <th>2</th>\n",
              "      <td>4</td>\n",
              "      <td>5</td>\n",
              "    </tr>\n",
              "    <tr>\n",
              "      <th>3</th>\n",
              "      <td>6</td>\n",
              "      <td>7</td>\n",
              "    </tr>\n",
              "    <tr>\n",
              "      <th>4</th>\n",
              "      <td>8</td>\n",
              "      <td>9</td>\n",
              "    </tr>\n",
              "  </tbody>\n",
              "</table>\n",
              "</div>"
            ],
            "text/plain": [
              "   even  odd\n",
              "0     0    1\n",
              "1     2    3\n",
              "2     4    5\n",
              "3     6    7\n",
              "4     8    9"
            ]
          },
          "metadata": {
            "tags": []
          },
          "execution_count": 33
        }
      ]
    },
    {
      "cell_type": "code",
      "metadata": {
        "colab": {
          "base_uri": "https://localhost:8080/"
        },
        "id": "LrhKw9EQxE1T",
        "outputId": "4bf0ef06-ad7a-4115-d8f6-d1d9626b90e3"
      },
      "source": [
        "s=pd.Series({'Name':'Juan Valdez','Nacionality':'Colombia','Age':23})\n",
        "s"
      ],
      "execution_count": 34,
      "outputs": [
        {
          "output_type": "execute_result",
          "data": {
            "text/plain": [
              "Name           Juan Valdez\n",
              "Nacionality       Colombia\n",
              "Age                     23\n",
              "dtype: object"
            ]
          },
          "metadata": {
            "tags": []
          },
          "execution_count": 34
        }
      ]
    },
    {
      "cell_type": "markdown",
      "metadata": {
        "id": "TzNtVUV6h36n"
      },
      "source": [
        "*Note* that the key name can be used also as an attribute.\n"
      ]
    },
    {
      "cell_type": "code",
      "metadata": {
        "colab": {
          "base_uri": "https://localhost:8080/"
        },
        "id": "ip9ADEo7h5vA",
        "outputId": "ec8e7199-82d1-44f3-b6ea-2c3fec925216"
      },
      "source": [
        "df.odd"
      ],
      "execution_count": 35,
      "outputs": [
        {
          "output_type": "execute_result",
          "data": {
            "text/plain": [
              "0    1\n",
              "1    3\n",
              "2    5\n",
              "3    7\n",
              "4    9\n",
              "Name: odd, dtype: int64"
            ]
          },
          "metadata": {
            "tags": []
          },
          "execution_count": 35
        }
      ]
    },
    {
      "cell_type": "markdown",
      "metadata": {
        "id": "z5JBXWlkh8Z3"
      },
      "source": [
        "> The __power__ of Pandas rely in that their main data structures: `DataFrames` and `Series`, are enriched with many useful methods and attributes.\n",
        "\n",
        "### [Official definition of Pandas](http://pandas.pydata.org/pandas-docs/stable/)\n",
        "\n",
        "> Pandas is a Python package providing __fast__, __flexible__, and __expressive__ _data structures_ designed to make working with “relational” or “labeled” data both easy and intuitive. It aims to be the fundamental high-level building block for doing practical, real world data analysis in Python. Additionally, it _has the broader goal of becoming the most powerful and flexible open source data analysis / manipulation tool_ available in any language. It is already well on its way toward this goal.\n",
        "\n",
        "* \"relational\": the list of data is identified with some unique index (like a `SQL` table)\n",
        "* \"labeled\": the list is identified with a key, like the previous `odd` or `even` keys.\n"
      ]
    },
    {
      "cell_type": "markdown",
      "metadata": {
        "id": "sDC5HnPOicTg"
      },
      "source": [
        "For example. A double bracket `[[...]]`, can be used to filter data.\n",
        "\n",
        "A row in a two-dimensional `DataFrame` corresponds to `Series` with the same keys of the `DataFrame`, but with single values instead of a list "
      ]
    },
    {
      "cell_type": "code",
      "metadata": {
        "colab": {
          "base_uri": "https://localhost:8080/",
          "height": 0
        },
        "id": "UfyqbhjXigZc",
        "outputId": "6004fd05-4131-4aa4-bca2-0640cf127d64"
      },
      "source": [
        "df.loc[[0]]"
      ],
      "execution_count": 36,
      "outputs": [
        {
          "output_type": "execute_result",
          "data": {
            "text/html": [
              "<div>\n",
              "<style scoped>\n",
              "    .dataframe tbody tr th:only-of-type {\n",
              "        vertical-align: middle;\n",
              "    }\n",
              "\n",
              "    .dataframe tbody tr th {\n",
              "        vertical-align: top;\n",
              "    }\n",
              "\n",
              "    .dataframe thead th {\n",
              "        text-align: right;\n",
              "    }\n",
              "</style>\n",
              "<table border=\"1\" class=\"dataframe\">\n",
              "  <thead>\n",
              "    <tr style=\"text-align: right;\">\n",
              "      <th></th>\n",
              "      <th>even</th>\n",
              "      <th>odd</th>\n",
              "    </tr>\n",
              "  </thead>\n",
              "  <tbody>\n",
              "    <tr>\n",
              "      <th>0</th>\n",
              "      <td>0</td>\n",
              "      <td>1</td>\n",
              "    </tr>\n",
              "  </tbody>\n",
              "</table>\n",
              "</div>"
            ],
            "text/plain": [
              "   even  odd\n",
              "0     0    1"
            ]
          },
          "metadata": {
            "tags": []
          },
          "execution_count": 36
        }
      ]
    },
    {
      "cell_type": "code",
      "metadata": {
        "colab": {
          "base_uri": "https://localhost:8080/"
        },
        "id": "-dANKUEoi78M",
        "outputId": "40dc567c-5487-477c-8ebc-2fd8e28002db"
      },
      "source": [
        "print( 'the row has' )\n",
        "print( '                  keys: {} and values: {}'.format( list( df.loc[[0]].keys() ),df.loc[[0]].values[0]  ) )\n",
        "print( \"like the dictionay:\" )\n",
        "print( \"                      { 'even' : 0, 'odd' : 1 }\")"
      ],
      "execution_count": 37,
      "outputs": [
        {
          "output_type": "stream",
          "text": [
            "the row has\n",
            "                  keys: ['even', 'odd'] and values: [0 1]\n",
            "like the dictionay:\n",
            "                      { 'even' : 0, 'odd' : 1 }\n"
          ],
          "name": "stdout"
        }
      ]
    },
    {
      "cell_type": "markdown",
      "metadata": {
        "id": "p7MgQWMijI0W"
      },
      "source": [
        "To filter a column:"
      ]
    },
    {
      "cell_type": "code",
      "metadata": {
        "colab": {
          "base_uri": "https://localhost:8080/",
          "height": 0
        },
        "id": "nT_SkKMIjMWY",
        "outputId": "77e38600-bb5f-4c82-a771-b5cb930333ef"
      },
      "source": [
        "df[['odd']]"
      ],
      "execution_count": 38,
      "outputs": [
        {
          "output_type": "execute_result",
          "data": {
            "text/html": [
              "<div>\n",
              "<style scoped>\n",
              "    .dataframe tbody tr th:only-of-type {\n",
              "        vertical-align: middle;\n",
              "    }\n",
              "\n",
              "    .dataframe tbody tr th {\n",
              "        vertical-align: top;\n",
              "    }\n",
              "\n",
              "    .dataframe thead th {\n",
              "        text-align: right;\n",
              "    }\n",
              "</style>\n",
              "<table border=\"1\" class=\"dataframe\">\n",
              "  <thead>\n",
              "    <tr style=\"text-align: right;\">\n",
              "      <th></th>\n",
              "      <th>odd</th>\n",
              "    </tr>\n",
              "  </thead>\n",
              "  <tbody>\n",
              "    <tr>\n",
              "      <th>0</th>\n",
              "      <td>1</td>\n",
              "    </tr>\n",
              "    <tr>\n",
              "      <th>1</th>\n",
              "      <td>3</td>\n",
              "    </tr>\n",
              "    <tr>\n",
              "      <th>2</th>\n",
              "      <td>5</td>\n",
              "    </tr>\n",
              "    <tr>\n",
              "      <th>3</th>\n",
              "      <td>7</td>\n",
              "    </tr>\n",
              "    <tr>\n",
              "      <th>4</th>\n",
              "      <td>9</td>\n",
              "    </tr>\n",
              "  </tbody>\n",
              "</table>\n",
              "</div>"
            ],
            "text/plain": [
              "   odd\n",
              "0    1\n",
              "1    3\n",
              "2    5\n",
              "3    7\n",
              "4    9"
            ]
          },
          "metadata": {
            "tags": []
          },
          "execution_count": 38
        }
      ]
    },
    {
      "cell_type": "markdown",
      "metadata": {
        "id": "ElU5h9tnxE1Y"
      },
      "source": [
        "### More on `Series`"
      ]
    },
    {
      "cell_type": "markdown",
      "metadata": {
        "id": "pg20NksOjdQW"
      },
      "source": [
        "A `Pandas` `Series` object can be just initialized from a `Python` dictionary:"
      ]
    },
    {
      "cell_type": "code",
      "metadata": {
        "colab": {
          "base_uri": "https://localhost:8080/"
        },
        "id": "qjuk_nn0jgFH",
        "outputId": "c3746823-1c41-402c-db41-b5c9ffdc33c7"
      },
      "source": [
        "s=pd.Series({'Name':'Juan Valdez','Nacionality':'Colombia','Age':23})\n",
        "s"
      ],
      "execution_count": 39,
      "outputs": [
        {
          "output_type": "execute_result",
          "data": {
            "text/plain": [
              "Name           Juan Valdez\n",
              "Nacionality       Colombia\n",
              "Age                     23\n",
              "dtype: object"
            ]
          },
          "metadata": {
            "tags": []
          },
          "execution_count": 39
        }
      ]
    },
    {
      "cell_type": "code",
      "metadata": {
        "colab": {
          "base_uri": "https://localhost:8080/",
          "height": 0
        },
        "id": "pAtixllExE1Z",
        "outputId": "f7bc92eb-676b-4596-abee-4470441afd86"
      },
      "source": [
        "s['Name']"
      ],
      "execution_count": 40,
      "outputs": [
        {
          "output_type": "execute_result",
          "data": {
            "application/vnd.google.colaboratory.intrinsic+json": {
              "type": "string"
            },
            "text/plain": [
              "'Juan Valdez'"
            ]
          },
          "metadata": {
            "tags": []
          },
          "execution_count": 40
        }
      ]
    },
    {
      "cell_type": "markdown",
      "metadata": {
        "id": "pYb112eqxE1e"
      },
      "source": [
        "but also as containers of name spaces!"
      ]
    },
    {
      "cell_type": "code",
      "metadata": {
        "colab": {
          "base_uri": "https://localhost:8080/",
          "height": 0
        },
        "id": "6_GfsFVwxE1f",
        "outputId": "7e9d15dc-a800-4792-876a-c752bc1193eb"
      },
      "source": [
        "s.Nacionality"
      ],
      "execution_count": 41,
      "outputs": [
        {
          "output_type": "execute_result",
          "data": {
            "application/vnd.google.colaboratory.intrinsic+json": {
              "type": "string"
            },
            "text/plain": [
              "'Colombia'"
            ]
          },
          "metadata": {
            "tags": []
          },
          "execution_count": 41
        }
      ]
    },
    {
      "cell_type": "markdown",
      "metadata": {
        "id": "Kab6pfyMxE1k"
      },
      "source": [
        "## `DataFrame` initialization"
      ]
    },
    {
      "cell_type": "markdown",
      "metadata": {
        "id": "4zhJVNq1pTTe"
      },
      "source": [
        "### Initization from an existing spreadsheet. \n",
        "This can be locally in your computer o from some downloadable  link"
      ]
    },
    {
      "cell_type": "code",
      "metadata": {
        "colab": {
          "base_uri": "https://localhost:8080/",
          "height": 0
        },
        "id": "yM4oF9r-pWsw",
        "outputId": "481dd76b-b0fe-47de-ed88-2d6494e4a7b5"
      },
      "source": [
        "df=pd.read_excel('http://bit.ly/spreadsheet_xlsx')\n",
        "df"
      ],
      "execution_count": 42,
      "outputs": [
        {
          "output_type": "execute_result",
          "data": {
            "text/html": [
              "<div>\n",
              "<style scoped>\n",
              "    .dataframe tbody tr th:only-of-type {\n",
              "        vertical-align: middle;\n",
              "    }\n",
              "\n",
              "    .dataframe tbody tr th {\n",
              "        vertical-align: top;\n",
              "    }\n",
              "\n",
              "    .dataframe thead th {\n",
              "        text-align: right;\n",
              "    }\n",
              "</style>\n",
              "<table border=\"1\" class=\"dataframe\">\n",
              "  <thead>\n",
              "    <tr style=\"text-align: right;\">\n",
              "      <th></th>\n",
              "      <th>Nombre</th>\n",
              "      <th>Edad</th>\n",
              "      <th>Compañia</th>\n",
              "    </tr>\n",
              "  </thead>\n",
              "  <tbody>\n",
              "    <tr>\n",
              "      <th>0</th>\n",
              "      <td>Juan Valdez</td>\n",
              "      <td>23</td>\n",
              "      <td>Café de Colombia</td>\n",
              "    </tr>\n",
              "    <tr>\n",
              "      <th>1</th>\n",
              "      <td>Álvaro Uribe Vélez</td>\n",
              "      <td>65</td>\n",
              "      <td>Senado de la República</td>\n",
              "    </tr>\n",
              "  </tbody>\n",
              "</table>\n",
              "</div>"
            ],
            "text/plain": [
              "               Nombre  Edad                Compañia\n",
              "0         Juan Valdez    23        Café de Colombia\n",
              "1  Álvaro Uribe Vélez    65  Senado de la República"
            ]
          },
          "metadata": {
            "tags": []
          },
          "execution_count": 42
        }
      ]
    },
    {
      "cell_type": "markdown",
      "metadata": {
        "id": "QM4z4MoXpjLj"
      },
      "source": [
        "To make a downloadable link for any spread sheet in Google Drive, follow the sequence:\n",
        "```\n",
        "File → Publish to the web...→ Entire Document → Web page → Microsoft excel (xlsx)\n",
        "```\n",
        "as illustrated in the figure:\n",
        "![GS](https://github.com/restrepo/data-analysis/blob/master/img/img1.png?raw=1)"
      ]
    },
    {
      "cell_type": "code",
      "metadata": {
        "colab": {
          "base_uri": "https://localhost:8080/",
          "height": 0
        },
        "id": "29uXQfWjpx66",
        "outputId": "c1b8624f-8643-44f7-ebdd-9e8f0985f18b"
      },
      "source": [
        "df.loc[0,'Edad']=32\n",
        "df"
      ],
      "execution_count": 43,
      "outputs": [
        {
          "output_type": "execute_result",
          "data": {
            "text/html": [
              "<div>\n",
              "<style scoped>\n",
              "    .dataframe tbody tr th:only-of-type {\n",
              "        vertical-align: middle;\n",
              "    }\n",
              "\n",
              "    .dataframe tbody tr th {\n",
              "        vertical-align: top;\n",
              "    }\n",
              "\n",
              "    .dataframe thead th {\n",
              "        text-align: right;\n",
              "    }\n",
              "</style>\n",
              "<table border=\"1\" class=\"dataframe\">\n",
              "  <thead>\n",
              "    <tr style=\"text-align: right;\">\n",
              "      <th></th>\n",
              "      <th>Nombre</th>\n",
              "      <th>Edad</th>\n",
              "      <th>Compañia</th>\n",
              "    </tr>\n",
              "  </thead>\n",
              "  <tbody>\n",
              "    <tr>\n",
              "      <th>0</th>\n",
              "      <td>Juan Valdez</td>\n",
              "      <td>32</td>\n",
              "      <td>Café de Colombia</td>\n",
              "    </tr>\n",
              "    <tr>\n",
              "      <th>1</th>\n",
              "      <td>Álvaro Uribe Vélez</td>\n",
              "      <td>65</td>\n",
              "      <td>Senado de la República</td>\n",
              "    </tr>\n",
              "  </tbody>\n",
              "</table>\n",
              "</div>"
            ],
            "text/plain": [
              "               Nombre  Edad                Compañia\n",
              "0         Juan Valdez    32        Café de Colombia\n",
              "1  Álvaro Uribe Vélez    65  Senado de la República"
            ]
          },
          "metadata": {
            "tags": []
          },
          "execution_count": 43
        }
      ]
    },
    {
      "cell_type": "code",
      "metadata": {
        "id": "rV68NKSDU9sU",
        "colab": {
          "base_uri": "https://localhost:8080/",
          "height": 0
        },
        "outputId": "2e107ab4-9d0b-47bb-a850-819fa13bc321"
      },
      "source": [
        "df.at[0, 'Edad']=32\n",
        "df"
      ],
      "execution_count": 44,
      "outputs": [
        {
          "output_type": "execute_result",
          "data": {
            "text/html": [
              "<div>\n",
              "<style scoped>\n",
              "    .dataframe tbody tr th:only-of-type {\n",
              "        vertical-align: middle;\n",
              "    }\n",
              "\n",
              "    .dataframe tbody tr th {\n",
              "        vertical-align: top;\n",
              "    }\n",
              "\n",
              "    .dataframe thead th {\n",
              "        text-align: right;\n",
              "    }\n",
              "</style>\n",
              "<table border=\"1\" class=\"dataframe\">\n",
              "  <thead>\n",
              "    <tr style=\"text-align: right;\">\n",
              "      <th></th>\n",
              "      <th>Nombre</th>\n",
              "      <th>Edad</th>\n",
              "      <th>Compañia</th>\n",
              "    </tr>\n",
              "  </thead>\n",
              "  <tbody>\n",
              "    <tr>\n",
              "      <th>0</th>\n",
              "      <td>Juan Valdez</td>\n",
              "      <td>32</td>\n",
              "      <td>Café de Colombia</td>\n",
              "    </tr>\n",
              "    <tr>\n",
              "      <th>1</th>\n",
              "      <td>Álvaro Uribe Vélez</td>\n",
              "      <td>65</td>\n",
              "      <td>Senado de la República</td>\n",
              "    </tr>\n",
              "  </tbody>\n",
              "</table>\n",
              "</div>"
            ],
            "text/plain": [
              "               Nombre  Edad                Compañia\n",
              "0         Juan Valdez    32        Café de Colombia\n",
              "1  Álvaro Uribe Vélez    65  Senado de la República"
            ]
          },
          "metadata": {
            "tags": []
          },
          "execution_count": 44
        }
      ]
    },
    {
      "cell_type": "markdown",
      "metadata": {
        "id": "eeZzLpDUpqbS"
      },
      "source": [
        "*After* some modification"
      ]
    },
    {
      "cell_type": "markdown",
      "metadata": {
        "id": "TRjW0Y4Rpv-i"
      },
      "source": [
        "it can be saved again as an `excel file` with the option to not create a column of indices: `index=False`"
      ]
    },
    {
      "cell_type": "markdown",
      "metadata": {
        "id": "QZUHeScjp6cC"
      },
      "source": [
        "### Intialization from lists and dictionaries"
      ]
    },
    {
      "cell_type": "markdown",
      "metadata": {
        "id": "5ulKgKBRxE1m"
      },
      "source": [
        "#### Inizialization from Series\n",
        "We start with an empty `DataFrame`:"
      ]
    },
    {
      "cell_type": "markdown",
      "metadata": {
        "id": "J-F92xHmp8v7"
      },
      "source": [
        "Creating Pandas DataFrame from list and dictionaries [offers many alternatives](http://pbpython.com/pandas-list-dict.html)\n",
        "\n",
        "![creating dataframes](http://pbpython.com/images/pandas-dataframe-shadow.png)\n",
        "\n",
        "#### Row oriented way\n",
        "* In addition to the dictionary of lists [already illustrated at the beginning]() that in this case corresponds to:"
      ]
    },
    {
      "cell_type": "code",
      "metadata": {
        "colab": {
          "base_uri": "https://localhost:8080/",
          "height": 0
        },
        "id": "7IOuJCeMqBRj",
        "outputId": "942425b5-f259-4cd2-e810-b88b9c9e1083"
      },
      "source": [
        "pd.DataFrame({'Nombre'   : ['Juan Valdez','Álvaro Uribe Vélez'],\n",
        "              'Edad'     : [32,            65                 ],\n",
        "              'Compañia' : ['Café de Colombia','Senado de la República']})"
      ],
      "execution_count": 45,
      "outputs": [
        {
          "output_type": "execute_result",
          "data": {
            "text/html": [
              "<div>\n",
              "<style scoped>\n",
              "    .dataframe tbody tr th:only-of-type {\n",
              "        vertical-align: middle;\n",
              "    }\n",
              "\n",
              "    .dataframe tbody tr th {\n",
              "        vertical-align: top;\n",
              "    }\n",
              "\n",
              "    .dataframe thead th {\n",
              "        text-align: right;\n",
              "    }\n",
              "</style>\n",
              "<table border=\"1\" class=\"dataframe\">\n",
              "  <thead>\n",
              "    <tr style=\"text-align: right;\">\n",
              "      <th></th>\n",
              "      <th>Nombre</th>\n",
              "      <th>Edad</th>\n",
              "      <th>Compañia</th>\n",
              "    </tr>\n",
              "  </thead>\n",
              "  <tbody>\n",
              "    <tr>\n",
              "      <th>0</th>\n",
              "      <td>Juan Valdez</td>\n",
              "      <td>32</td>\n",
              "      <td>Café de Colombia</td>\n",
              "    </tr>\n",
              "    <tr>\n",
              "      <th>1</th>\n",
              "      <td>Álvaro Uribe Vélez</td>\n",
              "      <td>65</td>\n",
              "      <td>Senado de la República</td>\n",
              "    </tr>\n",
              "  </tbody>\n",
              "</table>\n",
              "</div>"
            ],
            "text/plain": [
              "               Nombre  Edad                Compañia\n",
              "0         Juan Valdez    32        Café de Colombia\n",
              "1  Álvaro Uribe Vélez    65  Senado de la República"
            ]
          },
          "metadata": {
            "tags": []
          },
          "execution_count": 45
        }
      ]
    },
    {
      "cell_type": "markdown",
      "metadata": {
        "id": "nJLhj4G4qJZb"
      },
      "source": [
        "* We can obtain the DataFrame from list of items"
      ]
    },
    {
      "cell_type": "markdown",
      "metadata": {
        "id": "J6tp94TlqO_S"
      },
      "source": [
        "* We can obtain the `DataFrame` from dictionary"
      ]
    },
    {
      "cell_type": "code",
      "metadata": {
        "colab": {
          "base_uri": "https://localhost:8080/",
          "height": 0
        },
        "id": "wx-JJgqIqQAD",
        "outputId": "97485bf2-8733-477f-a6c4-403ba6266142"
      },
      "source": [
        "pd.DataFrame( [{'Nombre':'Juan Valdez',        'Edad': 32   ,'Compañia':'Café de Colombia'      },\n",
        "              {'Nombre':'Álvaro Uribe Vélez', 'Edad': 65   ,'Compañia':'Senado de la República'}]\n",
        "            )"
      ],
      "execution_count": 46,
      "outputs": [
        {
          "output_type": "execute_result",
          "data": {
            "text/html": [
              "<div>\n",
              "<style scoped>\n",
              "    .dataframe tbody tr th:only-of-type {\n",
              "        vertical-align: middle;\n",
              "    }\n",
              "\n",
              "    .dataframe tbody tr th {\n",
              "        vertical-align: top;\n",
              "    }\n",
              "\n",
              "    .dataframe thead th {\n",
              "        text-align: right;\n",
              "    }\n",
              "</style>\n",
              "<table border=\"1\" class=\"dataframe\">\n",
              "  <thead>\n",
              "    <tr style=\"text-align: right;\">\n",
              "      <th></th>\n",
              "      <th>Nombre</th>\n",
              "      <th>Edad</th>\n",
              "      <th>Compañia</th>\n",
              "    </tr>\n",
              "  </thead>\n",
              "  <tbody>\n",
              "    <tr>\n",
              "      <th>0</th>\n",
              "      <td>Juan Valdez</td>\n",
              "      <td>32</td>\n",
              "      <td>Café de Colombia</td>\n",
              "    </tr>\n",
              "    <tr>\n",
              "      <th>1</th>\n",
              "      <td>Álvaro Uribe Vélez</td>\n",
              "      <td>65</td>\n",
              "      <td>Senado de la República</td>\n",
              "    </tr>\n",
              "  </tbody>\n",
              "</table>\n",
              "</div>"
            ],
            "text/plain": [
              "               Nombre  Edad                Compañia\n",
              "0         Juan Valdez    32        Café de Colombia\n",
              "1  Álvaro Uribe Vélez    65  Senado de la República"
            ]
          },
          "metadata": {
            "tags": []
          },
          "execution_count": 46
        }
      ]
    },
    {
      "cell_type": "code",
      "metadata": {
        "colab": {
          "base_uri": "https://localhost:8080/",
          "height": 0
        },
        "id": "jPsRspsXxE1n",
        "outputId": "5686e18a-98b9-4a54-e8fb-ec5a7972903a"
      },
      "source": [
        "df=pd.DataFrame()\n",
        "df"
      ],
      "execution_count": 47,
      "outputs": [
        {
          "output_type": "execute_result",
          "data": {
            "text/html": [
              "<div>\n",
              "<style scoped>\n",
              "    .dataframe tbody tr th:only-of-type {\n",
              "        vertical-align: middle;\n",
              "    }\n",
              "\n",
              "    .dataframe tbody tr th {\n",
              "        vertical-align: top;\n",
              "    }\n",
              "\n",
              "    .dataframe thead th {\n",
              "        text-align: right;\n",
              "    }\n",
              "</style>\n",
              "<table border=\"1\" class=\"dataframe\">\n",
              "  <thead>\n",
              "    <tr style=\"text-align: right;\">\n",
              "      <th></th>\n",
              "    </tr>\n",
              "  </thead>\n",
              "  <tbody>\n",
              "  </tbody>\n",
              "</table>\n",
              "</div>"
            ],
            "text/plain": [
              "Empty DataFrame\n",
              "Columns: []\n",
              "Index: []"
            ]
          },
          "metadata": {
            "tags": []
          },
          "execution_count": 47
        }
      ]
    },
    {
      "cell_type": "markdown",
      "metadata": {
        "id": "_ylhD2zjqdby"
      },
      "source": [
        "### Initialization from sequential rows as  Series\n",
        "We start with an empty `DataFrame`:"
      ]
    },
    {
      "cell_type": "code",
      "metadata": {
        "colab": {
          "base_uri": "https://localhost:8080/"
        },
        "id": "r6V0qilXqxBB",
        "outputId": "9e3e4c2c-e0ec-4eb4-e24f-3b174931507e"
      },
      "source": [
        "df=pd.DataFrame()\n",
        "df.empty"
      ],
      "execution_count": 48,
      "outputs": [
        {
          "output_type": "execute_result",
          "data": {
            "text/plain": [
              "True"
            ]
          },
          "metadata": {
            "tags": []
          },
          "execution_count": 48
        }
      ]
    },
    {
      "cell_type": "markdown",
      "metadata": {
        "id": "f0OJapjvxE1q"
      },
      "source": [
        "We can append a dictionary (or Series) as a row of the `DataFrame`, provided that we always use the option: `ignore_index=True`"
      ]
    },
    {
      "cell_type": "code",
      "metadata": {
        "colab": {
          "base_uri": "https://localhost:8080/",
          "height": 80
        },
        "id": "AgR5uPbxrA6q",
        "outputId": "22ad4502-1718-4f6a-98d0-ad68d4869d9a"
      },
      "source": [
        "d={'Name':'Juan Valdez','Nacionality':'Colombia','Age':23}\n",
        "df=df.append(d,ignore_index=True)\n",
        "df"
      ],
      "execution_count": 49,
      "outputs": [
        {
          "output_type": "execute_result",
          "data": {
            "text/html": [
              "<div>\n",
              "<style scoped>\n",
              "    .dataframe tbody tr th:only-of-type {\n",
              "        vertical-align: middle;\n",
              "    }\n",
              "\n",
              "    .dataframe tbody tr th {\n",
              "        vertical-align: top;\n",
              "    }\n",
              "\n",
              "    .dataframe thead th {\n",
              "        text-align: right;\n",
              "    }\n",
              "</style>\n",
              "<table border=\"1\" class=\"dataframe\">\n",
              "  <thead>\n",
              "    <tr style=\"text-align: right;\">\n",
              "      <th></th>\n",
              "      <th>Age</th>\n",
              "      <th>Nacionality</th>\n",
              "      <th>Name</th>\n",
              "    </tr>\n",
              "  </thead>\n",
              "  <tbody>\n",
              "    <tr>\n",
              "      <th>0</th>\n",
              "      <td>23.0</td>\n",
              "      <td>Colombia</td>\n",
              "      <td>Juan Valdez</td>\n",
              "    </tr>\n",
              "  </tbody>\n",
              "</table>\n",
              "</div>"
            ],
            "text/plain": [
              "    Age Nacionality         Name\n",
              "0  23.0    Colombia  Juan Valdez"
            ]
          },
          "metadata": {
            "tags": []
          },
          "execution_count": 49
        }
      ]
    },
    {
      "cell_type": "markdown",
      "metadata": {
        "id": "32Oh_stDxE1w"
      },
      "source": [
        "We can fix the type of data of the `'Age'` column"
      ]
    },
    {
      "cell_type": "code",
      "metadata": {
        "colab": {
          "base_uri": "https://localhost:8080/"
        },
        "id": "-Jk5bSRGxE1y",
        "outputId": "8b7c3bf5-bbc1-46a3-940a-90ef8b24e14d"
      },
      "source": [
        "type(df.Age)"
      ],
      "execution_count": 50,
      "outputs": [
        {
          "output_type": "execute_result",
          "data": {
            "text/plain": [
              "pandas.core.series.Series"
            ]
          },
          "metadata": {
            "tags": []
          },
          "execution_count": 50
        }
      ]
    },
    {
      "cell_type": "code",
      "metadata": {
        "colab": {
          "base_uri": "https://localhost:8080/",
          "height": 80
        },
        "id": "vl9RKEBXxE12",
        "outputId": "d5b7b41e-b170-4e3b-bf2a-63bed16a0af6"
      },
      "source": [
        "df['Age']=df.Age.astype(int)\n",
        "df"
      ],
      "execution_count": 51,
      "outputs": [
        {
          "output_type": "execute_result",
          "data": {
            "text/html": [
              "<div>\n",
              "<style scoped>\n",
              "    .dataframe tbody tr th:only-of-type {\n",
              "        vertical-align: middle;\n",
              "    }\n",
              "\n",
              "    .dataframe tbody tr th {\n",
              "        vertical-align: top;\n",
              "    }\n",
              "\n",
              "    .dataframe thead th {\n",
              "        text-align: right;\n",
              "    }\n",
              "</style>\n",
              "<table border=\"1\" class=\"dataframe\">\n",
              "  <thead>\n",
              "    <tr style=\"text-align: right;\">\n",
              "      <th></th>\n",
              "      <th>Age</th>\n",
              "      <th>Nacionality</th>\n",
              "      <th>Name</th>\n",
              "    </tr>\n",
              "  </thead>\n",
              "  <tbody>\n",
              "    <tr>\n",
              "      <th>0</th>\n",
              "      <td>23</td>\n",
              "      <td>Colombia</td>\n",
              "      <td>Juan Valdez</td>\n",
              "    </tr>\n",
              "  </tbody>\n",
              "</table>\n",
              "</div>"
            ],
            "text/plain": [
              "   Age Nacionality         Name\n",
              "0   23    Colombia  Juan Valdez"
            ]
          },
          "metadata": {
            "tags": []
          },
          "execution_count": 51
        }
      ]
    },
    {
      "cell_type": "markdown",
      "metadata": {
        "id": "npH4wLrNxE17"
      },
      "source": [
        "To add a second file we build another `dict`"
      ]
    },
    {
      "cell_type": "code",
      "metadata": {
        "colab": {
          "base_uri": "https://localhost:8080/"
        },
        "id": "nTwRmub3xE18",
        "outputId": "ea059bc0-fb85-48f7-cbb6-d027b45928f9"
      },
      "source": [
        "d={}\n",
        "for k in ['Name','Nacionality','Age','Company']:\n",
        "    var=input('{}:\\n'.format(k))\n",
        "    d[k]=var"
      ],
      "execution_count": 52,
      "outputs": [
        {
          "output_type": "stream",
          "text": [
            "Name:\n",
            "Sofía Casallas\n",
            "Nacionality:\n",
            "Colombia\n",
            "Age:\n",
            "18\n",
            "Company:\n",
            "Universidad de Antioquia\n"
          ],
          "name": "stdout"
        }
      ]
    },
    {
      "cell_type": "markdown",
      "metadata": {
        "id": "t8Xzsb0qxE1-"
      },
      "source": [
        "#### Exercises\n",
        "* Display the resulting `Series` in the screen:"
      ]
    },
    {
      "cell_type": "code",
      "metadata": {
        "colab": {
          "base_uri": "https://localhost:8080/"
        },
        "id": "58Cku5HjxE1_",
        "outputId": "9f6dee3d-1b63-434e-ed61-8ac4d005ea0e"
      },
      "source": [
        "pd.Series(d)"
      ],
      "execution_count": 53,
      "outputs": [
        {
          "output_type": "execute_result",
          "data": {
            "text/plain": [
              "Name                     Sofía Casallas\n",
              "Nacionality                    Colombia\n",
              "Age                                  18\n",
              "Company        Universidad de Antioquia\n",
              "dtype: object"
            ]
          },
          "metadata": {
            "tags": []
          },
          "execution_count": 53
        }
      ]
    },
    {
      "cell_type": "markdown",
      "metadata": {
        "id": "sSPUdkvtxE2C"
      },
      "source": [
        "* Append to the previous `DataFrame` and visualize it:"
      ]
    },
    {
      "cell_type": "code",
      "metadata": {
        "colab": {
          "base_uri": "https://localhost:8080/",
          "height": 111
        },
        "id": "vRRypFa_xE2D",
        "outputId": "153038b3-1594-4ea2-fbb6-a248b7911a94"
      },
      "source": [
        "df=df.append(d, ignore_index=True)\n",
        "df"
      ],
      "execution_count": 54,
      "outputs": [
        {
          "output_type": "execute_result",
          "data": {
            "text/html": [
              "<div>\n",
              "<style scoped>\n",
              "    .dataframe tbody tr th:only-of-type {\n",
              "        vertical-align: middle;\n",
              "    }\n",
              "\n",
              "    .dataframe tbody tr th {\n",
              "        vertical-align: top;\n",
              "    }\n",
              "\n",
              "    .dataframe thead th {\n",
              "        text-align: right;\n",
              "    }\n",
              "</style>\n",
              "<table border=\"1\" class=\"dataframe\">\n",
              "  <thead>\n",
              "    <tr style=\"text-align: right;\">\n",
              "      <th></th>\n",
              "      <th>Age</th>\n",
              "      <th>Nacionality</th>\n",
              "      <th>Name</th>\n",
              "      <th>Company</th>\n",
              "    </tr>\n",
              "  </thead>\n",
              "  <tbody>\n",
              "    <tr>\n",
              "      <th>0</th>\n",
              "      <td>23</td>\n",
              "      <td>Colombia</td>\n",
              "      <td>Juan Valdez</td>\n",
              "      <td>NaN</td>\n",
              "    </tr>\n",
              "    <tr>\n",
              "      <th>1</th>\n",
              "      <td>18</td>\n",
              "      <td>Colombia</td>\n",
              "      <td>Sofía Casallas</td>\n",
              "      <td>Universidad de Antioquia</td>\n",
              "    </tr>\n",
              "  </tbody>\n",
              "</table>\n",
              "</div>"
            ],
            "text/plain": [
              "  Age Nacionality            Name                   Company\n",
              "0  23    Colombia     Juan Valdez                       NaN\n",
              "1  18    Colombia  Sofía Casallas  Universidad de Antioquia"
            ]
          },
          "metadata": {
            "tags": []
          },
          "execution_count": 54
        }
      ]
    },
    {
      "cell_type": "markdown",
      "metadata": {
        "id": "wLUED3NWxE2G"
      },
      "source": [
        "* Fill NaN with empty strings"
      ]
    },
    {
      "cell_type": "code",
      "metadata": {
        "colab": {
          "base_uri": "https://localhost:8080/",
          "height": 111
        },
        "id": "28rp4v3BxE2I",
        "outputId": "19c693dd-acc9-43e7-c436-14d10c53c53a"
      },
      "source": [
        "df=df.fillna(' ')\n",
        "df"
      ],
      "execution_count": 55,
      "outputs": [
        {
          "output_type": "execute_result",
          "data": {
            "text/html": [
              "<div>\n",
              "<style scoped>\n",
              "    .dataframe tbody tr th:only-of-type {\n",
              "        vertical-align: middle;\n",
              "    }\n",
              "\n",
              "    .dataframe tbody tr th {\n",
              "        vertical-align: top;\n",
              "    }\n",
              "\n",
              "    .dataframe thead th {\n",
              "        text-align: right;\n",
              "    }\n",
              "</style>\n",
              "<table border=\"1\" class=\"dataframe\">\n",
              "  <thead>\n",
              "    <tr style=\"text-align: right;\">\n",
              "      <th></th>\n",
              "      <th>Age</th>\n",
              "      <th>Nacionality</th>\n",
              "      <th>Name</th>\n",
              "      <th>Company</th>\n",
              "    </tr>\n",
              "  </thead>\n",
              "  <tbody>\n",
              "    <tr>\n",
              "      <th>0</th>\n",
              "      <td>23</td>\n",
              "      <td>Colombia</td>\n",
              "      <td>Juan Valdez</td>\n",
              "      <td></td>\n",
              "    </tr>\n",
              "    <tr>\n",
              "      <th>1</th>\n",
              "      <td>18</td>\n",
              "      <td>Colombia</td>\n",
              "      <td>Sofía Casallas</td>\n",
              "      <td>Universidad de Antioquia</td>\n",
              "    </tr>\n",
              "  </tbody>\n",
              "</table>\n",
              "</div>"
            ],
            "text/plain": [
              "  Age Nacionality            Name                   Company\n",
              "0  23    Colombia     Juan Valdez                          \n",
              "1  18    Colombia  Sofía Casallas  Universidad de Antioquia"
            ]
          },
          "metadata": {
            "tags": []
          },
          "execution_count": 55
        }
      ]
    },
    {
      "cell_type": "markdown",
      "metadata": {
        "id": "K3feFAfYxE2K"
      },
      "source": [
        "* Save `Pandas` `DataFrame` as an Excel file"
      ]
    },
    {
      "cell_type": "code",
      "metadata": {
        "id": "fdxuA_FAxE2L"
      },
      "source": [
        "df.to_excel('prof.xlsx', index=False)"
      ],
      "execution_count": 56,
      "outputs": []
    },
    {
      "cell_type": "markdown",
      "metadata": {
        "id": "evWZKwEPxE2O"
      },
      "source": [
        "* Load pandas DataFrame from the saved file in Excel"
      ]
    },
    {
      "cell_type": "code",
      "metadata": {
        "colab": {
          "base_uri": "https://localhost:8080/",
          "height": 111
        },
        "id": "xl7KUNVCxE2P",
        "outputId": "e9fec94a-c436-4745-f6ea-ca6aa5fbaaee"
      },
      "source": [
        "pd.read_excel('prof.xlsx')"
      ],
      "execution_count": 57,
      "outputs": [
        {
          "output_type": "execute_result",
          "data": {
            "text/html": [
              "<div>\n",
              "<style scoped>\n",
              "    .dataframe tbody tr th:only-of-type {\n",
              "        vertical-align: middle;\n",
              "    }\n",
              "\n",
              "    .dataframe tbody tr th {\n",
              "        vertical-align: top;\n",
              "    }\n",
              "\n",
              "    .dataframe thead th {\n",
              "        text-align: right;\n",
              "    }\n",
              "</style>\n",
              "<table border=\"1\" class=\"dataframe\">\n",
              "  <thead>\n",
              "    <tr style=\"text-align: right;\">\n",
              "      <th></th>\n",
              "      <th>Age</th>\n",
              "      <th>Nacionality</th>\n",
              "      <th>Name</th>\n",
              "      <th>Company</th>\n",
              "    </tr>\n",
              "  </thead>\n",
              "  <tbody>\n",
              "    <tr>\n",
              "      <th>0</th>\n",
              "      <td>23</td>\n",
              "      <td>Colombia</td>\n",
              "      <td>Juan Valdez</td>\n",
              "      <td></td>\n",
              "    </tr>\n",
              "    <tr>\n",
              "      <th>1</th>\n",
              "      <td>18</td>\n",
              "      <td>Colombia</td>\n",
              "      <td>Sofía Casallas</td>\n",
              "      <td>Universidad de Antioquia</td>\n",
              "    </tr>\n",
              "  </tbody>\n",
              "</table>\n",
              "</div>"
            ],
            "text/plain": [
              "   Age Nacionality            Name                   Company\n",
              "0   23    Colombia     Juan Valdez                          \n",
              "1   18    Colombia  Sofía Casallas  Universidad de Antioquia"
            ]
          },
          "metadata": {
            "tags": []
          },
          "execution_count": 57
        }
      ]
    },
    {
      "cell_type": "markdown",
      "metadata": {
        "id": "pAZISlqKxE2T"
      },
      "source": [
        "### Common operations upon `DataFrames`\n",
        "See https://github.com/restrepo/PythonTipsAndTricks"
      ]
    },
    {
      "cell_type": "markdown",
      "metadata": {
        "id": "IBgQ8cojxE2U"
      },
      "source": [
        "* __To fill a specific cell__"
      ]
    },
    {
      "cell_type": "code",
      "metadata": {
        "id": "a00HZIQhxE2V"
      },
      "source": [
        "df.loc[0,'Company']='Federación de Cafeteros'"
      ],
      "execution_count": 58,
      "outputs": []
    },
    {
      "cell_type": "code",
      "metadata": {
        "colab": {
          "base_uri": "https://localhost:8080/",
          "height": 111
        },
        "id": "g6f2psm3xE2X",
        "outputId": "98bc05d6-a0bc-4f2d-8706-0db468bc9cdc"
      },
      "source": [
        "df"
      ],
      "execution_count": 59,
      "outputs": [
        {
          "output_type": "execute_result",
          "data": {
            "text/html": [
              "<div>\n",
              "<style scoped>\n",
              "    .dataframe tbody tr th:only-of-type {\n",
              "        vertical-align: middle;\n",
              "    }\n",
              "\n",
              "    .dataframe tbody tr th {\n",
              "        vertical-align: top;\n",
              "    }\n",
              "\n",
              "    .dataframe thead th {\n",
              "        text-align: right;\n",
              "    }\n",
              "</style>\n",
              "<table border=\"1\" class=\"dataframe\">\n",
              "  <thead>\n",
              "    <tr style=\"text-align: right;\">\n",
              "      <th></th>\n",
              "      <th>Age</th>\n",
              "      <th>Nacionality</th>\n",
              "      <th>Name</th>\n",
              "      <th>Company</th>\n",
              "    </tr>\n",
              "  </thead>\n",
              "  <tbody>\n",
              "    <tr>\n",
              "      <th>0</th>\n",
              "      <td>23</td>\n",
              "      <td>Colombia</td>\n",
              "      <td>Juan Valdez</td>\n",
              "      <td>Federación de Cafeteros</td>\n",
              "    </tr>\n",
              "    <tr>\n",
              "      <th>1</th>\n",
              "      <td>18</td>\n",
              "      <td>Colombia</td>\n",
              "      <td>Sofía Casallas</td>\n",
              "      <td>Universidad de Antioquia</td>\n",
              "    </tr>\n",
              "  </tbody>\n",
              "</table>\n",
              "</div>"
            ],
            "text/plain": [
              "  Age Nacionality            Name                   Company\n",
              "0  23    Colombia     Juan Valdez   Federación de Cafeteros\n",
              "1  18    Colombia  Sofía Casallas  Universidad de Antioquia"
            ]
          },
          "metadata": {
            "tags": []
          },
          "execution_count": 59
        }
      ]
    },
    {
      "cell_type": "markdown",
      "metadata": {
        "id": "rzAKwxQhxE2a"
      },
      "source": [
        "## Other formats to saving and read files\n",
        "We are interested in format which keeps the tags of the columns, like `'Nombre', 'Edad', 'Compañia'`"
      ]
    },
    {
      "cell_type": "code",
      "metadata": {
        "colab": {
          "base_uri": "https://localhost:8080/",
          "height": 111
        },
        "id": "CbgkbfTKvIkO",
        "outputId": "fd81c047-106b-4d2a-eff0-c21098eddd1f"
      },
      "source": [
        "df=pd.read_excel('http://bit.ly/spreadsheet_xlsx')\n",
        "df"
      ],
      "execution_count": 60,
      "outputs": [
        {
          "output_type": "execute_result",
          "data": {
            "text/html": [
              "<div>\n",
              "<style scoped>\n",
              "    .dataframe tbody tr th:only-of-type {\n",
              "        vertical-align: middle;\n",
              "    }\n",
              "\n",
              "    .dataframe tbody tr th {\n",
              "        vertical-align: top;\n",
              "    }\n",
              "\n",
              "    .dataframe thead th {\n",
              "        text-align: right;\n",
              "    }\n",
              "</style>\n",
              "<table border=\"1\" class=\"dataframe\">\n",
              "  <thead>\n",
              "    <tr style=\"text-align: right;\">\n",
              "      <th></th>\n",
              "      <th>Nombre</th>\n",
              "      <th>Edad</th>\n",
              "      <th>Compañia</th>\n",
              "    </tr>\n",
              "  </thead>\n",
              "  <tbody>\n",
              "    <tr>\n",
              "      <th>0</th>\n",
              "      <td>Juan Valdez</td>\n",
              "      <td>23</td>\n",
              "      <td>Café de Colombia</td>\n",
              "    </tr>\n",
              "    <tr>\n",
              "      <th>1</th>\n",
              "      <td>Álvaro Uribe Vélez</td>\n",
              "      <td>65</td>\n",
              "      <td>Senado de la República</td>\n",
              "    </tr>\n",
              "  </tbody>\n",
              "</table>\n",
              "</div>"
            ],
            "text/plain": [
              "               Nombre  Edad                Compañia\n",
              "0         Juan Valdez    23        Café de Colombia\n",
              "1  Álvaro Uribe Vélez    65  Senado de la República"
            ]
          },
          "metadata": {
            "tags": []
          },
          "execution_count": 60
        }
      ]
    },
    {
      "cell_type": "markdown",
      "metadata": {
        "id": "w8hdIGOvu3Ee"
      },
      "source": [
        "#### CSV"
      ]
    },
    {
      "cell_type": "code",
      "metadata": {
        "id": "90PSoWzUxE2b"
      },
      "source": [
        "df.to_csv('hoja.csv',index=False)"
      ],
      "execution_count": 61,
      "outputs": []
    },
    {
      "cell_type": "markdown",
      "metadata": {
        "id": "ViJ62k6BxfOm"
      },
      "source": [
        "We can check the explicit file format with"
      ]
    },
    {
      "cell_type": "code",
      "metadata": {
        "colab": {
          "base_uri": "https://localhost:8080/",
          "height": 35
        },
        "id": "QLrs-afuq9nr",
        "outputId": "a35fd3ce-24fc-4f8f-deeb-612c3f5972a0"
      },
      "source": [
        "df.to_csv(None,index=False)"
      ],
      "execution_count": 62,
      "outputs": [
        {
          "output_type": "execute_result",
          "data": {
            "application/vnd.google.colaboratory.intrinsic+json": {
              "type": "string"
            },
            "text/plain": [
              "'Nombre,Edad,Compañia\\nJuan Valdez,23,Café de Colombia\\nÁlvaro Uribe Vélez,65,Senado de la República\\n'"
            ]
          },
          "metadata": {
            "tags": []
          },
          "execution_count": 62
        }
      ]
    },
    {
      "cell_type": "code",
      "metadata": {
        "colab": {
          "base_uri": "https://localhost:8080/"
        },
        "id": "fGmx6K8SxRB1",
        "outputId": "5abeba7d-352b-47ee-8837-4b17df6eaba3"
      },
      "source": [
        "print(df.to_csv(None,index=False))"
      ],
      "execution_count": 63,
      "outputs": [
        {
          "output_type": "stream",
          "text": [
            "Nombre,Edad,Compañia\n",
            "Juan Valdez,23,Café de Colombia\n",
            "Álvaro Uribe Vélez,65,Senado de la República\n",
            "\n"
          ],
          "name": "stdout"
        }
      ]
    },
    {
      "cell_type": "code",
      "metadata": {
        "colab": {
          "base_uri": "https://localhost:8080/",
          "height": 111
        },
        "id": "l562RE-Eq9nr",
        "outputId": "8e41857c-ca9d-4c02-df1c-b1ff119c4243"
      },
      "source": [
        "pd.read_csv('hoja.csv')"
      ],
      "execution_count": 64,
      "outputs": [
        {
          "output_type": "execute_result",
          "data": {
            "text/html": [
              "<div>\n",
              "<style scoped>\n",
              "    .dataframe tbody tr th:only-of-type {\n",
              "        vertical-align: middle;\n",
              "    }\n",
              "\n",
              "    .dataframe tbody tr th {\n",
              "        vertical-align: top;\n",
              "    }\n",
              "\n",
              "    .dataframe thead th {\n",
              "        text-align: right;\n",
              "    }\n",
              "</style>\n",
              "<table border=\"1\" class=\"dataframe\">\n",
              "  <thead>\n",
              "    <tr style=\"text-align: right;\">\n",
              "      <th></th>\n",
              "      <th>Nombre</th>\n",
              "      <th>Edad</th>\n",
              "      <th>Compañia</th>\n",
              "    </tr>\n",
              "  </thead>\n",
              "  <tbody>\n",
              "    <tr>\n",
              "      <th>0</th>\n",
              "      <td>Juan Valdez</td>\n",
              "      <td>23</td>\n",
              "      <td>Café de Colombia</td>\n",
              "    </tr>\n",
              "    <tr>\n",
              "      <th>1</th>\n",
              "      <td>Álvaro Uribe Vélez</td>\n",
              "      <td>65</td>\n",
              "      <td>Senado de la República</td>\n",
              "    </tr>\n",
              "  </tbody>\n",
              "</table>\n",
              "</div>"
            ],
            "text/plain": [
              "               Nombre  Edad                Compañia\n",
              "0         Juan Valdez    23        Café de Colombia\n",
              "1  Álvaro Uribe Vélez    65  Senado de la República"
            ]
          },
          "metadata": {
            "tags": []
          },
          "execution_count": 64
        }
      ]
    },
    {
      "cell_type": "markdown",
      "metadata": {
        "id": "s1rbHbLmuv2g"
      },
      "source": [
        "#### JSON"
      ]
    },
    {
      "cell_type": "markdown",
      "metadata": {
        "id": "JwWj-SSVv6Aj"
      },
      "source": [
        "This format keeps the Python lists and dictionaries at the storage level"
      ]
    },
    {
      "cell_type": "code",
      "metadata": {
        "colab": {
          "base_uri": "https://localhost:8080/",
          "height": 111
        },
        "id": "OaMV4GdOwmBo",
        "outputId": "a4f6211b-331a-4147-f843-44ceee8358bc"
      },
      "source": [
        "df=pd.DataFrame([{\"Name\":\"Donald Trump\",\"Age\":74},\n",
        "                 {\"Name\":\"Barak Obama\", \"Age\":59}])\n",
        "df"
      ],
      "execution_count": 65,
      "outputs": [
        {
          "output_type": "execute_result",
          "data": {
            "text/html": [
              "<div>\n",
              "<style scoped>\n",
              "    .dataframe tbody tr th:only-of-type {\n",
              "        vertical-align: middle;\n",
              "    }\n",
              "\n",
              "    .dataframe tbody tr th {\n",
              "        vertical-align: top;\n",
              "    }\n",
              "\n",
              "    .dataframe thead th {\n",
              "        text-align: right;\n",
              "    }\n",
              "</style>\n",
              "<table border=\"1\" class=\"dataframe\">\n",
              "  <thead>\n",
              "    <tr style=\"text-align: right;\">\n",
              "      <th></th>\n",
              "      <th>Name</th>\n",
              "      <th>Age</th>\n",
              "    </tr>\n",
              "  </thead>\n",
              "  <tbody>\n",
              "    <tr>\n",
              "      <th>0</th>\n",
              "      <td>Donald Trump</td>\n",
              "      <td>74</td>\n",
              "    </tr>\n",
              "    <tr>\n",
              "      <th>1</th>\n",
              "      <td>Barak Obama</td>\n",
              "      <td>59</td>\n",
              "    </tr>\n",
              "  </tbody>\n",
              "</table>\n",
              "</div>"
            ],
            "text/plain": [
              "           Name  Age\n",
              "0  Donald Trump   74\n",
              "1   Barak Obama   59"
            ]
          },
          "metadata": {
            "tags": []
          },
          "execution_count": 65
        }
      ]
    },
    {
      "cell_type": "markdown",
      "metadata": {
        "id": "Ajc79wC9z2b0"
      },
      "source": [
        "This format allow us to keep exactly the very same list of dictionaries structure!"
      ]
    },
    {
      "cell_type": "code",
      "metadata": {
        "colab": {
          "base_uri": "https://localhost:8080/"
        },
        "id": "00a9jBWAzg29",
        "outputId": "c7a817ab-21ec-46ba-b77d-55c3a68a09b3"
      },
      "source": [
        "print(df.to_json(None,orient='records'))"
      ],
      "execution_count": 66,
      "outputs": [
        {
          "output_type": "stream",
          "text": [
            "[{\"Name\":\"Donald Trump\",\"Age\":74},{\"Name\":\"Barak Obama\",\"Age\":59}]\n"
          ],
          "name": "stdout"
        }
      ]
    },
    {
      "cell_type": "markdown",
      "metadata": {
        "id": "xwPu1tn30hQ8"
      },
      "source": [
        "__Activity__: \n",
        "* Save to a file instead of `None` and open the file with some editor. "
      ]
    },
    {
      "cell_type": "code",
      "metadata": {
        "id": "KtKmXfQg1Z4z"
      },
      "source": [
        "df.to_json('presidents.json',orient='records')"
      ],
      "execution_count": 67,
      "outputs": []
    },
    {
      "cell_type": "markdown",
      "metadata": {
        "id": "5S7OR7X11acD"
      },
      "source": [
        "* Add a break-line at the end of the first dictionary and try to\n",
        "load the resulting file with `pd.read_json`"
      ]
    },
    {
      "cell_type": "code",
      "metadata": {
        "colab": {
          "base_uri": "https://localhost:8080/",
          "height": 111
        },
        "id": "xOaIuF_y1b5C",
        "outputId": "d23f1cf0-fb59-467c-95a5-809d3558574e"
      },
      "source": [
        "pd.read_json('presidents.json')"
      ],
      "execution_count": 68,
      "outputs": [
        {
          "output_type": "execute_result",
          "data": {
            "text/html": [
              "<div>\n",
              "<style scoped>\n",
              "    .dataframe tbody tr th:only-of-type {\n",
              "        vertical-align: middle;\n",
              "    }\n",
              "\n",
              "    .dataframe tbody tr th {\n",
              "        vertical-align: top;\n",
              "    }\n",
              "\n",
              "    .dataframe thead th {\n",
              "        text-align: right;\n",
              "    }\n",
              "</style>\n",
              "<table border=\"1\" class=\"dataframe\">\n",
              "  <thead>\n",
              "    <tr style=\"text-align: right;\">\n",
              "      <th></th>\n",
              "      <th>Name</th>\n",
              "      <th>Age</th>\n",
              "    </tr>\n",
              "  </thead>\n",
              "  <tbody>\n",
              "    <tr>\n",
              "      <th>0</th>\n",
              "      <td>Donald Trump</td>\n",
              "      <td>74</td>\n",
              "    </tr>\n",
              "    <tr>\n",
              "      <th>1</th>\n",
              "      <td>Barak Obama</td>\n",
              "      <td>59</td>\n",
              "    </tr>\n",
              "  </tbody>\n",
              "</table>\n",
              "</div>"
            ],
            "text/plain": [
              "           Name  Age\n",
              "0  Donald Trump   74\n",
              "1   Barak Obama   59"
            ]
          },
          "metadata": {
            "tags": []
          },
          "execution_count": 68
        }
      ]
    },
    {
      "cell_type": "markdown",
      "metadata": {
        "id": "5vSq9daI0F7R"
      },
      "source": [
        "JSON allows for some flexibility in the break-lines structure:"
      ]
    },
    {
      "cell_type": "code",
      "metadata": {
        "id": "Jn833RTuq9nu"
      },
      "source": [
        "hm='''\n",
        "hola\n",
        "mundo\n",
        "'''"
      ],
      "execution_count": 69,
      "outputs": []
    },
    {
      "cell_type": "code",
      "metadata": {
        "colab": {
          "base_uri": "https://localhost:8080/",
          "height": 35
        },
        "id": "7GKxf3gMq9nv",
        "outputId": "e2e4ead6-5b7b-4318-c78c-e2cdafbba9dd"
      },
      "source": [
        "hm"
      ],
      "execution_count": 70,
      "outputs": [
        {
          "output_type": "execute_result",
          "data": {
            "application/vnd.google.colaboratory.intrinsic+json": {
              "type": "string"
            },
            "text/plain": [
              "'\\nhola\\nmundo\\n'"
            ]
          },
          "metadata": {
            "tags": []
          },
          "execution_count": 70
        }
      ]
    },
    {
      "cell_type": "code",
      "metadata": {
        "colab": {
          "base_uri": "https://localhost:8080/",
          "height": 111
        },
        "id": "qT8Lnlrgy0M9",
        "outputId": "e2f76fc9-b2ce-49d1-aac5-4d833d26332f"
      },
      "source": [
        "pd.read_json('''\n",
        "             [{\"Name\":\"Donald Trump\",\"Age\":73},\n",
        "              {\"Name\":\"Barak Obama\", \"Age\":58}]\n",
        "            ''')"
      ],
      "execution_count": 71,
      "outputs": [
        {
          "output_type": "execute_result",
          "data": {
            "text/html": [
              "<div>\n",
              "<style scoped>\n",
              "    .dataframe tbody tr th:only-of-type {\n",
              "        vertical-align: middle;\n",
              "    }\n",
              "\n",
              "    .dataframe tbody tr th {\n",
              "        vertical-align: top;\n",
              "    }\n",
              "\n",
              "    .dataframe thead th {\n",
              "        text-align: right;\n",
              "    }\n",
              "</style>\n",
              "<table border=\"1\" class=\"dataframe\">\n",
              "  <thead>\n",
              "    <tr style=\"text-align: right;\">\n",
              "      <th></th>\n",
              "      <th>Name</th>\n",
              "      <th>Age</th>\n",
              "    </tr>\n",
              "  </thead>\n",
              "  <tbody>\n",
              "    <tr>\n",
              "      <th>0</th>\n",
              "      <td>Donald Trump</td>\n",
              "      <td>73</td>\n",
              "    </tr>\n",
              "    <tr>\n",
              "      <th>1</th>\n",
              "      <td>Barak Obama</td>\n",
              "      <td>58</td>\n",
              "    </tr>\n",
              "  </tbody>\n",
              "</table>\n",
              "</div>"
            ],
            "text/plain": [
              "           Name  Age\n",
              "0  Donald Trump   73\n",
              "1   Barak Obama   58"
            ]
          },
          "metadata": {
            "tags": []
          },
          "execution_count": 71
        }
      ]
    },
    {
      "cell_type": "markdown",
      "metadata": {
        "id": "w6PyR85f1mfD"
      },
      "source": [
        "For large databases it is convinient just to accumulate dictionaries in a sequential form:"
      ]
    },
    {
      "cell_type": "code",
      "metadata": {
        "colab": {
          "base_uri": "https://localhost:8080/"
        },
        "id": "y2f8y66fyC5S",
        "outputId": "537ec5e5-0be8-4aee-ab66-dd3e37b3c48d"
      },
      "source": [
        "print(df.to_json(None,orient='records',lines=True))"
      ],
      "execution_count": 72,
      "outputs": [
        {
          "output_type": "stream",
          "text": [
            "{\"Name\":\"Donald Trump\",\"Age\":74}\n",
            "{\"Name\":\"Barak Obama\",\"Age\":59}\n"
          ],
          "name": "stdout"
        }
      ]
    },
    {
      "cell_type": "code",
      "metadata": {
        "colab": {
          "base_uri": "https://localhost:8080/",
          "height": 111
        },
        "id": "Bvhzs_GRzNWM",
        "outputId": "14e1dc83-54ec-4d53-cf7f-c8bef7189ed9"
      },
      "source": [
        "pd.read_json('''\n",
        "             {\"Name\":\"Donald Trump\",\"Age\":73}\n",
        "             {\"Name\":\"Barak Obama\", \"Age\":58}\n",
        "            ''',orient='records',lines=True)"
      ],
      "execution_count": 73,
      "outputs": [
        {
          "output_type": "execute_result",
          "data": {
            "text/html": [
              "<div>\n",
              "<style scoped>\n",
              "    .dataframe tbody tr th:only-of-type {\n",
              "        vertical-align: middle;\n",
              "    }\n",
              "\n",
              "    .dataframe tbody tr th {\n",
              "        vertical-align: top;\n",
              "    }\n",
              "\n",
              "    .dataframe thead th {\n",
              "        text-align: right;\n",
              "    }\n",
              "</style>\n",
              "<table border=\"1\" class=\"dataframe\">\n",
              "  <thead>\n",
              "    <tr style=\"text-align: right;\">\n",
              "      <th></th>\n",
              "      <th>Name</th>\n",
              "      <th>Age</th>\n",
              "    </tr>\n",
              "  </thead>\n",
              "  <tbody>\n",
              "    <tr>\n",
              "      <th>0</th>\n",
              "      <td>Donald Trump</td>\n",
              "      <td>73</td>\n",
              "    </tr>\n",
              "    <tr>\n",
              "      <th>1</th>\n",
              "      <td>Barak Obama</td>\n",
              "      <td>58</td>\n",
              "    </tr>\n",
              "  </tbody>\n",
              "</table>\n",
              "</div>"
            ],
            "text/plain": [
              "           Name  Age\n",
              "0  Donald Trump   73\n",
              "1   Barak Obama   58"
            ]
          },
          "metadata": {
            "tags": []
          },
          "execution_count": 73
        }
      ]
    },
    {
      "cell_type": "markdown",
      "metadata": {
        "id": "sYfWnw1e2wfi"
      },
      "source": [
        "__Activity__: \n",
        "* Save to a file instead of `None`, with options: `orient='records',lines=True`, and open the file with some editor. "
      ]
    },
    {
      "cell_type": "code",
      "metadata": {
        "id": "S9wv93dM3KER"
      },
      "source": [
        "df.to_json('presidents.json',orient='records',lines=True)"
      ],
      "execution_count": 74,
      "outputs": []
    },
    {
      "cell_type": "markdown",
      "metadata": {
        "id": "bGYW8Xl-3Kdi"
      },
      "source": [
        "* Add a similar dictionary in the next new line, and try to\n",
        "load the resulting file with `pd.read_json` with options: `orient='records',lines=True`. \n",
        "   * WARNING: Use doble-quotes `\"` to write the keys od the new\n",
        "dictionary"
      ]
    },
    {
      "cell_type": "markdown",
      "metadata": {
        "id": "icGCveT34HDA"
      },
      "source": [
        "Any Python string need to be converted first to double-quotes before to be used as JSON string.\n",
        "\n",
        "__Example__"
      ]
    },
    {
      "cell_type": "code",
      "metadata": {
        "id": "mPRCSHbG4dRx"
      },
      "source": [
        "numbers={\"even\": [0,2,4,-6,8],   #  First  key-list\n",
        "         \"odd\" : [1,3,-5,7,9] }  #  Second key-list"
      ],
      "execution_count": 75,
      "outputs": []
    },
    {
      "cell_type": "code",
      "metadata": {
        "colab": {
          "base_uri": "https://localhost:8080/"
        },
        "id": "gQx2Du2nq9ny",
        "outputId": "41faf117-58c4-42ee-f881-973fb861502f"
      },
      "source": [
        "numbers"
      ],
      "execution_count": 76,
      "outputs": [
        {
          "output_type": "execute_result",
          "data": {
            "text/plain": [
              "{'even': [0, 2, 4, -6, 8], 'odd': [1, 3, -5, 7, 9]}"
            ]
          },
          "metadata": {
            "tags": []
          },
          "execution_count": 76
        }
      ]
    },
    {
      "cell_type": "code",
      "metadata": {
        "colab": {
          "base_uri": "https://localhost:8080/",
          "height": 35
        },
        "id": "An-yzTut4gtw",
        "outputId": "b72013df-e0b3-4545-eea9-05b4d013a7af"
      },
      "source": [
        "str(numbers)"
      ],
      "execution_count": 77,
      "outputs": [
        {
          "output_type": "execute_result",
          "data": {
            "application/vnd.google.colaboratory.intrinsic+json": {
              "type": "string"
            },
            "text/plain": [
              "\"{'even': [0, 2, 4, -6, 8], 'odd': [1, 3, -5, 7, 9]}\""
            ]
          },
          "metadata": {
            "tags": []
          },
          "execution_count": 77
        }
      ]
    },
    {
      "cell_type": "markdown",
      "metadata": {
        "id": "BFCE3Hq34ktw"
      },
      "source": [
        "This string can be writing in the `JSON` format by replacing the single quotes, ' , by  duoble quotes, \":"
      ]
    },
    {
      "cell_type": "code",
      "metadata": {
        "colab": {
          "base_uri": "https://localhost:8080/",
          "height": 35
        },
        "id": "PJVD2Btc4nJx",
        "outputId": "95f798cf-548a-4512-9810-ebc4e63b2e86"
      },
      "source": [
        "str(numbers).replace(\"'\",'\"')"
      ],
      "execution_count": 78,
      "outputs": [
        {
          "output_type": "execute_result",
          "data": {
            "application/vnd.google.colaboratory.intrinsic+json": {
              "type": "string"
            },
            "text/plain": [
              "'{\"even\": [0, 2, 4, -6, 8], \"odd\": [1, 3, -5, 7, 9]}'"
            ]
          },
          "metadata": {
            "tags": []
          },
          "execution_count": 78
        }
      ]
    },
    {
      "cell_type": "markdown",
      "metadata": {
        "id": "zDssJstU45Qi"
      },
      "source": [
        "and now can be used as an JSON input"
      ]
    },
    {
      "cell_type": "code",
      "metadata": {
        "colab": {
          "base_uri": "https://localhost:8080/",
          "height": 204
        },
        "id": "HxbaP5T542_h",
        "outputId": "0b8e4d7a-53e2-4f63-c43a-766834ba876e"
      },
      "source": [
        "df=pd.read_json(  str(numbers).replace(\"'\",'\"') )\n",
        "df"
      ],
      "execution_count": 95,
      "outputs": [
        {
          "output_type": "execute_result",
          "data": {
            "text/html": [
              "<div>\n",
              "<style scoped>\n",
              "    .dataframe tbody tr th:only-of-type {\n",
              "        vertical-align: middle;\n",
              "    }\n",
              "\n",
              "    .dataframe tbody tr th {\n",
              "        vertical-align: top;\n",
              "    }\n",
              "\n",
              "    .dataframe thead th {\n",
              "        text-align: right;\n",
              "    }\n",
              "</style>\n",
              "<table border=\"1\" class=\"dataframe\">\n",
              "  <thead>\n",
              "    <tr style=\"text-align: right;\">\n",
              "      <th></th>\n",
              "      <th>even</th>\n",
              "      <th>odd</th>\n",
              "    </tr>\n",
              "  </thead>\n",
              "  <tbody>\n",
              "    <tr>\n",
              "      <th>0</th>\n",
              "      <td>0</td>\n",
              "      <td>1</td>\n",
              "    </tr>\n",
              "    <tr>\n",
              "      <th>1</th>\n",
              "      <td>2</td>\n",
              "      <td>3</td>\n",
              "    </tr>\n",
              "    <tr>\n",
              "      <th>2</th>\n",
              "      <td>4</td>\n",
              "      <td>-5</td>\n",
              "    </tr>\n",
              "    <tr>\n",
              "      <th>3</th>\n",
              "      <td>-6</td>\n",
              "      <td>7</td>\n",
              "    </tr>\n",
              "    <tr>\n",
              "      <th>4</th>\n",
              "      <td>8</td>\n",
              "      <td>9</td>\n",
              "    </tr>\n",
              "  </tbody>\n",
              "</table>\n",
              "</div>"
            ],
            "text/plain": [
              "   even  odd\n",
              "0     0    1\n",
              "1     2    3\n",
              "2     4   -5\n",
              "3    -6    7\n",
              "4     8    9"
            ]
          },
          "metadata": {
            "tags": []
          },
          "execution_count": 95
        }
      ]
    },
    {
      "cell_type": "markdown",
      "metadata": {
        "id": "EtqUn4t85Hlp"
      },
      "source": [
        "__Activity__: Try to read the string as JSON without make the double-quote replacement"
      ]
    },
    {
      "cell_type": "code",
      "metadata": {
        "id": "lg5vwraLoEdO",
        "colab": {
          "base_uri": "https://localhost:8080/",
          "height": 80
        },
        "outputId": "c198cb77-fd35-4ff8-d27f-2b26d76b80a6"
      },
      "source": [
        "df=pd.read_json(''' [{\"even\": [0, 2, 4, -6, 8], \"odd\": [1, 3, -5, 7, 9]}]''')\n",
        "df"
      ],
      "execution_count": 94,
      "outputs": [
        {
          "output_type": "execute_result",
          "data": {
            "text/html": [
              "<div>\n",
              "<style scoped>\n",
              "    .dataframe tbody tr th:only-of-type {\n",
              "        vertical-align: middle;\n",
              "    }\n",
              "\n",
              "    .dataframe tbody tr th {\n",
              "        vertical-align: top;\n",
              "    }\n",
              "\n",
              "    .dataframe thead th {\n",
              "        text-align: right;\n",
              "    }\n",
              "</style>\n",
              "<table border=\"1\" class=\"dataframe\">\n",
              "  <thead>\n",
              "    <tr style=\"text-align: right;\">\n",
              "      <th></th>\n",
              "      <th>even</th>\n",
              "      <th>odd</th>\n",
              "    </tr>\n",
              "  </thead>\n",
              "  <tbody>\n",
              "    <tr>\n",
              "      <th>0</th>\n",
              "      <td>[0, 2, 4, -6, 8]</td>\n",
              "      <td>[1, 3, -5, 7, 9]</td>\n",
              "    </tr>\n",
              "  </tbody>\n",
              "</table>\n",
              "</div>"
            ],
            "text/plain": [
              "               even               odd\n",
              "0  [0, 2, 4, -6, 8]  [1, 3, -5, 7, 9]"
            ]
          },
          "metadata": {
            "tags": []
          },
          "execution_count": 94
        }
      ]
    },
    {
      "cell_type": "markdown",
      "metadata": {
        "id": "s2uApSIi8PjI"
      },
      "source": [
        "## Filters\n",
        "The main application of labeled data for data analysis is the possibility to make filers, or cuts, to obtain specific reduced datasets to further analysis"
      ]
    },
    {
      "cell_type": "code",
      "metadata": {
        "colab": {
          "base_uri": "https://localhost:8080/",
          "height": 204
        },
        "id": "OKSjlHgaq9n1",
        "outputId": "21785f05-7de4-4e9a-b0fa-4f1751dfbec7"
      },
      "source": [
        "df"
      ],
      "execution_count": 96,
      "outputs": [
        {
          "output_type": "execute_result",
          "data": {
            "text/html": [
              "<div>\n",
              "<style scoped>\n",
              "    .dataframe tbody tr th:only-of-type {\n",
              "        vertical-align: middle;\n",
              "    }\n",
              "\n",
              "    .dataframe tbody tr th {\n",
              "        vertical-align: top;\n",
              "    }\n",
              "\n",
              "    .dataframe thead th {\n",
              "        text-align: right;\n",
              "    }\n",
              "</style>\n",
              "<table border=\"1\" class=\"dataframe\">\n",
              "  <thead>\n",
              "    <tr style=\"text-align: right;\">\n",
              "      <th></th>\n",
              "      <th>even</th>\n",
              "      <th>odd</th>\n",
              "    </tr>\n",
              "  </thead>\n",
              "  <tbody>\n",
              "    <tr>\n",
              "      <th>0</th>\n",
              "      <td>0</td>\n",
              "      <td>1</td>\n",
              "    </tr>\n",
              "    <tr>\n",
              "      <th>1</th>\n",
              "      <td>2</td>\n",
              "      <td>3</td>\n",
              "    </tr>\n",
              "    <tr>\n",
              "      <th>2</th>\n",
              "      <td>4</td>\n",
              "      <td>-5</td>\n",
              "    </tr>\n",
              "    <tr>\n",
              "      <th>3</th>\n",
              "      <td>-6</td>\n",
              "      <td>7</td>\n",
              "    </tr>\n",
              "    <tr>\n",
              "      <th>4</th>\n",
              "      <td>8</td>\n",
              "      <td>9</td>\n",
              "    </tr>\n",
              "  </tbody>\n",
              "</table>\n",
              "</div>"
            ],
            "text/plain": [
              "   even  odd\n",
              "0     0    1\n",
              "1     2    3\n",
              "2     4   -5\n",
              "3    -6    7\n",
              "4     8    9"
            ]
          },
          "metadata": {
            "tags": []
          },
          "execution_count": 96
        }
      ]
    },
    {
      "cell_type": "code",
      "metadata": {
        "colab": {
          "base_uri": "https://localhost:8080/",
          "height": 142
        },
        "id": "zt2S0aln8_4s",
        "outputId": "1f882c98-86a1-45a3-b652-bfb0d38f0a12"
      },
      "source": [
        "df[df.even.abs()>=4]"
      ],
      "execution_count": 97,
      "outputs": [
        {
          "output_type": "execute_result",
          "data": {
            "text/html": [
              "<div>\n",
              "<style scoped>\n",
              "    .dataframe tbody tr th:only-of-type {\n",
              "        vertical-align: middle;\n",
              "    }\n",
              "\n",
              "    .dataframe tbody tr th {\n",
              "        vertical-align: top;\n",
              "    }\n",
              "\n",
              "    .dataframe thead th {\n",
              "        text-align: right;\n",
              "    }\n",
              "</style>\n",
              "<table border=\"1\" class=\"dataframe\">\n",
              "  <thead>\n",
              "    <tr style=\"text-align: right;\">\n",
              "      <th></th>\n",
              "      <th>even</th>\n",
              "      <th>odd</th>\n",
              "    </tr>\n",
              "  </thead>\n",
              "  <tbody>\n",
              "    <tr>\n",
              "      <th>2</th>\n",
              "      <td>4</td>\n",
              "      <td>-5</td>\n",
              "    </tr>\n",
              "    <tr>\n",
              "      <th>3</th>\n",
              "      <td>-6</td>\n",
              "      <td>7</td>\n",
              "    </tr>\n",
              "    <tr>\n",
              "      <th>4</th>\n",
              "      <td>8</td>\n",
              "      <td>9</td>\n",
              "    </tr>\n",
              "  </tbody>\n",
              "</table>\n",
              "</div>"
            ],
            "text/plain": [
              "   even  odd\n",
              "2     4   -5\n",
              "3    -6    7\n",
              "4     8    9"
            ]
          },
          "metadata": {
            "tags": []
          },
          "execution_count": 97
        }
      ]
    },
    {
      "cell_type": "code",
      "metadata": {
        "colab": {
          "base_uri": "https://localhost:8080/",
          "height": 111
        },
        "id": "eVSePCQB9GFe",
        "outputId": "0256b151-c1db-4382-8ce7-87e809b7783b"
      },
      "source": [
        "#and\n",
        "df[(df.even>0) & (df.odd>0)]"
      ],
      "execution_count": 98,
      "outputs": [
        {
          "output_type": "execute_result",
          "data": {
            "text/html": [
              "<div>\n",
              "<style scoped>\n",
              "    .dataframe tbody tr th:only-of-type {\n",
              "        vertical-align: middle;\n",
              "    }\n",
              "\n",
              "    .dataframe tbody tr th {\n",
              "        vertical-align: top;\n",
              "    }\n",
              "\n",
              "    .dataframe thead th {\n",
              "        text-align: right;\n",
              "    }\n",
              "</style>\n",
              "<table border=\"1\" class=\"dataframe\">\n",
              "  <thead>\n",
              "    <tr style=\"text-align: right;\">\n",
              "      <th></th>\n",
              "      <th>even</th>\n",
              "      <th>odd</th>\n",
              "    </tr>\n",
              "  </thead>\n",
              "  <tbody>\n",
              "    <tr>\n",
              "      <th>1</th>\n",
              "      <td>2</td>\n",
              "      <td>3</td>\n",
              "    </tr>\n",
              "    <tr>\n",
              "      <th>4</th>\n",
              "      <td>8</td>\n",
              "      <td>9</td>\n",
              "    </tr>\n",
              "  </tbody>\n",
              "</table>\n",
              "</div>"
            ],
            "text/plain": [
              "   even  odd\n",
              "1     2    3\n",
              "4     8    9"
            ]
          },
          "metadata": {
            "tags": []
          },
          "execution_count": 98
        }
      ]
    },
    {
      "cell_type": "code",
      "metadata": {
        "id": "ZYlZ4Ndzq9n2",
        "outputId": "b32006b9-8195-4806-bc2b-b00c8129cdb1"
      },
      "source": [
        "df[~((df.even>0) & (df.odd<0)) ]"
      ],
      "execution_count": null,
      "outputs": [
        {
          "output_type": "execute_result",
          "data": {
            "text/html": [
              "<div>\n",
              "<style scoped>\n",
              "    .dataframe tbody tr th:only-of-type {\n",
              "        vertical-align: middle;\n",
              "    }\n",
              "\n",
              "    .dataframe tbody tr th {\n",
              "        vertical-align: top;\n",
              "    }\n",
              "\n",
              "    .dataframe thead th {\n",
              "        text-align: right;\n",
              "    }\n",
              "</style>\n",
              "<table border=\"1\" class=\"dataframe\">\n",
              "  <thead>\n",
              "    <tr style=\"text-align: right;\">\n",
              "      <th></th>\n",
              "      <th>even</th>\n",
              "      <th>odd</th>\n",
              "    </tr>\n",
              "  </thead>\n",
              "  <tbody>\n",
              "    <tr>\n",
              "      <th>0</th>\n",
              "      <td>0</td>\n",
              "      <td>1</td>\n",
              "    </tr>\n",
              "    <tr>\n",
              "      <th>1</th>\n",
              "      <td>2</td>\n",
              "      <td>3</td>\n",
              "    </tr>\n",
              "    <tr>\n",
              "      <th>3</th>\n",
              "      <td>-6</td>\n",
              "      <td>7</td>\n",
              "    </tr>\n",
              "    <tr>\n",
              "      <th>4</th>\n",
              "      <td>8</td>\n",
              "      <td>9</td>\n",
              "    </tr>\n",
              "  </tbody>\n",
              "</table>\n",
              "</div>"
            ],
            "text/plain": [
              "   even  odd\n",
              "0     0    1\n",
              "1     2    3\n",
              "3    -6    7\n",
              "4     8    9"
            ]
          },
          "metadata": {
            "tags": []
          },
          "execution_count": 50
        }
      ]
    },
    {
      "cell_type": "code",
      "metadata": {
        "colab": {
          "base_uri": "https://localhost:8080/",
          "height": 111
        },
        "id": "dVktA6ze9wI2",
        "outputId": "069a4d59-2517-479b-e01c-e6937833e8df"
      },
      "source": [
        "#or\n",
        "df[(df.even<0) | (df.odd<0)]"
      ],
      "execution_count": 99,
      "outputs": [
        {
          "output_type": "execute_result",
          "data": {
            "text/html": [
              "<div>\n",
              "<style scoped>\n",
              "    .dataframe tbody tr th:only-of-type {\n",
              "        vertical-align: middle;\n",
              "    }\n",
              "\n",
              "    .dataframe tbody tr th {\n",
              "        vertical-align: top;\n",
              "    }\n",
              "\n",
              "    .dataframe thead th {\n",
              "        text-align: right;\n",
              "    }\n",
              "</style>\n",
              "<table border=\"1\" class=\"dataframe\">\n",
              "  <thead>\n",
              "    <tr style=\"text-align: right;\">\n",
              "      <th></th>\n",
              "      <th>even</th>\n",
              "      <th>odd</th>\n",
              "    </tr>\n",
              "  </thead>\n",
              "  <tbody>\n",
              "    <tr>\n",
              "      <th>2</th>\n",
              "      <td>4</td>\n",
              "      <td>-5</td>\n",
              "    </tr>\n",
              "    <tr>\n",
              "      <th>3</th>\n",
              "      <td>-6</td>\n",
              "      <td>7</td>\n",
              "    </tr>\n",
              "  </tbody>\n",
              "</table>\n",
              "</div>"
            ],
            "text/plain": [
              "   even  odd\n",
              "2     4   -5\n",
              "3    -6    7"
            ]
          },
          "metadata": {
            "tags": []
          },
          "execution_count": 99
        }
      ]
    },
    {
      "cell_type": "markdown",
      "metadata": {
        "id": "xHsCPml65i54"
      },
      "source": [
        "## The `apply` method\n",
        "The advantage of the spreadsheet paradigm is that the columns can be transformed with functions. All the typical functions avalaible for a spreadsheet are already implemented like the method `.abs()` used before, or the method: `.sum()`"
      ]
    },
    {
      "cell_type": "code",
      "metadata": {
        "colab": {
          "base_uri": "https://localhost:8080/"
        },
        "id": "pPLWFFLA6NX4",
        "outputId": "4cfa422c-5548-432d-91d0-abeded3b97a3"
      },
      "source": [
        "df.odd.sum()"
      ],
      "execution_count": 100,
      "outputs": [
        {
          "output_type": "execute_result",
          "data": {
            "text/plain": [
              "15"
            ]
          },
          "metadata": {
            "tags": []
          },
          "execution_count": 100
        }
      ]
    },
    {
      "cell_type": "markdown",
      "metadata": {
        "id": "XCUwgF0f6WFP"
      },
      "source": [
        "__Activity__: Explore the avalaible methods by using the completion system of the notebook after the last semicolon of `df.even.`"
      ]
    },
    {
      "cell_type": "code",
      "metadata": {
        "id": "-HStKRf1kaIc",
        "colab": {
          "base_uri": "https://localhost:8080/"
        },
        "outputId": "534ee96e-197b-4fdc-ee81-16f52e3270ef"
      },
      "source": [
        "df.even.dropna(axis=0, inplace=False, how=None)"
      ],
      "execution_count": 109,
      "outputs": [
        {
          "output_type": "execute_result",
          "data": {
            "text/plain": [
              "0    0\n",
              "1    2\n",
              "2    4\n",
              "3   -6\n",
              "4    8\n",
              "Name: even, dtype: int64"
            ]
          },
          "metadata": {
            "tags": []
          },
          "execution_count": 109
        }
      ]
    },
    {
      "cell_type": "markdown",
      "metadata": {
        "id": "JDqDXVoF6mOv"
      },
      "source": [
        "In addittion, for the `DataFrame` paradigm, we can easy implement any other function directly at the programming level either along the columns or along the rows"
      ]
    },
    {
      "cell_type": "markdown",
      "metadata": {
        "id": "378RNNb97OQs"
      },
      "source": [
        "### Column-level `apply`\n",
        "We just select the column and apply the direct or implicit function:\n",
        "* Pre-defined function"
      ]
    },
    {
      "cell_type": "code",
      "metadata": {
        "colab": {
          "base_uri": "https://localhost:8080/"
        },
        "id": "L210XcRK7qYn",
        "outputId": "81691fb0-a7b8-4dfe-8f4a-d47bcaf56188"
      },
      "source": [
        "df.even.apply(abs)"
      ],
      "execution_count": 102,
      "outputs": [
        {
          "output_type": "execute_result",
          "data": {
            "text/plain": [
              "0    0\n",
              "1    2\n",
              "2    4\n",
              "3    6\n",
              "4    8\n",
              "Name: even, dtype: int64"
            ]
          },
          "metadata": {
            "tags": []
          },
          "execution_count": 102
        }
      ]
    },
    {
      "cell_type": "markdown",
      "metadata": {
        "id": "JX0nA6swDphj"
      },
      "source": [
        "* Implicit function"
      ]
    },
    {
      "cell_type": "code",
      "metadata": {
        "colab": {
          "base_uri": "https://localhost:8080/"
        },
        "id": "oGEcVFrA72LX",
        "outputId": "59252b8f-81ab-4bc7-e9dd-62fc0571a922"
      },
      "source": [
        "df.even.apply(lambda n:isinstance(n,int))"
      ],
      "execution_count": 103,
      "outputs": [
        {
          "output_type": "execute_result",
          "data": {
            "text/plain": [
              "0    True\n",
              "1    True\n",
              "2    True\n",
              "3    True\n",
              "4    True\n",
              "Name: even, dtype: bool"
            ]
          },
          "metadata": {
            "tags": []
          },
          "execution_count": 103
        }
      ]
    },
    {
      "cell_type": "code",
      "metadata": {
        "colab": {
          "base_uri": "https://localhost:8080/"
        },
        "id": "pj2JUoOKq9n4",
        "outputId": "732e41ca-6382-4b25-958d-c62abfe06ade"
      },
      "source": [
        "df.even.apply(lambda n: n**2)"
      ],
      "execution_count": 104,
      "outputs": [
        {
          "output_type": "execute_result",
          "data": {
            "text/plain": [
              "0     0\n",
              "1     4\n",
              "2    16\n",
              "3    36\n",
              "4    64\n",
              "Name: even, dtype: int64"
            ]
          },
          "metadata": {
            "tags": []
          },
          "execution_count": 104
        }
      ]
    },
    {
      "cell_type": "markdown",
      "metadata": {
        "id": "8wFVd7Sk7irH"
      },
      "source": [
        "### Row-level apply\n",
        "The foll row is passed as dictionary to the explicit or implicit function when `apply` is used for the full `DataFrame` and the option `axis=1` is used at the end"
      ]
    },
    {
      "cell_type": "code",
      "metadata": {
        "colab": {
          "base_uri": "https://localhost:8080/"
        },
        "id": "z6GLMMuEEUwB",
        "outputId": "0dd18501-3969-4fd6-cdd4-97f6119c6f3c"
      },
      "source": [
        "df.apply(lambda row: row['even']+row['odd'],axis='columns')"
      ],
      "execution_count": 105,
      "outputs": [
        {
          "output_type": "execute_result",
          "data": {
            "text/plain": [
              "0     1\n",
              "1     5\n",
              "2    -1\n",
              "3     1\n",
              "4    17\n",
              "dtype: int64"
            ]
          },
          "metadata": {
            "tags": []
          },
          "execution_count": 105
        }
      ]
    },
    {
      "cell_type": "markdown",
      "metadata": {
        "id": "2xL7xq-rq9n4"
      },
      "source": [
        "## Chain tools for data analysis\n",
        "There are several chain tools for data analyis like the\n",
        "* Spreadsheet based one, like Excel \n",
        "* Relational databases with the use of more advanced SQL tabular data with some data base software like MySQL\n",
        "* Non-relational databases with Pandas, R, or MongoDB\n",
        "\n",
        "Here we illustrate an example of use fo a non-relational database with Pandas"
      ]
    },
    {
      "cell_type": "markdown",
      "metadata": {
        "id": "z2NsLagWs-Jg"
      },
      "source": [
        "## Non-relational databases"
      ]
    },
    {
      "cell_type": "markdown",
      "metadata": {
        "id": "2NdcwWa5tuzv"
      },
      "source": [
        "We have shown that the simple two dimensional spreadsheets where each cell values is a simple type like string, integer, or float, can be represented as a dictionary of lists values or a list of dictionary column-value assignment. \n",
        "\n",
        "We can go further and allow to store in the value itself a more general data structure, like nested lists and dictionaries. This allows advanced data-analysis when the `apply` methos is used to operate inside the nested lists or dictionaries.\n",
        "\n",
        "See for example:\n"
      ]
    },
    {
      "cell_type": "markdown",
      "metadata": {
        "id": "wB4hBVkhoPwR"
      },
      "source": [
        "##  World wide web\n",
        "There are really three kinds of web\n",
        "* The normal web, \n",
        "* The deep web,\n",
        "* _The machine web_. The web for machine readable responses. It is served in `JSON` or `XML`  formats, which preserve programming objects."
      ]
    },
    {
      "cell_type": "markdown",
      "metadata": {
        "id": "fDYrFU_iq9n5"
      },
      "source": [
        "### Normal web"
      ]
    },
    {
      "cell_type": "code",
      "metadata": {
        "id": "eq3cM4Wkq9n6",
        "colab": {
          "base_uri": "https://localhost:8080/",
          "height": 97
        },
        "outputId": "bdfaeb8b-e2b4-46e3-f1e9-eabadf31e735"
      },
      "source": [
        "pd.read_html('https://en.wikipedia.org/wiki/COVID-19_pandemic_by_country_and_territory')[1][:3]"
      ],
      "execution_count": 106,
      "outputs": [
        {
          "output_type": "execute_result",
          "data": {
            "text/html": [
              "<div>\n",
              "<style scoped>\n",
              "    .dataframe tbody tr th:only-of-type {\n",
              "        vertical-align: middle;\n",
              "    }\n",
              "\n",
              "    .dataframe tbody tr th {\n",
              "        vertical-align: top;\n",
              "    }\n",
              "\n",
              "    .dataframe thead th {\n",
              "        text-align: right;\n",
              "    }\n",
              "</style>\n",
              "<table border=\"1\" class=\"dataframe\">\n",
              "  <thead>\n",
              "    <tr style=\"text-align: right;\">\n",
              "      <th></th>\n",
              "      <th>0</th>\n",
              "      <th>1</th>\n",
              "    </tr>\n",
              "  </thead>\n",
              "  <tbody>\n",
              "    <tr>\n",
              "      <th>0</th>\n",
              "      <td>Confirmed total cases by country as of 22 Mar 2021.[6] 10,000,000+ 1,000,000–9,999,999 100,000–999,999 10,000–99,999 1,000–9,999 100–999 1–99 0</td>\n",
              "      <td>Confirmed cases per 100,000 by country or sub-national unit as of 14 March 2021.[7] &gt;10,000 3,000–10,000 1,000–3,000 300–1,000 100–300 30–100 0–30 None or no data</td>\n",
              "    </tr>\n",
              "  </tbody>\n",
              "</table>\n",
              "</div>"
            ],
            "text/plain": [
              "                                                                                                                                                 0                                                                                                                                                                   1\n",
              "0  Confirmed total cases by country as of 22 Mar 2021.[6] 10,000,000+ 1,000,000–9,999,999 100,000–999,999 10,000–99,999 1,000–9,999 100–999 1–99 0  Confirmed cases per 100,000 by country or sub-national unit as of 14 March 2021.[7] >10,000 3,000–10,000 1,000–3,000 300–1,000 100–300 30–100 0–30 None or no data"
            ]
          },
          "metadata": {
            "tags": []
          },
          "execution_count": 106
        }
      ]
    },
    {
      "cell_type": "markdown",
      "metadata": {
        "id": "JvsPBUtcq9n6"
      },
      "source": [
        "### Machine web\n",
        "For example, consider the following normal web page:\n",
        "\n",
        "http://old.inspirehep.net/search?p=doi:10.1103/PhysRevLett.122.132001\n",
        "\n",
        "about a Scientific paper with people from the University of Antioquia. A _machine web_ version can be easily obtained in JSON just by attaching the extra parameter `&of=recjson`, and direcly loaded from Pandas, which works like a _browser for the third web_:"
      ]
    },
    {
      "cell_type": "code",
      "metadata": {
        "id": "QiPG3Hkoq9n6"
      },
      "source": [
        "import pandas as pd"
      ],
      "execution_count": null,
      "outputs": []
    },
    {
      "cell_type": "code",
      "metadata": {
        "id": "-cg2w7wsoo7H"
      },
      "source": [
        "df=pd.read_json('http://old.inspirehep.net/search?p=doi:10.1103/PhysRevLett.122.132001&of=recjson')"
      ],
      "execution_count": null,
      "outputs": []
    },
    {
      "cell_type": "code",
      "metadata": {
        "colab": {
          "base_uri": "https://localhost:8080/",
          "height": 323
        },
        "id": "MPiuuciYo90S",
        "outputId": "5c049b40-16ec-45f4-cce3-158546834ea3"
      },
      "source": [
        "df"
      ],
      "execution_count": null,
      "outputs": [
        {
          "output_type": "execute_result",
          "data": {
            "text/html": [
              "<div>\n",
              "<style scoped>\n",
              "    .dataframe tbody tr th:only-of-type {\n",
              "        vertical-align: middle;\n",
              "    }\n",
              "\n",
              "    .dataframe tbody tr th {\n",
              "        vertical-align: top;\n",
              "    }\n",
              "\n",
              "    .dataframe thead th {\n",
              "        text-align: right;\n",
              "    }\n",
              "</style>\n",
              "<table border=\"1\" class=\"dataframe\">\n",
              "  <thead>\n",
              "    <tr style=\"text-align: right;\">\n",
              "      <th></th>\n",
              "      <th>FIXME_OAI</th>\n",
              "      <th>abstract</th>\n",
              "      <th>accelerator_experiment</th>\n",
              "      <th>authors</th>\n",
              "      <th>cataloguer_info</th>\n",
              "      <th>collection</th>\n",
              "      <th>comment</th>\n",
              "      <th>corporate_name</th>\n",
              "      <th>coyright</th>\n",
              "      <th>creation_date</th>\n",
              "      <th>...</th>\n",
              "      <th>publication_info</th>\n",
              "      <th>recid</th>\n",
              "      <th>reference</th>\n",
              "      <th>source_of_acquisition</th>\n",
              "      <th>subject</th>\n",
              "      <th>system_control_number</th>\n",
              "      <th>thesaurus_terms</th>\n",
              "      <th>title</th>\n",
              "      <th>url</th>\n",
              "      <th>version_id</th>\n",
              "    </tr>\n",
              "  </thead>\n",
              "  <tbody>\n",
              "    <tr>\n",
              "      <th>0</th>\n",
              "      <td>{'set': ['CERN', 'INSPIRE:HEP', 'CERN:arXiv', 'CDS'], 'id': 'oai:inspirehep.net:1718338'}</td>\n",
              "      <td>[{'number': 'arXiv', 'summary': 'Signals consistent with the B$^+_\\mathrm{c}$(2S) and B$^{*+}_\\mathrm{c}$(2S) states are observed in proton-proton collisions at $\\sqrt{s} =$ 13 TeV, in an event sa...</td>\n",
              "      <td>{'experiment': 'CERN-LHC-CMS'}</td>\n",
              "      <td>[{'INSPIRE_number': 'INSPIRE-00312131', 'affiliation': 'Yerevan Phys. Inst.', 'first_name': 'Albert M', 'last_name': 'Sirunyan', 'full_name': 'Sirunyan, Albert M'}, {'INSPIRE_number': 'INSPIRE-001...</td>\n",
              "      <td>{'creation_date': '2019-02-05'}</td>\n",
              "      <td>[{'primary': 'HEP'}, {'primary': 'Citeable'}, {'primary': 'CORE'}, {'primary': 'Fermilab'}, {'primary': 'Published'}]</td>\n",
              "      <td>Submitted to Phys. Rev. Lett. All figures and tables can be found at http://cms-results.web.cern.ch/cms-results/public-results/publications/BPH-18-007 (CMS Public Pages). This version corrects the...</td>\n",
              "      <td>[{'collaboration': 'CMS'}]</td>\n",
              "      <td>{'date': '2019', 'holder_contact': 'Article', 'holder': 'CERN'}</td>\n",
              "      <td>2019-02-05T04:03:36</td>\n",
              "      <td>...</td>\n",
              "      <td>{'volume': '122', 'pagination': '132001', 'title': 'Phys.Rev.Lett.', 'year': '2019'}</td>\n",
              "      <td>1718338</td>\n",
              "      <td>[{'title': 'Phys.Rev.Lett.,81,2432', 'year': '1998', 'doi': 'doi:10.1103/PhysRevLett.81.2432', 'order_number': '1', 'authors': 'F. Abe'}, {'title': 'Phys.Rev.,D49,5845', 'year': '1994', 'doi': 'do...</td>\n",
              "      <td>{'source_of_acquisition': 'arXiv', 'date': '2019-02-13T03:35:35.632671', 'accession_number': '1447042'}</td>\n",
              "      <td>[{'source': 'INSPIRE', 'term': 'Experiment-HEP'}, {'source': 'arXiv', 'term': 'hep-ex'}, {'source': 'INSPIRE', 'term': 'Experiment-HEP'}]</td>\n",
              "      <td>[{'institute': 'INSPIRETeX', 'value': 'Sirunyan:2019osb'}, {'institute': 'arXiv', 'value': 'oai:arXiv.org:1902.00571'}, {'institute': 'CDS', 'value': '2655521'}, {'institute': 'HAL', 'value': 'hal...</td>\n",
              "      <td>[{'term': 'p p: scattering'}, {'term': 'p p: colliding beams'}, {'term': 'B/c+: hadroproduction'}, {'term': 'B/c: excited state'}, {'term': 'B/c+: hadronic decay'}, {'term': 'excited state: hadron...</td>\n",
              "      <td>{'title': 'Observation of Two Excited B$^+_\\mathrm{c}$ States and Measurement of the B$^+_\\mathrm{c}$(2S) Mass in pp Collisions at $\\sqrt{s} =$ 13 TeV'}</td>\n",
              "      <td>[{'url': 'http://inspirehep.net/record/1718338/files/Figure_001.png', 'description': '00002 Transitions between the lightest \\BC states, with solid and dashed lines indicating the emission of phot...</td>\n",
              "      <td>2020-06-04T17:41:04</td>\n",
              "    </tr>\n",
              "  </tbody>\n",
              "</table>\n",
              "<p>1 rows × 36 columns</p>\n",
              "</div>"
            ],
            "text/plain": [
              "                                                                                   FIXME_OAI  \\\n",
              "0  {'set': ['CERN', 'INSPIRE:HEP', 'CERN:arXiv', 'CDS'], 'id': 'oai:inspirehep.net:1718338'}   \n",
              "\n",
              "                                                                                                                                                                                                  abstract  \\\n",
              "0  [{'number': 'arXiv', 'summary': 'Signals consistent with the B$^+_\\mathrm{c}$(2S) and B$^{*+}_\\mathrm{c}$(2S) states are observed in proton-proton collisions at $\\sqrt{s} =$ 13 TeV, in an event sa...   \n",
              "\n",
              "           accelerator_experiment  \\\n",
              "0  {'experiment': 'CERN-LHC-CMS'}   \n",
              "\n",
              "                                                                                                                                                                                                   authors  \\\n",
              "0  [{'INSPIRE_number': 'INSPIRE-00312131', 'affiliation': 'Yerevan Phys. Inst.', 'first_name': 'Albert M', 'last_name': 'Sirunyan', 'full_name': 'Sirunyan, Albert M'}, {'INSPIRE_number': 'INSPIRE-001...   \n",
              "\n",
              "                   cataloguer_info  \\\n",
              "0  {'creation_date': '2019-02-05'}   \n",
              "\n",
              "                                                                                                              collection  \\\n",
              "0  [{'primary': 'HEP'}, {'primary': 'Citeable'}, {'primary': 'CORE'}, {'primary': 'Fermilab'}, {'primary': 'Published'}]   \n",
              "\n",
              "                                                                                                                                                                                                   comment  \\\n",
              "0  Submitted to Phys. Rev. Lett. All figures and tables can be found at http://cms-results.web.cern.ch/cms-results/public-results/publications/BPH-18-007 (CMS Public Pages). This version corrects the...   \n",
              "\n",
              "               corporate_name  \\\n",
              "0  [{'collaboration': 'CMS'}]   \n",
              "\n",
              "                                                          coyright  \\\n",
              "0  {'date': '2019', 'holder_contact': 'Article', 'holder': 'CERN'}   \n",
              "\n",
              "         creation_date  ...  \\\n",
              "0  2019-02-05T04:03:36  ...   \n",
              "\n",
              "                                                                       publication_info  \\\n",
              "0  {'volume': '122', 'pagination': '132001', 'title': 'Phys.Rev.Lett.', 'year': '2019'}   \n",
              "\n",
              "     recid  \\\n",
              "0  1718338   \n",
              "\n",
              "                                                                                                                                                                                                 reference  \\\n",
              "0  [{'title': 'Phys.Rev.Lett.,81,2432', 'year': '1998', 'doi': 'doi:10.1103/PhysRevLett.81.2432', 'order_number': '1', 'authors': 'F. Abe'}, {'title': 'Phys.Rev.,D49,5845', 'year': '1994', 'doi': 'do...   \n",
              "\n",
              "                                                                                     source_of_acquisition  \\\n",
              "0  {'source_of_acquisition': 'arXiv', 'date': '2019-02-13T03:35:35.632671', 'accession_number': '1447042'}   \n",
              "\n",
              "                                                                                                                                     subject  \\\n",
              "0  [{'source': 'INSPIRE', 'term': 'Experiment-HEP'}, {'source': 'arXiv', 'term': 'hep-ex'}, {'source': 'INSPIRE', 'term': 'Experiment-HEP'}]   \n",
              "\n",
              "                                                                                                                                                                                     system_control_number  \\\n",
              "0  [{'institute': 'INSPIRETeX', 'value': 'Sirunyan:2019osb'}, {'institute': 'arXiv', 'value': 'oai:arXiv.org:1902.00571'}, {'institute': 'CDS', 'value': '2655521'}, {'institute': 'HAL', 'value': 'hal...   \n",
              "\n",
              "                                                                                                                                                                                           thesaurus_terms  \\\n",
              "0  [{'term': 'p p: scattering'}, {'term': 'p p: colliding beams'}, {'term': 'B/c+: hadroproduction'}, {'term': 'B/c: excited state'}, {'term': 'B/c+: hadronic decay'}, {'term': 'excited state: hadron...   \n",
              "\n",
              "                                                                                                                                                      title  \\\n",
              "0  {'title': 'Observation of Two Excited B$^+_\\mathrm{c}$ States and Measurement of the B$^+_\\mathrm{c}$(2S) Mass in pp Collisions at $\\sqrt{s} =$ 13 TeV'}   \n",
              "\n",
              "                                                                                                                                                                                                       url  \\\n",
              "0  [{'url': 'http://inspirehep.net/record/1718338/files/Figure_001.png', 'description': '00002 Transitions between the lightest \\BC states, with solid and dashed lines indicating the emission of phot...   \n",
              "\n",
              "            version_id  \n",
              "0  2020-06-04T17:41:04  \n",
              "\n",
              "[1 rows x 36 columns]"
            ]
          },
          "metadata": {
            "tags": []
          },
          "execution_count": 19
        }
      ]
    },
    {
      "cell_type": "markdown",
      "metadata": {
        "id": "SyVgDj1ApPtP"
      },
      "source": [
        "We can see that the column `authors` is quite nested: Is a list of dictionaries with the full information for each one of the authors of the article."
      ]
    },
    {
      "cell_type": "code",
      "metadata": {
        "id": "V2ZeIadJq9n8",
        "outputId": "2bac429c-e322-47ed-cff6-d151bd6193c3"
      },
      "source": [
        "df.columns"
      ],
      "execution_count": null,
      "outputs": [
        {
          "output_type": "execute_result",
          "data": {
            "text/plain": [
              "Index(['FIXME_OAI', 'abstract', 'accelerator_experiment', 'authors',\n",
              "       'cataloguer_info', 'collection', 'comment', 'corporate_name',\n",
              "       'coyright', 'creation_date', 'doi', 'filenames', 'files', 'filetypes',\n",
              "       'imprint', 'keywords', 'license', 'number_of_authors',\n",
              "       'number_of_citations', 'number_of_comments', 'number_of_reviews',\n",
              "       'other_report_number', 'persistent_identifiers_keys',\n",
              "       'physical_description', 'prepublication', 'primary_report_number',\n",
              "       'publication_info', 'recid', 'reference', 'source_of_acquisition',\n",
              "       'subject', 'system_control_number', 'thesaurus_terms', 'title', 'url',\n",
              "       'version_id'],\n",
              "      dtype='object')"
            ]
          },
          "metadata": {
            "tags": []
          },
          "execution_count": 58
        }
      ]
    },
    {
      "cell_type": "code",
      "metadata": {
        "id": "7oH3ooqYq9n9",
        "outputId": "38a78269-65a6-4aaa-e069-943fc5617f34"
      },
      "source": [
        "df.number_of_authors"
      ],
      "execution_count": null,
      "outputs": [
        {
          "output_type": "execute_result",
          "data": {
            "text/plain": [
              "0    2279\n",
              "Name: number_of_authors, dtype: int64"
            ]
          },
          "metadata": {
            "tags": []
          },
          "execution_count": 59
        }
      ]
    },
    {
      "cell_type": "code",
      "metadata": {
        "colab": {
          "base_uri": "https://localhost:8080/",
          "height": 74
        },
        "id": "BybpMovNsB7N",
        "outputId": "1d8edd97-5ea8-4050-981e-5d469c9eb43a"
      },
      "source": [
        "df.authors"
      ],
      "execution_count": null,
      "outputs": [
        {
          "output_type": "execute_result",
          "data": {
            "text/plain": [
              "0    [{'INSPIRE_number': 'INSPIRE-00312131', 'affiliation': 'Yerevan Phys. Inst.', 'first_name': 'Albert M', 'last_name': 'Sirunyan', 'full_name': 'Sirunyan, Albert M'}, {'INSPIRE_number': 'INSPIRE-001...\n",
              "Name: authors, dtype: object"
            ]
          },
          "metadata": {
            "tags": []
          },
          "execution_count": 60
        }
      ]
    },
    {
      "cell_type": "markdown",
      "metadata": {
        "id": "8zr5Nsxwsikt"
      },
      "source": [
        "__Activity__: Check that the lenght of the auhors list coincides with the `number_of_authors` \n",
        "<!-- df.authors.apply(len),df.number_of_authors.values -->"
      ]
    },
    {
      "cell_type": "code",
      "metadata": {
        "id": "MeMNRrbwq9n_"
      },
      "source": [
        ""
      ],
      "execution_count": null,
      "outputs": []
    },
    {
      "cell_type": "code",
      "metadata": {
        "id": "I1IvH1K-s46d",
        "outputId": "1eecccad-9259-4561-bc91-01bb242d6c26"
      },
      "source": [
        "df.authors[0][0]"
      ],
      "execution_count": null,
      "outputs": [
        {
          "output_type": "execute_result",
          "data": {
            "text/plain": [
              "{'INSPIRE_number': 'INSPIRE-00312131',\n",
              " 'affiliation': 'Yerevan Phys. Inst.',\n",
              " 'first_name': 'Albert M',\n",
              " 'full_name': 'Sirunyan, Albert M',\n",
              " 'last_name': 'Sirunyan'}"
            ]
          },
          "metadata": {
            "tags": []
          },
          "execution_count": 61
        }
      ]
    },
    {
      "cell_type": "code",
      "metadata": {
        "id": "U8iwN3x3tKlN"
      },
      "source": [
        ""
      ],
      "execution_count": null,
      "outputs": []
    },
    {
      "cell_type": "markdown",
      "metadata": {
        "id": "i22ywhohsAVo"
      },
      "source": [
        " We can use all the previous methods to extract the authors from `'Antioquia U.'`:\n",
        " \n",
        " Note: For a dictionary, `d` is safer to use `d.get('key')` instead of just `d['key']` to obtain some `key`, because not error is generated if the requested `key` does not exists at all "
      ]
    },
    {
      "cell_type": "markdown",
      "metadata": {
        "id": "PTYChrARq9oB"
      },
      "source": [
        "We also need use comprenhension list like in"
      ]
    },
    {
      "cell_type": "code",
      "metadata": {
        "id": "g1azjbX2q9oB"
      },
      "source": [
        "l=[1,2,3]"
      ],
      "execution_count": null,
      "outputs": []
    },
    {
      "cell_type": "code",
      "metadata": {
        "id": "nldHuuQSq9oB",
        "outputId": "d5aac248-0ec0-4a03-ebcb-d99316ff5464"
      },
      "source": [
        "[x if x>1 else 3 for x in l ]"
      ],
      "execution_count": null,
      "outputs": [
        {
          "output_type": "execute_result",
          "data": {
            "text/plain": [
              "[3, 2, 3]"
            ]
          },
          "metadata": {
            "tags": []
          },
          "execution_count": 63
        }
      ]
    },
    {
      "cell_type": "markdown",
      "metadata": {
        "id": "GX8wCUPXq9oC"
      },
      "source": [
        "Then the on-fly apply function to extract the authors with affiliation 'Antioquia U.' is"
      ]
    },
    {
      "cell_type": "code",
      "metadata": {
        "colab": {
          "base_uri": "https://localhost:8080/",
          "height": 54
        },
        "id": "1cx7xy2rpOzg",
        "outputId": "e2a0b01a-7f8e-4f6f-848d-c15d53f44ae3"
      },
      "source": [
        "df.authors.apply(lambda l:  #implicit function\n",
        "                           [ d.get('full_name') #safer way to obtain a `key` value\n",
        "                             for d in l   #comprehension list \n",
        "                              if isinstance(d,dict) and d.get('affiliation')=='Antioquia U.' #condition\n",
        "                           ] \n",
        "                             if isinstance(l,list) else None #  Be sure that cell have the proper format\n",
        "                 )"
      ],
      "execution_count": null,
      "outputs": [
        {
          "output_type": "execute_result",
          "data": {
            "text/plain": [
              "0    [Mejia Guisao, Jhovanny, Ruiz Alvarez, José David]\n",
              "Name: authors, dtype: object"
            ]
          },
          "metadata": {
            "tags": []
          },
          "execution_count": 65
        }
      ]
    },
    {
      "cell_type": "markdown",
      "metadata": {
        "id": "-YpfjPAdu19J"
      },
      "source": [
        "A simpler version is possible,  but is more prompted to error when used through multiple column entries:"
      ]
    },
    {
      "cell_type": "code",
      "metadata": {
        "colab": {
          "base_uri": "https://localhost:8080/",
          "height": 54
        },
        "id": "oM80j8zdvAdq",
        "outputId": "0a5bc9e0-cd9e-44b0-86eb-b4f409298b8b"
      },
      "source": [
        "df.authors.apply(lambda l: [ d['full_name'] for d in l   \n",
        "                              if d['affiliation']=='Antioquia U.'\n",
        "                           ] )"
      ],
      "execution_count": null,
      "outputs": [
        {
          "output_type": "execute_result",
          "data": {
            "text/plain": [
              "0    [Mejia Guisao, Jhovanny, Ruiz Alvarez, José David]\n",
              "Name: authors, dtype: object"
            ]
          },
          "metadata": {
            "tags": []
          },
          "execution_count": 64
        }
      ]
    },
    {
      "cell_type": "markdown",
      "metadata": {
        "id": "1Z96Ju2gwQO0"
      },
      "source": [
        "For further details see: https://github.com/restrepo/inspire/blob/master/gfif.ipynb\n"
      ]
    },
    {
      "cell_type": "markdown",
      "metadata": {
        "id": "TotPjMUqq9oE"
      },
      "source": [
        "__Activity__: Repeat the same activity but using directly the JSON file"
      ]
    },
    {
      "cell_type": "markdown",
      "metadata": {
        "id": "Tt9xHznfq9oF"
      },
      "source": [
        "__NOTE__: The same but with the new API"
      ]
    },
    {
      "cell_type": "code",
      "metadata": {
        "id": "FPMa3AK4q9oF",
        "outputId": "eda419d0-77dd-43ba-b5f7-cbc7594272cc"
      },
      "source": [
        "#See: https://github.com/inspirehep/rest-api-doc/issues/4#issuecomment-645218074\n",
        "import requests                                                                                                                                                      \n",
        "response = requests.get('https://inspirehep.net/api/doi/10.1103/PhysRevLett.122.132001')                                                                              \n",
        "authors = response.json()['metadata']['authors']                                                                                                                     \n",
        "names = [author.get('full_name')\n",
        "              for author in authors \n",
        "               if any(aff.get('value') == 'Antioquia U.' for aff in author.get('affiliations'))]\n",
        "names"
      ],
      "execution_count": null,
      "outputs": [
        {
          "output_type": "execute_result",
          "data": {
            "text/plain": [
              "['Mejia Guisao, Jhovanny', 'Ruiz Alvarez, José David']"
            ]
          },
          "metadata": {
            "tags": []
          },
          "execution_count": 25
        }
      ]
    },
    {
      "cell_type": "markdown",
      "metadata": {
        "id": "D7SNm2ABxE22"
      },
      "source": [
        "##  ACTIVITIES\n",
        "See:\n",
        "* https://github.com/ajcr/100-pandas-puzzles\n",
        "* https://github.com/guipsamora/pandas_exercises"
      ]
    },
    {
      "cell_type": "markdown",
      "metadata": {
        "id": "fWjYdB7LxE23"
      },
      "source": [
        "## Final remarks\n",
        "With basic scripting and Pandas we already have a solid environment to analyse data. We introduce the other libraries motivated with the extending the capabilities of Pandas"
      ]
    },
    {
      "cell_type": "code",
      "metadata": {
        "id": "erRi7J01xE24"
      },
      "source": [
        ""
      ],
      "execution_count": null,
      "outputs": []
    }
  ]
}