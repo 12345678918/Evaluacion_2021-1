{
  "nbformat": 4,
  "nbformat_minor": 0,
  "metadata": {
    "kernelspec": {
      "display_name": "Python 3 (ipykernel)",
      "language": "python",
      "name": "python3"
    },
    "language_info": {
      "codemirror_mode": {
        "name": "ipython",
        "version": 3
      },
      "file_extension": ".py",
      "mimetype": "text/x-python",
      "name": "python",
      "nbconvert_exporter": "python",
      "pygments_lexer": "ipython3",
      "version": "3.7.3"
    },
    "colab": {
      "name": "Copia de Examen_2021_1_02_enunciado.ipynb",
      "provenance": [],
      "collapsed_sections": []
    }
  },
  "cells": [
    {
      "cell_type": "markdown",
      "metadata": {
        "id": "vsDvQCQjmVU1"
      },
      "source": [
        "A) Los siguientes datos fueron extraidos de un [perfil real de Instragram](https://www.instagram.com/paulacano24/):\n",
        "\n",
        "https://raw.githubusercontent.com/restrepo/ComputationalMethods/master/data/Followers.json\n",
        "\n",
        "Interprete los datos como un problema de caida libre y a partir del ajuste (fit) a la correspondiente ecuación de movimiento, determine\n",
        "1. La velocidad inicial de incremento de seguidores en `followers/hour`\n",
        "1. La aceleración constante en `followers/hour**2`\n",
        "1. El número máximo de seguidores que alcanzaría el perfil\n",
        "1. La fecha en la que se alcanzaría dicho máximo\n",
        "\n",
        "B) El período de  un pendulo de longitud $l$ oscilando a ángulos grandes  $\\alpha$, está dado por\n",
        "$$\n",
        "T=T_{0} \\frac{\\sqrt{2}}{\\pi} \\int_{0}^{\\alpha} \\frac{d \\theta}{(\\cos \\theta-\\cos \\alpha)^{\\frac{1}{2}}}\n",
        "$$\n",
        "donde\n",
        "$$\n",
        "T_{0}=2 \\pi \\sqrt{\\frac{l}{g}}\n",
        "$$\n",
        "es el período del mismo péndulo a pequeñas amplitudes. Culquier intento de evaluación numérico de esa integral debería fallar. Sin embargo, si hacemos el cambio de variable\n",
        "$$\n",
        "\\sin \\frac{\\theta}{2}=\\sin \\frac{\\alpha}{2} \\sin \\phi\n",
        "$$\n",
        "obtenemos\n",
        "$$\n",
        "T=\\frac{2 T_{0}}{\\pi} \\int_{0}^{\\frac{\\pi}{2}} \\frac{d \\phi}{\\left(1-\\sin ^{2} \\frac{\\alpha}{2} \\sin ^{2} \\phi\\right)^{\\frac{1}{2}}}\n",
        "$$\n",
        "que corresponde a una integral bien comportada. \n",
        "1. Escriba un programa que use la anterio integral para calcular el cociente  $T/T_0$ para ángulos enteros (en grados) $0^\\circ \\le\\alpha \\le 90^\\circ$.  \n",
        "1. Genere un DataFrame de pandas que contenga como columnas: la amplitud en grados, la amplitud en radianes, y el cociente $T/T_0$, \n",
        "1. Haga un gráfico de $T/T_0$ como función de $\\alpha$ (en grados). \n",
        "1. Explain the result when $\\alpha = 0.$ "
      ]
    },
    {
      "cell_type": "code",
      "metadata": {
        "colab": {
          "base_uri": "https://localhost:8080/"
        },
        "id": "u8AXgLZixvMn",
        "outputId": "e34f7947-f897-4b2d-c8ea-a470cb0f3cde"
      },
      "source": [
        "!pip install time"
      ],
      "execution_count": null,
      "outputs": [
        {
          "output_type": "stream",
          "name": "stdout",
          "text": [
            "\u001b[31mERROR: Could not find a version that satisfies the requirement time (from versions: none)\u001b[0m\n",
            "\u001b[31mERROR: No matching distribution found for time\u001b[0m\n"
          ]
        }
      ]
    },
    {
      "cell_type": "markdown",
      "metadata": {
        "id": "HVoAdrXES3CU"
      },
      "source": [
        "# Punto 1"
      ]
    },
    {
      "cell_type": "code",
      "metadata": {
        "id": "pp-IY9QEm7-R",
        "colab": {
          "base_uri": "https://localhost:8080/"
        },
        "outputId": "e8d6a99c-473b-4155-ef87-59a3f46b67b3"
      },
      "source": [
        "!pip install helium"
      ],
      "execution_count": null,
      "outputs": [
        {
          "output_type": "stream",
          "name": "stdout",
          "text": [
            "Requirement already satisfied: helium in /usr/local/lib/python3.7/dist-packages (3.0.8)\n",
            "Requirement already satisfied: selenium==3.141.0 in /usr/local/lib/python3.7/dist-packages (from helium) (3.141.0)\n",
            "Requirement already satisfied: urllib3 in /usr/local/lib/python3.7/dist-packages (from selenium==3.141.0->helium) (1.24.3)\n"
          ]
        }
      ]
    },
    {
      "cell_type": "code",
      "metadata": {
        "id": "QEKbFItzKbY7"
      },
      "source": [
        "import numpy as np\n",
        "import sympy as sp\n",
        "import scipy as sc\n",
        "import pandas as pd\n",
        "from scipy.misc import derivative\n",
        "from sympy import init_printing\n",
        "import matplotlib.pylab as plt\n",
        "from scipy.interpolate import CubicSpline\n",
        "init_printing() "
      ],
      "execution_count": 157,
      "outputs": []
    },
    {
      "cell_type": "code",
      "metadata": {
        "id": "Lw46I7k3r7nZ"
      },
      "source": [
        "import numpy as np\n",
        "import matplotlib.pyplot as plt\n",
        "import helium as hell\n",
        "import pandas as pd\n",
        "import scipy as sp\n",
        "from scipy import optimize \n",
        "import time"
      ],
      "execution_count": 159,
      "outputs": []
    },
    {
      "cell_type": "code",
      "metadata": {
        "id": "veKLXhDJsGtU"
      },
      "source": [
        "df = pd.read_json('https://raw.githubusercontent.com/restrepo/ComputationalMethods/master/data/Followers.json')"
      ],
      "execution_count": 135,
      "outputs": []
    },
    {
      "cell_type": "code",
      "metadata": {
        "colab": {
          "base_uri": "https://localhost:8080/",
          "height": 419
        },
        "id": "cVZVs2hZtIL6",
        "outputId": "2d49c35f-b1d8-46b0-b2d8-634da76d3c4d"
      },
      "source": [
        "df"
      ],
      "execution_count": 136,
      "outputs": [
        {
          "output_type": "execute_result",
          "data": {
            "text/html": [
              "<div>\n",
              "<style scoped>\n",
              "    .dataframe tbody tr th:only-of-type {\n",
              "        vertical-align: middle;\n",
              "    }\n",
              "\n",
              "    .dataframe tbody tr th {\n",
              "        vertical-align: top;\n",
              "    }\n",
              "\n",
              "    .dataframe thead th {\n",
              "        text-align: right;\n",
              "    }\n",
              "</style>\n",
              "<table border=\"1\" class=\"dataframe\">\n",
              "  <thead>\n",
              "    <tr style=\"text-align: right;\">\n",
              "      <th></th>\n",
              "      <th>followers</th>\n",
              "      <th>date_time</th>\n",
              "      <th>hours</th>\n",
              "    </tr>\n",
              "  </thead>\n",
              "  <tbody>\n",
              "    <tr>\n",
              "      <th>0</th>\n",
              "      <td>42696</td>\n",
              "      <td>2021-08-04 22:06:53.668</td>\n",
              "      <td>0.000000</td>\n",
              "    </tr>\n",
              "    <tr>\n",
              "      <th>1</th>\n",
              "      <td>42706</td>\n",
              "      <td>2021-08-04 23:06:56.517</td>\n",
              "      <td>1.000791</td>\n",
              "    </tr>\n",
              "    <tr>\n",
              "      <th>2</th>\n",
              "      <td>42716</td>\n",
              "      <td>2021-08-05 00:06:59.505</td>\n",
              "      <td>2.001621</td>\n",
              "    </tr>\n",
              "    <tr>\n",
              "      <th>3</th>\n",
              "      <td>42734</td>\n",
              "      <td>2021-08-05 01:07:02.174</td>\n",
              "      <td>3.002363</td>\n",
              "    </tr>\n",
              "    <tr>\n",
              "      <th>4</th>\n",
              "      <td>42749</td>\n",
              "      <td>2021-08-05 02:07:04.854</td>\n",
              "      <td>4.003107</td>\n",
              "    </tr>\n",
              "    <tr>\n",
              "      <th>...</th>\n",
              "      <td>...</td>\n",
              "      <td>...</td>\n",
              "      <td>...</td>\n",
              "    </tr>\n",
              "    <tr>\n",
              "      <th>615</th>\n",
              "      <td>47452</td>\n",
              "      <td>2021-09-02 12:29:21.834</td>\n",
              "      <td>686.374491</td>\n",
              "    </tr>\n",
              "    <tr>\n",
              "      <th>616</th>\n",
              "      <td>47486</td>\n",
              "      <td>2021-09-02 19:59:32.801</td>\n",
              "      <td>693.877537</td>\n",
              "    </tr>\n",
              "    <tr>\n",
              "      <th>617</th>\n",
              "      <td>47491</td>\n",
              "      <td>2021-09-02 20:59:50.542</td>\n",
              "      <td>694.882465</td>\n",
              "    </tr>\n",
              "    <tr>\n",
              "      <th>618</th>\n",
              "      <td>47493</td>\n",
              "      <td>2021-09-02 21:59:59.345</td>\n",
              "      <td>695.884910</td>\n",
              "    </tr>\n",
              "    <tr>\n",
              "      <th>619</th>\n",
              "      <td>47498</td>\n",
              "      <td>2021-09-02 23:00:11.350</td>\n",
              "      <td>696.888245</td>\n",
              "    </tr>\n",
              "  </tbody>\n",
              "</table>\n",
              "<p>620 rows × 3 columns</p>\n",
              "</div>"
            ],
            "text/plain": [
              "     followers               date_time       hours\n",
              "0        42696 2021-08-04 22:06:53.668    0.000000\n",
              "1        42706 2021-08-04 23:06:56.517    1.000791\n",
              "2        42716 2021-08-05 00:06:59.505    2.001621\n",
              "3        42734 2021-08-05 01:07:02.174    3.002363\n",
              "4        42749 2021-08-05 02:07:04.854    4.003107\n",
              "..         ...                     ...         ...\n",
              "615      47452 2021-09-02 12:29:21.834  686.374491\n",
              "616      47486 2021-09-02 19:59:32.801  693.877537\n",
              "617      47491 2021-09-02 20:59:50.542  694.882465\n",
              "618      47493 2021-09-02 21:59:59.345  695.884910\n",
              "619      47498 2021-09-02 23:00:11.350  696.888245\n",
              "\n",
              "[620 rows x 3 columns]"
            ]
          },
          "metadata": {},
          "execution_count": 136
        }
      ]
    },
    {
      "cell_type": "code",
      "metadata": {
        "colab": {
          "base_uri": "https://localhost:8080/",
          "height": 281
        },
        "id": "i8LKgX-swtEM",
        "outputId": "f21305c4-ffd7-4d59-fe69-405bc4f74386"
      },
      "source": [
        "plt.plot(df['hours'],df['followers'])\n",
        "plt.title('Seguidores en IG')\n",
        "plt.grid()"
      ],
      "execution_count": 137,
      "outputs": [
        {
          "output_type": "display_data",
          "data": {
            "image/png": "[encoded data removed]",
            "text/plain": [
              "<Figure size 432x288 with 1 Axes>"
            ]
          },
          "metadata": {
            "needs_background": "light"
          }
        }
      ]
    },
    {
      "cell_type": "code",
      "metadata": {
        "id": "lSwrLs7wwuLt"
      },
      "source": [
        "def cl(x,a,b,c):\n",
        "  return a*x**2+b*x+c\n",
        "y,w=optimize.curve_fit(cl,df['hours'],df['followers'])"
      ],
      "execution_count": 138,
      "outputs": []
    },
    {
      "cell_type": "code",
      "metadata": {
        "id": "tQKKh3t-wuIb"
      },
      "source": [
        "a,b,c = y"
      ],
      "execution_count": 139,
      "outputs": []
    },
    {
      "cell_type": "code",
      "metadata": {
        "id": "LE3rL3LYwuEv"
      },
      "source": [
        "pd=np.poly1d([a,b,c])\n",
        "dp=pd.deriv()\n",
        "tmax=dp.roots[0]\n",
        "t=np.linspace(0,tmax)"
      ],
      "execution_count": 140,
      "outputs": []
    },
    {
      "cell_type": "code",
      "metadata": {
        "colab": {
          "base_uri": "https://localhost:8080/"
        },
        "id": "_vsTPH72wt_2",
        "outputId": "ec42d947-a36d-4ca6-b0ab-0b72176f7175"
      },
      "source": [
        "dp"
      ],
      "execution_count": 141,
      "outputs": [
        {
          "output_type": "execute_result",
          "data": {
            "text/plain": [
              "poly1d([-4.87525453e-03,  8.55213784e+00])"
            ]
          },
          "metadata": {},
          "execution_count": 141
        }
      ]
    },
    {
      "cell_type": "code",
      "metadata": {
        "colab": {
          "base_uri": "https://localhost:8080/",
          "height": 281
        },
        "id": "4xzpARLPwt8f",
        "outputId": "9046663e-c822-4099-f8b5-ebd385be8899"
      },
      "source": [
        "plt.plot(t, cl(t,a,b,c))\n",
        "plt.title('Fit(followers/hours)')\n",
        "plt.grid()"
      ],
      "execution_count": 142,
      "outputs": [
        {
          "output_type": "display_data",
          "data": {
            "image/png": "[encoded data removed]",
            "text/plain": [
              "<Figure size 432x288 with 1 Axes>"
            ]
          },
          "metadata": {
            "needs_background": "light"
          }
        }
      ]
    },
    {
      "cell_type": "code",
      "metadata": {
        "colab": {
          "base_uri": "https://localhost:8080/",
          "height": 38
        },
        "id": "946MFC6Rwt5d",
        "outputId": "d6b72db2-e4d5-4ccf-bc4b-b2db8acdca97"
      },
      "source": [
        "g = lambda t: pd[2]*t**2 + pd[1]*t + pd[0]\n",
        "t = sp.symbols(\"t\")              \n",
        "g(t)"
      ],
      "execution_count": 143,
      "outputs": [
        {
          "output_type": "execute_result",
          "data": {
            "image/png": "[encoded data removed]",
            "text/latex": "$\\displaystyle - 0.00243762726282357 t^{2} + 8.55213783907259 t + 42761.086006282$",
            "text/plain": [
              "                       2                                       \n",
              "- 0.00243762726282357⋅t  + 8.55213783907259⋅t + 42761.086006282"
            ]
          },
          "metadata": {},
          "execution_count": 143
        }
      ]
    },
    {
      "cell_type": "code",
      "metadata": {
        "id": "DSxJFcvswtvg"
      },
      "source": [
        "dvg=sp.diff(g(t),t)\n",
        "dvg_=sp.lambdify(t, dvg, 'numpy')"
      ],
      "execution_count": 144,
      "outputs": []
    },
    {
      "cell_type": "code",
      "metadata": {
        "id": "v8UwdmyiwtjE",
        "colab": {
          "base_uri": "https://localhost:8080/",
          "height": 38
        },
        "outputId": "ce6d6a30-aa81-4dc0-be93-f9f417df790c"
      },
      "source": [
        "dvg"
      ],
      "execution_count": 145,
      "outputs": [
        {
          "output_type": "execute_result",
          "data": {
            "image/png": "[encoded data removed]",
            "text/latex": "$\\displaystyle 8.55213783907259 - 0.00487525452564713 t$",
            "text/plain": [
              "8.55213783907259 - 0.00487525452564713⋅t"
            ]
          },
          "metadata": {},
          "execution_count": 145
        }
      ]
    },
    {
      "cell_type": "markdown",
      "metadata": {
        "id": "MIZJduRUX4rZ"
      },
      "source": [
        "Aceleracion y velocidad\n",
        "\n",
        "Del la derivada del polinomio se puede ver que la velocidad inicial es aproximadamente 8.55213(followers/hours) y su aceleracion es 0.0048752(followers/hours^2)"
      ]
    },
    {
      "cell_type": "code",
      "metadata": {
        "colab": {
          "base_uri": "https://localhost:8080/",
          "height": 37
        },
        "id": "2UE-Is9xQmi7",
        "outputId": "c3ef14ea-a3bf-4a1e-94f0-0d3a27233ed5"
      },
      "source": [
        "from scipy import optimize\n",
        "root = optimize.newton(dvg_, 2000)\n",
        "root"
      ],
      "execution_count": 148,
      "outputs": [
        {
          "output_type": "execute_result",
          "data": {
            "image/png": "[encoded data removed]",
            "text/latex": "$\\displaystyle 1754.19309783368$",
            "text/plain": [
              "1754.1930978336763"
            ]
          },
          "metadata": {},
          "execution_count": 148
        }
      ]
    },
    {
      "cell_type": "code",
      "metadata": {
        "colab": {
          "base_uri": "https://localhost:8080/",
          "height": 37
        },
        "id": "emQuMOeFQvrF",
        "outputId": "c501f02a-9ee3-40d9-d190-b388bd0e4f28"
      },
      "source": [
        "g(root)\n",
        "dias=root/24\n",
        "dias"
      ],
      "execution_count": 149,
      "outputs": [
        {
          "output_type": "execute_result",
          "data": {
            "image/png": "[encoded data removed]",
            "text/latex": "$\\displaystyle 73.0913790764032$",
            "text/plain": [
              "73.09137907640319"
            ]
          },
          "metadata": {},
          "execution_count": 149
        }
      ]
    },
    {
      "cell_type": "markdown",
      "metadata": {
        "id": "kismEX1yZbu9"
      },
      "source": [
        "Segun el analisis de los datos anteriores la fecha aproximada del alcance del maximo de seguidores es /10/17/2021"
      ]
    },
    {
      "cell_type": "markdown",
      "metadata": {
        "id": "UJKD8MOxSiJj"
      },
      "source": [
        "# Punto 2"
      ]
    },
    {
      "cell_type": "code",
      "metadata": {
        "colab": {
          "base_uri": "https://localhost:8080/"
        },
        "id": "JKIXMSflSzUq",
        "outputId": "8cf6b015-462f-437d-ca8e-b0301678c7bf"
      },
      "source": [
        "##1\n",
        "def simp(f,a,b,n):\n",
        "    s0 = f(a)+f(b); h = (b-a)/n\n",
        "    s1 = s2 = 0 \n",
        "    for i in range(1,n):\n",
        "        if i%2 == 0: s2 += f(a+i*h) \n",
        "        else: s1 += f(a+i*h)\n",
        "    return (s0+4*s1+2*s2)*h/3\n",
        "\n",
        "f = lambda fi: 1/((1-(np.sin(x/2))**2*(np.sin(fi))**2))**(1/2)\n",
        "x = np.linspace(0,np.pi/2,15)\n",
        "#x = 5*np.pi/180\n",
        "\n",
        "(2/np.pi)*simp(f,0,np.pi/2,100)\n",
        "#*2*np.pi*np.sqrt(1/9.8)"
      ],
      "execution_count": 153,
      "outputs": [
        {
          "output_type": "execute_result",
          "data": {
            "text/plain": [
              "array([1.        , 1.00078737, 1.0031563 , 1.0071275 , 1.012736  ,\n",
              "       1.02003213, 1.02908279, 1.03997334, 1.05280999, 1.06772306,\n",
              "       1.08487115, 1.10444671, 1.12668327, 1.15186517, 1.1803406 ])"
            ]
          },
          "metadata": {},
          "execution_count": 153
        }
      ]
    },
    {
      "cell_type": "code",
      "metadata": {
        "colab": {
          "base_uri": "https://localhost:8080/",
          "height": 514
        },
        "id": "mgiqz0Q4UcY-",
        "outputId": "f9f68129-3b9e-4cd6-8dc0-2b2b78180fa4"
      },
      "source": [
        "##2\n",
        "\n",
        "df = pd.DataFrame()\n",
        "df['a (Grados)'] = x*180/np.pi\n",
        "df['a (Radianes)'] = x\n",
        "df['$T/T_0$'] = (2/np.pi)*simp(f,0,np.pi/2,100)\n",
        "\n",
        "df"
      ],
      "execution_count": 160,
      "outputs": [
        {
          "output_type": "execute_result",
          "data": {
            "text/html": [
              "<div>\n",
              "<style scoped>\n",
              "    .dataframe tbody tr th:only-of-type {\n",
              "        vertical-align: middle;\n",
              "    }\n",
              "\n",
              "    .dataframe tbody tr th {\n",
              "        vertical-align: top;\n",
              "    }\n",
              "\n",
              "    .dataframe thead th {\n",
              "        text-align: right;\n",
              "    }\n",
              "</style>\n",
              "<table border=\"1\" class=\"dataframe\">\n",
              "  <thead>\n",
              "    <tr style=\"text-align: right;\">\n",
              "      <th></th>\n",
              "      <th>a (Grados)</th>\n",
              "      <th>a (Radianes)</th>\n",
              "      <th>$T/T_0$</th>\n",
              "    </tr>\n",
              "  </thead>\n",
              "  <tbody>\n",
              "    <tr>\n",
              "      <th>0</th>\n",
              "      <td>0.000000</td>\n",
              "      <td>0.000000</td>\n",
              "      <td>1.000000</td>\n",
              "    </tr>\n",
              "    <tr>\n",
              "      <th>1</th>\n",
              "      <td>6.428571</td>\n",
              "      <td>0.112200</td>\n",
              "      <td>1.000787</td>\n",
              "    </tr>\n",
              "    <tr>\n",
              "      <th>2</th>\n",
              "      <td>12.857143</td>\n",
              "      <td>0.224399</td>\n",
              "      <td>1.003156</td>\n",
              "    </tr>\n",
              "    <tr>\n",
              "      <th>3</th>\n",
              "      <td>19.285714</td>\n",
              "      <td>0.336599</td>\n",
              "      <td>1.007127</td>\n",
              "    </tr>\n",
              "    <tr>\n",
              "      <th>4</th>\n",
              "      <td>25.714286</td>\n",
              "      <td>0.448799</td>\n",
              "      <td>1.012736</td>\n",
              "    </tr>\n",
              "    <tr>\n",
              "      <th>5</th>\n",
              "      <td>32.142857</td>\n",
              "      <td>0.560999</td>\n",
              "      <td>1.020032</td>\n",
              "    </tr>\n",
              "    <tr>\n",
              "      <th>6</th>\n",
              "      <td>38.571429</td>\n",
              "      <td>0.673198</td>\n",
              "      <td>1.029083</td>\n",
              "    </tr>\n",
              "    <tr>\n",
              "      <th>7</th>\n",
              "      <td>45.000000</td>\n",
              "      <td>0.785398</td>\n",
              "      <td>1.039973</td>\n",
              "    </tr>\n",
              "    <tr>\n",
              "      <th>8</th>\n",
              "      <td>51.428571</td>\n",
              "      <td>0.897598</td>\n",
              "      <td>1.052810</td>\n",
              "    </tr>\n",
              "    <tr>\n",
              "      <th>9</th>\n",
              "      <td>57.857143</td>\n",
              "      <td>1.009798</td>\n",
              "      <td>1.067723</td>\n",
              "    </tr>\n",
              "    <tr>\n",
              "      <th>10</th>\n",
              "      <td>64.285714</td>\n",
              "      <td>1.121997</td>\n",
              "      <td>1.084871</td>\n",
              "    </tr>\n",
              "    <tr>\n",
              "      <th>11</th>\n",
              "      <td>70.714286</td>\n",
              "      <td>1.234197</td>\n",
              "      <td>1.104447</td>\n",
              "    </tr>\n",
              "    <tr>\n",
              "      <th>12</th>\n",
              "      <td>77.142857</td>\n",
              "      <td>1.346397</td>\n",
              "      <td>1.126683</td>\n",
              "    </tr>\n",
              "    <tr>\n",
              "      <th>13</th>\n",
              "      <td>83.571429</td>\n",
              "      <td>1.458597</td>\n",
              "      <td>1.151865</td>\n",
              "    </tr>\n",
              "    <tr>\n",
              "      <th>14</th>\n",
              "      <td>90.000000</td>\n",
              "      <td>1.570796</td>\n",
              "      <td>1.180341</td>\n",
              "    </tr>\n",
              "  </tbody>\n",
              "</table>\n",
              "</div>"
            ],
            "text/plain": [
              "    a (Grados)  a (Radianes)   $T/T_0$\n",
              "0     0.000000      0.000000  1.000000\n",
              "1     6.428571      0.112200  1.000787\n",
              "2    12.857143      0.224399  1.003156\n",
              "3    19.285714      0.336599  1.007127\n",
              "4    25.714286      0.448799  1.012736\n",
              "5    32.142857      0.560999  1.020032\n",
              "6    38.571429      0.673198  1.029083\n",
              "7    45.000000      0.785398  1.039973\n",
              "8    51.428571      0.897598  1.052810\n",
              "9    57.857143      1.009798  1.067723\n",
              "10   64.285714      1.121997  1.084871\n",
              "11   70.714286      1.234197  1.104447\n",
              "12   77.142857      1.346397  1.126683\n",
              "13   83.571429      1.458597  1.151865\n",
              "14   90.000000      1.570796  1.180341"
            ]
          },
          "metadata": {},
          "execution_count": 160
        }
      ]
    },
    {
      "cell_type": "code",
      "metadata": {
        "colab": {
          "base_uri": "https://localhost:8080/",
          "height": 297
        },
        "id": "9IvHNrApU2Kw",
        "outputId": "d434bc8b-5991-49cf-e8b4-b669e038a03b"
      },
      "source": [
        "##3\n",
        "\n",
        "plt.title('Gráfico de $T/T_0$')\n",
        "plt.plot(x*180/np.pi,f(x))\n",
        "plt.xlabel('$a$')\n",
        "plt.ylabel('$T/T_0$')\n",
        "plt.grid()\n",
        "plt.show()"
      ],
      "execution_count": 162,
      "outputs": [
        {
          "output_type": "display_data",
          "data": {
            "image/png": "[encoded data removed]",
            "text/plain": [
              "<Figure size 432x288 with 1 Axes>"
            ]
          },
          "metadata": {
            "needs_background": "light"
          }
        }
      ]
    },
    {
      "cell_type": "markdown",
      "metadata": {
        "id": "OgG1U_xKWeD-"
      },
      "source": [
        "##4\n",
        "# Cuando Alfa\n",
        "\n",
        "Cuando alfa toma valores cercanos a cero la integral descrita en la\n",
        "ecuación toma el valor de 1, independientemente del valor de la variable fi.\n",
        "por lo que con ángulos muy pequeños el Cociente $T/T_0$\n",
        "es aproximadamente 1, el Periodo no depende de la amplitud del péndulo\n",
        "sino que únicamente de la longitud del péndulo y el valor de $g$.\n"
      ]
    },
    {
      "cell_type": "code",
      "metadata": {
        "id": "eSaiUpcLWdw6"
      },
      "source": [
        ""
      ],
      "execution_count": null,
      "outputs": []
    }
  ]
}