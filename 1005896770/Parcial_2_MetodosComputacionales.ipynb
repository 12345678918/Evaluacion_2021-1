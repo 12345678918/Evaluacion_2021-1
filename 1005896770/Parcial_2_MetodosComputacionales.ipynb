{
 "cells": [
  {
   "cell_type": "markdown",
   "metadata": {},
   "source": [
    "### Estudiante: Ana Maria Arcila\n",
    "#### cc. 1005896770"
   ]
  },
  {
   "cell_type": "markdown",
   "metadata": {},
   "source": [
    "A) Los siguientes datos fueron extraidos de un [perfil real de Instragram](https://www.instagram.com/paulacano24/):\n",
    "\n",
    "https://raw.githubusercontent.com/restrepo/ComputationalMethods/master/data/Followers.json\n",
    "\n",
    "Interprete los datos como un problema de caida libre y a partir del ajuste (fit) a la correspondiente ecuación de movimiento, determine\n",
    "1. La velocidad inicial de incremento de seguidores en `followers/hour`\n",
    "1. La aceleración constante en `followers/hour**2`\n",
    "1. El número máximo de seguidores que alcanzaría el perfil\n",
    "1. La fecha en la que se alcanzaría dicho máximo\n",
    "\n",
    "B) El período de  un pendulo de longitud $l$ oscilando a ángulos grandes  $\\alpha$, está dado por\n",
    "$$\n",
    "T=T_{0} \\frac{\\sqrt{2}}{\\pi} \\int_{0}^{\\alpha} \\frac{d \\theta}{(\\cos \\theta-\\cos \\alpha)^{\\frac{1}{2}}}\n",
    "$$\n",
    "donde\n",
    "$$\n",
    "T_{0}=2 \\pi \\sqrt{\\frac{l}{g}}\n",
    "$$\n",
    "es el período del mismo péndulo a pequeñas amplitudes. Culquier intento de evaluación numérico de esa integral debería fallar. Sin embargo, si hacemos el cambio de variable\n",
    "$$\n",
    "\\sin \\frac{\\theta}{2}=\\sin \\frac{\\alpha}{2} \\sin \\phi\n",
    "$$\n",
    "obtenemos\n",
    "$$\n",
    "T=\\frac{2 T_{0}}{\\pi} \\int_{0}^{\\frac{\\pi}{2}} \\frac{d \\phi}{\\left(1-\\sin ^{2} \\frac{\\alpha}{2} \\sin ^{2} \\phi\\right)^{\\frac{1}{2}}}\n",
    "$$\n",
    "que corresponde a una integral bien comportada. \n",
    "1. Escriba un programa que use la anterio integral para calcular el cociente  $T/T_0$ para ángulos enteros (en grados) $0^\\circ \\le\\alpha \\le 90^\\circ$.  \n",
    "1. Genere un DataFrame de pandas que contenga como columnas: la amplitud en grados, la amplitud en radianes, y el cociente $T/T_0$, \n",
    "1. Haga un gráfico de $T/T_0$ como función de $\\alpha$ (en grados). \n",
    "1. Explain the result when $\\alpha = 0.$ "
   ]
  },
  {
   "cell_type": "markdown",
   "metadata": {},
   "source": [
    "## A)"
   ]
  },
  {
   "cell_type": "code",
   "execution_count": 1,
   "metadata": {
    "scrolled": false
   },
   "outputs": [
    {
     "data": {
      "image/png": "[encoded data removed]",
      "text/plain": [
       "<Figure size 432x288 with 1 Axes>"
      ]
     },
     "metadata": {
      "needs_background": "light"
     },
     "output_type": "display_data"
    }
   ],
   "source": [
    "import pandas as pd\n",
    "import matplotlib.pyplot as plt\n",
    "import numpy as np\n",
    "import datetime\n",
    "from scipy import optimize\n",
    "\n",
    "df = pd.read_json(\"https://raw.githubusercontent.com/restrepo/ComputationalMethods/master/data/Followers.json\") #se lee el json.\n",
    "\n",
    "#polyfit para los datos del DataFrame, se escoge grado 2 ya que la gráfica se considera lo suficientemente precisa.\n",
    "coeffs = np.polyfit(df.hours, df.followers, 2) \n",
    "x=np.linspace(0,700)\n",
    "\n",
    "#Gráfico con los datos dados por el polyfit.\n",
    "P=np.poly1d(coeffs)\n",
    "plt.plot(df.hours, df.followers,'ro')\n",
    "plt.ylabel('Followers', fontsize = 15)\n",
    "plt.xlabel('Hours', fontsize = 15)\n",
    "plt.plot(x,P( x),'b-')\n",
    "plt.grid()"
   ]
  },
  {
   "cell_type": "markdown",
   "metadata": {},
   "source": [
    "Aquí se deriva lo que nos dio con la interpolación para encontrar la velocidad del incremento de los suscriptores."
   ]
  },
  {
   "cell_type": "code",
   "execution_count": 2,
   "metadata": {
    "scrolled": false
   },
   "outputs": [
    {
     "name": "stdout",
     "output_type": "stream",
     "text": [
      " \n",
      "-0.004875 x + 8.552\n"
     ]
    }
   ],
   "source": [
    "v = P.deriv()\n",
    "print(v)"
   ]
  },
  {
   "cell_type": "markdown",
   "metadata": {},
   "source": [
    "La velocidad inicial es la que se da cuando el tiempo es cero, por lo que se encuentra al hacer v(0)."
   ]
  },
  {
   "cell_type": "code",
   "execution_count": 3,
   "metadata": {
    "scrolled": true
   },
   "outputs": [
    {
     "name": "stdout",
     "output_type": "stream",
     "text": [
      "La velocidad inicial de interpolación es 8.552137792664094 followers/hour\n"
     ]
    }
   ],
   "source": [
    "print('La velocidad inicial de interpolación es', v(0), 'followers/hour')"
   ]
  },
  {
   "cell_type": "markdown",
   "metadata": {},
   "source": [
    "Se deriva una vez más para sacar la aceleración, y como la interpolación era de grado 2, esta aceleración será constante."
   ]
  },
  {
   "cell_type": "code",
   "execution_count": 4,
   "metadata": {
    "scrolled": true
   },
   "outputs": [
    {
     "name": "stdout",
     "output_type": "stream",
     "text": [
      "La aceleración constante es de  \n",
      "-0.004875 followers/hour**2\n"
     ]
    }
   ],
   "source": [
    "a = v.deriv()\n",
    "print('La aceleración constante es de', a, 'followers/hour**2')"
   ]
  },
  {
   "cell_type": "markdown",
   "metadata": {},
   "source": [
    "Para el número máximo de seguidores, se tiene que ver cuándo la velocidad en la que se suscriben llegue a cero, por lo que se procede a encontrar la raíz de la función v."
   ]
  },
  {
   "cell_type": "code",
   "execution_count": 5,
   "metadata": {
    "scrolled": true
   },
   "outputs": [
    {
     "name": "stdout",
     "output_type": "stream",
     "text": [
      "La velocidad llega a cero en la posicion:  1754.1931385699195\n"
     ]
    }
   ],
   "source": [
    "xf = optimize.newton(v, 7500)\n",
    "print('La velocidad llega a cero en la posicion: ', xf)"
   ]
  },
  {
   "cell_type": "markdown",
   "metadata": {},
   "source": [
    "Se evalúa este $x_{f}$ en la ecuación de posición para obtener las horas que se tomaría en llegar a este x o número de seguidores."
   ]
  },
  {
   "cell_type": "code",
   "execution_count": 6,
   "metadata": {},
   "outputs": [
    {
     "name": "stdout",
     "output_type": "stream",
     "text": [
      "El perfil dejará de ganar seguidores en la hora :  50262.13672901219\n"
     ]
    }
   ],
   "source": [
    "hmax = P(xf)\n",
    "print('El perfil dejará de ganar seguidores en la hora : ', hmax)"
   ]
  },
  {
   "cell_type": "markdown",
   "metadata": {},
   "source": [
    "Se añade el tiempo que se toma a la primera fecha, ya que es a partir de esta que se están contando las horas para llegar al $x_{f}$."
   ]
  },
  {
   "cell_type": "code",
   "execution_count": 7,
   "metadata": {},
   "outputs": [
    {
     "name": "stdout",
     "output_type": "stream",
     "text": [
      "La fecha en la que se alcanza este máximo es:  2027-04-30 04:15:05.892444\n"
     ]
    }
   ],
   "source": [
    "print('La fecha en la que se alcanza este máximo es: ', df.date_time[0] + datetime.timedelta(hours = hmax))"
   ]
  },
  {
   "cell_type": "markdown",
   "metadata": {},
   "source": [
    "## B)"
   ]
  },
  {
   "cell_type": "code",
   "execution_count": 8,
   "metadata": {},
   "outputs": [
    {
     "data": {
      "text/html": [
       "<div>\n",
       "<style scoped>\n",
       "    .dataframe tbody tr th:only-of-type {\n",
       "        vertical-align: middle;\n",
       "    }\n",
       "\n",
       "    .dataframe tbody tr th {\n",
       "        vertical-align: top;\n",
       "    }\n",
       "\n",
       "    .dataframe thead th {\n",
       "        text-align: right;\n",
       "    }\n",
       "</style>\n",
       "<table border=\"1\" class=\"dataframe\">\n",
       "  <thead>\n",
       "    <tr style=\"text-align: right;\">\n",
       "      <th></th>\n",
       "      <th>α_Grad</th>\n",
       "      <th>α_Rad</th>\n",
       "      <th>Cociente</th>\n",
       "    </tr>\n",
       "  </thead>\n",
       "  <tbody>\n",
       "    <tr>\n",
       "      <th>0</th>\n",
       "      <td>0</td>\n",
       "      <td>0.000000</td>\n",
       "      <td>1.000000</td>\n",
       "    </tr>\n",
       "    <tr>\n",
       "      <th>1</th>\n",
       "      <td>1</td>\n",
       "      <td>0.017453</td>\n",
       "      <td>1.000019</td>\n",
       "    </tr>\n",
       "    <tr>\n",
       "      <th>2</th>\n",
       "      <td>2</td>\n",
       "      <td>0.034907</td>\n",
       "      <td>1.000076</td>\n",
       "    </tr>\n",
       "    <tr>\n",
       "      <th>3</th>\n",
       "      <td>3</td>\n",
       "      <td>0.052360</td>\n",
       "      <td>1.000171</td>\n",
       "    </tr>\n",
       "    <tr>\n",
       "      <th>4</th>\n",
       "      <td>4</td>\n",
       "      <td>0.069813</td>\n",
       "      <td>1.000305</td>\n",
       "    </tr>\n",
       "    <tr>\n",
       "      <th>...</th>\n",
       "      <td>...</td>\n",
       "      <td>...</td>\n",
       "      <td>...</td>\n",
       "    </tr>\n",
       "    <tr>\n",
       "      <th>86</th>\n",
       "      <td>86</td>\n",
       "      <td>1.500983</td>\n",
       "      <td>1.162214</td>\n",
       "    </tr>\n",
       "    <tr>\n",
       "      <th>87</th>\n",
       "      <td>87</td>\n",
       "      <td>1.518436</td>\n",
       "      <td>1.166617</td>\n",
       "    </tr>\n",
       "    <tr>\n",
       "      <th>88</th>\n",
       "      <td>88</td>\n",
       "      <td>1.535890</td>\n",
       "      <td>1.171105</td>\n",
       "    </tr>\n",
       "    <tr>\n",
       "      <th>89</th>\n",
       "      <td>89</td>\n",
       "      <td>1.553343</td>\n",
       "      <td>1.175679</td>\n",
       "    </tr>\n",
       "    <tr>\n",
       "      <th>90</th>\n",
       "      <td>90</td>\n",
       "      <td>1.570796</td>\n",
       "      <td>1.180341</td>\n",
       "    </tr>\n",
       "  </tbody>\n",
       "</table>\n",
       "<p>91 rows × 3 columns</p>\n",
       "</div>"
      ],
      "text/plain": [
       "    α_Grad     α_Rad  Cociente\n",
       "0        0  0.000000  1.000000\n",
       "1        1  0.017453  1.000019\n",
       "2        2  0.034907  1.000076\n",
       "3        3  0.052360  1.000171\n",
       "4        4  0.069813  1.000305\n",
       "..     ...       ...       ...\n",
       "86      86  1.500983  1.162214\n",
       "87      87  1.518436  1.166617\n",
       "88      88  1.535890  1.171105\n",
       "89      89  1.553343  1.175679\n",
       "90      90  1.570796  1.180341\n",
       "\n",
       "[91 rows x 3 columns]"
      ]
     },
     "execution_count": 8,
     "metadata": {},
     "output_type": "execute_result"
    }
   ],
   "source": [
    "import numpy as np\n",
    "import scipy.integrate as integrate\n",
    "import matplotlib.pyplot as plt\n",
    "\n",
    "#Se gace el arreglo de los ángulos\n",
    "α = np.deg2rad(np.arange(0, 91, 1))\n",
    "\n",
    "def C(x):\n",
    "    \"\"\"\n",
    "    Función para hacer cada una de las funciones que se quieren integrar al variar α.\n",
    "    \"\"\"\n",
    "    Cociente = []\n",
    "    for i in x:\n",
    "        F = lambda ϕ: 2 / (np.pi*(1 - np.sin(i/2)**2 * np.sin(ϕ)**2)**0.5)\n",
    "        Cociente.append(integrate.quad(F, 0, np.pi/2)[0])\n",
    "    return Cociente\n",
    "    \n",
    "#Dataframe de los resultados en grados, radianes y el cociente que se obtuvo\n",
    "df_ = pd.DataFrame({'α_Grad': np.arange(0, 91, 1), 'α_Rad': α, 'Cociente': C(α)})\n",
    "df_"
   ]
  },
  {
   "cell_type": "code",
   "execution_count": 9,
   "metadata": {},
   "outputs": [
    {
     "data": {
      "image/png": "[encoded data removed]",
      "text/plain": [
       "<Figure size 432x288 with 1 Axes>"
      ]
     },
     "metadata": {
      "needs_background": "light"
     },
     "output_type": "display_data"
    }
   ],
   "source": [
    "#gráfico del cociente Vs. α en grados.\n",
    "plt.plot(df_.α_Grad, df_.Cociente)\n",
    "plt.ylabel('Cociente', fontsize = 15)\n",
    "plt.xlabel('α(grados)', fontsize = 15)\n",
    "plt.grid()"
   ]
  },
  {
   "attachments": {
    "image.png": {
     "image/png": "[encoded data removed]"
    }
   },
   "cell_type": "markdown",
   "metadata": {},
   "source": [
    "Cuando $\\alpha$ = 0, en la integral bien comportada se puede ver que su denominador se vuelve uno, lo que nos deja la siguiente ecuación:\n",
    "\n",
    "$$T=\\frac{2 T_{0}}{\\pi} \\int_{0}^{\\frac{\\pi}{2}} \\frac{d \\phi}{1}$$\n",
    "\n",
    "$$T=\\frac{2 T_{0}}{\\pi} \\phi\\big|_{0}^{\\frac{\\pi}{2}}$$\n",
    "\n",
    "$$T=\\frac{2 T_{0}}{\\pi} \\frac{\\pi}{2}$$\n",
    "\n",
    "$$T=T_{0}$$\n",
    "\n",
    "En vista de que desde GitHub no está mostrando la mayoría de las ecuaciones hechas con Latex, se adjunta una imagen de las ecuaciones:\n",
    "\n",
    "![image.png](attachment:image.png)\n",
    "\n",
    "Lo que da 1 de cociente. Eso es lo que se puede ver en la gráfica cuando el ángulo tiende a cero."
   ]
  },
  {
   "cell_type": "code",
   "execution_count": null,
   "metadata": {},
   "outputs": [],
   "source": []
  }
 ],
 "metadata": {
  "kernelspec": {
   "display_name": "Python 3",
   "language": "python",
   "name": "python3"
  },
  "language_info": {
   "codemirror_mode": {
    "name": "ipython",
    "version": 3
   },
   "file_extension": ".py",
   "mimetype": "text/x-python",
   "name": "python",
   "nbconvert_exporter": "python",
   "pygments_lexer": "ipython3",
   "version": "3.8.3"
  }
 },
 "nbformat": 4,
 "nbformat_minor": 4
}
