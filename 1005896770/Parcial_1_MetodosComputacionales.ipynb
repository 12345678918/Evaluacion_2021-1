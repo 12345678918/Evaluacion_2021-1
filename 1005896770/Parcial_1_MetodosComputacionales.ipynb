{
 "cells": [
  {
   "cell_type": "markdown",
   "metadata": {},
   "source": [
    "#### Estudiante: Ana María Arcila\n",
    "#### c.c. 1005896770"
   ]
  },
  {
   "cell_type": "markdown",
   "metadata": {},
   "source": [
    "### A)"
   ]
  },
  {
   "cell_type": "code",
   "execution_count": 1,
   "metadata": {},
   "outputs": [
    {
     "data": {
      "text/html": [
       "<div>\n",
       "<style scoped>\n",
       "    .dataframe tbody tr th:only-of-type {\n",
       "        vertical-align: middle;\n",
       "    }\n",
       "\n",
       "    .dataframe tbody tr th {\n",
       "        vertical-align: top;\n",
       "    }\n",
       "\n",
       "    .dataframe thead th {\n",
       "        text-align: right;\n",
       "    }\n",
       "</style>\n",
       "<table border=\"1\" class=\"dataframe\">\n",
       "  <thead>\n",
       "    <tr style=\"text-align: right;\">\n",
       "      <th></th>\n",
       "      <th>l</th>\n",
       "      <th>k</th>\n",
       "      <th>solution</th>\n",
       "      <th>gcd</th>\n",
       "      <th>n</th>\n",
       "      <th>smax</th>\n",
       "    </tr>\n",
       "  </thead>\n",
       "  <tbody>\n",
       "    <tr>\n",
       "      <th>0</th>\n",
       "      <td>[-1, 0, -1, 0, -1]</td>\n",
       "      <td>[-1, 0, -1, 1, -1]</td>\n",
       "      <td>[1, 4, 4, 4, -5, -5, -5, -5, -5, 6, 6]</td>\n",
       "      <td>1</td>\n",
       "      <td>11</td>\n",
       "      <td>6</td>\n",
       "    </tr>\n",
       "    <tr>\n",
       "      <th>1</th>\n",
       "      <td>[-1, 1]</td>\n",
       "      <td>[-1, 0, -1]</td>\n",
       "      <td>[1, 2, 2, -3, -3, -3, 4]</td>\n",
       "      <td>1</td>\n",
       "      <td>7</td>\n",
       "      <td>4</td>\n",
       "    </tr>\n",
       "    <tr>\n",
       "      <th>2</th>\n",
       "      <td>[1, -1, 0, 1, -1]</td>\n",
       "      <td>[-2, 0, -1, -2, 0]</td>\n",
       "      <td>[1, 1, -2, -2, -3, -3, 5, 5, 5, 5, -6, -6]</td>\n",
       "      <td>2</td>\n",
       "      <td>12</td>\n",
       "      <td>6</td>\n",
       "    </tr>\n",
       "    <tr>\n",
       "      <th>3</th>\n",
       "      <td>[-1, 1, -1, 1, -1]</td>\n",
       "      <td>[-2, -1, 0, -1, 0]</td>\n",
       "      <td>[1, 1, 1, 1, 2, 2, 2, -3, -4, -4, -6, 7]</td>\n",
       "      <td>1</td>\n",
       "      <td>12</td>\n",
       "      <td>7</td>\n",
       "    </tr>\n",
       "    <tr>\n",
       "      <th>4</th>\n",
       "      <td>[1, 0, 1, 0, -1]</td>\n",
       "      <td>[-2, -1, -2, -1, 0]</td>\n",
       "      <td>[1, 1, 1, -2, -2, -5, -5, 6, 6, 7, -8]</td>\n",
       "      <td>1</td>\n",
       "      <td>11</td>\n",
       "      <td>8</td>\n",
       "    </tr>\n",
       "    <tr>\n",
       "      <th>...</th>\n",
       "      <td>...</td>\n",
       "      <td>...</td>\n",
       "      <td>...</td>\n",
       "      <td>...</td>\n",
       "      <td>...</td>\n",
       "      <td>...</td>\n",
       "    </tr>\n",
       "    <tr>\n",
       "      <th>390069</th>\n",
       "      <td>[-3, -15, -6]</td>\n",
       "      <td>[-3, 8, 9]</td>\n",
       "      <td>[8, -9, -9, 11, 25, -29, -29, 32]</td>\n",
       "      <td>36</td>\n",
       "      <td>8</td>\n",
       "      <td>32</td>\n",
       "    </tr>\n",
       "    <tr>\n",
       "      <th>390070</th>\n",
       "      <td>[-10, -5, -15]</td>\n",
       "      <td>[-10, -12, 12]</td>\n",
       "      <td>[5, 5, 5, -17, -27, -27, 28, 28]</td>\n",
       "      <td>100</td>\n",
       "      <td>8</td>\n",
       "      <td>28</td>\n",
       "    </tr>\n",
       "    <tr>\n",
       "      <th>390071</th>\n",
       "      <td>[15, -1, 15]</td>\n",
       "      <td>[-14, -13, -14]</td>\n",
       "      <td>[14, -15, -16, 17, -30, 31, 31, -32]</td>\n",
       "      <td>1</td>\n",
       "      <td>8</td>\n",
       "      <td>32</td>\n",
       "    </tr>\n",
       "    <tr>\n",
       "      <th>390072</th>\n",
       "      <td>[-15, -9, -1]</td>\n",
       "      <td>[-13, -14, -12]</td>\n",
       "      <td>[11, -13, -15, 19, 23, -26, -30, 31]</td>\n",
       "      <td>18</td>\n",
       "      <td>8</td>\n",
       "      <td>31</td>\n",
       "    </tr>\n",
       "    <tr>\n",
       "      <th>390073</th>\n",
       "      <td>[10, 15, 5]</td>\n",
       "      <td>[-11, -14, 7]</td>\n",
       "      <td>[16, -17, -17, 19, 20, -22, -22, 23]</td>\n",
       "      <td>2000</td>\n",
       "      <td>8</td>\n",
       "      <td>23</td>\n",
       "    </tr>\n",
       "  </tbody>\n",
       "</table>\n",
       "<p>390074 rows × 6 columns</p>\n",
       "</div>"
      ],
      "text/plain": [
       "                         l                    k  \\\n",
       "0       [-1, 0, -1, 0, -1]   [-1, 0, -1, 1, -1]   \n",
       "1                  [-1, 1]          [-1, 0, -1]   \n",
       "2        [1, -1, 0, 1, -1]   [-2, 0, -1, -2, 0]   \n",
       "3       [-1, 1, -1, 1, -1]   [-2, -1, 0, -1, 0]   \n",
       "4         [1, 0, 1, 0, -1]  [-2, -1, -2, -1, 0]   \n",
       "...                    ...                  ...   \n",
       "390069       [-3, -15, -6]           [-3, 8, 9]   \n",
       "390070      [-10, -5, -15]       [-10, -12, 12]   \n",
       "390071        [15, -1, 15]      [-14, -13, -14]   \n",
       "390072       [-15, -9, -1]      [-13, -14, -12]   \n",
       "390073         [10, 15, 5]        [-11, -14, 7]   \n",
       "\n",
       "                                          solution   gcd   n  smax  \n",
       "0           [1, 4, 4, 4, -5, -5, -5, -5, -5, 6, 6]     1  11     6  \n",
       "1                         [1, 2, 2, -3, -3, -3, 4]     1   7     4  \n",
       "2       [1, 1, -2, -2, -3, -3, 5, 5, 5, 5, -6, -6]     2  12     6  \n",
       "3         [1, 1, 1, 1, 2, 2, 2, -3, -4, -4, -6, 7]     1  12     7  \n",
       "4           [1, 1, 1, -2, -2, -5, -5, 6, 6, 7, -8]     1  11     8  \n",
       "...                                            ...   ...  ..   ...  \n",
       "390069           [8, -9, -9, 11, 25, -29, -29, 32]    36   8    32  \n",
       "390070            [5, 5, 5, -17, -27, -27, 28, 28]   100   8    28  \n",
       "390071        [14, -15, -16, 17, -30, 31, 31, -32]     1   8    32  \n",
       "390072        [11, -13, -15, 19, 23, -26, -30, 31]    18   8    31  \n",
       "390073        [16, -17, -17, 19, 20, -22, -22, 23]  2000   8    23  \n",
       "\n",
       "[390074 rows x 6 columns]"
      ]
     },
     "execution_count": 1,
     "metadata": {},
     "output_type": "execute_result"
    }
   ],
   "source": [
    "import pandas as pd\n",
    "import numpy as np\n",
    "\n",
    "#importing the json file\n",
    "\n",
    "df = pd.read_json('https://github.com/restrepo/anomaly/raw/main/solutions.json.gz')\n",
    "\n",
    "#getting the maximum absolute value from the lists in the solution column\n",
    "\n",
    "smax = []\n",
    "for i in range(0, len(df)):\n",
    "    L = []\n",
    "    for n in range(0, len(list(df['solution'][i]))):\n",
    "        L.append(abs(list(df['solution'][i])[n]))\n",
    "    smax.append(max(L))\n",
    "    \n",
    "#adding smax to the dataframe\n",
    "\n",
    "df['smax'] = smax\n",
    "df"
   ]
  },
  {
   "cell_type": "code",
   "execution_count": 2,
   "metadata": {},
   "outputs": [
    {
     "data": {
      "text/html": [
       "<div>\n",
       "<style scoped>\n",
       "    .dataframe tbody tr th:only-of-type {\n",
       "        vertical-align: middle;\n",
       "    }\n",
       "\n",
       "    .dataframe tbody tr th {\n",
       "        vertical-align: top;\n",
       "    }\n",
       "\n",
       "    .dataframe thead th {\n",
       "        text-align: right;\n",
       "    }\n",
       "</style>\n",
       "<table border=\"1\" class=\"dataframe\">\n",
       "  <thead>\n",
       "    <tr style=\"text-align: right;\">\n",
       "      <th></th>\n",
       "      <th>l</th>\n",
       "      <th>k</th>\n",
       "      <th>solution</th>\n",
       "      <th>gcd</th>\n",
       "      <th>n</th>\n",
       "      <th>smax</th>\n",
       "      <th>sum_s</th>\n",
       "      <th>sum_s^3</th>\n",
       "    </tr>\n",
       "  </thead>\n",
       "  <tbody>\n",
       "    <tr>\n",
       "      <th>0</th>\n",
       "      <td>[-1, 0, -1, 0, -1]</td>\n",
       "      <td>[-1, 0, -1, 1, -1]</td>\n",
       "      <td>[1, 4, 4, 4, -5, -5, -5, -5, -5, 6, 6]</td>\n",
       "      <td>1</td>\n",
       "      <td>11</td>\n",
       "      <td>6</td>\n",
       "      <td>0</td>\n",
       "      <td>0</td>\n",
       "    </tr>\n",
       "    <tr>\n",
       "      <th>1</th>\n",
       "      <td>[-1, 1]</td>\n",
       "      <td>[-1, 0, -1]</td>\n",
       "      <td>[1, 2, 2, -3, -3, -3, 4]</td>\n",
       "      <td>1</td>\n",
       "      <td>7</td>\n",
       "      <td>4</td>\n",
       "      <td>0</td>\n",
       "      <td>0</td>\n",
       "    </tr>\n",
       "    <tr>\n",
       "      <th>2</th>\n",
       "      <td>[1, -1, 0, 1, -1]</td>\n",
       "      <td>[-2, 0, -1, -2, 0]</td>\n",
       "      <td>[1, 1, -2, -2, -3, -3, 5, 5, 5, 5, -6, -6]</td>\n",
       "      <td>2</td>\n",
       "      <td>12</td>\n",
       "      <td>6</td>\n",
       "      <td>0</td>\n",
       "      <td>0</td>\n",
       "    </tr>\n",
       "    <tr>\n",
       "      <th>3</th>\n",
       "      <td>[-1, 1, -1, 1, -1]</td>\n",
       "      <td>[-2, -1, 0, -1, 0]</td>\n",
       "      <td>[1, 1, 1, 1, 2, 2, 2, -3, -4, -4, -6, 7]</td>\n",
       "      <td>1</td>\n",
       "      <td>12</td>\n",
       "      <td>7</td>\n",
       "      <td>0</td>\n",
       "      <td>0</td>\n",
       "    </tr>\n",
       "    <tr>\n",
       "      <th>4</th>\n",
       "      <td>[1, 0, 1, 0, -1]</td>\n",
       "      <td>[-2, -1, -2, -1, 0]</td>\n",
       "      <td>[1, 1, 1, -2, -2, -5, -5, 6, 6, 7, -8]</td>\n",
       "      <td>1</td>\n",
       "      <td>11</td>\n",
       "      <td>8</td>\n",
       "      <td>0</td>\n",
       "      <td>0</td>\n",
       "    </tr>\n",
       "    <tr>\n",
       "      <th>...</th>\n",
       "      <td>...</td>\n",
       "      <td>...</td>\n",
       "      <td>...</td>\n",
       "      <td>...</td>\n",
       "      <td>...</td>\n",
       "      <td>...</td>\n",
       "      <td>...</td>\n",
       "      <td>...</td>\n",
       "    </tr>\n",
       "    <tr>\n",
       "      <th>390069</th>\n",
       "      <td>[-3, -15, -6]</td>\n",
       "      <td>[-3, 8, 9]</td>\n",
       "      <td>[8, -9, -9, 11, 25, -29, -29, 32]</td>\n",
       "      <td>36</td>\n",
       "      <td>8</td>\n",
       "      <td>32</td>\n",
       "      <td>0</td>\n",
       "      <td>0</td>\n",
       "    </tr>\n",
       "    <tr>\n",
       "      <th>390070</th>\n",
       "      <td>[-10, -5, -15]</td>\n",
       "      <td>[-10, -12, 12]</td>\n",
       "      <td>[5, 5, 5, -17, -27, -27, 28, 28]</td>\n",
       "      <td>100</td>\n",
       "      <td>8</td>\n",
       "      <td>28</td>\n",
       "      <td>0</td>\n",
       "      <td>0</td>\n",
       "    </tr>\n",
       "    <tr>\n",
       "      <th>390071</th>\n",
       "      <td>[15, -1, 15]</td>\n",
       "      <td>[-14, -13, -14]</td>\n",
       "      <td>[14, -15, -16, 17, -30, 31, 31, -32]</td>\n",
       "      <td>1</td>\n",
       "      <td>8</td>\n",
       "      <td>32</td>\n",
       "      <td>0</td>\n",
       "      <td>0</td>\n",
       "    </tr>\n",
       "    <tr>\n",
       "      <th>390072</th>\n",
       "      <td>[-15, -9, -1]</td>\n",
       "      <td>[-13, -14, -12]</td>\n",
       "      <td>[11, -13, -15, 19, 23, -26, -30, 31]</td>\n",
       "      <td>18</td>\n",
       "      <td>8</td>\n",
       "      <td>31</td>\n",
       "      <td>0</td>\n",
       "      <td>0</td>\n",
       "    </tr>\n",
       "    <tr>\n",
       "      <th>390073</th>\n",
       "      <td>[10, 15, 5]</td>\n",
       "      <td>[-11, -14, 7]</td>\n",
       "      <td>[16, -17, -17, 19, 20, -22, -22, 23]</td>\n",
       "      <td>2000</td>\n",
       "      <td>8</td>\n",
       "      <td>23</td>\n",
       "      <td>0</td>\n",
       "      <td>0</td>\n",
       "    </tr>\n",
       "  </tbody>\n",
       "</table>\n",
       "<p>390074 rows × 8 columns</p>\n",
       "</div>"
      ],
      "text/plain": [
       "                         l                    k  \\\n",
       "0       [-1, 0, -1, 0, -1]   [-1, 0, -1, 1, -1]   \n",
       "1                  [-1, 1]          [-1, 0, -1]   \n",
       "2        [1, -1, 0, 1, -1]   [-2, 0, -1, -2, 0]   \n",
       "3       [-1, 1, -1, 1, -1]   [-2, -1, 0, -1, 0]   \n",
       "4         [1, 0, 1, 0, -1]  [-2, -1, -2, -1, 0]   \n",
       "...                    ...                  ...   \n",
       "390069       [-3, -15, -6]           [-3, 8, 9]   \n",
       "390070      [-10, -5, -15]       [-10, -12, 12]   \n",
       "390071        [15, -1, 15]      [-14, -13, -14]   \n",
       "390072       [-15, -9, -1]      [-13, -14, -12]   \n",
       "390073         [10, 15, 5]        [-11, -14, 7]   \n",
       "\n",
       "                                          solution   gcd   n  smax  sum_s  \\\n",
       "0           [1, 4, 4, 4, -5, -5, -5, -5, -5, 6, 6]     1  11     6      0   \n",
       "1                         [1, 2, 2, -3, -3, -3, 4]     1   7     4      0   \n",
       "2       [1, 1, -2, -2, -3, -3, 5, 5, 5, 5, -6, -6]     2  12     6      0   \n",
       "3         [1, 1, 1, 1, 2, 2, 2, -3, -4, -4, -6, 7]     1  12     7      0   \n",
       "4           [1, 1, 1, -2, -2, -5, -5, 6, 6, 7, -8]     1  11     8      0   \n",
       "...                                            ...   ...  ..   ...    ...   \n",
       "390069           [8, -9, -9, 11, 25, -29, -29, 32]    36   8    32      0   \n",
       "390070            [5, 5, 5, -17, -27, -27, 28, 28]   100   8    28      0   \n",
       "390071        [14, -15, -16, 17, -30, 31, 31, -32]     1   8    32      0   \n",
       "390072        [11, -13, -15, 19, 23, -26, -30, 31]    18   8    31      0   \n",
       "390073        [16, -17, -17, 19, 20, -22, -22, 23]  2000   8    23      0   \n",
       "\n",
       "        sum_s^3  \n",
       "0             0  \n",
       "1             0  \n",
       "2             0  \n",
       "3             0  \n",
       "4             0  \n",
       "...         ...  \n",
       "390069        0  \n",
       "390070        0  \n",
       "390071        0  \n",
       "390072        0  \n",
       "390073        0  \n",
       "\n",
       "[390074 rows x 8 columns]"
      ]
     },
     "execution_count": 2,
     "metadata": {},
     "output_type": "execute_result"
    }
   ],
   "source": [
    "#getting a list of the sum of the numbers in the solution column\n",
    "\n",
    "L = []\n",
    "for i in range(0, len(df)):\n",
    "    L.append(sum(df['solution'][i]))\n",
    "df['sum_s'] = L\n",
    "\n",
    "#getting a list of the sum of the numbers elevaed by three in the solution column\n",
    "\n",
    "L_3 = []\n",
    "for i in range(0, len(L)):\n",
    "    L_3.append(L[i]**3)\n",
    "df['sum_s^3'] = L_3\n",
    "df"
   ]
  },
  {
   "cell_type": "code",
   "execution_count": 3,
   "metadata": {},
   "outputs": [],
   "source": [
    "import random\n",
    "\n",
    "#getting a random row number and reparating it to get the coefficients\n",
    "\n",
    "random.seed(1005896770)\n",
    "\n",
    "num = random.randint(1, 39007)\n",
    "poly = df.loc[[num]]\n",
    "coeffs = list(poly['solution'])[0]"
   ]
  },
  {
   "cell_type": "code",
   "execution_count": 4,
   "metadata": {},
   "outputs": [
    {
     "name": "stdout",
     "output_type": "stream",
     "text": [
      "   9     8     7     6     5     4     3      2\n",
      "1 x - 5 x - 6 x + 7 x + 7 x - 8 x - 8 x + 13 x + 22 x - 23\n"
     ]
    }
   ],
   "source": [
    "#making the polynimial with the coefficients\n",
    "\n",
    "Polinm = np.poly1d(coeffs)\n",
    "print(Polinm)"
   ]
  },
  {
   "cell_type": "code",
   "execution_count": 5,
   "metadata": {},
   "outputs": [
    {
     "data": {
      "text/plain": [
       "1.0000000000011018"
      ]
     },
     "execution_count": 5,
     "metadata": {},
     "output_type": "execute_result"
    }
   ],
   "source": [
    "from scipy import optimize\n",
    "\n",
    "#getting the root of the polinomial\n",
    "\n",
    "root = optimize.newton(Polinm, 0)\n",
    "root"
   ]
  },
  {
   "cell_type": "code",
   "execution_count": 6,
   "metadata": {},
   "outputs": [
    {
     "data": {
      "text/plain": [
       "poly1d([  9, -40, -42,  42,  35, -32, -24,  26,  22])"
      ]
     },
     "execution_count": 6,
     "metadata": {},
     "output_type": "execute_result"
    }
   ],
   "source": [
    "#derivating the function\n",
    "\n",
    "Deriv = np.polyder(Polinm)\n",
    "Deriv"
   ]
  },
  {
   "cell_type": "code",
   "execution_count": 7,
   "metadata": {},
   "outputs": [
    {
     "data": {
      "image/png": "[encoded data removed]",
      "text/plain": [
       "<Figure size 432x288 with 1 Axes>"
      ]
     },
     "metadata": {
      "needs_background": "light"
     },
     "output_type": "display_data"
    }
   ],
   "source": [
    "import matplotlib.pyplot as plt\n",
    "\n",
    "x = np.arange(-5, 7, 0.1)\n",
    "\n",
    "plt.figure()\n",
    "plt.plot(x, Polinm(x), 'b', label = 'Polinomio generado') #plotting the function\n",
    "plt.plot(x, Deriv(x), 'g', label = 'Derivada de polinomio') #plotting thr derivative\n",
    "plt.plot(root, Polinm(root), 'ro', label = 'Raíz') #plotting the root\n",
    "plt.legend()\n",
    "plt.grid()\n",
    "plt.xlabel(\"x\", fontsize = 22)    #label of the x axis\n",
    "plt.ylabel(\"f(x)\", fontsize = 22) #label of the y axis\n",
    "plt.show()"
   ]
  },
  {
   "cell_type": "markdown",
   "metadata": {},
   "source": [
    "### B)"
   ]
  },
  {
   "cell_type": "code",
   "execution_count": 8,
   "metadata": {},
   "outputs": [
    {
     "data": {
      "text/plain": [
       "5"
      ]
     },
     "execution_count": 8,
     "metadata": {},
     "output_type": "execute_result"
    }
   ],
   "source": [
    "#selecting a random number with the seed 1005896770 to select one of the functions\n",
    "\n",
    "random.seed(1005896770)\n",
    "\n",
    "random.randint(1, 5)"
   ]
  },
  {
   "cell_type": "code",
   "execution_count": 9,
   "metadata": {},
   "outputs": [
    {
     "data": {
      "text/plain": [
       "0.6159349634648411"
      ]
     },
     "execution_count": 9,
     "metadata": {},
     "output_type": "execute_result"
    }
   ],
   "source": [
    "#selectieng a random number with the seed 1005896770 for p\n",
    "\n",
    "random.seed(1005896770)\n",
    "p = random.random()\n",
    "p"
   ]
  },
  {
   "cell_type": "code",
   "execution_count": 10,
   "metadata": {},
   "outputs": [],
   "source": [
    "def f(x):\n",
    "    \"\"\"\n",
    "    \n",
    "    Function for cos x + px = 0\n",
    "    \n",
    "    \"\"\"\n",
    "    return np.cos(x) + p * x"
   ]
  },
  {
   "cell_type": "code",
   "execution_count": 11,
   "metadata": {},
   "outputs": [
    {
     "data": {
      "image/png": "[encoded data removed]",
      "text/plain": [
       "<Figure size 432x288 with 1 Axes>"
      ]
     },
     "metadata": {
      "needs_background": "light"
     },
     "output_type": "display_data"
    }
   ],
   "source": [
    "#lists of numbers to plot f(x)\n",
    "x_1 = np.arange(-10, 10, 1) \n",
    "x_2 = np.arange(-10, 10, 0.1)\n",
    "\n",
    "plt.figure()\n",
    "plt.plot(x_2, f(x_2), label = 'f(x) para los reales entre -10 y 10') #plotting f(x) with real values\n",
    "plt.plot(x_1, f(x_1), 'ro', label = 'f(x) para los enteros entre -10 y 10') #plotting f(x) with integer values\n",
    "plt.legend()\n",
    "plt.xlabel(\"x\", fontsize = 22)    #name of the x axis\n",
    "plt.ylabel(\"f(x)\", fontsize = 22) #ame of the y axis\n",
    "plt.grid()"
   ]
  },
  {
   "cell_type": "code",
   "execution_count": null,
   "metadata": {},
   "outputs": [],
   "source": []
  }
 ],
 "metadata": {
  "kernelspec": {
   "display_name": "Python 3",
   "language": "python",
   "name": "python3"
  },
  "language_info": {
   "codemirror_mode": {
    "name": "ipython",
    "version": 3
   },
   "file_extension": ".py",
   "mimetype": "text/x-python",
   "name": "python",
   "nbconvert_exporter": "python",
   "pygments_lexer": "ipython3",
   "version": "3.8.3"
  }
 },
 "nbformat": 4,
 "nbformat_minor": 4
}
