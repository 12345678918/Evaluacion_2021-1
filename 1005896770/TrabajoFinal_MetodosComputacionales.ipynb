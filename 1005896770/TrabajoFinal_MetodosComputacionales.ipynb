{
 "cells": [
  {
   "cell_type": "markdown",
   "metadata": {},
   "source": [
    "### Trabajo final\n",
    "\n",
    "\n",
    "Estdiante: Ana Maria Arcila\n",
    "\n",
    "c.c 1005896770"
   ]
  },
  {
   "cell_type": "code",
   "execution_count": null,
   "metadata": {},
   "outputs": [],
   "source": [
    "import numpy as np\n",
    "import scipy as sp\n",
    "from sympy import *\n",
    "init_session()\n",
    "from __future__ import division\n",
    "init_printing()"
   ]
  },
  {
   "cell_type": "markdown",
   "metadata": {},
   "source": [
    "A continuación se muestra una función que resuelve la forma diferencial de la ley de Faraday.\n",
    "\n",
    "$$\\nabla \\times \\vec{E}=-\\frac{\\partial \\vec{B}}{\\partial t}$$\n",
    "\n",
    "En donde $\\vec{E}$ es el campo eléctrico y $\\vec{B}$ es el campo magnético.\n",
    "\n",
    "Recuerde poner $*$ en los input cuando desea multiplicar."
   ]
  },
  {
   "cell_type": "code",
   "execution_count": null,
   "metadata": {
    "scrolled": true
   },
   "outputs": [],
   "source": [
    "def Faraday(a, b, c):\n",
    "    \n",
    "    \"\"\"\n",
    "    Función para obtener el campo magnético a partir del campo eléctrico\n",
    "    con la ley de Faraday.\n",
    "    \n",
    "    \"\"\"\n",
    "    \n",
    "    x, y, z, t = symbols('x y z t', real=True)\n",
    "    i = eval(a)\n",
    "    j = eval(b)\n",
    "    k = eval(c)\n",
    "    d_dx = [diff(j, x), diff(k, x)]\n",
    "    d_dy = [diff(k, y), diff(i, y)]\n",
    "    d_dz = [diff(i, z), diff(j, z)]\n",
    "    \n",
    "    return [-integrate(d_dy[0]-d_dz[1], t), -integrate(d_dx[1]-d_dz[0], t), -integrate(d_dx[0]-d_dy[1], t)]\n",
    "\n",
    "print('Ingrese un valor o ecuación para el campo eléctrico en cada uno de los ejes.\\n')\n",
    "a = input('Eje x:\\n')\n",
    "b = input('\\nEje y:\\n')\n",
    "c = input('\\nEje z:\\n')\n",
    "print(\"\\nEl campo magnético es:\\n{}\".format(Faraday(a, b, c)))"
   ]
  },
  {
   "cell_type": "markdown",
   "metadata": {},
   "source": [
    "La siguiente función resuelve la forma diferencial de la ley de Ampére, especificando si se realiza en el vacío o la materia.\n",
    "\n",
    "$$\\nabla \\times \\vec{B}=\\mu_{0}\\vec{J}+\\mu_{0}\\epsilon_{0}\\frac{\\partial \\vec{E}}{\\partial t}$$\n",
    "\n",
    "En donde $\\vec{B}$ es el campo magnético, $\\mu_{0}$ es la permeabilidad en el vacío, $\\epsilon_{0}$ es la permitividad del vacío y $\\vec{E}$ es el campo eléctrico.\n",
    "\n",
    "Recuerde poner $*$ en los input cuando desea multiplicar."
   ]
  },
  {
   "cell_type": "code",
   "execution_count": null,
   "metadata": {},
   "outputs": [],
   "source": [
    "def Ampere(a, b, c, vaccum=True):\n",
    "    \n",
    "    \"\"\"\n",
    "    Función para obtener el campo eléctrico a partir del campo magnético\n",
    "    con la ley de Ampére.\n",
    "    vaccum=True Si se quiere resolver en el vacío\n",
    "    vaccum=False Si se quiere resolver en la materia\n",
    "    \n",
    "    \"\"\"\n",
    "    \n",
    "    x, y, z, t = symbols('x y z t', real=True)\n",
    "    μo = 4*np.pi*1e-7 #permeabilidad en el vacío (T*m*A^-1)\n",
    "    ϵo = 625000/(22468879468420441*np.pi) #permitividad del vacío (F/m)\n",
    "    i = eval(a)\n",
    "    j = eval(b)\n",
    "    k = eval(c)\n",
    "    d_dx = [diff(j, x), diff(k, x)]\n",
    "    d_dy = [diff(k, y), diff(i, y)]\n",
    "    d_dz = [diff(i, z), diff(j, z)]\n",
    "    \n",
    "    if vaccum:\n",
    "        return [-integrate(d_dy[0]-d_dz[1], t)/(μo*ϵo), -integrate(d_dx[1]-d_dz[0], t)/(μo*ϵo), -integrate(d_dx[0]-d_dy[1], t)/(μo*ϵo)]\n",
    "    else:\n",
    "        print('\\n\\nIngrese los valores de la densidad de corriente en cada uno de los ejes.\\n')\n",
    "        Jx = eval(input('Eje x:\\n'))\n",
    "        Jy = eval(input('\\nEje y:\\n'))\n",
    "        Jz = eval(input('\\nEje z:\\n'))\n",
    "        return [-integrate(d_dy[0]-d_dz[1]-μo*Jx, t)/(μo*ϵo), -integrate(d_dx[1]-d_dz[0]-μo*Jy, t)/(μo*ϵo), -integrate(d_dx[0]-d_dy[1]-μo*Jz, t)/(μo*ϵo)]\n",
    "\n",
    "print('Ingrese un valor o ecuación para el campo magnético en cada uno de los ejes.\\n')\n",
    "i = input('Eje x:\\n')\n",
    "j = input('\\nEje y:\\n')\n",
    "k = input('\\nEje z:\\n')\n",
    "q = input('\\n¿Su campo magnético se encuentra en el vacío?[si/no]:\\n')\n",
    "if q == 'si':\n",
    "    print(\"\\nEl campo eléctrico es:\\n{}\".format(Ampere(i, j, k)))\n",
    "else:\n",
    "    print(\"\\nEl campo eléctrico es:\\n{}\".format(Ampere(i, j, k, vaccum=False)))"
   ]
  },
  {
   "cell_type": "code",
   "execution_count": null,
   "metadata": {},
   "outputs": [],
   "source": []
  }
 ],
 "metadata": {
  "kernelspec": {
   "display_name": "Python 3",
   "language": "python",
   "name": "python3"
  },
  "language_info": {
   "codemirror_mode": {
    "name": "ipython",
    "version": 3
   },
   "file_extension": ".py",
   "mimetype": "text/x-python",
   "name": "python",
   "nbconvert_exporter": "python",
   "pygments_lexer": "ipython3",
   "version": "3.8.3"
  }
 },
 "nbformat": 4,
 "nbformat_minor": 4
}
