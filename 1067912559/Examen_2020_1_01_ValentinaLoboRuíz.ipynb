{
 "cells": [
  {
   "cell_type": "markdown",
   "metadata": {
    "id": "bWVchymOoRBb"
   },
   "source": [
    "# Primer Examen 15%"
   ]
  },
  {
   "cell_type": "markdown",
   "metadata": {
    "id": "vge3gzjNXPJh"
   },
   "source": [
    "A) Cargando el archivo JSON: \n",
    "* https://github.com/restrepo/anomaly/raw/main/solutions.json.gz\n",
    "\n",
    "en Pandas\n",
    "\n",
    "1) Adicione una columna nueva `'smax'` con el valor máximo en valor absoluto de la lista de enteros de la correspondiente entrada en la columna '`solution`'\n",
    "2) Adicione dos columnas nuevas: `'sum_s'` (`sum_s³`) con el resultado de la suma (al cubo) de todos los números de la lista de enteros de la correspondiente entrada en la columna '`solution`'\n",
    "3) Usando como semilla el número de su cédula, genere un número entero de forma aleatoria entre 0 y 390073. Seleccione el la fila correspondiente a ese número entero y construya un polinomio con esos coeficientes. Encuentre las raices reales de ese polinomio y realice el correspondiente gráfico incluyendo: el polinomio generado, sus raices (como puntos en gráfico) y la derivada del polinomio. Optimize el rango de valores en el eje $x$ y en el eje $y$ del gráfico, de manera que el polinomio y sus raices se visualicen de la mejor forma posible. (Sugerencia → use: `plt.ylim(ymin,ymax)` ). Se tendrá en cuenta la estética del gráfico presentado incluyendo la rotulación adecuada del mismo\n"
   ]
  },
  {
   "cell_type": "markdown",
   "metadata": {
    "id": "SCYzhddbXPJi"
   },
   "source": [
    "B)\n",
    "\n",
    "I) Usando como semilla el número de su cédula, genere de forma aletoria un número entero entre 1 y 5\n",
    "\n",
    "II) De acuerdo al entero obtenido, escoja una de las siguientes cinco funciones \n",
    "1. $$x\\operatorname{e}^x=p\\,, $$\n",
    "2. $$\\frac{\\sin x}{x}=+p\\,,$$\n",
    "3. $$\\frac{\\sin x}{x}=-p\\,,$$\n",
    "4. $$\\frac{\\cos x}{x}=+p\\,,$$\n",
    "5. $$\\frac{\\cos x}{x}=-p\\,,$$\n",
    "III) Genere un número aleatorio entre 0 y 1 y asignelo al valor de $p$\n",
    "IV) Encuentre la solución a la ecuación trascendental para el intervalo $x$ entre -10 y 10 y gráfique la correspondiente función trascendental y las correspondientes soluciones. . Se tendrá en cuenta la estética del gráfico presentado incluyendo la rotulación adecuada del mismo.\n",
    "\n",
    "A modo de nota curiosa: estas ecuaciones trascendentales están asociadas a soluciones de la ecuación de Schödinger en mecánica cuántica: https://doi.org/10.1080/14786435.2015.1081425"
   ]
  },
  {
   "cell_type": "code",
   "execution_count": 44,
   "metadata": {},
   "outputs": [],
   "source": [
    "#Libraries\n",
    "\n",
    "import numpy as np\n",
    "import pandas as pd\n",
    "import matplotlib.pyplot as plt\n",
    "import scipy.optimize as sp\n",
    "\n"
   ]
  },
  {
   "cell_type": "markdown",
   "metadata": {},
   "source": [
    "# Punto 1"
   ]
  },
  {
   "cell_type": "code",
   "execution_count": 2,
   "metadata": {},
   "outputs": [
    {
     "data": {
      "text/html": [
       "<div>\n",
       "<style scoped>\n",
       "    .dataframe tbody tr th:only-of-type {\n",
       "        vertical-align: middle;\n",
       "    }\n",
       "\n",
       "    .dataframe tbody tr th {\n",
       "        vertical-align: top;\n",
       "    }\n",
       "\n",
       "    .dataframe thead th {\n",
       "        text-align: right;\n",
       "    }\n",
       "</style>\n",
       "<table border=\"1\" class=\"dataframe\">\n",
       "  <thead>\n",
       "    <tr style=\"text-align: right;\">\n",
       "      <th></th>\n",
       "      <th>l</th>\n",
       "      <th>k</th>\n",
       "      <th>solution</th>\n",
       "      <th>gcd</th>\n",
       "      <th>n</th>\n",
       "    </tr>\n",
       "  </thead>\n",
       "  <tbody>\n",
       "    <tr>\n",
       "      <th>0</th>\n",
       "      <td>[-1, 0, -1, 0, -1]</td>\n",
       "      <td>[-1, 0, -1, 1, -1]</td>\n",
       "      <td>[1, 4, 4, 4, -5, -5, -5, -5, -5, 6, 6]</td>\n",
       "      <td>1</td>\n",
       "      <td>11</td>\n",
       "    </tr>\n",
       "    <tr>\n",
       "      <th>1</th>\n",
       "      <td>[-1, 1]</td>\n",
       "      <td>[-1, 0, -1]</td>\n",
       "      <td>[1, 2, 2, -3, -3, -3, 4]</td>\n",
       "      <td>1</td>\n",
       "      <td>7</td>\n",
       "    </tr>\n",
       "    <tr>\n",
       "      <th>2</th>\n",
       "      <td>[1, -1, 0, 1, -1]</td>\n",
       "      <td>[-2, 0, -1, -2, 0]</td>\n",
       "      <td>[1, 1, -2, -2, -3, -3, 5, 5, 5, 5, -6, -6]</td>\n",
       "      <td>2</td>\n",
       "      <td>12</td>\n",
       "    </tr>\n",
       "    <tr>\n",
       "      <th>3</th>\n",
       "      <td>[-1, 1, -1, 1, -1]</td>\n",
       "      <td>[-2, -1, 0, -1, 0]</td>\n",
       "      <td>[1, 1, 1, 1, 2, 2, 2, -3, -4, -4, -6, 7]</td>\n",
       "      <td>1</td>\n",
       "      <td>12</td>\n",
       "    </tr>\n",
       "    <tr>\n",
       "      <th>4</th>\n",
       "      <td>[1, 0, 1, 0, -1]</td>\n",
       "      <td>[-2, -1, -2, -1, 0]</td>\n",
       "      <td>[1, 1, 1, -2, -2, -5, -5, 6, 6, 7, -8]</td>\n",
       "      <td>1</td>\n",
       "      <td>11</td>\n",
       "    </tr>\n",
       "    <tr>\n",
       "      <th>...</th>\n",
       "      <td>...</td>\n",
       "      <td>...</td>\n",
       "      <td>...</td>\n",
       "      <td>...</td>\n",
       "      <td>...</td>\n",
       "    </tr>\n",
       "    <tr>\n",
       "      <th>390069</th>\n",
       "      <td>[-3, -15, -6]</td>\n",
       "      <td>[-3, 8, 9]</td>\n",
       "      <td>[8, -9, -9, 11, 25, -29, -29, 32]</td>\n",
       "      <td>36</td>\n",
       "      <td>8</td>\n",
       "    </tr>\n",
       "    <tr>\n",
       "      <th>390070</th>\n",
       "      <td>[-10, -5, -15]</td>\n",
       "      <td>[-10, -12, 12]</td>\n",
       "      <td>[5, 5, 5, -17, -27, -27, 28, 28]</td>\n",
       "      <td>100</td>\n",
       "      <td>8</td>\n",
       "    </tr>\n",
       "    <tr>\n",
       "      <th>390071</th>\n",
       "      <td>[15, -1, 15]</td>\n",
       "      <td>[-14, -13, -14]</td>\n",
       "      <td>[14, -15, -16, 17, -30, 31, 31, -32]</td>\n",
       "      <td>1</td>\n",
       "      <td>8</td>\n",
       "    </tr>\n",
       "    <tr>\n",
       "      <th>390072</th>\n",
       "      <td>[-15, -9, -1]</td>\n",
       "      <td>[-13, -14, -12]</td>\n",
       "      <td>[11, -13, -15, 19, 23, -26, -30, 31]</td>\n",
       "      <td>18</td>\n",
       "      <td>8</td>\n",
       "    </tr>\n",
       "    <tr>\n",
       "      <th>390073</th>\n",
       "      <td>[10, 15, 5]</td>\n",
       "      <td>[-11, -14, 7]</td>\n",
       "      <td>[16, -17, -17, 19, 20, -22, -22, 23]</td>\n",
       "      <td>2000</td>\n",
       "      <td>8</td>\n",
       "    </tr>\n",
       "  </tbody>\n",
       "</table>\n",
       "<p>390074 rows × 5 columns</p>\n",
       "</div>"
      ],
      "text/plain": [
       "                         l                    k  \\\n",
       "0       [-1, 0, -1, 0, -1]   [-1, 0, -1, 1, -1]   \n",
       "1                  [-1, 1]          [-1, 0, -1]   \n",
       "2        [1, -1, 0, 1, -1]   [-2, 0, -1, -2, 0]   \n",
       "3       [-1, 1, -1, 1, -1]   [-2, -1, 0, -1, 0]   \n",
       "4         [1, 0, 1, 0, -1]  [-2, -1, -2, -1, 0]   \n",
       "...                    ...                  ...   \n",
       "390069       [-3, -15, -6]           [-3, 8, 9]   \n",
       "390070      [-10, -5, -15]       [-10, -12, 12]   \n",
       "390071        [15, -1, 15]      [-14, -13, -14]   \n",
       "390072       [-15, -9, -1]      [-13, -14, -12]   \n",
       "390073         [10, 15, 5]        [-11, -14, 7]   \n",
       "\n",
       "                                          solution   gcd   n  \n",
       "0           [1, 4, 4, 4, -5, -5, -5, -5, -5, 6, 6]     1  11  \n",
       "1                         [1, 2, 2, -3, -3, -3, 4]     1   7  \n",
       "2       [1, 1, -2, -2, -3, -3, 5, 5, 5, 5, -6, -6]     2  12  \n",
       "3         [1, 1, 1, 1, 2, 2, 2, -3, -4, -4, -6, 7]     1  12  \n",
       "4           [1, 1, 1, -2, -2, -5, -5, 6, 6, 7, -8]     1  11  \n",
       "...                                            ...   ...  ..  \n",
       "390069           [8, -9, -9, 11, 25, -29, -29, 32]    36   8  \n",
       "390070            [5, 5, 5, -17, -27, -27, 28, 28]   100   8  \n",
       "390071        [14, -15, -16, 17, -30, 31, 31, -32]     1   8  \n",
       "390072        [11, -13, -15, 19, 23, -26, -30, 31]    18   8  \n",
       "390073        [16, -17, -17, 19, 20, -22, -22, 23]  2000   8  \n",
       "\n",
       "[390074 rows x 5 columns]"
      ]
     },
     "execution_count": 2,
     "metadata": {},
     "output_type": "execute_result"
    }
   ],
   "source": [
    "#Cargar Archivo\n",
    "\n",
    "df = pd.read_json(\"solutions.json\")\n",
    "df"
   ]
  },
  {
   "cell_type": "code",
   "execution_count": 3,
   "metadata": {},
   "outputs": [],
   "source": [
    "#Adicione una columna nueva 'smax' con el valor máximo en valor absoluto de la lista\n",
    "#de enteros de la correspondiente entrada en la columna 'solution´\n",
    "\n",
    "df[\"smax\"] = df.solution.apply(lambda i : max(map(abs, i)))"
   ]
  },
  {
   "cell_type": "code",
   "execution_count": 4,
   "metadata": {},
   "outputs": [
    {
     "data": {
      "text/html": [
       "<div>\n",
       "<style scoped>\n",
       "    .dataframe tbody tr th:only-of-type {\n",
       "        vertical-align: middle;\n",
       "    }\n",
       "\n",
       "    .dataframe tbody tr th {\n",
       "        vertical-align: top;\n",
       "    }\n",
       "\n",
       "    .dataframe thead th {\n",
       "        text-align: right;\n",
       "    }\n",
       "</style>\n",
       "<table border=\"1\" class=\"dataframe\">\n",
       "  <thead>\n",
       "    <tr style=\"text-align: right;\">\n",
       "      <th></th>\n",
       "      <th>l</th>\n",
       "      <th>k</th>\n",
       "      <th>solution</th>\n",
       "      <th>gcd</th>\n",
       "      <th>n</th>\n",
       "      <th>smax</th>\n",
       "    </tr>\n",
       "  </thead>\n",
       "  <tbody>\n",
       "    <tr>\n",
       "      <th>0</th>\n",
       "      <td>[-1, 0, -1, 0, -1]</td>\n",
       "      <td>[-1, 0, -1, 1, -1]</td>\n",
       "      <td>[1, 4, 4, 4, -5, -5, -5, -5, -5, 6, 6]</td>\n",
       "      <td>1</td>\n",
       "      <td>11</td>\n",
       "      <td>6</td>\n",
       "    </tr>\n",
       "    <tr>\n",
       "      <th>1</th>\n",
       "      <td>[-1, 1]</td>\n",
       "      <td>[-1, 0, -1]</td>\n",
       "      <td>[1, 2, 2, -3, -3, -3, 4]</td>\n",
       "      <td>1</td>\n",
       "      <td>7</td>\n",
       "      <td>4</td>\n",
       "    </tr>\n",
       "    <tr>\n",
       "      <th>2</th>\n",
       "      <td>[1, -1, 0, 1, -1]</td>\n",
       "      <td>[-2, 0, -1, -2, 0]</td>\n",
       "      <td>[1, 1, -2, -2, -3, -3, 5, 5, 5, 5, -6, -6]</td>\n",
       "      <td>2</td>\n",
       "      <td>12</td>\n",
       "      <td>6</td>\n",
       "    </tr>\n",
       "    <tr>\n",
       "      <th>3</th>\n",
       "      <td>[-1, 1, -1, 1, -1]</td>\n",
       "      <td>[-2, -1, 0, -1, 0]</td>\n",
       "      <td>[1, 1, 1, 1, 2, 2, 2, -3, -4, -4, -6, 7]</td>\n",
       "      <td>1</td>\n",
       "      <td>12</td>\n",
       "      <td>7</td>\n",
       "    </tr>\n",
       "    <tr>\n",
       "      <th>4</th>\n",
       "      <td>[1, 0, 1, 0, -1]</td>\n",
       "      <td>[-2, -1, -2, -1, 0]</td>\n",
       "      <td>[1, 1, 1, -2, -2, -5, -5, 6, 6, 7, -8]</td>\n",
       "      <td>1</td>\n",
       "      <td>11</td>\n",
       "      <td>8</td>\n",
       "    </tr>\n",
       "    <tr>\n",
       "      <th>...</th>\n",
       "      <td>...</td>\n",
       "      <td>...</td>\n",
       "      <td>...</td>\n",
       "      <td>...</td>\n",
       "      <td>...</td>\n",
       "      <td>...</td>\n",
       "    </tr>\n",
       "    <tr>\n",
       "      <th>390069</th>\n",
       "      <td>[-3, -15, -6]</td>\n",
       "      <td>[-3, 8, 9]</td>\n",
       "      <td>[8, -9, -9, 11, 25, -29, -29, 32]</td>\n",
       "      <td>36</td>\n",
       "      <td>8</td>\n",
       "      <td>32</td>\n",
       "    </tr>\n",
       "    <tr>\n",
       "      <th>390070</th>\n",
       "      <td>[-10, -5, -15]</td>\n",
       "      <td>[-10, -12, 12]</td>\n",
       "      <td>[5, 5, 5, -17, -27, -27, 28, 28]</td>\n",
       "      <td>100</td>\n",
       "      <td>8</td>\n",
       "      <td>28</td>\n",
       "    </tr>\n",
       "    <tr>\n",
       "      <th>390071</th>\n",
       "      <td>[15, -1, 15]</td>\n",
       "      <td>[-14, -13, -14]</td>\n",
       "      <td>[14, -15, -16, 17, -30, 31, 31, -32]</td>\n",
       "      <td>1</td>\n",
       "      <td>8</td>\n",
       "      <td>32</td>\n",
       "    </tr>\n",
       "    <tr>\n",
       "      <th>390072</th>\n",
       "      <td>[-15, -9, -1]</td>\n",
       "      <td>[-13, -14, -12]</td>\n",
       "      <td>[11, -13, -15, 19, 23, -26, -30, 31]</td>\n",
       "      <td>18</td>\n",
       "      <td>8</td>\n",
       "      <td>31</td>\n",
       "    </tr>\n",
       "    <tr>\n",
       "      <th>390073</th>\n",
       "      <td>[10, 15, 5]</td>\n",
       "      <td>[-11, -14, 7]</td>\n",
       "      <td>[16, -17, -17, 19, 20, -22, -22, 23]</td>\n",
       "      <td>2000</td>\n",
       "      <td>8</td>\n",
       "      <td>23</td>\n",
       "    </tr>\n",
       "  </tbody>\n",
       "</table>\n",
       "<p>390074 rows × 6 columns</p>\n",
       "</div>"
      ],
      "text/plain": [
       "                         l                    k  \\\n",
       "0       [-1, 0, -1, 0, -1]   [-1, 0, -1, 1, -1]   \n",
       "1                  [-1, 1]          [-1, 0, -1]   \n",
       "2        [1, -1, 0, 1, -1]   [-2, 0, -1, -2, 0]   \n",
       "3       [-1, 1, -1, 1, -1]   [-2, -1, 0, -1, 0]   \n",
       "4         [1, 0, 1, 0, -1]  [-2, -1, -2, -1, 0]   \n",
       "...                    ...                  ...   \n",
       "390069       [-3, -15, -6]           [-3, 8, 9]   \n",
       "390070      [-10, -5, -15]       [-10, -12, 12]   \n",
       "390071        [15, -1, 15]      [-14, -13, -14]   \n",
       "390072       [-15, -9, -1]      [-13, -14, -12]   \n",
       "390073         [10, 15, 5]        [-11, -14, 7]   \n",
       "\n",
       "                                          solution   gcd   n  smax  \n",
       "0           [1, 4, 4, 4, -5, -5, -5, -5, -5, 6, 6]     1  11     6  \n",
       "1                         [1, 2, 2, -3, -3, -3, 4]     1   7     4  \n",
       "2       [1, 1, -2, -2, -3, -3, 5, 5, 5, 5, -6, -6]     2  12     6  \n",
       "3         [1, 1, 1, 1, 2, 2, 2, -3, -4, -4, -6, 7]     1  12     7  \n",
       "4           [1, 1, 1, -2, -2, -5, -5, 6, 6, 7, -8]     1  11     8  \n",
       "...                                            ...   ...  ..   ...  \n",
       "390069           [8, -9, -9, 11, 25, -29, -29, 32]    36   8    32  \n",
       "390070            [5, 5, 5, -17, -27, -27, 28, 28]   100   8    28  \n",
       "390071        [14, -15, -16, 17, -30, 31, 31, -32]     1   8    32  \n",
       "390072        [11, -13, -15, 19, 23, -26, -30, 31]    18   8    31  \n",
       "390073        [16, -17, -17, 19, 20, -22, -22, 23]  2000   8    23  \n",
       "\n",
       "[390074 rows x 6 columns]"
      ]
     },
     "execution_count": 4,
     "metadata": {},
     "output_type": "execute_result"
    }
   ],
   "source": [
    "df"
   ]
  },
  {
   "cell_type": "code",
   "execution_count": 12,
   "metadata": {},
   "outputs": [],
   "source": [
    "#Adicione dos columnas nuevas: 'sum_s' (sum_s³) con el resultado de la suma (al cubo) de todos\n",
    "#los números de la lista de enteros de la correspondiente entrada en la columna 'solution´\n",
    "\n",
    "df[\"sum_s\"] = df.solution.apply(lambda i : sum(i))"
   ]
  },
  {
   "cell_type": "code",
   "execution_count": 14,
   "metadata": {},
   "outputs": [],
   "source": [
    "df[\"sum_s³\"] = df.sum_s.apply(lambda i : i**3)"
   ]
  },
  {
   "cell_type": "code",
   "execution_count": 15,
   "metadata": {},
   "outputs": [
    {
     "data": {
      "text/html": [
       "<div>\n",
       "<style scoped>\n",
       "    .dataframe tbody tr th:only-of-type {\n",
       "        vertical-align: middle;\n",
       "    }\n",
       "\n",
       "    .dataframe tbody tr th {\n",
       "        vertical-align: top;\n",
       "    }\n",
       "\n",
       "    .dataframe thead th {\n",
       "        text-align: right;\n",
       "    }\n",
       "</style>\n",
       "<table border=\"1\" class=\"dataframe\">\n",
       "  <thead>\n",
       "    <tr style=\"text-align: right;\">\n",
       "      <th></th>\n",
       "      <th>l</th>\n",
       "      <th>k</th>\n",
       "      <th>solution</th>\n",
       "      <th>gcd</th>\n",
       "      <th>n</th>\n",
       "      <th>smax</th>\n",
       "      <th>sum_s</th>\n",
       "      <th>sum_s³</th>\n",
       "    </tr>\n",
       "  </thead>\n",
       "  <tbody>\n",
       "    <tr>\n",
       "      <th>0</th>\n",
       "      <td>[-1, 0, -1, 0, -1]</td>\n",
       "      <td>[-1, 0, -1, 1, -1]</td>\n",
       "      <td>[1, 4, 4, 4, -5, -5, -5, -5, -5, 6, 6]</td>\n",
       "      <td>1</td>\n",
       "      <td>11</td>\n",
       "      <td>6</td>\n",
       "      <td>0</td>\n",
       "      <td>0</td>\n",
       "    </tr>\n",
       "    <tr>\n",
       "      <th>1</th>\n",
       "      <td>[-1, 1]</td>\n",
       "      <td>[-1, 0, -1]</td>\n",
       "      <td>[1, 2, 2, -3, -3, -3, 4]</td>\n",
       "      <td>1</td>\n",
       "      <td>7</td>\n",
       "      <td>4</td>\n",
       "      <td>0</td>\n",
       "      <td>0</td>\n",
       "    </tr>\n",
       "    <tr>\n",
       "      <th>2</th>\n",
       "      <td>[1, -1, 0, 1, -1]</td>\n",
       "      <td>[-2, 0, -1, -2, 0]</td>\n",
       "      <td>[1, 1, -2, -2, -3, -3, 5, 5, 5, 5, -6, -6]</td>\n",
       "      <td>2</td>\n",
       "      <td>12</td>\n",
       "      <td>6</td>\n",
       "      <td>0</td>\n",
       "      <td>0</td>\n",
       "    </tr>\n",
       "    <tr>\n",
       "      <th>3</th>\n",
       "      <td>[-1, 1, -1, 1, -1]</td>\n",
       "      <td>[-2, -1, 0, -1, 0]</td>\n",
       "      <td>[1, 1, 1, 1, 2, 2, 2, -3, -4, -4, -6, 7]</td>\n",
       "      <td>1</td>\n",
       "      <td>12</td>\n",
       "      <td>7</td>\n",
       "      <td>0</td>\n",
       "      <td>0</td>\n",
       "    </tr>\n",
       "    <tr>\n",
       "      <th>4</th>\n",
       "      <td>[1, 0, 1, 0, -1]</td>\n",
       "      <td>[-2, -1, -2, -1, 0]</td>\n",
       "      <td>[1, 1, 1, -2, -2, -5, -5, 6, 6, 7, -8]</td>\n",
       "      <td>1</td>\n",
       "      <td>11</td>\n",
       "      <td>8</td>\n",
       "      <td>0</td>\n",
       "      <td>0</td>\n",
       "    </tr>\n",
       "    <tr>\n",
       "      <th>...</th>\n",
       "      <td>...</td>\n",
       "      <td>...</td>\n",
       "      <td>...</td>\n",
       "      <td>...</td>\n",
       "      <td>...</td>\n",
       "      <td>...</td>\n",
       "      <td>...</td>\n",
       "      <td>...</td>\n",
       "    </tr>\n",
       "    <tr>\n",
       "      <th>390069</th>\n",
       "      <td>[-3, -15, -6]</td>\n",
       "      <td>[-3, 8, 9]</td>\n",
       "      <td>[8, -9, -9, 11, 25, -29, -29, 32]</td>\n",
       "      <td>36</td>\n",
       "      <td>8</td>\n",
       "      <td>32</td>\n",
       "      <td>0</td>\n",
       "      <td>0</td>\n",
       "    </tr>\n",
       "    <tr>\n",
       "      <th>390070</th>\n",
       "      <td>[-10, -5, -15]</td>\n",
       "      <td>[-10, -12, 12]</td>\n",
       "      <td>[5, 5, 5, -17, -27, -27, 28, 28]</td>\n",
       "      <td>100</td>\n",
       "      <td>8</td>\n",
       "      <td>28</td>\n",
       "      <td>0</td>\n",
       "      <td>0</td>\n",
       "    </tr>\n",
       "    <tr>\n",
       "      <th>390071</th>\n",
       "      <td>[15, -1, 15]</td>\n",
       "      <td>[-14, -13, -14]</td>\n",
       "      <td>[14, -15, -16, 17, -30, 31, 31, -32]</td>\n",
       "      <td>1</td>\n",
       "      <td>8</td>\n",
       "      <td>32</td>\n",
       "      <td>0</td>\n",
       "      <td>0</td>\n",
       "    </tr>\n",
       "    <tr>\n",
       "      <th>390072</th>\n",
       "      <td>[-15, -9, -1]</td>\n",
       "      <td>[-13, -14, -12]</td>\n",
       "      <td>[11, -13, -15, 19, 23, -26, -30, 31]</td>\n",
       "      <td>18</td>\n",
       "      <td>8</td>\n",
       "      <td>31</td>\n",
       "      <td>0</td>\n",
       "      <td>0</td>\n",
       "    </tr>\n",
       "    <tr>\n",
       "      <th>390073</th>\n",
       "      <td>[10, 15, 5]</td>\n",
       "      <td>[-11, -14, 7]</td>\n",
       "      <td>[16, -17, -17, 19, 20, -22, -22, 23]</td>\n",
       "      <td>2000</td>\n",
       "      <td>8</td>\n",
       "      <td>23</td>\n",
       "      <td>0</td>\n",
       "      <td>0</td>\n",
       "    </tr>\n",
       "  </tbody>\n",
       "</table>\n",
       "<p>390074 rows × 8 columns</p>\n",
       "</div>"
      ],
      "text/plain": [
       "                         l                    k  \\\n",
       "0       [-1, 0, -1, 0, -1]   [-1, 0, -1, 1, -1]   \n",
       "1                  [-1, 1]          [-1, 0, -1]   \n",
       "2        [1, -1, 0, 1, -1]   [-2, 0, -1, -2, 0]   \n",
       "3       [-1, 1, -1, 1, -1]   [-2, -1, 0, -1, 0]   \n",
       "4         [1, 0, 1, 0, -1]  [-2, -1, -2, -1, 0]   \n",
       "...                    ...                  ...   \n",
       "390069       [-3, -15, -6]           [-3, 8, 9]   \n",
       "390070      [-10, -5, -15]       [-10, -12, 12]   \n",
       "390071        [15, -1, 15]      [-14, -13, -14]   \n",
       "390072       [-15, -9, -1]      [-13, -14, -12]   \n",
       "390073         [10, 15, 5]        [-11, -14, 7]   \n",
       "\n",
       "                                          solution   gcd   n  smax  sum_s  \\\n",
       "0           [1, 4, 4, 4, -5, -5, -5, -5, -5, 6, 6]     1  11     6      0   \n",
       "1                         [1, 2, 2, -3, -3, -3, 4]     1   7     4      0   \n",
       "2       [1, 1, -2, -2, -3, -3, 5, 5, 5, 5, -6, -6]     2  12     6      0   \n",
       "3         [1, 1, 1, 1, 2, 2, 2, -3, -4, -4, -6, 7]     1  12     7      0   \n",
       "4           [1, 1, 1, -2, -2, -5, -5, 6, 6, 7, -8]     1  11     8      0   \n",
       "...                                            ...   ...  ..   ...    ...   \n",
       "390069           [8, -9, -9, 11, 25, -29, -29, 32]    36   8    32      0   \n",
       "390070            [5, 5, 5, -17, -27, -27, 28, 28]   100   8    28      0   \n",
       "390071        [14, -15, -16, 17, -30, 31, 31, -32]     1   8    32      0   \n",
       "390072        [11, -13, -15, 19, 23, -26, -30, 31]    18   8    31      0   \n",
       "390073        [16, -17, -17, 19, 20, -22, -22, 23]  2000   8    23      0   \n",
       "\n",
       "        sum_s³  \n",
       "0            0  \n",
       "1            0  \n",
       "2            0  \n",
       "3            0  \n",
       "4            0  \n",
       "...        ...  \n",
       "390069       0  \n",
       "390070       0  \n",
       "390071       0  \n",
       "390072       0  \n",
       "390073       0  \n",
       "\n",
       "[390074 rows x 8 columns]"
      ]
     },
     "execution_count": 15,
     "metadata": {},
     "output_type": "execute_result"
    }
   ],
   "source": [
    "df"
   ]
  },
  {
   "cell_type": "code",
   "execution_count": 19,
   "metadata": {},
   "outputs": [
    {
     "name": "stdout",
     "output_type": "stream",
     "text": [
      "195236\n"
     ]
    }
   ],
   "source": [
    "#3) Usando como semilla el número de su cédula, genere un número entero de forma aleatoria entre 0 y 390073.\n",
    "#Seleccione el la fila correspondiente a ese número entero y construya un polinomio con esos coeficientes.\n",
    "\n",
    "np.random.seed(1067912559)\n",
    "n = np.random.randint(0, 390073)\n",
    "print(n)"
   ]
  },
  {
   "cell_type": "code",
   "execution_count": 77,
   "metadata": {},
   "outputs": [
    {
     "name": "stdout",
     "output_type": "stream",
     "text": [
      "El polinomio construido es:\n",
      "    9     8     7      6      5      4      3      2\n",
      "4 x + 5 x + 6 x + 14 x - 17 x - 18 x - 18 x - 20 x + 21 x + 23\n"
     ]
    }
   ],
   "source": [
    "coef = df.solution[195236]\n",
    "#print(coef)\n",
    "poly = np.poly1d(coef)#polinomio construido\n",
    "print(\"El polinomio construido es:\\n {}\".format(poly))"
   ]
  },
  {
   "cell_type": "code",
   "execution_count": 172,
   "metadata": {},
   "outputs": [
    {
     "name": "stdout",
     "output_type": "stream",
     "text": [
      "Las racices reales del polinomio son: [-1.82662044  1.08117447  1.        ]\n",
      "La derivada del polinomio es: \n",
      "     8      7      6      5      4      3      2\n",
      "36 x + 40 x + 42 x + 84 x - 85 x - 72 x - 54 x - 40 x + 21\n"
     ]
    },
    {
     "data": {
      "image/png": "[encoded data removed]",
      "text/plain": [
       "<Figure size 800x480 with 1 Axes>"
      ]
     },
     "metadata": {
      "needs_background": "light"
     },
     "output_type": "display_data"
    }
   ],
   "source": [
    "#Encuentre las raices reales de ese polinomio y realice el correspondiente gráfico incluyendo: \n",
    "#el polinomio generado, sus raices (como puntos en gráfico) y la derivada del polinomio.\n",
    "\n",
    "#Roots\n",
    "roots = np.roots(poly)\n",
    "rootsreal = raices[raices.imag == 0].real\n",
    "\n",
    "\n",
    "print(\"Las racices reales del polinomio son: {}\".format(rootsreal))\n",
    "print(\"La derivada del polinomio es: \\n {}\".format(derivada))\n",
    "\n",
    "x = np.linspace(-2, 2 ,200)\n",
    "#Plot\n",
    "plt.figure(figsize=(10, 6), dpi=80)\n",
    "plt.scatter( rootsreal, poly(rootsreal) , color =\"red\", label = \"Raices del polinomio\")\n",
    "plt.plot(x, poly(x), color = \"green\", label = \"Polinomio\")\n",
    "plt.plot(x, derivada(x), color = \"blue\", label = \"Derivada del polinomio\")\n",
    "plt.ylim(-100, 100)\n",
    "plt.xlabel(\"x\")\n",
    "plt.ylabel(\"y\")\n",
    "plt.title(\"Gráfica del polinimio de grado 9, sus raíces y derivada\")\n",
    "plt.legend()\n",
    "plt.grid();"
   ]
  },
  {
   "cell_type": "markdown",
   "metadata": {},
   "source": [
    "# Punto 2"
   ]
  },
  {
   "cell_type": "code",
   "execution_count": 101,
   "metadata": {},
   "outputs": [
    {
     "name": "stdout",
     "output_type": "stream",
     "text": [
      "3\n"
     ]
    }
   ],
   "source": [
    "#Usando como semilla el número de su cédula, genere de forma aletoria un número entero entre 1 y 5\n",
    "np.random.seed(1067912559)\n",
    "a = np.random.randint(1, 5)\n",
    "print(a)"
   ]
  },
  {
   "cell_type": "code",
   "execution_count": 143,
   "metadata": {
    "scrolled": true
   },
   "outputs": [
    {
     "name": "stdout",
     "output_type": "stream",
     "text": [
      "[0.03871798]\n"
     ]
    }
   ],
   "source": [
    "#Genere un número aleatorio entre 0 y 1 y asignelo al valor de  𝑝 \n",
    "p = np.random.random(1)\n",
    "print(p)"
   ]
  },
  {
   "cell_type": "code",
   "execution_count": 168,
   "metadata": {},
   "outputs": [
    {
     "name": "stdout",
     "output_type": "stream",
     "text": [
      "Las soluciones en el intervalo -10 a 10 son: [-6.04686937 -3.26848189  3.26848189  6.04686937]\n"
     ]
    },
    {
     "data": {
      "image/png": "[encoded data removed]",
      "text/plain": [
       "<Figure size 800x480 with 1 Axes>"
      ]
     },
     "metadata": {
      "needs_background": "light"
     },
     "output_type": "display_data"
    }
   ],
   "source": [
    "\n",
    "f =  lambda x : np.sin(x)/x + p\n",
    "fprime = lambda x : (x* np.cos(x) - np.sin(x))/ x**2\n",
    "\n",
    "x2 = np.linspace(-10, 10, 200)\n",
    "\n",
    "#Para encontras la solución \n",
    "r = sp.newton(f, [-5,-2,2,5], fprime)\n",
    "print(\"Las soluciones en el intervalo -10 a 10 son: {}\".format(r))\n",
    "\n",
    "#Plot\n",
    "plt.figure(figsize=(10, 6), dpi=80)\n",
    "plt.plot(x2, f(x2), label = \"Función trascendental\")\n",
    "plt.scatter(r,f(r) ,color = \"red\", label = \"Raices\")\n",
    "plt.legend()\n",
    "plt.xlabel(\"x\")\n",
    "plt.ylabel(\"y\")\n",
    "plt.title(\"Función trascendental y sus soluciones\")\n",
    "plt.ylim(-0.5, 1.5)\n",
    "plt.grid()\n"
   ]
  }
 ],
 "metadata": {
  "colab": {
   "name": "Examen_2020_1_01_enunciado.ipynb",
   "provenance": []
  },
  "kernelspec": {
   "display_name": "Python 3",
   "language": "python",
   "name": "python3"
  },
  "language_info": {
   "codemirror_mode": {
    "name": "ipython",
    "version": 3
   },
   "file_extension": ".py",
   "mimetype": "text/x-python",
   "name": "python",
   "nbconvert_exporter": "python",
   "pygments_lexer": "ipython3",
   "version": "3.8.5"
  },
  "toc": {
   "colors": {
    "hover_highlight": "#DAA520",
    "running_highlight": "#FF0000",
    "selected_highlight": "#FFD700"
   },
   "moveMenuLeft": true,
   "nav_menu": {
    "height": "30px",
    "width": "252px"
   },
   "navigate_menu": true,
   "number_sections": true,
   "sideBar": true,
   "threshold": 4,
   "toc_cell": false,
   "toc_section_display": "block",
   "toc_window_display": false
  }
 },
 "nbformat": 4,
 "nbformat_minor": 1
}
