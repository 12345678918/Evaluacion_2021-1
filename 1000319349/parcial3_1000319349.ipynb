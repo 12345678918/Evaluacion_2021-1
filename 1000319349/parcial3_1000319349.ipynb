{
  "nbformat": 4,
  "nbformat_minor": 0,
  "metadata": {
    "colab": {
      "name": "parcial3_1000319349.ipynb",
      "provenance": []
    },
    "kernelspec": {
      "name": "python3",
      "display_name": "Python 3"
    },
    "language_info": {
      "name": "python"
    }
  },
  "cells": [
    {
      "cell_type": "markdown",
      "metadata": {
        "id": "tNo0VKI5G4zW"
      },
      "source": [
        ""
      ]
    },
    {
      "cell_type": "markdown",
      "metadata": {
        "id": "UJ2PJQ3XGzDB"
      },
      "source": [
        "**Valentina Duarte Cardona**\n",
        "**CC:1000319349**\n",
        "\n",
        "# Casas-Ibarra\n",
        "\n",
        "Let  A   3×3  a symmetric non-diagonal matrix with the following set of eigenvalues and eigenvectors:"
      ]
    },
    {
      "cell_type": "markdown",
      "metadata": {
        "id": "8bOy4YMWHY5G"
      },
      "source": [
        "### Eigenvalues\n",
        "The normal ordering of the absolute value of the eigenvalues is $m_1<m_2<m_3$. Each eigenvalue is expressed in units of eV, which is just an energy unit.\n",
        "### Eigenvectors\n",
        "The eigenvectors in the normal ordering are defined by\n",
        "$$\n",
        "\\boldsymbol{U}^T \\boldsymbol{A} \\boldsymbol{U}=\n",
        "\\begin{pmatrix}\n",
        "m_1& 0 & 0\\\\\n",
        "0 & m_2& 0\\\\\n",
        "0 & 0 & m_3\\\\\n",
        "\\end{pmatrix}.\n",
        "$$\n",
        "The orthogonal matrix can be parameterized in terms of three mixing angles, $\\theta_{23}$ $\\theta_{13}$, $\\theta_{12}$, such that\n",
        "$$\n",
        "\\boldsymbol{U}=\\left(\\begin{array}{ccc}\n",
        "1 & 0 & 0 \\\\\n",
        "0 & c_{23} & s_{23} \\\\\n",
        "0 & -s_{23} & c_{23}\n",
        "\\end{array}\\right) \\cdot\\left(\\begin{array}{ccc}\n",
        "c_{13} & 0 & s_{13}  \\\\\n",
        "0 & 1 & 0 \\\\\n",
        "-s_{13}  & 0 & c_{13}\n",
        "\\end{array}\\right) \\cdot\\left(\\begin{array}{ccc}\n",
        "c_{12} & s_{12} & 0 \\\\\n",
        "-s_{12} & c_{12} & 0 \\\\\n",
        "0 & 0 & 1\n",
        "\\end{array}\\right),\n",
        "$$\n",
        "where $c_{i j} \\equiv \\cos \\theta_{i j}$ and $s_{i j} \\equiv \\sin \\theta_{i j}$. Thus, we can write $\\boldsymbol{U}$ as\n",
        "$$\n",
        "\\boldsymbol{U}=\\left(\\begin{array}{ccc}c_{12} c_{13} & s_{12} c_{13} & s_{13}  \\\\ -s_{12} c_{23}-c_{12} s_{13} s_{23}& c_{12} c_{23}-s_{12} s_{13} s_{23}  & c_{13} s_{23} \\\\ s_{12} s_{23}-c_{12} s_{13} c_{23} & -c_{12} s_{23}-s_{12} s_{13} c_{23}  & c_{13} c_{23}\\end{array}\\right)\n",
        "$$\n",
        "so that\n",
        "$$\n",
        "\\boldsymbol{U}_1=\\begin{pmatrix}U_{e1}\\\\ U_{\\mu 1}\\\\ U_{\\tau 1}\\end{pmatrix}=\\begin{pmatrix}\n",
        "c_{12} c_{13} \\\\\n",
        "-s_{12} c_{23}-c_{12} s_{13} s_{23}  \\\\\n",
        "s_{12} s_{23}-c_{12} s_{13} c_{23} \n",
        "\\end{pmatrix},\\qquad \n",
        "\\boldsymbol{U}_2=\\begin{pmatrix}U_{e2}\\\\ U_{\\mu 2}\\\\ U_{\\tau 2}\\end{pmatrix}=\\begin{pmatrix}\n",
        "s_{12} c_{13} \\\\\n",
        "c_{12} c_{23}-s_{12} s_{13} s_{23}  \\\\\n",
        "-c_{12} s_{23}-s_{12} s_{13} c_{23} \n",
        "\\end{pmatrix},\\qquad\n",
        "\\boldsymbol{U}_3=\\begin{pmatrix}U_{e3}\\\\ U_{\\mu 3}\\\\ U_{\\tau 3}\\end{pmatrix}=\\begin{pmatrix}\n",
        "s_{13}  \\\\\n",
        "c_{13} s_{23} \\\\\n",
        "c_{13} c_{23}\n",
        "\\end{pmatrix}\n",
        "$$\n",
        "\n",
        "### Data\n",
        "Use the _central values_  of the following table but ignoring $\\delta_{CP}$ (In the previous equations was fixed to $\\delta_{CP}=0$). __Hint__: take care of the denominator in the first colum.\n",
        "\n",
        "![IMAGE](https://github.com/restrepo/ComputationalMethods/raw/master/material/figures/nu.png)\n",
        "\n",
        "where $\\Delta m^2_{ij}=m^2_i-m^2_j$ is the squared mass difference between eigenvalues $i$ and $j$; in units of $\\text{eV}^2$."
      ]
    },
    {
      "cell_type": "markdown",
      "metadata": {
        "id": "g8F4VKOeHi51"
      },
      "source": [
        "### Casas-Ibarra parameterization\n",
        "We can assumme without lost of generality that $\\boldsymbol{A}$ can be generated from a matrix $\\boldsymbol{Y}$ such that\n",
        "$$\n",
        "\\boldsymbol{A}=\\boldsymbol{Y}^{\\operatorname{T}}\\boldsymbol{Y}\n",
        "$$\n",
        "\n",
        "The matrix $\\boldsymbol{Y}$ can be parameterized in terms of an arbitray orthogonal $3\\times 3$ matrix, $\\boldsymbol{R}$, as\n",
        "$$\n",
        "\\boldsymbol{Y}=\\boldsymbol{R} \\boldsymbol{D}_{\\sqrt{m}} \\boldsymbol{U}^{\\operatorname{T}}\n",
        "$$\n",
        "\n",
        "\n",
        "* $R$ is an orthogonal $3\\times 3$ matrix, with three rotation angles $\\alpha_{ij}$ between $(0,2\\pi)$\n",
        "$$\n",
        "\\boldsymbol{R}=\\left(\\begin{array}{ccc}c^\\alpha_{12} c^\\alpha_{13} & s^\\alpha_{12} c^\\alpha_{13} & s^\\alpha_{13}  \\\\ -s^\\alpha_{12} c^\\alpha_{23}-c^\\alpha_{12} s^\\alpha_{13} s^\\alpha_{23}& c^\\alpha_{12} c^\\alpha_{23}-s^\\alpha_{12} s^\\alpha_{13} s^\\alpha_{23}  & c^\\alpha_{13} s^\\alpha_{23} \\\\ s^\\alpha_{12} s^\\alpha_{23}-c^\\alpha_{12} s^\\alpha_{13} c^\\alpha_{23} & -c^\\alpha_{12} s^\\alpha_{23}-s^\\alpha_{12} s^\\alpha_{13} c^\\alpha_{23}  & c^\\alpha_{13} c^\\alpha_{23}\\end{array}\\right)\n",
        "$$\n",
        "where $c^\\alpha_{i j} \\equiv \\cos \\alpha_{i j}$ and $s^\\alpha_{i j} \\equiv \\sin \\alpha_{i j}$.\n",
        "\n",
        "* $$\n",
        " \\boldsymbol{D}_{\\sqrt{m}}=\\operatorname{diag}\\left(\\sqrt{m_1},\\sqrt{m_2},\\sqrt{m_3}\\right)\n",
        "$$"
      ]
    },
    {
      "cell_type": "markdown",
      "metadata": {
        "id": "HDJNbyukHq4o"
      },
      "source": [
        "### Problem\n",
        "1. Choose a random value for $m_1$ between $10^{-9}\\ \\text{eV}$ and $10^{-4}\\ \\text{eV}$. Note that because of the wide range, the random variation  must be in the exponents. Obtain the corresponding $m_2$ and $m_3$ with the proper normal ordering.\n",
        "1. Choose random values for $\\alpha_{ij}$  between $(0,2\\pi)$\n",
        "1. Obtain $\\boldsymbol{Y}$\n",
        "1. Check that the generated $\\boldsymbol{A}$ has the proper eigenvalues and eigenvectors\n",
        "1. Check that the eigenvalues of $\\boldsymbol{Y}$ correspond to the square root of the eigenvalues of $\\boldsymbol{A}$ and explain why."
      ]
    },
    {
      "cell_type": "code",
      "metadata": {
        "id": "u9iUNd5Z94Uf"
      },
      "source": [
        "#importando librerias\n",
        "import numpy as np\n",
        "import random as rd"
      ],
      "execution_count": 2,
      "outputs": []
    },
    {
      "cell_type": "markdown",
      "metadata": {
        "id": "2BCJMz2-H0XT"
      },
      "source": [
        "1. Choose a random value for $m_1$ between $10^{-9}\\ \\text{eV}$ and $10^{-4}\\ \\text{eV}$. Note that because of the wide range, the random variation  must be in the exponents. Obtain the corresponding $m_2$ and $m_3$ with the proper normal ordering."
      ]
    },
    {
      "cell_type": "code",
      "metadata": {
        "colab": {
          "base_uri": "https://localhost:8080/"
        },
        "id": "oF3Gf0EN-eqG",
        "outputId": "668c6fde-e7fc-441f-c997-f44899147644"
      },
      "source": [
        "# [eV] \n",
        "m1 = (10 ** rd.randint(-9, -4)) #Se escoge m1 aleatoriamente\n",
        "m2 = np.sqrt(7.39 * (10**(-5)) + m1 ** 2) #Se escoge m2 a partir de la información dada en la tabla\n",
        "m3 = np.sqrt(2.449 * (10**(-3)) + m2 ** 2) #Se escoge m3 a partir de la información dada en la tabla\n",
        "\n",
        "print(\"m1:{}, m2:{}, m3:{}\".format(m1,m2,m3))"
      ],
      "execution_count": 3,
      "outputs": [
        {
          "output_type": "stream",
          "name": "stdout",
          "text": [
            "m1:1e-08, m2:0.008596510920140799, m3:0.050228477978136066\n"
          ]
        }
      ]
    },
    {
      "cell_type": "markdown",
      "metadata": {
        "id": "K8SX2117IgLu"
      },
      "source": [
        "2. Choose random values for $\\alpha_{ij}$  between $(0,2\\pi)$"
      ]
    },
    {
      "cell_type": "code",
      "metadata": {
        "colab": {
          "base_uri": "https://localhost:8080/"
        },
        "id": "Ebrb6p6_Feam",
        "outputId": "e47771d8-23a0-4983-f086-1821d66a50dd"
      },
      "source": [
        "alpha12 = rd.uniform(0, 2 * np.pi) #Se escoge un alpha12 aleatorio entre 0 y 2pi\n",
        "alpha13 = rd.uniform(0, 2 * np.pi) #Se escoge un alpha13 aleatorio entre 0 y 2pi\n",
        "alpha23 = rd.uniform(0, 2 * np.pi) #Se escoge un alpha23 aleatorio entre 0 y 2pi\n",
        "\n",
        "print(\"alpha12:{}, alpha13:{}, alpha23:{}\".format(alpha12, alpha13, alpha23))"
      ],
      "execution_count": 4,
      "outputs": [
        {
          "output_type": "stream",
          "name": "stdout",
          "text": [
            "alpha12:3.4724482826650243, alpha13:3.0320117318052047, alpha23:3.027384542691986\n"
          ]
        }
      ]
    },
    {
      "cell_type": "markdown",
      "metadata": {
        "id": "oEH8K3idJN1c"
      },
      "source": [
        "3. Obtain $\\boldsymbol{Y}$"
      ]
    },
    {
      "cell_type": "code",
      "metadata": {
        "colab": {
          "base_uri": "https://localhost:8080/"
        },
        "id": "D_JO83TTFjLo",
        "outputId": "621f8f0d-f4df-49c8-ee20-7bf3b167ede1"
      },
      "source": [
        "#thetaij en radianes\n",
        "theta12 = np.deg2rad(33.82) #Se genera theta12 a partir de la información dada \n",
        "theta13 = np.deg2rad(8.61)  #Se genera theta13 a partir de la información dada\n",
        "theta23 = np.deg2rad(48.3)  #Se genera theta23 a partir de la información dada\n",
        "\n",
        "#Valores correspondientes a la matriz U \n",
        "cos12 = np.cos(theta12) \n",
        "cos13 = np.cos(theta13)\n",
        "cos23 = np.cos(theta23)\n",
        "\n",
        "sin12 = np.sin(theta12)\n",
        "sin13 = np.sin(theta13)\n",
        "sin23 = np.sin(theta23)\n",
        "\n",
        "#Se generan la matrices que daran origen a la matriz U\n",
        "U1 = np.matrix([[1, 0,  0],\n",
        "                [0,cos23,sin23],\n",
        "                [0,-sin23,cos23]])\n",
        "\n",
        "U2 = np.matrix([[cos13, 0,  sin13],\n",
        "                [0,    1,   0],\n",
        "                [-sin13, 0, cos13]])\n",
        "\n",
        "U3 = np.matrix([[cos12, sin12,  0],\n",
        "                [-sin12, cos12,  0],\n",
        "                [0,     0,  1]])\n",
        "\n",
        "#Se genera la matriz U\n",
        "U = U1 * U2 * U3 \n",
        "#La transpuesta de la matriz U\n",
        "Ut =np.transpose(U) \n",
        "\n",
        "print(\"U:{}\".format(U))\n",
        "print(\"Ut:{}\".format(Ut))\n"
      ],
      "execution_count": 7,
      "outputs": [
        {
          "output_type": "stream",
          "name": "stdout",
          "text": [
            "U:[[ 0.82142745  0.55031308  0.14970791]\n",
            " [-0.46312144  0.49045305  0.73822377]\n",
            " [ 0.33282949 -0.67573021  0.65773339]]\n",
            "Ut:[[ 0.82142745 -0.46312144  0.33282949]\n",
            " [ 0.55031308  0.49045305 -0.67573021]\n",
            " [ 0.14970791  0.73822377  0.65773339]]\n"
          ]
        }
      ]
    },
    {
      "cell_type": "code",
      "metadata": {
        "colab": {
          "base_uri": "https://localhost:8080/"
        },
        "id": "6mOXFcpNFqZF",
        "outputId": "0f27574b-c6f5-4404-f379-c09c6cabfec6"
      },
      "source": [
        "#Se genera la matriz diagonal con los autovalores de A\n",
        "D = np.diag([np.sqrt(m1),np.sqrt(m2),np.sqrt(m3)]) \n",
        "\n",
        "#Se generan los valores correspondientes a la matriz R\n",
        "c12 = np.cos(alpha12)\n",
        "c13 = np.cos(alpha13)\n",
        "c23 = np.cos(alpha23)\n",
        "\n",
        "s12 = np.sin(alpha12)\n",
        "s13 = np.sin(alpha13)\n",
        "s23 = np.sin(alpha23)\n",
        "\n",
        "\n",
        "R11, R12, R13 = c12 * c13 , s12 * c13, s13\n",
        "R21, R22, R23= -s12 * c23 - c12 * s13 * s23, c12 * c23 - s12 * s13 * s23, c13 * s23\n",
        "R31, R32, R33 = s12 * s23 - c12 * s13 * c23, -c12 * s23 - s12 * s13 * c23, c13 * c23 \n",
        "\n",
        "#Matriz R ortogonal 3x3 con rotacion de ángulos alphaij\n",
        "R = np.array([[R11, R12, R13],\n",
        "             [R21, R22, R23],\n",
        "             [R31, R32, R33]])\n",
        "\n",
        "print(R)"
      ],
      "execution_count": 9,
      "outputs": [
        {
          "output_type": "stream",
          "name": "stdout",
          "text": [
            "[[ 0.94009206  0.32290391  0.10936175]\n",
            " [-0.31094913  0.94365199 -0.11327646]\n",
            " [-0.13977684  0.07248436  0.98752643]]\n"
          ]
        }
      ]
    },
    {
      "cell_type": "code",
      "metadata": {
        "colab": {
          "base_uri": "https://localhost:8080/"
        },
        "id": "AJ2f_UXMFxxk",
        "outputId": "2dfc347f-f541-4fbf-8c08-9fb310f2d3f0"
      },
      "source": [
        "#Se genera la matriz Y \n",
        "Y = R * D * Ut\n",
        "#La transpuesta de la matriz Y\n",
        "Yt = np.transpose(Y) \n",
        "\n",
        "print(\"Y:{}\".format(Y))\n",
        "print(\"Yt:{}\".format(Yt))"
      ],
      "execution_count": 13,
      "outputs": [
        {
          "output_type": "stream",
          "name": "stdout",
          "text": [
            "Y:[[ 7.72217420e-05 -4.35376790e-05  3.12890362e-05]\n",
            " [ 4.81485047e-02  4.29111754e-02 -5.91216176e-02]\n",
            " [ 3.31335897e-02  1.63384842e-01  1.45570584e-01]]\n",
            "Yt:[[ 7.72217420e-05  4.81485047e-02  3.31335897e-02]\n",
            " [-4.35376790e-05  4.29111754e-02  1.63384842e-01]\n",
            " [ 3.12890362e-05 -5.91216176e-02  1.45570584e-01]]\n"
          ]
        }
      ]
    },
    {
      "cell_type": "markdown",
      "metadata": {
        "id": "35XVruwkTy21"
      },
      "source": [
        "4. Check that the generated $\\boldsymbol{A}$ has the proper eigenvalues and eigenvectors"
      ]
    },
    {
      "cell_type": "code",
      "metadata": {
        "colab": {
          "base_uri": "https://localhost:8080/"
        },
        "id": "oHt5h7n8F3UB",
        "outputId": "de7f47fc-f092-46a8-9583-7a2ad529ee7a"
      },
      "source": [
        "#Matriz A dada por\n",
        "A = Yt * Y \n",
        "#Valores y vectores propios de la matriz A\n",
        "np.linalg.eig(A) "
      ],
      "execution_count": 14,
      "outputs": [
        {
          "output_type": "execute_result",
          "data": {
            "text/plain": [
              "(array([4.89832362e-02, 8.83773072e-09, 7.65501314e-03]),\n",
              " matrix([[-0.14970791, -0.82142745, -0.55031308],\n",
              "         [-0.73822377,  0.46312144, -0.49045305],\n",
              "         [-0.65773339, -0.33282949,  0.67573021]]))"
            ]
          },
          "metadata": {},
          "execution_count": 14
        }
      ]
    },
    {
      "cell_type": "code",
      "metadata": {
        "colab": {
          "base_uri": "https://localhost:8080/"
        },
        "id": "zG7EOozeF44A",
        "outputId": "9387378b-7c45-46aa-ed80-b99500c3da80"
      },
      "source": [
        "#Se generan los autovalores\n",
        "(Ut * A * U).round(5) "
      ],
      "execution_count": 16,
      "outputs": [
        {
          "output_type": "execute_result",
          "data": {
            "text/plain": [
              "array([[ 0.     ,  0.     , -0.     ],\n",
              "       [-0.     ,  0.00766,  0.     ],\n",
              "       [-0.     ,  0.     ,  0.04898]])"
            ]
          },
          "metadata": {},
          "execution_count": 16
        }
      ]
    },
    {
      "cell_type": "code",
      "metadata": {
        "colab": {
          "base_uri": "https://localhost:8080/"
        },
        "id": "GRcJSGdSF-sy",
        "outputId": "ce44387c-85d7-4669-990b-5fd5132de629"
      },
      "source": [
        "#Se generan los autovectores\n",
        "v1 = np.array([[cos12 * cos13],  #Autovector 1\n",
        "              [-sin12 * cos23 - cos12 * sin13 * sin23],\n",
        "              [sin12 * sin23 - cos12 * sin13 * cos23]])\n",
        "\n",
        "v2 = np.array([[sin12 * cos13],                         # Autovector 2\n",
        "                [cos12 * cos23 - sin12 * sin13 * sin23], \n",
        "                [-cos12 * sin23 - sin12 * sin13 * cos23]])\n",
        "\n",
        "v3 = np.array([[sin13],            # Autovector 3\n",
        "                [cos13 * sin23], \n",
        "                [cos13 * cos23]])\n",
        "\n",
        "#Estos coinciden con los autovectores de A\n",
        "print(\"V1:{}\".format(v1))\n",
        "print(\"V2:{}\".format(v2))\n",
        "print(\"V3:{}\".format(v3))"
      ],
      "execution_count": 19,
      "outputs": [
        {
          "output_type": "stream",
          "name": "stdout",
          "text": [
            "V1:[[ 0.82142745]\n",
            " [-0.46312144]\n",
            " [ 0.33282949]]\n",
            "V2:[[ 0.55031308]\n",
            " [ 0.49045305]\n",
            " [-0.67573021]]\n",
            "V3:[[0.14970791]\n",
            " [0.73822377]\n",
            " [0.65773339]]\n"
          ]
        }
      ]
    },
    {
      "cell_type": "code",
      "metadata": {
        "colab": {
          "base_uri": "https://localhost:8080/"
        },
        "id": "YPzeaC1zGJoh",
        "outputId": "bfa6db88-4be5-4ea6-8bc2-b75fcd282a6c"
      },
      "source": [
        "#Autovalores de Y al cuadrado \n",
        "(np.linalg.eigvals(Y) ** 2), np.linalg.eigvals(A)\n"
      ],
      "execution_count": 20,
      "outputs": [
        {
          "output_type": "execute_result",
          "data": {
            "text/plain": [
              "(array([1.31077419e-08+0.j        , 1.85544269e-03+0.01579159j,\n",
              "        1.85544269e-03-0.01579159j]),\n",
              " array([4.89832362e-02, 8.83773072e-09, 7.65501314e-03]))"
            ]
          },
          "metadata": {},
          "execution_count": 20
        }
      ]
    },
    {
      "cell_type": "code",
      "metadata": {
        "colab": {
          "base_uri": "https://localhost:8080/"
        },
        "id": "U5gxa6fmGNea",
        "outputId": "01181bd3-a345-446e-b0b5-11d0b60f657f"
      },
      "source": [
        "#Diferencia entre los dos valores propios(muy pequeña)\n",
        "(np.linalg.eigvals(Y) ** 2)[1] - np.linalg.eigvals(A)[1] \n"
      ],
      "execution_count": 21,
      "outputs": [
        {
          "output_type": "execute_result",
          "data": {
            "text/plain": [
              "(0.0018554338528025314+0.015791591046463143j)"
            ]
          },
          "metadata": {},
          "execution_count": 21
        }
      ]
    },
    {
      "cell_type": "code",
      "metadata": {
        "colab": {
          "base_uri": "https://localhost:8080/"
        },
        "id": "wHff7yU6GQjI",
        "outputId": "fee203a9-c4dd-4662-85fb-86bfba761f69"
      },
      "source": [
        "#Diferencia entre los dos valores propios(muy pequeña)\n",
        "(np.linalg.eigvals(Y) ** 2)[2] - np.linalg.eigvals(A)[2] \n"
      ],
      "execution_count": 22,
      "outputs": [
        {
          "output_type": "execute_result",
          "data": {
            "text/plain": [
              "(-0.005799570451162216-0.015791591046463143j)"
            ]
          },
          "metadata": {},
          "execution_count": 22
        }
      ]
    }
  ]
}