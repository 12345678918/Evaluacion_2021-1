{
 "cells": [
  {
   "cell_type": "markdown",
   "metadata": {},
   "source": [
    "**Parcial 2:**\n",
    "1000319349"
   ]
  },
  {
   "cell_type": "markdown",
   "metadata": {},
   "source": [
    "A) Los siguientes datos fueron extraidos de un [perfil real de Instragram](https://www.instagram.com/paulacano24/):\n",
    "\n",
    "https://raw.githubusercontent.com/restrepo/ComputationalMethods/master/data/Followers.json\n",
    "\n",
    "Interprete los datos como un problema de caida libre y a partir del ajuste (fit) a la correspondiente ecuación de movimiento, determine\n",
    "1. La velocidad inicial de incremento de seguidores en `followers/hour`\n",
    "1. La aceleración constante en `followers/hour**2`\n",
    "1. El número máximo de seguidores que alcanzaría el perfil\n",
    "1. La fecha en la que se alcanzaría dicho máximo"
   ]
  },
  {
   "cell_type": "code",
   "execution_count": 88,
   "metadata": {},
   "outputs": [],
   "source": [
    "import numpy as np\n",
    "import pandas as pd\n",
    "import datetime\n",
    "from scipy import optimize"
   ]
  },
  {
   "cell_type": "code",
   "execution_count": 85,
   "metadata": {},
   "outputs": [
    {
     "data": {
      "text/html": [
       "<div>\n",
       "<style scoped>\n",
       "    .dataframe tbody tr th:only-of-type {\n",
       "        vertical-align: middle;\n",
       "    }\n",
       "\n",
       "    .dataframe tbody tr th {\n",
       "        vertical-align: top;\n",
       "    }\n",
       "\n",
       "    .dataframe thead th {\n",
       "        text-align: right;\n",
       "    }\n",
       "</style>\n",
       "<table border=\"1\" class=\"dataframe\">\n",
       "  <thead>\n",
       "    <tr style=\"text-align: right;\">\n",
       "      <th></th>\n",
       "      <th>followers</th>\n",
       "      <th>date_time</th>\n",
       "      <th>hours</th>\n",
       "    </tr>\n",
       "  </thead>\n",
       "  <tbody>\n",
       "    <tr>\n",
       "      <th>0</th>\n",
       "      <td>42696</td>\n",
       "      <td>2021-08-04 22:06:53.668</td>\n",
       "      <td>0.000000</td>\n",
       "    </tr>\n",
       "    <tr>\n",
       "      <th>1</th>\n",
       "      <td>42706</td>\n",
       "      <td>2021-08-04 23:06:56.517</td>\n",
       "      <td>1.000791</td>\n",
       "    </tr>\n",
       "    <tr>\n",
       "      <th>2</th>\n",
       "      <td>42716</td>\n",
       "      <td>2021-08-05 00:06:59.505</td>\n",
       "      <td>2.001621</td>\n",
       "    </tr>\n",
       "    <tr>\n",
       "      <th>3</th>\n",
       "      <td>42734</td>\n",
       "      <td>2021-08-05 01:07:02.174</td>\n",
       "      <td>3.002363</td>\n",
       "    </tr>\n",
       "    <tr>\n",
       "      <th>4</th>\n",
       "      <td>42749</td>\n",
       "      <td>2021-08-05 02:07:04.854</td>\n",
       "      <td>4.003107</td>\n",
       "    </tr>\n",
       "    <tr>\n",
       "      <th>...</th>\n",
       "      <td>...</td>\n",
       "      <td>...</td>\n",
       "      <td>...</td>\n",
       "    </tr>\n",
       "    <tr>\n",
       "      <th>615</th>\n",
       "      <td>47452</td>\n",
       "      <td>2021-09-02 12:29:21.834</td>\n",
       "      <td>686.374491</td>\n",
       "    </tr>\n",
       "    <tr>\n",
       "      <th>616</th>\n",
       "      <td>47486</td>\n",
       "      <td>2021-09-02 19:59:32.801</td>\n",
       "      <td>693.877537</td>\n",
       "    </tr>\n",
       "    <tr>\n",
       "      <th>617</th>\n",
       "      <td>47491</td>\n",
       "      <td>2021-09-02 20:59:50.542</td>\n",
       "      <td>694.882465</td>\n",
       "    </tr>\n",
       "    <tr>\n",
       "      <th>618</th>\n",
       "      <td>47493</td>\n",
       "      <td>2021-09-02 21:59:59.345</td>\n",
       "      <td>695.884910</td>\n",
       "    </tr>\n",
       "    <tr>\n",
       "      <th>619</th>\n",
       "      <td>47498</td>\n",
       "      <td>2021-09-02 23:00:11.350</td>\n",
       "      <td>696.888245</td>\n",
       "    </tr>\n",
       "  </tbody>\n",
       "</table>\n",
       "<p>620 rows × 3 columns</p>\n",
       "</div>"
      ],
      "text/plain": [
       "     followers               date_time       hours\n",
       "0        42696 2021-08-04 22:06:53.668    0.000000\n",
       "1        42706 2021-08-04 23:06:56.517    1.000791\n",
       "2        42716 2021-08-05 00:06:59.505    2.001621\n",
       "3        42734 2021-08-05 01:07:02.174    3.002363\n",
       "4        42749 2021-08-05 02:07:04.854    4.003107\n",
       "..         ...                     ...         ...\n",
       "615      47452 2021-09-02 12:29:21.834  686.374491\n",
       "616      47486 2021-09-02 19:59:32.801  693.877537\n",
       "617      47491 2021-09-02 20:59:50.542  694.882465\n",
       "618      47493 2021-09-02 21:59:59.345  695.884910\n",
       "619      47498 2021-09-02 23:00:11.350  696.888245\n",
       "\n",
       "[620 rows x 3 columns]"
      ]
     },
     "execution_count": 85,
     "metadata": {},
     "output_type": "execute_result"
    }
   ],
   "source": [
    "#load the dataset\n",
    "df=pd.read_json(\"https://raw.githubusercontent.com/restrepo/ComputationalMethods/master/data/Followers.json\")\n",
    "df"
   ]
  },
  {
   "cell_type": "code",
   "execution_count": 96,
   "metadata": {},
   "outputs": [
    {
     "name": "stdout",
     "output_type": "stream",
     "text": [
      "Interpolate polynomial:           2\n",
      "-0.002438 x + 8.552 x + 4.276e+04\n",
      "First derivate: \n",
      "-0.004875 x + 8.552\n"
     ]
    }
   ],
   "source": [
    "#polynomial that fits the data in the dataframe\n",
    "cp=np.polyfit(df.hours, df.followers, 2) \n",
    "p=np.poly1d(cp) #polynomial\n",
    "print(\"Interpolate polynomial:{}\".format(p))\n",
    "#to find the velocity, the polynomial is derived\n",
    "d1p= p.deriv()\n",
    "print(\"First derivate:{}\".format(d1p))"
   ]
  },
  {
   "cell_type": "code",
   "execution_count": 98,
   "metadata": {},
   "outputs": [
    {
     "name": "stdout",
     "output_type": "stream",
     "text": [
      "Initial velocity is 8.552137792664086 followers/hour\n"
     ]
    }
   ],
   "source": [
    "#initial velocity(t=0)\n",
    "print(\"Initial velocity is {} followers/hour\".format(d1p(0)))"
   ]
  },
  {
   "cell_type": "code",
   "execution_count": null,
   "metadata": {},
   "outputs": [],
   "source": [
    "#to find the aceleration, the polynomial is derived twice"
   ]
  },
  {
   "cell_type": "code",
   "execution_count": 101,
   "metadata": {},
   "outputs": [
    {
     "name": "stdout",
     "output_type": "stream",
     "text": [
      "Aceleration is  \n",
      "-0.004875 followers/hour^2\n"
     ]
    }
   ],
   "source": [
    "d2p= d1p.deriv()\n",
    "print(\"Aceleration is {} followers/hour^2\".format(d2p))"
   ]
  },
  {
   "cell_type": "code",
   "execution_count": 103,
   "metadata": {},
   "outputs": [
    {
     "name": "stdout",
     "output_type": "stream",
     "text": [
      "Velocity reaches zero at: 1754.1931385698244 \n"
     ]
    }
   ],
   "source": [
    "#for the maximum number of followers must see when the speed at which they follow reaches zero (roots of d1p=v)\n",
    "vr=optimize.newton(d1p,1000)\n",
    "print(\"Velocity reaches zero at: {} \".format(vr))"
   ]
  },
  {
   "cell_type": "code",
   "execution_count": 105,
   "metadata": {},
   "outputs": [
    {
     "name": "stdout",
     "output_type": "stream",
     "text": [
      "The profile won't gain more followers in: 50262.136729011756\n"
     ]
    }
   ],
   "source": [
    "#Critical point evaluated in the position equation to obtain the hours it would take to reach this x or number of followers.\n",
    "ymax=p(vr)\n",
    "print(\"The profile won't gain more followers in: {}\".format(ymax))"
   ]
  },
  {
   "cell_type": "code",
   "execution_count": 107,
   "metadata": {},
   "outputs": [
    {
     "name": "stdout",
     "output_type": "stream",
     "text": [
      "The date this maximum is reached is: 2027-04-30 04:15:05.892442\n"
     ]
    }
   ],
   "source": [
    "#The date this maximum is reached is\n",
    "time=df.date_time[0] + datetime.timedelta(hours = ymax)\n",
    "print('The date this maximum is reached is: {}'.format(time) )"
   ]
  },
  {
   "cell_type": "markdown",
   "metadata": {},
   "source": [
    "B) El período de  un pendulo de longitud $l$ oscilando a ángulos grandes  $\\alpha$, está dado por\n",
    "$$\n",
    "T=T_{0} \\frac{\\sqrt{2}}{\\pi} \\int_{0}^{\\alpha} \\frac{d \\theta}{(\\cos \\theta-\\cos \\alpha)^{\\frac{1}{2}}}\n",
    "$$\n",
    "donde\n",
    "$$\n",
    "T_{0}=2 \\pi \\sqrt{\\frac{l}{g}}\n",
    "$$\n",
    "es el período del mismo péndulo a pequeñas amplitudes. Culquier intento de evaluación numérico de esa integral debería fallar. Sin embargo, si hacemos el cambio de variable\n",
    "$$\n",
    "\\sin \\frac{\\theta}{2}=\\sin \\frac{\\alpha}{2} \\sin \\phi\n",
    "$$\n",
    "obtenemos\n",
    "$$\n",
    "T=\\frac{2 T_{0}}{\\pi} \\int_{0}^{\\frac{\\pi}{2}} \\frac{d \\phi}{\\left(1-\\sin ^{2} \\frac{\\alpha}{2} \\sin ^{2} \\phi\\right)^{\\frac{1}{2}}}\n",
    "$$\n",
    "que corresponde a una integral bien comportada. \n",
    "1. Escriba un programa que use la anterio integral para calcular el cociente  $T/T_0$ para ángulos enteros (en grados) $0^\\circ \\le\\alpha \\le 90^\\circ$.  \n",
    "1. Genere un DataFrame de pandas que contenga como columnas: la amplitud en grados, la amplitud en radianes, y el cociente $T/T_0$, \n",
    "1. Haga un gráfico de $T/T_0$ como función de $\\alpha$ (en grados). \n",
    "1. Explain the result when $\\alpha = 0.$ "
   ]
  },
  {
   "cell_type": "code",
   "execution_count": 40,
   "metadata": {},
   "outputs": [],
   "source": [
    "import numpy as np\n",
    "import pandas as pd\n",
    "import matplotlib.pyplot as plt\n",
    "from scipy import integrate\n"
   ]
  },
  {
   "cell_type": "code",
   "execution_count": 15,
   "metadata": {},
   "outputs": [],
   "source": [
    "def K_int(phi,m):\n",
    "    \"\"\"\"\n",
    "    Integrand for K(m,N) below. This defines the\n",
    "    complete elliptic integral of the first kind\n",
    "    \"\"\"\n",
    "    return 1.0/np.sqrt(1-m*np.sin(phi)**2)\n",
    "\n",
    "def K(m,N=1000):\n",
    "    \"\"\"\"\n",
    "    K(m,N) computes the:\n",
    "    complete elliptic integral with 2*N samples using integration rotine: integrate.quad    \"\"\"\n",
    "    return integrate.quad(K_int,0,np.pi/2, args=(m,))"
   ]
  },
  {
   "cell_type": "code",
   "execution_count": 70,
   "metadata": {},
   "outputs": [],
   "source": [
    "saList=[] #small angle list\n",
    "sqList=[] #scipy integrate.quad list\n",
    "\n",
    "alpha_=np.linspace(0.0,90, 100,dtype=\"int\") #range of alpha values\n",
    "\n",
    "for alpha in alpha_:\n",
    "    alphaRad=alpha*np.pi/180.0\n",
    "    m=np.sin(alphaRad/2.0)**2\n",
    "    qresult=K(m)\n",
    "    smallAngle=(np.pi/2)*(1.0+m/4)\n",
    "    sqList.append(2*qresult[0]/np.pi) #List for integration results\n",
    "    saList.append(2*smallAngle/np.pi)\n",
    "    \n",
    "t_to=np.array(sqList) #numpy array for quotient T/T_0"
   ]
  },
  {
   "cell_type": "code",
   "execution_count": 83,
   "metadata": {},
   "outputs": [
    {
     "data": {
      "text/html": [
       "<div>\n",
       "<style scoped>\n",
       "    .dataframe tbody tr th:only-of-type {\n",
       "        vertical-align: middle;\n",
       "    }\n",
       "\n",
       "    .dataframe tbody tr th {\n",
       "        vertical-align: top;\n",
       "    }\n",
       "\n",
       "    .dataframe thead th {\n",
       "        text-align: right;\n",
       "    }\n",
       "</style>\n",
       "<table border=\"1\" class=\"dataframe\">\n",
       "  <thead>\n",
       "    <tr style=\"text-align: right;\">\n",
       "      <th></th>\n",
       "      <th>Amplitud en grados</th>\n",
       "      <th>Amplitud en radianes</th>\n",
       "      <th>T/To</th>\n",
       "    </tr>\n",
       "  </thead>\n",
       "  <tbody>\n",
       "    <tr>\n",
       "      <th>0</th>\n",
       "      <td>0</td>\n",
       "      <td>0.000000</td>\n",
       "      <td>1.000000</td>\n",
       "    </tr>\n",
       "    <tr>\n",
       "      <th>1</th>\n",
       "      <td>0</td>\n",
       "      <td>0.000000</td>\n",
       "      <td>1.000000</td>\n",
       "    </tr>\n",
       "    <tr>\n",
       "      <th>2</th>\n",
       "      <td>1</td>\n",
       "      <td>0.017453</td>\n",
       "      <td>1.000019</td>\n",
       "    </tr>\n",
       "    <tr>\n",
       "      <th>3</th>\n",
       "      <td>2</td>\n",
       "      <td>0.034907</td>\n",
       "      <td>1.000076</td>\n",
       "    </tr>\n",
       "    <tr>\n",
       "      <th>4</th>\n",
       "      <td>3</td>\n",
       "      <td>0.052360</td>\n",
       "      <td>1.000171</td>\n",
       "    </tr>\n",
       "    <tr>\n",
       "      <th>...</th>\n",
       "      <td>...</td>\n",
       "      <td>...</td>\n",
       "      <td>...</td>\n",
       "    </tr>\n",
       "    <tr>\n",
       "      <th>95</th>\n",
       "      <td>86</td>\n",
       "      <td>1.500983</td>\n",
       "      <td>1.162214</td>\n",
       "    </tr>\n",
       "    <tr>\n",
       "      <th>96</th>\n",
       "      <td>87</td>\n",
       "      <td>1.518436</td>\n",
       "      <td>1.166617</td>\n",
       "    </tr>\n",
       "    <tr>\n",
       "      <th>97</th>\n",
       "      <td>88</td>\n",
       "      <td>1.535890</td>\n",
       "      <td>1.171105</td>\n",
       "    </tr>\n",
       "    <tr>\n",
       "      <th>98</th>\n",
       "      <td>89</td>\n",
       "      <td>1.553343</td>\n",
       "      <td>1.175679</td>\n",
       "    </tr>\n",
       "    <tr>\n",
       "      <th>99</th>\n",
       "      <td>90</td>\n",
       "      <td>1.570796</td>\n",
       "      <td>1.180341</td>\n",
       "    </tr>\n",
       "  </tbody>\n",
       "</table>\n",
       "<p>100 rows × 3 columns</p>\n",
       "</div>"
      ],
      "text/plain": [
       "    Amplitud en grados  Amplitud en radianes      T/To\n",
       "0                    0              0.000000  1.000000\n",
       "1                    0              0.000000  1.000000\n",
       "2                    1              0.017453  1.000019\n",
       "3                    2              0.034907  1.000076\n",
       "4                    3              0.052360  1.000171\n",
       "..                 ...                   ...       ...\n",
       "95                  86              1.500983  1.162214\n",
       "96                  87              1.518436  1.166617\n",
       "97                  88              1.535890  1.171105\n",
       "98                  89              1.553343  1.175679\n",
       "99                  90              1.570796  1.180341\n",
       "\n",
       "[100 rows x 3 columns]"
      ]
     },
     "execution_count": 83,
     "metadata": {},
     "output_type": "execute_result"
    }
   ],
   "source": [
    "#creating a Pandas DataFrame\n",
    "df=pd.DataFrame(columns = ['Amplitud en grados', 'Amplitud en radianes','T/To'])\n",
    "df['Amplitud en grados']=alpha_ #inserting a row \n",
    "df['Amplitud en radianes']=alpha_*np.pi/180.0\n",
    "df['T/To']=t_to\n",
    "df"
   ]
  },
  {
   "cell_type": "code",
   "execution_count": 76,
   "metadata": {},
   "outputs": [
    {
     "data": {
      "image/png": "[encoded data removed]",
      "text/plain": [
       "<Figure size 432x288 with 1 Axes>"
      ]
     },
     "metadata": {
      "needs_background": "light"
     },
     "output_type": "display_data"
    }
   ],
   "source": [
    "#plotting alpha vs T/To\n",
    "plt.plot(alpha_,saList, label='small angle approx')\n",
    "plt.plot(alpha_,t_to, label='exact theory')\n",
    "plt.title(\"Amplitude of a simple pendulum\")\n",
    "plt.axis([0,90,0.99,1.1])\n",
    "plt.xlabel(\"$\\\\alpha$ (degrees)\")\n",
    "plt.ylabel(\"T/To\")\n",
    "plt.grid()\n",
    "plt.legend()\n",
    "plt.show()"
   ]
  },
  {
   "cell_type": "code",
   "execution_count": null,
   "metadata": {},
   "outputs": [],
   "source": []
  },
  {
   "cell_type": "code",
   "execution_count": null,
   "metadata": {},
   "outputs": [],
   "source": []
  }
 ],
 "metadata": {
  "kernelspec": {
   "display_name": "Python 3",
   "language": "python",
   "name": "python3"
  },
  "language_info": {
   "codemirror_mode": {
    "name": "ipython",
    "version": 3
   },
   "file_extension": ".py",
   "mimetype": "text/x-python",
   "name": "python",
   "nbconvert_exporter": "python",
   "pygments_lexer": "ipython3",
   "version": "3.8.5"
  }
 },
 "nbformat": 4,
 "nbformat_minor": 4
}
